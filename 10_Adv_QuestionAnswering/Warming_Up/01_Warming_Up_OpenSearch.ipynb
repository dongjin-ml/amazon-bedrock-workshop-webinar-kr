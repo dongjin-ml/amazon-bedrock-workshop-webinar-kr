{
 "cells": [
  {
   "cell_type": "markdown",
   "id": "fb017ab4-a16a-4c67-b875-a29eed6aa5bd",
   "metadata": {
    "jp-MarkdownHeadingCollapsed": true,
    "tags": []
   },
   "source": [
    "# OpenSearch Warming Up (한글 형태소 분석기 사용 방법 이해)\n",
    ">이 노트북은 SageMaker Studio* Data Science 3.0 kernel 및 ml.t3.medium 인스턴스에서 테스트 되었습니다.\n",
    "\n",
    "\n",
    "\n",
    "여기서는 OpenSearch 가 설치된 것을 가정하고, 한글 형태소 분석기의 사용하는 법을 알려 드립니다.\n",
    "\n",
    "---\n",
    "## Ref: \n",
    "- [Amazon OpenSearch Service로 검색 구현하기](https://catalog.us-east-1.prod.workshops.aws/workshops/de4e38cb-a0d9-4ffe-a777-bf00d498fa49/ko-KR/indexing/blog-reindex)\n",
    "- [OpenSearch Python Client](https://opensearch.org/docs/1.3/clients/python-high-level/)"
   ]
  },
  {
   "cell_type": "markdown",
   "id": "7eb540b6-5d0f-436a-904c-a2667aa6addd",
   "metadata": {},
   "source": [
    "# 0. 필요 패키지 설치"
   ]
  },
  {
   "cell_type": "code",
   "execution_count": 1,
   "id": "89f453bb-6dcc-4ba9-99c0-513c7cce40f4",
   "metadata": {
    "tags": []
   },
   "outputs": [],
   "source": [
    "install_needed = True  # should only be True once\n",
    "# install_needed = False  # should only be True once"
   ]
  },
  {
   "cell_type": "code",
   "execution_count": 3,
   "id": "575655d5-acaa-47ac-9118-0eefac9ddc7e",
   "metadata": {
    "tags": []
   },
   "outputs": [
    {
     "name": "stdout",
     "output_type": "stream",
     "text": [
      "installing deps and restarting kernel\n",
      "Requirement already satisfied: opensearch-py==2.3.1 in /opt/conda/lib/python3.10/site-packages (2.3.1)\n",
      "Requirement already satisfied: urllib3<2,>=1.21.1 in /opt/conda/lib/python3.10/site-packages (from opensearch-py==2.3.1) (1.26.16)\n",
      "Requirement already satisfied: requests<3.0.0,>=2.4.0 in /opt/conda/lib/python3.10/site-packages (from opensearch-py==2.3.1) (2.31.0)\n",
      "Requirement already satisfied: six in /opt/conda/lib/python3.10/site-packages (from opensearch-py==2.3.1) (1.16.0)\n",
      "Requirement already satisfied: python-dateutil in /opt/conda/lib/python3.10/site-packages (from opensearch-py==2.3.1) (2.8.2)\n",
      "Requirement already satisfied: certifi>=2022.12.07 in /opt/conda/lib/python3.10/site-packages (from opensearch-py==2.3.1) (2023.7.22)\n",
      "Requirement already satisfied: charset-normalizer<4,>=2 in /opt/conda/lib/python3.10/site-packages (from requests<3.0.0,>=2.4.0->opensearch-py==2.3.1) (2.0.4)\n",
      "Requirement already satisfied: idna<4,>=2.5 in /opt/conda/lib/python3.10/site-packages (from requests<3.0.0,>=2.4.0->opensearch-py==2.3.1) (3.3)\n",
      "\u001b[33mWARNING: Running pip as the 'root' user can result in broken permissions and conflicting behaviour with the system package manager. It is recommended to use a virtual environment instead: https://pip.pypa.io/warnings/venv\u001b[0m\u001b[33m\n",
      "\u001b[0mRequirement already satisfied: langchain==0.0.279 in /opt/conda/lib/python3.10/site-packages (0.0.279)\n",
      "Requirement already satisfied: PyYAML>=5.3 in /opt/conda/lib/python3.10/site-packages/PyYAML-6.0-py3.10-linux-x86_64.egg (from langchain==0.0.279) (6.0)\n",
      "Requirement already satisfied: SQLAlchemy<3,>=1.4 in /opt/conda/lib/python3.10/site-packages (from langchain==0.0.279) (2.0.1)\n",
      "Requirement already satisfied: aiohttp<4.0.0,>=3.8.3 in /opt/conda/lib/python3.10/site-packages (from langchain==0.0.279) (3.8.5)\n",
      "Requirement already satisfied: async-timeout<5.0.0,>=4.0.0 in /opt/conda/lib/python3.10/site-packages (from langchain==0.0.279) (4.0.3)\n",
      "Requirement already satisfied: dataclasses-json<0.6.0,>=0.5.7 in /opt/conda/lib/python3.10/site-packages (from langchain==0.0.279) (0.5.14)\n",
      "Requirement already satisfied: langsmith<0.1.0,>=0.0.21 in /opt/conda/lib/python3.10/site-packages (from langchain==0.0.279) (0.0.40)\n",
      "Requirement already satisfied: numexpr<3.0.0,>=2.8.4 in /opt/conda/lib/python3.10/site-packages (from langchain==0.0.279) (2.8.6)\n",
      "Requirement already satisfied: numpy<2,>=1 in /opt/conda/lib/python3.10/site-packages (from langchain==0.0.279) (1.25.2)\n",
      "Requirement already satisfied: pydantic<3,>=1 in /opt/conda/lib/python3.10/site-packages (from langchain==0.0.279) (2.4.0)\n",
      "Requirement already satisfied: requests<3,>=2 in /opt/conda/lib/python3.10/site-packages (from langchain==0.0.279) (2.31.0)\n",
      "Requirement already satisfied: tenacity<9.0.0,>=8.1.0 in /opt/conda/lib/python3.10/site-packages (from langchain==0.0.279) (8.2.3)\n",
      "Requirement already satisfied: attrs>=17.3.0 in /opt/conda/lib/python3.10/site-packages (from aiohttp<4.0.0,>=3.8.3->langchain==0.0.279) (23.1.0)\n",
      "Requirement already satisfied: charset-normalizer<4.0,>=2.0 in /opt/conda/lib/python3.10/site-packages (from aiohttp<4.0.0,>=3.8.3->langchain==0.0.279) (2.0.4)\n",
      "Requirement already satisfied: multidict<7.0,>=4.5 in /opt/conda/lib/python3.10/site-packages (from aiohttp<4.0.0,>=3.8.3->langchain==0.0.279) (6.0.4)\n",
      "Requirement already satisfied: yarl<2.0,>=1.0 in /opt/conda/lib/python3.10/site-packages (from aiohttp<4.0.0,>=3.8.3->langchain==0.0.279) (1.9.2)\n",
      "Requirement already satisfied: frozenlist>=1.1.1 in /opt/conda/lib/python3.10/site-packages (from aiohttp<4.0.0,>=3.8.3->langchain==0.0.279) (1.4.0)\n",
      "Requirement already satisfied: aiosignal>=1.1.2 in /opt/conda/lib/python3.10/site-packages (from aiohttp<4.0.0,>=3.8.3->langchain==0.0.279) (1.3.1)\n",
      "Requirement already satisfied: marshmallow<4.0.0,>=3.18.0 in /opt/conda/lib/python3.10/site-packages (from dataclasses-json<0.6.0,>=0.5.7->langchain==0.0.279) (3.20.1)\n",
      "Requirement already satisfied: typing-inspect<1,>=0.4.0 in /opt/conda/lib/python3.10/site-packages (from dataclasses-json<0.6.0,>=0.5.7->langchain==0.0.279) (0.9.0)\n",
      "Requirement already satisfied: annotated-types>=0.4.0 in /opt/conda/lib/python3.10/site-packages (from pydantic<3,>=1->langchain==0.0.279) (0.5.0)\n",
      "Requirement already satisfied: pydantic-core==2.10.0 in /opt/conda/lib/python3.10/site-packages (from pydantic<3,>=1->langchain==0.0.279) (2.10.0)\n",
      "Requirement already satisfied: typing-extensions>=4.6.1 in /opt/conda/lib/python3.10/site-packages (from pydantic<3,>=1->langchain==0.0.279) (4.8.0)\n",
      "Requirement already satisfied: idna<4,>=2.5 in /opt/conda/lib/python3.10/site-packages (from requests<3,>=2->langchain==0.0.279) (3.3)\n",
      "Requirement already satisfied: urllib3<3,>=1.21.1 in /opt/conda/lib/python3.10/site-packages (from requests<3,>=2->langchain==0.0.279) (1.26.16)\n",
      "Requirement already satisfied: certifi>=2017.4.17 in /opt/conda/lib/python3.10/site-packages (from requests<3,>=2->langchain==0.0.279) (2023.7.22)\n",
      "Requirement already satisfied: greenlet!=0.4.17 in /opt/conda/lib/python3.10/site-packages (from SQLAlchemy<3,>=1.4->langchain==0.0.279) (1.1.1)\n",
      "Requirement already satisfied: packaging>=17.0 in /opt/conda/lib/python3.10/site-packages (from marshmallow<4.0.0,>=3.18.0->dataclasses-json<0.6.0,>=0.5.7->langchain==0.0.279) (21.3)\n",
      "Requirement already satisfied: mypy-extensions>=0.3.0 in /opt/conda/lib/python3.10/site-packages (from typing-inspect<1,>=0.4.0->dataclasses-json<0.6.0,>=0.5.7->langchain==0.0.279) (0.4.3)\n",
      "Requirement already satisfied: pyparsing!=3.0.5,>=2.0.2 in /opt/conda/lib/python3.10/site-packages (from packaging>=17.0->marshmallow<4.0.0,>=3.18.0->dataclasses-json<0.6.0,>=0.5.7->langchain==0.0.279) (3.0.9)\n",
      "\u001b[33mWARNING: Running pip as the 'root' user can result in broken permissions and conflicting behaviour with the system package manager. It is recommended to use a virtual environment instead: https://pip.pypa.io/warnings/venv\u001b[0m\u001b[33m\n",
      "\u001b[0mRequirement already satisfied: sqlalchemy==2.0.1 in /opt/conda/lib/python3.10/site-packages (2.0.1)\n",
      "Requirement already satisfied: typing-extensions>=4.2.0 in /opt/conda/lib/python3.10/site-packages (from sqlalchemy==2.0.1) (4.8.0)\n",
      "Requirement already satisfied: greenlet!=0.4.17 in /opt/conda/lib/python3.10/site-packages (from sqlalchemy==2.0.1) (1.1.1)\n",
      "\u001b[33mWARNING: Running pip as the 'root' user can result in broken permissions and conflicting behaviour with the system package manager. It is recommended to use a virtual environment instead: https://pip.pypa.io/warnings/venv\u001b[0m\u001b[33m\n",
      "\u001b[0m"
     ]
    }
   ],
   "source": [
    "# Make sure you ran `download-dependencies.sh` from the root of the repository first!\n",
    "import sys\n",
    "import IPython\n",
    "\n",
    "if install_needed:\n",
    "    print(\"installing deps and restarting kernel\")\n",
    "    !{sys.executable} -m pip install opensearch-py==2.3.1\n",
    "    !{sys.executable} -m pip install langchain==0.0.279    \n",
    "    !{sys.executable} -m pip install sqlalchemy==2.0.1\n",
    "    \n",
    "    IPython.Application.instance().kernel.do_shutdown(True)    \n",
    "    "
   ]
  },
  {
   "cell_type": "markdown",
   "id": "8a2f9c19-c43c-435c-944d-77984b54a6d8",
   "metadata": {},
   "source": [
    "# 1. 환경 세팅"
   ]
  },
  {
   "cell_type": "code",
   "execution_count": 1,
   "id": "787df0f0-7fd9-47ca-a0c3-91b3037d6a10",
   "metadata": {
    "tags": []
   },
   "outputs": [],
   "source": [
    "%load_ext autoreload\n",
    "%autoreload 2\n",
    "\n",
    "import sys, os\n",
    "module_path = \"../..\"\n",
    "sys.path.append(os.path.abspath(module_path))\n",
    "from utils import print_ww"
   ]
  },
  {
   "cell_type": "markdown",
   "id": "3efd4c0f-f861-44f0-8d7c-1f4b8ab36d1b",
   "metadata": {
    "tags": []
   },
   "source": [
    "# 2. OpenSearch Client 생성\n",
    "### 선수 조건\n",
    "- 아래의 링크를 참조해서 OpenSearch Service 를 생성하고, opensearch_domain_endpoint, http_auth 를 복사해서, 아래 셀의 내용을 대체 하세요.\n",
    "    - [OpenSearch 생성 가이드](https://github.com/gonsoomoon-ml/Kor-LLM-On-SageMaker/blob/main/2-Lab02-QA-with-RAG/4.rag-fsi-data-workshop/TASK-4_OpenSearch_Creation_and_Vector_Insertion.ipynb)\n",
    "### 아래 셀에 다음의 정보가 입력이 되어야 합니다.\n",
    "```\n",
    "opensearch_domain_endpoint = \"<Type Domain Endpoint>\"\n",
    "http_auth = (rag_user_name, rag_user_password) # Master username, Master password\n",
    "\n",
    "```\n"
   ]
  },
  {
   "cell_type": "code",
   "execution_count": 2,
   "id": "1d1f5685-8e8f-43a6-84d1-6c7b450f817b",
   "metadata": {
    "tags": []
   },
   "outputs": [],
   "source": [
    "from utils.rag import create_aws_opensearch_client, check_if_index_exists, delete_index\n",
    "from utils.rag import create_index, add_doc, search_document"
   ]
  },
  {
   "cell_type": "code",
   "execution_count": 3,
   "id": "6a1fd652-f8fa-4289-ae5b-90021b553871",
   "metadata": {
    "tags": []
   },
   "outputs": [],
   "source": [
    "aws_region = 'us-east-1'\n",
    "opensearch_cluster_domain = 'https://search-gonsoo-jeiuxgzz4322ulsrbokvnqispu.us-east-1.es.amazonaws.com'\n",
    "\n",
    "os.environ[\"OpenSearch_UserName\"] = \"<Type UserName>\" \n",
    "os.environ[\"OpenSearch_UserPassword\"] = \"<Type Password>\" \n",
    "\n",
    "os.environ[\"OpenSearch_UserName\"] = \"raguser\" \n",
    "os.environ[\"OpenSearch_UserPassword\"] = \"QWEqwe123!@#\" \n",
    "\n",
    "rag_user_name = os.environ[\"OpenSearch_UserName\"]\n",
    "rag_user_password = os.environ[\"OpenSearch_UserPassword\"]\n",
    "\n",
    "# OpenSearch Dashboards URL = https://search-gonsoo-jeiuxgzz4322ulsrbokvnqispu.us-east-1.es.amazonaws.com/_dashboards\n",
    "opensearch_domain_endpoint = \"https://search-gonsoo-jeiuxgzz4322ulsrbokvnqispu.us-east-1.es.amazonaws.com\"\n",
    "http_auth = (rag_user_name, rag_user_password) # Master username, Master password\n",
    "\n",
    "\n",
    "\n",
    "aws_client = create_aws_opensearch_client(\n",
    "                                     aws_region,\n",
    "                                     opensearch_domain_endpoint,\n",
    "                                     http_auth)\n",
    "\n"
   ]
  },
  {
   "cell_type": "markdown",
   "id": "a2cde451-66c0-4daf-84be-1bf8c75f0824",
   "metadata": {
    "tags": []
   },
   "source": [
    "# 3. 디폴트 Index Creation\n",
    "- 간단하게 text 타입으로 title, body 두개의 컬럼으로 구성합니다."
   ]
  },
  {
   "cell_type": "code",
   "execution_count": 4,
   "id": "8771bf51-3ca3-4c00-8a72-3050beed7fe3",
   "metadata": {
    "tags": []
   },
   "outputs": [
    {
     "name": "stdout",
     "output_type": "stream",
     "text": [
      "index_name=default-index, exists=True\n",
      "\n",
      "Deleting index:\n",
      "{'acknowledged': True}\n",
      "\n",
      "Creating index:\n",
      "{'acknowledged': True, 'shards_acknowledged': True, 'index': 'default-index'}\n"
     ]
    },
    {
     "data": {
      "text/plain": [
       "{'default-index': {'aliases': {},\n",
       "  'mappings': {'properties': {'body': {'type': 'text'},\n",
       "    'title': {'type': 'text'}}},\n",
       "  'settings': {'index': {'creation_date': '1695691194606',\n",
       "    'number_of_shards': '5',\n",
       "    'number_of_replicas': '1',\n",
       "    'uuid': 'InC2wagfQjCdgvOsXkP2Pg',\n",
       "    'version': {'created': '136287827'},\n",
       "    'provided_name': 'default-index'}}}}"
      ]
     },
     "execution_count": 4,
     "metadata": {},
     "output_type": "execute_result"
    }
   ],
   "source": [
    "index_name = 'default-index'\n",
    "index_exists = check_if_index_exists(aws_client, index_name)\n",
    "\n",
    "if index_exists:\n",
    "    delete_index(aws_client, index_name)    \n",
    "else:\n",
    "    print(\"Index does not exist\")    \n",
    "    \n",
    "# Create an index with non-default settings.\n",
    "\n",
    "index_body = {\n",
    "\"mappings\": {\n",
    "    \"properties\": {\n",
    "      \"title\": {\n",
    "        \"type\": \"text\"\n",
    "      },\n",
    "      \"body\": { \n",
    "        \"type\": \"text\"\n",
    "      }\n",
    "    }\n",
    "  }\n",
    "}\n",
    "\n",
    "create_index(aws_client, index_name, index_body)\n",
    "index_info = aws_client.indices.get(index=index_name)\n",
    "index_info"
   ]
  },
  {
   "cell_type": "markdown",
   "id": "df7f1504-7f01-40f8-a7d1-d9a7cf4f5d04",
   "metadata": {},
   "source": [
    "# 4. 디폴트 Index 에 Doc 넣기\n",
    "- 아래와 같이 문서 하나를 추가 합니다."
   ]
  },
  {
   "cell_type": "code",
   "execution_count": 5,
   "id": "09cb6b5f-93c0-4200-bc75-0e3302e1c78a",
   "metadata": {
    "tags": []
   },
   "outputs": [
    {
     "name": "stdout",
     "output_type": "stream",
     "text": [
      "\n",
      "Adding document:\n",
      "{'_index': 'default-index', '_id': '1', '_version': 1, 'result': 'created', 'forced_refresh': True, '_shards': {'total': 2, 'successful': 2, 'failed': 0}, '_seq_no': 0, '_primary_term': 1}\n"
     ]
    }
   ],
   "source": [
    "\n",
    "# index document\n",
    "doc_body = {\n",
    "  \"title\": \"AWS Ground Station – 위성 데이터 수집 및 처리 서비스 정식 출시\",\n",
    "  \"body\": \"지난 가을, AWS Ground Station에 대한 게시물에서 위성 데이터를 다운링크할 때 수행하는 단계를 미리 살펴봤습니다. 그동안 미리보기로 제공하던 AWS Ground Station을 정식 출시하고, 우선 미국 내 지상국 두 곳을 통해 바로 사용이 가능합니다. AWS Ground Station 사용하기 당시 설명한 것과 같이 첫 번째 단계는 위성의 NORAD ID 및 기타 정보를 AWS와 공유하여 AWS 계정에 위성을...\"\n",
    "}\n",
    "\n",
    "add_doc(aws_client, index_name, doc_body, id='1')\n"
   ]
  },
  {
   "cell_type": "markdown",
   "id": "ed402bb8-497d-4da6-8a1b-02de77133251",
   "metadata": {},
   "source": [
    "# 5. 문서 검색"
   ]
  },
  {
   "cell_type": "markdown",
   "id": "a7b559de-eb37-4286-8609-bdfe8ec08cdd",
   "metadata": {},
   "source": [
    "## 'Title\" 에 \"출시\" 단어를 검색합니다."
   ]
  },
  {
   "cell_type": "code",
   "execution_count": 6,
   "id": "66ea8613-e2a9-4b25-adf9-bbde630b1801",
   "metadata": {
    "tags": []
   },
   "outputs": [
    {
     "name": "stdout",
     "output_type": "stream",
     "text": [
      "\n",
      "Search results:\n"
     ]
    },
    {
     "data": {
      "text/plain": [
       "{'took': 4,\n",
       " 'timed_out': False,\n",
       " '_shards': {'total': 5, 'successful': 5, 'skipped': 0, 'failed': 0},\n",
       " 'hits': {'total': {'value': 1, 'relation': 'eq'},\n",
       "  'max_score': 0.2876821,\n",
       "  'hits': [{'_index': 'default-index',\n",
       "    '_id': '1',\n",
       "    '_score': 0.2876821,\n",
       "    '_source': {'title': 'AWS Ground Station – 위성 데이터 수집 및 처리 서비스 정식 출시',\n",
       "     'body': '지난 가을, AWS Ground Station에 대한 게시물에서 위성 데이터를 다운링크할 때 수행하는 단계를 미리 살펴봤습니다. 그동안 미리보기로 제공하던 AWS Ground Station을 정식 출시하고, 우선 미국 내 지상국 두 곳을 통해 바로 사용이 가능합니다. AWS Ground Station 사용하기 당시 설명한 것과 같이 첫 번째 단계는 위성의 NORAD ID 및 기타 정보를 AWS와 공유하여 AWS 계정에 위성을...'}}]}}"
      ]
     },
     "execution_count": 6,
     "metadata": {},
     "output_type": "execute_result"
    }
   ],
   "source": [
    "q = '출시'\n",
    "query = {\n",
    "  \"query\": {\n",
    "    \"match\": {\n",
    "      \"title\": {\n",
    "        \"query\": f\"{q}\"\n",
    "      }\n",
    "    }\n",
    "  }\n",
    "}\n",
    "response = search_document(aws_client, query, index_name)    \n",
    "response"
   ]
  },
  {
   "cell_type": "markdown",
   "id": "6e5d7abc-e294-40bd-8127-5bc3f6538362",
   "metadata": {},
   "source": [
    "## \"body\" 에 \"출시\" 단어를 검색 합니다.\n",
    "- doc 1의 body에 AWS Ground Station을 정식 출시하고... 이라는 내용이 있지만 검색되지 않습니다.\n",
    "- 참조: [형태소 분석기 사용하기](https://catalog.us-east-1.prod.workshops.aws/workshops/de4e38cb-a0d9-4ffe-a777-bf00d498fa49/ko-KR/indexing/stemming)"
   ]
  },
  {
   "cell_type": "code",
   "execution_count": 7,
   "id": "dbf7962d-1f10-4261-a267-87e2249cb98a",
   "metadata": {
    "tags": []
   },
   "outputs": [
    {
     "name": "stdout",
     "output_type": "stream",
     "text": [
      "\n",
      "Search results:\n"
     ]
    },
    {
     "data": {
      "text/plain": [
       "{'took': 13,\n",
       " 'timed_out': False,\n",
       " '_shards': {'total': 5, 'successful': 5, 'skipped': 0, 'failed': 0},\n",
       " 'hits': {'total': {'value': 0, 'relation': 'eq'},\n",
       "  'max_score': None,\n",
       "  'hits': []}}"
      ]
     },
     "execution_count": 7,
     "metadata": {},
     "output_type": "execute_result"
    }
   ],
   "source": [
    "q = '출시'\n",
    "query = {\n",
    "  \"query\": {\n",
    "    \"match\": {\n",
    "      \"body\": {\n",
    "        \"query\": f\"{q}\"\n",
    "      }\n",
    "    }\n",
    "  }\n",
    "}\n",
    "response = search_document(aws_client, query, index_name)    \n",
    "response"
   ]
  },
  {
   "cell_type": "markdown",
   "id": "c8da905e-2666-45f0-821c-889f7677ef3f",
   "metadata": {},
   "source": [
    "이유는 body의 termvector를 보면 알 수 있는데 출시하고는 term으로 저장되었으나 우리가 원하는 출시에 대해서는 저장되어 있지 않기 때문입니다. 아래의 termvectors Query를 사용해 현재 색인된 문서의 term vector를 확인 할 수 있습니다. Response에서 \"출시하고\"만 저장된 것을 확인하십시요."
   ]
  },
  {
   "cell_type": "markdown",
   "id": "0ba7ad68-8153-4c0a-872c-3363d0a9f1e3",
   "metadata": {},
   "source": [
    "## term_vector 확인\n",
    "- 아래의 결과의 하단에 보면 아래와 같이 \"출시하고\" 가 하나의 term 으로 저장이 된 것을 볼 수 있습니다.\n",
    "```\n",
    "'출시하고': {'term_freq': 1,\n",
    "     'tokens': [{'position': 22, 'start_offset': 110, 'end_offset': 114}]},\n",
    "```"
   ]
  },
  {
   "cell_type": "code",
   "execution_count": 8,
   "id": "c3b6f09d-b47c-4a2a-97c9-593113de4cad",
   "metadata": {
    "tags": []
   },
   "outputs": [
    {
     "data": {
      "text/plain": [
       "{'_index': 'default-index',\n",
       " '_id': '1',\n",
       " '_version': 1,\n",
       " 'found': True,\n",
       " 'took': 0,\n",
       " 'term_vectors': {'body': {'field_statistics': {'sum_doc_freq': 50,\n",
       "    'doc_count': 1,\n",
       "    'sum_ttf': 55},\n",
       "   'terms': {'aws': {'term_freq': 4,\n",
       "     'tokens': [{'position': 2, 'start_offset': 7, 'end_offset': 10},\n",
       "      {'position': 18, 'start_offset': 87, 'end_offset': 90},\n",
       "      {'position': 33, 'start_offset': 150, 'end_offset': 153},\n",
       "      {'position': 52, 'start_offset': 228, 'end_offset': 231}]},\n",
       "    'aws와': {'term_freq': 1,\n",
       "     'tokens': [{'position': 50, 'start_offset': 218, 'end_offset': 222}]},\n",
       "    'ground': {'term_freq': 3,\n",
       "     'tokens': [{'position': 3, 'start_offset': 11, 'end_offset': 17},\n",
       "      {'position': 19, 'start_offset': 91, 'end_offset': 97},\n",
       "      {'position': 34, 'start_offset': 154, 'end_offset': 160}]},\n",
       "    'id': {'term_freq': 1,\n",
       "     'tokens': [{'position': 46, 'start_offset': 206, 'end_offset': 208}]},\n",
       "    'norad': {'term_freq': 1,\n",
       "     'tokens': [{'position': 45, 'start_offset': 200, 'end_offset': 205}]},\n",
       "    'station': {'term_freq': 1,\n",
       "     'tokens': [{'position': 35, 'start_offset': 161, 'end_offset': 168}]},\n",
       "    'station에': {'term_freq': 1,\n",
       "     'tokens': [{'position': 4, 'start_offset': 18, 'end_offset': 26}]},\n",
       "    'station을': {'term_freq': 1,\n",
       "     'tokens': [{'position': 20, 'start_offset': 98, 'end_offset': 106}]},\n",
       "    '가능합니다': {'term_freq': 1,\n",
       "     'tokens': [{'position': 32, 'start_offset': 143, 'end_offset': 148}]},\n",
       "    '가을': {'term_freq': 1,\n",
       "     'tokens': [{'position': 1, 'start_offset': 3, 'end_offset': 5}]},\n",
       "    '같이': {'term_freq': 1,\n",
       "     'tokens': [{'position': 40, 'start_offset': 184, 'end_offset': 186}]},\n",
       "    '것과': {'term_freq': 1,\n",
       "     'tokens': [{'position': 39, 'start_offset': 181, 'end_offset': 183}]},\n",
       "    '게시물에서': {'term_freq': 1,\n",
       "     'tokens': [{'position': 6, 'start_offset': 30, 'end_offset': 35}]},\n",
       "    '계정에': {'term_freq': 1,\n",
       "     'tokens': [{'position': 53, 'start_offset': 232, 'end_offset': 235}]},\n",
       "    '곳을': {'term_freq': 1,\n",
       "     'tokens': [{'position': 28, 'start_offset': 130, 'end_offset': 132}]},\n",
       "    '공유하여': {'term_freq': 1,\n",
       "     'tokens': [{'position': 51, 'start_offset': 223, 'end_offset': 227}]},\n",
       "    '그동안': {'term_freq': 1,\n",
       "     'tokens': [{'position': 15, 'start_offset': 72, 'end_offset': 75}]},\n",
       "    '기타': {'term_freq': 1,\n",
       "     'tokens': [{'position': 48, 'start_offset': 211, 'end_offset': 213}]},\n",
       "    '내': {'term_freq': 1,\n",
       "     'tokens': [{'position': 25, 'start_offset': 122, 'end_offset': 123}]},\n",
       "    '다운링크할': {'term_freq': 1,\n",
       "     'tokens': [{'position': 9, 'start_offset': 44, 'end_offset': 49}]},\n",
       "    '단계는': {'term_freq': 1,\n",
       "     'tokens': [{'position': 43, 'start_offset': 192, 'end_offset': 195}]},\n",
       "    '단계를': {'term_freq': 1,\n",
       "     'tokens': [{'position': 12, 'start_offset': 57, 'end_offset': 60}]},\n",
       "    '당시': {'term_freq': 1,\n",
       "     'tokens': [{'position': 37, 'start_offset': 174, 'end_offset': 176}]},\n",
       "    '대한': {'term_freq': 1,\n",
       "     'tokens': [{'position': 5, 'start_offset': 27, 'end_offset': 29}]},\n",
       "    '데이터를': {'term_freq': 1,\n",
       "     'tokens': [{'position': 8, 'start_offset': 39, 'end_offset': 43}]},\n",
       "    '두': {'term_freq': 1,\n",
       "     'tokens': [{'position': 27, 'start_offset': 128, 'end_offset': 129}]},\n",
       "    '때': {'term_freq': 1,\n",
       "     'tokens': [{'position': 10, 'start_offset': 50, 'end_offset': 51}]},\n",
       "    '미국': {'term_freq': 1,\n",
       "     'tokens': [{'position': 24, 'start_offset': 119, 'end_offset': 121}]},\n",
       "    '미리': {'term_freq': 1,\n",
       "     'tokens': [{'position': 13, 'start_offset': 61, 'end_offset': 63}]},\n",
       "    '미리보기로': {'term_freq': 1,\n",
       "     'tokens': [{'position': 16, 'start_offset': 76, 'end_offset': 81}]},\n",
       "    '및': {'term_freq': 1,\n",
       "     'tokens': [{'position': 47, 'start_offset': 209, 'end_offset': 210}]},\n",
       "    '바로': {'term_freq': 1,\n",
       "     'tokens': [{'position': 30, 'start_offset': 136, 'end_offset': 138}]},\n",
       "    '번째': {'term_freq': 1,\n",
       "     'tokens': [{'position': 42, 'start_offset': 189, 'end_offset': 191}]},\n",
       "    '사용이': {'term_freq': 1,\n",
       "     'tokens': [{'position': 31, 'start_offset': 139, 'end_offset': 142}]},\n",
       "    '사용하기': {'term_freq': 1,\n",
       "     'tokens': [{'position': 36, 'start_offset': 169, 'end_offset': 173}]},\n",
       "    '살펴봤습니다': {'term_freq': 1,\n",
       "     'tokens': [{'position': 14, 'start_offset': 64, 'end_offset': 70}]},\n",
       "    '설명한': {'term_freq': 1,\n",
       "     'tokens': [{'position': 38, 'start_offset': 177, 'end_offset': 180}]},\n",
       "    '수행하는': {'term_freq': 1,\n",
       "     'tokens': [{'position': 11, 'start_offset': 52, 'end_offset': 56}]},\n",
       "    '우선': {'term_freq': 1,\n",
       "     'tokens': [{'position': 23, 'start_offset': 116, 'end_offset': 118}]},\n",
       "    '위성': {'term_freq': 1,\n",
       "     'tokens': [{'position': 7, 'start_offset': 36, 'end_offset': 38}]},\n",
       "    '위성을': {'term_freq': 1,\n",
       "     'tokens': [{'position': 54, 'start_offset': 236, 'end_offset': 239}]},\n",
       "    '위성의': {'term_freq': 1,\n",
       "     'tokens': [{'position': 44, 'start_offset': 196, 'end_offset': 199}]},\n",
       "    '정보를': {'term_freq': 1,\n",
       "     'tokens': [{'position': 49, 'start_offset': 214, 'end_offset': 217}]},\n",
       "    '정식': {'term_freq': 1,\n",
       "     'tokens': [{'position': 21, 'start_offset': 107, 'end_offset': 109}]},\n",
       "    '제공하던': {'term_freq': 1,\n",
       "     'tokens': [{'position': 17, 'start_offset': 82, 'end_offset': 86}]},\n",
       "    '지난': {'term_freq': 1,\n",
       "     'tokens': [{'position': 0, 'start_offset': 0, 'end_offset': 2}]},\n",
       "    '지상국': {'term_freq': 1,\n",
       "     'tokens': [{'position': 26, 'start_offset': 124, 'end_offset': 127}]},\n",
       "    '첫': {'term_freq': 1,\n",
       "     'tokens': [{'position': 41, 'start_offset': 187, 'end_offset': 188}]},\n",
       "    '출시하고': {'term_freq': 1,\n",
       "     'tokens': [{'position': 22, 'start_offset': 110, 'end_offset': 114}]},\n",
       "    '통해': {'term_freq': 1,\n",
       "     'tokens': [{'position': 29, 'start_offset': 133, 'end_offset': 135}]}}}}}"
      ]
     },
     "execution_count": 8,
     "metadata": {},
     "output_type": "execute_result"
    }
   ],
   "source": [
    "aws_client.termvectors(index=index_name, id='1', fields='body')"
   ]
  },
  {
   "cell_type": "markdown",
   "id": "961218af-9fa6-4ba9-b884-2b1e2822112c",
   "metadata": {},
   "source": [
    "# 6. 은전한닢 형태소 분석기를 포함한 New Index 생성 및 실험"
   ]
  },
  {
   "cell_type": "code",
   "execution_count": 9,
   "id": "82b6e12c-9e5b-4760-90d6-0666ab9ef21d",
   "metadata": {
    "tags": []
   },
   "outputs": [
    {
     "name": "stdout",
     "output_type": "stream",
     "text": [
      "index_name=korea-index, exists=True\n",
      "\n",
      "Deleting index:\n",
      "{'acknowledged': True}\n",
      "\n",
      "Creating index:\n",
      "{'acknowledged': True, 'shards_acknowledged': True, 'index': 'korea-index'}\n"
     ]
    },
    {
     "data": {
      "text/plain": [
       "{'korea-index': {'aliases': {},\n",
       "  'mappings': {'properties': {'body': {'type': 'text',\n",
       "     'analyzer': 'my_analyzer'},\n",
       "    'title': {'type': 'text'}}},\n",
       "  'settings': {'index': {'number_of_shards': '5',\n",
       "    'provided_name': 'korea-index',\n",
       "    'creation_date': '1695691218011',\n",
       "    'analysis': {'analyzer': {'my_analyzer': {'type': 'custom',\n",
       "       'tokenizer': 'seunjeon'}},\n",
       "     'tokenizer': {'seunjeon': {'type': 'seunjeon_tokenizer'}}},\n",
       "    'number_of_replicas': '1',\n",
       "    'uuid': 'C6-cfEGCQI-te0EJLlA-uw',\n",
       "    'version': {'created': '136287827'}}}}}"
      ]
     },
     "execution_count": 9,
     "metadata": {},
     "output_type": "execute_result"
    }
   ],
   "source": [
    "new_index_name = 'korea-index'\n",
    "index_exists = check_if_index_exists(aws_client, new_index_name)\n",
    "\n",
    "if index_exists:\n",
    "    delete_index(aws_client, new_index_name)    \n",
    "else:\n",
    "    print(\"Index does not exist\")    \n",
    "        \n",
    "# Create an index with non-default settings.\n",
    "\n",
    "index_body = {\n",
    "  \"settings\": {\n",
    "    \"analysis\": {\n",
    "      \"tokenizer\": {\n",
    "        \"seunjeon\": {\n",
    "          \"type\": \"seunjeon_tokenizer\"\n",
    "        }\n",
    "      },\n",
    "      \"analyzer\": {\n",
    "        \"my_analyzer\": {\n",
    "          \"type\": \"custom\",\n",
    "          \"tokenizer\": \"seunjeon\"\n",
    "        }\n",
    "      }\n",
    "    }\n",
    "  },\n",
    "    \"mappings\": {\n",
    "      \"properties\": {\n",
    "        \"title\": {\n",
    "          \"type\": \"text\"\n",
    "        },\n",
    "        \"body\": {\n",
    "          \"type\": \"text\",\n",
    "          \"analyzer\": \"my_analyzer\",\n",
    "          \"search_analyzer\": \"my_analyzer\"\n",
    "        }\n",
    "      }\n",
    "    }\n",
    "  }\n",
    "\n",
    "create_index(aws_client, new_index_name, index_body)\n",
    "index_info = aws_client.indices.get(index=new_index_name)\n",
    "index_info"
   ]
  },
  {
   "cell_type": "markdown",
   "id": "fce93996-09fc-4233-a031-0feb4728bb83",
   "metadata": {},
   "source": [
    "## doc1 추가"
   ]
  },
  {
   "cell_type": "code",
   "execution_count": 10,
   "id": "e6ee9790-aeae-40a1-a52b-d2c19abeeecc",
   "metadata": {
    "tags": []
   },
   "outputs": [
    {
     "name": "stdout",
     "output_type": "stream",
     "text": [
      "\n",
      "Adding document:\n",
      "{'_index': 'korea-index', '_id': '1', '_version': 1, 'result': 'created', 'forced_refresh': True, '_shards': {'total': 2, 'successful': 2, 'failed': 0}, '_seq_no': 0, '_primary_term': 1}\n"
     ]
    }
   ],
   "source": [
    "\n",
    "# index document\n",
    "doc_body = {\n",
    "  \"title\": \"AWS Ground Station – 위성 데이터 수집 및 처리 서비스 정식 출시\",\n",
    "  \"body\": \"지난 가을, AWS Ground Station에 대한 게시물에서 위성 데이터를 다운링크할 때 수행하는 단계를 미리 살펴봤습니다. 그동안 미리보기로 제공하던 AWS Ground Station을 정식 출시하고, 우선 미국 내 지상국 두 곳을 통해 바로 사용이 가능합니다. AWS Ground Station 사용하기 당시 설명한 것과 같이 첫 번째 단계는 위성의 NORAD ID 및 기타 정보를 AWS와 공유하여 AWS 계정에 위성을...\"\n",
    "}\n",
    "\n",
    "add_doc(aws_client, new_index_name, doc_body, id='1')\n"
   ]
  },
  {
   "cell_type": "markdown",
   "id": "9207031e-0523-41d9-8e30-25c7a21ad3b1",
   "metadata": {},
   "source": [
    "## body 에 \"출시\" 검색\n",
    "- 아래와 같이 '출시\" 를 할 경우에 검색이 되는 것을 확인할 수 있습니다."
   ]
  },
  {
   "cell_type": "code",
   "execution_count": 11,
   "id": "070f1420-909d-47d9-bfe1-eb8d042be083",
   "metadata": {
    "tags": []
   },
   "outputs": [
    {
     "name": "stdout",
     "output_type": "stream",
     "text": [
      "\n",
      "Search results:\n"
     ]
    },
    {
     "data": {
      "text/plain": [
       "{'took': 57,\n",
       " 'timed_out': False,\n",
       " '_shards': {'total': 5, 'successful': 5, 'skipped': 0, 'failed': 0},\n",
       " 'hits': {'total': {'value': 1, 'relation': 'eq'},\n",
       "  'max_score': 0.32703072,\n",
       "  'hits': [{'_index': 'korea-index',\n",
       "    '_id': '1',\n",
       "    '_score': 0.32703072,\n",
       "    '_source': {'title': 'AWS Ground Station – 위성 데이터 수집 및 처리 서비스 정식 출시',\n",
       "     'body': '지난 가을, AWS Ground Station에 대한 게시물에서 위성 데이터를 다운링크할 때 수행하는 단계를 미리 살펴봤습니다. 그동안 미리보기로 제공하던 AWS Ground Station을 정식 출시하고, 우선 미국 내 지상국 두 곳을 통해 바로 사용이 가능합니다. AWS Ground Station 사용하기 당시 설명한 것과 같이 첫 번째 단계는 위성의 NORAD ID 및 기타 정보를 AWS와 공유하여 AWS 계정에 위성을...'}}]}}"
      ]
     },
     "execution_count": 11,
     "metadata": {},
     "output_type": "execute_result"
    }
   ],
   "source": [
    "q = '출시'\n",
    "query = {\n",
    "  \"query\": {\n",
    "    \"match\": {\n",
    "      \"body\": {\n",
    "        \"query\": f\"{q}\"\n",
    "      }\n",
    "    }\n",
    "  }\n",
    "}\n",
    "response = search_document(aws_client, query, new_index_name)    \n",
    "response"
   ]
  },
  {
   "cell_type": "markdown",
   "id": "9f91793d-8cae-40de-98e1-85a350d7d778",
   "metadata": {},
   "source": [
    "## term_vector 확인\n",
    "- 아래와 같이 \"출시하고\" --> \"출시\" (명사), \"출시하고\" (EOJ) 두개로 형태소 분석을 하여 term_vectors 에 추가 되어 있는 것을 확인할 수 있습니다.\n",
    "```\n",
    "    '출시/N': {'term_freq': 1,\n",
    "     'tokens': [{'position': 26, 'start_offset': 110, 'end_offset': 112}]},\n",
    "    '출시하고/EOJ': {'term_freq': 1,\n",
    "     'tokens': [{'position': 26, 'start_offset': 110, 'end_offset': 114}]},\n",
    "```"
   ]
  },
  {
   "cell_type": "code",
   "execution_count": 12,
   "id": "897602d4-b66a-4243-8e3d-0c58c9da04a6",
   "metadata": {
    "tags": []
   },
   "outputs": [
    {
     "data": {
      "text/plain": [
       "{'_index': 'korea-index',\n",
       " '_id': '1',\n",
       " '_version': 1,\n",
       " 'found': True,\n",
       " 'took': 31,\n",
       " 'term_vectors': {'body': {'field_statistics': {'sum_doc_freq': 71,\n",
       "    'doc_count': 1,\n",
       "    'sum_ttf': 85},\n",
       "   'terms': {'aws/SL': {'term_freq': 5,\n",
       "     'tokens': [{'position': 2, 'start_offset': 7, 'end_offset': 10},\n",
       "      {'position': 22, 'start_offset': 87, 'end_offset': 90},\n",
       "      {'position': 38, 'start_offset': 150, 'end_offset': 153},\n",
       "      {'position': 55, 'start_offset': 218, 'end_offset': 221},\n",
       "      {'position': 57, 'start_offset': 228, 'end_offset': 231}]},\n",
       "    'aws와/EOJ': {'term_freq': 1,\n",
       "     'tokens': [{'position': 55, 'start_offset': 218, 'end_offset': 222}]},\n",
       "    'ground/SL': {'term_freq': 3,\n",
       "     'tokens': [{'position': 3, 'start_offset': 11, 'end_offset': 17},\n",
       "      {'position': 23, 'start_offset': 91, 'end_offset': 97},\n",
       "      {'position': 39, 'start_offset': 154, 'end_offset': 160}]},\n",
       "    'id/SL': {'term_freq': 1,\n",
       "     'tokens': [{'position': 51, 'start_offset': 206, 'end_offset': 208}]},\n",
       "    'norad/SL': {'term_freq': 1,\n",
       "     'tokens': [{'position': 50, 'start_offset': 200, 'end_offset': 205}]},\n",
       "    'station/SL': {'term_freq': 3,\n",
       "     'tokens': [{'position': 4, 'start_offset': 18, 'end_offset': 25},\n",
       "      {'position': 24, 'start_offset': 98, 'end_offset': 105},\n",
       "      {'position': 40, 'start_offset': 161, 'end_offset': 168}]},\n",
       "    'station에/EOJ': {'term_freq': 1,\n",
       "     'tokens': [{'position': 4, 'start_offset': 18, 'end_offset': 26}]},\n",
       "    'station을/EOJ': {'term_freq': 1,\n",
       "     'tokens': [{'position': 24, 'start_offset': 98, 'end_offset': 106}]},\n",
       "    '가능/N': {'term_freq': 1,\n",
       "     'tokens': [{'position': 37, 'start_offset': 143, 'end_offset': 145}]},\n",
       "    '가능합니다/EOJ': {'term_freq': 1,\n",
       "     'tokens': [{'position': 37, 'start_offset': 143, 'end_offset': 148}]},\n",
       "    '가을/N': {'term_freq': 1,\n",
       "     'tokens': [{'position': 1, 'start_offset': 3, 'end_offset': 5}]},\n",
       "    '같이/M': {'term_freq': 1,\n",
       "     'tokens': [{'position': 45, 'start_offset': 184, 'end_offset': 186}]},\n",
       "    '것/N': {'term_freq': 2,\n",
       "     'tokens': [{'position': 6, 'start_offset': 30, 'end_offset': 31},\n",
       "      {'position': 44, 'start_offset': 181, 'end_offset': 182}]},\n",
       "    '것과/EOJ': {'term_freq': 1,\n",
       "     'tokens': [{'position': 44, 'start_offset': 181, 'end_offset': 183}]},\n",
       "    '계정/N': {'term_freq': 1,\n",
       "     'tokens': [{'position': 58, 'start_offset': 232, 'end_offset': 234}]},\n",
       "    '계정에/EOJ': {'term_freq': 1,\n",
       "     'tokens': [{'position': 58, 'start_offset': 232, 'end_offset': 235}]},\n",
       "    '곳/N': {'term_freq': 1,\n",
       "     'tokens': [{'position': 33, 'start_offset': 130, 'end_offset': 131}]},\n",
       "    '곳을/EOJ': {'term_freq': 1,\n",
       "     'tokens': [{'position': 33, 'start_offset': 130, 'end_offset': 132}]},\n",
       "    '공유/N': {'term_freq': 1,\n",
       "     'tokens': [{'position': 56, 'start_offset': 223, 'end_offset': 225}]},\n",
       "    '공유하여/EOJ': {'term_freq': 1,\n",
       "     'tokens': [{'position': 56, 'start_offset': 223, 'end_offset': 227}]},\n",
       "    '국/N': {'term_freq': 1,\n",
       "     'tokens': [{'position': 31, 'start_offset': 126, 'end_offset': 127}]},\n",
       "    '그/M': {'term_freq': 1,\n",
       "     'tokens': [{'position': 17, 'start_offset': 72, 'end_offset': 73}]},\n",
       "    '기타/N': {'term_freq': 1,\n",
       "     'tokens': [{'position': 53, 'start_offset': 211, 'end_offset': 213}]},\n",
       "    '내/N': {'term_freq': 1,\n",
       "     'tokens': [{'position': 29, 'start_offset': 122, 'end_offset': 123}]},\n",
       "    '다운/N': {'term_freq': 1,\n",
       "     'tokens': [{'position': 10, 'start_offset': 44, 'end_offset': 46}]},\n",
       "    '단계/N': {'term_freq': 2,\n",
       "     'tokens': [{'position': 14, 'start_offset': 57, 'end_offset': 59},\n",
       "      {'position': 48, 'start_offset': 192, 'end_offset': 194}]},\n",
       "    '단계는/EOJ': {'term_freq': 1,\n",
       "     'tokens': [{'position': 48, 'start_offset': 192, 'end_offset': 195}]},\n",
       "    '단계를/EOJ': {'term_freq': 1,\n",
       "     'tokens': [{'position': 14, 'start_offset': 57, 'end_offset': 60}]},\n",
       "    '당시/N': {'term_freq': 1,\n",
       "     'tokens': [{'position': 42, 'start_offset': 174, 'end_offset': 176}]},\n",
       "    '대하/V': {'term_freq': 1,\n",
       "     'tokens': [{'position': 5, 'start_offset': 27, 'end_offset': 29}]},\n",
       "    '데이터/N': {'term_freq': 1,\n",
       "     'tokens': [{'position': 9, 'start_offset': 39, 'end_offset': 42}]},\n",
       "    '데이터를/EOJ': {'term_freq': 1,\n",
       "     'tokens': [{'position': 9, 'start_offset': 39, 'end_offset': 43}]},\n",
       "    '동안/N': {'term_freq': 1,\n",
       "     'tokens': [{'position': 18, 'start_offset': 73, 'end_offset': 75}]},\n",
       "    '두/M': {'term_freq': 1,\n",
       "     'tokens': [{'position': 32, 'start_offset': 128, 'end_offset': 129}]},\n",
       "    '때/N': {'term_freq': 1,\n",
       "     'tokens': [{'position': 12, 'start_offset': 50, 'end_offset': 51}]},\n",
       "    '링크/N': {'term_freq': 1,\n",
       "     'tokens': [{'position': 11, 'start_offset': 46, 'end_offset': 48}]},\n",
       "    '링크할/EOJ': {'term_freq': 1,\n",
       "     'tokens': [{'position': 11, 'start_offset': 46, 'end_offset': 49}]},\n",
       "    '미국/N': {'term_freq': 1,\n",
       "     'tokens': [{'position': 28, 'start_offset': 119, 'end_offset': 121}]},\n",
       "    '미리/M': {'term_freq': 2,\n",
       "     'tokens': [{'position': 15, 'start_offset': 61, 'end_offset': 63},\n",
       "      {'position': 19, 'start_offset': 76, 'end_offset': 78}]},\n",
       "    '및/M': {'term_freq': 1,\n",
       "     'tokens': [{'position': 52, 'start_offset': 209, 'end_offset': 210}]},\n",
       "    '바로/M': {'term_freq': 1,\n",
       "     'tokens': [{'position': 35, 'start_offset': 136, 'end_offset': 138}]},\n",
       "    '번/N': {'term_freq': 1,\n",
       "     'tokens': [{'position': 47, 'start_offset': 189, 'end_offset': 190}]},\n",
       "    '번째/EOJ': {'term_freq': 1,\n",
       "     'tokens': [{'position': 47, 'start_offset': 189, 'end_offset': 191}]},\n",
       "    '보/V': {'term_freq': 1,\n",
       "     'tokens': [{'position': 20, 'start_offset': 78, 'end_offset': 79}]},\n",
       "    '보기로/EOJ': {'term_freq': 1,\n",
       "     'tokens': [{'position': 20, 'start_offset': 78, 'end_offset': 81}]},\n",
       "    '사용/N': {'term_freq': 2,\n",
       "     'tokens': [{'position': 36, 'start_offset': 139, 'end_offset': 141},\n",
       "      {'position': 41, 'start_offset': 169, 'end_offset': 171}]},\n",
       "    '사용이/EOJ': {'term_freq': 1,\n",
       "     'tokens': [{'position': 36, 'start_offset': 139, 'end_offset': 142}]},\n",
       "    '사용하기/EOJ': {'term_freq': 1,\n",
       "     'tokens': [{'position': 41, 'start_offset': 169, 'end_offset': 173}]},\n",
       "    '살펴보/V': {'term_freq': 1,\n",
       "     'tokens': [{'position': 16, 'start_offset': 64, 'end_offset': 67}]},\n",
       "    '살펴봤습니다/EOJ': {'term_freq': 1,\n",
       "     'tokens': [{'position': 16, 'start_offset': 64, 'end_offset': 70}]},\n",
       "    '설명/N': {'term_freq': 1,\n",
       "     'tokens': [{'position': 43, 'start_offset': 177, 'end_offset': 179}]},\n",
       "    '설명한/EOJ': {'term_freq': 1,\n",
       "     'tokens': [{'position': 43, 'start_offset': 177, 'end_offset': 180}]},\n",
       "    '수행/N': {'term_freq': 1,\n",
       "     'tokens': [{'position': 13, 'start_offset': 52, 'end_offset': 54}]},\n",
       "    '수행하는/EOJ': {'term_freq': 1,\n",
       "     'tokens': [{'position': 13, 'start_offset': 52, 'end_offset': 56}]},\n",
       "    '시물/N': {'term_freq': 1,\n",
       "     'tokens': [{'position': 7, 'start_offset': 31, 'end_offset': 33}]},\n",
       "    '시물에서/EOJ': {'term_freq': 1,\n",
       "     'tokens': [{'position': 7, 'start_offset': 31, 'end_offset': 35}]},\n",
       "    '우선/M': {'term_freq': 1,\n",
       "     'tokens': [{'position': 27, 'start_offset': 116, 'end_offset': 118}]},\n",
       "    '위성/N': {'term_freq': 3,\n",
       "     'tokens': [{'position': 8, 'start_offset': 36, 'end_offset': 38},\n",
       "      {'position': 49, 'start_offset': 196, 'end_offset': 198},\n",
       "      {'position': 59, 'start_offset': 236, 'end_offset': 238}]},\n",
       "    '위성을/EOJ': {'term_freq': 1,\n",
       "     'tokens': [{'position': 59, 'start_offset': 236, 'end_offset': 239}]},\n",
       "    '위성의/EOJ': {'term_freq': 1,\n",
       "     'tokens': [{'position': 49, 'start_offset': 196, 'end_offset': 199}]},\n",
       "    '정보/N': {'term_freq': 1,\n",
       "     'tokens': [{'position': 54, 'start_offset': 214, 'end_offset': 216}]},\n",
       "    '정보를/EOJ': {'term_freq': 1,\n",
       "     'tokens': [{'position': 54, 'start_offset': 214, 'end_offset': 217}]},\n",
       "    '정식/N': {'term_freq': 1,\n",
       "     'tokens': [{'position': 25, 'start_offset': 107, 'end_offset': 109}]},\n",
       "    '제공/N': {'term_freq': 1,\n",
       "     'tokens': [{'position': 21, 'start_offset': 82, 'end_offset': 84}]},\n",
       "    '제공하던/EOJ': {'term_freq': 1,\n",
       "     'tokens': [{'position': 21, 'start_offset': 82, 'end_offset': 86}]},\n",
       "    '지나/V': {'term_freq': 1,\n",
       "     'tokens': [{'position': 0, 'start_offset': 0, 'end_offset': 2}]},\n",
       "    '지상/N': {'term_freq': 1,\n",
       "     'tokens': [{'position': 30, 'start_offset': 124, 'end_offset': 126}]},\n",
       "    '첫/M': {'term_freq': 1,\n",
       "     'tokens': [{'position': 46, 'start_offset': 187, 'end_offset': 188}]},\n",
       "    '출시/N': {'term_freq': 1,\n",
       "     'tokens': [{'position': 26, 'start_offset': 110, 'end_offset': 112}]},\n",
       "    '출시하고/EOJ': {'term_freq': 1,\n",
       "     'tokens': [{'position': 26, 'start_offset': 110, 'end_offset': 114}]},\n",
       "    '통하/V': {'term_freq': 1,\n",
       "     'tokens': [{'position': 34, 'start_offset': 133, 'end_offset': 135}]}}}}}"
      ]
     },
     "execution_count": 12,
     "metadata": {},
     "output_type": "execute_result"
    }
   ],
   "source": [
    "aws_client.termvectors(index=new_index_name, id='1', fields='body')\n",
    "# aws_client.termvectors(index=new_index_name, fields='body')"
   ]
  },
  {
   "cell_type": "markdown",
   "id": "617caca7-95cc-49fe-b01c-c5c4e3f7872f",
   "metadata": {},
   "source": [
    "# 7. 생성된 인덱스 삭제"
   ]
  },
  {
   "cell_type": "code",
   "execution_count": 13,
   "id": "d6869023-f57b-4360-b82c-68b7c6c1bd55",
   "metadata": {},
   "outputs": [
    {
     "name": "stdout",
     "output_type": "stream",
     "text": [
      "index_name=default-index, exists=True\n",
      "\n",
      "Deleting index:\n",
      "{'acknowledged': True}\n",
      "index_name=korea-index, exists=True\n",
      "\n",
      "Deleting index:\n",
      "{'acknowledged': True}\n"
     ]
    }
   ],
   "source": [
    "index_exists = check_if_index_exists(aws_client, index_name)\n",
    "\n",
    "if index_exists:\n",
    "    delete_index(aws_client, index_name)    \n",
    "else:\n",
    "    print(\"Index does not exist\")    \n",
    "\n",
    "    \n",
    "index_exists = check_if_index_exists(aws_client, new_index_name)\n",
    "\n",
    "if index_exists:\n",
    "    delete_index(aws_client, new_index_name)    \n",
    "else:\n",
    "    print(\"Index does not exist\")    \n",
    "    "
   ]
  },
  {
   "cell_type": "code",
   "execution_count": null,
   "id": "c26bdde5-a236-4397-8a64-a1f6977524f1",
   "metadata": {},
   "outputs": [],
   "source": []
  }
 ],
 "metadata": {
  "availableInstances": [
   {
    "_defaultOrder": 0,
    "_isFastLaunch": true,
    "category": "General purpose",
    "gpuNum": 0,
    "hideHardwareSpecs": false,
    "memoryGiB": 4,
    "name": "ml.t3.medium",
    "vcpuNum": 2
   },
   {
    "_defaultOrder": 1,
    "_isFastLaunch": false,
    "category": "General purpose",
    "gpuNum": 0,
    "hideHardwareSpecs": false,
    "memoryGiB": 8,
    "name": "ml.t3.large",
    "vcpuNum": 2
   },
   {
    "_defaultOrder": 2,
    "_isFastLaunch": false,
    "category": "General purpose",
    "gpuNum": 0,
    "hideHardwareSpecs": false,
    "memoryGiB": 16,
    "name": "ml.t3.xlarge",
    "vcpuNum": 4
   },
   {
    "_defaultOrder": 3,
    "_isFastLaunch": false,
    "category": "General purpose",
    "gpuNum": 0,
    "hideHardwareSpecs": false,
    "memoryGiB": 32,
    "name": "ml.t3.2xlarge",
    "vcpuNum": 8
   },
   {
    "_defaultOrder": 4,
    "_isFastLaunch": true,
    "category": "General purpose",
    "gpuNum": 0,
    "hideHardwareSpecs": false,
    "memoryGiB": 8,
    "name": "ml.m5.large",
    "vcpuNum": 2
   },
   {
    "_defaultOrder": 5,
    "_isFastLaunch": false,
    "category": "General purpose",
    "gpuNum": 0,
    "hideHardwareSpecs": false,
    "memoryGiB": 16,
    "name": "ml.m5.xlarge",
    "vcpuNum": 4
   },
   {
    "_defaultOrder": 6,
    "_isFastLaunch": false,
    "category": "General purpose",
    "gpuNum": 0,
    "hideHardwareSpecs": false,
    "memoryGiB": 32,
    "name": "ml.m5.2xlarge",
    "vcpuNum": 8
   },
   {
    "_defaultOrder": 7,
    "_isFastLaunch": false,
    "category": "General purpose",
    "gpuNum": 0,
    "hideHardwareSpecs": false,
    "memoryGiB": 64,
    "name": "ml.m5.4xlarge",
    "vcpuNum": 16
   },
   {
    "_defaultOrder": 8,
    "_isFastLaunch": false,
    "category": "General purpose",
    "gpuNum": 0,
    "hideHardwareSpecs": false,
    "memoryGiB": 128,
    "name": "ml.m5.8xlarge",
    "vcpuNum": 32
   },
   {
    "_defaultOrder": 9,
    "_isFastLaunch": false,
    "category": "General purpose",
    "gpuNum": 0,
    "hideHardwareSpecs": false,
    "memoryGiB": 192,
    "name": "ml.m5.12xlarge",
    "vcpuNum": 48
   },
   {
    "_defaultOrder": 10,
    "_isFastLaunch": false,
    "category": "General purpose",
    "gpuNum": 0,
    "hideHardwareSpecs": false,
    "memoryGiB": 256,
    "name": "ml.m5.16xlarge",
    "vcpuNum": 64
   },
   {
    "_defaultOrder": 11,
    "_isFastLaunch": false,
    "category": "General purpose",
    "gpuNum": 0,
    "hideHardwareSpecs": false,
    "memoryGiB": 384,
    "name": "ml.m5.24xlarge",
    "vcpuNum": 96
   },
   {
    "_defaultOrder": 12,
    "_isFastLaunch": false,
    "category": "General purpose",
    "gpuNum": 0,
    "hideHardwareSpecs": false,
    "memoryGiB": 8,
    "name": "ml.m5d.large",
    "vcpuNum": 2
   },
   {
    "_defaultOrder": 13,
    "_isFastLaunch": false,
    "category": "General purpose",
    "gpuNum": 0,
    "hideHardwareSpecs": false,
    "memoryGiB": 16,
    "name": "ml.m5d.xlarge",
    "vcpuNum": 4
   },
   {
    "_defaultOrder": 14,
    "_isFastLaunch": false,
    "category": "General purpose",
    "gpuNum": 0,
    "hideHardwareSpecs": false,
    "memoryGiB": 32,
    "name": "ml.m5d.2xlarge",
    "vcpuNum": 8
   },
   {
    "_defaultOrder": 15,
    "_isFastLaunch": false,
    "category": "General purpose",
    "gpuNum": 0,
    "hideHardwareSpecs": false,
    "memoryGiB": 64,
    "name": "ml.m5d.4xlarge",
    "vcpuNum": 16
   },
   {
    "_defaultOrder": 16,
    "_isFastLaunch": false,
    "category": "General purpose",
    "gpuNum": 0,
    "hideHardwareSpecs": false,
    "memoryGiB": 128,
    "name": "ml.m5d.8xlarge",
    "vcpuNum": 32
   },
   {
    "_defaultOrder": 17,
    "_isFastLaunch": false,
    "category": "General purpose",
    "gpuNum": 0,
    "hideHardwareSpecs": false,
    "memoryGiB": 192,
    "name": "ml.m5d.12xlarge",
    "vcpuNum": 48
   },
   {
    "_defaultOrder": 18,
    "_isFastLaunch": false,
    "category": "General purpose",
    "gpuNum": 0,
    "hideHardwareSpecs": false,
    "memoryGiB": 256,
    "name": "ml.m5d.16xlarge",
    "vcpuNum": 64
   },
   {
    "_defaultOrder": 19,
    "_isFastLaunch": false,
    "category": "General purpose",
    "gpuNum": 0,
    "hideHardwareSpecs": false,
    "memoryGiB": 384,
    "name": "ml.m5d.24xlarge",
    "vcpuNum": 96
   },
   {
    "_defaultOrder": 20,
    "_isFastLaunch": false,
    "category": "General purpose",
    "gpuNum": 0,
    "hideHardwareSpecs": true,
    "memoryGiB": 0,
    "name": "ml.geospatial.interactive",
    "supportedImageNames": [
     "sagemaker-geospatial-v1-0"
    ],
    "vcpuNum": 0
   },
   {
    "_defaultOrder": 21,
    "_isFastLaunch": true,
    "category": "Compute optimized",
    "gpuNum": 0,
    "hideHardwareSpecs": false,
    "memoryGiB": 4,
    "name": "ml.c5.large",
    "vcpuNum": 2
   },
   {
    "_defaultOrder": 22,
    "_isFastLaunch": false,
    "category": "Compute optimized",
    "gpuNum": 0,
    "hideHardwareSpecs": false,
    "memoryGiB": 8,
    "name": "ml.c5.xlarge",
    "vcpuNum": 4
   },
   {
    "_defaultOrder": 23,
    "_isFastLaunch": false,
    "category": "Compute optimized",
    "gpuNum": 0,
    "hideHardwareSpecs": false,
    "memoryGiB": 16,
    "name": "ml.c5.2xlarge",
    "vcpuNum": 8
   },
   {
    "_defaultOrder": 24,
    "_isFastLaunch": false,
    "category": "Compute optimized",
    "gpuNum": 0,
    "hideHardwareSpecs": false,
    "memoryGiB": 32,
    "name": "ml.c5.4xlarge",
    "vcpuNum": 16
   },
   {
    "_defaultOrder": 25,
    "_isFastLaunch": false,
    "category": "Compute optimized",
    "gpuNum": 0,
    "hideHardwareSpecs": false,
    "memoryGiB": 72,
    "name": "ml.c5.9xlarge",
    "vcpuNum": 36
   },
   {
    "_defaultOrder": 26,
    "_isFastLaunch": false,
    "category": "Compute optimized",
    "gpuNum": 0,
    "hideHardwareSpecs": false,
    "memoryGiB": 96,
    "name": "ml.c5.12xlarge",
    "vcpuNum": 48
   },
   {
    "_defaultOrder": 27,
    "_isFastLaunch": false,
    "category": "Compute optimized",
    "gpuNum": 0,
    "hideHardwareSpecs": false,
    "memoryGiB": 144,
    "name": "ml.c5.18xlarge",
    "vcpuNum": 72
   },
   {
    "_defaultOrder": 28,
    "_isFastLaunch": false,
    "category": "Compute optimized",
    "gpuNum": 0,
    "hideHardwareSpecs": false,
    "memoryGiB": 192,
    "name": "ml.c5.24xlarge",
    "vcpuNum": 96
   },
   {
    "_defaultOrder": 29,
    "_isFastLaunch": true,
    "category": "Accelerated computing",
    "gpuNum": 1,
    "hideHardwareSpecs": false,
    "memoryGiB": 16,
    "name": "ml.g4dn.xlarge",
    "vcpuNum": 4
   },
   {
    "_defaultOrder": 30,
    "_isFastLaunch": false,
    "category": "Accelerated computing",
    "gpuNum": 1,
    "hideHardwareSpecs": false,
    "memoryGiB": 32,
    "name": "ml.g4dn.2xlarge",
    "vcpuNum": 8
   },
   {
    "_defaultOrder": 31,
    "_isFastLaunch": false,
    "category": "Accelerated computing",
    "gpuNum": 1,
    "hideHardwareSpecs": false,
    "memoryGiB": 64,
    "name": "ml.g4dn.4xlarge",
    "vcpuNum": 16
   },
   {
    "_defaultOrder": 32,
    "_isFastLaunch": false,
    "category": "Accelerated computing",
    "gpuNum": 1,
    "hideHardwareSpecs": false,
    "memoryGiB": 128,
    "name": "ml.g4dn.8xlarge",
    "vcpuNum": 32
   },
   {
    "_defaultOrder": 33,
    "_isFastLaunch": false,
    "category": "Accelerated computing",
    "gpuNum": 4,
    "hideHardwareSpecs": false,
    "memoryGiB": 192,
    "name": "ml.g4dn.12xlarge",
    "vcpuNum": 48
   },
   {
    "_defaultOrder": 34,
    "_isFastLaunch": false,
    "category": "Accelerated computing",
    "gpuNum": 1,
    "hideHardwareSpecs": false,
    "memoryGiB": 256,
    "name": "ml.g4dn.16xlarge",
    "vcpuNum": 64
   },
   {
    "_defaultOrder": 35,
    "_isFastLaunch": false,
    "category": "Accelerated computing",
    "gpuNum": 1,
    "hideHardwareSpecs": false,
    "memoryGiB": 61,
    "name": "ml.p3.2xlarge",
    "vcpuNum": 8
   },
   {
    "_defaultOrder": 36,
    "_isFastLaunch": false,
    "category": "Accelerated computing",
    "gpuNum": 4,
    "hideHardwareSpecs": false,
    "memoryGiB": 244,
    "name": "ml.p3.8xlarge",
    "vcpuNum": 32
   },
   {
    "_defaultOrder": 37,
    "_isFastLaunch": false,
    "category": "Accelerated computing",
    "gpuNum": 8,
    "hideHardwareSpecs": false,
    "memoryGiB": 488,
    "name": "ml.p3.16xlarge",
    "vcpuNum": 64
   },
   {
    "_defaultOrder": 38,
    "_isFastLaunch": false,
    "category": "Accelerated computing",
    "gpuNum": 8,
    "hideHardwareSpecs": false,
    "memoryGiB": 768,
    "name": "ml.p3dn.24xlarge",
    "vcpuNum": 96
   },
   {
    "_defaultOrder": 39,
    "_isFastLaunch": false,
    "category": "Memory Optimized",
    "gpuNum": 0,
    "hideHardwareSpecs": false,
    "memoryGiB": 16,
    "name": "ml.r5.large",
    "vcpuNum": 2
   },
   {
    "_defaultOrder": 40,
    "_isFastLaunch": false,
    "category": "Memory Optimized",
    "gpuNum": 0,
    "hideHardwareSpecs": false,
    "memoryGiB": 32,
    "name": "ml.r5.xlarge",
    "vcpuNum": 4
   },
   {
    "_defaultOrder": 41,
    "_isFastLaunch": false,
    "category": "Memory Optimized",
    "gpuNum": 0,
    "hideHardwareSpecs": false,
    "memoryGiB": 64,
    "name": "ml.r5.2xlarge",
    "vcpuNum": 8
   },
   {
    "_defaultOrder": 42,
    "_isFastLaunch": false,
    "category": "Memory Optimized",
    "gpuNum": 0,
    "hideHardwareSpecs": false,
    "memoryGiB": 128,
    "name": "ml.r5.4xlarge",
    "vcpuNum": 16
   },
   {
    "_defaultOrder": 43,
    "_isFastLaunch": false,
    "category": "Memory Optimized",
    "gpuNum": 0,
    "hideHardwareSpecs": false,
    "memoryGiB": 256,
    "name": "ml.r5.8xlarge",
    "vcpuNum": 32
   },
   {
    "_defaultOrder": 44,
    "_isFastLaunch": false,
    "category": "Memory Optimized",
    "gpuNum": 0,
    "hideHardwareSpecs": false,
    "memoryGiB": 384,
    "name": "ml.r5.12xlarge",
    "vcpuNum": 48
   },
   {
    "_defaultOrder": 45,
    "_isFastLaunch": false,
    "category": "Memory Optimized",
    "gpuNum": 0,
    "hideHardwareSpecs": false,
    "memoryGiB": 512,
    "name": "ml.r5.16xlarge",
    "vcpuNum": 64
   },
   {
    "_defaultOrder": 46,
    "_isFastLaunch": false,
    "category": "Memory Optimized",
    "gpuNum": 0,
    "hideHardwareSpecs": false,
    "memoryGiB": 768,
    "name": "ml.r5.24xlarge",
    "vcpuNum": 96
   },
   {
    "_defaultOrder": 47,
    "_isFastLaunch": false,
    "category": "Accelerated computing",
    "gpuNum": 1,
    "hideHardwareSpecs": false,
    "memoryGiB": 16,
    "name": "ml.g5.xlarge",
    "vcpuNum": 4
   },
   {
    "_defaultOrder": 48,
    "_isFastLaunch": false,
    "category": "Accelerated computing",
    "gpuNum": 1,
    "hideHardwareSpecs": false,
    "memoryGiB": 32,
    "name": "ml.g5.2xlarge",
    "vcpuNum": 8
   },
   {
    "_defaultOrder": 49,
    "_isFastLaunch": false,
    "category": "Accelerated computing",
    "gpuNum": 1,
    "hideHardwareSpecs": false,
    "memoryGiB": 64,
    "name": "ml.g5.4xlarge",
    "vcpuNum": 16
   },
   {
    "_defaultOrder": 50,
    "_isFastLaunch": false,
    "category": "Accelerated computing",
    "gpuNum": 1,
    "hideHardwareSpecs": false,
    "memoryGiB": 128,
    "name": "ml.g5.8xlarge",
    "vcpuNum": 32
   },
   {
    "_defaultOrder": 51,
    "_isFastLaunch": false,
    "category": "Accelerated computing",
    "gpuNum": 1,
    "hideHardwareSpecs": false,
    "memoryGiB": 256,
    "name": "ml.g5.16xlarge",
    "vcpuNum": 64
   },
   {
    "_defaultOrder": 52,
    "_isFastLaunch": false,
    "category": "Accelerated computing",
    "gpuNum": 4,
    "hideHardwareSpecs": false,
    "memoryGiB": 192,
    "name": "ml.g5.12xlarge",
    "vcpuNum": 48
   },
   {
    "_defaultOrder": 53,
    "_isFastLaunch": false,
    "category": "Accelerated computing",
    "gpuNum": 4,
    "hideHardwareSpecs": false,
    "memoryGiB": 384,
    "name": "ml.g5.24xlarge",
    "vcpuNum": 96
   },
   {
    "_defaultOrder": 54,
    "_isFastLaunch": false,
    "category": "Accelerated computing",
    "gpuNum": 8,
    "hideHardwareSpecs": false,
    "memoryGiB": 768,
    "name": "ml.g5.48xlarge",
    "vcpuNum": 192
   },
   {
    "_defaultOrder": 55,
    "_isFastLaunch": false,
    "category": "Accelerated computing",
    "gpuNum": 8,
    "hideHardwareSpecs": false,
    "memoryGiB": 1152,
    "name": "ml.p4d.24xlarge",
    "vcpuNum": 96
   },
   {
    "_defaultOrder": 56,
    "_isFastLaunch": false,
    "category": "Accelerated computing",
    "gpuNum": 8,
    "hideHardwareSpecs": false,
    "memoryGiB": 1152,
    "name": "ml.p4de.24xlarge",
    "vcpuNum": 96
   }
  ],
  "instance_type": "ml.t3.medium",
  "kernelspec": {
   "display_name": "Python 3 (Data Science 3.0)",
   "language": "python",
   "name": "python3__SAGEMAKER_INTERNAL__arn:aws:sagemaker:us-east-1:081325390199:image/sagemaker-data-science-310-v1"
  },
  "language_info": {
   "codemirror_mode": {
    "name": "ipython",
    "version": 3
   },
   "file_extension": ".py",
   "mimetype": "text/x-python",
   "name": "python",
   "nbconvert_exporter": "python",
   "pygments_lexer": "ipython3",
   "version": "3.10.6"
  }
 },
 "nbformat": 4,
 "nbformat_minor": 5
}
