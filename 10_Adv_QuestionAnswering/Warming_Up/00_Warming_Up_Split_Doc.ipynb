{
 "cells": [
  {
   "cell_type": "markdown",
   "id": "58496814-84a9-4ef2-a391-2fa88510a65f",
   "metadata": {},
   "source": [
    "# Text Splitter 이해\n",
    "- SageMaker stdio, Data Science 3.0 Image, ml.t3.medium 에서 테스트 되었습니다.\n",
    "\n",
    "---\n",
    "\n",
    "\n",
    "Reference:\n",
    "- [Using langchain for Question Answering on Own Data](https://medium.com/@onkarmishra/using-langchain-for-question-answering-on-own-data-3af0a82789ed)\n",
    "- [RecursiveCharacterTextSplitter](https://python.langchain.com/docs/modules/data_connection/document_transformers/text_splitters/recursive_text_splitter)\n",
    "\n",
    "- 이 텍스트 분할기는 일반 텍스트에 권장되는 것입니다. 문자 목록으로 매개변수화 됩니다. 청크가 충분히 작아질 때까지 순서대로 분할하려고 시도합니다. 기본 목록은 [\"\\n\\n\", \"\\n\", \" \", \"\"]입니다. 이는 모든 단락(그리고 문장, 단어)을 가능한 한 오랫동안 함께 유지하려고 노력하는 효과가 있습니다. 일반적으로 이러한 단락은 의미상 가장 강력한 관련 텍스트 조각인 것처럼 보이기 때문입니다."
   ]
  },
  {
   "cell_type": "code",
   "execution_count": 2,
   "id": "787df0f0-7fd9-47ca-a0c3-91b3037d6a10",
   "metadata": {
    "tags": []
   },
   "outputs": [],
   "source": [
    "%load_ext autoreload\n",
    "%autoreload 2\n",
    "\n",
    "import sys, os\n",
    "module_path = \"..\"\n",
    "sys.path.append(os.path.abspath(module_path))\n",
    "from utils import print_ww\n",
    "\n"
   ]
  },
  {
   "cell_type": "markdown",
   "id": "60ceec36-7698-4166-a182-6f7636e7939b",
   "metadata": {},
   "source": [
    "# 1. 간단한 RecursiveCharacterTextSplitter 및 CharacterTextSplitter 이해"
   ]
  },
  {
   "cell_type": "code",
   "execution_count": 3,
   "id": "a17a380a-4513-45d4-b1d3-1e041ada9b59",
   "metadata": {
    "tags": []
   },
   "outputs": [],
   "source": [
    "from langchain.text_splitter import RecursiveCharacterTextSplitter, CharacterTextSplitter\n",
    "\n",
    "chunk_size =26\n",
    "chunk_overlap = 4\n",
    "\n",
    "r_splitter = RecursiveCharacterTextSplitter(\n",
    "    chunk_size=chunk_size,\n",
    "    chunk_overlap=chunk_overlap\n",
    ")\n",
    "c_splitter = CharacterTextSplitter(\n",
    "    chunk_size=chunk_size,\n",
    "    chunk_overlap=chunk_overlap\n",
    ")"
   ]
  },
  {
   "cell_type": "markdown",
   "id": "00e32c43-cf35-413c-9ab2-4690d52c6545",
   "metadata": {},
   "source": [
    "전체 문자가 26개로서 아래는 26개 알파벳 청크 1개 로 분리 한다."
   ]
  },
  {
   "cell_type": "markdown",
   "id": "bf946719-a301-49bc-9d64-a69649eae883",
   "metadata": {},
   "source": [
    "## RecursiveCharacterTextSplitter 이해"
   ]
  },
  {
   "cell_type": "code",
   "execution_count": 4,
   "id": "7f57d7e9-9930-4786-9a94-6ead42a135db",
   "metadata": {
    "tags": []
   },
   "outputs": [
    {
     "data": {
      "text/plain": [
       "['abcdefghijklmnopqrstuvwxyz']"
      ]
     },
     "execution_count": 4,
     "metadata": {},
     "output_type": "execute_result"
    }
   ],
   "source": [
    "# Recursive text Splitter\n",
    "text1 = 'abcdefghijklmnopqrstuvwxyz'\n",
    "r_splitter.split_text(text1)\n",
    "# Output - ['abcdefghijklmnopqrstuvwxyz']\n"
   ]
  },
  {
   "cell_type": "markdown",
   "id": "1c2a6f71-7546-483d-8691-e0264001faf5",
   "metadata": {},
   "source": [
    "26개 이상이기에 4개의 문자를 중복 시키고, 두개로 분리한다"
   ]
  },
  {
   "cell_type": "code",
   "execution_count": 5,
   "id": "58481783-3422-41f4-90e1-49ab7d042200",
   "metadata": {
    "tags": []
   },
   "outputs": [
    {
     "data": {
      "text/plain": [
       "['abcdefghijklmnopqrstuvwxyz', 'wxyzabcdefg']"
      ]
     },
     "execution_count": 5,
     "metadata": {},
     "output_type": "execute_result"
    }
   ],
   "source": [
    "# Character Text Splitter\n",
    "text2 = 'abcdefghijklmnopqrstuvwxyzabcdefg'\n",
    "r_splitter.split_text(text2)\n",
    "# Output - ['abcdefghijklmnopqrstuvwxyz', 'wxyzabcdefg']\n"
   ]
  },
  {
   "cell_type": "markdown",
   "id": "2a8fb366-a794-4163-9a22-25c655d972e9",
   "metadata": {},
   "source": [
    "스페이스(' ') 를 포함해서 최대 26개 글자씩을 분리한다. "
   ]
  },
  {
   "cell_type": "code",
   "execution_count": 6,
   "id": "77bc6d0b-9e8f-41a8-8c33-f84db973d401",
   "metadata": {
    "tags": []
   },
   "outputs": [
    {
     "data": {
      "text/plain": [
       "['a b c d e f g h i j k l m', 'l m n o p q r s t u v w x', 'w x y z']"
      ]
     },
     "execution_count": 6,
     "metadata": {},
     "output_type": "execute_result"
    }
   ],
   "source": [
    "# Recursive text Splitter\n",
    "text3 = \"a b c d e f g h i j k l m n o p q r s t u v w x y z\"\n",
    "r_splitter.split_text(text3)\n",
    "# output - ['a b c d e f g h i j k l m', 'l m n o p q r s t u v w x', 'w x y z']\n"
   ]
  },
  {
   "cell_type": "markdown",
   "id": "95316948-9b11-4249-8579-619987a9a41c",
   "metadata": {},
   "source": [
    "## CharacterTextSplitter 이해"
   ]
  },
  {
   "cell_type": "markdown",
   "id": "74cdee6b-c7d8-48e7-a03c-86916acca70b",
   "metadata": {},
   "source": [
    "Spearator 가 없는 CharacterTextSplitter 는 26 의 chunk size 를 무시하고 전체 (51) 을 1개의 청크로 사용한다."
   ]
  },
  {
   "cell_type": "code",
   "execution_count": 7,
   "id": "58e868ee-4c56-4bdf-9257-f50438770770",
   "metadata": {
    "tags": []
   },
   "outputs": [
    {
     "name": "stdout",
     "output_type": "stream",
     "text": [
      "length of text3:  51\n"
     ]
    },
    {
     "data": {
      "text/plain": [
       "['a b c d e f g h i j k l m n o p q r s t u v w x y z']"
      ]
     },
     "execution_count": 7,
     "metadata": {},
     "output_type": "execute_result"
    }
   ],
   "source": [
    "# Character Text Splitter\n",
    "print(\"length of text3: \", len(text3))\n",
    "c_splitter.split_text(text3)\n",
    "# output - ['a b c d e f g h i j k l m n o p q r s t u v w x y z']\n"
   ]
  },
  {
   "cell_type": "markdown",
   "id": "ff267a57-170b-44a0-b38d-ad8935d28d5e",
   "metadata": {},
   "source": [
    "Spearator 를 스페이스로 주게 되면 이를 분리자로해서 26개 chunk size 이내로 청크를 분리한다."
   ]
  },
  {
   "cell_type": "code",
   "execution_count": 8,
   "id": "3757d74c-69e8-4e75-a252-c5ded975ae0a",
   "metadata": {
    "tags": []
   },
   "outputs": [
    {
     "data": {
      "text/plain": [
       "['a b c d e f g h i j k l m', 'l m n o p q r s t u v w x', 'w x y z']"
      ]
     },
     "execution_count": 8,
     "metadata": {},
     "output_type": "execute_result"
    }
   ],
   "source": [
    "# Character Text Splitter with separator defined\n",
    "c_splitter = CharacterTextSplitter(\n",
    "    chunk_size=chunk_size,\n",
    "    chunk_overlap=chunk_overlap,\n",
    "    separator = ' '\n",
    ")\n",
    "c_splitter.split_text(text3)\n",
    "# Output - ['a b c d e f g h i j k l m', 'l m n o p q r s t u v w x', 'w x y z']"
   ]
  },
  {
   "cell_type": "markdown",
   "id": "25c64b65-2659-48bc-b543-be67dbb698e9",
   "metadata": {},
   "source": [
    "# 2. 실제 문장 이해하기"
   ]
  },
  {
   "cell_type": "code",
   "execution_count": 9,
   "id": "2c976250-2b58-4fd4-a72d-6980f6620d82",
   "metadata": {
    "tags": []
   },
   "outputs": [
    {
     "name": "stdout",
     "output_type": "stream",
     "text": [
      "some_text:\n",
      "\n",
      " When writing documents, writers will use document structure to group content. This can convey to\n",
      "the reader, which idea's are related. For example, closely related ideas are in sentances. Similar\n",
      "ideas are in paragraphs. Paragraphs form a document.\n",
      "\n",
      " Paragraphs are often delimited with a carriage return or two carriage returns. Carriage returns are\n",
      "the \"backslash n\" you see embedded in this string. Sentences have a period at the end, but also,\n",
      "have a space.and words are separated by space.\n",
      "This is the last sentence\n",
      "\n",
      "len:  522\n"
     ]
    }
   ],
   "source": [
    "some_text = \"\"\"When writing documents, writers will use document structure to group content. \\\n",
    "This can convey to the reader, which idea's are related. For example, closely related ideas \\\n",
    "are in sentances. Similar ideas are in paragraphs. Paragraphs form a document. \\n\\n \\\n",
    "Paragraphs are often delimited with a carriage return or two carriage returns. \\\n",
    "Carriage returns are the \"backslash n\" you see embedded in this string. \\\n",
    "Sentences have a period at the end, but also, have a space.\\\n",
    "and words are separated by space. \\nThis is the last sentence\"\"\"\n",
    "\n",
    "print_ww(\"some_text: \\n\\n\", some_text)\n",
    "\n",
    "\n",
    "print(\"\\nlen: \", len(some_text)) #  -> 496\n"
   ]
  },
  {
   "cell_type": "markdown",
   "id": "bf034cf7-79ff-4257-babb-96c93fcfab23",
   "metadata": {},
   "source": [
    "## RecursiveCharacterTextSplitter\n",
    "- 전체 글자수가 522 인데, chunk_size 가 450 이어서, 450 글자 안에서 \"\\n\\n\", \"\\n\", \" \", \"\" 의 순서대로 분리자를 선택하여 분절 한다. 그래서 Paragraphs 로 시작하는 곳에서 두번째 청크가 시작이 됨"
   ]
  },
  {
   "cell_type": "code",
   "execution_count": 10,
   "id": "30f068fb-60e9-4ebd-8aff-4c4ad42bda94",
   "metadata": {
    "tags": []
   },
   "outputs": [
    {
     "name": "stdout",
     "output_type": "stream",
     "text": [
      "len(docs):  2\n",
      "docs:\n",
      " [\"When writing documents, writers will use document structure to group content. This can convey to\n",
      "the reader, which idea's are related. For example, closely related ideas are in sentances. Similar\n",
      "ideas are in paragraphs. Paragraphs form a document.\", 'Paragraphs are often delimited with a\n",
      "carriage return or two carriage returns. Carriage returns are the \"backslash n\" you see embedded in\n",
      "this string. Sentences have a period at the end, but also, have a space.and words are separated by\n",
      "space. \\nThis is the last sentence']\n"
     ]
    }
   ],
   "source": [
    "r_splitter = RecursiveCharacterTextSplitter(\n",
    "    chunk_size=450,\n",
    "    chunk_overlap=0, \n",
    "    separators=[\"\\n\\n\", \"\\n\", \" \", \"\"]\n",
    ")\n",
    "\n",
    "docs = r_splitter.split_text(some_text)\n",
    "print(\"len(docs): \", len(docs)) \n",
    "print_ww(\"docs: \\n\", docs)\n",
    "\n"
   ]
  },
  {
   "cell_type": "markdown",
   "id": "8d3c72af-29d9-4cbf-bcd3-6c1c312977f3",
   "metadata": {},
   "source": [
    "## CharacterTextSplitter\n",
    "- 첫번째 청크가 450 개의 글자에 가까운 분리자 스페이스에서 분절 함. 그래서 두번째 청크는 have 에서 시작함."
   ]
  },
  {
   "cell_type": "code",
   "execution_count": 11,
   "id": "c5b04983-b6e0-4938-81f7-67d795fe43e0",
   "metadata": {
    "tags": []
   },
   "outputs": [
    {
     "name": "stdout",
     "output_type": "stream",
     "text": [
      "len(docs):  2\n",
      "docs: \n",
      " ['When writing documents, writers will use document structure to group content. This can convey to the reader, which idea\\'s are related. For example, closely related ideas are in sentances. Similar ideas are in paragraphs. Paragraphs form a document. \\n\\n Paragraphs are often delimited with a carriage return or two carriage returns. Carriage returns are the \"backslash n\" you see embedded in this string. Sentences have a period at the end, but also,', 'have a space.and words are separated by space. \\nThis is the last sentence']\n"
     ]
    }
   ],
   "source": [
    "c_splitter = CharacterTextSplitter(\n",
    "    chunk_size=450,\n",
    "    chunk_overlap=0,\n",
    "    separator = ' '\n",
    ")\n",
    "docs = c_splitter.split_text(some_text)\n",
    "print(\"len(docs): \", len(docs)) \n",
    "print(\"docs: \\n\", docs)"
   ]
  },
  {
   "cell_type": "markdown",
   "id": "035abc17-f144-4ac5-8f3d-e20eb58f34f3",
   "metadata": {},
   "source": [
    "# 3. 실제 긴 테스트 문서 (State of Union) 로 이해하기"
   ]
  },
  {
   "cell_type": "code",
   "execution_count": 12,
   "id": "30f1aedd-fce5-4dc1-b4fb-f50e06a0d112",
   "metadata": {
    "tags": []
   },
   "outputs": [],
   "source": [
    "# This is a long document we can split up.\n",
    "with open('data/state_of_the_union.txt') as f:\n",
    "    state_of_the_union = f.read()"
   ]
  },
  {
   "cell_type": "markdown",
   "id": "3ac65757-f0b9-4079-9515-3fd9fbd76d11",
   "metadata": {},
   "source": [
    "## RecursiveCharacterTextSplitter \n",
    "- chunk_size == 1000 으로 분절. 1000 이내로 자르기 위해서 \"\\n\\n\", \"\\n\", \".\", \" \", \"\" 순서 기준으로 먼저 오는 것을 분절하고, 다음 청크로 분리 함."
   ]
  },
  {
   "cell_type": "code",
   "execution_count": 13,
   "id": "9c7f1cbb-3fd4-40e3-9d5c-93c403ffea43",
   "metadata": {
    "tags": []
   },
   "outputs": [
    {
     "name": "stdout",
     "output_type": "stream",
     "text": [
      "-----------------------------------------------\n",
      "1. Chunk: 970\n",
      "-----------------------------------------------\n",
      "Madam Speaker, Madam Vice President, our First Lady and Second Gentleman. Members of Congress and\n",
      "the Cabinet. Justices of the Supreme Court. My fellow Americans.\n",
      "\n",
      "Last year COVID-19 kept us apart. This year we are finally together again.\n",
      "And with an unwavering resolve that freedom will always triumph over tyranny.\n",
      "\n",
      "Six days ago, Russia’s Vladimir Putin sought to shake the foundations of the free world thinking he\n",
      "could make it bend to his menacing ways. But he badly miscalculated.He thought he could roll into\n",
      "Ukraine and the world would roll over. Instead he met a wall of strength he never imagined.He met\n",
      "the Ukrainian people.From President Zelenskyy to every Ukrainian, their fearlessness, their courage,\n",
      "their determination, inspires the world.Let each of us here tonight in this Chamber send an\n",
      "unmistakable signal to Ukraine and to the world.Please rise if you are able and show that, Yes, we\n",
      "the United States of America stand with the Ukrainian people.\n",
      "-----------------------------------------------\n",
      "2. Chunk: 923\n",
      "-----------------------------------------------\n",
      "Throughout our history we’ve learned this lesson when dictators do not pay a price for their\n",
      "aggression they cause more chaos.\n",
      "They keep moving.\n",
      "And the costs and the threats to America and the world keep rising.\n",
      "That’s why the NATO Alliance was created to secure peace and stability in Europe after World War 2.\n",
      "The United States is a member along with 29 other nations.\n",
      "It matters. American diplomacy matters. American resolve matters.\n",
      "Putin’s latest attack on Ukraine was premeditated and unprovoked.\n",
      "He rejected repeated efforts at diplomacy.\n",
      "He thought the West and NATO wouldn’t respond. And he thought he could divide us at home. Putin was\n",
      "wrong. We were ready.  Here is what we did.\n",
      "\n",
      "We prepared extensively and carefully.\n",
      "We spent months building a coalition of other freedom-loving nations from Europe and the Americas to\n",
      "Asia and Africa to confront Putin.\n",
      "\n",
      "의장님, 부통령님, 영부인, 제2신사님. 의회 의원과 내각. 대법원 판사. 미국인 여러분.\n",
      "-----------------------------------------------\n",
      "3. Chunk: 960\n",
      "-----------------------------------------------\n",
      "지난해 코로나19는 우리를 갈라놓았습니다. 올해 우리는 마침내 다시 모였습니다.\n",
      "그리고 자유는 항상 폭정을 이길 것이라는 흔들리지 않는 결의로.\n",
      "\n",
      "엿새 전, 러시아의 블라디미르 푸틴 대통령은 자신의 위협적인 방식으로 자유 세계를 굴복시킬 수 있다고 생각하면서 자유 세계의 기초를 흔들려고 했습니다. 그러나 그는 심하게 계산을\n",
      "잘못했습니다. 그는 자신이 우크라이나에 진출하면 세계가 전복될 것이라고 생각했습니다. 그 대신 그는 상상도 못했던 힘의 벽을 만났습니다.그는 우크라이나 국민을 만났습니다.젤렌스키\n",
      "대통령부터 모든 우크라이나인에 이르기까지 그들의 용감함, 용기, 결단력은 전 세계에 영감을 줍니다.오늘 밤 여기 이 회의소에 모인 우리 각자는 틀림없는 신호를 보내도록 합시다.\n",
      "우크라이나와 세계를 향해. 가능하다면 일어나서 미국이 우크라이나 국민과 함께 한다는 것을 보여주십시오.\n",
      "\n",
      "우리 역사를 통해 우리는 독재자가 공격에 대한 대가를 치르지 않을 때 더 많은 혼란을 야기한다는 교훈을 배웠습니다.\n",
      "그들은 계속 움직인다.\n",
      "그리고 미국과 세계에 대한 비용과 위협은 계속 증가하고 있습니다.\n",
      "이것이 바로 제2차 세계대전 이후 유럽의 평화와 안정을 확보하기 위해 NATO 동맹이 창설된 이유입니다.\n",
      "미국은 다른 29개 국가와 함께 회원국입니다.\n",
      "그것은 중요. 미국 외교는 중요하다. 미국의 결의가 중요합니다.\n",
      "우크라이나에 대한 푸틴의 최근 공격은 계획적이고 도발되지 않은 것이었다.\n",
      "그는 반복적인 외교 노력을 거부했습니다.\n",
      "그는 서방과 NATO가 반응하지 않을 것이라고 생각했습니다. 그리고 그는 집에서 우리를 나눌 수 있다고 생각했습니다. 푸틴은 틀렸다. 우리는 준비가 되어 있었습니다. 우리가 한\n",
      "일은 다음과 같습니다.\n",
      "\n",
      "우리는 광범위하고 세심하게 준비했습니다.\n",
      "우리는 푸틴 대통령과 대결하기 위해 유럽과 미주, 아시아와 아프리카에 이르기까지 자유를 사랑하는 다른 국가들의 연합을 구축하는 데 수개월을 보냈습니다.\n"
     ]
    }
   ],
   "source": [
    "text_splitter = RecursiveCharacterTextSplitter(\n",
    "    # Set a really small chunk size, just to show.\n",
    "    chunk_size = 1000,\n",
    "    chunk_overlap  = 0,\n",
    "    separators=[\"\\n\\n\", \"\\n\", \".\", \" \", \"\"],\n",
    "    length_function = len,\n",
    "    is_separator_regex = False,\n",
    ")\n",
    "texts = text_splitter.create_documents([state_of_the_union])\n",
    "\n",
    "# show_context_used(texts)\n",
    "from utils.rag import show_context_used\n",
    "\n",
    "show_context_used(texts, limit=5)"
   ]
  },
  {
   "cell_type": "markdown",
   "id": "61d43fac-eda7-44e3-b45a-f70559c300e6",
   "metadata": {},
   "source": [
    "## CharacterTextSplitter\n",
    "- chunk_size = 500 과 분리자를 스페이스로 해서 분리 함."
   ]
  },
  {
   "cell_type": "code",
   "execution_count": 14,
   "id": "75d14519-20be-4b5a-8ca8-3ee308262411",
   "metadata": {
    "tags": []
   },
   "outputs": [
    {
     "name": "stdout",
     "output_type": "stream",
     "text": [
      "-----------------------------------------------\n",
      "1. Chunk: 498\n",
      "-----------------------------------------------\n",
      "Madam Speaker, Madam Vice President, our First Lady and Second Gentleman. Members of Congress and\n",
      "the Cabinet. Justices of the Supreme Court. My fellow Americans.\n",
      "\n",
      "Last year COVID-19 kept us apart. This year we are finally together again.\n",
      "And with an unwavering resolve that freedom will always triumph over tyranny.\n",
      "\n",
      "Six days ago, Russia’s Vladimir Putin sought to shake the foundations of the free world thinking he\n",
      "could make it bend to his menacing ways. But he badly miscalculated.He thought\n",
      "-----------------------------------------------\n",
      "2. Chunk: 495\n",
      "-----------------------------------------------\n",
      "he could roll into Ukraine and the world would roll over. Instead he met a wall of strength he never\n",
      "imagined.He met the Ukrainian people.From President Zelenskyy to every Ukrainian, their\n",
      "fearlessness, their courage, their determination, inspires the world.Let each of us here tonight in\n",
      "this Chamber send an unmistakable signal to Ukraine and to the world.Please rise if you are able and\n",
      "show that, Yes, we the United States of America stand with the Ukrainian people.\n",
      "\n",
      "Throughout our history\n",
      "-----------------------------------------------\n",
      "3. Chunk: 493\n",
      "-----------------------------------------------\n",
      "we’ve learned this lesson when dictators do not pay a price for their aggression they cause more\n",
      "chaos.\n",
      "They keep moving.\n",
      "And the costs and the threats to America and the world keep rising.\n",
      "That’s why the NATO Alliance was created to secure peace and stability in Europe after World War 2.\n",
      "The United States is a member along with 29 other nations.\n",
      "It matters. American diplomacy matters. American resolve matters.\n",
      "Putin’s latest attack on Ukraine was premeditated and unprovoked.\n",
      "He rejected\n",
      "-----------------------------------------------\n",
      "4. Chunk: 497\n",
      "-----------------------------------------------\n",
      "repeated efforts at diplomacy.\n",
      "He thought the West and NATO wouldn’t respond. And he thought he could divide us at home. Putin was\n",
      "wrong. We were ready. Here is what we did.\n",
      "\n",
      "We prepared extensively and carefully.\n",
      "We spent months building a coalition of other freedom-loving nations from Europe and the Americas to\n",
      "Asia and Africa to confront Putin.\n",
      "\n",
      "의장님, 부통령님, 영부인, 제2신사님. 의회 의원과 내각. 대법원 판사. 미국인 여러분.\n",
      "\n",
      "지난해 코로나19는 우리를 갈라놓았습니다. 올해 우리는 마침내 다시 모였습니다.\n",
      "그리고 자유는 항상 폭정을 이길 것이라는 흔들리지 않는 결의로.\n",
      "\n",
      "엿새 전, 러시아의\n",
      "-----------------------------------------------\n",
      "5. Chunk: 500\n",
      "-----------------------------------------------\n",
      "블라디미르 푸틴 대통령은 자신의 위협적인 방식으로 자유 세계를 굴복시킬 수 있다고 생각하면서 자유 세계의 기초를 흔들려고 했습니다. 그러나 그는 심하게 계산을 잘못했습니다. 그는\n",
      "자신이 우크라이나에 진출하면 세계가 전복될 것이라고 생각했습니다. 그 대신 그는 상상도 못했던 힘의 벽을 만났습니다.그는 우크라이나 국민을 만났습니다.젤렌스키 대통령부터 모든\n",
      "우크라이나인에 이르기까지 그들의 용감함, 용기, 결단력은 전 세계에 영감을 줍니다.오늘 밤 여기 이 회의소에 모인 우리 각자는 틀림없는 신호를 보내도록 합시다. 우크라이나와 세계를\n",
      "향해. 가능하다면 일어나서 미국이 우크라이나 국민과 함께 한다는 것을 보여주십시오.\n",
      "\n",
      "우리 역사를 통해 우리는 독재자가 공격에 대한 대가를 치르지 않을 때 더 많은 혼란을 야기한다는 교훈을 배웠습니다.\n",
      "그들은 계속 움직인다.\n",
      "그리고 미국과 세계에 대한 비용과 위협은 계속 증가하고 있습니다.\n",
      "이것이 바로 제2차 세계대전 이후 유럽의 평화와 안정을 확보하기 위해\n",
      "-----------------------------------------------\n",
      "6. Chunk: 366\n",
      "-----------------------------------------------\n",
      "NATO 동맹이 창설된 이유입니다.\n",
      "미국은 다른 29개 국가와 함께 회원국입니다.\n",
      "그것은 중요. 미국 외교는 중요하다. 미국의 결의가 중요합니다.\n",
      "우크라이나에 대한 푸틴의 최근 공격은 계획적이고 도발되지 않은 것이었다.\n",
      "그는 반복적인 외교 노력을 거부했습니다.\n",
      "그는 서방과 NATO가 반응하지 않을 것이라고 생각했습니다. 그리고 그는 집에서 우리를 나눌 수 있다고 생각했습니다. 푸틴은 틀렸다. 우리는 준비가 되어 있었습니다. 우리가 한\n",
      "일은 다음과 같습니다.\n",
      "\n",
      "우리는 광범위하고 세심하게 준비했습니다.\n",
      "우리는 푸틴 대통령과 대결하기 위해 유럽과 미주, 아시아와 아프리카에 이르기까지 자유를 사랑하는 다른 국가들의 연합을 구축하는 데 수개월을 보냈습니다.\n"
     ]
    }
   ],
   "source": [
    "text_splitter = CharacterTextSplitter(\n",
    "    chunk_size=500,\n",
    "    chunk_overlap=0,\n",
    "    separator = ' '\n",
    ")\n",
    "\n",
    "texts = text_splitter.create_documents([state_of_the_union])\n",
    "\n",
    "show_context_used(texts)"
   ]
  },
  {
   "cell_type": "code",
   "execution_count": null,
   "id": "f97453e8-8752-4575-a05a-6265dc0c1b3c",
   "metadata": {},
   "outputs": [],
   "source": []
  },
  {
   "cell_type": "code",
   "execution_count": null,
   "id": "82f697f0-5a50-4853-a75b-5f1f1414694a",
   "metadata": {},
   "outputs": [],
   "source": []
  }
 ],
 "metadata": {
  "availableInstances": [
   {
    "_defaultOrder": 0,
    "_isFastLaunch": true,
    "category": "General purpose",
    "gpuNum": 0,
    "hideHardwareSpecs": false,
    "memoryGiB": 4,
    "name": "ml.t3.medium",
    "vcpuNum": 2
   },
   {
    "_defaultOrder": 1,
    "_isFastLaunch": false,
    "category": "General purpose",
    "gpuNum": 0,
    "hideHardwareSpecs": false,
    "memoryGiB": 8,
    "name": "ml.t3.large",
    "vcpuNum": 2
   },
   {
    "_defaultOrder": 2,
    "_isFastLaunch": false,
    "category": "General purpose",
    "gpuNum": 0,
    "hideHardwareSpecs": false,
    "memoryGiB": 16,
    "name": "ml.t3.xlarge",
    "vcpuNum": 4
   },
   {
    "_defaultOrder": 3,
    "_isFastLaunch": false,
    "category": "General purpose",
    "gpuNum": 0,
    "hideHardwareSpecs": false,
    "memoryGiB": 32,
    "name": "ml.t3.2xlarge",
    "vcpuNum": 8
   },
   {
    "_defaultOrder": 4,
    "_isFastLaunch": true,
    "category": "General purpose",
    "gpuNum": 0,
    "hideHardwareSpecs": false,
    "memoryGiB": 8,
    "name": "ml.m5.large",
    "vcpuNum": 2
   },
   {
    "_defaultOrder": 5,
    "_isFastLaunch": false,
    "category": "General purpose",
    "gpuNum": 0,
    "hideHardwareSpecs": false,
    "memoryGiB": 16,
    "name": "ml.m5.xlarge",
    "vcpuNum": 4
   },
   {
    "_defaultOrder": 6,
    "_isFastLaunch": false,
    "category": "General purpose",
    "gpuNum": 0,
    "hideHardwareSpecs": false,
    "memoryGiB": 32,
    "name": "ml.m5.2xlarge",
    "vcpuNum": 8
   },
   {
    "_defaultOrder": 7,
    "_isFastLaunch": false,
    "category": "General purpose",
    "gpuNum": 0,
    "hideHardwareSpecs": false,
    "memoryGiB": 64,
    "name": "ml.m5.4xlarge",
    "vcpuNum": 16
   },
   {
    "_defaultOrder": 8,
    "_isFastLaunch": false,
    "category": "General purpose",
    "gpuNum": 0,
    "hideHardwareSpecs": false,
    "memoryGiB": 128,
    "name": "ml.m5.8xlarge",
    "vcpuNum": 32
   },
   {
    "_defaultOrder": 9,
    "_isFastLaunch": false,
    "category": "General purpose",
    "gpuNum": 0,
    "hideHardwareSpecs": false,
    "memoryGiB": 192,
    "name": "ml.m5.12xlarge",
    "vcpuNum": 48
   },
   {
    "_defaultOrder": 10,
    "_isFastLaunch": false,
    "category": "General purpose",
    "gpuNum": 0,
    "hideHardwareSpecs": false,
    "memoryGiB": 256,
    "name": "ml.m5.16xlarge",
    "vcpuNum": 64
   },
   {
    "_defaultOrder": 11,
    "_isFastLaunch": false,
    "category": "General purpose",
    "gpuNum": 0,
    "hideHardwareSpecs": false,
    "memoryGiB": 384,
    "name": "ml.m5.24xlarge",
    "vcpuNum": 96
   },
   {
    "_defaultOrder": 12,
    "_isFastLaunch": false,
    "category": "General purpose",
    "gpuNum": 0,
    "hideHardwareSpecs": false,
    "memoryGiB": 8,
    "name": "ml.m5d.large",
    "vcpuNum": 2
   },
   {
    "_defaultOrder": 13,
    "_isFastLaunch": false,
    "category": "General purpose",
    "gpuNum": 0,
    "hideHardwareSpecs": false,
    "memoryGiB": 16,
    "name": "ml.m5d.xlarge",
    "vcpuNum": 4
   },
   {
    "_defaultOrder": 14,
    "_isFastLaunch": false,
    "category": "General purpose",
    "gpuNum": 0,
    "hideHardwareSpecs": false,
    "memoryGiB": 32,
    "name": "ml.m5d.2xlarge",
    "vcpuNum": 8
   },
   {
    "_defaultOrder": 15,
    "_isFastLaunch": false,
    "category": "General purpose",
    "gpuNum": 0,
    "hideHardwareSpecs": false,
    "memoryGiB": 64,
    "name": "ml.m5d.4xlarge",
    "vcpuNum": 16
   },
   {
    "_defaultOrder": 16,
    "_isFastLaunch": false,
    "category": "General purpose",
    "gpuNum": 0,
    "hideHardwareSpecs": false,
    "memoryGiB": 128,
    "name": "ml.m5d.8xlarge",
    "vcpuNum": 32
   },
   {
    "_defaultOrder": 17,
    "_isFastLaunch": false,
    "category": "General purpose",
    "gpuNum": 0,
    "hideHardwareSpecs": false,
    "memoryGiB": 192,
    "name": "ml.m5d.12xlarge",
    "vcpuNum": 48
   },
   {
    "_defaultOrder": 18,
    "_isFastLaunch": false,
    "category": "General purpose",
    "gpuNum": 0,
    "hideHardwareSpecs": false,
    "memoryGiB": 256,
    "name": "ml.m5d.16xlarge",
    "vcpuNum": 64
   },
   {
    "_defaultOrder": 19,
    "_isFastLaunch": false,
    "category": "General purpose",
    "gpuNum": 0,
    "hideHardwareSpecs": false,
    "memoryGiB": 384,
    "name": "ml.m5d.24xlarge",
    "vcpuNum": 96
   },
   {
    "_defaultOrder": 20,
    "_isFastLaunch": false,
    "category": "General purpose",
    "gpuNum": 0,
    "hideHardwareSpecs": true,
    "memoryGiB": 0,
    "name": "ml.geospatial.interactive",
    "supportedImageNames": [
     "sagemaker-geospatial-v1-0"
    ],
    "vcpuNum": 0
   },
   {
    "_defaultOrder": 21,
    "_isFastLaunch": true,
    "category": "Compute optimized",
    "gpuNum": 0,
    "hideHardwareSpecs": false,
    "memoryGiB": 4,
    "name": "ml.c5.large",
    "vcpuNum": 2
   },
   {
    "_defaultOrder": 22,
    "_isFastLaunch": false,
    "category": "Compute optimized",
    "gpuNum": 0,
    "hideHardwareSpecs": false,
    "memoryGiB": 8,
    "name": "ml.c5.xlarge",
    "vcpuNum": 4
   },
   {
    "_defaultOrder": 23,
    "_isFastLaunch": false,
    "category": "Compute optimized",
    "gpuNum": 0,
    "hideHardwareSpecs": false,
    "memoryGiB": 16,
    "name": "ml.c5.2xlarge",
    "vcpuNum": 8
   },
   {
    "_defaultOrder": 24,
    "_isFastLaunch": false,
    "category": "Compute optimized",
    "gpuNum": 0,
    "hideHardwareSpecs": false,
    "memoryGiB": 32,
    "name": "ml.c5.4xlarge",
    "vcpuNum": 16
   },
   {
    "_defaultOrder": 25,
    "_isFastLaunch": false,
    "category": "Compute optimized",
    "gpuNum": 0,
    "hideHardwareSpecs": false,
    "memoryGiB": 72,
    "name": "ml.c5.9xlarge",
    "vcpuNum": 36
   },
   {
    "_defaultOrder": 26,
    "_isFastLaunch": false,
    "category": "Compute optimized",
    "gpuNum": 0,
    "hideHardwareSpecs": false,
    "memoryGiB": 96,
    "name": "ml.c5.12xlarge",
    "vcpuNum": 48
   },
   {
    "_defaultOrder": 27,
    "_isFastLaunch": false,
    "category": "Compute optimized",
    "gpuNum": 0,
    "hideHardwareSpecs": false,
    "memoryGiB": 144,
    "name": "ml.c5.18xlarge",
    "vcpuNum": 72
   },
   {
    "_defaultOrder": 28,
    "_isFastLaunch": false,
    "category": "Compute optimized",
    "gpuNum": 0,
    "hideHardwareSpecs": false,
    "memoryGiB": 192,
    "name": "ml.c5.24xlarge",
    "vcpuNum": 96
   },
   {
    "_defaultOrder": 29,
    "_isFastLaunch": true,
    "category": "Accelerated computing",
    "gpuNum": 1,
    "hideHardwareSpecs": false,
    "memoryGiB": 16,
    "name": "ml.g4dn.xlarge",
    "vcpuNum": 4
   },
   {
    "_defaultOrder": 30,
    "_isFastLaunch": false,
    "category": "Accelerated computing",
    "gpuNum": 1,
    "hideHardwareSpecs": false,
    "memoryGiB": 32,
    "name": "ml.g4dn.2xlarge",
    "vcpuNum": 8
   },
   {
    "_defaultOrder": 31,
    "_isFastLaunch": false,
    "category": "Accelerated computing",
    "gpuNum": 1,
    "hideHardwareSpecs": false,
    "memoryGiB": 64,
    "name": "ml.g4dn.4xlarge",
    "vcpuNum": 16
   },
   {
    "_defaultOrder": 32,
    "_isFastLaunch": false,
    "category": "Accelerated computing",
    "gpuNum": 1,
    "hideHardwareSpecs": false,
    "memoryGiB": 128,
    "name": "ml.g4dn.8xlarge",
    "vcpuNum": 32
   },
   {
    "_defaultOrder": 33,
    "_isFastLaunch": false,
    "category": "Accelerated computing",
    "gpuNum": 4,
    "hideHardwareSpecs": false,
    "memoryGiB": 192,
    "name": "ml.g4dn.12xlarge",
    "vcpuNum": 48
   },
   {
    "_defaultOrder": 34,
    "_isFastLaunch": false,
    "category": "Accelerated computing",
    "gpuNum": 1,
    "hideHardwareSpecs": false,
    "memoryGiB": 256,
    "name": "ml.g4dn.16xlarge",
    "vcpuNum": 64
   },
   {
    "_defaultOrder": 35,
    "_isFastLaunch": false,
    "category": "Accelerated computing",
    "gpuNum": 1,
    "hideHardwareSpecs": false,
    "memoryGiB": 61,
    "name": "ml.p3.2xlarge",
    "vcpuNum": 8
   },
   {
    "_defaultOrder": 36,
    "_isFastLaunch": false,
    "category": "Accelerated computing",
    "gpuNum": 4,
    "hideHardwareSpecs": false,
    "memoryGiB": 244,
    "name": "ml.p3.8xlarge",
    "vcpuNum": 32
   },
   {
    "_defaultOrder": 37,
    "_isFastLaunch": false,
    "category": "Accelerated computing",
    "gpuNum": 8,
    "hideHardwareSpecs": false,
    "memoryGiB": 488,
    "name": "ml.p3.16xlarge",
    "vcpuNum": 64
   },
   {
    "_defaultOrder": 38,
    "_isFastLaunch": false,
    "category": "Accelerated computing",
    "gpuNum": 8,
    "hideHardwareSpecs": false,
    "memoryGiB": 768,
    "name": "ml.p3dn.24xlarge",
    "vcpuNum": 96
   },
   {
    "_defaultOrder": 39,
    "_isFastLaunch": false,
    "category": "Memory Optimized",
    "gpuNum": 0,
    "hideHardwareSpecs": false,
    "memoryGiB": 16,
    "name": "ml.r5.large",
    "vcpuNum": 2
   },
   {
    "_defaultOrder": 40,
    "_isFastLaunch": false,
    "category": "Memory Optimized",
    "gpuNum": 0,
    "hideHardwareSpecs": false,
    "memoryGiB": 32,
    "name": "ml.r5.xlarge",
    "vcpuNum": 4
   },
   {
    "_defaultOrder": 41,
    "_isFastLaunch": false,
    "category": "Memory Optimized",
    "gpuNum": 0,
    "hideHardwareSpecs": false,
    "memoryGiB": 64,
    "name": "ml.r5.2xlarge",
    "vcpuNum": 8
   },
   {
    "_defaultOrder": 42,
    "_isFastLaunch": false,
    "category": "Memory Optimized",
    "gpuNum": 0,
    "hideHardwareSpecs": false,
    "memoryGiB": 128,
    "name": "ml.r5.4xlarge",
    "vcpuNum": 16
   },
   {
    "_defaultOrder": 43,
    "_isFastLaunch": false,
    "category": "Memory Optimized",
    "gpuNum": 0,
    "hideHardwareSpecs": false,
    "memoryGiB": 256,
    "name": "ml.r5.8xlarge",
    "vcpuNum": 32
   },
   {
    "_defaultOrder": 44,
    "_isFastLaunch": false,
    "category": "Memory Optimized",
    "gpuNum": 0,
    "hideHardwareSpecs": false,
    "memoryGiB": 384,
    "name": "ml.r5.12xlarge",
    "vcpuNum": 48
   },
   {
    "_defaultOrder": 45,
    "_isFastLaunch": false,
    "category": "Memory Optimized",
    "gpuNum": 0,
    "hideHardwareSpecs": false,
    "memoryGiB": 512,
    "name": "ml.r5.16xlarge",
    "vcpuNum": 64
   },
   {
    "_defaultOrder": 46,
    "_isFastLaunch": false,
    "category": "Memory Optimized",
    "gpuNum": 0,
    "hideHardwareSpecs": false,
    "memoryGiB": 768,
    "name": "ml.r5.24xlarge",
    "vcpuNum": 96
   },
   {
    "_defaultOrder": 47,
    "_isFastLaunch": false,
    "category": "Accelerated computing",
    "gpuNum": 1,
    "hideHardwareSpecs": false,
    "memoryGiB": 16,
    "name": "ml.g5.xlarge",
    "vcpuNum": 4
   },
   {
    "_defaultOrder": 48,
    "_isFastLaunch": false,
    "category": "Accelerated computing",
    "gpuNum": 1,
    "hideHardwareSpecs": false,
    "memoryGiB": 32,
    "name": "ml.g5.2xlarge",
    "vcpuNum": 8
   },
   {
    "_defaultOrder": 49,
    "_isFastLaunch": false,
    "category": "Accelerated computing",
    "gpuNum": 1,
    "hideHardwareSpecs": false,
    "memoryGiB": 64,
    "name": "ml.g5.4xlarge",
    "vcpuNum": 16
   },
   {
    "_defaultOrder": 50,
    "_isFastLaunch": false,
    "category": "Accelerated computing",
    "gpuNum": 1,
    "hideHardwareSpecs": false,
    "memoryGiB": 128,
    "name": "ml.g5.8xlarge",
    "vcpuNum": 32
   },
   {
    "_defaultOrder": 51,
    "_isFastLaunch": false,
    "category": "Accelerated computing",
    "gpuNum": 1,
    "hideHardwareSpecs": false,
    "memoryGiB": 256,
    "name": "ml.g5.16xlarge",
    "vcpuNum": 64
   },
   {
    "_defaultOrder": 52,
    "_isFastLaunch": false,
    "category": "Accelerated computing",
    "gpuNum": 4,
    "hideHardwareSpecs": false,
    "memoryGiB": 192,
    "name": "ml.g5.12xlarge",
    "vcpuNum": 48
   },
   {
    "_defaultOrder": 53,
    "_isFastLaunch": false,
    "category": "Accelerated computing",
    "gpuNum": 4,
    "hideHardwareSpecs": false,
    "memoryGiB": 384,
    "name": "ml.g5.24xlarge",
    "vcpuNum": 96
   },
   {
    "_defaultOrder": 54,
    "_isFastLaunch": false,
    "category": "Accelerated computing",
    "gpuNum": 8,
    "hideHardwareSpecs": false,
    "memoryGiB": 768,
    "name": "ml.g5.48xlarge",
    "vcpuNum": 192
   },
   {
    "_defaultOrder": 55,
    "_isFastLaunch": false,
    "category": "Accelerated computing",
    "gpuNum": 8,
    "hideHardwareSpecs": false,
    "memoryGiB": 1152,
    "name": "ml.p4d.24xlarge",
    "vcpuNum": 96
   },
   {
    "_defaultOrder": 56,
    "_isFastLaunch": false,
    "category": "Accelerated computing",
    "gpuNum": 8,
    "hideHardwareSpecs": false,
    "memoryGiB": 1152,
    "name": "ml.p4de.24xlarge",
    "vcpuNum": 96
   }
  ],
  "instance_type": "ml.t3.medium",
  "kernelspec": {
   "display_name": "Python 3 (Data Science 3.0)",
   "language": "python",
   "name": "python3__SAGEMAKER_INTERNAL__arn:aws:sagemaker:us-east-1:081325390199:image/sagemaker-data-science-310-v1"
  },
  "language_info": {
   "codemirror_mode": {
    "name": "ipython",
    "version": 3
   },
   "file_extension": ".py",
   "mimetype": "text/x-python",
   "name": "python",
   "nbconvert_exporter": "python",
   "pygments_lexer": "ipython3",
   "version": "3.10.6"
  }
 },
 "nbformat": 4,
 "nbformat_minor": 5
}
