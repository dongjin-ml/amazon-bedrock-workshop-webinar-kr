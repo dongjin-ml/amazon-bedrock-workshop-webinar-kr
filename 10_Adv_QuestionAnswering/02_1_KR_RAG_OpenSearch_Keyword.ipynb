{
 "cells": [
  {
   "cell_type": "markdown",
   "id": "fb017ab4-a16a-4c67-b875-a29eed6aa5bd",
   "metadata": {
    "tags": []
   },
   "source": [
    "# OpenSearch 한글 형태소 분석기 통한 키워드 검색 \n",
    ">이 노트북은 SageMaker Studio* Data Science 3.0 kernel 및 ml.t3.medium 인스턴스에서 테스트 되었습니다.\n",
    "\n",
    "\n",
    "\n",
    "여기서는 OpenSearch 가 설치된 것을 가정하고, 한글 형태소 분석기의 사용하는 법을 알려 드립니다.\n",
    "\n",
    "---\n",
    "\n",
    "### [중요]\n",
    "- 이 노트북은 Bedrock Titan Embedding Model 을 기본으로 사용합니다. KoSIMCSERoberta 를 세이지 메이커 엔드포인트로 사용하신다면 아래의 선수 조건을 확인하세요.\n",
    "\n",
    "#### 선수조건 (KoSIMCSERoberta 사용시)\n",
    "- 임베딩 모델의 세이지 메이커 엔드포인트가 액티브 된 상태를 가정 합니다.\n",
    "    - 세이지 메이커 엔드포인트에 배포하기 위해서는 아래 노트북을 실행하시고, Endpoint Name 만을 복사 하시면 됩니다.\n",
    "    - [KoSIMCSERoberta Embedding Model 배포](https://github.com/gonsoomoon-ml/Kor-LLM-On-SageMaker/blob/main/1-Lab01-Deploy-LLM/4.Kor-Embedding-Model.ipynb)\n",
    "    - SageMaker Endpoint 에 대해서는 공식 개발자 문서를 참조하세요 --> [Create your endpoint and deploy your model](https://docs.aws.amazon.com/sagemaker/latest/dg/realtime-endpoints-deployment.html)\n",
    "- 오픈 서치 서비스가 액티브 된 상태를 가정 합니다.\n",
    "\n",
    "\n",
    "---\n",
    "## Ref: \n",
    "- [Amazon OpenSearch Service로 검색 구현하기](https://catalog.us-east-1.prod.workshops.aws/workshops/de4e38cb-a0d9-4ffe-a777-bf00d498fa49/ko-KR/indexing/blog-reindex)\n",
    "- [OpenSearch Python Client](https://opensearch.org/docs/1.3/clients/python-high-level/)\n",
    "- [OpenSearch Match, Multi-Match, and Match Phrase Queries](https://opster.com/guides/opensearch/opensearch-search-apis/opensearch-match-multi-match-and-match-phrase-queries/)\n",
    "- OpenSearch Query 에서 Filter, Must, Should, Not Mush 에 대한 설명 입니다.\n",
    "    - [OpenSearch Boolean Queries](https://opster.com/guides/opensearch/opensearch-search-apis/opensearch-boolean-queries/#:~:text=Boolean%20queries%20are%20used%20to,as%20terms%2C%20match%20and%20query_string.)\n",
    "- [OpenSearch Query Description (한글)](https://esbook.kimjmin.net/05-search)\n"
   ]
  },
  {
   "cell_type": "markdown",
   "id": "8a2f9c19-c43c-435c-944d-77984b54a6d8",
   "metadata": {},
   "source": [
    "# 1. 환경 세팅"
   ]
  },
  {
   "cell_type": "code",
   "execution_count": 6,
   "id": "787df0f0-7fd9-47ca-a0c3-91b3037d6a10",
   "metadata": {
    "tags": []
   },
   "outputs": [],
   "source": [
    "%load_ext autoreload\n",
    "%autoreload 2\n",
    "\n",
    "import sys, os\n",
    "module_path = \"..\"\n",
    "sys.path.append(os.path.abspath(module_path))"
   ]
  },
  {
   "cell_type": "markdown",
   "id": "950cf3b9-26a3-4096-a6e4-4b9a39d2e82f",
   "metadata": {
    "tags": []
   },
   "source": [
    "## Bedrock Client 생성\n",
    "### 선수 지식\n",
    "아래의 노트북을 먼저 실행해서, Bedrock 에 접근 가능하게 합니다.\n",
    "- amazon-bedrock-workshop-webinar-kr/00_Setup/setup.ipynb"
   ]
  },
  {
   "cell_type": "code",
   "execution_count": 7,
   "id": "ee268417-f4cf-448f-be1f-aae7f9a81c6c",
   "metadata": {
    "tags": []
   },
   "outputs": [
    {
     "name": "stdout",
     "output_type": "stream",
     "text": [
      "Create new client\n",
      "  Using region: None\n",
      "  Using profile: None\n",
      "boto3 Bedrock client successfully created!\n",
      "bedrock-runtime(https://bedrock-runtime.us-east-1.amazonaws.com)\n",
      "\u001b[32m\n",
      "== FM lists ==\u001b[0m\n",
      "{'Claude-Instant-V1': 'anthropic.claude-instant-v1',\n",
      " 'Claude-V1': 'anthropic.claude-v1',\n",
      " 'Claude-V2': 'anthropic.claude-v2',\n",
      " 'Command': 'cohere.command-text-v14',\n",
      " 'Jurassic-2-Mid': 'ai21.j2-mid-v1',\n",
      " 'Jurassic-2-Ultra': 'ai21.j2-ultra-v1',\n",
      " 'Titan-Embeddings-G1': 'amazon.titan-embed-text-v1',\n",
      " 'Titan-Text-G1': 'TBD'}\n"
     ]
    }
   ],
   "source": [
    "import json\n",
    "import boto3\n",
    "from pprint import pprint\n",
    "from termcolor import colored\n",
    "from utils import bedrock, print_ww\n",
    "from utils.bedrock import bedrock_info\n",
    "\n",
    "# ---- ⚠️ Un-comment and edit the below lines as needed for your AWS setup ⚠️ ----\n",
    "\n",
    "# os.environ[\"AWS_DEFAULT_REGION\"] = \"<REGION_NAME>\"  # E.g. \"us-east-1\"\n",
    "# os.environ[\"AWS_PROFILE\"] = \"<YOUR_PROFILE>\"\n",
    "# os.environ[\"BEDROCK_ASSUME_ROLE\"] = \"<YOUR_ROLE_ARN>\"  # E.g. \"arn:aws:...\"\n",
    "# os.environ[\"BEDROCK_ENDPOINT_URL\"] = \"<YOUR_ENDPOINT_URL>\"  # E.g. \"https://...\"\n",
    "\n",
    "\n",
    "boto3_bedrock = bedrock.get_bedrock_client(\n",
    "    assumed_role=os.environ.get(\"BEDROCK_ASSUME_ROLE\", None),\n",
    "    endpoint_url=os.environ.get(\"BEDROCK_ENDPOINT_URL\", None),\n",
    "    region=os.environ.get(\"AWS_DEFAULT_REGION\", None),\n",
    ")\n",
    "\n",
    "print (colored(\"\\n== FM lists ==\", \"green\"))\n",
    "pprint (bedrock_info.get_list_fm_models())"
   ]
  },
  {
   "cell_type": "markdown",
   "id": "16b9ad47-56b6-427d-84a6-4e792bf4f6f9",
   "metadata": {},
   "source": [
    "## Embedding 모델 선택"
   ]
  },
  {
   "cell_type": "code",
   "execution_count": 8,
   "id": "85910ba4-1eb0-4b38-8d46-aa8a3da3cd60",
   "metadata": {
    "tags": []
   },
   "outputs": [],
   "source": [
    "from utils.rag import get_embedding_model\n",
    "from utils.rag import KoSimCSERobertaContentHandler, SagemakerEndpointEmbeddingsJumpStart"
   ]
  },
  {
   "cell_type": "code",
   "execution_count": 9,
   "id": "65afde2a-097b-4a00-82e4-e7bab6e2a4d1",
   "metadata": {
    "tags": []
   },
   "outputs": [],
   "source": [
    "def get_embedding_model(is_bedrock_embeddings, is_KoSimCSERobert, aws_region, endpont_name=None):\n",
    "    if is_bedrock_embeddings:\n",
    "\n",
    "        # We will be using the Titan Embeddings Model to generate our Embeddings.\n",
    "        from langchain.embeddings import BedrockEmbeddings\n",
    "\n",
    "        llm_emb = BedrockEmbeddings(\n",
    "            client=boto3_bedrock,\n",
    "            model_id=bedrock_info.get_model_id(\n",
    "                model_name=\"Titan-Embeddings-G1\"\n",
    "            )\n",
    "        )\n",
    "        print(\"Bedrock Embeddings Model Loaded\")\n",
    "        \n",
    "    elif is_KoSimCSERobert:\n",
    "        LLMEmbHandler = KoSimCSERobertaContentHandler()\n",
    "        endpoint_name_emb = endpont_name\n",
    "        llm_emb = SagemakerEndpointEmbeddingsJumpStart(\n",
    "            endpoint_name=endpoint_name_emb,\n",
    "            region_name=aws_region,\n",
    "            content_handler=LLMEmbHandler,\n",
    "        )        \n",
    "        print(\"KoSimCSERobert Embeddings Model Loaded\")\n",
    "    else:\n",
    "        llm_emb = None\n",
    "        print(\"No Embedding Model Selected\")\n",
    "    \n",
    "    return llm_emb"
   ]
  },
  {
   "cell_type": "markdown",
   "id": "1fe62c38-4b50-48ef-96de-3690361551de",
   "metadata": {},
   "source": [
    "#### [중요] is_KoSimCSERobert == True 경우,  endpoint_name 을 꼭 넣어 주세요."
   ]
  },
  {
   "cell_type": "code",
   "execution_count": 10,
   "id": "b29f58a6-a230-4aa9-994d-0a6343f72fcb",
   "metadata": {
    "tags": []
   },
   "outputs": [
    {
     "name": "stdout",
     "output_type": "stream",
     "text": [
      "Bedrock Embeddings Model Loaded\n"
     ]
    }
   ],
   "source": [
    "is_bedrock_embeddings = True\n",
    "is_KoSimCSERobert = False\n",
    "\n",
    "aws_region = os.environ.get(\"AWS_DEFAULT_REGION\", None)\n",
    "\n",
    "##############################\n",
    "# Parameters for is_KoSimCSERobert\n",
    "##############################\n",
    "if is_KoSimCSERobert: endpont_name = \"<endpoint-name>\"\n",
    "else: endpont_name = None\n",
    "##############################\n",
    "\n",
    "llm_emb = get_embedding_model(is_bedrock_embeddings, is_KoSimCSERobert, aws_region, endpont_name)    "
   ]
  },
  {
   "cell_type": "markdown",
   "id": "42c31989-edcd-42f9-aabb-2a3d17b3e8a2",
   "metadata": {},
   "source": [
    "# 2. 데이터 준비\n"
   ]
  },
  {
   "cell_type": "markdown",
   "id": "9296a37c-9f68-4a56-b8f6-9311dedc03cd",
   "metadata": {},
   "source": [
    "##  신한은행 FAQ 데이터 세트로 구현\n",
    "- [중요] 저자 및 동료가 아래의 웹사이트에서 크로링한 기준으로 구성 하였습니다.\n",
    "- 인터넷뱅킹 FAQ > 스마트뱅킹 No.1 ~ N. 89 로 구성되었습니다. \n",
    "- https://www.shinhan.com/hpe/index.jsp#050101020000"
   ]
  },
  {
   "cell_type": "code",
   "execution_count": 11,
   "id": "a16fe948-266d-41ca-bf71-cdf815e4ee15",
   "metadata": {
    "tags": []
   },
   "outputs": [
    {
     "data": {
      "text/html": [
       "<div>\n",
       "<style scoped>\n",
       "    .dataframe tbody tr th:only-of-type {\n",
       "        vertical-align: middle;\n",
       "    }\n",
       "\n",
       "    .dataframe tbody tr th {\n",
       "        vertical-align: top;\n",
       "    }\n",
       "\n",
       "    .dataframe thead th {\n",
       "        text-align: right;\n",
       "    }\n",
       "</style>\n",
       "<table border=\"1\" class=\"dataframe\">\n",
       "  <thead>\n",
       "    <tr style=\"text-align: right;\">\n",
       "      <th></th>\n",
       "      <th>no</th>\n",
       "      <th>Category</th>\n",
       "      <th>Information</th>\n",
       "      <th>type</th>\n",
       "      <th>Source</th>\n",
       "    </tr>\n",
       "  </thead>\n",
       "  <tbody>\n",
       "    <tr>\n",
       "      <th>0</th>\n",
       "      <td>91</td>\n",
       "      <td>아마존 은행의 타기관OTP 이용등록방법 알려주세요</td>\n",
       "      <td>아마존 은행의 타기관에서 발급받으신 OTP가 통합OTP카드인 경우 당행에 등록하여 ...</td>\n",
       "      <td>인터넷뱅킹</td>\n",
       "      <td>아마존은행</td>\n",
       "    </tr>\n",
       "    <tr>\n",
       "      <th>1</th>\n",
       "      <td>90</td>\n",
       "      <td>아마존 공동인증서와 금융인증서 차이점이 무엇인가요?</td>\n",
       "      <td>공동인증서 (구 공인인증서)는 용도에 따라 은행/신용카드/보험용 무료 인증서와 전자...</td>\n",
       "      <td>인증서</td>\n",
       "      <td>아마존은행</td>\n",
       "    </tr>\n",
       "    <tr>\n",
       "      <th>2</th>\n",
       "      <td>88</td>\n",
       "      <td>공동인증서와 금융인증서 차이점이 무엇인가요?</td>\n",
       "      <td>공동인증서 (구 공인인증서)는 용도에 따라 은행/신용카드/보험용 무료 인증서와 전자...</td>\n",
       "      <td>인증서</td>\n",
       "      <td>신한은행</td>\n",
       "    </tr>\n",
       "    <tr>\n",
       "      <th>3</th>\n",
       "      <td>89</td>\n",
       "      <td>타기관OTP 이용등록방법 알려주세요</td>\n",
       "      <td>타기관에서 발급받으신 OTP가 통합OTP카드인 경우 당행에 등록하여 이용가능합니다....</td>\n",
       "      <td>인터넷뱅킹</td>\n",
       "      <td>신한은행</td>\n",
       "    </tr>\n",
       "    <tr>\n",
       "      <th>4</th>\n",
       "      <td>88</td>\n",
       "      <td>공동인증서와 금융인증서 차이점이 무엇인가요?</td>\n",
       "      <td>공동인증서 (구 공인인증서)는 용도에 따라 은행/신용카드/보험용 무료 인증서와 전자...</td>\n",
       "      <td>인증서</td>\n",
       "      <td>신한은행</td>\n",
       "    </tr>\n",
       "    <tr>\n",
       "      <th>...</th>\n",
       "      <td>...</td>\n",
       "      <td>...</td>\n",
       "      <td>...</td>\n",
       "      <td>...</td>\n",
       "      <td>...</td>\n",
       "    </tr>\n",
       "    <tr>\n",
       "      <th>87</th>\n",
       "      <td>5</td>\n",
       "      <td>인터넷에서 이체한 거래의 상세내역 및 영수증을 인쇄하고 싶어요</td>\n",
       "      <td>인터넷상에서 이체한 거래의 경우 인터넷상에서 제공하는 영수증은 없으며, 거래의 참고...</td>\n",
       "      <td>인터넷뱅킹</td>\n",
       "      <td>신한은행</td>\n",
       "    </tr>\n",
       "    <tr>\n",
       "      <th>88</th>\n",
       "      <td>4</td>\n",
       "      <td>타행으로 자동이체를 신청하고 싶은데요</td>\n",
       "      <td>인터넷뱅킹을 통한 타은행 계좌로의 자동이체(납부자 자동이체)신청이 가능하며 수수료는...</td>\n",
       "      <td>인터넷뱅킹</td>\n",
       "      <td>신한은행</td>\n",
       "    </tr>\n",
       "    <tr>\n",
       "      <th>89</th>\n",
       "      <td>3</td>\n",
       "      <td>공과금 자동이체 신청이 가능한가요?</td>\n",
       "      <td>인터넷뱅킹에 로그인하신 후 \"공과금/법원 &gt; 공과금센터\" 페이지에 가시면 \"지로자동...</td>\n",
       "      <td>인터넷뱅킹</td>\n",
       "      <td>신한은행</td>\n",
       "    </tr>\n",
       "    <tr>\n",
       "      <th>90</th>\n",
       "      <td>2</td>\n",
       "      <td>인터넷뱅킹 거래에 대한 책임 범위를 알고싶습니다.</td>\n",
       "      <td>기본적으로 은행이 인터넷뱅킹 사고에 대한 책임을 집니다. 해커의 침입에 의해 자금이...</td>\n",
       "      <td>인터넷뱅킹</td>\n",
       "      <td>신한은행</td>\n",
       "    </tr>\n",
       "    <tr>\n",
       "      <th>91</th>\n",
       "      <td>1</td>\n",
       "      <td>인터넷뱅킹을 이용하려면 어떻게 해야 합니까?</td>\n",
       "      <td>영업점에 방문하지 않아도, 모바일에서 신한 쏠 (SOL) 어플 다운로드후 회원가입하...</td>\n",
       "      <td>인터넷뱅킹</td>\n",
       "      <td>신한은행</td>\n",
       "    </tr>\n",
       "  </tbody>\n",
       "</table>\n",
       "<p>92 rows × 5 columns</p>\n",
       "</div>"
      ],
      "text/plain": [
       "    no                            Category  \\\n",
       "0   91         아마존 은행의 타기관OTP 이용등록방법 알려주세요   \n",
       "1   90        아마존 공동인증서와 금융인증서 차이점이 무엇인가요?   \n",
       "2   88            공동인증서와 금융인증서 차이점이 무엇인가요?   \n",
       "3   89                 타기관OTP 이용등록방법 알려주세요   \n",
       "4   88            공동인증서와 금융인증서 차이점이 무엇인가요?   \n",
       "..  ..                                 ...   \n",
       "87   5  인터넷에서 이체한 거래의 상세내역 및 영수증을 인쇄하고 싶어요   \n",
       "88   4                타행으로 자동이체를 신청하고 싶은데요   \n",
       "89   3                 공과금 자동이체 신청이 가능한가요?   \n",
       "90   2         인터넷뱅킹 거래에 대한 책임 범위를 알고싶습니다.   \n",
       "91   1            인터넷뱅킹을 이용하려면 어떻게 해야 합니까?   \n",
       "\n",
       "                                          Information   type Source  \n",
       "0   아마존 은행의 타기관에서 발급받으신 OTP가 통합OTP카드인 경우 당행에 등록하여 ...  인터넷뱅킹  아마존은행  \n",
       "1   공동인증서 (구 공인인증서)는 용도에 따라 은행/신용카드/보험용 무료 인증서와 전자...    인증서  아마존은행  \n",
       "2   공동인증서 (구 공인인증서)는 용도에 따라 은행/신용카드/보험용 무료 인증서와 전자...    인증서   신한은행  \n",
       "3   타기관에서 발급받으신 OTP가 통합OTP카드인 경우 당행에 등록하여 이용가능합니다....  인터넷뱅킹   신한은행  \n",
       "4   공동인증서 (구 공인인증서)는 용도에 따라 은행/신용카드/보험용 무료 인증서와 전자...    인증서   신한은행  \n",
       "..                                                ...    ...    ...  \n",
       "87  인터넷상에서 이체한 거래의 경우 인터넷상에서 제공하는 영수증은 없으며, 거래의 참고...  인터넷뱅킹   신한은행  \n",
       "88  인터넷뱅킹을 통한 타은행 계좌로의 자동이체(납부자 자동이체)신청이 가능하며 수수료는...  인터넷뱅킹   신한은행  \n",
       "89  인터넷뱅킹에 로그인하신 후 \"공과금/법원 > 공과금센터\" 페이지에 가시면 \"지로자동...  인터넷뱅킹   신한은행  \n",
       "90  기본적으로 은행이 인터넷뱅킹 사고에 대한 책임을 집니다. 해커의 침입에 의해 자금이...  인터넷뱅킹   신한은행  \n",
       "91  영업점에 방문하지 않아도, 모바일에서 신한 쏠 (SOL) 어플 다운로드후 회원가입하...  인터넷뱅킹   신한은행  \n",
       "\n",
       "[92 rows x 5 columns]"
      ]
     },
     "execution_count": 11,
     "metadata": {},
     "output_type": "execute_result"
    }
   ],
   "source": [
    "import pandas as pd\n",
    "pd.options.display.max_rows = 20\n",
    "\n",
    "data_file_path = \"data/fsi_smart_faq_ko.csv\"\n",
    "df = pd.read_csv(data_file_path)\n",
    "df"
   ]
  },
  {
   "cell_type": "markdown",
   "id": "da20c54a-17f4-4738-8273-f14d5c18313e",
   "metadata": {},
   "source": [
    "## 데이터 전처리\n",
    "- 여기서 no 는 제거 합니다. "
   ]
  },
  {
   "cell_type": "code",
   "execution_count": 12,
   "id": "bd8c678f-0cf2-408c-972f-2444fbbc1b8b",
   "metadata": {
    "tags": []
   },
   "outputs": [],
   "source": [
    "os.makedirs(\"data\", exist_ok=True)"
   ]
  },
  {
   "cell_type": "code",
   "execution_count": 13,
   "id": "0570717f-210c-4e36-88b6-b9cc02288341",
   "metadata": {
    "tags": []
   },
   "outputs": [
    {
     "data": {
      "text/html": [
       "<div>\n",
       "<style scoped>\n",
       "    .dataframe tbody tr th:only-of-type {\n",
       "        vertical-align: middle;\n",
       "    }\n",
       "\n",
       "    .dataframe tbody tr th {\n",
       "        vertical-align: top;\n",
       "    }\n",
       "\n",
       "    .dataframe thead th {\n",
       "        text-align: right;\n",
       "    }\n",
       "</style>\n",
       "<table border=\"1\" class=\"dataframe\">\n",
       "  <thead>\n",
       "    <tr style=\"text-align: right;\">\n",
       "      <th></th>\n",
       "      <th>ask</th>\n",
       "      <th>Information</th>\n",
       "      <th>type</th>\n",
       "      <th>Source</th>\n",
       "    </tr>\n",
       "  </thead>\n",
       "  <tbody>\n",
       "    <tr>\n",
       "      <th>0</th>\n",
       "      <td>아마존 은행의 타기관OTP 이용등록방법 알려주세요</td>\n",
       "      <td>아마존 은행의 타기관에서 발급받으신 OTP가 통합OTP카드인 경우 당행에 등록하여 ...</td>\n",
       "      <td>인터넷뱅킹</td>\n",
       "      <td>아마존은행</td>\n",
       "    </tr>\n",
       "    <tr>\n",
       "      <th>1</th>\n",
       "      <td>아마존 공동인증서와 금융인증서 차이점이 무엇인가요?</td>\n",
       "      <td>공동인증서 (구 공인인증서)는 용도에 따라 은행/신용카드/보험용 무료 인증서와 전자...</td>\n",
       "      <td>인증서</td>\n",
       "      <td>아마존은행</td>\n",
       "    </tr>\n",
       "    <tr>\n",
       "      <th>2</th>\n",
       "      <td>공동인증서와 금융인증서 차이점이 무엇인가요?</td>\n",
       "      <td>공동인증서 (구 공인인증서)는 용도에 따라 은행/신용카드/보험용 무료 인증서와 전자...</td>\n",
       "      <td>인증서</td>\n",
       "      <td>신한은행</td>\n",
       "    </tr>\n",
       "  </tbody>\n",
       "</table>\n",
       "</div>"
      ],
      "text/plain": [
       "                            ask  \\\n",
       "0   아마존 은행의 타기관OTP 이용등록방법 알려주세요   \n",
       "1  아마존 공동인증서와 금융인증서 차이점이 무엇인가요?   \n",
       "2      공동인증서와 금융인증서 차이점이 무엇인가요?   \n",
       "\n",
       "                                         Information   type Source  \n",
       "0  아마존 은행의 타기관에서 발급받으신 OTP가 통합OTP카드인 경우 당행에 등록하여 ...  인터넷뱅킹  아마존은행  \n",
       "1  공동인증서 (구 공인인증서)는 용도에 따라 은행/신용카드/보험용 무료 인증서와 전자...    인증서  아마존은행  \n",
       "2  공동인증서 (구 공인인증서)는 용도에 따라 은행/신용카드/보험용 무료 인증서와 전자...    인증서   신한은행  "
      ]
     },
     "execution_count": 13,
     "metadata": {},
     "output_type": "execute_result"
    }
   ],
   "source": [
    "def preprocess_data(df):\n",
    "\n",
    "    ldf = df.copy()\n",
    "    ldf.rename(columns={'Category': 'ask'}, inplace=True)\n",
    "    df_index = ldf.drop(['no'], axis=1)\n",
    "    df_index.to_csv(\"data/fsi_smart_faq_ko_preprocess.csv\", index=None)\n",
    "\n",
    "    return df_index\n",
    "\n",
    "pre_df = preprocess_data(df)\n",
    "pre_df.head(3)"
   ]
  },
  {
   "cell_type": "markdown",
   "id": "134174ab-3855-44d3-965d-a5699f435c31",
   "metadata": {},
   "source": [
    "### CSVLoader 로 문서 로딩"
   ]
  },
  {
   "cell_type": "code",
   "execution_count": 20,
   "id": "6a5bb5cf-4f89-428c-a492-5acf2ee5b5a1",
   "metadata": {
    "tags": []
   },
   "outputs": [],
   "source": [
    "from langchain.indexes import VectorstoreIndexCreator\n",
    "from langchain.vectorstores import FAISS\n",
    "from langchain.document_loaders.csv_loader import CSVLoader\n",
    "from langchain.text_splitter import CharacterTextSplitter, RecursiveCharacterTextSplitter, SpacyTextSplitter"
   ]
  },
  {
   "cell_type": "code",
   "execution_count": 21,
   "id": "9df46261-f945-4d0d-b271-b32f2ff7d55b",
   "metadata": {
    "tags": []
   },
   "outputs": [],
   "source": [
    "loader = CSVLoader(\n",
    "    file_path=\"data/fsi_smart_faq_ko_preprocess.csv\",\n",
    "    # csv_args={\n",
    "    #     \"delimiter\": \",\",\n",
    "    #     \"fieldnames\": [\"Category\", \"Information\", \"type\", \"Source\"],\n",
    "    # },    \n",
    "    source_column=\"Source\",\n",
    "    encoding=\"utf-8\"\n",
    ")\n",
    "import time\n",
    "documents_fsi = loader.load()\n"
   ]
  },
  {
   "cell_type": "markdown",
   "id": "b36b5803-7ae4-42c6-993a-eac29fa832ca",
   "metadata": {},
   "source": [
    "## 메타 데이터 생성\n",
    "- 기존 Category 컬럼을 ask 로 변경 합니다.\n",
    "- 컬럼의 type, source 는 metadata 로 생성하고, 내용에서는 삭제 합니다.\n",
    "- 타임스탬프 및 임베딩 모델의 엔드포인트 이름을 metadata 로 추가 합니다."
   ]
  },
  {
   "cell_type": "code",
   "execution_count": 22,
   "id": "70cd3c79-7863-4bef-9063-29ae51fcf58b",
   "metadata": {
    "tags": []
   },
   "outputs": [],
   "source": [
    "import time\n",
    "documents_fsi = loader.load()\n",
    "\n",
    "def create_metadata(docs):\n",
    "    # # add a custom metadata field, such as timestamp\n",
    "    for idx, doc in enumerate(docs):\n",
    "\n",
    "        #print (\"previous:\", doc)\n",
    "        # type 을 메타 데이타로 저장\n",
    "        stype = doc.page_content.split(\"type: \")[1].split(\"\\n\")[0]\n",
    "        split_content = doc.page_content.split(\"type: \")\n",
    "        content = split_content[0]        \n",
    "        metadata = split_content[1]                \n",
    "        doc.metadata['type'] = metadata.split(\"\\n\")[0]        \n",
    "        doc.page_content = content # metadata 제외하고 content 만 저장\n",
    "        doc.metadata['timestamp'] = time.time()\n",
    "\n",
    "create_metadata(documents_fsi)"
   ]
  },
  {
   "cell_type": "code",
   "execution_count": 23,
   "id": "aadffa45-1e54-4731-9124-775dbf4d8543",
   "metadata": {
    "tags": []
   },
   "outputs": [
    {
     "name": "stdout",
     "output_type": "stream",
     "text": [
      "92\n",
      "page_content='ask: 아마존 은행의 타기관OTP 이용등록방법 알려주세요\\nInformation: 아마존 은행의 타기관에서 발급받으신 OTP가 통합OTP카드인 경우 당행에 등록하여 이용가능합니다. \\r\\n[경로]\\r\\n- 인터넷뱅킹 로그인→ 사용자관리→인터넷뱅킹관리→OTP이용등록  \\r\\n- 아마존은행 쏠(SOL) 로그인→ 전체메뉴→설정/인증→ 이용중인 보안매체선택→   OTP이용등록\\r\\n \\r\\n ※ OTP이용등록후 재로그인을 하셔야 새로 등록된 보안매체가 적용됩니다.\\r\\n\\r\\n기타 궁금하신 내용은 아마존 은행 고객센터 1599-9999로 문의하여 주시기 바랍니다.\\n' metadata={'source': '아마존은행', 'row': 0, 'type': '인터넷뱅킹', 'timestamp': 1697030980.834936}\n"
     ]
    }
   ],
   "source": [
    "print (len(documents_fsi))\n",
    "print (documents_fsi[0])"
   ]
  },
  {
   "cell_type": "markdown",
   "id": "2f588fcf-3da7-4125-8c2b-c326b6c89850",
   "metadata": {
    "tags": []
   },
   "source": [
    "## Text Spliter 로 청킹\n",
    "참고: 검색된 문서/텍스트는 질문에 대답하기에 충분한 정보를 포함할 만큼 커야 합니다. 하지만 LLM 프롬프트에 들어갈 만큼 충분히 작습니다. <BR>\n",
    "또한 임베딩 모델에는 입력 토큰 길이는 KoSimCSERobert는 512개, titanEmbedding(8,912개) 토큰으로 제한되어 있습니다. <BR>\n",
    "이 사용 사례를 위해 [RecursiveCharacterTextSplitter](https://python.langchain.com/en/latest/modules/indexes/text_splitters/examples/recursive_text_splitter.html)를 사용하여 500자가 겹치는 약 92자의 청크를 생성합니다."
   ]
  },
  {
   "cell_type": "code",
   "execution_count": 24,
   "id": "337dc9e5-3c33-4234-9ac4-edfc3cbaf8eb",
   "metadata": {
    "tags": []
   },
   "outputs": [
    {
     "name": "stdout",
     "output_type": "stream",
     "text": [
      "Number of documents after split and chunking=92\n"
     ]
    }
   ],
   "source": [
    "if is_bedrock_embeddings:\n",
    "    chunk_size = 2048\n",
    "    chunk_overlap = 50\n",
    "elif is_KoSimCSERobert:\n",
    "    chunk_size = 800 # This is maxumum\n",
    "    chunk_overlap = 0\n",
    "\n",
    "\n",
    "text_splitter = RecursiveCharacterTextSplitter(\n",
    "    # Set a really small chunk size, just to show.\n",
    "    chunk_size = chunk_size,\n",
    "    chunk_overlap  = chunk_overlap,\n",
    "    separators=[\"\\n\\n\", \"\\n\", \".\", \" \", \"\"],\n",
    "    length_function = len,\n",
    ")\n",
    "\n",
    "docs = text_splitter.split_documents(documents_fsi)\n",
    "print(f\"Number of documents after split and chunking={len(docs)}\")"
   ]
  },
  {
   "cell_type": "code",
   "execution_count": 27,
   "id": "07552306-df9c-4f2e-b6fb-b9c487e9a71e",
   "metadata": {
    "tags": []
   },
   "outputs": [
    {
     "data": {
      "text/plain": [
       "[Document(page_content='ask: 아마존 은행의 타기관OTP 이용등록방법 알려주세요\\nInformation: 아마존 은행의 타기관에서 발급받으신 OTP가 통합OTP카드인 경우 당행에 등록하여 이용가능합니다. \\r\\n\\n\\n[경로]\\r\\n- 인터넷뱅킹 로그인→ 사용자관리→인터넷뱅킹관리→OTP이용등록  \\r\\n- 아마존은행 쏠(SOL) 로그인→ 전체메뉴→설정/인증→ 이용중인 보안매체선택→   OTP이용등록\\r\\n \\r\\n ※ OTP이용등록후 재로그인을 하셔야 새로 등록된 보안매체가 적용됩니다.\\r\\n\\r\\n\\n\\n기타 궁금하신 내용은 아마존 은행 고객센터 1599-9999로 문의하여 주시기 바랍니다.', metadata={'source': '아마존은행', 'row': 0, 'type': '인터넷뱅킹', 'timestamp': 1697030980.834936}),\n",
       " Document(page_content='ask: 아마존 공동인증서와 금융인증서 차이점이 무엇인가요?\\nInformation: 공동인증서 (구 공인인증서)는 용도에 따라 은행/신용카드/보험용 무료 인증서와 전자거래범용(수수료 4,400원) 인증서가 있으며 유효기간은 1년입니다. \\r\\n\\n\\n아마존 공동인증서는 하드디스크나 이동식디스크, 휴대폰 등 원하시는 기기에 저장해서 이용할 수 있습니다.\\r\\n\\n\\n인증서를 저장한 매체에서는 인증서 비밀번호로 편리하게 이용할 수 있으나 다른 기기에서 이용하려면 기기마다 복사하거나 이동식디스크에 저장해서 휴대해야 하는 불편함이 있을 수 있습니다.\\r\\n\\r\\n\\n\\n아마존 금융인증서는 금융인증서는 금융결제원의 클라우드에 저장하여 이용하는 인증서로 발급/이용 시에 클라우드에 접속이 필요합니다.\\r\\n\\n\\n금융결제원 클라우드에 연결만 가능하다면 어디서든 편리하게 이용 가능하지만, PC나 USB, 휴대폰 등 다른 기기로 복사는 불가합니다.(유효기간 3년/발급 수수료 무료)\\r\\n※ 클라우드 계정 연결을 위해 휴대폰을 통한 ARS, SMS, 마이인포앱 인증 절차가 필요합니다.', metadata={'source': '아마존은행', 'row': 1, 'type': '인증서', 'timestamp': 1697030980.834942}),\n",
       " Document(page_content='ask: 공동인증서와 금융인증서 차이점이 무엇인가요?\\nInformation: 공동인증서 (구 공인인증서)는 용도에 따라 은행/신용카드/보험용 무료 인증서와 전자거래범용(수수료 4,400원) 인증서가 있으며 유효기간은 1년입니다. \\r\\n\\n\\n공동인증서는 하드디스크나 이동식디스크, 휴대폰 등 원하시는 기기에 저장해서 이용할 수 있습니다.\\r\\n\\n\\n인증서를 저장한 매체에서는 인증서 비밀번호로 편리하게 이용할 수 있으나 다른 기기에서 이용하려면 기기마다 복사하거나 이동식디스크에 저장해서 휴대해야 하는 불편함이 있을 수 있습니다.\\r\\n\\r\\n\\n\\n금융인증서는 금융인증서는 금융결제원의 클라우드에 저장하여 이용하는 인증서로 발급/이용 시에 클라우드에 접속이 필요합니다.\\r\\n\\n\\n금융결제원 클라우드에 연결만 가능하다면 어디서든 편리하게 이용 가능하지만, PC나 USB, 휴대폰 등 다른 기기로 복사는 불가합니다.(유효기간 3년/발급 수수료 무료)\\r\\n※ 클라우드 계정 연결을 위해 휴대폰을 통한 ARS, SMS, 마이인포앱 인증 절차가 필요합니다.', metadata={'source': '신한은행', 'row': 2, 'type': '인증서', 'timestamp': 1697030980.834947}),\n",
       " Document(page_content='ask: 타기관OTP 이용등록방법 알려주세요\\nInformation: 타기관에서 발급받으신 OTP가 통합OTP카드인 경우 당행에 등록하여 이용가능합니다. \\r\\n\\n\\n[경로]\\r\\n- 인터넷뱅킹 로그인→ 사용자관리→인터넷뱅킹관리→OTP이용등록  \\r\\n- 신한 쏠(SOL) 로그인→ 전체메뉴→설정/인증→ 이용중인 보안매체선택→   OTP이용등록\\r\\n \\r\\n ※ OTP이용등록후 재로그인을 하셔야 새로 등록된 보안매체가 적용됩니다.\\r\\n\\r\\n\\n\\n기타 궁금하신 내용은 신한은행 고객센터 1599-8000로 문의하여 주시기 바랍니다.', metadata={'source': '신한은행', 'row': 3, 'type': '인터넷뱅킹', 'timestamp': 1697030980.8349507}),\n",
       " Document(page_content='ask: 공동인증서와 금융인증서 차이점이 무엇인가요?\\nInformation: 공동인증서 (구 공인인증서)는 용도에 따라 은행/신용카드/보험용 무료 인증서와 전자거래범용(수수료 4,400원) 인증서가 있으며 유효기간은 1년입니다. \\r\\n\\n\\n공동인증서는 하드디스크나 이동식디스크, 휴대폰 등 원하시는 기기에 저장해서 이용할 수 있습니다.\\r\\n\\n\\n인증서를 저장한 매체에서는 인증서 비밀번호로 편리하게 이용할 수 있으나 다른 기기에서 이용하려면 기기마다 복사하거나 이동식디스크에 저장해서 휴대해야 하는 불편함이 있을 수 있습니다.\\r\\n\\r\\n\\n\\n금융인증서는 금융인증서는 금융결제원의 클라우드에 저장하여 이용하는 인증서로 발급/이용 시에 클라우드에 접속이 필요합니다.\\r\\n\\n\\n금융결제원 클라우드에 연결만 가능하다면 어디서든 편리하게 이용 가능하지만, PC나 USB, 휴대폰 등 다른 기기로 복사는 불가합니다.(유효기간 3년/발급 수수료 무료)\\r\\n※ 클라우드 계정 연결을 위해 휴대폰을 통한 ARS, SMS, 마이인포앱 인증 절차가 필요합니다.', metadata={'source': '신한은행', 'row': 4, 'type': '인증서', 'timestamp': 1697030980.8349543}),\n",
       " Document(page_content='ask: 금융인증서 해외에서 발급할 수 있나요?\\nInformation:\\n\\n해외에서도 인증서 발급 업무는 가능합니다.\\n\\n다만, 금융인증서 저장을 위한 금융결제원 클라우드 계정 생성 및 연결이 필요한 업무로 해외연락처를 통한 ARS인증이 진행됩니다.', metadata={'source': '신한은행', 'row': 5, 'type': '금융인증서', 'timestamp': 1697030980.8349576}),\n",
       " Document(page_content='ask: 클라우드에 보관 중인 인증서는 얼마나 유지 되나요?\\nInformation: 정상적으로 이용하실 경우 금융인증서의 유효기간은 3년이며, 1년 동안 클라우드 이용 이력이 없는 경우는 안전한 이용을 위하여 클라우드 계정 및 저장된 모든 인증서가 삭제됩니다.', metadata={'source': '신한은행', 'row': 6, 'type': '금융인증서', 'timestamp': 1697030980.8349607}),\n",
       " Document(page_content='ask: 금융인증서 발급대상은 누구인가요?\\nInformation: 금융인증서는 은행 등의 금융회사에서 실명 확인된 고객을 대상으로 안전하게 발급되며 신한은행 온라인서비스 가입 고객이면 발급가능합니다.\\n\\n다만 금융인증서는 PC하드디스크나 휴대폰 등에 파일형태로 저장하는 방식이 아닌 금융결제원의 클라우드에 저장되기 때문에 금융결제원의 클라우드 연결을 위해 문자, ARS, 마이인포 앱을 통한 인증 절차가 진행됩니다.', metadata={'source': '신한은행', 'row': 7, 'type': '금융인증서', 'timestamp': 1697030980.8349636}),\n",
       " Document(page_content='ask: 기존 공동인증서를 보유한 상태에서 금융인증서 발급이 가능한가요?\\nInformation:\\n\\n공동인증서와 금융인증서는 별개의 인증서로 두 가지 인증서를 모두 사용할 수 있습니다.', metadata={'source': '신한은행', 'row': 8, 'type': '금융인증서', 'timestamp': 1697030980.8349664}),\n",
       " Document(page_content='ask: 뱅크아이디란 무엇인가요?\\nInformation:\\n\\n뱅크아이디란, 블록체인기반의 은행권 공동인증서비스로 블록체인 원장을 분산하여 저장/관리함으로써 정보의 신뢰성과 안정성을 높이는 인증기술방식입니다.\\n\\n기존의 뱅크사인(BankSign)이  뱅크아이디(마이인포) 로 전환되었으며 별도의 앱 설치 없이 신한 쏠(SOL)에서 직접 신청 및 관리가 가능합니다.', metadata={'source': '신한은행', 'row': 9, 'type': '뱅크아이디', 'timestamp': 1697030980.8349693}),\n",
       " Document(page_content='ask: 휴대폰에서도 간편조회서비스 이용 가능한가요?\\n\\n\\nInformation: ID/PW 방식의 간편조회서비스 이용은 불가합니다.\\n\\n다만, 이용하시는 휴대폰의 모바일웹 브라우저를 통해 신한은행에 접속 시 회원가입 없이 휴대폰 본인인증과 본인계좌인증을 통해 계좌조회는 가능합니다. \\r\\n\\n\\n※ 모바일에서 홈페이지와 동일한 간편조회서비스 이용을 원하실 경우 신한은행 모바일웹 페이지에서 PC버전으로 접속하여 이용해 주시면 됩니다.', metadata={'source': '신한은행', 'row': 10, 'type': '간편서비스', 'timestamp': 1697030980.8349729}),\n",
       " Document(page_content='ask: 인터넷뱅킹에서 모바일OTP 인증요청 했는데 푸시메세지가 오지 않아요.\\n\\n어떻게 해야하나요?\\nInformation: 신한 쏠(SOL) 푸시알림 수신에 동의를 하신경우 푸시를 받을수 있습니다.\\n\\n경로 : 신한 쏠(SOL) 로그인 > 전체메뉴 > 설정/인증 \\xa0> 일반 > 알림 > 금융정보 알림 항목을\\xa0수신동의로 설정 기타 궁금하신 내용은 신한은행 고객센터 1599-8000로 문의하여 주시기 바랍니다.', metadata={'source': '신한은행', 'row': 11, 'type': '인터넷뱅킹', 'timestamp': 1697030980.834976}),\n",
       " Document(page_content='ask: 모바일 OTP 사용하고 있는데 인터넷뱅킹에서는 어떻게 이용하는건가요?\\n\\n\\nInformation: 인터넷뱅킹 거래시 보안매체 입력단계에 [인증요청] 버튼 클릭하면 핸드폰으로 푸시메세지가 전달됩니다. \\r\\n\\n\\n푸시메세지 터치하여 모바일 OTP 비밀번호 6자리 입력, 인증처리 완료후 인터넷뱅킹에서 이후의 절차를 진행하시면 됩니다.\\r\\n\\n\\n※ 스마트폰에 모바일 OTP 푸시(PUSH) 메세지가 오지 않는 경우 메뉴 직접 실행 \\r\\n- 신한 쏠(SOL) [로그인 하지 않음]> 전체메뉴> 설정/인증> 보안매체 전체보기> 모바일OTP> 인증\\r\\n기타 궁금하신 내용은 신한은행 고객센터 1599-8000로 문의하여 주시기 바랍니다.', metadata={'source': '신한은행', 'row': 12, 'type': '인터넷뱅킹', 'timestamp': 1697030980.8349795}),\n",
       " Document(page_content='ask: 증권사에서 발급받은 인증서는 은행에서 사용 불가한가요?\\nInformation:\\n\\n인증서 용도로 구분해 주셔야 합니다. \\r\\n\\n\\n증권용(무료) 인증서를 통한 은행 거래는 불가하나, 발급하신 인증서가 전자거래범용(유료) 인증서일 경우 은행에서도 이용 가능합니다.', metadata={'source': '신한은행', 'row': 13, 'type': '인증서', 'timestamp': 1697030980.8349824}),\n",
       " Document(page_content='ask: 미래를함께하는따뜻한금융 안전한금융거래를위해준비중입니다.\\n\\n\\' 화면에서 멈춤 / 로딩중 멈추는데 어떻게 하나요?\\nInformation: 오류 사유는 인터넷 익스플로러 설정값의 영향이거나 이용하시는 장소의 네트워크 영향에 의해 로딩이 원활하지 않은 경우입니다. \\r\\n\\n\\n조치방법은 \\r\\n1.\\n\\n임시 인터넷 파일 및 쿠키 삭제, 신뢰할 수 있는 사이트 추가 \\r\\n 인터넷 익스플로러 상단의 [도구] > [인터넷옵션]에서\\r\\n① [일반Tab] > 검색기록항목의 [삭제] 버튼 클릭 \"임시 인터넷 파일 및 사이트 파일\" , \"쿠키 및 웹사이트 데이터\" 항목만 체크하고 [삭제] \\r\\n② [보안Tab] > 신뢰할 수 있는 사이트 > [사이트] 클릭하여 [ https://*.shinhan.com ] 추가 후 적용 및 확인하십시오. \\r\\n \\n\\n또는, 당행 보안프로그램 삭제 열려있는 브라우저 종료 후, 시작 > 제어판의 [프로그램 추가/제거] (총 4개이며 보이지 않으면 제거할 필요없음) \\r\\n- AhnLab Safe Transaction, \\r\\n - iniLINE CrossEX Service, \\r\\n- INISAFE CrossWeb EX v3.0, \\r\\n-\\n\\nTouchEn nxKey with E2E for 32bit\\r\\n3.\\n\\n새 브라우저 열어서 개인인터넷뱅킹 재접속 후 [통합설치] 진행 하세요. \\r\\n\\n\\n기타 궁금하신 내용은 신한은행 고객센터 1599-8000로 문의하여 주시기 바랍니다.', metadata={'source': '신한은행', 'row': 14, 'type': '', 'timestamp': 1697030980.8349867}),\n",
       " Document(page_content='ask: 해외에서 예적금해지중 ARS 추가인증을 할 수 없어 해지를 할수 없습니다.\\n\\n어떻게 해야하나요?\\nInformation: 해외IP로 인터넷뱅킹접속시 시간에 따라 추가인증 방법이 상이합니다.\\n\\n(한국시간 기준)\\r\\n은행영업일 9시~18시 : 해외거주/체류자인증으로 추가인증\\xa0가능하며, 통신국가코드, 연락가능한 해외 전화번호 입력후 본인확인신청 요청하시면 상담사와 연결되어 본인확인후 인증처리 가능합니다. \\r\\n\\n\\n은행영업일 9시~18시 이외 : 당행에 등록된 연락처로 ARS 추가인증 진행합니다.', metadata={'source': '신한은행', 'row': 15, 'type': '인터넷뱅킹', 'timestamp': 1697030980.83499}),\n",
       " Document(page_content='ask: 해외체류중인 외국인으로 인증서발급시 추가인증을 할수 없는데 어떻게 해야하나요?\\nInformation:\\n\\n외국인이신 경우 당행 영문뱅킹에서 공동인증서 발급하시면 추가인증단계에서 추가인증 생략 선택 후 발급가능합니다.\\n\\n(단, 국내시간 기준으로 심야시간 0시~ 06시에는 추가인증 생략이 불가합니다.)\\r\\n\\n\\n[경로]\\r\\n① 신한은행 홈페이지 접속 → 우측상단 GLOBAL→ English → PERSONAL BANKING \\r\\n② Digital Certificate Center → Issue/reissue a digital certificate', metadata={'source': '신한은행', 'row': 16, 'type': '인터넷뱅킹', 'timestamp': 1697030980.8349934}),\n",
       " Document(page_content='ask: 해외IP 차단서비스 가입되어있다고 이체를 할수 없다고 나옵니다.\\n\\n어떻게 해야 하나요?\\n\\n\\nInformation: 해외IP 차단서비스에 가입되어 있는경우, 해외IP로 개인뱅킹 접속하여 보안매체 인증해야 하는 거래는 하실수 없도록 제한됩니다. \\r\\n\\n\\n해외IP 차단서비스 해제는 본인이 신분증 지참후 영업점 방문하셔야 해제 가능합니다. \\r\\n\\n\\n단.\\n\\n해외 체류중인 경우 출입국사실증명서를 보내주시면 고객센터에서도 해제가능하니 \\r\\n신한은행 고객상담센터 ☎ 82-2-3449-8000번으로 문의주시면 자세히 상담해드리겠습니다.', metadata={'source': '신한은행', 'row': 17, 'type': '인터넷뱅킹', 'timestamp': 1697030980.8349967}),\n",
       " Document(page_content='ask: 영문뱅킹에서도 간편조회서비스 이용가능한가요?\\nInformation: 영문뱅킹에서는 간편조회서비스 이용불가합니다.', metadata={'source': '신한은행', 'row': 18, 'type': '간편서비스', 'timestamp': 1697030980.8349996}),\n",
       " Document(page_content=\"ask: 아이핀으로 홈페이지회원 가입한 고객은 간편조회서비스 이용할 수 없나요?\\n\\n\\nInformation: 아이핀으로 홈페이지 회원가입하신 고객은 홈페이지에서 개인회원으로 전환 후 간편조회서비스 이용가능 합니다. \\r\\n\\n\\n홈페이지 이용자아이디와 비밀번호 로그인→ (우측상단) 고객센터→ 회원서비스 →[ I-Pin → 개인회원 전환]→ '보기' 클릭 후 약관동의→ 개인회원정보 등록→ 확인 \\r\\n기타 궁금하신 내용은 신한은행 고객센터 1599-8000로 문의하여 주시기 바랍니다.\", metadata={'source': '신한은행', 'row': 19, 'type': '간편서비스', 'timestamp': 1697030980.8350027}),\n",
       " Document(page_content='ask: 간편조회서비스는 회원가입해야만 이용할 수 있나요?\\nInformation:\\n\\n간편조회서비스에는 로그인을 위해 회원가입이 필요한 서비스와 회원가입 없이 누구나 이용 가능한 서비스가 있습니다.\\r\\n\\n\\n회원가입 및 로그인이 필요한 메뉴는\\r\\n① 계좌조회, ② 시효포기채권감면조회, ③ 대학등록금 납부하기(당행인터넷뱅킹가입자만 이용가능, 인증서 로그인필요), ④ 제로페이Biz 승인내역 조회 입니다. \\r\\n\\r\\n\\n\\n회원가입 없이 이용 가능한 메뉴는\\r\\n① 예금잔액증명서조회, ② 자기앞수표조회, ③ 환율조회,환가료율조회, ④ 여신증명서 발급사실 확인 , ⑤ 지급보증서조회, ⑥ 대학등록금 (납부조회.\\n\\n영수증DM신청,고지서출력 ), ⑦ 법원업무 (예약접수신청 , 예약접수조회 , 계좌환급조회 ,송달료조회), ⑧ 상조예치금 조회\\xa0 입니다.', metadata={'source': '신한은행', 'row': 20, 'type': '간편서비스', 'timestamp': 1697030980.8350062}),\n",
       " Document(page_content='ask: 홈페이지 이용자아이디 여러 개 사용할 수 있나요?\\nInformation: 홈페이지 이용자 아이디는 개인의 경우 1인 1개만 이용 가능하고 기업의 경우에는 1개의 사업자번호당 사용자별로 이용자아이디를 복수로 사용할 수 있습니다. \\r\\n※ 개인사업자의 경우 개인과 기업 각각 이용자아이디를 발급하여 복수로 이용 가능합니다. \\r\\n\\n\\n기타 궁금하신 내용은 신한은행 고객센터 1599-8000로 문의하여 주시기 바랍니다.', metadata={'source': '신한은행', 'row': 21, 'type': '홈페이지', 'timestamp': 1697030980.835009}),\n",
       " Document(page_content='ask: 홈페이지상에 제가 등록한 칭찬/불만/제안사항 조회할 수 있나요?\\nInformation:\\n\\n로그인 후 등록한 접수내용에 대해서\\xa0확인 가능합니다.\\r\\n\\n\\n[경로 안내] 홈페이지 로그인 → (우측상단) 고객센터 → 금융소비자보호 → [칭찬/불만/제안] 나의 접수현황/취소신청 \\r\\n※ 로그인 하지 않은 상태에서도 홈페이지에 칭찬/불만/제안 접수\\xa0가능하나\\r\\n추후, 본인 접수내용을 확인하려면 로그인해서 등록한 내용에 대해서만 [나의 접수현황]에서 조회 가능합니다.\\r\\n\\xa0\\n\\n기타 궁금하신 내용은 신한은행 고객센터 1599-8000로 문의하여 주시기 바랍니다.', metadata={'source': '신한은행', 'row': 22, 'type': '홈페이지', 'timestamp': 1697030980.8350124}),\n",
       " Document(page_content='ask: 영업점에서 인터넷뱅킹 가입하고 왔는데 홈페이지회원은 별도로 가입해야 하나요?\\n\\n\\nInformation: 인터넷뱅킹 가입과 홈페이지 회원은 개별로 운영되고 있습니다. \\r\\n\\n\\n인터넷뱅킹만 가입을 하셨다면 별도로 홈페이지에 회원가입 후 홈페이지 로그인이 가능합니다. \\r\\n\\n\\n※ 영업점에서 인터넷뱅킹 가입 시 전계좌조회서비스 가입하신 고객은 홈페이지 상에서 이용자비밀번호 등록 후 이용가능합니다. \\r\\n\\n\\n기타 궁금하신 내용은 신한은행 고객센터 1599-8000로 문의하여 주시기 바랍니다.', metadata={'source': '신한은행', 'row': 23, 'type': '홈페이지', 'timestamp': 1697030980.8350148}),\n",
       " Document(page_content='ask: 영업점에서 공동인증서 발급 가능한가요?\\n\\n\\nInformation: 본인이 방문하여 요청 시 공동인증서 창구발급서비스 이용이 가능합니다.\\n\\n\\\\r\\\\n단, 창구에서 발급신청을 하시더라도 인증서 저장은 고객님의 스마트폰에서 직접 진행해주셔야 합니다.\\n\\n\\\\r\\\\n\\\\r\\\\n신한 쏠(SOL)  접속   설정/인증  공동인증서  인증서창구발급  \\\\r\\\\n주민등록번호, 영업점에서 받은 6자리 인증번호 입력(30분 이내) 공동인증서 \\\\r\\\\n암호 입력(2회)  확인[유의사항]\\\\r\\\\n\\\\r\\\\n① 본인만  신청 가능하며 대리인 신청 불가② 타행에 은행/신용카드/보험용 인증서가 발급되어 있는 경우 신청 \\\\r\\\\n 불가 \\\\r\\\\n\\\\r\\\\n※ 영업점 창구에서 공동인증서 창구 발급 신청 시, 이전에 발급된 공동인증서는 자동 폐기 됩니다.', metadata={'source': '신한은행', 'row': 24, 'type': '', 'timestamp': 1697030980.8350184}),\n",
       " Document(page_content='ask: 영업점에 개명신청을 했는데 인증서는 예전이름이 그대로 보여요 인증서명 변경은 어떻게 하나요?\\nInformation:\\n\\n인증서 정보가 발급받은 저장매체(하드디스크, USB 등)에 파일형태로 저장되므로 은행을 방문하여 개명신청을 하셨더라도 PC에 저장된 인증서 파일의 정보는 자동으로 반영되지 않습니다.  \\n\\n인증서 만료 시까지는 기존 인증서를 그대로 사용하셔도 되고 개명된 이름으로 인증서명 변경을 원하실 경우 인증서를 재발급 받으면 변경된 이름으로 적용이 됩니다.', metadata={'source': '신한은행', 'row': 25, 'type': '인증서', 'timestamp': 1697030980.8350217}),\n",
       " Document(page_content='ask: 신한쏠로  인증서복사 어떻게 하나요?\\n\\n\\nInformation: 신한 쏠(SOL)에서 공동인증서를 이용하기 위해서는 인증서가 저장된 PC 또는 이동식디스크(USB)에 저장된 인증서를 스마트폰으로 복사한 후 이용 가능합니다.\\n\\n인증서 복사 시에는 반드시 인증서가 저장되어 있는 PC에서 진행하여야 하며, 사용할 스마트폰이 있어야 합니다.\\n\\n■ 인증서 PC → 스마트폰 복사방법1.\\n\\n신한은행 개인뱅킹 접속① 인증센터 > 공동인증서(구 공인인증서)② (화면 상단)스마트폰 인증서복사>PC → 스마트폰(어플)복사③ PC→스마트폰인증서복사 클릭④ (복사할 인증서 선택)인증서 암호입력>확인⑤ 인증번호 입력칸 확인2.\\n\\n신한 쏠(SOL) 접속① 초화면 우측 하단 메뉴>설정/인증>공동인증서② 인증서복사> PC → 휴대폰복사 ③ 인증번호 8자리 생성>생성된 번호 PC에 입력>확인④ 신한 쏠(SOL) [인증서 복사가 완료되었습니다] 확인※발급된 인증서가 없는 경우 인터넷뱅킹 또는 신한 쏠(SOL)에서 은행/신용카드/보험용 인증서 발급이 가능합니다.', metadata={'source': '신한은행', 'row': 26, 'type': '', 'timestamp': 1697030980.8350255}),\n",
       " Document(page_content='ask: 인터넷뱅킹 보안프로그램 - 해킹방지 솔루션 ASTx 기능 안내 해줘요\\nInformation: 인터넷뱅킹 이용시 설치되는 해킹방지 솔루션(ASTx : Ahnlab Safe Transaction)은 다음과 같은 기능으로 동작합니다. \\r\\n\\n\\n① 기본 보호모드 : PC부팅시 실행host 파일 보호피싱/파밍 사이트 경고 및 차단자동업데이트 등\\r\\n② 고급 보호모드 : 신한은행 홈페이지/인터넷뱅킹 접속시 실행악성코드 탐지 및 수동검사 치료웹브라우저 메모리 데이터 보호 개인 방화벽화면캡쳐방지 및 원격제어 차단단말정보 수집 등고객님의 안전한 인터넷뱅킹 이용을 위하여 현재 저희 신한은행에서 \\r\\nASTx프로그램을 설치하면 PC부팅시 신한은행 인터넷뱅킹 접속 여부와 상관없이 기본 보호모드가 동작하게 되며, 저희 신한은행 인터넷뱅킹 접속시 고급 보호모드가 동작하게 됩니다. \\r\\n\\n\\n* PC부팅시 동작하는 기본 보호모드를 제외하고 인터넷뱅킹을 이용하시려면 아래 해킹방지 솔루션 ASTx (기본 보호모드 제외 버전)을 설치후 이용 가능합니다.', metadata={'source': '신한은행', 'row': 27, 'type': '', 'timestamp': 1697030980.8350294}),\n",
       " Document(page_content='ask: 보안프로그램 ASTx, CrossWebEx, TouchEnNxKey 이 설치되어 있어도 설치 팝업이 반복 출력되는 경우\\nInformation: 보안프로그램 ASTx, CrossWebEx, TouchEnNxKey 이 설치되어 있어도 설치 팝업이 반복 출력되는 경우', metadata={'source': '신한은행', 'row': 28, 'type': '', 'timestamp': 1697030980.835032}),\n",
       " Document(page_content=\"ask: Internet Explorer 브라우저 사용 시 브라우저 화면이 흰색으로 변경되는 현상\\nInformation: 2017년 5월에 개편된 인터넷뱅킹 및 홈페이지는 웹표준 기술(HTML5)로 구축되어 있습니다.\\n\\n그러나 인터넷 익스플로러 브라우저는 과거 비표준 기술인 ActiveX를 사용하기 위하여 브라우저 옵션 및 설정이 변경되는 경우가 많기 때문에 개편된 사이트의 HTML5 기술이 동작하지 않아 화면이 하얗게 보이는 현상입니다.\\n\\nHTML5를 지원하지 않는 IE8, IE9 브라우저는 상위 IE 혹은 크롬을 설치하여 이용해 주시기 바랍니다.\\r\\n\\n\\n1.\\n\\n신뢰할 수 있는 사이트 추가, IE 브라우저의 도구 인터넷 옵션을 선택 후① '보안' 탭 선택② 상단의 ‘보안 설정을 보거나 변경할 영역을 선택하십시오.’ 에서 “신뢰할 수 있는 사이트” 클릭③ ‘사이트’ 버튼 클릭④ 영역에 웹 사이트 추가에 ‘*.shinhan.com’ 입력 후 ‘추가’ 버튼 클릭⑤ ‘이 영역에 있는 모든 사이트데 대해 서버 검증(https:) 필요’ 해제2.\\n\\n추가 설정 IE 브라우저의 도구 인터넷 옵션을 선택 후 ① '보안' 탭 선택 후 ‘이 영역에 적용할 보안 수준’의 “기본 수준” 버튼 클릭 ② ‘고급’ 탭 선택 후 ‘설정’ 부분의 보안 영역의 ‘DOM 저장소 사용’ 체크③ 인터넷 옵션 창의 하단 ‘적용’ 버튼 클릭\", metadata={'source': '신한은행', 'row': 29, 'type': '', 'timestamp': 1697030980.8350363}),\n",
       " Document(page_content='ask: 구글 Chrome 브라우저 안내\\nInformation: 고객님,\\n\\n컴퓨터 사용 환경이 윈도우 XP/익스플로러 7.0 혹은 8.0을 사용중이시면 좀 더 빠르고 편리하게 인터넷뱅킹 사용을 위해 구글 Chrome브라우저를 이용해 보시기 바랍니다.\\r\\n\\n\\n설치 링크는 https://www.google.com/intl/ko/chrome/?hl=ko&brand=CHMA&utm_campaign=ko&utm_source=ko-ha-apac-ko-bk&utm_medium=ha 입니다.', metadata={'source': '신한은행', 'row': 30, 'type': '', 'timestamp': 1697030980.8350391}),\n",
       " Document(page_content='ask: 해외고객 추가인증 방법\\nInformation: 먼저 이용에 불편을 드려 대단히 죄송합니다.\\n\\n2013년 9월 전자금융사기 예방서비스 전면 시행으로 인해, 국내외에서 뱅킹이용시 거래에 따라 추가인증을 거치게 되었습니다.\\r\\n\\n\\n① 인증서 발급/재발급, 1일 누적 300만원 이상 이체시 시행하는 추가인증 방법(누적금액은 변경될수 있습니다.)해외IP로 접속하신 부분이 자동으로 확인되면 ‘해외체류 확인’ 항목이 활성화 되기 때문에 법무부 출입국관리사무소에 출국정보를 확인 받는 부분에 동의하시면 ARS 인증없이 거래가 가능합니다.\\r\\n\\n\\n※ 해외 소재한 국내기업의 내부 인터넷망을 이용하시는 경우 국내IP로 인식하여 해당 추가 인증기능 활성화가 안되는 경우가 있으니 유의부탁드립니다.\\r\\n\\n\\n② 해외에서 온라인을 통한 예금해지/대출실행 업무시 추가인증 방법한국시간 기준으로 은행 영업일의 오전9시부터 오후6시 사이에 뱅킹에 접속하시면  해외 현지 연락처를 직접 입력하여 추가인증의 진행이 가능하도록 되어있습니다. \\r\\n\\n\\n③ 고객정보 보호 목적으로 인터넷뱅킹상에서 개인정보 변경 등의 일부 중요업무이 경우는 ARS인증만을 시행하도록 하고 있습니다.  \\n\\n왜냐하면, 타인에 의한 정보변경 시도 등을 차단하고자 하는 부분이므로 만약 해외에서 070 등 인터넷전화를 사용하시는 경우 미리 한국에서 정보변경을 하지 못하셨다면 고객센터 82-2-3449-8000 또는 82-2-3708-8000으로 상담사에게 문의하시기 바랍니다. \\r\\n\\n\\n④ “불법거래 방지를 위해 이체거래가 정지되었다”라고 뜨는 경우\\r\\n82-2-3449-8000 또는 82-2-3708-8000으로 연락주셔서 상담직원을 통한 사고등록 해제가 가능합니다.\\n\\n이체제한 해제는 24시간 가능하며, 본인확인을 위해 몇가지 정보확인을 거치는 점 양해바랍니다.\\r\\n\\n\\n82-2-3449-8000 번호로 전화주셔서 음성이 나오면 차례대로 6-3-3-0 코드를 따라서  24시간 사고관련 상담직원과 통화가 가능합니다\\r\\n해외에 계신 고객분들도 뱅킹을 이용하실 수 있도록 편의성 부분도 많이 고려하고 있으나, 최근 해외IP를 통해 전자금융서비스 이용고객분들께 피해를 입히려는 시도가 다수 발생하고 있기 때문에 제한적으로 해외체류 확인 항목을 적용할 수 밖에 없어서 안타깝게 생각합니다.\\n\\n편리성 못지 않게 고객분들의 소중한 자산을 지키는 것이 중요하다보니 이와 같이 시행하고 있는 점 다시 한번 양해 부탁드립니다.', metadata={'source': '신한은행', 'row': 31, 'type': '인터넷뱅킹', 'timestamp': 1697030980.8350446}),\n",
       " Document(page_content='ask: 홈페이지에서 계좌거래내역 조회할 수 있나요?\\nInformation: 홈페이지회원  가입 후 간편조회서비스를 통해 계좌 거래내역 조회 가능합니다.\\r\\n\\n\\n홈페이지 회원가입 후 [간편계좌관리]에서 이용하실 계좌를 등록하면 계좌 거래내역 조회 가능합니다.\\r\\n\\n\\n인터넷뱅킹 미가입자도 이용가능합니다.', metadata={'source': '신한은행', 'row': 32, 'type': '간편서비스', 'timestamp': 1697030980.8350475}),\n",
       " Document(page_content='ask: 이체한도 증액은 어떻게 하나요?\\nInformation: 영업점 방문하지 않아도 모바일뱅킹 신한 쏠(SOL) 에서 비대면실명 인증후 통합이체한도 증액 가능합니다.\\n\\n통합이체한도는 이용하시는 보안매체에 따라, 보안등급별 최고 한도내에서 증액가능합니다.\\r\\n\\n\\nOTP카드 창구 발급 시 5,000원(카드형 10,000원)의 수수료가 부과됩니다.\\n\\n당행에서만 사용가능한 모바일OTP는 영업점 방문없이 신한 쏠(SOL) 에서 무료로 발급가능합니다. \\r\\n\\n\\n※ 모바일OTP를 이용하시는 경우 쏠(SOL)에서\\n\\n이체한도 증액은 1회 1천만원 이하, 1일 5천만원 이하로 증액 가능합니다. \\r\\n\\n\\n※ 만 14세 미만의 경우 법정대리인(부모/친권자/후견인)에 의해 영업점 방문하여 증액 가능하며 1일, 1회 1백만원 이하로 이체한도 제한됩니다. \\r\\n\\n\\n통합한도란 인터넷뱅킹/신한 쏠(SOL)/폰뱅킹 등을 사용하는 경우 1일 또는 1회에 이체 가능한 통합 이체한도를 말합니다.\\r\\n\\n\\n* 인터넷뱅킹/신한 쏠(SOL)/폰뱅킹에서 거래한 이체금액의 합이 통합이체한도의 범위를 초과할 수 없습니다.\\r\\n\\n\\n기타 궁금하신 내용은 신한은행 고객센터 1599-8000로 문의하여 주시기 바랍니다.', metadata={'source': '신한은행', 'row': 33, 'type': '인터넷뱅킹', 'timestamp': 1697030980.8350513}),\n",
       " Document(page_content='ask: MS 인터넷 익스플로러 환경에서의 피해방지를 위한 안내 해줘.\\nInformation: 마이크로소프트의 인터넷 익스플로러 브라우저에서 신규 취약점이 발견됨에 따라 신한온라인서비스 이용고객의 피해를 예방하기 위해 Windows 자동 업데이트 사용을 권장합니다.\\r\\n\\n\\nWindows의 자동 업데이트 기능에 대한 설명 및 설정은 Microsoft 고객지원 페이지를 참조하시기 바랍니다.', metadata={'source': '신한은행', 'row': 34, 'type': '', 'timestamp': 1697030980.8350542}),\n",
       " Document(page_content='ask: 대출 사칭 문자 받앗어요\\nInformation: 최근에 신한은행 사칭 하여 마이너스 통장 발급대상이라는 문자를 보내고 있는거 같습니다.\\n\\n당행에서는 마이너스 통장 발급 대상 문자를 보내드리지는 않습니다.\\n\\n대출 가능 여부는 개인 신용정보  조회 동의  후 심사를 통해서만 확인이 가능하기 때문에문자 발송을 하지 않습니다.참고로 고객님 정보가 노출이 되었기 때문에 아래 내용을 참고하여 주시기 바랍니다.', metadata={'source': '신한은행', 'row': 35, 'type': '', 'timestamp': 1697030980.8350577}),\n",
       " Document(page_content='ask: 인쇄 기능 장애 발생시 확인 방법\\nInformation: 기존 설치된 인쇄관련 프로그램이 손상되었거나 정상 구동되지 않아 발생할 수 있습니다.\\n\\n먼저 설치된 프로그램을 삭제하고 재설치하는 방법 안내드리겠습니다 원활한 진행을 위해서 열려있는 브라우저나 프로그램은 모두 종료 후 진행해 주시기 바랍니다.\\n\\n[삭제방법] 제어판 → 프로그램 추가/제거(또는 프로그램 및 기능) → Printmade3 삭제 [설치방법] 아래 인터넷뱅킹 통합프로그램설치 버튼을 클릭 →  설치화면 하단의 인터넷화면 인쇄 프로그램(Printmade)을 재설치 하시기 바랍니다.', metadata={'source': '신한은행', 'row': 36, 'type': '', 'timestamp': 1697030980.8350608}),\n",
       " Document(page_content='ask: 예약이체를\\n\\n했는데 이체일에 송금이 안된 경우는?\\nInformation: 모든 예약이체 등록건은 예약이체 지정일 지정된 시간(오전 7시, 오전 9시, 오전 11시, 오후 1시, 오후 3시, 오후 5시, 오후 7시, 오후 9시) 이전에 출금할 계좌에 송금액이 입금이 되어야 이체가 실행될 수 있습니다.\\r\\n\\n\\n이체가 되지 않았다고 판단되실 경우에는 반드시 먼저 \"예약이체처리결과조회\" 또는 \"계좌 거래내역\"을 확인 하시어 이체여부 및 출금여부를 확인하시기 바랍니다.\\n\\n또한 예약이체 신청시 SMS 결과통보신청을 하셨다면 요청하신 휴대폰번호로 수신된 문자를 확인해주시기 바라며, 정해진 시간에 이체되지 않은 경우 신한은행 고객상담센터 ☎ 1599-8000번으로 문의 주시기 바랍니다.', metadata={'source': '신한은행', 'row': 37, 'type': '인터넷뱅킹', 'timestamp': 1697030980.8350646}),\n",
       " Document(page_content='ask: 매월 일정금액을 타은행으로 자동송금 신청시 이체기준 알려줘\\nInformation: 타은행으로 매월 일정금액을 자동송금 신청 하셨을때 당월 또는 익월은 입력하지 말고, 신청등록을 하십시오.\\n\\n자동이체 등록일을 기준으로 자동 이체일이 등록일보다 빠르면 익월부터 자동으로 이체가 되며, 자동 이체일이 등록일보다 늦으면 당월부터 자동이체가 되기 때문입니다.\\n\\n예시 자동이체 신청 등록일 15일, 자동 이체일 10일이면 익월 10일부터 이체 자동이체 신청 등록일 15일, 자동 이체일 20일이면 당월 20일부터 이체', metadata={'source': '신한은행', 'row': 38, 'type': '', 'timestamp': 1697030980.8350675}),\n",
       " Document(page_content='ask: 이체한도란 무엇인가요?\\nInformation:\\n\\n이체한도란 인터넷뱅킹, 폰뱅킹, 모바일뱅킹 등을 통하여 이체할 수 있는 거래한도를 말합니다.\\n\\n① 1일/1회 이체한도 1일 이체한도란 하루에 거래할 수 있는 이체금액의 합을 말하여, 1회 이체한도란 1회에 이체하실 수 있는 금액의 한도를 말합니다.\\n\\n② 통합이체한도 인터넷뱅킹, 폰뱅킹, 모바일뱅킹 등을 고객님이 사용하시는 경우 고객님이 1일 또는 1회에 이체하실 수 있는 이체한도를 말합니다.\\n\\n인터넷뱅킹, 폰뱅킹, 모바일뱅킹 등에서 고객님이 거래하신 이체금액의 합이 통합이체한도의 범위를 초과할 수 없습니다.\\n\\n③ 최고이체한도 금융감독원에서는 개인의 전자금융 시 이용할 수 있는 이체한도의 가이드라인을 정하고 있습니다.(인터넷뱅킹 : 1일 5억원, 1회 1억원 이내)', metadata={'source': '신한은행', 'row': 39, 'type': '인터넷뱅킹', 'timestamp': 1697030980.835071}),\n",
       " Document(page_content='ask: 12개월 장기미이체로 이체서비스가 중지된 경우 어떻게 해제하나요?\\nInformation: 최근 12개월동안 인터넷뱅킹/폰뱅킹/모바일뱅킹에서 이체서비스를 이용하지 않은 경우 고객님의 금융자산 보호를 위하여 이체서비스가 중단됩니다.\\n\\n다시 이체를 원하시는 경우에는 인터넷뱅킹/폰뱅킹/신한쏠(SOL)에서 이체정지 해제를 하실 수 있습니다.(단, 인터넷뱅킹 출금계좌가 등록되어 있는 경우) [경로] ① 당행 고객정보에 등록되어있는 연락처로 ARS 추가인증 가능한 경우: - 인터넷뱅킹 로그인→ 사용자관리→ 인터넷뱅킹관리→ 장기미사용 정지해제 (또는) - 쏠(SOL) 로그인→ 전체메뉴→ 이체 → 이체관리→ 장기미사용정지 해제 ② ARS 추가인증이 불가한 경우 (해외체류 고객등) : - 인터넷뱅킹에서는 해제 어려우며, 쏠 (SOL)에서 해제 가능합니다.\\n\\n쏠(SOL)의 경로는 위와 동일하며, 비대면 실명인증후 해제 가능합니다.\\n\\n비대면실명인증 - 만 14세이상 가능 - 신분증확인 (주민등록증 또는 운전면허증 또는 여권) - 본인확인 (본인명의 계좌인증 또는 영상통화) 진행 기타 궁금하신 내용은 신한은행 고객센터 1599-8000로 문의하여 주시기 바랍니다', metadata={'source': '신한은행', 'row': 40, 'type': '인터넷뱅킹', 'timestamp': 1697030980.835075}),\n",
       " Document(page_content='ask: 인터넷뱅킹 보안프로그램안내해줘\\nInformation: 신한은행에서 고객님의 안전한 금융거래를 위해 제공되는 설치 필수 또는 권장 프로그램은 아래와 같습니다.\\n\\n통합설치프로그램 : VeraProt 안전한 금융거래를 위해 제공하는 보안 프로그램들에 대해서 쉽고 편리하게 설치할 수 있도록 하는 프로그램입니다.\\n\\n개인 PC방화벽/백신 보안 : ASTx 악성코드 탐지/차단, 네트워크 차단, 피싱/파밍 방지, 메모리 해킹 방어, 단말정보 수집 등 보안기능을 제공함으로써 인터넷뱅킹 이용시 발생할 수 있는 사용자의 피해를 차단할 수 있는 프로그램입니다.\\n\\n키보드 보안 : TouchEn-NX Key 사용자가 키보드를 통해서 입력하는 Data를 안전하게 관리하여 기존에 알려져있거나 혹은 알려지지 않은 해킹툴들이 사용자의 키보드 입력정보를 해킹하지 못하도록 방어하는 키보드 보안 서비스입니다.\\n\\n다운로드받지 않을 경우, 가상키보드가 화면에 표시되며, 설치시 물리적키보드 입력이 가능합니다.\\n\\n공인인증프로그램 : CrossWebEX 다양한 환경의 PC에 설치되는 사용자모듈과 전자서명 업무 및 제출된 공인인증서의 유효성 검증을 수행하는 프로그램입니다.', metadata={'source': '신한은행', 'row': 41, 'type': '', 'timestamp': 1697030980.835079}),\n",
       " Document(page_content=\"ask: 인터넷뱅킹에 로그인한 후 10분이 지나지 않았는데, 다시 로그인하라는 안내는 왜그래?\\nInformation: PC환경에 따라 로그인을 했는데도 계속해서 로그인을 다시 하라는 현상이 발생할 수가 있는데요.\\n\\n이는 인터넷뱅킹/홈페이지 로그인시 세션정보가 제대로 전달되지 않기 때문에 발생하는 현상입니다.\\n\\n문제 해결을 위해 다음과 같이 환경설정을 변경하여 주시기를 바랍니다.\\n\\n① 인터넷 익스플로러 상단메뉴에서 [도구] => [인터넷옵션] => [개인정보탭] 선택 ② 설정값(슬라이드바)을 '낮음'으로 변경.\\n\\n만약, 슬라이드바가 보이지 않는 경우 '기본값' 버튼을 눌러주시면 슬라이드바가 나타납니다.\\n\\n혹은 개인적으로 이용하시는 방화벽이나 백신프로그램이 있으면 잠시 실행을 멈추신 후 이용하여 주시기를 부탁드립니다.\\n\\n보다 상세한 내용은 저희 신한은행 콜센터의 인터넷뱅킹 전문상담원분께 문의주시기를 부탁드립니다.(1577-8000, 코드번호 4-4-1번)\", metadata={'source': '신한은행', 'row': 42, 'type': '', 'timestamp': 1697030980.835082}),\n",
       " Document(page_content='ask: 전산통합이후 신계좌번호로 바꿔야만 하나요?\\n\\n신계좌로 바꾸면 과거 자동이체 건은 어떻게 되나요?\\nInformation: 통합이후 고객수가 크게 늘어 기존 11자리 체계에서 12자리 체계로의 변경이 필요했습니다만, 신계좌로 전환하여도 기존 구계좌번호를 이용하시는데 (기존 자동이체 및 급여입금 등) 전혀 문제가 없슴을 말씀드립니다.', metadata={'source': '신한은행', 'row': 43, 'type': '', 'timestamp': 1697030980.835085}),\n",
       " Document(page_content='ask: 홈페이지 탈회하고 싶습니다.\\n\\n어떻게 하나요?\\nInformation: 홈페이지 로그인 후 회원탈퇴를 하실 수 있습니다.\\n\\n홈페이지 상단에 있는 고객센터 > 회원서비스 > 회원탈퇴 메뉴에서 회원탈퇴 진행할 수 있습니다.\\n\\n혹시, 비밀번호를 분실하셨다면 ID/PW 로그인 화면 하단 비밀번호 재설정 메뉴를 통해서 비밀번호 재설정하고 로그인 후 회원탈퇴 가능합니다.\\n\\n기타 문의는 신한은행고객센터 (☎ 1599-8000번)으로 문의 바랍니다.', metadata={'source': '신한은행', 'row': 44, 'type': '홈페이지', 'timestamp': 1697030980.8350878}),\n",
       " Document(page_content='ask: 홈페이지 회원아이디를 변경하고 싶습니다.\\nInformation: 회원탈퇴를 하시고, 사용하시고 싶은 아이디로 신규 회원가입신청을 하시면 됩니다.\\n\\n다만, 사용하시고 싶은 아이디가 이미 다른 고객이 사용하고 있는 경우에는 사용하실 수 없습니다.\\n\\n기타 문의는 콜센터 1599-8000번으로 문의 바랍니다.', metadata={'source': '신한은행', 'row': 45, 'type': '홈페이지', 'timestamp': 1697030980.8350906}),\n",
       " Document(page_content='ask: 홈페이지 고객정보를 수정하고 싶습니다.\\n\\n\\nInformation:\\n\\n홈페이지 회원로그인 후 정보수정을 하실 수 있습니다.\\n\\n홈페이지 상단에 있는 [고객센터]를 클릭하여, 회원서비스 → 회원정보변경 메뉴에서 회원정보변경을 이용하시기 바랍니다.\\n\\n인터넷뱅킹의 회원정보는 인터넷뱅킹으로 로그인 하신 후 사용자 관리메뉴를 이용하여 수정하시기 바랍니다.\\n\\n기타 문의는 콜센터 1599-8000번으로 문의 바랍니다.', metadata={'source': '신한은행', 'row': 46, 'type': '홈페이지', 'timestamp': 1697030980.8350935}),\n",
       " Document(page_content='ask: 아이디/비밀번호가 생각나지 않습니다.\\n\\n어떻게 해야 하나요?\\n\\n\\nInformation: 홈페이지 상단에 있는 [고객센터] > 회원서비스 메뉴에서 아이디 찾기, 비밀번호 재설정하여 이용하시기 바랍니다.\\n\\n신한은행 개인 인터넷뱅킹(bank.shinhan.com) 접속 후 1.\\n\\n아이디 찾기 ① 고객센터 > 회원서비스 > 아이디찾기 또는 뱅킹로그인 > 아이디찾기 ② [보기] 클릭 > 약관확인 > 동의함 체크 ③ 성명/생년월일/계좌번호/계좌비밀번호 입력 > 확인 ④ 이용자아이디 확인 완료 2.\\n\\n비밀번호 재설정 ① 고객센터 > 회원서비스 ② 회원정보변경>비밀번호 찾기(재설정) ③ (개인회원)약관보기 및 동의 ④ 본인확인(이름, 생년월일, 아이디, 계좌번호, 계좌비밀번호 입력) ⑤ 사용할 비밀번호/비밀번호 확인 2회 입력>확인 ※ 영문, 숫자, 특수문자 포함 8-15자리 이내 ⑥ 비밀번호 재설정 완료 진행과정 중 궁금하신 내용은 고객센터(1599-8000)으로 문의 부탁드립니다.', metadata={'source': '신한은행', 'row': 47, 'type': '', 'timestamp': 1697030980.835097}),\n",
       " Document(page_content=\"ask: 만14세 미만의 고객은 홈페이지 회원가입이 가능하나요?\\n\\n\\nInformation:\\n\\n만 14세 미만 고객은 회원가입시 '정보통신망 이용촉진 및 정보 등에 관한 법률' 및 '개인정보보호지침'에 따라 법정대리인의 정보활용 동의가 필요합니다.\\n\\n당행 영업점을 통한 보호자분의 홈페이지 회원 법정대리인 등록이 완료된 고객님에 한하여 회원등록이 가능하므로 홈페이지 회원 법정대리인 등록이 안된 고객님의 보호자분께서는 먼저 가까운 영업점을 방문하여 주시기 바랍니다.\\n\\n[구비서류] - 법정대리인 실명확인증표 - 미성년자 기준으로 발급된 특정 또는 상세 기본증명서 - 미성년자 기준으로 발급된 가족관계증명서 * 은행 방문일로부터 3개월 이내 발급한 서류로 준비해주셔야 하며, 성함과 주민등록번호 13자리가 모두 기재되어 있어야합니다.\\n\\n기타 문의는 콜센터 1599-8000번으로 문의 바랍니다.\", metadata={'source': '신한은행', 'row': 48, 'type': '홈페이지', 'timestamp': 1697030980.8351002}),\n",
       " Document(page_content='ask: 홈페이지 회원가입은 어떻게 해야 하나요?\\n\\n\\nInformation: 홈페이지 상단에 있는 [고객센터]를 클릭하여, 회원서비스 → 회원가입메뉴에서 회원가입 메뉴를 이용하시기 바랍니다.\\n\\n기타 문의는 콜센터 1599-8000번으로 문의 바랍니다.', metadata={'source': '신한은행', 'row': 49, 'type': '홈페이지', 'timestamp': 1697030980.8351028}),\n",
       " Document(page_content='ask: 2차 증빙서류는 무엇입니까?\\nInformation: 재직증명서, 의료보험증, 전기,전화,수도,가스 요금 청구서나 영수증 등 본인만이 소지할 수 있는 성격의 자료입니다.\\n\\n고객님께서 영업점에 제시한 신분증이 마모 등으로 인해 확인이 불확실할 경우 2차 증빙서류를 함께 제시할 것을 요청할 수 있습니다.', metadata={'source': '신한은행', 'row': 50, 'type': '인터넷뱅킹', 'timestamp': 1697030980.8351052}),\n",
       " Document(page_content='ask: 온라인 서비스 신청시 구비서류는?\\nInformation: 온라인 서비스 신규는 본인만 가능하고 가입시 필요서류는 다음과 같습니다.\\n\\n온라인 서비스 신규 시 필요서류 : 본인 신분증.\\n\\n신분증 : 국가기관 또는 지방자치단체, 교육법에 의한 학교의 장이 발급한 것으로서 성명, 주민등록번호가 기재되어 있고 부착된 사진에 의하여 본인임을 확인할 수 있는 증표 (주민등록증, 운전면허증, 공무증, 여권, 노인복지카드(경로우대증), 장애인복지카드(장애인등록증 포함), 국가 유공자증, 학생증, 외국인등록증, 국내거소신고증 등).\\n\\n만14세 미만 미성년자.\\n\\n만 14세 미만 미성년자는 법정대리인에 의한 신청한 가능합니다.\\n\\n1.\\n\\n부모가 혼인중인 경우 부 또는 모 신분증, 미성년자 기준으로 발급된 특정기본증명서, 미성년자 기준으로 발급된 상세가족관계증명서.\\n\\n2.\\n\\n친권자나 후견인이 지정된 경우 친권자 또는 후견인의 신분증, 미성년자 기준으로 발급된 특정 기본 증명서, 미성년 자녀 기준으로 발급된 일반 가족관계증명서(후견인은 생략).\\n\\n발급서류는 3개월이내 발급된 원본으로 주민등록번호 13자리가 모두 표기된 서류로 준비부탁드립니다.', metadata={'source': '신한은행', 'row': 51, 'type': '인터넷뱅킹', 'timestamp': 1697030980.8351095}),\n",
       " Document(page_content='ask: 회원탈퇴 후 메일이 계속와요.\\nInformation: 인터넷뱅킹가입을 하시면 예금/대출/카드 등 거래에 대한 안내(예:예금만기 등)외에 영업점안내메일 등 몇가지 부가서비스가 기본제공됩니다.\\n\\n부가서비스는 홈페이지에 로그인하셔서(인터넷뱅킹사용자는 별도 회원가입이 필요없습니다.) 이메일서비스의 수신/거부 등 변경을 하시면 됩니다.\\n\\n다만, 인터넷뱅킹을 해지하시더라도 예금,카드,대출 등의 거래가 남아있을 수 있기에 메일서비스는 계속 제공됩니다.\\n\\n따라서 고객님의 경우에는 기존에 제공되는 메일서비스가 계속 남아있어 부가서비스 메일을 받으신 것이며.\\n\\n정보가 유출되거나 하는 경우는 절대 없으니 안심하시기 바랍니다.\\n\\n더이상 부가서비스 이메일 수신을 원하지 않는 경우에는 홈페이지의 회원가입을 하신 후 회원서비스의 이메일서비스에 가셔서 변경하시면 됩니다.', metadata={'source': '신한은행', 'row': 52, 'type': '', 'timestamp': 1697030980.8351128}),\n",
       " Document(page_content='ask: pdf 파일을 보려면 어떻게 해야 하나요?\\n\\n\\nInformation: 확장자가 .pdf 인 파일을 열어 보기 위해서는 Acrobat Reader가 있어야 합니다.\\n\\nAcrobat Reader는 인터넷에서 무료로 다운로드 받으실 수 있습니다.\\n\\n다운로드 받으시려면 아래 주소를 클릭하시기 바랍니다.\\r\\n\\n\\nhttp://www.adobe.com/kr/products/acrobat/readstep2.html', metadata={'source': '신한은행', 'row': 53, 'type': '인터넷뱅킹', 'timestamp': 1697030980.8351154}),\n",
       " Document(page_content='ask: 이메일주소변경 안내\\nInformation:\\n\\n이메일주소 변경방법은 아래와 같습니다.\\n\\n① 인터넷뱅킹 로그인 ② 사용자관리 고객정보 고객정보조회/변경메뉴 클릭 ③ 고객님의 다른 정보와 함께 이메일정보 변경 가능', metadata={'source': '신한은행', 'row': 54, 'type': '인터넷뱅킹', 'timestamp': 1697030980.8351178}),\n",
       " Document(page_content='ask: 보내신 메일의 이름은 제이름이 아닙니다.라고 나옵니다.\\n\\n\\nInformation: \"신한은행에서 발송하는 메일 중 다른 고객이름으로 발송되는 경우가 가끔씩 발생합니다.\\n\\n① 이메일계정 제공하는 포탈업체에서 동일한 이메일주소를 타 고객이 사용하시다가 본인이 해지하는 경우 ② 일정기간 이메일이 사용되지 않으면 해당 이메일계정 제공업체에서 임의로 삭제하여 이메일주소를 타인이 사용할 수 있도록 하는 경우 ③ 저희 은행을 이용하시는 고객이 이메일주소를 잘못 등록하시는 경우에 발생합니다.\\n\\n※ 고객센터(1577-8000)로 전화주시면 해당이메일주소를 등록하신 고객님께 연락하여 향후 재발송되지 않도록 조치하겠습니다.', metadata={'source': '신한은행', 'row': 55, 'type': '인터넷뱅킹', 'timestamp': 1697030980.8351212}),\n",
       " Document(page_content='ask: 이메일서비스 신청 및 해지 방법은?\\nInformation:\\n\\n이메일서비스는 인터넷뱅킹의 서비스메뉴 중 뱅킹보안서비스 > 입출내역통지서비스 > 입출내역 E-Mail통지서비스에서 신청 및 해지하실 수 있습니다.', metadata={'source': '신한은행', 'row': 56, 'type': '인터넷뱅킹', 'timestamp': 1697030980.8351238}),\n",
       " Document(page_content=\"ask: 로그인은 어디서 하나요?\\nInformation:\\n\\n인터넷뱅킹에 로그인하시려면 신한은행 홈페이지에서 개인 → 뱅킹로그인 버튼을 클릭하시면 됩니다.\\n\\n참고로 인터넷뱅킹에 로그인하시려면 우선 공동인증서 또는 금융인증서를 발급받으셔야 하며, '인증센터'에서 발급받으실 수 있습니다.\\n\\n기타 궁금하신 내용은 신한은행 고객센터 1599-8000로 문의하여 주시기 바랍니다.\", metadata={'source': '신한은행', 'row': 57, 'type': '인터넷뱅킹', 'timestamp': 1697030980.8351266}),\n",
       " Document(page_content='ask: 대학 등록금을 인터넷뱅킹으로 납부할 수 있습니까?\\nInformation: 당행과 수납체결이 되어있는 대학교의 등록금은 개인인터넷뱅킹을 통해 납부가 가능합니다.\\n\\n공과금/법원 기타 대학등록금 납부 메뉴에서 납부가 가능하며, 해당메뉴로 접속후 학교와 학번을 입력후 납부 하시면 됩니다.\\n\\n해당메뉴로 등록금을 납부할 경우 온라인 이체한도 미포함 거래입니다.\\n\\n또한 등록금 납부 가상계좌를 알고 계실경우 이체 메뉴를 이용하여 즉시이체하셔도 됩니다.\\n\\n이럴경우 이체한도에 포함되는 거래입니다.\\n\\n가상계좌로 이체하시는 경우엔 당행과 수납체결이 되어있지 않더라도 등록금납부는 가능합니다.\\n\\n당행과 수납체결 여부는 등록금납부 통지서상의 수납은행으로 확인하실 수 있으며, 해당 등록금 납부 메뉴에서 납부하고자하는 학교명이 확인되지 않을경우 당행과 수납체결된 학교는 아닙니다', metadata={'source': '신한은행', 'row': 58, 'type': '', 'timestamp': 1697030980.8351297}),\n",
       " Document(page_content='ask: 홈페이지 비밀번호를 5회이상 틀렸습니다.\\n\\n재설정하려면 어떻게 하죠?\\n\\n\\nInformation: 홈페이지 비밀번호를 5회 오류의 경우 홈페이지 로그인이 불가능하오니 본인인증 절차 후 비밀번호를 새로 등록하시면 이용 가능합니다.\\n\\n신한은행 홈페이지 접속 후 ① (오른쪽 상단)고객센터 회원서비스 ② 회원정보변경 비밀번호 찾기(재설정) ③ (개인회원)약관보기 및 동의 ④ 본인확인(이름, 생년월일, 아이디, 계좌번호, 계좌비밀번호 입력) ⑤ 사용할 비밀번호/비밀번호 확인 2회 입력확인 ※ 영문, 숫자, 특수문자 포함 8-15자리 이내 ⑥ 비밀번호 재설정 완료 - ID/PW 로그인 화면 하단 비밀번호 재설정 메뉴를 통해서도 진행 가능합니다.\\n\\n기타 궁금하신 내용은 신한은행 고객센터 1599-8000로 문의하여 주시기 바랍니다.', metadata={'source': '신한은행', 'row': 59, 'type': '홈페이지', 'timestamp': 1697030980.8351328}),\n",
       " Document(page_content='ask: 휴대폰통지서비스 신청 방법은?\\nInformation: 휴대폰 통지서비스는 본인의 금융거래내역을 거래발생 즉시 등록된 이동통신 단말기로 통지해 주는 서비스입니다.\\n\\n휴대폰통지서비스 신청방법 ① 개인뱅킹 로그인 ② 뱅킹보안서비스 ③ 입출내역통지서비스 ④ S알리미 서비스와 입출내역 SMS통지서비스 중 선택 휴대폰통지서비스 특징 S알리미 서비스 : 무료서비스 / 스마트폰 앱 다운로드후 사용가능 입출내역 SMS통지서비스 : 유료서비스 / 핸드폰으로 SMS 발송', metadata={'source': '신한은행', 'row': 60, 'type': '', 'timestamp': 1697030980.835136}),\n",
       " Document(page_content='ask: 보안카드 번호 입력은 어떻게 하면 되죠?\\n\\n\\nInformation: 씨크리트(보안)카드는 고객님이 은행에서 신한온라인서비스(인터넷뱅킹)에 가입하신 후 받은 카드입니다.  \\n\\n보안카드번호가 필요한 모든 거래에  기타 궁금하신 내용은 신한은행 고객센터 1599-8000로 문의하여 주시기 바랍니다.', metadata={'source': '신한은행', 'row': 61, 'type': '인터넷뱅킹', 'timestamp': 1697030980.8351386}),\n",
       " Document(page_content='ask: 즉시/예약 이체 서비스가 안되는 경우 어떻게 해야해?\\nInformation: 이체서비스가 되지 않는 경우 여러가지 사유가 있을수 있으니, 신한은행 고객상담센터 1599-8000번으로 문의 주시면 자세히 상담해드리겠습니다.', metadata={'source': '신한은행', 'row': 62, 'type': '인터넷뱅킹', 'timestamp': 1697030980.8351412}),\n",
       " Document(page_content='ask: 신탁적금(당행)으로 이체시 토요일 인터넷뱅시간 제한하는 방법은?\\nInformation: \"우측 상단 QUICK MENU의 이용안내를 참고하시기 바랍니다.', metadata={'source': '신한은행', 'row': 63, 'type': '인증서', 'timestamp': 1697030980.835144}),\n",
       " Document(page_content='ask: 타행에서 이미 인증서가  발급되었다는데 인증서가 없어요.\\n\\n\\nInformation: 공동인증서는 발급기관별 용도별 1개의 인증서만 발급이 가능합니다.\\n\\n타기관에서 발급받은 인증서가 당행 홈페이지 또는 신한 쏠(SOL)에서 확인되지 않는 경우 아래 내용 체크해 주시기 바랍니다.\\n\\n① 인증서 정상 저장 여부 확인 ② 인증서의 만료일자(유효기간) 경과여부 확인 ③ 보유하신 인증서의 용도 확인 -은행/신용카드/보험용 또는 전자거래범용 인증서만 사용 가능합니다.\\n\\n※ 이상이 없으신 경우 정확한 내용 확인을 위해 신한은행 고객상담센터(☎1599-8000)로 전화주시기 바랍니다.', metadata={'source': '신한은행', 'row': 64, 'type': '', 'timestamp': 1697030980.835147}),\n",
       " Document(page_content='ask: 공동인증서 암호가 틀리다고 하는데요?\\n\\n\\nInformation: 인증서 비밀번호는 암호화처리 되어 있어 확인이 불가능합니다.\\n\\n인증서 비밀번호 오류가 계속 발생된다면 신한 쏠, 개인인터넷뱅킹 인증서 발급/재발급 메뉴에서 재발급을 진행해 주시기 바랍니다.', metadata={'source': '신한은행', 'row': 65, 'type': '인증서', 'timestamp': 1697030980.8351495}),\n",
       " Document(page_content='ask: 인터넷뱅킹에서 인증서 암호를 변경하려면 어떻게 해야 하나요?\\n\\n\\nInformation: 공동인증서 암호 변경은 인증서 관리 화면에서 변경가능합니다.\\r\\n\\r\\n\\n\\n[신한은행 홈페이지]> 인증센터> 공동인증서(구 공인인증서) > 인증서 관리 > (인증서관리창에서)암호변경 할 인증서 선택 > (하단)암호변경버튼 클릭 > 기존암호, 새비밀번호 2회 입력\\r\\n\\r\\n※ 인증서 암호변경 시 현재 사용중인 암호를 반드시 알고 있어야 변경가능합니다.\\n\\n만약 사용중인 암호를 분실 하셨을 경우에는 인증서 발급/재발급 화면에서 인증서를 재발급 후 이용해 주시기 바랍니다.', metadata={'source': '신한은행', 'row': 66, 'type': '', 'timestamp': 1697030980.8351524}),\n",
       " Document(page_content=\"ask: 공동인증서 만기 또는 갱신 안내\\nInformation: 신한은행에서 공동인증서를 발급받은 경우 이미 인증서 유효기간이 경과되었다면, 별도의 절차없이 인증센터에서 '인증서 발급/재발급'으로 진행하시면 됩니다.\\n\\n만약, 유효기간이 한 달 이내로 남았다면 인증센터에서 '인증서 갱신'을 통해 유효기간 갱신 후 이용해 주시기 바랍니다.\\n\\n(재발급을 받으시면 기존 만료일자로 인증서가 재발급됩니다.) 타은행/타기관에서 인증서를 발급받은 경우 인증서를 발급받은 은행 또는 기관에서 재발급을 받으시거나 갱신을 하셔야 합니다.\\n\\n신한은행 인증센터에서 해당 거래를 실행하실 경우에는 이미 다른 기관에서 인증서를 발급받으셨다는 오류메시지가 나오게 됩니다.\", metadata={'source': '신한은행', 'row': 67, 'type': '인증서', 'timestamp': 1697030980.8351555}),\n",
       " Document(page_content='ask: 인터넷뱅킹 자동이체해지 방법안내\\nInformation: 인터넷뱅킹에 로그인하신후, 좌측의 메뉴항목에서 이체 > 자동이체 > 자동이체조회 변경/취소 서비스를 통해 해지하실 수 있습니다.', metadata={'source': '신한은행', 'row': 68, 'type': '인터넷뱅킹', 'timestamp': 1697030980.8351586}),\n",
       " Document(page_content=\"ask: 인터넷뱅킹을 통한 이체에 대해 영수증은 없습니다.\\n\\n라고 나와요.\\nInformation: 영수증이란 돈을 받은 사람이 돈을 준 사람에게 써 주는 증서인데, 송금이체의 경우 은행은 고객의 돈을 받아 고객이 지정하는 계좌로 자금을 보내드리기 때문에 영수증을 발행 할 수 없습니다.\\n\\n다만, 은행에서 이체송금시 수수료를 수취하기 때문에 수수료에 대해서는 영수증을 발행해 드립니다.\\n\\n(실제로 지점을 방문하셔서 무통장입금으로 이체하실 경우에도 은행에서는 '무통장입금증 타행환입금의뢰확인증'만을 확인서로 제공해드립니다.\\n\\n이것이 송금금액 전체에 대해 영수증의 의미를 갖는 것은 아니며, 수수료에 대해서만 영수증으로 확인의 의미를 갖습니다) \\r\\n특히 인터넷이체의 경우 인터넷상으로 조회되는 입금확인증의 경우 위변조의 가능성이 있기 때문에 거래상대방으로부터 법적 증거력을 얻지 못하고 있는 실정입니다.\\r\\n\\r\\n\\n\\n따라서 고객님이 인터넷뱅킹에 접속하여 조회하시는 인터넷뱅킹거래명세는 영수증으로는 사용될 수 없으며, 거래의 참고용으로만 사용하실 수 있습니다.\\n\\n(조회순서 : 개인인터넷뱅킹 로그인 → (화면 상단) 이체 → 즉시이체 → 이체결과조회 메뉴에서 상세내역 조회후 출력하실 이체건의 오른쪽에 있는 [인쇄] 버튼 클릭하시면 됩니다.\\n\\n기타 궁금하신 내용은 신한은행 고객센터 1599-8000로 문의하여 주시기 바랍니다.\", metadata={'source': '신한은행', 'row': 69, 'type': '', 'timestamp': 1697030980.8351626}),\n",
       " Document(page_content='ask: 인터넷 예적금 해약하려면 어떻게 해야 하나요?\\n\\n\\nInformation:\\n\\n인터넷에서 신규하셨고, 이후 통장발급을 받지 않으셨다면 인터넷뱅킹(http://bank.shinhan.com)의 금융상품 예금/신탁 해지 메뉴를 통해 해지하실 수 있습니다.', metadata={'source': '신한은행', 'row': 70, 'type': '', 'timestamp': 1697030980.8351653}),\n",
       " Document(page_content='ask: 인터넷뱅킹 비밀번호를 잊어버렸습니다.\\nInformation:\\n\\n인터넷뱅킹 로그인시 사용되는 인증서 암호를 잊어버리셨다면, 영업점 방문없이 인증서 재발급을 통해 인증서 암호를 다시 설정하실수 있습니다.\\n\\n당행에서 발급한 인증서인 경우 당행 홈페이지에서 재발급하시면 됩니다.\\n\\n신한은행 홈페이지 인증센터로 접속하시면 금융인증서와 공동인증서구 공인인증서로 메뉴가 분리되어 있으므로 해당 메뉴를 선택해서 접속해 주시면 됩니다.\\n\\n타기관에서 발급된 인증서인 경우엔 해당기관에서 재발급후, 당행 홈페이지 타기관 공인인증서 등록/해제 메뉴에서 등록 후 이용하시면 됩니다.', metadata={'source': '신한은행', 'row': 71, 'type': '인터넷뱅킹', 'timestamp': 1697030980.8351686}),\n",
       " Document(page_content='ask: 타행 이체수수료를 면제받으려면 어떻게해?\\nInformation:\\n\\n현재 당행에서는 수수료와 관련해서, 신한은행에서 신한은행으로의 송금은 누구나 무료로 이용하실 수 있습니다.\\n\\n신한은행 우수고객 분들을 대상으로 Tops Club 제도를 운영중에 있으며, Tops Club 고객으로 선정된 고객님께서는 수수료 면제 및 감면 등 다양한 혜택을 드리고 있습니다.\\n\\n또한 계좌 보유만으로도 별도 우대요건 충족없이 수수료 면제 가능한 쏠편한 입출금통장이 있습니다.\\n\\n입출금통장을 이미 보유하고 계시다면 기보유중인 상품을 우대통장으로 전환하시거나 쏠편한입출금통장을 추가발급 받는 방법이 있습니다 1.\\n\\n우대계좌 전환 ①신한 쏠(SOL) 로그인 → 오른쪽 위 전체메뉴(≡) → 조회/관리 → 계좌관리 → 입출금 → 우대계좌 전환 ②인터넷뱅킹 로그인 → 금융상품 → 예금/신탁 → 입출금계좌전환 ③고객센터 상담사 통해서 전환도 가능합니다.\\n\\n2.\\n\\n신한 쏠을 통해서 쏠편한입출금통장 신규 가입하는 방법도 있습니다.\\n\\n구체적인 내용은 예금주 본인께서 신한은행 고객센터 1577-8000으로 연락주시면 자세한 상담이 가능합니다.', metadata={'source': '신한은행', 'row': 72, 'type': '인터넷뱅킹', 'timestamp': 1697030980.8351724}),\n",
       " Document(page_content='ask: 타행에서 인증서를 발급받고 신한은행에 등록하는 방법 알려줘.\\nInformation: 신한은행 인터넷뱅킹에 가입이 되어 있다면, 타행에서 발급받은 인증서를 신한은행에 등록하여 이용이 가능합니다.\\n\\n홈페이지나 신한 쏠(SOL)의 인증센터에서 진행 가능합니다.', metadata={'source': '신한은행', 'row': 73, 'type': '인증서', 'timestamp': 1697030980.8351755}),\n",
       " Document(page_content='ask: 인터넷뱅킹의 출금계좌 추가 삭제 방법 알려줘.\\nInformation: 인터넷뱅킹, 신한쏠(SOL)에서 출금계좌의 추가/삭제가 가능합니다.\\n\\n단, 인터넷뱅킹 신청시 또는 그 이후에 영업점에서 \"출금계좌 인터넷추가등록 동의\" 를 하신 경우에는 인터넷뱅킹, 신한 쏠 에서 추가등록이 가능하며 동의하지 않은 경우엔 신한 쏠 에서 비대면으로 신분증 확인후 출금계좌 추가등록이 가능합니다.\\n\\n(출금계좌 삭제는 동의여부와 관계없이 모두 가능함)\\r\\n[경로]\\r\\n- 인터넷뱅킹 로그인→ 사용자관리→ 계좌관리→ 출금계좌관리\\r\\n- 신한 쏠(SOL) 로그인→전체메뉴→이체→이체관리→출금계좌관리\\r\\n기타 궁금하신 내용은 신한은행 고객센터 1599-8000로 문의하여 주시기 바랍니다.', metadata={'source': '신한은행', 'row': 74, 'type': '인터넷뱅킹', 'timestamp': 1697030980.8351786}),\n",
       " Document(page_content='ask: 인터넷뱅킹 해지 방법 알려주세요\\nInformation: [경로] - 인터넷뱅킹 로그인 → 사용자관리 → 인터넷뱅킹관리 → 인터넷뱅킹해지 ☞ 신한은행에서 발급한 인증서 폐기여부 선택가능합니다.\\n\\n☞ 쏠(모바일뱅킹) 도 사용할수 없음 - 신한 쏠(SOL) 로그인 → 전체메뉴 → 설정/인증 → 서비스 해지 ☞ 쏠(SOL)만 해지 또는 인터넷뱅킹&쏠(SOL) 모두 해지 중 선택하여 해지가능합니다.\\n\\n기타 궁금하신 내용은 신한은행 고객센터 1599-8000로 문의하여 주시기 바랍니다.', metadata={'source': '신한은행', 'row': 75, 'type': '인터넷뱅킹', 'timestamp': 1697030980.8351815}),\n",
       " Document(page_content='ask: 수표번호를 조회하고자 합니다.\\n\\n\\nInformation:\\n\\n수표조회는 신한은행 홈페이지 초화면의 간편서비스 또는 인터넷뱅킹의 조회서비스를 통해 조회하실 수 있습니다.\\n\\n※ 참고 : 타행 수표의 자금화 타행 수표의 자금화(현금화) 일자는 수표 입금 후 익영업일 오후 12시 20분입니다.\\n\\n즉 오늘 수표를 통장에 입금하시면 내일(익영업일) 오후 12시 20분 이후에 현금으로 찾으실 수 있습니다.\\n\\n※ 단, 영업일 기준이므로 휴일(토/일요일, 공휴일) 전날에 입금하시면 휴일 다음날 오후 12시 20분 이후에 현금으로 찾으실 수 있습니다.', metadata={'source': '신한은행', 'row': 76, 'type': '인터넷뱅킹', 'timestamp': 1697030980.8351846}),\n",
       " Document(page_content='ask: 인터넷뱅킹 자동이체 신청 및 해지 방법을 알려주세요\\nInformation: 자동이체(기일이체)는 일정기간동안 주기적(매월,3개월,6개월)으로 지정하신 계좌로 이체하실때 편리한 서비스입니다.\\n\\n당행간 자동이체는 이체 지정일 1영업일 전까지 등록하여야 하며, 타행간 자동이체는 이체 처리일 2영업일 전까지 등록하여야 합니다.자동이체 작업은 은행 영업시간 끝난 후 이루어지며, 당행의 일정에 따라 정확한 시간이 결정됩니다.\\n\\n그러므로 영업시간 중에 지급계좌에 잔액이 있어야 합니다.\\n\\n자동이체 신청 및 변경/해지는 당행 인터넷뱅킹을 통해 가능하며, 인터넷뱅킹에 로그인하신 후 \"이체 > 자동이체\" 서비스를 선택하시면 됩니다.\\n\\n※ 주의 : 타행으로 자동이체는 \\'이체일 전일\\'에 자금을 미리 인출하므로 예금잔액이 없으면 이체처리가 안되며, 이후잔액이 채워져도 재처리를 하지 않습니다.', metadata={'source': '신한은행', 'row': 77, 'type': '인터넷뱅킹', 'timestamp': 1697030980.8351882}),\n",
       " Document(page_content=\"ask: 인증서 암호를 분실했거나 변경하고 싶은 경우에는 어떻게 하나요?\\nInformation: [인증서암호를 분실했을 경우]\\r\\n인증센터에서 인증서를 재발급 받으시면서 암호 재설정 가능합니다.\\n\\n재발급은 신규발급절차와 동일하게 진행됩니다.\\r\\n\\n\\n[인증서암호를 변경하고 싶은 경우]\\r\\n현재 사용중인 암호를 알고 있는 경우 인증센터의 '인증서 관리' 화면에서 인증서암호를 변경하실 수 있습니다.\\n\\n(단, 현재 이용 중인 인증서 암호를 모르실 경우 인증서 재발급 후 이용해 주시기 바랍니다. )\", metadata={'source': '신한은행', 'row': 78, 'type': '인증서', 'timestamp': 1697030980.835191}),\n",
       " Document(page_content='ask: 공동인증서암호는 대소문자를 구분하나요?\\n\\n\\nInformation: 인증서암호는 영문 대소문자를 구분합니다.\\n\\n[공동인증서 암호 설정 시 유의사항] - 숫자, 영문, 특수문자 포함해서 10자리이상 30자리 이하로 설정 가능 - 영문 대/소문자를 구분함 - 연속 또는 반복된 3자리 문자, 숫자 사용불가합니다.', metadata={'source': '신한은행', 'row': 79, 'type': '인증서', 'timestamp': 1697030980.835194}),\n",
       " Document(page_content='ask: PC포맷, 인증서 삭제 등으로 인증서를 분실하였을 때는?\\nInformation: 기존에 사용하시던 공동인증서를 폐기하지 않은 채, 컴퓨터를 포맷하거나 인증서를 삭제하시는 경우의 대처방안입니다.\\n\\n1.신한은행에서 인증서를 발급받으신 경우① 인터넷뱅킹 : 신한은행 홈페이지 공동인증서(구 공인인증서) 인증서 발급/재발급 메뉴에서 재발급 받으시면 됩니다.② 신한 쏠(SOL) : 신한 쏠(SOL) 메뉴 설정/인증 공동인증서 인증서 발급/재발급 메뉴에서 재발급 가능합니다.※ 신한 쏠(SOL)에서는 은행/신용카드/보험용 인증서만 발급/재발급이 가능합니다.2.타행에서 인증서를 발급받으신 경우 타행에서 인증서를 발급받으신 경우, 발급받으신 은행에서 인증서를 재발급 받으시고 신한은행에 타기관인증서 등록 후 이용부탁드립니다.', metadata={'source': '신한은행', 'row': 80, 'type': '인증서', 'timestamp': 1697030980.8351974}),\n",
       " Document(page_content='ask: 인터넷뱅킹을 이용하려면 어떤 PC환경을 갖춰야 합니까?\\n\\n\\nInformation: 인터넷뱅킹(bank.shinhan.com)\\r\\n운영체제\\r\\n윈도우 : Window7 이상\\r\\n맥킨토시 : OSX10.7 이상\\r\\n리눅스 : ubuntu, fedora\\r\\n브라우저\\r\\n윈도우 : IE10이상, 크롬, 파이어폭스, 오페라, Edge\\r\\n맥킨토시 : 사파리, 크롬, 파이어폭스\\r\\n리눅스 : 크롬, 파이어폭스\\r\\n권장해상도 : 1280 X 1024', metadata={'source': '신한은행', 'row': 81, 'type': '인터넷뱅킹', 'timestamp': 1697030980.8352003}),\n",
       " Document(page_content='ask: 인터넷뱅킹을 하고자 하는데 인증서는 어디서 발급 하나요?\\n\\n\\nInformation: 인증서는 신한은행에 인터넷뱅킹서비스가 가입되어 있으시면 신한은행 홈페이지 또는 신한 쏠(SOL)의 인증센터에서 발급 가능합니다.\\n\\n※ 개인은 주민번호로 금융기관 통합하여 발급기관별, 용도별로 한 개의 인증서만 발급이 가능합니다.\\n\\n예) 타은행에서 은행/신용카드/보험용(결제원) 인증서를 발급받은 경우 → 당행 은행/신용카드/보험용(결제원) 인증서 발급 불가', metadata={'source': '신한은행', 'row': 82, 'type': '인터넷뱅킹', 'timestamp': 1697030980.8352032}),\n",
       " Document(page_content='ask: 개인정보 변경은 어디서 해야 하나요?\\n\\n\\nInformation:\\n\\n인터넷뱅킹에 로그인 하신 후 \"사용자관리\"를 클릭하신 후 \"고객정보\" > \"고객정보조회/변경\" 에서 개인정보를 변경하실 수 있습니다.', metadata={'source': '신한은행', 'row': 83, 'type': '인터넷뱅킹', 'timestamp': 1697030980.8352056}),\n",
       " Document(page_content='ask: 보안메일서비스 안내해줘\\nInformation:\\n\\n신한은행은 이메일서비스를 통해 고객님의 거래정보와 금융정보를 메일로 알려드리는데 고객님께 발송되는 이메일 중 개인정보보호가 필요한 메일(거래정보 등)은 암호화 처리되어 보안메일로 발송되어 일반메일 (홍보 및 안내메일) 과 구별됩니다.\\n\\n※ 입출내역 통지서비스는 개인뱅킹 > 뱅킹보안서비스 > 통지서비스 > 입출내역 Email통지서비스 메뉴에서 서비스 신청 및 변경이 가능합니다.', metadata={'source': '신한은행', 'row': 84, 'type': '인터넷뱅킹', 'timestamp': 1697030980.8352084}),\n",
       " Document(page_content='ask: 인터넷으로 신규 예/적금 신청하는 방법을 알려주세요\\nInformation: 인터넷상으로 예금/신탁을 신규가입하시려면 우선 고객님께서는인터넷뱅킹에 가입하셔야 하며 신규방법은 두 가지가 있습니다.1.\\n\\n인터넷뱅킹에서 가입인터넷뱅킹 로그인을 하신 후 예금/신탁 > 신규 메뉴에서 예금 및 신탁 상품을 신규하실 수 있습니다.2.\\n\\n신한S뱅크에서 가입신한S뱅크 상품센터 > 예금센터 메뉴에서 예금상품을 신규하실 수 있습니다.', metadata={'source': '신한은행', 'row': 85, 'type': '인터넷뱅킹', 'timestamp': 1697030980.8352115}),\n",
       " Document(page_content='ask: 인터넷뱅킹 송금 수수료는 얼마죠?\\nInformation: 인터넷뱅킹(bank.shinhan.com) 송금 수수료는 우측 퀵메뉴 이용안내 수수료/이용시간안내 인터넷뱅킹 이용수수료 메뉴에서 확인 가능합니다.', metadata={'source': '신한은행', 'row': 86, 'type': '인터넷뱅킹', 'timestamp': 1697030980.8352141}),\n",
       " Document(page_content='ask: 인터넷에서 이체한 거래의 상세내역 및 영수증을 인쇄하고 싶어요\\nInformation: 인터넷상에서 이체한 거래의 경우 인터넷상에서 제공하는 영수증은 없으며, 거래의 참고용으로 단지 조회일자 및 출금 계좌번호 등으로 상세내역(이체 확인증 목록)을 조회하거나 그 내역을 인쇄만 가능합니다.\\n\\n인터넷뱅킹 거래 상세내역(이체확인증 목록)및 입금증(이체확인증) 인쇄 방법은 다음과 같습니다.\\n\\n① 인터넷뱅킹에 접속하여 로그인 ② 이체 → 즉시이체 → 이체결과조회 ③ 조회구분, 출금계좌번호, 조회일자등 상세내역을 조회 ④ 입금확인증목록을 인쇄하시려면 조회된 내역 왼쪽 상단에 보이는 [이체목록인쇄] 버튼을 클릭하면 해당 거래내역을 출력할 수 있으며, 입금확인증을 인쇄하시려면 해당 이체건의 오른쪽에 있는 [인쇄] 버튼을 클릭하시면 됩니다.\\n\\n※ 참고 : 즉시이체 후에도 이체확인증 목록 및 이체확인증을 출력하실 수 있습니다.', metadata={'source': '신한은행', 'row': 87, 'type': '인터넷뱅킹', 'timestamp': 1697030980.8352175}),\n",
       " Document(page_content='ask: 타행으로 자동이체를 신청하고 싶은데요\\nInformation: 인터넷뱅킹을 통한 타은행 계좌로의 자동이체(납부자 자동이체)신청이 가능하며 수수료는 건당 300원 입니다.\\n\\n자동이체를 신청하시려면 인터넷뱅킹에 로그인 하신후 [이체] > [자동이체] > [자동이체 등록] 메뉴를 선택하시면 타행으로의 자동이체 등록을 하실 수 있습니다.\\n\\n※ 주의: 타은행 자동이체는 이체 지정일 전영업일에 고객님의 계좌에서 인출하여 이체지정일자(지정일이 휴일인 경우에는 익영업일)에 타은행 계좌로 입금됩니다.\\n\\n그러므로 예금잔액이 없으면 이체처리가 안되며, 이후잔액이 채워져도 재처리를 하지 않습니다.\\n\\n따라서 고객님께서 자동이체를 신청하실 때에는 충분한 잔액이 있는지 확인하시기 바랍니다.', metadata={'source': '신한은행', 'row': 88, 'type': '인터넷뱅킹', 'timestamp': 1697030980.8352206}),\n",
       " Document(page_content='ask: 공과금 자동이체 신청이 가능한가요?\\nInformation:\\n\\n인터넷뱅킹에 로그인하신 후 \"공과금/법원 > 공과금센터\" 페이지에 가시면 \"지로자동이체 등록\" 메뉴가 있습니다.\\n\\n해당 메뉴를 통하여 \"전기요금, 전화요금, 국민연금, 국민건강보험료 등을 포함하여 각종 지로요금\"을 모두 자동이체 등록하실 수 있습니다.', metadata={'source': '신한은행', 'row': 89, 'type': '인터넷뱅킹', 'timestamp': 1697030980.8352232}),\n",
       " Document(page_content='ask: 인터넷뱅킹 거래에 대한 책임 범위를 알고싶습니다.\\nInformation: 기본적으로 은행이 인터넷뱅킹 사고에 대한 책임을 집니다.\\n\\n해커의 침입에 의해 자금이 불법적으로 유출되었다고 하더라도 이에 대한 책임은 은행에 있습니다.\\n\\n그러나 다음의 경우는 고객께서 책임을 지게 됩니다.\\n\\n계좌번호를 잘못 입력하여 입금함으로써 자금이 의도하지 않은 계좌로 유출된 경우, 인증서암호, 이체비밀번호, 씨크리트카드 등의 관리를 소홀히 하여 타인의 도용에 의해 자금이 불법으로 유출된 경우, 거래도중 자리를 떠나서 타인이 불법으로 자금을 타계좌로 유출한 경우 (Log on 상태에서 자리를 떠나는 것은 대단히 위험하므로 반드시 거래 종료 후 자리를 떠나시기 바랍니다), 사고를 인지하였음에도 사고신고를 하지 않아 신속한 대처를 하지 못하게 방치한 경우', metadata={'source': '신한은행', 'row': 90, 'type': '인터넷뱅킹', 'timestamp': 1697030980.8352265}),\n",
       " Document(page_content='ask: 인터넷뱅킹을 이용하려면 어떻게 해야 합니까?\\n\\n\\nInformation: 영업점에 방문하지 않아도, 모바일에서 신한 쏠 (SOL) 어플 다운로드후 회원가입하시면 인터넷뱅킹/모바일뱅킹 가입이 가능합니다.\\n\\n※ 만 14세 미만의 경우 법정대리인(부모/친권자/후견인)에 의해 영업점 방문하여 가입가능함 기타 궁금하신 내용은 신한은행 고객센터 1599-8000로 문의하여 주시기 바랍니다.', metadata={'source': '신한은행', 'row': 91, 'type': '인터넷뱅킹', 'timestamp': 1697030980.8352296})]"
      ]
     },
     "execution_count": 27,
     "metadata": {},
     "output_type": "execute_result"
    }
   ],
   "source": [
    "docs"
   ]
  },
  {
   "cell_type": "markdown",
   "id": "3efd4c0f-f861-44f0-8d7c-1f4b8ab36d1b",
   "metadata": {
    "tags": []
   },
   "source": [
    "# 3. OpenSearch Client 생성\n",
    "### 선수 조건\n",
    "- 아래의 링크를 참조해서 OpenSearch Service 를 생성하고, opensearch_domain_endpoint, http_auth 를 복사해서, 아래 셀의 내용을 대체 하세요.\n",
    "    - [OpenSearch 생성 가이드](https://github.com/gonsoomoon-ml/Kor-LLM-On-SageMaker/blob/main/2-Lab02-QA-with-RAG/4.rag-fsi-data-workshop/TASK-4_OpenSearch_Creation_and_Vector_Insertion.ipynb)\n",
    "### 아래 셀에 다음의 정보가 입력이 되어야 합니다.\n",
    "```\n",
    "opensearch_domain_endpoint = \"<Type Domain Endpoint>\"\n",
    "http_auth = (rag_user_name, rag_user_password) # Master username, Master password\n",
    "\n",
    "```\n"
   ]
  },
  {
   "cell_type": "code",
   "execution_count": 15,
   "id": "1d1f5685-8e8f-43a6-84d1-6c7b450f817b",
   "metadata": {
    "tags": []
   },
   "outputs": [],
   "source": [
    "from utils.opensearch import opensearch_utils"
   ]
  },
  {
   "cell_type": "code",
   "execution_count": 60,
   "id": "6a1fd652-f8fa-4289-ae5b-90021b553871",
   "metadata": {
    "tags": []
   },
   "outputs": [],
   "source": [
    "aws_region = 'us-east-1'\n",
    "\n",
    "os.environ[\"OpenSearch_UserName\"] = \"<Type UserName>\"\n",
    "os.environ[\"OpenSearch_UserPassword\"] = \"<Type Password>\"\n",
    "\n",
    "rag_user_name = os.environ[\"OpenSearch_UserName\"]\n",
    "rag_user_password = os.environ[\"OpenSearch_UserPassword\"]\n",
    "\n",
    "opensearch_domain_endpoint = \"<Type your domain endpoint>\"\n",
    "\n",
    "http_auth = (rag_user_name, rag_user_password) # Master username, Master password\n",
    "\n",
    "os_client = opensearch_utils.create_aws_opensearch_client(\n",
    "    aws_region,\n",
    "    opensearch_domain_endpoint,\n",
    "    http_auth\n",
    ")\n"
   ]
  },
  {
   "cell_type": "markdown",
   "id": "187ceea4-4d80-41bf-9431-47d5f3902396",
   "metadata": {
    "tags": []
   },
   "source": [
    "# 4. OpenSearch 벡터 Indexer 생성\n",
    "### 선수 조건\n",
    "- 랭체인 오프서처 참고 자료\n",
    "    - [Langchain Opensearch](https://python.langchain.com/docs/integrations/vectorstores/opensearch)"
   ]
  },
  {
   "cell_type": "markdown",
   "id": "3a6c5796-a418-4505-ba28-0ca33c3fa9f8",
   "metadata": {},
   "source": [
    "## 오픈 서치 인덱스 유무에 따라 삭제\n",
    "오픈 서치에 해당 인덱스가 존재하면, 삭제 합니다. "
   ]
  },
  {
   "cell_type": "code",
   "execution_count": 50,
   "id": "9cf8addb-9345-499e-b079-94c2612f88b6",
   "metadata": {
    "tags": []
   },
   "outputs": [
    {
     "name": "stdout",
     "output_type": "stream",
     "text": [
      "index_name=genai-demo-index-v1, exists=True\n",
      "\n",
      "Deleting index:\n",
      "{'acknowledged': True}\n"
     ]
    }
   ],
   "source": [
    "index_name = \"genai-demo-index-v1\"\n",
    "index_exists = opensearch_utils.check_if_index_exists(os_client, index_name)\n",
    "\n",
    "if index_exists:\n",
    "    opensearch_utils.delete_index(os_client, index_name)\n",
    "else:\n",
    "    print(\"Index does not exist\")"
   ]
  },
  {
   "cell_type": "markdown",
   "id": "56ac0292-f3fc-4ef7-a00d-becee90f0dec",
   "metadata": {},
   "source": [
    "## 인덱스 생성"
   ]
  },
  {
   "cell_type": "code",
   "execution_count": 51,
   "id": "40e6a1ae-804d-41f6-8e46-04764a8a5be3",
   "metadata": {
    "tags": []
   },
   "outputs": [],
   "source": [
    "from langchain.vectorstores import OpenSearchVectorSearch"
   ]
  },
  {
   "cell_type": "code",
   "execution_count": 52,
   "id": "591b0e0b-76e2-47c3-a921-b68257fb089f",
   "metadata": {
    "tags": []
   },
   "outputs": [
    {
     "name": "stdout",
     "output_type": "stream",
     "text": [
      "CPU times: user 202 ms, sys: 21 ms, total: 223 ms\n",
      "Wall time: 9.23 s\n"
     ]
    }
   ],
   "source": [
    "%%time\n",
    "# by default langchain would create a k-NN index and the embeddings would be ingested as a k-NN vector type\n",
    "docsearch = OpenSearchVectorSearch.from_documents(\n",
    "    index_name=index_name,\n",
    "    documents=docs,\n",
    "    embedding=llm_emb,\n",
    "    opensearch_url=opensearch_domain_endpoint,\n",
    "    http_auth=http_auth,\n",
    "    bulk_size=10000,\n",
    "    timeout=60\n",
    ")"
   ]
  },
  {
   "cell_type": "markdown",
   "id": "fae62975-2e46-44e7-97e4-c14c2bfa632f",
   "metadata": {},
   "source": [
    "## 인덱스 확인"
   ]
  },
  {
   "cell_type": "code",
   "execution_count": 53,
   "id": "854f27ae-7d4a-410a-bfd0-c482eae75dae",
   "metadata": {
    "tags": []
   },
   "outputs": [],
   "source": [
    "from utils.rag import to_pickle"
   ]
  },
  {
   "cell_type": "code",
   "execution_count": 54,
   "id": "14827f89-c54b-440d-ab7f-5bb22eefc313",
   "metadata": {
    "tags": []
   },
   "outputs": [
    {
     "name": "stdout",
     "output_type": "stream",
     "text": [
      "{'genai-demo-index-v1': {'aliases': {},\n",
      "                         'mappings': {'properties': {'metadata': {'properties': {'row': {'type': 'long'},\n",
      "                                                                                 'source': {'fields': {'keyword': {'ignore_above': 256,\n",
      "                                                                                                                   'type': 'keyword'}},\n",
      "                                                                                            'type': 'text'},\n",
      "                                                                                 'timestamp': {'type': 'float'},\n",
      "                                                                                 'type': {'fields': {'keyword': {'ignore_above': 256,\n",
      "                                                                                                                 'type': 'keyword'}},\n",
      "                                                                                          'type': 'text'}}},\n",
      "                                                     'text': {'fields': {'keyword': {'ignore_above': 256,\n",
      "                                                                                     'type': 'keyword'}},\n",
      "                                                              'type': 'text'},\n",
      "                                                     'vector_field': {'dimension': 1536,\n",
      "                                                                      'method': {'engine': 'nmslib',\n",
      "                                                                                 'name': 'hnsw',\n",
      "                                                                                 'parameters': {'ef_construction': 512,\n",
      "                                                                                                'm': 16},\n",
      "                                                                                 'space_type': 'l2'},\n",
      "                                                                      'type': 'knn_vector'}}},\n",
      "                         'settings': {'index': {'creation_date': '1696834218257',\n",
      "                                                'knn': 'true',\n",
      "                                                'knn.algo_param': {'ef_search': '512'},\n",
      "                                                'number_of_replicas': '1',\n",
      "                                                'number_of_shards': '5',\n",
      "                                                'provided_name': 'genai-demo-index-v1',\n",
      "                                                'uuid': '_ihvGwMuQqaDYegsEmtA5Q',\n",
      "                                                'version': {'created': '136287827'}}}}}\n"
     ]
    }
   ],
   "source": [
    "index_info = os_client.indices.get(index=index_name)\n",
    "pprint(index_info)\n",
    "to_pickle(index_info, \"../utils/tokenizer-index-info-template.pkl\")"
   ]
  },
  {
   "cell_type": "markdown",
   "id": "783076d7-61c8-4796-a91f-dac51b0723e1",
   "metadata": {
    "tags": []
   },
   "source": [
    "## 은전한잎 형태소 분석기 (seunjeon_tokenizer) 사용하기\n",
    "- 영어권의 문자들과 다르게 한글, 일본어, 중국어 등은 단순한 공백만으로는 좋은 검색 결과를 얻기 힘듭니다.\n",
    "- 출시하고라는 단어가 들어간 문서를 출시하고라는 정확히 같은 단어만으로 검색할 수 있다면 답답하겠죠?\n",
    "- 출시하고라는 단어를 출시, 출시하고 등 다양하게 검색하기 위해서는 형태소 분석기가 필요합니다.\n",
    "- https://catalog.us-east-1.prod.workshops.aws/workshops/de4e38cb-a0d9-4ffe-a777-bf00d498fa49/ko-KR/indexing/stemming#"
   ]
  },
  {
   "cell_type": "markdown",
   "id": "d310c188-f4d4-41dd-ba9e-722dc2490519",
   "metadata": {
    "tags": []
   },
   "source": [
    "### 인덱싱 수정하기 (형태소 분석시 사용 enablement)"
   ]
  },
  {
   "cell_type": "code",
   "execution_count": 55,
   "id": "42bfe74d-7204-4820-b8e8-949820e66c30",
   "metadata": {
    "tags": []
   },
   "outputs": [
    {
     "data": {
      "text/plain": [
       "'genai-demo-index-v1-with-tokenizer'"
      ]
     },
     "execution_count": 55,
     "metadata": {},
     "output_type": "execute_result"
    }
   ],
   "source": [
    "new_index_name = f'{index_name}-with-tokenizer'\n",
    "new_index_name"
   ]
  },
  {
   "cell_type": "code",
   "execution_count": 56,
   "id": "35fe5d27-0c48-4cd5-904c-dae434174f02",
   "metadata": {
    "tags": []
   },
   "outputs": [],
   "source": [
    "# Setting for \"은전한잎\" Tokenizer (변경 없음)\n",
    "index_info[index_name][\"settings\"][\"analysis\"] = {\n",
    "    \"tokenizer\": {\n",
    "        \"seunjeon\": {\n",
    "            \"type\": \"seunjeon_tokenizer\"\n",
    "        }\n",
    "    },\n",
    "    \"analyzer\": {\n",
    "        \"my_analyzer\": {\n",
    "            \"type\": \"custom\",\n",
    "            \"tokenizer\": \"seunjeon\"\n",
    "        }\n",
    "    }\n",
    "}\n",
    "\n",
    "# Setting for Columns to be adapted by Tokenizer (tokenizer가 적용될 컬럼에 맞춰서 수정)\n",
    "index_info[index_name][\"mappings\"][\"properties\"][\"text\"][\"analyzer\"] = \"my_analyzer\"\n",
    "index_info[index_name][\"mappings\"][\"properties\"][\"text\"][\"search_analyzer\"] = \"my_analyzer\"\n",
    "\n",
    "# Setting for vector index column (변경 없음)\n",
    "index_info[index_name][\"settings\"][\"index\"] = {\n",
    "    \"number_of_shards\": \"5\",\n",
    "    \"knn.algo_param\": {\"ef_search\": \"512\"},\n",
    "    \"knn\": \"true\",\n",
    "    \"number_of_replicas\": \"2\"\n",
    "}\n",
    "del index_info[index_name][\"aliases\"]\n",
    "new_index_info = index_info[index_name]"
   ]
  },
  {
   "cell_type": "code",
   "execution_count": 59,
   "id": "2c74574e-9147-48c6-bdc0-820e0e1261ab",
   "metadata": {
    "tags": []
   },
   "outputs": [
    {
     "name": "stdout",
     "output_type": "stream",
     "text": [
      "{'mappings': {'properties': {'metadata': {'properties': {'row': {'type': 'long'},\n",
      "                                                         'source': {'fields': {'keyword': {'ignore_above': 256,\n",
      "                                                                                           'type': 'keyword'}},\n",
      "                                                                    'type': 'text'},\n",
      "                                                         'timestamp': {'type': 'float'},\n",
      "                                                         'type': {'fields': {'keyword': {'ignore_above': 256,\n",
      "                                                                                         'type': 'keyword'}},\n",
      "                                                                  'type': 'text'}}},\n",
      "                             'text': {'analyzer': 'my_analyzer',\n",
      "                                      'fields': {'keyword': {'ignore_above': 256,\n",
      "                                                             'type': 'keyword'}},\n",
      "                                      'search_analyzer': 'my_analyzer',\n",
      "                                      'type': 'text'},\n",
      "                             'vector_field': {'dimension': 1536,\n",
      "                                              'method': {'engine': 'nmslib',\n",
      "                                                         'name': 'hnsw',\n",
      "                                                         'parameters': {'ef_construction': 512,\n",
      "                                                                        'm': 16},\n",
      "                                                         'space_type': 'l2'},\n",
      "                                              'type': 'knn_vector'}}},\n",
      " 'settings': {'analysis': {'analyzer': {'my_analyzer': {'tokenizer': 'seunjeon',\n",
      "                                                        'type': 'custom'}},\n",
      "                           'tokenizer': {'seunjeon': {'type': 'seunjeon_tokenizer'}}},\n",
      "              'index': {'knn': 'true',\n",
      "                        'knn.algo_param': {'ef_search': '512'},\n",
      "                        'number_of_replicas': '2',\n",
      "                        'number_of_shards': '5'}}}\n"
     ]
    }
   ],
   "source": [
    "pprint(new_index_info)"
   ]
  },
  {
   "cell_type": "markdown",
   "id": "23fa8849-7144-4579-861f-b9429e11e58f",
   "metadata": {},
   "source": [
    "### 형태소 분석기용 인덱서 생성"
   ]
  },
  {
   "cell_type": "code",
   "execution_count": 61,
   "id": "ea44de00-83b4-4af0-9347-ca1a992fc7e0",
   "metadata": {
    "tags": []
   },
   "outputs": [
    {
     "name": "stdout",
     "output_type": "stream",
     "text": [
      "index_name=genai-demo-index-v1-with-tokenizer, exists=False\n",
      "Index does not exist\n"
     ]
    }
   ],
   "source": [
    "index_exists = opensearch_utils.check_if_index_exists(os_client, new_index_name)\n",
    "if index_exists:\n",
    "    opensearch_utils.delete_index(os_client, new_index_name)\n",
    "else:\n",
    "    print(\"Index does not exist\")"
   ]
  },
  {
   "cell_type": "code",
   "execution_count": 62,
   "id": "f9004d5d-9400-4822-9769-7405a79fd94e",
   "metadata": {
    "tags": []
   },
   "outputs": [
    {
     "name": "stdout",
     "output_type": "stream",
     "text": [
      "\n",
      "Creating index:\n",
      "{'acknowledged': True, 'shards_acknowledged': True, 'index': 'genai-demo-index-v1-with-tokenizer'}\n"
     ]
    }
   ],
   "source": [
    "opensearch_utils.create_index(\n",
    "    os_client,\n",
    "    index_name=new_index_name,\n",
    "    index_body=new_index_info\n",
    ")"
   ]
  },
  {
   "cell_type": "markdown",
   "id": "9b47462d-ccce-47bc-b23d-b86f31f699dc",
   "metadata": {
    "tags": []
   },
   "source": [
    "### Re-indexing"
   ]
  },
  {
   "cell_type": "code",
   "execution_count": 63,
   "id": "70f114e7-47ea-4f54-9dc9-c4ea6e088ecc",
   "metadata": {
    "tags": []
   },
   "outputs": [
    {
     "name": "stdout",
     "output_type": "stream",
     "text": [
      "_reindex: \n",
      " {'source': {'index': 'genai-demo-index-v1'}, 'dest': {'index': 'genai-demo-index-v1-with-tokenizer'}}\n"
     ]
    }
   ],
   "source": [
    "_reindex = {\n",
    "    \"source\": {\"index\": index_name},\n",
    "    \"dest\": {\"index\": new_index_name}\n",
    "}\n",
    "print(\"_reindex: \\n\", _reindex)"
   ]
  },
  {
   "cell_type": "code",
   "execution_count": 64,
   "id": "aafa1768-b98c-45bf-8063-92e9c3aa1681",
   "metadata": {
    "tags": []
   },
   "outputs": [
    {
     "data": {
      "text/plain": [
       "{'took': 583,\n",
       " 'timed_out': False,\n",
       " 'total': 92,\n",
       " 'updated': 0,\n",
       " 'created': 92,\n",
       " 'deleted': 0,\n",
       " 'batches': 1,\n",
       " 'version_conflicts': 0,\n",
       " 'noops': 0,\n",
       " 'retries': {'bulk': 0, 'search': 0},\n",
       " 'throttled_millis': 0,\n",
       " 'requests_per_second': -1.0,\n",
       " 'throttled_until_millis': 0,\n",
       " 'failures': []}"
      ]
     },
     "execution_count": 64,
     "metadata": {},
     "output_type": "execute_result"
    }
   ],
   "source": [
    "os_client.reindex(_reindex)"
   ]
  },
  {
   "cell_type": "markdown",
   "id": "ed402bb8-497d-4da6-8a1b-02de77133251",
   "metadata": {},
   "source": [
    "# 6. 키워드 검색"
   ]
  },
  {
   "cell_type": "markdown",
   "id": "a7b559de-eb37-4286-8609-bdfe8ec08cdd",
   "metadata": {
    "tags": []
   },
   "source": [
    "### 'Text\" 에 \"약관, 뱅킹\" 단어를 검색합니다."
   ]
  },
  {
   "cell_type": "markdown",
   "id": "fd1cfb29-137c-4350-bb1e-99424221a5c7",
   "metadata": {},
   "source": [
    "* without tokenizer (index_name)"
   ]
  },
  {
   "cell_type": "code",
   "execution_count": 65,
   "id": "87964e9a-b4e0-45a9-98ce-7b54e6276239",
   "metadata": {
    "tags": []
   },
   "outputs": [
    {
     "name": "stdout",
     "output_type": "stream",
     "text": [
      "query:  {'query': {'bool': {'must': [{'match': {'text': {'query': '뱅킹', 'minimum_should_match': '0%', 'operator': 'or'}}}], 'filter': []}}}\n",
      "There is no response\n"
     ]
    }
   ],
   "source": [
    "query = \"뱅킹\"\n",
    "query = opensearch_utils.get_query(\n",
    "    query=query\n",
    ")\n",
    "\n",
    "print(\"query: \", query)\n",
    "response = opensearch_utils.search_document(os_client, query, index_name)\n",
    "opensearch_utils.parse_keyword_response(response, show_size=3)"
   ]
  },
  {
   "cell_type": "markdown",
   "id": "45407fab-031e-44c2-8758-bd6d5f6074a9",
   "metadata": {
    "tags": []
   },
   "source": [
    "* with tokenizer (new_index_name)"
   ]
  },
  {
   "cell_type": "code",
   "execution_count": 66,
   "id": "66ea8613-e2a9-4b25-adf9-bbde630b1801",
   "metadata": {
    "tags": []
   },
   "outputs": [
    {
     "name": "stdout",
     "output_type": "stream",
     "text": [
      "query:  {'query': {'bool': {'must': [{'match': {'text': {'query': '뱅킹', 'minimum_should_match': '0%', 'operator': 'or'}}}], 'filter': []}}}\n",
      "# of searched docs:  10\n",
      "# of display: 3\n",
      "---------------------\n",
      "_id in index:  42fea4d5-39eb-4269-946d-a10f73d90e75\n",
      "1.3526084\n",
      "ask: 이체한도란 무엇인가요?\n",
      "Information: 이체한도란 인터넷뱅킹, 폰뱅킹, 모바일뱅킹 등을 통하여 이체할 수 있는 거래한도를 말합니다. ① 1일/1회 이체한도 1일 이체한도란 하루에 거래할 수 있는 이체금액의 합을 말하여, 1회 이체한도란 1회에 이체하실 수 있는 금액의 한도를 말합니다. ② 통합이체한도 인터넷뱅킹, 폰뱅킹, 모바일뱅킹 등을 고객님이 사용하시는 경우 고객님이 1일 또는 1회에 이체하실 수 있는 이체한도를 말합니다. 인터넷뱅킹, 폰뱅킹, 모바일뱅킹 등에서 고객님이 거래하신 이체금액의 합이 통합이체한도의 범위를 초과할 수 없습니다. ③ 최고이체한도 금융감독원에서는 개인의 전자금융 시 이용할 수 있는 이체한도의 가이드라인을 정하고 있습니다.(인터넷뱅킹 : 1일 5억원, 1회 1억원 이내)\n",
      "{'source': '신한은행', 'row': 39, 'type': '인터넷뱅킹', 'timestamp': 1696832766.291876}\n",
      "---------------------\n",
      "_id in index:  f9e647ee-82c8-422a-a197-44a7c424468c\n",
      "1.2793157\n",
      "ask: 인터넷뱅킹 송금 수수료는 얼마죠?\n",
      "Information: 인터넷뱅킹(bank.shinhan.com) 송금 수수료는 우측 퀵메뉴 이용안내 수수료/이용시간안내 인터넷뱅킹 이용수수료 메뉴에서 확인 가능합니다.\n",
      "{'source': '신한은행', 'row': 86, 'type': '인터넷뱅킹', 'timestamp': 1696832766.2920225}\n",
      "---------------------\n",
      "_id in index:  de0ed395-c0fc-423f-9759-5736cc35541d\n",
      "1.2604555\n",
      "ask: 인터넷뱅킹 보안프로그램 - 해킹방지 솔루션 ASTx 기능 안내 해줘요\n",
      "Information: 인터넷뱅킹 이용시 설치되는 해킹방지 솔루션(ASTx : Ahnlab Safe Transaction)은 다음과 같은 기능으로 동작합니다. \n",
      "① 기본 보호모드 : PC부팅시 실행host 파일 보호피싱/파밍 사이트 경고 및 차단자동업데이트 등\n",
      "② 고급 보호모드 : 신한은행 홈페이지/인터넷뱅킹 접속시 실행악성코드 탐지 및 수동검사 치료웹브라우저 메모리 데이터 보호 개인 방화벽화면캡쳐방지 및 원격제어 차단단말정보 수집 등고객님의 안전한 인터넷뱅킹 이용을 위하여 현재 저희 신한은행에서 \n",
      "ASTx프로그램을 설치하면 PC부팅시 신한은행 인터넷뱅킹 접속 여부와 상관없이 기본 보호모드가 동작하게 되며, 저희 신한은행 인터넷뱅킹 접속시 고급 보호모드가 동작하게 됩니다. \n",
      "* PC부팅시 동작하는 기본 보호모드를 제외하고 인터넷뱅킹을 이용하시려면 아래 해킹방지 솔루션 ASTx (기본 보호모드 제외 버전)을 설치후 이용 가능합니다.\n",
      "{'source': '신한은행', 'row': 27, 'type': '', 'timestamp': 1696832766.2918382}\n",
      "---------------------\n"
     ]
    }
   ],
   "source": [
    "query = \"뱅킹\"\n",
    "query = opensearch_utils.get_query(\n",
    "    query=query\n",
    ")\n",
    "\n",
    "print(\"query: \", query)\n",
    "response = opensearch_utils.search_document(os_client, query, new_index_name)\n",
    "opensearch_utils.parse_keyword_response(response, show_size=3)"
   ]
  },
  {
   "cell_type": "markdown",
   "id": "672ac896-637d-4ca5-bf69-b5750aafdfda",
   "metadata": {
    "tags": []
   },
   "source": [
    "## 형태소 분석 결과 확인\n",
    "\"약관\" 또는 \"뱅킹\" 확인 <BR>\n",
    "#### [중요]:  doc_id: 위의 문서 인덱스 정보 확인 후 수정"
   ]
  },
  {
   "cell_type": "code",
   "execution_count": 67,
   "id": "57b6455e-ed40-461d-bfb2-71a4f6027525",
   "metadata": {
    "tags": []
   },
   "outputs": [],
   "source": [
    "doc_id = \"de0ed395-c0fc-423f-9759-5736cc35541d\""
   ]
  },
  {
   "cell_type": "markdown",
   "id": "2085afd4-849e-4a32-8913-a9f4390bcf62",
   "metadata": {
    "tags": []
   },
   "source": [
    "* without tokenizer"
   ]
  },
  {
   "cell_type": "code",
   "execution_count": 68,
   "id": "63d7832a-be76-447c-869f-d22a451e8aa0",
   "metadata": {
    "collapsed": true,
    "jupyter": {
     "outputs_hidden": true
    },
    "tags": []
   },
   "outputs": [
    {
     "data": {
      "text/plain": [
       "{'_index': 'genai-demo-index-v1',\n",
       " '_id': 'de0ed395-c0fc-423f-9759-5736cc35541d',\n",
       " '_version': 1,\n",
       " 'found': True,\n",
       " 'took': 1,\n",
       " 'term_vectors': {'text': {'field_statistics': {'sum_doc_freq': 829,\n",
       "    'doc_count': 18,\n",
       "    'sum_ttf': 1041},\n",
       "   'terms': {'ahnlab': {'term_freq': 1,\n",
       "     'tokens': [{'position': 16, 'start_offset': 88, 'end_offset': 94}]},\n",
       "    'ask': {'term_freq': 1,\n",
       "     'tokens': [{'position': 0, 'start_offset': 0, 'end_offset': 3}]},\n",
       "    'astx': {'term_freq': 3,\n",
       "     'tokens': [{'position': 5, 'start_offset': 29, 'end_offset': 33},\n",
       "      {'position': 15, 'start_offset': 81, 'end_offset': 85},\n",
       "      {'position': 94, 'start_offset': 483, 'end_offset': 487}]},\n",
       "    'astx프로그램을': {'term_freq': 1,\n",
       "     'tokens': [{'position': 64, 'start_offset': 329, 'end_offset': 338}]},\n",
       "    'information': {'term_freq': 1,\n",
       "     'tokens': [{'position': 9, 'start_offset': 44, 'end_offset': 55}]},\n",
       "    'pc부팅시': {'term_freq': 3,\n",
       "     'tokens': [{'position': 26, 'start_offset': 147, 'end_offset': 152},\n",
       "      {'position': 66, 'start_offset': 344, 'end_offset': 349},\n",
       "      {'position': 84, 'start_offset': 432, 'end_offset': 437}]},\n",
       "    'safe': {'term_freq': 1,\n",
       "     'tokens': [{'position': 17, 'start_offset': 95, 'end_offset': 99}]},\n",
       "    'transaction': {'term_freq': 1,\n",
       "     'tokens': [{'position': 18, 'start_offset': 100, 'end_offset': 111}]},\n",
       "    '가능합니다': {'term_freq': 1,\n",
       "     'tokens': [{'position': 102, 'start_offset': 512, 'end_offset': 517}]},\n",
       "    '같은': {'term_freq': 1,\n",
       "     'tokens': [{'position': 21, 'start_offset': 118, 'end_offset': 120}]},\n",
       "    '개인': {'term_freq': 1,\n",
       "     'tokens': [{'position': 50, 'start_offset': 260, 'end_offset': 262}]},\n",
       "    '경고': {'term_freq': 1,\n",
       "     'tokens': [{'position': 32, 'start_offset': 175, 'end_offset': 177}]},\n",
       "    '고급': {'term_freq': 2,\n",
       "     'tokens': [{'position': 36, 'start_offset': 194, 'end_offset': 196},\n",
       "      {'position': 80, 'start_offset': 409, 'end_offset': 411}]},\n",
       "    '기능': {'term_freq': 1,\n",
       "     'tokens': [{'position': 6, 'start_offset': 34, 'end_offset': 36}]},\n",
       "    '기능으로': {'term_freq': 1,\n",
       "     'tokens': [{'position': 22, 'start_offset': 121, 'end_offset': 125}]},\n",
       "    '기본': {'term_freq': 4,\n",
       "     'tokens': [{'position': 24, 'start_offset': 137, 'end_offset': 139},\n",
       "      {'position': 72, 'start_offset': 373, 'end_offset': 375},\n",
       "      {'position': 86, 'start_offset': 443, 'end_offset': 445},\n",
       "      {'position': 95, 'start_offset': 489, 'end_offset': 491}]},\n",
       "    '다음과': {'term_freq': 1,\n",
       "     'tokens': [{'position': 20, 'start_offset': 114, 'end_offset': 117}]},\n",
       "    '데이터': {'term_freq': 1,\n",
       "     'tokens': [{'position': 48, 'start_offset': 253, 'end_offset': 256}]},\n",
       "    '동작하게': {'term_freq': 2,\n",
       "     'tokens': [{'position': 74, 'start_offset': 382, 'end_offset': 386},\n",
       "      {'position': 82, 'start_offset': 418, 'end_offset': 422}]},\n",
       "    '동작하는': {'term_freq': 1,\n",
       "     'tokens': [{'position': 85, 'start_offset': 438, 'end_offset': 442}]},\n",
       "    '동작합니다': {'term_freq': 1,\n",
       "     'tokens': [{'position': 23, 'start_offset': 126, 'end_offset': 131}]},\n",
       "    '되며': {'term_freq': 1,\n",
       "     'tokens': [{'position': 75, 'start_offset': 387, 'end_offset': 389}]},\n",
       "    '됩니다': {'term_freq': 1,\n",
       "     'tokens': [{'position': 83, 'start_offset': 423, 'end_offset': 426}]},\n",
       "    '등': {'term_freq': 1,\n",
       "     'tokens': [{'position': 35, 'start_offset': 189, 'end_offset': 190}]},\n",
       "    '등고객님의': {'term_freq': 1,\n",
       "     'tokens': [{'position': 56, 'start_offset': 290, 'end_offset': 295}]},\n",
       "    '메모리': {'term_freq': 1,\n",
       "     'tokens': [{'position': 47, 'start_offset': 249, 'end_offset': 252}]},\n",
       "    '및': {'term_freq': 3,\n",
       "     'tokens': [{'position': 33, 'start_offset': 178, 'end_offset': 179},\n",
       "      {'position': 44, 'start_offset': 234, 'end_offset': 235},\n",
       "      {'position': 52, 'start_offset': 273, 'end_offset': 274}]},\n",
       "    '방화벽화면캡쳐방지': {'term_freq': 1,\n",
       "     'tokens': [{'position': 51, 'start_offset': 263, 'end_offset': 272}]},\n",
       "    '버전': {'term_freq': 1,\n",
       "     'tokens': [{'position': 98, 'start_offset': 500, 'end_offset': 502}]},\n",
       "    '보안프로그램': {'term_freq': 1,\n",
       "     'tokens': [{'position': 2, 'start_offset': 11, 'end_offset': 17}]},\n",
       "    '보호': {'term_freq': 1,\n",
       "     'tokens': [{'position': 49, 'start_offset': 257, 'end_offset': 259}]},\n",
       "    '보호모드': {'term_freq': 3,\n",
       "     'tokens': [{'position': 25, 'start_offset': 140, 'end_offset': 144},\n",
       "      {'position': 37, 'start_offset': 197, 'end_offset': 201},\n",
       "      {'position': 96, 'start_offset': 492, 'end_offset': 496}]},\n",
       "    '보호모드가': {'term_freq': 2,\n",
       "     'tokens': [{'position': 73, 'start_offset': 376, 'end_offset': 381},\n",
       "      {'position': 81, 'start_offset': 412, 'end_offset': 417}]},\n",
       "    '보호모드를': {'term_freq': 1,\n",
       "     'tokens': [{'position': 87, 'start_offset': 446, 'end_offset': 451}]},\n",
       "    '보호피싱': {'term_freq': 1,\n",
       "     'tokens': [{'position': 29, 'start_offset': 163, 'end_offset': 167}]},\n",
       "    '사이트': {'term_freq': 1,\n",
       "     'tokens': [{'position': 31, 'start_offset': 171, 'end_offset': 174}]},\n",
       "    '상관없이': {'term_freq': 1,\n",
       "     'tokens': [{'position': 71, 'start_offset': 368, 'end_offset': 372}]},\n",
       "    '설치되는': {'term_freq': 1,\n",
       "     'tokens': [{'position': 12, 'start_offset': 67, 'end_offset': 71}]},\n",
       "    '설치하면': {'term_freq': 1,\n",
       "     'tokens': [{'position': 65, 'start_offset': 339, 'end_offset': 343}]},\n",
       "    '설치후': {'term_freq': 1,\n",
       "     'tokens': [{'position': 100, 'start_offset': 505, 'end_offset': 508}]},\n",
       "    '솔루션': {'term_freq': 3,\n",
       "     'tokens': [{'position': 4, 'start_offset': 25, 'end_offset': 28},\n",
       "      {'position': 14, 'start_offset': 77, 'end_offset': 80},\n",
       "      {'position': 93, 'start_offset': 479, 'end_offset': 482}]},\n",
       "    '수동검사': {'term_freq': 1,\n",
       "     'tokens': [{'position': 45, 'start_offset': 236, 'end_offset': 240}]},\n",
       "    '수집': {'term_freq': 1,\n",
       "     'tokens': [{'position': 55, 'start_offset': 287, 'end_offset': 289}]},\n",
       "    '신한은행': {'term_freq': 3,\n",
       "     'tokens': [{'position': 38, 'start_offset': 204, 'end_offset': 208},\n",
       "      {'position': 67, 'start_offset': 350, 'end_offset': 354},\n",
       "      {'position': 77, 'start_offset': 394, 'end_offset': 398}]},\n",
       "    '신한은행에서': {'term_freq': 1,\n",
       "     'tokens': [{'position': 63, 'start_offset': 320, 'end_offset': 326}]},\n",
       "    '실행host': {'term_freq': 1,\n",
       "     'tokens': [{'position': 27, 'start_offset': 153, 'end_offset': 159}]},\n",
       "    '실행악성코드': {'term_freq': 1,\n",
       "     'tokens': [{'position': 42, 'start_offset': 224, 'end_offset': 230}]},\n",
       "    '아래': {'term_freq': 1,\n",
       "     'tokens': [{'position': 91, 'start_offset': 471, 'end_offset': 473}]},\n",
       "    '안내': {'term_freq': 1,\n",
       "     'tokens': [{'position': 7, 'start_offset': 37, 'end_offset': 39}]},\n",
       "    '안전한': {'term_freq': 1,\n",
       "     'tokens': [{'position': 57, 'start_offset': 296, 'end_offset': 299}]},\n",
       "    '여부와': {'term_freq': 1,\n",
       "     'tokens': [{'position': 70, 'start_offset': 364, 'end_offset': 367}]},\n",
       "    '원격제어': {'term_freq': 1,\n",
       "     'tokens': [{'position': 53, 'start_offset': 275, 'end_offset': 279}]},\n",
       "    '위하여': {'term_freq': 1,\n",
       "     'tokens': [{'position': 60, 'start_offset': 310, 'end_offset': 313}]},\n",
       "    '은': {'term_freq': 1,\n",
       "     'tokens': [{'position': 19, 'start_offset': 112, 'end_offset': 113}]},\n",
       "    '을': {'term_freq': 1,\n",
       "     'tokens': [{'position': 99, 'start_offset': 503, 'end_offset': 504}]},\n",
       "    '이용': {'term_freq': 1,\n",
       "     'tokens': [{'position': 101, 'start_offset': 509, 'end_offset': 511}]},\n",
       "    '이용시': {'term_freq': 1,\n",
       "     'tokens': [{'position': 11, 'start_offset': 63, 'end_offset': 66}]},\n",
       "    '이용을': {'term_freq': 1,\n",
       "     'tokens': [{'position': 59, 'start_offset': 306, 'end_offset': 309}]},\n",
       "    '이용하시려면': {'term_freq': 1,\n",
       "     'tokens': [{'position': 90, 'start_offset': 464, 'end_offset': 470}]},\n",
       "    '인터넷뱅킹': {'term_freq': 6,\n",
       "     'tokens': [{'position': 1, 'start_offset': 5, 'end_offset': 10},\n",
       "      {'position': 10, 'start_offset': 57, 'end_offset': 62},\n",
       "      {'position': 40, 'start_offset': 214, 'end_offset': 219},\n",
       "      {'position': 58, 'start_offset': 300, 'end_offset': 305},\n",
       "      {'position': 68, 'start_offset': 355, 'end_offset': 360},\n",
       "      {'position': 78, 'start_offset': 399, 'end_offset': 404}]},\n",
       "    '인터넷뱅킹을': {'term_freq': 1,\n",
       "     'tokens': [{'position': 89, 'start_offset': 457, 'end_offset': 463}]},\n",
       "    '저희': {'term_freq': 2,\n",
       "     'tokens': [{'position': 62, 'start_offset': 317, 'end_offset': 319},\n",
       "      {'position': 76, 'start_offset': 391, 'end_offset': 393}]},\n",
       "    '접속': {'term_freq': 1,\n",
       "     'tokens': [{'position': 69, 'start_offset': 361, 'end_offset': 363}]},\n",
       "    '접속시': {'term_freq': 2,\n",
       "     'tokens': [{'position': 41, 'start_offset': 220, 'end_offset': 223},\n",
       "      {'position': 79, 'start_offset': 405, 'end_offset': 408}]},\n",
       "    '제외': {'term_freq': 1,\n",
       "     'tokens': [{'position': 97, 'start_offset': 497, 'end_offset': 499}]},\n",
       "    '제외하고': {'term_freq': 1,\n",
       "     'tokens': [{'position': 88, 'start_offset': 452, 'end_offset': 456}]},\n",
       "    '차단단말정보': {'term_freq': 1,\n",
       "     'tokens': [{'position': 54, 'start_offset': 280, 'end_offset': 286}]},\n",
       "    '차단자동업데이트': {'term_freq': 1,\n",
       "     'tokens': [{'position': 34, 'start_offset': 180, 'end_offset': 188}]},\n",
       "    '치료웹브라우저': {'term_freq': 1,\n",
       "     'tokens': [{'position': 46, 'start_offset': 241, 'end_offset': 248}]},\n",
       "    '탐지': {'term_freq': 1,\n",
       "     'tokens': [{'position': 43, 'start_offset': 231, 'end_offset': 233}]},\n",
       "    '파밍': {'term_freq': 1,\n",
       "     'tokens': [{'position': 30, 'start_offset': 168, 'end_offset': 170}]},\n",
       "    '파일': {'term_freq': 1,\n",
       "     'tokens': [{'position': 28, 'start_offset': 160, 'end_offset': 162}]},\n",
       "    '해줘요': {'term_freq': 1,\n",
       "     'tokens': [{'position': 8, 'start_offset': 40, 'end_offset': 43}]},\n",
       "    '해킹방지': {'term_freq': 3,\n",
       "     'tokens': [{'position': 3, 'start_offset': 20, 'end_offset': 24},\n",
       "      {'position': 13, 'start_offset': 72, 'end_offset': 76},\n",
       "      {'position': 92, 'start_offset': 474, 'end_offset': 478}]},\n",
       "    '현재': {'term_freq': 1,\n",
       "     'tokens': [{'position': 61, 'start_offset': 314, 'end_offset': 316}]},\n",
       "    '홈페이지': {'term_freq': 1,\n",
       "     'tokens': [{'position': 39, 'start_offset': 209, 'end_offset': 213}]}}}}}"
      ]
     },
     "execution_count": 68,
     "metadata": {},
     "output_type": "execute_result"
    }
   ],
   "source": [
    "os_client.termvectors(index=index_name, id=doc_id, fields='text')"
   ]
  },
  {
   "cell_type": "markdown",
   "id": "d37ede8b-c80c-417b-bd7a-cd9fb6774210",
   "metadata": {
    "tags": []
   },
   "source": [
    "* with tokenizer"
   ]
  },
  {
   "cell_type": "code",
   "execution_count": 69,
   "id": "fcebfd6b-a750-4a56-8f8c-10403389ac66",
   "metadata": {
    "collapsed": true,
    "jupyter": {
     "outputs_hidden": true
    },
    "tags": []
   },
   "outputs": [
    {
     "data": {
      "text/plain": [
       "{'_index': 'genai-demo-index-v1-with-tokenizer',\n",
       " '_id': 'de0ed395-c0fc-423f-9759-5736cc35541d',\n",
       " '_version': 1,\n",
       " 'found': True,\n",
       " 'took': 22,\n",
       " 'term_vectors': {'text': {'field_statistics': {'sum_doc_freq': 1268,\n",
       "    'doc_count': 18,\n",
       "    'sum_ttf': 1996},\n",
       "   'terms': {'ahnlab/SL': {'term_freq': 1,\n",
       "     'tokens': [{'position': 21, 'start_offset': 88, 'end_offset': 94}]},\n",
       "    'ask/SL': {'term_freq': 1,\n",
       "     'tokens': [{'position': 0, 'start_offset': 0, 'end_offset': 3}]},\n",
       "    'astx/SL': {'term_freq': 4,\n",
       "     'tokens': [{'position': 8, 'start_offset': 29, 'end_offset': 33},\n",
       "      {'position': 20, 'start_offset': 81, 'end_offset': 85},\n",
       "      {'position': 92, 'start_offset': 329, 'end_offset': 333},\n",
       "      {'position': 138, 'start_offset': 483, 'end_offset': 487}]},\n",
       "    'host/SL': {'term_freq': 1,\n",
       "     'tokens': [{'position': 35, 'start_offset': 155, 'end_offset': 159}]},\n",
       "    'information/SL': {'term_freq': 1,\n",
       "     'tokens': [{'position': 12, 'start_offset': 44, 'end_offset': 55}]},\n",
       "    'pc/SL': {'term_freq': 3,\n",
       "     'tokens': [{'position': 31, 'start_offset': 147, 'end_offset': 149},\n",
       "      {'position': 95, 'start_offset': 344, 'end_offset': 346},\n",
       "      {'position': 123, 'start_offset': 432, 'end_offset': 434}]},\n",
       "    'safe/SL': {'term_freq': 1,\n",
       "     'tokens': [{'position': 22, 'start_offset': 95, 'end_offset': 99}]},\n",
       "    'transaction/SL': {'term_freq': 1,\n",
       "     'tokens': [{'position': 23, 'start_offset': 100, 'end_offset': 111}]},\n",
       "    '가능/N': {'term_freq': 1,\n",
       "     'tokens': [{'position': 147, 'start_offset': 512, 'end_offset': 514}]},\n",
       "    '가능합니다/EOJ': {'term_freq': 1,\n",
       "     'tokens': [{'position': 147, 'start_offset': 512, 'end_offset': 517}]},\n",
       "    '같/V': {'term_freq': 1,\n",
       "     'tokens': [{'position': 25, 'start_offset': 118, 'end_offset': 119}]},\n",
       "    '같은/EOJ': {'term_freq': 1,\n",
       "     'tokens': [{'position': 25, 'start_offset': 118, 'end_offset': 120}]},\n",
       "    '개인/N': {'term_freq': 1,\n",
       "     'tokens': [{'position': 68, 'start_offset': 260, 'end_offset': 262}]},\n",
       "    '검사/N': {'term_freq': 1,\n",
       "     'tokens': [{'position': 61, 'start_offset': 238, 'end_offset': 240}]},\n",
       "    '경고/N': {'term_freq': 1,\n",
       "     'tokens': [{'position': 41, 'start_offset': 175, 'end_offset': 177}]},\n",
       "    '고객/N': {'term_freq': 1,\n",
       "     'tokens': [{'position': 82, 'start_offset': 291, 'end_offset': 293}]},\n",
       "    '고객님의/EOJ': {'term_freq': 1,\n",
       "     'tokens': [{'position': 82, 'start_offset': 291, 'end_offset': 295}]},\n",
       "    '고급/N': {'term_freq': 2,\n",
       "     'tokens': [{'position': 47, 'start_offset': 194, 'end_offset': 196},\n",
       "      {'position': 118, 'start_offset': 409, 'end_offset': 411}]},\n",
       "    '기능/N': {'term_freq': 2,\n",
       "     'tokens': [{'position': 9, 'start_offset': 34, 'end_offset': 36},\n",
       "      {'position': 26, 'start_offset': 121, 'end_offset': 123}]},\n",
       "    '기능으로/EOJ': {'term_freq': 1,\n",
       "     'tokens': [{'position': 26, 'start_offset': 121, 'end_offset': 125}]},\n",
       "    '기본/N': {'term_freq': 4,\n",
       "     'tokens': [{'position': 28, 'start_offset': 137, 'end_offset': 139},\n",
       "      {'position': 106, 'start_offset': 373, 'end_offset': 375},\n",
       "      {'position': 127, 'start_offset': 443, 'end_offset': 445},\n",
       "      {'position': 139, 'start_offset': 489, 'end_offset': 491}]},\n",
       "    '다음/N': {'term_freq': 1,\n",
       "     'tokens': [{'position': 24, 'start_offset': 114, 'end_offset': 116}]},\n",
       "    '다음과/EOJ': {'term_freq': 1,\n",
       "     'tokens': [{'position': 24, 'start_offset': 114, 'end_offset': 117}]},\n",
       "    '단말/N': {'term_freq': 1,\n",
       "     'tokens': [{'position': 78, 'start_offset': 282, 'end_offset': 284}]},\n",
       "    '데이터/N': {'term_freq': 1,\n",
       "     'tokens': [{'position': 66, 'start_offset': 253, 'end_offset': 256}]},\n",
       "    '동작/N': {'term_freq': 4,\n",
       "     'tokens': [{'position': 27, 'start_offset': 126, 'end_offset': 128},\n",
       "      {'position': 109, 'start_offset': 382, 'end_offset': 384},\n",
       "      {'position': 121, 'start_offset': 418, 'end_offset': 420},\n",
       "      {'position': 126, 'start_offset': 438, 'end_offset': 440}]},\n",
       "    '동작하게/EOJ': {'term_freq': 2,\n",
       "     'tokens': [{'position': 109, 'start_offset': 382, 'end_offset': 386},\n",
       "      {'position': 121, 'start_offset': 418, 'end_offset': 422}]},\n",
       "    '동작하는/EOJ': {'term_freq': 1,\n",
       "     'tokens': [{'position': 126, 'start_offset': 438, 'end_offset': 442}]},\n",
       "    '동작합니다/EOJ': {'term_freq': 1,\n",
       "     'tokens': [{'position': 27, 'start_offset': 126, 'end_offset': 131}]},\n",
       "    '되/V': {'term_freq': 2,\n",
       "     'tokens': [{'position': 110, 'start_offset': 387, 'end_offset': 388},\n",
       "      {'position': 122, 'start_offset': 423, 'end_offset': 424}]},\n",
       "    '되며/EOJ': {'term_freq': 1,\n",
       "     'tokens': [{'position': 110, 'start_offset': 387, 'end_offset': 389}]},\n",
       "    '됩니다/EOJ': {'term_freq': 1,\n",
       "     'tokens': [{'position': 122, 'start_offset': 423, 'end_offset': 426}]},\n",
       "    '등/N': {'term_freq': 2,\n",
       "     'tokens': [{'position': 46, 'start_offset': 189, 'end_offset': 190},\n",
       "      {'position': 81, 'start_offset': 290, 'end_offset': 291}]},\n",
       "    '메모리/N': {'term_freq': 1,\n",
       "     'tokens': [{'position': 65, 'start_offset': 249, 'end_offset': 252}]},\n",
       "    '모드/N': {'term_freq': 6,\n",
       "     'tokens': [{'position': 30, 'start_offset': 142, 'end_offset': 144},\n",
       "      {'position': 49, 'start_offset': 199, 'end_offset': 201},\n",
       "      {'position': 108, 'start_offset': 378, 'end_offset': 380},\n",
       "      {'position': 120, 'start_offset': 414, 'end_offset': 416},\n",
       "      {'position': 129, 'start_offset': 448, 'end_offset': 450},\n",
       "      {'position': 141, 'start_offset': 494, 'end_offset': 496}]},\n",
       "    '모드가/EOJ': {'term_freq': 2,\n",
       "     'tokens': [{'position': 108, 'start_offset': 378, 'end_offset': 381},\n",
       "      {'position': 120, 'start_offset': 414, 'end_offset': 417}]},\n",
       "    '모드를/EOJ': {'term_freq': 1,\n",
       "     'tokens': [{'position': 129, 'start_offset': 448, 'end_offset': 451}]},\n",
       "    '및/M': {'term_freq': 3,\n",
       "     'tokens': [{'position': 42, 'start_offset': 178, 'end_offset': 179},\n",
       "      {'position': 59, 'start_offset': 234, 'end_offset': 235},\n",
       "      {'position': 74, 'start_offset': 273, 'end_offset': 274}]},\n",
       "    '방지/N': {'term_freq': 4,\n",
       "     'tokens': [{'position': 6, 'start_offset': 22, 'end_offset': 24},\n",
       "      {'position': 18, 'start_offset': 74, 'end_offset': 76},\n",
       "      {'position': 73, 'start_offset': 270, 'end_offset': 272},\n",
       "      {'position': 136, 'start_offset': 476, 'end_offset': 478}]},\n",
       "    '방화/N': {'term_freq': 1,\n",
       "     'tokens': [{'position': 69, 'start_offset': 263, 'end_offset': 265}]},\n",
       "    '방화벽/EOJ': {'term_freq': 1,\n",
       "     'tokens': [{'position': 69, 'start_offset': 263, 'end_offset': 266}]},\n",
       "    '뱅킹/N': {'term_freq': 7,\n",
       "     'tokens': [{'position': 2, 'start_offset': 8, 'end_offset': 10},\n",
       "      {'position': 14, 'start_offset': 60, 'end_offset': 62},\n",
       "      {'position': 54, 'start_offset': 217, 'end_offset': 219},\n",
       "      {'position': 85, 'start_offset': 303, 'end_offset': 305},\n",
       "      {'position': 101, 'start_offset': 358, 'end_offset': 360},\n",
       "      {'position': 115, 'start_offset': 402, 'end_offset': 404},\n",
       "      {'position': 132, 'start_offset': 460, 'end_offset': 462}]},\n",
       "    '뱅킹을/EOJ': {'term_freq': 1,\n",
       "     'tokens': [{'position': 132, 'start_offset': 460, 'end_offset': 463}]},\n",
       "    '뱅킹이/EOJ': {'term_freq': 1,\n",
       "     'tokens': [{'position': 14, 'start_offset': 60, 'end_offset': 64}]},\n",
       "    '버전/N': {'term_freq': 1,\n",
       "     'tokens': [{'position': 143, 'start_offset': 500, 'end_offset': 502}]},\n",
       "    '벽/N': {'term_freq': 1,\n",
       "     'tokens': [{'position': 70, 'start_offset': 265, 'end_offset': 266}]},\n",
       "    '보안/N': {'term_freq': 1,\n",
       "     'tokens': [{'position': 3, 'start_offset': 11, 'end_offset': 13}]},\n",
       "    '보호/N': {'term_freq': 8,\n",
       "     'tokens': [{'position': 29, 'start_offset': 140, 'end_offset': 142},\n",
       "      {'position': 37, 'start_offset': 163, 'end_offset': 165},\n",
       "      {'position': 48, 'start_offset': 197, 'end_offset': 199},\n",
       "      {'position': 67, 'start_offset': 257, 'end_offset': 259},\n",
       "      {'position': 107, 'start_offset': 376, 'end_offset': 378},\n",
       "      {'position': 119, 'start_offset': 412, 'end_offset': 414},\n",
       "      {'position': 128, 'start_offset': 446, 'end_offset': 448},\n",
       "      {'position': 140, 'start_offset': 492, 'end_offset': 494}]},\n",
       "    '부팅/N': {'term_freq': 3,\n",
       "     'tokens': [{'position': 32, 'start_offset': 149, 'end_offset': 151},\n",
       "      {'position': 96, 'start_offset': 346, 'end_offset': 348},\n",
       "      {'position': 124, 'start_offset': 434, 'end_offset': 436}]},\n",
       "    '브라우저/N': {'term_freq': 1,\n",
       "     'tokens': [{'position': 64, 'start_offset': 244, 'end_offset': 248}]},\n",
       "    '사이트/N': {'term_freq': 1,\n",
       "     'tokens': [{'position': 40, 'start_offset': 171, 'end_offset': 174}]},\n",
       "    '상관/N': {'term_freq': 1,\n",
       "     'tokens': [{'position': 104, 'start_offset': 368, 'end_offset': 370}]},\n",
       "    '설치/N': {'term_freq': 3,\n",
       "     'tokens': [{'position': 16, 'start_offset': 67, 'end_offset': 69},\n",
       "      {'position': 94, 'start_offset': 339, 'end_offset': 341},\n",
       "      {'position': 144, 'start_offset': 505, 'end_offset': 507}]},\n",
       "    '설치되는/EOJ': {'term_freq': 1,\n",
       "     'tokens': [{'position': 16, 'start_offset': 67, 'end_offset': 71}]},\n",
       "    '설치하면/EOJ': {'term_freq': 1,\n",
       "     'tokens': [{'position': 94, 'start_offset': 339, 'end_offset': 343}]},\n",
       "    '솔루션/N': {'term_freq': 3,\n",
       "     'tokens': [{'position': 7, 'start_offset': 25, 'end_offset': 28},\n",
       "      {'position': 19, 'start_offset': 77, 'end_offset': 80},\n",
       "      {'position': 137, 'start_offset': 479, 'end_offset': 482}]},\n",
       "    '수동/N': {'term_freq': 1,\n",
       "     'tokens': [{'position': 60, 'start_offset': 236, 'end_offset': 238}]},\n",
       "    '수집/N': {'term_freq': 1,\n",
       "     'tokens': [{'position': 80, 'start_offset': 287, 'end_offset': 289}]},\n",
       "    '시/N': {'term_freq': 5,\n",
       "     'tokens': [{'position': 33, 'start_offset': 151, 'end_offset': 152},\n",
       "      {'position': 56, 'start_offset': 222, 'end_offset': 223},\n",
       "      {'position': 97, 'start_offset': 348, 'end_offset': 349},\n",
       "      {'position': 117, 'start_offset': 407, 'end_offset': 408},\n",
       "      {'position': 125, 'start_offset': 436, 'end_offset': 437}]},\n",
       "    '신한/N': {'term_freq': 4,\n",
       "     'tokens': [{'position': 50, 'start_offset': 204, 'end_offset': 206},\n",
       "      {'position': 90, 'start_offset': 320, 'end_offset': 322},\n",
       "      {'position': 98, 'start_offset': 350, 'end_offset': 352},\n",
       "      {'position': 112, 'start_offset': 394, 'end_offset': 396}]},\n",
       "    '신한은행/EOJ': {'term_freq': 3,\n",
       "     'tokens': [{'position': 50, 'start_offset': 204, 'end_offset': 208},\n",
       "      {'position': 98, 'start_offset': 350, 'end_offset': 354},\n",
       "      {'position': 112, 'start_offset': 394, 'end_offset': 398}]},\n",
       "    '신한은행에서/EOJ': {'term_freq': 1,\n",
       "     'tokens': [{'position': 90, 'start_offset': 320, 'end_offset': 326}]},\n",
       "    '실행/N': {'term_freq': 1,\n",
       "     'tokens': [{'position': 34, 'start_offset': 153, 'end_offset': 155}]},\n",
       "    '실행악성코드/UNK': {'term_freq': 1,\n",
       "     'tokens': [{'position': 57, 'start_offset': 224, 'end_offset': 230}]},\n",
       "    '아래/N': {'term_freq': 1,\n",
       "     'tokens': [{'position': 134, 'start_offset': 471, 'end_offset': 473}]},\n",
       "    '안내/N': {'term_freq': 1,\n",
       "     'tokens': [{'position': 10, 'start_offset': 37, 'end_offset': 39}]},\n",
       "    '안내해줘요/EOJ': {'term_freq': 1,\n",
       "     'tokens': [{'position': 10, 'start_offset': 37, 'end_offset': 43}]},\n",
       "    '안전/N': {'term_freq': 1,\n",
       "     'tokens': [{'position': 83, 'start_offset': 296, 'end_offset': 298}]},\n",
       "    '안전한/EOJ': {'term_freq': 1,\n",
       "     'tokens': [{'position': 83, 'start_offset': 296, 'end_offset': 299}]},\n",
       "    '업데이트/N': {'term_freq': 1,\n",
       "     'tokens': [{'position': 45, 'start_offset': 184, 'end_offset': 188}]},\n",
       "    '없이/M': {'term_freq': 1,\n",
       "     'tokens': [{'position': 105, 'start_offset': 370, 'end_offset': 372}]},\n",
       "    '여부/N': {'term_freq': 1,\n",
       "     'tokens': [{'position': 103, 'start_offset': 364, 'end_offset': 366}]},\n",
       "    '여부와/EOJ': {'term_freq': 1,\n",
       "     'tokens': [{'position': 103, 'start_offset': 364, 'end_offset': 367}]},\n",
       "    '용시/N': {'term_freq': 1,\n",
       "     'tokens': [{'position': 15, 'start_offset': 64, 'end_offset': 66}]},\n",
       "    '원격/N': {'term_freq': 1,\n",
       "     'tokens': [{'position': 75, 'start_offset': 275, 'end_offset': 277}]},\n",
       "    '웹/N': {'term_freq': 1,\n",
       "     'tokens': [{'position': 63, 'start_offset': 243, 'end_offset': 244}]},\n",
       "    '위하/V': {'term_freq': 1,\n",
       "     'tokens': [{'position': 87, 'start_offset': 310, 'end_offset': 312}]},\n",
       "    '위하여/EOJ': {'term_freq': 1,\n",
       "     'tokens': [{'position': 87, 'start_offset': 310, 'end_offset': 313}]},\n",
       "    '은행/N': {'term_freq': 4,\n",
       "     'tokens': [{'position': 51, 'start_offset': 206, 'end_offset': 208},\n",
       "      {'position': 91, 'start_offset': 322, 'end_offset': 324},\n",
       "      {'position': 99, 'start_offset': 352, 'end_offset': 354},\n",
       "      {'position': 113, 'start_offset': 396, 'end_offset': 398}]},\n",
       "    '이용/N': {'term_freq': 3,\n",
       "     'tokens': [{'position': 86, 'start_offset': 306, 'end_offset': 308},\n",
       "      {'position': 133, 'start_offset': 464, 'end_offset': 466},\n",
       "      {'position': 146, 'start_offset': 509, 'end_offset': 511}]},\n",
       "    '이용을/EOJ': {'term_freq': 1,\n",
       "     'tokens': [{'position': 86, 'start_offset': 306, 'end_offset': 309}]},\n",
       "    '이용하시려면/EOJ': {'term_freq': 1,\n",
       "     'tokens': [{'position': 133, 'start_offset': 464, 'end_offset': 470}]},\n",
       "    '인터넷/N': {'term_freq': 7,\n",
       "     'tokens': [{'position': 1, 'start_offset': 5, 'end_offset': 8},\n",
       "      {'position': 13, 'start_offset': 57, 'end_offset': 60},\n",
       "      {'position': 53, 'start_offset': 214, 'end_offset': 217},\n",
       "      {'position': 84, 'start_offset': 300, 'end_offset': 303},\n",
       "      {'position': 100, 'start_offset': 355, 'end_offset': 358},\n",
       "      {'position': 114, 'start_offset': 399, 'end_offset': 402},\n",
       "      {'position': 131, 'start_offset': 457, 'end_offset': 460}]},\n",
       "    '자동/N': {'term_freq': 1,\n",
       "     'tokens': [{'position': 44, 'start_offset': 182, 'end_offset': 184}]},\n",
       "    '저희/N': {'term_freq': 2,\n",
       "     'tokens': [{'position': 89, 'start_offset': 317, 'end_offset': 319},\n",
       "      {'position': 111, 'start_offset': 391, 'end_offset': 393}]},\n",
       "    '접속/N': {'term_freq': 3,\n",
       "     'tokens': [{'position': 55, 'start_offset': 220, 'end_offset': 222},\n",
       "      {'position': 102, 'start_offset': 361, 'end_offset': 363},\n",
       "      {'position': 116, 'start_offset': 405, 'end_offset': 407}]},\n",
       "    '정보/N': {'term_freq': 1,\n",
       "     'tokens': [{'position': 79, 'start_offset': 284, 'end_offset': 286}]},\n",
       "    '제어/N': {'term_freq': 1,\n",
       "     'tokens': [{'position': 76, 'start_offset': 277, 'end_offset': 279}]},\n",
       "    '제외/N': {'term_freq': 2,\n",
       "     'tokens': [{'position': 130, 'start_offset': 452, 'end_offset': 454},\n",
       "      {'position': 142, 'start_offset': 497, 'end_offset': 499}]},\n",
       "    '제외하고/EOJ': {'term_freq': 1,\n",
       "     'tokens': [{'position': 130, 'start_offset': 452, 'end_offset': 456}]},\n",
       "    '주/V': {'term_freq': 1,\n",
       "     'tokens': [{'position': 11, 'start_offset': 41, 'end_offset': 42}]},\n",
       "    '차단/N': {'term_freq': 2,\n",
       "     'tokens': [{'position': 43, 'start_offset': 180, 'end_offset': 182},\n",
       "      {'position': 77, 'start_offset': 280, 'end_offset': 282}]},\n",
       "    '치료/N': {'term_freq': 1,\n",
       "     'tokens': [{'position': 62, 'start_offset': 241, 'end_offset': 243}]},\n",
       "    '캡쳐/N': {'term_freq': 1,\n",
       "     'tokens': [{'position': 72, 'start_offset': 268, 'end_offset': 270}]},\n",
       "    '탐지/N': {'term_freq': 1,\n",
       "     'tokens': [{'position': 58, 'start_offset': 231, 'end_offset': 233}]},\n",
       "    '파밍/N': {'term_freq': 1,\n",
       "     'tokens': [{'position': 39, 'start_offset': 168, 'end_offset': 170}]},\n",
       "    '파일/N': {'term_freq': 1,\n",
       "     'tokens': [{'position': 36, 'start_offset': 160, 'end_offset': 162}]},\n",
       "    '프로그램/N': {'term_freq': 2,\n",
       "     'tokens': [{'position': 4, 'start_offset': 13, 'end_offset': 17},\n",
       "      {'position': 93, 'start_offset': 333, 'end_offset': 337}]},\n",
       "    '프로그램을/EOJ': {'term_freq': 1,\n",
       "     'tokens': [{'position': 93, 'start_offset': 333, 'end_offset': 338}]},\n",
       "    '피싱/N': {'term_freq': 1,\n",
       "     'tokens': [{'position': 38, 'start_offset': 165, 'end_offset': 167}]},\n",
       "    '해킹/N': {'term_freq': 3,\n",
       "     'tokens': [{'position': 5, 'start_offset': 20, 'end_offset': 22},\n",
       "      {'position': 17, 'start_offset': 72, 'end_offset': 74},\n",
       "      {'position': 135, 'start_offset': 474, 'end_offset': 476}]},\n",
       "    '현재/M': {'term_freq': 1,\n",
       "     'tokens': [{'position': 88, 'start_offset': 314, 'end_offset': 316}]},\n",
       "    '홈페이지/N': {'term_freq': 1,\n",
       "     'tokens': [{'position': 52, 'start_offset': 209, 'end_offset': 213}]},\n",
       "    '화면/N': {'term_freq': 1,\n",
       "     'tokens': [{'position': 71, 'start_offset': 266, 'end_offset': 268}]},\n",
       "    '후/N': {'term_freq': 1,\n",
       "     'tokens': [{'position': 145, 'start_offset': 507, 'end_offset': 508}]}}}}}"
      ]
     },
     "execution_count": 69,
     "metadata": {},
     "output_type": "execute_result"
    }
   ],
   "source": [
    "os_client.termvectors(index=new_index_name, id=doc_id, fields='text')"
   ]
  },
  {
   "cell_type": "markdown",
   "id": "897a3428-2aae-48a8-9484-940c9ce92b55",
   "metadata": {},
   "source": [
    "## Minimum_should_match 활용\n",
    "- An optional parameter of type string that represents the minimum number of matching clauses for a document to be returned. This should only be used with “OR” operator, and is more flexible than a simple “and/or,” since users can set rules depending on the length of the phrase to be matched. \n",
    "    - **query에 있는 단어의 n%이상 존재하는 문서만 가져온다**\n",
    "    - 75% (eg. 3 out of 4 words to be matched, or 6 out of 8)\n",
    "    - 2  (minimum 2 words to be matched, irrespective of length of string)"
   ]
  },
  {
   "cell_type": "markdown",
   "id": "03126278-080c-489c-bd7e-b0520becc5eb",
   "metadata": {},
   "source": [
    "min_shoud_match를 25, 75, 100 으로 변경해 보자\n",
    " - 숫자가 작아질 수록 검색 문서가 많아진다\n",
    " - 추가정보는 아래를 참고\n",
    "     - [OpenSearch Match, Multi-Match, and Match Phrase Queries](https://opster.com/guides/opensearch/opensearch-search-apis/opensearch-match-multi-match-and-match-phrase-queries/)\n",
    "     - OpenSearch Query 에서 Filter, Must, Should, Not Mush 에 대한 설명 입니다.\n",
    "         - [OpenSearch Boolean Queries](https://opster.com/guides/opensearch/opensearch-search-apis/opensearch-boolean-queries/#:~:text=Boolean%20queries%20are%20used%20to,as%20terms%2C%20match%20and%20query_string.)"
   ]
  },
  {
   "cell_type": "markdown",
   "id": "9fb2a3f3-ab24-4c44-b3ac-9f744e732101",
   "metadata": {},
   "source": [
    "##### minimum_should_match=25"
   ]
  },
  {
   "cell_type": "code",
   "execution_count": 70,
   "id": "382a4553-c18b-4812-941b-ef2b9075cfa6",
   "metadata": {
    "tags": []
   },
   "outputs": [
    {
     "name": "stdout",
     "output_type": "stream",
     "text": [
      "query:  {'query': {'bool': {'must': [{'match': {'text': {'query': '인터넷 뱅킹으로 예적금 해약', 'minimum_should_match': '25%', 'operator': 'or'}}}], 'filter': []}}}\n",
      "# of searched docs:  10\n",
      "# of display: 3\n",
      "---------------------\n",
      "_id in index:  d0f50505-15b0-486e-bda9-8f75b310220e\n",
      "8.807308\n",
      "ask: 인터넷 예적금 해약하려면 어떻게 해야 하나요?\n",
      "Information: 인터넷에서 신규하셨고, 이후 통장발급을 받지 않으셨다면 인터넷뱅킹(http://bank.shinhan.com)의 금융상품 예금/신탁 해지 메뉴를 통해 해지하실 수 있습니다.\n",
      "{'source': '신한은행', 'row': 70, 'type': '', 'timestamp': 1696832766.2919757}\n",
      "---------------------\n",
      "_id in index:  e21235dd-0a0d-475b-ba63-d78d4d1d63ee\n",
      "5.9568224\n",
      "ask: 인터넷으로 신규 예/적금 신청하는 방법을 알려주세요\n",
      "Information: 인터넷상으로 예금/신탁을 신규가입하시려면 우선 고객님께서는인터넷뱅킹에 가입하셔야 하며 신규방법은 두 가지가 있습니다.1. 인터넷뱅킹에서 가입인터넷뱅킹 로그인을 하신 후 예금/신탁 > 신규 메뉴에서 예금 및 신탁 상품을 신규하실 수 있습니다.2. 신한S뱅크에서 가입신한S뱅크 상품센터 > 예금센터 메뉴에서 예금상품을 신규하실 수 있습니다.\n",
      "{'source': '신한은행', 'row': 85, 'type': '인터넷뱅킹', 'timestamp': 1696832766.29202}\n",
      "---------------------\n",
      "_id in index:  c4e31eaa-b4ef-49aa-9ec4-ade3e3976859\n",
      "3.7442846\n",
      "ask: 신탁적금(당행)으로 이체시 토요일 인터넷뱅시간 제한하는 방법은?\n",
      "Information: \"우측 상단 QUICK MENU의 이용안내를 참고하시기 바랍니다.\n",
      "{'source': '신한은행', 'row': 63, 'type': '인증서', 'timestamp': 1696832766.2919488}\n",
      "---------------------\n"
     ]
    }
   ],
   "source": [
    "query = \"인터넷 뱅킹으로 예적금 해약\"\n",
    "query = opensearch_utils.get_query(\n",
    "    query=query,\n",
    "    minimum_should_match=25\n",
    ")\n",
    "\n",
    "print(\"query: \", query)\n",
    "response = opensearch_utils.search_document(os_client, query, new_index_name)\n",
    "opensearch_utils.parse_keyword_response(response, show_size=3)"
   ]
  },
  {
   "cell_type": "markdown",
   "id": "4bb5a050-e322-4299-8868-cc20f90a2ac9",
   "metadata": {},
   "source": [
    "##### minimum_should_match=75"
   ]
  },
  {
   "cell_type": "code",
   "execution_count": 74,
   "id": "d0c01d4b-bfb2-4299-b09d-6eb426a11af0",
   "metadata": {
    "tags": []
   },
   "outputs": [
    {
     "name": "stdout",
     "output_type": "stream",
     "text": [
      "query:  {'query': {'bool': {'must': [{'match': {'text': {'query': '인터넷 뱅킹으로 예적금 해약', 'minimum_should_match': '75%', 'operator': 'or'}}}], 'filter': []}}}\n",
      "# of searched docs:  2\n",
      "# of display: 3\n",
      "---------------------\n",
      "_id in index:  d0f50505-15b0-486e-bda9-8f75b310220e\n",
      "8.807308\n",
      "ask: 인터넷 예적금 해약하려면 어떻게 해야 하나요?\n",
      "Information: 인터넷에서 신규하셨고, 이후 통장발급을 받지 않으셨다면 인터넷뱅킹(http://bank.shinhan.com)의 금융상품 예금/신탁 해지 메뉴를 통해 해지하실 수 있습니다.\n",
      "{'source': '신한은행', 'row': 70, 'type': '', 'timestamp': 1696832766.2919757}\n",
      "---------------------\n",
      "_id in index:  e21235dd-0a0d-475b-ba63-d78d4d1d63ee\n",
      "5.9568224\n",
      "ask: 인터넷으로 신규 예/적금 신청하는 방법을 알려주세요\n",
      "Information: 인터넷상으로 예금/신탁을 신규가입하시려면 우선 고객님께서는인터넷뱅킹에 가입하셔야 하며 신규방법은 두 가지가 있습니다.1. 인터넷뱅킹에서 가입인터넷뱅킹 로그인을 하신 후 예금/신탁 > 신규 메뉴에서 예금 및 신탁 상품을 신규하실 수 있습니다.2. 신한S뱅크에서 가입신한S뱅크 상품센터 > 예금센터 메뉴에서 예금상품을 신규하실 수 있습니다.\n",
      "{'source': '신한은행', 'row': 85, 'type': '인터넷뱅킹', 'timestamp': 1696832766.29202}\n",
      "---------------------\n"
     ]
    }
   ],
   "source": [
    "query = \"인터넷 뱅킹으로 예적금 해약\"\n",
    "query = opensearch_utils.get_query(\n",
    "    query=query,\n",
    "    minimum_should_match=75\n",
    ")\n",
    "\n",
    "print(\"query: \", query)\n",
    "response = opensearch_utils.search_document(os_client, query, new_index_name)\n",
    "opensearch_utils.parse_keyword_response(response, show_size=3)"
   ]
  },
  {
   "cell_type": "markdown",
   "id": "63a7a41c-8b6d-46d4-bba7-c73e6540032f",
   "metadata": {
    "tags": []
   },
   "source": [
    "##### minimum_should_match=100"
   ]
  },
  {
   "cell_type": "code",
   "execution_count": 76,
   "id": "0b3eaf3d-1636-447d-9e0a-9674370f85a2",
   "metadata": {
    "tags": []
   },
   "outputs": [
    {
     "name": "stdout",
     "output_type": "stream",
     "text": [
      "query:  {'query': {'bool': {'must': [{'match': {'text': {'query': '인터넷 뱅킹으로 예적금 해약', 'minimum_should_match': '100%', 'operator': 'or'}}}], 'filter': []}}}\n",
      "# of searched docs:  1\n",
      "# of display: 3\n",
      "---------------------\n",
      "_id in index:  d0f50505-15b0-486e-bda9-8f75b310220e\n",
      "8.807308\n",
      "ask: 인터넷 예적금 해약하려면 어떻게 해야 하나요?\n",
      "Information: 인터넷에서 신규하셨고, 이후 통장발급을 받지 않으셨다면 인터넷뱅킹(http://bank.shinhan.com)의 금융상품 예금/신탁 해지 메뉴를 통해 해지하실 수 있습니다.\n",
      "{'source': '신한은행', 'row': 70, 'type': '', 'timestamp': 1696832766.2919757}\n",
      "---------------------\n"
     ]
    }
   ],
   "source": [
    "query = \"인터넷 뱅킹으로 예적금 해약\"\n",
    "query = opensearch_utils.get_query(\n",
    "    query=query,\n",
    "    minimum_should_match=100\n",
    ")\n",
    "\n",
    "print(\"query: \", query)\n",
    "response = opensearch_utils.search_document(os_client, query, new_index_name)\n",
    "opensearch_utils.parse_keyword_response(response, show_size=3)"
   ]
  },
  {
   "cell_type": "markdown",
   "id": "ef366161-656e-4a4a-a800-c7b4a32bdb9e",
   "metadata": {
    "tags": []
   },
   "source": [
    "## Filter 활용\n",
    "- document내 metadata를 활용하여 search space를 줄일 수 있다.\n",
    "- 특히 filter의 경우 search 전에 수행되기 때문에, 검색 속도 향상을 기대할 수 있다\n",
    "- syntax\n",
    "    - filter=[{\"term\"**[고정]**: {\"metadata.source\"**[메타데이터 이름, 혹은 메타데이터 아니여도 상관없음]**: \"신한은행\"**[조건명]**}},]\n",
    "    - list 형식으로 복수개 filter 설정 가능"
   ]
  },
  {
   "cell_type": "code",
   "execution_count": 72,
   "id": "23e178cf-014c-49e2-89e2-9f2191583f17",
   "metadata": {
    "tags": []
   },
   "outputs": [
    {
     "name": "stdout",
     "output_type": "stream",
     "text": [
      "query:  {'query': {'bool': {'must': [{'match': {'text': {'query': '인터넷 뱅킹으로 예적금 해약', 'minimum_should_match': '75%', 'operator': 'or'}}}], 'filter': [{'term': {'metadata.source': '신한은행'}}, {'term': {'metadata.type': '인터넷뱅킹'}}]}}}\n",
      "# of searched docs:  1\n",
      "# of display: 3\n",
      "---------------------\n",
      "_id in index:  e21235dd-0a0d-475b-ba63-d78d4d1d63ee\n",
      "5.9568224\n",
      "ask: 인터넷으로 신규 예/적금 신청하는 방법을 알려주세요\n",
      "Information: 인터넷상으로 예금/신탁을 신규가입하시려면 우선 고객님께서는인터넷뱅킹에 가입하셔야 하며 신규방법은 두 가지가 있습니다.1. 인터넷뱅킹에서 가입인터넷뱅킹 로그인을 하신 후 예금/신탁 > 신규 메뉴에서 예금 및 신탁 상품을 신규하실 수 있습니다.2. 신한S뱅크에서 가입신한S뱅크 상품센터 > 예금센터 메뉴에서 예금상품을 신규하실 수 있습니다.\n",
      "{'source': '신한은행', 'row': 85, 'type': '인터넷뱅킹', 'timestamp': 1696832766.29202}\n",
      "---------------------\n"
     ]
    }
   ],
   "source": [
    "query = \"인터넷 뱅킹으로 예적금 해약\"\n",
    "query = opensearch_utils.get_query(\n",
    "    query=query,\n",
    "    minimum_should_match=75,\n",
    "    filter=[\n",
    "        {\"term\": {\"metadata.source\": \"신한은행\"}},\n",
    "        {\"term\": {\"metadata.type\": \"인터넷뱅킹\"}},\n",
    "    ]\n",
    ")\n",
    "\n",
    "print(\"query: \", query)\n",
    "response = opensearch_utils.search_document(os_client, query, new_index_name)\n",
    "opensearch_utils.parse_keyword_response(response, show_size=3)"
   ]
  },
  {
   "cell_type": "markdown",
   "id": "8be2605d-4e07-4163-808e-9315777215b8",
   "metadata": {},
   "source": [
    "## tokenized index example (참고용)"
   ]
  },
  {
   "cell_type": "code",
   "execution_count": 47,
   "id": "e031809c-75e9-4f0d-a430-ae983fed1c80",
   "metadata": {
    "tags": []
   },
   "outputs": [],
   "source": [
    "test_index_info = {\n",
    "    \"settings\": {\n",
    "        \"index\": {\n",
    "            \"number_of_shards\": \"5\",\n",
    "            \"knn.algo_param\": {\"ef_search\": \"512\"},\n",
    "            \"knn\": \"true\",\n",
    "            \"number_of_replicas\": \"2\"\n",
    "        },\n",
    "        \"analysis\": {\n",
    "            \"tokenizer\": {\n",
    "                \"seunjeon\": {\n",
    "                    \"type\": \"seunjeon_tokenizer\"\n",
    "                }\n",
    "            },\n",
    "            \"analyzer\": {\n",
    "                \"my_analyzer\": {\n",
    "                    \"type\": \"custom\",\n",
    "                    \"tokenizer\": \"seunjeon\"\n",
    "                }\n",
    "            }\n",
    "        }\n",
    "    },\n",
    "    \"mappings\": {\n",
    "        \"properties\": {\n",
    "            \"metadata\": {\n",
    "                \"properties\": {\n",
    "                    \"row\": {\"type\": \"long\"},\n",
    "                    \"source\": {\n",
    "                        \"type\": \"text\",\n",
    "                        \"fields\": {\n",
    "                            \"keyword\": {\n",
    "                                \"type\": \"keyword\",\n",
    "                                \"ignore_above\": 256\n",
    "                            }\n",
    "                        }\n",
    "                    },\n",
    "                    \"timestamp\": {\"type\": \"float\"},\n",
    "                    \"type\": {\n",
    "                        \"type\": \"text\",\n",
    "                        \"fields\": {\n",
    "                            \"keyword\": {\n",
    "                                \"type\": \"keyword\",\n",
    "                                \"ignore_above\": 256\n",
    "                            }\n",
    "                        }\n",
    "                    }\n",
    "                }\n",
    "            },\n",
    "            \"text\": {\n",
    "                \"type\": \"text\",\n",
    "                \"analyzer\": \"my_analyzer\",\n",
    "                \"search_analyzer\": \"my_analyzer\",\n",
    "                \"fields\": {\n",
    "                    \"keyword\": {\n",
    "                        \"type\": \"keyword\",\n",
    "                        \"ignore_above\": 256\n",
    "                    }\n",
    "                }\n",
    "            },\n",
    "            \"vector_field\": {\n",
    "                \"type\": \"knn_vector\",\n",
    "                \"dimension\": 1536,\n",
    "                \"method\": {\n",
    "                    \"engine\": \"nmslib\",\n",
    "                    \"space_type\": \"l2\",\n",
    "                    \"name\": \"hnsw\",\n",
    "                    \"parameters\": {\n",
    "                        \"ef_construction\": 512,\n",
    "                        \"m\": 16\n",
    "                    }\n",
    "                }\n",
    "            }\n",
    "        }\n",
    "    }\n",
    "}"
   ]
  }
 ],
 "metadata": {
  "availableInstances": [
   {
    "_defaultOrder": 0,
    "_isFastLaunch": true,
    "category": "General purpose",
    "gpuNum": 0,
    "hideHardwareSpecs": false,
    "memoryGiB": 4,
    "name": "ml.t3.medium",
    "vcpuNum": 2
   },
   {
    "_defaultOrder": 1,
    "_isFastLaunch": false,
    "category": "General purpose",
    "gpuNum": 0,
    "hideHardwareSpecs": false,
    "memoryGiB": 8,
    "name": "ml.t3.large",
    "vcpuNum": 2
   },
   {
    "_defaultOrder": 2,
    "_isFastLaunch": false,
    "category": "General purpose",
    "gpuNum": 0,
    "hideHardwareSpecs": false,
    "memoryGiB": 16,
    "name": "ml.t3.xlarge",
    "vcpuNum": 4
   },
   {
    "_defaultOrder": 3,
    "_isFastLaunch": false,
    "category": "General purpose",
    "gpuNum": 0,
    "hideHardwareSpecs": false,
    "memoryGiB": 32,
    "name": "ml.t3.2xlarge",
    "vcpuNum": 8
   },
   {
    "_defaultOrder": 4,
    "_isFastLaunch": true,
    "category": "General purpose",
    "gpuNum": 0,
    "hideHardwareSpecs": false,
    "memoryGiB": 8,
    "name": "ml.m5.large",
    "vcpuNum": 2
   },
   {
    "_defaultOrder": 5,
    "_isFastLaunch": false,
    "category": "General purpose",
    "gpuNum": 0,
    "hideHardwareSpecs": false,
    "memoryGiB": 16,
    "name": "ml.m5.xlarge",
    "vcpuNum": 4
   },
   {
    "_defaultOrder": 6,
    "_isFastLaunch": false,
    "category": "General purpose",
    "gpuNum": 0,
    "hideHardwareSpecs": false,
    "memoryGiB": 32,
    "name": "ml.m5.2xlarge",
    "vcpuNum": 8
   },
   {
    "_defaultOrder": 7,
    "_isFastLaunch": false,
    "category": "General purpose",
    "gpuNum": 0,
    "hideHardwareSpecs": false,
    "memoryGiB": 64,
    "name": "ml.m5.4xlarge",
    "vcpuNum": 16
   },
   {
    "_defaultOrder": 8,
    "_isFastLaunch": false,
    "category": "General purpose",
    "gpuNum": 0,
    "hideHardwareSpecs": false,
    "memoryGiB": 128,
    "name": "ml.m5.8xlarge",
    "vcpuNum": 32
   },
   {
    "_defaultOrder": 9,
    "_isFastLaunch": false,
    "category": "General purpose",
    "gpuNum": 0,
    "hideHardwareSpecs": false,
    "memoryGiB": 192,
    "name": "ml.m5.12xlarge",
    "vcpuNum": 48
   },
   {
    "_defaultOrder": 10,
    "_isFastLaunch": false,
    "category": "General purpose",
    "gpuNum": 0,
    "hideHardwareSpecs": false,
    "memoryGiB": 256,
    "name": "ml.m5.16xlarge",
    "vcpuNum": 64
   },
   {
    "_defaultOrder": 11,
    "_isFastLaunch": false,
    "category": "General purpose",
    "gpuNum": 0,
    "hideHardwareSpecs": false,
    "memoryGiB": 384,
    "name": "ml.m5.24xlarge",
    "vcpuNum": 96
   },
   {
    "_defaultOrder": 12,
    "_isFastLaunch": false,
    "category": "General purpose",
    "gpuNum": 0,
    "hideHardwareSpecs": false,
    "memoryGiB": 8,
    "name": "ml.m5d.large",
    "vcpuNum": 2
   },
   {
    "_defaultOrder": 13,
    "_isFastLaunch": false,
    "category": "General purpose",
    "gpuNum": 0,
    "hideHardwareSpecs": false,
    "memoryGiB": 16,
    "name": "ml.m5d.xlarge",
    "vcpuNum": 4
   },
   {
    "_defaultOrder": 14,
    "_isFastLaunch": false,
    "category": "General purpose",
    "gpuNum": 0,
    "hideHardwareSpecs": false,
    "memoryGiB": 32,
    "name": "ml.m5d.2xlarge",
    "vcpuNum": 8
   },
   {
    "_defaultOrder": 15,
    "_isFastLaunch": false,
    "category": "General purpose",
    "gpuNum": 0,
    "hideHardwareSpecs": false,
    "memoryGiB": 64,
    "name": "ml.m5d.4xlarge",
    "vcpuNum": 16
   },
   {
    "_defaultOrder": 16,
    "_isFastLaunch": false,
    "category": "General purpose",
    "gpuNum": 0,
    "hideHardwareSpecs": false,
    "memoryGiB": 128,
    "name": "ml.m5d.8xlarge",
    "vcpuNum": 32
   },
   {
    "_defaultOrder": 17,
    "_isFastLaunch": false,
    "category": "General purpose",
    "gpuNum": 0,
    "hideHardwareSpecs": false,
    "memoryGiB": 192,
    "name": "ml.m5d.12xlarge",
    "vcpuNum": 48
   },
   {
    "_defaultOrder": 18,
    "_isFastLaunch": false,
    "category": "General purpose",
    "gpuNum": 0,
    "hideHardwareSpecs": false,
    "memoryGiB": 256,
    "name": "ml.m5d.16xlarge",
    "vcpuNum": 64
   },
   {
    "_defaultOrder": 19,
    "_isFastLaunch": false,
    "category": "General purpose",
    "gpuNum": 0,
    "hideHardwareSpecs": false,
    "memoryGiB": 384,
    "name": "ml.m5d.24xlarge",
    "vcpuNum": 96
   },
   {
    "_defaultOrder": 20,
    "_isFastLaunch": false,
    "category": "General purpose",
    "gpuNum": 0,
    "hideHardwareSpecs": true,
    "memoryGiB": 0,
    "name": "ml.geospatial.interactive",
    "supportedImageNames": [
     "sagemaker-geospatial-v1-0"
    ],
    "vcpuNum": 0
   },
   {
    "_defaultOrder": 21,
    "_isFastLaunch": true,
    "category": "Compute optimized",
    "gpuNum": 0,
    "hideHardwareSpecs": false,
    "memoryGiB": 4,
    "name": "ml.c5.large",
    "vcpuNum": 2
   },
   {
    "_defaultOrder": 22,
    "_isFastLaunch": false,
    "category": "Compute optimized",
    "gpuNum": 0,
    "hideHardwareSpecs": false,
    "memoryGiB": 8,
    "name": "ml.c5.xlarge",
    "vcpuNum": 4
   },
   {
    "_defaultOrder": 23,
    "_isFastLaunch": false,
    "category": "Compute optimized",
    "gpuNum": 0,
    "hideHardwareSpecs": false,
    "memoryGiB": 16,
    "name": "ml.c5.2xlarge",
    "vcpuNum": 8
   },
   {
    "_defaultOrder": 24,
    "_isFastLaunch": false,
    "category": "Compute optimized",
    "gpuNum": 0,
    "hideHardwareSpecs": false,
    "memoryGiB": 32,
    "name": "ml.c5.4xlarge",
    "vcpuNum": 16
   },
   {
    "_defaultOrder": 25,
    "_isFastLaunch": false,
    "category": "Compute optimized",
    "gpuNum": 0,
    "hideHardwareSpecs": false,
    "memoryGiB": 72,
    "name": "ml.c5.9xlarge",
    "vcpuNum": 36
   },
   {
    "_defaultOrder": 26,
    "_isFastLaunch": false,
    "category": "Compute optimized",
    "gpuNum": 0,
    "hideHardwareSpecs": false,
    "memoryGiB": 96,
    "name": "ml.c5.12xlarge",
    "vcpuNum": 48
   },
   {
    "_defaultOrder": 27,
    "_isFastLaunch": false,
    "category": "Compute optimized",
    "gpuNum": 0,
    "hideHardwareSpecs": false,
    "memoryGiB": 144,
    "name": "ml.c5.18xlarge",
    "vcpuNum": 72
   },
   {
    "_defaultOrder": 28,
    "_isFastLaunch": false,
    "category": "Compute optimized",
    "gpuNum": 0,
    "hideHardwareSpecs": false,
    "memoryGiB": 192,
    "name": "ml.c5.24xlarge",
    "vcpuNum": 96
   },
   {
    "_defaultOrder": 29,
    "_isFastLaunch": true,
    "category": "Accelerated computing",
    "gpuNum": 1,
    "hideHardwareSpecs": false,
    "memoryGiB": 16,
    "name": "ml.g4dn.xlarge",
    "vcpuNum": 4
   },
   {
    "_defaultOrder": 30,
    "_isFastLaunch": false,
    "category": "Accelerated computing",
    "gpuNum": 1,
    "hideHardwareSpecs": false,
    "memoryGiB": 32,
    "name": "ml.g4dn.2xlarge",
    "vcpuNum": 8
   },
   {
    "_defaultOrder": 31,
    "_isFastLaunch": false,
    "category": "Accelerated computing",
    "gpuNum": 1,
    "hideHardwareSpecs": false,
    "memoryGiB": 64,
    "name": "ml.g4dn.4xlarge",
    "vcpuNum": 16
   },
   {
    "_defaultOrder": 32,
    "_isFastLaunch": false,
    "category": "Accelerated computing",
    "gpuNum": 1,
    "hideHardwareSpecs": false,
    "memoryGiB": 128,
    "name": "ml.g4dn.8xlarge",
    "vcpuNum": 32
   },
   {
    "_defaultOrder": 33,
    "_isFastLaunch": false,
    "category": "Accelerated computing",
    "gpuNum": 4,
    "hideHardwareSpecs": false,
    "memoryGiB": 192,
    "name": "ml.g4dn.12xlarge",
    "vcpuNum": 48
   },
   {
    "_defaultOrder": 34,
    "_isFastLaunch": false,
    "category": "Accelerated computing",
    "gpuNum": 1,
    "hideHardwareSpecs": false,
    "memoryGiB": 256,
    "name": "ml.g4dn.16xlarge",
    "vcpuNum": 64
   },
   {
    "_defaultOrder": 35,
    "_isFastLaunch": false,
    "category": "Accelerated computing",
    "gpuNum": 1,
    "hideHardwareSpecs": false,
    "memoryGiB": 61,
    "name": "ml.p3.2xlarge",
    "vcpuNum": 8
   },
   {
    "_defaultOrder": 36,
    "_isFastLaunch": false,
    "category": "Accelerated computing",
    "gpuNum": 4,
    "hideHardwareSpecs": false,
    "memoryGiB": 244,
    "name": "ml.p3.8xlarge",
    "vcpuNum": 32
   },
   {
    "_defaultOrder": 37,
    "_isFastLaunch": false,
    "category": "Accelerated computing",
    "gpuNum": 8,
    "hideHardwareSpecs": false,
    "memoryGiB": 488,
    "name": "ml.p3.16xlarge",
    "vcpuNum": 64
   },
   {
    "_defaultOrder": 38,
    "_isFastLaunch": false,
    "category": "Accelerated computing",
    "gpuNum": 8,
    "hideHardwareSpecs": false,
    "memoryGiB": 768,
    "name": "ml.p3dn.24xlarge",
    "vcpuNum": 96
   },
   {
    "_defaultOrder": 39,
    "_isFastLaunch": false,
    "category": "Memory Optimized",
    "gpuNum": 0,
    "hideHardwareSpecs": false,
    "memoryGiB": 16,
    "name": "ml.r5.large",
    "vcpuNum": 2
   },
   {
    "_defaultOrder": 40,
    "_isFastLaunch": false,
    "category": "Memory Optimized",
    "gpuNum": 0,
    "hideHardwareSpecs": false,
    "memoryGiB": 32,
    "name": "ml.r5.xlarge",
    "vcpuNum": 4
   },
   {
    "_defaultOrder": 41,
    "_isFastLaunch": false,
    "category": "Memory Optimized",
    "gpuNum": 0,
    "hideHardwareSpecs": false,
    "memoryGiB": 64,
    "name": "ml.r5.2xlarge",
    "vcpuNum": 8
   },
   {
    "_defaultOrder": 42,
    "_isFastLaunch": false,
    "category": "Memory Optimized",
    "gpuNum": 0,
    "hideHardwareSpecs": false,
    "memoryGiB": 128,
    "name": "ml.r5.4xlarge",
    "vcpuNum": 16
   },
   {
    "_defaultOrder": 43,
    "_isFastLaunch": false,
    "category": "Memory Optimized",
    "gpuNum": 0,
    "hideHardwareSpecs": false,
    "memoryGiB": 256,
    "name": "ml.r5.8xlarge",
    "vcpuNum": 32
   },
   {
    "_defaultOrder": 44,
    "_isFastLaunch": false,
    "category": "Memory Optimized",
    "gpuNum": 0,
    "hideHardwareSpecs": false,
    "memoryGiB": 384,
    "name": "ml.r5.12xlarge",
    "vcpuNum": 48
   },
   {
    "_defaultOrder": 45,
    "_isFastLaunch": false,
    "category": "Memory Optimized",
    "gpuNum": 0,
    "hideHardwareSpecs": false,
    "memoryGiB": 512,
    "name": "ml.r5.16xlarge",
    "vcpuNum": 64
   },
   {
    "_defaultOrder": 46,
    "_isFastLaunch": false,
    "category": "Memory Optimized",
    "gpuNum": 0,
    "hideHardwareSpecs": false,
    "memoryGiB": 768,
    "name": "ml.r5.24xlarge",
    "vcpuNum": 96
   },
   {
    "_defaultOrder": 47,
    "_isFastLaunch": false,
    "category": "Accelerated computing",
    "gpuNum": 1,
    "hideHardwareSpecs": false,
    "memoryGiB": 16,
    "name": "ml.g5.xlarge",
    "vcpuNum": 4
   },
   {
    "_defaultOrder": 48,
    "_isFastLaunch": false,
    "category": "Accelerated computing",
    "gpuNum": 1,
    "hideHardwareSpecs": false,
    "memoryGiB": 32,
    "name": "ml.g5.2xlarge",
    "vcpuNum": 8
   },
   {
    "_defaultOrder": 49,
    "_isFastLaunch": false,
    "category": "Accelerated computing",
    "gpuNum": 1,
    "hideHardwareSpecs": false,
    "memoryGiB": 64,
    "name": "ml.g5.4xlarge",
    "vcpuNum": 16
   },
   {
    "_defaultOrder": 50,
    "_isFastLaunch": false,
    "category": "Accelerated computing",
    "gpuNum": 1,
    "hideHardwareSpecs": false,
    "memoryGiB": 128,
    "name": "ml.g5.8xlarge",
    "vcpuNum": 32
   },
   {
    "_defaultOrder": 51,
    "_isFastLaunch": false,
    "category": "Accelerated computing",
    "gpuNum": 1,
    "hideHardwareSpecs": false,
    "memoryGiB": 256,
    "name": "ml.g5.16xlarge",
    "vcpuNum": 64
   },
   {
    "_defaultOrder": 52,
    "_isFastLaunch": false,
    "category": "Accelerated computing",
    "gpuNum": 4,
    "hideHardwareSpecs": false,
    "memoryGiB": 192,
    "name": "ml.g5.12xlarge",
    "vcpuNum": 48
   },
   {
    "_defaultOrder": 53,
    "_isFastLaunch": false,
    "category": "Accelerated computing",
    "gpuNum": 4,
    "hideHardwareSpecs": false,
    "memoryGiB": 384,
    "name": "ml.g5.24xlarge",
    "vcpuNum": 96
   },
   {
    "_defaultOrder": 54,
    "_isFastLaunch": false,
    "category": "Accelerated computing",
    "gpuNum": 8,
    "hideHardwareSpecs": false,
    "memoryGiB": 768,
    "name": "ml.g5.48xlarge",
    "vcpuNum": 192
   },
   {
    "_defaultOrder": 55,
    "_isFastLaunch": false,
    "category": "Accelerated computing",
    "gpuNum": 8,
    "hideHardwareSpecs": false,
    "memoryGiB": 1152,
    "name": "ml.p4d.24xlarge",
    "vcpuNum": 96
   },
   {
    "_defaultOrder": 56,
    "_isFastLaunch": false,
    "category": "Accelerated computing",
    "gpuNum": 8,
    "hideHardwareSpecs": false,
    "memoryGiB": 1152,
    "name": "ml.p4de.24xlarge",
    "vcpuNum": 96
   }
  ],
  "instance_type": "ml.g5.2xlarge",
  "kernelspec": {
   "display_name": "conda_python3",
   "language": "python",
   "name": "conda_python3"
  },
  "language_info": {
   "codemirror_mode": {
    "name": "ipython",
    "version": 3
   },
   "file_extension": ".py",
   "mimetype": "text/x-python",
   "name": "python",
   "nbconvert_exporter": "python",
   "pygments_lexer": "ipython3",
   "version": "3.10.12"
  },
  "vscode": {
   "interpreter": {
    "hash": "3b41de70bedc0e302a3aeb58a0c77b854f2e56c8930e61a4aaa3340c96b01f1d"
   }
  }
 },
 "nbformat": 4,
 "nbformat_minor": 5
}
