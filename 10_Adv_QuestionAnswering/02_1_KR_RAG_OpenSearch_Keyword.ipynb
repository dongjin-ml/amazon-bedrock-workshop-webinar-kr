{
 "cells": [
  {
   "cell_type": "markdown",
   "id": "fb017ab4-a16a-4c67-b875-a29eed6aa5bd",
   "metadata": {
    "tags": []
   },
   "source": [
    "# OpenSearch 한글 형태소 분석기 통한 키워드 검색 \n",
    ">이 노트북은 SageMaker Studio* Data Science 3.0 kernel 및 ml.t3.medium 인스턴스에서 테스트 되었습니다.\n",
    "\n",
    "\n",
    "\n",
    "여기서는 OpenSearch 가 설치된 것을 가정하고, 한글 형태소 분석기의 사용하는 법을 알려 드립니다.\n",
    "\n",
    "---\n",
    "\n",
    "### [중요]\n",
    "- 이 노트북은 Bedrock Titan Embedding Model 을 기본으로 사용합니다. KoSIMCSERoberta 를 세이지 메이커 엔드포인트로 사용하신다면 아래의 선수 조건을 확인하세요.\n",
    "\n",
    "#### 선수조건 (KoSIMCSERoberta 사용시)\n",
    "- 임베딩 모델의 세이지 메이커 엔드포인트가 액티브 된 상태를 가정 합니다.\n",
    "    - 세이지 메이커 엔드포인트에 배포하기 위해서는 아래 노트북을 실행하시고, Endpoint Name 만을 복사 하시면 됩니다.\n",
    "    - [KoSIMCSERoberta Embedding Model 배포](https://github.com/gonsoomoon-ml/Kor-LLM-On-SageMaker/blob/main/1-Lab01-Deploy-LLM/4.Kor-Embedding-Model.ipynb)\n",
    "    - SageMaker Endpoint 에 대해서는 공식 개발자 문서를 참조하세요 --> [Create your endpoint and deploy your model](https://docs.aws.amazon.com/sagemaker/latest/dg/realtime-endpoints-deployment.html)\n",
    "- 오픈 서치 서비스가 액티브 된 상태를 가정 합니다.\n",
    "\n",
    "\n",
    "---\n",
    "## Ref: \n",
    "- [Amazon OpenSearch Service로 검색 구현하기](https://catalog.us-east-1.prod.workshops.aws/workshops/de4e38cb-a0d9-4ffe-a777-bf00d498fa49/ko-KR/indexing/blog-reindex)\n",
    "- [OpenSearch Python Client](https://opensearch.org/docs/1.3/clients/python-high-level/)\n",
    "- [OpenSearch Match, Multi-Match, and Match Phrase Queries](https://opster.com/guides/opensearch/opensearch-search-apis/opensearch-match-multi-match-and-match-phrase-queries/)\n",
    "- OpenSearch Query 에서 Filter, Must, Should, Not Mush 에 대한 설명 입니다.\n",
    "    - [OpenSearch Boolean Queries](https://opster.com/guides/opensearch/opensearch-search-apis/opensearch-boolean-queries/#:~:text=Boolean%20queries%20are%20used%20to,as%20terms%2C%20match%20and%20query_string.)\n",
    "- [OpenSearch Query Description (한글)](https://esbook.kimjmin.net/05-search)\n"
   ]
  },
  {
   "cell_type": "markdown",
   "id": "8a2f9c19-c43c-435c-944d-77984b54a6d8",
   "metadata": {},
   "source": [
    "# 1. 환경 세팅"
   ]
  },
  {
   "cell_type": "code",
   "execution_count": 29,
   "id": "787df0f0-7fd9-47ca-a0c3-91b3037d6a10",
   "metadata": {
    "tags": []
   },
   "outputs": [
    {
     "name": "stdout",
     "output_type": "stream",
     "text": [
      "The autoreload extension is already loaded. To reload it, use:\n",
      "  %reload_ext autoreload\n"
     ]
    }
   ],
   "source": [
    "%load_ext autoreload\n",
    "%autoreload 2\n",
    "\n",
    "import sys, os\n",
    "module_path = \"..\"\n",
    "sys.path.append(os.path.abspath(module_path))"
   ]
  },
  {
   "cell_type": "markdown",
   "id": "950cf3b9-26a3-4096-a6e4-4b9a39d2e82f",
   "metadata": {
    "tags": []
   },
   "source": [
    "## Bedrock Client 생성\n",
    "### 선수 지식\n",
    "아래의 노트북을 먼저 실행해서, Bedrock 에 접근 가능하게 합니다.\n",
    "- amazon-bedrock-workshop-webinar-kr/00_Setup/setup.ipynb"
   ]
  },
  {
   "cell_type": "code",
   "execution_count": 30,
   "id": "ee268417-f4cf-448f-be1f-aae7f9a81c6c",
   "metadata": {
    "tags": []
   },
   "outputs": [
    {
     "name": "stdout",
     "output_type": "stream",
     "text": [
      "Create new client\n",
      "  Using region: None\n",
      "  Using profile: None\n",
      "boto3 Bedrock client successfully created!\n",
      "bedrock-runtime(https://bedrock-runtime.us-east-1.amazonaws.com)\n",
      "\u001b[32m\n",
      "== FM lists ==\u001b[0m\n",
      "{'Claude-Instant-V1': 'anthropic.claude-instant-v1',\n",
      " 'Claude-V1': 'anthropic.claude-v1',\n",
      " 'Claude-V2': 'anthropic.claude-v2',\n",
      " 'Command': 'cohere.command-text-v14',\n",
      " 'Jurassic-2-Mid': 'ai21.j2-mid-v1',\n",
      " 'Jurassic-2-Ultra': 'ai21.j2-ultra-v1',\n",
      " 'Titan-Embeddings-G1': 'amazon.titan-embed-text-v1',\n",
      " 'Titan-Text-G1': 'TBD'}\n"
     ]
    }
   ],
   "source": [
    "import json\n",
    "import boto3\n",
    "from pprint import pprint\n",
    "from termcolor import colored\n",
    "from utils import bedrock, print_ww\n",
    "from utils.bedrock import bedrock_info\n",
    "\n",
    "# ---- ⚠️ Un-comment and edit the below lines as needed for your AWS setup ⚠️ ----\n",
    "\n",
    "# os.environ[\"AWS_DEFAULT_REGION\"] = \"<REGION_NAME>\"  # E.g. \"us-east-1\"\n",
    "# os.environ[\"AWS_PROFILE\"] = \"<YOUR_PROFILE>\"\n",
    "# os.environ[\"BEDROCK_ASSUME_ROLE\"] = \"<YOUR_ROLE_ARN>\"  # E.g. \"arn:aws:...\"\n",
    "# os.environ[\"BEDROCK_ENDPOINT_URL\"] = \"<YOUR_ENDPOINT_URL>\"  # E.g. \"https://...\"\n",
    "\n",
    "\n",
    "boto3_bedrock = bedrock.get_bedrock_client(\n",
    "    assumed_role=os.environ.get(\"BEDROCK_ASSUME_ROLE\", None),\n",
    "    endpoint_url=os.environ.get(\"BEDROCK_ENDPOINT_URL\", None),\n",
    "    region=os.environ.get(\"AWS_DEFAULT_REGION\", None),\n",
    ")\n",
    "\n",
    "print (colored(\"\\n== FM lists ==\", \"green\"))\n",
    "pprint (bedrock_info.get_list_fm_models())"
   ]
  },
  {
   "cell_type": "markdown",
   "id": "16b9ad47-56b6-427d-84a6-4e792bf4f6f9",
   "metadata": {},
   "source": [
    "## Embedding 모델 선택"
   ]
  },
  {
   "cell_type": "code",
   "execution_count": 31,
   "id": "85910ba4-1eb0-4b38-8d46-aa8a3da3cd60",
   "metadata": {
    "tags": []
   },
   "outputs": [],
   "source": [
    "from utils.rag import get_embedding_model\n",
    "from utils.rag import KoSimCSERobertaContentHandler, SagemakerEndpointEmbeddingsJumpStart"
   ]
  },
  {
   "cell_type": "code",
   "execution_count": 32,
   "id": "65afde2a-097b-4a00-82e4-e7bab6e2a4d1",
   "metadata": {
    "tags": []
   },
   "outputs": [],
   "source": [
    "def get_embedding_model(is_bedrock_embeddings, is_KoSimCSERobert, aws_region, endpont_name=None):\n",
    "    if is_bedrock_embeddings:\n",
    "\n",
    "        # We will be using the Titan Embeddings Model to generate our Embeddings.\n",
    "        from langchain.embeddings import BedrockEmbeddings\n",
    "\n",
    "        llm_emb = BedrockEmbeddings(\n",
    "            client=boto3_bedrock,\n",
    "            model_id=bedrock_info.get_model_id(\n",
    "                model_name=\"Titan-Embeddings-G1\"\n",
    "            )\n",
    "        )\n",
    "        print(\"Bedrock Embeddings Model Loaded\")\n",
    "        \n",
    "    elif is_KoSimCSERobert:\n",
    "        LLMEmbHandler = KoSimCSERobertaContentHandler()\n",
    "        endpoint_name_emb = endpont_name\n",
    "        llm_emb = SagemakerEndpointEmbeddingsJumpStart(\n",
    "            endpoint_name=endpoint_name_emb,\n",
    "            region_name=aws_region,\n",
    "            content_handler=LLMEmbHandler,\n",
    "        )        \n",
    "        print(\"KoSimCSERobert Embeddings Model Loaded\")\n",
    "    else:\n",
    "        llm_emb = None\n",
    "        print(\"No Embedding Model Selected\")\n",
    "    \n",
    "    return llm_emb"
   ]
  },
  {
   "cell_type": "markdown",
   "id": "1fe62c38-4b50-48ef-96de-3690361551de",
   "metadata": {},
   "source": [
    "#### [중요] is_KoSimCSERobert == True 경우,  endpoint_name 을 꼭 넣어 주세요."
   ]
  },
  {
   "cell_type": "code",
   "execution_count": 33,
   "id": "b29f58a6-a230-4aa9-994d-0a6343f72fcb",
   "metadata": {
    "tags": []
   },
   "outputs": [
    {
     "name": "stdout",
     "output_type": "stream",
     "text": [
      "Bedrock Embeddings Model Loaded\n"
     ]
    }
   ],
   "source": [
    "is_bedrock_embeddings = True\n",
    "is_KoSimCSERobert = False\n",
    "\n",
    "aws_region = os.environ.get(\"AWS_DEFAULT_REGION\", None)\n",
    "\n",
    "##############################\n",
    "# Parameters for is_KoSimCSERobert\n",
    "##############################\n",
    "if is_KoSimCSERobert: endpont_name = \"<endpoint-name>\"\n",
    "else: endpont_name = None\n",
    "##############################\n",
    "\n",
    "llm_emb = get_embedding_model(is_bedrock_embeddings, is_KoSimCSERobert, aws_region, endpont_name)    "
   ]
  },
  {
   "cell_type": "markdown",
   "id": "42c31989-edcd-42f9-aabb-2a3d17b3e8a2",
   "metadata": {},
   "source": [
    "# 2. 데이터 준비\n"
   ]
  },
  {
   "cell_type": "markdown",
   "id": "9296a37c-9f68-4a56-b8f6-9311dedc03cd",
   "metadata": {},
   "source": [
    "##  신한은행 FAQ 데이터 세트로 구현\n",
    "- [중요] 저자 및 동료가 아래의 웹사이트에서 크로링한 기준으로 구성 하였습니다.\n",
    "- 인터넷뱅킹 FAQ > 스마트뱅킹 No.1 ~ N. 89 로 구성되었습니다. \n",
    "- https://www.shinhan.com/hpe/index.jsp#050101020000"
   ]
  },
  {
   "cell_type": "code",
   "execution_count": 34,
   "id": "a16fe948-266d-41ca-bf71-cdf815e4ee15",
   "metadata": {
    "tags": []
   },
   "outputs": [
    {
     "data": {
      "text/html": [
       "<div>\n",
       "<style scoped>\n",
       "    .dataframe tbody tr th:only-of-type {\n",
       "        vertical-align: middle;\n",
       "    }\n",
       "\n",
       "    .dataframe tbody tr th {\n",
       "        vertical-align: top;\n",
       "    }\n",
       "\n",
       "    .dataframe thead th {\n",
       "        text-align: right;\n",
       "    }\n",
       "</style>\n",
       "<table border=\"1\" class=\"dataframe\">\n",
       "  <thead>\n",
       "    <tr style=\"text-align: right;\">\n",
       "      <th></th>\n",
       "      <th>no</th>\n",
       "      <th>Category</th>\n",
       "      <th>Information</th>\n",
       "      <th>type</th>\n",
       "      <th>Source</th>\n",
       "    </tr>\n",
       "  </thead>\n",
       "  <tbody>\n",
       "    <tr>\n",
       "      <th>0</th>\n",
       "      <td>91</td>\n",
       "      <td>아마존 은행의 타기관OTP 이용등록방법 알려주세요</td>\n",
       "      <td>아마존 은행의 타기관에서 발급받으신 OTP가 통합OTP카드인 경우 당행에 등록하여 ...</td>\n",
       "      <td>인터넷뱅킹</td>\n",
       "      <td>아마존은행</td>\n",
       "    </tr>\n",
       "    <tr>\n",
       "      <th>1</th>\n",
       "      <td>90</td>\n",
       "      <td>아마존 공동인증서와 금융인증서 차이점이 무엇인가요?</td>\n",
       "      <td>공동인증서 (구 공인인증서)는 용도에 따라 은행/신용카드/보험용 무료 인증서와 전자...</td>\n",
       "      <td>인증서</td>\n",
       "      <td>아마존은행</td>\n",
       "    </tr>\n",
       "    <tr>\n",
       "      <th>2</th>\n",
       "      <td>88</td>\n",
       "      <td>공동인증서와 금융인증서 차이점이 무엇인가요?</td>\n",
       "      <td>공동인증서 (구 공인인증서)는 용도에 따라 은행/신용카드/보험용 무료 인증서와 전자...</td>\n",
       "      <td>인증서</td>\n",
       "      <td>신한은행</td>\n",
       "    </tr>\n",
       "    <tr>\n",
       "      <th>3</th>\n",
       "      <td>89</td>\n",
       "      <td>타기관OTP 이용등록방법 알려주세요</td>\n",
       "      <td>타기관에서 발급받으신 OTP가 통합OTP카드인 경우 당행에 등록하여 이용가능합니다....</td>\n",
       "      <td>인터넷뱅킹</td>\n",
       "      <td>신한은행</td>\n",
       "    </tr>\n",
       "    <tr>\n",
       "      <th>4</th>\n",
       "      <td>88</td>\n",
       "      <td>공동인증서와 금융인증서 차이점이 무엇인가요?</td>\n",
       "      <td>공동인증서 (구 공인인증서)는 용도에 따라 은행/신용카드/보험용 무료 인증서와 전자...</td>\n",
       "      <td>인증서</td>\n",
       "      <td>신한은행</td>\n",
       "    </tr>\n",
       "    <tr>\n",
       "      <th>...</th>\n",
       "      <td>...</td>\n",
       "      <td>...</td>\n",
       "      <td>...</td>\n",
       "      <td>...</td>\n",
       "      <td>...</td>\n",
       "    </tr>\n",
       "    <tr>\n",
       "      <th>87</th>\n",
       "      <td>5</td>\n",
       "      <td>인터넷에서 이체한 거래의 상세내역 및 영수증을 인쇄하고 싶어요</td>\n",
       "      <td>인터넷상에서 이체한 거래의 경우 인터넷상에서 제공하는 영수증은 없으며, 거래의 참고...</td>\n",
       "      <td>인터넷뱅킹</td>\n",
       "      <td>신한은행</td>\n",
       "    </tr>\n",
       "    <tr>\n",
       "      <th>88</th>\n",
       "      <td>4</td>\n",
       "      <td>타행으로 자동이체를 신청하고 싶은데요</td>\n",
       "      <td>인터넷뱅킹을 통한 타은행 계좌로의 자동이체(납부자 자동이체)신청이 가능하며 수수료는...</td>\n",
       "      <td>인터넷뱅킹</td>\n",
       "      <td>신한은행</td>\n",
       "    </tr>\n",
       "    <tr>\n",
       "      <th>89</th>\n",
       "      <td>3</td>\n",
       "      <td>공과금 자동이체 신청이 가능한가요?</td>\n",
       "      <td>인터넷뱅킹에 로그인하신 후 \"공과금/법원 &gt; 공과금센터\" 페이지에 가시면 \"지로자동...</td>\n",
       "      <td>인터넷뱅킹</td>\n",
       "      <td>신한은행</td>\n",
       "    </tr>\n",
       "    <tr>\n",
       "      <th>90</th>\n",
       "      <td>2</td>\n",
       "      <td>인터넷뱅킹 거래에 대한 책임 범위를 알고싶습니다.</td>\n",
       "      <td>기본적으로 은행이 인터넷뱅킹 사고에 대한 책임을 집니다. 해커의 침입에 의해 자금이...</td>\n",
       "      <td>인터넷뱅킹</td>\n",
       "      <td>신한은행</td>\n",
       "    </tr>\n",
       "    <tr>\n",
       "      <th>91</th>\n",
       "      <td>1</td>\n",
       "      <td>인터넷뱅킹을 이용하려면 어떻게 해야 합니까?</td>\n",
       "      <td>영업점에 방문하지 않아도, 모바일에서 신한 쏠 (SOL) 어플 다운로드후 회원가입하...</td>\n",
       "      <td>인터넷뱅킹</td>\n",
       "      <td>신한은행</td>\n",
       "    </tr>\n",
       "  </tbody>\n",
       "</table>\n",
       "<p>92 rows × 5 columns</p>\n",
       "</div>"
      ],
      "text/plain": [
       "    no                            Category  \\\n",
       "0   91         아마존 은행의 타기관OTP 이용등록방법 알려주세요   \n",
       "1   90        아마존 공동인증서와 금융인증서 차이점이 무엇인가요?   \n",
       "2   88            공동인증서와 금융인증서 차이점이 무엇인가요?   \n",
       "3   89                 타기관OTP 이용등록방법 알려주세요   \n",
       "4   88            공동인증서와 금융인증서 차이점이 무엇인가요?   \n",
       "..  ..                                 ...   \n",
       "87   5  인터넷에서 이체한 거래의 상세내역 및 영수증을 인쇄하고 싶어요   \n",
       "88   4                타행으로 자동이체를 신청하고 싶은데요   \n",
       "89   3                 공과금 자동이체 신청이 가능한가요?   \n",
       "90   2         인터넷뱅킹 거래에 대한 책임 범위를 알고싶습니다.   \n",
       "91   1            인터넷뱅킹을 이용하려면 어떻게 해야 합니까?   \n",
       "\n",
       "                                          Information   type Source  \n",
       "0   아마존 은행의 타기관에서 발급받으신 OTP가 통합OTP카드인 경우 당행에 등록하여 ...  인터넷뱅킹  아마존은행  \n",
       "1   공동인증서 (구 공인인증서)는 용도에 따라 은행/신용카드/보험용 무료 인증서와 전자...    인증서  아마존은행  \n",
       "2   공동인증서 (구 공인인증서)는 용도에 따라 은행/신용카드/보험용 무료 인증서와 전자...    인증서   신한은행  \n",
       "3   타기관에서 발급받으신 OTP가 통합OTP카드인 경우 당행에 등록하여 이용가능합니다....  인터넷뱅킹   신한은행  \n",
       "4   공동인증서 (구 공인인증서)는 용도에 따라 은행/신용카드/보험용 무료 인증서와 전자...    인증서   신한은행  \n",
       "..                                                ...    ...    ...  \n",
       "87  인터넷상에서 이체한 거래의 경우 인터넷상에서 제공하는 영수증은 없으며, 거래의 참고...  인터넷뱅킹   신한은행  \n",
       "88  인터넷뱅킹을 통한 타은행 계좌로의 자동이체(납부자 자동이체)신청이 가능하며 수수료는...  인터넷뱅킹   신한은행  \n",
       "89  인터넷뱅킹에 로그인하신 후 \"공과금/법원 > 공과금센터\" 페이지에 가시면 \"지로자동...  인터넷뱅킹   신한은행  \n",
       "90  기본적으로 은행이 인터넷뱅킹 사고에 대한 책임을 집니다. 해커의 침입에 의해 자금이...  인터넷뱅킹   신한은행  \n",
       "91  영업점에 방문하지 않아도, 모바일에서 신한 쏠 (SOL) 어플 다운로드후 회원가입하...  인터넷뱅킹   신한은행  \n",
       "\n",
       "[92 rows x 5 columns]"
      ]
     },
     "execution_count": 34,
     "metadata": {},
     "output_type": "execute_result"
    }
   ],
   "source": [
    "import pandas as pd\n",
    "pd.options.display.max_rows = 20\n",
    "\n",
    "data_file_path = \"data/fsi_smart_faq_ko.csv\"\n",
    "df = pd.read_csv(data_file_path)\n",
    "df"
   ]
  },
  {
   "cell_type": "markdown",
   "id": "da20c54a-17f4-4738-8273-f14d5c18313e",
   "metadata": {},
   "source": [
    "## 데이터 전처리\n",
    "- 여기서 no 는 제거 합니다. "
   ]
  },
  {
   "cell_type": "code",
   "execution_count": 35,
   "id": "bd8c678f-0cf2-408c-972f-2444fbbc1b8b",
   "metadata": {
    "tags": []
   },
   "outputs": [],
   "source": [
    "os.makedirs(\"data\", exist_ok=True)"
   ]
  },
  {
   "cell_type": "code",
   "execution_count": 36,
   "id": "0570717f-210c-4e36-88b6-b9cc02288341",
   "metadata": {
    "tags": []
   },
   "outputs": [
    {
     "data": {
      "text/html": [
       "<div>\n",
       "<style scoped>\n",
       "    .dataframe tbody tr th:only-of-type {\n",
       "        vertical-align: middle;\n",
       "    }\n",
       "\n",
       "    .dataframe tbody tr th {\n",
       "        vertical-align: top;\n",
       "    }\n",
       "\n",
       "    .dataframe thead th {\n",
       "        text-align: right;\n",
       "    }\n",
       "</style>\n",
       "<table border=\"1\" class=\"dataframe\">\n",
       "  <thead>\n",
       "    <tr style=\"text-align: right;\">\n",
       "      <th></th>\n",
       "      <th>ask</th>\n",
       "      <th>Information</th>\n",
       "      <th>type</th>\n",
       "      <th>Source</th>\n",
       "    </tr>\n",
       "  </thead>\n",
       "  <tbody>\n",
       "    <tr>\n",
       "      <th>0</th>\n",
       "      <td>아마존 은행의 타기관OTP 이용등록방법 알려주세요</td>\n",
       "      <td>아마존 은행의 타기관에서 발급받으신 OTP가 통합OTP카드인 경우 당행에 등록하여 ...</td>\n",
       "      <td>인터넷뱅킹</td>\n",
       "      <td>아마존은행</td>\n",
       "    </tr>\n",
       "    <tr>\n",
       "      <th>1</th>\n",
       "      <td>아마존 공동인증서와 금융인증서 차이점이 무엇인가요?</td>\n",
       "      <td>공동인증서 (구 공인인증서)는 용도에 따라 은행/신용카드/보험용 무료 인증서와 전자...</td>\n",
       "      <td>인증서</td>\n",
       "      <td>아마존은행</td>\n",
       "    </tr>\n",
       "    <tr>\n",
       "      <th>2</th>\n",
       "      <td>공동인증서와 금융인증서 차이점이 무엇인가요?</td>\n",
       "      <td>공동인증서 (구 공인인증서)는 용도에 따라 은행/신용카드/보험용 무료 인증서와 전자...</td>\n",
       "      <td>인증서</td>\n",
       "      <td>신한은행</td>\n",
       "    </tr>\n",
       "  </tbody>\n",
       "</table>\n",
       "</div>"
      ],
      "text/plain": [
       "                            ask  \\\n",
       "0   아마존 은행의 타기관OTP 이용등록방법 알려주세요   \n",
       "1  아마존 공동인증서와 금융인증서 차이점이 무엇인가요?   \n",
       "2      공동인증서와 금융인증서 차이점이 무엇인가요?   \n",
       "\n",
       "                                         Information   type Source  \n",
       "0  아마존 은행의 타기관에서 발급받으신 OTP가 통합OTP카드인 경우 당행에 등록하여 ...  인터넷뱅킹  아마존은행  \n",
       "1  공동인증서 (구 공인인증서)는 용도에 따라 은행/신용카드/보험용 무료 인증서와 전자...    인증서  아마존은행  \n",
       "2  공동인증서 (구 공인인증서)는 용도에 따라 은행/신용카드/보험용 무료 인증서와 전자...    인증서   신한은행  "
      ]
     },
     "execution_count": 36,
     "metadata": {},
     "output_type": "execute_result"
    }
   ],
   "source": [
    "def preprocess_data(df):\n",
    "\n",
    "    ldf = df.copy()\n",
    "    ldf.rename(columns={'Category': 'ask'}, inplace=True)\n",
    "    df_index = ldf.drop(['no'], axis=1)\n",
    "    df_index.to_csv(\"data/fsi_smart_faq_ko_preprocess.csv\", index=None)\n",
    "\n",
    "    return df_index\n",
    "\n",
    "pre_df = preprocess_data(df)\n",
    "pre_df.head(3)"
   ]
  },
  {
   "cell_type": "markdown",
   "id": "134174ab-3855-44d3-965d-a5699f435c31",
   "metadata": {},
   "source": [
    "### CSVLoader 로 문서 로딩"
   ]
  },
  {
   "cell_type": "code",
   "execution_count": 37,
   "id": "6a5bb5cf-4f89-428c-a492-5acf2ee5b5a1",
   "metadata": {
    "tags": []
   },
   "outputs": [],
   "source": [
    "from langchain.indexes import VectorstoreIndexCreator\n",
    "from langchain.vectorstores import FAISS\n",
    "from langchain.document_loaders.csv_loader import CSVLoader\n",
    "from langchain.text_splitter import CharacterTextSplitter, RecursiveCharacterTextSplitter, SpacyTextSplitter"
   ]
  },
  {
   "cell_type": "code",
   "execution_count": 38,
   "id": "9df46261-f945-4d0d-b271-b32f2ff7d55b",
   "metadata": {
    "tags": []
   },
   "outputs": [],
   "source": [
    "loader = CSVLoader(\n",
    "    file_path=\"data/fsi_smart_faq_ko_preprocess.csv\",\n",
    "    # csv_args={\n",
    "    #     \"delimiter\": \",\",\n",
    "    #     \"fieldnames\": [\"Category\", \"Information\", \"type\", \"Source\"],\n",
    "    # },    \n",
    "    source_column=\"Source\",\n",
    "    encoding=\"utf-8\"\n",
    ")\n",
    "import time\n",
    "documents_fsi = loader.load()\n"
   ]
  },
  {
   "cell_type": "markdown",
   "id": "b36b5803-7ae4-42c6-993a-eac29fa832ca",
   "metadata": {},
   "source": [
    "## 메타 데이터 생성\n",
    "- 기존 Category 컬럼을 ask 로 변경 합니다.\n",
    "- 컬럼의 type, source 는 metadata 로 생성하고, 내용에서는 삭제 합니다.\n",
    "- 타임스탬프 및 임베딩 모델의 엔드포인트 이름을 metadata 로 추가 합니다."
   ]
  },
  {
   "cell_type": "code",
   "execution_count": 39,
   "id": "70cd3c79-7863-4bef-9063-29ae51fcf58b",
   "metadata": {
    "tags": []
   },
   "outputs": [],
   "source": [
    "import time\n",
    "documents_fsi = loader.load()\n",
    "\n",
    "def create_metadata(docs):\n",
    "    # # add a custom metadata field, such as timestamp\n",
    "    for idx, doc in enumerate(docs):\n",
    "\n",
    "        #print (\"previous:\", doc)\n",
    "        # type 을 메타 데이타로 저장\n",
    "        stype = doc.page_content.split(\"type: \")[1].split(\"\\n\")[0]\n",
    "        split_content = doc.page_content.split(\"type: \")\n",
    "        content = split_content[0]        \n",
    "        metadata = split_content[1]                \n",
    "        doc.metadata['type'] = metadata.split(\"\\n\")[0]        \n",
    "        doc.page_content = content # metadata 제외하고 content 만 저장\n",
    "        doc.metadata['timestamp'] = time.time()\n",
    "\n",
    "create_metadata(documents_fsi)"
   ]
  },
  {
   "cell_type": "code",
   "execution_count": 40,
   "id": "aadffa45-1e54-4731-9124-775dbf4d8543",
   "metadata": {
    "tags": []
   },
   "outputs": [
    {
     "name": "stdout",
     "output_type": "stream",
     "text": [
      "92\n",
      "page_content='ask: 아마존 은행의 타기관OTP 이용등록방법 알려주세요\\nInformation: 아마존 은행의 타기관에서 발급받으신 OTP가 통합OTP카드인 경우 당행에 등록하여 이용가능합니다. \\r\\n[경로]\\r\\n- 인터넷뱅킹 로그인→ 사용자관리→인터넷뱅킹관리→OTP이용등록  \\r\\n- 아마존은행 쏠(SOL) 로그인→ 전체메뉴→설정/인증→ 이용중인 보안매체선택→   OTP이용등록\\r\\n \\r\\n ※ OTP이용등록후 재로그인을 하셔야 새로 등록된 보안매체가 적용됩니다.\\r\\n\\r\\n기타 궁금하신 내용은 아마존 은행 고객센터 1599-9999로 문의하여 주시기 바랍니다.\\n' metadata={'source': '아마존은행', 'row': 0, 'type': '인터넷뱅킹', 'timestamp': 1697033295.9725068}\n"
     ]
    }
   ],
   "source": [
    "print (len(documents_fsi))\n",
    "print (documents_fsi[0])"
   ]
  },
  {
   "cell_type": "markdown",
   "id": "2f588fcf-3da7-4125-8c2b-c326b6c89850",
   "metadata": {
    "tags": []
   },
   "source": [
    "## Text Spliter 로 청킹\n",
    "참고: 검색된 문서/텍스트는 질문에 대답하기에 충분한 정보를 포함할 만큼 커야 합니다. 하지만 LLM 프롬프트에 들어갈 만큼 충분히 작습니다. <BR>\n",
    "또한 임베딩 모델에는 입력 토큰 길이는 KoSimCSERobert는 512개, titanEmbedding(8,912개) 토큰으로 제한되어 있습니다. <BR>\n",
    "이 사용 사례를 위해 [RecursiveCharacterTextSplitter](https://python.langchain.com/en/latest/modules/indexes/text_splitters/examples/recursive_text_splitter.html)를 사용하여 500자가 겹치는 약 92자의 청크를 생성합니다."
   ]
  },
  {
   "cell_type": "code",
   "execution_count": 41,
   "id": "337dc9e5-3c33-4234-9ac4-edfc3cbaf8eb",
   "metadata": {
    "tags": []
   },
   "outputs": [
    {
     "name": "stdout",
     "output_type": "stream",
     "text": [
      "Number of documents after split and chunking=92\n"
     ]
    }
   ],
   "source": [
    "if is_bedrock_embeddings:\n",
    "    chunk_size = 2048\n",
    "    chunk_overlap = 50\n",
    "elif is_KoSimCSERobert:\n",
    "    chunk_size = 800 # This is maxumum\n",
    "    chunk_overlap = 0\n",
    "\n",
    "\n",
    "text_splitter = RecursiveCharacterTextSplitter(\n",
    "    # Set a really small chunk size, just to show.\n",
    "    chunk_size = chunk_size,\n",
    "    chunk_overlap  = chunk_overlap,\n",
    "    separators=[\"\\n\\n\", \"\\n\", \".\", \" \", \"\"],\n",
    "    length_function = len,\n",
    ")\n",
    "\n",
    "docs = text_splitter.split_documents(documents_fsi)\n",
    "print(f\"Number of documents after split and chunking={len(docs)}\")"
   ]
  },
  {
   "cell_type": "markdown",
   "id": "3efd4c0f-f861-44f0-8d7c-1f4b8ab36d1b",
   "metadata": {
    "tags": []
   },
   "source": [
    "# 3. OpenSearch Client 생성\n",
    "### 선수 조건\n",
    "- 아래의 링크를 참조해서 OpenSearch Service 를 생성하고, opensearch_domain_endpoint, http_auth 를 복사해서, 아래 셀의 내용을 대체 하세요.\n",
    "    - [OpenSearch 생성 가이드](https://github.com/gonsoomoon-ml/Kor-LLM-On-SageMaker/blob/main/2-Lab02-QA-with-RAG/4.rag-fsi-data-workshop/TASK-4_OpenSearch_Creation_and_Vector_Insertion.ipynb)\n",
    "### 아래 셀에 다음의 정보가 입력이 되어야 합니다.\n",
    "```\n",
    "opensearch_domain_endpoint = \"<Type Domain Endpoint>\"\n",
    "http_auth = (rag_user_name, rag_user_password) # Master username, Master password\n",
    "\n",
    "```\n"
   ]
  },
  {
   "cell_type": "code",
   "execution_count": 43,
   "id": "1d1f5685-8e8f-43a6-84d1-6c7b450f817b",
   "metadata": {
    "tags": []
   },
   "outputs": [],
   "source": [
    "from utils.opensearch import opensearch_utils"
   ]
  },
  {
   "cell_type": "code",
   "execution_count": 46,
   "id": "6a1fd652-f8fa-4289-ae5b-90021b553871",
   "metadata": {
    "tags": []
   },
   "outputs": [],
   "source": [
    "aws_region = 'us-east-1'\n",
    "\n",
    "os.environ[\"OpenSearch_UserName\"] = \"<Type UserName>\"\n",
    "os.environ[\"OpenSearch_UserPassword\"] = \"<Type Password>\"\n",
    "\n",
    "rag_user_name = os.environ[\"OpenSearch_UserName\"]\n",
    "rag_user_password = os.environ[\"OpenSearch_UserPassword\"]\n",
    "\n",
    "opensearch_domain_endpoint = \"<Type your domain endpoint>\"\n",
    "\n",
    "http_auth = (rag_user_name, rag_user_password) # Master username, Master password\n",
    "\n",
    "os_client = opensearch_utils.create_aws_opensearch_client(\n",
    "    aws_region,\n",
    "    opensearch_domain_endpoint,\n",
    "    http_auth\n",
    ")\n"
   ]
  },
  {
   "cell_type": "markdown",
   "id": "187ceea4-4d80-41bf-9431-47d5f3902396",
   "metadata": {
    "tags": []
   },
   "source": [
    "# 4. OpenSearch 벡터 Indexer 생성\n",
    "### 선수 조건\n",
    "- 랭체인 오프서처 참고 자료\n",
    "    - [Langchain Opensearch](https://python.langchain.com/docs/integrations/vectorstores/opensearch)"
   ]
  },
  {
   "cell_type": "markdown",
   "id": "3a6c5796-a418-4505-ba28-0ca33c3fa9f8",
   "metadata": {},
   "source": [
    "## 오픈 서치 인덱스 유무에 따라 삭제\n",
    "오픈 서치에 해당 인덱스가 존재하면, 삭제 합니다. "
   ]
  },
  {
   "cell_type": "code",
   "execution_count": 47,
   "id": "9cf8addb-9345-499e-b079-94c2612f88b6",
   "metadata": {
    "tags": []
   },
   "outputs": [
    {
     "name": "stdout",
     "output_type": "stream",
     "text": [
      "index_name=genai-demo-index-v1, exists=True\n",
      "\n",
      "Deleting index:\n",
      "{'acknowledged': True}\n"
     ]
    }
   ],
   "source": [
    "index_name = \"genai-demo-index-v1\"\n",
    "index_exists = opensearch_utils.check_if_index_exists(os_client, index_name)\n",
    "\n",
    "if index_exists:\n",
    "    opensearch_utils.delete_index(os_client, index_name)\n",
    "else:\n",
    "    print(\"Index does not exist\")"
   ]
  },
  {
   "cell_type": "markdown",
   "id": "56ac0292-f3fc-4ef7-a00d-becee90f0dec",
   "metadata": {},
   "source": [
    "## 인덱스 생성"
   ]
  },
  {
   "cell_type": "code",
   "execution_count": 48,
   "id": "40e6a1ae-804d-41f6-8e46-04764a8a5be3",
   "metadata": {
    "tags": []
   },
   "outputs": [],
   "source": [
    "from langchain.vectorstores import OpenSearchVectorSearch"
   ]
  },
  {
   "cell_type": "code",
   "execution_count": 49,
   "id": "591b0e0b-76e2-47c3-a921-b68257fb089f",
   "metadata": {
    "tags": []
   },
   "outputs": [
    {
     "name": "stdout",
     "output_type": "stream",
     "text": [
      "CPU times: user 285 ms, sys: 16.7 ms, total: 301 ms\n",
      "Wall time: 11.8 s\n"
     ]
    }
   ],
   "source": [
    "%%time\n",
    "# by default langchain would create a k-NN index and the embeddings would be ingested as a k-NN vector type\n",
    "docsearch = OpenSearchVectorSearch.from_documents(\n",
    "    index_name=index_name,\n",
    "    documents=docs,\n",
    "    embedding=llm_emb,\n",
    "    opensearch_url=opensearch_domain_endpoint,\n",
    "    http_auth=http_auth,\n",
    "    bulk_size=10000,\n",
    "    timeout=60\n",
    ")"
   ]
  },
  {
   "cell_type": "markdown",
   "id": "fae62975-2e46-44e7-97e4-c14c2bfa632f",
   "metadata": {},
   "source": [
    "## 인덱스 확인"
   ]
  },
  {
   "cell_type": "code",
   "execution_count": 52,
   "id": "14827f89-c54b-440d-ab7f-5bb22eefc313",
   "metadata": {
    "tags": []
   },
   "outputs": [
    {
     "name": "stdout",
     "output_type": "stream",
     "text": [
      "{'genai-demo-index-v1': {'aliases': {},\n",
      "                         'mappings': {'properties': {'metadata': {'properties': {'row': {'type': 'long'},\n",
      "                                                                                 'source': {'fields': {'keyword': {'ignore_above': 256,\n",
      "                                                                                                                   'type': 'keyword'}},\n",
      "                                                                                            'type': 'text'},\n",
      "                                                                                 'timestamp': {'type': 'float'},\n",
      "                                                                                 'type': {'fields': {'keyword': {'ignore_above': 256,\n",
      "                                                                                                                 'type': 'keyword'}},\n",
      "                                                                                          'type': 'text'}}},\n",
      "                                                     'text': {'fields': {'keyword': {'ignore_above': 256,\n",
      "                                                                                     'type': 'keyword'}},\n",
      "                                                              'type': 'text'},\n",
      "                                                     'vector_field': {'dimension': 1536,\n",
      "                                                                      'method': {'engine': 'nmslib',\n",
      "                                                                                 'name': 'hnsw',\n",
      "                                                                                 'parameters': {'ef_construction': 512,\n",
      "                                                                                                'm': 16},\n",
      "                                                                                 'space_type': 'l2'},\n",
      "                                                                      'type': 'knn_vector'}}},\n",
      "                         'settings': {'index': {'creation_date': '1697033398230',\n",
      "                                                'knn': 'true',\n",
      "                                                'knn.algo_param': {'ef_search': '512'},\n",
      "                                                'number_of_replicas': '2',\n",
      "                                                'number_of_shards': '5',\n",
      "                                                'provided_name': 'genai-demo-index-v1',\n",
      "                                                'uuid': 'l4ooTxHAQeiY8Jyr_ok1zQ',\n",
      "                                                'version': {'created': '136307827'}}}}}\n"
     ]
    }
   ],
   "source": [
    "index_info = os_client.indices.get(index=index_name)\n",
    "pprint(index_info)"
   ]
  },
  {
   "cell_type": "markdown",
   "id": "783076d7-61c8-4796-a91f-dac51b0723e1",
   "metadata": {
    "tags": []
   },
   "source": [
    "## 은전한잎 형태소 분석기 (seunjeon_tokenizer) 사용하기\n",
    "- 영어권의 문자들과 다르게 한글, 일본어, 중국어 등은 단순한 공백만으로는 좋은 검색 결과를 얻기 힘듭니다.\n",
    "- 출시하고라는 단어가 들어간 문서를 출시하고라는 정확히 같은 단어만으로 검색할 수 있다면 답답하겠죠?\n",
    "- 출시하고라는 단어를 출시, 출시하고 등 다양하게 검색하기 위해서는 형태소 분석기가 필요합니다.\n",
    "- https://catalog.us-east-1.prod.workshops.aws/workshops/de4e38cb-a0d9-4ffe-a777-bf00d498fa49/ko-KR/indexing/stemming#"
   ]
  },
  {
   "cell_type": "markdown",
   "id": "d310c188-f4d4-41dd-ba9e-722dc2490519",
   "metadata": {
    "tags": []
   },
   "source": [
    "### 인덱싱 수정하기 (형태소 분석시 사용 enablement)"
   ]
  },
  {
   "cell_type": "code",
   "execution_count": 53,
   "id": "42bfe74d-7204-4820-b8e8-949820e66c30",
   "metadata": {
    "tags": []
   },
   "outputs": [
    {
     "data": {
      "text/plain": [
       "'genai-demo-index-v1-with-tokenizer'"
      ]
     },
     "execution_count": 53,
     "metadata": {},
     "output_type": "execute_result"
    }
   ],
   "source": [
    "new_index_name = f'{index_name}-with-tokenizer'\n",
    "new_index_name"
   ]
  },
  {
   "cell_type": "code",
   "execution_count": 54,
   "id": "35fe5d27-0c48-4cd5-904c-dae434174f02",
   "metadata": {
    "tags": []
   },
   "outputs": [],
   "source": [
    "# Setting for \"은전한잎\" Tokenizer (변경 없음)\n",
    "index_info[index_name][\"settings\"][\"analysis\"] = {\n",
    "    \"tokenizer\": {\n",
    "        \"seunjeon\": {\n",
    "            \"type\": \"seunjeon_tokenizer\"\n",
    "        }\n",
    "    },\n",
    "    \"analyzer\": {\n",
    "        \"my_analyzer\": {\n",
    "            \"type\": \"custom\",\n",
    "            \"tokenizer\": \"seunjeon\"\n",
    "        }\n",
    "    }\n",
    "}\n",
    "\n",
    "# Setting for Columns to be adapted by Tokenizer (tokenizer가 적용될 컬럼에 맞춰서 수정)\n",
    "index_info[index_name][\"mappings\"][\"properties\"][\"text\"][\"analyzer\"] = \"my_analyzer\"\n",
    "index_info[index_name][\"mappings\"][\"properties\"][\"text\"][\"search_analyzer\"] = \"my_analyzer\"\n",
    "\n",
    "# Setting for vector index column (변경 없음)\n",
    "index_info[index_name][\"settings\"][\"index\"] = {\n",
    "    \"number_of_shards\": \"5\",\n",
    "    \"knn.algo_param\": {\"ef_search\": \"512\"},\n",
    "    \"knn\": \"true\",\n",
    "    \"number_of_replicas\": \"2\"\n",
    "}\n",
    "del index_info[index_name][\"aliases\"]\n",
    "new_index_info = index_info[index_name]"
   ]
  },
  {
   "cell_type": "code",
   "execution_count": 55,
   "id": "2c74574e-9147-48c6-bdc0-820e0e1261ab",
   "metadata": {
    "tags": []
   },
   "outputs": [
    {
     "name": "stdout",
     "output_type": "stream",
     "text": [
      "{'mappings': {'properties': {'metadata': {'properties': {'row': {'type': 'long'},\n",
      "                                                         'source': {'fields': {'keyword': {'ignore_above': 256,\n",
      "                                                                                           'type': 'keyword'}},\n",
      "                                                                    'type': 'text'},\n",
      "                                                         'timestamp': {'type': 'float'},\n",
      "                                                         'type': {'fields': {'keyword': {'ignore_above': 256,\n",
      "                                                                                         'type': 'keyword'}},\n",
      "                                                                  'type': 'text'}}},\n",
      "                             'text': {'analyzer': 'my_analyzer',\n",
      "                                      'fields': {'keyword': {'ignore_above': 256,\n",
      "                                                             'type': 'keyword'}},\n",
      "                                      'search_analyzer': 'my_analyzer',\n",
      "                                      'type': 'text'},\n",
      "                             'vector_field': {'dimension': 1536,\n",
      "                                              'method': {'engine': 'nmslib',\n",
      "                                                         'name': 'hnsw',\n",
      "                                                         'parameters': {'ef_construction': 512,\n",
      "                                                                        'm': 16},\n",
      "                                                         'space_type': 'l2'},\n",
      "                                              'type': 'knn_vector'}}},\n",
      " 'settings': {'analysis': {'analyzer': {'my_analyzer': {'tokenizer': 'seunjeon',\n",
      "                                                        'type': 'custom'}},\n",
      "                           'tokenizer': {'seunjeon': {'type': 'seunjeon_tokenizer'}}},\n",
      "              'index': {'knn': 'true',\n",
      "                        'knn.algo_param': {'ef_search': '512'},\n",
      "                        'number_of_replicas': '2',\n",
      "                        'number_of_shards': '5'}}}\n"
     ]
    }
   ],
   "source": [
    "pprint(new_index_info)"
   ]
  },
  {
   "cell_type": "markdown",
   "id": "23fa8849-7144-4579-861f-b9429e11e58f",
   "metadata": {},
   "source": [
    "### 형태소 분석기용 인덱서 생성"
   ]
  },
  {
   "cell_type": "code",
   "execution_count": 56,
   "id": "ea44de00-83b4-4af0-9347-ca1a992fc7e0",
   "metadata": {
    "tags": []
   },
   "outputs": [
    {
     "name": "stdout",
     "output_type": "stream",
     "text": [
      "index_name=genai-demo-index-v1-with-tokenizer, exists=True\n",
      "\n",
      "Deleting index:\n",
      "{'acknowledged': True}\n"
     ]
    }
   ],
   "source": [
    "index_exists = opensearch_utils.check_if_index_exists(os_client, new_index_name)\n",
    "if index_exists:\n",
    "    opensearch_utils.delete_index(os_client, new_index_name)\n",
    "else:\n",
    "    print(\"Index does not exist\")"
   ]
  },
  {
   "cell_type": "code",
   "execution_count": 57,
   "id": "f9004d5d-9400-4822-9769-7405a79fd94e",
   "metadata": {
    "tags": []
   },
   "outputs": [
    {
     "name": "stdout",
     "output_type": "stream",
     "text": [
      "\n",
      "Creating index:\n",
      "{'acknowledged': True, 'shards_acknowledged': True, 'index': 'genai-demo-index-v1-with-tokenizer'}\n"
     ]
    }
   ],
   "source": [
    "opensearch_utils.create_index(\n",
    "    os_client,\n",
    "    index_name=new_index_name,\n",
    "    index_body=new_index_info\n",
    ")"
   ]
  },
  {
   "cell_type": "markdown",
   "id": "9b47462d-ccce-47bc-b23d-b86f31f699dc",
   "metadata": {
    "tags": []
   },
   "source": [
    "### Re-indexing"
   ]
  },
  {
   "cell_type": "code",
   "execution_count": 58,
   "id": "70f114e7-47ea-4f54-9dc9-c4ea6e088ecc",
   "metadata": {
    "tags": []
   },
   "outputs": [
    {
     "name": "stdout",
     "output_type": "stream",
     "text": [
      "_reindex: \n",
      " {'source': {'index': 'genai-demo-index-v1'}, 'dest': {'index': 'genai-demo-index-v1-with-tokenizer'}}\n"
     ]
    }
   ],
   "source": [
    "_reindex = {\n",
    "    \"source\": {\"index\": index_name},\n",
    "    \"dest\": {\"index\": new_index_name}\n",
    "}\n",
    "print(\"_reindex: \\n\", _reindex)"
   ]
  },
  {
   "cell_type": "code",
   "execution_count": 59,
   "id": "aafa1768-b98c-45bf-8063-92e9c3aa1681",
   "metadata": {
    "tags": []
   },
   "outputs": [
    {
     "data": {
      "text/plain": [
       "{'took': 325,\n",
       " 'timed_out': False,\n",
       " 'total': 92,\n",
       " 'updated': 0,\n",
       " 'created': 92,\n",
       " 'deleted': 0,\n",
       " 'batches': 1,\n",
       " 'version_conflicts': 0,\n",
       " 'noops': 0,\n",
       " 'retries': {'bulk': 0, 'search': 0},\n",
       " 'throttled_millis': 0,\n",
       " 'requests_per_second': -1.0,\n",
       " 'throttled_until_millis': 0,\n",
       " 'failures': []}"
      ]
     },
     "execution_count": 59,
     "metadata": {},
     "output_type": "execute_result"
    }
   ],
   "source": [
    "os_client.reindex(_reindex)"
   ]
  },
  {
   "cell_type": "markdown",
   "id": "ed402bb8-497d-4da6-8a1b-02de77133251",
   "metadata": {},
   "source": [
    "# 6. 키워드 검색"
   ]
  },
  {
   "cell_type": "markdown",
   "id": "a7b559de-eb37-4286-8609-bdfe8ec08cdd",
   "metadata": {
    "tags": []
   },
   "source": [
    "### 'Text\" 에 \"약관, 뱅킹\" 단어를 검색합니다."
   ]
  },
  {
   "cell_type": "markdown",
   "id": "fd1cfb29-137c-4350-bb1e-99424221a5c7",
   "metadata": {},
   "source": [
    "* without tokenizer (index_name)"
   ]
  },
  {
   "cell_type": "code",
   "execution_count": 61,
   "id": "87964e9a-b4e0-45a9-98ce-7b54e6276239",
   "metadata": {
    "tags": []
   },
   "outputs": [
    {
     "name": "stdout",
     "output_type": "stream",
     "text": [
      "query:  {'query': {'bool': {'must': [{'match': {'text': {'query': '뱅킹', 'minimum_should_match': '0%', 'operator': 'or'}}}], 'filter': []}}}\n",
      "There is no response\n"
     ]
    }
   ],
   "source": [
    "query = \"뱅킹\"\n",
    "query = opensearch_utils.get_query(\n",
    "    query=query\n",
    ")\n",
    "\n",
    "print(\"query: \", query)\n",
    "response = opensearch_utils.search_document(os_client, query, index_name)\n",
    "opensearch_utils.parse_keyword_response(response, show_size=3)"
   ]
  },
  {
   "cell_type": "markdown",
   "id": "45407fab-031e-44c2-8758-bd6d5f6074a9",
   "metadata": {
    "tags": []
   },
   "source": [
    "* with tokenizer (new_index_name)"
   ]
  },
  {
   "cell_type": "code",
   "execution_count": 62,
   "id": "66ea8613-e2a9-4b25-adf9-bbde630b1801",
   "metadata": {
    "tags": []
   },
   "outputs": [
    {
     "name": "stdout",
     "output_type": "stream",
     "text": [
      "query:  {'query': {'bool': {'must': [{'match': {'text': {'query': '뱅킹', 'minimum_should_match': '0%', 'operator': 'or'}}}], 'filter': []}}}\n",
      "# of searched docs:  10\n",
      "# of display: 3\n",
      "---------------------\n",
      "_id in index:  1a24c141-14bd-41de-8e60-354f1aede5ba\n",
      "1.4321054\n",
      "ask: 이체한도 증액은 어떻게 하나요?\n",
      "Information: 영업점 방문하지 않아도 모바일뱅킹 신한 쏠(SOL) 에서 비대면실명 인증후 통합이체한도 증액 가능합니다. 통합이체한도는 이용하시는 보안매체에 따라, 보안등급별 최고 한도내에서 증액가능합니다.\n",
      "OTP카드 창구 발급 시 5,000원(카드형 10,000원)의 수수료가 부과됩니다. 당행에서만 사용가능한 모바일OTP는 영업점 방문없이 신한 쏠(SOL) 에서 무료로 발급가능합니다. \n",
      "※ 모바일OTP를 이용하시는 경우 쏠(SOL)에서 이체한도 증액은 1회 1천만원 이하, 1일 5천만원 이하로 증액 가능합니다. \n",
      "※ 만 14세 미만의 경우 법정대리인(부모/친권자/후견인)에 의해 영업점 방문하여 증액 가능하며 1일, 1회 1백만원 이하로 이체한도 제한됩니다. \n",
      "통합한도란 인터넷뱅킹/신한 쏠(SOL)/폰뱅킹 등을 사용하는 경우 1일 또는 1회에 이체 가능한 통합 이체한도를 말합니다.\n",
      "* 인터넷뱅킹/신한 쏠(SOL)/폰뱅킹에서 거래한 이체금액의 합이 통합이체한도의 범위를 초과할 수 없습니다.\n",
      "기타 궁금하신 내용은 신한은행 고객센터 1599-8000로 문의하여 주시기 바랍니다.\n",
      "{'source': '신한은행', 'row': 33, 'type': '인터넷뱅킹', 'timestamp': 1697033295.9726202}\n",
      "---------------------\n",
      "_id in index:  d4f34566-c43f-4007-b044-234f51b22edd\n",
      "1.3527194\n",
      "ask: 보안메일서비스 안내해줘\n",
      "Information: 신한은행은 이메일서비스를 통해 고객님의 거래정보와 금융정보를 메일로 알려드리는데 고객님께 발송되는 이메일 중 개인정보보호가 필요한 메일(거래정보 등)은 암호화 처리되어 보안메일로 발송되어 일반메일 (홍보 및 안내메일) 과 구별됩니다. ※ 입출내역 통지서비스는 개인뱅킹 > 뱅킹보안서비스 > 통지서비스 > 입출내역 Email통지서비스 메뉴에서 서비스 신청 및 변경이 가능합니다.\n",
      "{'source': '신한은행', 'row': 84, 'type': '인터넷뱅킹', 'timestamp': 1697033295.9727807}\n",
      "---------------------\n",
      "_id in index:  4f2f4ddb-b403-45d4-9e91-d627b6b7196f\n",
      "1.1745262\n",
      "ask: 보안카드 번호 입력은 어떻게 하면 되죠?\n",
      "Information: 씨크리트(보안)카드는 고객님이 은행에서 신한온라인서비스(인터넷뱅킹)에 가입하신 후 받은 카드입니다.  보안카드번호가 필요한 모든 거래에  기타 궁금하신 내용은 신한은행 고객센터 1599-8000로 문의하여 주시기 바랍니다.\n",
      "{'source': '신한은행', 'row': 61, 'type': '인터넷뱅킹', 'timestamp': 1697033295.9727094}\n",
      "---------------------\n"
     ]
    }
   ],
   "source": [
    "query = \"뱅킹\"\n",
    "query = opensearch_utils.get_query(\n",
    "    query=query\n",
    ")\n",
    "\n",
    "print(\"query: \", query)\n",
    "response = opensearch_utils.search_document(os_client, query, new_index_name)\n",
    "opensearch_utils.parse_keyword_response(response, show_size=3)"
   ]
  },
  {
   "cell_type": "markdown",
   "id": "672ac896-637d-4ca5-bf69-b5750aafdfda",
   "metadata": {
    "tags": []
   },
   "source": [
    "## 형태소 분석 결과 확인\n",
    "\"약관\" 또는 \"뱅킹\" 확인 <BR>\n",
    "#### [중요]:  doc_id: 위의 문서 인덱스 정보 확인 후 수정"
   ]
  },
  {
   "cell_type": "code",
   "execution_count": 63,
   "id": "57b6455e-ed40-461d-bfb2-71a4f6027525",
   "metadata": {
    "tags": []
   },
   "outputs": [],
   "source": [
    "doc_id = \"4f2f4ddb-b403-45d4-9e91-d627b6b7196f\""
   ]
  },
  {
   "cell_type": "markdown",
   "id": "2085afd4-849e-4a32-8913-a9f4390bcf62",
   "metadata": {
    "tags": []
   },
   "source": [
    "* without tokenizer"
   ]
  },
  {
   "cell_type": "code",
   "execution_count": 64,
   "id": "63d7832a-be76-447c-869f-d22a451e8aa0",
   "metadata": {
    "collapsed": true,
    "jupyter": {
     "outputs_hidden": true
    },
    "tags": []
   },
   "outputs": [
    {
     "data": {
      "text/plain": [
       "{'_index': 'genai-demo-index-v1',\n",
       " '_id': '4f2f4ddb-b403-45d4-9e91-d627b6b7196f',\n",
       " '_version': 1,\n",
       " 'found': True,\n",
       " 'took': 0,\n",
       " 'term_vectors': {'text': {'field_statistics': {'sum_doc_freq': 661,\n",
       "    'doc_count': 12,\n",
       "    'sum_ttf': 765},\n",
       "   'terms': {'1599': {'term_freq': 1,\n",
       "     'tokens': [{'position': 29, 'start_offset': 140, 'end_offset': 144}]},\n",
       "    '8000로': {'term_freq': 1,\n",
       "     'tokens': [{'position': 30, 'start_offset': 145, 'end_offset': 150}]},\n",
       "    'ask': {'term_freq': 1,\n",
       "     'tokens': [{'position': 0, 'start_offset': 0, 'end_offset': 3}]},\n",
       "    'information': {'term_freq': 1,\n",
       "     'tokens': [{'position': 7, 'start_offset': 28, 'end_offset': 39}]},\n",
       "    '가입하신': {'term_freq': 1,\n",
       "     'tokens': [{'position': 16, 'start_offset': 80, 'end_offset': 84}]},\n",
       "    '거래에': {'term_freq': 1,\n",
       "     'tokens': [{'position': 23, 'start_offset': 113, 'end_offset': 116}]},\n",
       "    '고객님이': {'term_freq': 1,\n",
       "     'tokens': [{'position': 11, 'start_offset': 53, 'end_offset': 57}]},\n",
       "    '고객센터': {'term_freq': 1,\n",
       "     'tokens': [{'position': 28, 'start_offset': 135, 'end_offset': 139}]},\n",
       "    '궁금하신': {'term_freq': 1,\n",
       "     'tokens': [{'position': 25, 'start_offset': 121, 'end_offset': 125}]},\n",
       "    '기타': {'term_freq': 1,\n",
       "     'tokens': [{'position': 24, 'start_offset': 118, 'end_offset': 120}]},\n",
       "    '내용은': {'term_freq': 1,\n",
       "     'tokens': [{'position': 26, 'start_offset': 126, 'end_offset': 129}]},\n",
       "    '되죠': {'term_freq': 1,\n",
       "     'tokens': [{'position': 6, 'start_offset': 24, 'end_offset': 26}]},\n",
       "    '모든': {'term_freq': 1,\n",
       "     'tokens': [{'position': 22, 'start_offset': 110, 'end_offset': 112}]},\n",
       "    '문의하여': {'term_freq': 1,\n",
       "     'tokens': [{'position': 31, 'start_offset': 151, 'end_offset': 155}]},\n",
       "    '바랍니다': {'term_freq': 1,\n",
       "     'tokens': [{'position': 33, 'start_offset': 160, 'end_offset': 164}]},\n",
       "    '받은': {'term_freq': 1,\n",
       "     'tokens': [{'position': 18, 'start_offset': 87, 'end_offset': 89}]},\n",
       "    '번호': {'term_freq': 1,\n",
       "     'tokens': [{'position': 2, 'start_offset': 10, 'end_offset': 12}]},\n",
       "    '보안': {'term_freq': 1,\n",
       "     'tokens': [{'position': 9, 'start_offset': 46, 'end_offset': 48}]},\n",
       "    '보안카드': {'term_freq': 1,\n",
       "     'tokens': [{'position': 1, 'start_offset': 5, 'end_offset': 9}]},\n",
       "    '보안카드번호가': {'term_freq': 1,\n",
       "     'tokens': [{'position': 20, 'start_offset': 98, 'end_offset': 105}]},\n",
       "    '신한온라인서비스': {'term_freq': 1,\n",
       "     'tokens': [{'position': 13, 'start_offset': 63, 'end_offset': 71}]},\n",
       "    '신한은행': {'term_freq': 1,\n",
       "     'tokens': [{'position': 27, 'start_offset': 130, 'end_offset': 134}]},\n",
       "    '씨크리트': {'term_freq': 1,\n",
       "     'tokens': [{'position': 8, 'start_offset': 41, 'end_offset': 45}]},\n",
       "    '어떻게': {'term_freq': 1,\n",
       "     'tokens': [{'position': 4, 'start_offset': 17, 'end_offset': 20}]},\n",
       "    '에': {'term_freq': 1,\n",
       "     'tokens': [{'position': 15, 'start_offset': 78, 'end_offset': 79}]},\n",
       "    '은행에서': {'term_freq': 1,\n",
       "     'tokens': [{'position': 12, 'start_offset': 58, 'end_offset': 62}]},\n",
       "    '인터넷뱅킹': {'term_freq': 1,\n",
       "     'tokens': [{'position': 14, 'start_offset': 72, 'end_offset': 77}]},\n",
       "    '입력은': {'term_freq': 1,\n",
       "     'tokens': [{'position': 3, 'start_offset': 13, 'end_offset': 16}]},\n",
       "    '주시기': {'term_freq': 1,\n",
       "     'tokens': [{'position': 32, 'start_offset': 156, 'end_offset': 159}]},\n",
       "    '카드는': {'term_freq': 1,\n",
       "     'tokens': [{'position': 10, 'start_offset': 49, 'end_offset': 52}]},\n",
       "    '카드입니다': {'term_freq': 1,\n",
       "     'tokens': [{'position': 19, 'start_offset': 90, 'end_offset': 95}]},\n",
       "    '필요한': {'term_freq': 1,\n",
       "     'tokens': [{'position': 21, 'start_offset': 106, 'end_offset': 109}]},\n",
       "    '하면': {'term_freq': 1,\n",
       "     'tokens': [{'position': 5, 'start_offset': 21, 'end_offset': 23}]},\n",
       "    '후': {'term_freq': 1,\n",
       "     'tokens': [{'position': 17, 'start_offset': 85, 'end_offset': 86}]}}}}}"
      ]
     },
     "execution_count": 64,
     "metadata": {},
     "output_type": "execute_result"
    }
   ],
   "source": [
    "os_client.termvectors(index=index_name, id=doc_id, fields='text')"
   ]
  },
  {
   "cell_type": "markdown",
   "id": "d37ede8b-c80c-417b-bd7a-cd9fb6774210",
   "metadata": {
    "tags": []
   },
   "source": [
    "* with tokenizer"
   ]
  },
  {
   "cell_type": "code",
   "execution_count": 65,
   "id": "fcebfd6b-a750-4a56-8f8c-10403389ac66",
   "metadata": {
    "collapsed": true,
    "jupyter": {
     "outputs_hidden": true
    },
    "tags": []
   },
   "outputs": [
    {
     "data": {
      "text/plain": [
       "{'_index': 'genai-demo-index-v1-with-tokenizer',\n",
       " '_id': '4f2f4ddb-b403-45d4-9e91-d627b6b7196f',\n",
       " '_version': 1,\n",
       " 'found': True,\n",
       " 'took': 16,\n",
       " 'term_vectors': {'text': {'field_statistics': {'sum_doc_freq': 1031,\n",
       "    'doc_count': 12,\n",
       "    'sum_ttf': 1388},\n",
       "   'terms': {'1599/SN': {'term_freq': 1,\n",
       "     'tokens': [{'position': 36, 'start_offset': 140, 'end_offset': 144}]},\n",
       "    '8000/SN': {'term_freq': 1,\n",
       "     'tokens': [{'position': 37, 'start_offset': 145, 'end_offset': 149}]},\n",
       "    '8000로/EOJ': {'term_freq': 1,\n",
       "     'tokens': [{'position': 37, 'start_offset': 145, 'end_offset': 150}]},\n",
       "    'ask/SL': {'term_freq': 1,\n",
       "     'tokens': [{'position': 0, 'start_offset': 0, 'end_offset': 3}]},\n",
       "    'information/SL': {'term_freq': 1,\n",
       "     'tokens': [{'position': 8, 'start_offset': 28, 'end_offset': 39}]},\n",
       "    '가입/N': {'term_freq': 1,\n",
       "     'tokens': [{'position': 19, 'start_offset': 80, 'end_offset': 82}]},\n",
       "    '가입하신/EOJ': {'term_freq': 1,\n",
       "     'tokens': [{'position': 19, 'start_offset': 80, 'end_offset': 84}]},\n",
       "    '거래/N': {'term_freq': 1,\n",
       "     'tokens': [{'position': 28, 'start_offset': 113, 'end_offset': 115}]},\n",
       "    '거래에/EOJ': {'term_freq': 1,\n",
       "     'tokens': [{'position': 28, 'start_offset': 113, 'end_offset': 116}]},\n",
       "    '고객/N': {'term_freq': 2,\n",
       "     'tokens': [{'position': 12, 'start_offset': 53, 'end_offset': 55},\n",
       "      {'position': 34, 'start_offset': 135, 'end_offset': 137}]},\n",
       "    '고객님이/EOJ': {'term_freq': 1,\n",
       "     'tokens': [{'position': 12, 'start_offset': 53, 'end_offset': 57}]},\n",
       "    '궁금/XR': {'term_freq': 1,\n",
       "     'tokens': [{'position': 30, 'start_offset': 121, 'end_offset': 123}]},\n",
       "    '궁금하신/EOJ': {'term_freq': 1,\n",
       "     'tokens': [{'position': 30, 'start_offset': 121, 'end_offset': 125}]},\n",
       "    '기타/N': {'term_freq': 1,\n",
       "     'tokens': [{'position': 29, 'start_offset': 118, 'end_offset': 120}]},\n",
       "    '내용/N': {'term_freq': 1,\n",
       "     'tokens': [{'position': 31, 'start_offset': 126, 'end_offset': 128}]},\n",
       "    '내용은/EOJ': {'term_freq': 1,\n",
       "     'tokens': [{'position': 31, 'start_offset': 126, 'end_offset': 129}]},\n",
       "    '되/V': {'term_freq': 1,\n",
       "     'tokens': [{'position': 7, 'start_offset': 24, 'end_offset': 25}]},\n",
       "    '되죠/EOJ': {'term_freq': 1,\n",
       "     'tokens': [{'position': 7, 'start_offset': 24, 'end_offset': 26}]},\n",
       "    '리트/N': {'term_freq': 1,\n",
       "     'tokens': [{'position': 9, 'start_offset': 43, 'end_offset': 45}]},\n",
       "    '모든/M': {'term_freq': 1,\n",
       "     'tokens': [{'position': 27, 'start_offset': 110, 'end_offset': 112}]},\n",
       "    '문의/N': {'term_freq': 1,\n",
       "     'tokens': [{'position': 38, 'start_offset': 151, 'end_offset': 153}]},\n",
       "    '문의하여/EOJ': {'term_freq': 1,\n",
       "     'tokens': [{'position': 38, 'start_offset': 151, 'end_offset': 155}]},\n",
       "    '바라/V': {'term_freq': 1,\n",
       "     'tokens': [{'position': 40, 'start_offset': 160, 'end_offset': 162}]},\n",
       "    '바랍니다/EOJ': {'term_freq': 1,\n",
       "     'tokens': [{'position': 40, 'start_offset': 160, 'end_offset': 164}]},\n",
       "    '받/V': {'term_freq': 1,\n",
       "     'tokens': [{'position': 21, 'start_offset': 87, 'end_offset': 88}]},\n",
       "    '받은/EOJ': {'term_freq': 1,\n",
       "     'tokens': [{'position': 21, 'start_offset': 87, 'end_offset': 89}]},\n",
       "    '뱅킹/N': {'term_freq': 1,\n",
       "     'tokens': [{'position': 18, 'start_offset': 75, 'end_offset': 77}]},\n",
       "    '번호/N': {'term_freq': 2,\n",
       "     'tokens': [{'position': 3, 'start_offset': 10, 'end_offset': 12},\n",
       "      {'position': 25, 'start_offset': 102, 'end_offset': 104}]},\n",
       "    '번호가/EOJ': {'term_freq': 1,\n",
       "     'tokens': [{'position': 25, 'start_offset': 102, 'end_offset': 105}]},\n",
       "    '보안/N': {'term_freq': 3,\n",
       "     'tokens': [{'position': 1, 'start_offset': 5, 'end_offset': 7},\n",
       "      {'position': 10, 'start_offset': 46, 'end_offset': 48},\n",
       "      {'position': 23, 'start_offset': 98, 'end_offset': 100}]},\n",
       "    '서비스/N': {'term_freq': 1,\n",
       "     'tokens': [{'position': 16, 'start_offset': 68, 'end_offset': 71}]},\n",
       "    '센터/N': {'term_freq': 1,\n",
       "     'tokens': [{'position': 35, 'start_offset': 137, 'end_offset': 139}]},\n",
       "    '신한/N': {'term_freq': 2,\n",
       "     'tokens': [{'position': 14, 'start_offset': 63, 'end_offset': 65},\n",
       "      {'position': 32, 'start_offset': 130, 'end_offset': 132}]},\n",
       "    '신한은행/EOJ': {'term_freq': 1,\n",
       "     'tokens': [{'position': 32, 'start_offset': 130, 'end_offset': 134}]},\n",
       "    '어떻게/M': {'term_freq': 1,\n",
       "     'tokens': [{'position': 5, 'start_offset': 17, 'end_offset': 20}]},\n",
       "    '온라인/N': {'term_freq': 1,\n",
       "     'tokens': [{'position': 15, 'start_offset': 65, 'end_offset': 68}]},\n",
       "    '은행/N': {'term_freq': 2,\n",
       "     'tokens': [{'position': 13, 'start_offset': 58, 'end_offset': 60},\n",
       "      {'position': 33, 'start_offset': 132, 'end_offset': 134}]},\n",
       "    '은행에서/EOJ': {'term_freq': 1,\n",
       "     'tokens': [{'position': 13, 'start_offset': 58, 'end_offset': 62}]},\n",
       "    '인터넷/N': {'term_freq': 1,\n",
       "     'tokens': [{'position': 17, 'start_offset': 72, 'end_offset': 75}]},\n",
       "    '입력/N': {'term_freq': 1,\n",
       "     'tokens': [{'position': 4, 'start_offset': 13, 'end_offset': 15}]},\n",
       "    '입력은/EOJ': {'term_freq': 1,\n",
       "     'tokens': [{'position': 4, 'start_offset': 13, 'end_offset': 16}]},\n",
       "    '주/V': {'term_freq': 1,\n",
       "     'tokens': [{'position': 39, 'start_offset': 156, 'end_offset': 157}]},\n",
       "    '주시기/EOJ': {'term_freq': 1,\n",
       "     'tokens': [{'position': 39, 'start_offset': 156, 'end_offset': 159}]},\n",
       "    '카드/N': {'term_freq': 4,\n",
       "     'tokens': [{'position': 2, 'start_offset': 7, 'end_offset': 9},\n",
       "      {'position': 11, 'start_offset': 49, 'end_offset': 51},\n",
       "      {'position': 22, 'start_offset': 90, 'end_offset': 92},\n",
       "      {'position': 24, 'start_offset': 100, 'end_offset': 102}]},\n",
       "    '카드는/EOJ': {'term_freq': 1,\n",
       "     'tokens': [{'position': 11, 'start_offset': 49, 'end_offset': 52}]},\n",
       "    '카드입니다/EOJ': {'term_freq': 1,\n",
       "     'tokens': [{'position': 22, 'start_offset': 90, 'end_offset': 95}]},\n",
       "    '필요/N': {'term_freq': 1,\n",
       "     'tokens': [{'position': 26, 'start_offset': 106, 'end_offset': 108}]},\n",
       "    '필요한/EOJ': {'term_freq': 1,\n",
       "     'tokens': [{'position': 26, 'start_offset': 106, 'end_offset': 109}]},\n",
       "    '하/V': {'term_freq': 1,\n",
       "     'tokens': [{'position': 6, 'start_offset': 21, 'end_offset': 22}]},\n",
       "    '하면/EOJ': {'term_freq': 1,\n",
       "     'tokens': [{'position': 6, 'start_offset': 21, 'end_offset': 23}]},\n",
       "    '후/N': {'term_freq': 1,\n",
       "     'tokens': [{'position': 20, 'start_offset': 85, 'end_offset': 86}]}}}}}"
      ]
     },
     "execution_count": 65,
     "metadata": {},
     "output_type": "execute_result"
    }
   ],
   "source": [
    "os_client.termvectors(index=new_index_name, id=doc_id, fields='text')"
   ]
  },
  {
   "cell_type": "markdown",
   "id": "897a3428-2aae-48a8-9484-940c9ce92b55",
   "metadata": {},
   "source": [
    "## Minimum_should_match 활용\n",
    "- An optional parameter of type string that represents the minimum number of matching clauses for a document to be returned. This should only be used with “OR” operator, and is more flexible than a simple “and/or,” since users can set rules depending on the length of the phrase to be matched. \n",
    "    - **query에 있는 단어의 n%이상 존재하는 문서만 가져온다**\n",
    "    - 75% (eg. 3 out of 4 words to be matched, or 6 out of 8)\n",
    "    - 2  (minimum 2 words to be matched, irrespective of length of string)"
   ]
  },
  {
   "cell_type": "markdown",
   "id": "03126278-080c-489c-bd7e-b0520becc5eb",
   "metadata": {},
   "source": [
    "min_shoud_match를 25, 75, 100 으로 변경해 보자\n",
    " - 숫자가 작아질 수록 검색 문서가 많아진다\n",
    " - 추가정보는 아래를 참고\n",
    "     - [OpenSearch Match, Multi-Match, and Match Phrase Queries](https://opster.com/guides/opensearch/opensearch-search-apis/opensearch-match-multi-match-and-match-phrase-queries/)\n",
    "     - OpenSearch Query 에서 Filter, Must, Should, Not Mush 에 대한 설명 입니다.\n",
    "         - [OpenSearch Boolean Queries](https://opster.com/guides/opensearch/opensearch-search-apis/opensearch-boolean-queries/#:~:text=Boolean%20queries%20are%20used%20to,as%20terms%2C%20match%20and%20query_string.)"
   ]
  },
  {
   "cell_type": "markdown",
   "id": "9fb2a3f3-ab24-4c44-b3ac-9f744e732101",
   "metadata": {},
   "source": [
    "##### minimum_should_match=25"
   ]
  },
  {
   "cell_type": "code",
   "execution_count": 66,
   "id": "382a4553-c18b-4812-941b-ef2b9075cfa6",
   "metadata": {
    "tags": []
   },
   "outputs": [
    {
     "name": "stdout",
     "output_type": "stream",
     "text": [
      "query:  {'query': {'bool': {'must': [{'match': {'text': {'query': '인터넷 뱅킹으로 예적금 해약', 'minimum_should_match': '25%', 'operator': 'or'}}}], 'filter': []}}}\n",
      "# of searched docs:  10\n",
      "# of display: 3\n",
      "---------------------\n",
      "_id in index:  b7ab9bad-bee4-460f-9a61-4e3bed5bef65\n",
      "8.498204\n",
      "ask: 인터넷 예적금 해약하려면 어떻게 해야 하나요?\n",
      "Information: 인터넷에서 신규하셨고, 이후 통장발급을 받지 않으셨다면 인터넷뱅킹(http://bank.shinhan.com)의 금융상품 예금/신탁 해지 메뉴를 통해 해지하실 수 있습니다.\n",
      "{'source': '신한은행', 'row': 70, 'type': '', 'timestamp': 1697033295.9727376}\n",
      "---------------------\n",
      "_id in index:  bf54cb82-0890-499a-afc8-ae3fff6bdab4\n",
      "4.587933\n",
      "ask: 인터넷으로 신규 예/적금 신청하는 방법을 알려주세요\n",
      "Information: 인터넷상으로 예금/신탁을 신규가입하시려면 우선 고객님께서는인터넷뱅킹에 가입하셔야 하며 신규방법은 두 가지가 있습니다.1. 인터넷뱅킹에서 가입인터넷뱅킹 로그인을 하신 후 예금/신탁 > 신규 메뉴에서 예금 및 신탁 상품을 신규하실 수 있습니다.2. 신한S뱅크에서 가입신한S뱅크 상품센터 > 예금센터 메뉴에서 예금상품을 신규하실 수 있습니다.\n",
      "{'source': '신한은행', 'row': 85, 'type': '인터넷뱅킹', 'timestamp': 1697033295.9727836}\n",
      "---------------------\n",
      "_id in index:  de9da834-b7b9-4b51-9226-ac633c8ab153\n",
      "4.4391727\n",
      "ask: 신탁적금(당행)으로 이체시 토요일 인터넷뱅시간 제한하는 방법은?\n",
      "Information: \"우측 상단 QUICK MENU의 이용안내를 참고하시기 바랍니다.\n",
      "{'source': '신한은행', 'row': 63, 'type': '인증서', 'timestamp': 1697033295.9727147}\n",
      "---------------------\n"
     ]
    }
   ],
   "source": [
    "query = \"인터넷 뱅킹으로 예적금 해약\"\n",
    "query = opensearch_utils.get_query(\n",
    "    query=query,\n",
    "    minimum_should_match=25\n",
    ")\n",
    "\n",
    "print(\"query: \", query)\n",
    "response = opensearch_utils.search_document(os_client, query, new_index_name)\n",
    "opensearch_utils.parse_keyword_response(response, show_size=3)"
   ]
  },
  {
   "cell_type": "markdown",
   "id": "4bb5a050-e322-4299-8868-cc20f90a2ac9",
   "metadata": {},
   "source": [
    "##### minimum_should_match=75"
   ]
  },
  {
   "cell_type": "code",
   "execution_count": 67,
   "id": "d0c01d4b-bfb2-4299-b09d-6eb426a11af0",
   "metadata": {
    "tags": []
   },
   "outputs": [
    {
     "name": "stdout",
     "output_type": "stream",
     "text": [
      "query:  {'query': {'bool': {'must': [{'match': {'text': {'query': '인터넷 뱅킹으로 예적금 해약', 'minimum_should_match': '75%', 'operator': 'or'}}}], 'filter': []}}}\n",
      "# of searched docs:  2\n",
      "# of display: 3\n",
      "---------------------\n",
      "_id in index:  b7ab9bad-bee4-460f-9a61-4e3bed5bef65\n",
      "8.498204\n",
      "ask: 인터넷 예적금 해약하려면 어떻게 해야 하나요?\n",
      "Information: 인터넷에서 신규하셨고, 이후 통장발급을 받지 않으셨다면 인터넷뱅킹(http://bank.shinhan.com)의 금융상품 예금/신탁 해지 메뉴를 통해 해지하실 수 있습니다.\n",
      "{'source': '신한은행', 'row': 70, 'type': '', 'timestamp': 1697033295.9727376}\n",
      "---------------------\n",
      "_id in index:  bf54cb82-0890-499a-afc8-ae3fff6bdab4\n",
      "4.587933\n",
      "ask: 인터넷으로 신규 예/적금 신청하는 방법을 알려주세요\n",
      "Information: 인터넷상으로 예금/신탁을 신규가입하시려면 우선 고객님께서는인터넷뱅킹에 가입하셔야 하며 신규방법은 두 가지가 있습니다.1. 인터넷뱅킹에서 가입인터넷뱅킹 로그인을 하신 후 예금/신탁 > 신규 메뉴에서 예금 및 신탁 상품을 신규하실 수 있습니다.2. 신한S뱅크에서 가입신한S뱅크 상품센터 > 예금센터 메뉴에서 예금상품을 신규하실 수 있습니다.\n",
      "{'source': '신한은행', 'row': 85, 'type': '인터넷뱅킹', 'timestamp': 1697033295.9727836}\n",
      "---------------------\n"
     ]
    }
   ],
   "source": [
    "query = \"인터넷 뱅킹으로 예적금 해약\"\n",
    "query = opensearch_utils.get_query(\n",
    "    query=query,\n",
    "    minimum_should_match=75\n",
    ")\n",
    "\n",
    "print(\"query: \", query)\n",
    "response = opensearch_utils.search_document(os_client, query, new_index_name)\n",
    "opensearch_utils.parse_keyword_response(response, show_size=3)"
   ]
  },
  {
   "cell_type": "markdown",
   "id": "63a7a41c-8b6d-46d4-bba7-c73e6540032f",
   "metadata": {
    "tags": []
   },
   "source": [
    "##### minimum_should_match=100"
   ]
  },
  {
   "cell_type": "code",
   "execution_count": 76,
   "id": "0b3eaf3d-1636-447d-9e0a-9674370f85a2",
   "metadata": {
    "tags": []
   },
   "outputs": [
    {
     "name": "stdout",
     "output_type": "stream",
     "text": [
      "query:  {'query': {'bool': {'must': [{'match': {'text': {'query': '인터넷 뱅킹으로 예적금 해약', 'minimum_should_match': '100%', 'operator': 'or'}}}], 'filter': []}}}\n",
      "# of searched docs:  1\n",
      "# of display: 3\n",
      "---------------------\n",
      "_id in index:  d0f50505-15b0-486e-bda9-8f75b310220e\n",
      "8.807308\n",
      "ask: 인터넷 예적금 해약하려면 어떻게 해야 하나요?\n",
      "Information: 인터넷에서 신규하셨고, 이후 통장발급을 받지 않으셨다면 인터넷뱅킹(http://bank.shinhan.com)의 금융상품 예금/신탁 해지 메뉴를 통해 해지하실 수 있습니다.\n",
      "{'source': '신한은행', 'row': 70, 'type': '', 'timestamp': 1696832766.2919757}\n",
      "---------------------\n"
     ]
    }
   ],
   "source": [
    "query = \"인터넷 뱅킹으로 예적금 해약\"\n",
    "query = opensearch_utils.get_query(\n",
    "    query=query,\n",
    "    minimum_should_match=100\n",
    ")\n",
    "\n",
    "print(\"query: \", query)\n",
    "response = opensearch_utils.search_document(os_client, query, new_index_name)\n",
    "opensearch_utils.parse_keyword_response(response, show_size=3)"
   ]
  },
  {
   "cell_type": "markdown",
   "id": "ef366161-656e-4a4a-a800-c7b4a32bdb9e",
   "metadata": {
    "tags": []
   },
   "source": [
    "## Filter 활용\n",
    "- document내 metadata를 활용하여 search space를 줄일 수 있다.\n",
    "- 특히 filter의 경우 search 전에 수행되기 때문에, 검색 속도 향상을 기대할 수 있다\n",
    "- syntax\n",
    "    - filter=[{\"term\"**[고정]**: {\"metadata.source\"**[메타데이터 이름, 혹은 메타데이터 아니여도 상관없음]**: \"신한은행\"**[조건명]**}},]\n",
    "    - list 형식으로 복수개 filter 설정 가능"
   ]
  },
  {
   "cell_type": "code",
   "execution_count": 68,
   "id": "23e178cf-014c-49e2-89e2-9f2191583f17",
   "metadata": {
    "tags": []
   },
   "outputs": [
    {
     "name": "stdout",
     "output_type": "stream",
     "text": [
      "query:  {'query': {'bool': {'must': [{'match': {'text': {'query': '인터넷 뱅킹으로 예적금 해약', 'minimum_should_match': '75%', 'operator': 'or'}}}], 'filter': [{'term': {'metadata.source': '신한은행'}}, {'term': {'metadata.type': '인터넷뱅킹'}}]}}}\n",
      "# of searched docs:  1\n",
      "# of display: 3\n",
      "---------------------\n",
      "_id in index:  bf54cb82-0890-499a-afc8-ae3fff6bdab4\n",
      "4.587933\n",
      "ask: 인터넷으로 신규 예/적금 신청하는 방법을 알려주세요\n",
      "Information: 인터넷상으로 예금/신탁을 신규가입하시려면 우선 고객님께서는인터넷뱅킹에 가입하셔야 하며 신규방법은 두 가지가 있습니다.1. 인터넷뱅킹에서 가입인터넷뱅킹 로그인을 하신 후 예금/신탁 > 신규 메뉴에서 예금 및 신탁 상품을 신규하실 수 있습니다.2. 신한S뱅크에서 가입신한S뱅크 상품센터 > 예금센터 메뉴에서 예금상품을 신규하실 수 있습니다.\n",
      "{'source': '신한은행', 'row': 85, 'type': '인터넷뱅킹', 'timestamp': 1697033295.9727836}\n",
      "---------------------\n"
     ]
    }
   ],
   "source": [
    "query = \"인터넷 뱅킹으로 예적금 해약\"\n",
    "query = opensearch_utils.get_query(\n",
    "    query=query,\n",
    "    minimum_should_match=75,\n",
    "    filter=[\n",
    "        {\"term\": {\"metadata.source\": \"신한은행\"}},\n",
    "        {\"term\": {\"metadata.type\": \"인터넷뱅킹\"}},\n",
    "    ]\n",
    ")\n",
    "\n",
    "print(\"query: \", query)\n",
    "response = opensearch_utils.search_document(os_client, query, new_index_name)\n",
    "opensearch_utils.parse_keyword_response(response, show_size=3)"
   ]
  },
  {
   "cell_type": "markdown",
   "id": "8be2605d-4e07-4163-808e-9315777215b8",
   "metadata": {},
   "source": [
    "## tokenized index example (참고용)"
   ]
  },
  {
   "cell_type": "code",
   "execution_count": 47,
   "id": "e031809c-75e9-4f0d-a430-ae983fed1c80",
   "metadata": {
    "tags": []
   },
   "outputs": [],
   "source": [
    "test_index_info = {\n",
    "    \"settings\": {\n",
    "        \"index\": {\n",
    "            \"number_of_shards\": \"5\",\n",
    "            \"knn.algo_param\": {\"ef_search\": \"512\"},\n",
    "            \"knn\": \"true\",\n",
    "            \"number_of_replicas\": \"2\"\n",
    "        },\n",
    "        \"analysis\": {\n",
    "            \"tokenizer\": {\n",
    "                \"seunjeon\": {\n",
    "                    \"type\": \"seunjeon_tokenizer\"\n",
    "                }\n",
    "            },\n",
    "            \"analyzer\": {\n",
    "                \"my_analyzer\": {\n",
    "                    \"type\": \"custom\",\n",
    "                    \"tokenizer\": \"seunjeon\"\n",
    "                }\n",
    "            }\n",
    "        }\n",
    "    },\n",
    "    \"mappings\": {\n",
    "        \"properties\": {\n",
    "            \"metadata\": {\n",
    "                \"properties\": {\n",
    "                    \"row\": {\"type\": \"long\"},\n",
    "                    \"source\": {\n",
    "                        \"type\": \"text\",\n",
    "                        \"fields\": {\n",
    "                            \"keyword\": {\n",
    "                                \"type\": \"keyword\",\n",
    "                                \"ignore_above\": 256\n",
    "                            }\n",
    "                        }\n",
    "                    },\n",
    "                    \"timestamp\": {\"type\": \"float\"},\n",
    "                    \"type\": {\n",
    "                        \"type\": \"text\",\n",
    "                        \"fields\": {\n",
    "                            \"keyword\": {\n",
    "                                \"type\": \"keyword\",\n",
    "                                \"ignore_above\": 256\n",
    "                            }\n",
    "                        }\n",
    "                    }\n",
    "                }\n",
    "            },\n",
    "            \"text\": {\n",
    "                \"type\": \"text\",\n",
    "                \"analyzer\": \"my_analyzer\",\n",
    "                \"search_analyzer\": \"my_analyzer\",\n",
    "                \"fields\": {\n",
    "                    \"keyword\": {\n",
    "                        \"type\": \"keyword\",\n",
    "                        \"ignore_above\": 256\n",
    "                    }\n",
    "                }\n",
    "            },\n",
    "            \"vector_field\": {\n",
    "                \"type\": \"knn_vector\",\n",
    "                \"dimension\": 1536,\n",
    "                \"method\": {\n",
    "                    \"engine\": \"nmslib\",\n",
    "                    \"space_type\": \"l2\",\n",
    "                    \"name\": \"hnsw\",\n",
    "                    \"parameters\": {\n",
    "                        \"ef_construction\": 512,\n",
    "                        \"m\": 16\n",
    "                    }\n",
    "                }\n",
    "            }\n",
    "        }\n",
    "    }\n",
    "}"
   ]
  }
 ],
 "metadata": {
  "availableInstances": [
   {
    "_defaultOrder": 0,
    "_isFastLaunch": true,
    "category": "General purpose",
    "gpuNum": 0,
    "hideHardwareSpecs": false,
    "memoryGiB": 4,
    "name": "ml.t3.medium",
    "vcpuNum": 2
   },
   {
    "_defaultOrder": 1,
    "_isFastLaunch": false,
    "category": "General purpose",
    "gpuNum": 0,
    "hideHardwareSpecs": false,
    "memoryGiB": 8,
    "name": "ml.t3.large",
    "vcpuNum": 2
   },
   {
    "_defaultOrder": 2,
    "_isFastLaunch": false,
    "category": "General purpose",
    "gpuNum": 0,
    "hideHardwareSpecs": false,
    "memoryGiB": 16,
    "name": "ml.t3.xlarge",
    "vcpuNum": 4
   },
   {
    "_defaultOrder": 3,
    "_isFastLaunch": false,
    "category": "General purpose",
    "gpuNum": 0,
    "hideHardwareSpecs": false,
    "memoryGiB": 32,
    "name": "ml.t3.2xlarge",
    "vcpuNum": 8
   },
   {
    "_defaultOrder": 4,
    "_isFastLaunch": true,
    "category": "General purpose",
    "gpuNum": 0,
    "hideHardwareSpecs": false,
    "memoryGiB": 8,
    "name": "ml.m5.large",
    "vcpuNum": 2
   },
   {
    "_defaultOrder": 5,
    "_isFastLaunch": false,
    "category": "General purpose",
    "gpuNum": 0,
    "hideHardwareSpecs": false,
    "memoryGiB": 16,
    "name": "ml.m5.xlarge",
    "vcpuNum": 4
   },
   {
    "_defaultOrder": 6,
    "_isFastLaunch": false,
    "category": "General purpose",
    "gpuNum": 0,
    "hideHardwareSpecs": false,
    "memoryGiB": 32,
    "name": "ml.m5.2xlarge",
    "vcpuNum": 8
   },
   {
    "_defaultOrder": 7,
    "_isFastLaunch": false,
    "category": "General purpose",
    "gpuNum": 0,
    "hideHardwareSpecs": false,
    "memoryGiB": 64,
    "name": "ml.m5.4xlarge",
    "vcpuNum": 16
   },
   {
    "_defaultOrder": 8,
    "_isFastLaunch": false,
    "category": "General purpose",
    "gpuNum": 0,
    "hideHardwareSpecs": false,
    "memoryGiB": 128,
    "name": "ml.m5.8xlarge",
    "vcpuNum": 32
   },
   {
    "_defaultOrder": 9,
    "_isFastLaunch": false,
    "category": "General purpose",
    "gpuNum": 0,
    "hideHardwareSpecs": false,
    "memoryGiB": 192,
    "name": "ml.m5.12xlarge",
    "vcpuNum": 48
   },
   {
    "_defaultOrder": 10,
    "_isFastLaunch": false,
    "category": "General purpose",
    "gpuNum": 0,
    "hideHardwareSpecs": false,
    "memoryGiB": 256,
    "name": "ml.m5.16xlarge",
    "vcpuNum": 64
   },
   {
    "_defaultOrder": 11,
    "_isFastLaunch": false,
    "category": "General purpose",
    "gpuNum": 0,
    "hideHardwareSpecs": false,
    "memoryGiB": 384,
    "name": "ml.m5.24xlarge",
    "vcpuNum": 96
   },
   {
    "_defaultOrder": 12,
    "_isFastLaunch": false,
    "category": "General purpose",
    "gpuNum": 0,
    "hideHardwareSpecs": false,
    "memoryGiB": 8,
    "name": "ml.m5d.large",
    "vcpuNum": 2
   },
   {
    "_defaultOrder": 13,
    "_isFastLaunch": false,
    "category": "General purpose",
    "gpuNum": 0,
    "hideHardwareSpecs": false,
    "memoryGiB": 16,
    "name": "ml.m5d.xlarge",
    "vcpuNum": 4
   },
   {
    "_defaultOrder": 14,
    "_isFastLaunch": false,
    "category": "General purpose",
    "gpuNum": 0,
    "hideHardwareSpecs": false,
    "memoryGiB": 32,
    "name": "ml.m5d.2xlarge",
    "vcpuNum": 8
   },
   {
    "_defaultOrder": 15,
    "_isFastLaunch": false,
    "category": "General purpose",
    "gpuNum": 0,
    "hideHardwareSpecs": false,
    "memoryGiB": 64,
    "name": "ml.m5d.4xlarge",
    "vcpuNum": 16
   },
   {
    "_defaultOrder": 16,
    "_isFastLaunch": false,
    "category": "General purpose",
    "gpuNum": 0,
    "hideHardwareSpecs": false,
    "memoryGiB": 128,
    "name": "ml.m5d.8xlarge",
    "vcpuNum": 32
   },
   {
    "_defaultOrder": 17,
    "_isFastLaunch": false,
    "category": "General purpose",
    "gpuNum": 0,
    "hideHardwareSpecs": false,
    "memoryGiB": 192,
    "name": "ml.m5d.12xlarge",
    "vcpuNum": 48
   },
   {
    "_defaultOrder": 18,
    "_isFastLaunch": false,
    "category": "General purpose",
    "gpuNum": 0,
    "hideHardwareSpecs": false,
    "memoryGiB": 256,
    "name": "ml.m5d.16xlarge",
    "vcpuNum": 64
   },
   {
    "_defaultOrder": 19,
    "_isFastLaunch": false,
    "category": "General purpose",
    "gpuNum": 0,
    "hideHardwareSpecs": false,
    "memoryGiB": 384,
    "name": "ml.m5d.24xlarge",
    "vcpuNum": 96
   },
   {
    "_defaultOrder": 20,
    "_isFastLaunch": false,
    "category": "General purpose",
    "gpuNum": 0,
    "hideHardwareSpecs": true,
    "memoryGiB": 0,
    "name": "ml.geospatial.interactive",
    "supportedImageNames": [
     "sagemaker-geospatial-v1-0"
    ],
    "vcpuNum": 0
   },
   {
    "_defaultOrder": 21,
    "_isFastLaunch": true,
    "category": "Compute optimized",
    "gpuNum": 0,
    "hideHardwareSpecs": false,
    "memoryGiB": 4,
    "name": "ml.c5.large",
    "vcpuNum": 2
   },
   {
    "_defaultOrder": 22,
    "_isFastLaunch": false,
    "category": "Compute optimized",
    "gpuNum": 0,
    "hideHardwareSpecs": false,
    "memoryGiB": 8,
    "name": "ml.c5.xlarge",
    "vcpuNum": 4
   },
   {
    "_defaultOrder": 23,
    "_isFastLaunch": false,
    "category": "Compute optimized",
    "gpuNum": 0,
    "hideHardwareSpecs": false,
    "memoryGiB": 16,
    "name": "ml.c5.2xlarge",
    "vcpuNum": 8
   },
   {
    "_defaultOrder": 24,
    "_isFastLaunch": false,
    "category": "Compute optimized",
    "gpuNum": 0,
    "hideHardwareSpecs": false,
    "memoryGiB": 32,
    "name": "ml.c5.4xlarge",
    "vcpuNum": 16
   },
   {
    "_defaultOrder": 25,
    "_isFastLaunch": false,
    "category": "Compute optimized",
    "gpuNum": 0,
    "hideHardwareSpecs": false,
    "memoryGiB": 72,
    "name": "ml.c5.9xlarge",
    "vcpuNum": 36
   },
   {
    "_defaultOrder": 26,
    "_isFastLaunch": false,
    "category": "Compute optimized",
    "gpuNum": 0,
    "hideHardwareSpecs": false,
    "memoryGiB": 96,
    "name": "ml.c5.12xlarge",
    "vcpuNum": 48
   },
   {
    "_defaultOrder": 27,
    "_isFastLaunch": false,
    "category": "Compute optimized",
    "gpuNum": 0,
    "hideHardwareSpecs": false,
    "memoryGiB": 144,
    "name": "ml.c5.18xlarge",
    "vcpuNum": 72
   },
   {
    "_defaultOrder": 28,
    "_isFastLaunch": false,
    "category": "Compute optimized",
    "gpuNum": 0,
    "hideHardwareSpecs": false,
    "memoryGiB": 192,
    "name": "ml.c5.24xlarge",
    "vcpuNum": 96
   },
   {
    "_defaultOrder": 29,
    "_isFastLaunch": true,
    "category": "Accelerated computing",
    "gpuNum": 1,
    "hideHardwareSpecs": false,
    "memoryGiB": 16,
    "name": "ml.g4dn.xlarge",
    "vcpuNum": 4
   },
   {
    "_defaultOrder": 30,
    "_isFastLaunch": false,
    "category": "Accelerated computing",
    "gpuNum": 1,
    "hideHardwareSpecs": false,
    "memoryGiB": 32,
    "name": "ml.g4dn.2xlarge",
    "vcpuNum": 8
   },
   {
    "_defaultOrder": 31,
    "_isFastLaunch": false,
    "category": "Accelerated computing",
    "gpuNum": 1,
    "hideHardwareSpecs": false,
    "memoryGiB": 64,
    "name": "ml.g4dn.4xlarge",
    "vcpuNum": 16
   },
   {
    "_defaultOrder": 32,
    "_isFastLaunch": false,
    "category": "Accelerated computing",
    "gpuNum": 1,
    "hideHardwareSpecs": false,
    "memoryGiB": 128,
    "name": "ml.g4dn.8xlarge",
    "vcpuNum": 32
   },
   {
    "_defaultOrder": 33,
    "_isFastLaunch": false,
    "category": "Accelerated computing",
    "gpuNum": 4,
    "hideHardwareSpecs": false,
    "memoryGiB": 192,
    "name": "ml.g4dn.12xlarge",
    "vcpuNum": 48
   },
   {
    "_defaultOrder": 34,
    "_isFastLaunch": false,
    "category": "Accelerated computing",
    "gpuNum": 1,
    "hideHardwareSpecs": false,
    "memoryGiB": 256,
    "name": "ml.g4dn.16xlarge",
    "vcpuNum": 64
   },
   {
    "_defaultOrder": 35,
    "_isFastLaunch": false,
    "category": "Accelerated computing",
    "gpuNum": 1,
    "hideHardwareSpecs": false,
    "memoryGiB": 61,
    "name": "ml.p3.2xlarge",
    "vcpuNum": 8
   },
   {
    "_defaultOrder": 36,
    "_isFastLaunch": false,
    "category": "Accelerated computing",
    "gpuNum": 4,
    "hideHardwareSpecs": false,
    "memoryGiB": 244,
    "name": "ml.p3.8xlarge",
    "vcpuNum": 32
   },
   {
    "_defaultOrder": 37,
    "_isFastLaunch": false,
    "category": "Accelerated computing",
    "gpuNum": 8,
    "hideHardwareSpecs": false,
    "memoryGiB": 488,
    "name": "ml.p3.16xlarge",
    "vcpuNum": 64
   },
   {
    "_defaultOrder": 38,
    "_isFastLaunch": false,
    "category": "Accelerated computing",
    "gpuNum": 8,
    "hideHardwareSpecs": false,
    "memoryGiB": 768,
    "name": "ml.p3dn.24xlarge",
    "vcpuNum": 96
   },
   {
    "_defaultOrder": 39,
    "_isFastLaunch": false,
    "category": "Memory Optimized",
    "gpuNum": 0,
    "hideHardwareSpecs": false,
    "memoryGiB": 16,
    "name": "ml.r5.large",
    "vcpuNum": 2
   },
   {
    "_defaultOrder": 40,
    "_isFastLaunch": false,
    "category": "Memory Optimized",
    "gpuNum": 0,
    "hideHardwareSpecs": false,
    "memoryGiB": 32,
    "name": "ml.r5.xlarge",
    "vcpuNum": 4
   },
   {
    "_defaultOrder": 41,
    "_isFastLaunch": false,
    "category": "Memory Optimized",
    "gpuNum": 0,
    "hideHardwareSpecs": false,
    "memoryGiB": 64,
    "name": "ml.r5.2xlarge",
    "vcpuNum": 8
   },
   {
    "_defaultOrder": 42,
    "_isFastLaunch": false,
    "category": "Memory Optimized",
    "gpuNum": 0,
    "hideHardwareSpecs": false,
    "memoryGiB": 128,
    "name": "ml.r5.4xlarge",
    "vcpuNum": 16
   },
   {
    "_defaultOrder": 43,
    "_isFastLaunch": false,
    "category": "Memory Optimized",
    "gpuNum": 0,
    "hideHardwareSpecs": false,
    "memoryGiB": 256,
    "name": "ml.r5.8xlarge",
    "vcpuNum": 32
   },
   {
    "_defaultOrder": 44,
    "_isFastLaunch": false,
    "category": "Memory Optimized",
    "gpuNum": 0,
    "hideHardwareSpecs": false,
    "memoryGiB": 384,
    "name": "ml.r5.12xlarge",
    "vcpuNum": 48
   },
   {
    "_defaultOrder": 45,
    "_isFastLaunch": false,
    "category": "Memory Optimized",
    "gpuNum": 0,
    "hideHardwareSpecs": false,
    "memoryGiB": 512,
    "name": "ml.r5.16xlarge",
    "vcpuNum": 64
   },
   {
    "_defaultOrder": 46,
    "_isFastLaunch": false,
    "category": "Memory Optimized",
    "gpuNum": 0,
    "hideHardwareSpecs": false,
    "memoryGiB": 768,
    "name": "ml.r5.24xlarge",
    "vcpuNum": 96
   },
   {
    "_defaultOrder": 47,
    "_isFastLaunch": false,
    "category": "Accelerated computing",
    "gpuNum": 1,
    "hideHardwareSpecs": false,
    "memoryGiB": 16,
    "name": "ml.g5.xlarge",
    "vcpuNum": 4
   },
   {
    "_defaultOrder": 48,
    "_isFastLaunch": false,
    "category": "Accelerated computing",
    "gpuNum": 1,
    "hideHardwareSpecs": false,
    "memoryGiB": 32,
    "name": "ml.g5.2xlarge",
    "vcpuNum": 8
   },
   {
    "_defaultOrder": 49,
    "_isFastLaunch": false,
    "category": "Accelerated computing",
    "gpuNum": 1,
    "hideHardwareSpecs": false,
    "memoryGiB": 64,
    "name": "ml.g5.4xlarge",
    "vcpuNum": 16
   },
   {
    "_defaultOrder": 50,
    "_isFastLaunch": false,
    "category": "Accelerated computing",
    "gpuNum": 1,
    "hideHardwareSpecs": false,
    "memoryGiB": 128,
    "name": "ml.g5.8xlarge",
    "vcpuNum": 32
   },
   {
    "_defaultOrder": 51,
    "_isFastLaunch": false,
    "category": "Accelerated computing",
    "gpuNum": 1,
    "hideHardwareSpecs": false,
    "memoryGiB": 256,
    "name": "ml.g5.16xlarge",
    "vcpuNum": 64
   },
   {
    "_defaultOrder": 52,
    "_isFastLaunch": false,
    "category": "Accelerated computing",
    "gpuNum": 4,
    "hideHardwareSpecs": false,
    "memoryGiB": 192,
    "name": "ml.g5.12xlarge",
    "vcpuNum": 48
   },
   {
    "_defaultOrder": 53,
    "_isFastLaunch": false,
    "category": "Accelerated computing",
    "gpuNum": 4,
    "hideHardwareSpecs": false,
    "memoryGiB": 384,
    "name": "ml.g5.24xlarge",
    "vcpuNum": 96
   },
   {
    "_defaultOrder": 54,
    "_isFastLaunch": false,
    "category": "Accelerated computing",
    "gpuNum": 8,
    "hideHardwareSpecs": false,
    "memoryGiB": 768,
    "name": "ml.g5.48xlarge",
    "vcpuNum": 192
   },
   {
    "_defaultOrder": 55,
    "_isFastLaunch": false,
    "category": "Accelerated computing",
    "gpuNum": 8,
    "hideHardwareSpecs": false,
    "memoryGiB": 1152,
    "name": "ml.p4d.24xlarge",
    "vcpuNum": 96
   },
   {
    "_defaultOrder": 56,
    "_isFastLaunch": false,
    "category": "Accelerated computing",
    "gpuNum": 8,
    "hideHardwareSpecs": false,
    "memoryGiB": 1152,
    "name": "ml.p4de.24xlarge",
    "vcpuNum": 96
   }
  ],
  "instance_type": "ml.g5.2xlarge",
  "kernelspec": {
   "display_name": "conda_python3",
   "language": "python",
   "name": "conda_python3"
  },
  "language_info": {
   "codemirror_mode": {
    "name": "ipython",
    "version": 3
   },
   "file_extension": ".py",
   "mimetype": "text/x-python",
   "name": "python",
   "nbconvert_exporter": "python",
   "pygments_lexer": "ipython3",
   "version": "3.10.12"
  },
  "vscode": {
   "interpreter": {
    "hash": "3b41de70bedc0e302a3aeb58a0c77b854f2e56c8930e61a4aaa3340c96b01f1d"
   }
  }
 },
 "nbformat": 4,
 "nbformat_minor": 5
}
