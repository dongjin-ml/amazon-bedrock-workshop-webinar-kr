{
 "cells": [
  {
   "cell_type": "markdown",
   "id": "fb017ab4-a16a-4c67-b875-a29eed6aa5bd",
   "metadata": {
    "jp-MarkdownHeadingCollapsed": true,
    "tags": []
   },
   "source": [
    "# OpenSearch Warming Up (기존 인덱스를 한글 형태소 분석기 사용하여 리인덱식)\n",
    ">이 노트북은 SageMaker Studio* Data Science 3.0 kernel 및 ml.t3.medium 인스턴스에서 테스트 되었습니다.\n",
    "\n",
    "\n",
    "\n",
    "여기서는 OpenSearch 가 설치된 것을 가정하고, 한글 형태소 분석기의 사용하는 법을 알려 드립니다.\n",
    "\n",
    "---\n",
    "\n",
    "### [중요]\n",
    "- 이 노트북은 Bedrock Titan Embedding Model 을 기본으로 사용합니다. KoSIMCSERoberta 를 세이지 메이커 엔드포인트로 사용하신다면 아래의 선수 조건을 확인하세요.\n",
    "\n",
    "#### 선수조건 (KoSIMCSERoberta 사용시)\n",
    "- 임베딩 모델의 세이지 메이커 엔드포인트가 액티브 된 상태를 가정 합니다.\n",
    "    - 세이지 메이커 엔드포인트에 배포하기 위해서는 아래 노트북을 실행하시고, Endpoint Name 만을 복사 하시면 됩니다.\n",
    "    - [KoSIMCSERoberta Embedding Model 배포](https://github.com/gonsoomoon-ml/Kor-LLM-On-SageMaker/blob/main/1-Lab01-Deploy-LLM/4.Kor-Embedding-Model.ipynb)\n",
    "    - SageMaker Endpoint 에 대해서는 공식 개발자 문서를 참조하세요 --> [Create your endpoint and deploy your model](https://docs.aws.amazon.com/sagemaker/latest/dg/realtime-endpoints-deployment.html)\n",
    "- 오픈 서치 서비스가 액티브 된 상태를 가정 합니다.\n",
    "\n",
    "\n",
    "---\n",
    "## Ref: \n",
    "- [Amazon OpenSearch Service로 검색 구현하기](https://catalog.us-east-1.prod.workshops.aws/workshops/de4e38cb-a0d9-4ffe-a777-bf00d498fa49/ko-KR/indexing/blog-reindex)\n",
    "- [OpenSearch Python Client](https://opensearch.org/docs/1.3/clients/python-high-level/)\n",
    "- [OpenSearch Match, Multi-Match, and Match Phrase Queries](https://opster.com/guides/opensearch/opensearch-search-apis/opensearch-match-multi-match-and-match-phrase-queries/)\n",
    "- OpenSearch Query 에서 Filter, Must, Should, Not Mush 에 대한 설명 입니다.\n",
    "    - [OpenSearch Boolean Queries](https://opster.com/guides/opensearch/opensearch-search-apis/opensearch-boolean-queries/#:~:text=Boolean%20queries%20are%20used%20to,as%20terms%2C%20match%20and%20query_string.)\n"
   ]
  },
  {
   "cell_type": "markdown",
   "id": "7eb540b6-5d0f-436a-904c-a2667aa6addd",
   "metadata": {},
   "source": [
    "# 0. 필요 패키지 설치"
   ]
  },
  {
   "cell_type": "code",
   "execution_count": 260,
   "id": "89f453bb-6dcc-4ba9-99c0-513c7cce40f4",
   "metadata": {
    "tags": []
   },
   "outputs": [],
   "source": [
    "# install_needed = True  # should only be True once\n",
    "install_needed = False  # should only be True once"
   ]
  },
  {
   "cell_type": "code",
   "execution_count": 261,
   "id": "575655d5-acaa-47ac-9118-0eefac9ddc7e",
   "metadata": {
    "tags": []
   },
   "outputs": [],
   "source": [
    "# Make sure you ran `download-dependencies.sh` from the root of the repository first!\n",
    "import sys\n",
    "import IPython\n",
    "\n",
    "if install_needed:\n",
    "    print(\"installing deps and restarting kernel\")\n",
    "    !{sys.executable} -m pip install opensearch-py==2.3.1\n",
    "    !{sys.executable} -m pip install langchain==0.0.302    \n",
    "    !{sys.executable} -m pip install sqlalchemy==2.0.1\n",
    "    \n",
    "    IPython.Application.instance().kernel.do_shutdown(True)    \n",
    "    "
   ]
  },
  {
   "cell_type": "markdown",
   "id": "8a2f9c19-c43c-435c-944d-77984b54a6d8",
   "metadata": {},
   "source": [
    "# 1. 환경 세팅"
   ]
  },
  {
   "cell_type": "code",
   "execution_count": 262,
   "id": "787df0f0-7fd9-47ca-a0c3-91b3037d6a10",
   "metadata": {
    "tags": []
   },
   "outputs": [
    {
     "name": "stdout",
     "output_type": "stream",
     "text": [
      "The autoreload extension is already loaded. To reload it, use:\n",
      "  %reload_ext autoreload\n"
     ]
    }
   ],
   "source": [
    "%load_ext autoreload\n",
    "%autoreload 2\n",
    "\n",
    "import sys, os\n",
    "module_path = \"..\"\n",
    "sys.path.append(os.path.abspath(module_path))\n",
    "from utils import print_ww"
   ]
  },
  {
   "cell_type": "markdown",
   "id": "950cf3b9-26a3-4096-a6e4-4b9a39d2e82f",
   "metadata": {
    "tags": []
   },
   "source": [
    "## Bedrock Client 생성\n",
    "### 선수 지식\n",
    "아래의 노트북을 먼저 실행해서, Bedrock 에 접근 가능하게 합니다.\n",
    "- amazon-bedrock-workshop-webinar-kr/00_Setup/setup.ipynb"
   ]
  },
  {
   "cell_type": "code",
   "execution_count": 263,
   "id": "d9bb684a-1395-40ce-8acf-84c128cc6377",
   "metadata": {
    "tags": []
   },
   "outputs": [],
   "source": [
    "from utils.rag import get_embedding_model"
   ]
  },
  {
   "cell_type": "code",
   "execution_count": 264,
   "id": "ee268417-f4cf-448f-be1f-aae7f9a81c6c",
   "metadata": {
    "tags": []
   },
   "outputs": [
    {
     "name": "stdout",
     "output_type": "stream",
     "text": [
      "Create new client\n",
      "  Using region: us-east-1\n",
      "  Using profile: None\n",
      "boto3 Bedrock client successfully created!\n",
      "bedrock-runtime(https://bedrock-runtime.us-east-1.amazonaws.com)\n"
     ]
    }
   ],
   "source": [
    "import json\n",
    "import boto3\n",
    "\n",
    "from utils import bedrock, print_ww\n",
    "\n",
    "\n",
    "# ---- ⚠️ Un-comment and edit the below lines as needed for your AWS setup ⚠️ ----\n",
    "\n",
    "# os.environ[\"AWS_DEFAULT_REGION\"] = \"<REGION_NAME>\"  # E.g. \"us-east-1\"\n",
    "# os.environ[\"AWS_PROFILE\"] = \"<YOUR_PROFILE>\"\n",
    "# os.environ[\"BEDROCK_ASSUME_ROLE\"] = \"<YOUR_ROLE_ARN>\"  # E.g. \"arn:aws:...\"\n",
    "# os.environ[\"BEDROCK_ENDPOINT_URL\"] = \"<YOUR_ENDPOINT_URL>\"  # E.g. \"https://...\"\n",
    "\n",
    "\n",
    "boto3_bedrock = bedrock.get_bedrock_client(\n",
    "    assumed_role=os.environ.get(\"BEDROCK_ASSUME_ROLE\", None),\n",
    "    endpoint_url=os.environ.get(\"BEDROCK_ENDPOINT_URL\", None),\n",
    "    region=os.environ.get(\"AWS_DEFAULT_REGION\", None),\n",
    ")"
   ]
  },
  {
   "cell_type": "markdown",
   "id": "16b9ad47-56b6-427d-84a6-4e792bf4f6f9",
   "metadata": {},
   "source": [
    "## Embedding 모델 선택"
   ]
  },
  {
   "cell_type": "code",
   "execution_count": 265,
   "id": "65afde2a-097b-4a00-82e4-e7bab6e2a4d1",
   "metadata": {
    "tags": []
   },
   "outputs": [],
   "source": [
    "from utils.rag import KoSimCSERobertaContentHandler, SagemakerEndpointEmbeddingsJumpStart\n",
    "\n",
    "def get_embedding_model(is_bedrock_embeddings, is_KoSimCSERobert, aws_region, endpont_name=None):\n",
    "    if is_bedrock_embeddings:\n",
    "\n",
    "        # We will be using the Titan Embeddings Model to generate our Embeddings.\n",
    "        from langchain.embeddings import BedrockEmbeddings\n",
    "\n",
    "        llm_emb = BedrockEmbeddings(\n",
    "            client=boto3_bedrock,\n",
    "            model_id = \"amazon.titan-embed-g1-text-02\" # amazon.titan-e1t-medium, amazon.titan-embed-g1-text-02\n",
    "        )        \n",
    "        print(\"Bedrock Embeddings Model Loaded\")\n",
    "    elif is_KoSimCSERobert:\n",
    "        LLMEmbHandler = KoSimCSERobertaContentHandler()\n",
    "        endpoint_name_emb = endpont_name\n",
    "        llm_emb = SagemakerEndpointEmbeddingsJumpStart(\n",
    "            endpoint_name=endpoint_name_emb,\n",
    "            region_name=aws_region,\n",
    "            content_handler=LLMEmbHandler,\n",
    "        )        \n",
    "        print(\"KoSimCSERobert Embeddings Model Loaded\")\n",
    "    else:\n",
    "        llm_emb = None\n",
    "        print(\"No Embedding Model Selected\")\n",
    "    \n",
    "    return llm_emb"
   ]
  },
  {
   "cell_type": "markdown",
   "id": "1fe62c38-4b50-48ef-96de-3690361551de",
   "metadata": {},
   "source": [
    "#### [중요] is_KoSimCSERobert == True 일시에 endpoint_name 을 꼭 넣어 주세요."
   ]
  },
  {
   "cell_type": "code",
   "execution_count": 266,
   "id": "b29f58a6-a230-4aa9-994d-0a6343f72fcb",
   "metadata": {
    "tags": []
   },
   "outputs": [
    {
     "name": "stdout",
     "output_type": "stream",
     "text": [
      "Bedrock Embeddings Model Loaded\n"
     ]
    }
   ],
   "source": [
    "is_bedrock_embeddings = True\n",
    "is_KoSimCSERobert = False\n",
    "\n",
    "##############################\n",
    "# Parameters for is_KoSimCSERobert\n",
    "##############################\n",
    "aws_region = os.environ.get(\"AWS_DEFAULT_REGION\", None)\n",
    "endpont_name = <endpoint-name>\n",
    "##############################\n",
    "\n",
    "llm_emb = get_embedding_model(is_bedrock_embeddings, is_KoSimCSERobert, aws_region, endpont_name)    "
   ]
  },
  {
   "cell_type": "markdown",
   "id": "42c31989-edcd-42f9-aabb-2a3d17b3e8a2",
   "metadata": {},
   "source": [
    "# 2. 데이터 준비\n"
   ]
  },
  {
   "cell_type": "markdown",
   "id": "9296a37c-9f68-4a56-b8f6-9311dedc03cd",
   "metadata": {},
   "source": [
    "##  신한은행 FAQ 데이터 세트로 구현\n",
    "- [중요] 저자 및 동료가 아래의 웹사이트에서 크로링한 기준으로 구성 하였습니다.\n",
    "- 인터넷뱅킹 FAQ > 스마트뱅킹 No.1 ~ N. 89 로 구성되었습니다. \n",
    "- https://www.shinhan.com/hpe/index.jsp#050101020000"
   ]
  },
  {
   "cell_type": "code",
   "execution_count": 267,
   "id": "a16fe948-266d-41ca-bf71-cdf815e4ee15",
   "metadata": {
    "tags": []
   },
   "outputs": [
    {
     "data": {
      "text/html": [
       "<div>\n",
       "<style scoped>\n",
       "    .dataframe tbody tr th:only-of-type {\n",
       "        vertical-align: middle;\n",
       "    }\n",
       "\n",
       "    .dataframe tbody tr th {\n",
       "        vertical-align: top;\n",
       "    }\n",
       "\n",
       "    .dataframe thead th {\n",
       "        text-align: right;\n",
       "    }\n",
       "</style>\n",
       "<table border=\"1\" class=\"dataframe\">\n",
       "  <thead>\n",
       "    <tr style=\"text-align: right;\">\n",
       "      <th></th>\n",
       "      <th>no</th>\n",
       "      <th>Category</th>\n",
       "      <th>Information</th>\n",
       "      <th>type</th>\n",
       "      <th>Source</th>\n",
       "    </tr>\n",
       "  </thead>\n",
       "  <tbody>\n",
       "    <tr>\n",
       "      <th>0</th>\n",
       "      <td>91</td>\n",
       "      <td>아마존 은행의 타기관OTP 이용등록방법 알려주세요</td>\n",
       "      <td>아마존 은행의 타기관에서 발급받으신 OTP가 통합OTP카드인 경우 당행에 등록하여 ...</td>\n",
       "      <td>인터넷뱅킹</td>\n",
       "      <td>아마존은행</td>\n",
       "    </tr>\n",
       "    <tr>\n",
       "      <th>1</th>\n",
       "      <td>90</td>\n",
       "      <td>아마존 공동인증서와 금융인증서 차이점이 무엇인가요?</td>\n",
       "      <td>공동인증서 (구 공인인증서)는 용도에 따라 은행/신용카드/보험용 무료 인증서와 전자...</td>\n",
       "      <td>인증서</td>\n",
       "      <td>아마존은행</td>\n",
       "    </tr>\n",
       "    <tr>\n",
       "      <th>2</th>\n",
       "      <td>88</td>\n",
       "      <td>공동인증서와 금융인증서 차이점이 무엇인가요?</td>\n",
       "      <td>공동인증서 (구 공인인증서)는 용도에 따라 은행/신용카드/보험용 무료 인증서와 전자...</td>\n",
       "      <td>인증서</td>\n",
       "      <td>신한은행</td>\n",
       "    </tr>\n",
       "    <tr>\n",
       "      <th>3</th>\n",
       "      <td>89</td>\n",
       "      <td>타기관OTP 이용등록방법 알려주세요</td>\n",
       "      <td>타기관에서 발급받으신 OTP가 통합OTP카드인 경우 당행에 등록하여 이용가능합니다....</td>\n",
       "      <td>인터넷뱅킹</td>\n",
       "      <td>신한은행</td>\n",
       "    </tr>\n",
       "    <tr>\n",
       "      <th>4</th>\n",
       "      <td>88</td>\n",
       "      <td>공동인증서와 금융인증서 차이점이 무엇인가요?</td>\n",
       "      <td>공동인증서 (구 공인인증서)는 용도에 따라 은행/신용카드/보험용 무료 인증서와 전자...</td>\n",
       "      <td>인증서</td>\n",
       "      <td>신한은행</td>\n",
       "    </tr>\n",
       "    <tr>\n",
       "      <th>...</th>\n",
       "      <td>...</td>\n",
       "      <td>...</td>\n",
       "      <td>...</td>\n",
       "      <td>...</td>\n",
       "      <td>...</td>\n",
       "    </tr>\n",
       "    <tr>\n",
       "      <th>87</th>\n",
       "      <td>5</td>\n",
       "      <td>인터넷에서 이체한 거래의 상세내역 및 영수증을 인쇄하고 싶어요</td>\n",
       "      <td>인터넷상에서 이체한 거래의 경우 인터넷상에서 제공하는 영수증은 없으며, 거래의 참고...</td>\n",
       "      <td>인터넷뱅킹</td>\n",
       "      <td>신한은행</td>\n",
       "    </tr>\n",
       "    <tr>\n",
       "      <th>88</th>\n",
       "      <td>4</td>\n",
       "      <td>타행으로 자동이체를 신청하고 싶은데요</td>\n",
       "      <td>인터넷뱅킹을 통한 타은행 계좌로의 자동이체(납부자 자동이체)신청이 가능하며 수수료는...</td>\n",
       "      <td>인터넷뱅킹</td>\n",
       "      <td>신한은행</td>\n",
       "    </tr>\n",
       "    <tr>\n",
       "      <th>89</th>\n",
       "      <td>3</td>\n",
       "      <td>공과금 자동이체 신청이 가능한가요?</td>\n",
       "      <td>인터넷뱅킹에 로그인하신 후 \"공과금/법원 &gt; 공과금센터\" 페이지에 가시면 \"지로자동...</td>\n",
       "      <td>인터넷뱅킹</td>\n",
       "      <td>신한은행</td>\n",
       "    </tr>\n",
       "    <tr>\n",
       "      <th>90</th>\n",
       "      <td>2</td>\n",
       "      <td>인터넷뱅킹 거래에 대한 책임 범위를 알고싶습니다.</td>\n",
       "      <td>기본적으로 은행이 인터넷뱅킹 사고에 대한 책임을 집니다. 해커의 침입에 의해 자금이...</td>\n",
       "      <td>인터넷뱅킹</td>\n",
       "      <td>신한은행</td>\n",
       "    </tr>\n",
       "    <tr>\n",
       "      <th>91</th>\n",
       "      <td>1</td>\n",
       "      <td>인터넷뱅킹을 이용하려면 어떻게 해야 합니까?</td>\n",
       "      <td>영업점에 방문하지 않아도, 모바일에서 신한 쏠 (SOL) 어플 다운로드후 회원가입하...</td>\n",
       "      <td>인터넷뱅킹</td>\n",
       "      <td>신한은행</td>\n",
       "    </tr>\n",
       "  </tbody>\n",
       "</table>\n",
       "<p>92 rows × 5 columns</p>\n",
       "</div>"
      ],
      "text/plain": [
       "    no                            Category  \\\n",
       "0   91         아마존 은행의 타기관OTP 이용등록방법 알려주세요   \n",
       "1   90        아마존 공동인증서와 금융인증서 차이점이 무엇인가요?   \n",
       "2   88            공동인증서와 금융인증서 차이점이 무엇인가요?   \n",
       "3   89                 타기관OTP 이용등록방법 알려주세요   \n",
       "4   88            공동인증서와 금융인증서 차이점이 무엇인가요?   \n",
       "..  ..                                 ...   \n",
       "87   5  인터넷에서 이체한 거래의 상세내역 및 영수증을 인쇄하고 싶어요   \n",
       "88   4                타행으로 자동이체를 신청하고 싶은데요   \n",
       "89   3                 공과금 자동이체 신청이 가능한가요?   \n",
       "90   2         인터넷뱅킹 거래에 대한 책임 범위를 알고싶습니다.   \n",
       "91   1            인터넷뱅킹을 이용하려면 어떻게 해야 합니까?   \n",
       "\n",
       "                                          Information   type Source  \n",
       "0   아마존 은행의 타기관에서 발급받으신 OTP가 통합OTP카드인 경우 당행에 등록하여 ...  인터넷뱅킹  아마존은행  \n",
       "1   공동인증서 (구 공인인증서)는 용도에 따라 은행/신용카드/보험용 무료 인증서와 전자...    인증서  아마존은행  \n",
       "2   공동인증서 (구 공인인증서)는 용도에 따라 은행/신용카드/보험용 무료 인증서와 전자...    인증서   신한은행  \n",
       "3   타기관에서 발급받으신 OTP가 통합OTP카드인 경우 당행에 등록하여 이용가능합니다....  인터넷뱅킹   신한은행  \n",
       "4   공동인증서 (구 공인인증서)는 용도에 따라 은행/신용카드/보험용 무료 인증서와 전자...    인증서   신한은행  \n",
       "..                                                ...    ...    ...  \n",
       "87  인터넷상에서 이체한 거래의 경우 인터넷상에서 제공하는 영수증은 없으며, 거래의 참고...  인터넷뱅킹   신한은행  \n",
       "88  인터넷뱅킹을 통한 타은행 계좌로의 자동이체(납부자 자동이체)신청이 가능하며 수수료는...  인터넷뱅킹   신한은행  \n",
       "89  인터넷뱅킹에 로그인하신 후 \"공과금/법원 > 공과금센터\" 페이지에 가시면 \"지로자동...  인터넷뱅킹   신한은행  \n",
       "90  기본적으로 은행이 인터넷뱅킹 사고에 대한 책임을 집니다. 해커의 침입에 의해 자금이...  인터넷뱅킹   신한은행  \n",
       "91  영업점에 방문하지 않아도, 모바일에서 신한 쏠 (SOL) 어플 다운로드후 회원가입하...  인터넷뱅킹   신한은행  \n",
       "\n",
       "[92 rows x 5 columns]"
      ]
     },
     "execution_count": 267,
     "metadata": {},
     "output_type": "execute_result"
    }
   ],
   "source": [
    "import pandas as pd\n",
    "pd.options.display.max_rows = 20\n",
    "\n",
    "data_file_path = \"data/fsi_smart_faq_ko.csv\"\n",
    "df = pd.read_csv(data_file_path)\n",
    "df"
   ]
  },
  {
   "cell_type": "markdown",
   "id": "da20c54a-17f4-4738-8273-f14d5c18313e",
   "metadata": {},
   "source": [
    "## 데이터 전처리\n",
    "- 여기서 no 는 제거 합니다. "
   ]
  },
  {
   "cell_type": "code",
   "execution_count": 268,
   "id": "bd8c678f-0cf2-408c-972f-2444fbbc1b8b",
   "metadata": {
    "tags": []
   },
   "outputs": [],
   "source": [
    "os.makedirs(\"data\", exist_ok=True)"
   ]
  },
  {
   "cell_type": "code",
   "execution_count": 269,
   "id": "0570717f-210c-4e36-88b6-b9cc02288341",
   "metadata": {
    "tags": []
   },
   "outputs": [
    {
     "data": {
      "text/html": [
       "<div>\n",
       "<style scoped>\n",
       "    .dataframe tbody tr th:only-of-type {\n",
       "        vertical-align: middle;\n",
       "    }\n",
       "\n",
       "    .dataframe tbody tr th {\n",
       "        vertical-align: top;\n",
       "    }\n",
       "\n",
       "    .dataframe thead th {\n",
       "        text-align: right;\n",
       "    }\n",
       "</style>\n",
       "<table border=\"1\" class=\"dataframe\">\n",
       "  <thead>\n",
       "    <tr style=\"text-align: right;\">\n",
       "      <th></th>\n",
       "      <th>ask</th>\n",
       "      <th>Information</th>\n",
       "      <th>type</th>\n",
       "      <th>Source</th>\n",
       "    </tr>\n",
       "  </thead>\n",
       "  <tbody>\n",
       "    <tr>\n",
       "      <th>0</th>\n",
       "      <td>아마존 은행의 타기관OTP 이용등록방법 알려주세요</td>\n",
       "      <td>아마존 은행의 타기관에서 발급받으신 OTP가 통합OTP카드인 경우 당행에 등록하여 ...</td>\n",
       "      <td>인터넷뱅킹</td>\n",
       "      <td>아마존은행</td>\n",
       "    </tr>\n",
       "    <tr>\n",
       "      <th>1</th>\n",
       "      <td>아마존 공동인증서와 금융인증서 차이점이 무엇인가요?</td>\n",
       "      <td>공동인증서 (구 공인인증서)는 용도에 따라 은행/신용카드/보험용 무료 인증서와 전자...</td>\n",
       "      <td>인증서</td>\n",
       "      <td>아마존은행</td>\n",
       "    </tr>\n",
       "    <tr>\n",
       "      <th>2</th>\n",
       "      <td>공동인증서와 금융인증서 차이점이 무엇인가요?</td>\n",
       "      <td>공동인증서 (구 공인인증서)는 용도에 따라 은행/신용카드/보험용 무료 인증서와 전자...</td>\n",
       "      <td>인증서</td>\n",
       "      <td>신한은행</td>\n",
       "    </tr>\n",
       "  </tbody>\n",
       "</table>\n",
       "</div>"
      ],
      "text/plain": [
       "                            ask  \\\n",
       "0   아마존 은행의 타기관OTP 이용등록방법 알려주세요   \n",
       "1  아마존 공동인증서와 금융인증서 차이점이 무엇인가요?   \n",
       "2      공동인증서와 금융인증서 차이점이 무엇인가요?   \n",
       "\n",
       "                                         Information   type Source  \n",
       "0  아마존 은행의 타기관에서 발급받으신 OTP가 통합OTP카드인 경우 당행에 등록하여 ...  인터넷뱅킹  아마존은행  \n",
       "1  공동인증서 (구 공인인증서)는 용도에 따라 은행/신용카드/보험용 무료 인증서와 전자...    인증서  아마존은행  \n",
       "2  공동인증서 (구 공인인증서)는 용도에 따라 은행/신용카드/보험용 무료 인증서와 전자...    인증서   신한은행  "
      ]
     },
     "execution_count": 269,
     "metadata": {},
     "output_type": "execute_result"
    }
   ],
   "source": [
    "def preprocess_data(df):\n",
    "\n",
    "    ldf = df.copy()\n",
    "    ldf.rename(columns={'Category': 'ask'}, inplace=True)\n",
    "    df_index = ldf.drop(['no'], axis=1)\n",
    "    df_index.to_csv(\"data/fsi_smart_faq_ko_preprocess.csv\", index=None)\n",
    "\n",
    "    return df_index\n",
    "\n",
    "pre_df = preprocess_data(df)\n",
    "pre_df.head(3)"
   ]
  },
  {
   "cell_type": "markdown",
   "id": "134174ab-3855-44d3-965d-a5699f435c31",
   "metadata": {},
   "source": [
    "### CSVLoader 로 문서 로딩"
   ]
  },
  {
   "cell_type": "code",
   "execution_count": 270,
   "id": "6a5bb5cf-4f89-428c-a492-5acf2ee5b5a1",
   "metadata": {
    "tags": []
   },
   "outputs": [],
   "source": [
    "from langchain.indexes import VectorstoreIndexCreator\n",
    "from langchain.vectorstores import FAISS\n",
    "from langchain.document_loaders.csv_loader import CSVLoader\n",
    "from langchain.text_splitter import CharacterTextSplitter, RecursiveCharacterTextSplitter"
   ]
  },
  {
   "cell_type": "code",
   "execution_count": 271,
   "id": "9df46261-f945-4d0d-b271-b32f2ff7d55b",
   "metadata": {
    "tags": []
   },
   "outputs": [],
   "source": [
    "loader = CSVLoader(\n",
    "    file_path=\"data/fsi_smart_faq_ko_preprocess.csv\",\n",
    "    # csv_args={\n",
    "    #     \"delimiter\": \",\",\n",
    "    #     \"fieldnames\": [\"Category\", \"Information\", \"type\", \"Source\"],\n",
    "    # },    \n",
    "    source_column=\"Source\",\n",
    "    encoding=\"utf-8\"\n",
    ")\n",
    "import time\n",
    "documents_fsi = loader.load()\n"
   ]
  },
  {
   "cell_type": "markdown",
   "id": "b36b5803-7ae4-42c6-993a-eac29fa832ca",
   "metadata": {},
   "source": [
    "## 메타 데이터 생성\n",
    "- 기존 Category 컬럼을 ask 로 변경 합니다.\n",
    "- 컬럼의 type, source 는 metadata 로 생성하고, 내용에서는 삭제 합니다.\n",
    "- 타임스탬프 및 임베딩 모델의 엔드포인트 이름을 metadata 로 추가 합니다."
   ]
  },
  {
   "cell_type": "code",
   "execution_count": 275,
   "id": "70cd3c79-7863-4bef-9063-29ae51fcf58b",
   "metadata": {
    "tags": []
   },
   "outputs": [],
   "source": [
    "import time\n",
    "documents_fsi = loader.load()\n",
    "\n",
    "def create_metadata(docs):\n",
    "    # # add a custom metadata field, such as timestamp\n",
    "    for idx, doc in enumerate(docs):\n",
    "        \n",
    "        #print (\"previous:\", doc)\n",
    "        # type 을 메타 데이타로 저장\n",
    "        stype = doc.page_content.split(\"type: \")[1].split(\"\\n\")[0]\n",
    "        split_content = doc.page_content.split(\"type: \")\n",
    "        content = split_content[0]        \n",
    "        metadata = split_content[1]                \n",
    "        doc.metadata['type'] = metadata.split(\"\\n\")[0]        \n",
    "        doc.page_content = content # metadata 제외하고 content 만 저장\n",
    "        doc.metadata['timestamp'] = time.time()\n",
    "        \n",
    "        #print (\"new:\", doc)\n",
    "        #print (\"==\")\n",
    "\n",
    "        \n",
    "create_metadata(documents_fsi)"
   ]
  },
  {
   "cell_type": "code",
   "execution_count": 276,
   "id": "aadffa45-1e54-4731-9124-775dbf4d8543",
   "metadata": {
    "tags": []
   },
   "outputs": [
    {
     "name": "stdout",
     "output_type": "stream",
     "text": [
      "92\n",
      "page_content='ask: 아마존 은행의 타기관OTP 이용등록방법 알려주세요\\nInformation: 아마존 은행의 타기관에서 발급받으신 OTP가 통합OTP카드인 경우 당행에 등록하여 이용가능합니다. \\r\\n[경로]\\r\\n- 인터넷뱅킹 로그인→ 사용자관리→인터넷뱅킹관리→OTP이용등록  \\r\\n- 아마존은행 쏠(SOL) 로그인→ 전체메뉴→설정/인증→ 이용중인 보안매체선택→   OTP이용등록\\r\\n \\r\\n ※ OTP이용등록후 재로그인을 하셔야 새로 등록된 보안매체가 적용됩니다.\\r\\n\\r\\n기타 궁금하신 내용은 아마존 은행 고객센터 1599-9999로 문의하여 주시기 바랍니다.\\n' metadata={'source': '아마존은행', 'row': 0, 'type': '인터넷뱅킹', 'timestamp': 1695806456.601812}\n"
     ]
    }
   ],
   "source": [
    "print (len(documents_fsi))\n",
    "print (documents_fsi[0])"
   ]
  },
  {
   "cell_type": "markdown",
   "id": "2f588fcf-3da7-4125-8c2b-c326b6c89850",
   "metadata": {
    "tags": []
   },
   "source": [
    "## Text Spliter 로 청킹\n",
    "참고: 검색된 문서/텍스트는 질문에 대답하기에 충분한 정보를 포함할 만큼 커야 합니다. 하지만 LLM 프롬프트에 들어갈 만큼 충분히 작습니다. <BR>\n",
    "또한 임베딩 모델에는 입력 토큰 길이는 KoSimCSERobert는 512개, titanEmbedding(8,912개) 토큰으로 제한되어 있습니다. <BR>\n",
    "이 사용 사례를 위해 [RecursiveCharacterTextSplitter](https://python.langchain.com/en/latest/modules/indexes/text_splitters/examples/recursive_text_splitter.html)를 사용하여 500자가 겹치는 약 92자의 청크를 생성합니다."
   ]
  },
  {
   "cell_type": "code",
   "execution_count": 277,
   "id": "337dc9e5-3c33-4234-9ac4-edfc3cbaf8eb",
   "metadata": {
    "tags": []
   },
   "outputs": [
    {
     "name": "stdout",
     "output_type": "stream",
     "text": [
      "Number of documents after split and chunking=92\n"
     ]
    }
   ],
   "source": [
    "if is_bedrock_embeddings:\n",
    "    chunk_size = 2048\n",
    "    chunk_overlap = 50\n",
    "elif is_KoSimCSERobert:\n",
    "    chunk_size = 800 # This is maxumum\n",
    "    chunk_overlap = 0\n",
    "\n",
    "\n",
    "text_splitter = RecursiveCharacterTextSplitter(\n",
    "    # Set a really small chunk size, just to show.\n",
    "    chunk_size = chunk_size,\n",
    "    chunk_overlap  = chunk_overlap,\n",
    "    separators=[\"\\n\\n\", \"\\n\", \".\", \" \", \"\"],\n",
    "    length_function = len,\n",
    ")\n",
    "\n",
    "docs = text_splitter.split_documents(documents_fsi)\n",
    "print(f\"Number of documents after split and chunking={len(docs)}\")"
   ]
  },
  {
   "cell_type": "markdown",
   "id": "3efd4c0f-f861-44f0-8d7c-1f4b8ab36d1b",
   "metadata": {
    "tags": []
   },
   "source": [
    "# 3. OpenSearch Client 생성\n",
    "### 선수 조건\n",
    "- 아래의 링크를 참조해서 OpenSearch Service 를 생성하고, opensearch_domain_endpoint, http_auth 를 복사해서, 아래 셀의 내용을 대체 하세요.\n",
    "    - [OpenSearch 생성 가이드](https://github.com/gonsoomoon-ml/Kor-LLM-On-SageMaker/blob/main/2-Lab02-QA-with-RAG/4.rag-fsi-data-workshop/TASK-4_OpenSearch_Creation_and_Vector_Insertion.ipynb)\n",
    "### 아래 셀에 다음의 정보가 입력이 되어야 합니다.\n",
    "```\n",
    "opensearch_domain_endpoint = \"<Type Domain Endpoint>\"\n",
    "http_auth = (rag_user_name, rag_user_password) # Master username, Master password\n",
    "\n",
    "```\n"
   ]
  },
  {
   "cell_type": "code",
   "execution_count": 278,
   "id": "1d1f5685-8e8f-43a6-84d1-6c7b450f817b",
   "metadata": {
    "tags": []
   },
   "outputs": [],
   "source": [
    "from utils.rag import create_aws_opensearch_client, check_if_index_exists, delete_index\n",
    "from utils.rag import create_index, add_doc, search_document"
   ]
  },
  {
   "cell_type": "code",
   "execution_count": 281,
   "id": "6a1fd652-f8fa-4289-ae5b-90021b553871",
   "metadata": {
    "tags": []
   },
   "outputs": [],
   "source": [
    "aws_region = 'us-east-1'\n",
    "\n",
    "os.environ[\"OpenSearch_UserName\"] = \"<Type UserName>\" \n",
    "os.environ[\"OpenSearch_UserPassword\"] = \"<Type Password>\" \n",
    "\n",
    "rag_user_name = os.environ[\"OpenSearch_UserName\"]\n",
    "rag_user_password = os.environ[\"OpenSearch_UserPassword\"]\n",
    "\n",
    "opensearch_domain_endpoint = \"https://search-statbucks-poc-i37jr5foemtmcmkxvb3r6awi3u.us-east-1.es.amazonaws.com\"\n",
    "http_auth = (rag_user_name, rag_user_password) # Master username, Master password\n",
    "\n",
    "aws_client = create_aws_opensearch_client(\n",
    "    aws_region,\n",
    "    opensearch_domain_endpoint,\n",
    "    http_auth\n",
    ")"
   ]
  },
  {
   "cell_type": "markdown",
   "id": "187ceea4-4d80-41bf-9431-47d5f3902396",
   "metadata": {
    "tags": []
   },
   "source": [
    "# 4. OpenSearch 벡터 Indexer 생성\n",
    "### 선수 조건\n",
    "- 아래의 링크를 참조해서 OpenSearch Service 를 생성하고, opensearch_domain_endpoint, http_auth 를 복사해서, 아래 셀의 내용을 대체 하세요.\n",
    "    - [OpenSearch 생성 가이드](https://github.com/gonsoomoon-ml/Kor-LLM-On-SageMaker/blob/main/2-Lab02-QA-with-RAG/4.rag-fsi-data-workshop/TASK-4_OpenSearch_Creation_and_Vector_Insertion.ipynb)\n",
    "- 랭체인 오프서처 참고 자료\n",
    "    - [Langchain Opensearch](https://python.langchain.com/docs/integrations/vectorstores/opensearch)"
   ]
  },
  {
   "cell_type": "markdown",
   "id": "3a6c5796-a418-4505-ba28-0ca33c3fa9f8",
   "metadata": {},
   "source": [
    "## 오픈 서치 인덱스 유무에 따라 삭제\n",
    "오픈 서치에 해당 인덱스가 존재하면, 삭제 합니다. "
   ]
  },
  {
   "cell_type": "code",
   "execution_count": 285,
   "id": "9cf8addb-9345-499e-b079-94c2612f88b6",
   "metadata": {
    "tags": []
   },
   "outputs": [
    {
     "name": "stdout",
     "output_type": "stream",
     "text": [
      "index_name=fsi-v1, exists=False\n",
      "Index does not exist\n"
     ]
    }
   ],
   "source": [
    "index_name = \"fsi-v1\"\n",
    "index_exists = check_if_index_exists(aws_client, index_name)\n",
    "\n",
    "if index_exists:\n",
    "    delete_index(aws_client, index_name)    \n",
    "else:\n",
    "    print(\"Index does not exist\")"
   ]
  },
  {
   "cell_type": "markdown",
   "id": "56ac0292-f3fc-4ef7-a00d-becee90f0dec",
   "metadata": {},
   "source": [
    "## 인덱스 생성"
   ]
  },
  {
   "cell_type": "code",
   "execution_count": null,
   "id": "591b0e0b-76e2-47c3-a921-b68257fb089f",
   "metadata": {
    "tags": []
   },
   "outputs": [
    {
     "name": "stdout",
     "output_type": "stream",
     "text": [
      "CPU times: user 292 ms, sys: 12.2 ms, total: 305 ms\n",
      "Wall time: 10.7 s\n"
     ]
    }
   ],
   "source": [
    "%%time\n",
    "\n",
    "# by default langchain would create a k-NN index and the embeddings would be ingested as a k-NN vector type\n",
    "from langchain.vectorstores import OpenSearchVectorSearch\n",
    "docsearch = OpenSearchVectorSearch.from_documents(\n",
    "    index_name=index_name,\n",
    "    documents=docs,\n",
    "    embedding=llm_emb,\n",
    "    opensearch_url=opensearch_domain_endpoint,\n",
    "    http_auth=http_auth,\n",
    "    bulk_size=10000,\n",
    "    timeout=60\n",
    ")"
   ]
  },
  {
   "cell_type": "markdown",
   "id": "fae62975-2e46-44e7-97e4-c14c2bfa632f",
   "metadata": {},
   "source": [
    "## 인덱스 확인"
   ]
  },
  {
   "cell_type": "code",
   "execution_count": 287,
   "id": "854f27ae-7d4a-410a-bfd0-c482eae75dae",
   "metadata": {
    "tags": []
   },
   "outputs": [
    {
     "name": "stdout",
     "output_type": "stream",
     "text": [
      "{'fsi-v1': {'aliases': {},\n",
      "            'mappings': {'properties': {'metadata': {'properties': {'row': {'type': 'long'},\n",
      "                                                                    'source': {'fields': {'keyword': {'ignore_above': 256,\n",
      "                                                                                                      'type': 'keyword'}},\n",
      "                                                                               'type': 'text'},\n",
      "                                                                    'timestamp': {'type': 'float'},\n",
      "                                                                    'type': {'fields': {'keyword': {'ignore_above': 256,\n",
      "                                                                                                    'type': 'keyword'}},\n",
      "                                                                             'type': 'text'}}},\n",
      "                                        'text': {'fields': {'keyword': {'ignore_above': 256,\n",
      "                                                                        'type': 'keyword'}},\n",
      "                                                 'type': 'text'},\n",
      "                                        'vector_field': {'dimension': 1536,\n",
      "                                                         'method': {'engine': 'nmslib',\n",
      "                                                                    'name': 'hnsw',\n",
      "                                                                    'parameters': {'ef_construction': 512,\n",
      "                                                                                   'm': 16},\n",
      "                                                                    'space_type': 'l2'},\n",
      "                                                         'type': 'knn_vector'}}},\n",
      "            'settings': {'index': {'creation_date': '1695806517933',\n",
      "                                   'knn': 'true',\n",
      "                                   'knn.algo_param': {'ef_search': '512'},\n",
      "                                   'number_of_replicas': '2',\n",
      "                                   'number_of_shards': '5',\n",
      "                                   'provided_name': 'fsi-v1',\n",
      "                                   'uuid': 'WSLBEJf6Q02C6SLLlbaLkg',\n",
      "                                   'version': {'created': '136287827'}}}}}\n"
     ]
    }
   ],
   "source": [
    "from pprint import pprint\n",
    "index_info = aws_client.indices.get(index=index_name)\n",
    "pprint (index_info)"
   ]
  },
  {
   "cell_type": "markdown",
   "id": "783076d7-61c8-4796-a91f-dac51b0723e1",
   "metadata": {
    "tags": []
   },
   "source": [
    "## 은전한잎 형태소 분석기 (seunjeon_tokenizer) 사용하기\n",
    "- 영어권의 문자들과 다르게 한글, 일본어, 중국어 등은 단순한 공백만으로는 좋은 검색 결과를 얻기 힘듭니다.\n",
    "- 출시하고라는 단어가 들어간 문서를 출시하고라는 정확히 같은 단어만으로 검색할 수 있다면 답답하겠죠?\n",
    "- 출시하고라는 단어를 출시, 출시하고 등 다양하게 검색하기 위해서는 형태소 분석기가 필요합니다.\n",
    "- https://catalog.us-east-1.prod.workshops.aws/workshops/de4e38cb-a0d9-4ffe-a777-bf00d498fa49/ko-KR/indexing/stemming#"
   ]
  },
  {
   "cell_type": "markdown",
   "id": "d310c188-f4d4-41dd-ba9e-722dc2490519",
   "metadata": {
    "tags": []
   },
   "source": [
    "### 인덱싱 수정하기 (형태소 분석시 사용 enablement)"
   ]
  },
  {
   "cell_type": "code",
   "execution_count": 289,
   "id": "42bfe74d-7204-4820-b8e8-949820e66c30",
   "metadata": {
    "tags": []
   },
   "outputs": [
    {
     "data": {
      "text/plain": [
       "'fsi-v1-with-tokenizer'"
      ]
     },
     "execution_count": 289,
     "metadata": {},
     "output_type": "execute_result"
    }
   ],
   "source": [
    "new_index_name = f'{index_name}-with-tokenizer'\n",
    "new_index_name"
   ]
  },
  {
   "cell_type": "code",
   "execution_count": 290,
   "id": "6d0a8202-ba02-4906-97d7-b96fac3277dc",
   "metadata": {
    "tags": []
   },
   "outputs": [],
   "source": [
    "## Setting for \"은전한잎\" Tokenizer (변경 없음)\n",
    "index_info[index_name][\"settings\"][\"analysis\"] = {\n",
    "    \"tokenizer\": {\n",
    "        \"seunjeon\": {\n",
    "            \"type\": \"seunjeon_tokenizer\"\n",
    "        }\n",
    "    },\n",
    "    \"analyzer\": {\n",
    "        \"my_analyzer\": {\n",
    "            \"type\": \"custom\",\n",
    "            \"tokenizer\": \"seunjeon\"\n",
    "        }\n",
    "    }\n",
    "}\n",
    "\n",
    "## Setting for Columns to be adapted by Tokenizer (tokenizer가 적용될 컬럼에 맞춰서 수정)\n",
    "index_info[index_name][\"mappings\"][\"properties\"][\"text\"][\"analyzer\"] = \"my_analyzer\"\n",
    "index_info[index_name][\"mappings\"][\"properties\"][\"text\"][\"search_analyzer\"] = \"my_analyzer\"\n",
    "\n",
    "## Setting for vector index column (변경 없음)\n",
    "index_info[index_name][\"settings\"][\"index\"] = {\n",
    "    \"number_of_shards\": \"5\",\n",
    "    \"knn.algo_param\": {\"ef_search\": \"512\"},\n",
    "    \"knn\": \"true\",\n",
    "    \"number_of_replicas\": \"2\"\n",
    "}\n",
    "\n",
    "del index_info[index_name][\"aliases\"]\n",
    "new_index_info = index_info[index_name]"
   ]
  },
  {
   "cell_type": "code",
   "execution_count": 291,
   "id": "2c74574e-9147-48c6-bdc0-820e0e1261ab",
   "metadata": {
    "tags": []
   },
   "outputs": [
    {
     "name": "stdout",
     "output_type": "stream",
     "text": [
      "{'mappings': {'properties': {'metadata': {'properties': {'row': {'type': 'long'},\n",
      "                                                         'source': {'fields': {'keyword': {'ignore_above': 256,\n",
      "                                                                                           'type': 'keyword'}},\n",
      "                                                                    'type': 'text'},\n",
      "                                                         'timestamp': {'type': 'float'},\n",
      "                                                         'type': {'fields': {'keyword': {'ignore_above': 256,\n",
      "                                                                                         'type': 'keyword'}},\n",
      "                                                                  'type': 'text'}}},\n",
      "                             'text': {'analyzer': 'my_analyzer',\n",
      "                                      'fields': {'keyword': {'ignore_above': 256,\n",
      "                                                             'type': 'keyword'}},\n",
      "                                      'search_analyzer': 'my_analyzer',\n",
      "                                      'type': 'text'},\n",
      "                             'vector_field': {'dimension': 1536,\n",
      "                                              'method': {'engine': 'nmslib',\n",
      "                                                         'name': 'hnsw',\n",
      "                                                         'parameters': {'ef_construction': 512,\n",
      "                                                                        'm': 16},\n",
      "                                                         'space_type': 'l2'},\n",
      "                                              'type': 'knn_vector'}}},\n",
      " 'settings': {'analysis': {'analyzer': {'my_analyzer': {'tokenizer': 'seunjeon',\n",
      "                                                        'type': 'custom'}},\n",
      "                           'tokenizer': {'seunjeon': {'type': 'seunjeon_tokenizer'}}},\n",
      "              'index': {'knn': 'true',\n",
      "                        'knn.algo_param': {'ef_search': '512'},\n",
      "                        'number_of_replicas': '2',\n",
      "                        'number_of_shards': '5'}}}\n"
     ]
    }
   ],
   "source": [
    "pprint (new_index_info)"
   ]
  },
  {
   "cell_type": "markdown",
   "id": "23fa8849-7144-4579-861f-b9429e11e58f",
   "metadata": {},
   "source": [
    "### 형태소 분석기용 인덱서 생성"
   ]
  },
  {
   "cell_type": "code",
   "execution_count": 293,
   "id": "ea44de00-83b4-4af0-9347-ca1a992fc7e0",
   "metadata": {
    "tags": []
   },
   "outputs": [
    {
     "name": "stdout",
     "output_type": "stream",
     "text": [
      "index_name=fsi-v1-with-tokenizer, exists=True\n",
      "\n",
      "Deleting index:\n",
      "{'acknowledged': True}\n"
     ]
    }
   ],
   "source": [
    "index_exists = check_if_index_exists(aws_client, new_index_name)\n",
    "\n",
    "if index_exists:\n",
    "    delete_index(aws_client, new_index_name)    \n",
    "else:\n",
    "    print(\"Index does not exist\")"
   ]
  },
  {
   "cell_type": "markdown",
   "id": "9b47462d-ccce-47bc-b23d-b86f31f699dc",
   "metadata": {
    "tags": []
   },
   "source": [
    "### Re-indexing"
   ]
  },
  {
   "cell_type": "code",
   "execution_count": 295,
   "id": "70f114e7-47ea-4f54-9dc9-c4ea6e088ecc",
   "metadata": {
    "tags": []
   },
   "outputs": [
    {
     "name": "stdout",
     "output_type": "stream",
     "text": [
      "_reindex: \n",
      " {'source': {'index': 'fsi-v1'}, 'dest': {'index': 'fsi-v1-with-tokenizer'}}\n"
     ]
    }
   ],
   "source": [
    "_reindex = {\n",
    "    \"source\": {\"index\": index_name},\n",
    "    \"dest\": {\"index\": new_index_name}\n",
    "}\n",
    "print(\"_reindex: \\n\", _reindex)"
   ]
  },
  {
   "cell_type": "code",
   "execution_count": 296,
   "id": "aafa1768-b98c-45bf-8063-92e9c3aa1681",
   "metadata": {
    "tags": []
   },
   "outputs": [
    {
     "data": {
      "text/plain": [
       "{'took': 438,\n",
       " 'timed_out': False,\n",
       " 'total': 92,\n",
       " 'updated': 0,\n",
       " 'created': 92,\n",
       " 'deleted': 0,\n",
       " 'batches': 1,\n",
       " 'version_conflicts': 0,\n",
       " 'noops': 0,\n",
       " 'retries': {'bulk': 0, 'search': 0},\n",
       " 'throttled_millis': 0,\n",
       " 'requests_per_second': -1.0,\n",
       " 'throttled_until_millis': 0,\n",
       " 'failures': []}"
      ]
     },
     "execution_count": 296,
     "metadata": {},
     "output_type": "execute_result"
    }
   ],
   "source": [
    "aws_client.reindex(_reindex)"
   ]
  },
  {
   "cell_type": "markdown",
   "id": "ed402bb8-497d-4da6-8a1b-02de77133251",
   "metadata": {},
   "source": [
    "# 6. 키워드 검색"
   ]
  },
  {
   "cell_type": "markdown",
   "id": "a7b559de-eb37-4286-8609-bdfe8ec08cdd",
   "metadata": {},
   "source": [
    "### 'Text\" 에 \"약관, 뱅킹\" 단어를 검색합니다."
   ]
  },
  {
   "cell_type": "code",
   "execution_count": 298,
   "id": "a4d979b0-84fc-4a72-a6ed-57f6e8f717a9",
   "metadata": {
    "tags": []
   },
   "outputs": [],
   "source": [
    "from utils.rag import generate_opensearch_AndQuery, parse_keyword_response"
   ]
  },
  {
   "cell_type": "code",
   "execution_count": 299,
   "id": "162e369a-929f-4eb6-9491-3de1e2b9ca99",
   "metadata": {
    "tags": []
   },
   "outputs": [],
   "source": [
    "def run_keyword_query(q, aws_client, index_name, min_shoud_match=0):\n",
    "\n",
    "    query = {\n",
    "        \"query\": {\n",
    "            \"match\": {\n",
    "                \"text\": {\n",
    "                    \"query\": f\"{q}\",\n",
    "                    \"minimum_should_match\": f'{min_shoud_match}%'\n",
    "                }\n",
    "            }\n",
    "        }\n",
    "    }    \n",
    "    \n",
    "    print(\"query: \", query)\n",
    "    response = search_document(aws_client, query, index_name)\n",
    "    \n",
    "    return response"
   ]
  },
  {
   "cell_type": "markdown",
   "id": "fd1cfb29-137c-4350-bb1e-99424221a5c7",
   "metadata": {},
   "source": [
    "* without tokenizer"
   ]
  },
  {
   "cell_type": "code",
   "execution_count": 300,
   "id": "87964e9a-b4e0-45a9-98ce-7b54e6276239",
   "metadata": {
    "tags": []
   },
   "outputs": [
    {
     "name": "stdout",
     "output_type": "stream",
     "text": [
      "query:  {'query': {'match': {'text': {'query': '뱅킹', 'minimum_should_match': '0%'}}}}\n",
      "\n",
      "Search results:\n",
      "There is no response\n"
     ]
    }
   ],
   "source": [
    "q = \"뱅킹\"\n",
    "response = run_keyword_query(q, aws_client, index_name)\n",
    "parse_keyword_response(response, show_size=1)"
   ]
  },
  {
   "cell_type": "markdown",
   "id": "45407fab-031e-44c2-8758-bd6d5f6074a9",
   "metadata": {
    "tags": []
   },
   "source": [
    "* with tokenizer"
   ]
  },
  {
   "cell_type": "code",
   "execution_count": 301,
   "id": "66ea8613-e2a9-4b25-adf9-bbde630b1801",
   "metadata": {
    "tags": []
   },
   "outputs": [
    {
     "name": "stdout",
     "output_type": "stream",
     "text": [
      "query:  {'query': {'match': {'text': {'query': '뱅킹', 'minimum_should_match': '0%'}}}}\n",
      "\n",
      "Search results:\n",
      "# of searched docs:  10\n",
      "# of display: 1\n",
      "---------------------\n",
      "_id in index:  08cb96ed-1113-4b5d-bed5-ff898ac809b3\n",
      "1.2395272\n",
      "ask: 인터넷뱅킹의 출금계좌 추가 삭제 방법 알려줘.\n",
      "Information: 인터넷뱅킹, 신한쏠(SOL)에서 출금계좌의 추가/삭제가 가능합니다. 단, 인터넷뱅킹 신청시 또는 그 이후에 영업점에서 \"출금계좌 인터넷추가등록 동의\" 를 하신 경우에는 인터넷뱅킹, 신한 쏠 에서 추가등록이 가능하며 동의하지 않은 경우엔 신한 쏠 에서 비대면으로 신분증 확인후 출금계좌 추가등록이 가능합니다. (출금계좌 삭제는 동의여부와 관계없이 모두 가능함)\n",
      "[경로]\n",
      "- 인터넷뱅킹 로그인→ 사용자관리→ 계좌관리→ 출금계좌관리\n",
      "- 신한 쏠(SOL) 로그인→전체메뉴→이체→이체관리→출금계좌관리\n",
      "기타 궁금하신 내용은 신한은행 고객센터 1599-8000로 문의하여 주시기 바랍니다.\n",
      "---------------------\n"
     ]
    }
   ],
   "source": [
    "q = \"뱅킹\"\n",
    "response = run_keyword_query(q, aws_client, new_index_name)\n",
    "parse_keyword_response(response, show_size=1)"
   ]
  },
  {
   "cell_type": "markdown",
   "id": "672ac896-637d-4ca5-bf69-b5750aafdfda",
   "metadata": {
    "tags": []
   },
   "source": [
    "## 형태소 분석 결과 확인\n",
    "\"약관\" 또는 \"뱅킹\" 확인 <BR>\n",
    "* doc_id: 위의 문서 인덱스 정보 확인 후 수정"
   ]
  },
  {
   "cell_type": "code",
   "execution_count": 306,
   "id": "57b6455e-ed40-461d-bfb2-71a4f6027525",
   "metadata": {
    "tags": []
   },
   "outputs": [],
   "source": [
    "doc_id = \"08cb96ed-1113-4b5d-bed5-ff898ac809b3\" "
   ]
  },
  {
   "cell_type": "markdown",
   "id": "2085afd4-849e-4a32-8913-a9f4390bcf62",
   "metadata": {
    "tags": []
   },
   "source": [
    "* without tokenizer"
   ]
  },
  {
   "cell_type": "code",
   "execution_count": 307,
   "id": "63d7832a-be76-447c-869f-d22a451e8aa0",
   "metadata": {
    "tags": []
   },
   "outputs": [
    {
     "data": {
      "text/plain": [
       "{'_index': 'fsi-v1',\n",
       " '_id': '08cb96ed-1113-4b5d-bed5-ff898ac809b3',\n",
       " '_version': 1,\n",
       " 'found': True,\n",
       " 'took': 1,\n",
       " 'term_vectors': {'text': {'field_statistics': {'sum_doc_freq': 1201,\n",
       "    'doc_count': 24,\n",
       "    'sum_ttf': 1396},\n",
       "   'terms': {'1599': {'term_freq': 1,\n",
       "     'tokens': [{'position': 72, 'start_offset': 345, 'end_offset': 349}]},\n",
       "    '8000로': {'term_freq': 1,\n",
       "     'tokens': [{'position': 73, 'start_offset': 350, 'end_offset': 355}]},\n",
       "    'ask': {'term_freq': 1,\n",
       "     'tokens': [{'position': 0, 'start_offset': 0, 'end_offset': 3}]},\n",
       "    'information': {'term_freq': 1,\n",
       "     'tokens': [{'position': 7, 'start_offset': 31, 'end_offset': 42}]},\n",
       "    'sol': {'term_freq': 2,\n",
       "     'tokens': [{'position': 10, 'start_offset': 55, 'end_offset': 58},\n",
       "      {'position': 61, 'start_offset': 293, 'end_offset': 296}]},\n",
       "    '가능하며': {'term_freq': 1,\n",
       "     'tokens': [{'position': 34, 'start_offset': 159, 'end_offset': 163}]},\n",
       "    '가능함': {'term_freq': 1,\n",
       "     'tokens': [{'position': 52, 'start_offset': 240, 'end_offset': 243}]},\n",
       "    '가능합니다': {'term_freq': 2,\n",
       "     'tokens': [{'position': 15, 'start_offset': 75, 'end_offset': 80},\n",
       "      {'position': 46, 'start_offset': 209, 'end_offset': 214}]},\n",
       "    '경로': {'term_freq': 1,\n",
       "     'tokens': [{'position': 53, 'start_offset': 247, 'end_offset': 249}]},\n",
       "    '경우에는': {'term_freq': 1,\n",
       "     'tokens': [{'position': 28, 'start_offset': 133, 'end_offset': 137}]},\n",
       "    '경우엔': {'term_freq': 1,\n",
       "     'tokens': [{'position': 37, 'start_offset': 172, 'end_offset': 175}]},\n",
       "    '계좌관리': {'term_freq': 1,\n",
       "     'tokens': [{'position': 57, 'start_offset': 272, 'end_offset': 276}]},\n",
       "    '고객센터': {'term_freq': 1,\n",
       "     'tokens': [{'position': 71, 'start_offset': 340, 'end_offset': 344}]},\n",
       "    '관계없이': {'term_freq': 1,\n",
       "     'tokens': [{'position': 50, 'start_offset': 232, 'end_offset': 236}]},\n",
       "    '궁금하신': {'term_freq': 1,\n",
       "     'tokens': [{'position': 68, 'start_offset': 326, 'end_offset': 330}]},\n",
       "    '그': {'term_freq': 1,\n",
       "     'tokens': [{'position': 20, 'start_offset': 98, 'end_offset': 99}]},\n",
       "    '기타': {'term_freq': 1,\n",
       "     'tokens': [{'position': 67, 'start_offset': 323, 'end_offset': 325}]},\n",
       "    '내용은': {'term_freq': 1,\n",
       "     'tokens': [{'position': 69, 'start_offset': 331, 'end_offset': 334}]},\n",
       "    '단': {'term_freq': 1,\n",
       "     'tokens': [{'position': 16, 'start_offset': 82, 'end_offset': 83}]},\n",
       "    '동의': {'term_freq': 1,\n",
       "     'tokens': [{'position': 25, 'start_offset': 124, 'end_offset': 126}]},\n",
       "    '동의여부와': {'term_freq': 1,\n",
       "     'tokens': [{'position': 49, 'start_offset': 226, 'end_offset': 231}]},\n",
       "    '동의하지': {'term_freq': 1,\n",
       "     'tokens': [{'position': 35, 'start_offset': 164, 'end_offset': 168}]},\n",
       "    '또는': {'term_freq': 1,\n",
       "     'tokens': [{'position': 19, 'start_offset': 95, 'end_offset': 97}]},\n",
       "    '로그인': {'term_freq': 2,\n",
       "     'tokens': [{'position': 55, 'start_offset': 260, 'end_offset': 263},\n",
       "      {'position': 62, 'start_offset': 298, 'end_offset': 301}]},\n",
       "    '를': {'term_freq': 1,\n",
       "     'tokens': [{'position': 26, 'start_offset': 128, 'end_offset': 129}]},\n",
       "    '모두': {'term_freq': 1,\n",
       "     'tokens': [{'position': 51, 'start_offset': 237, 'end_offset': 239}]},\n",
       "    '문의하여': {'term_freq': 1,\n",
       "     'tokens': [{'position': 74, 'start_offset': 356, 'end_offset': 360}]},\n",
       "    '바랍니다': {'term_freq': 1,\n",
       "     'tokens': [{'position': 76, 'start_offset': 365, 'end_offset': 369}]},\n",
       "    '방법': {'term_freq': 1,\n",
       "     'tokens': [{'position': 5, 'start_offset': 23, 'end_offset': 25}]},\n",
       "    '비대면으로': {'term_freq': 1,\n",
       "     'tokens': [{'position': 41, 'start_offset': 184, 'end_offset': 189}]},\n",
       "    '사용자관리': {'term_freq': 1,\n",
       "     'tokens': [{'position': 56, 'start_offset': 265, 'end_offset': 270}]},\n",
       "    '삭제': {'term_freq': 1,\n",
       "     'tokens': [{'position': 4, 'start_offset': 20, 'end_offset': 22}]},\n",
       "    '삭제가': {'term_freq': 1,\n",
       "     'tokens': [{'position': 14, 'start_offset': 71, 'end_offset': 74}]},\n",
       "    '삭제는': {'term_freq': 1,\n",
       "     'tokens': [{'position': 48, 'start_offset': 222, 'end_offset': 225}]},\n",
       "    '신분증': {'term_freq': 1,\n",
       "     'tokens': [{'position': 42, 'start_offset': 190, 'end_offset': 193}]},\n",
       "    '신청시': {'term_freq': 1,\n",
       "     'tokens': [{'position': 18, 'start_offset': 91, 'end_offset': 94}]},\n",
       "    '신한': {'term_freq': 3,\n",
       "     'tokens': [{'position': 30, 'start_offset': 145, 'end_offset': 147},\n",
       "      {'position': 38, 'start_offset': 176, 'end_offset': 178},\n",
       "      {'position': 59, 'start_offset': 288, 'end_offset': 290}]},\n",
       "    '신한쏠': {'term_freq': 1,\n",
       "     'tokens': [{'position': 9, 'start_offset': 51, 'end_offset': 54}]},\n",
       "    '신한은행': {'term_freq': 1,\n",
       "     'tokens': [{'position': 70, 'start_offset': 335, 'end_offset': 339}]},\n",
       "    '쏠': {'term_freq': 3,\n",
       "     'tokens': [{'position': 31, 'start_offset': 148, 'end_offset': 149},\n",
       "      {'position': 39, 'start_offset': 179, 'end_offset': 180},\n",
       "      {'position': 60, 'start_offset': 291, 'end_offset': 292}]},\n",
       "    '않은': {'term_freq': 1,\n",
       "     'tokens': [{'position': 36, 'start_offset': 169, 'end_offset': 171}]},\n",
       "    '알려줘': {'term_freq': 1,\n",
       "     'tokens': [{'position': 6, 'start_offset': 26, 'end_offset': 29}]},\n",
       "    '에서': {'term_freq': 3,\n",
       "     'tokens': [{'position': 11, 'start_offset': 59, 'end_offset': 61},\n",
       "      {'position': 32, 'start_offset': 150, 'end_offset': 152},\n",
       "      {'position': 40, 'start_offset': 181, 'end_offset': 183}]},\n",
       "    '영업점에서': {'term_freq': 1,\n",
       "     'tokens': [{'position': 22, 'start_offset': 104, 'end_offset': 109}]},\n",
       "    '이체': {'term_freq': 1,\n",
       "     'tokens': [{'position': 64, 'start_offset': 307, 'end_offset': 309}]},\n",
       "    '이체관리': {'term_freq': 1,\n",
       "     'tokens': [{'position': 65, 'start_offset': 310, 'end_offset': 314}]},\n",
       "    '이후에': {'term_freq': 1,\n",
       "     'tokens': [{'position': 21, 'start_offset': 100, 'end_offset': 103}]},\n",
       "    '인터넷뱅킹': {'term_freq': 4,\n",
       "     'tokens': [{'position': 8, 'start_offset': 44, 'end_offset': 49},\n",
       "      {'position': 17, 'start_offset': 85, 'end_offset': 90},\n",
       "      {'position': 29, 'start_offset': 138, 'end_offset': 143},\n",
       "      {'position': 54, 'start_offset': 254, 'end_offset': 259}]},\n",
       "    '인터넷뱅킹의': {'term_freq': 1,\n",
       "     'tokens': [{'position': 1, 'start_offset': 5, 'end_offset': 11}]},\n",
       "    '인터넷추가등록': {'term_freq': 1,\n",
       "     'tokens': [{'position': 24, 'start_offset': 116, 'end_offset': 123}]},\n",
       "    '전체메뉴': {'term_freq': 1,\n",
       "     'tokens': [{'position': 63, 'start_offset': 302, 'end_offset': 306}]},\n",
       "    '주시기': {'term_freq': 1,\n",
       "     'tokens': [{'position': 75, 'start_offset': 361, 'end_offset': 364}]},\n",
       "    '추가': {'term_freq': 2,\n",
       "     'tokens': [{'position': 3, 'start_offset': 17, 'end_offset': 19},\n",
       "      {'position': 13, 'start_offset': 68, 'end_offset': 70}]},\n",
       "    '추가등록이': {'term_freq': 2,\n",
       "     'tokens': [{'position': 33, 'start_offset': 153, 'end_offset': 158},\n",
       "      {'position': 45, 'start_offset': 203, 'end_offset': 208}]},\n",
       "    '출금계좌': {'term_freq': 4,\n",
       "     'tokens': [{'position': 2, 'start_offset': 12, 'end_offset': 16},\n",
       "      {'position': 23, 'start_offset': 111, 'end_offset': 115},\n",
       "      {'position': 44, 'start_offset': 198, 'end_offset': 202},\n",
       "      {'position': 47, 'start_offset': 217, 'end_offset': 221}]},\n",
       "    '출금계좌관리': {'term_freq': 2,\n",
       "     'tokens': [{'position': 58, 'start_offset': 278, 'end_offset': 284},\n",
       "      {'position': 66, 'start_offset': 315, 'end_offset': 321}]},\n",
       "    '출금계좌의': {'term_freq': 1,\n",
       "     'tokens': [{'position': 12, 'start_offset': 62, 'end_offset': 67}]},\n",
       "    '하신': {'term_freq': 1,\n",
       "     'tokens': [{'position': 27, 'start_offset': 130, 'end_offset': 132}]},\n",
       "    '확인후': {'term_freq': 1,\n",
       "     'tokens': [{'position': 43, 'start_offset': 194, 'end_offset': 197}]}}}}}"
      ]
     },
     "execution_count": 307,
     "metadata": {},
     "output_type": "execute_result"
    }
   ],
   "source": [
    "aws_client.termvectors(index=index_name, id=doc_id, fields='text')"
   ]
  },
  {
   "cell_type": "markdown",
   "id": "d37ede8b-c80c-417b-bd7a-cd9fb6774210",
   "metadata": {
    "tags": []
   },
   "source": [
    "* with tokenizer"
   ]
  },
  {
   "cell_type": "code",
   "execution_count": 308,
   "id": "fcebfd6b-a750-4a56-8f8c-10403389ac66",
   "metadata": {
    "tags": []
   },
   "outputs": [
    {
     "data": {
      "text/plain": [
       "{'_index': 'fsi-v1-with-tokenizer',\n",
       " '_id': '08cb96ed-1113-4b5d-bed5-ff898ac809b3',\n",
       " '_version': 1,\n",
       " 'found': True,\n",
       " 'took': 22,\n",
       " 'term_vectors': {'text': {'field_statistics': {'sum_doc_freq': 1842,\n",
       "    'doc_count': 24,\n",
       "    'sum_ttf': 2639},\n",
       "   'terms': {'1599/SN': {'term_freq': 1,\n",
       "     'tokens': [{'position': 99, 'start_offset': 345, 'end_offset': 349}]},\n",
       "    '8000/SN': {'term_freq': 1,\n",
       "     'tokens': [{'position': 100, 'start_offset': 350, 'end_offset': 354}]},\n",
       "    '8000로/EOJ': {'term_freq': 1,\n",
       "     'tokens': [{'position': 100, 'start_offset': 350, 'end_offset': 355}]},\n",
       "    'ask/SL': {'term_freq': 1,\n",
       "     'tokens': [{'position': 0, 'start_offset': 0, 'end_offset': 3}]},\n",
       "    'information/SL': {'term_freq': 1,\n",
       "     'tokens': [{'position': 10, 'start_offset': 31, 'end_offset': 42}]},\n",
       "    'sol/SL': {'term_freq': 2,\n",
       "     'tokens': [{'position': 15, 'start_offset': 55, 'end_offset': 58},\n",
       "      {'position': 82, 'start_offset': 293, 'end_offset': 296}]},\n",
       "    '가능/N': {'term_freq': 4,\n",
       "     'tokens': [{'position': 20, 'start_offset': 75, 'end_offset': 77},\n",
       "      {'position': 44, 'start_offset': 159, 'end_offset': 161},\n",
       "      {'position': 59, 'start_offset': 209, 'end_offset': 211},\n",
       "      {'position': 68, 'start_offset': 240, 'end_offset': 242}]},\n",
       "    '가능하며/EOJ': {'term_freq': 1,\n",
       "     'tokens': [{'position': 44, 'start_offset': 159, 'end_offset': 163}]},\n",
       "    '가능함/EOJ': {'term_freq': 1,\n",
       "     'tokens': [{'position': 68, 'start_offset': 240, 'end_offset': 243}]},\n",
       "    '가능합니다/EOJ': {'term_freq': 2,\n",
       "     'tokens': [{'position': 20, 'start_offset': 75, 'end_offset': 80},\n",
       "      {'position': 59, 'start_offset': 209, 'end_offset': 214}]},\n",
       "    '경로/N': {'term_freq': 1,\n",
       "     'tokens': [{'position': 69, 'start_offset': 247, 'end_offset': 249}]},\n",
       "    '경우/N': {'term_freq': 2,\n",
       "     'tokens': [{'position': 37, 'start_offset': 133, 'end_offset': 135},\n",
       "      {'position': 47, 'start_offset': 172, 'end_offset': 174}]},\n",
       "    '경우에는/EOJ': {'term_freq': 1,\n",
       "     'tokens': [{'position': 37, 'start_offset': 133, 'end_offset': 137}]},\n",
       "    '경우엔/EOJ': {'term_freq': 1,\n",
       "     'tokens': [{'position': 47, 'start_offset': 172, 'end_offset': 175}]},\n",
       "    '계좌/N': {'term_freq': 8,\n",
       "     'tokens': [{'position': 4, 'start_offset': 14, 'end_offset': 16},\n",
       "      {'position': 17, 'start_offset': 64, 'end_offset': 66},\n",
       "      {'position': 31, 'start_offset': 113, 'end_offset': 115},\n",
       "      {'position': 56, 'start_offset': 200, 'end_offset': 202},\n",
       "      {'position': 61, 'start_offset': 219, 'end_offset': 221},\n",
       "      {'position': 75, 'start_offset': 272, 'end_offset': 274},\n",
       "      {'position': 78, 'start_offset': 280, 'end_offset': 282},\n",
       "      {'position': 90, 'start_offset': 317, 'end_offset': 319}]},\n",
       "    '계좌의/EOJ': {'term_freq': 1,\n",
       "     'tokens': [{'position': 17, 'start_offset': 64, 'end_offset': 67}]},\n",
       "    '고객/N': {'term_freq': 1,\n",
       "     'tokens': [{'position': 97, 'start_offset': 340, 'end_offset': 342}]},\n",
       "    '관계/N': {'term_freq': 1,\n",
       "     'tokens': [{'position': 65, 'start_offset': 232, 'end_offset': 234}]},\n",
       "    '관리/N': {'term_freq': 5,\n",
       "     'tokens': [{'position': 74, 'start_offset': 268, 'end_offset': 270},\n",
       "      {'position': 76, 'start_offset': 274, 'end_offset': 276},\n",
       "      {'position': 79, 'start_offset': 282, 'end_offset': 284},\n",
       "      {'position': 88, 'start_offset': 312, 'end_offset': 314},\n",
       "      {'position': 91, 'start_offset': 319, 'end_offset': 321}]},\n",
       "    '궁금/XR': {'term_freq': 1,\n",
       "     'tokens': [{'position': 93, 'start_offset': 326, 'end_offset': 328}]},\n",
       "    '궁금하신/EOJ': {'term_freq': 1,\n",
       "     'tokens': [{'position': 93, 'start_offset': 326, 'end_offset': 330}]},\n",
       "    '그/M': {'term_freq': 1,\n",
       "     'tokens': [{'position': 26, 'start_offset': 98, 'end_offset': 99}]},\n",
       "    '기타/N': {'term_freq': 1,\n",
       "     'tokens': [{'position': 92, 'start_offset': 323, 'end_offset': 325}]},\n",
       "    '내용/N': {'term_freq': 1,\n",
       "     'tokens': [{'position': 94, 'start_offset': 331, 'end_offset': 333}]},\n",
       "    '내용은/EOJ': {'term_freq': 1,\n",
       "     'tokens': [{'position': 94, 'start_offset': 331, 'end_offset': 334}]},\n",
       "    '단/M': {'term_freq': 1,\n",
       "     'tokens': [{'position': 21, 'start_offset': 82, 'end_offset': 83}]},\n",
       "    '대면/N': {'term_freq': 1,\n",
       "     'tokens': [{'position': 50, 'start_offset': 185, 'end_offset': 187}]},\n",
       "    '동의/N': {'term_freq': 3,\n",
       "     'tokens': [{'position': 35, 'start_offset': 124, 'end_offset': 126},\n",
       "      {'position': 45, 'start_offset': 164, 'end_offset': 166},\n",
       "      {'position': 63, 'start_offset': 226, 'end_offset': 228}]},\n",
       "    '동의하지/EOJ': {'term_freq': 1,\n",
       "     'tokens': [{'position': 45, 'start_offset': 164, 'end_offset': 168}]},\n",
       "    '등록/N': {'term_freq': 3,\n",
       "     'tokens': [{'position': 34, 'start_offset': 121, 'end_offset': 123},\n",
       "      {'position': 43, 'start_offset': 155, 'end_offset': 157},\n",
       "      {'position': 58, 'start_offset': 205, 'end_offset': 207}]},\n",
       "    '등록이/EOJ': {'term_freq': 2,\n",
       "     'tokens': [{'position': 43, 'start_offset': 155, 'end_offset': 158},\n",
       "      {'position': 58, 'start_offset': 205, 'end_offset': 208}]},\n",
       "    '또는/M': {'term_freq': 1,\n",
       "     'tokens': [{'position': 25, 'start_offset': 95, 'end_offset': 97}]},\n",
       "    '로그인/N': {'term_freq': 2,\n",
       "     'tokens': [{'position': 72, 'start_offset': 260, 'end_offset': 263},\n",
       "      {'position': 83, 'start_offset': 298, 'end_offset': 301}]},\n",
       "    '메뉴/N': {'term_freq': 1,\n",
       "     'tokens': [{'position': 85, 'start_offset': 304, 'end_offset': 306}]},\n",
       "    '모두/M': {'term_freq': 1,\n",
       "     'tokens': [{'position': 67, 'start_offset': 237, 'end_offset': 239}]},\n",
       "    '문의/N': {'term_freq': 1,\n",
       "     'tokens': [{'position': 101, 'start_offset': 356, 'end_offset': 358}]},\n",
       "    '문의하여/EOJ': {'term_freq': 1,\n",
       "     'tokens': [{'position': 101, 'start_offset': 356, 'end_offset': 360}]},\n",
       "    '바라/V': {'term_freq': 1,\n",
       "     'tokens': [{'position': 103, 'start_offset': 365, 'end_offset': 367}]},\n",
       "    '바랍니다/EOJ': {'term_freq': 1,\n",
       "     'tokens': [{'position': 103, 'start_offset': 365, 'end_offset': 369}]},\n",
       "    '방법/N': {'term_freq': 1,\n",
       "     'tokens': [{'position': 7, 'start_offset': 23, 'end_offset': 25}]},\n",
       "    '뱅킹/N': {'term_freq': 5,\n",
       "     'tokens': [{'position': 2, 'start_offset': 8, 'end_offset': 10},\n",
       "      {'position': 12, 'start_offset': 47, 'end_offset': 49},\n",
       "      {'position': 23, 'start_offset': 88, 'end_offset': 90},\n",
       "      {'position': 39, 'start_offset': 141, 'end_offset': 143},\n",
       "      {'position': 71, 'start_offset': 257, 'end_offset': 259}]},\n",
       "    '뱅킹의/EOJ': {'term_freq': 1,\n",
       "     'tokens': [{'position': 2, 'start_offset': 8, 'end_offset': 11}]},\n",
       "    '비대면으로/EOJ': {'term_freq': 1,\n",
       "     'tokens': [{'position': 50, 'start_offset': 184, 'end_offset': 189}]},\n",
       "    '사용/N': {'term_freq': 1,\n",
       "     'tokens': [{'position': 73, 'start_offset': 265, 'end_offset': 267}]},\n",
       "    '사용자/EOJ': {'term_freq': 1,\n",
       "     'tokens': [{'position': 73, 'start_offset': 265, 'end_offset': 268}]},\n",
       "    '삭제/N': {'term_freq': 3,\n",
       "     'tokens': [{'position': 6, 'start_offset': 20, 'end_offset': 22},\n",
       "      {'position': 19, 'start_offset': 71, 'end_offset': 73},\n",
       "      {'position': 62, 'start_offset': 222, 'end_offset': 224}]},\n",
       "    '삭제가/EOJ': {'term_freq': 1,\n",
       "     'tokens': [{'position': 19, 'start_offset': 71, 'end_offset': 74}]},\n",
       "    '삭제는/EOJ': {'term_freq': 1,\n",
       "     'tokens': [{'position': 62, 'start_offset': 222, 'end_offset': 225}]},\n",
       "    '센터/N': {'term_freq': 1,\n",
       "     'tokens': [{'position': 98, 'start_offset': 342, 'end_offset': 344}]},\n",
       "    '신분/N': {'term_freq': 1,\n",
       "     'tokens': [{'position': 51, 'start_offset': 190, 'end_offset': 192}]},\n",
       "    '신분증/EOJ': {'term_freq': 1,\n",
       "     'tokens': [{'position': 51, 'start_offset': 190, 'end_offset': 193}]},\n",
       "    '신청시/EOJ': {'term_freq': 1,\n",
       "     'tokens': [{'position': 24, 'start_offset': 91, 'end_offset': 94}]},\n",
       "    '신한/N': {'term_freq': 5,\n",
       "     'tokens': [{'position': 13, 'start_offset': 51, 'end_offset': 53},\n",
       "      {'position': 40, 'start_offset': 145, 'end_offset': 147},\n",
       "      {'position': 48, 'start_offset': 176, 'end_offset': 178},\n",
       "      {'position': 80, 'start_offset': 288, 'end_offset': 290},\n",
       "      {'position': 95, 'start_offset': 335, 'end_offset': 337}]},\n",
       "    '신한은행/EOJ': {'term_freq': 1,\n",
       "     'tokens': [{'position': 95, 'start_offset': 335, 'end_offset': 339}]},\n",
       "    '쏠/N': {'term_freq': 4,\n",
       "     'tokens': [{'position': 14, 'start_offset': 53, 'end_offset': 54},\n",
       "      {'position': 41, 'start_offset': 148, 'end_offset': 149},\n",
       "      {'position': 49, 'start_offset': 179, 'end_offset': 180},\n",
       "      {'position': 81, 'start_offset': 291, 'end_offset': 292}]},\n",
       "    '쏠에서/EOJ': {'term_freq': 2,\n",
       "     'tokens': [{'position': 41, 'start_offset': 148, 'end_offset': 152},\n",
       "      {'position': 49, 'start_offset': 179, 'end_offset': 183}]},\n",
       "    '않/V': {'term_freq': 1,\n",
       "     'tokens': [{'position': 46, 'start_offset': 169, 'end_offset': 170}]},\n",
       "    '않은/EOJ': {'term_freq': 1,\n",
       "     'tokens': [{'position': 46, 'start_offset': 169, 'end_offset': 171}]},\n",
       "    '알리/V': {'term_freq': 1,\n",
       "     'tokens': [{'position': 8, 'start_offset': 26, 'end_offset': 28}]},\n",
       "    '없이/M': {'term_freq': 1,\n",
       "     'tokens': [{'position': 66, 'start_offset': 234, 'end_offset': 236}]},\n",
       "    '여부/N': {'term_freq': 1,\n",
       "     'tokens': [{'position': 64, 'start_offset': 228, 'end_offset': 230}]},\n",
       "    '여부와/EOJ': {'term_freq': 1,\n",
       "     'tokens': [{'position': 64, 'start_offset': 228, 'end_offset': 231}]},\n",
       "    '영업/N': {'term_freq': 1,\n",
       "     'tokens': [{'position': 28, 'start_offset': 104, 'end_offset': 106}]},\n",
       "    '은행/N': {'term_freq': 1,\n",
       "     'tokens': [{'position': 96, 'start_offset': 337, 'end_offset': 339}]},\n",
       "    '이체/N': {'term_freq': 2,\n",
       "     'tokens': [{'position': 86, 'start_offset': 307, 'end_offset': 309},\n",
       "      {'position': 87, 'start_offset': 310, 'end_offset': 312}]},\n",
       "    '이후/N': {'term_freq': 1,\n",
       "     'tokens': [{'position': 27, 'start_offset': 100, 'end_offset': 102}]},\n",
       "    '이후에/EOJ': {'term_freq': 1,\n",
       "     'tokens': [{'position': 27, 'start_offset': 100, 'end_offset': 103}]},\n",
       "    '인터넷/N': {'term_freq': 6,\n",
       "     'tokens': [{'position': 1, 'start_offset': 5, 'end_offset': 8},\n",
       "      {'position': 11, 'start_offset': 44, 'end_offset': 47},\n",
       "      {'position': 22, 'start_offset': 85, 'end_offset': 88},\n",
       "      {'position': 32, 'start_offset': 116, 'end_offset': 119},\n",
       "      {'position': 38, 'start_offset': 138, 'end_offset': 141},\n",
       "      {'position': 70, 'start_offset': 254, 'end_offset': 257}]},\n",
       "    '전체/N': {'term_freq': 1,\n",
       "     'tokens': [{'position': 84, 'start_offset': 302, 'end_offset': 304}]},\n",
       "    '점/N': {'term_freq': 1,\n",
       "     'tokens': [{'position': 29, 'start_offset': 106, 'end_offset': 107}]},\n",
       "    '점에서/EOJ': {'term_freq': 1,\n",
       "     'tokens': [{'position': 29, 'start_offset': 106, 'end_offset': 109}]},\n",
       "    '주/V': {'term_freq': 2,\n",
       "     'tokens': [{'position': 9, 'start_offset': 28, 'end_offset': 29},\n",
       "      {'position': 102, 'start_offset': 361, 'end_offset': 362}]},\n",
       "    '주시기/EOJ': {'term_freq': 1,\n",
       "     'tokens': [{'position': 102, 'start_offset': 361, 'end_offset': 364}]},\n",
       "    '증/N': {'term_freq': 1,\n",
       "     'tokens': [{'position': 52, 'start_offset': 192, 'end_offset': 193}]},\n",
       "    '청시/N': {'term_freq': 1,\n",
       "     'tokens': [{'position': 24, 'start_offset': 92, 'end_offset': 94}]},\n",
       "    '추가/N': {'term_freq': 5,\n",
       "     'tokens': [{'position': 5, 'start_offset': 17, 'end_offset': 19},\n",
       "      {'position': 18, 'start_offset': 68, 'end_offset': 70},\n",
       "      {'position': 33, 'start_offset': 119, 'end_offset': 121},\n",
       "      {'position': 42, 'start_offset': 153, 'end_offset': 155},\n",
       "      {'position': 57, 'start_offset': 203, 'end_offset': 205}]},\n",
       "    '출금/N': {'term_freq': 7,\n",
       "     'tokens': [{'position': 3, 'start_offset': 12, 'end_offset': 14},\n",
       "      {'position': 16, 'start_offset': 62, 'end_offset': 64},\n",
       "      {'position': 30, 'start_offset': 111, 'end_offset': 113},\n",
       "      {'position': 55, 'start_offset': 198, 'end_offset': 200},\n",
       "      {'position': 60, 'start_offset': 217, 'end_offset': 219},\n",
       "      {'position': 77, 'start_offset': 278, 'end_offset': 280},\n",
       "      {'position': 89, 'start_offset': 315, 'end_offset': 317}]},\n",
       "    '하/V': {'term_freq': 1,\n",
       "     'tokens': [{'position': 36, 'start_offset': 130, 'end_offset': 131}]},\n",
       "    '하신/EOJ': {'term_freq': 1,\n",
       "     'tokens': [{'position': 36, 'start_offset': 130, 'end_offset': 132}]},\n",
       "    '확인/N': {'term_freq': 1,\n",
       "     'tokens': [{'position': 53, 'start_offset': 194, 'end_offset': 196}]},\n",
       "    '후/N': {'term_freq': 1,\n",
       "     'tokens': [{'position': 54, 'start_offset': 196, 'end_offset': 197}]}}}}}"
      ]
     },
     "execution_count": 308,
     "metadata": {},
     "output_type": "execute_result"
    }
   ],
   "source": [
    "aws_client.termvectors(index=new_index_name, id=doc_id, fields='text')"
   ]
  },
  {
   "cell_type": "markdown",
   "id": "897a3428-2aae-48a8-9484-940c9ce92b55",
   "metadata": {},
   "source": [
    "## Minimum_should_match 활용\n",
    "- An optional parameter of type string that represents the minimum number of matching clauses for a document to be returned. This should only be used with “OR” operator, and is more flexible than a simple “and/or,” since users can set rules depending on the length of the phrase to be matched. \n",
    "    - **query에 있는 단어의 n%이상 존재하는 문서만 가져온다**\n",
    "    - 75% (eg. 3 out of 4 words to be matched, or 6 out of 8)\n",
    "    - 2  (minimum 2 words to be matched, irrespective of length of string)"
   ]
  },
  {
   "cell_type": "markdown",
   "id": "03126278-080c-489c-bd7e-b0520becc5eb",
   "metadata": {},
   "source": [
    "min_shoud_match를 0, 25, 50, 75로 변경해 보자\n",
    " - 숫자가 작아질 수록 검색 문서가 많아진다\n",
    " - 추가정보는 아래를 참고\n",
    "     - [OpenSearch Match, Multi-Match, and Match Phrase Queries](https://opster.com/guides/opensearch/opensearch-search-apis/opensearch-match-multi-match-and-match-phrase-queries/)\n",
    "     - OpenSearch Query 에서 Filter, Must, Should, Not Mush 에 대한 설명 입니다.\n",
    "         - [OpenSearch Boolean Queries](https://opster.com/guides/opensearch/opensearch-search-apis/opensearch-boolean-queries/#:~:text=Boolean%20queries%20are%20used%20to,as%20terms%2C%20match%20and%20query_string.)"
   ]
  },
  {
   "cell_type": "code",
   "execution_count": 309,
   "id": "d0c01d4b-bfb2-4299-b09d-6eb426a11af0",
   "metadata": {
    "tags": []
   },
   "outputs": [
    {
     "name": "stdout",
     "output_type": "stream",
     "text": [
      "query:  {'query': {'match': {'text': {'query': '인터넷 뱅킹으로 예적금 해약', 'minimum_should_match': '25%'}}}}\n",
      "\n",
      "Search results:\n",
      "# of searched docs:  5\n",
      "# of display: 3\n",
      "---------------------\n",
      "_id in index:  aa13b799-cddb-49cd-9eed-4b0e67556e7d\n",
      "6.987998\n",
      "ask: 인터넷 예적금 해약하려면 어떻게 해야 하나요?\n",
      "Information: 인터넷에서 신규하셨고, 이후 통장발급을 받지 않으셨다면 인터넷뱅킹(http://bank.shinhan.com)의 금융상품 예금/신탁 해지 메뉴를 통해 해지하실 수 있습니다.\n",
      "---------------------\n",
      "_id in index:  bbbed8b1-c010-4783-b342-eafef6d3da74\n",
      "3.9508982\n",
      "ask: 미래를함께하는따뜻한금융 안전한금융거래를위해준비중입니다.' 화면에서 멈춤 / 로딩중 멈추는데 어떻게 하나요?\n",
      "Information: 오류 사유는 인터넷 익스플로러 설정값의 영향이거나 이용하시는 장소의 네트워크 영향에 의해 로딩이 원활하지 않은 경우입니다. \n",
      "조치방법은 \n",
      "1. 임시 인터넷 파일 및 쿠키 삭제, 신뢰할 수 있는 사이트 추가 \n",
      " 인터넷 익스플로러 상단의 [도구] > [인터넷옵션]에서\n",
      "① [일반Tab] > 검색기록항목의 [삭제] 버튼 클릭 \"임시 인터넷 파일 및 사이트 파일\" , \"쿠키 및 웹사이트 데이터\" 항목만 체크하고 [삭제] \n",
      "② [보안Tab] > 신뢰할 수 있는 사이트 > [사이트] 클릭하여 [ https://*.shinhan.com ] 추가 후 적용 및 확인하십시오. \n",
      " 또는, 당행 보안프로그램 삭제 열려있는 브라우저 종료 후, 시작 > 제어판의 [프로그램 추가/제거] (총 4개이며 보이지 않으면 제거할 필요없음) \n",
      "- AhnLab Safe Transaction, \n",
      " - iniLINE CrossEX Service, \n",
      "- INISAFE CrossWeb EX v3.0, \n",
      "- TouchEn nxKey with E2E for 32bit\n",
      "3. 새 브라우저 열어서 개인인터넷뱅킹 재접속 후 [통합설치] 진행 하세요. \n",
      "기타 궁금하신 내용은 신한은행 고객센터 1599-8000로 문의하여 주시기 바랍니다.\n",
      "---------------------\n",
      "_id in index:  06de6553-7bc7-45c8-ac5c-2930b58743b4\n",
      "3.470943\n",
      "ask: MS 인터넷 익스플로러 환경에서의 피해방지를 위한 안내 해줘.\n",
      "Information: 마이크로소프트의 인터넷 익스플로러 브라우저에서 신규 취약점이 발견됨에 따라 신한온라인서비스 이용고객의 피해를 예방하기 위해 Windows 자동 업데이트 사용을 권장합니다.\n",
      "Windows의 자동 업데이트 기능에 대한 설명 및 설정은 Microsoft 고객지원 페이지를 참조하시기 바랍니다.\n",
      "---------------------\n"
     ]
    }
   ],
   "source": [
    "q = \"인터넷 뱅킹으로 예적금 해약\"\n",
    "response = run_keyword_query(q, aws_client, index_name, min_shoud_match=25)\n",
    "parse_keyword_response(response, show_size=3)"
   ]
  },
  {
   "cell_type": "code",
   "execution_count": null,
   "id": "05744275-f911-4f5e-bb80-0a85346f958e",
   "metadata": {},
   "outputs": [],
   "source": []
  },
  {
   "cell_type": "markdown",
   "id": "8be2605d-4e07-4163-808e-9315777215b8",
   "metadata": {},
   "source": [
    "## index example (참고용)"
   ]
  },
  {
   "cell_type": "code",
   "execution_count": 259,
   "id": "e031809c-75e9-4f0d-a430-ae983fed1c80",
   "metadata": {
    "tags": []
   },
   "outputs": [],
   "source": [
    "index_info = {\n",
    "    \"settings\": {\n",
    "        \"index\": {\n",
    "            \"number_of_shards\": \"5\",\n",
    "            \"knn.algo_param\": {\"ef_search\": \"512\"},\n",
    "            \"knn\": \"true\",\n",
    "            \"number_of_replicas\": \"2\"\n",
    "        },\n",
    "        \"analysis\": {\n",
    "            \"tokenizer\": {\n",
    "                \"seunjeon\": {\n",
    "                    \"type\": \"seunjeon_tokenizer\"\n",
    "                }\n",
    "            },\n",
    "            \"analyzer\": {\n",
    "                \"my_analyzer\": {\n",
    "                    \"type\": \"custom\",\n",
    "                    \"tokenizer\": \"seunjeon\"\n",
    "                }\n",
    "            }\n",
    "        }\n",
    "    },\n",
    "    \"mappings\": {\n",
    "        \"properties\": {\n",
    "            \"metadata\": {\n",
    "                \"properties\": {\n",
    "                    \"row\": {\"type\": \"long\"},\n",
    "                    \"source\": {\n",
    "                        \"type\": \"text\",\n",
    "                        \"fields\": {\n",
    "                            \"keyword\": {\n",
    "                                \"type\": \"keyword\",\n",
    "                                \"ignore_above\": 256\n",
    "                            }\n",
    "                        }\n",
    "                    },\n",
    "                    \"timestamp\": {\"type\": \"float\"},\n",
    "                    \"type\": {\n",
    "                        \"type\": \"text\",\n",
    "                        \"fields\": {\n",
    "                            \"keyword\": {\n",
    "                                \"type\": \"keyword\",\n",
    "                                \"ignore_above\": 256\n",
    "                            }\n",
    "                        }\n",
    "                    }\n",
    "                }\n",
    "            },\n",
    "            \"text\": {\n",
    "                \"type\": \"text\",\n",
    "                \"analyzer\": \"my_analyzer\",\n",
    "                \"search_analyzer\": \"my_analyzer\",\n",
    "                \"fields\": {\n",
    "                    \"keyword\": {\n",
    "                        \"type\": \"keyword\",\n",
    "                        \"ignore_above\": 256\n",
    "                    }\n",
    "                }\n",
    "            },\n",
    "            \"vector_field\": {\n",
    "                \"type\": \"knn_vector\",\n",
    "                \"dimension\": 1536,\n",
    "                \"method\": {\n",
    "                    \"engine\": \"nmslib\",\n",
    "                    \"space_type\": \"l2\",\n",
    "                    \"name\": \"hnsw\",\n",
    "                    \"parameters\": {\n",
    "                        \"ef_construction\": 512,\n",
    "                        \"m\": 16\n",
    "                    }\n",
    "                }\n",
    "            }\n",
    "        }\n",
    "    }\n",
    "}"
   ]
  },
  {
   "cell_type": "code",
   "execution_count": null,
   "id": "17242056-5ccd-4571-9053-78b534153771",
   "metadata": {},
   "outputs": [],
   "source": []
  }
 ],
 "metadata": {
  "availableInstances": [
   {
    "_defaultOrder": 0,
    "_isFastLaunch": true,
    "category": "General purpose",
    "gpuNum": 0,
    "hideHardwareSpecs": false,
    "memoryGiB": 4,
    "name": "ml.t3.medium",
    "vcpuNum": 2
   },
   {
    "_defaultOrder": 1,
    "_isFastLaunch": false,
    "category": "General purpose",
    "gpuNum": 0,
    "hideHardwareSpecs": false,
    "memoryGiB": 8,
    "name": "ml.t3.large",
    "vcpuNum": 2
   },
   {
    "_defaultOrder": 2,
    "_isFastLaunch": false,
    "category": "General purpose",
    "gpuNum": 0,
    "hideHardwareSpecs": false,
    "memoryGiB": 16,
    "name": "ml.t3.xlarge",
    "vcpuNum": 4
   },
   {
    "_defaultOrder": 3,
    "_isFastLaunch": false,
    "category": "General purpose",
    "gpuNum": 0,
    "hideHardwareSpecs": false,
    "memoryGiB": 32,
    "name": "ml.t3.2xlarge",
    "vcpuNum": 8
   },
   {
    "_defaultOrder": 4,
    "_isFastLaunch": true,
    "category": "General purpose",
    "gpuNum": 0,
    "hideHardwareSpecs": false,
    "memoryGiB": 8,
    "name": "ml.m5.large",
    "vcpuNum": 2
   },
   {
    "_defaultOrder": 5,
    "_isFastLaunch": false,
    "category": "General purpose",
    "gpuNum": 0,
    "hideHardwareSpecs": false,
    "memoryGiB": 16,
    "name": "ml.m5.xlarge",
    "vcpuNum": 4
   },
   {
    "_defaultOrder": 6,
    "_isFastLaunch": false,
    "category": "General purpose",
    "gpuNum": 0,
    "hideHardwareSpecs": false,
    "memoryGiB": 32,
    "name": "ml.m5.2xlarge",
    "vcpuNum": 8
   },
   {
    "_defaultOrder": 7,
    "_isFastLaunch": false,
    "category": "General purpose",
    "gpuNum": 0,
    "hideHardwareSpecs": false,
    "memoryGiB": 64,
    "name": "ml.m5.4xlarge",
    "vcpuNum": 16
   },
   {
    "_defaultOrder": 8,
    "_isFastLaunch": false,
    "category": "General purpose",
    "gpuNum": 0,
    "hideHardwareSpecs": false,
    "memoryGiB": 128,
    "name": "ml.m5.8xlarge",
    "vcpuNum": 32
   },
   {
    "_defaultOrder": 9,
    "_isFastLaunch": false,
    "category": "General purpose",
    "gpuNum": 0,
    "hideHardwareSpecs": false,
    "memoryGiB": 192,
    "name": "ml.m5.12xlarge",
    "vcpuNum": 48
   },
   {
    "_defaultOrder": 10,
    "_isFastLaunch": false,
    "category": "General purpose",
    "gpuNum": 0,
    "hideHardwareSpecs": false,
    "memoryGiB": 256,
    "name": "ml.m5.16xlarge",
    "vcpuNum": 64
   },
   {
    "_defaultOrder": 11,
    "_isFastLaunch": false,
    "category": "General purpose",
    "gpuNum": 0,
    "hideHardwareSpecs": false,
    "memoryGiB": 384,
    "name": "ml.m5.24xlarge",
    "vcpuNum": 96
   },
   {
    "_defaultOrder": 12,
    "_isFastLaunch": false,
    "category": "General purpose",
    "gpuNum": 0,
    "hideHardwareSpecs": false,
    "memoryGiB": 8,
    "name": "ml.m5d.large",
    "vcpuNum": 2
   },
   {
    "_defaultOrder": 13,
    "_isFastLaunch": false,
    "category": "General purpose",
    "gpuNum": 0,
    "hideHardwareSpecs": false,
    "memoryGiB": 16,
    "name": "ml.m5d.xlarge",
    "vcpuNum": 4
   },
   {
    "_defaultOrder": 14,
    "_isFastLaunch": false,
    "category": "General purpose",
    "gpuNum": 0,
    "hideHardwareSpecs": false,
    "memoryGiB": 32,
    "name": "ml.m5d.2xlarge",
    "vcpuNum": 8
   },
   {
    "_defaultOrder": 15,
    "_isFastLaunch": false,
    "category": "General purpose",
    "gpuNum": 0,
    "hideHardwareSpecs": false,
    "memoryGiB": 64,
    "name": "ml.m5d.4xlarge",
    "vcpuNum": 16
   },
   {
    "_defaultOrder": 16,
    "_isFastLaunch": false,
    "category": "General purpose",
    "gpuNum": 0,
    "hideHardwareSpecs": false,
    "memoryGiB": 128,
    "name": "ml.m5d.8xlarge",
    "vcpuNum": 32
   },
   {
    "_defaultOrder": 17,
    "_isFastLaunch": false,
    "category": "General purpose",
    "gpuNum": 0,
    "hideHardwareSpecs": false,
    "memoryGiB": 192,
    "name": "ml.m5d.12xlarge",
    "vcpuNum": 48
   },
   {
    "_defaultOrder": 18,
    "_isFastLaunch": false,
    "category": "General purpose",
    "gpuNum": 0,
    "hideHardwareSpecs": false,
    "memoryGiB": 256,
    "name": "ml.m5d.16xlarge",
    "vcpuNum": 64
   },
   {
    "_defaultOrder": 19,
    "_isFastLaunch": false,
    "category": "General purpose",
    "gpuNum": 0,
    "hideHardwareSpecs": false,
    "memoryGiB": 384,
    "name": "ml.m5d.24xlarge",
    "vcpuNum": 96
   },
   {
    "_defaultOrder": 20,
    "_isFastLaunch": false,
    "category": "General purpose",
    "gpuNum": 0,
    "hideHardwareSpecs": true,
    "memoryGiB": 0,
    "name": "ml.geospatial.interactive",
    "supportedImageNames": [
     "sagemaker-geospatial-v1-0"
    ],
    "vcpuNum": 0
   },
   {
    "_defaultOrder": 21,
    "_isFastLaunch": true,
    "category": "Compute optimized",
    "gpuNum": 0,
    "hideHardwareSpecs": false,
    "memoryGiB": 4,
    "name": "ml.c5.large",
    "vcpuNum": 2
   },
   {
    "_defaultOrder": 22,
    "_isFastLaunch": false,
    "category": "Compute optimized",
    "gpuNum": 0,
    "hideHardwareSpecs": false,
    "memoryGiB": 8,
    "name": "ml.c5.xlarge",
    "vcpuNum": 4
   },
   {
    "_defaultOrder": 23,
    "_isFastLaunch": false,
    "category": "Compute optimized",
    "gpuNum": 0,
    "hideHardwareSpecs": false,
    "memoryGiB": 16,
    "name": "ml.c5.2xlarge",
    "vcpuNum": 8
   },
   {
    "_defaultOrder": 24,
    "_isFastLaunch": false,
    "category": "Compute optimized",
    "gpuNum": 0,
    "hideHardwareSpecs": false,
    "memoryGiB": 32,
    "name": "ml.c5.4xlarge",
    "vcpuNum": 16
   },
   {
    "_defaultOrder": 25,
    "_isFastLaunch": false,
    "category": "Compute optimized",
    "gpuNum": 0,
    "hideHardwareSpecs": false,
    "memoryGiB": 72,
    "name": "ml.c5.9xlarge",
    "vcpuNum": 36
   },
   {
    "_defaultOrder": 26,
    "_isFastLaunch": false,
    "category": "Compute optimized",
    "gpuNum": 0,
    "hideHardwareSpecs": false,
    "memoryGiB": 96,
    "name": "ml.c5.12xlarge",
    "vcpuNum": 48
   },
   {
    "_defaultOrder": 27,
    "_isFastLaunch": false,
    "category": "Compute optimized",
    "gpuNum": 0,
    "hideHardwareSpecs": false,
    "memoryGiB": 144,
    "name": "ml.c5.18xlarge",
    "vcpuNum": 72
   },
   {
    "_defaultOrder": 28,
    "_isFastLaunch": false,
    "category": "Compute optimized",
    "gpuNum": 0,
    "hideHardwareSpecs": false,
    "memoryGiB": 192,
    "name": "ml.c5.24xlarge",
    "vcpuNum": 96
   },
   {
    "_defaultOrder": 29,
    "_isFastLaunch": true,
    "category": "Accelerated computing",
    "gpuNum": 1,
    "hideHardwareSpecs": false,
    "memoryGiB": 16,
    "name": "ml.g4dn.xlarge",
    "vcpuNum": 4
   },
   {
    "_defaultOrder": 30,
    "_isFastLaunch": false,
    "category": "Accelerated computing",
    "gpuNum": 1,
    "hideHardwareSpecs": false,
    "memoryGiB": 32,
    "name": "ml.g4dn.2xlarge",
    "vcpuNum": 8
   },
   {
    "_defaultOrder": 31,
    "_isFastLaunch": false,
    "category": "Accelerated computing",
    "gpuNum": 1,
    "hideHardwareSpecs": false,
    "memoryGiB": 64,
    "name": "ml.g4dn.4xlarge",
    "vcpuNum": 16
   },
   {
    "_defaultOrder": 32,
    "_isFastLaunch": false,
    "category": "Accelerated computing",
    "gpuNum": 1,
    "hideHardwareSpecs": false,
    "memoryGiB": 128,
    "name": "ml.g4dn.8xlarge",
    "vcpuNum": 32
   },
   {
    "_defaultOrder": 33,
    "_isFastLaunch": false,
    "category": "Accelerated computing",
    "gpuNum": 4,
    "hideHardwareSpecs": false,
    "memoryGiB": 192,
    "name": "ml.g4dn.12xlarge",
    "vcpuNum": 48
   },
   {
    "_defaultOrder": 34,
    "_isFastLaunch": false,
    "category": "Accelerated computing",
    "gpuNum": 1,
    "hideHardwareSpecs": false,
    "memoryGiB": 256,
    "name": "ml.g4dn.16xlarge",
    "vcpuNum": 64
   },
   {
    "_defaultOrder": 35,
    "_isFastLaunch": false,
    "category": "Accelerated computing",
    "gpuNum": 1,
    "hideHardwareSpecs": false,
    "memoryGiB": 61,
    "name": "ml.p3.2xlarge",
    "vcpuNum": 8
   },
   {
    "_defaultOrder": 36,
    "_isFastLaunch": false,
    "category": "Accelerated computing",
    "gpuNum": 4,
    "hideHardwareSpecs": false,
    "memoryGiB": 244,
    "name": "ml.p3.8xlarge",
    "vcpuNum": 32
   },
   {
    "_defaultOrder": 37,
    "_isFastLaunch": false,
    "category": "Accelerated computing",
    "gpuNum": 8,
    "hideHardwareSpecs": false,
    "memoryGiB": 488,
    "name": "ml.p3.16xlarge",
    "vcpuNum": 64
   },
   {
    "_defaultOrder": 38,
    "_isFastLaunch": false,
    "category": "Accelerated computing",
    "gpuNum": 8,
    "hideHardwareSpecs": false,
    "memoryGiB": 768,
    "name": "ml.p3dn.24xlarge",
    "vcpuNum": 96
   },
   {
    "_defaultOrder": 39,
    "_isFastLaunch": false,
    "category": "Memory Optimized",
    "gpuNum": 0,
    "hideHardwareSpecs": false,
    "memoryGiB": 16,
    "name": "ml.r5.large",
    "vcpuNum": 2
   },
   {
    "_defaultOrder": 40,
    "_isFastLaunch": false,
    "category": "Memory Optimized",
    "gpuNum": 0,
    "hideHardwareSpecs": false,
    "memoryGiB": 32,
    "name": "ml.r5.xlarge",
    "vcpuNum": 4
   },
   {
    "_defaultOrder": 41,
    "_isFastLaunch": false,
    "category": "Memory Optimized",
    "gpuNum": 0,
    "hideHardwareSpecs": false,
    "memoryGiB": 64,
    "name": "ml.r5.2xlarge",
    "vcpuNum": 8
   },
   {
    "_defaultOrder": 42,
    "_isFastLaunch": false,
    "category": "Memory Optimized",
    "gpuNum": 0,
    "hideHardwareSpecs": false,
    "memoryGiB": 128,
    "name": "ml.r5.4xlarge",
    "vcpuNum": 16
   },
   {
    "_defaultOrder": 43,
    "_isFastLaunch": false,
    "category": "Memory Optimized",
    "gpuNum": 0,
    "hideHardwareSpecs": false,
    "memoryGiB": 256,
    "name": "ml.r5.8xlarge",
    "vcpuNum": 32
   },
   {
    "_defaultOrder": 44,
    "_isFastLaunch": false,
    "category": "Memory Optimized",
    "gpuNum": 0,
    "hideHardwareSpecs": false,
    "memoryGiB": 384,
    "name": "ml.r5.12xlarge",
    "vcpuNum": 48
   },
   {
    "_defaultOrder": 45,
    "_isFastLaunch": false,
    "category": "Memory Optimized",
    "gpuNum": 0,
    "hideHardwareSpecs": false,
    "memoryGiB": 512,
    "name": "ml.r5.16xlarge",
    "vcpuNum": 64
   },
   {
    "_defaultOrder": 46,
    "_isFastLaunch": false,
    "category": "Memory Optimized",
    "gpuNum": 0,
    "hideHardwareSpecs": false,
    "memoryGiB": 768,
    "name": "ml.r5.24xlarge",
    "vcpuNum": 96
   },
   {
    "_defaultOrder": 47,
    "_isFastLaunch": false,
    "category": "Accelerated computing",
    "gpuNum": 1,
    "hideHardwareSpecs": false,
    "memoryGiB": 16,
    "name": "ml.g5.xlarge",
    "vcpuNum": 4
   },
   {
    "_defaultOrder": 48,
    "_isFastLaunch": false,
    "category": "Accelerated computing",
    "gpuNum": 1,
    "hideHardwareSpecs": false,
    "memoryGiB": 32,
    "name": "ml.g5.2xlarge",
    "vcpuNum": 8
   },
   {
    "_defaultOrder": 49,
    "_isFastLaunch": false,
    "category": "Accelerated computing",
    "gpuNum": 1,
    "hideHardwareSpecs": false,
    "memoryGiB": 64,
    "name": "ml.g5.4xlarge",
    "vcpuNum": 16
   },
   {
    "_defaultOrder": 50,
    "_isFastLaunch": false,
    "category": "Accelerated computing",
    "gpuNum": 1,
    "hideHardwareSpecs": false,
    "memoryGiB": 128,
    "name": "ml.g5.8xlarge",
    "vcpuNum": 32
   },
   {
    "_defaultOrder": 51,
    "_isFastLaunch": false,
    "category": "Accelerated computing",
    "gpuNum": 1,
    "hideHardwareSpecs": false,
    "memoryGiB": 256,
    "name": "ml.g5.16xlarge",
    "vcpuNum": 64
   },
   {
    "_defaultOrder": 52,
    "_isFastLaunch": false,
    "category": "Accelerated computing",
    "gpuNum": 4,
    "hideHardwareSpecs": false,
    "memoryGiB": 192,
    "name": "ml.g5.12xlarge",
    "vcpuNum": 48
   },
   {
    "_defaultOrder": 53,
    "_isFastLaunch": false,
    "category": "Accelerated computing",
    "gpuNum": 4,
    "hideHardwareSpecs": false,
    "memoryGiB": 384,
    "name": "ml.g5.24xlarge",
    "vcpuNum": 96
   },
   {
    "_defaultOrder": 54,
    "_isFastLaunch": false,
    "category": "Accelerated computing",
    "gpuNum": 8,
    "hideHardwareSpecs": false,
    "memoryGiB": 768,
    "name": "ml.g5.48xlarge",
    "vcpuNum": 192
   },
   {
    "_defaultOrder": 55,
    "_isFastLaunch": false,
    "category": "Accelerated computing",
    "gpuNum": 8,
    "hideHardwareSpecs": false,
    "memoryGiB": 1152,
    "name": "ml.p4d.24xlarge",
    "vcpuNum": 96
   },
   {
    "_defaultOrder": 56,
    "_isFastLaunch": false,
    "category": "Accelerated computing",
    "gpuNum": 8,
    "hideHardwareSpecs": false,
    "memoryGiB": 1152,
    "name": "ml.p4de.24xlarge",
    "vcpuNum": 96
   }
  ],
  "instance_type": "ml.m5.large",
  "kernelspec": {
   "display_name": "Python 3 (Data Science 3.0)",
   "language": "python",
   "name": "python3__SAGEMAKER_INTERNAL__arn:aws:sagemaker:us-east-1:081325390199:image/sagemaker-data-science-310-v1"
  },
  "language_info": {
   "codemirror_mode": {
    "name": "ipython",
    "version": 3
   },
   "file_extension": ".py",
   "mimetype": "text/x-python",
   "name": "python",
   "nbconvert_exporter": "python",
   "pygments_lexer": "ipython3",
   "version": "3.10.6"
  }
 },
 "nbformat": 4,
 "nbformat_minor": 5
}
