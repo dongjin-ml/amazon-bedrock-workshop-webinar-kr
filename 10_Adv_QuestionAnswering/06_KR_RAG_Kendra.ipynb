{
 "cells": [
  {
   "cell_type": "markdown",
   "id": "66d8ea21-3477-4e3d-ad9e-0944aa956a13",
   "metadata": {
    "tags": []
   },
   "source": [
    "# OpenSearch Hybrid 검색을 통한 RAG\n",
    "> 이 노트북은  SageMaker Studio* **`Data Science 3.0`** kernel 및 ml.t3.medium 인스턴스에서 테스트 되었습니다.\n",
    "---\n",
    "### 중요\n",
    "- 이 노트북은 Anthropic 의 Claude-v2 모델 접근 가능한 분만 실행 가능합니다. \n",
    "- 접근이 안되시는 분은 노트북의 코드와 결과 만을 확인 하시면 좋겠습니다.\n",
    "- 만일 실행시에는 **\"과금\"** 이 발생이 되는 부분 유념 해주시기 바랍니다.\n",
    "\n",
    "### 선수조건\n",
    "- 이 노트북은 이전 노트북인 \"02_KR_RAG_OpenSearch_Claude.ipynb\" 이 완료 되었다고 가정 합니다.\n",
    "    - 오픈서치 인텍스 관련 정보를 참조 합니다.\n"
   ]
  },
  {
   "cell_type": "markdown",
   "id": "8c44d5e2-9a9b-442d-837b-9f11a04abc83",
   "metadata": {},
   "source": [
    "### 설정\n",
    "\n",
    "이 노트북의 나머지 부분을 실행하기 전에 아래 셀을 실행하여 (필요한 라이브러리가 설치되어 있는지 확인하고) Bedrock에 연결해야 합니다.\n",
    "\n"
   ]
  },
  {
   "cell_type": "code",
   "execution_count": 2,
   "id": "1f02e5a4-7de5-4eb2-abb2-37e2c4036295",
   "metadata": {
    "tags": []
   },
   "outputs": [],
   "source": [
    "%load_ext autoreload\n",
    "%autoreload 2\n",
    "\n",
    "import sys, os\n",
    "module_path = \"..\"\n",
    "sys.path.append(os.path.abspath(module_path))"
   ]
  },
  {
   "cell_type": "markdown",
   "id": "7ffeb0e6-b8ce-4fc0-8371-cad833146d66",
   "metadata": {
    "tags": []
   },
   "source": [
    "# 1. Bedrock Client 생성"
   ]
  },
  {
   "cell_type": "code",
   "execution_count": 3,
   "id": "33e8e72e-d6bc-4a0a-b7f5-99abfd674a3c",
   "metadata": {
    "tags": []
   },
   "outputs": [
    {
     "name": "stdout",
     "output_type": "stream",
     "text": [
      "Create new client\n",
      "  Using region: us-east-1\n",
      "  Using profile: bedrock_claude\n",
      "  Using profile: bedrock_claude\n",
      "boto3 Bedrock client successfully created!\n",
      "bedrock(https://bedrock.us-east-1.amazonaws.com)\n"
     ]
    }
   ],
   "source": [
    "import json\n",
    "import boto3\n",
    "\n",
    "from utils import bedrock, print_ww\n",
    "\n",
    "\n",
    "# ---- ⚠️ Un-comment and edit the below lines as needed for your AWS setup ⚠️ ----\n",
    "\n",
    "# os.environ[\"AWS_DEFAULT_REGION\"] = \"<REGION_NAME>\"  # E.g. \"us-east-1\"\n",
    "# os.environ[\"AWS_PROFILE\"] = \"<YOUR_PROFILE>\"\n",
    "# os.environ[\"BEDROCK_ASSUME_ROLE\"] = \"<YOUR_ROLE_ARN>\"  # E.g. \"arn:aws:...\"\n",
    "# os.environ[\"BEDROCK_ENDPOINT_URL\"] = \"<YOUR_ENDPOINT_URL>\"  # E.g. \"https://...\"\n",
    "\n",
    "os.environ[\"AWS_PROFILE\"] = \"bedrock_claude\"\n",
    "\n",
    "boto3_bedrock = bedrock.get_bedrock_client(\n",
    "    assumed_role=os.environ.get(\"BEDROCK_ASSUME_ROLE\", None),\n",
    "    endpoint_url=os.environ.get(\"BEDROCK_ENDPOINT_URL\", None),\n",
    "    region=os.environ.get(\"AWS_DEFAULT_REGION\", None),\n",
    ")"
   ]
  },
  {
   "cell_type": "markdown",
   "id": "d1d9f671-0306-4960-b532-25647ce64d97",
   "metadata": {},
   "source": [
    "# 2. Amazon Kendra 및 LLM 인 Claude-v2 모델 로딩"
   ]
  },
  {
   "cell_type": "markdown",
   "id": "6171f58d-fc04-408b-9ca5-e25e0f916929",
   "metadata": {},
   "source": [
    "## LLM 로딩 (Claude-v2)"
   ]
  },
  {
   "cell_type": "code",
   "execution_count": 4,
   "id": "1a6afc9a-0502-40cd-be9e-7b3151f3ad71",
   "metadata": {
    "tags": []
   },
   "outputs": [
    {
     "data": {
      "text/plain": [
       "Bedrock(client=<botocore.client.Bedrock object at 0x7f1fa1c88a00>, region_name=None, credentials_profile_name=None, model_id='anthropic.claude-v2', model_kwargs={'max_tokens_to_sample': 512}, endpoint_url=None, cache=None, verbose=False, callbacks=None, callback_manager=None, tags=None, metadata=None)"
      ]
     },
     "execution_count": 4,
     "metadata": {},
     "output_type": "execute_result"
    }
   ],
   "source": [
    "from langchain.llms.bedrock import Bedrock\n",
    "\n",
    "# - create the Anthropic Model\n",
    "llm_text = Bedrock(\n",
    "    model_id=\"anthropic.claude-v2\",\n",
    "    client=boto3_bedrock,\n",
    "    model_kwargs={\n",
    "        'max_tokens_to_sample':512\n",
    "    }\n",
    ")\n",
    "llm_text"
   ]
  },
  {
   "cell_type": "markdown",
   "id": "dca0867f-4a42-49b3-9801-d169bb176918",
   "metadata": {},
   "source": [
    "## Embedding 모델 선택 (Kendra)"
   ]
  },
  {
   "cell_type": "markdown",
   "id": "36aaec6a-6a3e-4dbe-aa42-2c7f88ac27b1",
   "metadata": {},
   "source": [
    "## 선수 조건\n",
    "- Kendra indexing이 되어 있어야 합니다"
   ]
  },
  {
   "cell_type": "code",
   "execution_count": 16,
   "id": "19277289-b417-467a-bfdf-9c710cc7f0ba",
   "metadata": {
    "tags": []
   },
   "outputs": [],
   "source": [
    "\n",
    "# from utils.rag import KoSimCSERobertaContentHandler, SagemakerEndpointEmbeddingsJumpStart\n",
    "\n",
    "# def get_embedding_model(is_bedrock_embeddings, is_KoSimCSERobert, is_kendra, aws_region, endpont_name=None, kendra_index_id=None):\n",
    "#     if is_bedrock_embeddings:\n",
    "\n",
    "#         # We will be using the Titan Embeddings Model to generate our Embeddings.\n",
    "#         from langchain.embeddings import BedrockEmbeddings\n",
    "#         llm_emb = BedrockEmbeddings(\n",
    "#           client=boto3_bedrock,\n",
    "#           model_id = \"amazon.titan-embed-g1-text-02\" # amazon.titan-e1t-medium, amazon.titan-embed-g1-text-02\n",
    "#         )        \n",
    "\n",
    "#         print(\"Bedrock Embeddings Model Loaded\")\n",
    "#     elif is_KoSimCSERobert:\n",
    "#         LLMEmbHandler = KoSimCSERobertaContentHandler()\n",
    "#         endpoint_name_emb = endpont_name\n",
    "#         llm_emb = SagemakerEndpointEmbeddingsJumpStart(\n",
    "#             endpoint_name=endpoint_name_emb,\n",
    "#             region_name=aws_region,\n",
    "#             content_handler=LLMEmbHandler,\n",
    "#         )        \n",
    "#         print(\"KoSimCSERobert Embeddings Model Loaded\")\n",
    "#     elif is_kendra:\n",
    "        \n",
    "#         llm_emb = AmazonKendraRetriever(\n",
    "#             index_id=kendra_index_id,\n",
    "#             region_name=aws_region,\n",
    "#             top_k=3,\n",
    "#             attribute_filter = {\n",
    "#                 \"EqualsTo\": {      \n",
    "#                     \"Key\": \"_language_code\",\n",
    "#                     \"Value\": {\n",
    "#                         \"StringValue\": \"ko\"\n",
    "#                     }\n",
    "#                 }\n",
    "#             }\n",
    "#           )\n",
    "#         print(\"Kendra Loaded\")\n",
    "#     else:\n",
    "#         llm_emb = None\n",
    "#         print(\"No Embedding Model Selected\")\n",
    "    \n",
    "#     return llm_emb"
   ]
  },
  {
   "cell_type": "markdown",
   "id": "456492cc-edee-4ad9-ac14-bee9f24109f6",
   "metadata": {},
   "source": [
    "#### [중요] is_KoSimCSERobert == True 일시에 endpoint_name 을 꼭 넣어 주세요.\n",
    "#### [중요] is_kendra == True 일시에 kendra_index_id 을 꼭 넣어 주세요."
   ]
  },
  {
   "cell_type": "code",
   "execution_count": 26,
   "id": "548af020-92ad-48d2-bf2d-773e3fb98398",
   "metadata": {
    "tags": []
   },
   "outputs": [],
   "source": [
    "# is_bedrock_embeddings = False\n",
    "# is_KoSimCSERobert = False\n",
    "# is_kendra = True\n",
    "\n",
    "aws_region = os.environ.get(\"AWS_DEFAULT_REGION\", None)\n",
    "\n",
    "##############################\n",
    "# Parameters for is_KoSimCSERobert\n",
    "##############################\n",
    "#endpont_name = \"KoSimCSE-roberta-2023-09-01-14-34-11\"\n",
    "\n",
    "##############################\n",
    "# Parameters for is_kendra\n",
    "##############################\n",
    "kendra_index_id = \"078c5b9e-9062-48c1-bdb8-02b43b3da2fd\"\n",
    "\n",
    "##############################\n",
    "\n",
    "# llm_emb = get_embedding_model(\n",
    "#     is_bedrock_embeddings,\n",
    "#     is_KoSimCSERobert,\n",
    "#     is_kendra,\n",
    "#     aws_region,\n",
    "#     kendra_index_id=kendra_index_id\n",
    "# )    "
   ]
  },
  {
   "cell_type": "markdown",
   "id": "e33dd908-116d-4726-bd40-b473216f169c",
   "metadata": {},
   "source": [
    "## 오픈 서치 도메인 및 인증 정보 세팅\n",
    "\n",
    "- [langchain.vectorstores.opensearch_vector_search.OpenSearchVectorSearch](https://api.python.langchain.com/en/latest/vectorstores/langchain.vectorstores.opensearch_vector_search.OpenSearchVectorSearch.html)"
   ]
  },
  {
   "cell_type": "markdown",
   "id": "210ef70c-6299-4cb5-9e64-3a4349af5701",
   "metadata": {},
   "source": [
    "#### [중요] 아래에 OpenSearch ID/PW 를 입력을 해주세요."
   ]
  },
  {
   "cell_type": "code",
   "execution_count": 18,
   "id": "f139e11d-bb91-488d-a119-344d200d3658",
   "metadata": {
    "tags": []
   },
   "outputs": [],
   "source": [
    "\n",
    "os.environ[\"OpenSearch_UserName\"] = \"Type ID\" \n",
    "os.environ[\"OpenSearch_UserPassword\"] = \"Type PW\" \n",
    "\n",
    "\n",
    "rag_user_name = os.environ[\"OpenSearch_UserName\"]\n",
    "rag_user_password = os.environ[\"OpenSearch_UserPassword\"]\n"
   ]
  },
  {
   "cell_type": "code",
   "execution_count": 19,
   "id": "5600464b-0e54-4e4b-be13-12fdcecee02c",
   "metadata": {
    "tags": []
   },
   "outputs": [],
   "source": [
    "# OpenSearch Dashboards URL = https://search-gonsoo-jeiuxgzz4322ulsrbokvnqispu.us-east-1.es.amazonaws.com/_dashboards\n",
    "opensearch_domain_endpoint = \"https://search-gonsoo-jeiuxgzz4322ulsrbokvnqispu.us-east-1.es.amazonaws.com\"\n",
    "http_auth = (rag_user_name, rag_user_password) # Master username, Master password\n",
    "\n",
    "index_name = \"fsi-v10\"\n"
   ]
  },
  {
   "cell_type": "markdown",
   "id": "739c0cbc-547a-4f1c-80a2-de30149641a2",
   "metadata": {
    "tags": []
   },
   "source": [
    "## LangChain OpenSearch VectorStore 생성"
   ]
  },
  {
   "cell_type": "code",
   "execution_count": 20,
   "id": "92a97a8d-0949-4a72-a0b9-c83003cfbd44",
   "metadata": {
    "tags": []
   },
   "outputs": [],
   "source": [
    "from langchain.vectorstores import OpenSearchVectorSearch\n",
    "\n",
    "vectro_db = OpenSearchVectorSearch(\n",
    "    index_name=index_name,\n",
    "    opensearch_url=opensearch_domain_endpoint,\n",
    "    embedding_function=llm_emb,\n",
    "    http_auth=http_auth, # http_auth\n",
    "    is_aoss =False,\n",
    "    engine=\"faiss\",\n",
    "    space_type=\"l2\"\n",
    ")"
   ]
  },
  {
   "cell_type": "markdown",
   "id": "f5eb9b0f-b62b-412a-a6dd-351e23d93cea",
   "metadata": {},
   "source": [
    "## OpenSearch Client 생성"
   ]
  },
  {
   "cell_type": "code",
   "execution_count": 21,
   "id": "52ad59ce-768d-49f3-b032-97d2364c66fe",
   "metadata": {},
   "outputs": [],
   "source": [
    "from utils.rag import create_aws_opensearch_client, check_if_index_exists, delete_index\n",
    "\n",
    "aws_client = create_aws_opensearch_client(\n",
    "                                     aws_region,\n",
    "                                     opensearch_domain_endpoint,\n",
    "                                     http_auth)\n",
    "\n"
   ]
  },
  {
   "cell_type": "markdown",
   "id": "c5d67b3b-0e7f-427e-b7e6-9bcbce12fe4e",
   "metadata": {},
   "source": [
    "# 3. QnA"
   ]
  },
  {
   "cell_type": "markdown",
   "id": "ef54c091-f018-47ed-b1eb-d7c31a1f9343",
   "metadata": {},
   "source": [
    "## 프로프트 템플릿 생성"
   ]
  },
  {
   "cell_type": "code",
   "execution_count": 27,
   "id": "6c9d0a65-7992-4f30-87ce-7db559e2609d",
   "metadata": {
    "tags": []
   },
   "outputs": [],
   "source": [
    "from langchain import PromptTemplate"
   ]
  },
  {
   "cell_type": "code",
   "execution_count": 37,
   "id": "9c83fe5f-3362-42fe-a8d0-1ebd186b830c",
   "metadata": {
    "tags": []
   },
   "outputs": [],
   "source": [
    "from utils.rag import create_bool_filter, run_RetrievalQA, run_RetrievalQA_kendra, show_context_used\n",
    "from langchain.prompts import PromptTemplate\n",
    "\n",
    "# prompt_template = \"\"\"Human: 다음 문맥의 Information을 사용하여 고객 서비스 센터 직원처럼, 마지막 질문에 대한 목차 형식으로 답변을 제공하세요. 응답을 모르면 모른다고 말하고 응답을 만들려고 하지 마세요.\n",
    "\n",
    "# {context}\n",
    "\n",
    "# Question: {question}\n",
    "# Assistant:\"\"\"\n",
    "\n",
    "prompt_template = \"\"\"\n",
    "    \n",
    "    Human: Use the following pieces of context to provide a concise answer to the question at the end. If you\n",
    "    don't know the answer, just say that you don't know, don't try to make up an answer.\n",
    "    \n",
    "    {context}\n",
    "    \n",
    "    Question: {question}\n",
    "    Assistant:\"\"\"\n",
    "\n",
    "\n",
    "\n",
    "PROMPT = PromptTemplate(\n",
    "    template=prompt_template, input_variables=[\"context\", \"question\"]\n",
    ")\n"
   ]
  },
  {
   "cell_type": "markdown",
   "id": "39bf26f0-2a8c-4e2f-9fbb-fb8a5c3bf227",
   "metadata": {},
   "source": [
    "### LangChain RetrievalQA 를 통해 실행"
   ]
  },
  {
   "cell_type": "markdown",
   "id": "5fdbd063-a96e-4826-88d0-e62bc3e1df94",
   "metadata": {
    "tags": []
   },
   "source": [
    "*Atttribute filter\n",
    "- https://docs.aws.amazon.com/kendra/latest/APIReference/API_AttributeFilter.html#kendra-Type-AttributeFilter-ContainsAny\n",
    "- https://docs.aws.amazon.com/kendra/latest/APIReference/API_Retrieve.html"
   ]
  },
  {
   "cell_type": "code",
   "execution_count": 49,
   "id": "2d943b38-deac-4659-8077-2d91a83feb98",
   "metadata": {
    "tags": []
   },
   "outputs": [],
   "source": [
    "query = \"부점장 의료비 기준 알려줘\""
   ]
  },
  {
   "cell_type": "code",
   "execution_count": 56,
   "id": "19ef0a3e-ab46-4a6e-b7ad-520781484038",
   "metadata": {
    "tags": []
   },
   "outputs": [
    {
     "name": "stdout",
     "output_type": "stream",
     "text": [
      "##################################\n",
      "query:  부점장 의료비 기준 알려줘\n",
      "##################################\n",
      " 문서 내용을 보면 업무 중 사고/재해 발생 시 부점장도 의료비 지원을 받을 수 있습니다.\n",
      "\n",
      "요약하면 다음과 같습니다:\n",
      "\n",
      "- 대상자: 재직 중인 부점장으로 업무 중 사고나 재해 발생 시\n",
      "- 병가 지원: 진단서 상 가료기간 내 유급병가 지원\n",
      "- 의료비 지원: 사고로 인한 의료비 지원\n",
      "- 지급: 결재 완료 후 월 3회 지급일에 개인 경비계좌로 입금\n",
      "- 신청: 인사담당자에게 등기로 신청서류 제출 (진단서, 의료비 서류 등)\n",
      "\n",
      "따라서 부점장도 업무 중 사고나 재해 시 병가와 의료비 지원을 받을 수 있습니다.\n",
      "-----------------------------------------------\n",
      "1. Chunk: 726 Characters\n",
      "-----------------------------------------------\n",
      "Document Title: (PPT원본) 202302_복리후생운영기준_230918.pptx\n",
      "Document Excerpt:\n",
      "‹#› | 2-3. 의료비 지원 (업무상) 업무 중의 사고/재해 발생시 의료비와 병가를 지원합니다. 지원 기준 대상자 병가 지원 의료비 지원 지급 재직 중인 파트너로서 업무 중\n",
      "사고 및 재해시 진단서 상 가료기간 내 유급 병가 부여 ※ EP 근태품의 상신 요함 (진단서, 사건사고보고서 첨부) 해당 사고로 인해 발생하는 의료비 지원 ※ 인사담당자에게 등기\n",
      "송부하여 신청 (진단서 및 의료비 서류) 결재완료 시점에 따라 월 3회 지급일자에 개인경비계좌로 지급 (10, 20, 말일) [사건사고보고서 작성] ▶ 업무상 사고/재해 관련\n",
      "경위를 사건사고보고 등록합니다. - 작성 위치 : 블라섬 > 업무시스템 > 리스크관리시스템(RMS) > 사건사고보고 등록 (파트너 개인정보는 제외하고, 육하원칙에 따라 상세히\n",
      "작성) - 작성자 : 사건 당시의 시프트 담당자 (점장, 부점장 또는 수퍼바이저), 또는 DM - 보고자 등록 : DM, 운영팀장, 경영진단팀장, 인사관리팀장, 인사기획팀장,\n",
      "업무상의료비 담당자 ※ 출·퇴근 사고는 산재 신청이 가능합니다. (업무상상병으로 미지원) [의료비 결제 및 신청 관련 안내] 구분 제출 서류 유의사항 비고 내용 ① 사건사고보고서\n",
      "② 진단서 (소견서/진료확인서/진료차트 등 대체 불가) ③ 진료비 계산서·영수증\n",
      "\n",
      "metadata:\n",
      " {'result_id': 'aa1ef171-49e9-4693-8b89-f630c7d8cb11-306d3541-728b-4a5e-991d-b53311f4feb3',\n",
      "'document_id': 's3://kendra-gonsoomoon05/(PPT원본) 202302_복리후생운영기준_230918.pptx',\n",
      "'source': 'https://kendra-gonsoomoon05.s3.amazonaws.com/%28PPT%E1%84%8B%E1%85%AF%E1%86%AB%E1%84%87%E\n",
      "1%85%A9%E1%86%AB%29%20202302_%E1%84%87%E1%85%A9%E1%86%A8%E1%84%85%E1%85%B5%E1%84%92%E1%85%AE%E1%84%8\n",
      "9%E1%85%A2%E1%86%BC%E1%84%8B%E1%85%AE%E1%86%AB%E1%84%8B%E1%85%A7%E1%86%BC%E1%84%80%E1%85%B5%E1%84%8C\n",
      "%E1%85%AE%E1%86%AB_230918.pptx', 'title': '(PPT원본) 202302_복리후생운영기준_230918.pptx',\n",
      "'excerpt': '‹#› | 2-3. 의료비 지원 (업무상) 업무 중의 사고/재해 발생시 의료비와 병가를 지원합니다. 지원 기준 대상자\\t병가 지원\\t의료비 지원\\t지급 재직\n",
      "중인 파트너로서 업무 중 사고 및 재해시\\t진단서 상 가료기간 내 유급 병가 부여 ※ EP 근태품의 상신 요함 (진단서, 사건사고보고서 첨부)\\t해당 사고로 인해 발생하는 의료비\n",
      "지원 ※ 인사담당자에게 등기 송부하여 신청 (진단서 및 의료비 서류)\\t결재완료 시점에 따라 월 3회 지급일자에 개인경비계좌로 지급 (10, 20, 말일) [사건사고보고서 작성]\n",
      "▶ 업무상 사고/재해 관련 경위를 사건사고보고 등록합니다. - 작성 위치 : 블라섬 > 업무시스템 > 리스크관리시스템(RMS) > 사건사고보고 등록 (파트너 개인정보는 제외하고,\n",
      "육하원칙에 따라 상세히 작성) - 작성자 : 사건 당시의 시프트 담당자 (점장, 부점장 또는 수퍼바이저), 또는 DM - 보고자 등록 : DM, 운영팀장, 경영진단팀장,\n",
      "인사관리팀장, 인사기획팀장, 업무상의료비 담당자 ※ 출·퇴근 사고는 산재 신청이 가능합니다. (업무상상병으로 미지원) [의료비 결제 및 신청 관련 안내] 구분\\t제출\n",
      "서류\\t유의사항\\t비고 내용\\t  ① 사건사고보고서 ② 진단서 (소견서/진료확인서/진료차트 등 대체 불가) ③ 진료비 계산서·영수증', 'document_attributes':\n",
      "{'_source_uri': 'https://kendra-gonsoomoon05.s3.amazonaws.com/%28PPT%E1%84%8B%E1%85%AF%E1%86%AB%E1%8\n",
      "4%87%E1%85%A9%E1%86%AB%29%20202302_%E1%84%87%E1%85%A9%E1%86%A8%E1%84%85%E1%85%B5%E1%84%92%E1%85%AE%E\n",
      "1%84%89%E1%85%A2%E1%86%BC%E1%84%8B%E1%85%AE%E1%86%AB%E1%84%8B%E1%85%A7%E1%86%BC%E1%84%80%E1%85%B5%E1\n",
      "%84%8C%E1%85%AE%E1%86%AB_230918.pptx', 's3_document_id': '(PPT원본)\n",
      "202302_복리후생운영기준_230918.pptx'}}\n",
      "-----------------------------------------------\n",
      "2. Chunk: 928 Characters\n",
      "-----------------------------------------------\n",
      "Document Title: (PPT원본) 202302_복리후생운영기준_230918.pptx\n",
      "Document Excerpt:\n",
      "MRI/CT 등 검사비 뚜렷한 병명 없이 검사 진행시 병명이 기재된 최종진단 확정 진단서 제출시 기타 사항 미용 목적 성형수술, 선천적 질병/장애로 인한 치료비, 예방접종,\n",
      "일상생황에 지장이 없는 질환, 보조기/보청기/콘택트렌즈 등 재료비, 건강보험 비급여 상급 병실료 차액, 제증명 비용 등 중환자실 상급병실료 차액, 수술 및 치료에 직접적으로\n",
      "사용되는 인공장기, 골절 혈관 등 (의사 소견서 제출) ※ 한방의원 지원 기준 - 3개월 이상의 양방 의원 진료를 선행하였고, 한방 의원 진료가 필요한 소견이 있는 경우에 지원\n",
      "가능 - SHRS 의료비 신청서 등록시, 양방 의원에서 3개월 이상 치료한 진료확인서 첨부하여야 함 4. Refresh 2. Together 1. Supporting 3.\n",
      "Amusing 대 외 비 [ 목차 페이지로 돌아가기 ] ‹#› | 2-4. 의료비 지원 (업무외) [의료비 증빙 서류] 의료비 신청 시에는 다음의 서류가 필수적으로 제출되어야\n",
      "합니다. 제출서류가 기준에 맞지 않는 경우 의료비 지원이 어려우니 잘 확인하여 신청하시기 바랍니다. 3. Amusing 대 외 비 [ 목차 페이지로 돌아가기 ] ‹#› | 2-4.\n",
      "의료비 지원 (업무외) [의료비 증빙 서류] 의료비 신청 시에는 다음의 서류가 필수적으로 제출되어야 합니다. 제출서류가 기준에 맞지 않는 경우 의료비 지원이 어려우니 잘 확인하여\n",
      "신청하시기 바랍니다. 구분 제출 서류 유의사항 비고 내용 ①~④ 서류는 모든 신청에 필수입니다. ⑤는 해당사항 있는 경우에만 제출합니다. ① 진단서 (소견서/진료확인서/진료차트 등\n",
      "대체 불가) ② 진료비 계산서 영수증 ③ 진료비 세부산정 내역서 ④ 처방전, 약제비 영수증\n",
      "\n",
      "metadata:\n",
      " {'result_id': 'aa1ef171-49e9-4693-8b89-f630c7d8cb11-25fc7581-5b51-4a1c-8b86-440b581a7e7a',\n",
      "'document_id': 's3://kendra-gonsoomoon05/(PPT원본) 202302_복리후생운영기준_230918.pptx',\n",
      "'source': 'https://kendra-gonsoomoon05.s3.amazonaws.com/%28PPT%E1%84%8B%E1%85%AF%E1%86%AB%E1%84%87%E\n",
      "1%85%A9%E1%86%AB%29%20202302_%E1%84%87%E1%85%A9%E1%86%A8%E1%84%85%E1%85%B5%E1%84%92%E1%85%AE%E1%84%8\n",
      "9%E1%85%A2%E1%86%BC%E1%84%8B%E1%85%AE%E1%86%AB%E1%84%8B%E1%85%A7%E1%86%BC%E1%84%80%E1%85%B5%E1%84%8C\n",
      "%E1%85%AE%E1%86%AB_230918.pptx', 'title': '(PPT원본) 202302_복리후생운영기준_230918.pptx',\n",
      "'excerpt': 'MRI/CT 등 검사비\\t뚜렷한 병명 없이 검사 진행시\\t병명이 기재된 최종진단 확정 진단서 제출시 기타 사항\\t미용 목적 성형수술, 선천적 질병/장애로 인한\n",
      "치료비, 예방접종, 일상생황에 지장이 없는 질환, 보조기/보청기/콘택트렌즈 등 재료비, 건강보험 비급여 상급 병실료 차액, 제증명 비용 등\\t중환자실 상급병실료 차액, 수술 및\n",
      "치료에 직접적으로 사용되는 인공장기, 골절 혈관 등 (의사 소견서 제출) ※ 한방의원 지원 기준 - 3개월 이상의 양방 의원 진료를 선행하였고, 한방 의원 진료가 필요한 소견이\n",
      "있는 경우에 지원 가능 - SHRS 의료비 신청서 등록시, 양방 의원에서 3개월 이상 치료한 진료확인서 첨부하여야 함 4. Refresh 2. Together 1.\n",
      "Supporting 3. Amusing 대 외 비 [ 목차 페이지로 돌아가기 ] ‹#› | 2-4. 의료비 지원 (업무외) [의료비 증빙 서류] 의료비 신청 시에는 다음의 서류가\n",
      "필수적으로 제출되어야 합니다. 제출서류가 기준에 맞지 않는 경우 의료비 지원이 어려우니 잘 확인하여 신청하시기 바랍니다. 3. Amusing 대 외 비 [ 목차 페이지로 돌아가기\n",
      "] ‹#› | 2-4. 의료비 지원 (업무외) [의료비 증빙 서류] 의료비 신청 시에는 다음의 서류가 필수적으로 제출되어야 합니다. 제출서류가 기준에 맞지 않는 경우 의료비 지원이\n",
      "어려우니 잘 확인하여 신청하시기 바랍니다. 구분\\t제출 서류\\t유의사항\\t비고 내용\\t①~④ 서류는 모든 신청에 필수입니다. ⑤는 해당사항 있는 경우에만 제출합니다. ① 진단서\n",
      "(소견서/진료확인서/진료차트 등 대체 불가) ② 진료비 계산서 영수증 ③ 진료비 세부산정 내역서 ④ 처방전, 약제비 영수증', 'document_attributes':\n",
      "{'_source_uri': 'https://kendra-gonsoomoon05.s3.amazonaws.com/%28PPT%E1%84%8B%E1%85%AF%E1%86%AB%E1%8\n",
      "4%87%E1%85%A9%E1%86%AB%29%20202302_%E1%84%87%E1%85%A9%E1%86%A8%E1%84%85%E1%85%B5%E1%84%92%E1%85%AE%E\n",
      "1%84%89%E1%85%A2%E1%86%BC%E1%84%8B%E1%85%AE%E1%86%AB%E1%84%8B%E1%85%A7%E1%86%BC%E1%84%80%E1%85%B5%E1\n",
      "%84%8C%E1%85%AE%E1%86%AB_230918.pptx', 's3_document_id': '(PPT원본)\n",
      "202302_복리후생운영기준_230918.pptx'}}\n",
      "-----------------------------------------------\n",
      "3. Chunk: 928 Characters\n",
      "-----------------------------------------------\n",
      "Document Title: (PPT원본) 202302_복리후생운영기준_230918.pptx\n",
      "Document Excerpt:\n",
      "•병원별로 예약 상황이 상이하여 원하는 일자에 예약이 어려울 수 있어 빠른 예약 필요 •병원별 종합검진 항목 및 비용이 상이하므로 예약시 비용 확인 필요 4. Refresh 2.\n",
      "Together 1. Supporting 3. Amusing 대 외 비 [ 목차 페이지로 돌아가기 ] ‹#› | 2-3. 의료비 지원 (업무상) 업무 중의 사고/재해 발생시\n",
      "의료비와 병가를 지원합니다. 지원 기준 대상자 병가 지원 의료비 지원 지급 재직 중인 파트너로서 업무 중 사고 및 재해시 진단서 상 가료기간 내 유급 병가 부여 ※ EP 근태품의\n",
      "상신 요함 (진단서, 사건사고보고서 첨부) 해당 사고로 인해 발생하는 ‹#› | 2-3. 의료비 지원 (업무상) 업무 중의 사고/재해 발생시 의료비와 병가를 지원합니다. 지원 기준\n",
      "대상자 병가 지원 의료비 지원 지급 재직 중인 파트너로서 업무 중 사고 및 재해시 진단서 상 가료기간 내 유급 병가 부여 ※ EP 근태품의 상신 요함 (진단서, 사건사고보고서\n",
      "첨부) 해당 사고로 인해 발생하는 의료비 지원 ※ 인사담당자에게 등기 송부하여 신청 (진단서 및 의료비 서류) 결재완료 시점에 따라 월 3회 지급일자에 개인경비계좌로 지급 (10,\n",
      "20, 말일) [사건사고보고서 작성] ▶ 업무상 사고/재해 관련 경위를 사건사고보고 등록합니다. - 작성 위치 : 블라섬 > 업무시스템 > 리스크관리시스템(RMS) > 사건사고보고\n",
      "등록 (파트너 개인정보는 제외하고, 육하원칙에 따라 상세히 작성) - 작성자 : 사건 당시의 시프트 담당자 (점장, 부점장 또는 수퍼바이저), 또는 DM - 보고자 등록 : DM,\n",
      "운영팀장, 경영진단팀장, 인사관리팀장, 인사기획팀장, 업무상의료비 담당자\n",
      "\n",
      "metadata:\n",
      " {'result_id': 'aa1ef171-49e9-4693-8b89-f630c7d8cb11-0d46e437-eec0-4628-8626-1bc3083a913a',\n",
      "'document_id': 's3://kendra-gonsoomoon05/(PPT원본) 202302_복리후생운영기준_230918.pptx',\n",
      "'source': 'https://kendra-gonsoomoon05.s3.amazonaws.com/%28PPT%E1%84%8B%E1%85%AF%E1%86%AB%E1%84%87%E\n",
      "1%85%A9%E1%86%AB%29%20202302_%E1%84%87%E1%85%A9%E1%86%A8%E1%84%85%E1%85%B5%E1%84%92%E1%85%AE%E1%84%8\n",
      "9%E1%85%A2%E1%86%BC%E1%84%8B%E1%85%AE%E1%86%AB%E1%84%8B%E1%85%A7%E1%86%BC%E1%84%80%E1%85%B5%E1%84%8C\n",
      "%E1%85%AE%E1%86%AB_230918.pptx', 'title': '(PPT원본) 202302_복리후생운영기준_230918.pptx',\n",
      "'excerpt': '•병원별로 예약 상황이 상이하여 원하는 일자에 예약이 어려울 수 있어 빠른 예약 필요 •병원별 종합검진 항목 및 비용이 상이하므로 예약시 비용 확인 필요 4.\n",
      "Refresh 2. Together 1. Supporting 3. Amusing 대 외 비 [ 목차 페이지로 돌아가기 ] ‹#› | 2-3. 의료비 지원 (업무상) 업무 중의\n",
      "사고/재해 발생시 의료비와 병가를 지원합니다. 지원 기준 대상자\\t병가 지원\\t의료비 지원\\t지급 재직 중인 파트너로서 업무 중 사고 및 재해시\\t진단서 상 가료기간 내 유급 병가\n",
      "부여 ※ EP 근태품의 상신 요함 (진단서, 사건사고보고서 첨부)\\t해당 사고로 인해 발생하는 ‹#› | 2-3. 의료비 지원 (업무상) 업무 중의 사고/재해 발생시 의료비와\n",
      "병가를 지원합니다. 지원 기준 대상자\\t병가 지원\\t의료비 지원\\t지급 재직 중인 파트너로서 업무 중 사고 및 재해시\\t진단서 상 가료기간 내 유급 병가 부여 ※ EP 근태품의\n",
      "상신 요함 (진단서, 사건사고보고서 첨부)\\t해당 사고로 인해 발생하는 의료비 지원 ※ 인사담당자에게 등기 송부하여 신청 (진단서 및 의료비 서류)\\t결재완료 시점에 따라 월 3회\n",
      "지급일자에 개인경비계좌로 지급 (10, 20, 말일) [사건사고보고서 작성] ▶ 업무상 사고/재해 관련 경위를 사건사고보고 등록합니다. - 작성 위치 : 블라섬 > 업무시스템 >\n",
      "리스크관리시스템(RMS) > 사건사고보고 등록 (파트너 개인정보는 제외하고, 육하원칙에 따라 상세히 작성) - 작성자 : 사건 당시의 시프트 담당자 (점장, 부점장 또는\n",
      "수퍼바이저), 또는 DM - 보고자 등록 : DM, 운영팀장, 경영진단팀장, 인사관리팀장, 인사기획팀장, 업무상의료비 담당자', 'document_attributes':\n",
      "{'_source_uri': 'https://kendra-gonsoomoon05.s3.amazonaws.com/%28PPT%E1%84%8B%E1%85%AF%E1%86%AB%E1%8\n",
      "4%87%E1%85%A9%E1%86%AB%29%20202302_%E1%84%87%E1%85%A9%E1%86%A8%E1%84%85%E1%85%B5%E1%84%92%E1%85%AE%E\n",
      "1%84%89%E1%85%A2%E1%86%BC%E1%84%8B%E1%85%AE%E1%86%AB%E1%84%8B%E1%85%A7%E1%86%BC%E1%84%80%E1%85%B5%E1\n",
      "%84%8C%E1%85%AE%E1%86%AB_230918.pptx', 's3_document_id': '(PPT원본)\n",
      "202302_복리후생운영기준_230918.pptx'}}\n",
      "-----------------------------------------------\n",
      "4. Chunk: 724 Characters\n",
      "-----------------------------------------------\n",
      "Document Title: (PPT원본) 202302_복리후생운영기준_230918.pptx\n",
      "Document Excerpt:\n",
      "의료비 지원 ※ 인사담당자에게 등기 송부하여 신청 (진단서 및 의료비 서류) 결재완료 시점에 따라 월 3회 지급일자에 개인경비계좌로 지급 (10, 20, 말일) [사건사고보고서\n",
      "작성] ▶ 업무상 사고/재해 관련 경위를 사건사고보고 등록합니다. - 작성 위치 : 블라섬 > 업무시스템 > 리스크관리시스템(RMS) > 사건사고보고 등록 (파트너 개인정보는\n",
      "제외하고, 육하원칙에 따라 상세히 작성) - 작성자 : 사건 당시의 시프트 담당자 (점장, 부점장 또는 수퍼바이저), 또는 DM - 보고자 등록 : DM, 운영팀장, 경영진단팀장,\n",
      "인사관리팀장, 인사기획팀장, 업무상의료비 담당자 ※ 출·퇴근 사고는 산재 신청이 가능합니다. (업무상상병으로 미지원) [의료비 결제 및 신청 관련 안내] 구분 제출 서류 유의사항\n",
      "비고 내용 ① 사건사고보고서 ② 진단서 (소견서/진료확인서/진료차트 등 대체 불가) ③ 진료비 계산서·영수증 ④ 처방전, 약제비 계산서·영수증 의료비 결제시 유의사항 - 건강보험,\n",
      "산업재해보험 적용 비대상 환자구분 ‘일반, ‘100% 비급여‘ 요청 필요 - 현금영수증 적용 비대상 여러 병원 방문 시 각 병원 진단서 모두 제출 ※ 4일 이상의 치료가 필요한\n",
      "경우 산재 신청할 수 있습니다. (단, 업무상상병과 중복처리 불가)\n",
      "\n",
      "metadata:\n",
      " {'result_id': 'aa1ef171-49e9-4693-8b89-f630c7d8cb11-f0a39866-747b-4bb7-877b-ce9f2f07b94b',\n",
      "'document_id': 's3://kendra-gonsoomoon05/(PPT원본) 202302_복리후생운영기준_230918.pptx',\n",
      "'source': 'https://kendra-gonsoomoon05.s3.amazonaws.com/%28PPT%E1%84%8B%E1%85%AF%E1%86%AB%E1%84%87%E\n",
      "1%85%A9%E1%86%AB%29%20202302_%E1%84%87%E1%85%A9%E1%86%A8%E1%84%85%E1%85%B5%E1%84%92%E1%85%AE%E1%84%8\n",
      "9%E1%85%A2%E1%86%BC%E1%84%8B%E1%85%AE%E1%86%AB%E1%84%8B%E1%85%A7%E1%86%BC%E1%84%80%E1%85%B5%E1%84%8C\n",
      "%E1%85%AE%E1%86%AB_230918.pptx', 'title': '(PPT원본) 202302_복리후생운영기준_230918.pptx',\n",
      "'excerpt': '의료비 지원 ※ 인사담당자에게 등기 송부하여 신청 (진단서 및 의료비 서류)\\t결재완료 시점에 따라 월 3회 지급일자에 개인경비계좌로 지급 (10, 20,\n",
      "말일) [사건사고보고서 작성] ▶ 업무상 사고/재해 관련 경위를 사건사고보고 등록합니다. - 작성 위치 : 블라섬 > 업무시스템 > 리스크관리시스템(RMS) > 사건사고보고 등록\n",
      "(파트너 개인정보는 제외하고, 육하원칙에 따라 상세히 작성) - 작성자 : 사건 당시의 시프트 담당자 (점장, 부점장 또는 수퍼바이저), 또는 DM - 보고자 등록 : DM,\n",
      "운영팀장, 경영진단팀장, 인사관리팀장, 인사기획팀장, 업무상의료비 담당자 ※ 출·퇴근 사고는 산재 신청이 가능합니다. (업무상상병으로 미지원) [의료비 결제 및 신청 관련 안내]\n",
      "구분\\t제출 서류\\t유의사항\\t비고 내용\\t  ① 사건사고보고서 ② 진단서 (소견서/진료확인서/진료차트 등 대체 불가) ③ 진료비 계산서·영수증 ④ 처방전, 약제비\n",
      "계산서·영수증\\t의료비 결제시 유의사항 - 건강보험, 산업재해보험 적용 비대상 환자구분 ‘일반, ‘100% 비급여‘ 요청 필요 - 현금영수증 적용 비대상\\t여러 병원 방문 시 각\n",
      "병원 진단서 모두 제출 ※ 4일 이상의 치료가 필요한 경우 산재 신청할 수 있습니다. (단, 업무상상병과 중복처리 불가)', 'document_attributes':\n",
      "{'_source_uri': 'https://kendra-gonsoomoon05.s3.amazonaws.com/%28PPT%E1%84%8B%E1%85%AF%E1%86%AB%E1%8\n",
      "4%87%E1%85%A9%E1%86%AB%29%20202302_%E1%84%87%E1%85%A9%E1%86%A8%E1%84%85%E1%85%B5%E1%84%92%E1%85%AE%E\n",
      "1%84%89%E1%85%A2%E1%86%BC%E1%84%8B%E1%85%AE%E1%86%AB%E1%84%8B%E1%85%A7%E1%86%BC%E1%84%80%E1%85%B5%E1\n",
      "%84%8C%E1%85%AE%E1%86%AB_230918.pptx', 's3_document_id': '(PPT원본)\n",
      "202302_복리후생운영기준_230918.pptx'}}\n",
      "-----------------------------------------------\n",
      "5. Chunk: 928 Characters\n",
      "-----------------------------------------------\n",
      "Document Title: (PPT원본) 202302_복리후생운영기준_230918.pptx\n",
      "Document Excerpt:\n",
      "수술 및 치료에 직접적으로 사용되는 인공장기, 골절 혈관 등 (의사 소견서 제출) ※ 한방의원 지원 기준 - 3개월 이상의 양방 의원 진료를 선행하였고, 한방 의원 진료가 필요한\n",
      "소견이 있는 경우에 지원 가능 - SHRS 의료비 신청서 등록시, 양방 의원에서 3개월 이상 치료한 진료확인서 첨부하여야 함 4. Refresh 2. Together 1.\n",
      "Supporting 3. Amusing 대 외 비 [ 목차 페이지로 돌아가기 ] ‹#› | 2-4. 의료비 지원 (업무외) [의료비 증빙 서류] 의료비 신청 시에는 다음의 서류가\n",
      "필수적으로 제출되어야 합니다. 제출서류가 기준에 맞지 않는 경우 의료비 지원이 어려우니 잘 확인하여 신청하시기 바랍니다. 3. Amusing 대 외 비 [ 목차 페이지로 돌아가기\n",
      "] ‹#› | 2-4. 의료비 지원 (업무외) [의료비 증빙 서류] 의료비 신청 시에는 다음의 서류가 필수적으로 제출되어야 합니다. 제출서류가 기준에 맞지 않는 경우 의료비 지원이\n",
      "어려우니 잘 확인하여 신청하시기 바랍니다. 구분 제출 서류 유의사항 비고 내용 ①~④ 서류는 모든 신청에 필수입니다. ⑤는 해당사항 있는 경우에만 제출합니다. ① 진단서\n",
      "(소견서/진료확인서/진료차트 등 대체 불가) ② 진료비 계산서 영수증 ③ 진료비 세부산정 내역서 ④ 처방전, 약제비 영수증 ⑤ 건강보험증 사본 (자녀 신청시에 한함) 증빙서류\n",
      "파일명은 반드시 다음의 기준으로 합니다. ‘서류명_사번_이름’으로 저장 (예) 진단서_19021234_홍길동 (예) 약제비영수증_20083456_김스타 여러 병원 방문 시 각 병원\n",
      "진단서 모두 제출 진단일로부터 신청일이 3개월이 지난 경우, 새로운 진단서 혹은 소견서\n",
      "\n",
      "metadata:\n",
      " {'result_id': 'aa1ef171-49e9-4693-8b89-f630c7d8cb11-25cc1c81-09c1-4eb9-ab60-d27c5426920d',\n",
      "'document_id': 's3://kendra-gonsoomoon05/(PPT원본) 202302_복리후생운영기준_230918.pptx',\n",
      "'source': 'https://kendra-gonsoomoon05.s3.amazonaws.com/%28PPT%E1%84%8B%E1%85%AF%E1%86%AB%E1%84%87%E\n",
      "1%85%A9%E1%86%AB%29%20202302_%E1%84%87%E1%85%A9%E1%86%A8%E1%84%85%E1%85%B5%E1%84%92%E1%85%AE%E1%84%8\n",
      "9%E1%85%A2%E1%86%BC%E1%84%8B%E1%85%AE%E1%86%AB%E1%84%8B%E1%85%A7%E1%86%BC%E1%84%80%E1%85%B5%E1%84%8C\n",
      "%E1%85%AE%E1%86%AB_230918.pptx', 'title': '(PPT원본) 202302_복리후생운영기준_230918.pptx',\n",
      "'excerpt': '수술 및 치료에 직접적으로 사용되는 인공장기, 골절 혈관 등 (의사 소견서 제출) ※ 한방의원 지원 기준 - 3개월 이상의 양방 의원 진료를 선행하였고, 한방\n",
      "의원 진료가 필요한 소견이 있는 경우에 지원 가능 - SHRS 의료비 신청서 등록시, 양방 의원에서 3개월 이상 치료한 진료확인서 첨부하여야 함 4. Refresh 2.\n",
      "Together 1. Supporting 3. Amusing 대 외 비 [ 목차 페이지로 돌아가기 ] ‹#› | 2-4. 의료비 지원 (업무외) [의료비 증빙 서류] 의료비 신청\n",
      "시에는 다음의 서류가 필수적으로 제출되어야 합니다. 제출서류가 기준에 맞지 않는 경우 의료비 지원이 어려우니 잘 확인하여 신청하시기 바랍니다. 3. Amusing 대 외 비 [\n",
      "목차 페이지로 돌아가기 ] ‹#› | 2-4. 의료비 지원 (업무외) [의료비 증빙 서류] 의료비 신청 시에는 다음의 서류가 필수적으로 제출되어야 합니다. 제출서류가 기준에 맞지\n",
      "않는 경우 의료비 지원이 어려우니 잘 확인하여 신청하시기 바랍니다. 구분\\t제출 서류\\t유의사항\\t비고 내용\\t①~④ 서류는 모든 신청에 필수입니다. ⑤는 해당사항 있는 경우에만\n",
      "제출합니다. ① 진단서 (소견서/진료확인서/진료차트 등 대체 불가) ② 진료비 계산서 영수증 ③ 진료비 세부산정 내역서 ④ 처방전, 약제비 영수증 ⑤ 건강보험증 사본 (자녀\n",
      "신청시에 한함)\\t증빙서류 파일명은 반드시 다음의 기준으로 합니다. ‘서류명_사번_이름’으로 저장 (예) 진단서_19021234_홍길동 (예)\n",
      "약제비영수증_20083456_김스타\\t여러 병원 방문 시 각 병원 진단서 모두 제출 진단일로부터 신청일이 3개월이 지난 경우, 새로운 진단서 혹은 소견서',\n",
      "'document_attributes': {'_source_uri': 'https://kendra-gonsoomoon05.s3.amazonaws.com/%28PPT%E1%84%8B\n",
      "%E1%85%AF%E1%86%AB%E1%84%87%E1%85%A9%E1%86%AB%29%20202302_%E1%84%87%E1%85%A9%E1%86%A8%E1%84%85%E1%85\n",
      "%B5%E1%84%92%E1%85%AE%E1%84%89%E1%85%A2%E1%86%BC%E1%84%8B%E1%85%AE%E1%86%AB%E1%84%8B%E1%85%A7%E1%86%\n",
      "BC%E1%84%80%E1%85%B5%E1%84%8C%E1%85%AE%E1%86%AB_230918.pptx', 's3_document_id': '(PPT원본)\n",
      "202302_복리후생운영기준_230918.pptx'}}\n",
      "CPU times: user 62.7 ms, sys: 15.9 ms, total: 78.7 ms\n",
      "Wall time: 12.6 s\n"
     ]
    }
   ],
   "source": [
    "%%time\n",
    "result = run_RetrievalQA_kendra(\n",
    "    query=query,\n",
    "    llm_text=llm_text,\n",
    "    PROMPT=PROMPT,\n",
    "    kendra_index_id=kendra_index_id,\n",
    "    k=5,\n",
    "    aws_region=aws_region,\n",
    "    verbose=False\n",
    ")\n",
    "\n",
    "print(\"##################################\")\n",
    "print(\"query: \", query)\n",
    "print(\"##################################\")\n",
    "print_ww(result['result'])\n",
    "show_context_used(result['source_documents'])        \n"
   ]
  },
  {
   "cell_type": "code",
   "execution_count": null,
   "id": "770e0256-0ede-4384-8300-86bbbaa16798",
   "metadata": {},
   "outputs": [],
   "source": [
    "print (f'question: {query}')\n",
    "print (f'response: {response}')"
   ]
  },
  {
   "cell_type": "code",
   "execution_count": null,
   "id": "cfbdfd21-dd98-43e0-b601-2e8832d80edb",
   "metadata": {},
   "outputs": [],
   "source": []
  },
  {
   "cell_type": "code",
   "execution_count": null,
   "id": "17c4ebeb-cafb-4bca-a0de-b705fc4f8d25",
   "metadata": {},
   "outputs": [],
   "source": []
  }
 ],
 "metadata": {
  "availableInstances": [
   {
    "_defaultOrder": 0,
    "_isFastLaunch": true,
    "category": "General purpose",
    "gpuNum": 0,
    "hideHardwareSpecs": false,
    "memoryGiB": 4,
    "name": "ml.t3.medium",
    "vcpuNum": 2
   },
   {
    "_defaultOrder": 1,
    "_isFastLaunch": false,
    "category": "General purpose",
    "gpuNum": 0,
    "hideHardwareSpecs": false,
    "memoryGiB": 8,
    "name": "ml.t3.large",
    "vcpuNum": 2
   },
   {
    "_defaultOrder": 2,
    "_isFastLaunch": false,
    "category": "General purpose",
    "gpuNum": 0,
    "hideHardwareSpecs": false,
    "memoryGiB": 16,
    "name": "ml.t3.xlarge",
    "vcpuNum": 4
   },
   {
    "_defaultOrder": 3,
    "_isFastLaunch": false,
    "category": "General purpose",
    "gpuNum": 0,
    "hideHardwareSpecs": false,
    "memoryGiB": 32,
    "name": "ml.t3.2xlarge",
    "vcpuNum": 8
   },
   {
    "_defaultOrder": 4,
    "_isFastLaunch": true,
    "category": "General purpose",
    "gpuNum": 0,
    "hideHardwareSpecs": false,
    "memoryGiB": 8,
    "name": "ml.m5.large",
    "vcpuNum": 2
   },
   {
    "_defaultOrder": 5,
    "_isFastLaunch": false,
    "category": "General purpose",
    "gpuNum": 0,
    "hideHardwareSpecs": false,
    "memoryGiB": 16,
    "name": "ml.m5.xlarge",
    "vcpuNum": 4
   },
   {
    "_defaultOrder": 6,
    "_isFastLaunch": false,
    "category": "General purpose",
    "gpuNum": 0,
    "hideHardwareSpecs": false,
    "memoryGiB": 32,
    "name": "ml.m5.2xlarge",
    "vcpuNum": 8
   },
   {
    "_defaultOrder": 7,
    "_isFastLaunch": false,
    "category": "General purpose",
    "gpuNum": 0,
    "hideHardwareSpecs": false,
    "memoryGiB": 64,
    "name": "ml.m5.4xlarge",
    "vcpuNum": 16
   },
   {
    "_defaultOrder": 8,
    "_isFastLaunch": false,
    "category": "General purpose",
    "gpuNum": 0,
    "hideHardwareSpecs": false,
    "memoryGiB": 128,
    "name": "ml.m5.8xlarge",
    "vcpuNum": 32
   },
   {
    "_defaultOrder": 9,
    "_isFastLaunch": false,
    "category": "General purpose",
    "gpuNum": 0,
    "hideHardwareSpecs": false,
    "memoryGiB": 192,
    "name": "ml.m5.12xlarge",
    "vcpuNum": 48
   },
   {
    "_defaultOrder": 10,
    "_isFastLaunch": false,
    "category": "General purpose",
    "gpuNum": 0,
    "hideHardwareSpecs": false,
    "memoryGiB": 256,
    "name": "ml.m5.16xlarge",
    "vcpuNum": 64
   },
   {
    "_defaultOrder": 11,
    "_isFastLaunch": false,
    "category": "General purpose",
    "gpuNum": 0,
    "hideHardwareSpecs": false,
    "memoryGiB": 384,
    "name": "ml.m5.24xlarge",
    "vcpuNum": 96
   },
   {
    "_defaultOrder": 12,
    "_isFastLaunch": false,
    "category": "General purpose",
    "gpuNum": 0,
    "hideHardwareSpecs": false,
    "memoryGiB": 8,
    "name": "ml.m5d.large",
    "vcpuNum": 2
   },
   {
    "_defaultOrder": 13,
    "_isFastLaunch": false,
    "category": "General purpose",
    "gpuNum": 0,
    "hideHardwareSpecs": false,
    "memoryGiB": 16,
    "name": "ml.m5d.xlarge",
    "vcpuNum": 4
   },
   {
    "_defaultOrder": 14,
    "_isFastLaunch": false,
    "category": "General purpose",
    "gpuNum": 0,
    "hideHardwareSpecs": false,
    "memoryGiB": 32,
    "name": "ml.m5d.2xlarge",
    "vcpuNum": 8
   },
   {
    "_defaultOrder": 15,
    "_isFastLaunch": false,
    "category": "General purpose",
    "gpuNum": 0,
    "hideHardwareSpecs": false,
    "memoryGiB": 64,
    "name": "ml.m5d.4xlarge",
    "vcpuNum": 16
   },
   {
    "_defaultOrder": 16,
    "_isFastLaunch": false,
    "category": "General purpose",
    "gpuNum": 0,
    "hideHardwareSpecs": false,
    "memoryGiB": 128,
    "name": "ml.m5d.8xlarge",
    "vcpuNum": 32
   },
   {
    "_defaultOrder": 17,
    "_isFastLaunch": false,
    "category": "General purpose",
    "gpuNum": 0,
    "hideHardwareSpecs": false,
    "memoryGiB": 192,
    "name": "ml.m5d.12xlarge",
    "vcpuNum": 48
   },
   {
    "_defaultOrder": 18,
    "_isFastLaunch": false,
    "category": "General purpose",
    "gpuNum": 0,
    "hideHardwareSpecs": false,
    "memoryGiB": 256,
    "name": "ml.m5d.16xlarge",
    "vcpuNum": 64
   },
   {
    "_defaultOrder": 19,
    "_isFastLaunch": false,
    "category": "General purpose",
    "gpuNum": 0,
    "hideHardwareSpecs": false,
    "memoryGiB": 384,
    "name": "ml.m5d.24xlarge",
    "vcpuNum": 96
   },
   {
    "_defaultOrder": 20,
    "_isFastLaunch": false,
    "category": "General purpose",
    "gpuNum": 0,
    "hideHardwareSpecs": true,
    "memoryGiB": 0,
    "name": "ml.geospatial.interactive",
    "supportedImageNames": [
     "sagemaker-geospatial-v1-0"
    ],
    "vcpuNum": 0
   },
   {
    "_defaultOrder": 21,
    "_isFastLaunch": true,
    "category": "Compute optimized",
    "gpuNum": 0,
    "hideHardwareSpecs": false,
    "memoryGiB": 4,
    "name": "ml.c5.large",
    "vcpuNum": 2
   },
   {
    "_defaultOrder": 22,
    "_isFastLaunch": false,
    "category": "Compute optimized",
    "gpuNum": 0,
    "hideHardwareSpecs": false,
    "memoryGiB": 8,
    "name": "ml.c5.xlarge",
    "vcpuNum": 4
   },
   {
    "_defaultOrder": 23,
    "_isFastLaunch": false,
    "category": "Compute optimized",
    "gpuNum": 0,
    "hideHardwareSpecs": false,
    "memoryGiB": 16,
    "name": "ml.c5.2xlarge",
    "vcpuNum": 8
   },
   {
    "_defaultOrder": 24,
    "_isFastLaunch": false,
    "category": "Compute optimized",
    "gpuNum": 0,
    "hideHardwareSpecs": false,
    "memoryGiB": 32,
    "name": "ml.c5.4xlarge",
    "vcpuNum": 16
   },
   {
    "_defaultOrder": 25,
    "_isFastLaunch": false,
    "category": "Compute optimized",
    "gpuNum": 0,
    "hideHardwareSpecs": false,
    "memoryGiB": 72,
    "name": "ml.c5.9xlarge",
    "vcpuNum": 36
   },
   {
    "_defaultOrder": 26,
    "_isFastLaunch": false,
    "category": "Compute optimized",
    "gpuNum": 0,
    "hideHardwareSpecs": false,
    "memoryGiB": 96,
    "name": "ml.c5.12xlarge",
    "vcpuNum": 48
   },
   {
    "_defaultOrder": 27,
    "_isFastLaunch": false,
    "category": "Compute optimized",
    "gpuNum": 0,
    "hideHardwareSpecs": false,
    "memoryGiB": 144,
    "name": "ml.c5.18xlarge",
    "vcpuNum": 72
   },
   {
    "_defaultOrder": 28,
    "_isFastLaunch": false,
    "category": "Compute optimized",
    "gpuNum": 0,
    "hideHardwareSpecs": false,
    "memoryGiB": 192,
    "name": "ml.c5.24xlarge",
    "vcpuNum": 96
   },
   {
    "_defaultOrder": 29,
    "_isFastLaunch": true,
    "category": "Accelerated computing",
    "gpuNum": 1,
    "hideHardwareSpecs": false,
    "memoryGiB": 16,
    "name": "ml.g4dn.xlarge",
    "vcpuNum": 4
   },
   {
    "_defaultOrder": 30,
    "_isFastLaunch": false,
    "category": "Accelerated computing",
    "gpuNum": 1,
    "hideHardwareSpecs": false,
    "memoryGiB": 32,
    "name": "ml.g4dn.2xlarge",
    "vcpuNum": 8
   },
   {
    "_defaultOrder": 31,
    "_isFastLaunch": false,
    "category": "Accelerated computing",
    "gpuNum": 1,
    "hideHardwareSpecs": false,
    "memoryGiB": 64,
    "name": "ml.g4dn.4xlarge",
    "vcpuNum": 16
   },
   {
    "_defaultOrder": 32,
    "_isFastLaunch": false,
    "category": "Accelerated computing",
    "gpuNum": 1,
    "hideHardwareSpecs": false,
    "memoryGiB": 128,
    "name": "ml.g4dn.8xlarge",
    "vcpuNum": 32
   },
   {
    "_defaultOrder": 33,
    "_isFastLaunch": false,
    "category": "Accelerated computing",
    "gpuNum": 4,
    "hideHardwareSpecs": false,
    "memoryGiB": 192,
    "name": "ml.g4dn.12xlarge",
    "vcpuNum": 48
   },
   {
    "_defaultOrder": 34,
    "_isFastLaunch": false,
    "category": "Accelerated computing",
    "gpuNum": 1,
    "hideHardwareSpecs": false,
    "memoryGiB": 256,
    "name": "ml.g4dn.16xlarge",
    "vcpuNum": 64
   },
   {
    "_defaultOrder": 35,
    "_isFastLaunch": false,
    "category": "Accelerated computing",
    "gpuNum": 1,
    "hideHardwareSpecs": false,
    "memoryGiB": 61,
    "name": "ml.p3.2xlarge",
    "vcpuNum": 8
   },
   {
    "_defaultOrder": 36,
    "_isFastLaunch": false,
    "category": "Accelerated computing",
    "gpuNum": 4,
    "hideHardwareSpecs": false,
    "memoryGiB": 244,
    "name": "ml.p3.8xlarge",
    "vcpuNum": 32
   },
   {
    "_defaultOrder": 37,
    "_isFastLaunch": false,
    "category": "Accelerated computing",
    "gpuNum": 8,
    "hideHardwareSpecs": false,
    "memoryGiB": 488,
    "name": "ml.p3.16xlarge",
    "vcpuNum": 64
   },
   {
    "_defaultOrder": 38,
    "_isFastLaunch": false,
    "category": "Accelerated computing",
    "gpuNum": 8,
    "hideHardwareSpecs": false,
    "memoryGiB": 768,
    "name": "ml.p3dn.24xlarge",
    "vcpuNum": 96
   },
   {
    "_defaultOrder": 39,
    "_isFastLaunch": false,
    "category": "Memory Optimized",
    "gpuNum": 0,
    "hideHardwareSpecs": false,
    "memoryGiB": 16,
    "name": "ml.r5.large",
    "vcpuNum": 2
   },
   {
    "_defaultOrder": 40,
    "_isFastLaunch": false,
    "category": "Memory Optimized",
    "gpuNum": 0,
    "hideHardwareSpecs": false,
    "memoryGiB": 32,
    "name": "ml.r5.xlarge",
    "vcpuNum": 4
   },
   {
    "_defaultOrder": 41,
    "_isFastLaunch": false,
    "category": "Memory Optimized",
    "gpuNum": 0,
    "hideHardwareSpecs": false,
    "memoryGiB": 64,
    "name": "ml.r5.2xlarge",
    "vcpuNum": 8
   },
   {
    "_defaultOrder": 42,
    "_isFastLaunch": false,
    "category": "Memory Optimized",
    "gpuNum": 0,
    "hideHardwareSpecs": false,
    "memoryGiB": 128,
    "name": "ml.r5.4xlarge",
    "vcpuNum": 16
   },
   {
    "_defaultOrder": 43,
    "_isFastLaunch": false,
    "category": "Memory Optimized",
    "gpuNum": 0,
    "hideHardwareSpecs": false,
    "memoryGiB": 256,
    "name": "ml.r5.8xlarge",
    "vcpuNum": 32
   },
   {
    "_defaultOrder": 44,
    "_isFastLaunch": false,
    "category": "Memory Optimized",
    "gpuNum": 0,
    "hideHardwareSpecs": false,
    "memoryGiB": 384,
    "name": "ml.r5.12xlarge",
    "vcpuNum": 48
   },
   {
    "_defaultOrder": 45,
    "_isFastLaunch": false,
    "category": "Memory Optimized",
    "gpuNum": 0,
    "hideHardwareSpecs": false,
    "memoryGiB": 512,
    "name": "ml.r5.16xlarge",
    "vcpuNum": 64
   },
   {
    "_defaultOrder": 46,
    "_isFastLaunch": false,
    "category": "Memory Optimized",
    "gpuNum": 0,
    "hideHardwareSpecs": false,
    "memoryGiB": 768,
    "name": "ml.r5.24xlarge",
    "vcpuNum": 96
   },
   {
    "_defaultOrder": 47,
    "_isFastLaunch": false,
    "category": "Accelerated computing",
    "gpuNum": 1,
    "hideHardwareSpecs": false,
    "memoryGiB": 16,
    "name": "ml.g5.xlarge",
    "vcpuNum": 4
   },
   {
    "_defaultOrder": 48,
    "_isFastLaunch": false,
    "category": "Accelerated computing",
    "gpuNum": 1,
    "hideHardwareSpecs": false,
    "memoryGiB": 32,
    "name": "ml.g5.2xlarge",
    "vcpuNum": 8
   },
   {
    "_defaultOrder": 49,
    "_isFastLaunch": false,
    "category": "Accelerated computing",
    "gpuNum": 1,
    "hideHardwareSpecs": false,
    "memoryGiB": 64,
    "name": "ml.g5.4xlarge",
    "vcpuNum": 16
   },
   {
    "_defaultOrder": 50,
    "_isFastLaunch": false,
    "category": "Accelerated computing",
    "gpuNum": 1,
    "hideHardwareSpecs": false,
    "memoryGiB": 128,
    "name": "ml.g5.8xlarge",
    "vcpuNum": 32
   },
   {
    "_defaultOrder": 51,
    "_isFastLaunch": false,
    "category": "Accelerated computing",
    "gpuNum": 1,
    "hideHardwareSpecs": false,
    "memoryGiB": 256,
    "name": "ml.g5.16xlarge",
    "vcpuNum": 64
   },
   {
    "_defaultOrder": 52,
    "_isFastLaunch": false,
    "category": "Accelerated computing",
    "gpuNum": 4,
    "hideHardwareSpecs": false,
    "memoryGiB": 192,
    "name": "ml.g5.12xlarge",
    "vcpuNum": 48
   },
   {
    "_defaultOrder": 53,
    "_isFastLaunch": false,
    "category": "Accelerated computing",
    "gpuNum": 4,
    "hideHardwareSpecs": false,
    "memoryGiB": 384,
    "name": "ml.g5.24xlarge",
    "vcpuNum": 96
   },
   {
    "_defaultOrder": 54,
    "_isFastLaunch": false,
    "category": "Accelerated computing",
    "gpuNum": 8,
    "hideHardwareSpecs": false,
    "memoryGiB": 768,
    "name": "ml.g5.48xlarge",
    "vcpuNum": 192
   },
   {
    "_defaultOrder": 55,
    "_isFastLaunch": false,
    "category": "Accelerated computing",
    "gpuNum": 8,
    "hideHardwareSpecs": false,
    "memoryGiB": 1152,
    "name": "ml.p4d.24xlarge",
    "vcpuNum": 96
   },
   {
    "_defaultOrder": 56,
    "_isFastLaunch": false,
    "category": "Accelerated computing",
    "gpuNum": 8,
    "hideHardwareSpecs": false,
    "memoryGiB": 1152,
    "name": "ml.p4de.24xlarge",
    "vcpuNum": 96
   }
  ],
  "instance_type": "ml.m5.2xlarge",
  "kernelspec": {
   "display_name": "Python 3 (Data Science 3.0)",
   "language": "python",
   "name": "python3__SAGEMAKER_INTERNAL__arn:aws:sagemaker:us-east-1:081325390199:image/sagemaker-data-science-310-v1"
  },
  "language_info": {
   "codemirror_mode": {
    "name": "ipython",
    "version": 3
   },
   "file_extension": ".py",
   "mimetype": "text/x-python",
   "name": "python",
   "nbconvert_exporter": "python",
   "pygments_lexer": "ipython3",
   "version": "3.10.6"
  }
 },
 "nbformat": 4,
 "nbformat_minor": 5
}
