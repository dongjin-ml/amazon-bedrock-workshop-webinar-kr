{
 "cells": [
  {
   "cell_type": "markdown",
   "id": "66d8ea21-3477-4e3d-ad9e-0944aa956a13",
   "metadata": {
    "tags": []
   },
   "source": [
    "# OpenSearch Hybrid 검색을 통한 RAG\n",
    "> 이 노트북은  SageMaker Studio* **`Data Science 3.0`** kernel 및 ml.t3.medium 인스턴스에서 테스트 되었습니다.\n",
    "---\n",
    "### 중요\n",
    "- 이 노트북은 Anthropic 의 Claude-v2 모델 접근 가능한 분만 실행 가능합니다. \n",
    "- 접근이 안되시는 분은 노트북의 코드와 결과 만을 확인 하시면 좋겠습니다.\n",
    "- 만일 실행시에는 **\"과금\"** 이 발생이 되는 부분 유념 해주시기 바랍니다.\n",
    "\n",
    "### 선수조건\n",
    "- 이 노트북은 이전 노트북인 \"02_KR_RAG_OpenSearch_Claude.ipynb\" 이 완료 되었다고 가정 합니다.\n",
    "    - 오픈서치 인텍스 관련 정보를 참조 합니다.\n",
    "\n",
    "### Methods and Resources for Hybrid search with Re-ranking \n",
    "- Score Normalization\n",
    "    - [MinMax based](https://towardsdatascience.com/text-search-vs-vector-search-better-together-3bd48eb6132a)\n",
    "    - [z-socre based](https://towardsdatascience.com/hybrid-search-2-0-the-pursuit-of-better-search-ce44d6f20c08)\n",
    "- Reciprocal Rank Fusion (RRF)\n",
    "    - [Paper](https://plg.uwaterloo.ca/~gvcormac/cormacksigir09-rrf.pdf)\n",
    "    - [Description](https://medium.com/@sowmiyajaganathan/hybrid-search-with-re-ranking-ff120c8a426d)\n",
    "- [LangChain API for Ensemble Retriever](https://python.langchain.com/docs/modules/data_connection/retrievers/ensemble)"
   ]
  },
  {
   "cell_type": "markdown",
   "id": "8c44d5e2-9a9b-442d-837b-9f11a04abc83",
   "metadata": {},
   "source": [
    "### 설정\n",
    "\n",
    "이 노트북의 나머지 부분을 실행하기 전에 아래 셀을 실행하여 (필요한 라이브러리가 설치되어 있는지 확인하고) Bedrock에 연결해야 합니다.\n",
    "\n"
   ]
  },
  {
   "cell_type": "code",
   "execution_count": 2,
   "id": "1f02e5a4-7de5-4eb2-abb2-37e2c4036295",
   "metadata": {
    "tags": []
   },
   "outputs": [],
   "source": [
    "%load_ext autoreload\n",
    "%autoreload 2\n",
    "\n",
    "import sys, os\n",
    "module_path = \"..\"\n",
    "sys.path.append(os.path.abspath(module_path))"
   ]
  },
  {
   "cell_type": "markdown",
   "id": "7ffeb0e6-b8ce-4fc0-8371-cad833146d66",
   "metadata": {
    "tags": []
   },
   "source": [
    "# 1. Bedrock Client 생성"
   ]
  },
  {
   "cell_type": "code",
   "execution_count": 3,
   "id": "33e8e72e-d6bc-4a0a-b7f5-99abfd674a3c",
   "metadata": {
    "tags": []
   },
   "outputs": [
    {
     "name": "stdout",
     "output_type": "stream",
     "text": [
      "Create new client\n",
      "  Using region: us-east-1\n",
      "  Using profile: None\n",
      "boto3 Bedrock client successfully created!\n",
      "bedrock-runtime(https://bedrock-runtime.us-east-1.amazonaws.com)\n",
      "\u001b[32m\n",
      "== FM lists ==\u001b[0m\n",
      "{'Claude-Instant-V1': 'anthropic.claude-instant-v1',\n",
      " 'Claude-V1': 'anthropic.claude-v1',\n",
      " 'Claude-V2': 'anthropic.claude-v2',\n",
      " 'Command': 'cohere.command-text-v14',\n",
      " 'Jurassic-2-Mid': 'ai21.j2-mid-v1',\n",
      " 'Jurassic-2-Ultra': 'ai21.j2-ultra-v1',\n",
      " 'Titan-Embeddings-G1': 'amazon.titan-embed-text-v1',\n",
      " 'Titan-Text-G1': 'TBD'}\n"
     ]
    }
   ],
   "source": [
    "import json\n",
    "import boto3\n",
    "from pprint import pprint\n",
    "from termcolor import colored\n",
    "from utils import bedrock, print_ww\n",
    "from utils.bedrock import bedrock_info\n",
    "\n",
    "# ---- ⚠️ Un-comment and edit the below lines as needed for your AWS setup ⚠️ ----\n",
    "\n",
    "# os.environ[\"AWS_DEFAULT_REGION\"] = \"<REGION_NAME>\"  # E.g. \"us-east-1\"\n",
    "# os.environ[\"AWS_PROFILE\"] = \"<YOUR_PROFILE>\"\n",
    "# os.environ[\"BEDROCK_ASSUME_ROLE\"] = \"<YOUR_ROLE_ARN>\"  # E.g. \"arn:aws:...\"\n",
    "# os.environ[\"BEDROCK_ENDPOINT_URL\"] = \"<YOUR_ENDPOINT_URL>\"  # E.g. \"https://...\"\n",
    "\n",
    "\n",
    "boto3_bedrock = bedrock.get_bedrock_client(\n",
    "    assumed_role=os.environ.get(\"BEDROCK_ASSUME_ROLE\", None),\n",
    "    endpoint_url=os.environ.get(\"BEDROCK_ENDPOINT_URL\", None),\n",
    "    region=os.environ.get(\"AWS_DEFAULT_REGION\", None),\n",
    ")\n",
    "\n",
    "print (colored(\"\\n== FM lists ==\", \"green\"))\n",
    "pprint (bedrock_info.get_list_fm_models())"
   ]
  },
  {
   "cell_type": "markdown",
   "id": "d1d9f671-0306-4960-b532-25647ce64d97",
   "metadata": {},
   "source": [
    "# 2. Titan Embedding 및 LLM 인 Claude-v2 모델 로딩"
   ]
  },
  {
   "cell_type": "markdown",
   "id": "6171f58d-fc04-408b-9ca5-e25e0f916929",
   "metadata": {},
   "source": [
    "## LLM 로딩 (Claude-v2)"
   ]
  },
  {
   "cell_type": "code",
   "execution_count": 4,
   "id": "8b497a63-128c-4c7c-96ac-6f266c3bbd2c",
   "metadata": {
    "tags": []
   },
   "outputs": [],
   "source": [
    "from langchain.llms.bedrock import Bedrock"
   ]
  },
  {
   "cell_type": "code",
   "execution_count": 5,
   "id": "1a6afc9a-0502-40cd-be9e-7b3151f3ad71",
   "metadata": {
    "tags": []
   },
   "outputs": [
    {
     "data": {
      "text/plain": [
       "Bedrock(client=<botocore.client.BedrockRuntime object at 0x7f1639f40550>, model_id='anthropic.claude-v2', model_kwargs={'max_tokens_to_sample': 512})"
      ]
     },
     "execution_count": 5,
     "metadata": {},
     "output_type": "execute_result"
    }
   ],
   "source": [
    "# - create the Anthropic Model\n",
    "llm_text = Bedrock(\n",
    "    model_id=bedrock_info.get_model_id(model_name=\"Claude-V2\"),\n",
    "    client=boto3_bedrock,\n",
    "    model_kwargs={'max_tokens_to_sample': 512}\n",
    ")\n",
    "llm_text"
   ]
  },
  {
   "cell_type": "markdown",
   "id": "dca0867f-4a42-49b3-9801-d169bb176918",
   "metadata": {},
   "source": [
    "## Embedding 모델 선택"
   ]
  },
  {
   "cell_type": "code",
   "execution_count": 6,
   "id": "19277289-b417-467a-bfdf-9c710cc7f0ba",
   "metadata": {
    "tags": []
   },
   "outputs": [],
   "source": [
    "from utils.rag import KoSimCSERobertaContentHandler, SagemakerEndpointEmbeddingsJumpStart\n",
    "\n",
    "def get_embedding_model(is_bedrock_embeddings, is_KoSimCSERobert, aws_region, endpont_name=None):\n",
    "    if is_bedrock_embeddings:\n",
    "\n",
    "        # We will be using the Titan Embeddings Model to generate our Embeddings.\n",
    "        from langchain.embeddings import BedrockEmbeddings\n",
    "        llm_emb = BedrockEmbeddings(\n",
    "            client=boto3_bedrock,\n",
    "            model_id=bedrock_info.get_model_id(\n",
    "                model_name=\"Titan-Embeddings-G1\"\n",
    "            )\n",
    "        )\n",
    "        print(\"Bedrock Embeddings Model Loaded\")\n",
    "\n",
    "    elif is_KoSimCSERobert:\n",
    "        LLMEmbHandler = KoSimCSERobertaContentHandler()\n",
    "        endpoint_name_emb = endpont_name\n",
    "        llm_emb = SagemakerEndpointEmbeddingsJumpStart(\n",
    "            endpoint_name=endpoint_name_emb,\n",
    "            region_name=aws_region,\n",
    "            content_handler=LLMEmbHandler,\n",
    "        )        \n",
    "        print(\"KoSimCSERobert Embeddings Model Loaded\")\n",
    "    else:\n",
    "        llm_emb = None\n",
    "        print(\"No Embedding Model Selected\")\n",
    "    \n",
    "    return llm_emb"
   ]
  },
  {
   "cell_type": "markdown",
   "id": "456492cc-edee-4ad9-ac14-bee9f24109f6",
   "metadata": {},
   "source": [
    "#### [중요] is_KoSimCSERobert == True 일시에 endpoint_name 을 꼭 넣어 주세요."
   ]
  },
  {
   "cell_type": "code",
   "execution_count": 7,
   "id": "548af020-92ad-48d2-bf2d-773e3fb98398",
   "metadata": {
    "tags": []
   },
   "outputs": [
    {
     "name": "stdout",
     "output_type": "stream",
     "text": [
      "Bedrock Embeddings Model Loaded\n"
     ]
    }
   ],
   "source": [
    "is_bedrock_embeddings = True\n",
    "is_KoSimCSERobert = False\n",
    "\n",
    "aws_region = os.environ.get(\"AWS_DEFAULT_REGION\", None)\n",
    "\n",
    "##############################\n",
    "# Parameters for is_KoSimCSERobert\n",
    "##############################\n",
    "if is_KoSimCSERobert: endpont_name = \"<endpoint-name>\"\n",
    "else: endpont_name = None\n",
    "##############################\n",
    "\n",
    "llm_emb = get_embedding_model(is_bedrock_embeddings, is_KoSimCSERobert, aws_region, endpont_name)    "
   ]
  },
  {
   "cell_type": "markdown",
   "id": "d32bac51-d495-44a6-8c8e-10b62c4780e9",
   "metadata": {
    "tags": []
   },
   "source": [
    "# 3. LangChain OpenSearch VectorStore 생성 \n",
    "## 선수 조건\n",
    "- 이전 노트북 02_1_KR_RAG_OpenSearch_Keyword.ipynb 또는 02_1_KR_RAG_OpenSearch_Semantic.ipynb를 통해서 OpenSearch Index 가 생성이 되어 있어야 합니다."
   ]
  },
  {
   "cell_type": "markdown",
   "id": "e33dd908-116d-4726-bd40-b473216f169c",
   "metadata": {},
   "source": [
    "## 오픈 서치 도메인 및 인증 정보 세팅\n",
    "\n",
    "- [langchain.vectorstores.opensearch_vector_search.OpenSearchVectorSearch](https://api.python.langchain.com/en/latest/vectorstores/langchain.vectorstores.opensearch_vector_search.OpenSearchVectorSearch.html)"
   ]
  },
  {
   "cell_type": "markdown",
   "id": "210ef70c-6299-4cb5-9e64-3a4349af5701",
   "metadata": {},
   "source": [
    "#### [중요] 아래에 OpenSearch ID/PW 를 입력을 해주세요."
   ]
  },
  {
   "cell_type": "code",
   "execution_count": 8,
   "id": "f139e11d-bb91-488d-a119-344d200d3658",
   "metadata": {
    "tags": []
   },
   "outputs": [],
   "source": [
    "os.environ[\"OpenSearch_UserName\"] = \"Type ID\"\n",
    "os.environ[\"OpenSearch_UserPassword\"] = \"Type PW\"\n",
    "\n",
    "\n",
    "rag_user_name = os.environ[\"OpenSearch_UserName\"]\n",
    "rag_user_password = os.environ[\"OpenSearch_UserPassword\"]"
   ]
  },
  {
   "cell_type": "code",
   "execution_count": 9,
   "id": "5600464b-0e54-4e4b-be13-12fdcecee02c",
   "metadata": {
    "tags": []
   },
   "outputs": [],
   "source": [
    "opensearch_domain_endpoint = \"<Type your domain endpoint>\"\n",
    "\n",
    "\n",
    "http_auth = (rag_user_name, rag_user_password) # Master username, Master password\n",
    "\n",
    "index_name = \"genai-demo-index-v1-with-tokenizer\""
   ]
  },
  {
   "cell_type": "markdown",
   "id": "739c0cbc-547a-4f1c-80a2-de30149641a2",
   "metadata": {
    "tags": []
   },
   "source": [
    "## LangChain OpenSearch VectorStore 생성"
   ]
  },
  {
   "cell_type": "code",
   "execution_count": 10,
   "id": "5a68fb22-7626-4d02-a836-44e079d105a9",
   "metadata": {
    "tags": []
   },
   "outputs": [],
   "source": [
    "from langchain.vectorstores import OpenSearchVectorSearch"
   ]
  },
  {
   "cell_type": "code",
   "execution_count": 11,
   "id": "92a97a8d-0949-4a72-a0b9-c83003cfbd44",
   "metadata": {
    "tags": []
   },
   "outputs": [],
   "source": [
    "vector_db = OpenSearchVectorSearch(\n",
    "    index_name=index_name,\n",
    "    opensearch_url=opensearch_domain_endpoint,\n",
    "    embedding_function=llm_emb,\n",
    "    http_auth=http_auth, # http_auth\n",
    "    is_aoss =False,\n",
    "    engine=\"faiss\",\n",
    "    space_type=\"l2\"\n",
    ")"
   ]
  },
  {
   "cell_type": "markdown",
   "id": "f5eb9b0f-b62b-412a-a6dd-351e23d93cea",
   "metadata": {},
   "source": [
    "## OpenSearch Client 생성"
   ]
  },
  {
   "cell_type": "code",
   "execution_count": 12,
   "id": "1b8813e1-960e-44d4-9910-d9e1a5a3e021",
   "metadata": {
    "tags": []
   },
   "outputs": [],
   "source": [
    "from utils.opensearch import opensearch_utils"
   ]
  },
  {
   "cell_type": "code",
   "execution_count": 13,
   "id": "52ad59ce-768d-49f3-b032-97d2364c66fe",
   "metadata": {
    "tags": []
   },
   "outputs": [],
   "source": [
    "os_client = opensearch_utils.create_aws_opensearch_client(\n",
    "    aws_region,\n",
    "    opensearch_domain_endpoint,\n",
    "    http_auth\n",
    ")"
   ]
  },
  {
   "cell_type": "markdown",
   "id": "55c17e66-f19f-4260-adbe-42ef3751cd18",
   "metadata": {
    "tags": []
   },
   "source": [
    "## 은전한잎 형태소 분석기 (seunjeon_tokenizer) 사용하기 in Opensearch\n",
    "- 형태소 분석기에 대한 자세한 사항은 02_1_KR_RAG_OpenSearch_Keyword.ipynb 참고"
   ]
  },
  {
   "cell_type": "markdown",
   "id": "0d5bf7b7-d003-46d5-b3b7-bdde9ad5191e",
   "metadata": {},
   "source": [
    "### 인덱스 확인 (tokenization 확인)"
   ]
  },
  {
   "cell_type": "code",
   "execution_count": 14,
   "id": "f5f4620e-0720-4d04-96f9-828888ffa9bc",
   "metadata": {
    "tags": []
   },
   "outputs": [
    {
     "name": "stdout",
     "output_type": "stream",
     "text": [
      "{'genai-demo-index-v1-with-tokenizer': {'aliases': {},\n",
      "                                        'mappings': {'properties': {'metadata': {'properties': {'row': {'type': 'long'},\n",
      "                                                                                                'source': {'fields': {'keyword': {'ignore_above': 256,\n",
      "                                                                                                                                  'type': 'keyword'}},\n",
      "                                                                                                           'type': 'text'},\n",
      "                                                                                                'timestamp': {'type': 'float'},\n",
      "                                                                                                'type': {'fields': {'keyword': {'ignore_above': 256,\n",
      "                                                                                                                                'type': 'keyword'}},\n",
      "                                                                                                         'type': 'text'}}},\n",
      "                                                                    'text': {'analyzer': 'my_analyzer',\n",
      "                                                                             'fields': {'keyword': {'ignore_above': 256,\n",
      "                                                                                                    'type': 'keyword'}},\n",
      "                                                                             'type': 'text'},\n",
      "                                                                    'vector_field': {'dimension': 1536,\n",
      "                                                                                     'method': {'engine': 'nmslib',\n",
      "                                                                                                'name': 'hnsw',\n",
      "                                                                                                'parameters': {'ef_construction': 512,\n",
      "                                                                                                               'm': 16},\n",
      "                                                                                                'space_type': 'l2'},\n",
      "                                                                                     'type': 'knn_vector'}}},\n",
      "                                        'settings': {'index': {'analysis': {'analyzer': {'my_analyzer': {'tokenizer': 'seunjeon',\n",
      "                                                                                                         'type': 'custom'}},\n",
      "                                                                            'tokenizer': {'seunjeon': {'type': 'seunjeon_tokenizer'}}},\n",
      "                                                               'creation_date': '1696834340136',\n",
      "                                                               'knn': 'true',\n",
      "                                                               'knn.algo_param': {'ef_search': '512'},\n",
      "                                                               'number_of_replicas': '2',\n",
      "                                                               'number_of_shards': '5',\n",
      "                                                               'provided_name': 'genai-demo-index-v1-with-tokenizer',\n",
      "                                                               'uuid': 'NUpoir9AR4mBZlryEGcy_A',\n",
      "                                                               'version': {'created': '136287827'}}}}}\n"
     ]
    }
   ],
   "source": [
    "index_info = os_client.indices.get(index=index_name)\n",
    "pprint(index_info)"
   ]
  },
  {
   "cell_type": "markdown",
   "id": "83a8087c-8285-469d-af4b-e0f0afb7e95a",
   "metadata": {
    "tags": []
   },
   "source": [
    "# 4. 오픈 서치에 \"유사 서치\" 검색\n",
    "- query 를 제공해서 실제로 유사한 내용이 검색이 되는지를 확인 합니다.\n",
    "\n"
   ]
  },
  {
   "cell_type": "markdown",
   "id": "1507daa4-7642-4288-9c87-df37d54958b0",
   "metadata": {},
   "source": [
    "- similarity_search_with_score API 정보\n",
    "    - [API: similarity_search_with_score](https://api.python.langchain.com/en/latest/vectorstores/langchain.vectorstores.opensearch_vector_search.OpenSearchVectorSearch.html#langchain.vectorstores.opensearch_vector_search.OpenSearchVectorSearch.similarity_search)"
   ]
  },
  {
   "cell_type": "code",
   "execution_count": 15,
   "id": "5ab42354-7478-4d4b-9f07-782ba701617f",
   "metadata": {
    "tags": []
   },
   "outputs": [],
   "source": [
    "import copy\n",
    "from langchain.schema import Document\n",
    "from langchain import PromptTemplate\n",
    "from operator import itemgetter"
   ]
  },
  {
   "cell_type": "markdown",
   "id": "c5d67b3b-0e7f-427e-b7e6-9bcbce12fe4e",
   "metadata": {},
   "source": [
    "## (1) OpenSearch Vector 검색"
   ]
  },
  {
   "cell_type": "markdown",
   "id": "ef54c091-f018-47ed-b1eb-d7c31a1f9343",
   "metadata": {},
   "source": [
    "### 프로프트 템플릿 생성"
   ]
  },
  {
   "cell_type": "code",
   "execution_count": 16,
   "id": "942c11cb-b9a2-4601-b7b3-3b1c119dc6f9",
   "metadata": {
    "tags": []
   },
   "outputs": [],
   "source": [
    "from utils.rag import run_RetrievalQA, show_context_used\n",
    "from langchain.prompts import PromptTemplate"
   ]
  },
  {
   "cell_type": "markdown",
   "id": "a435c89b-e096-468d-baa2-6d2035458bd6",
   "metadata": {},
   "source": [
    "### [TIP] Prompt의 instruction의 경우 한글보다 **영어**로 했을 때 더 좋은 결과를 얻을 수 있습니다."
   ]
  },
  {
   "cell_type": "code",
   "execution_count": 82,
   "id": "ca6fd51a-ae36-46f3-82be-2a6787d00e0c",
   "metadata": {
    "tags": []
   },
   "outputs": [],
   "source": [
    "# prompt_template = \"\"\"\n",
    "# \\n\\nHuman: 다음 문맥의 Information을 사용하여 고객 서비스 센터 직원처럼, 마지막 질문에 대한 목차 형식으로 답변을 제공하세요. 응답을 모르면 모른다고 말하고 응답을 만들려고 하지 마세요.\n",
    "\n",
    "# {context}\n",
    "\n",
    "# Question: {question}\n",
    "# \\n\\nAssistant:\"\"\"\n",
    "\n",
    "prompt_template = \"\"\"\n",
    "\n",
    "\n",
    "Human: Here is the context, inside <context></context> XML tags.    \n",
    "\n",
    "<context>\n",
    "{context}\n",
    "</context>\n",
    "\n",
    "Only using the contex as above, answer the following question with the rules as below:\n",
    "    - Don't insert XML tag such as <context> and </context> when answering.\n",
    "    - Write as much as you can\n",
    "    - Be courteous and polite\n",
    "    - Only answer the question if you can find the answer in the context with certainty.\n",
    "\n",
    "Question:\n",
    "{question}\n",
    "\n",
    "If the answer is not in the context, just say \"주어진 내용에서 관련 답변을 찾을 수 없습니다.\"\n",
    "\n",
    "\n",
    "Assistant:\"\"\"\n",
    "\n",
    "PROMPT = PromptTemplate(\n",
    "    template=prompt_template, input_variables=[\"context\", \"question\"]\n",
    ")\n"
   ]
  },
  {
   "cell_type": "markdown",
   "id": "805f86f7-9177-4f3b-9931-2056250210e2",
   "metadata": {},
   "source": [
    "### 필터 생성"
   ]
  },
  {
   "cell_type": "code",
   "execution_count": 83,
   "id": "04e47cb1-c213-47a3-bb39-c682db5af4bc",
   "metadata": {
    "tags": []
   },
   "outputs": [
    {
     "name": "stdout",
     "output_type": "stream",
     "text": [
      "{'bool': {'filter': [{'term': {'metadata.type': '인터넷뱅킹'}},\n",
      "                     {'term': {'metadata.source': '신한은행'}}]}}\n"
     ]
    }
   ],
   "source": [
    "filter01 = \"인터넷뱅킹\"\n",
    "# filter01 = \"인증서\"\n",
    "filter02 = \"신한은행\"\n",
    "# filter02 = \"아마존은행\"\n",
    "\n",
    "query = \"홈페이지 이용자아이디 여러 개 사용할 수 있나요?\"\n",
    "# query = \"타기관OTP 등록 방법 알려주세요\"\n",
    "\n",
    "boolean_filter = opensearch_utils.get_filter(\n",
    "    filter=[\n",
    "        {\"term\": {\"metadata.type\": filter01}},\n",
    "        {\"term\": {\"metadata.source\": filter02}},\n",
    "    ]\n",
    ")\n",
    "\n",
    "pprint(boolean_filter)"
   ]
  },
  {
   "cell_type": "markdown",
   "id": "39bf26f0-2a8c-4e2f-9fbb-fb8a5c3bf227",
   "metadata": {},
   "source": [
    "### LangChain RetrievalQA 를 통해 실행\n",
    "- 아래와 같이 top_k = 5 를 실행하면 해당 관련 Context 를 가져오지 못하고 , \"주어진 내용에서 찾을 수 없습니다\" 라고 답변 함."
   ]
  },
  {
   "cell_type": "code",
   "execution_count": 85,
   "id": "19ef0a3e-ab46-4a6e-b7ad-520781484038",
   "metadata": {
    "tags": []
   },
   "outputs": [
    {
     "name": "stdout",
     "output_type": "stream",
     "text": [
      "\n",
      "\n",
      "\u001b[1m> Entering new RetrievalQA chain...\u001b[0m\n",
      "\n",
      "\n",
      "\u001b[1m> Entering new StuffDocumentsChain chain...\u001b[0m\n",
      "\n",
      "\n",
      "\u001b[1m> Entering new LLMChain chain...\u001b[0m\n",
      "Prompt after formatting:\n",
      "\u001b[32;1m\u001b[1;3m\n",
      "\n",
      "\n",
      "Human: Here is the context, inside <context></context> XML tags.    \n",
      "\n",
      "<context>\n",
      "ask: 개인정보 변경은 어디서 해야 하나요?\n",
      "Information: 인터넷뱅킹에 로그인 하신 후 \"사용자관리\"를 클릭하신 후 \"고객정보\" > \"고객정보조회/변경\" 에서 개인정보를 변경하실 수 있습니다.\n",
      "\n",
      "ask: 이체한도란 무엇인가요?\n",
      "Information: 이체한도란 인터넷뱅킹, 폰뱅킹, 모바일뱅킹 등을 통하여 이체할 수 있는 거래한도를 말합니다. ① 1일/1회 이체한도 1일 이체한도란 하루에 거래할 수 있는 이체금액의 합을 말하여, 1회 이체한도란 1회에 이체하실 수 있는 금액의 한도를 말합니다. ② 통합이체한도 인터넷뱅킹, 폰뱅킹, 모바일뱅킹 등을 고객님이 사용하시는 경우 고객님이 1일 또는 1회에 이체하실 수 있는 이체한도를 말합니다. 인터넷뱅킹, 폰뱅킹, 모바일뱅킹 등에서 고객님이 거래하신 이체금액의 합이 통합이체한도의 범위를 초과할 수 없습니다. ③ 최고이체한도 금융감독원에서는 개인의 전자금융 시 이용할 수 있는 이체한도의 가이드라인을 정하고 있습니다.(인터넷뱅킹 : 1일 5억원, 1회 1억원 이내)\n",
      "\n",
      "ask: 해외고객 추가인증 방법\n",
      "Information: 먼저 이용에 불편을 드려 대단히 죄송합니다. 2013년 9월 전자금융사기 예방서비스 전면 시행으로 인해, 국내외에서 뱅킹이용시 거래에 따라 추가인증을 거치게 되었습니다.\n",
      "① 인증서 발급/재발급, 1일 누적 300만원 이상 이체시 시행하는 추가인증 방법(누적금액은 변경될수 있습니다.)해외IP로 접속하신 부분이 자동으로 확인되면 ‘해외체류 확인’ 항목이 활성화 되기 때문에 법무부 출입국관리사무소에 출국정보를 확인 받는 부분에 동의하시면 ARS 인증없이 거래가 가능합니다.\n",
      "※ 해외 소재한 국내기업의 내부 인터넷망을 이용하시는 경우 국내IP로 인식하여 해당 추가 인증기능 활성화가 안되는 경우가 있으니 유의부탁드립니다.\n",
      "② 해외에서 온라인을 통한 예금해지/대출실행 업무시 추가인증 방법한국시간 기준으로 은행 영업일의 오전9시부터 오후6시 사이에 뱅킹에 접속하시면  해외 현지 연락처를 직접 입력하여 추가인증의 진행이 가능하도록 되어있습니다. \n",
      "③ 고객정보 보호 목적으로 인터넷뱅킹상에서 개인정보 변경 등의 일부 중요업무이 경우는 ARS인증만을 시행하도록 하고 있습니다.  왜냐하면, 타인에 의한 정보변경 시도 등을 차단하고자 하는 부분이므로 만약 해외에서 070 등 인터넷전화를 사용하시는 경우 미리 한국에서 정보변경을 하지 못하셨다면 고객센터 82-2-3449-8000 또는 82-2-3708-8000으로 상담사에게 문의하시기 바랍니다. \n",
      "④ “불법거래 방지를 위해 이체거래가 정지되었다”라고 뜨는 경우\n",
      "82-2-3449-8000 또는 82-2-3708-8000으로 연락주셔서 상담직원을 통한 사고등록 해제가 가능합니다. 이체제한 해제는 24시간 가능하며, 본인확인을 위해 몇가지 정보확인을 거치는 점 양해바랍니다.\n",
      "82-2-3449-8000 번호로 전화주셔서 음성이 나오면 차례대로 6-3-3-0 코드를 따라서  24시간 사고관련 상담직원과 통화가 가능합니다\n",
      "해외에 계신 고객분들도 뱅킹을 이용하실 수 있도록 편의성 부분도 많이 고려하고 있으나, 최근 해외IP를 통해 전자금융서비스 이용고객분들께 피해를 입히려는 시도가 다수 발생하고 있기 때문에 제한적으로 해외체류 확인 항목을 적용할 수 밖에 없어서 안타깝게 생각합니다. 편리성 못지 않게 고객분들의 소중한 자산을 지키는 것이 중요하다보니 이와 같이 시행하고 있는 점 다시 한번 양해 부탁드립니다.\n",
      "\n",
      "ask: 인터넷뱅킹을 이용하려면 어떻게 해야 합니까?\n",
      "Information: 영업점에 방문하지 않아도, 모바일에서 신한 쏠 (SOL) 어플 다운로드후 회원가입하시면 인터넷뱅킹/모바일뱅킹 가입이 가능합니다. ※ 만 14세 미만의 경우 법정대리인(부모/친권자/후견인)에 의해 영업점 방문하여 가입가능함 기타 궁금하신 내용은 신한은행 고객센터 1599-8000로 문의하여 주시기 바랍니다.\n",
      "\n",
      "ask: 온라인 서비스 신청시 구비서류는?\n",
      "Information: 온라인 서비스 신규는 본인만 가능하고 가입시 필요서류는 다음과 같습니다. 온라인 서비스 신규 시 필요서류 : 본인 신분증. 신분증 : 국가기관 또는 지방자치단체, 교육법에 의한 학교의 장이 발급한 것으로서 성명, 주민등록번호가 기재되어 있고 부착된 사진에 의하여 본인임을 확인할 수 있는 증표 (주민등록증, 운전면허증, 공무증, 여권, 노인복지카드(경로우대증), 장애인복지카드(장애인등록증 포함), 국가 유공자증, 학생증, 외국인등록증, 국내거소신고증 등). 만14세 미만 미성년자. 만 14세 미만 미성년자는 법정대리인에 의한 신청한 가능합니다. 1. 부모가 혼인중인 경우 부 또는 모 신분증, 미성년자 기준으로 발급된 특정기본증명서, 미성년자 기준으로 발급된 상세가족관계증명서. 2. 친권자나 후견인이 지정된 경우 친권자 또는 후견인의 신분증, 미성년자 기준으로 발급된 특정 기본 증명서, 미성년 자녀 기준으로 발급된 일반 가족관계증명서(후견인은 생략). 발급서류는 3개월이내 발급된 원본으로 주민등록번호 13자리가 모두 표기된 서류로 준비부탁드립니다.\n",
      "</context>\n",
      "\n",
      "Only using the contex as above, answer the following question with the rules as below:\n",
      "    - Don't insert XML tag such as <context> and </context> when answering.\n",
      "    - Write as much as you can\n",
      "    - Be courteous and polite\n",
      "    - Only answer the question if you can find the answer in the context with certainty.\n",
      "\n",
      "Question:\n",
      "홈페이지 이용자아이디 여러 개 사용할 수 있나요?\n",
      "\n",
      "If the answer is not in the context, just say \"주어진 내용에서 관련 답변을 찾을 수 없습니다.\"\n",
      "\n",
      "\n",
      "Assistant:\u001b[0m\n",
      "\n",
      "\u001b[1m> Finished chain.\u001b[0m\n",
      "\n",
      "\u001b[1m> Finished chain.\u001b[0m\n",
      "\n",
      "\u001b[1m> Finished chain.\u001b[0m\n",
      "##################################\n",
      "query:  홈페이지 이용자아이디 여러 개 사용할 수 있나요?\n",
      "boolean_filter:  {'bool': {'filter': [{'term': {'metadata.type': '인터넷뱅킹'}}, {'term': {'metadata.source': '신한은행'}}]}}\n",
      "##################################\n",
      "\u001b[34m\n",
      "\n",
      "### Answer ###\u001b[0m\n",
      " 주어진 내용에서 홈페이지 이용자아이디 여러 개 사용 여부에 대한 정보를 찾을 수 없습니다.\n",
      "\u001b[32m\n",
      "\n",
      "### Contexts ###\u001b[0m\n",
      "-----------------------------------------------\n",
      "1. Chunk: 113 Characters\n",
      "-----------------------------------------------\n",
      "ask: 개인정보 변경은 어디서 해야 하나요?\n",
      "Information: 인터넷뱅킹에 로그인 하신 후 \"사용자관리\"를 클릭하신 후 \"고객정보\" > \"고객정보조회/변경\" 에서 개인정보를 변경하실 수 있습니다.\n",
      "metadata:\n",
      " {'source': '신한은행', 'row': 83, 'type': '인터넷뱅킹', 'timestamp': 1696832766.2920146}\n",
      "-----------------------------------------------\n",
      "2. Chunk: 402 Characters\n",
      "-----------------------------------------------\n",
      "ask: 이체한도란 무엇인가요?\n",
      "Information: 이체한도란 인터넷뱅킹, 폰뱅킹, 모바일뱅킹 등을 통하여 이체할 수 있는 거래한도를 말합니다. ① 1일/1회 이체한도 1일 이체한도란 하루에 거래할 수 있는\n",
      "이체금액의 합을 말하여, 1회 이체한도란 1회에 이체하실 수 있는 금액의 한도를 말합니다. ② 통합이체한도 인터넷뱅킹, 폰뱅킹, 모바일뱅킹 등을 고객님이 사용하시는 경우 고객님이\n",
      "1일 또는 1회에 이체하실 수 있는 이체한도를 말합니다. 인터넷뱅킹, 폰뱅킹, 모바일뱅킹 등에서 고객님이 거래하신 이체금액의 합이 통합이체한도의 범위를 초과할 수 없습니다. ③\n",
      "최고이체한도 금융감독원에서는 개인의 전자금융 시 이용할 수 있는 이체한도의 가이드라인을 정하고 있습니다.(인터넷뱅킹 : 1일 5억원, 1회 1억원 이내)\n",
      "metadata:\n",
      " {'source': '신한은행', 'row': 39, 'type': '인터넷뱅킹', 'timestamp': 1696832766.291876}\n",
      "-----------------------------------------------\n",
      "3. Chunk: 1187 Characters\n",
      "-----------------------------------------------\n",
      "ask: 해외고객 추가인증 방법\n",
      "Information: 먼저 이용에 불편을 드려 대단히 죄송합니다. 2013년 9월 전자금융사기 예방서비스 전면 시행으로 인해, 국내외에서 뱅킹이용시 거래에 따라 추가인증을 거치게\n",
      "되었습니다.\n",
      "① 인증서 발급/재발급, 1일 누적 300만원 이상 이체시 시행하는 추가인증 방법(누적금액은 변경될수 있습니다.)해외IP로 접속하신 부분이 자동으로 확인되면 ‘해외체류 확인’\n",
      "항목이 활성화 되기 때문에 법무부 출입국관리사무소에 출국정보를 확인 받는 부분에 동의하시면 ARS 인증없이 거래가 가능합니다.\n",
      "※ 해외 소재한 국내기업의 내부 인터넷망을 이용하시는 경우 국내IP로 인식하여 해당 추가 인증기능 활성화가 안되는 경우가 있으니 유의부탁드립니다.\n",
      "② 해외에서 온라인을 통한 예금해지/대출실행 업무시 추가인증 방법한국시간 기준으로 은행 영업일의 오전9시부터 오후6시 사이에 뱅킹에 접속하시면  해외 현지 연락처를 직접 입력하여\n",
      "추가인증의 진행이 가능하도록 되어있습니다.\n",
      "③ 고객정보 보호 목적으로 인터넷뱅킹상에서 개인정보 변경 등의 일부 중요업무이 경우는 ARS인증만을 시행하도록 하고 있습니다.  왜냐하면, 타인에 의한 정보변경 시도 등을\n",
      "차단하고자 하는 부분이므로 만약 해외에서 070 등 인터넷전화를 사용하시는 경우 미리 한국에서 정보변경을 하지 못하셨다면 고객센터 82-2-3449-8000 또는\n",
      "82-2-3708-8000으로 상담사에게 문의하시기 바랍니다.\n",
      "④ “불법거래 방지를 위해 이체거래가 정지되었다”라고 뜨는 경우\n",
      "82-2-3449-8000 또는 82-2-3708-8000으로 연락주셔서 상담직원을 통한 사고등록 해제가 가능합니다. 이체제한 해제는 24시간 가능하며, 본인확인을 위해 몇가지\n",
      "정보확인을 거치는 점 양해바랍니다.\n",
      "82-2-3449-8000 번호로 전화주셔서 음성이 나오면 차례대로 6-3-3-0 코드를 따라서  24시간 사고관련 상담직원과 통화가 가능합니다\n",
      "해외에 계신 고객분들도 뱅킹을 이용하실 수 있도록 편의성 부분도 많이 고려하고 있으나, 최근 해외IP를 통해 전자금융서비스 이용고객분들께 피해를 입히려는 시도가 다수 발생하고 있기\n",
      "때문에 제한적으로 해외체류 확인 항목을 적용할 수 밖에 없어서 안타깝게 생각합니다. 편리성 못지 않게 고객분들의 소중한 자산을 지키는 것이 중요하다보니 이와 같이 시행하고 있는 점\n",
      "다시 한번 양해 부탁드립니다.\n",
      "metadata:\n",
      " {'source': '신한은행', 'row': 31, 'type': '인터넷뱅킹', 'timestamp': 1696832766.291852}\n",
      "-----------------------------------------------\n",
      "4. Chunk: 214 Characters\n",
      "-----------------------------------------------\n",
      "ask: 인터넷뱅킹을 이용하려면 어떻게 해야 합니까?\n",
      "Information: 영업점에 방문하지 않아도, 모바일에서 신한 쏠 (SOL) 어플 다운로드후 회원가입하시면 인터넷뱅킹/모바일뱅킹 가입이 가능합니다. ※ 만 14세 미만의 경우\n",
      "법정대리인(부모/친권자/후견인)에 의해 영업점 방문하여 가입가능함 기타 궁금하신 내용은 신한은행 고객센터 1599-8000로 문의하여 주시기 바랍니다.\n",
      "metadata:\n",
      " {'source': '신한은행', 'row': 91, 'type': '인터넷뱅킹', 'timestamp': 1696832766.2920375}\n",
      "-----------------------------------------------\n",
      "5. Chunk: 572 Characters\n",
      "-----------------------------------------------\n",
      "ask: 온라인 서비스 신청시 구비서류는?\n",
      "Information: 온라인 서비스 신규는 본인만 가능하고 가입시 필요서류는 다음과 같습니다. 온라인 서비스 신규 시 필요서류 : 본인 신분증. 신분증 : 국가기관 또는\n",
      "지방자치단체, 교육법에 의한 학교의 장이 발급한 것으로서 성명, 주민등록번호가 기재되어 있고 부착된 사진에 의하여 본인임을 확인할 수 있는 증표 (주민등록증, 운전면허증, 공무증,\n",
      "여권, 노인복지카드(경로우대증), 장애인복지카드(장애인등록증 포함), 국가 유공자증, 학생증, 외국인등록증, 국내거소신고증 등). 만14세 미만 미성년자. 만 14세 미만\n",
      "미성년자는 법정대리인에 의한 신청한 가능합니다. 1. 부모가 혼인중인 경우 부 또는 모 신분증, 미성년자 기준으로 발급된 특정기본증명서, 미성년자 기준으로 발급된\n",
      "상세가족관계증명서. 2. 친권자나 후견인이 지정된 경우 친권자 또는 후견인의 신분증, 미성년자 기준으로 발급된 특정 기본 증명서, 미성년 자녀 기준으로 발급된 일반\n",
      "가족관계증명서(후견인은 생략). 발급서류는 3개월이내 발급된 원본으로 주민등록번호 13자리가 모두 표기된 서류로 준비부탁드립니다.\n",
      "metadata:\n",
      " {'source': '신한은행', 'row': 51, 'type': '인터넷뱅킹', 'timestamp': 1696832766.2919142}\n"
     ]
    }
   ],
   "source": [
    "result = run_RetrievalQA(\n",
    "    query=query,\n",
    "    boolean_filter=boolean_filter,\n",
    "    llm=llm_text,\n",
    "    prompt=PROMPT,\n",
    "    vector_db=vector_db,\n",
    "    verbose=True,\n",
    "    k=5\n",
    ")\n",
    "\n",
    "print(\"##################################\")\n",
    "print(\"query: \", query)\n",
    "print(\"boolean_filter: \", boolean_filter)\n",
    "print(\"##################################\")\n",
    "\n",
    "print (colored(\"\\n\\n### Answer ###\", \"blue\"))\n",
    "print_ww(result['result'])\n",
    "\n",
    "print (colored(\"\\n\\n### Contexts ###\", \"green\"))\n",
    "show_context_used(result['source_documents'])"
   ]
  },
  {
   "cell_type": "markdown",
   "id": "4b652850-90b9-4fb3-8fa8-e7f590844ed9",
   "metadata": {},
   "source": [
    "## (2) OpenSearch Keyword 검색\n",
    "- \"minimum_should_match=50\" 세팅을 하고, 관련 컨텍스트를 찾아 오지 못합니다."
   ]
  },
  {
   "cell_type": "code",
   "execution_count": 91,
   "id": "233684b4-70fa-4342-bd58-8ba3d41502a6",
   "metadata": {
    "tags": []
   },
   "outputs": [],
   "source": [
    "from utils.opensearch import opensearch_utils\n",
    "from utils.rag import get_keyword_similar_docs \n",
    "from langchain.chains.question_answering import load_qa_chain"
   ]
  },
  {
   "cell_type": "code",
   "execution_count": 92,
   "id": "aeff3cd0-99c9-4e48-9250-3ec1e45f1bbd",
   "metadata": {
    "tags": []
   },
   "outputs": [
    {
     "name": "stdout",
     "output_type": "stream",
     "text": [
      "keyword search query: \n",
      "{'query': {'bool': {'filter': [{'term': {'metadata.type': '인터넷뱅킹'}},\n",
      "                               {'term': {'metadata.source': '신한은행'}}],\n",
      "                    'must': [{'match': {'text': {'minimum_should_match': '50%',\n",
      "                                                 'operator': 'or',\n",
      "                                                 'query': '홈페이지 이용자아이디 여러 개 '\n",
      "                                                          '사용할 수 있나요?'}}}]}},\n",
      " 'size': 5}\n",
      "[Document(page_content='ask: 인터넷뱅킹 비밀번호를 잊어버렸습니다.\\nInformation: 인터넷뱅킹 로그인시 사용되는 인증서 암호를 잊어버리셨다면, 영업점 방문없이 인증서 재발급을 통해 인증서 암호를 다시 설정하실수 있습니다. 당행에서 발급한 인증서인 경우 당행 홈페이지에서 재발급하시면 됩니다. 신한은행 홈페이지 인증센터로 접속하시면 금융인증서와 공동인증서구 공인인증서로 메뉴가 분리되어 있으므로 해당 메뉴를 선택해서 접속해 주시면 됩니다. 타기관에서 발급된 인증서인 경우엔 해당기관에서 재발급후, 당행 홈페이지 타기관 공인인증서 등록/해제 메뉴에서 등록 후 이용하시면 됩니다.', metadata={'source': '신한은행', 'row': 71, 'type': '인터넷뱅킹', 'timestamp': 1696832766.2919788, 'id': '601b677c-b2dc-4e78-9dd5-cfa791c4c5d6'})]\n"
     ]
    }
   ],
   "source": [
    "filter01 = \"인터넷뱅킹\"\n",
    "# filter01 = \"인증서\"\n",
    "filter02 = \"신한은행\"\n",
    "# filter02 = \"아마존은행\"\n",
    "\n",
    "query = \"홈페이지 이용자아이디 여러 개 사용할 수 있나요?\"\n",
    "#query = \"타기관OTP 등록 방법 알려주세요\"\n",
    "\n",
    "search_keyword_result = get_keyword_similar_docs(\n",
    "    query=query,\n",
    "    minimum_should_match=50,\n",
    "    filter=[\n",
    "        {\"term\": {\"metadata.type\": filter01}},\n",
    "        {\"term\": {\"metadata.source\": filter02}},\n",
    "    ],\n",
    "    index_name=index_name,\n",
    "    os_client=os_client,\n",
    "    k=5,\n",
    "    hybrid=False\n",
    ")\n",
    "print(search_keyword_result)"
   ]
  },
  {
   "cell_type": "code",
   "execution_count": 93,
   "id": "ba3d39ae-0ecf-485c-a1de-bae28674e4fd",
   "metadata": {
    "tags": []
   },
   "outputs": [
    {
     "name": "stdout",
     "output_type": "stream",
     "text": [
      "\n",
      "\n",
      "\u001b[1m> Entering new StuffDocumentsChain chain...\u001b[0m\n",
      "\n",
      "\n",
      "\u001b[1m> Entering new LLMChain chain...\u001b[0m\n",
      "Prompt after formatting:\n",
      "\u001b[32;1m\u001b[1;3m\n",
      "\n",
      "\n",
      "Human: Here is the context, inside <context></context> XML tags.    \n",
      "\n",
      "<context>\n",
      "ask: 인터넷뱅킹 비밀번호를 잊어버렸습니다.\n",
      "Information: 인터넷뱅킹 로그인시 사용되는 인증서 암호를 잊어버리셨다면, 영업점 방문없이 인증서 재발급을 통해 인증서 암호를 다시 설정하실수 있습니다. 당행에서 발급한 인증서인 경우 당행 홈페이지에서 재발급하시면 됩니다. 신한은행 홈페이지 인증센터로 접속하시면 금융인증서와 공동인증서구 공인인증서로 메뉴가 분리되어 있으므로 해당 메뉴를 선택해서 접속해 주시면 됩니다. 타기관에서 발급된 인증서인 경우엔 해당기관에서 재발급후, 당행 홈페이지 타기관 공인인증서 등록/해제 메뉴에서 등록 후 이용하시면 됩니다.\n",
      "</context>\n",
      "\n",
      "Only using the contex as above, answer the following question with the rules as below:\n",
      "    - Don't insert XML tag such as <context> and </context> when answering.\n",
      "    - Write as much as you can\n",
      "    - Be courteous and polite\n",
      "    - Only answer the question if you can find the answer in the context with certainty.\n",
      "\n",
      "Question:\n",
      "홈페이지 이용자아이디 여러 개 사용할 수 있나요?\n",
      "\n",
      "If the answer is not in the context, just say \"주어진 내용에서 관련 답변을 찾을 수 없습니다.\"\n",
      "\n",
      "\n",
      "Assistant:\u001b[0m\n",
      "\n",
      "\u001b[1m> Finished chain.\u001b[0m\n",
      "\n",
      "\u001b[1m> Finished chain.\u001b[0m\n",
      "##############################\n",
      "query: \n",
      " 홈페이지 이용자아이디 여러 개 사용할 수 있나요?\n",
      "answer: \n",
      "  주어진 내용에서는 홈페이지 이용자아이디 여러 개 사용 여부에 대한 정보를 찾을 수 없습니다. \"주어진 내용에서 관련 답변을 찾을 수 없습니다.\"\n"
     ]
    }
   ],
   "source": [
    "chain = load_qa_chain(\n",
    "    llm=llm_text,\n",
    "    chain_type=\"stuff\",\n",
    "    prompt=PROMPT,\n",
    "    verbose=True\n",
    ")\n",
    "\n",
    "answer = chain.run(\n",
    "    input_documents=search_keyword_result,\n",
    "    question=query\n",
    ")\n",
    "\n",
    "print(\"##############################\")\n",
    "print(\"query: \\n\", query)\n",
    "print(\"answer: \\n\", answer)"
   ]
  },
  {
   "cell_type": "markdown",
   "id": "5d4c2835-355a-4ce5-bbdf-64e3b69f3fd9",
   "metadata": {
    "tags": []
   },
   "source": [
    "### 키워드 검색 결과 (search_keyword_result)\n",
    "bm25 score는 max_value로 normalization 되어 있음 (score range 0 - 1)"
   ]
  },
  {
   "cell_type": "code",
   "execution_count": 94,
   "id": "705d287f-2dee-4a01-a7a1-cf39922c5ad0",
   "metadata": {
    "tags": []
   },
   "outputs": [
    {
     "data": {
      "text/plain": [
       "[Document(page_content='ask: 인터넷뱅킹 비밀번호를 잊어버렸습니다.\\nInformation: 인터넷뱅킹 로그인시 사용되는 인증서 암호를 잊어버리셨다면, 영업점 방문없이 인증서 재발급을 통해 인증서 암호를 다시 설정하실수 있습니다. 당행에서 발급한 인증서인 경우 당행 홈페이지에서 재발급하시면 됩니다. 신한은행 홈페이지 인증센터로 접속하시면 금융인증서와 공동인증서구 공인인증서로 메뉴가 분리되어 있으므로 해당 메뉴를 선택해서 접속해 주시면 됩니다. 타기관에서 발급된 인증서인 경우엔 해당기관에서 재발급후, 당행 홈페이지 타기관 공인인증서 등록/해제 메뉴에서 등록 후 이용하시면 됩니다.', metadata={'source': '신한은행', 'row': 71, 'type': '인터넷뱅킹', 'timestamp': 1696832766.2919788, 'id': '601b677c-b2dc-4e78-9dd5-cfa791c4c5d6'})]"
      ]
     },
     "execution_count": 94,
     "metadata": {},
     "output_type": "execute_result"
    }
   ],
   "source": [
    "search_keyword_result"
   ]
  },
  {
   "cell_type": "markdown",
   "id": "a67677f4-2e37-44a2-b11f-2ba338651c85",
   "metadata": {
    "tags": []
   },
   "source": [
    "## (3) OpenSearch Hybrid 검색\n",
    "- 아래는 결론적으로 query = \"홈페이지 이용자아이디 여러 개 사용할 수 있나요?\" 에 답변을 제공 합니다.\n",
    "    - 시멘티 서치에서 LangChain 의 RetrievalQA 사용 대신에 , LangChain OpenSearch Vector Store의 similarity_search_with_score 를 사용 하여 제일 첫번재에 해당 답변이 검색이 됩니다.\n",
    "    - 키워드 검색에서는 해당 qeury 가 검색이 되지 않습니다.\n",
    "    - 이후에 시멘틱 검색, 키워드 검색에 가중치를 [0.3 , 0.5] 를 주어서 Ensembe 을 하여 랭킹을 하면, top_k = 5 에서 5번재로 Context 로 포함이 되어서 , 최종 검색이 됩니다."
   ]
  },
  {
   "cell_type": "markdown",
   "id": "28b1978e-de8d-41a6-84e1-36c8efdaf7ec",
   "metadata": {
    "tags": []
   },
   "source": [
    "#### OpenSearch Hybrid 는 아래와 같은 방식으로 작동합니다.\n",
    "- (1) \"Vector 서치\" 하여 스코어를 얻은 후에 표준화를 하여 스코어를 구함. \n",
    "    - 전체 결과에서 가장 높은 스코어는 표준화 과정을 통하여 스코어가 1.0 이 됨.\n",
    "- (2) Keyword 서치도 동일하게 함.\n",
    "- (3) 위의 두 개의 결과에 랭킹 알고리즘 (\"RRF\" 혹은 \"simple_weighted\"] 을 통해, 스코어를 계산하여 정렬하여 제공 함.\n",
    "    - 여기서는 simple_weighted 사용 함."
   ]
  },
  {
   "cell_type": "markdown",
   "id": "08264189-2886-4923-a3da-d0cd94f58d0a",
   "metadata": {},
   "source": [
    "스코어 표준화 예시\n",
    "\n",
    "<pre>\n",
    "Docs    Score\t    Normalized-Score\n",
    "\n",
    "Doc1: \t0.0083\t\t1.0\n",
    "\n",
    "Doc2: \t0.0074\t\t0.8900\n",
    "\n",
    "Doc3: \t0.0071\t\t0.8585\n",
    "\n",
    "Example: 0.0074 / 0.0083 = 0.8900\n",
    "</pre>"
   ]
  },
  {
   "cell_type": "code",
   "execution_count": 36,
   "id": "02bf59e1-efb2-4fca-a3dc-47322d31387a",
   "metadata": {
    "tags": []
   },
   "outputs": [],
   "source": [
    "from utils.rag import interpolate_results, sort_score_search_results\n",
    "from utils.rag import get_semantic_similar_docs, get_keyword_similar_docs, ensemble_results#, get_similiar_docs"
   ]
  },
  {
   "cell_type": "code",
   "execution_count": 101,
   "id": "0cd6171a-50dc-4245-a12b-7b1767f89a6a",
   "metadata": {
    "tags": []
   },
   "outputs": [],
   "source": [
    "def search_hybrid(**kwargs):\n",
    "    \n",
    "    assert \"query\" in kwargs, \"Check your query\"\n",
    "    assert \"vector_db\" in kwargs, \"Check your vector_db\"\n",
    "    assert \"index_name\" in kwargs, \"Check your index_name\"\n",
    "    assert \"os_client\" in kwargs, \"Check your os_client\"\n",
    "    assert \"qa_chain\" in kwargs, \"Check your qa_chain\"\n",
    "\n",
    "    similar_docs_semantic = get_semantic_similar_docs(\n",
    "        vector_db=kwargs[\"vector_db\"],\n",
    "        query=kwargs[\"query\"],\n",
    "        k=kwargs.get(\"k\", 5),\n",
    "        hybrid=True\n",
    "    )\n",
    "    print(\"##############################\")\n",
    "    print(\"similar_docs_semantic\")\n",
    "    print(\"##############################\")    \n",
    "    print(similar_docs_semantic)    \n",
    "\n",
    "    similar_docs_keyword = get_keyword_similar_docs(\n",
    "        query=query,\n",
    "        minimum_should_match=kwargs.get(\"minimum_should_match\", 0),\n",
    "        filter=kwargs.get(\"filter\", []),\n",
    "        index_name=kwargs[\"index_name\"],\n",
    "        os_client=kwargs[\"os_client\"],\n",
    "        k=kwargs.get(\"k\", 5),\n",
    "        hybrid=True\n",
    "    )\n",
    "    \n",
    "    print(\"##############################\")    \n",
    "    print(\"similar_docs_keyword\")    \n",
    "    print(\"##############################\")    \n",
    "    print(similar_docs_keyword)        \n",
    "\n",
    "    similar_docs_ensemble = ensemble_results(\n",
    "        doc_lists = [similar_docs_semantic, similar_docs_keyword],\n",
    "        weights = kwargs.get(\"ensemble_weights\", [.5, .5]),\n",
    "        algorithm=\"simple_weighted\",\n",
    "        c=60,\n",
    "        k=kwargs.get(\"k\", 5)\n",
    "    )\n",
    "\n",
    "    print(\"##############################\")\n",
    "    print(\"similar_docs_ensemble\")\n",
    "    print(\"##############################\")    \n",
    "    print(similar_docs_ensemble)        \n",
    "    \n",
    "    similar_docs_ensemble = list(map(lambda x:x[0], similar_docs_ensemble))\n",
    "\n",
    "    \n",
    "    answer = kwargs[\"qa_chain\"].run(\n",
    "        input_documents=similar_docs_ensemble,\n",
    "        question=query\n",
    "    )\n",
    "\n",
    "    return answer\n"
   ]
  },
  {
   "cell_type": "code",
   "execution_count": 102,
   "id": "e85e5d94-567f-4a2c-9674-06613e09656e",
   "metadata": {
    "tags": []
   },
   "outputs": [
    {
     "name": "stdout",
     "output_type": "stream",
     "text": [
      "##############################\n",
      "similar_docs_semantic\n",
      "##############################\n",
      "[(Document(page_content='ask: 홈페이지 이용자아이디 여러 개 사용할 수 있나요?\\nInformation: 홈페이지 이용자 아이디는 개인의 경우 1인 1개만 이용 가능하고 기업의 경우에는 1개의 사업자번호당 사용자별로 이용자아이디를 복수로 사용할 수 있습니다. \\r\\n※ 개인사업자의 경우 개인과 기업 각각 이용자아이디를 발급하여 복수로 이용 가능합니다. \\r\\n기타 궁금하신 내용은 신한은행 고객센터 1599-8000로 문의하여 주시기 바랍니다.', metadata={'source': '신한은행', 'row': 21, 'type': '홈페이지', 'timestamp': 1696832766.2918196}), 1.0), (Document(page_content='ask: 홈페이지 회원아이디를 변경하고 싶습니다.\\nInformation: 회원탈퇴를 하시고, 사용하시고 싶은 아이디로 신규 회원가입신청을 하시면 됩니다. 다만, 사용하시고 싶은 아이디가 이미 다른 고객이 사용하고 있는 경우에는 사용하실 수 없습니다. 기타 문의는 콜센터 1599-8000번으로 문의 바랍니다.', metadata={'source': '신한은행', 'row': 45, 'type': '홈페이지', 'timestamp': 1696832766.2918956}), 0.8344235482494401), (Document(page_content=\"ask: 만14세 미만의 고객은 홈페이지 회원가입이 가능하나요?\\nInformation: 만 14세 미만 고객은 회원가입시 '정보통신망 이용촉진 및 정보 등에 관한 법률' 및 '개인정보보호지침'에 따라 법정대리인의 정보활용 동의가 필요합니다. 당행 영업점을 통한 보호자분의 홈페이지 회원 법정대리인 등록이 완료된 고객님에 한하여 회원등록이 가능하므로 홈페이지 회원 법정대리인 등록이 안된 고객님의 보호자분께서는 먼저 가까운 영업점을 방문하여 주시기 바랍니다. [구비서류] - 법정대리인 실명확인증표 - 미성년자 기준으로 발급된 특정 또는 상세 기본증명서 - 미성년자 기준으로 발급된 가족관계증명서 * 은행 방문일로부터 3개월 이내 발급한 서류로 준비해주셔야 하며, 성함과 주민등록번호 13자리가 모두 기재되어 있어야합니다. 기타 문의는 콜센터 1599-8000번으로 문의 바랍니다.\", metadata={'source': '신한은행', 'row': 48, 'type': '홈페이지', 'timestamp': 1696832766.2919052}), 0.763783803686542), (Document(page_content='ask: 홈페이지 고객정보를 수정하고 싶습니다.\\nInformation: 홈페이지 회원로그인 후 정보수정을 하실 수 있습니다. 홈페이지 상단에 있는 [고객센터]를 클릭하여, 회원서비스 → 회원정보변경 메뉴에서 회원정보변경을 이용하시기 바랍니다. 인터넷뱅킹의 회원정보는 인터넷뱅킹으로 로그인 하신 후 사용자 관리메뉴를 이용하여 수정하시기 바랍니다. 기타 문의는 콜센터 1599-8000번으로 문의 바랍니다.', metadata={'source': '신한은행', 'row': 46, 'type': '홈페이지', 'timestamp': 1696832766.2918987}), 0.7615428189470582), (Document(page_content='ask: 홈페이지 회원가입은 어떻게 해야 하나요?\\nInformation: 홈페이지 상단에 있는 [고객센터]를 클릭하여, 회원서비스 → 회원가입메뉴에서 회원가입 메뉴를 이용하시기 바랍니다. 기타 문의는 콜센터 1599-8000번으로 문의 바랍니다.', metadata={'source': '신한은행', 'row': 49, 'type': '홈페이지', 'timestamp': 1696832766.2919078}), 0.760413744661085)]\n",
      "keyword search query: \n",
      "{'query': {'bool': {'filter': [{'term': {'metadata.type': '인터넷뱅킹'}},\n",
      "                               {'term': {'metadata.source': '신한은행'}}],\n",
      "                    'must': [{'match': {'text': {'minimum_should_match': '0%',\n",
      "                                                 'operator': 'or',\n",
      "                                                 'query': '홈페이지 이용자아이디 여러 개 '\n",
      "                                                          '사용할 수 있나요?'}}}]}},\n",
      " 'size': 5}\n",
      "##############################\n",
      "similar_docs_keyword\n",
      "##############################\n",
      "[(Document(page_content='ask: 인터넷뱅킹 비밀번호를 잊어버렸습니다.\\nInformation: 인터넷뱅킹 로그인시 사용되는 인증서 암호를 잊어버리셨다면, 영업점 방문없이 인증서 재발급을 통해 인증서 암호를 다시 설정하실수 있습니다. 당행에서 발급한 인증서인 경우 당행 홈페이지에서 재발급하시면 됩니다. 신한은행 홈페이지 인증센터로 접속하시면 금융인증서와 공동인증서구 공인인증서로 메뉴가 분리되어 있으므로 해당 메뉴를 선택해서 접속해 주시면 됩니다. 타기관에서 발급된 인증서인 경우엔 해당기관에서 재발급후, 당행 홈페이지 타기관 공인인증서 등록/해제 메뉴에서 등록 후 이용하시면 됩니다.', metadata={'source': '신한은행', 'row': 71, 'type': '인터넷뱅킹', 'timestamp': 1696832766.2919788, 'id': '601b677c-b2dc-4e78-9dd5-cfa791c4c5d6'}), 1.0), (Document(page_content='ask: 즉시/예약 이체 서비스가 안되는 경우 어떻게 해야해?\\nInformation: 이체서비스가 되지 않는 경우 여러가지 사유가 있을수 있으니, 신한은행 고객상담센터 1599-8000번으로 문의 주시면 자세히 상담해드리겠습니다.', metadata={'source': '신한은행', 'row': 62, 'type': '인터넷뱅킹', 'timestamp': 1696832766.2919457, 'id': '58c26049-6b20-48c5-900b-6dbb086f4443'}), 0.8673978366570235), (Document(page_content='ask: 인터넷뱅킹을 하고자 하는데 인증서는 어디서 발급 하나요?\\nInformation: 인증서는 신한은행에 인터넷뱅킹서비스가 가입되어 있으시면 신한은행 홈페이지 또는 신한 쏠(SOL)의 인증센터에서 발급 가능합니다. ※ 개인은 주민번호로 금융기관 통합하여 발급기관별, 용도별로 한 개의 인증서만 발급이 가능합니다. 예) 타은행에서 은행/신용카드/보험용(결제원) 인증서를 발급받은 경우 → 당행 은행/신용카드/보험용(결제원) 인증서 발급 불가', metadata={'source': '신한은행', 'row': 82, 'type': '인터넷뱅킹', 'timestamp': 1696832766.292012, 'id': '83ba4cc9-f2f9-4e7b-883b-c10df95e0867'}), 0.7458976295055446), (Document(page_content='ask: 보내신 메일의 이름은 제이름이 아닙니다.라고 나옵니다.\\nInformation: \"신한은행에서 발송하는 메일 중 다른 고객이름으로 발송되는 경우가 가끔씩 발생합니다. ① 이메일계정 제공하는 포탈업체에서 동일한 이메일주소를 타 고객이 사용하시다가 본인이 해지하는 경우 ② 일정기간 이메일이 사용되지 않으면 해당 이메일계정 제공업체에서 임의로 삭제하여 이메일주소를 타인이 사용할 수 있도록 하는 경우 ③ 저희 은행을 이용하시는 고객이 이메일주소를 잘못 등록하시는 경우에 발생합니다. ※ 고객센터(1577-8000)로 전화주시면 해당이메일주소를 등록하신 고객님께 연락하여 향후 재발송되지 않도록 조치하겠습니다.', metadata={'source': '신한은행', 'row': 55, 'type': '인터넷뱅킹', 'timestamp': 1696832766.2919254, 'id': '6b3a8536-bcf4-403b-94cd-b79014a8f0a4'}), 0.634298366283272), (Document(page_content='ask: 이체한도란 무엇인가요?\\nInformation: 이체한도란 인터넷뱅킹, 폰뱅킹, 모바일뱅킹 등을 통하여 이체할 수 있는 거래한도를 말합니다. ① 1일/1회 이체한도 1일 이체한도란 하루에 거래할 수 있는 이체금액의 합을 말하여, 1회 이체한도란 1회에 이체하실 수 있는 금액의 한도를 말합니다. ② 통합이체한도 인터넷뱅킹, 폰뱅킹, 모바일뱅킹 등을 고객님이 사용하시는 경우 고객님이 1일 또는 1회에 이체하실 수 있는 이체한도를 말합니다. 인터넷뱅킹, 폰뱅킹, 모바일뱅킹 등에서 고객님이 거래하신 이체금액의 합이 통합이체한도의 범위를 초과할 수 없습니다. ③ 최고이체한도 금융감독원에서는 개인의 전자금융 시 이용할 수 있는 이체한도의 가이드라인을 정하고 있습니다.(인터넷뱅킹 : 1일 5억원, 1회 1억원 이내)', metadata={'source': '신한은행', 'row': 39, 'type': '인터넷뱅킹', 'timestamp': 1696832766.291876, 'id': '42fea4d5-39eb-4269-946d-a10f73d90e75'}), 0.558196275577827)]\n",
      "##############################\n",
      "similar_docs_ensemble\n",
      "##############################\n",
      "[(Document(page_content='ask: 인터넷뱅킹 비밀번호를 잊어버렸습니다.\\nInformation: 인터넷뱅킹 로그인시 사용되는 인증서 암호를 잊어버리셨다면, 영업점 방문없이 인증서 재발급을 통해 인증서 암호를 다시 설정하실수 있습니다. 당행에서 발급한 인증서인 경우 당행 홈페이지에서 재발급하시면 됩니다. 신한은행 홈페이지 인증센터로 접속하시면 금융인증서와 공동인증서구 공인인증서로 메뉴가 분리되어 있으므로 해당 메뉴를 선택해서 접속해 주시면 됩니다. 타기관에서 발급된 인증서인 경우엔 해당기관에서 재발급후, 당행 홈페이지 타기관 공인인증서 등록/해제 메뉴에서 등록 후 이용하시면 됩니다.', metadata={'source': '신한은행', 'row': 71, 'type': '인터넷뱅킹', 'timestamp': 1696832766.2919788, 'id': '601b677c-b2dc-4e78-9dd5-cfa791c4c5d6'}), 0.5), (Document(page_content='ask: 즉시/예약 이체 서비스가 안되는 경우 어떻게 해야해?\\nInformation: 이체서비스가 되지 않는 경우 여러가지 사유가 있을수 있으니, 신한은행 고객상담센터 1599-8000번으로 문의 주시면 자세히 상담해드리겠습니다.', metadata={'source': '신한은행', 'row': 62, 'type': '인터넷뱅킹', 'timestamp': 1696832766.2919457, 'id': '58c26049-6b20-48c5-900b-6dbb086f4443'}), 0.43369891832851176), (Document(page_content='ask: 인터넷뱅킹을 하고자 하는데 인증서는 어디서 발급 하나요?\\nInformation: 인증서는 신한은행에 인터넷뱅킹서비스가 가입되어 있으시면 신한은행 홈페이지 또는 신한 쏠(SOL)의 인증센터에서 발급 가능합니다. ※ 개인은 주민번호로 금융기관 통합하여 발급기관별, 용도별로 한 개의 인증서만 발급이 가능합니다. 예) 타은행에서 은행/신용카드/보험용(결제원) 인증서를 발급받은 경우 → 당행 은행/신용카드/보험용(결제원) 인증서 발급 불가', metadata={'source': '신한은행', 'row': 82, 'type': '인터넷뱅킹', 'timestamp': 1696832766.292012, 'id': '83ba4cc9-f2f9-4e7b-883b-c10df95e0867'}), 0.3729488147527723), (Document(page_content='ask: 보내신 메일의 이름은 제이름이 아닙니다.라고 나옵니다.\\nInformation: \"신한은행에서 발송하는 메일 중 다른 고객이름으로 발송되는 경우가 가끔씩 발생합니다. ① 이메일계정 제공하는 포탈업체에서 동일한 이메일주소를 타 고객이 사용하시다가 본인이 해지하는 경우 ② 일정기간 이메일이 사용되지 않으면 해당 이메일계정 제공업체에서 임의로 삭제하여 이메일주소를 타인이 사용할 수 있도록 하는 경우 ③ 저희 은행을 이용하시는 고객이 이메일주소를 잘못 등록하시는 경우에 발생합니다. ※ 고객센터(1577-8000)로 전화주시면 해당이메일주소를 등록하신 고객님께 연락하여 향후 재발송되지 않도록 조치하겠습니다.', metadata={'source': '신한은행', 'row': 55, 'type': '인터넷뱅킹', 'timestamp': 1696832766.2919254, 'id': '6b3a8536-bcf4-403b-94cd-b79014a8f0a4'}), 0.317149183141636), (Document(page_content='ask: 홈페이지 이용자아이디 여러 개 사용할 수 있나요?\\nInformation: 홈페이지 이용자 아이디는 개인의 경우 1인 1개만 이용 가능하고 기업의 경우에는 1개의 사업자번호당 사용자별로 이용자아이디를 복수로 사용할 수 있습니다. \\r\\n※ 개인사업자의 경우 개인과 기업 각각 이용자아이디를 발급하여 복수로 이용 가능합니다. \\r\\n기타 궁금하신 내용은 신한은행 고객센터 1599-8000로 문의하여 주시기 바랍니다.', metadata={'source': '신한은행', 'row': 21, 'type': '홈페이지', 'timestamp': 1696832766.2918196}), 0.3)]\n",
      "\n",
      "\n",
      "\u001b[1m> Entering new StuffDocumentsChain chain...\u001b[0m\n",
      "\n",
      "\n",
      "\u001b[1m> Entering new LLMChain chain...\u001b[0m\n",
      "Prompt after formatting:\n",
      "\u001b[32;1m\u001b[1;3m\n",
      "\n",
      "\n",
      "Human: Here is the context, inside <context></context> XML tags.    \n",
      "\n",
      "<context>\n",
      "ask: 인터넷뱅킹 비밀번호를 잊어버렸습니다.\n",
      "Information: 인터넷뱅킹 로그인시 사용되는 인증서 암호를 잊어버리셨다면, 영업점 방문없이 인증서 재발급을 통해 인증서 암호를 다시 설정하실수 있습니다. 당행에서 발급한 인증서인 경우 당행 홈페이지에서 재발급하시면 됩니다. 신한은행 홈페이지 인증센터로 접속하시면 금융인증서와 공동인증서구 공인인증서로 메뉴가 분리되어 있으므로 해당 메뉴를 선택해서 접속해 주시면 됩니다. 타기관에서 발급된 인증서인 경우엔 해당기관에서 재발급후, 당행 홈페이지 타기관 공인인증서 등록/해제 메뉴에서 등록 후 이용하시면 됩니다.\n",
      "\n",
      "ask: 즉시/예약 이체 서비스가 안되는 경우 어떻게 해야해?\n",
      "Information: 이체서비스가 되지 않는 경우 여러가지 사유가 있을수 있으니, 신한은행 고객상담센터 1599-8000번으로 문의 주시면 자세히 상담해드리겠습니다.\n",
      "\n",
      "ask: 인터넷뱅킹을 하고자 하는데 인증서는 어디서 발급 하나요?\n",
      "Information: 인증서는 신한은행에 인터넷뱅킹서비스가 가입되어 있으시면 신한은행 홈페이지 또는 신한 쏠(SOL)의 인증센터에서 발급 가능합니다. ※ 개인은 주민번호로 금융기관 통합하여 발급기관별, 용도별로 한 개의 인증서만 발급이 가능합니다. 예) 타은행에서 은행/신용카드/보험용(결제원) 인증서를 발급받은 경우 → 당행 은행/신용카드/보험용(결제원) 인증서 발급 불가\n",
      "\n",
      "ask: 보내신 메일의 이름은 제이름이 아닙니다.라고 나옵니다.\n",
      "Information: \"신한은행에서 발송하는 메일 중 다른 고객이름으로 발송되는 경우가 가끔씩 발생합니다. ① 이메일계정 제공하는 포탈업체에서 동일한 이메일주소를 타 고객이 사용하시다가 본인이 해지하는 경우 ② 일정기간 이메일이 사용되지 않으면 해당 이메일계정 제공업체에서 임의로 삭제하여 이메일주소를 타인이 사용할 수 있도록 하는 경우 ③ 저희 은행을 이용하시는 고객이 이메일주소를 잘못 등록하시는 경우에 발생합니다. ※ 고객센터(1577-8000)로 전화주시면 해당이메일주소를 등록하신 고객님께 연락하여 향후 재발송되지 않도록 조치하겠습니다.\n",
      "\n",
      "ask: 홈페이지 이용자아이디 여러 개 사용할 수 있나요?\n",
      "Information: 홈페이지 이용자 아이디는 개인의 경우 1인 1개만 이용 가능하고 기업의 경우에는 1개의 사업자번호당 사용자별로 이용자아이디를 복수로 사용할 수 있습니다. \n",
      "※ 개인사업자의 경우 개인과 기업 각각 이용자아이디를 발급하여 복수로 이용 가능합니다. \n",
      "기타 궁금하신 내용은 신한은행 고객센터 1599-8000로 문의하여 주시기 바랍니다.\n",
      "</context>\n",
      "\n",
      "Only using the contex as above, answer the following question with the rules as below:\n",
      "    - Don't insert XML tag such as <context> and </context> when answering.\n",
      "    - Write as much as you can\n",
      "    - Be courteous and polite\n",
      "    - Only answer the question if you can find the answer in the context with certainty.\n",
      "\n",
      "Question:\n",
      "홈페이지 이용자아이디 여러 개 사용할 수 있나요?\n",
      "\n",
      "If the answer is not in the context, just say \"주어진 내용에서 관련 답변을 찾을 수 없습니다.\"\n",
      "\n",
      "\n",
      "Assistant:\u001b[0m\n",
      "\n",
      "\u001b[1m> Finished chain.\u001b[0m\n",
      "\n",
      "\u001b[1m> Finished chain.\u001b[0m\n",
      "CPU times: user 38.2 ms, sys: 297 µs, total: 38.5 ms\n",
      "Wall time: 18.9 s\n"
     ]
    }
   ],
   "source": [
    "%%time\n",
    "\n",
    "filter01 = \"인터넷뱅킹\"\n",
    "# filter01 = \"인증서\"\n",
    "filter02 = \"신한은행\"\n",
    "# filter02 = \"아마존은행\"\n",
    "\n",
    "query = \"홈페이지 이용자아이디 여러 개 사용할 수 있나요?\"\n",
    "#query = \"타기관OTP 등록 방법 알려주세요\"\n",
    "#query = \"웹싸이트 계정몇 개 사용할 수 있나요?\"\n",
    "\n",
    "answer = search_hybrid(\n",
    "    query=query,\n",
    "    vector_db=vector_db,\n",
    "    k=5,\n",
    "    index_name=index_name,\n",
    "    os_client=os_client,\n",
    "    filter=[\n",
    "        {\"term\": {\"metadata.type\": filter01}},\n",
    "        {\"term\": {\"metadata.source\": filter02}},\n",
    "    ],\n",
    "    ensemble_weights=[.3, .5], # 시멘트 서치에 가중치 0.3 , 키워드 서치 가중치 0.5 부여.\n",
    "    qa_chain=chain\n",
    ")"
   ]
  },
  {
   "cell_type": "code",
   "execution_count": 70,
   "id": "92313609-5682-45ca-8eeb-8cf87bfb4270",
   "metadata": {
    "tags": []
   },
   "outputs": [
    {
     "name": "stdout",
     "output_type": "stream",
     "text": [
      "question: 홈페이지 이용자아이디 여러 개 사용할 수 있나요?\n",
      "response:  주어진 내용에서,\n",
      "\n",
      "홈페이지 이용자 아이디는 개인의 경우 1인 1개만 이용 가능하고 기업의 경우에는 1개의 사업자번호당 사용자별로 이용자아이디를 복수로 사용할 수 있습니다.\n",
      "개인사업자의 경우 개인과 기업 각각 이용자아이디를 발급하여 복수로 이용 가능합니다.\n",
      "\n",
      "따라서 개인의 경우 1개만 사용 가능하나, 기업이나 개인사업자의 경우 복수 사용이 가능함을 알 수 있습니다.\n"
     ]
    }
   ],
   "source": [
    "print (f'question: {query}')\n",
    "print (f'response: {answer}')"
   ]
  },
  {
   "cell_type": "code",
   "execution_count": null,
   "id": "69b49af9-34d1-4e11-b7f6-5d8e95b25ec5",
   "metadata": {},
   "outputs": [],
   "source": []
  }
 ],
 "metadata": {
  "availableInstances": [
   {
    "_defaultOrder": 0,
    "_isFastLaunch": true,
    "category": "General purpose",
    "gpuNum": 0,
    "hideHardwareSpecs": false,
    "memoryGiB": 4,
    "name": "ml.t3.medium",
    "vcpuNum": 2
   },
   {
    "_defaultOrder": 1,
    "_isFastLaunch": false,
    "category": "General purpose",
    "gpuNum": 0,
    "hideHardwareSpecs": false,
    "memoryGiB": 8,
    "name": "ml.t3.large",
    "vcpuNum": 2
   },
   {
    "_defaultOrder": 2,
    "_isFastLaunch": false,
    "category": "General purpose",
    "gpuNum": 0,
    "hideHardwareSpecs": false,
    "memoryGiB": 16,
    "name": "ml.t3.xlarge",
    "vcpuNum": 4
   },
   {
    "_defaultOrder": 3,
    "_isFastLaunch": false,
    "category": "General purpose",
    "gpuNum": 0,
    "hideHardwareSpecs": false,
    "memoryGiB": 32,
    "name": "ml.t3.2xlarge",
    "vcpuNum": 8
   },
   {
    "_defaultOrder": 4,
    "_isFastLaunch": true,
    "category": "General purpose",
    "gpuNum": 0,
    "hideHardwareSpecs": false,
    "memoryGiB": 8,
    "name": "ml.m5.large",
    "vcpuNum": 2
   },
   {
    "_defaultOrder": 5,
    "_isFastLaunch": false,
    "category": "General purpose",
    "gpuNum": 0,
    "hideHardwareSpecs": false,
    "memoryGiB": 16,
    "name": "ml.m5.xlarge",
    "vcpuNum": 4
   },
   {
    "_defaultOrder": 6,
    "_isFastLaunch": false,
    "category": "General purpose",
    "gpuNum": 0,
    "hideHardwareSpecs": false,
    "memoryGiB": 32,
    "name": "ml.m5.2xlarge",
    "vcpuNum": 8
   },
   {
    "_defaultOrder": 7,
    "_isFastLaunch": false,
    "category": "General purpose",
    "gpuNum": 0,
    "hideHardwareSpecs": false,
    "memoryGiB": 64,
    "name": "ml.m5.4xlarge",
    "vcpuNum": 16
   },
   {
    "_defaultOrder": 8,
    "_isFastLaunch": false,
    "category": "General purpose",
    "gpuNum": 0,
    "hideHardwareSpecs": false,
    "memoryGiB": 128,
    "name": "ml.m5.8xlarge",
    "vcpuNum": 32
   },
   {
    "_defaultOrder": 9,
    "_isFastLaunch": false,
    "category": "General purpose",
    "gpuNum": 0,
    "hideHardwareSpecs": false,
    "memoryGiB": 192,
    "name": "ml.m5.12xlarge",
    "vcpuNum": 48
   },
   {
    "_defaultOrder": 10,
    "_isFastLaunch": false,
    "category": "General purpose",
    "gpuNum": 0,
    "hideHardwareSpecs": false,
    "memoryGiB": 256,
    "name": "ml.m5.16xlarge",
    "vcpuNum": 64
   },
   {
    "_defaultOrder": 11,
    "_isFastLaunch": false,
    "category": "General purpose",
    "gpuNum": 0,
    "hideHardwareSpecs": false,
    "memoryGiB": 384,
    "name": "ml.m5.24xlarge",
    "vcpuNum": 96
   },
   {
    "_defaultOrder": 12,
    "_isFastLaunch": false,
    "category": "General purpose",
    "gpuNum": 0,
    "hideHardwareSpecs": false,
    "memoryGiB": 8,
    "name": "ml.m5d.large",
    "vcpuNum": 2
   },
   {
    "_defaultOrder": 13,
    "_isFastLaunch": false,
    "category": "General purpose",
    "gpuNum": 0,
    "hideHardwareSpecs": false,
    "memoryGiB": 16,
    "name": "ml.m5d.xlarge",
    "vcpuNum": 4
   },
   {
    "_defaultOrder": 14,
    "_isFastLaunch": false,
    "category": "General purpose",
    "gpuNum": 0,
    "hideHardwareSpecs": false,
    "memoryGiB": 32,
    "name": "ml.m5d.2xlarge",
    "vcpuNum": 8
   },
   {
    "_defaultOrder": 15,
    "_isFastLaunch": false,
    "category": "General purpose",
    "gpuNum": 0,
    "hideHardwareSpecs": false,
    "memoryGiB": 64,
    "name": "ml.m5d.4xlarge",
    "vcpuNum": 16
   },
   {
    "_defaultOrder": 16,
    "_isFastLaunch": false,
    "category": "General purpose",
    "gpuNum": 0,
    "hideHardwareSpecs": false,
    "memoryGiB": 128,
    "name": "ml.m5d.8xlarge",
    "vcpuNum": 32
   },
   {
    "_defaultOrder": 17,
    "_isFastLaunch": false,
    "category": "General purpose",
    "gpuNum": 0,
    "hideHardwareSpecs": false,
    "memoryGiB": 192,
    "name": "ml.m5d.12xlarge",
    "vcpuNum": 48
   },
   {
    "_defaultOrder": 18,
    "_isFastLaunch": false,
    "category": "General purpose",
    "gpuNum": 0,
    "hideHardwareSpecs": false,
    "memoryGiB": 256,
    "name": "ml.m5d.16xlarge",
    "vcpuNum": 64
   },
   {
    "_defaultOrder": 19,
    "_isFastLaunch": false,
    "category": "General purpose",
    "gpuNum": 0,
    "hideHardwareSpecs": false,
    "memoryGiB": 384,
    "name": "ml.m5d.24xlarge",
    "vcpuNum": 96
   },
   {
    "_defaultOrder": 20,
    "_isFastLaunch": false,
    "category": "General purpose",
    "gpuNum": 0,
    "hideHardwareSpecs": true,
    "memoryGiB": 0,
    "name": "ml.geospatial.interactive",
    "supportedImageNames": [
     "sagemaker-geospatial-v1-0"
    ],
    "vcpuNum": 0
   },
   {
    "_defaultOrder": 21,
    "_isFastLaunch": true,
    "category": "Compute optimized",
    "gpuNum": 0,
    "hideHardwareSpecs": false,
    "memoryGiB": 4,
    "name": "ml.c5.large",
    "vcpuNum": 2
   },
   {
    "_defaultOrder": 22,
    "_isFastLaunch": false,
    "category": "Compute optimized",
    "gpuNum": 0,
    "hideHardwareSpecs": false,
    "memoryGiB": 8,
    "name": "ml.c5.xlarge",
    "vcpuNum": 4
   },
   {
    "_defaultOrder": 23,
    "_isFastLaunch": false,
    "category": "Compute optimized",
    "gpuNum": 0,
    "hideHardwareSpecs": false,
    "memoryGiB": 16,
    "name": "ml.c5.2xlarge",
    "vcpuNum": 8
   },
   {
    "_defaultOrder": 24,
    "_isFastLaunch": false,
    "category": "Compute optimized",
    "gpuNum": 0,
    "hideHardwareSpecs": false,
    "memoryGiB": 32,
    "name": "ml.c5.4xlarge",
    "vcpuNum": 16
   },
   {
    "_defaultOrder": 25,
    "_isFastLaunch": false,
    "category": "Compute optimized",
    "gpuNum": 0,
    "hideHardwareSpecs": false,
    "memoryGiB": 72,
    "name": "ml.c5.9xlarge",
    "vcpuNum": 36
   },
   {
    "_defaultOrder": 26,
    "_isFastLaunch": false,
    "category": "Compute optimized",
    "gpuNum": 0,
    "hideHardwareSpecs": false,
    "memoryGiB": 96,
    "name": "ml.c5.12xlarge",
    "vcpuNum": 48
   },
   {
    "_defaultOrder": 27,
    "_isFastLaunch": false,
    "category": "Compute optimized",
    "gpuNum": 0,
    "hideHardwareSpecs": false,
    "memoryGiB": 144,
    "name": "ml.c5.18xlarge",
    "vcpuNum": 72
   },
   {
    "_defaultOrder": 28,
    "_isFastLaunch": false,
    "category": "Compute optimized",
    "gpuNum": 0,
    "hideHardwareSpecs": false,
    "memoryGiB": 192,
    "name": "ml.c5.24xlarge",
    "vcpuNum": 96
   },
   {
    "_defaultOrder": 29,
    "_isFastLaunch": true,
    "category": "Accelerated computing",
    "gpuNum": 1,
    "hideHardwareSpecs": false,
    "memoryGiB": 16,
    "name": "ml.g4dn.xlarge",
    "vcpuNum": 4
   },
   {
    "_defaultOrder": 30,
    "_isFastLaunch": false,
    "category": "Accelerated computing",
    "gpuNum": 1,
    "hideHardwareSpecs": false,
    "memoryGiB": 32,
    "name": "ml.g4dn.2xlarge",
    "vcpuNum": 8
   },
   {
    "_defaultOrder": 31,
    "_isFastLaunch": false,
    "category": "Accelerated computing",
    "gpuNum": 1,
    "hideHardwareSpecs": false,
    "memoryGiB": 64,
    "name": "ml.g4dn.4xlarge",
    "vcpuNum": 16
   },
   {
    "_defaultOrder": 32,
    "_isFastLaunch": false,
    "category": "Accelerated computing",
    "gpuNum": 1,
    "hideHardwareSpecs": false,
    "memoryGiB": 128,
    "name": "ml.g4dn.8xlarge",
    "vcpuNum": 32
   },
   {
    "_defaultOrder": 33,
    "_isFastLaunch": false,
    "category": "Accelerated computing",
    "gpuNum": 4,
    "hideHardwareSpecs": false,
    "memoryGiB": 192,
    "name": "ml.g4dn.12xlarge",
    "vcpuNum": 48
   },
   {
    "_defaultOrder": 34,
    "_isFastLaunch": false,
    "category": "Accelerated computing",
    "gpuNum": 1,
    "hideHardwareSpecs": false,
    "memoryGiB": 256,
    "name": "ml.g4dn.16xlarge",
    "vcpuNum": 64
   },
   {
    "_defaultOrder": 35,
    "_isFastLaunch": false,
    "category": "Accelerated computing",
    "gpuNum": 1,
    "hideHardwareSpecs": false,
    "memoryGiB": 61,
    "name": "ml.p3.2xlarge",
    "vcpuNum": 8
   },
   {
    "_defaultOrder": 36,
    "_isFastLaunch": false,
    "category": "Accelerated computing",
    "gpuNum": 4,
    "hideHardwareSpecs": false,
    "memoryGiB": 244,
    "name": "ml.p3.8xlarge",
    "vcpuNum": 32
   },
   {
    "_defaultOrder": 37,
    "_isFastLaunch": false,
    "category": "Accelerated computing",
    "gpuNum": 8,
    "hideHardwareSpecs": false,
    "memoryGiB": 488,
    "name": "ml.p3.16xlarge",
    "vcpuNum": 64
   },
   {
    "_defaultOrder": 38,
    "_isFastLaunch": false,
    "category": "Accelerated computing",
    "gpuNum": 8,
    "hideHardwareSpecs": false,
    "memoryGiB": 768,
    "name": "ml.p3dn.24xlarge",
    "vcpuNum": 96
   },
   {
    "_defaultOrder": 39,
    "_isFastLaunch": false,
    "category": "Memory Optimized",
    "gpuNum": 0,
    "hideHardwareSpecs": false,
    "memoryGiB": 16,
    "name": "ml.r5.large",
    "vcpuNum": 2
   },
   {
    "_defaultOrder": 40,
    "_isFastLaunch": false,
    "category": "Memory Optimized",
    "gpuNum": 0,
    "hideHardwareSpecs": false,
    "memoryGiB": 32,
    "name": "ml.r5.xlarge",
    "vcpuNum": 4
   },
   {
    "_defaultOrder": 41,
    "_isFastLaunch": false,
    "category": "Memory Optimized",
    "gpuNum": 0,
    "hideHardwareSpecs": false,
    "memoryGiB": 64,
    "name": "ml.r5.2xlarge",
    "vcpuNum": 8
   },
   {
    "_defaultOrder": 42,
    "_isFastLaunch": false,
    "category": "Memory Optimized",
    "gpuNum": 0,
    "hideHardwareSpecs": false,
    "memoryGiB": 128,
    "name": "ml.r5.4xlarge",
    "vcpuNum": 16
   },
   {
    "_defaultOrder": 43,
    "_isFastLaunch": false,
    "category": "Memory Optimized",
    "gpuNum": 0,
    "hideHardwareSpecs": false,
    "memoryGiB": 256,
    "name": "ml.r5.8xlarge",
    "vcpuNum": 32
   },
   {
    "_defaultOrder": 44,
    "_isFastLaunch": false,
    "category": "Memory Optimized",
    "gpuNum": 0,
    "hideHardwareSpecs": false,
    "memoryGiB": 384,
    "name": "ml.r5.12xlarge",
    "vcpuNum": 48
   },
   {
    "_defaultOrder": 45,
    "_isFastLaunch": false,
    "category": "Memory Optimized",
    "gpuNum": 0,
    "hideHardwareSpecs": false,
    "memoryGiB": 512,
    "name": "ml.r5.16xlarge",
    "vcpuNum": 64
   },
   {
    "_defaultOrder": 46,
    "_isFastLaunch": false,
    "category": "Memory Optimized",
    "gpuNum": 0,
    "hideHardwareSpecs": false,
    "memoryGiB": 768,
    "name": "ml.r5.24xlarge",
    "vcpuNum": 96
   },
   {
    "_defaultOrder": 47,
    "_isFastLaunch": false,
    "category": "Accelerated computing",
    "gpuNum": 1,
    "hideHardwareSpecs": false,
    "memoryGiB": 16,
    "name": "ml.g5.xlarge",
    "vcpuNum": 4
   },
   {
    "_defaultOrder": 48,
    "_isFastLaunch": false,
    "category": "Accelerated computing",
    "gpuNum": 1,
    "hideHardwareSpecs": false,
    "memoryGiB": 32,
    "name": "ml.g5.2xlarge",
    "vcpuNum": 8
   },
   {
    "_defaultOrder": 49,
    "_isFastLaunch": false,
    "category": "Accelerated computing",
    "gpuNum": 1,
    "hideHardwareSpecs": false,
    "memoryGiB": 64,
    "name": "ml.g5.4xlarge",
    "vcpuNum": 16
   },
   {
    "_defaultOrder": 50,
    "_isFastLaunch": false,
    "category": "Accelerated computing",
    "gpuNum": 1,
    "hideHardwareSpecs": false,
    "memoryGiB": 128,
    "name": "ml.g5.8xlarge",
    "vcpuNum": 32
   },
   {
    "_defaultOrder": 51,
    "_isFastLaunch": false,
    "category": "Accelerated computing",
    "gpuNum": 1,
    "hideHardwareSpecs": false,
    "memoryGiB": 256,
    "name": "ml.g5.16xlarge",
    "vcpuNum": 64
   },
   {
    "_defaultOrder": 52,
    "_isFastLaunch": false,
    "category": "Accelerated computing",
    "gpuNum": 4,
    "hideHardwareSpecs": false,
    "memoryGiB": 192,
    "name": "ml.g5.12xlarge",
    "vcpuNum": 48
   },
   {
    "_defaultOrder": 53,
    "_isFastLaunch": false,
    "category": "Accelerated computing",
    "gpuNum": 4,
    "hideHardwareSpecs": false,
    "memoryGiB": 384,
    "name": "ml.g5.24xlarge",
    "vcpuNum": 96
   },
   {
    "_defaultOrder": 54,
    "_isFastLaunch": false,
    "category": "Accelerated computing",
    "gpuNum": 8,
    "hideHardwareSpecs": false,
    "memoryGiB": 768,
    "name": "ml.g5.48xlarge",
    "vcpuNum": 192
   },
   {
    "_defaultOrder": 55,
    "_isFastLaunch": false,
    "category": "Accelerated computing",
    "gpuNum": 8,
    "hideHardwareSpecs": false,
    "memoryGiB": 1152,
    "name": "ml.p4d.24xlarge",
    "vcpuNum": 96
   },
   {
    "_defaultOrder": 56,
    "_isFastLaunch": false,
    "category": "Accelerated computing",
    "gpuNum": 8,
    "hideHardwareSpecs": false,
    "memoryGiB": 1152,
    "name": "ml.p4de.24xlarge",
    "vcpuNum": 96
   }
  ],
  "instance_type": "ml.g5.2xlarge",
  "kernelspec": {
   "display_name": "Python 3 (Data Science 3.0)",
   "language": "python",
   "name": "python3__SAGEMAKER_INTERNAL__arn:aws:sagemaker:us-east-1:081325390199:image/sagemaker-data-science-310-v1"
  },
  "language_info": {
   "codemirror_mode": {
    "name": "ipython",
    "version": 3
   },
   "file_extension": ".py",
   "mimetype": "text/x-python",
   "name": "python",
   "nbconvert_exporter": "python",
   "pygments_lexer": "ipython3",
   "version": "3.10.6"
  }
 },
 "nbformat": 4,
 "nbformat_minor": 5
}
