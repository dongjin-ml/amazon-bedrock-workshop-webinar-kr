{
 "cells": [
  {
   "cell_type": "markdown",
   "id": "66d8ea21-3477-4e3d-ad9e-0944aa956a13",
   "metadata": {
    "tags": []
   },
   "source": [
    "# LangChain Ensemble retriever 를 이용하여 OpenSearch Hybrid 검색을 통한 RAG\n",
    "> 이 노트북은  SageMaker Studio* **`Data Science 3.0`** kernel 및 ml.t3.medium 인스턴스에서 테스트 되었습니다.\n",
    "---\n",
    "### 중요\n",
    "- 이 노트북은 Anthropic 의 Claude-v2 모델 접근 가능한 분만 실행 가능합니다. \n",
    "- 접근이 안되시는 분은 노트북의 코드와 결과 만을 확인 하시면 좋겠습니다.\n",
    "- 만일 실행시에는 **\"과금\"** 이 발생이 되는 부분 유념 해주시기 바랍니다.\n",
    "\n",
    "### 선수조건\n",
    "- 이 노트북은 이전 노트북인 \"02_KR_RAG_OpenSearch_Keyword.ipynb\" 이 완료 되었다고 가정 합니다.\n",
    "    - 오픈서치 인텍스 관련 정보를 참조 합니다.\n",
    "\n",
    "### Methods and Resources for Hybrid search with Re-ranking \n",
    "- Score Normalization\n",
    "    - [MinMax based](https://towardsdatascience.com/text-search-vs-vector-search-better-together-3bd48eb6132a)\n",
    "    - [z-socre based](https://towardsdatascience.com/hybrid-search-2-0-the-pursuit-of-better-search-ce44d6f20c08)\n",
    "- Reciprocal Rank Fusion (RRF)\n",
    "    - [Paper](https://plg.uwaterloo.ca/~gvcormac/cormacksigir09-rrf.pdf)\n",
    "    - [Description](https://medium.com/@sowmiyajaganathan/hybrid-search-with-re-ranking-ff120c8a426d)\n",
    "- [LangChain API for Ensemble Retriever](https://python.langchain.com/docs/modules/data_connection/retrievers/ensemble)"
   ]
  },
  {
   "cell_type": "markdown",
   "id": "8c44d5e2-9a9b-442d-837b-9f11a04abc83",
   "metadata": {},
   "source": [
    "### 설정\n",
    "\n",
    "이 노트북의 나머지 부분을 실행하기 전에 아래 셀을 실행하여 (필요한 라이브러리가 설치되어 있는지 확인하고) Bedrock에 연결해야 합니다.\n",
    "\n"
   ]
  },
  {
   "cell_type": "code",
   "execution_count": 1,
   "id": "1f02e5a4-7de5-4eb2-abb2-37e2c4036295",
   "metadata": {
    "tags": []
   },
   "outputs": [],
   "source": [
    "%load_ext autoreload\n",
    "%autoreload 2\n",
    "\n",
    "import sys, os\n",
    "module_path = \"..\"\n",
    "sys.path.append(os.path.abspath(module_path))"
   ]
  },
  {
   "cell_type": "markdown",
   "id": "7ffeb0e6-b8ce-4fc0-8371-cad833146d66",
   "metadata": {
    "tags": []
   },
   "source": [
    "# 1. Bedrock Client 생성"
   ]
  },
  {
   "cell_type": "code",
   "execution_count": 2,
   "id": "33e8e72e-d6bc-4a0a-b7f5-99abfd674a3c",
   "metadata": {
    "tags": []
   },
   "outputs": [
    {
     "name": "stdout",
     "output_type": "stream",
     "text": [
      "Create new client\n",
      "  Using region: None\n",
      "  Using profile: None\n",
      "boto3 Bedrock client successfully created!\n",
      "bedrock-runtime(https://bedrock-runtime.us-east-1.amazonaws.com)\n",
      "\u001b[32m\n",
      "== FM lists ==\u001b[0m\n",
      "{'Claude-Instant-V1': 'anthropic.claude-instant-v1',\n",
      " 'Claude-V1': 'anthropic.claude-v1',\n",
      " 'Claude-V2': 'anthropic.claude-v2',\n",
      " 'Command': 'cohere.command-text-v14',\n",
      " 'Jurassic-2-Mid': 'ai21.j2-mid-v1',\n",
      " 'Jurassic-2-Ultra': 'ai21.j2-ultra-v1',\n",
      " 'Titan-Embeddings-G1': 'amazon.titan-embed-text-v1',\n",
      " 'Titan-Text-G1': 'TBD'}\n"
     ]
    }
   ],
   "source": [
    "import json\n",
    "import boto3\n",
    "from pprint import pprint\n",
    "from termcolor import colored\n",
    "from utils import bedrock, print_ww\n",
    "from utils.bedrock import bedrock_info\n",
    "\n",
    "# ---- ⚠️ Un-comment and edit the below lines as needed for your AWS setup ⚠️ ----\n",
    "\n",
    "# os.environ[\"AWS_DEFAULT_REGION\"] = \"<REGION_NAME>\"  # E.g. \"us-east-1\"\n",
    "# os.environ[\"AWS_PROFILE\"] = \"<YOUR_PROFILE>\"\n",
    "# os.environ[\"BEDROCK_ASSUME_ROLE\"] = \"<YOUR_ROLE_ARN>\"  # E.g. \"arn:aws:...\"\n",
    "# os.environ[\"BEDROCK_ENDPOINT_URL\"] = \"<YOUR_ENDPOINT_URL>\"  # E.g. \"https://...\"\n",
    "\n",
    "\n",
    "boto3_bedrock = bedrock.get_bedrock_client(\n",
    "    assumed_role=os.environ.get(\"BEDROCK_ASSUME_ROLE\", None),\n",
    "    endpoint_url=os.environ.get(\"BEDROCK_ENDPOINT_URL\", None),\n",
    "    region=os.environ.get(\"AWS_DEFAULT_REGION\", None),\n",
    ")\n",
    "\n",
    "print (colored(\"\\n== FM lists ==\", \"green\"))\n",
    "pprint (bedrock_info.get_list_fm_models())"
   ]
  },
  {
   "cell_type": "markdown",
   "id": "d1d9f671-0306-4960-b532-25647ce64d97",
   "metadata": {},
   "source": [
    "# 2. Titan Embedding 및 LLM 인 Claude-v2 모델 로딩"
   ]
  },
  {
   "cell_type": "markdown",
   "id": "6171f58d-fc04-408b-9ca5-e25e0f916929",
   "metadata": {},
   "source": [
    "## LLM 로딩 (Claude-v2)"
   ]
  },
  {
   "cell_type": "code",
   "execution_count": 3,
   "id": "5a5aa138-7c1a-4e6d-8b28-b87a63ada1a0",
   "metadata": {
    "tags": []
   },
   "outputs": [],
   "source": [
    "from langchain.llms.bedrock import Bedrock"
   ]
  },
  {
   "cell_type": "code",
   "execution_count": 4,
   "id": "1a6afc9a-0502-40cd-be9e-7b3151f3ad71",
   "metadata": {
    "tags": []
   },
   "outputs": [
    {
     "data": {
      "text/plain": [
       "Bedrock(client=<botocore.client.BedrockRuntime object at 0x7f9974cbb550>, model_id='anthropic.claude-v2', model_kwargs={'max_tokens_to_sample': 512})"
      ]
     },
     "execution_count": 4,
     "metadata": {},
     "output_type": "execute_result"
    }
   ],
   "source": [
    "# - create the Anthropic Model\n",
    "llm_text = Bedrock(\n",
    "    model_id=bedrock_info.get_model_id(model_name=\"Claude-V2\"),\n",
    "    client=boto3_bedrock,\n",
    "    model_kwargs={'max_tokens_to_sample': 512}\n",
    ")\n",
    "llm_text"
   ]
  },
  {
   "cell_type": "markdown",
   "id": "dca0867f-4a42-49b3-9801-d169bb176918",
   "metadata": {},
   "source": [
    "## Embedding 모델 선택"
   ]
  },
  {
   "cell_type": "code",
   "execution_count": 5,
   "id": "19277289-b417-467a-bfdf-9c710cc7f0ba",
   "metadata": {
    "tags": []
   },
   "outputs": [],
   "source": [
    "from utils.rag import KoSimCSERobertaContentHandler, SagemakerEndpointEmbeddingsJumpStart\n",
    "\n",
    "def get_embedding_model(is_bedrock_embeddings, is_KoSimCSERobert, aws_region, endpont_name=None):\n",
    "    if is_bedrock_embeddings:\n",
    "\n",
    "        # We will be using the Titan Embeddings Model to generate our Embeddings.\n",
    "        from langchain.embeddings import BedrockEmbeddings\n",
    "\n",
    "        llm_emb = BedrockEmbeddings(\n",
    "            client=boto3_bedrock,\n",
    "            model_id=bedrock_info.get_model_id(\n",
    "                model_name=\"Titan-Embeddings-G1\"\n",
    "            )\n",
    "        )\n",
    "        print(\"Bedrock Embeddings Model Loaded\")\n",
    "\n",
    "    elif is_KoSimCSERobert:\n",
    "        LLMEmbHandler = KoSimCSERobertaContentHandler()\n",
    "        endpoint_name_emb = endpont_name\n",
    "        llm_emb = SagemakerEndpointEmbeddingsJumpStart(\n",
    "            endpoint_name=endpoint_name_emb,\n",
    "            region_name=aws_region,\n",
    "            content_handler=LLMEmbHandler,\n",
    "        )        \n",
    "        print(\"KoSimCSERobert Embeddings Model Loaded\")\n",
    "    else:\n",
    "        llm_emb = None\n",
    "        print(\"No Embedding Model Selected\")\n",
    "    \n",
    "    return llm_emb"
   ]
  },
  {
   "cell_type": "markdown",
   "id": "456492cc-edee-4ad9-ac14-bee9f24109f6",
   "metadata": {},
   "source": [
    "#### [중요] is_KoSimCSERobert == True 일시에 endpoint_name 을 꼭 넣어 주세요."
   ]
  },
  {
   "cell_type": "code",
   "execution_count": 6,
   "id": "548af020-92ad-48d2-bf2d-773e3fb98398",
   "metadata": {
    "tags": []
   },
   "outputs": [
    {
     "name": "stdout",
     "output_type": "stream",
     "text": [
      "Bedrock Embeddings Model Loaded\n"
     ]
    }
   ],
   "source": [
    "is_bedrock_embeddings = True\n",
    "is_KoSimCSERobert = False\n",
    "\n",
    "aws_region = os.environ.get(\"AWS_DEFAULT_REGION\", None)\n",
    "\n",
    "##############################\n",
    "# Parameters for is_KoSimCSERobert\n",
    "##############################\n",
    "if is_KoSimCSERobert: endpont_name = \"<endpoint-name>\"\n",
    "else: endpont_name = None\n",
    "##############################\n",
    "\n",
    "llm_emb = get_embedding_model(is_bedrock_embeddings, is_KoSimCSERobert, aws_region, endpont_name)    "
   ]
  },
  {
   "cell_type": "markdown",
   "id": "d32bac51-d495-44a6-8c8e-10b62c4780e9",
   "metadata": {
    "tags": []
   },
   "source": [
    "# 3. LangChain OpenSearch VectorStore 생성 \n",
    "## 선수 조건\n",
    "- 이전 노트북 02_1_KR_RAG_OpenSearch_Keyword.ipynb 또는 02_1_KR_RAG_OpenSearch_Semantic.ipynb를 통해서 OpenSearch Index 가 생성이 되어 있어야 합니다."
   ]
  },
  {
   "cell_type": "markdown",
   "id": "e33dd908-116d-4726-bd40-b473216f169c",
   "metadata": {},
   "source": [
    "## 오픈 서치 도메인 및 인증 정보 세팅\n",
    "\n",
    "- [langchain.vectorstores.opensearch_vector_search.OpenSearchVectorSearch](https://api.python.langchain.com/en/latest/vectorstores/langchain.vectorstores.opensearch_vector_search.OpenSearchVectorSearch.html)"
   ]
  },
  {
   "cell_type": "markdown",
   "id": "210ef70c-6299-4cb5-9e64-3a4349af5701",
   "metadata": {},
   "source": [
    "#### [중요] 아래에 OpenSearch ID/PW , opensearch_domain_endpoint 를 입력을 해주세요."
   ]
  },
  {
   "cell_type": "code",
   "execution_count": 7,
   "id": "f139e11d-bb91-488d-a119-344d200d3658",
   "metadata": {
    "tags": []
   },
   "outputs": [],
   "source": [
    "os.environ[\"OpenSearch_UserName\"] = \"Type ID\"\n",
    "os.environ[\"OpenSearch_UserPassword\"] = \"Type PW\"\n",
    "\n",
    "rag_user_name = os.environ[\"OpenSearch_UserName\"]\n",
    "rag_user_password = os.environ[\"OpenSearch_UserPassword\"]"
   ]
  },
  {
   "cell_type": "code",
   "execution_count": 8,
   "id": "5600464b-0e54-4e4b-be13-12fdcecee02c",
   "metadata": {
    "tags": []
   },
   "outputs": [],
   "source": [
    "opensearch_domain_endpoint = \"<Tye OpenSearch Domain Endpoint>\"\n",
    "\n",
    "http_auth = (rag_user_name, rag_user_password) # Master username, Master password\n",
    "\n",
    "index_name = \"genai-demo-index-v1-with-tokenizer\""
   ]
  },
  {
   "cell_type": "markdown",
   "id": "739c0cbc-547a-4f1c-80a2-de30149641a2",
   "metadata": {
    "tags": []
   },
   "source": [
    "## LangChain OpenSearch VectorStore 생성"
   ]
  },
  {
   "cell_type": "code",
   "execution_count": 9,
   "id": "92a97a8d-0949-4a72-a0b9-c83003cfbd44",
   "metadata": {
    "tags": []
   },
   "outputs": [],
   "source": [
    "from langchain.vectorstores import OpenSearchVectorSearch\n",
    "\n",
    "vectro_db = OpenSearchVectorSearch(\n",
    "    index_name=index_name,\n",
    "    opensearch_url=opensearch_domain_endpoint,\n",
    "    embedding_function=llm_emb,\n",
    "    http_auth=http_auth, # http_auth\n",
    "    is_aoss =False,\n",
    "    engine=\"faiss\",\n",
    "    space_type=\"l2\"\n",
    ")"
   ]
  },
  {
   "cell_type": "markdown",
   "id": "f5eb9b0f-b62b-412a-a6dd-351e23d93cea",
   "metadata": {},
   "source": [
    "## OpenSearch Client 생성"
   ]
  },
  {
   "cell_type": "code",
   "execution_count": 10,
   "id": "ef4b2682-2821-422b-8f5c-7ff5a3e1d26b",
   "metadata": {
    "tags": []
   },
   "outputs": [],
   "source": [
    "from utils.opensearch import opensearch_utils"
   ]
  },
  {
   "cell_type": "code",
   "execution_count": 12,
   "id": "52ad59ce-768d-49f3-b032-97d2364c66fe",
   "metadata": {
    "tags": []
   },
   "outputs": [],
   "source": [
    "os_client = opensearch_utils.create_aws_opensearch_client(\n",
    "    aws_region,\n",
    "    opensearch_domain_endpoint,\n",
    "    http_auth\n",
    ")"
   ]
  },
  {
   "cell_type": "markdown",
   "id": "55c17e66-f19f-4260-adbe-42ef3751cd18",
   "metadata": {
    "tags": []
   },
   "source": [
    "## 은전한잎 형태소 분석기 (seunjeon_tokenizer) 사용하기 in Opensearch\n",
    "- \"02_1_KR_RAG_OpenSearch_Keyword.ipynb\"에서 만들어 두었던 tokenization index 활용\n",
    "    - 형태소 분석기에 대한 자세한 사항은 02_1_KR_RAG_OpenSearch_Keyword.ipynb 참고"
   ]
  },
  {
   "cell_type": "markdown",
   "id": "0d5bf7b7-d003-46d5-b3b7-bdde9ad5191e",
   "metadata": {},
   "source": [
    "### 인덱스 확인 (tokenization 확인)"
   ]
  },
  {
   "cell_type": "code",
   "execution_count": 13,
   "id": "f5f4620e-0720-4d04-96f9-828888ffa9bc",
   "metadata": {
    "tags": []
   },
   "outputs": [
    {
     "name": "stdout",
     "output_type": "stream",
     "text": [
      "{'genai-demo-index-v1-with-tokenizer': {'aliases': {},\n",
      "                                        'mappings': {'properties': {'metadata': {'properties': {'row': {'type': 'long'},\n",
      "                                                                                                'source': {'fields': {'keyword': {'ignore_above': 256,\n",
      "                                                                                                                                  'type': 'keyword'}},\n",
      "                                                                                                           'type': 'text'},\n",
      "                                                                                                'timestamp': {'type': 'float'},\n",
      "                                                                                                'type': {'fields': {'keyword': {'ignore_above': 256,\n",
      "                                                                                                                                'type': 'keyword'}},\n",
      "                                                                                                         'type': 'text'}}},\n",
      "                                                                    'text': {'analyzer': 'my_analyzer',\n",
      "                                                                             'fields': {'keyword': {'ignore_above': 256,\n",
      "                                                                                                    'type': 'keyword'}},\n",
      "                                                                             'type': 'text'},\n",
      "                                                                    'vector_field': {'dimension': 1536,\n",
      "                                                                                     'method': {'engine': 'nmslib',\n",
      "                                                                                                'name': 'hnsw',\n",
      "                                                                                                'parameters': {'ef_construction': 512,\n",
      "                                                                                                               'm': 16},\n",
      "                                                                                                'space_type': 'l2'},\n",
      "                                                                                     'type': 'knn_vector'}}},\n",
      "                                        'settings': {'index': {'analysis': {'analyzer': {'my_analyzer': {'tokenizer': 'seunjeon',\n",
      "                                                                                                         'type': 'custom'}},\n",
      "                                                                            'tokenizer': {'seunjeon': {'type': 'seunjeon_tokenizer'}}},\n",
      "                                                               'creation_date': '1696755429974',\n",
      "                                                               'knn': 'true',\n",
      "                                                               'knn.algo_param': {'ef_search': '512'},\n",
      "                                                               'number_of_replicas': '2',\n",
      "                                                               'number_of_shards': '5',\n",
      "                                                               'provided_name': 'genai-demo-index-v1-with-tokenizer',\n",
      "                                                               'uuid': 'U6XprGbKQyWN7er9k43NzQ',\n",
      "                                                               'version': {'created': '136307827'}}}}}\n"
     ]
    }
   ],
   "source": [
    "index_info = os_client.indices.get(index=index_name)\n",
    "pprint(index_info)"
   ]
  },
  {
   "cell_type": "markdown",
   "id": "83a8087c-8285-469d-af4b-e0f0afb7e95a",
   "metadata": {
    "tags": []
   },
   "source": [
    "# 4. 오픈 서치에 \"유사 서치\" 검색\n",
    "- query 를 제공해서 실제로 유사한 내용이 검색이 되는지를 확인 합니다.\n",
    "\n"
   ]
  },
  {
   "cell_type": "markdown",
   "id": "1507daa4-7642-4288-9c87-df37d54958b0",
   "metadata": {},
   "source": [
    "- similarity_search_with_score API 정보\n",
    "    - [API: similarity_search_with_score](https://api.python.langchain.com/en/latest/vectorstores/langchain.vectorstores.opensearch_vector_search.OpenSearchVectorSearch.html#langchain.vectorstores.opensearch_vector_search.OpenSearchVectorSearch.similarity_search)"
   ]
  },
  {
   "cell_type": "code",
   "execution_count": 20,
   "id": "5ab42354-7478-4d4b-9f07-782ba701617f",
   "metadata": {
    "tags": []
   },
   "outputs": [],
   "source": [
    "import copy\n",
    "from langchain.schema import Document\n",
    "from langchain import PromptTemplate\n",
    "from operator import itemgetter\n",
    "from langchain.chains.question_answering import load_qa_chain"
   ]
  },
  {
   "cell_type": "markdown",
   "id": "6414fa84-5f11-4072-8cc7-58a55b9752ef",
   "metadata": {
    "tags": []
   },
   "source": [
    "## Question ans Answering Chain 정의"
   ]
  },
  {
   "cell_type": "code",
   "execution_count": 22,
   "id": "7eedf430-3308-43c1-a7dc-5a883befb40b",
   "metadata": {
    "tags": []
   },
   "outputs": [],
   "source": [
    "chain = load_qa_chain(\n",
    "    llm=llm_text,\n",
    "    chain_type=\"stuff\",\n",
    "    prompt=PROMPT,\n",
    "    verbose=True\n",
    ")"
   ]
  },
  {
   "cell_type": "markdown",
   "id": "c5d67b3b-0e7f-427e-b7e6-9bcbce12fe4e",
   "metadata": {},
   "source": [
    "## (1) OpenSearch Vector 검색 (Semantic search)"
   ]
  },
  {
   "cell_type": "markdown",
   "id": "ef54c091-f018-47ed-b1eb-d7c31a1f9343",
   "metadata": {},
   "source": [
    "### 프롬프트 템플릿 생성"
   ]
  },
  {
   "cell_type": "code",
   "execution_count": 23,
   "id": "942c11cb-b9a2-4601-b7b3-3b1c119dc6f9",
   "metadata": {
    "tags": []
   },
   "outputs": [],
   "source": [
    "from utils.rag import run_RetrievalQA, show_context_used\n",
    "from langchain.prompts import PromptTemplate"
   ]
  },
  {
   "cell_type": "markdown",
   "id": "59362812-9b2d-4960-9c82-83c767f6fa67",
   "metadata": {},
   "source": [
    "### [TIP] Prompt의 instruction의 경우 한글보다 **영어**로 했을 때 더 좋은 결과를 얻을 수 있습니다."
   ]
  },
  {
   "cell_type": "code",
   "execution_count": 25,
   "id": "9c83fe5f-3362-42fe-a8d0-1ebd186b830c",
   "metadata": {
    "tags": []
   },
   "outputs": [],
   "source": [
    "# prompt_template = \"\"\"\n",
    "# \\n\\nHuman: 다음 문맥의 Information을 사용하여 고객 서비스 센터 직원처럼, 마지막 질문에 대한 목차 형식으로 답변을 제공하세요. 응답을 모르면 모른다고 말하고 응답을 만들려고 하지 마세요.\n",
    "\n",
    "# {context}\n",
    "\n",
    "# Question: {question}\n",
    "# \\n\\nAssistant:\"\"\"\n",
    "\n",
    "prompt_template = \"\"\"\n",
    "\n",
    "\n",
    "Human: Here is the context, inside <context></context> XML tags.\n",
    "\n",
    "<context>\n",
    "{context}\n",
    "</context>\n",
    "\n",
    "Only using the contex as above, answer the following question with the rules as below:\n",
    "    - Don't insert XML tag such as <context> and </context> when answering.\n",
    "    - Write as much as you can\n",
    "    - Be courteous and polite\n",
    "    - Only answer the question if you can find the answer in the context with certainty.\n",
    "\n",
    "Question:\n",
    "{question}\n",
    "\n",
    "If the answer is not in the context, just say \"주어진 내용에서 관련 답변을 찾을 수 없습니다.\"\n",
    "\n",
    "\n",
    "Assistant:\"\"\"\n",
    "\n",
    "PROMPT = PromptTemplate(\n",
    "    template=prompt_template, input_variables=[\"context\", \"question\"]\n",
    ")\n"
   ]
  },
  {
   "cell_type": "markdown",
   "id": "805f86f7-9177-4f3b-9931-2056250210e2",
   "metadata": {},
   "source": [
    "### 필터 및 쿼리 생성"
   ]
  },
  {
   "cell_type": "code",
   "execution_count": 120,
   "id": "04e47cb1-c213-47a3-bb39-c682db5af4bc",
   "metadata": {
    "tags": []
   },
   "outputs": [
    {
     "name": "stdout",
     "output_type": "stream",
     "text": [
      "{'bool': {'filter': [{'term': {'metadata.type': '홈페이지'}},\n",
      "                     {'term': {'metadata.source': '신한은행'}}]}}\n"
     ]
    }
   ],
   "source": [
    "filter01 = \"홈페이지\"\n",
    "# filter01 = \"인증서\"\n",
    "filter02 = \"신한은행\"\n",
    "# filter02 = \"아마존은행\"\n",
    "\n",
    "query = \"홈페이지 이용자아이디 여러 개 사용할 수 있나요?\"\n",
    "#query = \"타기관OTP 등록 방법 알려주세요\"\n",
    "\n",
    "boolean_filter = opensearch_utils.get_filter(\n",
    "    filter=[\n",
    "        {\"term\": {\"metadata.type\": filter01}},\n",
    "        {\"term\": {\"metadata.source\": filter02}},\n",
    "    ]\n",
    ")\n",
    "\n",
    "pprint(boolean_filter)\n",
    "boolean_filter = []"
   ]
  },
  {
   "cell_type": "markdown",
   "id": "07ff340c-c0b9-43ef-b59d-188eed847888",
   "metadata": {},
   "source": [
    "### Retriever for semantic search 정의"
   ]
  },
  {
   "cell_type": "code",
   "execution_count": 121,
   "id": "a26a3168-314b-40e6-9166-32100f6e8840",
   "metadata": {
    "tags": []
   },
   "outputs": [],
   "source": [
    "opensearch_semantic_retriever = vectro_db.as_retriever(\n",
    "    search_type=\"similarity\",\n",
    "    search_kwargs={\n",
    "        \"k\": 5,\n",
    "        \"boolean_filter\": boolean_filter\n",
    "    }\n",
    ")"
   ]
  },
  {
   "cell_type": "code",
   "execution_count": 122,
   "id": "23c7a0a3-22da-4155-9a7d-a12dc46ed35a",
   "metadata": {
    "tags": []
   },
   "outputs": [
    {
     "name": "stdout",
     "output_type": "stream",
     "text": [
      "\n",
      "\n",
      "\u001b[1m> Entering new StuffDocumentsChain chain...\u001b[0m\n",
      "\n",
      "\n",
      "\u001b[1m> Entering new LLMChain chain...\u001b[0m\n",
      "Prompt after formatting:\n",
      "\u001b[32;1m\u001b[1;3m\n",
      "\n",
      "\n",
      "Human: Here is the context, inside <context></context> XML tags.\n",
      "\n",
      "<context>\n",
      "ask: 홈페이지 이용자아이디 여러 개 사용할 수 있나요?\n",
      "Information: 홈페이지 이용자 아이디는 개인의 경우 1인 1개만 이용 가능하고 기업의 경우에는 1개의 사업자번호당 사용자별로 이용자아이디를 복수로 사용할 수 있습니다. \n",
      "※ 개인사업자의 경우 개인과 기업 각각 이용자아이디를 발급하여 복수로 이용 가능합니다. \n",
      "기타 궁금하신 내용은 신한은행 고객센터 1599-8000로 문의하여 주시기 바랍니다.\n",
      "\n",
      "ask: 홈페이지 회원아이디를 변경하고 싶습니다.\n",
      "Information: 회원탈퇴를 하시고, 사용하시고 싶은 아이디로 신규 회원가입신청을 하시면 됩니다. 다만, 사용하시고 싶은 아이디가 이미 다른 고객이 사용하고 있는 경우에는 사용하실 수 없습니다. 기타 문의는 콜센터 1599-8000번으로 문의 바랍니다.\n",
      "\n",
      "ask: 만14세 미만의 고객은 홈페이지 회원가입이 가능하나요?\n",
      "Information: 만 14세 미만 고객은 회원가입시 '정보통신망 이용촉진 및 정보 등에 관한 법률' 및 '개인정보보호지침'에 따라 법정대리인의 정보활용 동의가 필요합니다. 당행 영업점을 통한 보호자분의 홈페이지 회원 법정대리인 등록이 완료된 고객님에 한하여 회원등록이 가능하므로 홈페이지 회원 법정대리인 등록이 안된 고객님의 보호자분께서는 먼저 가까운 영업점을 방문하여 주시기 바랍니다. [구비서류] - 법정대리인 실명확인증표 - 미성년자 기준으로 발급된 특정 또는 상세 기본증명서 - 미성년자 기준으로 발급된 가족관계증명서 * 은행 방문일로부터 3개월 이내 발급한 서류로 준비해주셔야 하며, 성함과 주민등록번호 13자리가 모두 기재되어 있어야합니다. 기타 문의는 콜센터 1599-8000번으로 문의 바랍니다.\n",
      "\n",
      "ask: 홈페이지 고객정보를 수정하고 싶습니다.\n",
      "Information: 홈페이지 회원로그인 후 정보수정을 하실 수 있습니다. 홈페이지 상단에 있는 [고객센터]를 클릭하여, 회원서비스 → 회원정보변경 메뉴에서 회원정보변경을 이용하시기 바랍니다. 인터넷뱅킹의 회원정보는 인터넷뱅킹으로 로그인 하신 후 사용자 관리메뉴를 이용하여 수정하시기 바랍니다. 기타 문의는 콜센터 1599-8000번으로 문의 바랍니다.\n",
      "\n",
      "ask: 홈페이지 회원가입은 어떻게 해야 하나요?\n",
      "Information: 홈페이지 상단에 있는 [고객센터]를 클릭하여, 회원서비스 → 회원가입메뉴에서 회원가입 메뉴를 이용하시기 바랍니다. 기타 문의는 콜센터 1599-8000번으로 문의 바랍니다.\n",
      "</context>\n",
      "\n",
      "Only using the contex as above, answer the following question with the rules as below:\n",
      "    - Don't insert XML tag such as <context> and </context> when answering.\n",
      "    - Write as much as you can\n",
      "    - Be courteous and polite\n",
      "    - Only answer the question if you can find the answer in the context with certainty.\n",
      "\n",
      "Question:\n",
      "홈페이지 이용자아이디 여러 개 사용할 수 있나요?\n",
      "\n",
      "If the answer is not in the context, just say \"주어진 내용에서 관련 답변을 찾을 수 없습니다.\"\n",
      "\n",
      "\n",
      "Assistant:\u001b[0m\n",
      "\n",
      "\u001b[1m> Finished chain.\u001b[0m\n",
      "\n",
      "\u001b[1m> Finished chain.\u001b[0m\n",
      "##############################\n",
      "query: \n",
      " 홈페이지 이용자아이디 여러 개 사용할 수 있나요?\n",
      "answer: \n",
      "  네, 홈페이지 이용자아이디는 개인의 경우 1인 1개만 이용 가능하나 기업의 경우에는 1개의 사업자번호당 사용자별로 이용자아이디를 복수로 사용할 수 있습니다.\n"
     ]
    }
   ],
   "source": [
    "search_semantic_result = opensearch_semantic_retriever.get_relevant_documents(query)\n",
    "\n",
    "answer = chain.run(\n",
    "    input_documents=search_semantic_result,\n",
    "    question=query\n",
    ")\n",
    "\n",
    "print(\"##############################\")\n",
    "print(\"query: \\n\", query)\n",
    "print(\"answer: \\n\", answer)"
   ]
  },
  {
   "cell_type": "code",
   "execution_count": 124,
   "id": "70c9b49e-97da-47eb-856c-644225ad4244",
   "metadata": {
    "tags": []
   },
   "outputs": [
    {
     "name": "stdout",
     "output_type": "stream",
     "text": [
      "-----------------------------------------------\n",
      "1. Chunk: 232 Characters\n",
      "-----------------------------------------------\n",
      "ask: 홈페이지 이용자아이디 여러 개 사용할 수 있나요?\n",
      "Information: 홈페이지 이용자 아이디는 개인의 경우 1인 1개만 이용 가능하고 기업의 경우에는 1개의 사업자번호당 사용자별로 이용자아이디를 복수로 사용할 수 있습니다.\n",
      "※ 개인사업자의 경우 개인과 기업 각각 이용자아이디를 발급하여 복수로 이용 가능합니다.\n",
      "기타 궁금하신 내용은 신한은행 고객센터 1599-8000로 문의하여 주시기 바랍니다.\n",
      "metadata:\n",
      " {'source': '신한은행', 'row': 21, 'type': '홈페이지', 'timestamp': 1696755374.045353}\n",
      "-----------------------------------------------\n",
      "2. Chunk: 172 Characters\n",
      "-----------------------------------------------\n",
      "ask: 홈페이지 회원아이디를 변경하고 싶습니다.\n",
      "Information: 회원탈퇴를 하시고, 사용하시고 싶은 아이디로 신규 회원가입신청을 하시면 됩니다. 다만, 사용하시고 싶은 아이디가 이미 다른 고객이 사용하고 있는 경우에는\n",
      "사용하실 수 없습니다. 기타 문의는 콜센터 1599-8000번으로 문의 바랍니다.\n",
      "metadata:\n",
      " {'source': '신한은행', 'row': 45, 'type': '홈페이지', 'timestamp': 1696755374.0454254}\n",
      "-----------------------------------------------\n",
      "3. Chunk: 436 Characters\n",
      "-----------------------------------------------\n",
      "ask: 만14세 미만의 고객은 홈페이지 회원가입이 가능하나요?\n",
      "Information: 만 14세 미만 고객은 회원가입시 '정보통신망 이용촉진 및 정보 등에 관한 법률' 및 '개인정보보호지침'에 따라 법정대리인의 정보활용 동의가 필요합니다.\n",
      "당행 영업점을 통한 보호자분의 홈페이지 회원 법정대리인 등록이 완료된 고객님에 한하여 회원등록이 가능하므로 홈페이지 회원 법정대리인 등록이 안된 고객님의 보호자분께서는 먼저 가까운\n",
      "영업점을 방문하여 주시기 바랍니다. [구비서류] - 법정대리인 실명확인증표 - 미성년자 기준으로 발급된 특정 또는 상세 기본증명서 - 미성년자 기준으로 발급된 가족관계증명서 *\n",
      "은행 방문일로부터 3개월 이내 발급한 서류로 준비해주셔야 하며, 성함과 주민등록번호 13자리가 모두 기재되어 있어야합니다. 기타 문의는 콜센터 1599-8000번으로 문의\n",
      "바랍니다.\n",
      "metadata:\n",
      " {'source': '신한은행', 'row': 48, 'type': '홈페이지', 'timestamp': 1696755374.045434}\n",
      "-----------------------------------------------\n",
      "4. Chunk: 225 Characters\n",
      "-----------------------------------------------\n",
      "ask: 홈페이지 고객정보를 수정하고 싶습니다.\n",
      "Information: 홈페이지 회원로그인 후 정보수정을 하실 수 있습니다. 홈페이지 상단에 있는 [고객센터]를 클릭하여, 회원서비스 → 회원정보변경 메뉴에서 회원정보변경을\n",
      "이용하시기 바랍니다. 인터넷뱅킹의 회원정보는 인터넷뱅킹으로 로그인 하신 후 사용자 관리메뉴를 이용하여 수정하시기 바랍니다. 기타 문의는 콜센터 1599-8000번으로 문의\n",
      "바랍니다.\n",
      "metadata:\n",
      " {'source': '신한은행', 'row': 46, 'type': '홈페이지', 'timestamp': 1696755374.045428}\n",
      "-----------------------------------------------\n",
      "5. Chunk: 137 Characters\n",
      "-----------------------------------------------\n",
      "ask: 홈페이지 회원가입은 어떻게 해야 하나요?\n",
      "Information: 홈페이지 상단에 있는 [고객센터]를 클릭하여, 회원서비스 → 회원가입메뉴에서 회원가입 메뉴를 이용하시기 바랍니다. 기타 문의는 콜센터 1599-8000번으로\n",
      "문의 바랍니다.\n",
      "metadata:\n",
      " {'source': '신한은행', 'row': 49, 'type': '홈페이지', 'timestamp': 1696755374.0454364}\n"
     ]
    }
   ],
   "source": [
    "show_context_used(search_semantic_result)"
   ]
  },
  {
   "cell_type": "markdown",
   "id": "4b652850-90b9-4fb3-8fa8-e7f590844ed9",
   "metadata": {},
   "source": [
    "## (2) OpenSearch Keyword 검색\n",
    "- OpenSearch 에 아래와 같은 Query 를 실행하여 결과 받는 것을 구현합니다."
   ]
  },
  {
   "cell_type": "code",
   "execution_count": 125,
   "id": "233684b4-70fa-4342-bd58-8ba3d41502a6",
   "metadata": {
    "tags": []
   },
   "outputs": [],
   "source": [
    "from utils.rag import OpenSearchLexicalSearchRetriever"
   ]
  },
  {
   "cell_type": "markdown",
   "id": "6ed0d634-b729-42e2-ac09-284d2173defb",
   "metadata": {},
   "source": [
    "### Retriever for lexical search 정의 (Keyword search)"
   ]
  },
  {
   "cell_type": "code",
   "execution_count": 126,
   "id": "02e69bde-209b-49df-9e3b-a65327837ba1",
   "metadata": {
    "tags": []
   },
   "outputs": [],
   "source": [
    "opensearch_lexical_retriever = OpenSearchLexicalSearchRetriever(\n",
    "    os_client=os_client,\n",
    "    index_name=index_name\n",
    ")"
   ]
  },
  {
   "cell_type": "code",
   "execution_count": 127,
   "id": "ecfce14e-687a-4e95-8628-32b0457255c4",
   "metadata": {
    "tags": []
   },
   "outputs": [],
   "source": [
    "filter01 = \"인터넷뱅킹\"\n",
    "# filter01 = \"인증서\"\n",
    "filter02 = \"신한은행\"\n",
    "# filter02 = \"아마존은행\"\n",
    "\n",
    "query = \"홈페이지 이용자아이디 여러 개 사용할 수 있나요?\"\n",
    "#query = \"타기관OTP 등록 방법 알려주세요\""
   ]
  },
  {
   "cell_type": "markdown",
   "id": "c9008a21-1a3f-42ec-aa7b-122bff01d9a2",
   "metadata": {},
   "source": [
    "### [TIP]lexical search의 paramerer 변경이 필요한 경우 \"update_search_params\"을 활용한다.\n",
    "해당 함수는 search 함수 (get_relevant_documents) 수행 시 **Reset**된다. "
   ]
  },
  {
   "cell_type": "code",
   "execution_count": 128,
   "id": "f9c7baf0-2509-4389-9a4b-3d758fb91ea6",
   "metadata": {
    "tags": []
   },
   "outputs": [
    {
     "name": "stdout",
     "output_type": "stream",
     "text": [
      "keyword search query: \n",
      "{'query': {'bool': {'filter': [{'term': {'metadata.type': '인터넷뱅킹'}},\n",
      "                               {'term': {'metadata.source': '신한은행'}}],\n",
      "                    'must': [{'match': {'text': {'minimum_should_match': '0%',\n",
      "                                                 'operator': 'or',\n",
      "                                                 'query': '홈페이지 이용자아이디 여러 개 '\n",
      "                                                          '사용할 수 있나요?'}}}]}},\n",
      " 'size': 5}\n",
      "\n",
      "\n",
      "\u001b[1m> Entering new StuffDocumentsChain chain...\u001b[0m\n",
      "\n",
      "\n",
      "\u001b[1m> Entering new LLMChain chain...\u001b[0m\n",
      "Prompt after formatting:\n",
      "\u001b[32;1m\u001b[1;3m\n",
      "\n",
      "\n",
      "Human: Here is the context, inside <context></context> XML tags.\n",
      "\n",
      "<context>\n",
      "ask: 즉시/예약 이체 서비스가 안되는 경우 어떻게 해야해?\n",
      "Information: 이체서비스가 되지 않는 경우 여러가지 사유가 있을수 있으니, 신한은행 고객상담센터 1599-8000번으로 문의 주시면 자세히 상담해드리겠습니다.\n",
      "\n",
      "ask: 로그인은 어디서 하나요?\n",
      "Information: 인터넷뱅킹에 로그인하시려면 신한은행 홈페이지에서 개인 → 뱅킹로그인 버튼을 클릭하시면 됩니다. 참고로 인터넷뱅킹에 로그인하시려면 우선 공동인증서 또는 금융인증서를 발급받으셔야 하며, '인증센터'에서 발급받으실 수 있습니다. 기타 궁금하신 내용은 신한은행 고객센터 1599-8000로 문의하여 주시기 바랍니다.\n",
      "\n",
      "ask: 인터넷뱅킹을 하고자 하는데 인증서는 어디서 발급 하나요?\n",
      "Information: 인증서는 신한은행에 인터넷뱅킹서비스가 가입되어 있으시면 신한은행 홈페이지 또는 신한 쏠(SOL)의 인증센터에서 발급 가능합니다. ※ 개인은 주민번호로 금융기관 통합하여 발급기관별, 용도별로 한 개의 인증서만 발급이 가능합니다. 예) 타은행에서 은행/신용카드/보험용(결제원) 인증서를 발급받은 경우 → 당행 은행/신용카드/보험용(결제원) 인증서 발급 불가\n",
      "\n",
      "ask: 이체한도란 무엇인가요?\n",
      "Information: 이체한도란 인터넷뱅킹, 폰뱅킹, 모바일뱅킹 등을 통하여 이체할 수 있는 거래한도를 말합니다. ① 1일/1회 이체한도 1일 이체한도란 하루에 거래할 수 있는 이체금액의 합을 말하여, 1회 이체한도란 1회에 이체하실 수 있는 금액의 한도를 말합니다. ② 통합이체한도 인터넷뱅킹, 폰뱅킹, 모바일뱅킹 등을 고객님이 사용하시는 경우 고객님이 1일 또는 1회에 이체하실 수 있는 이체한도를 말합니다. 인터넷뱅킹, 폰뱅킹, 모바일뱅킹 등에서 고객님이 거래하신 이체금액의 합이 통합이체한도의 범위를 초과할 수 없습니다. ③ 최고이체한도 금융감독원에서는 개인의 전자금융 시 이용할 수 있는 이체한도의 가이드라인을 정하고 있습니다.(인터넷뱅킹 : 1일 5억원, 1회 1억원 이내)\n",
      "\n",
      "ask: 인터넷뱅킹 비밀번호를 잊어버렸습니다.\n",
      "Information: 인터넷뱅킹 로그인시 사용되는 인증서 암호를 잊어버리셨다면, 영업점 방문없이 인증서 재발급을 통해 인증서 암호를 다시 설정하실수 있습니다. 당행에서 발급한 인증서인 경우 당행 홈페이지에서 재발급하시면 됩니다. 신한은행 홈페이지 인증센터로 접속하시면 금융인증서와 공동인증서구 공인인증서로 메뉴가 분리되어 있으므로 해당 메뉴를 선택해서 접속해 주시면 됩니다. 타기관에서 발급된 인증서인 경우엔 해당기관에서 재발급후, 당행 홈페이지 타기관 공인인증서 등록/해제 메뉴에서 등록 후 이용하시면 됩니다.\n",
      "</context>\n",
      "\n",
      "Only using the contex as above, answer the following question with the rules as below:\n",
      "    - Don't insert XML tag such as <context> and </context> when answering.\n",
      "    - Write as much as you can\n",
      "    - Be courteous and polite\n",
      "    - Only answer the question if you can find the answer in the context with certainty.\n",
      "\n",
      "Question:\n",
      "홈페이지 이용자아이디 여러 개 사용할 수 있나요?\n",
      "\n",
      "If the answer is not in the context, just say \"주어진 내용에서 관련 답변을 찾을 수 없습니다.\"\n",
      "\n",
      "\n",
      "Assistant:\u001b[0m\n",
      "\n",
      "\u001b[1m> Finished chain.\u001b[0m\n",
      "\n",
      "\u001b[1m> Finished chain.\u001b[0m\n",
      "##############################\n",
      "query: \n",
      " 홈페이지 이용자아이디 여러 개 사용할 수 있나요?\n",
      "answer: \n",
      "  주어진 내용에서 홈페이지 이용자아이디 사용 관련 정보를 찾을 수 없습니다. 관련 문의사항이 있으시다면 신한은행 고객센터나 영업점을 방문하셔서 상담 받으시기 바랍니다.\n"
     ]
    }
   ],
   "source": [
    "opensearch_lexical_retriever.update_search_params(\n",
    "    k=5,\n",
    "    minimum_should_match=0,\n",
    "    filter=[\n",
    "        {\"term\": {\"metadata.type\": filter01}},\n",
    "        {\"term\": {\"metadata.source\": filter02}},\n",
    "    ],\n",
    ")\n",
    "search_keyword_result = opensearch_lexical_retriever.get_relevant_documents(query)\n",
    "\n",
    "answer = chain.run(\n",
    "    input_documents=search_keyword_result,\n",
    "    question=query\n",
    ")\n",
    "\n",
    "print(\"##############################\")\n",
    "print(\"query: \\n\", query)\n",
    "print(\"answer: \\n\", answer)"
   ]
  },
  {
   "cell_type": "markdown",
   "id": "5d4c2835-355a-4ce5-bbdf-64e3b69f3fd9",
   "metadata": {
    "tags": []
   },
   "source": [
    "### 키워드 검색 결과 (search_keyword_result)\n",
    "bm25 score는 max_value로 normalization 되어 있음 (score range 0 - 1)"
   ]
  },
  {
   "cell_type": "code",
   "execution_count": 129,
   "id": "705d287f-2dee-4a01-a7a1-cf39922c5ad0",
   "metadata": {
    "tags": []
   },
   "outputs": [
    {
     "name": "stdout",
     "output_type": "stream",
     "text": [
      "-----------------------------------------------\n",
      "1. Chunk: 128 Characters\n",
      "-----------------------------------------------\n",
      "ask: 즉시/예약 이체 서비스가 안되는 경우 어떻게 해야해?\n",
      "Information: 이체서비스가 되지 않는 경우 여러가지 사유가 있을수 있으니, 신한은행 고객상담센터 1599-8000번으로 문의 주시면 자세히 상담해드리겠습니다.\n",
      "metadata:\n",
      " {'source': '신한은행', 'row': 62, 'type': '인터넷뱅킹', 'timestamp': 1696755374.045472, 'id':\n",
      "'07146c5b-f74b-4eb0-b472-64f949ff96c7'}\n",
      "-----------------------------------------------\n",
      "2. Chunk: 204 Characters\n",
      "-----------------------------------------------\n",
      "ask: 로그인은 어디서 하나요?\n",
      "Information: 인터넷뱅킹에 로그인하시려면 신한은행 홈페이지에서 개인 → 뱅킹로그인 버튼을 클릭하시면 됩니다. 참고로 인터넷뱅킹에 로그인하시려면 우선 공동인증서 또는\n",
      "금융인증서를 발급받으셔야 하며, '인증센터'에서 발급받으실 수 있습니다. 기타 궁금하신 내용은 신한은행 고객센터 1599-8000로 문의하여 주시기 바랍니다.\n",
      "metadata:\n",
      " {'source': '신한은행', 'row': 57, 'type': '인터넷뱅킹', 'timestamp': 1696755374.045458, 'id':\n",
      "'bf8fef3b-836a-491c-8ee5-3fe67420a13a'}\n",
      "-----------------------------------------------\n",
      "3. Chunk: 247 Characters\n",
      "-----------------------------------------------\n",
      "ask: 인터넷뱅킹을 하고자 하는데 인증서는 어디서 발급 하나요?\n",
      "Information: 인증서는 신한은행에 인터넷뱅킹서비스가 가입되어 있으시면 신한은행 홈페이지 또는 신한 쏠(SOL)의 인증센터에서 발급 가능합니다. ※ 개인은 주민번호로\n",
      "금융기관 통합하여 발급기관별, 용도별로 한 개의 인증서만 발급이 가능합니다. 예) 타은행에서 은행/신용카드/보험용(결제원) 인증서를 발급받은 경우 → 당행\n",
      "은행/신용카드/보험용(결제원) 인증서 발급 불가\n",
      "metadata:\n",
      " {'source': '신한은행', 'row': 82, 'type': '인터넷뱅킹', 'timestamp': 1696755374.0455446, 'id':\n",
      "'54a89894-ee7d-4657-a94a-91ea11c6c592'}\n",
      "-----------------------------------------------\n",
      "4. Chunk: 402 Characters\n",
      "-----------------------------------------------\n",
      "ask: 이체한도란 무엇인가요?\n",
      "Information: 이체한도란 인터넷뱅킹, 폰뱅킹, 모바일뱅킹 등을 통하여 이체할 수 있는 거래한도를 말합니다. ① 1일/1회 이체한도 1일 이체한도란 하루에 거래할 수 있는\n",
      "이체금액의 합을 말하여, 1회 이체한도란 1회에 이체하실 수 있는 금액의 한도를 말합니다. ② 통합이체한도 인터넷뱅킹, 폰뱅킹, 모바일뱅킹 등을 고객님이 사용하시는 경우 고객님이\n",
      "1일 또는 1회에 이체하실 수 있는 이체한도를 말합니다. 인터넷뱅킹, 폰뱅킹, 모바일뱅킹 등에서 고객님이 거래하신 이체금액의 합이 통합이체한도의 범위를 초과할 수 없습니다. ③\n",
      "최고이체한도 금융감독원에서는 개인의 전자금융 시 이용할 수 있는 이체한도의 가이드라인을 정하고 있습니다.(인터넷뱅킹 : 1일 5억원, 1회 1억원 이내)\n",
      "metadata:\n",
      " {'source': '신한은행', 'row': 39, 'type': '인터넷뱅킹', 'timestamp': 1696755374.0454075, 'id': 'cde357de-\n",
      "ff32-4a2c-8f13-4cb3e05a7dc4'}\n",
      "-----------------------------------------------\n",
      "5. Chunk: 313 Characters\n",
      "-----------------------------------------------\n",
      "ask: 인터넷뱅킹 비밀번호를 잊어버렸습니다.\n",
      "Information: 인터넷뱅킹 로그인시 사용되는 인증서 암호를 잊어버리셨다면, 영업점 방문없이 인증서 재발급을 통해 인증서 암호를 다시 설정하실수 있습니다. 당행에서 발급한\n",
      "인증서인 경우 당행 홈페이지에서 재발급하시면 됩니다. 신한은행 홈페이지 인증센터로 접속하시면 금융인증서와 공동인증서구 공인인증서로 메뉴가 분리되어 있으므로 해당 메뉴를 선택해서\n",
      "접속해 주시면 됩니다. 타기관에서 발급된 인증서인 경우엔 해당기관에서 재발급후, 당행 홈페이지 타기관 공인인증서 등록/해제 메뉴에서 등록 후 이용하시면 됩니다.\n",
      "metadata:\n",
      " {'source': '신한은행', 'row': 71, 'type': '인터넷뱅킹', 'timestamp': 1696755374.0454988, 'id':\n",
      "'0c8d6ff9-2739-4e77-8e2c-5e480826a3c2'}\n"
     ]
    }
   ],
   "source": [
    "show_context_used(search_keyword_result)"
   ]
  },
  {
   "cell_type": "markdown",
   "id": "a67677f4-2e37-44a2-b11f-2ba338651c85",
   "metadata": {
    "tags": []
   },
   "source": [
    "## (3) OpenSearch Hybrid 검색"
   ]
  },
  {
   "cell_type": "markdown",
   "id": "28b1978e-de8d-41a6-84e1-36c8efdaf7ec",
   "metadata": {
    "tags": []
   },
   "source": [
    "OpenSearch Hybrid 는 아래와 같은 방식으로 작동합니다.\n",
    "- (1) \"Vector 서치\" 하여 스코어를 얻은 후에 표준화를 하여 스코어를 구함. \n",
    "    - 전체 결과에서 가장 높은 스코어는 표준화 과정을 통하여 스코어가 1.0 이 됨.\n",
    "- (2) Keyword 서치도 동일하게 함.\n",
    "- (3) Reciprocal Rank Fusion (RRF) 기반 Re-rank\n",
    "    - Paper: https://plg.uwaterloo.ca/~gvcormac/cormacksigir09-rrf.pdf\n",
    "    - Desc: https://medium.com/@sowmiyajaganathan/hybrid-search-with-re-ranking-ff120c8a426d\n",
    "    - **RRF의 경우 score가 아닌 ranking 정보를 활용, 때문에 score normalization이 필요 없음**\n",
    "    - ![rrf.png](./img/rrf.png)\n",
    "\n",
    "RRF는 langchain에서 \"Ensemble Retriever\" 이름으로 api를 제공합니다. \n",
    "- https://python.langchain.com/docs/modules/data_connection/retrievers/ensemble\n"
   ]
  },
  {
   "cell_type": "markdown",
   "id": "e624840f-19f2-42e6-9e07-91582cd45f2f",
   "metadata": {
    "tags": []
   },
   "source": [
    "### Ensemble retriever 정의\n",
    "- https://python.langchain.com/docs/modules/data_connection/retrievers/ensemble\n",
    "- Rank constant (param \"c\")\n",
    "    - This value determines how much influence documents in individual result sets per query have over the final ranked result set. A higher value indicates that lower ranked documents have more influence. This value must be greater than or equal to 1. Defaults to 60.\n",
    "    - 숫자 높을 수록 낮은 랭크의 문서가 더 중요시 된다"
   ]
  },
  {
   "cell_type": "code",
   "execution_count": 86,
   "id": "90df0d75-2727-4191-8e11-5633db526a60",
   "metadata": {
    "tags": []
   },
   "outputs": [],
   "source": [
    "from langchain.retrievers import EnsembleRetriever"
   ]
  },
  {
   "cell_type": "markdown",
   "id": "ed1e1cef-87a9-4939-a96a-a44080b80475",
   "metadata": {},
   "source": [
    "* Lexical search의 경우, search option 변경 가능"
   ]
  },
  {
   "cell_type": "code",
   "execution_count": 147,
   "id": "b895e6b7-19d9-48c8-86b5-e488a5c5f0fb",
   "metadata": {
    "tags": []
   },
   "outputs": [],
   "source": [
    "filter01 = \"홈페이지\"\n",
    "# filter01 = \"인증서\"\n",
    "filter02 = \"신한은행\"\n",
    "# filter02 = \"아마존은행\"\n",
    "\n",
    "opensearch_lexical_retriever.update_search_params(\n",
    "    k=5,\n",
    "    minimum_should_match=0,\n",
    "    filter=[\n",
    "        {\"term\": {\"metadata.type\": filter01}},\n",
    "        {\"term\": {\"metadata.source\": filter02}},\n",
    "    ],\n",
    ")"
   ]
  },
  {
   "cell_type": "code",
   "execution_count": 148,
   "id": "c3295750-eb2d-4e2b-9b9f-610831bbcb72",
   "metadata": {
    "tags": []
   },
   "outputs": [],
   "source": [
    "query = \"홈페이지 이용자아이디 여러 개 사용할 수 있나요?\"\n",
    "#query = \"타기관OTP 등록 방법 알려주세요\""
   ]
  },
  {
   "cell_type": "code",
   "execution_count": 149,
   "id": "5b59c3d8-6c02-424e-bd7d-44cf759a6bff",
   "metadata": {
    "tags": []
   },
   "outputs": [],
   "source": [
    "ensemble_retriever = EnsembleRetriever(\n",
    "    retrievers=[opensearch_lexical_retriever, opensearch_semantic_retriever],\n",
    "    weights=[0.5, 0.5],\n",
    "    c=100,\n",
    "    k=5\n",
    ")"
   ]
  },
  {
   "cell_type": "code",
   "execution_count": 150,
   "id": "b56ce964-7e54-43e5-957d-1f25c81e4f39",
   "metadata": {
    "tags": []
   },
   "outputs": [
    {
     "name": "stdout",
     "output_type": "stream",
     "text": [
      "lexical search query: \n",
      "{'query': {'bool': {'filter': [{'term': {'metadata.type': '홈페이지'}},\n",
      "                               {'term': {'metadata.source': '신한은행'}}],\n",
      "                    'must': [{'match': {'text': {'minimum_should_match': '0%',\n",
      "                                                 'operator': 'or',\n",
      "                                                 'query': '홈페이지 이용자아이디 여러 개 '\n",
      "                                                          '사용할 수 있나요?'}}}]}},\n",
      " 'size': 5}\n",
      "\n",
      "\n",
      "\u001b[1m> Entering new StuffDocumentsChain chain...\u001b[0m\n",
      "\n",
      "\n",
      "\u001b[1m> Entering new LLMChain chain...\u001b[0m\n",
      "Prompt after formatting:\n",
      "\u001b[32;1m\u001b[1;3m\n",
      "\n",
      "\n",
      "Human: Here is the context, inside <context></context> XML tags.\n",
      "\n",
      "<context>\n",
      "ask: 홈페이지 이용자아이디 여러 개 사용할 수 있나요?\n",
      "Information: 홈페이지 이용자 아이디는 개인의 경우 1인 1개만 이용 가능하고 기업의 경우에는 1개의 사업자번호당 사용자별로 이용자아이디를 복수로 사용할 수 있습니다. \n",
      "※ 개인사업자의 경우 개인과 기업 각각 이용자아이디를 발급하여 복수로 이용 가능합니다. \n",
      "기타 궁금하신 내용은 신한은행 고객센터 1599-8000로 문의하여 주시기 바랍니다.\n",
      "\n",
      "ask: 홈페이지 회원아이디를 변경하고 싶습니다.\n",
      "Information: 회원탈퇴를 하시고, 사용하시고 싶은 아이디로 신규 회원가입신청을 하시면 됩니다. 다만, 사용하시고 싶은 아이디가 이미 다른 고객이 사용하고 있는 경우에는 사용하실 수 없습니다. 기타 문의는 콜센터 1599-8000번으로 문의 바랍니다.\n",
      "\n",
      "ask: 만14세 미만의 고객은 홈페이지 회원가입이 가능하나요?\n",
      "Information: 만 14세 미만 고객은 회원가입시 '정보통신망 이용촉진 및 정보 등에 관한 법률' 및 '개인정보보호지침'에 따라 법정대리인의 정보활용 동의가 필요합니다. 당행 영업점을 통한 보호자분의 홈페이지 회원 법정대리인 등록이 완료된 고객님에 한하여 회원등록이 가능하므로 홈페이지 회원 법정대리인 등록이 안된 고객님의 보호자분께서는 먼저 가까운 영업점을 방문하여 주시기 바랍니다. [구비서류] - 법정대리인 실명확인증표 - 미성년자 기준으로 발급된 특정 또는 상세 기본증명서 - 미성년자 기준으로 발급된 가족관계증명서 * 은행 방문일로부터 3개월 이내 발급한 서류로 준비해주셔야 하며, 성함과 주민등록번호 13자리가 모두 기재되어 있어야합니다. 기타 문의는 콜센터 1599-8000번으로 문의 바랍니다.\n",
      "\n",
      "ask: 홈페이지 비밀번호를 5회이상 틀렸습니다. 재설정하려면 어떻게 하죠?\n",
      "Information: 홈페이지 비밀번호를 5회 오류의 경우 홈페이지 로그인이 불가능하오니 본인인증 절차 후 비밀번호를 새로 등록하시면 이용 가능합니다. 신한은행 홈페이지 접속 후 ① (오른쪽 상단)고객센터 회원서비스 ② 회원정보변경 비밀번호 찾기(재설정) ③ (개인회원)약관보기 및 동의 ④ 본인확인(이름, 생년월일, 아이디, 계좌번호, 계좌비밀번호 입력) ⑤ 사용할 비밀번호/비밀번호 확인 2회 입력확인 ※ 영문, 숫자, 특수문자 포함 8-15자리 이내 ⑥ 비밀번호 재설정 완료 - ID/PW 로그인 화면 하단 비밀번호 재설정 메뉴를 통해서도 진행 가능합니다. 기타 궁금하신 내용은 신한은행 고객센터 1599-8000로 문의하여 주시기 바랍니다.\n",
      "\n",
      "ask: 홈페이지 고객정보를 수정하고 싶습니다.\n",
      "Information: 홈페이지 회원로그인 후 정보수정을 하실 수 있습니다. 홈페이지 상단에 있는 [고객센터]를 클릭하여, 회원서비스 → 회원정보변경 메뉴에서 회원정보변경을 이용하시기 바랍니다. 인터넷뱅킹의 회원정보는 인터넷뱅킹으로 로그인 하신 후 사용자 관리메뉴를 이용하여 수정하시기 바랍니다. 기타 문의는 콜센터 1599-8000번으로 문의 바랍니다.\n",
      "\n",
      "ask: 영업점에서 인터넷뱅킹 가입하고 왔는데 홈페이지회원은 별도로 가입해야 하나요?\n",
      "Information: 인터넷뱅킹 가입과 홈페이지 회원은 개별로 운영되고 있습니다. \n",
      "인터넷뱅킹만 가입을 하셨다면 별도로 홈페이지에 회원가입 후 홈페이지 로그인이 가능합니다. \n",
      "※ 영업점에서 인터넷뱅킹 가입 시 전계좌조회서비스 가입하신 고객은 홈페이지 상에서 이용자비밀번호 등록 후 이용가능합니다. \n",
      "기타 궁금하신 내용은 신한은행 고객센터 1599-8000로 문의하여 주시기 바랍니다.\n",
      "\n",
      "ask: 홈페이지 회원가입은 어떻게 해야 하나요?\n",
      "Information: 홈페이지 상단에 있는 [고객센터]를 클릭하여, 회원서비스 → 회원가입메뉴에서 회원가입 메뉴를 이용하시기 바랍니다. 기타 문의는 콜센터 1599-8000번으로 문의 바랍니다.\n",
      "\n",
      "ask: 홈페이지 탈회하고 싶습니다. 어떻게 하나요?\n",
      "Information: 홈페이지 로그인 후 회원탈퇴를 하실 수 있습니다. 홈페이지 상단에 있는 고객센터 > 회원서비스 > 회원탈퇴 메뉴에서 회원탈퇴 진행할 수 있습니다. 혹시, 비밀번호를 분실하셨다면 ID/PW 로그인 화면 하단 비밀번호 재설정 메뉴를 통해서 비밀번호 재설정하고 로그인 후 회원탈퇴 가능합니다. 기타 문의는 신한은행고객센터 (☎ 1599-8000번)으로 문의 바랍니다.\n",
      "</context>\n",
      "\n",
      "Only using the contex as above, answer the following question with the rules as below:\n",
      "    - Don't insert XML tag such as <context> and </context> when answering.\n",
      "    - Write as much as you can\n",
      "    - Be courteous and polite\n",
      "    - Only answer the question if you can find the answer in the context with certainty.\n",
      "\n",
      "Question:\n",
      "홈페이지 이용자아이디 여러 개 사용할 수 있나요?\n",
      "\n",
      "If the answer is not in the context, just say \"주어진 내용에서 관련 답변을 찾을 수 없습니다.\"\n",
      "\n",
      "\n",
      "Assistant:\u001b[0m\n",
      "\n",
      "\u001b[1m> Finished chain.\u001b[0m\n",
      "\n",
      "\u001b[1m> Finished chain.\u001b[0m\n",
      "##############################\n",
      "query: \n",
      " 홈페이지 이용자아이디 여러 개 사용할 수 있나요?\n",
      "answer: \n",
      "  개인의 경우 1인 1개만 이용 가능하고 기업의 경우에는 1개의 사업자번호당 사용자별로 이용자아이디를 복수로 사용할 수 있습니다. \n",
      "CPU times: user 12.5 ms, sys: 3.89 ms, total: 16.4 ms\n",
      "Wall time: 14.8 s\n"
     ]
    }
   ],
   "source": [
    "%%time\n",
    "\n",
    "search_hybrid_result = ensemble_retriever.get_relevant_documents(query)\n",
    "\n",
    "answer = chain.run(\n",
    "    input_documents=search_hybrid_result,\n",
    "    question=query\n",
    ")\n",
    "\n",
    "print(\"##############################\")\n",
    "print(\"query: \\n\", query)\n",
    "print(\"answer: \\n\", answer)"
   ]
  },
  {
   "cell_type": "code",
   "execution_count": 151,
   "id": "1bd2a4c0-042b-48c0-becc-9b38cc563a71",
   "metadata": {
    "tags": []
   },
   "outputs": [
    {
     "name": "stdout",
     "output_type": "stream",
     "text": [
      "-----------------------------------------------\n",
      "1. Chunk: 232 Characters\n",
      "-----------------------------------------------\n",
      "ask: 홈페이지 이용자아이디 여러 개 사용할 수 있나요?\n",
      "Information: 홈페이지 이용자 아이디는 개인의 경우 1인 1개만 이용 가능하고 기업의 경우에는 1개의 사업자번호당 사용자별로 이용자아이디를 복수로 사용할 수 있습니다.\n",
      "※ 개인사업자의 경우 개인과 기업 각각 이용자아이디를 발급하여 복수로 이용 가능합니다.\n",
      "기타 궁금하신 내용은 신한은행 고객센터 1599-8000로 문의하여 주시기 바랍니다.\n",
      "metadata:\n",
      " {'source': '신한은행', 'row': 21, 'type': '홈페이지', 'timestamp': 1696755374.045353}\n",
      "-----------------------------------------------\n",
      "2. Chunk: 172 Characters\n",
      "-----------------------------------------------\n",
      "ask: 홈페이지 회원아이디를 변경하고 싶습니다.\n",
      "Information: 회원탈퇴를 하시고, 사용하시고 싶은 아이디로 신규 회원가입신청을 하시면 됩니다. 다만, 사용하시고 싶은 아이디가 이미 다른 고객이 사용하고 있는 경우에는\n",
      "사용하실 수 없습니다. 기타 문의는 콜센터 1599-8000번으로 문의 바랍니다.\n",
      "metadata:\n",
      " {'source': '신한은행', 'row': 45, 'type': '홈페이지', 'timestamp': 1696755374.0454254}\n",
      "-----------------------------------------------\n",
      "3. Chunk: 436 Characters\n",
      "-----------------------------------------------\n",
      "ask: 만14세 미만의 고객은 홈페이지 회원가입이 가능하나요?\n",
      "Information: 만 14세 미만 고객은 회원가입시 '정보통신망 이용촉진 및 정보 등에 관한 법률' 및 '개인정보보호지침'에 따라 법정대리인의 정보활용 동의가 필요합니다.\n",
      "당행 영업점을 통한 보호자분의 홈페이지 회원 법정대리인 등록이 완료된 고객님에 한하여 회원등록이 가능하므로 홈페이지 회원 법정대리인 등록이 안된 고객님의 보호자분께서는 먼저 가까운\n",
      "영업점을 방문하여 주시기 바랍니다. [구비서류] - 법정대리인 실명확인증표 - 미성년자 기준으로 발급된 특정 또는 상세 기본증명서 - 미성년자 기준으로 발급된 가족관계증명서 *\n",
      "은행 방문일로부터 3개월 이내 발급한 서류로 준비해주셔야 하며, 성함과 주민등록번호 13자리가 모두 기재되어 있어야합니다. 기타 문의는 콜센터 1599-8000번으로 문의\n",
      "바랍니다.\n",
      "metadata:\n",
      " {'source': '신한은행', 'row': 48, 'type': '홈페이지', 'timestamp': 1696755374.045434}\n",
      "-----------------------------------------------\n",
      "4. Chunk: 406 Characters\n",
      "-----------------------------------------------\n",
      "ask: 홈페이지 비밀번호를 5회이상 틀렸습니다. 재설정하려면 어떻게 하죠?\n",
      "Information: 홈페이지 비밀번호를 5회 오류의 경우 홈페이지 로그인이 불가능하오니 본인인증 절차 후 비밀번호를 새로 등록하시면 이용 가능합니다. 신한은행 홈페이지 접속 후\n",
      "① (오른쪽 상단)고객센터 회원서비스 ② 회원정보변경 비밀번호 찾기(재설정) ③ (개인회원)약관보기 및 동의 ④ 본인확인(이름, 생년월일, 아이디, 계좌번호, 계좌비밀번호 입력)\n",
      "⑤ 사용할 비밀번호/비밀번호 확인 2회 입력확인 ※ 영문, 숫자, 특수문자 포함 8-15자리 이내 ⑥ 비밀번호 재설정 완료 - ID/PW 로그인 화면 하단 비밀번호 재설정 메뉴를\n",
      "통해서도 진행 가능합니다. 기타 궁금하신 내용은 신한은행 고객센터 1599-8000로 문의하여 주시기 바랍니다.\n",
      "metadata:\n",
      " {'source': '신한은행', 'row': 59, 'type': '홈페이지', 'timestamp': 1696755374.0454643, 'id':\n",
      "'8bfeefeb-96f9-4cc1-b219-15b40d1a73b8'}\n",
      "-----------------------------------------------\n",
      "5. Chunk: 225 Characters\n",
      "-----------------------------------------------\n",
      "ask: 홈페이지 고객정보를 수정하고 싶습니다.\n",
      "Information: 홈페이지 회원로그인 후 정보수정을 하실 수 있습니다. 홈페이지 상단에 있는 [고객센터]를 클릭하여, 회원서비스 → 회원정보변경 메뉴에서 회원정보변경을\n",
      "이용하시기 바랍니다. 인터넷뱅킹의 회원정보는 인터넷뱅킹으로 로그인 하신 후 사용자 관리메뉴를 이용하여 수정하시기 바랍니다. 기타 문의는 콜센터 1599-8000번으로 문의\n",
      "바랍니다.\n",
      "metadata:\n",
      " {'source': '신한은행', 'row': 46, 'type': '홈페이지', 'timestamp': 1696755374.045428}\n",
      "-----------------------------------------------\n",
      "6. Chunk: 266 Characters\n",
      "-----------------------------------------------\n",
      "ask: 영업점에서 인터넷뱅킹 가입하고 왔는데 홈페이지회원은 별도로 가입해야 하나요?\n",
      "Information: 인터넷뱅킹 가입과 홈페이지 회원은 개별로 운영되고 있습니다.\n",
      "인터넷뱅킹만 가입을 하셨다면 별도로 홈페이지에 회원가입 후 홈페이지 로그인이 가능합니다.\n",
      "※ 영업점에서 인터넷뱅킹 가입 시 전계좌조회서비스 가입하신 고객은 홈페이지 상에서 이용자비밀번호 등록 후 이용가능합니다.\n",
      "기타 궁금하신 내용은 신한은행 고객센터 1599-8000로 문의하여 주시기 바랍니다.\n",
      "metadata:\n",
      " {'source': '신한은행', 'row': 23, 'type': '홈페이지', 'timestamp': 1696755374.0453582, 'id':\n",
      "'9a54120f-e857-4b32-bfc4-d29ab21a8847'}\n",
      "-----------------------------------------------\n",
      "7. Chunk: 137 Characters\n",
      "-----------------------------------------------\n",
      "ask: 홈페이지 회원가입은 어떻게 해야 하나요?\n",
      "Information: 홈페이지 상단에 있는 [고객센터]를 클릭하여, 회원서비스 → 회원가입메뉴에서 회원가입 메뉴를 이용하시기 바랍니다. 기타 문의는 콜센터 1599-8000번으로\n",
      "문의 바랍니다.\n",
      "metadata:\n",
      " {'source': '신한은행', 'row': 49, 'type': '홈페이지', 'timestamp': 1696755374.0454364}\n",
      "-----------------------------------------------\n",
      "8. Chunk: 245 Characters\n",
      "-----------------------------------------------\n",
      "ask: 홈페이지 탈회하고 싶습니다. 어떻게 하나요?\n",
      "Information: 홈페이지 로그인 후 회원탈퇴를 하실 수 있습니다. 홈페이지 상단에 있는 고객센터 > 회원서비스 > 회원탈퇴 메뉴에서 회원탈퇴 진행할 수 있습니다. 혹시,\n",
      "비밀번호를 분실하셨다면 ID/PW 로그인 화면 하단 비밀번호 재설정 메뉴를 통해서 비밀번호 재설정하고 로그인 후 회원탈퇴 가능합니다. 기타 문의는 신한은행고객센터 (☎\n",
      "1599-8000번)으로 문의 바랍니다.\n",
      "metadata:\n",
      " {'source': '신한은행', 'row': 44, 'type': '홈페이지', 'timestamp': 1696755374.0454226, 'id':\n",
      "'e6ffba6e-9c00-488d-8ffe-38f471a26e58'}\n"
     ]
    }
   ],
   "source": [
    "show_context_used(search_hybrid_result)"
   ]
  }
 ],
 "metadata": {
  "availableInstances": [
   {
    "_defaultOrder": 0,
    "_isFastLaunch": true,
    "category": "General purpose",
    "gpuNum": 0,
    "hideHardwareSpecs": false,
    "memoryGiB": 4,
    "name": "ml.t3.medium",
    "vcpuNum": 2
   },
   {
    "_defaultOrder": 1,
    "_isFastLaunch": false,
    "category": "General purpose",
    "gpuNum": 0,
    "hideHardwareSpecs": false,
    "memoryGiB": 8,
    "name": "ml.t3.large",
    "vcpuNum": 2
   },
   {
    "_defaultOrder": 2,
    "_isFastLaunch": false,
    "category": "General purpose",
    "gpuNum": 0,
    "hideHardwareSpecs": false,
    "memoryGiB": 16,
    "name": "ml.t3.xlarge",
    "vcpuNum": 4
   },
   {
    "_defaultOrder": 3,
    "_isFastLaunch": false,
    "category": "General purpose",
    "gpuNum": 0,
    "hideHardwareSpecs": false,
    "memoryGiB": 32,
    "name": "ml.t3.2xlarge",
    "vcpuNum": 8
   },
   {
    "_defaultOrder": 4,
    "_isFastLaunch": true,
    "category": "General purpose",
    "gpuNum": 0,
    "hideHardwareSpecs": false,
    "memoryGiB": 8,
    "name": "ml.m5.large",
    "vcpuNum": 2
   },
   {
    "_defaultOrder": 5,
    "_isFastLaunch": false,
    "category": "General purpose",
    "gpuNum": 0,
    "hideHardwareSpecs": false,
    "memoryGiB": 16,
    "name": "ml.m5.xlarge",
    "vcpuNum": 4
   },
   {
    "_defaultOrder": 6,
    "_isFastLaunch": false,
    "category": "General purpose",
    "gpuNum": 0,
    "hideHardwareSpecs": false,
    "memoryGiB": 32,
    "name": "ml.m5.2xlarge",
    "vcpuNum": 8
   },
   {
    "_defaultOrder": 7,
    "_isFastLaunch": false,
    "category": "General purpose",
    "gpuNum": 0,
    "hideHardwareSpecs": false,
    "memoryGiB": 64,
    "name": "ml.m5.4xlarge",
    "vcpuNum": 16
   },
   {
    "_defaultOrder": 8,
    "_isFastLaunch": false,
    "category": "General purpose",
    "gpuNum": 0,
    "hideHardwareSpecs": false,
    "memoryGiB": 128,
    "name": "ml.m5.8xlarge",
    "vcpuNum": 32
   },
   {
    "_defaultOrder": 9,
    "_isFastLaunch": false,
    "category": "General purpose",
    "gpuNum": 0,
    "hideHardwareSpecs": false,
    "memoryGiB": 192,
    "name": "ml.m5.12xlarge",
    "vcpuNum": 48
   },
   {
    "_defaultOrder": 10,
    "_isFastLaunch": false,
    "category": "General purpose",
    "gpuNum": 0,
    "hideHardwareSpecs": false,
    "memoryGiB": 256,
    "name": "ml.m5.16xlarge",
    "vcpuNum": 64
   },
   {
    "_defaultOrder": 11,
    "_isFastLaunch": false,
    "category": "General purpose",
    "gpuNum": 0,
    "hideHardwareSpecs": false,
    "memoryGiB": 384,
    "name": "ml.m5.24xlarge",
    "vcpuNum": 96
   },
   {
    "_defaultOrder": 12,
    "_isFastLaunch": false,
    "category": "General purpose",
    "gpuNum": 0,
    "hideHardwareSpecs": false,
    "memoryGiB": 8,
    "name": "ml.m5d.large",
    "vcpuNum": 2
   },
   {
    "_defaultOrder": 13,
    "_isFastLaunch": false,
    "category": "General purpose",
    "gpuNum": 0,
    "hideHardwareSpecs": false,
    "memoryGiB": 16,
    "name": "ml.m5d.xlarge",
    "vcpuNum": 4
   },
   {
    "_defaultOrder": 14,
    "_isFastLaunch": false,
    "category": "General purpose",
    "gpuNum": 0,
    "hideHardwareSpecs": false,
    "memoryGiB": 32,
    "name": "ml.m5d.2xlarge",
    "vcpuNum": 8
   },
   {
    "_defaultOrder": 15,
    "_isFastLaunch": false,
    "category": "General purpose",
    "gpuNum": 0,
    "hideHardwareSpecs": false,
    "memoryGiB": 64,
    "name": "ml.m5d.4xlarge",
    "vcpuNum": 16
   },
   {
    "_defaultOrder": 16,
    "_isFastLaunch": false,
    "category": "General purpose",
    "gpuNum": 0,
    "hideHardwareSpecs": false,
    "memoryGiB": 128,
    "name": "ml.m5d.8xlarge",
    "vcpuNum": 32
   },
   {
    "_defaultOrder": 17,
    "_isFastLaunch": false,
    "category": "General purpose",
    "gpuNum": 0,
    "hideHardwareSpecs": false,
    "memoryGiB": 192,
    "name": "ml.m5d.12xlarge",
    "vcpuNum": 48
   },
   {
    "_defaultOrder": 18,
    "_isFastLaunch": false,
    "category": "General purpose",
    "gpuNum": 0,
    "hideHardwareSpecs": false,
    "memoryGiB": 256,
    "name": "ml.m5d.16xlarge",
    "vcpuNum": 64
   },
   {
    "_defaultOrder": 19,
    "_isFastLaunch": false,
    "category": "General purpose",
    "gpuNum": 0,
    "hideHardwareSpecs": false,
    "memoryGiB": 384,
    "name": "ml.m5d.24xlarge",
    "vcpuNum": 96
   },
   {
    "_defaultOrder": 20,
    "_isFastLaunch": false,
    "category": "General purpose",
    "gpuNum": 0,
    "hideHardwareSpecs": true,
    "memoryGiB": 0,
    "name": "ml.geospatial.interactive",
    "supportedImageNames": [
     "sagemaker-geospatial-v1-0"
    ],
    "vcpuNum": 0
   },
   {
    "_defaultOrder": 21,
    "_isFastLaunch": true,
    "category": "Compute optimized",
    "gpuNum": 0,
    "hideHardwareSpecs": false,
    "memoryGiB": 4,
    "name": "ml.c5.large",
    "vcpuNum": 2
   },
   {
    "_defaultOrder": 22,
    "_isFastLaunch": false,
    "category": "Compute optimized",
    "gpuNum": 0,
    "hideHardwareSpecs": false,
    "memoryGiB": 8,
    "name": "ml.c5.xlarge",
    "vcpuNum": 4
   },
   {
    "_defaultOrder": 23,
    "_isFastLaunch": false,
    "category": "Compute optimized",
    "gpuNum": 0,
    "hideHardwareSpecs": false,
    "memoryGiB": 16,
    "name": "ml.c5.2xlarge",
    "vcpuNum": 8
   },
   {
    "_defaultOrder": 24,
    "_isFastLaunch": false,
    "category": "Compute optimized",
    "gpuNum": 0,
    "hideHardwareSpecs": false,
    "memoryGiB": 32,
    "name": "ml.c5.4xlarge",
    "vcpuNum": 16
   },
   {
    "_defaultOrder": 25,
    "_isFastLaunch": false,
    "category": "Compute optimized",
    "gpuNum": 0,
    "hideHardwareSpecs": false,
    "memoryGiB": 72,
    "name": "ml.c5.9xlarge",
    "vcpuNum": 36
   },
   {
    "_defaultOrder": 26,
    "_isFastLaunch": false,
    "category": "Compute optimized",
    "gpuNum": 0,
    "hideHardwareSpecs": false,
    "memoryGiB": 96,
    "name": "ml.c5.12xlarge",
    "vcpuNum": 48
   },
   {
    "_defaultOrder": 27,
    "_isFastLaunch": false,
    "category": "Compute optimized",
    "gpuNum": 0,
    "hideHardwareSpecs": false,
    "memoryGiB": 144,
    "name": "ml.c5.18xlarge",
    "vcpuNum": 72
   },
   {
    "_defaultOrder": 28,
    "_isFastLaunch": false,
    "category": "Compute optimized",
    "gpuNum": 0,
    "hideHardwareSpecs": false,
    "memoryGiB": 192,
    "name": "ml.c5.24xlarge",
    "vcpuNum": 96
   },
   {
    "_defaultOrder": 29,
    "_isFastLaunch": true,
    "category": "Accelerated computing",
    "gpuNum": 1,
    "hideHardwareSpecs": false,
    "memoryGiB": 16,
    "name": "ml.g4dn.xlarge",
    "vcpuNum": 4
   },
   {
    "_defaultOrder": 30,
    "_isFastLaunch": false,
    "category": "Accelerated computing",
    "gpuNum": 1,
    "hideHardwareSpecs": false,
    "memoryGiB": 32,
    "name": "ml.g4dn.2xlarge",
    "vcpuNum": 8
   },
   {
    "_defaultOrder": 31,
    "_isFastLaunch": false,
    "category": "Accelerated computing",
    "gpuNum": 1,
    "hideHardwareSpecs": false,
    "memoryGiB": 64,
    "name": "ml.g4dn.4xlarge",
    "vcpuNum": 16
   },
   {
    "_defaultOrder": 32,
    "_isFastLaunch": false,
    "category": "Accelerated computing",
    "gpuNum": 1,
    "hideHardwareSpecs": false,
    "memoryGiB": 128,
    "name": "ml.g4dn.8xlarge",
    "vcpuNum": 32
   },
   {
    "_defaultOrder": 33,
    "_isFastLaunch": false,
    "category": "Accelerated computing",
    "gpuNum": 4,
    "hideHardwareSpecs": false,
    "memoryGiB": 192,
    "name": "ml.g4dn.12xlarge",
    "vcpuNum": 48
   },
   {
    "_defaultOrder": 34,
    "_isFastLaunch": false,
    "category": "Accelerated computing",
    "gpuNum": 1,
    "hideHardwareSpecs": false,
    "memoryGiB": 256,
    "name": "ml.g4dn.16xlarge",
    "vcpuNum": 64
   },
   {
    "_defaultOrder": 35,
    "_isFastLaunch": false,
    "category": "Accelerated computing",
    "gpuNum": 1,
    "hideHardwareSpecs": false,
    "memoryGiB": 61,
    "name": "ml.p3.2xlarge",
    "vcpuNum": 8
   },
   {
    "_defaultOrder": 36,
    "_isFastLaunch": false,
    "category": "Accelerated computing",
    "gpuNum": 4,
    "hideHardwareSpecs": false,
    "memoryGiB": 244,
    "name": "ml.p3.8xlarge",
    "vcpuNum": 32
   },
   {
    "_defaultOrder": 37,
    "_isFastLaunch": false,
    "category": "Accelerated computing",
    "gpuNum": 8,
    "hideHardwareSpecs": false,
    "memoryGiB": 488,
    "name": "ml.p3.16xlarge",
    "vcpuNum": 64
   },
   {
    "_defaultOrder": 38,
    "_isFastLaunch": false,
    "category": "Accelerated computing",
    "gpuNum": 8,
    "hideHardwareSpecs": false,
    "memoryGiB": 768,
    "name": "ml.p3dn.24xlarge",
    "vcpuNum": 96
   },
   {
    "_defaultOrder": 39,
    "_isFastLaunch": false,
    "category": "Memory Optimized",
    "gpuNum": 0,
    "hideHardwareSpecs": false,
    "memoryGiB": 16,
    "name": "ml.r5.large",
    "vcpuNum": 2
   },
   {
    "_defaultOrder": 40,
    "_isFastLaunch": false,
    "category": "Memory Optimized",
    "gpuNum": 0,
    "hideHardwareSpecs": false,
    "memoryGiB": 32,
    "name": "ml.r5.xlarge",
    "vcpuNum": 4
   },
   {
    "_defaultOrder": 41,
    "_isFastLaunch": false,
    "category": "Memory Optimized",
    "gpuNum": 0,
    "hideHardwareSpecs": false,
    "memoryGiB": 64,
    "name": "ml.r5.2xlarge",
    "vcpuNum": 8
   },
   {
    "_defaultOrder": 42,
    "_isFastLaunch": false,
    "category": "Memory Optimized",
    "gpuNum": 0,
    "hideHardwareSpecs": false,
    "memoryGiB": 128,
    "name": "ml.r5.4xlarge",
    "vcpuNum": 16
   },
   {
    "_defaultOrder": 43,
    "_isFastLaunch": false,
    "category": "Memory Optimized",
    "gpuNum": 0,
    "hideHardwareSpecs": false,
    "memoryGiB": 256,
    "name": "ml.r5.8xlarge",
    "vcpuNum": 32
   },
   {
    "_defaultOrder": 44,
    "_isFastLaunch": false,
    "category": "Memory Optimized",
    "gpuNum": 0,
    "hideHardwareSpecs": false,
    "memoryGiB": 384,
    "name": "ml.r5.12xlarge",
    "vcpuNum": 48
   },
   {
    "_defaultOrder": 45,
    "_isFastLaunch": false,
    "category": "Memory Optimized",
    "gpuNum": 0,
    "hideHardwareSpecs": false,
    "memoryGiB": 512,
    "name": "ml.r5.16xlarge",
    "vcpuNum": 64
   },
   {
    "_defaultOrder": 46,
    "_isFastLaunch": false,
    "category": "Memory Optimized",
    "gpuNum": 0,
    "hideHardwareSpecs": false,
    "memoryGiB": 768,
    "name": "ml.r5.24xlarge",
    "vcpuNum": 96
   },
   {
    "_defaultOrder": 47,
    "_isFastLaunch": false,
    "category": "Accelerated computing",
    "gpuNum": 1,
    "hideHardwareSpecs": false,
    "memoryGiB": 16,
    "name": "ml.g5.xlarge",
    "vcpuNum": 4
   },
   {
    "_defaultOrder": 48,
    "_isFastLaunch": false,
    "category": "Accelerated computing",
    "gpuNum": 1,
    "hideHardwareSpecs": false,
    "memoryGiB": 32,
    "name": "ml.g5.2xlarge",
    "vcpuNum": 8
   },
   {
    "_defaultOrder": 49,
    "_isFastLaunch": false,
    "category": "Accelerated computing",
    "gpuNum": 1,
    "hideHardwareSpecs": false,
    "memoryGiB": 64,
    "name": "ml.g5.4xlarge",
    "vcpuNum": 16
   },
   {
    "_defaultOrder": 50,
    "_isFastLaunch": false,
    "category": "Accelerated computing",
    "gpuNum": 1,
    "hideHardwareSpecs": false,
    "memoryGiB": 128,
    "name": "ml.g5.8xlarge",
    "vcpuNum": 32
   },
   {
    "_defaultOrder": 51,
    "_isFastLaunch": false,
    "category": "Accelerated computing",
    "gpuNum": 1,
    "hideHardwareSpecs": false,
    "memoryGiB": 256,
    "name": "ml.g5.16xlarge",
    "vcpuNum": 64
   },
   {
    "_defaultOrder": 52,
    "_isFastLaunch": false,
    "category": "Accelerated computing",
    "gpuNum": 4,
    "hideHardwareSpecs": false,
    "memoryGiB": 192,
    "name": "ml.g5.12xlarge",
    "vcpuNum": 48
   },
   {
    "_defaultOrder": 53,
    "_isFastLaunch": false,
    "category": "Accelerated computing",
    "gpuNum": 4,
    "hideHardwareSpecs": false,
    "memoryGiB": 384,
    "name": "ml.g5.24xlarge",
    "vcpuNum": 96
   },
   {
    "_defaultOrder": 54,
    "_isFastLaunch": false,
    "category": "Accelerated computing",
    "gpuNum": 8,
    "hideHardwareSpecs": false,
    "memoryGiB": 768,
    "name": "ml.g5.48xlarge",
    "vcpuNum": 192
   },
   {
    "_defaultOrder": 55,
    "_isFastLaunch": false,
    "category": "Accelerated computing",
    "gpuNum": 8,
    "hideHardwareSpecs": false,
    "memoryGiB": 1152,
    "name": "ml.p4d.24xlarge",
    "vcpuNum": 96
   },
   {
    "_defaultOrder": 56,
    "_isFastLaunch": false,
    "category": "Accelerated computing",
    "gpuNum": 8,
    "hideHardwareSpecs": false,
    "memoryGiB": 1152,
    "name": "ml.p4de.24xlarge",
    "vcpuNum": 96
   }
  ],
  "instance_type": "ml.g5.2xlarge",
  "kernelspec": {
   "display_name": "conda_python3",
   "language": "python",
   "name": "conda_python3"
  },
  "language_info": {
   "codemirror_mode": {
    "name": "ipython",
    "version": 3
   },
   "file_extension": ".py",
   "mimetype": "text/x-python",
   "name": "python",
   "nbconvert_exporter": "python",
   "pygments_lexer": "ipython3",
   "version": "3.10.12"
  }
 },
 "nbformat": 4,
 "nbformat_minor": 5
}
