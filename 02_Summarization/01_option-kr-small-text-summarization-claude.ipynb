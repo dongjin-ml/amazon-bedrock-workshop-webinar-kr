{
 "cells": [
  {
   "cell_type": "markdown",
   "id": "fded102b",
   "metadata": {},
   "source": [
    "# 한글-Claude-v2 Model: Text summarization with small files with Anthropic Claude\n",
    "\n",
    "---\n",
    "\n",
    "### 중요\n",
    "- 이 노트북은 Anthropic 의 Claude-v2 모델 접근 가능한 분만 실행 가능합니다. \n",
    "- 접근이 안되시는 분은 노트북의 코드와 결과 만을 확인 하시면 좋겠습니다.\n",
    "- 만일 실행시에는 **\"과금\"** 이 발생이 되는 부분 유념 해주시기 바랍니다."
   ]
  },
  {
   "cell_type": "markdown",
   "id": "fab8b2cf",
   "metadata": {},
   "source": [
    "## 개요\n",
    "\n",
    "이 예에서는 소량의 데이터(문자열 데이터)를 Amazon Bedrock API(Anthropic Claude 모델 사용)로 직접 수집하고 각 텍스트를 요약하라는 지침을 제공합니다.\n",
    "\n",
    "### 건축학\n",
    "\n",
    "![](./images/41-text-simple-1.png)\n",
    "\n",
    "이 아키텍처에서:\n",
    "\n",
    "1. 작은 텍스트(또는 작은 파일)가 로드됨\n",
    "1. 입력 데이터를 처리하는 기본 모델\n",
    "1. 모델은 수집된 텍스트의 요약과 함께 응답을 반환합니다.\n",
    "\n",
    "### 사용 사례\n",
    "\n",
    "이 접근 방식은 통화 기록, 회의 기록, 서적, 기사, 블로그 게시물 및 기타 관련 콘텐츠를 요약하는 데 사용할 수 있습니다.\n",
    "\n",
    "### 도전\n",
    "\n",
    "이 접근 방식은 입력 텍스트 또는 파일이 모델 컨텍스트 길이에 맞을 때 사용할 수 있습니다. 노트북 `02.long-text-summarization-titan.ipynb`에서는 사용자가 토큰 한도를 초과하는 대용량 문서를 가지고 있을 때 문제를 해결하기 위한 접근 방식을 탐색합니다."
   ]
  },
  {
   "cell_type": "markdown",
   "id": "0dd97777-6675-45ba-a327-2ac55cd42f25",
   "metadata": {
    "tags": []
   },
   "source": [
    "# 1. Bedrock Client 생성"
   ]
  },
  {
   "cell_type": "code",
   "execution_count": 28,
   "id": "66edf151",
   "metadata": {
    "tags": []
   },
   "outputs": [
    {
     "name": "stdout",
     "output_type": "stream",
     "text": [
      "Create new client\n",
      "  Using region: us-east-1\n",
      "  Using profile: None\n",
      "boto3 Bedrock client successfully created!\n",
      "bedrock-runtime(https://bedrock-runtime.us-east-1.amazonaws.com)\n"
     ]
    }
   ],
   "source": [
    "import json\n",
    "import os\n",
    "import sys\n",
    "\n",
    "import boto3\n",
    "\n",
    "module_path = \"..\"\n",
    "sys.path.append(os.path.abspath(module_path))\n",
    "from utils import bedrock, print_ww\n",
    "from utils.bedrock import bedrock_info\n",
    "\n",
    "\n",
    "# ---- ⚠️ Un-comment and edit the below lines as needed for your AWS setup ⚠️ ----\n",
    "\n",
    "# os.environ[\"AWS_DEFAULT_REGION\"] = \"<REGION_NAME>\"  # E.g. \"us-east-1\"\n",
    "# os.environ[\"AWS_PROFILE\"] = \"<YOUR_PROFILE>\"\n",
    "# os.environ[\"BEDROCK_ASSUME_ROLE\"] = \"<YOUR_ROLE_ARN>\"  # E.g. \"arn:aws:...\"\n",
    "# os.environ[\"BEDROCK_ENDPOINT_URL\"] = \"<YOUR_ENDPOINT_URL>\"  # E.g. \"https://...\"\n",
    "\n",
    "\n",
    "boto3_bedrock = bedrock.get_bedrock_client(\n",
    "    assumed_role=os.environ.get(\"BEDROCK_ASSUME_ROLE\", None),\n",
    "    endpoint_url=os.environ.get(\"BEDROCK_ENDPOINT_URL\", None),\n",
    "    region=os.environ.get(\"AWS_DEFAULT_REGION\", None),\n",
    ")"
   ]
  },
  {
   "cell_type": "markdown",
   "id": "b3e790b8-c759-4edc-bef6-34856dd066f5",
   "metadata": {},
   "source": [
    "# 2. Bedrock Cladue-v2 모델 가져오기"
   ]
  },
  {
   "cell_type": "code",
   "execution_count": 29,
   "id": "a6c241ac-ff47-4ba0-902c-e3dd0308af75",
   "metadata": {
    "tags": []
   },
   "outputs": [
    {
     "data": {
      "text/plain": [
       "Bedrock(client=<botocore.client.BedrockRuntime object at 0x7f42fc3228c0>, model_id='anthropic.claude-v2', model_kwargs={'max_tokens_to_sample': 4096, 'temperature': 0.5, 'top_k': 250, 'top_p': 1, 'stop_sequences': ['\\n\\nHuman']}, streaming=True, callbacks=[<langchain.callbacks.streaming_stdout.StreamingStdOutCallbackHandler object at 0x7f42fd014e20>])"
      ]
     },
     "execution_count": 29,
     "metadata": {},
     "output_type": "execute_result"
    }
   ],
   "source": [
    "from langchain.llms.bedrock import Bedrock\n",
    "from langchain.callbacks.streaming_stdout import StreamingStdOutCallbackHandler\n",
    "\n",
    "# - create the Anthropic Model\n",
    "llm = Bedrock(\n",
    "    model_id=bedrock_info.get_model_id(model_name=\"Claude-V2\"),\n",
    "    client=boto3_bedrock,\n",
    "    model_kwargs={\n",
    "        \"max_tokens_to_sample\": 4096,\n",
    "        \"temperature\": 0.5,\n",
    "        \"top_k\": 250,\n",
    "        \"top_p\": 1,\n",
    "        \"stop_sequences\": [\"\\n\\nHuman\"],        \n",
    "    },\n",
    "    streaming=True,\n",
    "    callbacks=[StreamingStdOutCallbackHandler()]\n",
    ")\n",
    "llm"
   ]
  },
  {
   "cell_type": "markdown",
   "id": "342796d0",
   "metadata": {},
   "source": [
    "# 3. 짧은 텍스트 요약하기\n",
    " \n",
    "아래는 뉴스의 내용을 짧게 요약하는 것을 보여주고 있습니다."
   ]
  },
  {
   "cell_type": "markdown",
   "id": "6f20e1c3-0626-4f11-bde4-6a51f4ce2928",
   "metadata": {},
   "source": [
    "## 뉴스 텍스트 가져오기"
   ]
  },
  {
   "cell_type": "code",
   "execution_count": 34,
   "id": "ece0c069",
   "metadata": {
    "tags": []
   },
   "outputs": [],
   "source": [
    "# Ref: https://zdnet.co.kr/view/?no=20231013083253\n",
    "text = \"\"\"앤서링 AI(Answering AI) 스타트업 포티투마루(42Maru, 대표 김동환)는 생성형 AI 스타트업을 집중 육성하고 지원하기 위한 AWS 프로그램인 'ML Elevate – Generative AI Edition'에 선정됐다고 13일 밝혔다.\n",
    "\n",
    "이 프로그램은 생성형 AI 스타트업을 지원하기 위한 AWS의 엑셀러레이팅 프로그램이다. 강력한 AI 모델 및 도구, 업계 전문가들의 비즈니스 및 기술 멘토링, 선별된 자원, AWS 액티베이트 프로그램 참여 기회 및 최대 20만 달러 상당의 AWS 크레딧을 제공한다.\n",
    "\n",
    "주요 혜택은 ▲라이브 온라인 세션, 패널 토론 및 마스터 클래스를 포함한 4주간의 멘토링 ▲135명 이상의 글로벌 ML 설립자 및 운영자로 구성된 Peer to Peer 학습 커뮤니티 ▲AWS 크레딧을 포함한 엄선된 혜택 ▲Accel, KB Investment, Saehan Ventures 등 리딩 VC의 멘토링과 잠재 고객과 온라인 큐레이트 세션 ▲싱가포르에서 열리는 랩업(Wrap-up) 네트워킹 행사 참가 등이다.\n",
    "앞서 포티투마루는 지난 5월 환각(Hallucination), 보안, 고비용 문제를 해결한 기업용 거대언어모델(LLM)인 ‘LLM42’를 공개한 바 있다. 경량화 모델 구현을 통해 솔루션 구축과 운영에 들어가는 비용을 획기적으로 절감하고 ‘프라이빗 모드’를 지원해 기업 및 고객 정보에 대한 보안 문제를 해결한 것이 특징이다. 또 지난 9월에는 방대한 양의 대규모 원천 데이터로부터 LLM 모델이 필요로 하는 최적의 정보나 지식만 도출하고 정제하는 기술인 ‘RAG42’를 출시, 모델 종류에 상관없이 각 산업군별 도메인 특화 엔진 개발이 가능하도록 학습데이터 구축부터 파인 튜닝까지 전과정을 지원하고 있다.\n",
    "\n",
    "포티투마루는 초거대 AI 관련 핵심 기술을 차례로 공개하며 컨설팅부터 솔루션 구축까지 원스톱 서비스를 제공함으로써 엔터프라이즈 LLM 분야의 저변을 확대하는 등 글로벌 생성형 AI 시장에서 빠른 행보를 이어가고 있다\n",
    "김동환 포티투마루 대표는 \"엄선된 생성형 AI 스타트업을 대상으로 진행하는 프로그램에 선정돼 참여중\"이라면서 \"상당히 수준 높고 전문적인 프로그램으로 생성형 AI 생태계의 중심에 와 있는 느낌이 든다\"는 소감을 밝혔다. 이어 \"AWS 지원과 지속적인 협력을 통해 포티투마루의 LLM42, RAG42 및 사이트버니 솔루션을 아마존 세이지메이커 점프스타트(Amazon SageMaker JumpStart)를 통해 글로벌 SaaS 서비스로 제공할 예정\"이라고 덧붙였다.\"\"\""
   ]
  },
  {
   "cell_type": "code",
   "execution_count": 35,
   "id": "14e5abce-6e56-4412-96e8-d9b965b79259",
   "metadata": {
    "tags": []
   },
   "outputs": [
    {
     "name": "stdout",
     "output_type": "stream",
     "text": [
      "text: \n",
      " 앤서링 AI(Answering AI) 스타트업 포티투마루(42Maru, 대표 김동환)는 생성형 AI 스타트업을 집중 육성하고 지원하기 위한 AWS 프로그램인 'ML Elevate – Generative AI Edition'에 선정됐다고 13일 밝혔다.\n",
      "\n",
      "이 프로그램은 생성형 AI 스타트업을 지원하기 위한 AWS의 엑셀러레이팅 프로그램이다. 강력한 AI 모델 및 도구, 업계 전문가들의 비즈니스 및 기술 멘토링, 선별된 자원, AWS 액티베이트 프로그램 참여 기회 및 최대 20만 달러 상당의 AWS 크레딧을 제공한다.\n",
      "\n",
      "주요 혜택은 ▲라이브 온라인 세션, 패널 토론 및 마스터 클래스를 포함한 4주간의 멘토링 ▲135명 이상의 글로벌 ML 설립자 및 운영자로 구성된 Peer to Peer 학습 커뮤니티 ▲AWS 크레딧을 포함한 엄선된 혜택 ▲Accel, KB Investment, Saehan Ventures 등 리딩 VC의 멘토링과 잠재 고객과 온라인 큐레이트 세션 ▲싱가포르에서 열리는 랩업(Wrap-up) 네트워킹 행사 참가 등이다.\n",
      "앞서 포티투마루는 지난 5월 환각(Hallucination), 보안, 고비용 문제를 해결한 기업용 거대언어모델(LLM)인 ‘LLM42’를 공개한 바 있다. 경량화 모델 구현을 통해 솔루션 구축과 운영에 들어가는 비용을 획기적으로 절감하고 ‘프라이빗 모드’를 지원해 기업 및 고객 정보에 대한 보안 문제를 해결한 것이 특징이다. 또 지난 9월에는 방대한 양의 대규모 원천 데이터로부터 LLM 모델이 필요로 하는 최적의 정보나 지식만 도출하고 정제하는 기술인 ‘RAG42’를 출시, 모델 종류에 상관없이 각 산업군별 도메인 특화 엔진 개발이 가능하도록 학습데이터 구축부터 파인 튜닝까지 전과정을 지원하고 있다.\n",
      "\n",
      "포티투마루는 초거대 AI 관련 핵심 기술을 차례로 공개하며 컨설팅부터 솔루션 구축까지 원스톱 서비스를 제공함으로써 엔터프라이즈 LLM 분야의 저변을 확대하는 등 글로벌 생성형 AI 시장에서 빠른 행보를 이어가고 있다\n",
      "김동환 포티투마루 대표는 \"엄선된 생성형 AI 스타트업을 대상으로 진행하는 프로그램에 선정돼 참여중\"이라면서 \"상당히 수준 높고 전문적인 프로그램으로 생성형 AI 생태계의 중심에 와 있는 느낌이 든다\"는 소감을 밝혔다. 이어 \"AWS 지원과 지속적인 협력을 통해 포티투마루의 LLM42, RAG42 및 사이트버니 솔루션을 아마존 세이지메이커 점프스타트(Amazon SageMaker JumpStart)를 통해 글로벌 SaaS 서비스로 제공할 예정\"이라고 덧붙였다.\n"
     ]
    }
   ],
   "source": [
    "print(\"text: \\n\", text)"
   ]
  },
  {
   "cell_type": "markdown",
   "id": "8e95c011-597e-48aa-ac1e-ae22591cf9d2",
   "metadata": {},
   "source": [
    "## Langchain PromptTemplate 를 통하여 prompt 생성"
   ]
  },
  {
   "cell_type": "code",
   "execution_count": 36,
   "id": "24c4609d-31c8-4bdf-8da7-4bbc3b237fd4",
   "metadata": {
    "tags": []
   },
   "outputs": [
    {
     "data": {
      "text/plain": [
       "'\\n\\nHuman: 다음 텍스트를 요약 해주세요.\\n<text>앤서링 AI(Answering AI) 스타트업 포티투마루(42Maru, 대표 김동환)는 생성형 AI 스타트업을 집중 육성하고 지원하기 위한 AWS 프로그램인 \\'ML Elevate – Generative AI Edition\\'에 선정됐다고 13일 밝혔다.\\n\\n이 프로그램은 생성형 AI 스타트업을 지원하기 위한 AWS의 엑셀러레이팅 프로그램이다. 강력한 AI 모델 및 도구, 업계 전문가들의 비즈니스 및 기술 멘토링, 선별된 자원, AWS 액티베이트 프로그램 참여 기회 및 최대 20만 달러 상당의 AWS 크레딧을 제공한다.\\n\\n주요 혜택은 ▲라이브 온라인 세션, 패널 토론 및 마스터 클래스를 포함한 4주간의 멘토링 ▲135명 이상의 글로벌 ML 설립자 및 운영자로 구성된 Peer to Peer 학습 커뮤니티 ▲AWS 크레딧을 포함한 엄선된 혜택 ▲Accel, KB Investment, Saehan Ventures 등 리딩 VC의 멘토링과 잠재 고객과 온라인 큐레이트 세션 ▲싱가포르에서 열리는 랩업(Wrap-up) 네트워킹 행사 참가 등이다.\\n앞서 포티투마루는 지난 5월 환각(Hallucination), 보안, 고비용 문제를 해결한 기업용 거대언어모델(LLM)인 ‘LLM42’를 공개한 바 있다. 경량화 모델 구현을 통해 솔루션 구축과 운영에 들어가는 비용을 획기적으로 절감하고 ‘프라이빗 모드’를 지원해 기업 및 고객 정보에 대한 보안 문제를 해결한 것이 특징이다. 또 지난 9월에는 방대한 양의 대규모 원천 데이터로부터 LLM 모델이 필요로 하는 최적의 정보나 지식만 도출하고 정제하는 기술인 ‘RAG42’를 출시, 모델 종류에 상관없이 각 산업군별 도메인 특화 엔진 개발이 가능하도록 학습데이터 구축부터 파인 튜닝까지 전과정을 지원하고 있다.\\n\\n포티투마루는 초거대 AI 관련 핵심 기술을 차례로 공개하며 컨설팅부터 솔루션 구축까지 원스톱 서비스를 제공함으로써 엔터프라이즈 LLM 분야의 저변을 확대하는 등 글로벌 생성형 AI 시장에서 빠른 행보를 이어가고 있다\\n김동환 포티투마루 대표는 \"엄선된 생성형 AI 스타트업을 대상으로 진행하는 프로그램에 선정돼 참여중\"이라면서 \"상당히 수준 높고 전문적인 프로그램으로 생성형 AI 생태계의 중심에 와 있는 느낌이 든다\"는 소감을 밝혔다. 이어 \"AWS 지원과 지속적인 협력을 통해 포티투마루의 LLM42, RAG42 및 사이트버니 솔루션을 아마존 세이지메이커 점프스타트(Amazon SageMaker JumpStart)를 통해 글로벌 SaaS 서비스로 제공할 예정\"이라고 덧붙였다.</text>\\n\\nAssistant:'"
      ]
     },
     "execution_count": 36,
     "metadata": {},
     "output_type": "execute_result"
    }
   ],
   "source": [
    "from langchain import PromptTemplate\n",
    "\n",
    "summary_prompt = PromptTemplate(\n",
    "    input_variables=[\"text\"],\n",
    "    template=\"\"\"\\n\\nHuman: 다음 텍스트를 요약 해주세요.\n",
    "<text>{text}</text>\\n\\nAssistant:\"\"\"\n",
    ")\n",
    "\n",
    "prompt = summary_prompt.format(text= text)\n",
    "\n",
    "prompt"
   ]
  },
  {
   "cell_type": "markdown",
   "id": "1e869f8c-aa5c-44c8-9583-c8472cd80698",
   "metadata": {},
   "source": [
    "## 4. LLM (Claude-v2) 로 뉴스 요약"
   ]
  },
  {
   "cell_type": "code",
   "execution_count": 37,
   "id": "e77da01e-31ff-45d1-9dfb-74830e089644",
   "metadata": {
    "tags": []
   },
   "outputs": [
    {
     "name": "stdout",
     "output_type": "stream",
     "text": [
      " 앤서링 AI 스타트업 포티투마루가 AWS의 'ML Elevate - Generative AI Edition' 프로그램에 선정되었다. 이 프로그램은 생성형 AI 스타트업을 지원하기 위한 것으로, 멘토링, AWS 크레딧 등의 혜택을 제공한다. 포티투마루는 생성형 AI 모델 LLM42와 RAG42를 공개한 바 있으며, AWS와의 협력을 통해 이를 글로벌 SaaS 서비스로 제공할 예정이다."
     ]
    },
    {
     "data": {
      "text/plain": [
       "\" 앤서링 AI 스타트업 포티투마루가 AWS의 'ML Elevate - Generative AI Edition' 프로그램에 선정되었다. 이 프로그램은 생성형 AI 스타트업을 지원하기 위한 것으로, 멘토링, AWS 크레딧 등의 혜택을 제공한다. 포티투마루는 생성형 AI 모델 LLM42와 RAG42를 공개한 바 있으며, AWS와의 협력을 통해 이를 글로벌 SaaS 서비스로 제공할 예정이다.\""
      ]
     },
     "execution_count": 37,
     "metadata": {},
     "output_type": "execute_result"
    }
   ],
   "source": [
    "llm(prompt)"
   ]
  },
  {
   "cell_type": "markdown",
   "id": "93e8ee83",
   "metadata": {},
   "source": [
    "## 5. 결론\n",
    "\n",
    "### Next Action\n",
    "- 프롬프트를 특정 사용 사례로 변경하고 다른 모델의 출력을 평가합니다.\n",
    "- 더 나은 결과를 얻기 위해 다양한 프롬프트 엔지니어링 원칙을 적용합니다."
   ]
  },
  {
   "cell_type": "code",
   "execution_count": null,
   "id": "6f2456a6-7846-4373-b3a2-d8eb9381aa52",
   "metadata": {},
   "outputs": [],
   "source": []
  },
  {
   "cell_type": "code",
   "execution_count": null,
   "id": "0d315142-d7c7-4bac-a0ed-6b484ce5ba60",
   "metadata": {},
   "outputs": [],
   "source": []
  }
 ],
 "metadata": {
  "availableInstances": [
   {
    "_defaultOrder": 0,
    "_isFastLaunch": true,
    "category": "General purpose",
    "gpuNum": 0,
    "hideHardwareSpecs": false,
    "memoryGiB": 4,
    "name": "ml.t3.medium",
    "vcpuNum": 2
   },
   {
    "_defaultOrder": 1,
    "_isFastLaunch": false,
    "category": "General purpose",
    "gpuNum": 0,
    "hideHardwareSpecs": false,
    "memoryGiB": 8,
    "name": "ml.t3.large",
    "vcpuNum": 2
   },
   {
    "_defaultOrder": 2,
    "_isFastLaunch": false,
    "category": "General purpose",
    "gpuNum": 0,
    "hideHardwareSpecs": false,
    "memoryGiB": 16,
    "name": "ml.t3.xlarge",
    "vcpuNum": 4
   },
   {
    "_defaultOrder": 3,
    "_isFastLaunch": false,
    "category": "General purpose",
    "gpuNum": 0,
    "hideHardwareSpecs": false,
    "memoryGiB": 32,
    "name": "ml.t3.2xlarge",
    "vcpuNum": 8
   },
   {
    "_defaultOrder": 4,
    "_isFastLaunch": true,
    "category": "General purpose",
    "gpuNum": 0,
    "hideHardwareSpecs": false,
    "memoryGiB": 8,
    "name": "ml.m5.large",
    "vcpuNum": 2
   },
   {
    "_defaultOrder": 5,
    "_isFastLaunch": false,
    "category": "General purpose",
    "gpuNum": 0,
    "hideHardwareSpecs": false,
    "memoryGiB": 16,
    "name": "ml.m5.xlarge",
    "vcpuNum": 4
   },
   {
    "_defaultOrder": 6,
    "_isFastLaunch": false,
    "category": "General purpose",
    "gpuNum": 0,
    "hideHardwareSpecs": false,
    "memoryGiB": 32,
    "name": "ml.m5.2xlarge",
    "vcpuNum": 8
   },
   {
    "_defaultOrder": 7,
    "_isFastLaunch": false,
    "category": "General purpose",
    "gpuNum": 0,
    "hideHardwareSpecs": false,
    "memoryGiB": 64,
    "name": "ml.m5.4xlarge",
    "vcpuNum": 16
   },
   {
    "_defaultOrder": 8,
    "_isFastLaunch": false,
    "category": "General purpose",
    "gpuNum": 0,
    "hideHardwareSpecs": false,
    "memoryGiB": 128,
    "name": "ml.m5.8xlarge",
    "vcpuNum": 32
   },
   {
    "_defaultOrder": 9,
    "_isFastLaunch": false,
    "category": "General purpose",
    "gpuNum": 0,
    "hideHardwareSpecs": false,
    "memoryGiB": 192,
    "name": "ml.m5.12xlarge",
    "vcpuNum": 48
   },
   {
    "_defaultOrder": 10,
    "_isFastLaunch": false,
    "category": "General purpose",
    "gpuNum": 0,
    "hideHardwareSpecs": false,
    "memoryGiB": 256,
    "name": "ml.m5.16xlarge",
    "vcpuNum": 64
   },
   {
    "_defaultOrder": 11,
    "_isFastLaunch": false,
    "category": "General purpose",
    "gpuNum": 0,
    "hideHardwareSpecs": false,
    "memoryGiB": 384,
    "name": "ml.m5.24xlarge",
    "vcpuNum": 96
   },
   {
    "_defaultOrder": 12,
    "_isFastLaunch": false,
    "category": "General purpose",
    "gpuNum": 0,
    "hideHardwareSpecs": false,
    "memoryGiB": 8,
    "name": "ml.m5d.large",
    "vcpuNum": 2
   },
   {
    "_defaultOrder": 13,
    "_isFastLaunch": false,
    "category": "General purpose",
    "gpuNum": 0,
    "hideHardwareSpecs": false,
    "memoryGiB": 16,
    "name": "ml.m5d.xlarge",
    "vcpuNum": 4
   },
   {
    "_defaultOrder": 14,
    "_isFastLaunch": false,
    "category": "General purpose",
    "gpuNum": 0,
    "hideHardwareSpecs": false,
    "memoryGiB": 32,
    "name": "ml.m5d.2xlarge",
    "vcpuNum": 8
   },
   {
    "_defaultOrder": 15,
    "_isFastLaunch": false,
    "category": "General purpose",
    "gpuNum": 0,
    "hideHardwareSpecs": false,
    "memoryGiB": 64,
    "name": "ml.m5d.4xlarge",
    "vcpuNum": 16
   },
   {
    "_defaultOrder": 16,
    "_isFastLaunch": false,
    "category": "General purpose",
    "gpuNum": 0,
    "hideHardwareSpecs": false,
    "memoryGiB": 128,
    "name": "ml.m5d.8xlarge",
    "vcpuNum": 32
   },
   {
    "_defaultOrder": 17,
    "_isFastLaunch": false,
    "category": "General purpose",
    "gpuNum": 0,
    "hideHardwareSpecs": false,
    "memoryGiB": 192,
    "name": "ml.m5d.12xlarge",
    "vcpuNum": 48
   },
   {
    "_defaultOrder": 18,
    "_isFastLaunch": false,
    "category": "General purpose",
    "gpuNum": 0,
    "hideHardwareSpecs": false,
    "memoryGiB": 256,
    "name": "ml.m5d.16xlarge",
    "vcpuNum": 64
   },
   {
    "_defaultOrder": 19,
    "_isFastLaunch": false,
    "category": "General purpose",
    "gpuNum": 0,
    "hideHardwareSpecs": false,
    "memoryGiB": 384,
    "name": "ml.m5d.24xlarge",
    "vcpuNum": 96
   },
   {
    "_defaultOrder": 20,
    "_isFastLaunch": false,
    "category": "General purpose",
    "gpuNum": 0,
    "hideHardwareSpecs": true,
    "memoryGiB": 0,
    "name": "ml.geospatial.interactive",
    "supportedImageNames": [
     "sagemaker-geospatial-v1-0"
    ],
    "vcpuNum": 0
   },
   {
    "_defaultOrder": 21,
    "_isFastLaunch": true,
    "category": "Compute optimized",
    "gpuNum": 0,
    "hideHardwareSpecs": false,
    "memoryGiB": 4,
    "name": "ml.c5.large",
    "vcpuNum": 2
   },
   {
    "_defaultOrder": 22,
    "_isFastLaunch": false,
    "category": "Compute optimized",
    "gpuNum": 0,
    "hideHardwareSpecs": false,
    "memoryGiB": 8,
    "name": "ml.c5.xlarge",
    "vcpuNum": 4
   },
   {
    "_defaultOrder": 23,
    "_isFastLaunch": false,
    "category": "Compute optimized",
    "gpuNum": 0,
    "hideHardwareSpecs": false,
    "memoryGiB": 16,
    "name": "ml.c5.2xlarge",
    "vcpuNum": 8
   },
   {
    "_defaultOrder": 24,
    "_isFastLaunch": false,
    "category": "Compute optimized",
    "gpuNum": 0,
    "hideHardwareSpecs": false,
    "memoryGiB": 32,
    "name": "ml.c5.4xlarge",
    "vcpuNum": 16
   },
   {
    "_defaultOrder": 25,
    "_isFastLaunch": false,
    "category": "Compute optimized",
    "gpuNum": 0,
    "hideHardwareSpecs": false,
    "memoryGiB": 72,
    "name": "ml.c5.9xlarge",
    "vcpuNum": 36
   },
   {
    "_defaultOrder": 26,
    "_isFastLaunch": false,
    "category": "Compute optimized",
    "gpuNum": 0,
    "hideHardwareSpecs": false,
    "memoryGiB": 96,
    "name": "ml.c5.12xlarge",
    "vcpuNum": 48
   },
   {
    "_defaultOrder": 27,
    "_isFastLaunch": false,
    "category": "Compute optimized",
    "gpuNum": 0,
    "hideHardwareSpecs": false,
    "memoryGiB": 144,
    "name": "ml.c5.18xlarge",
    "vcpuNum": 72
   },
   {
    "_defaultOrder": 28,
    "_isFastLaunch": false,
    "category": "Compute optimized",
    "gpuNum": 0,
    "hideHardwareSpecs": false,
    "memoryGiB": 192,
    "name": "ml.c5.24xlarge",
    "vcpuNum": 96
   },
   {
    "_defaultOrder": 29,
    "_isFastLaunch": true,
    "category": "Accelerated computing",
    "gpuNum": 1,
    "hideHardwareSpecs": false,
    "memoryGiB": 16,
    "name": "ml.g4dn.xlarge",
    "vcpuNum": 4
   },
   {
    "_defaultOrder": 30,
    "_isFastLaunch": false,
    "category": "Accelerated computing",
    "gpuNum": 1,
    "hideHardwareSpecs": false,
    "memoryGiB": 32,
    "name": "ml.g4dn.2xlarge",
    "vcpuNum": 8
   },
   {
    "_defaultOrder": 31,
    "_isFastLaunch": false,
    "category": "Accelerated computing",
    "gpuNum": 1,
    "hideHardwareSpecs": false,
    "memoryGiB": 64,
    "name": "ml.g4dn.4xlarge",
    "vcpuNum": 16
   },
   {
    "_defaultOrder": 32,
    "_isFastLaunch": false,
    "category": "Accelerated computing",
    "gpuNum": 1,
    "hideHardwareSpecs": false,
    "memoryGiB": 128,
    "name": "ml.g4dn.8xlarge",
    "vcpuNum": 32
   },
   {
    "_defaultOrder": 33,
    "_isFastLaunch": false,
    "category": "Accelerated computing",
    "gpuNum": 4,
    "hideHardwareSpecs": false,
    "memoryGiB": 192,
    "name": "ml.g4dn.12xlarge",
    "vcpuNum": 48
   },
   {
    "_defaultOrder": 34,
    "_isFastLaunch": false,
    "category": "Accelerated computing",
    "gpuNum": 1,
    "hideHardwareSpecs": false,
    "memoryGiB": 256,
    "name": "ml.g4dn.16xlarge",
    "vcpuNum": 64
   },
   {
    "_defaultOrder": 35,
    "_isFastLaunch": false,
    "category": "Accelerated computing",
    "gpuNum": 1,
    "hideHardwareSpecs": false,
    "memoryGiB": 61,
    "name": "ml.p3.2xlarge",
    "vcpuNum": 8
   },
   {
    "_defaultOrder": 36,
    "_isFastLaunch": false,
    "category": "Accelerated computing",
    "gpuNum": 4,
    "hideHardwareSpecs": false,
    "memoryGiB": 244,
    "name": "ml.p3.8xlarge",
    "vcpuNum": 32
   },
   {
    "_defaultOrder": 37,
    "_isFastLaunch": false,
    "category": "Accelerated computing",
    "gpuNum": 8,
    "hideHardwareSpecs": false,
    "memoryGiB": 488,
    "name": "ml.p3.16xlarge",
    "vcpuNum": 64
   },
   {
    "_defaultOrder": 38,
    "_isFastLaunch": false,
    "category": "Accelerated computing",
    "gpuNum": 8,
    "hideHardwareSpecs": false,
    "memoryGiB": 768,
    "name": "ml.p3dn.24xlarge",
    "vcpuNum": 96
   },
   {
    "_defaultOrder": 39,
    "_isFastLaunch": false,
    "category": "Memory Optimized",
    "gpuNum": 0,
    "hideHardwareSpecs": false,
    "memoryGiB": 16,
    "name": "ml.r5.large",
    "vcpuNum": 2
   },
   {
    "_defaultOrder": 40,
    "_isFastLaunch": false,
    "category": "Memory Optimized",
    "gpuNum": 0,
    "hideHardwareSpecs": false,
    "memoryGiB": 32,
    "name": "ml.r5.xlarge",
    "vcpuNum": 4
   },
   {
    "_defaultOrder": 41,
    "_isFastLaunch": false,
    "category": "Memory Optimized",
    "gpuNum": 0,
    "hideHardwareSpecs": false,
    "memoryGiB": 64,
    "name": "ml.r5.2xlarge",
    "vcpuNum": 8
   },
   {
    "_defaultOrder": 42,
    "_isFastLaunch": false,
    "category": "Memory Optimized",
    "gpuNum": 0,
    "hideHardwareSpecs": false,
    "memoryGiB": 128,
    "name": "ml.r5.4xlarge",
    "vcpuNum": 16
   },
   {
    "_defaultOrder": 43,
    "_isFastLaunch": false,
    "category": "Memory Optimized",
    "gpuNum": 0,
    "hideHardwareSpecs": false,
    "memoryGiB": 256,
    "name": "ml.r5.8xlarge",
    "vcpuNum": 32
   },
   {
    "_defaultOrder": 44,
    "_isFastLaunch": false,
    "category": "Memory Optimized",
    "gpuNum": 0,
    "hideHardwareSpecs": false,
    "memoryGiB": 384,
    "name": "ml.r5.12xlarge",
    "vcpuNum": 48
   },
   {
    "_defaultOrder": 45,
    "_isFastLaunch": false,
    "category": "Memory Optimized",
    "gpuNum": 0,
    "hideHardwareSpecs": false,
    "memoryGiB": 512,
    "name": "ml.r5.16xlarge",
    "vcpuNum": 64
   },
   {
    "_defaultOrder": 46,
    "_isFastLaunch": false,
    "category": "Memory Optimized",
    "gpuNum": 0,
    "hideHardwareSpecs": false,
    "memoryGiB": 768,
    "name": "ml.r5.24xlarge",
    "vcpuNum": 96
   },
   {
    "_defaultOrder": 47,
    "_isFastLaunch": false,
    "category": "Accelerated computing",
    "gpuNum": 1,
    "hideHardwareSpecs": false,
    "memoryGiB": 16,
    "name": "ml.g5.xlarge",
    "vcpuNum": 4
   },
   {
    "_defaultOrder": 48,
    "_isFastLaunch": false,
    "category": "Accelerated computing",
    "gpuNum": 1,
    "hideHardwareSpecs": false,
    "memoryGiB": 32,
    "name": "ml.g5.2xlarge",
    "vcpuNum": 8
   },
   {
    "_defaultOrder": 49,
    "_isFastLaunch": false,
    "category": "Accelerated computing",
    "gpuNum": 1,
    "hideHardwareSpecs": false,
    "memoryGiB": 64,
    "name": "ml.g5.4xlarge",
    "vcpuNum": 16
   },
   {
    "_defaultOrder": 50,
    "_isFastLaunch": false,
    "category": "Accelerated computing",
    "gpuNum": 1,
    "hideHardwareSpecs": false,
    "memoryGiB": 128,
    "name": "ml.g5.8xlarge",
    "vcpuNum": 32
   },
   {
    "_defaultOrder": 51,
    "_isFastLaunch": false,
    "category": "Accelerated computing",
    "gpuNum": 1,
    "hideHardwareSpecs": false,
    "memoryGiB": 256,
    "name": "ml.g5.16xlarge",
    "vcpuNum": 64
   },
   {
    "_defaultOrder": 52,
    "_isFastLaunch": false,
    "category": "Accelerated computing",
    "gpuNum": 4,
    "hideHardwareSpecs": false,
    "memoryGiB": 192,
    "name": "ml.g5.12xlarge",
    "vcpuNum": 48
   },
   {
    "_defaultOrder": 53,
    "_isFastLaunch": false,
    "category": "Accelerated computing",
    "gpuNum": 4,
    "hideHardwareSpecs": false,
    "memoryGiB": 384,
    "name": "ml.g5.24xlarge",
    "vcpuNum": 96
   },
   {
    "_defaultOrder": 54,
    "_isFastLaunch": false,
    "category": "Accelerated computing",
    "gpuNum": 8,
    "hideHardwareSpecs": false,
    "memoryGiB": 768,
    "name": "ml.g5.48xlarge",
    "vcpuNum": 192
   },
   {
    "_defaultOrder": 55,
    "_isFastLaunch": false,
    "category": "Accelerated computing",
    "gpuNum": 8,
    "hideHardwareSpecs": false,
    "memoryGiB": 1152,
    "name": "ml.p4d.24xlarge",
    "vcpuNum": 96
   },
   {
    "_defaultOrder": 56,
    "_isFastLaunch": false,
    "category": "Accelerated computing",
    "gpuNum": 8,
    "hideHardwareSpecs": false,
    "memoryGiB": 1152,
    "name": "ml.p4de.24xlarge",
    "vcpuNum": 96
   }
  ],
  "instance_type": "ml.g5.2xlarge",
  "kernelspec": {
   "display_name": "Python 3 (Data Science 3.0)",
   "language": "python",
   "name": "python3__SAGEMAKER_INTERNAL__arn:aws:sagemaker:us-east-1:081325390199:image/sagemaker-data-science-310-v1"
  },
  "language_info": {
   "codemirror_mode": {
    "name": "ipython",
    "version": 3
   },
   "file_extension": ".py",
   "mimetype": "text/x-python",
   "name": "python",
   "nbconvert_exporter": "python",
   "pygments_lexer": "ipython3",
   "version": "3.10.6"
  }
 },
 "nbformat": 4,
 "nbformat_minor": 5
}
