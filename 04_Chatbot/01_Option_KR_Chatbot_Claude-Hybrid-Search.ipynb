{
 "cells": [
  {
   "cell_type": "markdown",
   "metadata": {},
   "source": [
    "# 한글-Claude-v2 Model: Conversational Interface - Chatbot with Claude LLM\n",
    "\n",
    "> 이 노트북은 SageMaker Studio의 **`Data Science 3.0`** 커널과 잘 작동합니다.\n",
    "\n",
    "> **SageMaker Notebook Instance** 를 이용해 실습을 진행하신다면, **JupyterLab이 아닌 Jupyter**에서 실행하시기 바랍니다.\n",
    "\n",
    "이 노트북에서는 Amazon Bedrock의 기본 모델 (FM) 을 사용하여 챗봇을 구축할 것입니다.사용 사례에서는 Claude를 챗봇 구축을 위한 FM으로 사용합니다.\n",
    "\n",
    "---\n",
    "### 중요\n",
    "- 이 노트북은 Anthropic 의 Claude-v2 모델 접근 가능한 분만 실행 가능합니다. \n",
    "- 접근이 안되시는 분은 노트북의 코드와 결과 만을 확인 하시면 좋겠습니다.\n",
    "- 만일 실행시에는 **\"과금\"** 이 발생이 되는 부분 유념 해주시기 바랍니다."
   ]
  },
  {
   "cell_type": "markdown",
   "metadata": {},
   "source": [
    "## 개요\n",
    "\n",
    "챗봇 및 가상 어시스턴트와 같은 대화형 인터페이스를 사용하여 고객의 사용자 경험을 향상시킬 수 있습니다. 챗봇은 자연어 처리 (NLP) 및 기계 학습 알고리즘을 사용하여 사용자 쿼리를 이해하고 이에 응답합니다.챗봇은 고객 서비스, 판매, 전자 상거래와 같은 다양한 애플리케이션에서 사용되어 사용자에게 빠르고 효율적인 응답을 제공할 수 있습니다.웹사이트, 소셜 미디어 플랫폼 및 메시징 앱과 같은 다양한 채널을 통해 액세스할 수 있습니다.\n",
    "\n",
    "\n",
    "## Amazon Bedrock을 사용하는 챗봇\n",
    "\n",
    "![Amazon Bedrock - Conversational Interface](./images/chatbot_bedrock.png)\n",
    "\n",
    "\n",
    "## 사용 사례\n",
    "- 1.**챗봇 (기본)** - FM 모델을 사용하는 제로샷 챗봇\n",
    "- 2.**프롬프트를 사용하는 챗봇** - 템플릿 (Langchain) - 프롬프트 템플릿에 일부 컨텍스트가 제공된 챗봇\n",
    "- 3.**페르소나가 있는 챗봇** - 정의된 역할을 가진 챗봇. 즉, 커리어 코치와 인간 상호작용\n",
    "- 4.**컨텍스트 인식 챗봇** - 임베딩을 생성하여 외부 파일을 통해 컨텍스트를 전달합니다.\n",
    "\n",
    "## Amazon Bedrock으로 챗봇을 구축하기 위한 랭체인 프레임워크\n",
    "챗봇과 같은 대화형 인터페이스에서는 단기적 수준뿐만 아니라 장기적 수준에서도 이전 상호 작용을 기억하는 것이 매우 중요합니다.\n",
    "\n",
    "LangChain은 메모리 구성 요소를 두 가지 형태로 제공합니다.먼저 LangChain은 이전 채팅 메시지를 관리하고 조작하기 위한 도우미 유틸리티를 제공합니다.모듈식으로 설계되어 사용 방식에 관계없이 유용하게 사용할 수 있습니다.둘째, LangChain은 이러한 유틸리티를 체인에 통합하는 쉬운 방법을 제공합니다.\n",
    "이를 통해 다양한 유형의 추상화를 쉽게 정의하고 상호 작용할 수 있으므로 강력한 챗봇을 쉽게 구축할 수 있습니다.\n",
    "\n",
    "## 컨텍스트를 활용한 챗봇 구축하기 - 핵심 요소\n",
    "\n",
    "컨텍스트 인식 챗봇을 구축하는 첫 번째 프로세스는 컨텍스트에 대한**임베딩을 생성**하는 것입니다.일반적으로 임베딩 모델을 통해 실행되고 일종의 벡터 저장소에 저장될 임베딩을 생성하는 통합 프로세스가 있습니다.이 예제에서는 이를 위해 Amazon Titan 임베딩 모델을 사용하고 있습니다.\n",
    "\n",
    "![Embeddings](./images/embeddings_lang.png)\n",
    "\n",
    "두 번째 프로세스는 사용자 요청 오케스트레이션, 상호 작용, 호출 및 결과 반환입니다.\n",
    "\n",
    "![Chatbot](./images/chatbot_lang.png)\n",
    "\n",
    "## 아키텍처 [컨텍스트 인식 챗봇]\n",
    "![4](./images/context-aware-chatbot.png)\n"
   ]
  },
  {
   "cell_type": "markdown",
   "metadata": {},
   "source": [
    "### 설정\n",
    "\n",
    "이 노트북의 나머지 부분을 실행하기 전에 아래 셀을 실행하여 (필요한 라이브러리가 설치되어 있는지 확인하고) Bedrock에 연결해야 합니다.\n"
   ]
  },
  {
   "cell_type": "markdown",
   "metadata": {},
   "source": [
    "이 노트북에는 몇 가지 추가 종속성도 필요합니다.\n",
    "\n",
    "- [FAISS](https://github.com/facebookresearch/faiss), 벡터 임베딩 저장용\n",
    "- [iPyWidgets](https://ipywidgets.readthedocs.io/en/stable/), 노트북의 대화형 UI 위젯용\n",
    "- [PyPDF](https://pypi.org/project/pypdf/), PDF 파일 처리용"
   ]
  },
  {
   "cell_type": "code",
   "execution_count": 1,
   "metadata": {
    "tags": []
   },
   "outputs": [],
   "source": [
    "%load_ext autoreload\n",
    "%autoreload 2\n",
    "\n",
    "import sys, os\n",
    "module_path = \"..\"\n",
    "sys.path.append(os.path.abspath(module_path))"
   ]
  },
  {
   "cell_type": "code",
   "execution_count": 2,
   "metadata": {
    "tags": []
   },
   "outputs": [],
   "source": [
    "#%pip install --quiet \"faiss-cpu>=1.7,<2\" \"ipywidgets>=7,<8\" langchain==0.0.249 \"pypdf>=3.8,<4\""
   ]
  },
  {
   "cell_type": "markdown",
   "metadata": {
    "tags": []
   },
   "source": [
    "# 1. Bedrock Client 생성"
   ]
  },
  {
   "cell_type": "code",
   "execution_count": 3,
   "metadata": {
    "tags": []
   },
   "outputs": [
    {
     "name": "stdout",
     "output_type": "stream",
     "text": [
      "Create new client\n",
      "  Using region: None\n",
      "  Using profile: None\n",
      "boto3 Bedrock client successfully created!\n",
      "bedrock-runtime(https://bedrock-runtime.us-east-1.amazonaws.com)\n",
      "\u001b[32m\n",
      "== FM lists ==\u001b[0m\n",
      "{'Claude-Instant-V1': 'anthropic.claude-instant-v1',\n",
      " 'Claude-V1': 'anthropic.claude-v1',\n",
      " 'Claude-V2': 'anthropic.claude-v2',\n",
      " 'Command': 'cohere.command-text-v14',\n",
      " 'Jurassic-2-Mid': 'ai21.j2-mid-v1',\n",
      " 'Jurassic-2-Ultra': 'ai21.j2-ultra-v1',\n",
      " 'Titan-Embeddings-G1': 'amazon.titan-embed-text-v1',\n",
      " 'Titan-Text-G1': 'TBD'}\n"
     ]
    }
   ],
   "source": [
    "import json\n",
    "import boto3\n",
    "from pprint import pprint\n",
    "from termcolor import colored\n",
    "from utils import bedrock, print_ww\n",
    "from utils.bedrock import bedrock_info\n",
    "\n",
    "# ---- ⚠️ Un-comment and edit the below lines as needed for your AWS setup ⚠️ ----\n",
    "\n",
    "# os.environ[\"AWS_DEFAULT_REGION\"] = \"<REGION_NAME>\"  # E.g. \"us-east-1\"\n",
    "# os.environ[\"AWS_PROFILE\"] = \"<YOUR_PROFILE>\"\n",
    "# os.environ[\"BEDROCK_ASSUME_ROLE\"] = \"<YOUR_ROLE_ARN>\"  # E.g. \"arn:aws:...\"\n",
    "# os.environ[\"BEDROCK_ENDPOINT_URL\"] = \"<YOUR_ENDPOINT_URL>\"  # E.g. \"https://...\"\n",
    "\n",
    "\n",
    "boto3_bedrock = bedrock.get_bedrock_client(\n",
    "    assumed_role=os.environ.get(\"BEDROCK_ASSUME_ROLE\", None),\n",
    "    endpoint_url=os.environ.get(\"BEDROCK_ENDPOINT_URL\", None),\n",
    "    region=os.environ.get(\"AWS_DEFAULT_REGION\", None),\n",
    ")\n",
    "\n",
    "print (colored(\"\\n== FM lists ==\", \"green\"))\n",
    "pprint (bedrock_info.get_list_fm_models())"
   ]
  },
  {
   "cell_type": "markdown",
   "metadata": {
    "tags": []
   },
   "source": [
    "# 2. 챗봇(기본 - 컨텍스트 없음)\n",
    "\n",
    "우리는 LangChain의 [CoversationChain](https://python.langchain.com/en/latest/modules/models/llms/integrations/bedrock.html?highlight=ConversationChain#using-in-a-conversation-chain)을 사용하여 시작합니다. 대화. 또한 메시지 저장을 위해 [ConversationBufferMemory](https://python.langchain.com/en/latest/modules/memory/types/buffer.html)를 사용합니다. 메시지 목록으로 기록을 얻을 수도 있습니다(채팅 모델에서 매우 유용합니다).\n",
    "\n",
    "챗봇은 이전 상호작용을 기억해야 합니다. 대화 기억을 통해 우리는 그렇게 할 수 있습니다. 대화형 메모리를 구현하는 방법에는 여러 가지가 있습니다. LangChain의 맥락에서 이들은 모두 ConversationChain 위에 구축됩니다.\n",
    "\n",
    "**참고:** 모델 출력은 비결정적입니다."
   ]
  },
  {
   "cell_type": "code",
   "execution_count": 4,
   "metadata": {
    "tags": []
   },
   "outputs": [],
   "source": [
    "from utils.chat import chat_utils\n",
    "from langchain.llms.bedrock import Bedrock\n",
    "from langchain.chains import ConversationChain"
   ]
  },
  {
   "cell_type": "code",
   "execution_count": 5,
   "metadata": {
    "tags": []
   },
   "outputs": [],
   "source": [
    "# - create the Anthropic Model\n",
    "llm_text = Bedrock(\n",
    "    model_id=bedrock_info.get_model_id(model_name=\"Claude-V2\"),\n",
    "    client=boto3_bedrock,\n",
    "    model_kwargs={\n",
    "        \"max_tokens_to_sample\": 512,\n",
    "        \"temperature\": 1,\n",
    "        \"top_k\": 250,\n",
    "        \"top_p\": 0.999,\n",
    "        \"stop_sequences\": [\"\\n\\nHuman:\"]\n",
    "    }\n",
    ")"
   ]
  },
  {
   "cell_type": "markdown",
   "metadata": {},
   "source": [
    "## Conversation momory\n",
    "* **[ConversationBufferMemory](https://python.langchain.com/docs/modules/memory/types/buffer)**\n",
    "    - This memory allows for storing messages and then extracts the messages in a variable.\n",
    "* **[ConversationBufferWindowMemory](https://python.langchain.com/docs/modules/memory/types/buffer_window)**\n",
    "    - It keeps a list of the interactions of the conversation over time.\n",
    "    - It only uses the last K interactions.\n",
    "    - This can be useful for keeping a sliding window of the most recent interactions, so the buffer does not get too large.\n",
    "* **[ConversationSummaryBufferMemory](https://python.langchain.com/docs/modules/memory/types/summary_buffer)**\n",
    "    - It maintains a summary of previous messages.\n",
    "    - It combines the two ideas.\n",
    "    - It keeps a buffer of recent interactions in memory, but rather than just completely flushing old interactions it compiles them into a summary and uses both. \n",
    "    - It uses token length rather than number of interactions to determine when to flush interactions."
   ]
  },
  {
   "cell_type": "code",
   "execution_count": 6,
   "metadata": {
    "tags": []
   },
   "outputs": [
    {
     "name": "stdout",
     "output_type": "stream",
     "text": [
      "memory=ConversationBufferMemory(return_messages=True) verbose=True llm=Bedrock(client=<botocore.client.BedrockRuntime object at 0x7f1fce487100>, model_id='anthropic.claude-v2', model_kwargs={'max_tokens_to_sample': 512, 'temperature': 1, 'top_k': 250, 'top_p': 0.999, 'stop_sequences': ['\\n\\nHuman:']})\n"
     ]
    }
   ],
   "source": [
    "memory = chat_utils.get_memory(\n",
    "    memory_type=\"ConversationBufferMemory\",\n",
    "    memory_key=\"history\"\n",
    ")\n",
    "\n",
    "conversation = ConversationChain(\n",
    "    llm=llm_text,\n",
    "    verbose=True,\n",
    "    memory=memory\n",
    ")\n",
    "print(conversation)"
   ]
  },
  {
   "cell_type": "code",
   "execution_count": 7,
   "metadata": {
    "tags": []
   },
   "outputs": [
    {
     "name": "stdout",
     "output_type": "stream",
     "text": [
      "\n",
      "\n",
      "\u001b[1m> Entering new ConversationChain chain...\u001b[0m\n",
      "Prompt after formatting:\n",
      "\u001b[32;1m\u001b[1;3mThe following is a friendly conversation between a human and an AI. The AI is talkative and provides lots of specific details from its context. If the AI does not know the answer to a question, it truthfully says it does not know.\n",
      "\n",
      "Current conversation:\n",
      "[]\n",
      "Human: 안녕하세요?\n",
      "AI:\u001b[0m\n",
      "\n",
      "\u001b[1m> Finished chain.\u001b[0m\n",
      " 네, 안녕하세요!\n"
     ]
    }
   ],
   "source": [
    "print_ww(conversation.predict(input=\"안녕하세요?\"))"
   ]
  },
  {
   "cell_type": "markdown",
   "metadata": {},
   "source": [
    "### 결과 분석"
   ]
  },
  {
   "cell_type": "markdown",
   "metadata": {},
   "source": [
    "여기서 무슨 일이 일어나는가? 우리는 \"안녕하세요!\"라고 말했습니다. 모델은 몇 가지 대화를 나눴습니다. 이는 Langchain ConversationChain에서 사용하는 기본 프롬프트가 Claude에 맞게 잘 설계되지 않았기 때문입니다. \n",
    "- [효과적인 클로드 프롬프트](https://docs.anthropic.com/claude/docs/introduction-to-prompt-design)는 `\\n\\nHuman\\n\\nAassistant:`로 끝나야 합니다. 이 문제를 해결해 보겠습니다.\n",
    "\n",
    "Claude의 프롬프트 작성 방법에 대해 자세히 알아보려면 [Anthropic 문서](https://docs.anthropic.com/claude/docs/introduction-to-prompt-design)를 확인하세요."
   ]
  },
  {
   "cell_type": "markdown",
   "metadata": {},
   "source": [
    "# 3. 프롬프트 템플릿(Langchain)을 이용한 챗봇"
   ]
  },
  {
   "cell_type": "markdown",
   "metadata": {},
   "source": [
    "LangChain은 프롬프트를 쉽게 구성하고 작업할 수 있도록 여러 클래스와 기능을 제공합니다. [PromptTemplate](https://python.langchain.com/en/latest/modules/prompts/getting_started.html) 클래스를 사용하여 f-string 템플릿에서 프롬프트를 구성하겠습니다."
   ]
  },
  {
   "cell_type": "markdown",
   "metadata": {
    "tags": []
   },
   "source": [
    "**[TIP] Prompt의 instruction의 경우 한글보다 **영어**로 했을 때 더 좋은 결과를 얻을 수 있습니다.**"
   ]
  },
  {
   "cell_type": "code",
   "execution_count": 8,
   "metadata": {
    "tags": []
   },
   "outputs": [],
   "source": [
    "from langchain import PromptTemplate"
   ]
  },
  {
   "cell_type": "code",
   "execution_count": 9,
   "metadata": {
    "tags": []
   },
   "outputs": [
    {
     "name": "stdout",
     "output_type": "stream",
     "text": [
      "claude_prompt: \n",
      " input_variables=['history', 'input'] template=\"\\n        \\n\\nHuman: Here's a friendly conversation between a user and an AI.\\n        The AI is talkative and provides lots of contextualized details.\\n        If it doesn't know, it will honestly say that it doesn't know the answer to the question.\\n\\n        Current conversation:\\n        {history}\\n\\n        \\n\\nUser: {input}\\n\\n        \\n\\nAssistant:\\n        \"\n"
     ]
    }
   ],
   "source": [
    "# turn verbose to true to see the full logs and documents\n",
    "conversation = ConversationChain(\n",
    "    llm=llm_text,\n",
    "    verbose=False,\n",
    "    memory=memory\n",
    ")\n",
    "\n",
    "claude_prompt = PromptTemplate(\n",
    "        input_variables=[\"history\", 'input'],\n",
    "        template=\"\"\"\n",
    "        \\n\\nHuman: Here's a friendly conversation between a user and an AI.\n",
    "        The AI is talkative and provides lots of contextualized details.\n",
    "        If it doesn't know, it will honestly say that it doesn't know the answer to the question.\n",
    "\n",
    "        Current conversation:\n",
    "        {history}\n",
    "\n",
    "        \\n\\nUser: {input}\n",
    "\n",
    "        \\n\\nAssistant:\n",
    "        \"\"\"\n",
    ")\n",
    "\n",
    "print(\"claude_prompt: \\n\", claude_prompt)"
   ]
  },
  {
   "cell_type": "code",
   "execution_count": 10,
   "metadata": {
    "tags": []
   },
   "outputs": [
    {
     "name": "stdout",
     "output_type": "stream",
     "text": [
      " 네, 안녕하세요!\n"
     ]
    }
   ],
   "source": [
    "conversation.prompt = claude_prompt\n",
    "print_ww(conversation.predict(input=\"안녕하세요?\"))"
   ]
  },
  {
   "cell_type": "markdown",
   "metadata": {},
   "source": [
    "#### (1) 새로운 질문\n",
    "\n",
    "모델이 초기 메시지로 응답했습니다. 몇 가지 질문을 해보겠습니다."
   ]
  },
  {
   "cell_type": "code",
   "execution_count": 11,
   "metadata": {
    "tags": []
   },
   "outputs": [
    {
     "name": "stdout",
     "output_type": "stream",
     "text": [
      " 네, 새로운 정원을 시작하는 몇 가지 유용한 팁을 알려드리겠습니다.\n",
      "\n",
      "- 먼저 정원의 위치를 잘 고려하세요. 좋은 햇빛과 배수가 잘 되는 곳을 선택하세요.\n",
      "\n",
      "- 토질을 테스트하여 pH 수준과 비옥도를 알아보세요. 필요하다면 토질 개량제를 추가하세요.\n",
      "\n",
      "- 정원 계획을 세우세요. 무엇을 심을 지 미리 생각하고 배치도를 그려보세요.\n",
      "\n",
      "- 씨앗이나 묘목을 구매하기 전에 자라는 데 적절한 기후대인지 확인하세요.\n",
      "\n",
      "- 퇴비나 광물질 효능 비료를 추가하여 토양을 개량하세요.\n",
      "\n",
      "- 정기적으로 물을 주고, 잡초를 제거하세요.\n",
      "\n",
      "- 해충 및 병충해에 대비하기 위해 방제 계획을 세우세요.\n",
      "\n",
      "이렇게 정원의 입지 선정부터 관리 방법까지 체계적으로 계획하면 정원 가꾸기를 성공할 확률이 높아집니다. 성공적인 정원 만들기를 기원합니다!\n"
     ]
    }
   ],
   "source": [
    "print_ww(conversation.predict(input=\"새로운 정원을 시작하는 방법에 대한 몇 가지 팁을 알려주세요.\"))"
   ]
  },
  {
   "cell_type": "markdown",
   "metadata": {},
   "source": [
    "#### Check momory"
   ]
  },
  {
   "cell_type": "code",
   "execution_count": 12,
   "metadata": {
    "tags": []
   },
   "outputs": [
    {
     "name": "stdout",
     "output_type": "stream",
     "text": [
      "{'history': [HumanMessage(content='안녕하세요?'), AIMessage(content=' 네, 안녕하세요! '),\n",
      "HumanMessage(content='안녕하세요?'), AIMessage(content=' 네, 안녕하세요!'), HumanMessage(content='새로운 정원을 시작하는\n",
      "방법에 대한 몇 가지 팁을 알려주세요.'), AIMessage(content=' 네, 새로운 정원을 시작하는 몇 가지 유용한 팁을 알려드리겠습니다.\\n\\n- 먼저 정원의 위치를 잘\n",
      "고려하세요. 좋은 햇빛과 배수가 잘 되는 곳을 선택하세요. \\n\\n- 토질을 테스트하여 pH 수준과 비옥도를 알아보세요. 필요하다면 토질 개량제를 추가하세요.\\n\\n- 정원 계획을\n",
      "세우세요. 무엇을 심을 지 미리 생각하고 배치도를 그려보세요. \\n\\n- 씨앗이나 묘목을 구매하기 전에 자라는 데 적절한 기후대인지 확인하세요. \\n\\n- 퇴비나 광물질 효능\n",
      "비료를 추가하여 토양을 개량하세요.\\n\\n- 정기적으로 물을 주고, 잡초를 제거하세요. \\n\\n- 해충 및 병충해에 대비하기 위해 방제 계획을 세우세요.\\n\\n이렇게 정원의 입지\n",
      "선정부터 관리 방법까지 체계적으로 계획하면 정원 가꾸기를 성공할 확률이 높아집니다. 성공적인 정원 만들기를 기원합니다!')]}\n"
     ]
    }
   ],
   "source": [
    "print_ww (memory.load_memory_variables({}))"
   ]
  },
  {
   "cell_type": "markdown",
   "metadata": {},
   "source": [
    "#### (2) 질문을 토대로 작성\n",
    "\n",
    "모델이 이전 대화를 이해할 수 있는지 확인하기 위해 정원이라는 단어를 언급하지 않고 질문해 보겠습니다."
   ]
  },
  {
   "cell_type": "code",
   "execution_count": 13,
   "metadata": {
    "tags": []
   },
   "outputs": [
    {
     "name": "stdout",
     "output_type": "stream",
     "text": [
      " 네, 토마토 정원을 가꾸기 위해서도 제가 앞서 언급한 일반적인 팁들이 도움이 될 수 있습니다.\n",
      "\n",
      "토마토 정원을 위한 몇 가지 추가 팁은 다음과 같습니다:\n",
      "\n",
      "- 토마토는 일사량이 많은 곳을 선호하니 최대한 햇빛이 잘 드는 장소를 선택하세요.\n",
      "\n",
      "- 토마토는 등(棚)을 만들어 높이를 올리거나, 트레리스를 설치하여 세워 재배하는 것이 좋습니다. 이렇게 하면 과일이 지면에 닿는 것을 방지할 수 있습니다.\n",
      "\n",
      "- 토마토에 적합한 토질은 pH 6.0-6.8로 약간 산성인 토양입니다.\n",
      "\n",
      "- 정기적으로 관수하되 뿌리 주변의 토양이 과습되지 않도록 주의하세요.\n",
      "\n",
      "- 토마토는 칼리ウム이 많이 필요한 작물이므로 칼리 비료를 추가 공급하는 것이 좋습니다.\n",
      "\n",
      "- 해충 방제를 철저히 하는 것이 중요합니다. 특히 토마토 거세장치벌레를 주의깊게 방제하세요.\n",
      "\n",
      "토마토 정원 가꾸기에 성공하세요!\n"
     ]
    }
   ],
   "source": [
    "print_ww(conversation.predict(input=\"좋아요. 토마토에도 어울릴까요?\"))"
   ]
  },
  {
   "cell_type": "code",
   "execution_count": 14,
   "metadata": {
    "tags": []
   },
   "outputs": [
    {
     "name": "stdout",
     "output_type": "stream",
     "text": [
      "{'history': [HumanMessage(content='안녕하세요?'), AIMessage(content=' 네, 안녕하세요! '),\n",
      "HumanMessage(content='안녕하세요?'), AIMessage(content=' 네, 안녕하세요!'), HumanMessage(content='새로운 정원을 시작하는\n",
      "방법에 대한 몇 가지 팁을 알려주세요.'), AIMessage(content=' 네, 새로운 정원을 시작하는 몇 가지 유용한 팁을 알려드리겠습니다.\\n\\n- 먼저 정원의 위치를 잘\n",
      "고려하세요. 좋은 햇빛과 배수가 잘 되는 곳을 선택하세요. \\n\\n- 토질을 테스트하여 pH 수준과 비옥도를 알아보세요. 필요하다면 토질 개량제를 추가하세요.\\n\\n- 정원 계획을\n",
      "세우세요. 무엇을 심을 지 미리 생각하고 배치도를 그려보세요. \\n\\n- 씨앗이나 묘목을 구매하기 전에 자라는 데 적절한 기후대인지 확인하세요. \\n\\n- 퇴비나 광물질 효능\n",
      "비료를 추가하여 토양을 개량하세요.\\n\\n- 정기적으로 물을 주고, 잡초를 제거하세요. \\n\\n- 해충 및 병충해에 대비하기 위해 방제 계획을 세우세요.\\n\\n이렇게 정원의 입지\n",
      "선정부터 관리 방법까지 체계적으로 계획하면 정원 가꾸기를 성공할 확률이 높아집니다. 성공적인 정원 만들기를 기원합니다!'), HumanMessage(content='좋아요.\n",
      "토마토에도 어울릴까요?'), AIMessage(content=' 네, 토마토 정원을 가꾸기 위해서도 제가 앞서 언급한 일반적인 팁들이 도움이 될 수 있습니다. \\n\\n토마토 정원을\n",
      "위한 몇 가지 추가 팁은 다음과 같습니다:\\n\\n- 토마토는 일사량이 많은 곳을 선호하니 최대한 햇빛이 잘 드는 장소를 선택하세요. \\n\\n- 토마토는 등(棚)을 만들어 높이를\n",
      "올리거나, 트레리스를 설치하여 세워 재배하는 것이 좋습니다. 이렇게 하면 과일이 지면에 닿는 것을 방지할 수 있습니다.\\n\\n- 토마토에 적합한 토질은 pH 6.0-6.8로 약간\n",
      "산성인 토양입니다. \\n\\n- 정기적으로 관수하되 뿌리 주변의 토양이 과습되지 않도록 주의하세요. \\n\\n- 토마토는 칼리ウム이 많이 필요한 작물이므로 칼리 비료를 추가 공급하는\n",
      "것이 좋습니다.\\n\\n- 해충 방제를 철저히 하는 것이 중요합니다. 특히 토마토 거세장치벌레를 주의깊게 방제하세요.\\n\\n토마토 정원 가꾸기에 성공하세요!')]}\n"
     ]
    }
   ],
   "source": [
    "print_ww (memory.load_memory_variables({}))"
   ]
  },
  {
   "cell_type": "markdown",
   "metadata": {},
   "source": [
    "#### (3) 대화를 마치며"
   ]
  },
  {
   "cell_type": "code",
   "execution_count": 15,
   "metadata": {
    "tags": []
   },
   "outputs": [
    {
     "name": "stdout",
     "output_type": "stream",
     "text": [
      " 네, 천천히 나눈 대화 재미있었습니다. 제가 알려드린 정보가 도움이 되었기를 바랍니다. 새로운 정원 가꾸기에 성공하세요!\n"
     ]
    }
   ],
   "source": [
    "print_ww(conversation.predict(input=\"그게 다야, 고마워!\"))"
   ]
  },
  {
   "cell_type": "markdown",
   "metadata": {},
   "source": [
    "# 4. ipywidgets를 사용한 대화형 세션\n",
    "\n",
    "다음 유틸리티 클래스를 사용하면 Claude와 보다 자연스러운 방식으로 상호 작용할 수 있습니다. 입력창에 질문을 적고 클로드의 답변을 받습니다. 그러면 대화를 계속할 수 있습니다."
   ]
  },
  {
   "cell_type": "code",
   "execution_count": 16,
   "metadata": {
    "tags": []
   },
   "outputs": [],
   "source": [
    "import ipywidgets as ipw\n",
    "from IPython.display import display, clear_output\n",
    "\n",
    "class ChatUX:\n",
    "    \"\"\" A chat UX using IPWidgets\n",
    "    \"\"\"\n",
    "    def __init__(self, qa, retrievalChain = False):\n",
    "        self.qa = qa\n",
    "        self.name = None\n",
    "        self.b=None\n",
    "        self.retrievalChain = retrievalChain\n",
    "        self.out = ipw.Output()\n",
    "\n",
    "\n",
    "    def start_chat(self):\n",
    "        print(\"Starting chat bot\")\n",
    "        display(self.out)\n",
    "        self.chat(None)\n",
    "\n",
    "\n",
    "    def chat(self, _):\n",
    "        if self.name is None:\n",
    "            prompt = \"\"\n",
    "        else: \n",
    "            prompt = self.name.value\n",
    "        if 'q' == prompt or 'quit' == prompt or 'Q' == prompt:\n",
    "            print(\"Thank you , that was a nice chat !!\")\n",
    "            return\n",
    "        elif len(prompt) > 0:\n",
    "            with self.out:\n",
    "                thinking = ipw.Label(value=\"Thinking...\")\n",
    "                display(thinking)\n",
    "                try:\n",
    "                    if self.retrievalChain:\n",
    "                        result = self.qa.run({'question': prompt })\n",
    "                    else:\n",
    "                        result = self.qa.run({'input': prompt }) #, 'history':chat_history})\n",
    "                except:\n",
    "                    result = \"No answer\"\n",
    "                thinking.value=\"\"\n",
    "                print_ww(f\"AI:{result}\")\n",
    "                self.name.disabled = True\n",
    "                self.b.disabled = True\n",
    "                self.name = None\n",
    "\n",
    "        if self.name is None:\n",
    "            with self.out:\n",
    "                self.name = ipw.Text(description=\"You:\", placeholder='q to quit')\n",
    "                self.b = ipw.Button(description=\"Send\")\n",
    "                self.b.on_click(self.chat)\n",
    "                display(ipw.Box(children=(self.name, self.b)))"
   ]
  },
  {
   "cell_type": "markdown",
   "metadata": {},
   "source": [
    "#### (1) 채팅을 시작해 보겠습니다. 다음 질문을 테스트할 수도 있습니다.\n",
    "\n",
    "1. 농담 하나 해줘\n",
    "2. 또 다른 농담을 들려주세요\n",
    "3. 첫 번째 농담은 무엇이었나요?\n",
    "4. 첫 번째 농담과 같은 주제로 또 다른 농담을 할 수 있나요?\n",
    "\n",
    "위의 4가지를 순서대로 아래에 입력하시고, \"Send\" 버튼을 눌러 보세요."
   ]
  },
  {
   "cell_type": "code",
   "execution_count": 34,
   "metadata": {
    "tags": []
   },
   "outputs": [
    {
     "name": "stdout",
     "output_type": "stream",
     "text": [
      "Starting chat bot\n"
     ]
    },
    {
     "data": {
      "application/vnd.jupyter.widget-view+json": {
       "model_id": "9eb5e5c7196b4d2280487a34a240d1d9",
       "version_major": 2,
       "version_minor": 0
      },
      "text/plain": [
       "Output()"
      ]
     },
     "metadata": {},
     "output_type": "display_data"
    }
   ],
   "source": [
    "chat = ChatUX(conversation)\n",
    "chat.start_chat()"
   ]
  },
  {
   "cell_type": "markdown",
   "metadata": {
    "tags": []
   },
   "source": [
    "# 5.페르소나를 활용한 챗봇"
   ]
  },
  {
   "cell_type": "markdown",
   "metadata": {},
   "source": [
    "AI 비서가 커리어 코치 역할을 하게 됩니다. \n",
    "- 역할극 대화에서는 채팅을 시작하기 전에 사용자 메시지를 설정해야 합니다. ConversationBufferMemory는 대화 상자를 미리 채우는 데 사용됩니다."
   ]
  },
  {
   "cell_type": "markdown",
   "metadata": {},
   "source": [
    "### (1) ConversationChain 생성 필요한 메모리 초기화, Bedrock Claude 설정"
   ]
  },
  {
   "cell_type": "code",
   "execution_count": 17,
   "metadata": {
    "tags": []
   },
   "outputs": [
    {
     "name": "stdout",
     "output_type": "stream",
     "text": [
      "memory=ConversationBufferMemory(chat_memory=ChatMessageHistory(messages=[HumanMessage(content='당신은 직업 코치로 활동하게 될 것입니다. 귀하의 목표는 사용자에게 직업 조언을 제공하는 것입니다'), AIMessage(content='나는 직업 코치이며 직업에 대한 조언을 제공합니다')]), return_messages=True) verbose=True llm=Bedrock(client=<botocore.client.BedrockRuntime object at 0x7f1fce487100>, model_id='anthropic.claude-v2', model_kwargs={'max_tokens_to_sample': 1000, 'temperature': 1, 'top_k': 250, 'top_p': 0.999, 'stop_sequences': ['\\n\\nHuman:']})\n",
      "claude_prompt: \n",
      " input_variables=['history', 'input'] template=\"\\n\\n\\nHuman: Here's a friendly conversation between a user and an AI.\\nThe AI is talkative and provides lots of contextualized details.\\nIf it doesn't know, it will honestly say that it doesn't know the answer to the question.\\n\\nCurrent conversation:\\n{history}\\n\\nUser: {input}\\n\\n\\n\\nAssistant:\\n\"\n"
     ]
    }
   ],
   "source": [
    "# llm\n",
    "llm_text = Bedrock(\n",
    "    model_id=bedrock_info.get_model_id(model_name=\"Claude-V2\"),\n",
    "    client=boto3_bedrock,\n",
    "    model_kwargs={\n",
    "        \"max_tokens_to_sample\": 1000,\n",
    "        \"temperature\": 1,\n",
    "        \"top_k\": 250,\n",
    "        \"top_p\": 0.999,\n",
    "        \"stop_sequences\": [\"\\n\\nHuman:\"]\n",
    "    }\n",
    ")\n",
    "\n",
    "# memory\n",
    "# store previous interactions using ConversationalBufferMemory and add custom prompts to the chat.\n",
    "memory = chat_utils.get_memory(\n",
    "    memory_type=\"ConversationBufferMemory\",\n",
    "    memory_key=\"history\"\n",
    ")\n",
    "\n",
    "memory.chat_memory.add_user_message(\"당신은 직업 코치로 활동하게 될 것입니다. 귀하의 목표는 사용자에게 직업 조언을 제공하는 것입니다\")\n",
    "memory.chat_memory.add_ai_message(\"나는 직업 코치이며 직업에 대한 조언을 제공합니다\")\n",
    "\n",
    "# conversation chain\n",
    "conversation = ConversationChain(\n",
    "    llm=llm_text,\n",
    "    verbose=True,\n",
    "    memory=memory\n",
    ")\n",
    "print(conversation)\n",
    "\n",
    "# langchain prompts do not always work with all the models. This prompt is tuned for Claude\n",
    "claude_prompt = PromptTemplate.from_template(\"\"\"\n",
    "\\n\\nHuman: Here's a friendly conversation between a user and an AI.\n",
    "The AI is talkative and provides lots of contextualized details.\n",
    "If it doesn't know, it will honestly say that it doesn't know the answer to the question.\n",
    "\n",
    "Current conversation:\n",
    "{history}\n",
    "\n",
    "User: {input}\n",
    "\n",
    "\\n\\nAssistant:\n",
    "\"\"\"\n",
    ")\n",
    "\n",
    "\n",
    "print(\"claude_prompt: \\n\", claude_prompt)\n",
    "conversation.prompt = claude_prompt"
   ]
  },
  {
   "cell_type": "markdown",
   "metadata": {},
   "source": [
    "### (2) 인공지능 관련 직업 질문"
   ]
  },
  {
   "cell_type": "code",
   "execution_count": 18,
   "metadata": {
    "tags": []
   },
   "outputs": [
    {
     "name": "stdout",
     "output_type": "stream",
     "text": [
      "\n",
      "\n",
      "\u001b[1m> Entering new ConversationChain chain...\u001b[0m\n",
      "Prompt after formatting:\n",
      "\u001b[32;1m\u001b[1;3m\n",
      "\n",
      "\n",
      "Human: Here's a friendly conversation between a user and an AI.\n",
      "The AI is talkative and provides lots of contextualized details.\n",
      "If it doesn't know, it will honestly say that it doesn't know the answer to the question.\n",
      "\n",
      "Current conversation:\n",
      "[HumanMessage(content='당신은 직업 코치로 활동하게 될 것입니다. 귀하의 목표는 사용자에게 직업 조언을 제공하는 것입니다'), AIMessage(content='나는 직업 코치이며 직업에 대한 조언을 제공합니다')]\n",
      "\n",
      "User: “인공지능에 관련된 직업은 어떤 것이 있습니까?\n",
      "\n",
      "\n",
      "\n",
      "Assistant:\n",
      "\u001b[0m\n",
      "\n",
      "\u001b[1m> Finished chain.\u001b[0m\n",
      " 네, 인공지능 관련 직업은 다양합니다.\n",
      "\n",
      "- AI 연구원 - AI 알고리즘과 모델을 연구 및 개발합니다. 수학, 통계, 컴퓨터 공학 등의 전공이 필요합니다.\n",
      "\n",
      "- 데이터 사이언티스트 - 대량의 데이터를 수집/처리하고 AI 모델을 훈련시킵니다. 통계, 머신러닝, 데이터 마이닝 등의 기술이 필요합니다.\n",
      "\n",
      "- MLOps 엔지니어 - AI 모델을 실제 제품/서비스에 적용하고 운영을 관리합니다. 소프트웨어 엔지니어링 능력이 필요합니다.\n",
      "\n",
      "- AI 엔지니어 - 기업 내부에서 AI 솔루션을 개발하고 도입합니다. IT 및 AI에 대한 전문 지식이 필요합니다.\n",
      "\n",
      "- 로봇공학자 - AI를 이용한 로봇의 하드웨어와 소프트웨어를 개발합니다. 기계공학, 컴퓨터공학 등의 지식이 필요합니다.\n",
      "\n",
      "이 외에도 AI와 관련된 다양한 직업군이 있습니다. 자신의 전공과 흥미에 맞는 직업을 탐색하는 것이 좋겠습니다.\n"
     ]
    }
   ],
   "source": [
    "# print_ww(conversation.predict(input=\"“AI의 직업 종류는 무엇입니까?\"))\n",
    "print_ww(conversation.predict(input=\"“인공지능에 관련된 직업은 어떤 것이 있습니까?\"))"
   ]
  },
  {
   "cell_type": "markdown",
   "metadata": {},
   "source": [
    "### (3) 인공지능 관련 직업데 대한 세부 질문"
   ]
  },
  {
   "cell_type": "code",
   "execution_count": 19,
   "metadata": {
    "tags": []
   },
   "outputs": [
    {
     "name": "stdout",
     "output_type": "stream",
     "text": [
      "\n",
      "\n",
      "\u001b[1m> Entering new ConversationChain chain...\u001b[0m\n",
      "Prompt after formatting:\n",
      "\u001b[32;1m\u001b[1;3m\n",
      "\n",
      "\n",
      "Human: Here's a friendly conversation between a user and an AI.\n",
      "The AI is talkative and provides lots of contextualized details.\n",
      "If it doesn't know, it will honestly say that it doesn't know the answer to the question.\n",
      "\n",
      "Current conversation:\n",
      "[HumanMessage(content='당신은 직업 코치로 활동하게 될 것입니다. 귀하의 목표는 사용자에게 직업 조언을 제공하는 것입니다'), AIMessage(content='나는 직업 코치이며 직업에 대한 조언을 제공합니다'), HumanMessage(content='“인공지능에 관련된 직업은 어떤 것이 있습니까?'), AIMessage(content=' 네, 인공지능 관련 직업은 다양합니다. \\n\\n- AI 연구원 - AI 알고리즘과 모델을 연구 및 개발합니다. 수학, 통계, 컴퓨터 공학 등의 전공이 필요합니다.\\n\\n- 데이터 사이언티스트 - 대량의 데이터를 수집/처리하고 AI 모델을 훈련시킵니다. 통계, 머신러닝, 데이터 마이닝 등의 기술이 필요합니다. \\n\\n- MLOps 엔지니어 - AI 모델을 실제 제품/서비스에 적용하고 운영을 관리합니다. 소프트웨어 엔지니어링 능력이 필요합니다.\\n\\n- AI 엔지니어 - 기업 내부에서 AI 솔루션을 개발하고 도입합니다. IT 및 AI에 대한 전문 지식이 필요합니다. \\n\\n- 로봇공학자 - AI를 이용한 로봇의 하드웨어와 소프트웨어를 개발합니다. 기계공학, 컴퓨터공학 등의 지식이 필요합니다.\\n\\n이 외에도 AI와 관련된 다양한 직업군이 있습니다. 자신의 전공과 흥미에 맞는 직업을 탐색하는 것이 좋겠습니다.')]\n",
      "\n",
      "User: 이 직업들은 실제로 무엇을 하는가요? 재미있나요?\n",
      "\n",
      "\n",
      "\n",
      "Assistant:\n",
      "\u001b[0m\n",
      "\n",
      "\u001b[1m> Finished chain.\u001b[0m\n",
      " 네, 인공지능 관련 직업들이 실제로 하는 일과 흥미로운 점에 대해 더 자세히 설명드리겠습니다.\n",
      "\n",
      "AI 연구원은 새로운 알고리즘과 모델을 연구하고 개발하기 때문에 수학과 통계를 기반으로 한 창의적인 문제해결이 필요합니다. 최신 기술 트렌드를 파악하고 연구하는 것이 재미있습니다.\n",
      "\n",
      "데이터 사이언티스트는 대량의 데이터를 다루기 때문에 데이터를 분석하고 인사이트를 찾아내는 것이 중요합니다. 데이터의 패턴과 의미를 찾는 과정이 흥미롭습니다.\n",
      "\n",
      "MLOps 엔지니어는 AI 모델을 실제 서비스에 적용하여 비즈니스 가치를 창출합니다. 모델의 성능을 개선하고 안정적으로 운영하는 것이 보람됩니다.\n",
      "\n",
      "AI 엔지니어는 기업 내 AI 도입을 주도하기 때문에 실제 비즈니스 문제를 AI로 해결하는 프로세스가 재미있습니다.\n",
      "\n",
      "로봇공학자는 다양한 로봇 시스템을 설계하고 구현하는 창의적인 일이며, 실제로 움직이는 로봇을 만드는 과정이 흥미롭습니다.\n",
      "\n",
      "전체적으로 이 분야는 기술과 공학의 활용이 재미있고, 실제 문제해결 과정도 보람됩니다. 개인의 적성과 흥미에 맞는 직업을 선택하는 것이 중요합니다.\n"
     ]
    }
   ],
   "source": [
    "print_ww(conversation.predict(input=\"이 직업들은 실제로 무엇을 하는가요? 재미있나요?\"))"
   ]
  },
  {
   "cell_type": "markdown",
   "metadata": {
    "tags": []
   },
   "source": [
    "#### Check memory"
   ]
  },
  {
   "cell_type": "code",
   "execution_count": 20,
   "metadata": {
    "tags": []
   },
   "outputs": [
    {
     "name": "stdout",
     "output_type": "stream",
     "text": [
      "{'history': [HumanMessage(content='당신은 직업 코치로 활동하게 될 것입니다. 귀하의 목표는 사용자에게 직업 조언을 제공하는 것입니다'),\n",
      "             AIMessage(content='나는 직업 코치이며 직업에 대한 조언을 제공합니다'),\n",
      "             HumanMessage(content='“인공지능에 관련된 직업은 어떤 것이 있습니까?'),\n",
      "             AIMessage(content=' 네, 인공지능 관련 직업은 다양합니다. \\n\\n- AI 연구원 - AI 알고리즘과 모델을 연구 및 개발합니다. 수학, 통계, 컴퓨터 공학 등의 전공이 필요합니다.\\n\\n- 데이터 사이언티스트 - 대량의 데이터를 수집/처리하고 AI 모델을 훈련시킵니다. 통계, 머신러닝, 데이터 마이닝 등의 기술이 필요합니다. \\n\\n- MLOps 엔지니어 - AI 모델을 실제 제품/서비스에 적용하고 운영을 관리합니다. 소프트웨어 엔지니어링 능력이 필요합니다.\\n\\n- AI 엔지니어 - 기업 내부에서 AI 솔루션을 개발하고 도입합니다. IT 및 AI에 대한 전문 지식이 필요합니다. \\n\\n- 로봇공학자 - AI를 이용한 로봇의 하드웨어와 소프트웨어를 개발합니다. 기계공학, 컴퓨터공학 등의 지식이 필요합니다.\\n\\n이 외에도 AI와 관련된 다양한 직업군이 있습니다. 자신의 전공과 흥미에 맞는 직업을 탐색하는 것이 좋겠습니다.'),\n",
      "             HumanMessage(content='이 직업들은 실제로 무엇을 하는가요? 재미있나요?'),\n",
      "             AIMessage(content=' 네, 인공지능 관련 직업들이 실제로 하는 일과 흥미로운 점에 대해 더 자세히 설명드리겠습니다.\\n\\nAI 연구원은 새로운 알고리즘과 모델을 연구하고 개발하기 때문에 수학과 통계를 기반으로 한 창의적인 문제해결이 필요합니다. 최신 기술 트렌드를 파악하고 연구하는 것이 재미있습니다. \\n\\n데이터 사이언티스트는 대량의 데이터를 다루기 때문에 데이터를 분석하고 인사이트를 찾아내는 것이 중요합니다. 데이터의 패턴과 의미를 찾는 과정이 흥미롭습니다.\\n\\nMLOps 엔지니어는 AI 모델을 실제 서비스에 적용하여 비즈니스 가치를 창출합니다. 모델의 성능을 개선하고 안정적으로 운영하는 것이 보람됩니다.\\n\\nAI 엔지니어는 기업 내 AI 도입을 주도하기 때문에 실제 비즈니스 문제를 AI로 해결하는 프로세스가 재미있습니다. \\n\\n로봇공학자는 다양한 로봇 시스템을 설계하고 구현하는 창의적인 일이며, 실제로 움직이는 로봇을 만드는 과정이 흥미롭습니다.\\n\\n전체적으로 이 분야는 기술과 공학의 활용이 재미있고, 실제 문제해결 과정도 보람됩니다. 개인의 적성과 흥미에 맞는 직업을 선택하는 것이 중요합니다.')]}\n"
     ]
    }
   ],
   "source": [
    "pprint (memory.load_memory_variables({}))"
   ]
  },
  {
   "cell_type": "markdown",
   "metadata": {},
   "source": [
    "# 6. 맥락을 가진 챗봇"
   ]
  },
  {
   "cell_type": "markdown",
   "metadata": {},
   "source": [
    "## 상황에 맞는 챗봇\n",
    "이 사용 사례에서는 Chatbot에게 이전에 본 적이 없는 외부 코퍼스의 질문에 답변하도록 요청합니다. 이를 위해 RAG(Retrieval Augmented Generation)라는 패턴을 적용합니다. 아이디어는 말뭉치를 덩어리로 인덱싱한 다음 덩어리와 질문 사이의 의미론적 유사성을 사용하여 말뭉치의 어느 섹션이 답변을 제공하는 데 관련될 수 있는지 찾는 것입니다. 마지막으로 가장 관련성이 높은 청크가 집계되어 기록을 제공하는 것과 유사하게 ConversationChain에 컨텍스트로 전달됩니다.\n",
    "\n",
    "**Titan Embeddings Model**을 사용하여 벡터를 생성하겠습니다. 그런 다음 이 벡터는 메모리 내 벡터 데이터 저장소를 제공하는 오픈 소스 라이브러리인 FAISS에 저장됩니다. 챗봇이 질문을 받으면 FAISS에 질문을 쿼리하고 의미상 가장 가까운 텍스트를 검색합니다. 이것이 우리의 대답이 될 것입니다."
   ]
  },
  {
   "cell_type": "markdown",
   "metadata": {},
   "source": [
    "## 6.1 2022년 아마존 주주 서한 문서로 구현 (PDF 문서)"
   ]
  },
  {
   "cell_type": "markdown",
   "metadata": {},
   "source": [
    "### Amazon Titan Embedding 모델 사용 \n",
    "- model_id=\"amazon.titan-embed-text-v1\"\n",
    "- 이 모델은 최대 8,192 Token 입력이 가능합니다."
   ]
  },
  {
   "cell_type": "code",
   "execution_count": 21,
   "metadata": {
    "tags": []
   },
   "outputs": [],
   "source": [
    "from langchain.embeddings import BedrockEmbeddings"
   ]
  },
  {
   "cell_type": "code",
   "execution_count": 22,
   "metadata": {
    "tags": []
   },
   "outputs": [],
   "source": [
    "bedrock_embeddings = BedrockEmbeddings(\n",
    "    client=boto3_bedrock,\n",
    "    model_id=bedrock_info.get_model_id(\n",
    "        model_name=\"Titan-Embeddings-G1\"\n",
    "    )\n",
    ")"
   ]
  },
  {
   "cell_type": "markdown",
   "metadata": {},
   "source": [
    "### PyPDFDirectoryLoader 를 통한 PDF 파일 로딩\n",
    "- chunk_size 는 임베딩 모델의 최대 입력 토큰이 512를 고려 해서 정했습니다. 아래 수치보다 증가시킬 경우에 Embedding Model 에 벡터 변환을 요구할 시에, 토큰이 512 보다 커서 에러가 발생합니다"
   ]
  },
  {
   "cell_type": "code",
   "execution_count": 23,
   "metadata": {
    "tags": []
   },
   "outputs": [],
   "source": [
    "import numpy as np\n",
    "from langchain.text_splitter import CharacterTextSplitter, RecursiveCharacterTextSplitter\n",
    "from langchain.document_loaders import PyPDFLoader, PyPDFDirectoryLoader\n",
    "from langchain.vectorstores import FAISS\n",
    "from langchain.indexes.vectorstore import VectorStoreIndexWrapper"
   ]
  },
  {
   "cell_type": "code",
   "execution_count": 27,
   "metadata": {
    "tags": []
   },
   "outputs": [
    {
     "data": {
      "text/plain": [
       "[Document(page_content='CEO로서 두 번째 연례 주주 서한을 작성하기 위해 자리에 앉았을 때 저는 Amazon의 앞날에 대해 낙관적이고 활력을 얻었습니다. 2022년은 최근 기억에 있어 어려운 거시경제적 해 중 하나이고 우리 자체의 운영상의 어려움에도 불구하고 우리는 여전히 수요를 늘릴 방법을 찾았습니다(팬데믹 전반기에 경험한 전례 없는 성장에 더해). 우리는 장단기적으로 고객 경험을 의미 있게 개선하기 위해 대규모 사업을 혁신했습니다. 그리고 고객, 주주 및 직원을 위해 Amazon의 미래를 바꿀 수 있다고 믿는 장기 투자를 계속 유지하면서 투자 결정과 앞으로 나아갈 방법에 중요한 조정을 했습니다.  작년에 이례적인 수의 동시 도전 과제가 있었지만 현실은 유능하고 자금이 충분한 경쟁자가 많은 크고 역동적인 글로벌 시장 부문에서 운영하는 경우(아마존이 모든 비즈니스를 운영하는 조건) 조건이 오랫동안 정체되어 있는 경우는 드뭅니다.  제가 Amazon에 근무한 25년 동안 끊임없는 변화가 있었고 그 중 대부분은 우리가 스스로 시작했습니다. 내가 1997년에 Amazon에 입사했을 때 우리는 1996년에 1,500만 달러의 매출을 올렸고, 도서 전용 소매업체였으며, 제3자 시장이 없었고, 미국 내 주소로만 배송되었습니다. 오늘날 Amazon은 단위 판매의 60%를 차지하고 전 세계 거의 모든 국가의 고객에게 도달하는 활기찬 타사 판매자 에코시스템을 통해 상상할 수 있는 거의 모든 물리적 및 디지털 소매 품목을 판매합니다. 마찬가지로 클라우드에서 일련의 기술 인프라 서비스를 중심으로 비즈니스를 구축하는 것은 AWS를 추구하기 시작한 2003년에는 분명하지 않았으며 2006년 첫 서비스를 출시했을 때도 마찬가지였습니다. 거의 모든 책을 60초 안에 손끝에서 볼 수 있습니다 2007년 Kindle을 출시했을 때 가벼운 디지털 리더에 저장하고 검색할 수 있다는 것은 아직 \"사물\"이 아니었고 Alexa(2014년 출시)와 같이 액세스하는 데 사용할 수 있는 음성 기반 개인 비서도 아니었습니다. 엔터테인먼트, 스마트 홈 제어, 쇼핑 및', metadata={'source': 'rag_data_kr_pdf/2022-Amazon-Stakeholder-Letter-KR.pdf', 'page': 0}),\n",
       " Document(page_content='비즈니스를 구축하는 것은 AWS를 추구하기 시작한 2003년에는 분명하지 않았으며 2006년 첫 서비스를 출시했을 때도 마찬가지였습니다. 거의 모든 책을 60초 안에 손끝에서 볼 수 있습니다 2007년 Kindle을 출시했을 때 가벼운 디지털 리더에 저장하고 검색할 수 있다는 것은 아직 \"사물\"이 아니었고 Alexa(2014년 출시)와 같이 액세스하는 데 사용할 수 있는 음성 기반 개인 비서도 아니었습니다. 엔터테인먼트, 스마트 홈 제어, 쇼핑 및 모든 종류의 정보 검색.  또한 거시 경제 상황이나 운영 비효율성으로 인해 우리에게 새로운 과제가 제시된 경우도 있었습니다. 예를 들어 2001년 닷컴 폭락 당시 우리는 연휴 기간 동안 재고를 구매하기 위해 신용장을 확보해야 했고 비즈니스의 더 나은 수익성을 제공하기 위해 비용을 합리화해야 했지만 여전히 우리가 노력하고 있던 장기적인 고객 경험과 비즈니스를 우선시했습니다. 빌드(기억한다면, 우리는 실제로 2001년 그 미미한 기간 동안 대부분의 범주에서 가격을 낮췄습니다). 2008-2009년에 모기지 담보 증권 금융 위기로 촉발된 경기 침체를 견디면서 이런 종류의 균형을 다시 보았습니다. 우리는 매장 비즈니스의 비용 구조와 효율성을 관리하기 위해 몇 가지 조치를 취했지만, 주주에게 강력한 수익을 제공하는 실질적인 미래 비즈니스가 될 수 있다고 생각하는 고객 경험에 대한 투자와 이러한 합리화의 균형을 맞췄습니다. 2008년에 AWS는 여전히 상당히 작고 신생 기업이었습니다. 우리는 우리가 무언가를 하고 있다는 것을 알고 있었지만', metadata={'source': 'rag_data_kr_pdf/2022-Amazon-Stakeholder-Letter-KR.pdf', 'page': 0}),\n",
       " Document(page_content='여전히 상당한 자본 투자가 필요했습니다. 회사 안팎에서는 아마존(당시 주로 온라인 소매업체로 알려짐)이 클라우드 컴퓨팅에 많은 투자를 하는 이유에 대해 의문을 제기하는 목소리가 있었습니다. 그러나 우리는 미래에 고객과 아마존을 위해 많은 가치를 창출할 수 있는 특별한 것을 발명하고 있다는 것을 알고 있었습니다. 우리는 잠재적 경쟁자보다 먼저 출발했습니다. 무엇보다 우리는 혁신 속도를 가속화하고 싶었습니다. 우리는 AWS에 계속 투자하기로 장기적인 결정을 내렸습니다. 15년 후 AWS는 이제 신생 기업에서 다국적 기업, 공공 부문 조직에 이르기까지 고객이 기술 인프라를 관리하는 방식을 변화시킨 강력한 수익성을 갖춘 연간 매출 850억 달러 규모의 기업이 되었습니다. 2008-2009년 기간 동안 AWS에 대한 투자를 늦추었다면 Amazon은 다른 회사가 되었을 것입니다.  변화는 항상 가까이에 있습니다. 때로는 적극적으로 초대하고 때로는 그냥 노크합니다. 그러나 그것이 오는 것을 보았을 때, 그것을 받아들여야 합니다. 그리고 장기간에 걸쳐 이를 잘 수행하는 회사는 일반적으로 성공합니다. 나는 우리 팀이 우리 앞에 보이는 변화에 대응하는 방식이 마음에 들기 때문에 우리의 미래 전망에 대해 낙관적입니다.  지난 몇 달 동안 우리는 회사 전체를 비즈니스별로, 발명별로 자세히 살펴보고 각 이니셔티브의 장기적인 잠재력에 대해 충분한 수익, 운영 수입, 무료 현금 흐름, 투자 자본 수익률. 경우에 따라 특정 비즈니스를 폐쇄하게 되었습니다. 예를 들어 우리는 서점 및 4스타 매장과 같은 물리적 매장 개념 추구를 중단하고 Amazon Fabric 및 Amazon Care 노력을 중단했으며 의미 있는 수익을 얻을 수 있는 경로가 보이지 않는 일부 최신 장치에서 전환했습니다. 다른 경우에는 우리가 기대했던 수익을 내지 못하는 일부 프로그램(예: $35 이상의 모든 온라인 식료품 주문에 대한 무료 배송)을 살펴보고 수정했습니다. 우리는 또한 리소스를 어디에 사용할지 우선 순위를 재지정했고, 결국 27,000개의 회사 역할을', metadata={'source': 'rag_data_kr_pdf/2022-Amazon-Stakeholder-Letter-KR.pdf', 'page': 1}),\n",
       " Document(page_content='4스타 매장과 같은 물리적 매장 개념 추구를 중단하고 Amazon Fabric 및 Amazon Care 노력을 중단했으며 의미 있는 수익을 얻을 수 있는 경로가 보이지 않는 일부 최신 장치에서 전환했습니다. 다른 경우에는 우리가 기대했던 수익을 내지 못하는 일부 프로그램(예: $35 이상의 모든 온라인 식료품 주문에 대한 무료 배송)을 살펴보고 수정했습니다. 우리는 또한 리소스를 어디에 사용할지 우선 순위를 재지정했고, 결국 27,000개의 회사 역할을 제거하는 어려운 결정을 내렸습니다. 전체 비용을 합리화하기 위해 지난 몇 개월 동안 수행한 다른 변경 사항이 많이 있으며 대부분의 리더십 팀과 마찬가지로 비즈니스에서 보고 있는 사항을 계속 평가하고 적응적으로 진행할 것입니다.  우리는 또한 팀으로 어떻게 협력하고 있는지 열심히 살펴보았고 회사 직원들에게 5월부터 일주일에 최소 3일은 사무실로 돌아올 것을 요청했습니다. 팬데믹 기간 동안 우리 직원들은 집에서 일하기 위해 집결했으며 예상치 못한 상황에 대처하기 위해 가능한 모든 일을 했습니다. 그것은 인상적이었고 저는 우리의 집단적 팀이 고객, 지역 사회 및 비즈니스에 대한 전례 없는 도전을 극복하기 위해 함께 모인 방식이 자랑스럽습니다. 그러나 우리는 이것이 최선의 장기적 접근 방식이라고 생각하지 않습니다. 우리는 함께 일하고 직접 서로에게서 배울 때 협업과 발명이 더 쉽고 효과적이라는 것을 확신하게 되었습니다. 서로의 아이디어에 대한 에너지와 반복은 더 자유롭게 발생하며 최고의 Amazon 발명품 중 다수는 사람들이 회의 후 뒤에 남아 화이트보드에서', metadata={'source': 'rag_data_kr_pdf/2022-Amazon-Stakeholder-Letter-KR.pdf', 'page': 1}),\n",
       " Document(page_content='아이디어를 검토하거나 회의에서 돌아오는 길에 대화를 계속하면서 획기적인 순간을 맞이했습니다. , 또는 다른 생각으로 그날 늦게 팀원의 사무실에 들르는 것. 발명은 종종 지저분합니다. 그것은 방황하고 구불 구불하고 마리 네이드합니다. 뜻밖의 상호 작용이 도움이 되며, 가상으로 하는 것보다 직접 만나는 것이 더 많습니다. 또한 우리가 대부분의 시간을 함께 사무실에 있고 동료들에게 둘러싸여 있을 때 우리 문화를 배우고, 모델링하고, 연습하고, 강화하는 것이 훨씬 더 쉽습니다. 혁신과 우리 고유의 문화는 회사로서 처음 29년 동안 매우 중요했으며 다음 29년에도 마찬가지로 그렇게 될 것으로 기대합니다.  우리가 계속해서 해결해야 할 중요한 문제는 매장 주문 처리 네트워크에서 서비스를 제공하는 데 드는 비용(예: Amazon에서 고객에게 제품을 제공하는 비용)이 증가하는 것입니다. 비용 및 배송 속도.  팬데믹 초기에는 많은 오프라인 매장이 문을 닫았고, 우리 소비자 비즈니스는 놀라운 속도로 성장하여 연간 매출이 2019년 2,450억 달러에서 2022년 4,340억 달러로 증가했습니다. 이는 주문 처리 센터 공간을 두 배로 늘려야 함을 의미했습니다. 지난 25년 동안 우리가 구축한 운송 네트워크를 현재 UPS 크기의 라스트 마일 운송 네트워크 구축을 크게 가속화했습니다(항목이 장거리를 통과해야 할 때 효율성과 속도를 지원하기 위한 새로운 분류 센터 네트워크 포함). 약 2년의 시간 동안. 이것은 쉬운 일이 아니었고 수십만 명의 아마존 사람들이 이것을 실현하기 위해 매우 열심히 일했습니다. 그러나 이러한 변화의 속도와 규모로 인해 의도한 생산성을 얻기 위해서는 많은 최적화가 필요했습니다. 지난 몇 달 동안 우리는 주문 처리 센터 및 운송 네트워크의 모든 프로세스 경로를 면밀히 조사하고 수십 가지 프로세스 및 메커니즘을 재설계하여 지난 몇 분기 동안 꾸준한 생산성 향상과 비용 절감을 가져왔습니다. 해야 할 일이 더 많지만 우리의 궤적과 우리 앞에 있는 의미 있는 상승세에 만족합니다.  우리는 또한 앞으로 수년', metadata={'source': 'rag_data_kr_pdf/2022-Amazon-Stakeholder-Letter-KR.pdf', 'page': 2}),\n",
       " Document(page_content='위해 매우 열심히 일했습니다. 그러나 이러한 변화의 속도와 규모로 인해 의도한 생산성을 얻기 위해서는 많은 최적화가 필요했습니다. 지난 몇 달 동안 우리는 주문 처리 센터 및 운송 네트워크의 모든 프로세스 경로를 면밀히 조사하고 수십 가지 프로세스 및 메커니즘을 재설계하여 지난 몇 분기 동안 꾸준한 생산성 향상과 비용 절감을 가져왔습니다. 해야 할 일이 더 많지만 우리의 궤적과 우리 앞에 있는 의미 있는 상승세에 만족합니다.  우리는 또한 앞으로 수년 동안 더 낮은 비용과 더 빠른 속도를 제공할 수 있도록 더 큰 구조적 변화를 만들기 위해 이 기회를 잡았습니다. 좋은 예는 미국 주문 처리 네트워크가 어떻게 구성되어 있는지 재평가하는 것입니다. 최근까지 아마존은 미국 전역에 퍼져 있는 주문 처리 센터의 재고를 분배하는 하나의 미국 전국 주문 처리 네트워크를 운영했습니다. 지역 주문 처리 센터에 고객이 주문한 제품이 없으면 결국 다른 지역에서 배송하게 되므로 더 많은 비용이 들고 배송 시간이 늘어납니다. 이 문제는 주문 처리 네트워크가 지난 몇 년 동안 수백 개의 추가 노드로 확장되어 더 많은 위치에 재고를 분배하고 주문 처리 센터와 배송 스테이션 노드를 효율적으로 연결하는 복잡성이 증가함에 따라 더욱 두드러졌습니다. 작년에 우리는 재고 배치 전략을 재설계하고 더 큰 주문 처리 센터 공간을 활용하여 전국 주문 처리 네트워크에서 지역화된 네트워크 모델로 이동하기 시작했습니다. 우리는 더 작은 지리적 영역에 8개의 상호 연결된 지역을 만들기 위해', metadata={'source': 'rag_data_kr_pdf/2022-Amazon-Stakeholder-Letter-KR.pdf', 'page': 2}),\n",
       " Document(page_content='상당한 내부 변경(예: 배치 및 물류 소프트웨어, 프로세스, 물리적 운영)을 수행했습니다. 이러한 각 지역은 대부분 자급자족 방식으로 운영할 수 있는 광범위하고 적절한 선택권을 가지고 있으며 필요할 때 여전히 전국적으로 배송할 수 있습니다. 가장 의미 있고 힘든 작업 중 일부는 이 많은 양의 인프라 간의 연결을 최적화하는 데 있었습니다. 또한 적시에 올바른 지역에 올바른 재고를 보유할 수 있도록 국가의 여러 지역에 있는 고객이 필요로 하는 것이 무엇인지 더 잘 예측하기 위해 고급 기계 학습 알고리즘을 지속적으로 개선하고 있습니다. 최근에 이 지역 출시를 완료했으며 초기 결과가 마음에 듭니다. 이동 거리가 짧다는 것은 서비스 비용이 낮아지고 환경에 미치는 영향이 줄어들며 고객이 주문을 더 빨리 받는 것을 의미합니다. 후자의 경우 더 많은 익일 배송 및 당일 배송을 보게 되어 기쁩니다. 2023년에는 프라임 배송 속도가 가장 빨라질 것입니다. 전반적으로 우리는 비용 절감, 배송 감소 계획에 대해 확신을 가지고 있습니다. 건전한 운영 마진으로 의미 있게 더 큰 소매 사업을 구축하십시오.  AWS는 연간 850억 달러의 수익을 내고 있으며 아직 채택 곡선 초기 단계에 있지만 장기적으로 고객에게 가장 중요한 것에 집중하는 것이 중요한 시점에 있습니다. 2022년에 620억 달러의 수익 기반으로 전년 대비 29%(\"YoY\") 성장했음에도 불구하고 AWS는 기업들이 현재의 어려운 거시 경제 상황을 고려할 때 지출에 더욱 신중을 기하고 있기 때문에 단기적인 역풍에 직면해 있습니다. 일부 회사는 이 어려운 시기에 고객으로부터 최대한 많은 돈을 뽑아낼 수 있는 방법에 집착할 수 있지만 장기적으로 고객이 원하는 것도 고객을 위한 최선도 아니므로 우리는 다른 방식을 취하고 있습니다. AWS와 클라우드 컴퓨팅의 많은 이점 중 하나는 비즈니스가 성장하면 원활하게 확장할 수 있다는 것입니다. 반대로 비즈니스 계약이 체결되면 해당 용량을 반환하고 비용 지불을 중단하도록 선택할 수 있습니다. 이러한 탄력성은 클라우드에 고유하며 자체', metadata={'source': 'rag_data_kr_pdf/2022-Amazon-Stakeholder-Letter-KR.pdf', 'page': 3}),\n",
       " Document(page_content='있습니다. 일부 회사는 이 어려운 시기에 고객으로부터 최대한 많은 돈을 뽑아낼 수 있는 방법에 집착할 수 있지만 장기적으로 고객이 원하는 것도 고객을 위한 최선도 아니므로 우리는 다른 방식을 취하고 있습니다. AWS와 클라우드 컴퓨팅의 많은 이점 중 하나는 비즈니스가 성장하면 원활하게 확장할 수 있다는 것입니다. 반대로 비즈니스 계약이 체결되면 해당 용량을 반환하고 비용 지불을 중단하도록 선택할 수 있습니다. 이러한 탄력성은 클라우드에 고유하며 자체 온프레미스 데이터 센터, 서버 및 네트워킹 장비에 이미 값비싼 자본 투자를 한 경우에는 존재하지 않습니다. AWS에서는 모든 비즈니스와 마찬가지로 한 분기 또는 1년 동안 최적화하려고 하지 않습니다. 우리는 우리 모두보다 오래 지속되는 고객 관계(및 비즈니스)를 구축하기 위해 노력하고 있습니다. 그 결과 AWS 영업 및 지원 팀은 고객이 이 불확실한 경제를 더 잘 헤쳐나갈 수 있도록 AWS 지출을 최적화하는 데 많은 시간을 할애하고 있습니다. 이러한 AWS 고객 중 다수는 비용 최적화만큼 비용 절감이 아니라 리소스를 가져와 계획 중인 새롭고 독창적인 새로운 고객 경험에 적용할 수 있다고 말합니다. 고객은 이러한 고객 중심의 장기적인 접근 방식을 높이 평가했으며 고객과 AWS 모두에게 좋은 징조가 될 것이라고 생각합니다.  이러한 단기 역풍이 우리의 성장률을 약화시키는 동안 우리는 AWS에서 볼 수 있는 많은 기본 사항을 좋아합니다. 우리의 새로운 고객 파이프라인은 활성 마이그레이션과 마찬가지로 강력합니다. 많은 기업이 이와 같은 비연속 기간을 사용하여 뒤로 물러나 전략적으로 변경하려는 사항을 결정합니다. 자체 인프라 관리를 거부하고 민첩성, 혁신, 비용 절감 효과를 누리기 위해', metadata={'source': 'rag_data_kr_pdf/2022-Amazon-Stakeholder-Letter-KR.pdf', 'page': 3}),\n",
       " Document(page_content='AWS로 이전하는 것을 선호하는 기업이 점점 더 많아지고 있습니다. 효율성 및 보안 이점. 그리고 고객에게 가장 중요한 것은 AWS가 계속해서 새로운 기능을 신속하게 제공하고(2022년에 출시된 3,300개 이상의 새로운 기능 및 서비스) 가능한 것을 변화시키는 장기적인 발명에 투자한다는 것입니다.  칩 개발이 좋은 예입니다. 작년 편지에서 저는 Graviton이라는 범용 CPU 프로세서에 대한 투자에 대해 언급했습니다. Graviton2 기반 컴퓨팅 인스턴스는 비슷한 최신 세대 x86 기반 인스턴스보다 최대 40% 더 나은 가격 대비 성능을 제공합니다. 2022년에는 Graviton2 프로세서보다 25% 향상된 성능을 제공하는 Graviton3 칩을 제공했습니다. 또한 기계 학습 채택이 지속적으로 가속화됨에 따라 고객은 저렴한 GPU(기계 학습에 가장 일반적으로 사용되는 칩)를 원했습니다. AWS는 몇 년 전부터 기계 학습 훈련 및 추론을 위한 이러한 특수 칩에 투자하기 시작했습니다(추론은 기계 학습 모델이 제공하는 예측 또는 답변입니다). 우리는 2022년에 첫 번째 교육용 칩(\"Trainium\")을 제공했습니다. 가장 일반적인 기계 학습 모델의 경우 Trainium 기반 인스턴스는 GPU 기반 인스턴스보다 최대 70% 더 저렴한 비용으로 최대 140% 더 빠릅니다. 대부분의 회사는 아직 교육 단계에 있지만 대규모 생산으로 전환되는 모델을 개발함에 따라 모델은 주기적으로 교육되는 반면 추론은 관련 응용 프로그램으로 항상 발생하기 때문에 대부분의 비용이 추론에 있음을 알게 될 것입니다. 행사중입니다. 우리는 2019년에 첫 번째 추론 칩(\"InferenTa\")을 출시했으며 Amazon과 같은 회사는 이미 1억 달러 이상의 자본 비용을 절감했습니다. 방금 출시된 InferenTa2 칩은 첫 번째 InferenTa 프로세서보다 최대 4배 더 높은 처리량과 10배 더 짧은 대기 시간을 제공합니다. 기계 학습의 엄청난 성장으로 인해 고객은 훨씬 저렴한 비용으로 AWS의 교육 및 추론 칩을 사용하여 훨씬 더', metadata={'source': 'rag_data_kr_pdf/2022-Amazon-Stakeholder-Letter-KR.pdf', 'page': 4}),\n",
       " Document(page_content='추론에 있음을 알게 될 것입니다. 행사중입니다. 우리는 2019년에 첫 번째 추론 칩(\"InferenTa\")을 출시했으며 Amazon과 같은 회사는 이미 1억 달러 이상의 자본 비용을 절감했습니다. 방금 출시된 InferenTa2 칩은 첫 번째 InferenTa 프로세서보다 최대 4배 더 높은 처리량과 10배 더 짧은 대기 시간을 제공합니다. 기계 학습의 엄청난 성장으로 인해 고객은 훨씬 저렴한 비용으로 AWS의 교육 및 추론 칩을 사용하여 훨씬 더 많은 작업을 수행할 수 있습니다. 여기서 혁신이 거의 완료되지 않았으며 이 장기 투자는 고객과 AWS 모두에게 유익한 것으로 입증되어야 합니다. AWS는 아직 진화의 초기 단계에 있으며 향후 10년 동안 비정상적으로 성장할 가능성이 있습니다.  마찬가지로 높은 잠재력을 지닌 Amazon의 광고 비즈니스는 브랜드에 고유한 효과를 발휘하며, 이는 계속해서 빠른 속도로 성장하는 이유 중 하나입니다. 선반 공간, 엔드 캡, 원형 배치를 판매하는 물리적 소매업체의 광고 사업과 유사하게, 당사가 후원하는 제품 및 브랜드 제품은 10년 이상 아마존 쇼핑 경험의 필수적인 부분이었습니다. 그러나 실제 소매업체와 달리 Amazon은 쇼핑 행동에 대해 알고 있는 것과 기계 학습 알고리즘에 대한 우리의 매우 깊은 투자를 고려할 때 이러한 후원 제품을 고객이 검색하는 것과 관련이 있도록 조정할 수 있습니다. 이는 고객에게 더 유용한 광고로 이어집니다. 결과적으로 브랜드에 더 나은 성능을 제공합니다. 이것이 우리의 광고 수익이 지난 2022년 4분기에 23% YoY , 310억 달러 수익 기반에서 2022년에 전체적으로 25% YoY 성장을 지속한 이유 중 하나입니다. 몇 분기.', metadata={'source': 'rag_data_kr_pdf/2022-Amazon-Stakeholder-Letter-KR.pdf', 'page': 4}),\n",
       " Document(page_content='우리는 광고주가 자신의 브랜드를 구축할 수 있는 최고의 장소가 되기 위해 노력합니다. 우리는 그 임무를 달성하는 데 도움이 될 장단기 기회를 가지고 있습니다. 우리는 광고 선택 알고리즘을 계속 연마하기 위해 기계 학습에 많은 투자를 계속하고 있습니다. 지난 몇 년 동안 우리는 포괄적이고 유연하며 내구성 있는 계획 및 측정 솔루션을 구축하는 데 투자하여 마케터에게 광고 효과에 대한 더 큰 통찰력을 제공했습니다. 예를 들어 Amazon MarkeTng Cloud(\"AMC\")가 있습니다. AMC는 광고주가 개인정보를 보호하는 방식으로 자사 및 제3자 입력 범위에서 맞춤 잠재고객 및 캠페인 분석을 실행하여 광고 및 비즈니스 통찰력을 생성하여 광범위한 마케팅 및 판매 전략. 광고 팀과 AWS 팀은 기업이 데이터를 AWS에 저장하고, Amazon 및 기타 타사 데이터 소스와 함께 AMC에서 안전하게 운영하고, AWS에서 분석을 수행하고, Amazon 또는 타사 게시자에서 광고를 활성화할 수 있는 옵션을 갖도록 협력했습니다. Amazon 수요 측 플랫폼을 통해. 고객은 이러한 공동 기능을 정말 좋아합니다. 우리는 또한 광고를 비디오, 라이브 스포츠, 오디오 및 식료품 제품에 신중하게 통합할 미래의 기회를 봅니다. 우리는 브랜드가 적절한 고객과 독특하게 소통하고 비즈니스의 이 부분을 성장시킬 수 있도록 계속 열심히 노력할 것입니다.  격동의 시기에 기존 대기업에만 집중하고 다양한 차원에서 고객을 지원하는 지속 가능하고 오래 지속되며 성장하는 회사를 구축하려는 유혹이 있지만 장기적인 고객 경험을 개발하고 작업하는 것을 멈출 수는 없습니다. 고객과 회사에 의미 있는 영향을 미칠 수 있습니다.  새로운 투자 기회를 모색할 때 다음과 같은 몇 가지 질문을 스스로에게 던집니다.  우리가 성공한다면 규모가 크고 투자 자본에 대한 합리적인 수익을 낼 수 있을까요? 오늘 기회가 잘 제공되고 있습니까? 차별화된 접근 방식이 있습니까? 그리고, 우리는 그 분야에 대한 역량을 가지고 있습니까? 그렇지 않다면 빨리 획득할 수 있습니까?', metadata={'source': 'rag_data_kr_pdf/2022-Amazon-Stakeholder-Letter-KR.pdf', 'page': 5}),\n",
       " Document(page_content='있지만 장기적인 고객 경험을 개발하고 작업하는 것을 멈출 수는 없습니다. 고객과 회사에 의미 있는 영향을 미칠 수 있습니다.  새로운 투자 기회를 모색할 때 다음과 같은 몇 가지 질문을 스스로에게 던집니다.  우리가 성공한다면 규모가 크고 투자 자본에 대한 합리적인 수익을 낼 수 있을까요? 오늘 기회가 잘 제공되고 있습니까? 차별화된 접근 방식이 있습니까? 그리고, 우리는 그 분야에 대한 역량을 가지고 있습니까? 그렇지 않다면 빨리 획득할 수 있습니까? 이러한 질문에 대한 답변이 마음에 들면 투자할 것입니다. 이 과정은 간단해 보이는 일부 확장과 일부 사람들이 처음에 추측하지 못한 확장으로 이어졌습니다.  가장 초기의 예는 단순히 책을 판매하는 것에서 음악, 비디오, 전자 제품 및 장난감과 같은 범주를 추가하는 것으로 확장하기로 선택한 경우입니다. 그 당시(1998-1999)에는 보편적인 박수갈채를 받지 못했지만 돌이켜보면 꽤 분명한 것 같습니다.  해외 매장 확장에 대해서도 마찬가지입니다. 2022년에 우리의 국제 소비자 부문은 1,180억 달러의 수익을 창출했습니다. 더 크고 확립된 국제 소비자 비즈니스에서 우리는 거시경제 상황 둔화의 영향을 받을 만큼 충분히 큽니다. 그러나 2019-2021년에는 영국의 30%, 독일의 26%, 일본의 21%(FX 영향 제외)의 복합 연간 성장률(“CAGR”)로 큰 규모에서 놀라운 성장을 보였습니다. 지난 몇', metadata={'source': 'rag_data_kr_pdf/2022-Amazon-Stakeholder-Letter-KR.pdf', 'page': 5}),\n",
       " Document(page_content='년 동안 우리는 인도, 브라질, 멕시코, 호주, 다양한 유럽 국가, 중동 및 아프리카 일부를 포함한 새로운 국제 지역에 투자했습니다. 이 새로운 국가들은 시작하고 확장하기 위해 일정량의 고정 투자를 받지만 우리는 그들의 궤도가 마음에 들고 그들의 성장 패턴은 우리가 북미와 우리가 확립한 국제 지역에서 본 것과 유사합니다. 신흥 국가에는 때때로 우리 사업이 의존하는 일부 인프라와 서비스(예: 결제 방법, 운송 서비스 및 인터넷/통신 인프라)가 부족합니다. 이러한 문제를 해결하기 위해 다양한 파트너와 지속적으로 협력하여 고객에게 솔루션을 제공합니다. 궁극적으로 우리는 더 넓은 지역에 서비스를 제공하기 위한 이러한 투자를 통해 전 세계의 더 많은 고객을 돕고 무료 현금 흐름을 창출하는 더 큰 소비자 비즈니스를 구축할 수 있을 것이라고 믿습니다.  지리적 확장을 넘어 우리는 일부 크고 독특한 제품 소매 시장 부문에 걸쳐 고객 서비스를 확장하기 위해 노력해 왔습니다. 식료품은 미국에서만 평균 8000억 달러 규모의 시장 부문이며, 평균 가구 쇼핑은 주당 3-4회입니다. Amazon은 거의 20년 동안 다소 특이하지만 중요한 식료품 사업을 구축했습니다. 1980년대에 다른 대량 상인들이 식료품 공간에 진입한 방식과 유사하게 우리는 종이 제품, 통조림 및 박스 식품, 사탕 및 스낵, 애완 동물 관리, 건강 및 퍼스널 케어, 뷰티. 그러나 동일한 카테고리에 대해 일반적인 슈퍼마켓의 30K에 비해 300만 개 이상의 항목을 제공합니다. 현재 온라인 배송 서비스 비용을 감안할 때 지금까지 우리는 더 큰 팩 크기에도 초점을 맞췄습니다. 우리는 식료품 사업의 규모와 성장에 만족하지만 오늘날보다 더 많은 고객의 식료품 요구 사항에 부응하고자 합니다. 이를 위해서는 대부분의 식료품 쇼핑이 여전히 물리적 장소에서 발생한다는 점을 감안할 때 더 넓은 물리적 매장 공간이 필요합니다. Whole Foods Market은 40년 전에 자연 및 유기농 전문 식료품점 개념을 개척했습니다. 오늘날 건강하고 지속 가능한 식품에 대한 기준을', metadata={'source': 'rag_data_kr_pdf/2022-Amazon-Stakeholder-Letter-KR.pdf', 'page': 6}),\n",
       " Document(page_content='감안할 때 지금까지 우리는 더 큰 팩 크기에도 초점을 맞췄습니다. 우리는 식료품 사업의 규모와 성장에 만족하지만 오늘날보다 더 많은 고객의 식료품 요구 사항에 부응하고자 합니다. 이를 위해서는 대부분의 식료품 쇼핑이 여전히 물리적 장소에서 발생한다는 점을 감안할 때 더 넓은 물리적 매장 공간이 필요합니다. Whole Foods Market은 40년 전에 자연 및 유기농 전문 식료품점 개념을 개척했습니다. 오늘날 건강하고 지속 가능한 식품에 대한 기준을 지속적으로 높이는 대규모 성장 사업입니다. 지난 1년 동안 우리는 비즈니스에 대한 투자를 계속하면서 수익성을 개선하기 위한 변화도 시도했습니다. Whole Foods는 고무적인 길을 가고 있지만 실제 식료품에 더 큰 영향을 미치려면 광범위하게 확장할 가치가 있다고 생각하는 대량 식료품 형식을 찾아야 합니다. Amazon Fresh는 우리가 몇 년 동안 실험해 온 브랜드이며 Amazon 규모에 적합한 대량 식료품 형식을 식별하고 구축하기 위해 열심히 노력하고 있습니다. 식료품은 Amazon의 큰 성장 기회입니다.  아마존 비즈니스는 우리의 전자상거래 및 물류 역량이 이 대규모 시장 부문을 추구할 수 있는 좋은 위치를 차지하는 투자의 또 다른 예입니다. Amazon Business를 사용하면 기업, 지방 자치 단체 및 조직이 사무용품 및 기타 대량 품목과 같은 제품을 쉽고 저렴하게 조달할 수 있습니다. 경제의 일부 영역이 지난 몇 년 동안 어려움을 겪었지만 아마존 비즈니스는 번창했습니다. 왜? 팀은 선택, 가치 및 편의성을 비즈니스 조달 설정으로 전달하고 고객의 의견을 지속적으로 듣고 고객을 대신하여 혁신한다는 의미를 번역했기 때문입니다. 일부 사람들은 Amazon Business에 대해 들어본 적이 없지만 비즈니스 고객은 Amazon Business를 좋아합니다. Amazon Business는 2015년에', metadata={'source': 'rag_data_kr_pdf/2022-Amazon-Stakeholder-Letter-KR.pdf', 'page': 6}),\n",
       " Document(page_content='시작되었으며 현재 연간 총 매출이 약 350억 달러에 이릅니다. 전 세계 Fortune 100대 기업 중 96개 기업을 포함하여 600만 명 이상의 활성 고객이 Amazon Business의 원스톱 쇼핑, 실시간 분석 및 수억 개의 비즈니스 용품에 대한 광범위한 선택을 즐기고 있습니다. 우리는 지금까지 가능한 것의 극히 일부에 불과하다고 믿으며 비즈니스 고객이 필요로 하고 원한다고 말하는 기능을 계속해서 구축할 계획입니다.  많은 브랜드와 판매자가 아마존 마켓플레이스에서 제품을 성공적으로 판매하고 있지만 자체 소비자 직접 웹사이트를 시작한 많은 브랜드와 판매자도 있습니다. 이러한 판매자의 과제 중 하나는 보기에서 구매로의 전환을 유도하는 것입니다. 우리는 이 문제를 해결하기 위해 Buy with Prime을 개발했습니다. Prime으로 구매하면 타사 브랜드 및 판매자가 자체 웹사이트에서 대규모 Amazon Prime 멤버십에 제품을 제공하고 해당 고객에게 Amazon 계정을 통해 빠른 무료 프라임 배송 및 원활한 결제를 제공할 수 있습니다. Buy with Prime은 Amazon Pay 및 Fulﬁllment by Amazon을 통해 Amazon에서 제품 보관, 피킹, 포장, 배송, 결제 및 모든 반품을 처리하는 등 판매자에게 몇 가지 추가 혜택을 제공합니다. Buy with Prime은 최근 모든 미국 판매자에게 제공되었습니다. 지금까지 Buy with Prime은 타사 쇼핑 사이트에서 구매자 전환을 평균 25% 증가시켰습니다. 가맹점은 더 많은 판매를 전환하고 이러한 배송을 더 쉽게 이행할 수 있다는 사실에 흥분하고 있으며, 프라임 회원은 더 많은 목적지에서 프라임 혜택을 사용할 수 있다는 점에 만족하고 있으며 프라임으로 구매를 통해 더 많은 웹에서 쇼핑 경험을 개선할 수 있습니다.  국제적으로 확장하고, 아직 아마존의 초기 단계인 대규모 소매 시장 부문을 추구하고, 판매자가 자신의 웹사이트에서 보다 효과적으로 판매할 수 있도록 돕기 위해 우리의 고유한 자산을 사용하는 것은 우리에게 어느 정도', metadata={'source': 'rag_data_kr_pdf/2022-Amazon-Stakeholder-Letter-KR.pdf', 'page': 7}),\n",
       " Document(page_content='판매를 전환하고 이러한 배송을 더 쉽게 이행할 수 있다는 사실에 흥분하고 있으며, 프라임 회원은 더 많은 목적지에서 프라임 혜택을 사용할 수 있다는 점에 만족하고 있으며 프라임으로 구매를 통해 더 많은 웹에서 쇼핑 경험을 개선할 수 있습니다.  국제적으로 확장하고, 아직 아마존의 초기 단계인 대규모 소매 시장 부문을 추구하고, 판매자가 자신의 웹사이트에서 보다 효과적으로 판매할 수 있도록 돕기 위해 우리의 고유한 자산을 사용하는 것은 우리에게 어느 정도 자연스러운 확장입니다. 핵심 비즈니스에서 더 멀리 떨어져 있지만 고유한 기회가 있는 투자도 몇 가지 있습니다. 2003년에는 AWS가 전형적인 예였습니다. 2023년에는 Amazon Healthcare와 Kuiper가 잠재적인 아날로그입니다.  의료 분야에서 우리의 초기 노력은 전자 상거래에서 크게 벗어난 것처럼 느껴지지 않는 약국에서 시작되었습니다. 수년 동안 Amazon 고객은 현재 공급자에 대한 불만이 커지면서 언제 온라인 약국을 제공할지 물었습니다. 2020년에 출시된 Amazon Pharmacy는 Prime 회원에게 투명한 가격, 손쉬운 리필 및 비용 절감을 제공하는 풀 서비스 온라인 약국입니다. 비즈니스는 빠르게 성장하고 있으며 혁신을 계속하고 있습니다. 예를 들어 Amazon Pharmacy는 최근 RxPass를 출시했습니다. RxPass는 매월 5달러의 정액 요금으로 Prime 회원이 고혈압, 위산 역류 및 불안과 같은 수십 가지 일반적인 조건에 필요한 적격 처방약을 원하는 만큼 받을 수 있습니다. . 그러나 고객은 Amazon이 비효율적이고 만족스럽지 못한 광범위한 의료 경험에 대한 더 나은 대안을 제공하기를 바라는 강한 열망을 계속 표명했습니다. 우리는 일차 진료가 환자 여정에서 널리 퍼진 첫 번째 중지이기', metadata={'source': 'rag_data_kr_pdf/2022-Amazon-Stakeholder-Letter-KR.pdf', 'page': 7}),\n",
       " Document(page_content='때문에 시작하기로 결정했습니다. 우리는 Amazon Care와 같은 일부 초기 Amazon 실험을 포함하여 기존 환경을 광범위하게 평가하고 연구했습니다. 이 과정에서 우리는 One Medical의 환자 중심 경험이 우리의 미래 사업을 구축하기 위한 훌륭한 기반임을 확인했습니다. 그리고 2022년 7월에 One Medical 인수를 발표했습니다. 고객님들이 원메디컬에 대해 좋아하는 요소가 몇가지 있습니다. 환자가 채팅이나 화상 회의를 통해 의사와 문제를 쉽게 논의할 수 있는 환상적인 디지털 앱이 있습니다. 실제 방문이 필요한 경우 One Medical은 미국 전역의 도시에 사무실을 두고 환자가 당일 또는 익일 약속을 예약할 수 있습니다. One Medical은 각 도시의 전문의와 관계를 맺고 있으며 지역 병원 시스템과 긴밀히 협력하여 전문의를 쉽게 만날 수 있으므로 One Medical 회원은 필요할 때 이러한 리소스에 신속하게 액세스할 수 있습니다. 앞으로 우리는 One Medical과 Amazon이 고객을 위한 1차 진료의 모습을 변화시키기 위해 계속해서 함께 혁신할 것이라고 굳게 믿습니다.  Kuiper는 Amazon이 고객 요구 사항이 높은 영역에서 장기적으로 고객을 위해 혁신한 또 다른 예입니다. Kuiper에 대한 우리의 비전은 현재 없는 전 세계에 고품질 광대역 인터넷 서비스를 제공하는 저궤도 위성 시스템을 만드는 것입니다. 인터넷에 안정적으로 액세스할 수 없는 수억 개의 가정과 기업이 있습니다. 사람들이 온라인 교육 과정을 수강하고, 금융 서비스를 사용하고, 사업을 시작하고, 쇼핑을 하고, 엔터테인먼트를 즐기는 것부터 서비스 범위, 효율성 및 운영을 개선하는 기업 및 정부에 이르기까지 안정적인 연결로 무엇을 할 수 있을지 상상해 보십시오. Kuiper는 접근성뿐만 아니라 경제성도 제공할 것입니다. 우리 팀은 액세스 장벽을 낮출 저비용 안테나(예: 고객 단말기)를 개발했습니다. 우리는 최근 오버헤드를 통과하는 위성과 통신할 새 터미널을 공개했으며 표준 주거용 버전을 개당 $400 미만으로', metadata={'source': 'rag_data_kr_pdf/2022-Amazon-Stakeholder-Letter-KR.pdf', 'page': 8}),\n",
       " Document(page_content='서비스를 사용하고, 사업을 시작하고, 쇼핑을 하고, 엔터테인먼트를 즐기는 것부터 서비스 범위, 효율성 및 운영을 개선하는 기업 및 정부에 이르기까지 안정적인 연결로 무엇을 할 수 있을지 상상해 보십시오. Kuiper는 접근성뿐만 아니라 경제성도 제공할 것입니다. 우리 팀은 액세스 장벽을 낮출 저비용 안테나(예: 고객 단말기)를 개발했습니다. 우리는 최근 오버헤드를 통과하는 위성과 통신할 새 터미널을 공개했으며 표준 주거용 버전을 개당 $400 미만으로 생산할 수 있을 것으로 기대합니다. 그것들은 작습니다: 11인치 정사각형, 1인치 두께, 마운팅 브래킷을 제외하고 무게는 5파운드 미만이지만 초당 최대 400메가비트의 속도를 제공합니다. 그리고 Amazon에서 설계한 베이스밴드 칩으로 구동됩니다. 우리는 올해 전체 엔드-투-엔드 통신 네트워크를 테스트하기 위해 두 개의 프로토타입 위성을 발사할 준비를 하고 있으며 2024년에는 상용 고객과 함께 베타 테스트를 할 계획입니다. 지금까지 Kuiper에 대해 공유한 내용에 대한 고객 반응은 매우 긍정적이며 Kuiper가 Amazon에 매우 큰 잠재적 기회를 제공한다고 믿습니다. 또한 처음에는 자본 집약적이라는 점에서 AWS와 몇 가지 유사점을 공유하지만 잠재 소비자, 기업 및 정부 고객 기반이 넓고 상당한 수익 및 영업 이익 잠재력이 있으며 기술 및 창의적 능력을 갖춘 회사가 상대적으로 적다는 점에서 AWS와 유사합니다. 그것을 추구하는 투자 가설로.  제가 언급할 마지막 투자 영역은 Amazon이 앞으로 수십 년 동안 모든 비즈니스 영역에서 발명할 수 있도록 설정하는 핵심이며 대규모 언어 모델(\"LLM\") 및 생성 AI입니다. 머신 러닝은 수십 년 동안 유망한 기술이었지만 기업에서 널리 사용되기 시작한 것은 불과 5~10년 전입니다. 이러한', metadata={'source': 'rag_data_kr_pdf/2022-Amazon-Stakeholder-Letter-KR.pdf', 'page': 8}),\n",
       " Document(page_content='변화는 그 어느 때보다 낮은 가격으로 더 많은 양의 컴퓨팅 용량에 대한 액세스를 포함하여 몇 가지 요인에 의해 주도되었습니다. Amazon은 25년 동안 기계 학습을 광범위하게 사용해 왔으며 개인화된 전자 상거래 권장 사항부터 주문 처리 센터 선택 경로, Prime Air용 드론, Alexa, AWS가 제공하는 많은 기계 학습 서비스(AWS가 가장 광범위한 기계를 보유한 곳) 모든 클라우드 공급자의 학습 기능 및 고객 기반). 보다 최근에는 GeneraTve AI라고 하는 새로운 형태의 기계 학습이 등장하여 기계 학습 채택을 크게 가속화할 것이라고 약속합니다. 제너레이티브 AI는 매우 큰 언어 모델(최대 천억 개의 매개변수에 대해 훈련되고 계속 증가하고 있음)을 기반으로 하며 광범위한 데이터 세트에 걸쳐 매우 일반적이고 광범위한 리콜 및 학습 기능을 갖추고 있습니다. 우리는 한동안 자체 LLM에 대해 작업해 왔으며 이것이 거의 모든 고객 경험을 변화시키고 개선할 것이라고 믿으며 모든 소비자, 판매자, 브랜드 및 제작자 경험에 걸쳐 이러한 모델에 계속해서 상당한 투자를 할 것입니다. 또한 AWS에서 수년간 해왔듯이 모든 규모의 회사가 제너레이티브 AI를 활용할 수 있도록 이 기술을 민주화하고 있습니다. AWS는 Trainium 및 InferenTa에서 가장 가격 대비 성능이 뛰어난 기계 학습 칩을 제공하므로 소규모 및 대규모 기업이 프로덕션 환경에서 LLM을 교육하고 실행할 수 있습니다. 우리는 회사가 다양한 LLM 중에서 선택하고 고객이 사용하는 데 익숙한 모든 AWS 보안, 개인 정보 보호 및 기타 기능을 갖춘 애플리케이션을 구축할 수 있도록 합니다. 또한 실시간으로 코드 제안을 생성하여 개발자 생산성을 혁신하는 AWS의 CodeWhisperer와 같은 애플리케이션을 제공하고 있습니다. LLM과 GeneraTve AI가 그렇게 변혁적일 것이라고 생각하기 때문에 전체 편지를 쓸 수 있지만 향후 편지로 남겨두겠습니다. LLM과 GeneraTve AI가 고객, 주주 및 Amazon에게 큰 문제가 될', metadata={'source': 'rag_data_kr_pdf/2022-Amazon-Stakeholder-Letter-KR.pdf', 'page': 9}),\n",
       " Document(page_content='데 익숙한 모든 AWS 보안, 개인 정보 보호 및 기타 기능을 갖춘 애플리케이션을 구축할 수 있도록 합니다. 또한 실시간으로 코드 제안을 생성하여 개발자 생산성을 혁신하는 AWS의 CodeWhisperer와 같은 애플리케이션을 제공하고 있습니다. LLM과 GeneraTve AI가 그렇게 변혁적일 것이라고 생각하기 때문에 전체 편지를 쓸 수 있지만 향후 편지로 남겨두겠습니다. LLM과 GeneraTve AI가 고객, 주주 및 Amazon에게 큰 문제가 될 것이라고 가정해 보겠습니다.  그래서 마지막으로 저는 우리가 이 도전적인 거시경제 시대에 진입했을 때보다 더 강력한 위치에서 등장할 것이라고 낙관합니다. 여기에는 몇 가지 이유가 있으며 위에서 많은 이유를 언급했습니다. 그러나 우리의 엄청난 미래 기회를 강조하는 두 가지 비교적 간단한 통계가 있습니다. 우리는 2022년에 4,340억 달러 규모의 소비자 비즈니스를 보유하고 있지만, 전 세계 소매업의 전체 시장 부문 점유율의 대부분은 여전히 물리적 매장에 있습니다(약 80%). 그리고 2022년에 AWS 수익이 800억 달러이고 글로벌 IT 지출의 약 90%가 여전히 온프레미스에 있지만 아직 클라우드로 마이그레이션하지 않는 글로벌 IT 지출에 대한 유사한 이야기입니다. 우리가 이미 보고 있는 것처럼 이러한 방정식이 꾸준히 역전됨에 따라 우리는 선도적인 고객 경험, 끊임없는 발명, 고객 중심 및 노력이 향후 몇 년 동안 상당한 성장을 가져올 것이라고 믿습니다. 그리고 물론 여기에는 Amazon에서 추구하는 다른 비즈니스와 경험이 포함되지 않으며 모두 아직 초기 단계입니다.  저는 우리의 최고의 날이 우리 앞에 와 있다고 굳게 믿으며, 그렇게 되도록 Amazon의 팀원들과 협력하기를 기대합니다.', metadata={'source': 'rag_data_kr_pdf/2022-Amazon-Stakeholder-Letter-KR.pdf', 'page': 9})]"
      ]
     },
     "execution_count": 27,
     "metadata": {},
     "output_type": "execute_result"
    }
   ],
   "source": [
    "loader = PyPDFDirectoryLoader(\"./rag_data_kr_pdf/\")\n",
    "\n",
    "documents = loader.load()\n",
    "# - in our testing Character split works better with this PDF data set\n",
    "text_splitter = RecursiveCharacterTextSplitter(\n",
    "    # Set a really small chunk size, just to show.\n",
    "    chunk_size=1024,\n",
    "    chunk_overlap=256,\n",
    "#    separators = ['\\n']\n",
    "#    separators = ['\\n','\\n\\n']    \n",
    ")\n",
    "docs = text_splitter.split_documents(documents)\n",
    "docs"
   ]
  },
  {
   "cell_type": "code",
   "execution_count": 17,
   "metadata": {
    "tags": []
   },
   "outputs": [
    {
     "name": "stdout",
     "output_type": "stream",
     "text": [
      "vectorstore_faiss_aws: number of elements in the index=92::\n",
      "CPU times: user 359 ms, sys: 30.3 ms, total: 389 ms\n",
      "Wall time: 16.7 s\n"
     ]
    }
   ],
   "source": [
    "%%time\n",
    "vectorstore_faiss_aws = FAISS.from_documents(\n",
    "    documents=docs,\n",
    "    embedding = bedrock_embeddings\n",
    ")\n",
    "\n",
    "print(f\"vectorstore_faiss_aws: number of elements in the index={vectorstore_faiss_aws.index.ntotal}::\")\n",
    "wrapper_store_faiss = VectorStoreIndexWrapper(vectorstore=vectorstore_faiss_aws)"
   ]
  },
  {
   "cell_type": "code",
   "execution_count": 18,
   "metadata": {
    "tags": []
   },
   "outputs": [
    {
     "name": "stdout",
     "output_type": "stream",
     "text": [
      "Average length among 10 documents loaded is 1606 characters.\n",
      "After the split we have 92 documents more than the original 10.\n",
      "Average length among 92 documents (after split) is 216 characters.\n"
     ]
    }
   ],
   "source": [
    "avg_doc_length = lambda documents: sum([len(doc.page_content) for doc in documents])//len(documents)\n",
    "avg_char_count_pre = avg_doc_length(documents)\n",
    "avg_char_count_post = avg_doc_length(docs)\n",
    "print(f'Average length among {len(documents)} documents loaded is {avg_char_count_pre} characters.')\n",
    "print(f'After the split we have {len(docs)} documents more than the original {len(documents)}.')\n",
    "print(f'Average length among {len(docs)} documents (after split) is {avg_char_count_post} characters.')"
   ]
  },
  {
   "cell_type": "code",
   "execution_count": 19,
   "metadata": {
    "tags": []
   },
   "outputs": [
    {
     "name": "stdout",
     "output_type": "stream",
     "text": [
      "docs[0].page_content: \n",
      " CEO로서 두 번째 연례 주주 서한을 작성하기 위해 자리에 앉았을 때 저는 Amazon의 앞날에 대해 낙관적이고 활력을 얻었습니다. 2022년은 최근 기억에 있어 어려운 거시경제적 해 중 하나이고 우리 자체의 운영상의 어려움에도 불구하고 우리는 여전히 수요를 늘릴 방법을 찾았습니다(팬데믹 전반기에 경험한 전례 없는 성장에 더해). 우리는 장단기적으로 고객 경험을 의미 있게 개선하기 위해 대규모 사업을\n"
     ]
    }
   ],
   "source": [
    "print(\"docs[0].page_content: \\n\", docs[0].page_content)"
   ]
  },
  {
   "cell_type": "code",
   "execution_count": 20,
   "metadata": {
    "tags": []
   },
   "outputs": [
    {
     "name": "stdout",
     "output_type": "stream",
     "text": [
      "Sample embedding of a document chunk:  [-0.2734375   0.07958984  0.15136719 ...  0.44335938 -0.10546875\n",
      "  0.14355469]\n",
      "Size of the embedding:  (4096,)\n"
     ]
    }
   ],
   "source": [
    "sample_embedding = np.array(bedrock_embeddings.embed_query(docs[0].page_content))\n",
    "print(\"Sample embedding of a document chunk: \", sample_embedding)\n",
    "print(\"Size of the embedding: \", sample_embedding.shape)"
   ]
  },
  {
   "cell_type": "markdown",
   "metadata": {
    "tags": []
   },
   "source": [
    "### Semantic search\n",
    "\n",
    "LangChain에서 제공하는 Wrapper 클래스를 사용하여 벡터 데이터베이스 저장소를 쿼리하고 관련 문서를 반환할 수 있습니다. 뒤에서는 RetrievalQA 체인만 실행됩니다."
   ]
  },
  {
   "cell_type": "code",
   "execution_count": 21,
   "metadata": {
    "tags": []
   },
   "outputs": [
    {
     "name": "stdout",
     "output_type": "stream",
     "text": [
      " 죄송합니다, 제한된 정보로는 아마존의 Generative AI 전략에 대해 알기 어렵습니다. 아마존의 구체적인 상세 정보 없이는 이 질문에 정확하게 답변할 수 없습니다. 아마존의\n",
      "AI 연구 및 개발에 대한 공개 정보가 더 있다면 그 정보를 바탕으로 답변을 제공할 수 있겠지만, 현재로서는 잘 모르겠습니다. 죄송합니다.\n"
     ]
    }
   ],
   "source": [
    "query = \"아마존은 Generative AI 의 전략이 무엇인가요?\"\n",
    "print_ww(wrapper_store_faiss.query(query, llm=cl_llm))"
   ]
  },
  {
   "cell_type": "markdown",
   "metadata": {},
   "source": [
    "의미론적 검색이 어떻게 작동하는지 살펴보겠습니다.\n",
    "1. 먼저 쿼리에 대한 임베딩 벡터를 계산하고\n",
    "2. 그런 다음 이 벡터를 사용하여 벡터 스토어에서 유사성 검색을 수행합니다."
   ]
  },
  {
   "cell_type": "code",
   "execution_count": 22,
   "metadata": {},
   "outputs": [
    {
     "name": "stdout",
     "output_type": "stream",
     "text": [
      "[0.08984375, -0.25195312, 0.23242188, 0.2890625, -0.22460938, 0.24707031, 0.18066406, -0.0017623901, -0.375, 0.22851562]\n",
      "학습 서비스(AWS가 가장 광범위한 기계를 보유한 곳) 모든 클라우드 공급자의 학습 기능 및 고객 기반). 보다 최근에는 Generative AI라고 하는 새로운 형태의 기계 학습이\n",
      "등장하여 기계 학습 채택을 크게 가속화할 것이라고 약속합니다. 제너레이티브 AI는 매우 큰 언어 모델(최대 천억 개의 매개변수에 대해 훈련되고 계속 증가하고 있음)을 기반으로 하며\n",
      "광범위한 데이터 세트에 걸쳐 매우 일반적이고\n",
      "----\n",
      "LLM과 Generative AI가 그렇게 변혁적일 것이라고 생각하기 때문에 전체 편지를 쓸 수 있지만 향후 편지로 남겨두겠습니다. LLM과 Generative AI가 고객, 주주 및\n",
      "Amazon에게 큰 문제가 될 것이라고 가정해 보겠습니다.  그래서 마지막으로 저는 우리가 이 도전적인 거시경제 시대에 진입했을 때보다 더 강력한 위치에서 등장할 것이라고\n",
      "낙관합니다. 여기에는 몇 가지 이유가 있으며 위에서 많은\n",
      "----\n",
      "실행할 수 있습니다. 우리는 회사가 다양한 LLM 중에서 선택하고 고객이 사용하는 데 익숙한 모든 AWS 보안, 개인 정보 보호 및 기타 기능을 갖춘 애플리케이션을 구축할 수\n",
      "있도록 합니다. 또한 실시간으로 코드 제안을 생성하여 개발자 생산성을 혁신하는 AWS의 CodeWhisperer와 같은 애플리케이션을 제공하고 있습니다. LLM과 GeneraTve\n",
      "AI가 그렇게 변혁적일 것이라고 생각하기 때문에 전체\n",
      "----\n"
     ]
    }
   ],
   "source": [
    "v = bedrock_embeddings.embed_query(query)\n",
    "print(v[0:10])\n",
    "results = vectorstore_faiss_aws.similarity_search_by_vector(v, k=3)\n",
    "for r in results:\n",
    "    print_ww(r.page_content)\n",
    "    print('----')"
   ]
  },
  {
   "cell_type": "markdown",
   "metadata": {
    "tags": []
   },
   "source": [
    "### 메모리\n",
    "모든 챗봇에는 사용 사례에 따라 맞춤화된 다양한 옵션을 갖춘 QA 체인이 필요합니다. 그러나 챗봇에서는 모델이 답변을 제공하기 위해 이를 고려할 수 있도록 항상 대화 기록을 보관해야 합니다. 이 예에서는 대화 기록을 유지하기 위해 ConversationBufferMemory와 함께 LangChain의 [ConversationalRetrievalChain](https://python.langchain.com/docs/modules/chains/popular/chat_Vector_db)을 사용합니다.\n",
    "\n",
    "출처: https://python.langchain.com/docs/modules/chains/popular/chat_Vector_db\n",
    "\n",
    "뒤에서 무슨 일이 일어나고 있는지 모두 보려면 'verbose'를 'True'로 설정하세요."
   ]
  },
  {
   "cell_type": "code",
   "execution_count": 23,
   "metadata": {
    "tags": []
   },
   "outputs": [
    {
     "name": "stdout",
     "output_type": "stream",
     "text": [
      "Given the following conversation and a follow up question, rephrase the follow up question to be a\n",
      "standalone question, in its original language.\n",
      "\n",
      "Chat History:\n",
      "{chat_history}\n",
      "Follow Up Input: {question}\n",
      "Standalone question:\n"
     ]
    }
   ],
   "source": [
    "from langchain.chains.conversational_retrieval.prompts import CONDENSE_QUESTION_PROMPT\n",
    "\n",
    "print_ww(CONDENSE_QUESTION_PROMPT.template)"
   ]
  },
  {
   "cell_type": "markdown",
   "metadata": {},
   "source": [
    "### ConversationRetrievalChain에 사용되는 매개변수\n",
    "* **retriever**: 우리는 `VectorStore`가 지원하는 `VectorStoreRetriever`를 사용했습니다. 텍스트를 검색하려면 `\"similarity\"` 또는 `\"mmr\"`라는 두 가지 검색 유형을 선택할 수 있습니다. `search_type=\"similarity\"`는 질문 벡터와 가장 유사한 텍스트 청크 벡터를 선택하는 검색 객체에서 유사성 검색을 사용합니다.\n",
    "\n",
    "* **메모리**: 이력을 저장하는 메모리 체인\n",
    "\n",
    "* **dense_question_prompt**: 사용자의 질문이 주어지면 이전 대화와 해당 질문을 사용하여 독립형 질문을 구성합니다.\n",
    "\n",
    "* **chain_type**: 채팅 기록이 길고 상황에 맞지 않는 경우 이 매개변수를 사용하고 옵션은 `stuff`, `refine`, `map_reduce`, `map-rerank`입니다.\n",
    "\n",
    "질문이 컨텍스트 범위를 벗어나면 모델은 답을 모른다고 대답합니다.\n",
    "\n",
    "**참고**: 체인이 어떻게 작동하는지 궁금하다면 `verbose=True` 줄의 주석 처리를 해제하세요."
   ]
  },
  {
   "cell_type": "code",
   "execution_count": 24,
   "metadata": {},
   "outputs": [],
   "source": [
    "# turn verbose to true to see the full logs and documents\n",
    "from langchain.chains import ConversationalRetrievalChain\n",
    "from langchain.memory import ConversationBufferMemory\n",
    "\n",
    "memory_chain = ConversationBufferMemory(memory_key=\"chat_history\", return_messages=True)\n",
    "qa = ConversationalRetrievalChain.from_llm(\n",
    "    llm=cl_llm, \n",
    "    retriever=vectorstore_faiss_aws.as_retriever(), \n",
    "    memory=memory_chain,\n",
    "    condense_question_prompt=CONDENSE_QUESTION_PROMPT,\n",
    "    #verbose=True, \n",
    "    chain_type='stuff', # 'refine',\n",
    "    #max_tokens_limit=300\n",
    ")"
   ]
  },
  {
   "cell_type": "markdown",
   "metadata": {},
   "source": [
    "채팅을 해보죠. 아래와 같은 질문을 해보세요. \n",
    "1. 아마존은 Generative AI 의 전략이 무엇인가요?"
   ]
  },
  {
   "cell_type": "code",
   "execution_count": 25,
   "metadata": {},
   "outputs": [
    {
     "name": "stdout",
     "output_type": "stream",
     "text": [
      "Starting chat bot\n"
     ]
    },
    {
     "data": {
      "application/vnd.jupyter.widget-view+json": {
       "model_id": "df61fec4bffd4a3ebc19915aa2d14f9c",
       "version_major": 2,
       "version_minor": 0
      },
      "text/plain": [
       "Output()"
      ]
     },
     "metadata": {},
     "output_type": "display_data"
    }
   ],
   "source": [
    "chat = ChatUX(qa, retrievalChain=True)\n",
    "chat.start_chat()"
   ]
  },
  {
   "cell_type": "markdown",
   "metadata": {},
   "source": [
    "이는 이 노트북의 시작 부분에 설명된 것과 동일한 이유로 발생합니다. 기본 랭체인 프롬프트는 Claude에게 최적이 아닙니다.\n",
    "다음 셀에서는 두 개의 새로운 프롬프트를 설정하겠습니다. 하나는 질문의 표현을 변경하기 위한 것이고, 다른 하나는 해당 질문의 답변을 얻기 위한 것입니다."
   ]
  },
  {
   "cell_type": "code",
   "execution_count": 26,
   "metadata": {
    "tags": []
   },
   "outputs": [],
   "source": [
    "# turn verbose to true to see the full logs and documents\n",
    "from langchain.chains import ConversationalRetrievalChain\n",
    "from langchain.schema import BaseMessage\n",
    "\n",
    "\n",
    "# We are also providing a different chat history retriever which outputs the history as a Claude chat (ie including the \\n\\n)\n",
    "_ROLE_MAP = {\"human\": \"\\n\\nHuman: \", \"ai\": \"\\n\\nAssistant: \"}\n",
    "def _get_chat_history(chat_history):\n",
    "    buffer = \"\"\n",
    "    for dialogue_turn in chat_history:\n",
    "        if isinstance(dialogue_turn, BaseMessage):\n",
    "            role_prefix = _ROLE_MAP.get(dialogue_turn.type, f\"{dialogue_turn.type}: \")\n",
    "            buffer += f\"\\n{role_prefix}{dialogue_turn.content}\"\n",
    "        elif isinstance(dialogue_turn, tuple):\n",
    "            human = \"\\n\\nHuman: \" + dialogue_turn[0]\n",
    "            ai = \"\\n\\nAssistant: \" + dialogue_turn[1]\n",
    "            buffer += \"\\n\" + \"\\n\".join([human, ai])\n",
    "        else:\n",
    "            raise ValueError(\n",
    "                f\"Unsupported chat history format: {type(dialogue_turn)}.\"\n",
    "                f\" Full chat history: {chat_history} \"\n",
    "            )\n",
    "    return buffer\n",
    "\n",
    "# the condense prompt for Claude\n",
    "condense_prompt_claude = PromptTemplate.from_template(\"\"\"{chat_history}\n",
    "\n",
    "새로운 질문으로만 대답하세요.\n",
    "\n",
    "\n",
    "Human: 이전 대화를 고려하여 질문을 어떻게 하시겠습니까?: {question}\n",
    "\n",
    "\n",
    "Assistant: Question:\"\"\")\n",
    "\n",
    "# recreate the Claude LLM with more tokens to sample - this provide longer responses but introduces some latency\n",
    "cl_llm = Bedrock(model_id=\"anthropic.claude-v1\", client=boto3_bedrock, model_kwargs={\"max_tokens_to_sample\": 500})\n",
    "memory_chain = ConversationBufferMemory(memory_key=\"chat_history\", return_messages=True)\n",
    "qa = ConversationalRetrievalChain.from_llm(\n",
    "    llm=cl_llm, \n",
    "    retriever=vectorstore_faiss_aws.as_retriever(), \n",
    "    #retriever=vectorstore_faiss_aws.as_retriever(search_type='similarity', search_kwargs={\"k\": 8}),\n",
    "    memory=memory_chain,\n",
    "    get_chat_history=_get_chat_history,\n",
    "    verbose=True,\n",
    "    condense_question_prompt=condense_prompt_claude, \n",
    "    chain_type='stuff', # 'refine',\n",
    "    #max_tokens_limit=300\n",
    ")\n",
    "\n",
    "# the LLMChain prompt to get the answer. the ConversationalRetrievalChange does not expose this parameter in the constructor\n",
    "qa.combine_docs_chain.llm_chain.prompt = PromptTemplate.from_template(\"\"\"\n",
    "{context}\n",
    "\n",
    "\n",
    "Human: <q></q> XML 태그 내의 질문에 답하려면 최대 3개의 문장을 사용하세요.\n",
    "\n",
    "<q>{question}</q>\n",
    "\n",
    "답변에 XML 태그를 사용하지 마세요. 답변이 context에 없으면 \"죄송합니다. 문맥에서 답을 찾을 수 없어서 모르겠습니다.\"라고 말합니다.\n",
    "\n",
    "Assistant:\"\"\")"
   ]
  },
  {
   "cell_type": "markdown",
   "metadata": {},
   "source": [
    "채팅을 해보죠. 아래와 같은 질문을 해보세요. \n",
    "1. 아마존은 Generative AI 의 전략이 무엇인가요?"
   ]
  },
  {
   "cell_type": "code",
   "execution_count": 27,
   "metadata": {},
   "outputs": [
    {
     "name": "stdout",
     "output_type": "stream",
     "text": [
      "Starting chat bot\n"
     ]
    },
    {
     "data": {
      "application/vnd.jupyter.widget-view+json": {
       "model_id": "b0cdfe78a4ff4dd1800b855aca72cfd1",
       "version_major": 2,
       "version_minor": 0
      },
      "text/plain": [
       "Output()"
      ]
     },
     "metadata": {},
     "output_type": "display_data"
    }
   ],
   "source": [
    "chat = ChatUX(qa, retrievalChain=True)\n",
    "chat.start_chat()"
   ]
  },
  {
   "cell_type": "markdown",
   "metadata": {},
   "source": [
    "## 6.2. 신한은행 FAQ 데이터 세트로 구현"
   ]
  },
  {
   "cell_type": "markdown",
   "metadata": {},
   "source": [
    "### 데이터 로딩 및 확인"
   ]
  },
  {
   "cell_type": "code",
   "execution_count": 28,
   "metadata": {
    "tags": []
   },
   "outputs": [
    {
     "data": {
      "text/html": [
       "<div>\n",
       "<style scoped>\n",
       "    .dataframe tbody tr th:only-of-type {\n",
       "        vertical-align: middle;\n",
       "    }\n",
       "\n",
       "    .dataframe tbody tr th {\n",
       "        vertical-align: top;\n",
       "    }\n",
       "\n",
       "    .dataframe thead th {\n",
       "        text-align: right;\n",
       "    }\n",
       "</style>\n",
       "<table border=\"1\" class=\"dataframe\">\n",
       "  <thead>\n",
       "    <tr style=\"text-align: right;\">\n",
       "      <th></th>\n",
       "      <th>no</th>\n",
       "      <th>question</th>\n",
       "      <th>context</th>\n",
       "      <th>type</th>\n",
       "      <th>source</th>\n",
       "    </tr>\n",
       "  </thead>\n",
       "  <tbody>\n",
       "    <tr>\n",
       "      <th>0</th>\n",
       "      <td>89</td>\n",
       "      <td>타기관OTP 이용등록방법 알려주세요</td>\n",
       "      <td>타기관에서 발급받으신 OTP가 통합OTP카드인 경우 당행에 등록하여 이용가능합니다....</td>\n",
       "      <td>인터넷뱅킹</td>\n",
       "      <td>신한은행</td>\n",
       "    </tr>\n",
       "    <tr>\n",
       "      <th>1</th>\n",
       "      <td>88</td>\n",
       "      <td>공동인증서와 금융인증서 차이점이 무엇인가요?</td>\n",
       "      <td>공동인증서 (구 공인인증서)는 용도에 따라 은행/신용카드/보험용 무료 인증서와 전자...</td>\n",
       "      <td>인증서</td>\n",
       "      <td>신한은행</td>\n",
       "    </tr>\n",
       "    <tr>\n",
       "      <th>2</th>\n",
       "      <td>87</td>\n",
       "      <td>금융인증서 해외에서 발급할 수 있나요?</td>\n",
       "      <td>해외에서도 인증서 발급 업무는 가능합니다. 다만, 금융인증서 저장을 위한 금융결제원...</td>\n",
       "      <td>금융인증서</td>\n",
       "      <td>신한은행</td>\n",
       "    </tr>\n",
       "    <tr>\n",
       "      <th>3</th>\n",
       "      <td>86</td>\n",
       "      <td>클라우드에 보관 중인 인증서는 얼마나 유지 되나요?</td>\n",
       "      <td>정상적으로 이용하실 경우 금융인증서의 유효기간은 3년이며, 1년 동안 클라우드 이용...</td>\n",
       "      <td>금융인증서</td>\n",
       "      <td>신한은행</td>\n",
       "    </tr>\n",
       "    <tr>\n",
       "      <th>4</th>\n",
       "      <td>85</td>\n",
       "      <td>금융인증서 발급대상은 누구인가요?</td>\n",
       "      <td>금융인증서는 은행 등의 금융회사에서 실명 확인된 고객을 대상으로 안전하게 발급되며 ...</td>\n",
       "      <td>금융인증서</td>\n",
       "      <td>신한은행</td>\n",
       "    </tr>\n",
       "    <tr>\n",
       "      <th>...</th>\n",
       "      <td>...</td>\n",
       "      <td>...</td>\n",
       "      <td>...</td>\n",
       "      <td>...</td>\n",
       "      <td>...</td>\n",
       "    </tr>\n",
       "    <tr>\n",
       "      <th>84</th>\n",
       "      <td>5</td>\n",
       "      <td>인터넷에서 이체한 거래의 상세내역 및 영수증을 인쇄하고 싶어요</td>\n",
       "      <td>인터넷상에서 이체한 거래의 경우 인터넷상에서 제공하는 영수증은 없으며, 거래의 참고...</td>\n",
       "      <td>인터넷뱅킹</td>\n",
       "      <td>신한은행</td>\n",
       "    </tr>\n",
       "    <tr>\n",
       "      <th>85</th>\n",
       "      <td>4</td>\n",
       "      <td>타행으로 자동이체를 신청하고 싶은데요</td>\n",
       "      <td>인터넷뱅킹을 통한 타은행 계좌로의 자동이체(납부자 자동이체)신청이 가능하며 수수료는...</td>\n",
       "      <td>인터넷뱅킹</td>\n",
       "      <td>신한은행</td>\n",
       "    </tr>\n",
       "    <tr>\n",
       "      <th>86</th>\n",
       "      <td>3</td>\n",
       "      <td>공과금 자동이체 신청이 가능한가요?</td>\n",
       "      <td>인터넷뱅킹에 로그인하신 후 \"공과금/법원 &gt; 공과금센터\" 페이지에 가시면 \"지로자동...</td>\n",
       "      <td>인터넷뱅킹</td>\n",
       "      <td>신한은행</td>\n",
       "    </tr>\n",
       "    <tr>\n",
       "      <th>87</th>\n",
       "      <td>2</td>\n",
       "      <td>인터넷뱅킹 거래에 대한 책임 범위를 알고싶습니다.</td>\n",
       "      <td>기본적으로 은행이 인터넷뱅킹 사고에 대한 책임을 집니다. 해커의 침입에 의해 자금이...</td>\n",
       "      <td>인터넷뱅킹</td>\n",
       "      <td>신한은행</td>\n",
       "    </tr>\n",
       "    <tr>\n",
       "      <th>88</th>\n",
       "      <td>1</td>\n",
       "      <td>인터넷뱅킹을 이용하려면 어떻게 해야 합니까?</td>\n",
       "      <td>영업점에 방문하지 않아도, 모바일에서 신한 쏠 (SOL) 어플 다운로드후 회원가입하...</td>\n",
       "      <td>인터넷뱅킹</td>\n",
       "      <td>신한은행</td>\n",
       "    </tr>\n",
       "  </tbody>\n",
       "</table>\n",
       "<p>89 rows × 5 columns</p>\n",
       "</div>"
      ],
      "text/plain": [
       "    no                            question  \\\n",
       "0   89                 타기관OTP 이용등록방법 알려주세요   \n",
       "1   88            공동인증서와 금융인증서 차이점이 무엇인가요?   \n",
       "2   87               금융인증서 해외에서 발급할 수 있나요?   \n",
       "3   86        클라우드에 보관 중인 인증서는 얼마나 유지 되나요?   \n",
       "4   85                  금융인증서 발급대상은 누구인가요?   \n",
       "..  ..                                 ...   \n",
       "84   5  인터넷에서 이체한 거래의 상세내역 및 영수증을 인쇄하고 싶어요   \n",
       "85   4                타행으로 자동이체를 신청하고 싶은데요   \n",
       "86   3                 공과금 자동이체 신청이 가능한가요?   \n",
       "87   2         인터넷뱅킹 거래에 대한 책임 범위를 알고싶습니다.   \n",
       "88   1            인터넷뱅킹을 이용하려면 어떻게 해야 합니까?   \n",
       "\n",
       "                                              context   type source  \n",
       "0   타기관에서 발급받으신 OTP가 통합OTP카드인 경우 당행에 등록하여 이용가능합니다....  인터넷뱅킹   신한은행  \n",
       "1   공동인증서 (구 공인인증서)는 용도에 따라 은행/신용카드/보험용 무료 인증서와 전자...    인증서   신한은행  \n",
       "2   해외에서도 인증서 발급 업무는 가능합니다. 다만, 금융인증서 저장을 위한 금융결제원...  금융인증서   신한은행  \n",
       "3   정상적으로 이용하실 경우 금융인증서의 유효기간은 3년이며, 1년 동안 클라우드 이용...  금융인증서   신한은행  \n",
       "4   금융인증서는 은행 등의 금융회사에서 실명 확인된 고객을 대상으로 안전하게 발급되며 ...  금융인증서   신한은행  \n",
       "..                                                ...    ...    ...  \n",
       "84  인터넷상에서 이체한 거래의 경우 인터넷상에서 제공하는 영수증은 없으며, 거래의 참고...  인터넷뱅킹   신한은행  \n",
       "85  인터넷뱅킹을 통한 타은행 계좌로의 자동이체(납부자 자동이체)신청이 가능하며 수수료는...  인터넷뱅킹   신한은행  \n",
       "86  인터넷뱅킹에 로그인하신 후 \"공과금/법원 > 공과금센터\" 페이지에 가시면 \"지로자동...  인터넷뱅킹   신한은행  \n",
       "87  기본적으로 은행이 인터넷뱅킹 사고에 대한 책임을 집니다. 해커의 침입에 의해 자금이...  인터넷뱅킹   신한은행  \n",
       "88  영업점에 방문하지 않아도, 모바일에서 신한 쏠 (SOL) 어플 다운로드후 회원가입하...  인터넷뱅킹   신한은행  \n",
       "\n",
       "[89 rows x 5 columns]"
      ]
     },
     "execution_count": 28,
     "metadata": {},
     "output_type": "execute_result"
    }
   ],
   "source": [
    "import pandas as pd\n",
    "pd.options.display.max_rows = 20\n",
    "\n",
    "data_file_path = \"./rag_data_kr_csv/fsi_smart_faq_ko.csv\"\n",
    "df = pd.read_csv(data_file_path)\n",
    "df"
   ]
  },
  {
   "cell_type": "markdown",
   "metadata": {},
   "source": [
    "### 데이터 전처리\n",
    "- 여기서 데이터 컬럼인 context 만을 사용 합니다.\n",
    "- char_size <= 210 인 데이터만 사용합니다. (Embedding Model 최대 입력 토큰이 512 여서 제한을 둡니다.)"
   ]
  },
  {
   "cell_type": "code",
   "execution_count": 29,
   "metadata": {
    "tags": []
   },
   "outputs": [
    {
     "data": {
      "text/html": [
       "<div>\n",
       "<style scoped>\n",
       "    .dataframe tbody tr th:only-of-type {\n",
       "        vertical-align: middle;\n",
       "    }\n",
       "\n",
       "    .dataframe tbody tr th {\n",
       "        vertical-align: top;\n",
       "    }\n",
       "\n",
       "    .dataframe thead th {\n",
       "        text-align: right;\n",
       "    }\n",
       "</style>\n",
       "<table border=\"1\" class=\"dataframe\">\n",
       "  <thead>\n",
       "    <tr style=\"text-align: right;\">\n",
       "      <th></th>\n",
       "      <th>context</th>\n",
       "    </tr>\n",
       "  </thead>\n",
       "  <tbody>\n",
       "    <tr>\n",
       "      <th>2</th>\n",
       "      <td>해외에서도 인증서 발급 업무는 가능합니다. 다만, 금융인증서 저장을 위한 금융결제원...</td>\n",
       "    </tr>\n",
       "    <tr>\n",
       "      <th>3</th>\n",
       "      <td>정상적으로 이용하실 경우 금융인증서의 유효기간은 3년이며, 1년 동안 클라우드 이용...</td>\n",
       "    </tr>\n",
       "    <tr>\n",
       "      <th>4</th>\n",
       "      <td>금융인증서는 은행 등의 금융회사에서 실명 확인된 고객을 대상으로 안전하게 발급되며 ...</td>\n",
       "    </tr>\n",
       "    <tr>\n",
       "      <th>5</th>\n",
       "      <td>공동인증서와 금융인증서는 별개의 인증서로 두 가지 인증서를 모두 사용할 수 있습니다.</td>\n",
       "    </tr>\n",
       "    <tr>\n",
       "      <th>6</th>\n",
       "      <td>뱅크아이디란, 블록체인기반의 은행권 공동인증서비스로 블록체인 원장을 분산하여 저장/...</td>\n",
       "    </tr>\n",
       "    <tr>\n",
       "      <th>...</th>\n",
       "      <td>...</td>\n",
       "    </tr>\n",
       "    <tr>\n",
       "      <th>80</th>\n",
       "      <td>인터넷뱅킹에 로그인 하신 후 \"사용자관리\"를 클릭하신 후 \"고객정보\" &gt; \"고객정보...</td>\n",
       "    </tr>\n",
       "    <tr>\n",
       "      <th>82</th>\n",
       "      <td>인터넷상으로 예금/신탁을 신규가입하시려면 우선 고객님께서는인터넷뱅킹에 가입하셔야 하...</td>\n",
       "    </tr>\n",
       "    <tr>\n",
       "      <th>83</th>\n",
       "      <td>인터넷뱅킹(bank.shinhan.com) 송금 수수료는 우측 퀵메뉴 이용안내 수수...</td>\n",
       "    </tr>\n",
       "    <tr>\n",
       "      <th>86</th>\n",
       "      <td>인터넷뱅킹에 로그인하신 후 \"공과금/법원 &gt; 공과금센터\" 페이지에 가시면 \"지로자동...</td>\n",
       "    </tr>\n",
       "    <tr>\n",
       "      <th>88</th>\n",
       "      <td>영업점에 방문하지 않아도, 모바일에서 신한 쏠 (SOL) 어플 다운로드후 회원가입하...</td>\n",
       "    </tr>\n",
       "  </tbody>\n",
       "</table>\n",
       "<p>43 rows × 1 columns</p>\n",
       "</div>"
      ],
      "text/plain": [
       "                                              context\n",
       "2   해외에서도 인증서 발급 업무는 가능합니다. 다만, 금융인증서 저장을 위한 금융결제원...\n",
       "3   정상적으로 이용하실 경우 금융인증서의 유효기간은 3년이며, 1년 동안 클라우드 이용...\n",
       "4   금융인증서는 은행 등의 금융회사에서 실명 확인된 고객을 대상으로 안전하게 발급되며 ...\n",
       "5    공동인증서와 금융인증서는 별개의 인증서로 두 가지 인증서를 모두 사용할 수 있습니다. \n",
       "6   뱅크아이디란, 블록체인기반의 은행권 공동인증서비스로 블록체인 원장을 분산하여 저장/...\n",
       "..                                                ...\n",
       "80  인터넷뱅킹에 로그인 하신 후 \"사용자관리\"를 클릭하신 후 \"고객정보\" > \"고객정보...\n",
       "82  인터넷상으로 예금/신탁을 신규가입하시려면 우선 고객님께서는인터넷뱅킹에 가입하셔야 하...\n",
       "83  인터넷뱅킹(bank.shinhan.com) 송금 수수료는 우측 퀵메뉴 이용안내 수수...\n",
       "86  인터넷뱅킹에 로그인하신 후 \"공과금/법원 > 공과금센터\" 페이지에 가시면 \"지로자동...\n",
       "88  영업점에 방문하지 않아도, 모바일에서 신한 쏠 (SOL) 어플 다운로드후 회원가입하...\n",
       "\n",
       "[43 rows x 1 columns]"
      ]
     },
     "execution_count": 29,
     "metadata": {},
     "output_type": "execute_result"
    }
   ],
   "source": [
    "def preprocess_data(df, char_size):\n",
    "    ldf = df.copy()\n",
    "    ldf['Len'] = ldf['context'].apply(lambda x : len(x))\n",
    "    ldf = ldf[ldf['Len'] < char_size]\n",
    "\n",
    "    df_index = ldf.drop(['no','question','type','source','Len'], axis=1)\n",
    "    # df_index.to_csv(\"rag_data_kr/fsi_smart_faq_ko_answer.csv\", index=None, header=None)\n",
    "    df_index.to_csv(\"rag_data_kr_csv/fsi_smart_faq_ko_answer.csv\", index=None)\n",
    "\n",
    "    return df_index\n",
    "\n",
    "pre_df = preprocess_data(df, char_size=210)\n",
    "pre_df"
   ]
  },
  {
   "cell_type": "markdown",
   "metadata": {},
   "source": [
    "### 문서 로딩 및 청킹"
   ]
  },
  {
   "cell_type": "code",
   "execution_count": 30,
   "metadata": {
    "tags": []
   },
   "outputs": [
    {
     "name": "stdout",
     "output_type": "stream",
     "text": [
      "Number of documents=43\n",
      "Number of documents after split and chunking=43\n"
     ]
    }
   ],
   "source": [
    "from langchain.document_loaders import CSVLoader\n",
    "from langchain.text_splitter import CharacterTextSplitter, RecursiveCharacterTextSplitter\n",
    "from langchain.indexes.vectorstore import VectorStoreIndexWrapper\n",
    "from langchain.vectorstores import FAISS\n",
    "\n",
    "loader = CSVLoader(\"rag_data_kr_csv/fsi_smart_faq_ko_answer.csv\", source_column=\"context\") # --- > 219 docs with 400 chars, each row consists in a question column and an answer column\n",
    "documents_fsi = loader.load() #\n",
    "print(f\"Number of documents={len(documents_fsi)}\")\n",
    "\n",
    "\n",
    "text_splitter = CharacterTextSplitter(chunk_size=210, \n",
    "                                      chunk_overlap=20,\n",
    "                                      #separator=\",\"\n",
    "                                     )\n",
    "\n",
    "docs = text_splitter.split_documents(documents_fsi)\n",
    "\n",
    "print(f\"Number of documents after split and chunking={len(docs)}\")"
   ]
  },
  {
   "cell_type": "markdown",
   "metadata": {},
   "source": [
    "### 문서 사이즈 등 통계"
   ]
  },
  {
   "cell_type": "code",
   "execution_count": 31,
   "metadata": {
    "tags": []
   },
   "outputs": [
    {
     "name": "stdout",
     "output_type": "stream",
     "text": [
      "                0\n",
      "count   43.000000\n",
      "mean   143.116279\n",
      "std     52.944360\n",
      "min     33.000000\n",
      "25%    103.500000\n",
      "50%    142.000000\n",
      "75%    196.000000\n",
      "max    214.000000\n",
      "Average length among 43 documents loaded is 143 characters.\n",
      "\n",
      "Show document at maximum size\n",
      "context: 인터넷뱅킹 가입과 홈페이지 회원은 개별로 운영되고 있습니다. \n",
      "인터넷뱅킹만 가입을 하셨다면 별도로 홈페이지에 회원가입 후 홈페이지 로그인이 가능합니다. \n",
      "※ 영업점에서 인터넷뱅킹 가입 시 전계좌조회서비스 가입하신 고객은 홈페이지 상에서 이용자비밀번호 등록 후 이용가능합니다. \n",
      "기타 궁금하신 내용은 신한은행 고객센터 1599-8000로 문의하여 주시기 바랍니다.\n"
     ]
    }
   ],
   "source": [
    "\n",
    "def show_chunk_stat(documents):\n",
    "    doc_len_list = [len(doc.page_content) for doc in documents]\n",
    "    print(pd.DataFrame(doc_len_list).describe())\n",
    "    avg_doc_length = lambda documents: sum([len(doc.page_content) for doc in documents])//len(documents)\n",
    "    avg_char_count_pre = avg_doc_length(documents)\n",
    "    print(f'Average length among {len(documents)} documents loaded is {avg_char_count_pre} characters.')\n",
    "    \n",
    "    max_idx = doc_len_list.index(max(doc_len_list))\n",
    "    print(\"\\nShow document at maximum size\")\n",
    "    print(documents[max_idx].page_content)    \n",
    "    \n",
    "show_chunk_stat(docs)"
   ]
  },
  {
   "cell_type": "markdown",
   "metadata": {},
   "source": [
    "### FAISS Vector Store 생성"
   ]
  },
  {
   "cell_type": "code",
   "execution_count": 32,
   "metadata": {
    "tags": []
   },
   "outputs": [
    {
     "name": "stdout",
     "output_type": "stream",
     "text": [
      "vectorstore_faiss_aws: number of elements in the index=43::\n",
      "CPU times: user 153 ms, sys: 11.1 ms, total: 164 ms\n",
      "Wall time: 6.15 s\n"
     ]
    }
   ],
   "source": [
    "%%time\n",
    "from langchain.indexes.vectorstore import VectorStoreIndexWrapper\n",
    "vectorstore_faiss_fsi = FAISS.from_documents(\n",
    "    documents=docs,\n",
    "    embedding = bedrock_embeddings\n",
    ")\n",
    "\n",
    "print(f\"vectorstore_faiss_aws: number of elements in the index={vectorstore_faiss_fsi.index.ntotal}::\")\n",
    "wrapper_store_faiss = VectorStoreIndexWrapper(vectorstore=vectorstore_faiss_fsi)"
   ]
  },
  {
   "cell_type": "code",
   "execution_count": 33,
   "metadata": {
    "tags": []
   },
   "outputs": [
    {
     "name": "stdout",
     "output_type": "stream",
     "text": [
      "docs[0].page_content: \n",
      " context: 해외에서도 인증서 발급 업무는 가능합니다. 다만, 금융인증서 저장을 위한 금융결제원 클라우드 계정 생성 및 연결이 필요한 업무로 해외연락처를 통한 ARS인증이 진행됩니다.\n"
     ]
    }
   ],
   "source": [
    "print(\"docs[0].page_content: \\n\", docs[0].page_content)"
   ]
  },
  {
   "cell_type": "markdown",
   "metadata": {
    "tags": []
   },
   "source": [
    "#### Semantic search\n",
    "\n",
    "LangChain에서 제공하는 Wrapper 클래스를 사용하여 벡터 데이터베이스 저장소를 쿼리하고 관련 문서를 반환할 수 있습니다. 뒤에서는 RetrievalQA 체인만 실행됩니다."
   ]
  },
  {
   "cell_type": "code",
   "execution_count": 34,
   "metadata": {
    "tags": []
   },
   "outputs": [
    {
     "name": "stdout",
     "output_type": "stream",
     "text": [
      " 신한은행 고객센터 전화번호는 1599-8000입니다.\n"
     ]
    }
   ],
   "source": [
    "from langchain.chains import RetrievalQA\n",
    "from langchain.prompts import PromptTemplate\n",
    "\n",
    "prompt_template = \"\"\"Human: 다음 문맥을 사용하여 마지막 질문에 대한 간결한 답변을 제공하세요. 답을 모르면 모른다고 말하고 답을 만들어내려고 하지 마세요.\n",
    "\n",
    "{context}\n",
    "\n",
    "Question: {question}\n",
    "Assistant:\"\"\"\n",
    "\n",
    "PROMPT = PromptTemplate(\n",
    "    template=prompt_template, input_variables=[\"context\", \"question\"]\n",
    ")\n",
    "\n",
    "qa = RetrievalQA.from_chain_type(\n",
    "    llm=cl_llm,\n",
    "    chain_type=\"stuff\",\n",
    "    retriever=vectorstore_faiss_fsi.as_retriever(\n",
    "        search_type=\"similarity\", search_kwargs={\"k\": 5}\n",
    "    ),\n",
    "    return_source_documents=True,\n",
    "    chain_type_kwargs={\"prompt\": PROMPT}\n",
    ")\n",
    "\n",
    "\n",
    "#query = \"증권사에서 발급받은 인증서는 은행에서 사용 불가한가요?\"\n",
    "# query = \"인터넷뱅킹 자동이체 신청 및 해지 방법을 알려주세요\"\n",
    "query = \"신한은행 고객센터 전화 번호 알려줘?\"\n",
    "result = qa({\"query\": query})\n",
    "print_ww(result['result'])"
   ]
  },
  {
   "cell_type": "code",
   "execution_count": 35,
   "metadata": {
    "tags": []
   },
   "outputs": [
    {
     "name": "stdout",
     "output_type": "stream",
     "text": [
      "-----------------------------------------------\n",
      "1. context to be fed into FM(e.g. Claude-v2)\n",
      "-----------------------------------------------\n",
      "context: 통합이후 고객수가 크게 늘어 기존 11자리 체계에서 12자리 체계로의 변경이 필요했습니다만, 신계좌로 전환하여도 기존 구계좌번호를 이용하시는데 (기존 자동이체 및\n",
      "급여입금 등) 전혀 문제가 없슴을 말씀드립니다.\n",
      "-----------------------------------------------\n",
      "2. context to be fed into FM(e.g. Claude-v2)\n",
      "-----------------------------------------------\n",
      "context: 인터넷뱅킹에 로그인하신 후 \"공과금/법원 > 공과금센터\" 페이지에 가시면 \"지로자동이체 등록\" 메뉴가 있습니다. 해당 메뉴를 통하여 \"전기요금, 전화요금,\n",
      "국민연금, 국민건강보험료 등을 포함하여 각종 지로요금\"을 모두 자동이체 등록하실 수 있습니다.\n",
      "-----------------------------------------------\n",
      "3. context to be fed into FM(e.g. Claude-v2)\n",
      "-----------------------------------------------\n",
      "context: 인터넷뱅킹 가입과 홈페이지 회원은 개별로 운영되고 있습니다.\n",
      "인터넷뱅킹만 가입을 하셨다면 별도로 홈페이지에 회원가입 후 홈페이지 로그인이 가능합니다.\n",
      "※ 영업점에서 인터넷뱅킹 가입 시 전계좌조회서비스 가입하신 고객은 홈페이지 상에서 이용자비밀번호 등록 후 이용가능합니다.\n",
      "기타 궁금하신 내용은 신한은행 고객센터 1599-8000로 문의하여 주시기 바랍니다.\n",
      "-----------------------------------------------\n",
      "4. context to be fed into FM(e.g. Claude-v2)\n",
      "-----------------------------------------------\n",
      "context: 최근에 신한은행 사칭 하여 마이너스 통장 발급대상이라는 문자를 보내고 있는거 같습니다. 당행에서는 마이너스 통장 발급 대상 문자를 보내드리지는 않습니다. 대출 가능\n",
      "여부는 개인 신용정보  조회 동의  후 심사를 통해서만 확인이 가능하기 때문에문자 발송을 하지 않습니다.참고로 고객님 정보가 노출이 되었기 때문에 아래 내용을 참고하여 주시기\n",
      "바랍니다.\n",
      "-----------------------------------------------\n",
      "5. context to be fed into FM(e.g. Claude-v2)\n",
      "-----------------------------------------------\n",
      "context: 인터넷뱅킹에 로그인 하신 후 \"사용자관리\"를 클릭하신 후 \"고객정보\" > \"고객정보조회/변경\" 에서 개인정보를 변경하실 수 있습니다.\n"
     ]
    }
   ],
   "source": [
    "def show_context_used(context_list):\n",
    "    for idx, context in enumerate(context_list):\n",
    "        print(\"-----------------------------------------------\")                \n",
    "        print(f\"{idx+1}. context to be fed into FM(e.g. Claude-v2)\")\n",
    "        print(\"-----------------------------------------------\")        \n",
    "        print_ww(context.page_content)        \n",
    "        \n",
    "show_context_used(result['source_documents'])        "
   ]
  },
  {
   "cell_type": "markdown",
   "metadata": {},
   "source": [
    "### 챗봇 (ConversationalRetrievalChain) 의로 질문"
   ]
  },
  {
   "cell_type": "code",
   "execution_count": 36,
   "metadata": {
    "tags": []
   },
   "outputs": [],
   "source": [
    "# turn verbose to true to see the full logs and documents\n",
    "from langchain.chains import ConversationalRetrievalChain\n",
    "from langchain.schema import BaseMessage\n",
    "\n",
    "\n",
    "condense_prompt_claude = PromptTemplate.from_template(\"\"\"{chat_history}\n",
    "\n",
    "새로운 질문으로만 대답하세요.\n",
    "\n",
    "\n",
    "Human: 이전 대화를 고려하여 질문을 어떻게 하시겠습니까?: {question}\n",
    "\n",
    "\n",
    "Assistant: Question:\"\"\")\n",
    "\n",
    "\n",
    "# recreate the Claude LLM with more tokens to sample - this provide longer responses but introduces some latency\n",
    "cl_llm = Bedrock(model_id=\"anthropic.claude-v2\", client=boto3_bedrock, model_kwargs={\"max_tokens_to_sample\": 500})\n",
    "memory_chain = ConversationBufferMemory(memory_key=\"chat_history\", return_messages=True)\n",
    "qa = ConversationalRetrievalChain.from_llm(\n",
    "    llm=cl_llm, \n",
    "    retriever=vectorstore_faiss_fsi.as_retriever(), \n",
    "    #retriever=vectorstore_faiss_aws.as_retriever(search_type='similarity', search_kwargs={\"k\": 8}),\n",
    "    memory=memory_chain,\n",
    "    get_chat_history=_get_chat_history,\n",
    "    verbose=True,\n",
    "    condense_question_prompt=condense_prompt_claude, \n",
    "    chain_type='stuff', # 'refine',\n",
    "    #max_tokens_limit=300\n",
    ")\n",
    "\n",
    "qa.combine_docs_chain.llm_chain.prompt = PromptTemplate.from_template(\"\"\"\n",
    "{context}\n",
    "\n",
    "\n",
    "Human: <q></q> XML 태그 내의 질문에 답하려면 최대 3개의 문장을 사용하세요.\n",
    "\n",
    "<q>{question}</q>\n",
    "\n",
    "답변에 XML 태그를 사용하지 마세요. 답변이 context에 없으면 \"죄송합니다. 문맥에서 답을 찾을 수 없어서 모르겠습니다.\"라고 말합니다.\n",
    "\n",
    "Assistant:\"\"\")"
   ]
  },
  {
   "cell_type": "markdown",
   "metadata": {},
   "source": [
    "Let's start another chat. Feel free to ask the following questions:\n",
    "\n",
    "신한은행 고객센터 전화 번호 알려줘?\n"
   ]
  },
  {
   "cell_type": "code",
   "execution_count": 37,
   "metadata": {},
   "outputs": [
    {
     "name": "stdout",
     "output_type": "stream",
     "text": [
      "Starting chat bot\n"
     ]
    },
    {
     "data": {
      "application/vnd.jupyter.widget-view+json": {
       "model_id": "be8f073bab5444c5a77e7cdff4c79f68",
       "version_major": 2,
       "version_minor": 0
      },
      "text/plain": [
       "Output()"
      ]
     },
     "metadata": {},
     "output_type": "display_data"
    }
   ],
   "source": [
    "chat = ChatUX(qa, retrievalChain=True)\n",
    "chat.start_chat()"
   ]
  },
  {
   "cell_type": "markdown",
   "metadata": {},
   "source": [
    "# 7.Next Action\n",
    "\n",
    "자신만의 챗봇 시스템을 만들고 챗봇과 대화한 내역을 캡쳐해서 올려주세요. 웹 페이지 정보를 가져오기 위해서 'WebBaseLoader' 를 사용하는 것도 가능합니다."
   ]
  },
  {
   "cell_type": "markdown",
   "metadata": {},
   "source": [
    "### 요약\n",
    "- 이 데모에서는 Claude LLM을 사용하여 다음 패턴으로 대화형 인터페이스를 만들었습니다.\n",
    "\n",
    "1. 챗봇(기본 - 맥락 없음)\n",
    "\n",
    "2. 프롬프트 템플릿(Langchain)을 이용한 챗봇\n",
    "\n",
    "3. 페르소나를 갖춘 챗봇\n",
    "4. 맥락을 갖춘 챗봇"
   ]
  },
  {
   "cell_type": "code",
   "execution_count": null,
   "metadata": {},
   "outputs": [],
   "source": []
  },
  {
   "cell_type": "code",
   "execution_count": null,
   "metadata": {},
   "outputs": [],
   "source": []
  }
 ],
 "metadata": {
  "availableInstances": [
   {
    "_defaultOrder": 0,
    "_isFastLaunch": true,
    "category": "General purpose",
    "gpuNum": 0,
    "hideHardwareSpecs": false,
    "memoryGiB": 4,
    "name": "ml.t3.medium",
    "vcpuNum": 2
   },
   {
    "_defaultOrder": 1,
    "_isFastLaunch": false,
    "category": "General purpose",
    "gpuNum": 0,
    "hideHardwareSpecs": false,
    "memoryGiB": 8,
    "name": "ml.t3.large",
    "vcpuNum": 2
   },
   {
    "_defaultOrder": 2,
    "_isFastLaunch": false,
    "category": "General purpose",
    "gpuNum": 0,
    "hideHardwareSpecs": false,
    "memoryGiB": 16,
    "name": "ml.t3.xlarge",
    "vcpuNum": 4
   },
   {
    "_defaultOrder": 3,
    "_isFastLaunch": false,
    "category": "General purpose",
    "gpuNum": 0,
    "hideHardwareSpecs": false,
    "memoryGiB": 32,
    "name": "ml.t3.2xlarge",
    "vcpuNum": 8
   },
   {
    "_defaultOrder": 4,
    "_isFastLaunch": true,
    "category": "General purpose",
    "gpuNum": 0,
    "hideHardwareSpecs": false,
    "memoryGiB": 8,
    "name": "ml.m5.large",
    "vcpuNum": 2
   },
   {
    "_defaultOrder": 5,
    "_isFastLaunch": false,
    "category": "General purpose",
    "gpuNum": 0,
    "hideHardwareSpecs": false,
    "memoryGiB": 16,
    "name": "ml.m5.xlarge",
    "vcpuNum": 4
   },
   {
    "_defaultOrder": 6,
    "_isFastLaunch": false,
    "category": "General purpose",
    "gpuNum": 0,
    "hideHardwareSpecs": false,
    "memoryGiB": 32,
    "name": "ml.m5.2xlarge",
    "vcpuNum": 8
   },
   {
    "_defaultOrder": 7,
    "_isFastLaunch": false,
    "category": "General purpose",
    "gpuNum": 0,
    "hideHardwareSpecs": false,
    "memoryGiB": 64,
    "name": "ml.m5.4xlarge",
    "vcpuNum": 16
   },
   {
    "_defaultOrder": 8,
    "_isFastLaunch": false,
    "category": "General purpose",
    "gpuNum": 0,
    "hideHardwareSpecs": false,
    "memoryGiB": 128,
    "name": "ml.m5.8xlarge",
    "vcpuNum": 32
   },
   {
    "_defaultOrder": 9,
    "_isFastLaunch": false,
    "category": "General purpose",
    "gpuNum": 0,
    "hideHardwareSpecs": false,
    "memoryGiB": 192,
    "name": "ml.m5.12xlarge",
    "vcpuNum": 48
   },
   {
    "_defaultOrder": 10,
    "_isFastLaunch": false,
    "category": "General purpose",
    "gpuNum": 0,
    "hideHardwareSpecs": false,
    "memoryGiB": 256,
    "name": "ml.m5.16xlarge",
    "vcpuNum": 64
   },
   {
    "_defaultOrder": 11,
    "_isFastLaunch": false,
    "category": "General purpose",
    "gpuNum": 0,
    "hideHardwareSpecs": false,
    "memoryGiB": 384,
    "name": "ml.m5.24xlarge",
    "vcpuNum": 96
   },
   {
    "_defaultOrder": 12,
    "_isFastLaunch": false,
    "category": "General purpose",
    "gpuNum": 0,
    "hideHardwareSpecs": false,
    "memoryGiB": 8,
    "name": "ml.m5d.large",
    "vcpuNum": 2
   },
   {
    "_defaultOrder": 13,
    "_isFastLaunch": false,
    "category": "General purpose",
    "gpuNum": 0,
    "hideHardwareSpecs": false,
    "memoryGiB": 16,
    "name": "ml.m5d.xlarge",
    "vcpuNum": 4
   },
   {
    "_defaultOrder": 14,
    "_isFastLaunch": false,
    "category": "General purpose",
    "gpuNum": 0,
    "hideHardwareSpecs": false,
    "memoryGiB": 32,
    "name": "ml.m5d.2xlarge",
    "vcpuNum": 8
   },
   {
    "_defaultOrder": 15,
    "_isFastLaunch": false,
    "category": "General purpose",
    "gpuNum": 0,
    "hideHardwareSpecs": false,
    "memoryGiB": 64,
    "name": "ml.m5d.4xlarge",
    "vcpuNum": 16
   },
   {
    "_defaultOrder": 16,
    "_isFastLaunch": false,
    "category": "General purpose",
    "gpuNum": 0,
    "hideHardwareSpecs": false,
    "memoryGiB": 128,
    "name": "ml.m5d.8xlarge",
    "vcpuNum": 32
   },
   {
    "_defaultOrder": 17,
    "_isFastLaunch": false,
    "category": "General purpose",
    "gpuNum": 0,
    "hideHardwareSpecs": false,
    "memoryGiB": 192,
    "name": "ml.m5d.12xlarge",
    "vcpuNum": 48
   },
   {
    "_defaultOrder": 18,
    "_isFastLaunch": false,
    "category": "General purpose",
    "gpuNum": 0,
    "hideHardwareSpecs": false,
    "memoryGiB": 256,
    "name": "ml.m5d.16xlarge",
    "vcpuNum": 64
   },
   {
    "_defaultOrder": 19,
    "_isFastLaunch": false,
    "category": "General purpose",
    "gpuNum": 0,
    "hideHardwareSpecs": false,
    "memoryGiB": 384,
    "name": "ml.m5d.24xlarge",
    "vcpuNum": 96
   },
   {
    "_defaultOrder": 20,
    "_isFastLaunch": false,
    "category": "General purpose",
    "gpuNum": 0,
    "hideHardwareSpecs": true,
    "memoryGiB": 0,
    "name": "ml.geospatial.interactive",
    "supportedImageNames": [
     "sagemaker-geospatial-v1-0"
    ],
    "vcpuNum": 0
   },
   {
    "_defaultOrder": 21,
    "_isFastLaunch": true,
    "category": "Compute optimized",
    "gpuNum": 0,
    "hideHardwareSpecs": false,
    "memoryGiB": 4,
    "name": "ml.c5.large",
    "vcpuNum": 2
   },
   {
    "_defaultOrder": 22,
    "_isFastLaunch": false,
    "category": "Compute optimized",
    "gpuNum": 0,
    "hideHardwareSpecs": false,
    "memoryGiB": 8,
    "name": "ml.c5.xlarge",
    "vcpuNum": 4
   },
   {
    "_defaultOrder": 23,
    "_isFastLaunch": false,
    "category": "Compute optimized",
    "gpuNum": 0,
    "hideHardwareSpecs": false,
    "memoryGiB": 16,
    "name": "ml.c5.2xlarge",
    "vcpuNum": 8
   },
   {
    "_defaultOrder": 24,
    "_isFastLaunch": false,
    "category": "Compute optimized",
    "gpuNum": 0,
    "hideHardwareSpecs": false,
    "memoryGiB": 32,
    "name": "ml.c5.4xlarge",
    "vcpuNum": 16
   },
   {
    "_defaultOrder": 25,
    "_isFastLaunch": false,
    "category": "Compute optimized",
    "gpuNum": 0,
    "hideHardwareSpecs": false,
    "memoryGiB": 72,
    "name": "ml.c5.9xlarge",
    "vcpuNum": 36
   },
   {
    "_defaultOrder": 26,
    "_isFastLaunch": false,
    "category": "Compute optimized",
    "gpuNum": 0,
    "hideHardwareSpecs": false,
    "memoryGiB": 96,
    "name": "ml.c5.12xlarge",
    "vcpuNum": 48
   },
   {
    "_defaultOrder": 27,
    "_isFastLaunch": false,
    "category": "Compute optimized",
    "gpuNum": 0,
    "hideHardwareSpecs": false,
    "memoryGiB": 144,
    "name": "ml.c5.18xlarge",
    "vcpuNum": 72
   },
   {
    "_defaultOrder": 28,
    "_isFastLaunch": false,
    "category": "Compute optimized",
    "gpuNum": 0,
    "hideHardwareSpecs": false,
    "memoryGiB": 192,
    "name": "ml.c5.24xlarge",
    "vcpuNum": 96
   },
   {
    "_defaultOrder": 29,
    "_isFastLaunch": true,
    "category": "Accelerated computing",
    "gpuNum": 1,
    "hideHardwareSpecs": false,
    "memoryGiB": 16,
    "name": "ml.g4dn.xlarge",
    "vcpuNum": 4
   },
   {
    "_defaultOrder": 30,
    "_isFastLaunch": false,
    "category": "Accelerated computing",
    "gpuNum": 1,
    "hideHardwareSpecs": false,
    "memoryGiB": 32,
    "name": "ml.g4dn.2xlarge",
    "vcpuNum": 8
   },
   {
    "_defaultOrder": 31,
    "_isFastLaunch": false,
    "category": "Accelerated computing",
    "gpuNum": 1,
    "hideHardwareSpecs": false,
    "memoryGiB": 64,
    "name": "ml.g4dn.4xlarge",
    "vcpuNum": 16
   },
   {
    "_defaultOrder": 32,
    "_isFastLaunch": false,
    "category": "Accelerated computing",
    "gpuNum": 1,
    "hideHardwareSpecs": false,
    "memoryGiB": 128,
    "name": "ml.g4dn.8xlarge",
    "vcpuNum": 32
   },
   {
    "_defaultOrder": 33,
    "_isFastLaunch": false,
    "category": "Accelerated computing",
    "gpuNum": 4,
    "hideHardwareSpecs": false,
    "memoryGiB": 192,
    "name": "ml.g4dn.12xlarge",
    "vcpuNum": 48
   },
   {
    "_defaultOrder": 34,
    "_isFastLaunch": false,
    "category": "Accelerated computing",
    "gpuNum": 1,
    "hideHardwareSpecs": false,
    "memoryGiB": 256,
    "name": "ml.g4dn.16xlarge",
    "vcpuNum": 64
   },
   {
    "_defaultOrder": 35,
    "_isFastLaunch": false,
    "category": "Accelerated computing",
    "gpuNum": 1,
    "hideHardwareSpecs": false,
    "memoryGiB": 61,
    "name": "ml.p3.2xlarge",
    "vcpuNum": 8
   },
   {
    "_defaultOrder": 36,
    "_isFastLaunch": false,
    "category": "Accelerated computing",
    "gpuNum": 4,
    "hideHardwareSpecs": false,
    "memoryGiB": 244,
    "name": "ml.p3.8xlarge",
    "vcpuNum": 32
   },
   {
    "_defaultOrder": 37,
    "_isFastLaunch": false,
    "category": "Accelerated computing",
    "gpuNum": 8,
    "hideHardwareSpecs": false,
    "memoryGiB": 488,
    "name": "ml.p3.16xlarge",
    "vcpuNum": 64
   },
   {
    "_defaultOrder": 38,
    "_isFastLaunch": false,
    "category": "Accelerated computing",
    "gpuNum": 8,
    "hideHardwareSpecs": false,
    "memoryGiB": 768,
    "name": "ml.p3dn.24xlarge",
    "vcpuNum": 96
   },
   {
    "_defaultOrder": 39,
    "_isFastLaunch": false,
    "category": "Memory Optimized",
    "gpuNum": 0,
    "hideHardwareSpecs": false,
    "memoryGiB": 16,
    "name": "ml.r5.large",
    "vcpuNum": 2
   },
   {
    "_defaultOrder": 40,
    "_isFastLaunch": false,
    "category": "Memory Optimized",
    "gpuNum": 0,
    "hideHardwareSpecs": false,
    "memoryGiB": 32,
    "name": "ml.r5.xlarge",
    "vcpuNum": 4
   },
   {
    "_defaultOrder": 41,
    "_isFastLaunch": false,
    "category": "Memory Optimized",
    "gpuNum": 0,
    "hideHardwareSpecs": false,
    "memoryGiB": 64,
    "name": "ml.r5.2xlarge",
    "vcpuNum": 8
   },
   {
    "_defaultOrder": 42,
    "_isFastLaunch": false,
    "category": "Memory Optimized",
    "gpuNum": 0,
    "hideHardwareSpecs": false,
    "memoryGiB": 128,
    "name": "ml.r5.4xlarge",
    "vcpuNum": 16
   },
   {
    "_defaultOrder": 43,
    "_isFastLaunch": false,
    "category": "Memory Optimized",
    "gpuNum": 0,
    "hideHardwareSpecs": false,
    "memoryGiB": 256,
    "name": "ml.r5.8xlarge",
    "vcpuNum": 32
   },
   {
    "_defaultOrder": 44,
    "_isFastLaunch": false,
    "category": "Memory Optimized",
    "gpuNum": 0,
    "hideHardwareSpecs": false,
    "memoryGiB": 384,
    "name": "ml.r5.12xlarge",
    "vcpuNum": 48
   },
   {
    "_defaultOrder": 45,
    "_isFastLaunch": false,
    "category": "Memory Optimized",
    "gpuNum": 0,
    "hideHardwareSpecs": false,
    "memoryGiB": 512,
    "name": "ml.r5.16xlarge",
    "vcpuNum": 64
   },
   {
    "_defaultOrder": 46,
    "_isFastLaunch": false,
    "category": "Memory Optimized",
    "gpuNum": 0,
    "hideHardwareSpecs": false,
    "memoryGiB": 768,
    "name": "ml.r5.24xlarge",
    "vcpuNum": 96
   },
   {
    "_defaultOrder": 47,
    "_isFastLaunch": false,
    "category": "Accelerated computing",
    "gpuNum": 1,
    "hideHardwareSpecs": false,
    "memoryGiB": 16,
    "name": "ml.g5.xlarge",
    "vcpuNum": 4
   },
   {
    "_defaultOrder": 48,
    "_isFastLaunch": false,
    "category": "Accelerated computing",
    "gpuNum": 1,
    "hideHardwareSpecs": false,
    "memoryGiB": 32,
    "name": "ml.g5.2xlarge",
    "vcpuNum": 8
   },
   {
    "_defaultOrder": 49,
    "_isFastLaunch": false,
    "category": "Accelerated computing",
    "gpuNum": 1,
    "hideHardwareSpecs": false,
    "memoryGiB": 64,
    "name": "ml.g5.4xlarge",
    "vcpuNum": 16
   },
   {
    "_defaultOrder": 50,
    "_isFastLaunch": false,
    "category": "Accelerated computing",
    "gpuNum": 1,
    "hideHardwareSpecs": false,
    "memoryGiB": 128,
    "name": "ml.g5.8xlarge",
    "vcpuNum": 32
   },
   {
    "_defaultOrder": 51,
    "_isFastLaunch": false,
    "category": "Accelerated computing",
    "gpuNum": 1,
    "hideHardwareSpecs": false,
    "memoryGiB": 256,
    "name": "ml.g5.16xlarge",
    "vcpuNum": 64
   },
   {
    "_defaultOrder": 52,
    "_isFastLaunch": false,
    "category": "Accelerated computing",
    "gpuNum": 4,
    "hideHardwareSpecs": false,
    "memoryGiB": 192,
    "name": "ml.g5.12xlarge",
    "vcpuNum": 48
   },
   {
    "_defaultOrder": 53,
    "_isFastLaunch": false,
    "category": "Accelerated computing",
    "gpuNum": 4,
    "hideHardwareSpecs": false,
    "memoryGiB": 384,
    "name": "ml.g5.24xlarge",
    "vcpuNum": 96
   },
   {
    "_defaultOrder": 54,
    "_isFastLaunch": false,
    "category": "Accelerated computing",
    "gpuNum": 8,
    "hideHardwareSpecs": false,
    "memoryGiB": 768,
    "name": "ml.g5.48xlarge",
    "vcpuNum": 192
   },
   {
    "_defaultOrder": 55,
    "_isFastLaunch": false,
    "category": "Accelerated computing",
    "gpuNum": 8,
    "hideHardwareSpecs": false,
    "memoryGiB": 1152,
    "name": "ml.p4d.24xlarge",
    "vcpuNum": 96
   },
   {
    "_defaultOrder": 56,
    "_isFastLaunch": false,
    "category": "Accelerated computing",
    "gpuNum": 8,
    "hideHardwareSpecs": false,
    "memoryGiB": 1152,
    "name": "ml.p4de.24xlarge",
    "vcpuNum": 96
   }
  ],
  "instance_type": "ml.t3.medium",
  "kernelspec": {
   "display_name": "conda_python3",
   "language": "python",
   "name": "conda_python3"
  },
  "language_info": {
   "codemirror_mode": {
    "name": "ipython",
    "version": 3
   },
   "file_extension": ".py",
   "mimetype": "text/x-python",
   "name": "python",
   "nbconvert_exporter": "python",
   "pygments_lexer": "ipython3",
   "version": "3.10.12"
  }
 },
 "nbformat": 4,
 "nbformat_minor": 4
}
