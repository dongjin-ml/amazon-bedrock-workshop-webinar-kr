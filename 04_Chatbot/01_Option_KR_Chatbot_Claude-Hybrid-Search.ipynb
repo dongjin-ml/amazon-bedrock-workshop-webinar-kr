{
 "cells": [
  {
   "cell_type": "markdown",
   "metadata": {},
   "source": [
    "# 한글-Claude-v2 Model: Conversational Interface - Chatbot with Claude LLM\n",
    "\n",
    "> 이 노트북은 SageMaker Studio의 **`Data Science 3.0`** 커널과 잘 작동합니다.\n",
    "\n",
    "> **SageMaker Notebook Instance** 를 이용해 실습을 진행하신다면, **JupyterLab이 아닌 Jupyter**에서 실행하시기 바랍니다.\n",
    "\n",
    "이 노트북에서는 Amazon Bedrock의 기본 모델 (FM) 을 사용하여 챗봇을 구축할 것입니다.사용 사례에서는 Claude를 챗봇 구축을 위한 FM으로 사용합니다.\n",
    "\n",
    "---\n",
    "### 중요\n",
    "- 이 노트북은 Anthropic 의 Claude-v2 모델 접근 가능한 분만 실행 가능합니다. \n",
    "- 접근이 안되시는 분은 노트북의 코드와 결과 만을 확인 하시면 좋겠습니다.\n",
    "- 만일 실행시에는 **\"과금\"** 이 발생이 되는 부분 유념 해주시기 바랍니다."
   ]
  },
  {
   "cell_type": "markdown",
   "metadata": {},
   "source": [
    "## 개요\n",
    "\n",
    "챗봇 및 가상 어시스턴트와 같은 대화형 인터페이스를 사용하여 고객의 사용자 경험을 향상시킬 수 있습니다. 챗봇은 자연어 처리 (NLP) 및 기계 학습 알고리즘을 사용하여 사용자 쿼리를 이해하고 이에 응답합니다.챗봇은 고객 서비스, 판매, 전자 상거래와 같은 다양한 애플리케이션에서 사용되어 사용자에게 빠르고 효율적인 응답을 제공할 수 있습니다.웹사이트, 소셜 미디어 플랫폼 및 메시징 앱과 같은 다양한 채널을 통해 액세스할 수 있습니다.\n",
    "\n",
    "\n",
    "## Amazon Bedrock을 사용하는 챗봇\n",
    "\n",
    "![Amazon Bedrock - Conversational Interface](./images/chatbot_bedrock.png)\n",
    "\n",
    "\n",
    "## 사용 사례\n",
    "- 1.**챗봇 (기본)** - FM 모델을 사용하는 제로샷 챗봇\n",
    "- 2.**프롬프트를 사용하는 챗봇** - 템플릿 (Langchain) - 프롬프트 템플릿에 일부 컨텍스트가 제공된 챗봇\n",
    "- 3.**페르소나가 있는 챗봇** - 정의된 역할을 가진 챗봇. 즉, 커리어 코치와 인간 상호작용\n",
    "- 4.**컨텍스트 인식 챗봇** - 임베딩을 생성하여 외부 파일을 통해 컨텍스트를 전달합니다.\n",
    "\n",
    "## Amazon Bedrock으로 챗봇을 구축하기 위한 랭체인 프레임워크\n",
    "챗봇과 같은 대화형 인터페이스에서는 단기적 수준뿐만 아니라 장기적 수준에서도 이전 상호 작용을 기억하는 것이 매우 중요합니다.\n",
    "\n",
    "LangChain은 메모리 구성 요소를 두 가지 형태로 제공합니다.먼저 LangChain은 이전 채팅 메시지를 관리하고 조작하기 위한 도우미 유틸리티를 제공합니다.모듈식으로 설계되어 사용 방식에 관계없이 유용하게 사용할 수 있습니다.둘째, LangChain은 이러한 유틸리티를 체인에 통합하는 쉬운 방법을 제공합니다.\n",
    "이를 통해 다양한 유형의 추상화를 쉽게 정의하고 상호 작용할 수 있으므로 강력한 챗봇을 쉽게 구축할 수 있습니다.\n",
    "\n",
    "## 컨텍스트를 활용한 챗봇 구축하기 - 핵심 요소\n",
    "\n",
    "컨텍스트 인식 챗봇을 구축하는 첫 번째 프로세스는 컨텍스트에 대한**임베딩을 생성**하는 것입니다.일반적으로 임베딩 모델을 통해 실행되고 일종의 벡터 저장소에 저장될 임베딩을 생성하는 통합 프로세스가 있습니다.이 예제에서는 이를 위해 Amazon Titan 임베딩 모델을 사용하고 있습니다.\n",
    "\n",
    "![Embeddings](./images/embeddings_lang.png)\n",
    "\n",
    "두 번째 프로세스는 사용자 요청 오케스트레이션, 상호 작용, 호출 및 결과 반환입니다.\n",
    "\n",
    "![Chatbot](./images/chatbot_lang.png)\n",
    "\n",
    "## 아키텍처 [컨텍스트 인식 챗봇]\n",
    "![4](./images/context-aware-chatbot.png)\n"
   ]
  },
  {
   "cell_type": "markdown",
   "metadata": {},
   "source": [
    "### 설정\n",
    "\n",
    "이 노트북의 나머지 부분을 실행하기 전에 아래 셀을 실행하여 (필요한 라이브러리가 설치되어 있는지 확인하고) Bedrock에 연결해야 합니다.\n"
   ]
  },
  {
   "cell_type": "markdown",
   "metadata": {},
   "source": [
    "이 노트북에는 몇 가지 추가 종속성도 필요합니다.\n",
    "\n",
    "- [FAISS](https://github.com/facebookresearch/faiss), 벡터 임베딩 저장용\n",
    "- [iPyWidgets](https://ipywidgets.readthedocs.io/en/stable/), 노트북의 대화형 UI 위젯용\n",
    "- [PyPDF](https://pypi.org/project/pypdf/), PDF 파일 처리용"
   ]
  },
  {
   "cell_type": "code",
   "execution_count": 1,
   "metadata": {
    "tags": []
   },
   "outputs": [],
   "source": [
    "%load_ext autoreload\n",
    "%autoreload 2\n",
    "\n",
    "import sys, os\n",
    "module_path = \"..\"\n",
    "sys.path.append(os.path.abspath(module_path))"
   ]
  },
  {
   "cell_type": "code",
   "execution_count": 2,
   "metadata": {
    "tags": []
   },
   "outputs": [],
   "source": [
    "#%pip install --quiet \"faiss-cpu>=1.7,<2\" \"ipywidgets>=7,<8\" langchain==0.0.249 \"pypdf>=3.8,<4\""
   ]
  },
  {
   "cell_type": "markdown",
   "metadata": {
    "tags": []
   },
   "source": [
    "# 1. Bedrock Client 생성"
   ]
  },
  {
   "cell_type": "code",
   "execution_count": 3,
   "metadata": {
    "tags": []
   },
   "outputs": [
    {
     "name": "stdout",
     "output_type": "stream",
     "text": [
      "Create new client\n",
      "  Using region: None\n",
      "  Using profile: None\n",
      "boto3 Bedrock client successfully created!\n",
      "bedrock-runtime(https://bedrock-runtime.us-east-1.amazonaws.com)\n",
      "\u001b[32m\n",
      "== FM lists ==\u001b[0m\n",
      "{'Claude-Instant-V1': 'anthropic.claude-instant-v1',\n",
      " 'Claude-V1': 'anthropic.claude-v1',\n",
      " 'Claude-V2': 'anthropic.claude-v2',\n",
      " 'Command': 'cohere.command-text-v14',\n",
      " 'Jurassic-2-Mid': 'ai21.j2-mid-v1',\n",
      " 'Jurassic-2-Ultra': 'ai21.j2-ultra-v1',\n",
      " 'Titan-Embeddings-G1': 'amazon.titan-embed-text-v1',\n",
      " 'Titan-Text-G1': 'TBD'}\n"
     ]
    }
   ],
   "source": [
    "import json\n",
    "import boto3\n",
    "from pprint import pprint\n",
    "from termcolor import colored\n",
    "from utils import bedrock, print_ww\n",
    "from utils.bedrock import bedrock_info\n",
    "\n",
    "# ---- ⚠️ Un-comment and edit the below lines as needed for your AWS setup ⚠️ ----\n",
    "\n",
    "# os.environ[\"AWS_DEFAULT_REGION\"] = \"<REGION_NAME>\"  # E.g. \"us-east-1\"\n",
    "# os.environ[\"AWS_PROFILE\"] = \"<YOUR_PROFILE>\"\n",
    "# os.environ[\"BEDROCK_ASSUME_ROLE\"] = \"<YOUR_ROLE_ARN>\"  # E.g. \"arn:aws:...\"\n",
    "# os.environ[\"BEDROCK_ENDPOINT_URL\"] = \"<YOUR_ENDPOINT_URL>\"  # E.g. \"https://...\"\n",
    "\n",
    "\n",
    "boto3_bedrock = bedrock.get_bedrock_client(\n",
    "    assumed_role=os.environ.get(\"BEDROCK_ASSUME_ROLE\", None),\n",
    "    endpoint_url=os.environ.get(\"BEDROCK_ENDPOINT_URL\", None),\n",
    "    region=os.environ.get(\"AWS_DEFAULT_REGION\", None),\n",
    ")\n",
    "\n",
    "print (colored(\"\\n== FM lists ==\", \"green\"))\n",
    "pprint (bedrock_info.get_list_fm_models())"
   ]
  },
  {
   "cell_type": "markdown",
   "metadata": {
    "tags": []
   },
   "source": [
    "# 2. 챗봇(기본 - 컨텍스트 없음)\n",
    "\n",
    "우리는 LangChain의 [CoversationChain](https://python.langchain.com/en/latest/modules/models/llms/integrations/bedrock.html?highlight=ConversationChain#using-in-a-conversation-chain)을 사용하여 시작합니다. 대화. 또한 메시지 저장을 위해 [ConversationBufferMemory](https://python.langchain.com/en/latest/modules/memory/types/buffer.html)를 사용합니다. 메시지 목록으로 기록을 얻을 수도 있습니다(채팅 모델에서 매우 유용합니다).\n",
    "\n",
    "챗봇은 이전 상호작용을 기억해야 합니다. 대화 기억을 통해 우리는 그렇게 할 수 있습니다. 대화형 메모리를 구현하는 방법에는 여러 가지가 있습니다. LangChain의 맥락에서 이들은 모두 ConversationChain 위에 구축됩니다.\n",
    "\n",
    "**참고:** 모델 출력은 비결정적입니다."
   ]
  },
  {
   "cell_type": "code",
   "execution_count": 4,
   "metadata": {
    "tags": []
   },
   "outputs": [],
   "source": [
    "from utils.chat import chat_utils\n",
    "from langchain.llms.bedrock import Bedrock\n",
    "from langchain.chains import ConversationChain"
   ]
  },
  {
   "cell_type": "code",
   "execution_count": 5,
   "metadata": {
    "tags": []
   },
   "outputs": [],
   "source": [
    "# - create the Anthropic Model\n",
    "llm_text = Bedrock(\n",
    "    model_id=bedrock_info.get_model_id(model_name=\"Claude-V2\"),\n",
    "    client=boto3_bedrock,\n",
    "    model_kwargs={\n",
    "        \"max_tokens_to_sample\": 512,\n",
    "        \"temperature\": 0,\n",
    "        \"top_k\": 250,\n",
    "        \"top_p\": 0.999,\n",
    "        \"stop_sequences\": [\"\\n\\nHuman:\"]\n",
    "    }\n",
    ")"
   ]
  },
  {
   "cell_type": "markdown",
   "metadata": {},
   "source": [
    "## Conversation momory\n",
    "* **[ConversationBufferMemory](https://python.langchain.com/docs/modules/memory/types/buffer)**\n",
    "    - This memory allows for storing messages and then extracts the messages in a variable.\n",
    "* **[ConversationBufferWindowMemory](https://python.langchain.com/docs/modules/memory/types/buffer_window)**\n",
    "    - It keeps a list of the interactions of the conversation over time.\n",
    "    - It only uses the last K interactions.\n",
    "    - This can be useful for keeping a sliding window of the most recent interactions, so the buffer does not get too large.\n",
    "* **[ConversationSummaryBufferMemory](https://python.langchain.com/docs/modules/memory/types/summary_buffer)**\n",
    "    - It maintains a summary of previous messages.\n",
    "    - It combines the two ideas.\n",
    "    - It keeps a buffer of recent interactions in memory, but rather than just completely flushing old interactions it compiles them into a summary and uses both. \n",
    "    - It uses token length rather than number of interactions to determine when to flush interactions."
   ]
  },
  {
   "cell_type": "code",
   "execution_count": 6,
   "metadata": {
    "tags": []
   },
   "outputs": [
    {
     "name": "stdout",
     "output_type": "stream",
     "text": [
      "memory=ConversationBufferMemory(return_messages=True) verbose=True llm=Bedrock(client=<botocore.client.BedrockRuntime object at 0x7f3105a83ac0>, model_id='anthropic.claude-v2', model_kwargs={'max_tokens_to_sample': 512, 'temperature': 1, 'top_k': 250, 'top_p': 0.999, 'stop_sequences': ['\\n\\nHuman:']})\n"
     ]
    }
   ],
   "source": [
    "memory = chat_utils.get_memory(\n",
    "    memory_type=\"ConversationBufferMemory\",\n",
    "    memory_key=\"history\"\n",
    ")\n",
    "\n",
    "conversation = ConversationChain(\n",
    "    llm=llm_text,\n",
    "    verbose=True,\n",
    "    memory=memory\n",
    ")\n",
    "print(conversation)"
   ]
  },
  {
   "cell_type": "code",
   "execution_count": 7,
   "metadata": {
    "tags": []
   },
   "outputs": [
    {
     "name": "stdout",
     "output_type": "stream",
     "text": [
      "\n",
      "\n",
      "\u001b[1m> Entering new ConversationChain chain...\u001b[0m\n",
      "Prompt after formatting:\n",
      "\u001b[32;1m\u001b[1;3mThe following is a friendly conversation between a human and an AI. The AI is talkative and provides lots of specific details from its context. If the AI does not know the answer to a question, it truthfully says it does not know.\n",
      "\n",
      "Current conversation:\n",
      "[]\n",
      "Human: 안녕하세요?\n",
      "AI:\u001b[0m\n",
      "\n",
      "\u001b[1m> Finished chain.\u001b[0m\n",
      " 안녕하세요! 만나서 반갑습니다.\n"
     ]
    }
   ],
   "source": [
    "print_ww(conversation.predict(input=\"안녕하세요?\"))"
   ]
  },
  {
   "cell_type": "markdown",
   "metadata": {},
   "source": [
    "### 결과 분석"
   ]
  },
  {
   "cell_type": "markdown",
   "metadata": {},
   "source": [
    "여기서 무슨 일이 일어나는가? 우리는 \"안녕하세요!\"라고 말했습니다. 모델은 몇 가지 대화를 나눴습니다. 이는 Langchain ConversationChain에서 사용하는 기본 프롬프트가 Claude에 맞게 잘 설계되지 않았기 때문입니다. \n",
    "- [효과적인 클로드 프롬프트](https://docs.anthropic.com/claude/docs/introduction-to-prompt-design)는 `\\n\\nHuman\\n\\nAassistant:`로 끝나야 합니다. 이 문제를 해결해 보겠습니다.\n",
    "\n",
    "Claude의 프롬프트 작성 방법에 대해 자세히 알아보려면 [Anthropic 문서](https://docs.anthropic.com/claude/docs/introduction-to-prompt-design)를 확인하세요."
   ]
  },
  {
   "cell_type": "markdown",
   "metadata": {},
   "source": [
    "# 3. 프롬프트 템플릿(Langchain)을 이용한 챗봇"
   ]
  },
  {
   "cell_type": "markdown",
   "metadata": {},
   "source": [
    "LangChain은 프롬프트를 쉽게 구성하고 작업할 수 있도록 여러 클래스와 기능을 제공합니다. [PromptTemplate](https://python.langchain.com/en/latest/modules/prompts/getting_started.html) 클래스를 사용하여 f-string 템플릿에서 프롬프트를 구성하겠습니다."
   ]
  },
  {
   "cell_type": "markdown",
   "metadata": {
    "tags": []
   },
   "source": [
    "**[TIP] Prompt의 instruction의 경우 한글보다 **영어**로 했을 때 더 좋은 결과를 얻을 수 있습니다.**"
   ]
  },
  {
   "cell_type": "code",
   "execution_count": 8,
   "metadata": {
    "tags": []
   },
   "outputs": [],
   "source": [
    "from langchain import PromptTemplate"
   ]
  },
  {
   "cell_type": "code",
   "execution_count": 9,
   "metadata": {
    "tags": []
   },
   "outputs": [
    {
     "name": "stdout",
     "output_type": "stream",
     "text": [
      "claude_prompt: \n",
      " input_variables=['history', 'input'] template=\"\\n        \\n\\nHuman: Here's a friendly conversation between a user and an AI.\\n        The AI is talkative and provides lots of contextualized details.\\n        If it doesn't know, it will honestly say that it doesn't know the answer to the question.\\n\\n        Current conversation:\\n        {history}\\n\\n        \\n\\nUser: {input}\\n\\n        \\n\\nAssistant:\\n        \"\n"
     ]
    }
   ],
   "source": [
    "# turn verbose to true to see the full logs and documents\n",
    "conversation = ConversationChain(\n",
    "    llm=llm_text,\n",
    "    verbose=False,\n",
    "    memory=memory\n",
    ")\n",
    "\n",
    "claude_prompt = PromptTemplate(\n",
    "        input_variables=[\"history\", 'input'],\n",
    "        template=\"\"\"\n",
    "        \\n\\nHuman: Here's a friendly conversation between a user and an AI.\n",
    "        The AI is talkative and provides lots of contextualized details.\n",
    "        If it doesn't know, it will honestly say that it doesn't know the answer to the question.\n",
    "\n",
    "        Current conversation:\n",
    "        {history}\n",
    "\n",
    "        \\n\\nUser: {input}\n",
    "\n",
    "        \\n\\nAssistant:\n",
    "        \"\"\"\n",
    ")\n",
    "\n",
    "print(\"claude_prompt: \\n\", claude_prompt)"
   ]
  },
  {
   "cell_type": "code",
   "execution_count": 10,
   "metadata": {
    "tags": []
   },
   "outputs": [
    {
     "name": "stdout",
     "output_type": "stream",
     "text": [
      " 안녕하세요! 만나서 반갑습니다.\n",
      "\n",
      "아직은 제가 모르는 말이 많습니다만, 최선을 다해 대화를 이어가 보겠습니다. 질문 있으시면 언제든지 편하게 물어보세요. 저는 친절하고 정중하게 대답드리기 위해 노력하겠습니다.\n",
      "\n",
      "제가 모르는 부분이 있다면 솔직히 말씀드리고, 가능하다면 추가 정보를 제공해 드리겠습니다. 모르는 답변이 있더라도 포기하지 않고 계속 배우며 성장하겠습니다.\n",
      "\n",
      "앞으로도 서로 친해질 수 있도록 최선을 다하겠습니다. 감사합니다!\n"
     ]
    }
   ],
   "source": [
    "conversation.prompt = claude_prompt\n",
    "print_ww(conversation.predict(input=\"안녕하세요?\"))"
   ]
  },
  {
   "cell_type": "markdown",
   "metadata": {},
   "source": [
    "#### (1) 새로운 질문\n",
    "\n",
    "모델이 초기 메시지로 응답했습니다. 몇 가지 질문을 해보겠습니다."
   ]
  },
  {
   "cell_type": "code",
   "execution_count": 11,
   "metadata": {
    "tags": []
   },
   "outputs": [
    {
     "name": "stdout",
     "output_type": "stream",
     "text": [
      " 네, 새로운 정원을 시작하는 몇 가지 팁을 알려드리겠습니다.\n",
      "\n",
      "우선 정원의 위치를 잘 고려하시기 바랍니다. 해가 잘 드는 곳이 좋습니다. 토질도 중요합니다. 토질 테스트를 통해 토질의 산도수준과 영양분을 확인하시기 바랍니다.\n",
      "\n",
      "다음으로는 어떤 종류의 식물을 키울지 정하시기 바랍니다. 기후와 토질, 관리 수준 등을 고려하셔야 합니다.\n",
      "\n",
      "모종이나 씨앗으로 식물을 시작하는 것이 좋습니다. 전문 정원센터에서 구매하시기 바랍니다.\n",
      "\n",
      "정기적으로 물을 주고, 제초 및 병충해 관리를 잘 하셔야 합니다.\n",
      "\n",
      "초기에는 식물들이 자랄 수 있는 여건을 마련하는 것이 중요합니다. 충분한 일교차와 햇빛, 배수 및 보습 관리가 필요합니다.\n",
      "\n",
      "이렇게 기본적인 내용들을 준비하고 꾸준히 관리하면 성공적인 정원을 가꿀 수 있습니다. 정성스럽게 가꾸다 보면 정원에서 즐거움을 찾으실 수 있을 것입니다.\n"
     ]
    }
   ],
   "source": [
    "print_ww(conversation.predict(input=\"새로운 정원을 시작하는 방법에 대한 몇 가지 팁을 알려주세요.\"))"
   ]
  },
  {
   "cell_type": "markdown",
   "metadata": {},
   "source": [
    "#### Check momory"
   ]
  },
  {
   "cell_type": "code",
   "execution_count": 12,
   "metadata": {
    "tags": []
   },
   "outputs": [
    {
     "name": "stdout",
     "output_type": "stream",
     "text": [
      "{'history': [HumanMessage(content='안녕하세요?'), AIMessage(content=' 안녕하세요! 만나서 반갑습니다. '),\n",
      "HumanMessage(content='안녕하세요?'), AIMessage(content=' 안녕하세요! 만나서 반갑습니다. \\n\\n아직은 제가 모르는 말이 많습니다만, 최선을\n",
      "다해 대화를 이어가 보겠습니다. 질문 있으시면 언제든지 편하게 물어보세요. 저는 친절하고 정중하게 대답드리기 위해 노력하겠습니다. \\n\\n제가 모르는 부분이 있다면 솔직히\n",
      "말씀드리고, 가능하다면 추가 정보를 제공해 드리겠습니다. 모르는 답변이 있더라도 포기하지 않고 계속 배우며 성장하겠습니다. \\n\\n앞으로도 서로 친해질 수 있도록 최선을\n",
      "다하겠습니다. 감사합니다!'), HumanMessage(content='새로운 정원을 시작하는 방법에 대한 몇 가지 팁을 알려주세요.'), AIMessage(content=' 네,\n",
      "새로운 정원을 시작하는 몇 가지 팁을 알려드리겠습니다.\\n\\n우선 정원의 위치를 잘 고려하시기 바랍니다. 해가 잘 드는 곳이 좋습니다. 토질도 중요합니다. 토질 테스트를 통해\n",
      "토질의 산도수준과 영양분을 확인하시기 바랍니다. \\n\\n다음으로는 어떤 종류의 식물을 키울지 정하시기 바랍니다. 기후와 토질, 관리 수준 등을 고려하셔야 합니다. \\n\\n모종이나\n",
      "씨앗으로 식물을 시작하는 것이 좋습니다. 전문 정원센터에서 구매하시기 바랍니다. \\n\\n정기적으로 물을 주고, 제초 및 병충해 관리를 잘 하셔야 합니다. \\n\\n초기에는 식물들이\n",
      "자랄 수 있는 여건을 마련하는 것이 중요합니다. 충분한 일교차와 햇빛, 배수 및 보습 관리가 필요합니다.\\n\\n이렇게 기본적인 내용들을 준비하고 꾸준히 관리하면 성공적인 정원을\n",
      "가꿀 수 있습니다. 정성스럽게 가꾸다 보면 정원에서 즐거움을 찾으실 수 있을 것입니다.')]}\n"
     ]
    }
   ],
   "source": [
    "print_ww(memory.load_memory_variables({}))"
   ]
  },
  {
   "cell_type": "markdown",
   "metadata": {},
   "source": [
    "#### (2) 질문을 토대로 작성\n",
    "\n",
    "모델이 이전 대화를 이해할 수 있는지 확인하기 위해 정원이라는 단어를 언급하지 않고 질문해 보겠습니다."
   ]
  },
  {
   "cell_type": "code",
   "execution_count": 13,
   "metadata": {
    "tags": []
   },
   "outputs": [
    {
     "name": "stdout",
     "output_type": "stream",
     "text": [
      " 네, 토마토에도 이 팁들이 어울립니다.\n",
      "\n",
      "토마토를 심을 때에도 좋은 환경을 만드는 것이 중요합니다.\n",
      "\n",
      "- 토마토는 일교차가 크고 햇볕이 잘 드는 곳을 선호합니다.\n",
      "\n",
      "- 토질은 수분 배출이 잘 되면서도 보습력이 좋은 점토질 소양토가 적당합니다.\n",
      "\n",
      "- 발육 초기에는 환기와 일조가 잘 되는 포트나 화분에서 키우다가 광합성이 활발해지는 6-8잎 기간에 정원에 심는 것이 좋습니다.\n",
      "\n",
      "- 정식 전에는 밑거름을 주고, 정식 후에는 주기적으로 관수와 퇴비를 공급합니다.\n",
      "\n",
      "- 올바른 간격으로 심어 밀식을 피합니다.\n",
      "\n",
      "- 지주대나 덩굴을 이용해 고열하지 않도록 합니다.\n",
      "\n",
      "- 병해충 방제를 철저히 합니다.\n",
      "\n",
      "토마토도 다른 작물과 마찬가지로 정성스러운 관리가 필요합니다. 위의 팁들을 잘 따르면 토마토도 풍성한 수확을 얻으실 수 있을 것입니다.\n"
     ]
    }
   ],
   "source": [
    "print_ww(conversation.predict(input=\"좋아요. 토마토에도 어울릴까요?\"))"
   ]
  },
  {
   "cell_type": "code",
   "execution_count": 14,
   "metadata": {
    "tags": []
   },
   "outputs": [
    {
     "name": "stdout",
     "output_type": "stream",
     "text": [
      "{'history': [HumanMessage(content='안녕하세요?'), AIMessage(content=' 안녕하세요! 만나서 반갑습니다. '),\n",
      "HumanMessage(content='안녕하세요?'), AIMessage(content=' 안녕하세요! 만나서 반갑습니다. \\n\\n아직은 제가 모르는 말이 많습니다만, 최선을\n",
      "다해 대화를 이어가 보겠습니다. 질문 있으시면 언제든지 편하게 물어보세요. 저는 친절하고 정중하게 대답드리기 위해 노력하겠습니다. \\n\\n제가 모르는 부분이 있다면 솔직히\n",
      "말씀드리고, 가능하다면 추가 정보를 제공해 드리겠습니다. 모르는 답변이 있더라도 포기하지 않고 계속 배우며 성장하겠습니다. \\n\\n앞으로도 서로 친해질 수 있도록 최선을\n",
      "다하겠습니다. 감사합니다!'), HumanMessage(content='새로운 정원을 시작하는 방법에 대한 몇 가지 팁을 알려주세요.'), AIMessage(content=' 네,\n",
      "새로운 정원을 시작하는 몇 가지 팁을 알려드리겠습니다.\\n\\n우선 정원의 위치를 잘 고려하시기 바랍니다. 해가 잘 드는 곳이 좋습니다. 토질도 중요합니다. 토질 테스트를 통해\n",
      "토질의 산도수준과 영양분을 확인하시기 바랍니다. \\n\\n다음으로는 어떤 종류의 식물을 키울지 정하시기 바랍니다. 기후와 토질, 관리 수준 등을 고려하셔야 합니다. \\n\\n모종이나\n",
      "씨앗으로 식물을 시작하는 것이 좋습니다. 전문 정원센터에서 구매하시기 바랍니다. \\n\\n정기적으로 물을 주고, 제초 및 병충해 관리를 잘 하셔야 합니다. \\n\\n초기에는 식물들이\n",
      "자랄 수 있는 여건을 마련하는 것이 중요합니다. 충분한 일교차와 햇빛, 배수 및 보습 관리가 필요합니다.\\n\\n이렇게 기본적인 내용들을 준비하고 꾸준히 관리하면 성공적인 정원을\n",
      "가꿀 수 있습니다. 정성스럽게 가꾸다 보면 정원에서 즐거움을 찾으실 수 있을 것입니다.'), HumanMessage(content='좋아요. 토마토에도 어울릴까요?'),\n",
      "AIMessage(content=' 네, 토마토에도 이 팁들이 어울립니다. \\n\\n토마토를 심을 때에도 좋은 환경을 만드는 것이 중요합니다.\\n\\n- 토마토는 일교차가 크고 햇볕이\n",
      "잘 드는 곳을 선호합니다. \\n\\n- 토질은 수분 배출이 잘 되면서도 보습력이 좋은 점토질 소양토가 적당합니다. \\n\\n- 발육 초기에는 환기와 일조가 잘 되는 포트나 화분에서\n",
      "키우다가 광합성이 활발해지는 6-8잎 기간에 정원에 심는 것이 좋습니다.\\n\\n- 정식 전에는 밑거름을 주고, 정식 후에는 주기적으로 관수와 퇴비를 공급합니다. \\n\\n- 올바른\n",
      "간격으로 심어 밀식을 피합니다.\\n\\n- 지주대나 덩굴을 이용해 고열하지 않도록 합니다.\\n\\n- 병해충 방제를 철저히 합니다.\\n\\n토마토도 다른 작물과 마찬가지로 정성스러운\n",
      "관리가 필요합니다. 위의 팁들을 잘 따르면 토마토도 풍성한 수확을 얻으실 수 있을 것입니다.')]}\n"
     ]
    }
   ],
   "source": [
    "print_ww (memory.load_memory_variables({}))"
   ]
  },
  {
   "cell_type": "markdown",
   "metadata": {},
   "source": [
    "#### (3) 대화를 마치며"
   ]
  },
  {
   "cell_type": "code",
   "execution_count": 15,
   "metadata": {
    "tags": []
   },
   "outputs": [
    {
     "name": "stdout",
     "output_type": "stream",
     "text": [
      " 네, 처음으로 정원 가꾸기를 시작하시는 분들을 위해 새로운 정원 만들기의 기본적인 팁과 토마토 키우기 팁을 간단히 알려드렸습니다.\n",
      "\n",
      "정원 가꾸기는 정성과 인내가 필요한 일이지만, 식물들이 자라가는 모습을 보며 얻을 수 있는 보람도 크다고 생각합니다.\n",
      "\n",
      "앞으로도 정원 가꾸기와 관련된 궁금한 점이 생기시면 언제든지 문의해주세요. 저도 함께 배우며 성장하겠습니다. 오늘 대화 나누어 줘서 고맙습니다!\n"
     ]
    }
   ],
   "source": [
    "print_ww(conversation.predict(input=\"그게 다야, 고마워!\"))"
   ]
  },
  {
   "cell_type": "markdown",
   "metadata": {},
   "source": [
    "# 4. ipywidgets를 사용한 대화형 세션\n",
    "\n",
    "다음 유틸리티 클래스를 사용하면 Claude와 보다 자연스러운 방식으로 상호 작용할 수 있습니다. 입력창에 질문을 적고 클로드의 답변을 받습니다. 그러면 대화를 계속할 수 있습니다."
   ]
  },
  {
   "cell_type": "code",
   "execution_count": 16,
   "metadata": {
    "tags": []
   },
   "outputs": [],
   "source": [
    "import ipywidgets as ipw\n",
    "from IPython.display import display, clear_output\n",
    "\n",
    "class ChatUX:\n",
    "    \"\"\" A chat UX using IPWidgets\n",
    "    \"\"\"\n",
    "    def __init__(self, qa, retrievalChain = False):\n",
    "        self.qa = qa\n",
    "        self.name = None\n",
    "        self.b=None\n",
    "        self.retrievalChain = retrievalChain\n",
    "        self.out = ipw.Output()\n",
    "\n",
    "\n",
    "    def start_chat(self):\n",
    "        print(\"Starting chat bot\")\n",
    "        display(self.out)\n",
    "        self.chat(None)\n",
    "\n",
    "\n",
    "    def chat(self, _):\n",
    "        if self.name is None:\n",
    "            prompt = \"\"\n",
    "        else: \n",
    "            prompt = self.name.value\n",
    "        if 'q' == prompt or 'quit' == prompt or 'Q' == prompt:\n",
    "            print(\"Thank you , that was a nice chat !!\")\n",
    "            return\n",
    "        elif len(prompt) > 0:\n",
    "            with self.out:\n",
    "                thinking = ipw.Label(value=\"Thinking...\")\n",
    "                display(thinking)\n",
    "                try:\n",
    "                    if self.retrievalChain:\n",
    "                        result = self.qa.run({'question': prompt })\n",
    "                    else:\n",
    "                        result = self.qa.run({'input': prompt }) #, 'history':chat_history})\n",
    "                except:\n",
    "                    result = \"No answer\"\n",
    "                thinking.value=\"\"\n",
    "                print_ww(f\"AI:{result}\")\n",
    "                self.name.disabled = True\n",
    "                self.b.disabled = True\n",
    "                self.name = None\n",
    "\n",
    "        if self.name is None:\n",
    "            with self.out:\n",
    "                self.name = ipw.Text(description=\"You:\", placeholder='q to quit')\n",
    "                self.b = ipw.Button(description=\"Send\")\n",
    "                self.b.on_click(self.chat)\n",
    "                display(ipw.Box(children=(self.name, self.b)))"
   ]
  },
  {
   "cell_type": "markdown",
   "metadata": {},
   "source": [
    "#### (1) 채팅을 시작해 보겠습니다. 다음 질문을 테스트할 수도 있습니다.\n",
    "\n",
    "1. 농담 하나 해줘\n",
    "2. 또 다른 농담을 들려주세요\n",
    "3. 첫 번째 농담은 무엇이었나요?\n",
    "4. 첫 번째 농담과 같은 주제로 또 다른 농담을 할 수 있나요?\n",
    "\n",
    "위의 4가지를 순서대로 아래에 입력하시고, \"Send\" 버튼을 눌러 보세요."
   ]
  },
  {
   "cell_type": "code",
   "execution_count": 17,
   "metadata": {
    "tags": []
   },
   "outputs": [
    {
     "name": "stdout",
     "output_type": "stream",
     "text": [
      "Starting chat bot\n"
     ]
    },
    {
     "data": {
      "application/vnd.jupyter.widget-view+json": {
       "model_id": "969bc68941694490970775628d745422",
       "version_major": 2,
       "version_minor": 0
      },
      "text/plain": [
       "Output()"
      ]
     },
     "metadata": {},
     "output_type": "display_data"
    }
   ],
   "source": [
    "chat = ChatUX(conversation)\n",
    "chat.start_chat()"
   ]
  },
  {
   "cell_type": "markdown",
   "metadata": {
    "tags": []
   },
   "source": [
    "# 5.페르소나를 활용한 챗봇"
   ]
  },
  {
   "cell_type": "markdown",
   "metadata": {},
   "source": [
    "AI 비서가 커리어 코치 역할을 하게 됩니다. \n",
    "- 역할극 대화에서는 채팅을 시작하기 전에 사용자 메시지를 설정해야 합니다. ConversationBufferMemory는 대화 상자를 미리 채우는 데 사용됩니다."
   ]
  },
  {
   "cell_type": "markdown",
   "metadata": {},
   "source": [
    "### (1) ConversationChain 생성 필요한 메모리 초기화, Bedrock Claude 설정"
   ]
  },
  {
   "cell_type": "code",
   "execution_count": 18,
   "metadata": {
    "tags": []
   },
   "outputs": [
    {
     "name": "stdout",
     "output_type": "stream",
     "text": [
      "memory=ConversationBufferMemory(chat_memory=ChatMessageHistory(messages=[HumanMessage(content='당신은 직업 코치로 활동하게 될 것입니다. 귀하의 목표는 사용자에게 직업 조언을 제공하는 것입니다'), AIMessage(content='나는 직업 코치이며 직업에 대한 조언을 제공합니다')]), return_messages=True) verbose=True llm=Bedrock(client=<botocore.client.BedrockRuntime object at 0x7f3105a83ac0>, model_id='anthropic.claude-v2', model_kwargs={'max_tokens_to_sample': 1000, 'temperature': 1, 'top_k': 250, 'top_p': 0.999, 'stop_sequences': ['\\n\\nHuman:']})\n",
      "claude_prompt: \n",
      " input_variables=['history', 'input'] template=\"\\n\\n\\nHuman: Here's a friendly conversation between a user and an AI.\\nThe AI is talkative and provides lots of contextualized details.\\nIf it doesn't know, it will honestly say that it doesn't know the answer to the question.\\n\\nCurrent conversation:\\n{history}\\n\\nUser: {input}\\n\\n\\n\\nAssistant:\\n\"\n"
     ]
    }
   ],
   "source": [
    "# llm\n",
    "llm_text = Bedrock(\n",
    "    model_id=bedrock_info.get_model_id(model_name=\"Claude-V2\"),\n",
    "    client=boto3_bedrock,\n",
    "    model_kwargs={\n",
    "        \"max_tokens_to_sample\": 1000,\n",
    "        \"temperature\": 1,\n",
    "        \"top_k\": 250,\n",
    "        \"top_p\": 0.999,\n",
    "        \"stop_sequences\": [\"\\n\\nHuman:\"]\n",
    "    }\n",
    ")\n",
    "\n",
    "# memory\n",
    "# store previous interactions using ConversationalBufferMemory and add custom prompts to the chat.\n",
    "memory = chat_utils.get_memory(\n",
    "    memory_type=\"ConversationBufferMemory\",\n",
    "    memory_key=\"history\"\n",
    ")\n",
    "\n",
    "memory.chat_memory.add_user_message(\"당신은 직업 코치로 활동하게 될 것입니다. 귀하의 목표는 사용자에게 직업 조언을 제공하는 것입니다\")\n",
    "memory.chat_memory.add_ai_message(\"나는 직업 코치이며 직업에 대한 조언을 제공합니다\")\n",
    "\n",
    "# conversation chain\n",
    "conversation = ConversationChain(\n",
    "    llm=llm_text,\n",
    "    verbose=True,\n",
    "    memory=memory\n",
    ")\n",
    "print(conversation)\n",
    "\n",
    "# langchain prompts do not always work with all the models. This prompt is tuned for Claude\n",
    "claude_prompt = PromptTemplate.from_template(\"\"\"\n",
    "\\n\\nHuman: Here's a friendly conversation between a user and an AI.\n",
    "The AI is talkative and provides lots of contextualized details.\n",
    "If it doesn't know, it will honestly say that it doesn't know the answer to the question.\n",
    "\n",
    "Current conversation:\n",
    "{history}\n",
    "\n",
    "User: {input}\n",
    "\n",
    "\\n\\nAssistant:\n",
    "\"\"\"\n",
    ")\n",
    "\n",
    "\n",
    "print(\"claude_prompt: \\n\", claude_prompt)\n",
    "conversation.prompt = claude_prompt"
   ]
  },
  {
   "cell_type": "markdown",
   "metadata": {},
   "source": [
    "### (2) 인공지능 관련 직업 질문"
   ]
  },
  {
   "cell_type": "code",
   "execution_count": 19,
   "metadata": {
    "tags": []
   },
   "outputs": [
    {
     "name": "stdout",
     "output_type": "stream",
     "text": [
      "\n",
      "\n",
      "\u001b[1m> Entering new ConversationChain chain...\u001b[0m\n",
      "Prompt after formatting:\n",
      "\u001b[32;1m\u001b[1;3m\n",
      "\n",
      "\n",
      "Human: Here's a friendly conversation between a user and an AI.\n",
      "The AI is talkative and provides lots of contextualized details.\n",
      "If it doesn't know, it will honestly say that it doesn't know the answer to the question.\n",
      "\n",
      "Current conversation:\n",
      "[HumanMessage(content='당신은 직업 코치로 활동하게 될 것입니다. 귀하의 목표는 사용자에게 직업 조언을 제공하는 것입니다'), AIMessage(content='나는 직업 코치이며 직업에 대한 조언을 제공합니다')]\n",
      "\n",
      "User: “인공지능에 관련된 직업은 어떤 것이 있습니까?\n",
      "\n",
      "\n",
      "\n",
      "Assistant:\n",
      "\u001b[0m\n",
      "\n",
      "\u001b[1m> Finished chain.\u001b[0m\n",
      " 네, 인공지능과 관련된 다양한 직업이 있습니다.\n",
      "\n",
      "- AI 연구원 - AI 알고리즘과 모델을 연구하고 개발합니다. 수학, 통계, 컴퓨터 공학 등의 배경 지식이 필요합니다.\n",
      "\n",
      "- 데이터 사이언티스트 - 대량의 데이터를 수집, 가공, 분석합니다. 머신러닝/딥러닝 모델 구축에 주로 활용됩니다.\n",
      "\n",
      "- MLOps 엔지니어 - 머신러닝 시스템을 운영 및 관리합니다. 생산환경으로의 배포, 모니터링 등을 수행합니다.\n",
      "\n",
      "- AI 엔지니어 - AI 제품/서비스를 설계, 개발, 테스트합니다. 소프트웨어 엔지니어링 기술이 필요합니다.\n",
      "\n",
      "- 로봇공학자 - AI를 구동하는 로봇 하드웨어와 임베디드 시스템을 설계합니다.\n",
      "\n",
      "- 비즈니스 애널리스트 - AI를 비즈니스에 적용할 방안을 찾습니다. 도메인 지식과 비즈니스 分析 능력이 필요합니다.\n",
      "\n",
      "이 외에도 UX 디자이너, 프로젝트 관리자, 법률가 등 다양한 AI 관련 직업이 있습니다. 관심분야와 직무에 따라 적합한 직업을 탐구해보시기 바랍니다.\n"
     ]
    }
   ],
   "source": [
    "# print_ww(conversation.predict(input=\"“AI의 직업 종류는 무엇입니까?\"))\n",
    "print_ww(conversation.predict(input=\"“인공지능에 관련된 직업은 어떤 것이 있습니까?\"))"
   ]
  },
  {
   "cell_type": "markdown",
   "metadata": {},
   "source": [
    "### (3) 인공지능 관련 직업데 대한 세부 질문"
   ]
  },
  {
   "cell_type": "code",
   "execution_count": 20,
   "metadata": {
    "tags": []
   },
   "outputs": [
    {
     "name": "stdout",
     "output_type": "stream",
     "text": [
      "\n",
      "\n",
      "\u001b[1m> Entering new ConversationChain chain...\u001b[0m\n",
      "Prompt after formatting:\n",
      "\u001b[32;1m\u001b[1;3m\n",
      "\n",
      "\n",
      "Human: Here's a friendly conversation between a user and an AI.\n",
      "The AI is talkative and provides lots of contextualized details.\n",
      "If it doesn't know, it will honestly say that it doesn't know the answer to the question.\n",
      "\n",
      "Current conversation:\n",
      "[HumanMessage(content='당신은 직업 코치로 활동하게 될 것입니다. 귀하의 목표는 사용자에게 직업 조언을 제공하는 것입니다'), AIMessage(content='나는 직업 코치이며 직업에 대한 조언을 제공합니다'), HumanMessage(content='“인공지능에 관련된 직업은 어떤 것이 있습니까?'), AIMessage(content=' 네, 인공지능과 관련된 다양한 직업이 있습니다. \\n\\n- AI 연구원 - AI 알고리즘과 모델을 연구하고 개발합니다. 수학, 통계, 컴퓨터 공학 등의 배경 지식이 필요합니다.\\n\\n- 데이터 사이언티스트 - 대량의 데이터를 수집, 가공, 분석합니다. 머신러닝/딥러닝 모델 구축에 주로 활용됩니다. \\n\\n- MLOps 엔지니어 - 머신러닝 시스템을 운영 및 관리합니다. 생산환경으로의 배포, 모니터링 등을 수행합니다.\\n\\n- AI 엔지니어 - AI 제품/서비스를 설계, 개발, 테스트합니다. 소프트웨어 엔지니어링 기술이 필요합니다.\\n\\n- 로봇공학자 - AI를 구동하는 로봇 하드웨어와 임베디드 시스템을 설계합니다. \\n\\n- 비즈니스 애널리스트 - AI를 비즈니스에 적용할 방안을 찾습니다. 도메인 지식과 비즈니스 分析 능력이 필요합니다.\\n\\n이 외에도 UX 디자이너, 프로젝트 관리자, 법률가 등 다양한 AI 관련 직업이 있습니다. 관심분야와 직무에 따라 적합한 직업을 탐구해보시기 바랍니다.')]\n",
      "\n",
      "User: 이 직업들은 실제로 무엇을 하는가요? 재미있나요?\n",
      "\n",
      "\n",
      "\n",
      "Assistant:\n",
      "\u001b[0m\n",
      "\n",
      "\u001b[1m> Finished chain.\u001b[0m\n",
      " 네, 인공지능 관련 직업들이 구체적으로 하는 일과 그 직업의 재미있는 점에 대해 설명드리겠습니다.\n",
      "\n",
      "AI 연구원은 새로운 알고리즘과 모델을 연구하고 개발하는 일이 재미있습니다. 수학과 논리를 사용해 문제를 해결하는 창의적 과정이 있습니다.\n",
      "\n",
      "데이터 사이언티스트는 대량의 데이터에서 인사이트를 찾아내는 탐험 과정이 재미있죠. 데이터의 패턴을 발견하고 이를 활용하는 것이 보람됩니다.\n",
      "\n",
      "MLOps 엔지니어는 AI 시스템을 안정적으로 운영하는 일이 도전적입니다. 새로운 기술을 실제 서비스에 적용하는 과정에 재미가 있습니다.\n",
      "\n",
      "AI 엔지니어는 다양한 AI 서비스와 제품을 직접 디자인하고 개발하는 창작 과정이 재미있습니다. 유저들이 만든 서비스를 사용하는 것을 보는 재미도 큽니다.\n",
      "\n",
      "로봇공학자는 로봇 하드웨어 설계 과정 자체가 재밌고, 로봇이 움직이는 것을 보는 재미도 있죠.\n",
      "\n",
      "이러한 AI 관련 직업들이 재미있는 이유는 기술과 창의력을 발휘할 수 있고, 실생활에 도움이 되는 일을 하기 때문입니다. 관심 있는 분야를 탐색해보시기 바랍니다.\n"
     ]
    }
   ],
   "source": [
    "print_ww(conversation.predict(input=\"이 직업들은 실제로 무엇을 하는가요? 재미있나요?\"))"
   ]
  },
  {
   "cell_type": "markdown",
   "metadata": {
    "tags": []
   },
   "source": [
    "#### Check memory"
   ]
  },
  {
   "cell_type": "code",
   "execution_count": 21,
   "metadata": {
    "tags": []
   },
   "outputs": [
    {
     "name": "stdout",
     "output_type": "stream",
     "text": [
      "{'history': [HumanMessage(content='당신은 직업 코치로 활동하게 될 것입니다. 귀하의 목표는 사용자에게 직업 조언을 제공하는 것입니다'),\n",
      "             AIMessage(content='나는 직업 코치이며 직업에 대한 조언을 제공합니다'),\n",
      "             HumanMessage(content='“인공지능에 관련된 직업은 어떤 것이 있습니까?'),\n",
      "             AIMessage(content=' 네, 인공지능과 관련된 다양한 직업이 있습니다. \\n\\n- AI 연구원 - AI 알고리즘과 모델을 연구하고 개발합니다. 수학, 통계, 컴퓨터 공학 등의 배경 지식이 필요합니다.\\n\\n- 데이터 사이언티스트 - 대량의 데이터를 수집, 가공, 분석합니다. 머신러닝/딥러닝 모델 구축에 주로 활용됩니다. \\n\\n- MLOps 엔지니어 - 머신러닝 시스템을 운영 및 관리합니다. 생산환경으로의 배포, 모니터링 등을 수행합니다.\\n\\n- AI 엔지니어 - AI 제품/서비스를 설계, 개발, 테스트합니다. 소프트웨어 엔지니어링 기술이 필요합니다.\\n\\n- 로봇공학자 - AI를 구동하는 로봇 하드웨어와 임베디드 시스템을 설계합니다. \\n\\n- 비즈니스 애널리스트 - AI를 비즈니스에 적용할 방안을 찾습니다. 도메인 지식과 비즈니스 分析 능력이 필요합니다.\\n\\n이 외에도 UX 디자이너, 프로젝트 관리자, 법률가 등 다양한 AI 관련 직업이 있습니다. 관심분야와 직무에 따라 적합한 직업을 탐구해보시기 바랍니다.'),\n",
      "             HumanMessage(content='이 직업들은 실제로 무엇을 하는가요? 재미있나요?'),\n",
      "             AIMessage(content=' 네, 인공지능 관련 직업들이 구체적으로 하는 일과 그 직업의 재미있는 점에 대해 설명드리겠습니다.\\n\\nAI 연구원은 새로운 알고리즘과 모델을 연구하고 개발하는 일이 재미있습니다. 수학과 논리를 사용해 문제를 해결하는 창의적 과정이 있습니다. \\n\\n데이터 사이언티스트는 대량의 데이터에서 인사이트를 찾아내는 탐험 과정이 재미있죠. 데이터의 패턴을 발견하고 이를 활용하는 것이 보람됩니다.\\n\\nMLOps 엔지니어는 AI 시스템을 안정적으로 운영하는 일이 도전적입니다. 새로운 기술을 실제 서비스에 적용하는 과정에 재미가 있습니다.\\n\\nAI 엔지니어는 다양한 AI 서비스와 제품을 직접 디자인하고 개발하는 창작 과정이 재미있습니다. 유저들이 만든 서비스를 사용하는 것을 보는 재미도 큽니다.\\n\\n로봇공학자는 로봇 하드웨어 설계 과정 자체가 재밌고, 로봇이 움직이는 것을 보는 재미도 있죠. \\n\\n이러한 AI 관련 직업들이 재미있는 이유는 기술과 창의력을 발휘할 수 있고, 실생활에 도움이 되는 일을 하기 때문입니다. 관심 있는 분야를 탐색해보시기 바랍니다.')]}\n"
     ]
    }
   ],
   "source": [
    "pprint(memory.load_memory_variables({}))"
   ]
  },
  {
   "cell_type": "markdown",
   "metadata": {},
   "source": [
    "# 6. 맥락을 가진 챗봇"
   ]
  },
  {
   "cell_type": "markdown",
   "metadata": {},
   "source": [
    "## 상황에 맞는 챗봇\n",
    "이 사용 사례에서는 Chatbot에게 이전에 본 적이 없는 외부 코퍼스의 질문에 답변하도록 요청합니다. 이를 위해 RAG(Retrieval Augmented Generation)라는 패턴을 적용합니다. 아이디어는 말뭉치를 덩어리로 인덱싱한 다음 덩어리와 질문 사이의 의미론적 유사성을 사용하여 말뭉치의 어느 섹션이 답변을 제공하는 데 관련될 수 있는지 찾는 것입니다. 마지막으로 가장 관련성이 높은 청크가 집계되어 기록을 제공하는 것과 유사하게 ConversationChain에 컨텍스트로 전달됩니다.\n",
    "\n",
    "**Titan Embeddings Model**을 사용하여 벡터를 생성하겠습니다. 그런 다음 이 벡터는 메모리 내 벡터 데이터 저장소를 제공하는 Amazon OpenSearch에 저장됩니다. 챗봇이 질문을 받으면 OpenSearch에 질문을 쿼리하고 의미상 가장 가까운 텍스트를 검색합니다. 이것이 우리의 대답이 될 것입니다."
   ]
  },
  {
   "cell_type": "markdown",
   "metadata": {},
   "source": [
    "## 6.1 2022년 아마존 주주 서한 문서로 구현 (PDF 문서)"
   ]
  },
  {
   "cell_type": "markdown",
   "metadata": {},
   "source": [
    "### Amazon Titan Embedding 모델 사용 \n",
    "- model_id=\"amazon.titan-embed-text-v1\"\n",
    "- 이 모델은 최대 8,192 Token 입력이 가능합니다."
   ]
  },
  {
   "cell_type": "code",
   "execution_count": 22,
   "metadata": {
    "tags": []
   },
   "outputs": [],
   "source": [
    "from langchain.embeddings import BedrockEmbeddings"
   ]
  },
  {
   "cell_type": "code",
   "execution_count": 23,
   "metadata": {
    "tags": []
   },
   "outputs": [],
   "source": [
    "bedrock_embeddings = BedrockEmbeddings(\n",
    "    client=boto3_bedrock,\n",
    "    model_id=bedrock_info.get_model_id(\n",
    "        model_name=\"Titan-Embeddings-G1\"\n",
    "    )\n",
    ")"
   ]
  },
  {
   "cell_type": "markdown",
   "metadata": {},
   "source": [
    "### PyPDFDirectoryLoader 를 통한 PDF 파일 로딩\n",
    "- chunk_size 는 임베딩 모델의 최대 입력 토큰 (8,192) 수를 고려하여 정해야 합니다."
   ]
  },
  {
   "cell_type": "code",
   "execution_count": 24,
   "metadata": {
    "tags": []
   },
   "outputs": [],
   "source": [
    "import numpy as np\n",
    "from langchain.text_splitter import CharacterTextSplitter, RecursiveCharacterTextSplitter, SpacyTextSplitter\n",
    "from langchain.document_loaders import PyPDFLoader, PyPDFDirectoryLoader\n",
    "from langchain.vectorstores import FAISS\n",
    "from langchain.indexes.vectorstore import VectorStoreIndexWrapper"
   ]
  },
  {
   "cell_type": "code",
   "execution_count": 25,
   "metadata": {
    "tags": []
   },
   "outputs": [],
   "source": [
    "loader = PyPDFDirectoryLoader(\"./rag_data_kr_pdf/\")"
   ]
  },
  {
   "cell_type": "markdown",
   "metadata": {},
   "source": [
    "* RecursiveCharacterTextSplitter: charater based splitter"
   ]
  },
  {
   "cell_type": "code",
   "execution_count": 38,
   "metadata": {
    "tags": []
   },
   "outputs": [],
   "source": [
    "documents = loader.load()\n",
    "# - in our testing Character split works better with this PDF data set\n",
    "text_splitter = RecursiveCharacterTextSplitter(\n",
    "    # Set a really small chunk size, just to show.\n",
    "    chunk_size=1024,\n",
    "    chunk_overlap=256,\n",
    "    # separators = ['\\n'],\n",
    "    # separators = ['\\n','\\n\\n']\n",
    ")\n",
    "docs = text_splitter.split_documents(documents)"
   ]
  },
  {
   "cell_type": "code",
   "execution_count": 39,
   "metadata": {
    "tags": []
   },
   "outputs": [
    {
     "data": {
      "text/plain": [
       "[Document(page_content='CEO로서 두 번째 연례 주주 서한을 작성하기 위해 자리에 앉았을 때 저는 Amazon의 앞날에 대해 낙관적이고 활력을 얻었습니다. 2022년은 최근 기억에 있어 어려운 거시경제적 해 중 하나이고 우리 자체의 운영상의 어려움에도 불구하고 우리는 여전히 수요를 늘릴 방법을 찾았습니다(팬데믹 전반기에 경험한 전례 없는 성장에 더해). 우리는 장단기적으로 고객 경험을 의미 있게 개선하기 위해 대규모 사업을 혁신했습니다. 그리고 고객, 주주 및 직원을 위해 Amazon의 미래를 바꿀 수 있다고 믿는 장기 투자를 계속 유지하면서 투자 결정과 앞으로 나아갈 방법에 중요한 조정을 했습니다.  작년에 이례적인 수의 동시 도전 과제가 있었지만 현실은 유능하고 자금이 충분한 경쟁자가 많은 크고 역동적인 글로벌 시장 부문에서 운영하는 경우(아마존이 모든 비즈니스를 운영하는 조건) 조건이 오랫동안 정체되어 있는 경우는 드뭅니다.  제가 Amazon에 근무한 25년 동안 끊임없는 변화가 있었고 그 중 대부분은 우리가 스스로 시작했습니다. 내가 1997년에 Amazon에 입사했을 때 우리는 1996년에 1,500만 달러의 매출을 올렸고, 도서 전용 소매업체였으며, 제3자 시장이 없었고, 미국 내 주소로만 배송되었습니다. 오늘날 Amazon은 단위 판매의 60%를 차지하고 전 세계 거의 모든 국가의 고객에게 도달하는 활기찬 타사 판매자 에코시스템을 통해 상상할 수 있는 거의 모든 물리적 및 디지털 소매 품목을 판매합니다. 마찬가지로 클라우드에서 일련의 기술 인프라 서비스를 중심으로 비즈니스를 구축하는 것은 AWS를 추구하기 시작한 2003년에는 분명하지 않았으며 2006년 첫 서비스를 출시했을 때도 마찬가지였습니다. 거의 모든 책을 60초 안에 손끝에서 볼 수 있습니다 2007년 Kindle을 출시했을 때 가벼운 디지털 리더에 저장하고 검색할 수 있다는 것은 아직 \"사물\"이 아니었고 Alexa(2014년 출시)와 같이 액세스하는 데 사용할 수 있는 음성 기반 개인 비서도 아니었습니다. 엔터테인먼트, 스마트 홈 제어, 쇼핑 및', metadata={'source': 'rag_data_kr_pdf/2022-Amazon-Stakeholder-Letter-KR.pdf', 'page': 0}),\n",
       " Document(page_content='비즈니스를 구축하는 것은 AWS를 추구하기 시작한 2003년에는 분명하지 않았으며 2006년 첫 서비스를 출시했을 때도 마찬가지였습니다. 거의 모든 책을 60초 안에 손끝에서 볼 수 있습니다 2007년 Kindle을 출시했을 때 가벼운 디지털 리더에 저장하고 검색할 수 있다는 것은 아직 \"사물\"이 아니었고 Alexa(2014년 출시)와 같이 액세스하는 데 사용할 수 있는 음성 기반 개인 비서도 아니었습니다. 엔터테인먼트, 스마트 홈 제어, 쇼핑 및 모든 종류의 정보 검색.  또한 거시 경제 상황이나 운영 비효율성으로 인해 우리에게 새로운 과제가 제시된 경우도 있었습니다. 예를 들어 2001년 닷컴 폭락 당시 우리는 연휴 기간 동안 재고를 구매하기 위해 신용장을 확보해야 했고 비즈니스의 더 나은 수익성을 제공하기 위해 비용을 합리화해야 했지만 여전히 우리가 노력하고 있던 장기적인 고객 경험과 비즈니스를 우선시했습니다. 빌드(기억한다면, 우리는 실제로 2001년 그 미미한 기간 동안 대부분의 범주에서 가격을 낮췄습니다). 2008-2009년에 모기지 담보 증권 금융 위기로 촉발된 경기 침체를 견디면서 이런 종류의 균형을 다시 보았습니다. 우리는 매장 비즈니스의 비용 구조와 효율성을 관리하기 위해 몇 가지 조치를 취했지만, 주주에게 강력한 수익을 제공하는 실질적인 미래 비즈니스가 될 수 있다고 생각하는 고객 경험에 대한 투자와 이러한 합리화의 균형을 맞췄습니다. 2008년에 AWS는 여전히 상당히 작고 신생 기업이었습니다. 우리는 우리가 무언가를 하고 있다는 것을 알고 있었지만', metadata={'source': 'rag_data_kr_pdf/2022-Amazon-Stakeholder-Letter-KR.pdf', 'page': 0}),\n",
       " Document(page_content='여전히 상당한 자본 투자가 필요했습니다. 회사 안팎에서는 아마존(당시 주로 온라인 소매업체로 알려짐)이 클라우드 컴퓨팅에 많은 투자를 하는 이유에 대해 의문을 제기하는 목소리가 있었습니다. 그러나 우리는 미래에 고객과 아마존을 위해 많은 가치를 창출할 수 있는 특별한 것을 발명하고 있다는 것을 알고 있었습니다. 우리는 잠재적 경쟁자보다 먼저 출발했습니다. 무엇보다 우리는 혁신 속도를 가속화하고 싶었습니다. 우리는 AWS에 계속 투자하기로 장기적인 결정을 내렸습니다. 15년 후 AWS는 이제 신생 기업에서 다국적 기업, 공공 부문 조직에 이르기까지 고객이 기술 인프라를 관리하는 방식을 변화시킨 강력한 수익성을 갖춘 연간 매출 850억 달러 규모의 기업이 되었습니다. 2008-2009년 기간 동안 AWS에 대한 투자를 늦추었다면 Amazon은 다른 회사가 되었을 것입니다.  변화는 항상 가까이에 있습니다. 때로는 적극적으로 초대하고 때로는 그냥 노크합니다. 그러나 그것이 오는 것을 보았을 때, 그것을 받아들여야 합니다. 그리고 장기간에 걸쳐 이를 잘 수행하는 회사는 일반적으로 성공합니다. 나는 우리 팀이 우리 앞에 보이는 변화에 대응하는 방식이 마음에 들기 때문에 우리의 미래 전망에 대해 낙관적입니다.  지난 몇 달 동안 우리는 회사 전체를 비즈니스별로, 발명별로 자세히 살펴보고 각 이니셔티브의 장기적인 잠재력에 대해 충분한 수익, 운영 수입, 무료 현금 흐름, 투자 자본 수익률. 경우에 따라 특정 비즈니스를 폐쇄하게 되었습니다. 예를 들어 우리는 서점 및 4스타 매장과 같은 물리적 매장 개념 추구를 중단하고 Amazon Fabric 및 Amazon Care 노력을 중단했으며 의미 있는 수익을 얻을 수 있는 경로가 보이지 않는 일부 최신 장치에서 전환했습니다. 다른 경우에는 우리가 기대했던 수익을 내지 못하는 일부 프로그램(예: $35 이상의 모든 온라인 식료품 주문에 대한 무료 배송)을 살펴보고 수정했습니다. 우리는 또한 리소스를 어디에 사용할지 우선 순위를 재지정했고, 결국 27,000개의 회사 역할을', metadata={'source': 'rag_data_kr_pdf/2022-Amazon-Stakeholder-Letter-KR.pdf', 'page': 1})]"
      ]
     },
     "execution_count": 39,
     "metadata": {},
     "output_type": "execute_result"
    }
   ],
   "source": [
    "docs[:3]"
   ]
  },
  {
   "cell_type": "markdown",
   "metadata": {
    "tags": []
   },
   "source": [
    "* SpacyTextSplitter: sentence based splitter"
   ]
  },
  {
   "cell_type": "code",
   "execution_count": 59,
   "metadata": {
    "tags": []
   },
   "outputs": [],
   "source": [
    "documents = loader.load()\n",
    "text_splitter = SpacyTextSplitter(\n",
    "    chunk_size=1024,\n",
    "    chunk_overlap=256,\n",
    "    separator=\"\", # seperator to be inserted between sentences \n",
    "    pipeline=\"ko_core_news_md\"\n",
    ")\n",
    "docs = text_splitter.split_documents(documents)"
   ]
  },
  {
   "cell_type": "code",
   "execution_count": 60,
   "metadata": {
    "tags": []
   },
   "outputs": [
    {
     "data": {
      "text/plain": [
       "[Document(page_content='CEO로서 두 번째 연례 주주 서한을 작성하기 위해 자리에 앉았을 때 저는 Amazon의 앞날에 대해 낙관적이고 활력을 얻었습니다.2022년은 최근 기억에 있어 어려운 거시경제적 해 중 하나이고 우리 자체의 운영상의 어려움에도 불구하고 우리는 여전히 수요를 늘릴 방법을 찾았습니다(팬데믹 전반기에 경험한 전례 없는 성장에 더해).우리는 장단기적으로 고객 경험을 의미 있게 개선하기 위해 대규모 사업을 혁신했습니다.그리고 고객, 주주 및 직원을 위해 Amazon의 미래를 바꿀 수 있다고 믿는 장기 투자를 계속 유지하면서 투자 결정과 앞으로 나아갈 방법에 중요한 조정을 했습니다.  작년에 이례적인 수의 동시 도전 과제가 있었지만 현실은 유능하고 자금이 충분한 경쟁자가 많은 크고 역동적인 글로벌 시장 부문에서 운영하는 경우(아마존이 모든 비즈니스를 운영하는 조건) 조건이 오랫동안 정체되어 있는 경우는 드뭅니다.  제가 Amazon에 근무한 25년 동안 끊임없는 변화가 있었고 그 중 대부분은 우리가 스스로 시작했습니다.내가 1997년에 Amazon에 입사했을 때 우리는 1996년에 1,500만 달러의 매출을 올렸고, 도서 전용 소매업체였으며, 제3자 시장이 없었고, 미국 내 주소로만 배송되었습니다.오늘날 Amazon은 단위 판매의 60%를 차지하고 전 세계 거의 모든 국가의 고객에게 도달하는 활기찬 타사 판매자 에코시스템을 통해 상상할 수 있는 거의 모든 물리적 및 디지털 소매 품목을 판매합니다.마찬가지로 클라우드에서 일련의 기술 인프라 서비스를 중심으로 비즈니스를 구축하는 것은 AWS를 추구하기 시작한 2003년에는 분명하지 않았으며 2006년 첫 서비스를 출시했을 때도 마찬가지였습니다.거의 모든 책을 60초 안에 손끝에서 볼 수 있습니다 2007년 Kindle을 출시했을 때 가벼운 디지털 리더에 저장하고 검색할 수 있다는 것은 아직 \"사물\"이 아니었고 Alexa(2014년 출시)와 같이 액세스하는 데 사용할 수 있는 음성 기반 개인 비서도 아니었습니다.', metadata={'source': 'rag_data_kr_pdf/2022-Amazon-Stakeholder-Letter-KR.pdf', 'page': 0}),\n",
       " Document(page_content='거의 모든 책을 60초 안에 손끝에서 볼 수 있습니다 2007년 Kindle을 출시했을 때 가벼운 디지털 리더에 저장하고 검색할 수 있다는 것은 아직 \"사물\"이 아니었고 Alexa(2014년 출시)와 같이 액세스하는 데 사용할 수 있는 음성 기반 개인 비서도 아니었습니다.엔터테인먼트, 스마트 홈 제어, 쇼핑 및 모든 종류의 정보 검색.  또한 거시 경제 상황이나 운영 비효율성으로 인해 우리에게 새로운 과제가 제시된 경우도 있었습니다.예를 들어 2001년 닷컴 폭락 당시 우리는 연휴 기간 동안 재고를 구매하기 위해 신용장을 확보해야 했고 비즈니스의 더 나은 수익성을 제공하기 위해 비용을 합리화해야 했지만 여전히 우리가 노력하고 있던 장기적인 고객 경험과 비즈니스를 우선시했습니다.빌드(기억한다면, 우리는 실제로 2001년 그 미미한 기간 동안 대부분의 범주에서 가격을 낮췄습니다).2008-2009년에 모기지 담보 증권 금융 위기로 촉발된 경기 침체를 견디면서 이런 종류의 균형을 다시 보았습니다.우리는 매장 비즈니스의 비용 구조와 효율성을 관리하기 위해 몇 가지 조치를 취했지만, 주주에게 강력한 수익을 제공하는 실질적인 미래 비즈니스가 될 수 있다고 생각하는 고객 경험에 대한 투자와 이러한 합리화의 균형을 맞췄습니다.2008년에 AWS는 여전히 상당히 작고 신생 기업이었습니다.우리는 우리가 무언가를 하고 있다는 것을 알고 있었지만', metadata={'source': 'rag_data_kr_pdf/2022-Amazon-Stakeholder-Letter-KR.pdf', 'page': 0}),\n",
       " Document(page_content='여전히 상당한 자본 투자가 필요했습니다.회사 안팎에서는 아마존(당시 주로 온라인 소매업체로 알려짐)이 클라우드 컴퓨팅에 많은 투자를 하는 이유에 대해 의문을 제기하는 목소리가 있었습니다.그러나 우리는 미래에 고객과 아마존을 위해 많은 가치를 창출할 수 있는 특별한 것을 발명하고 있다는 것을 알고 있었습니다.우리는 잠재적 경쟁자보다 먼저 출발했습니다.무엇보다 우리는 혁신 속도를 가속화하고 싶었습니다.우리는 AWS에 계속 투자하기로 장기적인 결정을 내렸습니다.15년 후 AWS는 이제 신생 기업에서 다국적 기업, 공공 부문 조직에 이르기까지 고객이 기술 인프라를 관리하는 방식을 변화시킨 강력한 수익성을 갖춘 연간 매출 850억 달러 규모의 기업이 되었습니다.2008-2009년 기간 동안 AWS에 대한 투자를 늦추었다면 Amazon은 다른 회사가 되었을 것입니다.  변화는 항상 가까이에 있습니다.때로는 적극적으로 초대하고 때로는 그냥 노크합니다.그러나 그것이 오는 것을 보았을 때, 그것을 받아들여야 합니다.그리고 장기간에 걸쳐 이를 잘 수행하는 회사는 일반적으로 성공합니다.나는 우리 팀이 우리 앞에 보이는 변화에 대응하는 방식이 마음에 들기 때문에 우리의 미래 전망에 대해 낙관적입니다.  지난 몇 달 동안 우리는 회사 전체를 비즈니스별로, 발명별로 자세히 살펴보고 각 이니셔티브의 장기적인 잠재력에 대해 충분한 수익, 운영 수입, 무료 현금 흐름, 투자 자본 수익률.경우에 따라 특정 비즈니스를 폐쇄하게 되었습니다.예를 들어 우리는 서점 및 4스타 매장과 같은 물리적 매장 개념 추구를 중단하고 Amazon Fabric 및 Amazon Care 노력을 중단했으며 의미 있는 수익을 얻을 수 있는 경로가 보이지 않는 일부 최신 장치에서 전환했습니다.다른 경우에는 우리가 기대했던 수익을 내지 못하는 일부 프로그램(예: $35 이상의 모든 온라인 식료품 주문에 대한 무료 배송)을 살펴보고 수정했습니다.', metadata={'source': 'rag_data_kr_pdf/2022-Amazon-Stakeholder-Letter-KR.pdf', 'page': 1})]"
      ]
     },
     "execution_count": 60,
     "metadata": {},
     "output_type": "execute_result"
    }
   ],
   "source": [
    "docs[:3]"
   ]
  },
  {
   "cell_type": "markdown",
   "metadata": {
    "tags": []
   },
   "source": [
    "### OpenSearch Client 생성\n",
    "### 선수 조건\n",
    "- 아래의 링크를 참조해서 OpenSearch Service 를 생성하고, opensearch_domain_endpoint, http_auth 를 복사해서, 아래 셀의 내용을 대체 하세요.\n",
    "    - [OpenSearch 생성 가이드](https://github.com/gonsoomoon-ml/Kor-LLM-On-SageMaker/blob/main/2-Lab02-QA-with-RAG/4.rag-fsi-data-workshop/TASK-4_OpenSearch_Creation_and_Vector_Insertion.ipynb)\n",
    "### 아래 셀에 다음의 정보가 입력이 되어야 합니다.\n",
    "```\n",
    "opensearch_domain_endpoint = \"<Type Domain Endpoint>\"\n",
    "http_auth = (rag_user_name, rag_user_password) # Master username, Master password\n",
    "\n",
    "```"
   ]
  },
  {
   "cell_type": "code",
   "execution_count": 61,
   "metadata": {
    "tags": []
   },
   "outputs": [],
   "source": [
    "from utils.opensearch import opensearch_utils"
   ]
  },
  {
   "cell_type": "code",
   "execution_count": 62,
   "metadata": {
    "tags": []
   },
   "outputs": [],
   "source": [
    "aws_region = 'us-east-1'\n",
    "\n",
    "os.environ[\"OpenSearch_UserName\"] = \"<Type UserName>\"\n",
    "os.environ[\"OpenSearch_UserPassword\"] = \"<Type Password>\"\n",
    "\n",
    "os.environ[\"OpenSearch_UserName\"] = \"dongjinj\"\n",
    "os.environ[\"OpenSearch_UserPassword\"] = \"q62980577Q!\"\n",
    "\n",
    "rag_user_name = os.environ[\"OpenSearch_UserName\"]\n",
    "rag_user_password = os.environ[\"OpenSearch_UserPassword\"]\n",
    "\n",
    "opensearch_domain_endpoint = \"<Type your domain endpoint>\"\n",
    "opensearch_domain_endpoint = \"https://search-genai-demo-domain-36etfsphifulgs7ckovsavchca.us-east-1.es.amazonaws.com\"\n",
    "\n",
    "http_auth = (rag_user_name, rag_user_password) # Master username, Master password\n",
    "\n",
    "os_client = opensearch_utils.create_aws_opensearch_client(\n",
    "    aws_region,\n",
    "    opensearch_domain_endpoint,\n",
    "    http_auth\n",
    ")"
   ]
  },
  {
   "cell_type": "markdown",
   "metadata": {},
   "source": [
    "### OpenSearch 벡터 Indexer 생성\n",
    "- 랭체인 오프서처 참고 자료\n",
    "    - [Langchain Opensearch](https://python.langchain.com/docs/integrations/vectorstores/opensearch)"
   ]
  },
  {
   "cell_type": "markdown",
   "metadata": {},
   "source": [
    "#### 오픈 서치 인덱스 유무에 따라 삭제\n",
    "오픈 서치에 해당 인덱스가 존재하면, 삭제 합니다. "
   ]
  },
  {
   "cell_type": "code",
   "execution_count": 63,
   "metadata": {
    "tags": []
   },
   "outputs": [
    {
     "name": "stdout",
     "output_type": "stream",
     "text": [
      "index_name=genai-demo-chatbot-index-v1, exists=True\n",
      "\n",
      "Deleting index:\n",
      "{'acknowledged': True}\n"
     ]
    }
   ],
   "source": [
    "index_name = \"genai-demo-chatbot-index-v1\"\n",
    "index_exists = opensearch_utils.check_if_index_exists(os_client, index_name)\n",
    "\n",
    "if index_exists:\n",
    "    opensearch_utils.delete_index(os_client, index_name)\n",
    "else:\n",
    "    print(\"Index does not exist\")"
   ]
  },
  {
   "cell_type": "markdown",
   "metadata": {},
   "source": [
    "#### 인덱스 생성"
   ]
  },
  {
   "cell_type": "code",
   "execution_count": 64,
   "metadata": {
    "tags": []
   },
   "outputs": [],
   "source": [
    "from langchain.vectorstores import OpenSearchVectorSearch"
   ]
  },
  {
   "cell_type": "code",
   "execution_count": 65,
   "metadata": {
    "tags": []
   },
   "outputs": [
    {
     "name": "stdout",
     "output_type": "stream",
     "text": [
      "CPU times: user 70.9 ms, sys: 8.05 ms, total: 78.9 ms\n",
      "Wall time: 2.66 s\n"
     ]
    }
   ],
   "source": [
    "%%time\n",
    "# by default langchain would create a k-NN index and the embeddings would be ingested as a k-NN vector type\n",
    "vector_db = OpenSearchVectorSearch.from_documents(\n",
    "    index_name=index_name,\n",
    "    documents=docs,\n",
    "    embedding=bedrock_embeddings,\n",
    "    opensearch_url=opensearch_domain_endpoint,\n",
    "    http_auth=http_auth,\n",
    "    bulk_size=10000,\n",
    "    timeout=60,\n",
    "    is_aoss =False,\n",
    "    engine=\"faiss\",\n",
    "    space_type=\"l2\"\n",
    ")"
   ]
  },
  {
   "cell_type": "markdown",
   "metadata": {},
   "source": [
    "#### 인덱스 확인"
   ]
  },
  {
   "cell_type": "code",
   "execution_count": 66,
   "metadata": {
    "tags": []
   },
   "outputs": [
    {
     "name": "stdout",
     "output_type": "stream",
     "text": [
      "{'genai-demo-chatbot-index-v1': {'aliases': {},\n",
      "                                 'mappings': {'properties': {'metadata': {'properties': {'page': {'type': 'long'},\n",
      "                                                                                         'source': {'fields': {'keyword': {'ignore_above': 256,\n",
      "                                                                                                                           'type': 'keyword'}},\n",
      "                                                                                                    'type': 'text'}}},\n",
      "                                                             'text': {'fields': {'keyword': {'ignore_above': 256,\n",
      "                                                                                             'type': 'keyword'}},\n",
      "                                                                      'type': 'text'},\n",
      "                                                             'vector_field': {'dimension': 1536,\n",
      "                                                                              'method': {'engine': 'faiss',\n",
      "                                                                                         'name': 'hnsw',\n",
      "                                                                                         'parameters': {'ef_construction': 512,\n",
      "                                                                                                        'm': 16},\n",
      "                                                                                         'space_type': 'l2'},\n",
      "                                                                              'type': 'knn_vector'}}},\n",
      "                                 'settings': {'index': {'creation_date': '1697034706463',\n",
      "                                                        'knn': 'true',\n",
      "                                                        'knn.algo_param': {'ef_search': '512'},\n",
      "                                                        'number_of_replicas': '2',\n",
      "                                                        'number_of_shards': '5',\n",
      "                                                        'provided_name': 'genai-demo-chatbot-index-v1',\n",
      "                                                        'uuid': 'u1619qnwSGmZE14W3C1_6g',\n",
      "                                                        'version': {'created': '136307827'}}}}}\n"
     ]
    }
   ],
   "source": [
    "index_info = os_client.indices.get(index=index_name)\n",
    "pprint(index_info)"
   ]
  },
  {
   "cell_type": "markdown",
   "metadata": {},
   "source": [
    "### 은전한잎 형태소 분석기 (seunjeon_tokenizer) 사용하기\n",
    "- 영어권의 문자들과 다르게 한글, 일본어, 중국어 등은 단순한 공백만으로는 좋은 검색 결과를 얻기 힘듭니다.\n",
    "- 출시하고라는 단어가 들어간 문서를 출시하고라는 정확히 같은 단어만으로 검색할 수 있다면 답답하겠죠?\n",
    "- 출시하고라는 단어를 출시, 출시하고 등 다양하게 검색하기 위해서는 형태소 분석기가 필요합니다.\n",
    "- https://catalog.us-east-1.prod.workshops.aws/workshops/de4e38cb-a0d9-4ffe-a777-bf00d498fa49/ko-KR/indexing/stemming#"
   ]
  },
  {
   "cell_type": "markdown",
   "metadata": {},
   "source": [
    "#### 인덱싱 수정하기 (형태소 분석시 사용 enablement)"
   ]
  },
  {
   "cell_type": "code",
   "execution_count": 67,
   "metadata": {
    "tags": []
   },
   "outputs": [
    {
     "data": {
      "text/plain": [
       "'genai-demo-chatbot-index-v1-with-tokenizer'"
      ]
     },
     "execution_count": 67,
     "metadata": {},
     "output_type": "execute_result"
    }
   ],
   "source": [
    "new_index_name = f'{index_name}-with-tokenizer'\n",
    "new_index_name"
   ]
  },
  {
   "cell_type": "code",
   "execution_count": 68,
   "metadata": {
    "tags": []
   },
   "outputs": [],
   "source": [
    "# Setting for \"은전한잎\" Tokenizer (변경 없음)\n",
    "index_info[index_name][\"settings\"][\"analysis\"] = {\n",
    "    \"tokenizer\": {\n",
    "        \"seunjeon\": {\n",
    "            \"type\": \"seunjeon_tokenizer\"\n",
    "        }\n",
    "    },\n",
    "    \"analyzer\": {\n",
    "        \"my_analyzer\": {\n",
    "            \"type\": \"custom\",\n",
    "            \"tokenizer\": \"seunjeon\"\n",
    "        }\n",
    "    }\n",
    "}\n",
    "\n",
    "# Setting for Columns to be adapted by Tokenizer (tokenizer가 적용될 컬럼에 맞춰서 수정)\n",
    "index_info[index_name][\"mappings\"][\"properties\"][\"text\"][\"analyzer\"] = \"my_analyzer\"\n",
    "index_info[index_name][\"mappings\"][\"properties\"][\"text\"][\"search_analyzer\"] = \"my_analyzer\"\n",
    "\n",
    "# Setting for vector index column (변경 없음)\n",
    "index_info[index_name][\"settings\"][\"index\"] = {\n",
    "    \"number_of_shards\": \"5\",\n",
    "    \"knn.algo_param\": {\"ef_search\": \"512\"},\n",
    "    \"knn\": \"true\",\n",
    "    \"number_of_replicas\": \"2\"\n",
    "}\n",
    "del index_info[index_name][\"aliases\"]\n",
    "new_index_info = index_info[index_name]"
   ]
  },
  {
   "cell_type": "code",
   "execution_count": 69,
   "metadata": {
    "tags": []
   },
   "outputs": [
    {
     "name": "stdout",
     "output_type": "stream",
     "text": [
      "{'mappings': {'properties': {'metadata': {'properties': {'page': {'type': 'long'},\n",
      "                                                         'source': {'fields': {'keyword': {'ignore_above': 256,\n",
      "                                                                                           'type': 'keyword'}},\n",
      "                                                                    'type': 'text'}}},\n",
      "                             'text': {'analyzer': 'my_analyzer',\n",
      "                                      'fields': {'keyword': {'ignore_above': 256,\n",
      "                                                             'type': 'keyword'}},\n",
      "                                      'search_analyzer': 'my_analyzer',\n",
      "                                      'type': 'text'},\n",
      "                             'vector_field': {'dimension': 1536,\n",
      "                                              'method': {'engine': 'faiss',\n",
      "                                                         'name': 'hnsw',\n",
      "                                                         'parameters': {'ef_construction': 512,\n",
      "                                                                        'm': 16},\n",
      "                                                         'space_type': 'l2'},\n",
      "                                              'type': 'knn_vector'}}},\n",
      " 'settings': {'analysis': {'analyzer': {'my_analyzer': {'tokenizer': 'seunjeon',\n",
      "                                                        'type': 'custom'}},\n",
      "                           'tokenizer': {'seunjeon': {'type': 'seunjeon_tokenizer'}}},\n",
      "              'index': {'knn': 'true',\n",
      "                        'knn.algo_param': {'ef_search': '512'},\n",
      "                        'number_of_replicas': '2',\n",
      "                        'number_of_shards': '5'}}}\n"
     ]
    }
   ],
   "source": [
    "pprint(new_index_info)"
   ]
  },
  {
   "cell_type": "markdown",
   "metadata": {},
   "source": [
    "#### 형태소 분석기용 인덱서 생성"
   ]
  },
  {
   "cell_type": "code",
   "execution_count": 70,
   "metadata": {
    "tags": []
   },
   "outputs": [
    {
     "name": "stdout",
     "output_type": "stream",
     "text": [
      "index_name=genai-demo-chatbot-index-v1-with-tokenizer, exists=True\n",
      "\n",
      "Deleting index:\n",
      "{'acknowledged': True}\n"
     ]
    }
   ],
   "source": [
    "index_exists = opensearch_utils.check_if_index_exists(os_client, new_index_name)\n",
    "if index_exists:\n",
    "    opensearch_utils.delete_index(os_client, new_index_name)\n",
    "else:\n",
    "    print(\"Index does not exist\")"
   ]
  },
  {
   "cell_type": "code",
   "execution_count": 71,
   "metadata": {
    "tags": []
   },
   "outputs": [
    {
     "name": "stdout",
     "output_type": "stream",
     "text": [
      "\n",
      "Creating index:\n",
      "{'acknowledged': True, 'shards_acknowledged': True, 'index': 'genai-demo-chatbot-index-v1-with-tokenizer'}\n"
     ]
    }
   ],
   "source": [
    "opensearch_utils.create_index(\n",
    "    os_client,\n",
    "    index_name=new_index_name,\n",
    "    index_body=new_index_info\n",
    ")"
   ]
  },
  {
   "cell_type": "markdown",
   "metadata": {},
   "source": [
    "#### Re-indexing"
   ]
  },
  {
   "cell_type": "code",
   "execution_count": 72,
   "metadata": {
    "tags": []
   },
   "outputs": [
    {
     "name": "stdout",
     "output_type": "stream",
     "text": [
      "_reindex: \n",
      " {'source': {'index': 'genai-demo-chatbot-index-v1'}, 'dest': {'index': 'genai-demo-chatbot-index-v1-with-tokenizer'}}\n"
     ]
    }
   ],
   "source": [
    "_reindex = {\n",
    "    \"source\": {\"index\": index_name},\n",
    "    \"dest\": {\"index\": new_index_name}\n",
    "}\n",
    "print(\"_reindex: \\n\", _reindex)"
   ]
  },
  {
   "cell_type": "code",
   "execution_count": 73,
   "metadata": {
    "tags": []
   },
   "outputs": [
    {
     "data": {
      "text/plain": [
       "{'took': 150,\n",
       " 'timed_out': False,\n",
       " 'total': 20,\n",
       " 'updated': 0,\n",
       " 'created': 20,\n",
       " 'deleted': 0,\n",
       " 'batches': 1,\n",
       " 'version_conflicts': 0,\n",
       " 'noops': 0,\n",
       " 'retries': {'bulk': 0, 'search': 0},\n",
       " 'throttled_millis': 0,\n",
       " 'requests_per_second': -1.0,\n",
       " 'throttled_until_millis': 0,\n",
       " 'failures': []}"
      ]
     },
     "execution_count": 73,
     "metadata": {},
     "output_type": "execute_result"
    }
   ],
   "source": [
    "os_client.reindex(_reindex)"
   ]
  },
  {
   "cell_type": "markdown",
   "metadata": {},
   "source": [
    "#### 키워드 검색 체크"
   ]
  },
  {
   "cell_type": "code",
   "execution_count": 74,
   "metadata": {
    "tags": []
   },
   "outputs": [
    {
     "name": "stdout",
     "output_type": "stream",
     "text": [
      "query:  {'query': {'bool': {'must': [{'match': {'text': {'query': '아마존', 'minimum_should_match': '0%', 'operator': 'or'}}}], 'filter': []}}}\n",
      "# of searched docs:  8\n",
      "# of display: 3\n",
      "---------------------\n",
      "_id in index:  9c0d21fd-7ce0-4f5f-8930-0d320229b2f0\n",
      "1.4527305\n",
      "행사중입니다.우리는 2019년에 첫 번째 추론 칩(\"InferenTa\")을 출시했으며 Amazon과 같은 회사는 이미 1억 달러 이상의 자본 비용을 절감했습니다.방금 출시된 InferenTa2 칩은 첫 번째 InferenTa 프로세서보다 최대 4배 더 높은 처리량과 10배 더 짧은 대기 시간을 제공합니다.기계 학습의 엄청난 성장으로 인해 고객은 훨씬 저렴한 비용으로 AWS의 교육 및 추론 칩을 사용하여 훨씬 더 많은 작업을 수행할 수 있습니다.여기서 혁신이 거의 완료되지 않았으며 이 장기 투자는 고객과 AWS 모두에게 유익한 것으로 입증되어야 합니다.AWS는 아직 진화의 초기 단계에 있으며 향후 10년 동안 비정상적으로 성장할 가능성이 있습니다.  마찬가지로 높은 잠재력을 지닌 Amazon의 광고 비즈니스는 브랜드에 고유한 효과를 발휘하며, 이는 계속해서 빠른 속도로 성장하는 이유 중 하나입니다.선반 공간, 엔드 캡, 원형 배치를 판매하는 물리적 소매업체의 광고 사업과 유사하게, 당사가 후원하는 제품 및 브랜드 제품은 10년 이상 아마존 쇼핑 경험의 필수적인 부분이었습니다.그러나 실제 소매업체와 달리 Amazon은 쇼핑 행동에 대해 알고 있는 것과 기계 학습 알고리즘에 대한 우리의 매우 깊은 투자를 고려할 때 이러한 후원 제품을 고객이 검색하는 것과 관련이 있도록 조정할 수 있습니다.이는 고객에게 더 유용한 광고로 이어집니다.결과적으로 브랜드에 더 나은 성능을 제공합니다.이것이 우리의 광고 수익이 지난 2022년 4분기에 23% YoY , 310억 달러 수익 기반에서 2022년에 전체적으로 25% YoY 성장을 지속한 이유 중 하나입니다.몇 분기.\n",
      "{'source': 'rag_data_kr_pdf/2022-Amazon-Stakeholder-Letter-KR.pdf', 'page': 4}\n",
      "---------------------\n",
      "_id in index:  890da3de-ec41-49a5-b297-33510d5a8d23\n",
      "1.319221\n",
      "여전히 상당한 자본 투자가 필요했습니다.회사 안팎에서는 아마존(당시 주로 온라인 소매업체로 알려짐)이 클라우드 컴퓨팅에 많은 투자를 하는 이유에 대해 의문을 제기하는 목소리가 있었습니다.그러나 우리는 미래에 고객과 아마존을 위해 많은 가치를 창출할 수 있는 특별한 것을 발명하고 있다는 것을 알고 있었습니다.우리는 잠재적 경쟁자보다 먼저 출발했습니다.무엇보다 우리는 혁신 속도를 가속화하고 싶었습니다.우리는 AWS에 계속 투자하기로 장기적인 결정을 내렸습니다.15년 후 AWS는 이제 신생 기업에서 다국적 기업, 공공 부문 조직에 이르기까지 고객이 기술 인프라를 관리하는 방식을 변화시킨 강력한 수익성을 갖춘 연간 매출 850억 달러 규모의 기업이 되었습니다.2008-2009년 기간 동안 AWS에 대한 투자를 늦추었다면 Amazon은 다른 회사가 되었을 것입니다.  변화는 항상 가까이에 있습니다.때로는 적극적으로 초대하고 때로는 그냥 노크합니다.그러나 그것이 오는 것을 보았을 때, 그것을 받아들여야 합니다.그리고 장기간에 걸쳐 이를 잘 수행하는 회사는 일반적으로 성공합니다.나는 우리 팀이 우리 앞에 보이는 변화에 대응하는 방식이 마음에 들기 때문에 우리의 미래 전망에 대해 낙관적입니다.  지난 몇 달 동안 우리는 회사 전체를 비즈니스별로, 발명별로 자세히 살펴보고 각 이니셔티브의 장기적인 잠재력에 대해 충분한 수익, 운영 수입, 무료 현금 흐름, 투자 자본 수익률.경우에 따라 특정 비즈니스를 폐쇄하게 되었습니다.예를 들어 우리는 서점 및 4스타 매장과 같은 물리적 매장 개념 추구를 중단하고 Amazon Fabric 및 Amazon Care 노력을 중단했으며 의미 있는 수익을 얻을 수 있는 경로가 보이지 않는 일부 최신 장치에서 전환했습니다.다른 경우에는 우리가 기대했던 수익을 내지 못하는 일부 프로그램(예: $35 이상의 모든 온라인 식료품 주문에 대한 무료 배송)을 살펴보고 수정했습니다.\n",
      "{'source': 'rag_data_kr_pdf/2022-Amazon-Stakeholder-Letter-KR.pdf', 'page': 1}\n",
      "---------------------\n",
      "_id in index:  7b859c58-e04e-4a73-bc68-dd9f87c76c69\n",
      "1.2221947\n",
      "Buy with Prime은 최근 모든 미국 판매자에게 제공되었습니다.지금까지 Buy with Prime은 타사 쇼핑 사이트에서 구매자 전환을 평균 25% 증가시켰습니다.가맹점은 더 많은 판매를 전환하고 이러한 배송을 더 쉽게 이행할 수 있다는 사실에 흥분하고 있으며, 프라임 회원은 더 많은 목적지에서 프라임 혜택을 사용할 수 있다는 점에 만족하고 있으며 프라임으로 구매를 통해 더 많은 웹에서 쇼핑 경험을 개선할 수 있습니다.  국제적으로 확장하고, 아직 아마존의 초기 단계인 대규모 소매 시장 부문을 추구하고, 판매자가 자신의 웹사이트에서 보다 효과적으로 판매할 수 있도록 돕기 위해 우리의 고유한 자산을 사용하는 것은 우리에게 어느 정도 자연스러운 확장입니다.핵심 비즈니스에서 더 멀리 떨어져 있지만 고유한 기회가 있는 투자도 몇 가지 있습니다.2003년에는 AWS가 전형적인 예였습니다.2023년에는 Amazon Healthcare와 Kuiper가 잠재적인 아날로그입니다.  의료 분야에서 우리의 초기 노력은 전자 상거래에서 크게 벗어난 것처럼 느껴지지 않는 약국에서 시작되었습니다.수년 동안 Amazon 고객은 현재 공급자에 대한 불만이 커지면서 언제 온라인 약국을 제공할지 물었습니다.2020년에 출시된 Amazon Pharmacy는 Prime 회원에게 투명한 가격, 손쉬운 리필 및 비용 절감을 제공하는 풀 서비스 온라인 약국입니다.비즈니스는 빠르게 성장하고 있으며 혁신을 계속하고 있습니다.예를 들어 Amazon Pharmacy는 최근 RxPass를 출시했습니다.RxPass는 매월 5달러의 정액 요금으로 Prime 회원이 고혈압, 위산 역류 및 불안과 같은 수십 가지 일반적인 조건에 필요한 적격 처방약을 원하는 만큼 받을 수 있습니다. .그러나 고객은 Amazon이 비효율적이고 만족스럽지 못한 광범위한 의료 경험에 대한 더 나은 대안을 제공하기를 바라는 강한 열망을 계속 표명했습니다.우리는 일차 진료가 환자 여정에서 널리 퍼진 첫 번째 중지이기\n",
      "{'source': 'rag_data_kr_pdf/2022-Amazon-Stakeholder-Letter-KR.pdf', 'page': 7}\n",
      "---------------------\n"
     ]
    }
   ],
   "source": [
    "query = \"아마존\"\n",
    "query = opensearch_utils.get_query(\n",
    "    query=query\n",
    ")\n",
    "\n",
    "print(\"query: \", query)\n",
    "response = opensearch_utils.search_document(os_client, query, new_index_name)\n",
    "opensearch_utils.parse_keyword_response(response, show_size=3)"
   ]
  },
  {
   "cell_type": "markdown",
   "metadata": {
    "tags": []
   },
   "source": [
    "#### 형태소 분석 결과 확인\n",
    "\"아마존\" 확인 <BR>\n",
    "#### [중요]:  doc_id: 위의 문서 인덱스 정보 확인 후 수정"
   ]
  },
  {
   "cell_type": "code",
   "execution_count": 75,
   "metadata": {
    "tags": []
   },
   "outputs": [],
   "source": [
    "doc_id = \"890da3de-ec41-49a5-b297-33510d5a8d23\""
   ]
  },
  {
   "cell_type": "code",
   "execution_count": 76,
   "metadata": {
    "collapsed": true,
    "jupyter": {
     "outputs_hidden": true
    },
    "tags": []
   },
   "outputs": [
    {
     "data": {
      "text/plain": [
       "{'_index': 'genai-demo-chatbot-index-v1-with-tokenizer',\n",
       " '_id': '890da3de-ec41-49a5-b297-33510d5a8d23',\n",
       " '_version': 1,\n",
       " 'found': True,\n",
       " 'took': 22,\n",
       " 'term_vectors': {'text': {'field_statistics': {'sum_doc_freq': 1267,\n",
       "    'doc_count': 5,\n",
       "    'sum_ttf': 1684},\n",
       "   'terms': {'15/SN': {'term_freq': 1,\n",
       "     'tokens': [{'position': 64, 'start_offset': 257, 'end_offset': 259}]},\n",
       "    '2008/SN': {'term_freq': 1,\n",
       "     'tokens': [{'position': 95, 'start_offset': 369, 'end_offset': 373}]},\n",
       "    '2009/SN': {'term_freq': 1,\n",
       "     'tokens': [{'position': 96, 'start_offset': 374, 'end_offset': 378}]},\n",
       "    '35/SN': {'term_freq': 1,\n",
       "     'tokens': [{'position': 231, 'start_offset': 911, 'end_offset': 913}]},\n",
       "    '4/SN': {'term_freq': 1,\n",
       "     'tokens': [{'position': 193, 'start_offset': 756, 'end_offset': 757}]},\n",
       "    '850/SN': {'term_freq': 1,\n",
       "     'tokens': [{'position': 89, 'start_offset': 347, 'end_offset': 350}]},\n",
       "    'amazon/SL': {'term_freq': 3,\n",
       "     'tokens': [{'position': 104, 'start_offset': 404, 'end_offset': 410},\n",
       "      {'position': 202, 'start_offset': 786, 'end_offset': 792},\n",
       "      {'position': 205, 'start_offset': 802, 'end_offset': 808}]},\n",
       "    'amazon은/EOJ': {'term_freq': 1,\n",
       "     'tokens': [{'position': 104, 'start_offset': 404, 'end_offset': 411}]},\n",
       "    'aws/SL': {'term_freq': 3,\n",
       "     'tokens': [{'position': 58, 'start_offset': 228, 'end_offset': 231},\n",
       "      {'position': 67, 'start_offset': 263, 'end_offset': 266},\n",
       "      {'position': 100, 'start_offset': 386, 'end_offset': 389}]},\n",
       "    'aws는/EOJ': {'term_freq': 1,\n",
       "     'tokens': [{'position': 67, 'start_offset': 263, 'end_offset': 267}]},\n",
       "    'aws에/EOJ': {'term_freq': 2,\n",
       "     'tokens': [{'position': 58, 'start_offset': 228, 'end_offset': 232},\n",
       "      {'position': 100, 'start_offset': 386, 'end_offset': 390}]},\n",
       "    'care/SL': {'term_freq': 1,\n",
       "     'tokens': [{'position': 206, 'start_offset': 809, 'end_offset': 813}]},\n",
       "    'fabric/SL': {'term_freq': 1,\n",
       "     'tokens': [{'position': 203, 'start_offset': 793, 'end_offset': 799}]},\n",
       "    '가까이/N': {'term_freq': 1,\n",
       "     'tokens': [{'position': 111, 'start_offset': 437, 'end_offset': 440}]},\n",
       "    '가까이에/EOJ': {'term_freq': 1,\n",
       "     'tokens': [{'position': 111, 'start_offset': 437, 'end_offset': 441}]},\n",
       "    '가속/N': {'term_freq': 1,\n",
       "     'tokens': [{'position': 55, 'start_offset': 212, 'end_offset': 214}]},\n",
       "    '가속화/EOJ': {'term_freq': 1,\n",
       "     'tokens': [{'position': 55, 'start_offset': 212, 'end_offset': 215}]},\n",
       "    '가치/N': {'term_freq': 1,\n",
       "     'tokens': [{'position': 34, 'start_offset': 131, 'end_offset': 133}]},\n",
       "    '가치를/EOJ': {'term_freq': 1,\n",
       "     'tokens': [{'position': 34, 'start_offset': 131, 'end_offset': 134}]},\n",
       "    '각/M': {'term_freq': 1,\n",
       "     'tokens': [{'position': 166, 'start_offset': 657, 'end_offset': 658}]},\n",
       "    '강력/XR': {'term_freq': 1,\n",
       "     'tokens': [{'position': 84, 'start_offset': 329, 'end_offset': 331}]},\n",
       "    '강력한/EOJ': {'term_freq': 1,\n",
       "     'tokens': [{'position': 84, 'start_offset': 329, 'end_offset': 332}]},\n",
       "    '갖추/V': {'term_freq': 1,\n",
       "     'tokens': [{'position': 86, 'start_offset': 338, 'end_offset': 340}]},\n",
       "    '같/V': {'term_freq': 1,\n",
       "     'tokens': [{'position': 196, 'start_offset': 764, 'end_offset': 765}]},\n",
       "    '같은/EOJ': {'term_freq': 1,\n",
       "     'tokens': [{'position': 196, 'start_offset': 764, 'end_offset': 766}]},\n",
       "    '개념/N': {'term_freq': 1,\n",
       "     'tokens': [{'position': 199, 'start_offset': 774, 'end_offset': 776}]},\n",
       "    '걸치/V': {'term_freq': 1,\n",
       "     'tokens': [{'position': 131, 'start_offset': 519, 'end_offset': 521}]},\n",
       "    '것/N': {'term_freq': 4,\n",
       "     'tokens': [{'position': 39, 'start_offset': 148, 'end_offset': 149},\n",
       "      {'position': 42, 'start_offset': 160, 'end_offset': 161},\n",
       "      {'position': 108, 'start_offset': 423, 'end_offset': 424},\n",
       "      {'position': 122, 'start_offset': 486, 'end_offset': 487}]},\n",
       "    '것을/EOJ': {'term_freq': 3,\n",
       "     'tokens': [{'position': 39, 'start_offset': 148, 'end_offset': 150},\n",
       "      {'position': 42, 'start_offset': 160, 'end_offset': 162},\n",
       "      {'position': 122, 'start_offset': 486, 'end_offset': 488}]},\n",
       "    '것입니다/EOJ': {'term_freq': 1,\n",
       "     'tokens': [{'position': 108, 'start_offset': 423, 'end_offset': 427}]},\n",
       "    '결정/N': {'term_freq': 1,\n",
       "     'tokens': [{'position': 62, 'start_offset': 247, 'end_offset': 249}]},\n",
       "    '결정을/EOJ': {'term_freq': 1,\n",
       "     'tokens': [{'position': 62, 'start_offset': 247, 'end_offset': 250}]},\n",
       "    '경로/N': {'term_freq': 1,\n",
       "     'tokens': [{'position': 215, 'start_offset': 842, 'end_offset': 844}]},\n",
       "    '경로가/EOJ': {'term_freq': 1,\n",
       "     'tokens': [{'position': 215, 'start_offset': 842, 'end_offset': 845}]},\n",
       "    '경우/N': {'term_freq': 2,\n",
       "     'tokens': [{'position': 182, 'start_offset': 714, 'end_offset': 716},\n",
       "      {'position': 223, 'start_offset': 874, 'end_offset': 876}]},\n",
       "    '경우에/EOJ': {'term_freq': 1,\n",
       "     'tokens': [{'position': 182, 'start_offset': 714, 'end_offset': 717}]},\n",
       "    '경우에는/EOJ': {'term_freq': 1,\n",
       "     'tokens': [{'position': 223, 'start_offset': 874, 'end_offset': 878}]},\n",
       "    '경쟁/N': {'term_freq': 1,\n",
       "     'tokens': [{'position': 47, 'start_offset': 180, 'end_offset': 182}]},\n",
       "    '경쟁자보다/EOJ': {'term_freq': 1,\n",
       "     'tokens': [{'position': 47, 'start_offset': 180, 'end_offset': 185}]},\n",
       "    '계속/M': {'term_freq': 1,\n",
       "     'tokens': [{'position': 59, 'start_offset': 233, 'end_offset': 235}]},\n",
       "    '고객/N': {'term_freq': 2,\n",
       "     'tokens': [{'position': 30, 'start_offset': 116, 'end_offset': 118},\n",
       "      {'position': 78, 'start_offset': 303, 'end_offset': 305}]},\n",
       "    '고객과/EOJ': {'term_freq': 1,\n",
       "     'tokens': [{'position': 30, 'start_offset': 116, 'end_offset': 119}]},\n",
       "    '고객이/EOJ': {'term_freq': 1,\n",
       "     'tokens': [{'position': 78, 'start_offset': 303, 'end_offset': 306}]},\n",
       "    '공공/N': {'term_freq': 1,\n",
       "     'tokens': [{'position': 74, 'start_offset': 287, 'end_offset': 289}]},\n",
       "    '관리/N': {'term_freq': 1,\n",
       "     'tokens': [{'position': 81, 'start_offset': 315, 'end_offset': 317}]},\n",
       "    '관리하는/EOJ': {'term_freq': 1,\n",
       "     'tokens': [{'position': 81, 'start_offset': 315, 'end_offset': 319}]},\n",
       "    '국적/N': {'term_freq': 1,\n",
       "     'tokens': [{'position': 72, 'start_offset': 280, 'end_offset': 282}]},\n",
       "    '규모/N': {'term_freq': 1,\n",
       "     'tokens': [{'position': 92, 'start_offset': 355, 'end_offset': 357}]},\n",
       "    '규모의/EOJ': {'term_freq': 1,\n",
       "     'tokens': [{'position': 92, 'start_offset': 355, 'end_offset': 358}]},\n",
       "    '그것/N': {'term_freq': 2,\n",
       "     'tokens': [{'position': 120, 'start_offset': 479, 'end_offset': 481},\n",
       "      {'position': 125, 'start_offset': 496, 'end_offset': 498}]},\n",
       "    '그것을/EOJ': {'term_freq': 1,\n",
       "     'tokens': [{'position': 125, 'start_offset': 496, 'end_offset': 499}]},\n",
       "    '그것이/EOJ': {'term_freq': 1,\n",
       "     'tokens': [{'position': 120, 'start_offset': 479, 'end_offset': 482}]},\n",
       "    '그냥/M': {'term_freq': 1,\n",
       "     'tokens': [{'position': 117, 'start_offset': 466, 'end_offset': 468}]},\n",
       "    '그러나/M': {'term_freq': 2,\n",
       "     'tokens': [{'position': 27, 'start_offset': 104, 'end_offset': 107},\n",
       "      {'position': 119, 'start_offset': 475, 'end_offset': 478}]},\n",
       "    '그리고/M': {'term_freq': 1,\n",
       "     'tokens': [{'position': 128, 'start_offset': 510, 'end_offset': 513}]},\n",
       "    '기간/N': {'term_freq': 2,\n",
       "     'tokens': [{'position': 98, 'start_offset': 380, 'end_offset': 382},\n",
       "      {'position': 130, 'start_offset': 515, 'end_offset': 517}]},\n",
       "    '기대/N': {'term_freq': 1,\n",
       "     'tokens': [{'position': 225, 'start_offset': 883, 'end_offset': 885}]},\n",
       "    '기대했던/EOJ': {'term_freq': 1,\n",
       "     'tokens': [{'position': 225, 'start_offset': 883, 'end_offset': 887}]},\n",
       "    '기술/N': {'term_freq': 1,\n",
       "     'tokens': [{'position': 79, 'start_offset': 307, 'end_offset': 309}]},\n",
       "    '기업/N': {'term_freq': 3,\n",
       "     'tokens': [{'position': 70, 'start_offset': 274, 'end_offset': 276},\n",
       "      {'position': 73, 'start_offset': 283, 'end_offset': 285},\n",
       "      {'position': 93, 'start_offset': 359, 'end_offset': 361}]},\n",
       "    '기업에서/EOJ': {'term_freq': 1,\n",
       "     'tokens': [{'position': 70, 'start_offset': 274, 'end_offset': 278}]},\n",
       "    '기업이/EOJ': {'term_freq': 1,\n",
       "     'tokens': [{'position': 93, 'start_offset': 359, 'end_offset': 362}]},\n",
       "    '나/N': {'term_freq': 1,\n",
       "     'tokens': [{'position': 138, 'start_offset': 548, 'end_offset': 549}]},\n",
       "    '나는/EOJ': {'term_freq': 1,\n",
       "     'tokens': [{'position': 138, 'start_offset': 548, 'end_offset': 550}]},\n",
       "    '낙관/N': {'term_freq': 1,\n",
       "     'tokens': [{'position': 154, 'start_offset': 605, 'end_offset': 607}]},\n",
       "    '낙관적입니다/EOJ': {'term_freq': 1,\n",
       "     'tokens': [{'position': 154, 'start_offset': 605, 'end_offset': 611}]},\n",
       "    '내/V': {'term_freq': 1,\n",
       "     'tokens': [{'position': 227, 'start_offset': 892, 'end_offset': 893}]},\n",
       "    '내렸습니다/EOJ': {'term_freq': 1,\n",
       "     'tokens': [{'position': 63, 'start_offset': 251, 'end_offset': 256}]},\n",
       "    '내리/V': {'term_freq': 1,\n",
       "     'tokens': [{'position': 63, 'start_offset': 251, 'end_offset': 253}]},\n",
       "    '내지/EOJ': {'term_freq': 1,\n",
       "     'tokens': [{'position': 227, 'start_offset': 892, 'end_offset': 894}]},\n",
       "    '년/N': {'term_freq': 2,\n",
       "     'tokens': [{'position': 65, 'start_offset': 259, 'end_offset': 260},\n",
       "      {'position': 97, 'start_offset': 378, 'end_offset': 379}]},\n",
       "    '노력/N': {'term_freq': 1,\n",
       "     'tokens': [{'position': 207, 'start_offset': 814, 'end_offset': 816}]},\n",
       "    '노력을/EOJ': {'term_freq': 1,\n",
       "     'tokens': [{'position': 207, 'start_offset': 814, 'end_offset': 817}]},\n",
       "    '노크/N': {'term_freq': 1,\n",
       "     'tokens': [{'position': 118, 'start_offset': 469, 'end_offset': 471}]},\n",
       "    '노크합니다/EOJ': {'term_freq': 1,\n",
       "     'tokens': [{'position': 118, 'start_offset': 469, 'end_offset': 474}]},\n",
       "    '늦추/V': {'term_freq': 1,\n",
       "     'tokens': [{'position': 103, 'start_offset': 398, 'end_offset': 400}]},\n",
       "    '늦추었다면/EOJ': {'term_freq': 1,\n",
       "     'tokens': [{'position': 103, 'start_offset': 398, 'end_offset': 403}]},\n",
       "    '다/N': {'term_freq': 1,\n",
       "     'tokens': [{'position': 71, 'start_offset': 279, 'end_offset': 280}]},\n",
       "    '다국적/EOJ': {'term_freq': 1,\n",
       "     'tokens': [{'position': 71, 'start_offset': 279, 'end_offset': 282}]},\n",
       "    '다른/M': {'term_freq': 2,\n",
       "     'tokens': [{'position': 105, 'start_offset': 412, 'end_offset': 414},\n",
       "      {'position': 222, 'start_offset': 871, 'end_offset': 873}]},\n",
       "    '달/N': {'term_freq': 1,\n",
       "     'tokens': [{'position': 157, 'start_offset': 619, 'end_offset': 620}]},\n",
       "    '달러/N': {'term_freq': 1,\n",
       "     'tokens': [{'position': 91, 'start_offset': 352, 'end_offset': 354}]},\n",
       "    '당시/N': {'term_freq': 1,\n",
       "     'tokens': [{'position': 8, 'start_offset': 35, 'end_offset': 37}]},\n",
       "    '대응/N': {'term_freq': 1,\n",
       "     'tokens': [{'position': 145, 'start_offset': 571, 'end_offset': 573}]},\n",
       "    '대응하는/EOJ': {'term_freq': 1,\n",
       "     'tokens': [{'position': 145, 'start_offset': 571, 'end_offset': 575}]},\n",
       "    '대하/V': {'term_freq': 5,\n",
       "     'tokens': [{'position': 21, 'start_offset': 81, 'end_offset': 83},\n",
       "      {'position': 101, 'start_offset': 391, 'end_offset': 393},\n",
       "      {'position': 153, 'start_offset': 602, 'end_offset': 604},\n",
       "      {'position': 171, 'start_offset': 676, 'end_offset': 678},\n",
       "      {'position': 238, 'start_offset': 933, 'end_offset': 935}]},\n",
       "    '동안/N': {'term_freq': 2,\n",
       "     'tokens': [{'position': 99, 'start_offset': 383, 'end_offset': 385},\n",
       "      {'position': 158, 'start_offset': 621, 'end_offset': 623}]},\n",
       "    '되/V': {'term_freq': 3,\n",
       "     'tokens': [{'position': 94, 'start_offset': 363, 'end_offset': 364},\n",
       "      {'position': 107, 'start_offset': 419, 'end_offset': 420},\n",
       "      {'position': 187, 'start_offset': 735, 'end_offset': 736}]},\n",
       "    '되었습니다/EOJ': {'term_freq': 2,\n",
       "     'tokens': [{'position': 94, 'start_offset': 363, 'end_offset': 368},\n",
       "      {'position': 187, 'start_offset': 735, 'end_offset': 740}]},\n",
       "    '되었을/EOJ': {'term_freq': 1,\n",
       "     'tokens': [{'position': 107, 'start_offset': 419, 'end_offset': 422}]},\n",
       "    '들/V': {'term_freq': 2,\n",
       "     'tokens': [{'position': 148, 'start_offset': 584, 'end_offset': 585},\n",
       "      {'position': 189, 'start_offset': 744, 'end_offset': 745}]},\n",
       "    '들기/EOJ': {'term_freq': 1,\n",
       "     'tokens': [{'position': 148, 'start_offset': 584, 'end_offset': 586}]},\n",
       "    '들어/EOJ': {'term_freq': 1,\n",
       "     'tokens': [{'position': 189, 'start_offset': 744, 'end_offset': 746}]},\n",
       "    '따르/V': {'term_freq': 1,\n",
       "     'tokens': [{'position': 183, 'start_offset': 718, 'end_offset': 720}]},\n",
       "    '때/N': {'term_freq': 1,\n",
       "     'tokens': [{'position': 124, 'start_offset': 493, 'end_offset': 494}]},\n",
       "    '때로/M': {'term_freq': 2,\n",
       "     'tokens': [{'position': 113, 'start_offset': 447, 'end_offset': 449},\n",
       "      {'position': 116, 'start_offset': 462, 'end_offset': 464}]},\n",
       "    '때로는/EOJ': {'term_freq': 2,\n",
       "     'tokens': [{'position': 113, 'start_offset': 447, 'end_offset': 450},\n",
       "      {'position': 116, 'start_offset': 462, 'end_offset': 465}]},\n",
       "    '때문/N': {'term_freq': 1,\n",
       "     'tokens': [{'position': 149, 'start_offset': 587, 'end_offset': 589}]},\n",
       "    '때문에/EOJ': {'term_freq': 1,\n",
       "     'tokens': [{'position': 149, 'start_offset': 587, 'end_offset': 590}]},\n",
       "    '력/N': {'term_freq': 1,\n",
       "     'tokens': [{'position': 170, 'start_offset': 673, 'end_offset': 674}]},\n",
       "    '마음/N': {'term_freq': 1,\n",
       "     'tokens': [{'position': 147, 'start_offset': 580, 'end_offset': 582}]},\n",
       "    '마음에/EOJ': {'term_freq': 1,\n",
       "     'tokens': [{'position': 147, 'start_offset': 580, 'end_offset': 583}]},\n",
       "    '많/V': {'term_freq': 2,\n",
       "     'tokens': [{'position': 17, 'start_offset': 67, 'end_offset': 68},\n",
       "      {'position': 33, 'start_offset': 128, 'end_offset': 129}]},\n",
       "    '많은/EOJ': {'term_freq': 2,\n",
       "     'tokens': [{'position': 17, 'start_offset': 67, 'end_offset': 69},\n",
       "      {'position': 33, 'start_offset': 128, 'end_offset': 130}]},\n",
       "    '매장/N': {'term_freq': 2,\n",
       "     'tokens': [{'position': 195, 'start_offset': 760, 'end_offset': 762},\n",
       "      {'position': 198, 'start_offset': 771, 'end_offset': 773}]},\n",
       "    '매장과/EOJ': {'term_freq': 1,\n",
       "     'tokens': [{'position': 195, 'start_offset': 760, 'end_offset': 763}]},\n",
       "    '매출/N': {'term_freq': 1,\n",
       "     'tokens': [{'position': 88, 'start_offset': 344, 'end_offset': 346}]},\n",
       "    '먼저/M': {'term_freq': 1,\n",
       "     'tokens': [{'position': 49, 'start_offset': 186, 'end_offset': 188}]},\n",
       "    '몇/M': {'term_freq': 1,\n",
       "     'tokens': [{'position': 156, 'start_offset': 617, 'end_offset': 618}]},\n",
       "    '모든/M': {'term_freq': 1,\n",
       "     'tokens': [{'position': 233, 'start_offset': 918, 'end_offset': 920}]},\n",
       "    '목/N': {'term_freq': 1,\n",
       "     'tokens': [{'position': 24, 'start_offset': 93, 'end_offset': 94}]},\n",
       "    '목소리가/EOJ': {'term_freq': 1,\n",
       "     'tokens': [{'position': 24, 'start_offset': 93, 'end_offset': 97}]},\n",
       "    '못하/V': {'term_freq': 1,\n",
       "     'tokens': [{'position': 228, 'start_offset': 895, 'end_offset': 897}]},\n",
       "    '못하는/EOJ': {'term_freq': 1,\n",
       "     'tokens': [{'position': 228, 'start_offset': 895, 'end_offset': 898}]},\n",
       "    '무료/N': {'term_freq': 2,\n",
       "     'tokens': [{'position': 176, 'start_offset': 694, 'end_offset': 696},\n",
       "      {'position': 239, 'start_offset': 936, 'end_offset': 938}]},\n",
       "    '무엇/N': {'term_freq': 1,\n",
       "     'tokens': [{'position': 51, 'start_offset': 196, 'end_offset': 198}]},\n",
       "    '무엇보다/EOJ': {'term_freq': 1,\n",
       "     'tokens': [{'position': 51, 'start_offset': 196, 'end_offset': 200}]},\n",
       "    '물리/N': {'term_freq': 1,\n",
       "     'tokens': [{'position': 197, 'start_offset': 767, 'end_offset': 769}]},\n",
       "    '물리적/EOJ': {'term_freq': 1,\n",
       "     'tokens': [{'position': 197, 'start_offset': 767, 'end_offset': 770}]},\n",
       "    '미래/N': {'term_freq': 2,\n",
       "     'tokens': [{'position': 29, 'start_offset': 112, 'end_offset': 114},\n",
       "      {'position': 151, 'start_offset': 595, 'end_offset': 597}]},\n",
       "    '미래에/EOJ': {'term_freq': 1,\n",
       "     'tokens': [{'position': 29, 'start_offset': 112, 'end_offset': 115}]},\n",
       "    '및/M': {'term_freq': 2,\n",
       "     'tokens': [{'position': 192, 'start_offset': 754, 'end_offset': 755},\n",
       "      {'position': 204, 'start_offset': 800, 'end_offset': 801}]},\n",
       "    '받아들여야/EOJ': {'term_freq': 1,\n",
       "     'tokens': [{'position': 126, 'start_offset': 500, 'end_offset': 505}]},\n",
       "    '받아들이/V': {'term_freq': 1,\n",
       "     'tokens': [{'position': 126, 'start_offset': 500, 'end_offset': 504}]},\n",
       "    '발명/N': {'term_freq': 2,\n",
       "     'tokens': [{'position': 40, 'start_offset': 151, 'end_offset': 153},\n",
       "      {'position': 163, 'start_offset': 643, 'end_offset': 645}]},\n",
       "    '발명별로/EOJ': {'term_freq': 1,\n",
       "     'tokens': [{'position': 163, 'start_offset': 643, 'end_offset': 647}]},\n",
       "    '발명하고/EOJ': {'term_freq': 1,\n",
       "     'tokens': [{'position': 40, 'start_offset': 151, 'end_offset': 155}]},\n",
       "    '방식/N': {'term_freq': 2,\n",
       "     'tokens': [{'position': 82, 'start_offset': 320, 'end_offset': 322},\n",
       "      {'position': 146, 'start_offset': 576, 'end_offset': 578}]},\n",
       "    '방식을/EOJ': {'term_freq': 1,\n",
       "     'tokens': [{'position': 82, 'start_offset': 320, 'end_offset': 323}]},\n",
       "    '방식이/EOJ': {'term_freq': 1,\n",
       "     'tokens': [{'position': 146, 'start_offset': 576, 'end_offset': 579}]},\n",
       "    '배송/N': {'term_freq': 1,\n",
       "     'tokens': [{'position': 240, 'start_offset': 939, 'end_offset': 941}]},\n",
       "    '변화/N': {'term_freq': 3,\n",
       "     'tokens': [{'position': 83, 'start_offset': 324, 'end_offset': 326},\n",
       "      {'position': 109, 'start_offset': 430, 'end_offset': 432},\n",
       "      {'position': 144, 'start_offset': 567, 'end_offset': 569}]},\n",
       "    '변화는/EOJ': {'term_freq': 1,\n",
       "     'tokens': [{'position': 109, 'start_offset': 430, 'end_offset': 433}]},\n",
       "    '변화시킨/EOJ': {'term_freq': 1,\n",
       "     'tokens': [{'position': 83, 'start_offset': 324, 'end_offset': 328}]},\n",
       "    '변화에/EOJ': {'term_freq': 1,\n",
       "     'tokens': [{'position': 144, 'start_offset': 567, 'end_offset': 570}]},\n",
       "    '보/V': {'term_freq': 1,\n",
       "     'tokens': [{'position': 123, 'start_offset': 489, 'end_offset': 490}]},\n",
       "    '보았을/EOJ': {'term_freq': 1,\n",
       "     'tokens': [{'position': 123, 'start_offset': 489, 'end_offset': 492}]},\n",
       "    '보이/V': {'term_freq': 2,\n",
       "     'tokens': [{'position': 143, 'start_offset': 563, 'end_offset': 565},\n",
       "      {'position': 216, 'start_offset': 846, 'end_offset': 848}]},\n",
       "    '보이는/EOJ': {'term_freq': 1,\n",
       "     'tokens': [{'position': 143, 'start_offset': 563, 'end_offset': 566}]},\n",
       "    '보이지/EOJ': {'term_freq': 1,\n",
       "     'tokens': [{'position': 216, 'start_offset': 846, 'end_offset': 849}]},\n",
       "    '부문/N': {'term_freq': 1,\n",
       "     'tokens': [{'position': 75, 'start_offset': 290, 'end_offset': 292}]},\n",
       "    '비즈니스/N': {'term_freq': 2,\n",
       "     'tokens': [{'position': 162, 'start_offset': 635, 'end_offset': 639},\n",
       "      {'position': 185, 'start_offset': 724, 'end_offset': 728}]},\n",
       "    '비즈니스를/EOJ': {'term_freq': 1,\n",
       "     'tokens': [{'position': 185, 'start_offset': 724, 'end_offset': 729}]},\n",
       "    '비즈니스별로/EOJ': {'term_freq': 1,\n",
       "     'tokens': [{'position': 162, 'start_offset': 635, 'end_offset': 641}]},\n",
       "    '살펴보/V': {'term_freq': 2,\n",
       "     'tokens': [{'position': 165, 'start_offset': 652, 'end_offset': 655},\n",
       "      {'position': 241, 'start_offset': 944, 'end_offset': 947}]},\n",
       "    '살펴보고/EOJ': {'term_freq': 2,\n",
       "     'tokens': [{'position': 165, 'start_offset': 652, 'end_offset': 656},\n",
       "      {'position': 241, 'start_offset': 944, 'end_offset': 948}]},\n",
       "    '상당/N': {'term_freq': 1,\n",
       "     'tokens': [{'position': 1, 'start_offset': 4, 'end_offset': 6}]},\n",
       "    '상당한/EOJ': {'term_freq': 1,\n",
       "     'tokens': [{'position': 1, 'start_offset': 4, 'end_offset': 7}]},\n",
       "    '서점/N': {'term_freq': 1,\n",
       "     'tokens': [{'position': 191, 'start_offset': 751, 'end_offset': 753}]},\n",
       "    '성공/N': {'term_freq': 1,\n",
       "     'tokens': [{'position': 137, 'start_offset': 542, 'end_offset': 544}]},\n",
       "    '성공합니다/EOJ': {'term_freq': 1,\n",
       "     'tokens': [{'position': 137, 'start_offset': 542, 'end_offset': 547}]},\n",
       "    '소리/N': {'term_freq': 1,\n",
       "     'tokens': [{'position': 25, 'start_offset': 94, 'end_offset': 96}]},\n",
       "    '소매/N': {'term_freq': 1,\n",
       "     'tokens': [{'position': 11, 'start_offset': 45, 'end_offset': 47}]},\n",
       "    '속도/N': {'term_freq': 1,\n",
       "     'tokens': [{'position': 54, 'start_offset': 208, 'end_offset': 210}]},\n",
       "    '속도를/EOJ': {'term_freq': 1,\n",
       "     'tokens': [{'position': 54, 'start_offset': 208, 'end_offset': 211}]},\n",
       "    '수/N': {'term_freq': 2,\n",
       "     'tokens': [{'position': 36, 'start_offset': 139, 'end_offset': 140},\n",
       "      {'position': 213, 'start_offset': 837, 'end_offset': 838}]},\n",
       "    '수익/N': {'term_freq': 5,\n",
       "     'tokens': [{'position': 85, 'start_offset': 333, 'end_offset': 335},\n",
       "      {'position': 173, 'start_offset': 683, 'end_offset': 685},\n",
       "      {'position': 181, 'start_offset': 710, 'end_offset': 712},\n",
       "      {'position': 211, 'start_offset': 830, 'end_offset': 832},\n",
       "      {'position': 226, 'start_offset': 888, 'end_offset': 890}]},\n",
       "    '수익률/EOJ': {'term_freq': 1,\n",
       "     'tokens': [{'position': 181, 'start_offset': 710, 'end_offset': 713}]},\n",
       "    '수익성을/EOJ': {'term_freq': 1,\n",
       "     'tokens': [{'position': 85, 'start_offset': 333, 'end_offset': 337}]},\n",
       "    '수익을/EOJ': {'term_freq': 2,\n",
       "     'tokens': [{'position': 211, 'start_offset': 830, 'end_offset': 833},\n",
       "      {'position': 226, 'start_offset': 888, 'end_offset': 891}]},\n",
       "    '수입/N': {'term_freq': 1,\n",
       "     'tokens': [{'position': 175, 'start_offset': 690, 'end_offset': 692}]},\n",
       "    '수정/N': {'term_freq': 1,\n",
       "     'tokens': [{'position': 242, 'start_offset': 949, 'end_offset': 951}]},\n",
       "    '수정했습니다/EOJ': {'term_freq': 1,\n",
       "     'tokens': [{'position': 242, 'start_offset': 949, 'end_offset': 955}]},\n",
       "    '수행/N': {'term_freq': 1,\n",
       "     'tokens': [{'position': 134, 'start_offset': 527, 'end_offset': 529}]},\n",
       "    '수행하는/EOJ': {'term_freq': 1,\n",
       "     'tokens': [{'position': 134, 'start_offset': 527, 'end_offset': 531}]},\n",
       "    '스타/N': {'term_freq': 1,\n",
       "     'tokens': [{'position': 194, 'start_offset': 757, 'end_offset': 759}]},\n",
       "    '식료/N': {'term_freq': 1,\n",
       "     'tokens': [{'position': 235, 'start_offset': 925, 'end_offset': 927}]},\n",
       "    '식료품/EOJ': {'term_freq': 1,\n",
       "     'tokens': [{'position': 235, 'start_offset': 925, 'end_offset': 928}]},\n",
       "    '신생/N': {'term_freq': 1,\n",
       "     'tokens': [{'position': 69, 'start_offset': 271, 'end_offset': 273}]},\n",
       "    '싶/V': {'term_freq': 1,\n",
       "     'tokens': [{'position': 56, 'start_offset': 218, 'end_offset': 219}]},\n",
       "    '싶었습니다/EOJ': {'term_freq': 1,\n",
       "     'tokens': [{'position': 56, 'start_offset': 218, 'end_offset': 223}]},\n",
       "    '아마존/N': {'term_freq': 2,\n",
       "     'tokens': [{'position': 7, 'start_offset': 31, 'end_offset': 34},\n",
       "      {'position': 31, 'start_offset': 120, 'end_offset': 123}]},\n",
       "    '아마존을/EOJ': {'term_freq': 1,\n",
       "     'tokens': [{'position': 31, 'start_offset': 120, 'end_offset': 124}]},\n",
       "    '안팎/N': {'term_freq': 1,\n",
       "     'tokens': [{'position': 6, 'start_offset': 25, 'end_offset': 27}]},\n",
       "    '안팎에서는/EOJ': {'term_freq': 1,\n",
       "     'tokens': [{'position': 6, 'start_offset': 25, 'end_offset': 30}]},\n",
       "    '않/V': {'term_freq': 1,\n",
       "     'tokens': [{'position': 217, 'start_offset': 850, 'end_offset': 851}]},\n",
       "    '않는/EOJ': {'term_freq': 1,\n",
       "     'tokens': [{'position': 217, 'start_offset': 850, 'end_offset': 852}]},\n",
       "    '알/V': {'term_freq': 1,\n",
       "     'tokens': [{'position': 43, 'start_offset': 163, 'end_offset': 164}]},\n",
       "    '알고/EOJ': {'term_freq': 1,\n",
       "     'tokens': [{'position': 43, 'start_offset': 163, 'end_offset': 165}]},\n",
       "    '알려짐/EOJ': {'term_freq': 1,\n",
       "     'tokens': [{'position': 13, 'start_offset': 51, 'end_offset': 54}]},\n",
       "    '알리/V': {'term_freq': 1,\n",
       "     'tokens': [{'position': 13, 'start_offset': 51, 'end_offset': 53}]},\n",
       "    '앞/N': {'term_freq': 1,\n",
       "     'tokens': [{'position': 142, 'start_offset': 560, 'end_offset': 561}]},\n",
       "    '앞에/EOJ': {'term_freq': 1,\n",
       "     'tokens': [{'position': 142, 'start_offset': 560, 'end_offset': 562}]},\n",
       "    '억/N': {'term_freq': 1,\n",
       "     'tokens': [{'position': 90, 'start_offset': 350, 'end_offset': 351}]},\n",
       "    '얻/V': {'term_freq': 1,\n",
       "     'tokens': [{'position': 212, 'start_offset': 834, 'end_offset': 835}]},\n",
       "    '얻을/EOJ': {'term_freq': 1,\n",
       "     'tokens': [{'position': 212, 'start_offset': 834, 'end_offset': 836}]},\n",
       "    '업체/N': {'term_freq': 1,\n",
       "     'tokens': [{'position': 12, 'start_offset': 47, 'end_offset': 49}]},\n",
       "    '업체로/EOJ': {'term_freq': 1,\n",
       "     'tokens': [{'position': 12, 'start_offset': 47, 'end_offset': 50}]},\n",
       "    '여전히/M': {'term_freq': 1,\n",
       "     'tokens': [{'position': 0, 'start_offset': 0, 'end_offset': 3}]},\n",
       "    '연간/N': {'term_freq': 1,\n",
       "     'tokens': [{'position': 87, 'start_offset': 341, 'end_offset': 343}]},\n",
       "    '예/N': {'term_freq': 1,\n",
       "     'tokens': [{'position': 188, 'start_offset': 741, 'end_offset': 742}]},\n",
       "    '예를/EOJ': {'term_freq': 1,\n",
       "     'tokens': [{'position': 188, 'start_offset': 741, 'end_offset': 743}]},\n",
       "    '오/V': {'term_freq': 1,\n",
       "     'tokens': [{'position': 121, 'start_offset': 483, 'end_offset': 484}]},\n",
       "    '오는/EOJ': {'term_freq': 1,\n",
       "     'tokens': [{'position': 121, 'start_offset': 483, 'end_offset': 485}]},\n",
       "    '온라인/N': {'term_freq': 2,\n",
       "     'tokens': [{'position': 10, 'start_offset': 41, 'end_offset': 44},\n",
       "      {'position': 234, 'start_offset': 921, 'end_offset': 924}]},\n",
       "    '우리/N': {'term_freq': 10,\n",
       "     'tokens': [{'position': 28, 'start_offset': 108, 'end_offset': 110},\n",
       "      {'position': 45, 'start_offset': 172, 'end_offset': 174},\n",
       "      {'position': 52, 'start_offset': 201, 'end_offset': 203},\n",
       "      {'position': 57, 'start_offset': 224, 'end_offset': 226},\n",
       "      {'position': 139, 'start_offset': 551, 'end_offset': 553},\n",
       "      {'position': 141, 'start_offset': 557, 'end_offset': 559},\n",
       "      {'position': 150, 'start_offset': 591, 'end_offset': 593},\n",
       "      {'position': 159, 'start_offset': 624, 'end_offset': 626},\n",
       "      {'position': 190, 'start_offset': 747, 'end_offset': 749},\n",
       "      {'position': 224, 'start_offset': 879, 'end_offset': 881}]},\n",
       "    '우리가/EOJ': {'term_freq': 1,\n",
       "     'tokens': [{'position': 224, 'start_offset': 879, 'end_offset': 882}]},\n",
       "    '우리는/EOJ': {'term_freq': 6,\n",
       "     'tokens': [{'position': 28, 'start_offset': 108, 'end_offset': 111},\n",
       "      {'position': 45, 'start_offset': 172, 'end_offset': 175},\n",
       "      {'position': 52, 'start_offset': 201, 'end_offset': 204},\n",
       "      {'position': 57, 'start_offset': 224, 'end_offset': 227},\n",
       "      {'position': 159, 'start_offset': 624, 'end_offset': 627},\n",
       "      {'position': 190, 'start_offset': 747, 'end_offset': 750}]},\n",
       "    '우리의/EOJ': {'term_freq': 1,\n",
       "     'tokens': [{'position': 150, 'start_offset': 591, 'end_offset': 594}]},\n",
       "    '운영/N': {'term_freq': 1,\n",
       "     'tokens': [{'position': 174, 'start_offset': 687, 'end_offset': 689}]},\n",
       "    '위하/V': {'term_freq': 1,\n",
       "     'tokens': [{'position': 32, 'start_offset': 125, 'end_offset': 127}]},\n",
       "    '의문/N': {'term_freq': 1,\n",
       "     'tokens': [{'position': 22, 'start_offset': 84, 'end_offset': 86}]},\n",
       "    '의문을/EOJ': {'term_freq': 1,\n",
       "     'tokens': [{'position': 22, 'start_offset': 84, 'end_offset': 87}]},\n",
       "    '의미/N': {'term_freq': 1,\n",
       "     'tokens': [{'position': 209, 'start_offset': 824, 'end_offset': 826}]},\n",
       "    '이/N': {'term_freq': 1,\n",
       "     'tokens': [{'position': 132, 'start_offset': 522, 'end_offset': 523}]},\n",
       "    '이니셔티브/N': {'term_freq': 1,\n",
       "     'tokens': [{'position': 167, 'start_offset': 659, 'end_offset': 664}]},\n",
       "    '이니셔티브의/EOJ': {'term_freq': 1,\n",
       "     'tokens': [{'position': 167, 'start_offset': 659, 'end_offset': 665}]},\n",
       "    '이르/V': {'term_freq': 1,\n",
       "     'tokens': [{'position': 77, 'start_offset': 297, 'end_offset': 299}]},\n",
       "    '이르기까지/EOJ': {'term_freq': 1,\n",
       "     'tokens': [{'position': 77, 'start_offset': 297, 'end_offset': 302}]},\n",
       "    '이를/EOJ': {'term_freq': 1,\n",
       "     'tokens': [{'position': 132, 'start_offset': 522, 'end_offset': 524}]},\n",
       "    '이상/N': {'term_freq': 1,\n",
       "     'tokens': [{'position': 232, 'start_offset': 914, 'end_offset': 916}]},\n",
       "    '이상의/EOJ': {'term_freq': 1,\n",
       "     'tokens': [{'position': 232, 'start_offset': 914, 'end_offset': 917}]},\n",
       "    '이유/N': {'term_freq': 1,\n",
       "     'tokens': [{'position': 20, 'start_offset': 77, 'end_offset': 79}]},\n",
       "    '이유에/EOJ': {'term_freq': 1,\n",
       "     'tokens': [{'position': 20, 'start_offset': 77, 'end_offset': 80}]},\n",
       "    '이제/M': {'term_freq': 1,\n",
       "     'tokens': [{'position': 68, 'start_offset': 268, 'end_offset': 270}]},\n",
       "    '인프라/N': {'term_freq': 1,\n",
       "     'tokens': [{'position': 80, 'start_offset': 310, 'end_offset': 313}]},\n",
       "    '인프라를/EOJ': {'term_freq': 1,\n",
       "     'tokens': [{'position': 80, 'start_offset': 310, 'end_offset': 314}]},\n",
       "    '일반/N': {'term_freq': 1,\n",
       "     'tokens': [{'position': 136, 'start_offset': 536, 'end_offset': 538}]},\n",
       "    '일반적으로/EOJ': {'term_freq': 1,\n",
       "     'tokens': [{'position': 136, 'start_offset': 536, 'end_offset': 541}]},\n",
       "    '일부/N': {'term_freq': 2,\n",
       "     'tokens': [{'position': 218, 'start_offset': 853, 'end_offset': 855},\n",
       "      {'position': 229, 'start_offset': 899, 'end_offset': 901}]},\n",
       "    '있/V': {'term_freq': 7,\n",
       "     'tokens': [{'position': 26, 'start_offset': 98, 'end_offset': 99},\n",
       "      {'position': 37, 'start_offset': 141, 'end_offset': 142},\n",
       "      {'position': 41, 'start_offset': 156, 'end_offset': 157},\n",
       "      {'position': 44, 'start_offset': 166, 'end_offset': 167},\n",
       "      {'position': 112, 'start_offset': 442, 'end_offset': 443},\n",
       "      {'position': 210, 'start_offset': 827, 'end_offset': 828},\n",
       "      {'position': 214, 'start_offset': 839, 'end_offset': 840}]},\n",
       "    '있는/EOJ': {'term_freq': 3,\n",
       "     'tokens': [{'position': 37, 'start_offset': 141, 'end_offset': 143},\n",
       "      {'position': 210, 'start_offset': 827, 'end_offset': 829},\n",
       "      {'position': 214, 'start_offset': 839, 'end_offset': 841}]},\n",
       "    '있다는/EOJ': {'term_freq': 1,\n",
       "     'tokens': [{'position': 41, 'start_offset': 156, 'end_offset': 159}]},\n",
       "    '있습니다/EOJ': {'term_freq': 1,\n",
       "     'tokens': [{'position': 112, 'start_offset': 442, 'end_offset': 446}]},\n",
       "    '있었습니다/EOJ': {'term_freq': 2,\n",
       "     'tokens': [{'position': 26, 'start_offset': 98, 'end_offset': 103},\n",
       "      {'position': 44, 'start_offset': 166, 'end_offset': 171}]},\n",
       "    '자/N': {'term_freq': 1,\n",
       "     'tokens': [{'position': 48, 'start_offset': 182, 'end_offset': 183}]},\n",
       "    '자본/N': {'term_freq': 2,\n",
       "     'tokens': [{'position': 2, 'start_offset': 8, 'end_offset': 10},\n",
       "      {'position': 180, 'start_offset': 707, 'end_offset': 709}]},\n",
       "    '자세히/M': {'term_freq': 1,\n",
       "     'tokens': [{'position': 164, 'start_offset': 648, 'end_offset': 651}]},\n",
       "    '잘/M': {'term_freq': 1,\n",
       "     'tokens': [{'position': 133, 'start_offset': 525, 'end_offset': 526}]},\n",
       "    '잠재/N': {'term_freq': 2,\n",
       "     'tokens': [{'position': 46, 'start_offset': 176, 'end_offset': 178},\n",
       "      {'position': 169, 'start_offset': 671, 'end_offset': 673}]},\n",
       "    '잠재력에/EOJ': {'term_freq': 1,\n",
       "     'tokens': [{'position': 169, 'start_offset': 671, 'end_offset': 675}]},\n",
       "    '잠재적/EOJ': {'term_freq': 1,\n",
       "     'tokens': [{'position': 46, 'start_offset': 176, 'end_offset': 179}]},\n",
       "    '장/N': {'term_freq': 1,\n",
       "     'tokens': [{'position': 129, 'start_offset': 514, 'end_offset': 515}]},\n",
       "    '장기/N': {'term_freq': 2,\n",
       "     'tokens': [{'position': 61, 'start_offset': 242, 'end_offset': 244},\n",
       "      {'position': 168, 'start_offset': 666, 'end_offset': 668}]},\n",
       "    '장기간에/EOJ': {'term_freq': 1,\n",
       "     'tokens': [{'position': 129, 'start_offset': 514, 'end_offset': 518}]},\n",
       "    '장기적인/EOJ': {'term_freq': 2,\n",
       "     'tokens': [{'position': 61, 'start_offset': 242, 'end_offset': 246},\n",
       "      {'position': 168, 'start_offset': 666, 'end_offset': 670}]},\n",
       "    '장치/N': {'term_freq': 1,\n",
       "     'tokens': [{'position': 220, 'start_offset': 859, 'end_offset': 861}]},\n",
       "    '장치에서/EOJ': {'term_freq': 1,\n",
       "     'tokens': [{'position': 220, 'start_offset': 859, 'end_offset': 863}]},\n",
       "    '적극/N': {'term_freq': 1,\n",
       "     'tokens': [{'position': 114, 'start_offset': 451, 'end_offset': 453}]},\n",
       "    '적극적으로/EOJ': {'term_freq': 1,\n",
       "     'tokens': [{'position': 114, 'start_offset': 451, 'end_offset': 456}]},\n",
       "    '전망/N': {'term_freq': 1,\n",
       "     'tokens': [{'position': 152, 'start_offset': 598, 'end_offset': 600}]},\n",
       "    '전망에/EOJ': {'term_freq': 1,\n",
       "     'tokens': [{'position': 152, 'start_offset': 598, 'end_offset': 601}]},\n",
       "    '전체/N': {'term_freq': 1,\n",
       "     'tokens': [{'position': 161, 'start_offset': 631, 'end_offset': 633}]},\n",
       "    '전체를/EOJ': {'term_freq': 1,\n",
       "     'tokens': [{'position': 161, 'start_offset': 631, 'end_offset': 634}]},\n",
       "    '전환/N': {'term_freq': 1,\n",
       "     'tokens': [{'position': 221, 'start_offset': 864, 'end_offset': 866}]},\n",
       "    '전환했습니다/EOJ': {'term_freq': 1,\n",
       "     'tokens': [{'position': 221, 'start_offset': 864, 'end_offset': 870}]},\n",
       "    '제기/N': {'term_freq': 1,\n",
       "     'tokens': [{'position': 23, 'start_offset': 88, 'end_offset': 90}]},\n",
       "    '제기하는/EOJ': {'term_freq': 1,\n",
       "     'tokens': [{'position': 23, 'start_offset': 88, 'end_offset': 92}]},\n",
       "    '조직/N': {'term_freq': 1,\n",
       "     'tokens': [{'position': 76, 'start_offset': 293, 'end_offset': 295}]},\n",
       "    '조직에/EOJ': {'term_freq': 1,\n",
       "     'tokens': [{'position': 76, 'start_offset': 293, 'end_offset': 296}]},\n",
       "    '주로/M': {'term_freq': 1,\n",
       "     'tokens': [{'position': 9, 'start_offset': 38, 'end_offset': 40}]},\n",
       "    '주문/N': {'term_freq': 1,\n",
       "     'tokens': [{'position': 237, 'start_offset': 929, 'end_offset': 931}]},\n",
       "    '주문에/EOJ': {'term_freq': 1,\n",
       "     'tokens': [{'position': 237, 'start_offset': 929, 'end_offset': 932}]},\n",
       "    '중단/N': {'term_freq': 2,\n",
       "     'tokens': [{'position': 201, 'start_offset': 781, 'end_offset': 783},\n",
       "      {'position': 208, 'start_offset': 818, 'end_offset': 820}]},\n",
       "    '중단하고/EOJ': {'term_freq': 1,\n",
       "     'tokens': [{'position': 201, 'start_offset': 781, 'end_offset': 785}]},\n",
       "    '중단했으며/EOJ': {'term_freq': 1,\n",
       "     'tokens': [{'position': 208, 'start_offset': 818, 'end_offset': 823}]},\n",
       "    '지/V': {'term_freq': 1,\n",
       "     'tokens': [{'position': 14, 'start_offset': 54, 'end_offset': 55}]},\n",
       "    '지나/V': {'term_freq': 1,\n",
       "     'tokens': [{'position': 155, 'start_offset': 614, 'end_offset': 616}]},\n",
       "    '창출/N': {'term_freq': 1,\n",
       "     'tokens': [{'position': 35, 'start_offset': 135, 'end_offset': 137}]},\n",
       "    '창출할/EOJ': {'term_freq': 1,\n",
       "     'tokens': [{'position': 35, 'start_offset': 135, 'end_offset': 138}]},\n",
       "    '초대/N': {'term_freq': 1,\n",
       "     'tokens': [{'position': 115, 'start_offset': 457, 'end_offset': 459}]},\n",
       "    '초대하고/EOJ': {'term_freq': 1,\n",
       "     'tokens': [{'position': 115, 'start_offset': 457, 'end_offset': 461}]},\n",
       "    '최신/N': {'term_freq': 1,\n",
       "     'tokens': [{'position': 219, 'start_offset': 856, 'end_offset': 858}]},\n",
       "    '추구/N': {'term_freq': 1,\n",
       "     'tokens': [{'position': 200, 'start_offset': 777, 'end_offset': 779}]},\n",
       "    '추구를/EOJ': {'term_freq': 1,\n",
       "     'tokens': [{'position': 200, 'start_offset': 777, 'end_offset': 780}]},\n",
       "    '출발/N': {'term_freq': 1,\n",
       "     'tokens': [{'position': 50, 'start_offset': 189, 'end_offset': 191}]},\n",
       "    '출발했습니다/EOJ': {'term_freq': 1,\n",
       "     'tokens': [{'position': 50, 'start_offset': 189, 'end_offset': 195}]},\n",
       "    '충분/XR': {'term_freq': 1,\n",
       "     'tokens': [{'position': 172, 'start_offset': 679, 'end_offset': 681}]},\n",
       "    '충분한/EOJ': {'term_freq': 1,\n",
       "     'tokens': [{'position': 172, 'start_offset': 679, 'end_offset': 682}]},\n",
       "    '컴퓨팅/N': {'term_freq': 1,\n",
       "     'tokens': [{'position': 16, 'start_offset': 62, 'end_offset': 65}]},\n",
       "    '컴퓨팅에/EOJ': {'term_freq': 1,\n",
       "     'tokens': [{'position': 16, 'start_offset': 62, 'end_offset': 66}]},\n",
       "    '클라우드/N': {'term_freq': 1,\n",
       "     'tokens': [{'position': 15, 'start_offset': 57, 'end_offset': 61}]},\n",
       "    '투자/N': {'term_freq': 5,\n",
       "     'tokens': [{'position': 3, 'start_offset': 11, 'end_offset': 13},\n",
       "      {'position': 18, 'start_offset': 70, 'end_offset': 72},\n",
       "      {'position': 60, 'start_offset': 236, 'end_offset': 238},\n",
       "      {'position': 102, 'start_offset': 394, 'end_offset': 396},\n",
       "      {'position': 179, 'start_offset': 704, 'end_offset': 706}]},\n",
       "    '투자가/EOJ': {'term_freq': 1,\n",
       "     'tokens': [{'position': 3, 'start_offset': 11, 'end_offset': 14}]},\n",
       "    '투자를/EOJ': {'term_freq': 2,\n",
       "     'tokens': [{'position': 18, 'start_offset': 70, 'end_offset': 73},\n",
       "      {'position': 102, 'start_offset': 394, 'end_offset': 397}]},\n",
       "    '투자하기로/EOJ': {'term_freq': 1,\n",
       "     'tokens': [{'position': 60, 'start_offset': 236, 'end_offset': 241}]},\n",
       "    '특별/N': {'term_freq': 1,\n",
       "     'tokens': [{'position': 38, 'start_offset': 144, 'end_offset': 146}]},\n",
       "    '특별한/EOJ': {'term_freq': 1,\n",
       "     'tokens': [{'position': 38, 'start_offset': 144, 'end_offset': 147}]},\n",
       "    '특정/N': {'term_freq': 1,\n",
       "     'tokens': [{'position': 184, 'start_offset': 721, 'end_offset': 723}]},\n",
       "    '팀/N': {'term_freq': 1,\n",
       "     'tokens': [{'position': 140, 'start_offset': 554, 'end_offset': 555}]},\n",
       "    '팀이/EOJ': {'term_freq': 1,\n",
       "     'tokens': [{'position': 140, 'start_offset': 554, 'end_offset': 556}]},\n",
       "    '폐쇄/N': {'term_freq': 1,\n",
       "     'tokens': [{'position': 186, 'start_offset': 730, 'end_offset': 732}]},\n",
       "    '폐쇄하게/EOJ': {'term_freq': 1,\n",
       "     'tokens': [{'position': 186, 'start_offset': 730, 'end_offset': 734}]},\n",
       "    '품/N': {'term_freq': 1,\n",
       "     'tokens': [{'position': 236, 'start_offset': 927, 'end_offset': 928}]},\n",
       "    '프로그램/N': {'term_freq': 1,\n",
       "     'tokens': [{'position': 230, 'start_offset': 902, 'end_offset': 906}]},\n",
       "    '필요/N': {'term_freq': 1,\n",
       "     'tokens': [{'position': 4, 'start_offset': 15, 'end_offset': 17}]},\n",
       "    '필요했습니다/EOJ': {'term_freq': 1,\n",
       "     'tokens': [{'position': 4, 'start_offset': 15, 'end_offset': 21}]},\n",
       "    '하/V': {'term_freq': 2,\n",
       "     'tokens': [{'position': 19, 'start_offset': 74, 'end_offset': 75},\n",
       "      {'position': 127, 'start_offset': 506, 'end_offset': 507}]},\n",
       "    '하는/EOJ': {'term_freq': 1,\n",
       "     'tokens': [{'position': 19, 'start_offset': 74, 'end_offset': 76}]},\n",
       "    '합니다/EOJ': {'term_freq': 1,\n",
       "     'tokens': [{'position': 127, 'start_offset': 506, 'end_offset': 509}]},\n",
       "    '항상/M': {'term_freq': 1,\n",
       "     'tokens': [{'position': 110, 'start_offset': 434, 'end_offset': 436}]},\n",
       "    '혁신/N': {'term_freq': 1,\n",
       "     'tokens': [{'position': 53, 'start_offset': 205, 'end_offset': 207}]},\n",
       "    '현금/N': {'term_freq': 1,\n",
       "     'tokens': [{'position': 177, 'start_offset': 697, 'end_offset': 699}]},\n",
       "    '회사/N': {'term_freq': 4,\n",
       "     'tokens': [{'position': 5, 'start_offset': 22, 'end_offset': 24},\n",
       "      {'position': 106, 'start_offset': 415, 'end_offset': 417},\n",
       "      {'position': 135, 'start_offset': 532, 'end_offset': 534},\n",
       "      {'position': 160, 'start_offset': 628, 'end_offset': 630}]},\n",
       "    '회사가/EOJ': {'term_freq': 1,\n",
       "     'tokens': [{'position': 106, 'start_offset': 415, 'end_offset': 418}]},\n",
       "    '회사는/EOJ': {'term_freq': 1,\n",
       "     'tokens': [{'position': 135, 'start_offset': 532, 'end_offset': 535}]},\n",
       "    '후/N': {'term_freq': 1,\n",
       "     'tokens': [{'position': 66, 'start_offset': 261, 'end_offset': 262}]},\n",
       "    '흐름/N': {'term_freq': 1,\n",
       "     'tokens': [{'position': 178, 'start_offset': 700, 'end_offset': 702}]}}}}}"
      ]
     },
     "execution_count": 76,
     "metadata": {},
     "output_type": "execute_result"
    }
   ],
   "source": [
    "os_client.termvectors(index=new_index_name, id=doc_id, fields='text')"
   ]
  },
  {
   "cell_type": "markdown",
   "metadata": {},
   "source": [
    "### 문서 및 임베딩 확인"
   ]
  },
  {
   "cell_type": "code",
   "execution_count": 77,
   "metadata": {
    "tags": []
   },
   "outputs": [
    {
     "name": "stdout",
     "output_type": "stream",
     "text": [
      "Average length among 10 documents loaded is 1606 characters.\n",
      "After the split we have 20 documents more than the original 10.\n",
      "Average length among 20 documents (after split) is 902 characters.\n"
     ]
    }
   ],
   "source": [
    "avg_doc_length = lambda documents: sum([len(doc.page_content) for doc in documents])//len(documents)\n",
    "avg_char_count_pre = avg_doc_length(documents)\n",
    "avg_char_count_post = avg_doc_length(docs)\n",
    "print(f'Average length among {len(documents)} documents loaded is {avg_char_count_pre} characters.')\n",
    "print(f'After the split we have {len(docs)} documents more than the original {len(documents)}.')\n",
    "print(f'Average length among {len(docs)} documents (after split) is {avg_char_count_post} characters.')"
   ]
  },
  {
   "cell_type": "code",
   "execution_count": 78,
   "metadata": {
    "tags": []
   },
   "outputs": [
    {
     "name": "stdout",
     "output_type": "stream",
     "text": [
      "docs[0].page_content: \n",
      " CEO로서 두 번째 연례 주주 서한을 작성하기 위해 자리에 앉았을 때 저는 Amazon의 앞날에 대해 낙관적이고 활력을 얻었습니다.2022년은 최근 기억에 있어 어려운 거시경제적 해 중 하나이고 우리 자체의 운영상의 어려움에도 불구하고 우리는 여전히 수요를 늘릴 방법을 찾았습니다(팬데믹 전반기에 경험한 전례 없는 성장에 더해).우리는 장단기적으로 고객 경험을 의미 있게 개선하기 위해 대규모 사업을 혁신했습니다.그리고 고객, 주주 및 직원을 위해 Amazon의 미래를 바꿀 수 있다고 믿는 장기 투자를 계속 유지하면서 투자 결정과 앞으로 나아갈 방법에 중요한 조정을 했습니다.  작년에 이례적인 수의 동시 도전 과제가 있었지만 현실은 유능하고 자금이 충분한 경쟁자가 많은 크고 역동적인 글로벌 시장 부문에서 운영하는 경우(아마존이 모든 비즈니스를 운영하는 조건) 조건이 오랫동안 정체되어 있는 경우는 드뭅니다.  제가 Amazon에 근무한 25년 동안 끊임없는 변화가 있었고 그 중 대부분은 우리가 스스로 시작했습니다.내가 1997년에 Amazon에 입사했을 때 우리는 1996년에 1,500만 달러의 매출을 올렸고, 도서 전용 소매업체였으며, 제3자 시장이 없었고, 미국 내 주소로만 배송되었습니다.오늘날 Amazon은 단위 판매의 60%를 차지하고 전 세계 거의 모든 국가의 고객에게 도달하는 활기찬 타사 판매자 에코시스템을 통해 상상할 수 있는 거의 모든 물리적 및 디지털 소매 품목을 판매합니다.마찬가지로 클라우드에서 일련의 기술 인프라 서비스를 중심으로 비즈니스를 구축하는 것은 AWS를 추구하기 시작한 2003년에는 분명하지 않았으며 2006년 첫 서비스를 출시했을 때도 마찬가지였습니다.거의 모든 책을 60초 안에 손끝에서 볼 수 있습니다 2007년 Kindle을 출시했을 때 가벼운 디지털 리더에 저장하고 검색할 수 있다는 것은 아직 \"사물\"이 아니었고 Alexa(2014년 출시)와 같이 액세스하는 데 사용할 수 있는 음성 기반 개인 비서도 아니었습니다.\n"
     ]
    }
   ],
   "source": [
    "print(\"docs[0].page_content: \\n\", docs[0].page_content)"
   ]
  },
  {
   "cell_type": "code",
   "execution_count": 79,
   "metadata": {
    "tags": []
   },
   "outputs": [
    {
     "name": "stdout",
     "output_type": "stream",
     "text": [
      "Sample embedding of a document chunk:  [ 0.58203125 -0.265625    0.29296875 ...  0.24023438 -0.51953125\n",
      " -0.36914062]\n",
      "Size of the embedding:  (1536,)\n"
     ]
    }
   ],
   "source": [
    "sample_embedding = np.array(bedrock_embeddings.embed_query(docs[0].page_content))\n",
    "print(\"Sample embedding of a document chunk: \", sample_embedding)\n",
    "print(\"Size of the embedding: \", sample_embedding.shape)"
   ]
  },
  {
   "cell_type": "markdown",
   "metadata": {
    "tags": []
   },
   "source": [
    "### Hybrid search\n",
    "\n",
    "LangChain에서 제공하는 Wrapper 클래스를 사용하여 벡터 데이터베이스 저장소를 쿼리하고 관련 문서를 반환할 수 있습니다. 뒤에서는 RetrievalQA 체인만 실행됩니다."
   ]
  },
  {
   "cell_type": "code",
   "execution_count": 81,
   "metadata": {
    "tags": []
   },
   "outputs": [],
   "source": [
    "from utils.rag import OpenSearchHybridSearchRetriever"
   ]
  },
  {
   "cell_type": "code",
   "execution_count": 85,
   "metadata": {
    "tags": []
   },
   "outputs": [],
   "source": [
    "opensearch_hybrid_retriever = OpenSearchHybridSearchRetriever(\n",
    "    os_client=os_client,\n",
    "    vector_db=vector_db,\n",
    "    index_name=new_index_name,\n",
    "    k=5,\n",
    "    fusion_algorithm=\"simple_weighted\", # [\"RRF\", \"simple_weighted\"]\n",
    "    ensemble_weights=[.2, .8], # [lexical, semantic]\n",
    "    verbose=False\n",
    ")"
   ]
  },
  {
   "cell_type": "code",
   "execution_count": 86,
   "metadata": {
    "tags": []
   },
   "outputs": [
    {
     "name": "stdout",
     "output_type": "stream",
     "text": [
      "lexical search query: \n",
      "{'query': {'bool': {'filter': [],\n",
      "                    'must': [{'match': {'text': {'minimum_should_match': '0%',\n",
      "                                                 'operator': 'or',\n",
      "                                                 'query': '아마존은 Generative AI '\n",
      "                                                          '의 전략이 무엇인가요?'}}}]}},\n",
      " 'size': 5}\n",
      "question: 아마존은 Generative AI 의 전략이 무엇인가요?\n",
      "response: [Document(page_content='여전히 상당한 자본 투자가 필요했습니다.회사 안팎에서는 아마존(당시 주로 온라인 소매업체로 알려짐)이 클라우드 컴퓨팅에 많은 투자를 하는 이유에 대해 의문을 제기하는 목소리가 있었습니다.그러나 우리는 미래에 고객과 아마존을 위해 많은 가치를 창출할 수 있는 특별한 것을 발명하고 있다는 것을 알고 있었습니다.우리는 잠재적 경쟁자보다 먼저 출발했습니다.무엇보다 우리는 혁신 속도를 가속화하고 싶었습니다.우리는 AWS에 계속 투자하기로 장기적인 결정을 내렸습니다.15년 후 AWS는 이제 신생 기업에서 다국적 기업, 공공 부문 조직에 이르기까지 고객이 기술 인프라를 관리하는 방식을 변화시킨 강력한 수익성을 갖춘 연간 매출 850억 달러 규모의 기업이 되었습니다.2008-2009년 기간 동안 AWS에 대한 투자를 늦추었다면 Amazon은 다른 회사가 되었을 것입니다.  변화는 항상 가까이에 있습니다.때로는 적극적으로 초대하고 때로는 그냥 노크합니다.그러나 그것이 오는 것을 보았을 때, 그것을 받아들여야 합니다.그리고 장기간에 걸쳐 이를 잘 수행하는 회사는 일반적으로 성공합니다.나는 우리 팀이 우리 앞에 보이는 변화에 대응하는 방식이 마음에 들기 때문에 우리의 미래 전망에 대해 낙관적입니다.  지난 몇 달 동안 우리는 회사 전체를 비즈니스별로, 발명별로 자세히 살펴보고 각 이니셔티브의 장기적인 잠재력에 대해 충분한 수익, 운영 수입, 무료 현금 흐름, 투자 자본 수익률.경우에 따라 특정 비즈니스를 폐쇄하게 되었습니다.예를 들어 우리는 서점 및 4스타 매장과 같은 물리적 매장 개념 추구를 중단하고 Amazon Fabric 및 Amazon Care 노력을 중단했으며 의미 있는 수익을 얻을 수 있는 경로가 보이지 않는 일부 최신 장치에서 전환했습니다.다른 경우에는 우리가 기대했던 수익을 내지 못하는 일부 프로그램(예: $35 이상의 모든 온라인 식료품 주문에 대한 무료 배송)을 살펴보고 수정했습니다.', metadata={'source': 'rag_data_kr_pdf/2022-Amazon-Stakeholder-Letter-KR.pdf', 'page': 1, 'id': '890da3de-ec41-49a5-b297-33510d5a8d23'}), Document(page_content='변화는 그 어느 때보다 낮은 가격으로 더 많은 양의 컴퓨팅 용량에 대한 액세스를 포함하여 몇 가지 요인에 의해 주도되었습니다.Amazon은 25년 동안 기계 학습을 광범위하게 사용해 왔으며 개인화된 전자 상거래 권장 사항부터 주문 처리 센터 선택 경로, Prime Air용 드론, Alexa, AWS가 제공하는 많은 기계 학습 서비스(AWS가 가장 광범위한 기계를 보유한 곳) 모든 클라우드 공급자의 학습 기능 및 고객 기반).보다 최근에는 GeneraTve AI라고 하는 새로운 형태의 기계 학습이 등장하여 기계 학습 채택을 크게 가속화할 것이라고 약속합니다.제너레이티브 AI는 매우 큰 언어 모델(최대 천억 개의 매개변수에 대해 훈련되고 계속 증가하고 있음)을 기반으로 하며 광범위한 데이터 세트에 걸쳐 매우 일반적이고 광범위한 리콜 및 학습 기능을 갖추고 있습니다.우리는 한동안 자체 LLM에 대해 작업해 왔으며 이것이 거의 모든 고객 경험을 변화시키고 개선할 것이라고 믿으며 모든 소비자, 판매자, 브랜드 및 제작자 경험에 걸쳐 이러한 모델에 계속해서 상당한 투자를 할 것입니다.또한 AWS에서 수년간 해왔듯이 모든 규모의 회사가 제너레이티브 AI를 활용할 수 있도록 이 기술을 민주화하고 있습니다.AWS는 Trainium 및 InferenTa에서 가장 가격 대비 성능이 뛰어난 기계 학습 칩을 제공하므로 소규모 및 대규모 기업이 프로덕션 환경에서 LLM을 교육하고 실행할 수 있습니다.우리는 회사가 다양한 LLM 중에서 선택하고 고객이 사용하는 데 익숙한 모든 AWS 보안, 개인 정보 보호 및 기타 기능을 갖춘 애플리케이션을 구축할 수 있도록 합니다.또한 실시간으로 코드 제안을 생성하여 개발자 생산성을 혁신하는 AWS의 CodeWhisperer와 같은 애플리케이션을 제공하고 있습니다.LLM과 GeneraTve AI가 그렇게 변혁적일 것이라고 생각하기 때문에 전체 편지를 쓸 수 있지만 향후 편지로 남겨두겠습니다.', metadata={'source': 'rag_data_kr_pdf/2022-Amazon-Stakeholder-Letter-KR.pdf', 'page': 9, 'id': 'cf79af32-c4ff-48e0-b3c6-7d98e1c8e770'}), Document(page_content='우리는 회사가 다양한 LLM 중에서 선택하고 고객이 사용하는 데 익숙한 모든 AWS 보안, 개인 정보 보호 및 기타 기능을 갖춘 애플리케이션을 구축할 수 있도록 합니다.또한 실시간으로 코드 제안을 생성하여 개발자 생산성을 혁신하는 AWS의 CodeWhisperer와 같은 애플리케이션을 제공하고 있습니다.LLM과 GeneraTve AI가 그렇게 변혁적일 것이라고 생각하기 때문에 전체 편지를 쓸 수 있지만 향후 편지로 남겨두겠습니다.LLM과 GeneraTve AI가 고객, 주주 및 Amazon에게 큰 문제가 될 것이라고 가정해 보겠습니다.  그래서 마지막으로 저는 우리가 이 도전적인 거시경제 시대에 진입했을 때보다 더 강력한 위치에서 등장할 것이라고 낙관합니다.여기에는 몇 가지 이유가 있으며 위에서 많은 이유를 언급했습니다.그러나 우리의 엄청난 미래 기회를 강조하는 두 가지 비교적 간단한 통계가 있습니다.우리는 2022년에 4,340억 달러 규모의 소비자 비즈니스를 보유하고 있지만, 전 세계 소매업의 전체 시장 부문 점유율의 대부분은 여전히 물리적 매장에 있습니다(약 80%).그리고 2022년에 AWS 수익이 800억 달러이고 글로벌 IT 지출의 약 90%가 여전히 온프레미스에 있지만 아직 클라우드로 마이그레이션하지 않는 글로벌 IT 지출에 대한 유사한 이야기입니다.우리가 이미 보고 있는 것처럼 이러한 방정식이 꾸준히 역전됨에 따라 우리는 선도적인 고객 경험, 끊임없는 발명, 고객 중심 및 노력이 향후 몇 년 동안 상당한 성장을 가져올 것이라고 믿습니다.그리고 물론 여기에는 Amazon에서 추구하는 다른 비즈니스와 경험이 포함되지 않으며 모두 아직 초기 단계입니다.  저는 우리의 최고의 날이 우리 앞에 와 있다고 굳게 믿으며, 그렇게 되도록 Amazon의 팀원들과 협력하기를 기대합니다.', metadata={'source': 'rag_data_kr_pdf/2022-Amazon-Stakeholder-Letter-KR.pdf', 'page': 9, 'id': 'ace342a2-7488-455b-b252-16db3b824303'}), Document(page_content='그러나 이러한 변화의 속도와 규모로 인해 의도한 생산성을 얻기 위해서는 많은 최적화가 필요했습니다.지난 몇 달 동안 우리는 주문 처리 센터 및 운송 네트워크의 모든 프로세스 경로를 면밀히 조사하고 수십 가지 프로세스 및 메커니즘을 재설계하여 지난 몇 분기 동안 꾸준한 생산성 향상과 비용 절감을 가져왔습니다.해야 할 일이 더 많지만 우리의 궤적과 우리 앞에 있는 의미 있는 상승세에 만족합니다.  우리는 또한 앞으로 수년 동안 더 낮은 비용과 더 빠른 속도를 제공할 수 있도록 더 큰 구조적 변화를 만들기 위해 이 기회를 잡았습니다.좋은 예는 미국 주문 처리 네트워크가 어떻게 구성되어 있는지 재평가하는 것입니다.최근까지 아마존은 미국 전역에 퍼져 있는 주문 처리 센터의 재고를 분배하는 하나의 미국 전국 주문 처리 네트워크를 운영했습니다.지역 주문 처리 센터에 고객이 주문한 제품이 없으면 결국 다른 지역에서 배송하게 되므로 더 많은 비용이 들고 배송 시간이 늘어납니다.이 문제는 주문 처리 네트워크가 지난 몇 년 동안 수백 개의 추가 노드로 확장되어 더 많은 위치에 재고를 분배하고 주문 처리 센터와 배송 스테이션 노드를 효율적으로 연결하는 복잡성이 증가함에 따라 더욱 두드러졌습니다.작년에 우리는 재고 배치 전략을 재설계하고 더 큰 주문 처리 센터 공간을 활용하여 전국 주문 처리 네트워크에서 지역화된 네트워크 모델로 이동하기 시작했습니다.우리는 더 작은 지리적 영역에 8개의 상호 연결된 지역을 만들기 위해', metadata={'source': 'rag_data_kr_pdf/2022-Amazon-Stakeholder-Letter-KR.pdf', 'page': 2, 'id': 'ad8d28fa-9fa1-47cd-9f1a-cceac97ccfd1'}), Document(page_content='인터넷에 안정적으로 액세스할 수 없는 수억 개의 가정과 기업이 있습니다.사람들이 온라인 교육 과정을 수강하고, 금융 서비스를 사용하고, 사업을 시작하고, 쇼핑을 하고, 엔터테인먼트를 즐기는 것부터 서비스 범위, 효율성 및 운영을 개선하는 기업 및 정부에 이르기까지 안정적인 연결로 무엇을 할 수 있을지 상상해 보십시오.Kuiper는 접근성뿐만 아니라 경제성도 제공할 것입니다.우리 팀은 액세스 장벽을 낮출 저비용 안테나(예: 고객 단말기)를 개발했습니다.우리는 최근 오버헤드를 통과하는 위성과 통신할 새 터미널을 공개했으며 표준 주거용 버전을 개당 $400 미만으로 생산할 수 있을 것으로 기대합니다.그것들은 작습니다: 11인치 정사각형, 1인치 두께, 마운팅 브래킷을 제외하고 무게는 5파운드 미만이지만 초당 최대 400메가비트의 속도를 제공합니다.그리고 Amazon에서 설계한 베이스밴드 칩으로 구동됩니다.우리는 올해 전체 엔드-투-엔드 통신 네트워크를 테스트하기 위해 두 개의 프로토타입 위성을 발사할 준비를 하고 있으며 2024년에는 상용 고객과 함께 베타 테스트를 할 계획입니다.지금까지 Kuiper에 대해 공유한 내용에 대한 고객 반응은 매우 긍정적이며 Kuiper가 Amazon에 매우 큰 잠재적 기회를 제공한다고 믿습니다.또한 처음에는 자본 집약적이라는 점에서 AWS와 몇 가지 유사점을 공유하지만 잠재 소비자, 기업 및 정부 고객 기반이 넓고 상당한 수익 및 영업 이익 잠재력이 있으며 기술 및 창의적 능력을 갖춘 회사가 상대적으로 적다는 점에서 AWS와 유사합니다.그것을 추구하는 투자 가설로.  제가 언급할 마지막 투자 영역은 Amazon이 앞으로 수십 년 동안 모든 비즈니스 영역에서 발명할 수 있도록 설정하는 핵심이며 대규모 언어 모델(\"LLM\") 및 생성 AI입니다.머신 러닝은 수십 년 동안 유망한 기술이었지만 기업에서 널리 사용되기 시작한 것은 불과 5~10년 전입니다.이러한', metadata={'source': 'rag_data_kr_pdf/2022-Amazon-Stakeholder-Letter-KR.pdf', 'page': 8, 'id': 'd64b0ffe-f741-4ea7-9b47-a062a642ab39'})] 5\n"
     ]
    }
   ],
   "source": [
    "query = \"아마존은 Generative AI 의 전략이 무엇인가요?\"\n",
    "search_hybrid_result = opensearch_hybrid_retriever.get_relevant_documents(query)\n",
    "\n",
    "print(f'question: {query}')\n",
    "print(f'response: {search_hybrid_result}', len(search_hybrid_result))"
   ]
  },
  {
   "cell_type": "markdown",
   "metadata": {},
   "source": [
    "하이브리드(lexical + semantic) 검색이 어떻게 작동하는지 살펴보겠습니다.\n",
    "1. 먼저 쿼리에 대한 임베딩 벡터를 계산하고\n",
    "2. 그런 다음 이 벡터를 사용하여 벡터 스토어에서 유사성 검색을 수행한다.\n",
    "3. document 풀을 기반으로 쿼리에 대한 full text 검색을 수행한다.\n",
    "4. 두가지 결과를 바탕으로 re-ranking을 한다.\n",
    "5. 결과를 반환한다."
   ]
  },
  {
   "cell_type": "code",
   "execution_count": 87,
   "metadata": {
    "tags": []
   },
   "outputs": [
    {
     "name": "stdout",
     "output_type": "stream",
     "text": [
      "[0.765625, -0.59375, -0.08300781, -0.29296875, 0.86328125, -0.19140625, 0.06542969, -0.00034332275, -1.2109375, -0.578125] 1536\n",
      "여전히 상당한 자본 투자가 필요했습니다.회사 안팎에서는 아마존(당시 주로 온라인 소매업체로 알려짐)이 클라우드 컴퓨팅에 많은 투자를 하는 이유에 대해 의문을 제기하는 목소리가\n",
      "있었습니다.그러나 우리는 미래에 고객과 아마존을 위해 많은 가치를 창출할 수 있는 특별한 것을 발명하고 있다는 것을 알고 있었습니다.우리는 잠재적 경쟁자보다 먼저\n",
      "출발했습니다.무엇보다 우리는 혁신 속도를 가속화하고 싶었습니다.우리는 AWS에 계속 투자하기로 장기적인 결정을 내렸습니다.15년 후 AWS는 이제 신생 기업에서 다국적 기업, 공공\n",
      "부문 조직에 이르기까지 고객이 기술 인프라를 관리하는 방식을 변화시킨 강력한 수익성을 갖춘 연간 매출 850억 달러 규모의 기업이 되었습니다.2008-2009년 기간 동안 AWS에\n",
      "대한 투자를 늦추었다면 Amazon은 다른 회사가 되었을 것입니다.  변화는 항상 가까이에 있습니다.때로는 적극적으로 초대하고 때로는 그냥 노크합니다.그러나 그것이 오는 것을\n",
      "보았을 때, 그것을 받아들여야 합니다.그리고 장기간에 걸쳐 이를 잘 수행하는 회사는 일반적으로 성공합니다.나는 우리 팀이 우리 앞에 보이는 변화에 대응하는 방식이 마음에 들기\n",
      "때문에 우리의 미래 전망에 대해 낙관적입니다.  지난 몇 달 동안 우리는 회사 전체를 비즈니스별로, 발명별로 자세히 살펴보고 각 이니셔티브의 장기적인 잠재력에 대해 충분한 수익,\n",
      "운영 수입, 무료 현금 흐름, 투자 자본 수익률.경우에 따라 특정 비즈니스를 폐쇄하게 되었습니다.예를 들어 우리는 서점 및 4스타 매장과 같은 물리적 매장 개념 추구를 중단하고\n",
      "Amazon Fabric 및 Amazon Care 노력을 중단했으며 의미 있는 수익을 얻을 수 있는 경로가 보이지 않는 일부 최신 장치에서 전환했습니다.다른 경우에는 우리가\n",
      "기대했던 수익을 내지 못하는 일부 프로그램(예: $35 이상의 모든 온라인 식료품 주문에 대한 무료 배송)을 살펴보고 수정했습니다.\n",
      "----\n",
      "변화는 그 어느 때보다 낮은 가격으로 더 많은 양의 컴퓨팅 용량에 대한 액세스를 포함하여 몇 가지 요인에 의해 주도되었습니다.Amazon은 25년 동안 기계 학습을 광범위하게\n",
      "사용해 왔으며 개인화된 전자 상거래 권장 사항부터 주문 처리 센터 선택 경로, Prime Air용 드론, Alexa, AWS가 제공하는 많은 기계 학습 서비스(AWS가 가장\n",
      "광범위한 기계를 보유한 곳) 모든 클라우드 공급자의 학습 기능 및 고객 기반).보다 최근에는 GeneraTve AI라고 하는 새로운 형태의 기계 학습이 등장하여 기계 학습 채택을\n",
      "크게 가속화할 것이라고 약속합니다.제너레이티브 AI는 매우 큰 언어 모델(최대 천억 개의 매개변수에 대해 훈련되고 계속 증가하고 있음)을 기반으로 하며 광범위한 데이터 세트에 걸쳐\n",
      "매우 일반적이고 광범위한 리콜 및 학습 기능을 갖추고 있습니다.우리는 한동안 자체 LLM에 대해 작업해 왔으며 이것이 거의 모든 고객 경험을 변화시키고 개선할 것이라고 믿으며 모든\n",
      "소비자, 판매자, 브랜드 및 제작자 경험에 걸쳐 이러한 모델에 계속해서 상당한 투자를 할 것입니다.또한 AWS에서 수년간 해왔듯이 모든 규모의 회사가 제너레이티브 AI를 활용할 수\n",
      "있도록 이 기술을 민주화하고 있습니다.AWS는 Trainium 및 InferenTa에서 가장 가격 대비 성능이 뛰어난 기계 학습 칩을 제공하므로 소규모 및 대규모 기업이 프로덕션\n",
      "환경에서 LLM을 교육하고 실행할 수 있습니다.우리는 회사가 다양한 LLM 중에서 선택하고 고객이 사용하는 데 익숙한 모든 AWS 보안, 개인 정보 보호 및 기타 기능을 갖춘\n",
      "애플리케이션을 구축할 수 있도록 합니다.또한 실시간으로 코드 제안을 생성하여 개발자 생산성을 혁신하는 AWS의 CodeWhisperer와 같은 애플리케이션을 제공하고\n",
      "있습니다.LLM과 GeneraTve AI가 그렇게 변혁적일 것이라고 생각하기 때문에 전체 편지를 쓸 수 있지만 향후 편지로 남겨두겠습니다.\n",
      "----\n",
      "우리는 회사가 다양한 LLM 중에서 선택하고 고객이 사용하는 데 익숙한 모든 AWS 보안, 개인 정보 보호 및 기타 기능을 갖춘 애플리케이션을 구축할 수 있도록 합니다.또한\n",
      "실시간으로 코드 제안을 생성하여 개발자 생산성을 혁신하는 AWS의 CodeWhisperer와 같은 애플리케이션을 제공하고 있습니다.LLM과 GeneraTve AI가 그렇게 변혁적일\n",
      "것이라고 생각하기 때문에 전체 편지를 쓸 수 있지만 향후 편지로 남겨두겠습니다.LLM과 GeneraTve AI가 고객, 주주 및 Amazon에게 큰 문제가 될 것이라고 가정해\n",
      "보겠습니다.  그래서 마지막으로 저는 우리가 이 도전적인 거시경제 시대에 진입했을 때보다 더 강력한 위치에서 등장할 것이라고 낙관합니다.여기에는 몇 가지 이유가 있으며 위에서 많은\n",
      "이유를 언급했습니다.그러나 우리의 엄청난 미래 기회를 강조하는 두 가지 비교적 간단한 통계가 있습니다.우리는 2022년에 4,340억 달러 규모의 소비자 비즈니스를 보유하고\n",
      "있지만, 전 세계 소매업의 전체 시장 부문 점유율의 대부분은 여전히 물리적 매장에 있습니다(약 80%).그리고 2022년에 AWS 수익이 800억 달러이고 글로벌 IT 지출의 약\n",
      "90%가 여전히 온프레미스에 있지만 아직 클라우드로 마이그레이션하지 않는 글로벌 IT 지출에 대한 유사한 이야기입니다.우리가 이미 보고 있는 것처럼 이러한 방정식이 꾸준히 역전됨에\n",
      "따라 우리는 선도적인 고객 경험, 끊임없는 발명, 고객 중심 및 노력이 향후 몇 년 동안 상당한 성장을 가져올 것이라고 믿습니다.그리고 물론 여기에는 Amazon에서 추구하는 다른\n",
      "비즈니스와 경험이 포함되지 않으며 모두 아직 초기 단계입니다.  저는 우리의 최고의 날이 우리 앞에 와 있다고 굳게 믿으며, 그렇게 되도록 Amazon의 팀원들과 협력하기를\n",
      "기대합니다.\n",
      "----\n",
      "그러나 이러한 변화의 속도와 규모로 인해 의도한 생산성을 얻기 위해서는 많은 최적화가 필요했습니다.지난 몇 달 동안 우리는 주문 처리 센터 및 운송 네트워크의 모든 프로세스 경로를\n",
      "면밀히 조사하고 수십 가지 프로세스 및 메커니즘을 재설계하여 지난 몇 분기 동안 꾸준한 생산성 향상과 비용 절감을 가져왔습니다.해야 할 일이 더 많지만 우리의 궤적과 우리 앞에\n",
      "있는 의미 있는 상승세에 만족합니다.  우리는 또한 앞으로 수년 동안 더 낮은 비용과 더 빠른 속도를 제공할 수 있도록 더 큰 구조적 변화를 만들기 위해 이 기회를 잡았습니다.좋은\n",
      "예는 미국 주문 처리 네트워크가 어떻게 구성되어 있는지 재평가하는 것입니다.최근까지 아마존은 미국 전역에 퍼져 있는 주문 처리 센터의 재고를 분배하는 하나의 미국 전국 주문 처리\n",
      "네트워크를 운영했습니다.지역 주문 처리 센터에 고객이 주문한 제품이 없으면 결국 다른 지역에서 배송하게 되므로 더 많은 비용이 들고 배송 시간이 늘어납니다.이 문제는 주문 처리\n",
      "네트워크가 지난 몇 년 동안 수백 개의 추가 노드로 확장되어 더 많은 위치에 재고를 분배하고 주문 처리 센터와 배송 스테이션 노드를 효율적으로 연결하는 복잡성이 증가함에 따라 더욱\n",
      "두드러졌습니다.작년에 우리는 재고 배치 전략을 재설계하고 더 큰 주문 처리 센터 공간을 활용하여 전국 주문 처리 네트워크에서 지역화된 네트워크 모델로 이동하기 시작했습니다.우리는\n",
      "더 작은 지리적 영역에 8개의 상호 연결된 지역을 만들기 위해\n",
      "----\n",
      "인터넷에 안정적으로 액세스할 수 없는 수억 개의 가정과 기업이 있습니다.사람들이 온라인 교육 과정을 수강하고, 금융 서비스를 사용하고, 사업을 시작하고, 쇼핑을 하고,\n",
      "엔터테인먼트를 즐기는 것부터 서비스 범위, 효율성 및 운영을 개선하는 기업 및 정부에 이르기까지 안정적인 연결로 무엇을 할 수 있을지 상상해 보십시오.Kuiper는 접근성뿐만\n",
      "아니라 경제성도 제공할 것입니다.우리 팀은 액세스 장벽을 낮출 저비용 안테나(예: 고객 단말기)를 개발했습니다.우리는 최근 오버헤드를 통과하는 위성과 통신할 새 터미널을 공개했으며\n",
      "표준 주거용 버전을 개당 $400 미만으로 생산할 수 있을 것으로 기대합니다.그것들은 작습니다: 11인치 정사각형, 1인치 두께, 마운팅 브래킷을 제외하고 무게는 5파운드\n",
      "미만이지만 초당 최대 400메가비트의 속도를 제공합니다.그리고 Amazon에서 설계한 베이스밴드 칩으로 구동됩니다.우리는 올해 전체 엔드-투-엔드 통신 네트워크를 테스트하기 위해\n",
      "두 개의 프로토타입 위성을 발사할 준비를 하고 있으며 2024년에는 상용 고객과 함께 베타 테스트를 할 계획입니다.지금까지 Kuiper에 대해 공유한 내용에 대한 고객 반응은 매우\n",
      "긍정적이며 Kuiper가 Amazon에 매우 큰 잠재적 기회를 제공한다고 믿습니다.또한 처음에는 자본 집약적이라는 점에서 AWS와 몇 가지 유사점을 공유하지만 잠재 소비자, 기업\n",
      "및 정부 고객 기반이 넓고 상당한 수익 및 영업 이익 잠재력이 있으며 기술 및 창의적 능력을 갖춘 회사가 상대적으로 적다는 점에서 AWS와 유사합니다.그것을 추구하는 투자 가설로.\n",
      "제가 언급할 마지막 투자 영역은 Amazon이 앞으로 수십 년 동안 모든 비즈니스 영역에서 발명할 수 있도록 설정하는 핵심이며 대규모 언어 모델(\"LLM\") 및 생성\n",
      "AI입니다.머신 러닝은 수십 년 동안 유망한 기술이었지만 기업에서 널리 사용되기 시작한 것은 불과 5~10년 전입니다.이러한\n",
      "----\n"
     ]
    }
   ],
   "source": [
    "v = bedrock_embeddings.embed_query(query)\n",
    "print(v[0:10], len(v))\n",
    "for r in search_hybrid_result:\n",
    "    print_ww(r.page_content)\n",
    "    print('----')"
   ]
  },
  {
   "cell_type": "markdown",
   "metadata": {
    "tags": []
   },
   "source": [
    "### 메모리\n",
    "모든 챗봇에는 사용 사례에 따라 맞춤화된 다양한 옵션을 갖춘 QA 체인이 필요합니다. 그러나 챗봇에서는 모델이 답변을 제공하기 위해 이를 고려할 수 있도록 항상 대화 기록을 보관해야 합니다. 이 예에서는 대화 기록을 유지하기 위해 ConversationBufferMemory와 함께 LangChain의 [ConversationalRetrievalChain](https://python.langchain.com/docs/modules/chains/popular/chat_Vector_db)을 사용합니다.\n",
    "\n",
    "출처: https://python.langchain.com/docs/modules/chains/popular/chat_Vector_db\n",
    "\n",
    "뒤에서 무슨 일이 일어나고 있는지 모두 보려면 'verbose'를 'True'로 설정하세요."
   ]
  },
  {
   "cell_type": "code",
   "execution_count": 88,
   "metadata": {
    "tags": []
   },
   "outputs": [],
   "source": [
    "from langchain.chains.conversational_retrieval.prompts import CONDENSE_QUESTION_PROMPT"
   ]
  },
  {
   "cell_type": "code",
   "execution_count": 89,
   "metadata": {
    "tags": []
   },
   "outputs": [
    {
     "name": "stdout",
     "output_type": "stream",
     "text": [
      "Given the following conversation and a follow up question, rephrase the follow up question to be a standalone question, in its original language.\n",
      "\n",
      "Chat History:\n",
      "{chat_history}\n",
      "Follow Up Input: {question}\n",
      "Standalone question:\n"
     ]
    }
   ],
   "source": [
    "print (CONDENSE_QUESTION_PROMPT.template)"
   ]
  },
  {
   "cell_type": "markdown",
   "metadata": {},
   "source": [
    "### ConversationRetrievalChain에 사용되는 매개변수\n",
    "* **retriever**: 우리는 `OpenSearch`를 기반으로 customization한 `OpenSearchHybridSearchRetriever`를 사용했습니다. 이것은 `OpenSearch`를 이용하여 주어진 `query`에 대한 `lexical`, `sematic` search를 기반으로 최종 후보 context 를 선택해 줍니다.\n",
    "\n",
    "* **메모리**: 이력을 저장하는 메모리 체인\n",
    "\n",
    "* **condense_question_prompt**: 사용자의 질문이 주어지면 이전 대화와 해당 질문을 사용하여 독립형 질문을 구성합니다.\n",
    "\n",
    "* **chain_type**: 채팅 기록이 길고 상황에 맞지 않는 경우 이 매개변수를 사용하고 옵션은 `stuff`, `refine`, `map_reduce`, `map-rerank`입니다.\n",
    "\n",
    "질문이 컨텍스트 범위를 벗어나면 모델은 답을 모른다고 대답합니다.\n",
    "\n",
    "**참고**: 체인이 어떻게 작동하는지 궁금하다면 `verbose=True` 줄의 주석 처리를 해제하세요."
   ]
  },
  {
   "cell_type": "code",
   "execution_count": 90,
   "metadata": {
    "tags": []
   },
   "outputs": [],
   "source": [
    "# turn verbose to true to see the full logs and documents\n",
    "from langchain.chains import ConversationalRetrievalChain\n",
    "from langchain.memory import ConversationBufferMemory"
   ]
  },
  {
   "cell_type": "code",
   "execution_count": 91,
   "metadata": {
    "tags": []
   },
   "outputs": [],
   "source": [
    "# memory\n",
    "# store previous interactions using ConversationalBufferMemory and add custom prompts to the chat.\n",
    "memory_chain = chat_utils.get_memory(\n",
    "    memory_type=\"ConversationBufferMemory\",\n",
    "    memory_key=\"chat_history\",\n",
    "    return_messages=True\n",
    ")\n",
    "\n",
    "llm_text = Bedrock(\n",
    "    model_id=bedrock_info.get_model_id(model_name=\"Claude-V2\"),\n",
    "    client=boto3_bedrock,\n",
    "    model_kwargs={\n",
    "        \"max_tokens_to_sample\": 1000,\n",
    "        \"temperature\": 1,\n",
    "        \"top_k\": 250,\n",
    "        \"top_p\": 0.999,\n",
    "        \"stop_sequences\": [\"\\n\\nHuman:\"]\n",
    "    }\n",
    ")"
   ]
  },
  {
   "cell_type": "code",
   "execution_count": 92,
   "metadata": {
    "tags": []
   },
   "outputs": [],
   "source": [
    "# turn verbose to true to see the full logs and documents\n",
    "from langchain.schema import BaseMessage\n",
    "from langchain.chains import ConversationalRetrievalChain"
   ]
  },
  {
   "cell_type": "code",
   "execution_count": 93,
   "metadata": {
    "tags": []
   },
   "outputs": [],
   "source": [
    "# We are also providing a different chat history retriever which outputs the history as a Claude chat (ie including the \\n\\n)\n",
    "_ROLE_MAP = {\"human\": \"\\n\\nUser: \", \"ai\": \"\\n\\nAI: \"}\n",
    "def _get_chat_history(chat_history):\n",
    "    buffer = \"\"\n",
    "    for dialogue_turn in chat_history:\n",
    "        if isinstance(dialogue_turn, BaseMessage):\n",
    "            role_prefix = _ROLE_MAP.get(dialogue_turn.type, f\"{dialogue_turn.type}: \")\n",
    "            buffer += f\"\\n{role_prefix}{dialogue_turn.content}\"\n",
    "        elif isinstance(dialogue_turn, tuple):\n",
    "            human = \"\\n\\nUser: \" + dialogue_turn[0]\n",
    "            ai = \"\\n\\nAI: \" + dialogue_turn[1]\n",
    "            buffer += \"\\n\" + \"\\n\".join([human, ai])\n",
    "        else:\n",
    "            raise ValueError(\n",
    "                f\"Unsupported chat history format: {type(dialogue_turn)}.\"\n",
    "                f\" Full chat history: {chat_history} \"\n",
    "            )\n",
    "    return buffer\n",
    "\n",
    "# 이전 대화 내용을 기반으로, 신규 질문을 재구성 하는 prompt\n",
    "condense_prompt_claude = PromptTemplate.from_template(\"\"\"\n",
    "\\n\\nHuman:\n",
    "Given the following conversation and a follow up question,\n",
    "rephrase the follow up question to be a standalone question, in its original language.\n",
    "\n",
    "Chat History: {chat_history}\n",
    "Follow Up Input: {question}\n",
    "\n",
    "\\n\\nAssistant: Question:\"\"\"\n",
    ")\n",
    "\n",
    "# recreate the Claude LLM with more tokens to sample - this provide longer responses but introduces some latency\n",
    "memory_chain = ConversationBufferMemory(memory_key=\"chat_history\", return_messages=True)\n",
    "\n",
    "opensearch_hybrid_retriever.update_search_params(\n",
    "    k=5,\n",
    "    minimum_should_match=0,\n",
    "    filter=[],\n",
    "    verbose=False\n",
    ")\n",
    "\n",
    "qa = ConversationalRetrievalChain.from_llm(\n",
    "    llm=llm_text, \n",
    "    retriever=opensearch_hybrid_retriever,\n",
    "    memory=memory_chain,\n",
    "    get_chat_history=_get_chat_history,\n",
    "    verbose=True,\n",
    "    condense_question_prompt=condense_prompt_claude,\n",
    "    chain_type='stuff', # 'refine',\n",
    "    #max_tokens_limit=300\n",
    ")\n",
    "\n",
    "# the LLMChain prompt to get the answer. the ConversationalRetrievalChange does not expose this parameter in the constructor\n",
    "qa.combine_docs_chain.llm_chain.prompt = PromptTemplate.from_template(\"\"\"\n",
    "\\n\\nHuman:\n",
    "\n",
    "{context}\n",
    "\n",
    "<q></q> XML 태그 내의 질문에 답하려면 최대 3개의 문장을 사용하세요.\n",
    "\n",
    "<q>{question}</q>\n",
    "\n",
    "답변에 XML 태그를 사용하지 마세요.\n",
    "답변이 context에 없으면 \"죄송합니다. 문맥에서 답을 찾을 수 없어서 모르겠습니다.\"라고 말합니다.\n",
    "\n",
    "\\n\\nAssistant:\"\"\")"
   ]
  },
  {
   "cell_type": "markdown",
   "metadata": {},
   "source": [
    "채팅을 해보죠. 아래와 같은 질문을 해보세요. \n",
    "1. 누가 쓴 편지인가요?\n",
    "2. 몇 년도에 썼나요?\n",
    "3. 현재 누가 아마존을 이끌고 있나요?\n",
    "4. Generative AI 의 전략이 무엇인가요?"
   ]
  },
  {
   "cell_type": "code",
   "execution_count": 94,
   "metadata": {
    "tags": []
   },
   "outputs": [],
   "source": [
    "from utils.chat import ChatUX"
   ]
  },
  {
   "cell_type": "code",
   "execution_count": 95,
   "metadata": {
    "tags": []
   },
   "outputs": [
    {
     "name": "stdout",
     "output_type": "stream",
     "text": [
      "Starting chat bot\n"
     ]
    },
    {
     "data": {
      "application/vnd.jupyter.widget-view+json": {
       "model_id": "ed6b7a47a852453b902fe707a9ff757b",
       "version_major": 2,
       "version_minor": 0
      },
      "text/plain": [
       "Output()"
      ]
     },
     "metadata": {},
     "output_type": "display_data"
    }
   ],
   "source": [
    "chat = ChatUX(qa, retrievalChain=True)\n",
    "chat.start_chat()"
   ]
  },
  {
   "cell_type": "markdown",
   "metadata": {},
   "source": [
    "## Delete OpenSearch Index"
   ]
  },
  {
   "cell_type": "code",
   "execution_count": 96,
   "metadata": {
    "tags": []
   },
   "outputs": [
    {
     "name": "stdout",
     "output_type": "stream",
     "text": [
      "genai-demo-chatbot-index-v1 genai-demo-chatbot-index-v1-with-tokenizer\n"
     ]
    }
   ],
   "source": [
    "print(index_name, new_index_name)"
   ]
  },
  {
   "cell_type": "code",
   "execution_count": 97,
   "metadata": {
    "tags": []
   },
   "outputs": [
    {
     "name": "stdout",
     "output_type": "stream",
     "text": [
      "index_name=genai-demo-chatbot-index-v1, exists=True\n",
      "\n",
      "Deleting index:\n",
      "{'acknowledged': True}\n",
      "index_name=genai-demo-chatbot-index-v1-with-tokenizer, exists=True\n",
      "\n",
      "Deleting index:\n",
      "{'acknowledged': True}\n"
     ]
    }
   ],
   "source": [
    "for name in [index_name, new_index_name]:\n",
    "\n",
    "    index_exists = opensearch_utils.check_if_index_exists(os_client, name)\n",
    "    if index_exists:\n",
    "        opensearch_utils.delete_index(os_client, name)\n",
    "    else:\n",
    "        print(\"Index does not exist\")"
   ]
  },
  {
   "cell_type": "markdown",
   "metadata": {},
   "source": [
    "# 7.Next Action\n",
    "\n",
    "자신만의 챗봇 시스템을 만들고 챗봇과 대화한 내역을 캡쳐해서 올려주세요. 웹 페이지 정보를 가져오기 위해서 'WebBaseLoader' 를 사용하는 것도 가능합니다."
   ]
  },
  {
   "cell_type": "markdown",
   "metadata": {},
   "source": [
    "### 요약\n",
    "- 이 데모에서는 Claude LLM을 사용하여 다음 패턴으로 대화형 인터페이스를 만들었습니다.\n",
    "\n",
    "1. 챗봇(기본 - 맥락 없음)\n",
    "\n",
    "2. 프롬프트 템플릿(Langchain)을 이용한 챗봇\n",
    "\n",
    "3. 페르소나를 갖춘 챗봇\n",
    "4. 맥락을 갖춘 챗봇"
   ]
  }
 ],
 "metadata": {
  "availableInstances": [
   {
    "_defaultOrder": 0,
    "_isFastLaunch": true,
    "category": "General purpose",
    "gpuNum": 0,
    "hideHardwareSpecs": false,
    "memoryGiB": 4,
    "name": "ml.t3.medium",
    "vcpuNum": 2
   },
   {
    "_defaultOrder": 1,
    "_isFastLaunch": false,
    "category": "General purpose",
    "gpuNum": 0,
    "hideHardwareSpecs": false,
    "memoryGiB": 8,
    "name": "ml.t3.large",
    "vcpuNum": 2
   },
   {
    "_defaultOrder": 2,
    "_isFastLaunch": false,
    "category": "General purpose",
    "gpuNum": 0,
    "hideHardwareSpecs": false,
    "memoryGiB": 16,
    "name": "ml.t3.xlarge",
    "vcpuNum": 4
   },
   {
    "_defaultOrder": 3,
    "_isFastLaunch": false,
    "category": "General purpose",
    "gpuNum": 0,
    "hideHardwareSpecs": false,
    "memoryGiB": 32,
    "name": "ml.t3.2xlarge",
    "vcpuNum": 8
   },
   {
    "_defaultOrder": 4,
    "_isFastLaunch": true,
    "category": "General purpose",
    "gpuNum": 0,
    "hideHardwareSpecs": false,
    "memoryGiB": 8,
    "name": "ml.m5.large",
    "vcpuNum": 2
   },
   {
    "_defaultOrder": 5,
    "_isFastLaunch": false,
    "category": "General purpose",
    "gpuNum": 0,
    "hideHardwareSpecs": false,
    "memoryGiB": 16,
    "name": "ml.m5.xlarge",
    "vcpuNum": 4
   },
   {
    "_defaultOrder": 6,
    "_isFastLaunch": false,
    "category": "General purpose",
    "gpuNum": 0,
    "hideHardwareSpecs": false,
    "memoryGiB": 32,
    "name": "ml.m5.2xlarge",
    "vcpuNum": 8
   },
   {
    "_defaultOrder": 7,
    "_isFastLaunch": false,
    "category": "General purpose",
    "gpuNum": 0,
    "hideHardwareSpecs": false,
    "memoryGiB": 64,
    "name": "ml.m5.4xlarge",
    "vcpuNum": 16
   },
   {
    "_defaultOrder": 8,
    "_isFastLaunch": false,
    "category": "General purpose",
    "gpuNum": 0,
    "hideHardwareSpecs": false,
    "memoryGiB": 128,
    "name": "ml.m5.8xlarge",
    "vcpuNum": 32
   },
   {
    "_defaultOrder": 9,
    "_isFastLaunch": false,
    "category": "General purpose",
    "gpuNum": 0,
    "hideHardwareSpecs": false,
    "memoryGiB": 192,
    "name": "ml.m5.12xlarge",
    "vcpuNum": 48
   },
   {
    "_defaultOrder": 10,
    "_isFastLaunch": false,
    "category": "General purpose",
    "gpuNum": 0,
    "hideHardwareSpecs": false,
    "memoryGiB": 256,
    "name": "ml.m5.16xlarge",
    "vcpuNum": 64
   },
   {
    "_defaultOrder": 11,
    "_isFastLaunch": false,
    "category": "General purpose",
    "gpuNum": 0,
    "hideHardwareSpecs": false,
    "memoryGiB": 384,
    "name": "ml.m5.24xlarge",
    "vcpuNum": 96
   },
   {
    "_defaultOrder": 12,
    "_isFastLaunch": false,
    "category": "General purpose",
    "gpuNum": 0,
    "hideHardwareSpecs": false,
    "memoryGiB": 8,
    "name": "ml.m5d.large",
    "vcpuNum": 2
   },
   {
    "_defaultOrder": 13,
    "_isFastLaunch": false,
    "category": "General purpose",
    "gpuNum": 0,
    "hideHardwareSpecs": false,
    "memoryGiB": 16,
    "name": "ml.m5d.xlarge",
    "vcpuNum": 4
   },
   {
    "_defaultOrder": 14,
    "_isFastLaunch": false,
    "category": "General purpose",
    "gpuNum": 0,
    "hideHardwareSpecs": false,
    "memoryGiB": 32,
    "name": "ml.m5d.2xlarge",
    "vcpuNum": 8
   },
   {
    "_defaultOrder": 15,
    "_isFastLaunch": false,
    "category": "General purpose",
    "gpuNum": 0,
    "hideHardwareSpecs": false,
    "memoryGiB": 64,
    "name": "ml.m5d.4xlarge",
    "vcpuNum": 16
   },
   {
    "_defaultOrder": 16,
    "_isFastLaunch": false,
    "category": "General purpose",
    "gpuNum": 0,
    "hideHardwareSpecs": false,
    "memoryGiB": 128,
    "name": "ml.m5d.8xlarge",
    "vcpuNum": 32
   },
   {
    "_defaultOrder": 17,
    "_isFastLaunch": false,
    "category": "General purpose",
    "gpuNum": 0,
    "hideHardwareSpecs": false,
    "memoryGiB": 192,
    "name": "ml.m5d.12xlarge",
    "vcpuNum": 48
   },
   {
    "_defaultOrder": 18,
    "_isFastLaunch": false,
    "category": "General purpose",
    "gpuNum": 0,
    "hideHardwareSpecs": false,
    "memoryGiB": 256,
    "name": "ml.m5d.16xlarge",
    "vcpuNum": 64
   },
   {
    "_defaultOrder": 19,
    "_isFastLaunch": false,
    "category": "General purpose",
    "gpuNum": 0,
    "hideHardwareSpecs": false,
    "memoryGiB": 384,
    "name": "ml.m5d.24xlarge",
    "vcpuNum": 96
   },
   {
    "_defaultOrder": 20,
    "_isFastLaunch": false,
    "category": "General purpose",
    "gpuNum": 0,
    "hideHardwareSpecs": true,
    "memoryGiB": 0,
    "name": "ml.geospatial.interactive",
    "supportedImageNames": [
     "sagemaker-geospatial-v1-0"
    ],
    "vcpuNum": 0
   },
   {
    "_defaultOrder": 21,
    "_isFastLaunch": true,
    "category": "Compute optimized",
    "gpuNum": 0,
    "hideHardwareSpecs": false,
    "memoryGiB": 4,
    "name": "ml.c5.large",
    "vcpuNum": 2
   },
   {
    "_defaultOrder": 22,
    "_isFastLaunch": false,
    "category": "Compute optimized",
    "gpuNum": 0,
    "hideHardwareSpecs": false,
    "memoryGiB": 8,
    "name": "ml.c5.xlarge",
    "vcpuNum": 4
   },
   {
    "_defaultOrder": 23,
    "_isFastLaunch": false,
    "category": "Compute optimized",
    "gpuNum": 0,
    "hideHardwareSpecs": false,
    "memoryGiB": 16,
    "name": "ml.c5.2xlarge",
    "vcpuNum": 8
   },
   {
    "_defaultOrder": 24,
    "_isFastLaunch": false,
    "category": "Compute optimized",
    "gpuNum": 0,
    "hideHardwareSpecs": false,
    "memoryGiB": 32,
    "name": "ml.c5.4xlarge",
    "vcpuNum": 16
   },
   {
    "_defaultOrder": 25,
    "_isFastLaunch": false,
    "category": "Compute optimized",
    "gpuNum": 0,
    "hideHardwareSpecs": false,
    "memoryGiB": 72,
    "name": "ml.c5.9xlarge",
    "vcpuNum": 36
   },
   {
    "_defaultOrder": 26,
    "_isFastLaunch": false,
    "category": "Compute optimized",
    "gpuNum": 0,
    "hideHardwareSpecs": false,
    "memoryGiB": 96,
    "name": "ml.c5.12xlarge",
    "vcpuNum": 48
   },
   {
    "_defaultOrder": 27,
    "_isFastLaunch": false,
    "category": "Compute optimized",
    "gpuNum": 0,
    "hideHardwareSpecs": false,
    "memoryGiB": 144,
    "name": "ml.c5.18xlarge",
    "vcpuNum": 72
   },
   {
    "_defaultOrder": 28,
    "_isFastLaunch": false,
    "category": "Compute optimized",
    "gpuNum": 0,
    "hideHardwareSpecs": false,
    "memoryGiB": 192,
    "name": "ml.c5.24xlarge",
    "vcpuNum": 96
   },
   {
    "_defaultOrder": 29,
    "_isFastLaunch": true,
    "category": "Accelerated computing",
    "gpuNum": 1,
    "hideHardwareSpecs": false,
    "memoryGiB": 16,
    "name": "ml.g4dn.xlarge",
    "vcpuNum": 4
   },
   {
    "_defaultOrder": 30,
    "_isFastLaunch": false,
    "category": "Accelerated computing",
    "gpuNum": 1,
    "hideHardwareSpecs": false,
    "memoryGiB": 32,
    "name": "ml.g4dn.2xlarge",
    "vcpuNum": 8
   },
   {
    "_defaultOrder": 31,
    "_isFastLaunch": false,
    "category": "Accelerated computing",
    "gpuNum": 1,
    "hideHardwareSpecs": false,
    "memoryGiB": 64,
    "name": "ml.g4dn.4xlarge",
    "vcpuNum": 16
   },
   {
    "_defaultOrder": 32,
    "_isFastLaunch": false,
    "category": "Accelerated computing",
    "gpuNum": 1,
    "hideHardwareSpecs": false,
    "memoryGiB": 128,
    "name": "ml.g4dn.8xlarge",
    "vcpuNum": 32
   },
   {
    "_defaultOrder": 33,
    "_isFastLaunch": false,
    "category": "Accelerated computing",
    "gpuNum": 4,
    "hideHardwareSpecs": false,
    "memoryGiB": 192,
    "name": "ml.g4dn.12xlarge",
    "vcpuNum": 48
   },
   {
    "_defaultOrder": 34,
    "_isFastLaunch": false,
    "category": "Accelerated computing",
    "gpuNum": 1,
    "hideHardwareSpecs": false,
    "memoryGiB": 256,
    "name": "ml.g4dn.16xlarge",
    "vcpuNum": 64
   },
   {
    "_defaultOrder": 35,
    "_isFastLaunch": false,
    "category": "Accelerated computing",
    "gpuNum": 1,
    "hideHardwareSpecs": false,
    "memoryGiB": 61,
    "name": "ml.p3.2xlarge",
    "vcpuNum": 8
   },
   {
    "_defaultOrder": 36,
    "_isFastLaunch": false,
    "category": "Accelerated computing",
    "gpuNum": 4,
    "hideHardwareSpecs": false,
    "memoryGiB": 244,
    "name": "ml.p3.8xlarge",
    "vcpuNum": 32
   },
   {
    "_defaultOrder": 37,
    "_isFastLaunch": false,
    "category": "Accelerated computing",
    "gpuNum": 8,
    "hideHardwareSpecs": false,
    "memoryGiB": 488,
    "name": "ml.p3.16xlarge",
    "vcpuNum": 64
   },
   {
    "_defaultOrder": 38,
    "_isFastLaunch": false,
    "category": "Accelerated computing",
    "gpuNum": 8,
    "hideHardwareSpecs": false,
    "memoryGiB": 768,
    "name": "ml.p3dn.24xlarge",
    "vcpuNum": 96
   },
   {
    "_defaultOrder": 39,
    "_isFastLaunch": false,
    "category": "Memory Optimized",
    "gpuNum": 0,
    "hideHardwareSpecs": false,
    "memoryGiB": 16,
    "name": "ml.r5.large",
    "vcpuNum": 2
   },
   {
    "_defaultOrder": 40,
    "_isFastLaunch": false,
    "category": "Memory Optimized",
    "gpuNum": 0,
    "hideHardwareSpecs": false,
    "memoryGiB": 32,
    "name": "ml.r5.xlarge",
    "vcpuNum": 4
   },
   {
    "_defaultOrder": 41,
    "_isFastLaunch": false,
    "category": "Memory Optimized",
    "gpuNum": 0,
    "hideHardwareSpecs": false,
    "memoryGiB": 64,
    "name": "ml.r5.2xlarge",
    "vcpuNum": 8
   },
   {
    "_defaultOrder": 42,
    "_isFastLaunch": false,
    "category": "Memory Optimized",
    "gpuNum": 0,
    "hideHardwareSpecs": false,
    "memoryGiB": 128,
    "name": "ml.r5.4xlarge",
    "vcpuNum": 16
   },
   {
    "_defaultOrder": 43,
    "_isFastLaunch": false,
    "category": "Memory Optimized",
    "gpuNum": 0,
    "hideHardwareSpecs": false,
    "memoryGiB": 256,
    "name": "ml.r5.8xlarge",
    "vcpuNum": 32
   },
   {
    "_defaultOrder": 44,
    "_isFastLaunch": false,
    "category": "Memory Optimized",
    "gpuNum": 0,
    "hideHardwareSpecs": false,
    "memoryGiB": 384,
    "name": "ml.r5.12xlarge",
    "vcpuNum": 48
   },
   {
    "_defaultOrder": 45,
    "_isFastLaunch": false,
    "category": "Memory Optimized",
    "gpuNum": 0,
    "hideHardwareSpecs": false,
    "memoryGiB": 512,
    "name": "ml.r5.16xlarge",
    "vcpuNum": 64
   },
   {
    "_defaultOrder": 46,
    "_isFastLaunch": false,
    "category": "Memory Optimized",
    "gpuNum": 0,
    "hideHardwareSpecs": false,
    "memoryGiB": 768,
    "name": "ml.r5.24xlarge",
    "vcpuNum": 96
   },
   {
    "_defaultOrder": 47,
    "_isFastLaunch": false,
    "category": "Accelerated computing",
    "gpuNum": 1,
    "hideHardwareSpecs": false,
    "memoryGiB": 16,
    "name": "ml.g5.xlarge",
    "vcpuNum": 4
   },
   {
    "_defaultOrder": 48,
    "_isFastLaunch": false,
    "category": "Accelerated computing",
    "gpuNum": 1,
    "hideHardwareSpecs": false,
    "memoryGiB": 32,
    "name": "ml.g5.2xlarge",
    "vcpuNum": 8
   },
   {
    "_defaultOrder": 49,
    "_isFastLaunch": false,
    "category": "Accelerated computing",
    "gpuNum": 1,
    "hideHardwareSpecs": false,
    "memoryGiB": 64,
    "name": "ml.g5.4xlarge",
    "vcpuNum": 16
   },
   {
    "_defaultOrder": 50,
    "_isFastLaunch": false,
    "category": "Accelerated computing",
    "gpuNum": 1,
    "hideHardwareSpecs": false,
    "memoryGiB": 128,
    "name": "ml.g5.8xlarge",
    "vcpuNum": 32
   },
   {
    "_defaultOrder": 51,
    "_isFastLaunch": false,
    "category": "Accelerated computing",
    "gpuNum": 1,
    "hideHardwareSpecs": false,
    "memoryGiB": 256,
    "name": "ml.g5.16xlarge",
    "vcpuNum": 64
   },
   {
    "_defaultOrder": 52,
    "_isFastLaunch": false,
    "category": "Accelerated computing",
    "gpuNum": 4,
    "hideHardwareSpecs": false,
    "memoryGiB": 192,
    "name": "ml.g5.12xlarge",
    "vcpuNum": 48
   },
   {
    "_defaultOrder": 53,
    "_isFastLaunch": false,
    "category": "Accelerated computing",
    "gpuNum": 4,
    "hideHardwareSpecs": false,
    "memoryGiB": 384,
    "name": "ml.g5.24xlarge",
    "vcpuNum": 96
   },
   {
    "_defaultOrder": 54,
    "_isFastLaunch": false,
    "category": "Accelerated computing",
    "gpuNum": 8,
    "hideHardwareSpecs": false,
    "memoryGiB": 768,
    "name": "ml.g5.48xlarge",
    "vcpuNum": 192
   },
   {
    "_defaultOrder": 55,
    "_isFastLaunch": false,
    "category": "Accelerated computing",
    "gpuNum": 8,
    "hideHardwareSpecs": false,
    "memoryGiB": 1152,
    "name": "ml.p4d.24xlarge",
    "vcpuNum": 96
   },
   {
    "_defaultOrder": 56,
    "_isFastLaunch": false,
    "category": "Accelerated computing",
    "gpuNum": 8,
    "hideHardwareSpecs": false,
    "memoryGiB": 1152,
    "name": "ml.p4de.24xlarge",
    "vcpuNum": 96
   }
  ],
  "instance_type": "ml.t3.medium",
  "kernelspec": {
   "display_name": "conda_python3",
   "language": "python",
   "name": "conda_python3"
  },
  "language_info": {
   "codemirror_mode": {
    "name": "ipython",
    "version": 3
   },
   "file_extension": ".py",
   "mimetype": "text/x-python",
   "name": "python",
   "nbconvert_exporter": "python",
   "pygments_lexer": "ipython3",
   "version": "3.10.12"
  },
  "vscode": {
   "interpreter": {
    "hash": "3b41de70bedc0e302a3aeb58a0c77b854f2e56c8930e61a4aaa3340c96b01f1d"
   }
  }
 },
 "nbformat": 4,
 "nbformat_minor": 4
}
