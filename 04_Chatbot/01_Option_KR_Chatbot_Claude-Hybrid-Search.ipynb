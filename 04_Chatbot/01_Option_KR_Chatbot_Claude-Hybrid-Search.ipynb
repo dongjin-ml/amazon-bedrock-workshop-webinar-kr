{
 "cells": [
  {
   "cell_type": "markdown",
   "metadata": {},
   "source": [
    "# 한글-Claude-v2 Model: Conversational Interface - Chatbot with Claude LLM\n",
    "\n",
    "> 이 노트북은 SageMaker Studio의 **`Data Science 3.0`** 커널과 잘 작동합니다.\n",
    "\n",
    "> **SageMaker Notebook Instance** 를 이용해 실습을 진행하신다면, **JupyterLab이 아닌 Jupyter**에서 실행하시기 바랍니다.\n",
    "\n",
    "이 노트북에서는 Amazon Bedrock의 기본 모델 (FM) 을 사용하여 챗봇을 구축할 것입니다.사용 사례에서는 Claude를 챗봇 구축을 위한 FM으로 사용합니다.\n",
    "\n",
    "---\n",
    "### 중요\n",
    "- 이 노트북은 Anthropic 의 Claude-v2 모델 접근 가능한 분만 실행 가능합니다. \n",
    "- 접근이 안되시는 분은 노트북의 코드와 결과 만을 확인 하시면 좋겠습니다.\n",
    "- 만일 실행시에는 **\"과금\"** 이 발생이 되는 부분 유념 해주시기 바랍니다."
   ]
  },
  {
   "cell_type": "markdown",
   "metadata": {},
   "source": [
    "## 개요\n",
    "\n",
    "챗봇 및 가상 어시스턴트와 같은 대화형 인터페이스를 사용하여 고객의 사용자 경험을 향상시킬 수 있습니다. 챗봇은 자연어 처리 (NLP) 및 기계 학습 알고리즘을 사용하여 사용자 쿼리를 이해하고 이에 응답합니다.챗봇은 고객 서비스, 판매, 전자 상거래와 같은 다양한 애플리케이션에서 사용되어 사용자에게 빠르고 효율적인 응답을 제공할 수 있습니다.웹사이트, 소셜 미디어 플랫폼 및 메시징 앱과 같은 다양한 채널을 통해 액세스할 수 있습니다.\n",
    "\n",
    "\n",
    "## Amazon Bedrock을 사용하는 챗봇\n",
    "\n",
    "![Amazon Bedrock - Conversational Interface](./images/chatbot_bedrock.png)\n",
    "\n",
    "\n",
    "## 사용 사례\n",
    "- 1.**챗봇 (기본)** - FM 모델을 사용하는 제로샷 챗봇\n",
    "- 2.**프롬프트를 사용하는 챗봇** - 템플릿 (Langchain) - 프롬프트 템플릿에 일부 컨텍스트가 제공된 챗봇\n",
    "- 3.**페르소나가 있는 챗봇** - 정의된 역할을 가진 챗봇. 즉, 커리어 코치와 인간 상호작용\n",
    "- 4.**컨텍스트 인식 챗봇** - 임베딩을 생성하여 외부 파일을 통해 컨텍스트를 전달합니다.\n",
    "\n",
    "## Amazon Bedrock으로 챗봇을 구축하기 위한 랭체인 프레임워크\n",
    "챗봇과 같은 대화형 인터페이스에서는 단기적 수준뿐만 아니라 장기적 수준에서도 이전 상호 작용을 기억하는 것이 매우 중요합니다.\n",
    "\n",
    "LangChain은 메모리 구성 요소를 두 가지 형태로 제공합니다.먼저 LangChain은 이전 채팅 메시지를 관리하고 조작하기 위한 도우미 유틸리티를 제공합니다.모듈식으로 설계되어 사용 방식에 관계없이 유용하게 사용할 수 있습니다.둘째, LangChain은 이러한 유틸리티를 체인에 통합하는 쉬운 방법을 제공합니다.\n",
    "이를 통해 다양한 유형의 추상화를 쉽게 정의하고 상호 작용할 수 있으므로 강력한 챗봇을 쉽게 구축할 수 있습니다.\n",
    "\n",
    "## 컨텍스트를 활용한 챗봇 구축하기 - 핵심 요소\n",
    "\n",
    "컨텍스트 인식 챗봇을 구축하는 첫 번째 프로세스는 컨텍스트에 대한**임베딩을 생성**하는 것입니다.일반적으로 임베딩 모델을 통해 실행되고 일종의 벡터 저장소에 저장될 임베딩을 생성하는 통합 프로세스가 있습니다.이 예제에서는 이를 위해 Amazon Titan 임베딩 모델을 사용하고 있습니다.\n",
    "\n",
    "![Embeddings](./images/embeddings_lang.png)\n",
    "\n",
    "두 번째 프로세스는 사용자 요청 오케스트레이션, 상호 작용, 호출 및 결과 반환입니다.\n",
    "\n",
    "![Chatbot](./images/chatbot_lang.png)\n",
    "\n",
    "## 아키텍처 [컨텍스트 인식 챗봇]\n",
    "![4](./images/context-aware-chatbot.png)\n"
   ]
  },
  {
   "cell_type": "markdown",
   "metadata": {},
   "source": [
    "### 설정\n",
    "\n",
    "이 노트북의 나머지 부분을 실행하기 전에 아래 셀을 실행하여 (필요한 라이브러리가 설치되어 있는지 확인하고) Bedrock에 연결해야 합니다.\n"
   ]
  },
  {
   "cell_type": "markdown",
   "metadata": {},
   "source": [
    "이 노트북에는 몇 가지 추가 종속성도 필요합니다.\n",
    "\n",
    "- [FAISS](https://github.com/facebookresearch/faiss), 벡터 임베딩 저장용\n",
    "- [iPyWidgets](https://ipywidgets.readthedocs.io/en/stable/), 노트북의 대화형 UI 위젯용\n",
    "- [PyPDF](https://pypi.org/project/pypdf/), PDF 파일 처리용"
   ]
  },
  {
   "cell_type": "code",
   "execution_count": 1,
   "metadata": {
    "tags": []
   },
   "outputs": [],
   "source": [
    "%load_ext autoreload\n",
    "%autoreload 2\n",
    "\n",
    "import sys, os\n",
    "module_path = \"..\"\n",
    "sys.path.append(os.path.abspath(module_path))"
   ]
  },
  {
   "cell_type": "markdown",
   "metadata": {
    "tags": []
   },
   "source": [
    "# 1. Bedrock Client 생성"
   ]
  },
  {
   "cell_type": "code",
   "execution_count": 2,
   "metadata": {
    "tags": []
   },
   "outputs": [
    {
     "name": "stdout",
     "output_type": "stream",
     "text": [
      "Create new client\n",
      "  Using region: None\n",
      "  Using profile: None\n",
      "boto3 Bedrock client successfully created!\n",
      "bedrock-runtime(https://bedrock-runtime.us-east-1.amazonaws.com)\n",
      "\u001b[32m\n",
      "== FM lists ==\u001b[0m\n",
      "{'Claude-Instant-V1': 'anthropic.claude-instant-v1',\n",
      " 'Claude-V1': 'anthropic.claude-v1',\n",
      " 'Claude-V2': 'anthropic.claude-v2',\n",
      " 'Command': 'cohere.command-text-v14',\n",
      " 'Jurassic-2-Mid': 'ai21.j2-mid-v1',\n",
      " 'Jurassic-2-Ultra': 'ai21.j2-ultra-v1',\n",
      " 'Titan-Embeddings-G1': 'amazon.titan-embed-text-v1',\n",
      " 'Titan-Text-G1': 'TBD'}\n"
     ]
    }
   ],
   "source": [
    "import json\n",
    "import boto3\n",
    "from pprint import pprint\n",
    "from termcolor import colored\n",
    "from utils import bedrock, print_ww\n",
    "from utils.bedrock import bedrock_info\n",
    "\n",
    "# ---- ⚠️ Un-comment and edit the below lines as needed for your AWS setup ⚠️ ----\n",
    "\n",
    "# os.environ[\"AWS_DEFAULT_REGION\"] = \"<REGION_NAME>\"  # E.g. \"us-east-1\"\n",
    "# os.environ[\"AWS_PROFILE\"] = \"<YOUR_PROFILE>\"\n",
    "# os.environ[\"BEDROCK_ASSUME_ROLE\"] = \"<YOUR_ROLE_ARN>\"  # E.g. \"arn:aws:...\"\n",
    "# os.environ[\"BEDROCK_ENDPOINT_URL\"] = \"<YOUR_ENDPOINT_URL>\"  # E.g. \"https://...\"\n",
    "\n",
    "\n",
    "boto3_bedrock = bedrock.get_bedrock_client(\n",
    "    assumed_role=os.environ.get(\"BEDROCK_ASSUME_ROLE\", None),\n",
    "    endpoint_url=os.environ.get(\"BEDROCK_ENDPOINT_URL\", None),\n",
    "    region=os.environ.get(\"AWS_DEFAULT_REGION\", None),\n",
    ")\n",
    "\n",
    "print (colored(\"\\n== FM lists ==\", \"green\"))\n",
    "pprint (bedrock_info.get_list_fm_models())"
   ]
  },
  {
   "cell_type": "markdown",
   "metadata": {
    "tags": []
   },
   "source": [
    "# 2. 챗봇(기본 - 컨텍스트 없음)\n",
    "\n",
    "우리는 LangChain의 [CoversationChain](https://python.langchain.com/en/latest/modules/models/llms/integrations/bedrock.html?highlight=ConversationChain#using-in-a-conversation-chain)을 사용하여 시작합니다. 대화. 또한 메시지 저장을 위해 [ConversationBufferMemory](https://python.langchain.com/en/latest/modules/memory/types/buffer.html)를 사용합니다. 메시지 목록으로 기록을 얻을 수도 있습니다(채팅 모델에서 매우 유용합니다).\n",
    "\n",
    "챗봇은 이전 상호작용을 기억해야 합니다. 대화 기억을 통해 우리는 그렇게 할 수 있습니다. 대화형 메모리를 구현하는 방법에는 여러 가지가 있습니다. LangChain의 맥락에서 이들은 모두 ConversationChain 위에 구축됩니다.\n",
    "\n",
    "**참고:** 모델 출력은 비결정적입니다."
   ]
  },
  {
   "cell_type": "code",
   "execution_count": 3,
   "metadata": {
    "tags": []
   },
   "outputs": [],
   "source": [
    "from utils.chat import chat_utils\n",
    "from langchain.llms.bedrock import Bedrock\n",
    "from langchain.chains import ConversationChain\n",
    "from langchain.callbacks.streaming_stdout import StreamingStdOutCallbackHandler"
   ]
  },
  {
   "cell_type": "code",
   "execution_count": 4,
   "metadata": {
    "tags": []
   },
   "outputs": [],
   "source": [
    "# - create the Anthropic Model\n",
    "llm_text = Bedrock(\n",
    "    model_id=bedrock_info.get_model_id(model_name=\"Claude-V2\"),\n",
    "    client=boto3_bedrock,\n",
    "    model_kwargs={\n",
    "        \"max_tokens_to_sample\": 512,\n",
    "        \"temperature\": 0,\n",
    "        \"top_k\": 250,\n",
    "        \"top_p\": 0.999,\n",
    "        \"stop_sequences\": [\"\\n\\nHuman:\", \"\\n\\nUser:\"]\n",
    "    },\n",
    "    streaming=True,\n",
    "    callbacks=[StreamingStdOutCallbackHandler()],\n",
    ")"
   ]
  },
  {
   "cell_type": "markdown",
   "metadata": {},
   "source": [
    "## Conversation momory\n",
    "* **[ConversationBufferMemory](https://python.langchain.com/docs/modules/memory/types/buffer)**\n",
    "    - This memory allows for storing messages and then extracts the messages in a variable.\n",
    "* **[ConversationBufferWindowMemory](https://python.langchain.com/docs/modules/memory/types/buffer_window)**\n",
    "    - It keeps a list of the interactions of the conversation over time.\n",
    "    - It only uses the last K interactions.\n",
    "    - This can be useful for keeping a sliding window of the most recent interactions, so the buffer does not get too large.\n",
    "* **[ConversationSummaryBufferMemory](https://python.langchain.com/docs/modules/memory/types/summary_buffer)**\n",
    "    - It maintains a summary of previous messages.\n",
    "    - It combines the two ideas.\n",
    "    - It keeps a buffer of recent interactions in memory, but rather than just completely flushing old interactions it compiles them into a summary and uses both. \n",
    "    - It uses token length rather than number of interactions to determine when to flush interactions."
   ]
  },
  {
   "cell_type": "code",
   "execution_count": 5,
   "metadata": {
    "tags": []
   },
   "outputs": [],
   "source": [
    "memory = chat_utils.get_memory(\n",
    "    memory_type=\"ConversationBufferMemory\",\n",
    "    memory_key=\"history\"\n",
    ")\n",
    "\n",
    "conversation = ConversationChain(\n",
    "    llm=llm_text,\n",
    "    verbose=True,\n",
    "    memory=memory\n",
    ")"
   ]
  },
  {
   "cell_type": "code",
   "execution_count": 6,
   "metadata": {
    "tags": []
   },
   "outputs": [
    {
     "name": "stdout",
     "output_type": "stream",
     "text": [
      "\n",
      "\n",
      "\u001b[1m> Entering new ConversationChain chain...\u001b[0m\n",
      "Prompt after formatting:\n",
      "\u001b[32;1m\u001b[1;3mThe following is a friendly conversation between a human and an AI. The AI is talkative and provides lots of specific details from its context. If the AI does not know the answer to a question, it truthfully says it does not know.\n",
      "\n",
      "Current conversation:\n",
      "[]\n",
      "Human: 안녕하세요?\n",
      "AI:\u001b[0m\n",
      " 네, 안녕하세요!\n",
      "\u001b[1m> Finished chain.\u001b[0m\n"
     ]
    }
   ],
   "source": [
    "if llm_text.streaming:\n",
    "    response = conversation.predict(input=\"안녕하세요?\")\n",
    "else:\n",
    "    print_ww(conversation.predict(input=\"안녕하세요?\"))"
   ]
  },
  {
   "cell_type": "markdown",
   "metadata": {},
   "source": [
    "### 결과 분석"
   ]
  },
  {
   "cell_type": "markdown",
   "metadata": {},
   "source": [
    "여기서 무슨 일이 일어나는가? 우리는 \"안녕하세요!\"라고 말했습니다. 모델은 몇 가지 대화를 나눴습니다. 이는 Langchain ConversationChain에서 사용하는 기본 프롬프트가 Claude에 맞게 잘 설계되지 않았기 때문입니다. \n",
    "- [효과적인 클로드 프롬프트](https://docs.anthropic.com/claude/docs/introduction-to-prompt-design)는 `\\n\\nHuman\\n\\nAassistant:`로 끝나야 합니다. 이 문제를 해결해 보겠습니다.\n",
    "\n",
    "Claude의 프롬프트 작성 방법에 대해 자세히 알아보려면 [Anthropic 문서](https://docs.anthropic.com/claude/docs/introduction-to-prompt-design)를 확인하세요."
   ]
  },
  {
   "cell_type": "markdown",
   "metadata": {},
   "source": [
    "### Reset memory"
   ]
  },
  {
   "cell_type": "code",
   "execution_count": 7,
   "metadata": {
    "tags": []
   },
   "outputs": [
    {
     "name": "stdout",
     "output_type": "stream",
     "text": [
      "{'history': []}\n"
     ]
    }
   ],
   "source": [
    "chat_utils.clear_memory(\n",
    "    chain=conversation\n",
    ")\n",
    "print_ww(memory.load_memory_variables({}))"
   ]
  },
  {
   "cell_type": "markdown",
   "metadata": {},
   "source": [
    "# 3. 프롬프트 템플릿(Langchain)을 이용한 챗봇"
   ]
  },
  {
   "cell_type": "markdown",
   "metadata": {},
   "source": [
    "LangChain은 프롬프트를 쉽게 구성하고 작업할 수 있도록 여러 클래스와 기능을 제공합니다. [PromptTemplate](https://python.langchain.com/en/latest/modules/prompts/getting_started.html) 클래스를 사용하여 f-string 템플릿에서 프롬프트를 구성하겠습니다."
   ]
  },
  {
   "cell_type": "markdown",
   "metadata": {
    "tags": []
   },
   "source": [
    "**[TIP] Prompt의 instruction의 경우 한글보다 **영어**로 했을 때 더 좋은 결과를 얻을 수 있습니다.**"
   ]
  },
  {
   "cell_type": "code",
   "execution_count": 8,
   "metadata": {
    "tags": []
   },
   "outputs": [],
   "source": [
    "from langchain import PromptTemplate"
   ]
  },
  {
   "cell_type": "code",
   "execution_count": 9,
   "metadata": {
    "tags": []
   },
   "outputs": [
    {
     "name": "stdout",
     "output_type": "stream",
     "text": [
      "claude_prompt: \n",
      " input_variables=['history', 'input'] template=\"\\n        \\n\\nHuman: Here's a friendly conversation between a user and an AI.\\n        The AI is talkative and provides lots of contextualized details.\\n        If it doesn't know, it will honestly say that it doesn't know the answer to the question.\\n\\n        Current conversation:\\n        {history}\\n\\n        User:\\n        {input}\\n\\n        \\n\\nAssistant:\\n        \"\n"
     ]
    }
   ],
   "source": [
    "# turn verbose to true to see the full logs and documents\n",
    "conversation = ConversationChain(\n",
    "    llm=llm_text,\n",
    "    verbose=False,\n",
    "    memory=memory\n",
    ")\n",
    "\n",
    "claude_prompt = PromptTemplate(\n",
    "        input_variables=[\"history\", 'input'],\n",
    "        template=\"\"\"\n",
    "        \\n\\nHuman: Here's a friendly conversation between a user and an AI.\n",
    "        The AI is talkative and provides lots of contextualized details.\n",
    "        If it doesn't know, it will honestly say that it doesn't know the answer to the question.\n",
    "\n",
    "        Current conversation:\n",
    "        {history}\n",
    "\n",
    "        User:\n",
    "        {input}\n",
    "\n",
    "        \\n\\nAssistant:\n",
    "        \"\"\"\n",
    ")\n",
    "\n",
    "print(\"claude_prompt: \\n\", claude_prompt)"
   ]
  },
  {
   "cell_type": "code",
   "execution_count": 10,
   "metadata": {
    "tags": []
   },
   "outputs": [],
   "source": [
    "conversation.prompt = claude_prompt"
   ]
  },
  {
   "cell_type": "code",
   "execution_count": 11,
   "metadata": {
    "tags": []
   },
   "outputs": [
    {
     "name": "stderr",
     "output_type": "stream",
     "text": [
      "None of PyTorch, TensorFlow >= 2.0, or Flax have been found. Models won't be available and only tokenizers, configuration and file/data utilities can be used.\n"
     ]
    },
    {
     "name": "stdout",
     "output_type": "stream",
     "text": [
      "# tokens: 15\n"
     ]
    },
    {
     "data": {
      "text/plain": [
       "15"
      ]
     },
     "execution_count": 11,
     "metadata": {},
     "output_type": "execute_result"
    }
   ],
   "source": [
    "chat_utils.get_tokens(\n",
    "    chain=conversation,\n",
    "    prompt=\"안녕하세요?\"\n",
    ")"
   ]
  },
  {
   "cell_type": "code",
   "execution_count": 12,
   "metadata": {
    "tags": []
   },
   "outputs": [
    {
     "name": "stdout",
     "output_type": "stream",
     "text": [
      " 네, 안녕하세요! 반갑습니다."
     ]
    }
   ],
   "source": [
    "if llm_text.streaming:\n",
    "    response = conversation.predict(input=\"안녕하세요?\")\n",
    "else:\n",
    "    print_ww(conversation.predict(input=\"안녕하세요?\"))"
   ]
  },
  {
   "cell_type": "markdown",
   "metadata": {},
   "source": [
    "#### (1) 새로운 질문\n",
    "\n",
    "모델이 초기 메시지로 응답했습니다. 몇 가지 질문을 해보겠습니다."
   ]
  },
  {
   "cell_type": "code",
   "execution_count": 13,
   "metadata": {
    "tags": []
   },
   "outputs": [
    {
     "name": "stdout",
     "output_type": "stream",
     "text": [
      " 네, 새로운 정원을 시작하는 몇 가지 유용한 팁을 알려드리겠습니다.\n",
      "\n",
      "먼저, 정원의 위치를 잘 선택하는 것이 중요합니다. 해가 잘 드는 곳으로 선택하시는 것이 좋습니다. 또한 물 공급이 용이한 곳도 고려하세요. \n",
      "\n",
      "다음으로는 토양을 준비하는 것이 필요합니다. 전문가의 조언을 받아 토양을 개량하거나 건강한 토양을 덮어주는 것이 좋습니다. \n",
      "\n",
      "정원 계획을 세우는 것도 도움이 됩니다. 무엇을 심을 지 미리 계획하고 배치도를 그려보세요. 환경에 맞는 작물을 선택하는 것이 중요합니다.\n",
      "\n",
      "마지막으로는 처음에는 작은 규모로 시작하는 것이 좋습니다. 점진적으로 규모를 키워가며 경험을 쌓으세요. 수시로 관리하고 문제가 생기면 바로 조치를 취하는 것이 필요합니다.\n",
      "\n",
      "이렇게 해보세요. 성공적인 정원 만들기를 위한 첫걸음이 될 것입니다. 다른 질문이 있으시면 부담없이 물어보세요!"
     ]
    }
   ],
   "source": [
    "if llm_text.streaming:\n",
    "    response = conversation.predict(input=\"새로운 정원을 시작하는 방법에 대한 몇 가지 팁을 알려주세요.\")\n",
    "else:\n",
    "    print_ww(conversation.predict(input=\"새로운 정원을 시작하는 방법에 대한 몇 가지 팁을 알려주세요.\"))"
   ]
  },
  {
   "cell_type": "markdown",
   "metadata": {},
   "source": [
    "#### Check momory"
   ]
  },
  {
   "cell_type": "code",
   "execution_count": 14,
   "metadata": {
    "tags": []
   },
   "outputs": [
    {
     "name": "stdout",
     "output_type": "stream",
     "text": [
      "{'history': [HumanMessage(content='안녕하세요?'), AIMessage(content=' 네, 안녕하세요! 반갑습니다.'),\n",
      "HumanMessage(content='새로운 정원을 시작하는 방법에 대한 몇 가지 팁을 알려주세요.'), AIMessage(content=' 네, 새로운 정원을 시작하는 몇 가지\n",
      "유용한 팁을 알려드리겠습니다.\\n\\n먼저, 정원의 위치를 잘 선택하는 것이 중요합니다. 해가 잘 드는 곳으로 선택하시는 것이 좋습니다. 또한 물 공급이 용이한 곳도 고려하세요.\n",
      "\\n\\n다음으로는 토양을 준비하는 것이 필요합니다. 전문가의 조언을 받아 토양을 개량하거나 건강한 토양을 덮어주는 것이 좋습니다. \\n\\n정원 계획을 세우는 것도 도움이 됩니다.\n",
      "무엇을 심을 지 미리 계획하고 배치도를 그려보세요. 환경에 맞는 작물을 선택하는 것이 중요합니다.\\n\\n마지막으로는 처음에는 작은 규모로 시작하는 것이 좋습니다. 점진적으로 규모를\n",
      "키워가며 경험을 쌓으세요. 수시로 관리하고 문제가 생기면 바로 조치를 취하는 것이 필요합니다.\\n\\n이렇게 해보세요. 성공적인 정원 만들기를 위한 첫걸음이 될 것입니다. 다른\n",
      "질문이 있으시면 부담없이 물어보세요!')]}\n"
     ]
    }
   ],
   "source": [
    "print_ww(memory.load_memory_variables({}))"
   ]
  },
  {
   "cell_type": "markdown",
   "metadata": {},
   "source": [
    "#### (2) 질문을 토대로 작성\n",
    "\n",
    "모델이 이전 대화를 이해할 수 있는지 확인하기 위해 정원이라는 단어를 언급하지 않고 질문해 보겠습니다."
   ]
  },
  {
   "cell_type": "code",
   "execution_count": 15,
   "metadata": {
    "tags": []
   },
   "outputs": [
    {
     "name": "stdout",
     "output_type": "stream",
     "text": [
      " 네, 토마토도 새로운 정원에 잘 심을 수 있는 작물 중 하나입니다. \n",
      "\n",
      "토마토를 심을 때는 다음 few 가지를 고려하시면 좋습니다:\n",
      "\n",
      "- 토마토는 일조가 잘 드는 곳을 좋아합니다. 하루 최소 6-8시간의 햇빛이 필요합니다. \n",
      "\n",
      "- 토양은 토마토 성장에 적절한 pH 6-7의 약알칼리성 토양이 이상적입니다.\n",
      "\n",
      "- 토마토는 물이 잘 빠지고 통풍이 잘 되는 토양을 선호합니다. 점토질 토양보다는 사질양토가 적합합니다.\n",
      "\n",
      "- 토마토는 질소, 인, 칼륨 등 영양분이 풍부한 토양에서 잘 자랍니다. \n",
      "\n",
      "- 정식 전에 충분히 물기를 주고, 정식 후에도 꾸준히 물을 공급하는 것이 중요합니다.\n",
      "\n",
      "- 지주나 덩굴을 이용해 토마토를 세워 재배하는 것이 좋습니다.\n",
      "\n",
      "이러한 점들을 고려하여 토마토에 최적의 환경을 만드시면 정원에서 풍성한 토마토를 맛볼 수 있을 것입니다. 정원 가꾸기 화이팅!"
     ]
    }
   ],
   "source": [
    "if llm_text.streaming:\n",
    "    response = conversation.predict(input=\"좋아요. 토마토에도 어울릴까요?\")\n",
    "else:\n",
    "    print_ww(conversation.predict(input=\"좋아요. 토마토에도 어울릴까요?\"))"
   ]
  },
  {
   "cell_type": "code",
   "execution_count": 16,
   "metadata": {
    "tags": []
   },
   "outputs": [
    {
     "name": "stdout",
     "output_type": "stream",
     "text": [
      "{'history': [HumanMessage(content='안녕하세요?'), AIMessage(content=' 네, 안녕하세요! 반갑습니다.'),\n",
      "HumanMessage(content='새로운 정원을 시작하는 방법에 대한 몇 가지 팁을 알려주세요.'), AIMessage(content=' 네, 새로운 정원을 시작하는 몇 가지\n",
      "유용한 팁을 알려드리겠습니다.\\n\\n먼저, 정원의 위치를 잘 선택하는 것이 중요합니다. 해가 잘 드는 곳으로 선택하시는 것이 좋습니다. 또한 물 공급이 용이한 곳도 고려하세요.\n",
      "\\n\\n다음으로는 토양을 준비하는 것이 필요합니다. 전문가의 조언을 받아 토양을 개량하거나 건강한 토양을 덮어주는 것이 좋습니다. \\n\\n정원 계획을 세우는 것도 도움이 됩니다.\n",
      "무엇을 심을 지 미리 계획하고 배치도를 그려보세요. 환경에 맞는 작물을 선택하는 것이 중요합니다.\\n\\n마지막으로는 처음에는 작은 규모로 시작하는 것이 좋습니다. 점진적으로 규모를\n",
      "키워가며 경험을 쌓으세요. 수시로 관리하고 문제가 생기면 바로 조치를 취하는 것이 필요합니다.\\n\\n이렇게 해보세요. 성공적인 정원 만들기를 위한 첫걸음이 될 것입니다. 다른\n",
      "질문이 있으시면 부담없이 물어보세요!'), HumanMessage(content='좋아요. 토마토에도 어울릴까요?'), AIMessage(content=' 네, 토마토도 새로운\n",
      "정원에 잘 심을 수 있는 작물 중 하나입니다. \\n\\n토마토를 심을 때는 다음 few 가지를 고려하시면 좋습니다:\\n\\n- 토마토는 일조가 잘 드는 곳을 좋아합니다. 하루 최소\n",
      "6-8시간의 햇빛이 필요합니다. \\n\\n- 토양은 토마토 성장에 적절한 pH 6-7의 약알칼리성 토양이 이상적입니다.\\n\\n- 토마토는 물이 잘 빠지고 통풍이 잘 되는 토양을\n",
      "선호합니다. 점토질 토양보다는 사질양토가 적합합니다.\\n\\n- 토마토는 질소, 인, 칼륨 등 영양분이 풍부한 토양에서 잘 자랍니다. \\n\\n- 정식 전에 충분히 물기를 주고, 정식\n",
      "후에도 꾸준히 물을 공급하는 것이 중요합니다.\\n\\n- 지주나 덩굴을 이용해 토마토를 세워 재배하는 것이 좋습니다.\\n\\n이러한 점들을 고려하여 토마토에 최적의 환경을 만드시면\n",
      "정원에서 풍성한 토마토를 맛볼 수 있을 것입니다. 정원 가꾸기 화이팅!')]}\n"
     ]
    }
   ],
   "source": [
    "print_ww (memory.load_memory_variables({}))"
   ]
  },
  {
   "cell_type": "markdown",
   "metadata": {},
   "source": [
    "#### (3) 대화를 마치며"
   ]
  },
  {
   "cell_type": "code",
   "execution_count": 17,
   "metadata": {
    "tags": []
   },
   "outputs": [
    {
     "name": "stdout",
     "output_type": "stream",
     "text": [
      " 네, 처음으로 정원을 가꾸시는 분들을 위해 새로운 정원 시작 팁과 토마토 재배 시 유의사항을 간단히 설명드렸습니다. 제가 알려드린 내용이 도움이 되셨기를 바랍니다. 정원 가꾸기에 성공하시고 풍성한 수확이 있기를 기원합니다. 감사합니다. 더 궁금한 점이 있으시면 언제든지 문의주세요!"
     ]
    }
   ],
   "source": [
    "if llm_text.streaming:\n",
    "    response = conversation.predict(input=\"그게 다야, 고마워!\")\n",
    "else:\n",
    "    print_ww(conversation.predict(input=\"그게 다야, 고마워!\"))"
   ]
  },
  {
   "cell_type": "markdown",
   "metadata": {},
   "source": [
    "# 4. ipywidgets를 사용한 대화형 세션\n",
    "\n",
    "다음 유틸리티 클래스를 사용하면 Claude와 보다 자연스러운 방식으로 상호 작용할 수 있습니다. 입력창에 질문을 적고 클로드의 답변을 받습니다. 그러면 대화를 계속할 수 있습니다."
   ]
  },
  {
   "cell_type": "code",
   "execution_count": 18,
   "metadata": {
    "tags": []
   },
   "outputs": [],
   "source": [
    "import ipywidgets as ipw\n",
    "from IPython.display import display, clear_output\n",
    "\n",
    "class ChatUX:\n",
    "    \"\"\" A chat UX using IPWidgets\n",
    "    \"\"\"\n",
    "    def __init__(self, qa, retrievalChain = False):\n",
    "        self.qa = qa\n",
    "        self.name = None\n",
    "        self.b=None\n",
    "        self.retrievalChain = retrievalChain\n",
    "        self.out = ipw.Output()\n",
    "\n",
    "        if \"ConversationChain\" in str(type(self.qa)):\n",
    "            self.streaming = self.qa.llm.streaming\n",
    "        elif \"ConversationalRetrievalChain\" in str(type(self.qa)):\n",
    "            self.streaming = self.qa.combine_docs_chain.llm_chain.llm.streaming\n",
    "\n",
    "    def start_chat(self):\n",
    "        print(\"Starting chat bot\")\n",
    "        display(self.out)\n",
    "        self.chat(None)\n",
    "\n",
    "\n",
    "    def chat(self, _):\n",
    "        if self.name is None:\n",
    "            prompt = \"\"\n",
    "        else: \n",
    "            prompt = self.name.value\n",
    "        if 'q' == prompt or 'quit' == prompt or 'Q' == prompt:\n",
    "            print(\"Thank you , that was a nice chat !!\")\n",
    "            return\n",
    "        elif len(prompt) > 0:\n",
    "            with self.out:\n",
    "                thinking = ipw.Label(value=\"Thinking...\")\n",
    "                display(thinking)\n",
    "                try:\n",
    "                    if self.retrievalChain:\n",
    "                        result = self.qa.run({'question': prompt })\n",
    "                    else:\n",
    "                        result = self.qa.run({'input': prompt }) #, 'history':chat_history})\n",
    "                except:\n",
    "                    result = \"No answer\"\n",
    "                thinking.value=\"\"\n",
    "                if self.streaming:\n",
    "                    response = f\"AI:{result}\"\n",
    "                else:\n",
    "                    print_ww(f\"AI:{result}\")\n",
    "                self.name.disabled = True\n",
    "                self.b.disabled = True\n",
    "                self.name = None\n",
    "\n",
    "        if self.name is None:\n",
    "            with self.out:\n",
    "                self.name = ipw.Text(description=\"You:\", placeholder='q to quit')\n",
    "                self.b = ipw.Button(description=\"Send\")\n",
    "                self.b.on_click(self.chat)\n",
    "                display(ipw.Box(children=(self.name, self.b)))"
   ]
  },
  {
   "cell_type": "markdown",
   "metadata": {
    "tags": []
   },
   "source": [
    "#### (1) 채팅을 시작해 보겠습니다. 다음 질문을 테스트할 수도 있습니다.\n",
    "\n",
    "1. 농담 하나 해줘\n",
    "2. 또 다른 농담을 들려주세요\n",
    "3. 첫 번째 농담은 무엇이었나요?\n",
    "4. 첫 번째 농담과 같은 주제로 또 다른 농담을 할 수 있나요?\n",
    "\n",
    "위의 4가지를 순서대로 아래에 입력하시고, \"Send\" 버튼을 눌러 보세요."
   ]
  },
  {
   "cell_type": "code",
   "execution_count": 19,
   "metadata": {
    "tags": []
   },
   "outputs": [],
   "source": [
    "chat = ChatUX(conversation)"
   ]
  },
  {
   "cell_type": "code",
   "execution_count": 20,
   "metadata": {
    "tags": []
   },
   "outputs": [
    {
     "name": "stdout",
     "output_type": "stream",
     "text": [
      "Starting chat bot\n"
     ]
    },
    {
     "data": {
      "application/vnd.jupyter.widget-view+json": {
       "model_id": "fd405cacb8c241df9066c452a0977d6c",
       "version_major": 2,
       "version_minor": 0
      },
      "text/plain": [
       "Output()"
      ]
     },
     "metadata": {},
     "output_type": "display_data"
    }
   ],
   "source": [
    "chat = ChatUX(conversation)\n",
    "chat.start_chat()"
   ]
  },
  {
   "cell_type": "markdown",
   "metadata": {
    "tags": []
   },
   "source": [
    "# 5.페르소나를 활용한 챗봇"
   ]
  },
  {
   "cell_type": "markdown",
   "metadata": {},
   "source": [
    "AI 비서가 커리어 코치 역할을 하게 됩니다. \n",
    "- 역할극 대화에서는 채팅을 시작하기 전에 사용자 메시지를 설정해야 합니다. ConversationBufferMemory는 대화 상자를 미리 채우는 데 사용됩니다."
   ]
  },
  {
   "cell_type": "markdown",
   "metadata": {},
   "source": [
    "### (1) ConversationChain 생성 필요한 메모리 초기화, Bedrock Claude 설정"
   ]
  },
  {
   "cell_type": "code",
   "execution_count": 22,
   "metadata": {
    "tags": []
   },
   "outputs": [
    {
     "name": "stdout",
     "output_type": "stream",
     "text": [
      "memory=ConversationBufferMemory(chat_memory=ChatMessageHistory(messages=[HumanMessage(content='당신은 직업 코치로 활동하게 될 것입니다. 귀하의 목표는 사용자에게 직업 조언을 제공하는 것입니다'), AIMessage(content='나는 직업 코치이며 직업에 대한 조언을 제공합니다')]), return_messages=True) verbose=True llm=Bedrock(client=<botocore.client.BedrockRuntime object at 0x7f07374f0820>, model_id='anthropic.claude-v2', model_kwargs={'max_tokens_to_sample': 1000, 'temperature': 0, 'top_k': 250, 'top_p': 0.999, 'stop_sequences': ['\\n\\nHuman:']}, streaming=True, callbacks=[<langchain.callbacks.streaming_stdout.StreamingStdOutCallbackHandler object at 0x7f0731234160>])\n",
      "claude_prompt: \n",
      " input_variables=['history', 'input'] template=\"\\n\\n\\nHuman: Here's a friendly conversation between a user and an AI.\\nThe AI is talkative and provides lots of contextualized details.\\nIf it doesn't know, it will honestly say that it doesn't know the answer to the question.\\n\\nCurrent conversation:\\n{history}\\n\\nUser: {input}\\n\\n\\n\\nAssistant:\\n\"\n"
     ]
    }
   ],
   "source": [
    "# llm\n",
    "llm_text = Bedrock(\n",
    "    model_id=bedrock_info.get_model_id(model_name=\"Claude-V2\"),\n",
    "    client=boto3_bedrock,\n",
    "    model_kwargs={\n",
    "        \"max_tokens_to_sample\": 1000,\n",
    "        \"temperature\": 0,\n",
    "        \"top_k\": 250,\n",
    "        \"top_p\": 0.999,\n",
    "        \"stop_sequences\": [\"\\n\\nHuman:\"]\n",
    "    },\n",
    "    streaming=True,\n",
    "    callbacks=[StreamingStdOutCallbackHandler()],\n",
    ")\n",
    "\n",
    "# memory\n",
    "# store previous interactions using ConversationalBufferMemory and add custom prompts to the chat.\n",
    "memory = chat_utils.get_memory(\n",
    "    memory_type=\"ConversationBufferMemory\",\n",
    "    memory_key=\"history\"\n",
    ")\n",
    "\n",
    "memory.chat_memory.add_user_message(\"당신은 직업 코치로 활동하게 될 것입니다. 귀하의 목표는 사용자에게 직업 조언을 제공하는 것입니다\")\n",
    "memory.chat_memory.add_ai_message(\"나는 직업 코치이며 직업에 대한 조언을 제공합니다\")\n",
    "\n",
    "# conversation chain\n",
    "conversation = ConversationChain(\n",
    "    llm=llm_text,\n",
    "    verbose=True,\n",
    "    memory=memory\n",
    ")\n",
    "print(conversation)\n",
    "\n",
    "# langchain prompts do not always work with all the models. This prompt is tuned for Claude\n",
    "claude_prompt = PromptTemplate.from_template(\"\"\"\n",
    "\\n\\nHuman: Here's a friendly conversation between a user and an AI.\n",
    "The AI is talkative and provides lots of contextualized details.\n",
    "If it doesn't know, it will honestly say that it doesn't know the answer to the question.\n",
    "\n",
    "Current conversation:\n",
    "{history}\n",
    "\n",
    "User: {input}\n",
    "\n",
    "\\n\\nAssistant:\n",
    "\"\"\"\n",
    ")\n",
    "\n",
    "\n",
    "print(\"claude_prompt: \\n\", claude_prompt)\n",
    "conversation.prompt = claude_prompt"
   ]
  },
  {
   "cell_type": "markdown",
   "metadata": {},
   "source": [
    "### (2) 인공지능 관련 직업 질문"
   ]
  },
  {
   "cell_type": "code",
   "execution_count": 23,
   "metadata": {
    "tags": []
   },
   "outputs": [
    {
     "name": "stdout",
     "output_type": "stream",
     "text": [
      "\n",
      "\n",
      "\u001b[1m> Entering new ConversationChain chain...\u001b[0m\n",
      "Prompt after formatting:\n",
      "\u001b[32;1m\u001b[1;3m\n",
      "\n",
      "\n",
      "Human: Here's a friendly conversation between a user and an AI.\n",
      "The AI is talkative and provides lots of contextualized details.\n",
      "If it doesn't know, it will honestly say that it doesn't know the answer to the question.\n",
      "\n",
      "Current conversation:\n",
      "[HumanMessage(content='당신은 직업 코치로 활동하게 될 것입니다. 귀하의 목표는 사용자에게 직업 조언을 제공하는 것입니다'), AIMessage(content='나는 직업 코치이며 직업에 대한 조언을 제공합니다')]\n",
      "\n",
      "User: “인공지능에 관련된 직업은 어떤 것이 있습니까?\n",
      "\n",
      "\n",
      "\n",
      "Assistant:\n",
      "\u001b[0m\n",
      " 네, 인공지능과 관련된 직업은 다음과 같습니다:\n",
      "\n",
      "- AI 연구원 - AI 알고리즘과 모델을 연구하고 개발합니다. \n",
      "\n",
      "- 데이터 사이언티스트 - 대규모 데이터를 수집, 처리, 분석하고 AI 모델을 훈련시킵니다.\n",
      "\n",
      "- 머신러닝 엔지니어 - 머신러닝/딥러닝 시스템을 설계, 구축, 유지보수 합니다.\n",
      "\n",
      "- AI 프로덕트 매니저 - AI 제품의 기획, 로드맵 수립 등 AI 비즈니스를 주도합니다.\n",
      "\n",
      "- 로보틱스 엔지니어 - 인공지능이 장착된 로봇의 하드웨어와 소프트웨어를 개발합니다. \n",
      "\n",
      "- 자연어 처리 엔지니어 - 자연어 인식, 이해, 생성 AI를 개발합니다.\n",
      "\n",
      "- 컴퓨터 비전 엔지니어 - 이미지/동영상 인식 AI를 개발합니다. \n",
      "\n",
      "이외에도 UX/UI 디자이너, 비즈니스 애널리스트 등 다양한 직업군이 있습니다. 관심 있는 분야를 탐색하셔서 자신에 맞는 직업을 찾아보세요.\n",
      "\u001b[1m> Finished chain.\u001b[0m\n"
     ]
    }
   ],
   "source": [
    "if llm_text.streaming:\n",
    "    response = conversation.predict(input=\"“인공지능에 관련된 직업은 어떤 것이 있습니까?\")\n",
    "else:\n",
    "    print_ww(conversation.predict(input=\"“인공지능에 관련된 직업은 어떤 것이 있습니까?\"))"
   ]
  },
  {
   "cell_type": "markdown",
   "metadata": {},
   "source": [
    "### (3) 인공지능 관련 직업데 대한 세부 질문"
   ]
  },
  {
   "cell_type": "code",
   "execution_count": 24,
   "metadata": {
    "tags": []
   },
   "outputs": [
    {
     "name": "stdout",
     "output_type": "stream",
     "text": [
      "\n",
      "\n",
      "\u001b[1m> Entering new ConversationChain chain...\u001b[0m\n",
      "Prompt after formatting:\n",
      "\u001b[32;1m\u001b[1;3m\n",
      "\n",
      "\n",
      "Human: Here's a friendly conversation between a user and an AI.\n",
      "The AI is talkative and provides lots of contextualized details.\n",
      "If it doesn't know, it will honestly say that it doesn't know the answer to the question.\n",
      "\n",
      "Current conversation:\n",
      "[HumanMessage(content='당신은 직업 코치로 활동하게 될 것입니다. 귀하의 목표는 사용자에게 직업 조언을 제공하는 것입니다'), AIMessage(content='나는 직업 코치이며 직업에 대한 조언을 제공합니다'), HumanMessage(content='“인공지능에 관련된 직업은 어떤 것이 있습니까?'), AIMessage(content=' 네, 인공지능과 관련된 직업은 다음과 같습니다:\\n\\n- AI 연구원 - AI 알고리즘과 모델을 연구하고 개발합니다. \\n\\n- 데이터 사이언티스트 - 대규모 데이터를 수집, 처리, 분석하고 AI 모델을 훈련시킵니다.\\n\\n- 머신러닝 엔지니어 - 머신러닝/딥러닝 시스템을 설계, 구축, 유지보수 합니다.\\n\\n- AI 프로덕트 매니저 - AI 제품의 기획, 로드맵 수립 등 AI 비즈니스를 주도합니다.\\n\\n- 로보틱스 엔지니어 - 인공지능이 장착된 로봇의 하드웨어와 소프트웨어를 개발합니다. \\n\\n- 자연어 처리 엔지니어 - 자연어 인식, 이해, 생성 AI를 개발합니다.\\n\\n- 컴퓨터 비전 엔지니어 - 이미지/동영상 인식 AI를 개발합니다. \\n\\n이외에도 UX/UI 디자이너, 비즈니스 애널리스트 등 다양한 직업군이 있습니다. 관심 있는 분야를 탐색하셔서 자신에 맞는 직업을 찾아보세요.')]\n",
      "\n",
      "User: 이 직업들은 실제로 무엇을 하는가요? 재미있나요?\n",
      "\n",
      "\n",
      "\n",
      "Assistant:\n",
      "\u001b[0m\n",
      " 네, 인공지능 관련 직업들이 실제로 하는 일과 재미있는 점에 대해 더 자세히 설명드리겠습니다.\n",
      "\n",
      "AI 연구원은 새로운 알고리즘과 모델을 연구하고 개발하는 일을 합니다. 인간의 지능을 컴퓨터에 구현하는 일은 정말 흥미롭고 도전적인 일이에요. \n",
      "\n",
      "데이터 사이언티스트는 대량의 데이터를 다루고 AI 모델을 훈련시키는 일을 합니다. 데이터에서 인사이트를 찾아내는 것이 재미있죠.\n",
      "\n",
      "머신러닝 엔지니어는 실제 제품/서비스에 AI를 구현하고 운영합니다. AI를 실생활에 접목하는 것이 뿌듯하고 의미있는 일이에요.\n",
      "\n",
      "AI 프로덕트 매니저는 AI 기술을 제품화하고 비즈니스화 하는 일을 합니다. AI를 사업적으로 성공시키는 것이 도전과 보람이 있어요.\n",
      "\n",
      "로보틱스 엔지니어는 로봇의 하드웨어와 AI 소프트웨어를 개발합니다. 로봇을 만드는 것은 아이 같은 동심과 창의력이 필요하죠.\n",
      "\n",
      "전반적으로 인공지능 분야의 직업들은 기술과 과학의 발전에 기여하며, 창의력과 도전정신이 필요한 일들이에요. 많은 보람과 성취감이 있는 일들입니다.\n",
      "\u001b[1m> Finished chain.\u001b[0m\n"
     ]
    }
   ],
   "source": [
    "if llm_text.streaming:\n",
    "    response = conversation.predict(input=\"이 직업들은 실제로 무엇을 하는가요? 재미있나요?\")\n",
    "else:\n",
    "    print_ww(conversation.predict(input=\"이 직업들은 실제로 무엇을 하는가요? 재미있나요?\"))"
   ]
  },
  {
   "cell_type": "markdown",
   "metadata": {
    "tags": []
   },
   "source": [
    "#### Check memory"
   ]
  },
  {
   "cell_type": "code",
   "execution_count": 25,
   "metadata": {
    "tags": []
   },
   "outputs": [
    {
     "name": "stdout",
     "output_type": "stream",
     "text": [
      "{'history': [HumanMessage(content='당신은 직업 코치로 활동하게 될 것입니다. 귀하의 목표는 사용자에게 직업 조언을 제공하는 것입니다'),\n",
      "             AIMessage(content='나는 직업 코치이며 직업에 대한 조언을 제공합니다'),\n",
      "             HumanMessage(content='“인공지능에 관련된 직업은 어떤 것이 있습니까?'),\n",
      "             AIMessage(content=' 네, 인공지능과 관련된 직업은 다음과 같습니다:\\n\\n- AI 연구원 - AI 알고리즘과 모델을 연구하고 개발합니다. \\n\\n- 데이터 사이언티스트 - 대규모 데이터를 수집, 처리, 분석하고 AI 모델을 훈련시킵니다.\\n\\n- 머신러닝 엔지니어 - 머신러닝/딥러닝 시스템을 설계, 구축, 유지보수 합니다.\\n\\n- AI 프로덕트 매니저 - AI 제품의 기획, 로드맵 수립 등 AI 비즈니스를 주도합니다.\\n\\n- 로보틱스 엔지니어 - 인공지능이 장착된 로봇의 하드웨어와 소프트웨어를 개발합니다. \\n\\n- 자연어 처리 엔지니어 - 자연어 인식, 이해, 생성 AI를 개발합니다.\\n\\n- 컴퓨터 비전 엔지니어 - 이미지/동영상 인식 AI를 개발합니다. \\n\\n이외에도 UX/UI 디자이너, 비즈니스 애널리스트 등 다양한 직업군이 있습니다. 관심 있는 분야를 탐색하셔서 자신에 맞는 직업을 찾아보세요.'),\n",
      "             HumanMessage(content='이 직업들은 실제로 무엇을 하는가요? 재미있나요?'),\n",
      "             AIMessage(content=' 네, 인공지능 관련 직업들이 실제로 하는 일과 재미있는 점에 대해 더 자세히 설명드리겠습니다.\\n\\nAI 연구원은 새로운 알고리즘과 모델을 연구하고 개발하는 일을 합니다. 인간의 지능을 컴퓨터에 구현하는 일은 정말 흥미롭고 도전적인 일이에요. \\n\\n데이터 사이언티스트는 대량의 데이터를 다루고 AI 모델을 훈련시키는 일을 합니다. 데이터에서 인사이트를 찾아내는 것이 재미있죠.\\n\\n머신러닝 엔지니어는 실제 제품/서비스에 AI를 구현하고 운영합니다. AI를 실생활에 접목하는 것이 뿌듯하고 의미있는 일이에요.\\n\\nAI 프로덕트 매니저는 AI 기술을 제품화하고 비즈니스화 하는 일을 합니다. AI를 사업적으로 성공시키는 것이 도전과 보람이 있어요.\\n\\n로보틱스 엔지니어는 로봇의 하드웨어와 AI 소프트웨어를 개발합니다. 로봇을 만드는 것은 아이 같은 동심과 창의력이 필요하죠.\\n\\n전반적으로 인공지능 분야의 직업들은 기술과 과학의 발전에 기여하며, 창의력과 도전정신이 필요한 일들이에요. 많은 보람과 성취감이 있는 일들입니다.')]}\n"
     ]
    }
   ],
   "source": [
    "pprint(memory.load_memory_variables({}))"
   ]
  },
  {
   "cell_type": "markdown",
   "metadata": {},
   "source": [
    "# 6. 맥락을 가진 챗봇"
   ]
  },
  {
   "cell_type": "markdown",
   "metadata": {},
   "source": [
    "## 상황에 맞는 챗봇\n",
    "이 사용 사례에서는 Chatbot에게 이전에 본 적이 없는 외부 코퍼스의 질문에 답변하도록 요청합니다. 이를 위해 RAG(Retrieval Augmented Generation)라는 패턴을 적용합니다. 아이디어는 말뭉치를 덩어리로 인덱싱한 다음 덩어리와 질문 사이의 의미론적 유사성을 사용하여 말뭉치의 어느 섹션이 답변을 제공하는 데 관련될 수 있는지 찾는 것입니다. 마지막으로 가장 관련성이 높은 청크가 집계되어 기록을 제공하는 것과 유사하게 ConversationChain에 컨텍스트로 전달됩니다.\n",
    "\n",
    "**Titan Embeddings Model**을 사용하여 벡터를 생성하겠습니다. 그런 다음 이 벡터는 메모리 내 벡터 데이터 저장소를 제공하는 Amazon OpenSearch에 저장됩니다. 챗봇이 질문을 받으면 OpenSearch에 질문을 쿼리하고 의미상 가장 가까운 텍스트를 검색합니다. 이것이 우리의 대답이 될 것입니다."
   ]
  },
  {
   "cell_type": "markdown",
   "metadata": {},
   "source": [
    "## 6.1 2022년 아마존 주주 서한 문서로 구현 (PDF 문서)"
   ]
  },
  {
   "cell_type": "markdown",
   "metadata": {},
   "source": [
    "### Amazon Titan Embedding 모델 사용 \n",
    "- model_id=\"amazon.titan-embed-text-v1\"\n",
    "- 이 모델은 최대 8,192 Token 입력이 가능합니다."
   ]
  },
  {
   "cell_type": "code",
   "execution_count": 26,
   "metadata": {
    "tags": []
   },
   "outputs": [],
   "source": [
    "from langchain.embeddings import BedrockEmbeddings"
   ]
  },
  {
   "cell_type": "code",
   "execution_count": 27,
   "metadata": {
    "tags": []
   },
   "outputs": [],
   "source": [
    "bedrock_embeddings = BedrockEmbeddings(\n",
    "    client=boto3_bedrock,\n",
    "    model_id=bedrock_info.get_model_id(\n",
    "        model_name=\"Titan-Embeddings-G1\"\n",
    "    )\n",
    ")"
   ]
  },
  {
   "cell_type": "markdown",
   "metadata": {},
   "source": [
    "### PyPDFDirectoryLoader 를 통한 PDF 파일 로딩\n",
    "- chunk_size 는 임베딩 모델의 최대 입력 토큰 (8,192) 수를 고려하여 정해야 합니다."
   ]
  },
  {
   "cell_type": "code",
   "execution_count": 28,
   "metadata": {
    "tags": []
   },
   "outputs": [],
   "source": [
    "import numpy as np\n",
    "from langchain.text_splitter import CharacterTextSplitter, RecursiveCharacterTextSplitter, SpacyTextSplitter\n",
    "from langchain.document_loaders import PyPDFLoader, PyPDFDirectoryLoader\n",
    "from langchain.vectorstores import FAISS\n",
    "from langchain.indexes.vectorstore import VectorStoreIndexWrapper"
   ]
  },
  {
   "cell_type": "code",
   "execution_count": 29,
   "metadata": {
    "tags": []
   },
   "outputs": [],
   "source": [
    "loader = PyPDFDirectoryLoader(\"./rag_data_kr_pdf/\")"
   ]
  },
  {
   "cell_type": "markdown",
   "metadata": {},
   "source": [
    "* RecursiveCharacterTextSplitter: charater based splitter"
   ]
  },
  {
   "cell_type": "code",
   "execution_count": 30,
   "metadata": {
    "tags": []
   },
   "outputs": [],
   "source": [
    "documents = loader.load()\n",
    "# - in our testing Character split works better with this PDF data set\n",
    "text_splitter = RecursiveCharacterTextSplitter(\n",
    "    # Set a really small chunk size, just to show.\n",
    "    chunk_size=1024,\n",
    "    chunk_overlap=256,\n",
    "    # separators = ['\\n'],\n",
    "    separators = ['\\n','\\n\\n']\n",
    ")\n",
    "docs = text_splitter.split_documents(documents)"
   ]
  },
  {
   "cell_type": "code",
   "execution_count": 31,
   "metadata": {
    "tags": []
   },
   "outputs": [
    {
     "data": {
      "text/plain": [
       "[Document(page_content='CEO로서 두 번째 연례 주주 서한을 작성하기 위해 자리에 앉았을 때 저는 Amazon의 앞날에 대해 낙관적이고 활력을 얻었습니다. 2022년은 최근 기억에 있어 어려운 거시경제적 해 중 하나이고 우리 자체의 운영상의 어려움에도 불구하고 우리는 여전히 수요를 늘릴 방법을 찾았습니다(팬데믹 전반기에 경험한 전례 없는 성장에 더해). 우리는 장단기적으로 고객 경험을 의미 있게 개선하기 위해 대규모 사업을 혁신했습니다. 그리고 고객, 주주 및 직원을 위해 Amazon의 미래를 바꿀 수 있다고 믿는 장기 투자를 계속 유지하면서 투자 결정과 앞으로 나아갈 방법에 중요한 조정을 했습니다.  작년에 이례적인 수의 동시 도전 과제가 있었지만 현실은 유능하고 자금이 충분한 경쟁자가 많은 크고 역동적인 글로벌 시장 부문에서 운영하는 경우(아마존이 모든 비즈니스를 운영하는 조건) 조건이 오랫동안 정체되어 있는 경우는 드뭅니다.  제가 Amazon에 근무한 25년 동안 끊임없는 변화가 있었고 그 중 대부분은 우리가 스스로 시작했습니다. 내가 1997년에 Amazon에 입사했을 때 우리는 1996년에 1,500만 달러의 매출을 올렸고, 도서 전용 소매업체였으며, 제3자 시장이 없었고, 미국 내 주소로만 배송되었습니다. 오늘날 Amazon은 단위 판매의 60%를 차지하고 전 세계 거의 모든 국가의 고객에게 도달하는 활기찬 타사 판매자 에코시스템을 통해 상상할 수 있는 거의 모든 물리적 및 디지털 소매 품목을 판매합니다. 마찬가지로 클라우드에서 일련의 기술 인프라 서비스를 중심으로 비즈니스를 구축하는 것은 AWS를 추구하기 시작한 2003년에는 분명하지 않았으며 2006년 첫 서비스를 출시했을 때도 마찬가지였습니다. 거의 모든 책을 60초 안에 손끝에서 볼 수 있습니다 2007년 Kindle을 출시했을 때 가벼운 디지털 리더에 저장하고 검색할 수 있다는 것은 아직 \"사물\"이 아니었고 Alexa(2014년 출시)와 같이 액세스하는 데 사용할 수 있는 음성 기반 개인 비서도 아니었습니다. 엔터테인먼트, 스마트 홈 제어, 쇼핑 및 모든 종류의 정보 검색.  또한 거시 경제 상황이나 운영 비효율성으로 인해 우리에게 새로운 과제가 제시된 경우도 있었습니다. 예를 들어 2001년 닷컴 폭락 당시 우리는 연휴 기간 동안 재고를 구매하기 위해 신용장을 확보해야 했고 비즈니스의 더 나은 수익성을 제공하기 위해 비용을 합리화해야 했지만 여전히 우리가 노력하고 있던 장기적인 고객 경험과 비즈니스를 우선시했습니다. 빌드(기억한다면, 우리는 실제로 2001년 그 미미한 기간 동안 대부분의 범주에서 가격을 낮췄습니다). 2008-2009년에 모기지 담보 증권 금융 위기로 촉발된 경기 침체를 견디면서 이런 종류의 균형을 다시 보았습니다. 우리는 매장 비즈니스의 비용 구조와 효율성을 관리하기 위해 몇 가지 조치를 취했지만, 주주에게 강력한 수익을 제공하는 실질적인 미래 비즈니스가 될 수 있다고 생각하는 고객 경험에 대한 투자와 이러한 합리화의 균형을 맞췄습니다. 2008년에 AWS는 여전히 상당히 작고 신생 기업이었습니다. 우리는 우리가 무언가를 하고 있다는 것을 알고 있었지만 ', metadata={'source': 'rag_data_kr_pdf/2022-Amazon-Stakeholder-Letter-KR.pdf', 'page': 0}),\n",
       " Document(page_content='여전히 상당한 자본 투자가 필요했습니다. 회사 안팎에서는 아마존(당시 주로 온라인 소매업체로 알려짐)이 클라우드 컴퓨팅에 많은 투자를 하는 이유에 대해 의문을 제기하는 목소리가 있었습니다. 그러나 우리는 미래에 고객과 아마존을 위해 많은 가치를 창출할 수 있는 특별한 것을 발명하고 있다는 것을 알고 있었습니다. 우리는 잠재적 경쟁자보다 먼저 출발했습니다. 무엇보다 우리는 혁신 속도를 가속화하고 싶었습니다. 우리는 AWS에 계속 투자하기로 장기적인 결정을 내렸습니다. 15년 후 AWS는 이제 신생 기업에서 다국적 기업, 공공 부문 조직에 이르기까지 고객이 기술 인프라를 관리하는 방식을 변화시킨 강력한 수익성을 갖춘 연간 매출 850억 달러 규모의 기업이 되었습니다. 2008-2009년 기간 동안 AWS에 대한 투자를 늦추었다면 Amazon은 다른 회사가 되었을 것입니다.  변화는 항상 가까이에 있습니다. 때로는 적극적으로 초대하고 때로는 그냥 노크합니다. 그러나 그것이 오는 것을 보았을 때, 그것을 받아들여야 합니다. 그리고 장기간에 걸쳐 이를 잘 수행하는 회사는 일반적으로 성공합니다. 나는 우리 팀이 우리 앞에 보이는 변화에 대응하는 방식이 마음에 들기 때문에 우리의 미래 전망에 대해 낙관적입니다.  지난 몇 달 동안 우리는 회사 전체를 비즈니스별로, 발명별로 자세히 살펴보고 각 이니셔티브의 장기적인 잠재력에 대해 충분한 수익, 운영 수입, 무료 현금 흐름, 투자 자본 수익률. 경우에 따라 특정 비즈니스를 폐쇄하게 되었습니다. 예를 들어 우리는 서점 및 4스타 매장과 같은 물리적 매장 개념 추구를 중단하고 Amazon Fabric 및 Amazon Care 노력을 중단했으며 의미 있는 수익을 얻을 수 있는 경로가 보이지 않는 일부 최신 장치에서 전환했습니다. 다른 경우에는 우리가 기대했던 수익을 내지 못하는 일부 프로그램(예: $35 이상의 모든 온라인 식료품 주문에 대한 무료 배송)을 살펴보고 수정했습니다. 우리는 또한 리소스를 어디에 사용할지 우선 순위를 재지정했고, 결국 27,000개의 회사 역할을 제거하는 어려운 결정을 내렸습니다. 전체 비용을 합리화하기 위해 지난 몇 개월 동안 수행한 다른 변경 사항이 많이 있으며 대부분의 리더십 팀과 마찬가지로 비즈니스에서 보고 있는 사항을 계속 평가하고 적응적으로 진행할 것입니다.  우리는 또한 팀으로 어떻게 협력하고 있는지 열심히 살펴보았고 회사 직원들에게 5월부터 일주일에 최소 3일은 사무실로 돌아올 것을 요청했습니다. 팬데믹 기간 동안 우리 직원들은 집에서 일하기 위해 집결했으며 예상치 못한 상황에 대처하기 위해 가능한 모든 일을 했습니다. 그것은 인상적이었고 저는 우리의 집단적 팀이 고객, 지역 사회 및 비즈니스에 대한 전례 없는 도전을 극복하기 위해 함께 모인 방식이 자랑스럽습니다. 그러나 우리는 이것이 최선의 장기적 접근 방식이라고 생각하지 않습니다. 우리는 함께 일하고 직접 서로에게서 배울 때 협업과 발명이 더 쉽고 효과적이라는 것을 확신하게 되었습니다. 서로의 아이디어에 대한 에너지와 반복은 더 자유롭게 발생하며 최고의 Amazon 발명품 중 다수는 사람들이 회의 후 뒤에 남아 화이트보드에서 ', metadata={'source': 'rag_data_kr_pdf/2022-Amazon-Stakeholder-Letter-KR.pdf', 'page': 1}),\n",
       " Document(page_content='아이디어를 검토하거나 회의에서 돌아오는 길에 대화를 계속하면서 획기적인 순간을 맞이했습니다. , 또는 다른 생각으로 그날 늦게 팀원의 사무실에 들르는 것. 발명은 종종 지저분합니다. 그것은 방황하고 구불 구불하고 마리 네이드합니다. 뜻밖의 상호 작용이 도움이 되며, 가상으로 하는 것보다 직접 만나는 것이 더 많습니다. 또한 우리가 대부분의 시간을 함께 사무실에 있고 동료들에게 둘러싸여 있을 때 우리 문화를 배우고, 모델링하고, 연습하고, 강화하는 것이 훨씬 더 쉽습니다. 혁신과 우리 고유의 문화는 회사로서 처음 29년 동안 매우 중요했으며 다음 29년에도 마찬가지로 그렇게 될 것으로 기대합니다.  우리가 계속해서 해결해야 할 중요한 문제는 매장 주문 처리 네트워크에서 서비스를 제공하는 데 드는 비용(예: Amazon에서 고객에게 제품을 제공하는 비용)이 증가하는 것입니다. 비용 및 배송 속도.  팬데믹 초기에는 많은 오프라인 매장이 문을 닫았고, 우리 소비자 비즈니스는 놀라운 속도로 성장하여 연간 매출이 2019년 2,450억 달러에서 2022년 4,340억 달러로 증가했습니다. 이는 주문 처리 센터 공간을 두 배로 늘려야 함을 의미했습니다. 지난 25년 동안 우리가 구축한 운송 네트워크를 현재 UPS 크기의 라스트 마일 운송 네트워크 구축을 크게 가속화했습니다(항목이 장거리를 통과해야 할 때 효율성과 속도를 지원하기 위한 새로운 분류 센터 네트워크 포함). 약 2년의 시간 동안. 이것은 쉬운 일이 아니었고 수십만 명의 아마존 사람들이 이것을 실현하기 위해 매우 열심히 일했습니다. 그러나 이러한 변화의 속도와 규모로 인해 의도한 생산성을 얻기 위해서는 많은 최적화가 필요했습니다. 지난 몇 달 동안 우리는 주문 처리 센터 및 운송 네트워크의 모든 프로세스 경로를 면밀히 조사하고 수십 가지 프로세스 및 메커니즘을 재설계하여 지난 몇 분기 동안 꾸준한 생산성 향상과 비용 절감을 가져왔습니다. 해야 할 일이 더 많지만 우리의 궤적과 우리 앞에 있는 의미 있는 상승세에 만족합니다.  우리는 또한 앞으로 수년 동안 더 낮은 비용과 더 빠른 속도를 제공할 수 있도록 더 큰 구조적 변화를 만들기 위해 이 기회를 잡았습니다. 좋은 예는 미국 주문 처리 네트워크가 어떻게 구성되어 있는지 재평가하는 것입니다. 최근까지 아마존은 미국 전역에 퍼져 있는 주문 처리 센터의 재고를 분배하는 하나의 미국 전국 주문 처리 네트워크를 운영했습니다. 지역 주문 처리 센터에 고객이 주문한 제품이 없으면 결국 다른 지역에서 배송하게 되므로 더 많은 비용이 들고 배송 시간이 늘어납니다. 이 문제는 주문 처리 네트워크가 지난 몇 년 동안 수백 개의 추가 노드로 확장되어 더 많은 위치에 재고를 분배하고 주문 처리 센터와 배송 스테이션 노드를 효율적으로 연결하는 복잡성이 증가함에 따라 더욱 두드러졌습니다. 작년에 우리는 재고 배치 전략을 재설계하고 더 큰 주문 처리 센터 공간을 활용하여 전국 주문 처리 네트워크에서 지역화된 네트워크 모델로 이동하기 시작했습니다. 우리는 더 작은 지리적 영역에 8개의 상호 연결된 지역을 만들기 위해 ', metadata={'source': 'rag_data_kr_pdf/2022-Amazon-Stakeholder-Letter-KR.pdf', 'page': 2})]"
      ]
     },
     "execution_count": 31,
     "metadata": {},
     "output_type": "execute_result"
    }
   ],
   "source": [
    "docs[:3]"
   ]
  },
  {
   "cell_type": "markdown",
   "metadata": {
    "tags": []
   },
   "source": [
    "* SpacyTextSplitter: sentence based splitter"
   ]
  },
  {
   "cell_type": "code",
   "execution_count": 32,
   "metadata": {
    "tags": []
   },
   "outputs": [],
   "source": [
    "# documents = loader.load()\n",
    "# text_splitter = SpacyTextSplitter(\n",
    "#     chunk_size=1024,\n",
    "#     chunk_overlap=512,\n",
    "#     separator=\"\", # seperator to be inserted between sentences \n",
    "#     pipeline=\"ko_core_news_md\"\n",
    "# )\n",
    "# docs = text_splitter.split_documents(documents)"
   ]
  },
  {
   "cell_type": "markdown",
   "metadata": {
    "tags": []
   },
   "source": [
    "### OpenSearch Client 생성\n",
    "### 선수 조건\n",
    "- 아래의 링크를 참조해서 OpenSearch Service 를 생성하고, opensearch_domain_endpoint, http_auth 를 복사해서, 아래 셀의 내용을 대체 하세요.\n",
    "    - [OpenSearch 생성 가이드](https://github.com/gonsoomoon-ml/Kor-LLM-On-SageMaker/blob/main/2-Lab02-QA-with-RAG/4.rag-fsi-data-workshop/TASK-4_OpenSearch_Creation_and_Vector_Insertion.ipynb)\n",
    "### 아래 셀에 다음의 정보가 입력이 되어야 합니다.\n",
    "```\n",
    "opensearch_domain_endpoint = \"<Type Domain Endpoint>\"\n",
    "http_auth = (rag_user_name, rag_user_password) # Master username, Master password\n",
    "\n",
    "```"
   ]
  },
  {
   "cell_type": "code",
   "execution_count": 81,
   "metadata": {
    "tags": []
   },
   "outputs": [],
   "source": [
    "from utils.opensearch import opensearch_utils"
   ]
  },
  {
   "cell_type": "code",
   "execution_count": 82,
   "metadata": {
    "tags": []
   },
   "outputs": [],
   "source": [
    "aws_region = 'us-east-1'\n",
    "\n",
    "os.environ[\"OpenSearch_UserName\"] = \"<Type UserName>\"\n",
    "os.environ[\"OpenSearch_UserPassword\"] = \"<Type Password>\"\n",
    "\n",
    "rag_user_name = os.environ[\"OpenSearch_UserName\"]\n",
    "rag_user_password = os.environ[\"OpenSearch_UserPassword\"]\n",
    "\n",
    "opensearch_domain_endpoint = \"<Type your domain endpoint>\"\n",
    "\n",
    "http_auth = (rag_user_name, rag_user_password) # Master username, Master password\n",
    "\n",
    "os_client = opensearch_utils.create_aws_opensearch_client(\n",
    "    aws_region,\n",
    "    opensearch_domain_endpoint,\n",
    "    http_auth\n",
    ")"
   ]
  },
  {
   "cell_type": "markdown",
   "metadata": {},
   "source": [
    "### OpenSearch 벡터 Indexer 생성\n",
    "- 랭체인 오프서처 참고 자료\n",
    "    - [Langchain Opensearch](https://python.langchain.com/docs/integrations/vectorstores/opensearch)"
   ]
  },
  {
   "cell_type": "markdown",
   "metadata": {},
   "source": [
    "#### 오픈 서치 인덱스 유무에 따라 삭제\n",
    "오픈 서치에 해당 인덱스가 존재하면, 삭제 합니다. "
   ]
  },
  {
   "cell_type": "code",
   "execution_count": 83,
   "metadata": {
    "tags": []
   },
   "outputs": [
    {
     "name": "stdout",
     "output_type": "stream",
     "text": [
      "index_name=genai-demo-chatbot-index-v1, exists=False\n",
      "Index does not exist\n"
     ]
    }
   ],
   "source": [
    "index_name = \"genai-demo-chatbot-index-v1\"\n",
    "index_exists = opensearch_utils.check_if_index_exists(os_client, index_name)\n",
    "\n",
    "if index_exists:\n",
    "    opensearch_utils.delete_index(os_client, index_name)\n",
    "else:\n",
    "    print(\"Index does not exist\")"
   ]
  },
  {
   "cell_type": "markdown",
   "metadata": {},
   "source": [
    "#### 인덱스 생성"
   ]
  },
  {
   "cell_type": "code",
   "execution_count": 84,
   "metadata": {
    "tags": []
   },
   "outputs": [],
   "source": [
    "from langchain.vectorstores import OpenSearchVectorSearch"
   ]
  },
  {
   "cell_type": "code",
   "execution_count": 85,
   "metadata": {
    "tags": []
   },
   "outputs": [
    {
     "name": "stdout",
     "output_type": "stream",
     "text": [
      "CPU times: user 68 ms, sys: 4.05 ms, total: 72 ms\n",
      "Wall time: 1.96 s\n"
     ]
    }
   ],
   "source": [
    "%%time\n",
    "# by default langchain would create a k-NN index and the embeddings would be ingested as a k-NN vector type\n",
    "vector_db = OpenSearchVectorSearch.from_documents(\n",
    "    index_name=index_name,\n",
    "    documents=docs,\n",
    "    embedding=bedrock_embeddings,\n",
    "    opensearch_url=opensearch_domain_endpoint,\n",
    "    http_auth=http_auth,\n",
    "    bulk_size=10000,\n",
    "    timeout=60,\n",
    "    is_aoss =False,\n",
    "    engine=\"faiss\",\n",
    "    space_type=\"l2\"\n",
    ")"
   ]
  },
  {
   "cell_type": "markdown",
   "metadata": {},
   "source": [
    "#### 인덱스 확인"
   ]
  },
  {
   "cell_type": "code",
   "execution_count": 86,
   "metadata": {
    "tags": []
   },
   "outputs": [
    {
     "name": "stdout",
     "output_type": "stream",
     "text": [
      "{'genai-demo-chatbot-index-v1': {'aliases': {},\n",
      "                                 'mappings': {'properties': {'metadata': {'properties': {'page': {'type': 'long'},\n",
      "                                                                                         'source': {'fields': {'keyword': {'ignore_above': 256,\n",
      "                                                                                                                           'type': 'keyword'}},\n",
      "                                                                                                    'type': 'text'}}},\n",
      "                                                             'text': {'fields': {'keyword': {'ignore_above': 256,\n",
      "                                                                                             'type': 'keyword'}},\n",
      "                                                                      'type': 'text'},\n",
      "                                                             'vector_field': {'dimension': 1536,\n",
      "                                                                              'method': {'engine': 'faiss',\n",
      "                                                                                         'name': 'hnsw',\n",
      "                                                                                         'parameters': {'ef_construction': 512,\n",
      "                                                                                                        'm': 16},\n",
      "                                                                                         'space_type': 'l2'},\n",
      "                                                                              'type': 'knn_vector'}}},\n",
      "                                 'settings': {'index': {'creation_date': '1697786351250',\n",
      "                                                        'knn': 'true',\n",
      "                                                        'knn.algo_param': {'ef_search': '512'},\n",
      "                                                        'number_of_replicas': '2',\n",
      "                                                        'number_of_shards': '5',\n",
      "                                                        'provided_name': 'genai-demo-chatbot-index-v1',\n",
      "                                                        'uuid': '1KqHs88QRmKM5UkOEGhTlQ',\n",
      "                                                        'version': {'created': '136307827'}}}}}\n"
     ]
    }
   ],
   "source": [
    "index_info = os_client.indices.get(index=index_name)\n",
    "pprint(index_info)"
   ]
  },
  {
   "cell_type": "markdown",
   "metadata": {},
   "source": [
    "### 형태소 분석기 사용하기\n",
    "- 영어권의 문자들과 다르게 한글, 일본어, 중국어 등은 단순한 공백만으로는 좋은 검색 결과를 얻기 힘듭니다.\n",
    "- 출시하고라는 단어가 들어간 문서를 출시하고라는 정확히 같은 단어만으로 검색할 수 있다면 답답하겠죠?\n",
    "- 출시하고라는 단어를 출시, 출시하고 등 다양하게 검색하기 위해서는 형태소 분석기가 필요합니다.\n",
    "- OpenSearch 에서는 2개의 한국어 analyer를 제공하고 있습니다.\n",
    "    - 은전한잎 (seunjeon_tokenizer)\n",
    "        - https://catalog.us-east-1.prod.workshops.aws/workshops/de4e38cb-a0d9-4ffe-a777-bf00d498fa49/ko-KR/indexing/stemming#\n",
    "    - Nori (nori_tokenizer)\n",
    "        - 설명: https://esbook.kimjmin.net/06-text-analysis/6.7-stemming/6.7.2-nori\n",
    "    - Sample 코드에서는 \"Nori\"를 기반으로 진행합니다."
   ]
  },
  {
   "cell_type": "markdown",
   "metadata": {},
   "source": [
    "### [중요] Nori 사용을 위해서는 nori plugin이 설치되어 있어야 합니다.\n",
    "* 자세한 사항은 10_Adv_QuestionAnswering - 02_1_KR_RAG_OpenSearch_Keyword.ipynb를 참고해 주세요"
   ]
  },
  {
   "cell_type": "markdown",
   "metadata": {},
   "source": [
    "#### 인덱싱 수정하기 (형태소 분석시 사용 enablement)"
   ]
  },
  {
   "cell_type": "code",
   "execution_count": 87,
   "metadata": {
    "tags": []
   },
   "outputs": [
    {
     "data": {
      "text/plain": [
       "'genai-demo-chatbot-index-v1-with-tokenizer'"
      ]
     },
     "execution_count": 87,
     "metadata": {},
     "output_type": "execute_result"
    }
   ],
   "source": [
    "new_index_name = f'{index_name}-with-tokenizer'\n",
    "new_index_name"
   ]
  },
  {
   "cell_type": "code",
   "execution_count": 88,
   "metadata": {
    "tags": []
   },
   "outputs": [],
   "source": [
    "analyzer_config = {\n",
    "    \"tokenizer\": \"nori\", #[\"nori\", \"seunjeon\"]\n",
    "    \"tokenizer_type\": f'{tokenizer}_tokenizer',\n",
    "    \"char_filter\": [\"html_strip\"],\n",
    "    \"filter\": [\"nori_number\", \"nori_readingform\", \"lowercase\"],\n",
    "    \"decompound_mode\": \"mixed\",\n",
    "    \"discard_punctuation\": \"true\",\n",
    "    #\"user_dictionary_rules\": [\"c++\", \"워라밸\", \"먹방\"],\n",
    "    #\"user_dictionary\": \"analyzers/F255700190\"\n",
    "}"
   ]
  },
  {
   "cell_type": "code",
   "execution_count": 89,
   "metadata": {
    "tags": []
   },
   "outputs": [],
   "source": [
    "# Setting for \"Nori\" Tokenizer (변경 없음)\n",
    "index_info[index_name][\"settings\"][\"analysis\"] = {\n",
    "    \"tokenizer\": {\n",
    "        analyzer_config[\"tokenizer\"]: {\n",
    "            \"type\": analyzer_config[\"tokenizer_type\"],\n",
    "            \"decompound_mode\": analyzer_config[\"decompound_mode\"],\n",
    "            \"discard_punctuation\": analyzer_config[\"discard_punctuation\"],\n",
    "            #\"user_dictionary_rules\": analyzer_config[\"user_dictionary_rules\"],\n",
    "            #\"user_dictionary\": analyzer_config[\"user_dictionary\"],\n",
    "        }\n",
    "    },\n",
    "    \"analyzer\": {\n",
    "        \"my_analyzer\": {\n",
    "            \"type\": \"custom\",\n",
    "            \"tokenizer\": analyzer_config[\"tokenizer\"],\n",
    "            \"char_filter\": analyzer_config[\"char_filter\"],\n",
    "            \"filter\": analyzer_config[\"filter\"],\n",
    "        }\n",
    "    }\n",
    "}\n",
    "\n",
    "\n",
    "# Setting for Columns to be adapted by Tokenizer (tokenizer가 적용될 컬럼에 맞춰서 수정)\n",
    "index_info[index_name][\"mappings\"][\"properties\"][\"text\"][\"analyzer\"] = \"my_analyzer\"\n",
    "index_info[index_name][\"mappings\"][\"properties\"][\"text\"][\"search_analyzer\"] = \"my_analyzer\"\n",
    "\n",
    "# Setting for vector index column (변경 없음)\n",
    "index_info[index_name][\"settings\"][\"index\"] = {\n",
    "    \"number_of_shards\": \"5\",\n",
    "    \"knn.algo_param\": {\"ef_search\": \"512\"},\n",
    "    \"knn\": \"true\",\n",
    "    \"number_of_replicas\": \"2\"\n",
    "}\n",
    "del index_info[index_name][\"aliases\"]\n",
    "new_index_info = index_info[index_name]"
   ]
  },
  {
   "cell_type": "code",
   "execution_count": 90,
   "metadata": {
    "tags": []
   },
   "outputs": [
    {
     "name": "stdout",
     "output_type": "stream",
     "text": [
      "{'mappings': {'properties': {'metadata': {'properties': {'page': {'type': 'long'},\n",
      "                                                         'source': {'fields': {'keyword': {'ignore_above': 256,\n",
      "                                                                                           'type': 'keyword'}},\n",
      "                                                                    'type': 'text'}}},\n",
      "                             'text': {'analyzer': 'my_analyzer',\n",
      "                                      'fields': {'keyword': {'ignore_above': 256,\n",
      "                                                             'type': 'keyword'}},\n",
      "                                      'search_analyzer': 'my_analyzer',\n",
      "                                      'type': 'text'},\n",
      "                             'vector_field': {'dimension': 1536,\n",
      "                                              'method': {'engine': 'faiss',\n",
      "                                                         'name': 'hnsw',\n",
      "                                                         'parameters': {'ef_construction': 512,\n",
      "                                                                        'm': 16},\n",
      "                                                         'space_type': 'l2'},\n",
      "                                              'type': 'knn_vector'}}},\n",
      " 'settings': {'analysis': {'analyzer': {'my_analyzer': {'char_filter': ['html_strip'],\n",
      "                                                        'filter': ['nori_number',\n",
      "                                                                   'nori_readingform',\n",
      "                                                                   'lowercase'],\n",
      "                                                        'tokenizer': 'nori',\n",
      "                                                        'type': 'custom'}},\n",
      "                           'tokenizer': {'nori': {'decompound_mode': 'mixed',\n",
      "                                                  'discard_punctuation': 'true',\n",
      "                                                  'type': 'nori_tokenizer'}}},\n",
      "              'index': {'knn': 'true',\n",
      "                        'knn.algo_param': {'ef_search': '512'},\n",
      "                        'number_of_replicas': '2',\n",
      "                        'number_of_shards': '5'}}}\n"
     ]
    }
   ],
   "source": [
    "pprint(new_index_info)"
   ]
  },
  {
   "cell_type": "markdown",
   "metadata": {},
   "source": [
    "#### 형태소 분석기용 인덱서 생성"
   ]
  },
  {
   "cell_type": "code",
   "execution_count": 91,
   "metadata": {
    "tags": []
   },
   "outputs": [
    {
     "name": "stdout",
     "output_type": "stream",
     "text": [
      "index_name=genai-demo-chatbot-index-v1-with-tokenizer, exists=False\n",
      "Index does not exist\n"
     ]
    }
   ],
   "source": [
    "index_exists = opensearch_utils.check_if_index_exists(os_client, new_index_name)\n",
    "if index_exists:\n",
    "    opensearch_utils.delete_index(os_client, new_index_name)\n",
    "else:\n",
    "    print(\"Index does not exist\")"
   ]
  },
  {
   "cell_type": "code",
   "execution_count": 92,
   "metadata": {
    "tags": []
   },
   "outputs": [
    {
     "name": "stdout",
     "output_type": "stream",
     "text": [
      "\n",
      "Creating index:\n",
      "{'acknowledged': True, 'shards_acknowledged': True, 'index': 'genai-demo-chatbot-index-v1-with-tokenizer'}\n"
     ]
    }
   ],
   "source": [
    "opensearch_utils.create_index(\n",
    "    os_client,\n",
    "    index_name=new_index_name,\n",
    "    index_body=new_index_info\n",
    ")"
   ]
  },
  {
   "cell_type": "markdown",
   "metadata": {},
   "source": [
    "#### Re-indexing"
   ]
  },
  {
   "cell_type": "code",
   "execution_count": 93,
   "metadata": {
    "tags": []
   },
   "outputs": [
    {
     "name": "stdout",
     "output_type": "stream",
     "text": [
      "_reindex: \n",
      " {'source': {'index': 'genai-demo-chatbot-index-v1'}, 'dest': {'index': 'genai-demo-chatbot-index-v1-with-tokenizer'}}\n"
     ]
    }
   ],
   "source": [
    "_reindex = {\n",
    "    \"source\": {\"index\": index_name},\n",
    "    \"dest\": {\"index\": new_index_name}\n",
    "}\n",
    "print(\"_reindex: \\n\", _reindex)"
   ]
  },
  {
   "cell_type": "code",
   "execution_count": 94,
   "metadata": {
    "tags": []
   },
   "outputs": [
    {
     "data": {
      "text/plain": [
       "{'took': 107,\n",
       " 'timed_out': False,\n",
       " 'total': 10,\n",
       " 'updated': 0,\n",
       " 'created': 10,\n",
       " 'deleted': 0,\n",
       " 'batches': 1,\n",
       " 'version_conflicts': 0,\n",
       " 'noops': 0,\n",
       " 'retries': {'bulk': 0, 'search': 0},\n",
       " 'throttled_millis': 0,\n",
       " 'requests_per_second': -1.0,\n",
       " 'throttled_until_millis': 0,\n",
       " 'failures': []}"
      ]
     },
     "execution_count": 94,
     "metadata": {},
     "output_type": "execute_result"
    }
   ],
   "source": [
    "os_client.reindex(_reindex)"
   ]
  },
  {
   "cell_type": "markdown",
   "metadata": {},
   "source": [
    "#### 키워드 검색 체크"
   ]
  },
  {
   "cell_type": "code",
   "execution_count": 95,
   "metadata": {
    "tags": []
   },
   "outputs": [
    {
     "name": "stdout",
     "output_type": "stream",
     "text": [
      "query:  {'query': {'bool': {'must': [{'match': {'text': {'query': '아마존', 'minimum_should_match': '0%', 'operator': 'or'}}}], 'filter': []}}}\n",
      "# of searched docs:  6\n",
      "# of display: 3\n",
      "---------------------\n",
      "_id in index:  ef00e053-8288-43c5-8022-1ca2f89da38b\n",
      "0.7301709\n",
      "AWS로 이전하는 것을 선호하는 기업이 점점 더 많아지고 있습니다. 효율성 및 보안 이점. 그리고 고객에게 가장 중요한 것은 AWS가 계속해서 새로운 기능을 신속하게 제공하고(2022년에 출시된 3,300개 이상의 새로운 기능 및 서비스) 가능한 것을 변화시키는 장기적인 발명에 투자한다는 것입니다.  칩 개발이 좋은 예입니다. 작년 편지에서 저는 Graviton이라는 범용 CPU 프로세서에 대한 투자에 대해 언급했습니다. Graviton2 기반 컴퓨팅 인스턴스는 비슷한 최신 세대 x86 기반 인스턴스보다 최대 40% 더 나은 가격 대비 성능을 제공합니다. 2022년에는 Graviton2 프로세서보다 25% 향상된 성능을 제공하는 Graviton3 칩을 제공했습니다. 또한 기계 학습 채택이 지속적으로 가속화됨에 따라 고객은 저렴한 GPU(기계 학습에 가장 일반적으로 사용되는 칩)를 원했습니다. AWS는 몇 년 전부터 기계 학습 훈련 및 추론을 위한 이러한 특수 칩에 투자하기 시작했습니다(추론은 기계 학습 모델이 제공하는 예측 또는 답변입니다). 우리는 2022년에 첫 번째 교육용 칩(\"Trainium\")을 제공했습니다. 가장 일반적인 기계 학습 모델의 경우 Trainium 기반 인스턴스는 GPU 기반 인스턴스보다 최대 70% 더 저렴한 비용으로 최대 140% 더 빠릅니다. 대부분의 회사는 아직 교육 단계에 있지만 대규모 생산으로 전환되는 모델을 개발함에 따라 모델은 주기적으로 교육되는 반면 추론은 관련 응용 프로그램으로 항상 발생하기 때문에 대부분의 비용이 추론에 있음을 알게 될 것입니다. 행사중입니다. 우리는 2019년에 첫 번째 추론 칩(\"InferenTa\")을 출시했으며 Amazon과 같은 회사는 이미 1억 달러 이상의 자본 비용을 절감했습니다. 방금 출시된 InferenTa2 칩은 첫 번째 InferenTa 프로세서보다 최대 4배 더 높은 처리량과 10배 더 짧은 대기 시간을 제공합니다. 기계 학습의 엄청난 성장으로 인해 고객은 훨씬 저렴한 비용으로 AWS의 교육 및 추론 칩을 사용하여 훨씬 더 많은 작업을 수행할 수 있습니다. 여기서 혁신이 거의 완료되지 않았으며 이 장기 투자는 고객과 AWS 모두에게 유익한 것으로 입증되어야 합니다. AWS는 아직 진화의 초기 단계에 있으며 향후 10년 동안 비정상적으로 성장할 가능성이 있습니다.  마찬가지로 높은 잠재력을 지닌 Amazon의 광고 비즈니스는 브랜드에 고유한 효과를 발휘하며, 이는 계속해서 빠른 속도로 성장하는 이유 중 하나입니다. 선반 공간, 엔드 캡, 원형 배치를 판매하는 물리적 소매업체의 광고 사업과 유사하게, 당사가 후원하는 제품 및 브랜드 제품은 10년 이상 아마존 쇼핑 경험의 필수적인 부분이었습니다. 그러나 실제 소매업체와 달리 Amazon은 쇼핑 행동에 대해 알고 있는 것과 기계 학습 알고리즘에 대한 우리의 매우 깊은 투자를 고려할 때 이러한 후원 제품을 고객이 검색하는 것과 관련이 있도록 조정할 수 있습니다. 이는 고객에게 더 유용한 광고로 이어집니다. 결과적으로 브랜드에 더 나은 성능을 제공합니다. 이것이 우리의 광고 수익이 지난 2022년 4분기에 23% YoY , 310억 달러 수익 기반에서 2022년에 전체적으로 25% YoY 성장을 지속한 이유 중 하나입니다. 몇 분기.  \n",
      "{'source': 'rag_data_kr_pdf/2022-Amazon-Stakeholder-Letter-KR.pdf', 'page': 4}\n",
      "---------------------\n",
      "_id in index:  9fef1662-1317-4ff7-880e-6876c82f3d1f\n",
      "0.6684257\n",
      "아이디어를 검토하거나 회의에서 돌아오는 길에 대화를 계속하면서 획기적인 순간을 맞이했습니다. , 또는 다른 생각으로 그날 늦게 팀원의 사무실에 들르는 것. 발명은 종종 지저분합니다. 그것은 방황하고 구불 구불하고 마리 네이드합니다. 뜻밖의 상호 작용이 도움이 되며, 가상으로 하는 것보다 직접 만나는 것이 더 많습니다. 또한 우리가 대부분의 시간을 함께 사무실에 있고 동료들에게 둘러싸여 있을 때 우리 문화를 배우고, 모델링하고, 연습하고, 강화하는 것이 훨씬 더 쉽습니다. 혁신과 우리 고유의 문화는 회사로서 처음 29년 동안 매우 중요했으며 다음 29년에도 마찬가지로 그렇게 될 것으로 기대합니다.  우리가 계속해서 해결해야 할 중요한 문제는 매장 주문 처리 네트워크에서 서비스를 제공하는 데 드는 비용(예: Amazon에서 고객에게 제품을 제공하는 비용)이 증가하는 것입니다. 비용 및 배송 속도.  팬데믹 초기에는 많은 오프라인 매장이 문을 닫았고, 우리 소비자 비즈니스는 놀라운 속도로 성장하여 연간 매출이 2019년 2,450억 달러에서 2022년 4,340억 달러로 증가했습니다. 이는 주문 처리 센터 공간을 두 배로 늘려야 함을 의미했습니다. 지난 25년 동안 우리가 구축한 운송 네트워크를 현재 UPS 크기의 라스트 마일 운송 네트워크 구축을 크게 가속화했습니다(항목이 장거리를 통과해야 할 때 효율성과 속도를 지원하기 위한 새로운 분류 센터 네트워크 포함). 약 2년의 시간 동안. 이것은 쉬운 일이 아니었고 수십만 명의 아마존 사람들이 이것을 실현하기 위해 매우 열심히 일했습니다. 그러나 이러한 변화의 속도와 규모로 인해 의도한 생산성을 얻기 위해서는 많은 최적화가 필요했습니다. 지난 몇 달 동안 우리는 주문 처리 센터 및 운송 네트워크의 모든 프로세스 경로를 면밀히 조사하고 수십 가지 프로세스 및 메커니즘을 재설계하여 지난 몇 분기 동안 꾸준한 생산성 향상과 비용 절감을 가져왔습니다. 해야 할 일이 더 많지만 우리의 궤적과 우리 앞에 있는 의미 있는 상승세에 만족합니다.  우리는 또한 앞으로 수년 동안 더 낮은 비용과 더 빠른 속도를 제공할 수 있도록 더 큰 구조적 변화를 만들기 위해 이 기회를 잡았습니다. 좋은 예는 미국 주문 처리 네트워크가 어떻게 구성되어 있는지 재평가하는 것입니다. 최근까지 아마존은 미국 전역에 퍼져 있는 주문 처리 센터의 재고를 분배하는 하나의 미국 전국 주문 처리 네트워크를 운영했습니다. 지역 주문 처리 센터에 고객이 주문한 제품이 없으면 결국 다른 지역에서 배송하게 되므로 더 많은 비용이 들고 배송 시간이 늘어납니다. 이 문제는 주문 처리 네트워크가 지난 몇 년 동안 수백 개의 추가 노드로 확장되어 더 많은 위치에 재고를 분배하고 주문 처리 센터와 배송 스테이션 노드를 효율적으로 연결하는 복잡성이 증가함에 따라 더욱 두드러졌습니다. 작년에 우리는 재고 배치 전략을 재설계하고 더 큰 주문 처리 센터 공간을 활용하여 전국 주문 처리 네트워크에서 지역화된 네트워크 모델로 이동하기 시작했습니다. 우리는 더 작은 지리적 영역에 8개의 상호 연결된 지역을 만들기 위해 \n",
      "{'source': 'rag_data_kr_pdf/2022-Amazon-Stakeholder-Letter-KR.pdf', 'page': 2}\n",
      "---------------------\n",
      "_id in index:  f1f871ae-f6c7-47d1-9060-c48520f83a1f\n",
      "0.5064077\n",
      "여전히 상당한 자본 투자가 필요했습니다. 회사 안팎에서는 아마존(당시 주로 온라인 소매업체로 알려짐)이 클라우드 컴퓨팅에 많은 투자를 하는 이유에 대해 의문을 제기하는 목소리가 있었습니다. 그러나 우리는 미래에 고객과 아마존을 위해 많은 가치를 창출할 수 있는 특별한 것을 발명하고 있다는 것을 알고 있었습니다. 우리는 잠재적 경쟁자보다 먼저 출발했습니다. 무엇보다 우리는 혁신 속도를 가속화하고 싶었습니다. 우리는 AWS에 계속 투자하기로 장기적인 결정을 내렸습니다. 15년 후 AWS는 이제 신생 기업에서 다국적 기업, 공공 부문 조직에 이르기까지 고객이 기술 인프라를 관리하는 방식을 변화시킨 강력한 수익성을 갖춘 연간 매출 850억 달러 규모의 기업이 되었습니다. 2008-2009년 기간 동안 AWS에 대한 투자를 늦추었다면 Amazon은 다른 회사가 되었을 것입니다.  변화는 항상 가까이에 있습니다. 때로는 적극적으로 초대하고 때로는 그냥 노크합니다. 그러나 그것이 오는 것을 보았을 때, 그것을 받아들여야 합니다. 그리고 장기간에 걸쳐 이를 잘 수행하는 회사는 일반적으로 성공합니다. 나는 우리 팀이 우리 앞에 보이는 변화에 대응하는 방식이 마음에 들기 때문에 우리의 미래 전망에 대해 낙관적입니다.  지난 몇 달 동안 우리는 회사 전체를 비즈니스별로, 발명별로 자세히 살펴보고 각 이니셔티브의 장기적인 잠재력에 대해 충분한 수익, 운영 수입, 무료 현금 흐름, 투자 자본 수익률. 경우에 따라 특정 비즈니스를 폐쇄하게 되었습니다. 예를 들어 우리는 서점 및 4스타 매장과 같은 물리적 매장 개념 추구를 중단하고 Amazon Fabric 및 Amazon Care 노력을 중단했으며 의미 있는 수익을 얻을 수 있는 경로가 보이지 않는 일부 최신 장치에서 전환했습니다. 다른 경우에는 우리가 기대했던 수익을 내지 못하는 일부 프로그램(예: $35 이상의 모든 온라인 식료품 주문에 대한 무료 배송)을 살펴보고 수정했습니다. 우리는 또한 리소스를 어디에 사용할지 우선 순위를 재지정했고, 결국 27,000개의 회사 역할을 제거하는 어려운 결정을 내렸습니다. 전체 비용을 합리화하기 위해 지난 몇 개월 동안 수행한 다른 변경 사항이 많이 있으며 대부분의 리더십 팀과 마찬가지로 비즈니스에서 보고 있는 사항을 계속 평가하고 적응적으로 진행할 것입니다.  우리는 또한 팀으로 어떻게 협력하고 있는지 열심히 살펴보았고 회사 직원들에게 5월부터 일주일에 최소 3일은 사무실로 돌아올 것을 요청했습니다. 팬데믹 기간 동안 우리 직원들은 집에서 일하기 위해 집결했으며 예상치 못한 상황에 대처하기 위해 가능한 모든 일을 했습니다. 그것은 인상적이었고 저는 우리의 집단적 팀이 고객, 지역 사회 및 비즈니스에 대한 전례 없는 도전을 극복하기 위해 함께 모인 방식이 자랑스럽습니다. 그러나 우리는 이것이 최선의 장기적 접근 방식이라고 생각하지 않습니다. 우리는 함께 일하고 직접 서로에게서 배울 때 협업과 발명이 더 쉽고 효과적이라는 것을 확신하게 되었습니다. 서로의 아이디어에 대한 에너지와 반복은 더 자유롭게 발생하며 최고의 Amazon 발명품 중 다수는 사람들이 회의 후 뒤에 남아 화이트보드에서 \n",
      "{'source': 'rag_data_kr_pdf/2022-Amazon-Stakeholder-Letter-KR.pdf', 'page': 1}\n",
      "---------------------\n"
     ]
    }
   ],
   "source": [
    "query = \"아마존\"\n",
    "query = opensearch_utils.get_query(\n",
    "    query=query\n",
    ")\n",
    "\n",
    "print(\"query: \", query)\n",
    "response = opensearch_utils.search_document(os_client, query, new_index_name)\n",
    "opensearch_utils.parse_keyword_response(response, show_size=3)"
   ]
  },
  {
   "cell_type": "markdown",
   "metadata": {
    "tags": []
   },
   "source": [
    "#### 형태소 분석 결과 확인\n",
    "\"아마존\" 확인 <BR>\n",
    "#### [중요]:  doc_id: 위의 문서 인덱스 정보 확인 후 수정"
   ]
  },
  {
   "cell_type": "code",
   "execution_count": 96,
   "metadata": {
    "tags": []
   },
   "outputs": [],
   "source": [
    "doc_id = \"f1f871ae-f6c7-47d1-9060-c48520f83a1f\""
   ]
  },
  {
   "cell_type": "code",
   "execution_count": 97,
   "metadata": {
    "collapsed": true,
    "jupyter": {
     "outputs_hidden": true
    },
    "tags": []
   },
   "outputs": [
    {
     "data": {
      "text/plain": [
       "{'_index': 'genai-demo-chatbot-index-v1-with-tokenizer',\n",
       " '_id': 'f1f871ae-f6c7-47d1-9060-c48520f83a1f',\n",
       " '_version': 1,\n",
       " 'found': True,\n",
       " 'took': 6,\n",
       " 'term_vectors': {'text': {'field_statistics': {'sum_doc_freq': 1321,\n",
       "    'doc_count': 4,\n",
       "    'sum_ttf': 3280},\n",
       "   'terms': {'1': {'term_freq': 4,\n",
       "     'tokens': [{'position': 564, 'start_offset': 1201, 'end_offset': 1202},\n",
       "      {'position': 593, 'start_offset': 1255, 'end_offset': 1256},\n",
       "      {'position': 618, 'start_offset': 1294, 'end_offset': 1295},\n",
       "      {'position': 685, 'start_offset': 1433, 'end_offset': 1434}]},\n",
       "    '10': {'term_freq': 1,\n",
       "     'tokens': [{'position': 516, 'start_offset': 1100, 'end_offset': 1101}]},\n",
       "    '15': {'term_freq': 1,\n",
       "     'tokens': [{'position': 133, 'start_offset': 263, 'end_offset': 265}]},\n",
       "    '2': {'term_freq': 16,\n",
       "     'tokens': [{'position': 26, 'start_offset': 56, 'end_offset': 57},\n",
       "      {'position': 153, 'start_offset': 311, 'end_offset': 312},\n",
       "      {'position': 180, 'start_offset': 367, 'end_offset': 368},\n",
       "      {'position': 251, 'start_offset': 532, 'end_offset': 533},\n",
       "      {'position': 269, 'start_offset': 566, 'end_offset': 567},\n",
       "      {'position': 281, 'start_offset': 589, 'end_offset': 590},\n",
       "      {'position': 508, 'start_offset': 1084, 'end_offset': 1085},\n",
       "      {'position': 582, 'start_offset': 1233, 'end_offset': 1235},\n",
       "      {'position': 627, 'start_offset': 1310, 'end_offset': 1311},\n",
       "      {'position': 637, 'start_offset': 1326, 'end_offset': 1327},\n",
       "      {'position': 660, 'start_offset': 1375, 'end_offset': 1376},\n",
       "      {'position': 668, 'start_offset': 1396, 'end_offset': 1397},\n",
       "      {'position': 675, 'start_offset': 1411, 'end_offset': 1412},\n",
       "      {'position': 697, 'start_offset': 1457, 'end_offset': 1458},\n",
       "      {'position': 703, 'start_offset': 1467, 'end_offset': 1468},\n",
       "      {'position': 740, 'start_offset': 1544, 'end_offset': 1545}]},\n",
       "    '20082009': {'term_freq': 1,\n",
       "     'tokens': [{'position': 184, 'start_offset': 376, 'end_offset': 385}]},\n",
       "    '25': {'term_freq': 1,\n",
       "     'tokens': [{'position': 231, 'start_offset': 490, 'end_offset': 493}]},\n",
       "    '27000': {'term_freq': 1,\n",
       "     'tokens': [{'position': 472, 'start_offset': 1009, 'end_offset': 1015}]},\n",
       "    '31': {'term_freq': 1,\n",
       "     'tokens': [{'position': 568, 'start_offset': 1209, 'end_offset': 1211}]},\n",
       "    '35': {'term_freq': 1,\n",
       "     'tokens': [{'position': 433, 'start_offset': 925, 'end_offset': 927}]},\n",
       "    '4': {'term_freq': 1,\n",
       "     'tokens': [{'position': 364, 'start_offset': 769, 'end_offset': 770}]},\n",
       "    '5': {'term_freq': 1,\n",
       "     'tokens': [{'position': 561, 'start_offset': 1196, 'end_offset': 1197}]},\n",
       "    '85000000000': {'term_freq': 1,\n",
       "     'tokens': [{'position': 175, 'start_offset': 353, 'end_offset': 357}]},\n",
       "    'amazon': {'term_freq': 4,\n",
       "     'tokens': [{'position': 197, 'start_offset': 411, 'end_offset': 417},\n",
       "      {'position': 379, 'start_offset': 799, 'end_offset': 805},\n",
       "      {'position': 382, 'start_offset': 815, 'end_offset': 821},\n",
       "      {'position': 732, 'start_offset': 1524, 'end_offset': 1530}]},\n",
       "    'aws': {'term_freq': 3,\n",
       "     'tokens': [{'position': 117, 'start_offset': 233, 'end_offset': 236},\n",
       "      {'position': 136, 'start_offset': 269, 'end_offset': 272},\n",
       "      {'position': 188, 'start_offset': 393, 'end_offset': 396}]},\n",
       "    'care': {'term_freq': 1,\n",
       "     'tokens': [{'position': 383, 'start_offset': 822, 'end_offset': 826}]},\n",
       "    'fabric': {'term_freq': 1,\n",
       "     'tokens': [{'position': 380, 'start_offset': 806, 'end_offset': 812}]},\n",
       "    'ᄆ': {'term_freq': 1,\n",
       "     'tokens': [{'position': 25, 'start_offset': 52, 'end_offset': 55}]},\n",
       "    'ᄇ니다': {'term_freq': 6,\n",
       "     'tokens': [{'position': 207, 'start_offset': 431, 'end_offset': 434},\n",
       "      {'position': 228, 'start_offset': 479, 'end_offset': 482},\n",
       "      {'position': 244, 'start_offset': 515, 'end_offset': 518},\n",
       "      {'position': 264, 'start_offset': 554, 'end_offset': 557},\n",
       "      {'position': 298, 'start_offset': 619, 'end_offset': 622},\n",
       "      {'position': 541, 'start_offset': 1147, 'end_offset': 1150}]},\n",
       "    'ᆫ': {'term_freq': 19,\n",
       "     'tokens': [{'position': 3, 'start_offset': 6, 'end_offset': 7},\n",
       "      {'position': 74, 'start_offset': 148, 'end_offset': 149},\n",
       "      {'position': 127, 'start_offset': 250, 'end_offset': 251},\n",
       "      {'position': 164, 'start_offset': 332, 'end_offset': 334},\n",
       "      {'position': 167, 'start_offset': 337, 'end_offset': 338},\n",
       "      {'position': 172, 'start_offset': 344, 'end_offset': 346},\n",
       "      {'position': 191, 'start_offset': 398, 'end_offset': 400},\n",
       "      {'position': 300, 'start_offset': 625, 'end_offset': 627},\n",
       "      {'position': 324, 'start_offset': 680, 'end_offset': 681},\n",
       "      {'position': 332, 'start_offset': 692, 'end_offset': 693},\n",
       "      {'position': 443, 'start_offset': 947, 'end_offset': 949},\n",
       "      {'position': 482, 'start_offset': 1030, 'end_offset': 1033},\n",
       "      {'position': 498, 'start_offset': 1061, 'end_offset': 1063},\n",
       "      {'position': 504, 'start_offset': 1074, 'end_offset': 1075},\n",
       "      {'position': 606, 'start_offset': 1272, 'end_offset': 1274},\n",
       "      {'position': 616, 'start_offset': 1289, 'end_offset': 1290},\n",
       "      {'position': 645, 'start_offset': 1346, 'end_offset': 1348},\n",
       "      {'position': 658, 'start_offset': 1370, 'end_offset': 1372},\n",
       "      {'position': 718, 'start_offset': 1496, 'end_offset': 1498}]},\n",
       "    'ᆯ': {'term_freq': 4,\n",
       "     'tokens': [{'position': 68, 'start_offset': 139, 'end_offset': 140},\n",
       "      {'position': 538, 'start_offset': 1144, 'end_offset': 1145},\n",
       "      {'position': 574, 'start_offset': 1218, 'end_offset': 1221},\n",
       "      {'position': 692, 'start_offset': 1446, 'end_offset': 1448}]},\n",
       "    'ᆯ지': {'term_freq': 1,\n",
       "     'tokens': [{'position': 462, 'start_offset': 989, 'end_offset': 991}]},\n",
       "    'ㄴ데': {'term_freq': 1,\n",
       "     'tokens': [{'position': 583, 'start_offset': 1233, 'end_offset': 1235}]},\n",
       "    '가': {'term_freq': 5,\n",
       "     'tokens': [{'position': 6, 'start_offset': 13, 'end_offset': 14},\n",
       "      {'position': 47, 'start_offset': 97, 'end_offset': 98},\n",
       "      {'position': 201, 'start_offset': 424, 'end_offset': 425},\n",
       "      {'position': 401, 'start_offset': 857, 'end_offset': 858},\n",
       "      {'position': 419, 'start_offset': 895, 'end_offset': 896}]},\n",
       "    '가까이': {'term_freq': 1,\n",
       "     'tokens': [{'position': 211, 'start_offset': 444, 'end_offset': 447}]},\n",
       "    '가능': {'term_freq': 1,\n",
       "     'tokens': [{'position': 614, 'start_offset': 1287, 'end_offset': 1289}]},\n",
       "    '가속': {'term_freq': 1,\n",
       "     'tokens': [{'position': 108, 'start_offset': 216, 'end_offset': 218}]},\n",
       "    '가치': {'term_freq': 1,\n",
       "     'tokens': [{'position': 64, 'start_offset': 133, 'end_offset': 135}]},\n",
       "    '각': {'term_freq': 1,\n",
       "     'tokens': [{'position': 318, 'start_offset': 668, 'end_offset': 669}]},\n",
       "    '강력': {'term_freq': 1,\n",
       "     'tokens': [{'position': 165, 'start_offset': 335, 'end_offset': 337}]},\n",
       "    '갖추': {'term_freq': 1,\n",
       "     'tokens': [{'position': 171, 'start_offset': 344, 'end_offset': 346}]},\n",
       "    '갖춘': {'term_freq': 1,\n",
       "     'tokens': [{'position': 171, 'start_offset': 344, 'end_offset': 346}]},\n",
       "    '같': {'term_freq': 1,\n",
       "     'tokens': [{'position': 368, 'start_offset': 777, 'end_offset': 778}]},\n",
       "    '개': {'term_freq': 1,\n",
       "     'tokens': [{'position': 473, 'start_offset': 1015, 'end_offset': 1016}]},\n",
       "    '개념': {'term_freq': 1,\n",
       "     'tokens': [{'position': 373, 'start_offset': 787, 'end_offset': 789}]},\n",
       "    '개월': {'term_freq': 1,\n",
       "     'tokens': [{'position': 500, 'start_offset': 1066, 'end_offset': 1068}]},\n",
       "    '걸쳐': {'term_freq': 1,\n",
       "     'tokens': [{'position': 249, 'start_offset': 529, 'end_offset': 531}]},\n",
       "    '걸치': {'term_freq': 1,\n",
       "     'tokens': [{'position': 249, 'start_offset': 529, 'end_offset': 531}]},\n",
       "    '것': {'term_freq': 7,\n",
       "     'tokens': [{'position': 75, 'start_offset': 150, 'end_offset': 151},\n",
       "      {'position': 82, 'start_offset': 162, 'end_offset': 163},\n",
       "      {'position': 205, 'start_offset': 430, 'end_offset': 431},\n",
       "      {'position': 233, 'start_offset': 495, 'end_offset': 496},\n",
       "      {'position': 539, 'start_offset': 1146, 'end_offset': 1147},\n",
       "      {'position': 575, 'start_offset': 1222, 'end_offset': 1223},\n",
       "      {'position': 705, 'start_offset': 1471, 'end_offset': 1472}]},\n",
       "    '게': {'term_freq': 3,\n",
       "     'tokens': [{'position': 352, 'start_offset': 745, 'end_offset': 746},\n",
       "      {'position': 709, 'start_offset': 1477, 'end_offset': 1478},\n",
       "      {'position': 726, 'start_offset': 1513, 'end_offset': 1514}]},\n",
       "    '결국': {'term_freq': 1,\n",
       "     'tokens': [{'position': 471, 'start_offset': 1006, 'end_offset': 1008}]},\n",
       "    '결정': {'term_freq': 2,\n",
       "     'tokens': [{'position': 128, 'start_offset': 252, 'end_offset': 254},\n",
       "      {'position': 483, 'start_offset': 1034, 'end_offset': 1036}]},\n",
       "    '경로': {'term_freq': 1,\n",
       "     'tokens': [{'position': 400, 'start_offset': 855, 'end_offset': 857}]},\n",
       "    '경우': {'term_freq': 2,\n",
       "     'tokens': [{'position': 343, 'start_offset': 726, 'end_offset': 728},\n",
       "      {'position': 415, 'start_offset': 888, 'end_offset': 890}]},\n",
       "    '경쟁': {'term_freq': 1,\n",
       "     'tokens': [{'position': 93, 'start_offset': 183, 'end_offset': 185}]},\n",
       "    '경쟁자': {'term_freq': 1,\n",
       "     'tokens': [{'position': 93, 'start_offset': 183, 'end_offset': 186}]},\n",
       "    '계속': {'term_freq': 2,\n",
       "     'tokens': [{'position': 119, 'start_offset': 238, 'end_offset': 240},\n",
       "      {'position': 529, 'start_offset': 1128, 'end_offset': 1130}]},\n",
       "    '고': {'term_freq': 15,\n",
       "     'tokens': [{'position': 79, 'start_offset': 156, 'end_offset': 157},\n",
       "      {'position': 85, 'start_offset': 166, 'end_offset': 167},\n",
       "      {'position': 111, 'start_offset': 220, 'end_offset': 221},\n",
       "      {'position': 222, 'start_offset': 468, 'end_offset': 469},\n",
       "      {'position': 317, 'start_offset': 666, 'end_offset': 667},\n",
       "      {'position': 378, 'start_offset': 797, 'end_offset': 798},\n",
       "      {'position': 448, 'start_offset': 961, 'end_offset': 962},\n",
       "      {'position': 470, 'start_offset': 1003, 'end_offset': 1004},\n",
       "      {'position': 524, 'start_offset': 1119, 'end_offset': 1120},\n",
       "      {'position': 532, 'start_offset': 1134, 'end_offset': 1135},\n",
       "      {'position': 550, 'start_offset': 1171, 'end_offset': 1172},\n",
       "      {'position': 556, 'start_offset': 1185, 'end_offset': 1186},\n",
       "      {'position': 629, 'start_offset': 1312, 'end_offset': 1313},\n",
       "      {'position': 687, 'start_offset': 1435, 'end_offset': 1436},\n",
       "      {'position': 700, 'start_offset': 1462, 'end_offset': 1463}]},\n",
       "    '고객': {'term_freq': 3,\n",
       "     'tokens': [{'position': 56, 'start_offset': 118, 'end_offset': 120},\n",
       "      {'position': 152, 'start_offset': 309, 'end_offset': 311},\n",
       "      {'position': 638, 'start_offset': 1328, 'end_offset': 1330}]},\n",
       "    '공공': {'term_freq': 1,\n",
       "     'tokens': [{'position': 145, 'start_offset': 293, 'end_offset': 295}]},\n",
       "    '과': {'term_freq': 4,\n",
       "     'tokens': [{'position': 57, 'start_offset': 120, 'end_offset': 121},\n",
       "      {'position': 367, 'start_offset': 775, 'end_offset': 776},\n",
       "      {'position': 518, 'start_offset': 1103, 'end_offset': 1104},\n",
       "      {'position': 695, 'start_offset': 1453, 'end_offset': 1454}]},\n",
       "    '관리': {'term_freq': 1,\n",
       "     'tokens': [{'position': 157, 'start_offset': 321, 'end_offset': 323}]},\n",
       "    '국적': {'term_freq': 1,\n",
       "     'tokens': [{'position': 143, 'start_offset': 286, 'end_offset': 288}]},\n",
       "    '규모': {'term_freq': 1,\n",
       "     'tokens': [{'position': 177, 'start_offset': 361, 'end_offset': 363}]},\n",
       "    '그것': {'term_freq': 3,\n",
       "     'tokens': [{'position': 230, 'start_offset': 488, 'end_offset': 490},\n",
       "      {'position': 239, 'start_offset': 505, 'end_offset': 507},\n",
       "      {'position': 623, 'start_offset': 1303, 'end_offset': 1305}]},\n",
       "    '그냥': {'term_freq': 1,\n",
       "     'tokens': [{'position': 225, 'start_offset': 474, 'end_offset': 476}]},\n",
       "    '그러나': {'term_freq': 3,\n",
       "     'tokens': [{'position': 51, 'start_offset': 106, 'end_offset': 109},\n",
       "      {'position': 229, 'start_offset': 484, 'end_offset': 487},\n",
       "      {'position': 664, 'start_offset': 1386, 'end_offset': 1389}]},\n",
       "    '그리고': {'term_freq': 1,\n",
       "     'tokens': [{'position': 245, 'start_offset': 520, 'end_offset': 523}]},\n",
       "    '극복': {'term_freq': 1,\n",
       "     'tokens': [{'position': 651, 'start_offset': 1359, 'end_offset': 1361}]},\n",
       "    '기': {'term_freq': 7,\n",
       "     'tokens': [{'position': 122, 'start_offset': 244, 'end_offset': 245},\n",
       "      {'position': 150, 'start_offset': 305, 'end_offset': 306},\n",
       "      {'position': 285, 'start_offset': 596, 'end_offset': 597},\n",
       "      {'position': 494, 'start_offset': 1056, 'end_offset': 1057},\n",
       "      {'position': 595, 'start_offset': 1257, 'end_offset': 1258},\n",
       "      {'position': 611, 'start_offset': 1282, 'end_offset': 1283},\n",
       "      {'position': 653, 'start_offset': 1362, 'end_offset': 1363}]},\n",
       "    '기간': {'term_freq': 3,\n",
       "     'tokens': [{'position': 186, 'start_offset': 387, 'end_offset': 389},\n",
       "      {'position': 247, 'start_offset': 525, 'end_offset': 527},\n",
       "      {'position': 585, 'start_offset': 1237, 'end_offset': 1239}]},\n",
       "    '기대': {'term_freq': 1,\n",
       "     'tokens': [{'position': 420, 'start_offset': 897, 'end_offset': 899}]},\n",
       "    '기술': {'term_freq': 1,\n",
       "     'tokens': [{'position': 154, 'start_offset': 313, 'end_offset': 315}]},\n",
       "    '기업': {'term_freq': 3,\n",
       "     'tokens': [{'position': 140, 'start_offset': 280, 'end_offset': 282},\n",
       "      {'position': 144, 'start_offset': 289, 'end_offset': 291},\n",
       "      {'position': 179, 'start_offset': 365, 'end_offset': 367}]},\n",
       "    '까지': {'term_freq': 1,\n",
       "     'tokens': [{'position': 151, 'start_offset': 306, 'end_offset': 308}]},\n",
       "    '나': {'term_freq': 2,\n",
       "     'tokens': [{'position': 265, 'start_offset': 559, 'end_offset': 560},\n",
       "      {'position': 426, 'start_offset': 906, 'end_offset': 907}]},\n",
       "    '낙관': {'term_freq': 1,\n",
       "     'tokens': [{'position': 295, 'start_offset': 616, 'end_offset': 618}]},\n",
       "    '남': {'term_freq': 1,\n",
       "     'tokens': [{'position': 745, 'start_offset': 1554, 'end_offset': 1555}]},\n",
       "    '내': {'term_freq': 1,\n",
       "     'tokens': [{'position': 426, 'start_offset': 906, 'end_offset': 907}]},\n",
       "    '내렸': {'term_freq': 2,\n",
       "     'tokens': [{'position': 130, 'start_offset': 256, 'end_offset': 258},\n",
       "      {'position': 485, 'start_offset': 1038, 'end_offset': 1040}]},\n",
       "    '내리': {'term_freq': 2,\n",
       "     'tokens': [{'position': 130, 'start_offset': 256, 'end_offset': 258},\n",
       "      {'position': 485, 'start_offset': 1038, 'end_offset': 1040}]},\n",
       "    '년': {'term_freq': 2,\n",
       "     'tokens': [{'position': 134, 'start_offset': 265, 'end_offset': 266},\n",
       "      {'position': 185, 'start_offset': 385, 'end_offset': 386}]},\n",
       "    '노력': {'term_freq': 1,\n",
       "     'tokens': [{'position': 384, 'start_offset': 827, 'end_offset': 829}]},\n",
       "    '노크': {'term_freq': 1,\n",
       "     'tokens': [{'position': 226, 'start_offset': 477, 'end_offset': 479}]},\n",
       "    '는': {'term_freq': 35,\n",
       "     'tokens': [{'position': 14, 'start_offset': 30, 'end_offset': 31},\n",
       "      {'position': 35, 'start_offset': 76, 'end_offset': 77},\n",
       "      {'position': 44, 'start_offset': 92, 'end_offset': 93},\n",
       "      {'position': 53, 'start_offset': 112, 'end_offset': 113},\n",
       "      {'position': 71, 'start_offset': 144, 'end_offset': 145},\n",
       "      {'position': 90, 'start_offset': 177, 'end_offset': 178},\n",
       "      {'position': 104, 'start_offset': 207, 'end_offset': 208},\n",
       "      {'position': 116, 'start_offset': 231, 'end_offset': 232},\n",
       "      {'position': 137, 'start_offset': 272, 'end_offset': 273},\n",
       "      {'position': 159, 'start_offset': 324, 'end_offset': 325},\n",
       "      {'position': 209, 'start_offset': 439, 'end_offset': 440},\n",
       "      {'position': 216, 'start_offset': 457, 'end_offset': 458},\n",
       "      {'position': 224, 'start_offset': 472, 'end_offset': 473},\n",
       "      {'position': 232, 'start_offset': 493, 'end_offset': 494},\n",
       "      {'position': 256, 'start_offset': 540, 'end_offset': 541},\n",
       "      {'position': 258, 'start_offset': 544, 'end_offset': 545},\n",
       "      {'position': 266, 'start_offset': 560, 'end_offset': 561},\n",
       "      {'position': 274, 'start_offset': 576, 'end_offset': 577},\n",
       "      {'position': 279, 'start_offset': 585, 'end_offset': 586},\n",
       "      {'position': 305, 'start_offset': 637, 'end_offset': 638},\n",
       "      {'position': 361, 'start_offset': 762, 'end_offset': 763},\n",
       "      {'position': 392, 'start_offset': 841, 'end_offset': 842},\n",
       "      {'position': 399, 'start_offset': 853, 'end_offset': 854},\n",
       "      {'position': 405, 'start_offset': 864, 'end_offset': 865},\n",
       "      {'position': 417, 'start_offset': 891, 'end_offset': 892},\n",
       "      {'position': 429, 'start_offset': 911, 'end_offset': 912},\n",
       "      {'position': 454, 'start_offset': 973, 'end_offset': 974},\n",
       "      {'position': 480, 'start_offset': 1028, 'end_offset': 1029},\n",
       "      {'position': 526, 'start_offset': 1122, 'end_offset': 1123},\n",
       "      {'position': 543, 'start_offset': 1155, 'end_offset': 1156},\n",
       "      {'position': 631, 'start_offset': 1315, 'end_offset': 1316},\n",
       "      {'position': 648, 'start_offset': 1353, 'end_offset': 1354},\n",
       "      {'position': 666, 'start_offset': 1392, 'end_offset': 1393},\n",
       "      {'position': 683, 'start_offset': 1428, 'end_offset': 1429},\n",
       "      {'position': 737, 'start_offset': 1539, 'end_offset': 1540}]},\n",
       "    '는지': {'term_freq': 1,\n",
       "     'tokens': [{'position': 552, 'start_offset': 1174, 'end_offset': 1176}]},\n",
       "    '늦추': {'term_freq': 1,\n",
       "     'tokens': [{'position': 194, 'start_offset': 405, 'end_offset': 407}]},\n",
       "    '다': {'term_freq': 1,\n",
       "     'tokens': [{'position': 142, 'start_offset': 285, 'end_offset': 286}]},\n",
       "    '다국적': {'term_freq': 1,\n",
       "     'tokens': [{'position': 142, 'start_offset': 285, 'end_offset': 288}]},\n",
       "    '다는': {'term_freq': 1,\n",
       "     'tokens': [{'position': 81, 'start_offset': 159, 'end_offset': 161}]},\n",
       "    '다른': {'term_freq': 3,\n",
       "     'tokens': [{'position': 199, 'start_offset': 419, 'end_offset': 421},\n",
       "      {'position': 414, 'start_offset': 885, 'end_offset': 887},\n",
       "      {'position': 505, 'start_offset': 1076, 'end_offset': 1078}]},\n",
       "    '다면': {'term_freq': 1,\n",
       "     'tokens': [{'position': 196, 'start_offset': 408, 'end_offset': 410}]},\n",
       "    '다수': {'term_freq': 1,\n",
       "     'tokens': [{'position': 736, 'start_offset': 1537, 'end_offset': 1539}]},\n",
       "    '달': {'term_freq': 1,\n",
       "     'tokens': [{'position': 302, 'start_offset': 630, 'end_offset': 631}]},\n",
       "    '달러': {'term_freq': 1,\n",
       "     'tokens': [{'position': 176, 'start_offset': 358, 'end_offset': 360}]},\n",
       "    '당시': {'term_freq': 1,\n",
       "     'tokens': [{'position': 16, 'start_offset': 36, 'end_offset': 38}]},\n",
       "    '대': {'term_freq': 1,\n",
       "     'tokens': [{'position': 512, 'start_offset': 1093, 'end_offset': 1094}]},\n",
       "    '대부분': {'term_freq': 1,\n",
       "     'tokens': [{'position': 512, 'start_offset': 1093, 'end_offset': 1096}]},\n",
       "    '대응': {'term_freq': 1,\n",
       "     'tokens': [{'position': 277, 'start_offset': 582, 'end_offset': 584}]},\n",
       "    '대처': {'term_freq': 1,\n",
       "     'tokens': [{'position': 609, 'start_offset': 1279, 'end_offset': 1281}]},\n",
       "    '대하': {'term_freq': 7,\n",
       "     'tokens': [{'position': 38, 'start_offset': 82, 'end_offset': 84},\n",
       "      {'position': 190, 'start_offset': 398, 'end_offset': 400},\n",
       "      {'position': 293, 'start_offset': 613, 'end_offset': 615},\n",
       "      {'position': 328, 'start_offset': 687, 'end_offset': 689},\n",
       "      {'position': 442, 'start_offset': 947, 'end_offset': 949},\n",
       "      {'position': 644, 'start_offset': 1346, 'end_offset': 1348},\n",
       "      {'position': 717, 'start_offset': 1496, 'end_offset': 1498}]},\n",
       "    '대한': {'term_freq': 4,\n",
       "     'tokens': [{'position': 190, 'start_offset': 398, 'end_offset': 400},\n",
       "      {'position': 442, 'start_offset': 947, 'end_offset': 949},\n",
       "      {'position': 644, 'start_offset': 1346, 'end_offset': 1348},\n",
       "      {'position': 717, 'start_offset': 1496, 'end_offset': 1498}]},\n",
       "    '대해': {'term_freq': 3,\n",
       "     'tokens': [{'position': 38, 'start_offset': 82, 'end_offset': 84},\n",
       "      {'position': 293, 'start_offset': 613, 'end_offset': 615},\n",
       "      {'position': 328, 'start_offset': 687, 'end_offset': 689}]},\n",
       "    '더': {'term_freq': 2,\n",
       "     'tokens': [{'position': 698, 'start_offset': 1459, 'end_offset': 1460},\n",
       "      {'position': 723, 'start_offset': 1508, 'end_offset': 1509}]},\n",
       "    '던': {'term_freq': 1,\n",
       "     'tokens': [{'position': 423, 'start_offset': 900, 'end_offset': 901}]},\n",
       "    '도전': {'term_freq': 1,\n",
       "     'tokens': [{'position': 649, 'start_offset': 1355, 'end_offset': 1357}]},\n",
       "    '돌아오': {'term_freq': 1,\n",
       "     'tokens': [{'position': 573, 'start_offset': 1218, 'end_offset': 1221}]},\n",
       "    '돌아올': {'term_freq': 1,\n",
       "     'tokens': [{'position': 573, 'start_offset': 1218, 'end_offset': 1221}]},\n",
       "    '동안': {'term_freq': 4,\n",
       "     'tokens': [{'position': 187, 'start_offset': 390, 'end_offset': 392},\n",
       "      {'position': 303, 'start_offset': 632, 'end_offset': 634},\n",
       "      {'position': 501, 'start_offset': 1069, 'end_offset': 1071},\n",
       "      {'position': 586, 'start_offset': 1240, 'end_offset': 1242}]},\n",
       "    '되': {'term_freq': 4,\n",
       "     'tokens': [{'position': 181, 'start_offset': 369, 'end_offset': 370},\n",
       "      {'position': 202, 'start_offset': 426, 'end_offset': 427},\n",
       "      {'position': 353, 'start_offset': 747, 'end_offset': 748},\n",
       "      {'position': 710, 'start_offset': 1479, 'end_offset': 1480}]},\n",
       "    '뒤': {'term_freq': 1,\n",
       "     'tokens': [{'position': 743, 'start_offset': 1551, 'end_offset': 1552}]},\n",
       "    '듣': {'term_freq': 2,\n",
       "     'tokens': [{'position': 284, 'start_offset': 595, 'end_offset': 596},\n",
       "      {'position': 358, 'start_offset': 757, 'end_offset': 758}]},\n",
       "    '들': {'term_freq': 5,\n",
       "     'tokens': [{'position': 284, 'start_offset': 595, 'end_offset': 596},\n",
       "      {'position': 358, 'start_offset': 757, 'end_offset': 758},\n",
       "      {'position': 559, 'start_offset': 1192, 'end_offset': 1193},\n",
       "      {'position': 589, 'start_offset': 1248, 'end_offset': 1249},\n",
       "      {'position': 739, 'start_offset': 1543, 'end_offset': 1544}]},\n",
       "    '따라': {'term_freq': 1,\n",
       "     'tokens': [{'position': 345, 'start_offset': 730, 'end_offset': 732}]},\n",
       "    '따르': {'term_freq': 1,\n",
       "     'tokens': [{'position': 345, 'start_offset': 730, 'end_offset': 732}]},\n",
       "    '때': {'term_freq': 2,\n",
       "     'tokens': [{'position': 238, 'start_offset': 502, 'end_offset': 503},\n",
       "      {'position': 693, 'start_offset': 1449, 'end_offset': 1450}]},\n",
       "    '때로': {'term_freq': 2,\n",
       "     'tokens': [{'position': 215, 'start_offset': 455, 'end_offset': 457},\n",
       "      {'position': 223, 'start_offset': 470, 'end_offset': 472}]},\n",
       "    '때문': {'term_freq': 1,\n",
       "     'tokens': [{'position': 286, 'start_offset': 598, 'end_offset': 600}]},\n",
       "    '또한': {'term_freq': 2,\n",
       "     'tokens': [{'position': 455, 'start_offset': 975, 'end_offset': 977},\n",
       "      {'position': 544, 'start_offset': 1157, 'end_offset': 1159}]},\n",
       "    '라고': {'term_freq': 1,\n",
       "     'tokens': [{'position': 676, 'start_offset': 1412, 'end_offset': 1414}]},\n",
       "    '라는': {'term_freq': 1,\n",
       "     'tokens': [{'position': 704, 'start_offset': 1468, 'end_offset': 1470}]},\n",
       "    '력': {'term_freq': 1,\n",
       "     'tokens': [{'position': 326, 'start_offset': 684, 'end_offset': 685}]},\n",
       "    '로': {'term_freq': 6,\n",
       "     'tokens': [{'position': 21, 'start_offset': 50, 'end_offset': 51},\n",
       "      {'position': 123, 'start_offset': 245, 'end_offset': 246},\n",
       "      {'position': 311, 'start_offset': 651, 'end_offset': 652},\n",
       "      {'position': 314, 'start_offset': 657, 'end_offset': 658},\n",
       "      {'position': 520, 'start_offset': 1109, 'end_offset': 1110},\n",
       "      {'position': 572, 'start_offset': 1216, 'end_offset': 1217}]},\n",
       "    '롭': {'term_freq': 1,\n",
       "     'tokens': [{'position': 725, 'start_offset': 1512, 'end_offset': 1513}]},\n",
       "    '률': {'term_freq': 1,\n",
       "     'tokens': [{'position': 342, 'start_offset': 723, 'end_offset': 724}]},\n",
       "    '를': {'term_freq': 12,\n",
       "     'tokens': [{'position': 33, 'start_offset': 73, 'end_offset': 74},\n",
       "      {'position': 65, 'start_offset': 135, 'end_offset': 136},\n",
       "      {'position': 107, 'start_offset': 214, 'end_offset': 215},\n",
       "      {'position': 156, 'start_offset': 319, 'end_offset': 320},\n",
       "      {'position': 193, 'start_offset': 403, 'end_offset': 404},\n",
       "      {'position': 252, 'start_offset': 533, 'end_offset': 534},\n",
       "      {'position': 308, 'start_offset': 644, 'end_offset': 645},\n",
       "      {'position': 349, 'start_offset': 740, 'end_offset': 741},\n",
       "      {'position': 357, 'start_offset': 755, 'end_offset': 756},\n",
       "      {'position': 375, 'start_offset': 792, 'end_offset': 793},\n",
       "      {'position': 457, 'start_offset': 981, 'end_offset': 982},\n",
       "      {'position': 465, 'start_offset': 997, 'end_offset': 998}]},\n",
       "    '리더': {'term_freq': 1,\n",
       "     'tokens': [{'position': 515, 'start_offset': 1098, 'end_offset': 1100}]},\n",
       "    '리더십': {'term_freq': 1,\n",
       "     'tokens': [{'position': 515, 'start_offset': 1098, 'end_offset': 1101}]},\n",
       "    '리소스': {'term_freq': 1,\n",
       "     'tokens': [{'position': 456, 'start_offset': 978, 'end_offset': 981}]},\n",
       "    '마음': {'term_freq': 1,\n",
       "     'tokens': [{'position': 282, 'start_offset': 591, 'end_offset': 593}]},\n",
       "    '마찬가지': {'term_freq': 1,\n",
       "     'tokens': [{'position': 519, 'start_offset': 1105, 'end_offset': 1109}]},\n",
       "    '많': {'term_freq': 2,\n",
       "     'tokens': [{'position': 30, 'start_offset': 68, 'end_offset': 69},\n",
       "      {'position': 62, 'start_offset': 130, 'end_offset': 131}]},\n",
       "    '많이': {'term_freq': 1,\n",
       "     'tokens': [{'position': 509, 'start_offset': 1086, 'end_offset': 1088}]},\n",
       "    '매장': {'term_freq': 2,\n",
       "     'tokens': [{'position': 366, 'start_offset': 773, 'end_offset': 775},\n",
       "      {'position': 372, 'start_offset': 784, 'end_offset': 786}]},\n",
       "    '매출': {'term_freq': 1,\n",
       "     'tokens': [{'position': 174, 'start_offset': 350, 'end_offset': 352}]},\n",
       "    '먼저': {'term_freq': 1,\n",
       "     'tokens': [{'position': 96, 'start_offset': 189, 'end_offset': 191}]},\n",
       "    '며': {'term_freq': 1,\n",
       "     'tokens': [{'position': 729, 'start_offset': 1518, 'end_offset': 1519}]},\n",
       "    '몇': {'term_freq': 2,\n",
       "     'tokens': [{'position': 301, 'start_offset': 628, 'end_offset': 629},\n",
       "      {'position': 499, 'start_offset': 1064, 'end_offset': 1065}]},\n",
       "    '모든': {'term_freq': 2,\n",
       "     'tokens': [{'position': 436, 'start_offset': 932, 'end_offset': 934},\n",
       "      {'position': 617, 'start_offset': 1291, 'end_offset': 1293}]},\n",
       "    '모이': {'term_freq': 1,\n",
       "     'tokens': [{'position': 657, 'start_offset': 1370, 'end_offset': 1372}]},\n",
       "    '모인': {'term_freq': 1,\n",
       "     'tokens': [{'position': 657, 'start_offset': 1370, 'end_offset': 1372}]},\n",
       "    '목': {'term_freq': 1,\n",
       "     'tokens': [{'position': 45, 'start_offset': 94, 'end_offset': 95}]},\n",
       "    '목소리': {'term_freq': 1,\n",
       "     'tokens': [{'position': 45, 'start_offset': 94, 'end_offset': 97}]},\n",
       "    '못하': {'term_freq': 2,\n",
       "     'tokens': [{'position': 428, 'start_offset': 909, 'end_offset': 911},\n",
       "      {'position': 605, 'start_offset': 1272, 'end_offset': 1274}]},\n",
       "    '못한': {'term_freq': 1,\n",
       "     'tokens': [{'position': 605, 'start_offset': 1272, 'end_offset': 1274}]},\n",
       "    '무료': {'term_freq': 2,\n",
       "     'tokens': [{'position': 336, 'start_offset': 705, 'end_offset': 707},\n",
       "      {'position': 444, 'start_offset': 950, 'end_offset': 952}]},\n",
       "    '무엇': {'term_freq': 1,\n",
       "     'tokens': [{'position': 101, 'start_offset': 200, 'end_offset': 202}]},\n",
       "    '물리': {'term_freq': 1,\n",
       "     'tokens': [{'position': 370, 'start_offset': 780, 'end_offset': 782}]},\n",
       "    '미래': {'term_freq': 2,\n",
       "     'tokens': [{'position': 54, 'start_offset': 114, 'end_offset': 116},\n",
       "      {'position': 290, 'start_offset': 606, 'end_offset': 608}]},\n",
       "    '믹': {'term_freq': 1,\n",
       "     'tokens': [{'position': 584, 'start_offset': 1235, 'end_offset': 1236}]},\n",
       "    '및': {'term_freq': 3,\n",
       "     'tokens': [{'position': 363, 'start_offset': 767, 'end_offset': 768},\n",
       "      {'position': 381, 'start_offset': 813, 'end_offset': 814},\n",
       "      {'position': 641, 'start_offset': 1338, 'end_offset': 1339}]},\n",
       "    '반복': {'term_freq': 1,\n",
       "     'tokens': [{'position': 721, 'start_offset': 1504, 'end_offset': 1506}]},\n",
       "    '받아들여야': {'term_freq': 1,\n",
       "     'tokens': [{'position': 241, 'start_offset': 509, 'end_offset': 514}]},\n",
       "    '받아들이': {'term_freq': 1,\n",
       "     'tokens': [{'position': 241, 'start_offset': 509, 'end_offset': 514}]},\n",
       "    '발명': {'term_freq': 4,\n",
       "     'tokens': [{'position': 77, 'start_offset': 153, 'end_offset': 155},\n",
       "      {'position': 312, 'start_offset': 654, 'end_offset': 656},\n",
       "      {'position': 696, 'start_offset': 1455, 'end_offset': 1457},\n",
       "      {'position': 733, 'start_offset': 1531, 'end_offset': 1533}]},\n",
       "    '발명품': {'term_freq': 1,\n",
       "     'tokens': [{'position': 733, 'start_offset': 1531, 'end_offset': 1534}]},\n",
       "    '발생': {'term_freq': 1,\n",
       "     'tokens': [{'position': 727, 'start_offset': 1515, 'end_offset': 1517}]},\n",
       "    '방식': {'term_freq': 4,\n",
       "     'tokens': [{'position': 160, 'start_offset': 326, 'end_offset': 328},\n",
       "      {'position': 280, 'start_offset': 587, 'end_offset': 589},\n",
       "      {'position': 659, 'start_offset': 1373, 'end_offset': 1375},\n",
       "      {'position': 674, 'start_offset': 1409, 'end_offset': 1411}]},\n",
       "    '배송': {'term_freq': 1,\n",
       "     'tokens': [{'position': 445, 'start_offset': 953, 'end_offset': 955}]},\n",
       "    '배우': {'term_freq': 1,\n",
       "     'tokens': [{'position': 691, 'start_offset': 1446, 'end_offset': 1448}]},\n",
       "    '배울': {'term_freq': 1,\n",
       "     'tokens': [{'position': 691, 'start_offset': 1446, 'end_offset': 1448}]},\n",
       "    '변경': {'term_freq': 1,\n",
       "     'tokens': [{'position': 506, 'start_offset': 1079, 'end_offset': 1081}]},\n",
       "    '변화': {'term_freq': 3,\n",
       "     'tokens': [{'position': 162, 'start_offset': 330, 'end_offset': 332},\n",
       "      {'position': 208, 'start_offset': 437, 'end_offset': 439},\n",
       "      {'position': 275, 'start_offset': 578, 'end_offset': 580}]},\n",
       "    '별': {'term_freq': 2,\n",
       "     'tokens': [{'position': 310, 'start_offset': 650, 'end_offset': 651},\n",
       "      {'position': 313, 'start_offset': 656, 'end_offset': 657}]},\n",
       "    '보': {'term_freq': 2,\n",
       "     'tokens': [{'position': 235, 'start_offset': 498, 'end_offset': 499},\n",
       "      {'position': 523, 'start_offset': 1118, 'end_offset': 1119}]},\n",
       "    '보다': {'term_freq': 2,\n",
       "     'tokens': [{'position': 95, 'start_offset': 186, 'end_offset': 188},\n",
       "      {'position': 102, 'start_offset': 202, 'end_offset': 204}]},\n",
       "    '보드': {'term_freq': 1,\n",
       "     'tokens': [{'position': 748, 'start_offset': 1560, 'end_offset': 1562}]},\n",
       "    '보이': {'term_freq': 2,\n",
       "     'tokens': [{'position': 273, 'start_offset': 574, 'end_offset': 576},\n",
       "      {'position': 402, 'start_offset': 859, 'end_offset': 861}]},\n",
       "    '부문': {'term_freq': 1,\n",
       "     'tokens': [{'position': 146, 'start_offset': 296, 'end_offset': 298}]},\n",
       "    '부분': {'term_freq': 1,\n",
       "     'tokens': [{'position': 513, 'start_offset': 1094, 'end_offset': 1096}]},\n",
       "    '부터': {'term_freq': 1,\n",
       "     'tokens': [{'position': 563, 'start_offset': 1198, 'end_offset': 1200}]},\n",
       "    '비용': {'term_freq': 1,\n",
       "     'tokens': [{'position': 489, 'start_offset': 1048, 'end_offset': 1050}]},\n",
       "    '비즈니스': {'term_freq': 4,\n",
       "     'tokens': [{'position': 309, 'start_offset': 646, 'end_offset': 650},\n",
       "      {'position': 348, 'start_offset': 736, 'end_offset': 740},\n",
       "      {'position': 521, 'start_offset': 1111, 'end_offset': 1115},\n",
       "      {'position': 642, 'start_offset': 1340, 'end_offset': 1344}]},\n",
       "    '사람': {'term_freq': 1,\n",
       "     'tokens': [{'position': 738, 'start_offset': 1541, 'end_offset': 1543}]},\n",
       "    '사무': {'term_freq': 1,\n",
       "     'tokens': [{'position': 570, 'start_offset': 1213, 'end_offset': 1215}]},\n",
       "    '사무실': {'term_freq': 1,\n",
       "     'tokens': [{'position': 570, 'start_offset': 1213, 'end_offset': 1216}]},\n",
       "    '사용': {'term_freq': 1,\n",
       "     'tokens': [{'position': 460, 'start_offset': 987, 'end_offset': 989}]},\n",
       "    '사항': {'term_freq': 2,\n",
       "     'tokens': [{'position': 507, 'start_offset': 1082, 'end_offset': 1084},\n",
       "      {'position': 527, 'start_offset': 1124, 'end_offset': 1126}]},\n",
       "    '사회': {'term_freq': 1,\n",
       "     'tokens': [{'position': 640, 'start_offset': 1335, 'end_offset': 1337}]},\n",
       "    '살펴보': {'term_freq': 3,\n",
       "     'tokens': [{'position': 316, 'start_offset': 663, 'end_offset': 666},\n",
       "      {'position': 447, 'start_offset': 958, 'end_offset': 961},\n",
       "      {'position': 554, 'start_offset': 1181, 'end_offset': 1184}]},\n",
       "    '상당': {'term_freq': 1,\n",
       "     'tokens': [{'position': 1, 'start_offset': 4, 'end_offset': 6}]},\n",
       "    '상황': {'term_freq': 1,\n",
       "     'tokens': [{'position': 607, 'start_offset': 1275, 'end_offset': 1277}]},\n",
       "    '생각': {'term_freq': 1,\n",
       "     'tokens': [{'position': 677, 'start_offset': 1415, 'end_offset': 1417}]},\n",
       "    '서로': {'term_freq': 2,\n",
       "     'tokens': [{'position': 689, 'start_offset': 1440, 'end_offset': 1442},\n",
       "      {'position': 713, 'start_offset': 1486, 'end_offset': 1488}]},\n",
       "    '서점': {'term_freq': 1,\n",
       "     'tokens': [{'position': 362, 'start_offset': 764, 'end_offset': 766}]},\n",
       "    '성': {'term_freq': 1,\n",
       "     'tokens': [{'position': 169, 'start_offset': 341, 'end_offset': 342}]},\n",
       "    '성공': {'term_freq': 1,\n",
       "     'tokens': [{'position': 262, 'start_offset': 552, 'end_offset': 554}]},\n",
       "    '소리': {'term_freq': 1,\n",
       "     'tokens': [{'position': 46, 'start_offset': 95, 'end_offset': 97}]},\n",
       "    '소매': {'term_freq': 1,\n",
       "     'tokens': [{'position': 19, 'start_offset': 46, 'end_offset': 48}]},\n",
       "    '속도': {'term_freq': 1,\n",
       "     'tokens': [{'position': 106, 'start_offset': 212, 'end_offset': 214}]},\n",
       "    '수': {'term_freq': 2,\n",
       "     'tokens': [{'position': 69, 'start_offset': 141, 'end_offset': 142},\n",
       "      {'position': 397, 'start_offset': 850, 'end_offset': 851}]},\n",
       "    '수익': {'term_freq': 5,\n",
       "     'tokens': [{'position': 168, 'start_offset': 339, 'end_offset': 341},\n",
       "      {'position': 333, 'start_offset': 694, 'end_offset': 696},\n",
       "      {'position': 341, 'start_offset': 721, 'end_offset': 723},\n",
       "      {'position': 393, 'start_offset': 843, 'end_offset': 845},\n",
       "      {'position': 424, 'start_offset': 902, 'end_offset': 904}]},\n",
       "    '수입': {'term_freq': 1,\n",
       "     'tokens': [{'position': 335, 'start_offset': 701, 'end_offset': 703}]},\n",
       "    '수정': {'term_freq': 1,\n",
       "     'tokens': [{'position': 449, 'start_offset': 963, 'end_offset': 965}]},\n",
       "    '수행': {'term_freq': 2,\n",
       "     'tokens': [{'position': 254, 'start_offset': 537, 'end_offset': 539},\n",
       "      {'position': 502, 'start_offset': 1072, 'end_offset': 1074}]},\n",
       "    '순위': {'term_freq': 1,\n",
       "     'tokens': [{'position': 464, 'start_offset': 995, 'end_offset': 997}]},\n",
       "    '쉽': {'term_freq': 1,\n",
       "     'tokens': [{'position': 699, 'start_offset': 1461, 'end_offset': 1462}]},\n",
       "    '스럽': {'term_freq': 1,\n",
       "     'tokens': [{'position': 662, 'start_offset': 1379, 'end_offset': 1381}]},\n",
       "    '스타': {'term_freq': 1,\n",
       "     'tokens': [{'position': 365, 'start_offset': 770, 'end_offset': 772}]},\n",
       "    '습니다': {'term_freq': 17,\n",
       "     'tokens': [{'position': 10, 'start_offset': 18, 'end_offset': 21},\n",
       "      {'position': 50, 'start_offset': 101, 'end_offset': 104},\n",
       "      {'position': 88, 'start_offset': 170, 'end_offset': 173},\n",
       "      {'position': 100, 'start_offset': 195, 'end_offset': 198},\n",
       "      {'position': 114, 'start_offset': 224, 'end_offset': 227},\n",
       "      {'position': 132, 'start_offset': 258, 'end_offset': 261},\n",
       "      {'position': 183, 'start_offset': 371, 'end_offset': 374},\n",
       "      {'position': 214, 'start_offset': 450, 'end_offset': 453},\n",
       "      {'position': 355, 'start_offset': 749, 'end_offset': 752},\n",
       "      {'position': 413, 'start_offset': 880, 'end_offset': 883},\n",
       "      {'position': 452, 'start_offset': 966, 'end_offset': 969},\n",
       "      {'position': 487, 'start_offset': 1040, 'end_offset': 1043},\n",
       "      {'position': 580, 'start_offset': 1228, 'end_offset': 1231},\n",
       "      {'position': 622, 'start_offset': 1298, 'end_offset': 1301},\n",
       "      {'position': 663, 'start_offset': 1381, 'end_offset': 1384},\n",
       "      {'position': 681, 'start_offset': 1421, 'end_offset': 1424},\n",
       "      {'position': 712, 'start_offset': 1481, 'end_offset': 1484}]},\n",
       "    '시키': {'term_freq': 1,\n",
       "     'tokens': [{'position': 163, 'start_offset': 332, 'end_offset': 334}]},\n",
       "    '시킨': {'term_freq': 1,\n",
       "     'tokens': [{'position': 163, 'start_offset': 332, 'end_offset': 334}]},\n",
       "    '식료': {'term_freq': 1,\n",
       "     'tokens': [{'position': 438, 'start_offset': 939, 'end_offset': 941}]},\n",
       "    '식료품': {'term_freq': 1,\n",
       "     'tokens': [{'position': 438, 'start_offset': 939, 'end_offset': 942}]},\n",
       "    '신생': {'term_freq': 1,\n",
       "     'tokens': [{'position': 139, 'start_offset': 277, 'end_offset': 279}]},\n",
       "    '실': {'term_freq': 1,\n",
       "     'tokens': [{'position': 571, 'start_offset': 1215, 'end_offset': 1216}]},\n",
       "    '싶': {'term_freq': 1,\n",
       "     'tokens': [{'position': 112, 'start_offset': 222, 'end_offset': 223}]},\n",
       "    '아': {'term_freq': 10,\n",
       "     'tokens': [{'position': 39, 'start_offset': 82, 'end_offset': 84},\n",
       "      {'position': 61, 'start_offset': 127, 'end_offset': 129},\n",
       "      {'position': 294, 'start_offset': 613, 'end_offset': 615},\n",
       "      {'position': 329, 'start_offset': 687, 'end_offset': 689},\n",
       "      {'position': 346, 'start_offset': 730, 'end_offset': 732},\n",
       "      {'position': 496, 'start_offset': 1058, 'end_offset': 1060},\n",
       "      {'position': 597, 'start_offset': 1259, 'end_offset': 1261},\n",
       "      {'position': 613, 'start_offset': 1284, 'end_offset': 1286},\n",
       "      {'position': 655, 'start_offset': 1364, 'end_offset': 1366},\n",
       "      {'position': 746, 'start_offset': 1555, 'end_offset': 1556}]},\n",
       "    '아마존': {'term_freq': 2,\n",
       "     'tokens': [{'position': 15, 'start_offset': 32, 'end_offset': 35},\n",
       "      {'position': 58, 'start_offset': 122, 'end_offset': 125}]},\n",
       "    '아이디어': {'term_freq': 1,\n",
       "     'tokens': [{'position': 715, 'start_offset': 1490, 'end_offset': 1494}]},\n",
       "    '안팎': {'term_freq': 1,\n",
       "     'tokens': [{'position': 12, 'start_offset': 26, 'end_offset': 28}]},\n",
       "    '않': {'term_freq': 2,\n",
       "     'tokens': [{'position': 404, 'start_offset': 863, 'end_offset': 864},\n",
       "      {'position': 680, 'start_offset': 1420, 'end_offset': 1421}]},\n",
       "    '알': {'term_freq': 1,\n",
       "     'tokens': [{'position': 84, 'start_offset': 165, 'end_offset': 166}]},\n",
       "    '알려짐': {'term_freq': 1,\n",
       "     'tokens': [{'position': 22, 'start_offset': 52, 'end_offset': 55}]},\n",
       "    '알리': {'term_freq': 1,\n",
       "     'tokens': [{'position': 22, 'start_offset': 52, 'end_offset': 55}]},\n",
       "    '았': {'term_freq': 12,\n",
       "     'tokens': [{'position': 9, 'start_offset': 17, 'end_offset': 18},\n",
       "      {'position': 99, 'start_offset': 194, 'end_offset': 195},\n",
       "      {'position': 236, 'start_offset': 499, 'end_offset': 500},\n",
       "      {'position': 388, 'start_offset': 833, 'end_offset': 836},\n",
       "      {'position': 412, 'start_offset': 879, 'end_offset': 880},\n",
       "      {'position': 422, 'start_offset': 899, 'end_offset': 900},\n",
       "      {'position': 451, 'start_offset': 965, 'end_offset': 966},\n",
       "      {'position': 469, 'start_offset': 1002, 'end_offset': 1003},\n",
       "      {'position': 555, 'start_offset': 1184, 'end_offset': 1185},\n",
       "      {'position': 579, 'start_offset': 1227, 'end_offset': 1228},\n",
       "      {'position': 600, 'start_offset': 1264, 'end_offset': 1267},\n",
       "      {'position': 621, 'start_offset': 1297, 'end_offset': 1298}]},\n",
       "    '앞': {'term_freq': 1,\n",
       "     'tokens': [{'position': 271, 'start_offset': 571, 'end_offset': 572}]},\n",
       "    '어': {'term_freq': 3,\n",
       "     'tokens': [{'position': 23, 'start_offset': 52, 'end_offset': 55},\n",
       "      {'position': 250, 'start_offset': 529, 'end_offset': 531},\n",
       "      {'position': 359, 'start_offset': 758, 'end_offset': 759}]},\n",
       "    '어디': {'term_freq': 1,\n",
       "     'tokens': [{'position': 458, 'start_offset': 983, 'end_offset': 985}]},\n",
       "    '어떻게': {'term_freq': 1,\n",
       "     'tokens': [{'position': 547, 'start_offset': 1164, 'end_offset': 1167}]},\n",
       "    '어려운': {'term_freq': 1,\n",
       "     'tokens': [{'position': 481, 'start_offset': 1030, 'end_offset': 1033}]},\n",
       "    '어렵': {'term_freq': 1,\n",
       "     'tokens': [{'position': 481, 'start_offset': 1030, 'end_offset': 1033}]},\n",
       "    '어야': {'term_freq': 1,\n",
       "     'tokens': [{'position': 242, 'start_offset': 509, 'end_offset': 514}]},\n",
       "    '얻': {'term_freq': 1,\n",
       "     'tokens': [{'position': 395, 'start_offset': 847, 'end_offset': 848}]},\n",
       "    '업체': {'term_freq': 1,\n",
       "     'tokens': [{'position': 20, 'start_offset': 48, 'end_offset': 50}]},\n",
       "    '없': {'term_freq': 1,\n",
       "     'tokens': [{'position': 647, 'start_offset': 1352, 'end_offset': 1353}]},\n",
       "    '었': {'term_freq': 11,\n",
       "     'tokens': [{'position': 49, 'start_offset': 100, 'end_offset': 101},\n",
       "      {'position': 87, 'start_offset': 169, 'end_offset': 170},\n",
       "      {'position': 113, 'start_offset': 223, 'end_offset': 224},\n",
       "      {'position': 131, 'start_offset': 256, 'end_offset': 258},\n",
       "      {'position': 182, 'start_offset': 370, 'end_offset': 371},\n",
       "      {'position': 195, 'start_offset': 407, 'end_offset': 408},\n",
       "      {'position': 203, 'start_offset': 427, 'end_offset': 428},\n",
       "      {'position': 354, 'start_offset': 748, 'end_offset': 749},\n",
       "      {'position': 486, 'start_offset': 1038, 'end_offset': 1040},\n",
       "      {'position': 628, 'start_offset': 1311, 'end_offset': 1312},\n",
       "      {'position': 711, 'start_offset': 1480, 'end_offset': 1481}]},\n",
       "    '에': {'term_freq': 23,\n",
       "     'tokens': [{'position': 29, 'start_offset': 66, 'end_offset': 67},\n",
       "      {'position': 37, 'start_offset': 80, 'end_offset': 81},\n",
       "      {'position': 55, 'start_offset': 116, 'end_offset': 117},\n",
       "      {'position': 118, 'start_offset': 236, 'end_offset': 237},\n",
       "      {'position': 148, 'start_offset': 301, 'end_offset': 302},\n",
       "      {'position': 189, 'start_offset': 396, 'end_offset': 397},\n",
       "      {'position': 212, 'start_offset': 447, 'end_offset': 448},\n",
       "      {'position': 248, 'start_offset': 527, 'end_offset': 528},\n",
       "      {'position': 272, 'start_offset': 572, 'end_offset': 573},\n",
       "      {'position': 276, 'start_offset': 580, 'end_offset': 581},\n",
       "      {'position': 283, 'start_offset': 593, 'end_offset': 594},\n",
       "      {'position': 287, 'start_offset': 600, 'end_offset': 601},\n",
       "      {'position': 292, 'start_offset': 611, 'end_offset': 612},\n",
       "      {'position': 327, 'start_offset': 685, 'end_offset': 686},\n",
       "      {'position': 344, 'start_offset': 728, 'end_offset': 729},\n",
       "      {'position': 416, 'start_offset': 890, 'end_offset': 891},\n",
       "      {'position': 441, 'start_offset': 945, 'end_offset': 946},\n",
       "      {'position': 459, 'start_offset': 985, 'end_offset': 986},\n",
       "      {'position': 566, 'start_offset': 1204, 'end_offset': 1205},\n",
       "      {'position': 608, 'start_offset': 1277, 'end_offset': 1278},\n",
       "      {'position': 643, 'start_offset': 1344, 'end_offset': 1345},\n",
       "      {'position': 716, 'start_offset': 1494, 'end_offset': 1495},\n",
       "      {'position': 744, 'start_offset': 1552, 'end_offset': 1553}]},\n",
       "    '에게': {'term_freq': 1,\n",
       "     'tokens': [{'position': 560, 'start_offset': 1193, 'end_offset': 1195}]},\n",
       "    '에게서': {'term_freq': 1,\n",
       "     'tokens': [{'position': 690, 'start_offset': 1442, 'end_offset': 1445}]},\n",
       "    '에너지': {'term_freq': 1,\n",
       "     'tokens': [{'position': 719, 'start_offset': 1499, 'end_offset': 1502}]},\n",
       "    '에서': {'term_freq': 6,\n",
       "     'tokens': [{'position': 13, 'start_offset': 28, 'end_offset': 30},\n",
       "      {'position': 141, 'start_offset': 282, 'end_offset': 284},\n",
       "      {'position': 409, 'start_offset': 874, 'end_offset': 876},\n",
       "      {'position': 522, 'start_offset': 1115, 'end_offset': 1117},\n",
       "      {'position': 592, 'start_offset': 1252, 'end_offset': 1254},\n",
       "      {'position': 749, 'start_offset': 1562, 'end_offset': 1564}]},\n",
       "    '여전히': {'term_freq': 1,\n",
       "     'tokens': [{'position': 0, 'start_offset': 0, 'end_offset': 3}]},\n",
       "    '역할': {'term_freq': 1,\n",
       "     'tokens': [{'position': 476, 'start_offset': 1021, 'end_offset': 1023}]},\n",
       "    '연간': {'term_freq': 1,\n",
       "     'tokens': [{'position': 173, 'start_offset': 347, 'end_offset': 349}]},\n",
       "    '열심히': {'term_freq': 1,\n",
       "     'tokens': [{'position': 553, 'start_offset': 1177, 'end_offset': 1180}]},\n",
       "    '예': {'term_freq': 2,\n",
       "     'tokens': [{'position': 356, 'start_offset': 754, 'end_offset': 755},\n",
       "      {'position': 432, 'start_offset': 921, 'end_offset': 922}]},\n",
       "    '예상': {'term_freq': 1,\n",
       "     'tokens': [{'position': 602, 'start_offset': 1268, 'end_offset': 1270}]},\n",
       "    '온라인': {'term_freq': 2,\n",
       "     'tokens': [{'position': 18, 'start_offset': 42, 'end_offset': 45},\n",
       "      {'position': 437, 'start_offset': 935, 'end_offset': 938}]},\n",
       "    '와': {'term_freq': 1,\n",
       "     'tokens': [{'position': 720, 'start_offset': 1502, 'end_offset': 1503}]},\n",
       "    '요청': {'term_freq': 1,\n",
       "     'tokens': [{'position': 577, 'start_offset': 1225, 'end_offset': 1227}]},\n",
       "    '우리': {'term_freq': 16,\n",
       "     'tokens': [{'position': 52, 'start_offset': 110, 'end_offset': 112},\n",
       "      {'position': 89, 'start_offset': 175, 'end_offset': 177},\n",
       "      {'position': 103, 'start_offset': 205, 'end_offset': 207},\n",
       "      {'position': 115, 'start_offset': 229, 'end_offset': 231},\n",
       "      {'position': 267, 'start_offset': 562, 'end_offset': 564},\n",
       "      {'position': 270, 'start_offset': 568, 'end_offset': 570},\n",
       "      {'position': 288, 'start_offset': 602, 'end_offset': 604},\n",
       "      {'position': 304, 'start_offset': 635, 'end_offset': 637},\n",
       "      {'position': 360, 'start_offset': 760, 'end_offset': 762},\n",
       "      {'position': 418, 'start_offset': 893, 'end_offset': 895},\n",
       "      {'position': 453, 'start_offset': 971, 'end_offset': 973},\n",
       "      {'position': 542, 'start_offset': 1153, 'end_offset': 1155},\n",
       "      {'position': 587, 'start_offset': 1243, 'end_offset': 1245},\n",
       "      {'position': 632, 'start_offset': 1317, 'end_offset': 1319},\n",
       "      {'position': 665, 'start_offset': 1390, 'end_offset': 1392},\n",
       "      {'position': 682, 'start_offset': 1426, 'end_offset': 1428}]},\n",
       "    '우선': {'term_freq': 1,\n",
       "     'tokens': [{'position': 463, 'start_offset': 992, 'end_offset': 994}]},\n",
       "    '운영': {'term_freq': 1,\n",
       "     'tokens': [{'position': 334, 'start_offset': 698, 'end_offset': 700}]},\n",
       "    '월': {'term_freq': 1,\n",
       "     'tokens': [{'position': 562, 'start_offset': 1197, 'end_offset': 1198}]},\n",
       "    '위하': {'term_freq': 5,\n",
       "     'tokens': [{'position': 60, 'start_offset': 127, 'end_offset': 129},\n",
       "      {'position': 495, 'start_offset': 1058, 'end_offset': 1060},\n",
       "      {'position': 596, 'start_offset': 1259, 'end_offset': 1261},\n",
       "      {'position': 612, 'start_offset': 1284, 'end_offset': 1286},\n",
       "      {'position': 654, 'start_offset': 1364, 'end_offset': 1366}]},\n",
       "    '위해': {'term_freq': 5,\n",
       "     'tokens': [{'position': 60, 'start_offset': 127, 'end_offset': 129},\n",
       "      {'position': 495, 'start_offset': 1058, 'end_offset': 1060},\n",
       "      {'position': 596, 'start_offset': 1259, 'end_offset': 1261},\n",
       "      {'position': 612, 'start_offset': 1284, 'end_offset': 1286},\n",
       "      {'position': 654, 'start_offset': 1364, 'end_offset': 1366}]},\n",
       "    '으로': {'term_freq': 4,\n",
       "     'tokens': [{'position': 219, 'start_offset': 462, 'end_offset': 464},\n",
       "      {'position': 261, 'start_offset': 549, 'end_offset': 551},\n",
       "      {'position': 535, 'start_offset': 1139, 'end_offset': 1141},\n",
       "      {'position': 546, 'start_offset': 1161, 'end_offset': 1163}]},\n",
       "    '으며': {'term_freq': 3,\n",
       "     'tokens': [{'position': 389, 'start_offset': 833, 'end_offset': 836},\n",
       "      {'position': 511, 'start_offset': 1090, 'end_offset': 1092},\n",
       "      {'position': 601, 'start_offset': 1264, 'end_offset': 1267}]},\n",
       "    '은': {'term_freq': 8,\n",
       "     'tokens': [{'position': 31, 'start_offset': 69, 'end_offset': 70},\n",
       "      {'position': 63, 'start_offset': 131, 'end_offset': 132},\n",
       "      {'position': 198, 'start_offset': 417, 'end_offset': 418},\n",
       "      {'position': 369, 'start_offset': 778, 'end_offset': 779},\n",
       "      {'position': 569, 'start_offset': 1211, 'end_offset': 1212},\n",
       "      {'position': 590, 'start_offset': 1249, 'end_offset': 1250},\n",
       "      {'position': 624, 'start_offset': 1305, 'end_offset': 1306},\n",
       "      {'position': 722, 'start_offset': 1506, 'end_offset': 1507}]},\n",
       "    '을': {'term_freq': 24,\n",
       "     'tokens': [{'position': 41, 'start_offset': 87, 'end_offset': 88},\n",
       "      {'position': 59, 'start_offset': 125, 'end_offset': 126},\n",
       "      {'position': 76, 'start_offset': 151, 'end_offset': 152},\n",
       "      {'position': 83, 'start_offset': 163, 'end_offset': 164},\n",
       "      {'position': 129, 'start_offset': 254, 'end_offset': 255},\n",
       "      {'position': 161, 'start_offset': 328, 'end_offset': 329},\n",
       "      {'position': 170, 'start_offset': 342, 'end_offset': 343},\n",
       "      {'position': 204, 'start_offset': 428, 'end_offset': 429},\n",
       "      {'position': 234, 'start_offset': 496, 'end_offset': 497},\n",
       "      {'position': 237, 'start_offset': 500, 'end_offset': 501},\n",
       "      {'position': 240, 'start_offset': 507, 'end_offset': 508},\n",
       "      {'position': 385, 'start_offset': 829, 'end_offset': 830},\n",
       "      {'position': 394, 'start_offset': 845, 'end_offset': 846},\n",
       "      {'position': 396, 'start_offset': 848, 'end_offset': 849},\n",
       "      {'position': 425, 'start_offset': 904, 'end_offset': 905},\n",
       "      {'position': 446, 'start_offset': 956, 'end_offset': 957},\n",
       "      {'position': 477, 'start_offset': 1023, 'end_offset': 1024},\n",
       "      {'position': 484, 'start_offset': 1036, 'end_offset': 1037},\n",
       "      {'position': 490, 'start_offset': 1050, 'end_offset': 1051},\n",
       "      {'position': 528, 'start_offset': 1126, 'end_offset': 1127},\n",
       "      {'position': 576, 'start_offset': 1223, 'end_offset': 1224},\n",
       "      {'position': 619, 'start_offset': 1295, 'end_offset': 1296},\n",
       "      {'position': 650, 'start_offset': 1357, 'end_offset': 1358},\n",
       "      {'position': 706, 'start_offset': 1472, 'end_offset': 1473}]},\n",
       "    '의': {'term_freq': 10,\n",
       "     'tokens': [{'position': 178, 'start_offset': 363, 'end_offset': 364},\n",
       "      {'position': 289, 'start_offset': 604, 'end_offset': 605},\n",
       "      {'position': 320, 'start_offset': 675, 'end_offset': 676},\n",
       "      {'position': 435, 'start_offset': 930, 'end_offset': 931},\n",
       "      {'position': 474, 'start_offset': 1016, 'end_offset': 1017},\n",
       "      {'position': 514, 'start_offset': 1096, 'end_offset': 1097},\n",
       "      {'position': 633, 'start_offset': 1319, 'end_offset': 1320},\n",
       "      {'position': 670, 'start_offset': 1400, 'end_offset': 1401},\n",
       "      {'position': 714, 'start_offset': 1488, 'end_offset': 1489},\n",
       "      {'position': 731, 'start_offset': 1522, 'end_offset': 1523}]},\n",
       "    '의문': {'term_freq': 1,\n",
       "     'tokens': [{'position': 40, 'start_offset': 85, 'end_offset': 87}]},\n",
       "    '의미': {'term_freq': 1,\n",
       "     'tokens': [{'position': 390, 'start_offset': 837, 'end_offset': 839}]},\n",
       "    '이': {'term_freq': 5,\n",
       "     'tokens': [{'position': 126, 'start_offset': 250, 'end_offset': 251},\n",
       "      {'position': 206, 'start_offset': 431, 'end_offset': 434},\n",
       "      {'position': 297, 'start_offset': 619, 'end_offset': 622},\n",
       "      {'position': 323, 'start_offset': 680, 'end_offset': 681},\n",
       "      {'position': 540, 'start_offset': 1147, 'end_offset': 1150}]},\n",
       "    '이거': {'term_freq': 1,\n",
       "     'tokens': [{'position': 667, 'start_offset': 1394, 'end_offset': 1396}]},\n",
       "    '이것': {'term_freq': 1,\n",
       "     'tokens': [{'position': 667, 'start_offset': 1394, 'end_offset': 1396}]},\n",
       "    '이니셔티브': {'term_freq': 1,\n",
       "     'tokens': [{'position': 319, 'start_offset': 670, 'end_offset': 675}]},\n",
       "    '이르': {'term_freq': 1,\n",
       "     'tokens': [{'position': 149, 'start_offset': 303, 'end_offset': 305}]},\n",
       "    '이상': {'term_freq': 1,\n",
       "     'tokens': [{'position': 434, 'start_offset': 928, 'end_offset': 930}]},\n",
       "    '이유': {'term_freq': 1,\n",
       "     'tokens': [{'position': 36, 'start_offset': 78, 'end_offset': 80}]},\n",
       "    '이제': {'term_freq': 1,\n",
       "     'tokens': [{'position': 138, 'start_offset': 274, 'end_offset': 276}]},\n",
       "    '인': {'term_freq': 2,\n",
       "     'tokens': [{'position': 126, 'start_offset': 250, 'end_offset': 251},\n",
       "      {'position': 323, 'start_offset': 680, 'end_offset': 681}]},\n",
       "    '인상': {'term_freq': 1,\n",
       "     'tokens': [{'position': 625, 'start_offset': 1307, 'end_offset': 1309}]},\n",
       "    '인프라': {'term_freq': 1,\n",
       "     'tokens': [{'position': 155, 'start_offset': 316, 'end_offset': 319}]},\n",
       "    '일반': {'term_freq': 1,\n",
       "     'tokens': [{'position': 259, 'start_offset': 546, 'end_offset': 548}]},\n",
       "    '일부': {'term_freq': 2,\n",
       "     'tokens': [{'position': 406, 'start_offset': 866, 'end_offset': 868},\n",
       "      {'position': 430, 'start_offset': 913, 'end_offset': 915}]},\n",
       "    '입니다': {'term_freq': 3,\n",
       "     'tokens': [{'position': 206, 'start_offset': 431, 'end_offset': 434},\n",
       "      {'position': 297, 'start_offset': 619, 'end_offset': 622},\n",
       "      {'position': 540, 'start_offset': 1147, 'end_offset': 1150}]},\n",
       "    '있': {'term_freq': 10,\n",
       "     'tokens': [{'position': 48, 'start_offset': 99, 'end_offset': 100},\n",
       "      {'position': 70, 'start_offset': 143, 'end_offset': 144},\n",
       "      {'position': 80, 'start_offset': 158, 'end_offset': 159},\n",
       "      {'position': 86, 'start_offset': 168, 'end_offset': 169},\n",
       "      {'position': 213, 'start_offset': 449, 'end_offset': 450},\n",
       "      {'position': 391, 'start_offset': 840, 'end_offset': 841},\n",
       "      {'position': 398, 'start_offset': 852, 'end_offset': 853},\n",
       "      {'position': 510, 'start_offset': 1089, 'end_offset': 1090},\n",
       "      {'position': 525, 'start_offset': 1121, 'end_offset': 1122},\n",
       "      {'position': 551, 'start_offset': 1173, 'end_offset': 1174}]},\n",
       "    '자': {'term_freq': 1,\n",
       "     'tokens': [{'position': 94, 'start_offset': 185, 'end_offset': 186}]},\n",
       "    '자랑': {'term_freq': 1,\n",
       "     'tokens': [{'position': 661, 'start_offset': 1377, 'end_offset': 1379}]},\n",
       "    '자본': {'term_freq': 2,\n",
       "     'tokens': [{'position': 4, 'start_offset': 8, 'end_offset': 10},\n",
       "      {'position': 340, 'start_offset': 718, 'end_offset': 720}]},\n",
       "    '자세히': {'term_freq': 1,\n",
       "     'tokens': [{'position': 315, 'start_offset': 659, 'end_offset': 662}]},\n",
       "    '자유': {'term_freq': 1,\n",
       "     'tokens': [{'position': 724, 'start_offset': 1510, 'end_offset': 1512}]},\n",
       "    '잘': {'term_freq': 1,\n",
       "     'tokens': [{'position': 253, 'start_offset': 535, 'end_offset': 536}]},\n",
       "    '잠재': {'term_freq': 2,\n",
       "     'tokens': [{'position': 91, 'start_offset': 179, 'end_offset': 181},\n",
       "      {'position': 325, 'start_offset': 682, 'end_offset': 684}]},\n",
       "    '잠재력': {'term_freq': 1,\n",
       "     'tokens': [{'position': 325, 'start_offset': 682, 'end_offset': 685}]},\n",
       "    '장': {'term_freq': 1,\n",
       "     'tokens': [{'position': 246, 'start_offset': 524, 'end_offset': 525}]},\n",
       "    '장기': {'term_freq': 3,\n",
       "     'tokens': [{'position': 124, 'start_offset': 247, 'end_offset': 249},\n",
       "      {'position': 321, 'start_offset': 677, 'end_offset': 679},\n",
       "      {'position': 671, 'start_offset': 1402, 'end_offset': 1404}]},\n",
       "    '장기간': {'term_freq': 1,\n",
       "     'tokens': [{'position': 246, 'start_offset': 524, 'end_offset': 527}]},\n",
       "    '장치': {'term_freq': 1,\n",
       "     'tokens': [{'position': 408, 'start_offset': 872, 'end_offset': 874}]},\n",
       "    '재': {'term_freq': 1,\n",
       "     'tokens': [{'position': 466, 'start_offset': 999, 'end_offset': 1000}]},\n",
       "    '저': {'term_freq': 1,\n",
       "     'tokens': [{'position': 630, 'start_offset': 1314, 'end_offset': 1315}]},\n",
       "    '적': {'term_freq': 12,\n",
       "     'tokens': [{'position': 92, 'start_offset': 181, 'end_offset': 182},\n",
       "      {'position': 125, 'start_offset': 249, 'end_offset': 250},\n",
       "      {'position': 218, 'start_offset': 461, 'end_offset': 462},\n",
       "      {'position': 260, 'start_offset': 548, 'end_offset': 549},\n",
       "      {'position': 296, 'start_offset': 618, 'end_offset': 619},\n",
       "      {'position': 322, 'start_offset': 679, 'end_offset': 680},\n",
       "      {'position': 371, 'start_offset': 782, 'end_offset': 783},\n",
       "      {'position': 534, 'start_offset': 1138, 'end_offset': 1139},\n",
       "      {'position': 626, 'start_offset': 1309, 'end_offset': 1310},\n",
       "      {'position': 635, 'start_offset': 1323, 'end_offset': 1324},\n",
       "      {'position': 672, 'start_offset': 1404, 'end_offset': 1405},\n",
       "      {'position': 702, 'start_offset': 1466, 'end_offset': 1467}]},\n",
       "    '적극': {'term_freq': 1,\n",
       "     'tokens': [{'position': 217, 'start_offset': 459, 'end_offset': 461}]},\n",
       "    '적응': {'term_freq': 1,\n",
       "     'tokens': [{'position': 533, 'start_offset': 1136, 'end_offset': 1138}]},\n",
       "    '전례': {'term_freq': 1,\n",
       "     'tokens': [{'position': 646, 'start_offset': 1349, 'end_offset': 1351}]},\n",
       "    '전망': {'term_freq': 1,\n",
       "     'tokens': [{'position': 291, 'start_offset': 609, 'end_offset': 611}]},\n",
       "    '전체': {'term_freq': 2,\n",
       "     'tokens': [{'position': 307, 'start_offset': 642, 'end_offset': 644},\n",
       "      {'position': 488, 'start_offset': 1045, 'end_offset': 1047}]},\n",
       "    '전환': {'term_freq': 1,\n",
       "     'tokens': [{'position': 410, 'start_offset': 877, 'end_offset': 879}]},\n",
       "    '접근': {'term_freq': 1,\n",
       "     'tokens': [{'position': 673, 'start_offset': 1406, 'end_offset': 1408}]},\n",
       "    '제': {'term_freq': 1,\n",
       "     'tokens': [{'position': 630, 'start_offset': 1314, 'end_offset': 1315}]},\n",
       "    '제거': {'term_freq': 1,\n",
       "     'tokens': [{'position': 478, 'start_offset': 1025, 'end_offset': 1027}]},\n",
       "    '제기': {'term_freq': 1,\n",
       "     'tokens': [{'position': 42, 'start_offset': 89, 'end_offset': 91}]},\n",
       "    '조직': {'term_freq': 1,\n",
       "     'tokens': [{'position': 147, 'start_offset': 299, 'end_offset': 301}]},\n",
       "    '주로': {'term_freq': 1,\n",
       "     'tokens': [{'position': 17, 'start_offset': 39, 'end_offset': 41}]},\n",
       "    '주문': {'term_freq': 1,\n",
       "     'tokens': [{'position': 440, 'start_offset': 943, 'end_offset': 945}]},\n",
       "    '주일': {'term_freq': 1,\n",
       "     'tokens': [{'position': 565, 'start_offset': 1202, 'end_offset': 1204}]},\n",
       "    '중': {'term_freq': 1,\n",
       "     'tokens': [{'position': 735, 'start_offset': 1535, 'end_offset': 1536}]},\n",
       "    '중단': {'term_freq': 2,\n",
       "     'tokens': [{'position': 376, 'start_offset': 794, 'end_offset': 796},\n",
       "      {'position': 386, 'start_offset': 831, 'end_offset': 833}]},\n",
       "    '지': {'term_freq': 5,\n",
       "     'tokens': [{'position': 24, 'start_offset': 52, 'end_offset': 55},\n",
       "      {'position': 403, 'start_offset': 861, 'end_offset': 862},\n",
       "      {'position': 427, 'start_offset': 907, 'end_offset': 908},\n",
       "      {'position': 604, 'start_offset': 1270, 'end_offset': 1271},\n",
       "      {'position': 679, 'start_offset': 1418, 'end_offset': 1419}]},\n",
       "    '지나': {'term_freq': 2,\n",
       "     'tokens': [{'position': 299, 'start_offset': 625, 'end_offset': 627},\n",
       "      {'position': 497, 'start_offset': 1061, 'end_offset': 1063}]},\n",
       "    '지난': {'term_freq': 2,\n",
       "     'tokens': [{'position': 299, 'start_offset': 625, 'end_offset': 627},\n",
       "      {'position': 497, 'start_offset': 1061, 'end_offset': 1063}]},\n",
       "    '지역': {'term_freq': 1,\n",
       "     'tokens': [{'position': 639, 'start_offset': 1332, 'end_offset': 1334}]},\n",
       "    '지정': {'term_freq': 1,\n",
       "     'tokens': [{'position': 467, 'start_offset': 1000, 'end_offset': 1002}]},\n",
       "    '직원': {'term_freq': 2,\n",
       "     'tokens': [{'position': 558, 'start_offset': 1190, 'end_offset': 1192},\n",
       "      {'position': 588, 'start_offset': 1246, 'end_offset': 1248}]},\n",
       "    '직접': {'term_freq': 1,\n",
       "     'tokens': [{'position': 688, 'start_offset': 1437, 'end_offset': 1439}]},\n",
       "    '진행': {'term_freq': 1,\n",
       "     'tokens': [{'position': 536, 'start_offset': 1142, 'end_offset': 1144}]},\n",
       "    '집': {'term_freq': 1,\n",
       "     'tokens': [{'position': 591, 'start_offset': 1251, 'end_offset': 1252}]},\n",
       "    '집결': {'term_freq': 1,\n",
       "     'tokens': [{'position': 598, 'start_offset': 1262, 'end_offset': 1264}]},\n",
       "    '집단': {'term_freq': 1,\n",
       "     'tokens': [{'position': 634, 'start_offset': 1321, 'end_offset': 1323}]},\n",
       "    '창출': {'term_freq': 1,\n",
       "     'tokens': [{'position': 66, 'start_offset': 137, 'end_offset': 139}]},\n",
       "    '초대': {'term_freq': 1,\n",
       "     'tokens': [{'position': 220, 'start_offset': 465, 'end_offset': 467}]},\n",
       "    '최고': {'term_freq': 1,\n",
       "     'tokens': [{'position': 730, 'start_offset': 1520, 'end_offset': 1522}]},\n",
       "    '최선': {'term_freq': 1,\n",
       "     'tokens': [{'position': 669, 'start_offset': 1398, 'end_offset': 1400}]},\n",
       "    '최소': {'term_freq': 1,\n",
       "     'tokens': [{'position': 567, 'start_offset': 1206, 'end_offset': 1208}]},\n",
       "    '최신': {'term_freq': 1,\n",
       "     'tokens': [{'position': 407, 'start_offset': 869, 'end_offset': 871}]},\n",
       "    '추구': {'term_freq': 1,\n",
       "     'tokens': [{'position': 374, 'start_offset': 790, 'end_offset': 792}]},\n",
       "    '출발': {'term_freq': 1,\n",
       "     'tokens': [{'position': 97, 'start_offset': 192, 'end_offset': 194}]},\n",
       "    '충분': {'term_freq': 1,\n",
       "     'tokens': [{'position': 330, 'start_offset': 690, 'end_offset': 692}]},\n",
       "    '치': {'term_freq': 1,\n",
       "     'tokens': [{'position': 603, 'start_offset': 1270, 'end_offset': 1271}]},\n",
       "    '컴퓨팅': {'term_freq': 1,\n",
       "     'tokens': [{'position': 28, 'start_offset': 63, 'end_offset': 66}]},\n",
       "    '클라우드': {'term_freq': 1,\n",
       "     'tokens': [{'position': 27, 'start_offset': 58, 'end_offset': 62}]},\n",
       "    '투자': {'term_freq': 5,\n",
       "     'tokens': [{'position': 5, 'start_offset': 11, 'end_offset': 13},\n",
       "      {'position': 32, 'start_offset': 71, 'end_offset': 73},\n",
       "      {'position': 120, 'start_offset': 241, 'end_offset': 243},\n",
       "      {'position': 192, 'start_offset': 401, 'end_offset': 403},\n",
       "      {'position': 339, 'start_offset': 715, 'end_offset': 717}]},\n",
       "    '특별': {'term_freq': 1,\n",
       "     'tokens': [{'position': 72, 'start_offset': 146, 'end_offset': 148}]},\n",
       "    '특정': {'term_freq': 1,\n",
       "     'tokens': [{'position': 347, 'start_offset': 733, 'end_offset': 735}]},\n",
       "    '팀': {'term_freq': 4,\n",
       "     'tokens': [{'position': 268, 'start_offset': 565, 'end_offset': 566},\n",
       "      {'position': 517, 'start_offset': 1102, 'end_offset': 1103},\n",
       "      {'position': 545, 'start_offset': 1160, 'end_offset': 1161},\n",
       "      {'position': 636, 'start_offset': 1325, 'end_offset': 1326}]},\n",
       "    '패': {'term_freq': 1,\n",
       "     'tokens': [{'position': 581, 'start_offset': 1233, 'end_offset': 1235}]},\n",
       "    '팬데': {'term_freq': 1,\n",
       "     'tokens': [{'position': 581, 'start_offset': 1233, 'end_offset': 1235}]},\n",
       "    '평가': {'term_freq': 1,\n",
       "     'tokens': [{'position': 530, 'start_offset': 1131, 'end_offset': 1133}]},\n",
       "    '폐쇄': {'term_freq': 1,\n",
       "     'tokens': [{'position': 350, 'start_offset': 742, 'end_offset': 744}]},\n",
       "    '품': {'term_freq': 2,\n",
       "     'tokens': [{'position': 439, 'start_offset': 941, 'end_offset': 942},\n",
       "      {'position': 734, 'start_offset': 1533, 'end_offset': 1534}]},\n",
       "    '프로그램': {'term_freq': 1,\n",
       "     'tokens': [{'position': 431, 'start_offset': 916, 'end_offset': 920}]},\n",
       "    '필요': {'term_freq': 1,\n",
       "     'tokens': [{'position': 7, 'start_offset': 15, 'end_offset': 17}]},\n",
       "    '하': {'term_freq': 45,\n",
       "     'tokens': [{'position': 2, 'start_offset': 6, 'end_offset': 7},\n",
       "      {'position': 8, 'start_offset': 17, 'end_offset': 18},\n",
       "      {'position': 34, 'start_offset': 75, 'end_offset': 76},\n",
       "      {'position': 43, 'start_offset': 91, 'end_offset': 92},\n",
       "      {'position': 67, 'start_offset': 139, 'end_offset': 140},\n",
       "      {'position': 73, 'start_offset': 148, 'end_offset': 149},\n",
       "      {'position': 78, 'start_offset': 155, 'end_offset': 156},\n",
       "      {'position': 98, 'start_offset': 194, 'end_offset': 195},\n",
       "      {'position': 110, 'start_offset': 219, 'end_offset': 220},\n",
       "      {'position': 121, 'start_offset': 243, 'end_offset': 244},\n",
       "      {'position': 158, 'start_offset': 323, 'end_offset': 324},\n",
       "      {'position': 166, 'start_offset': 337, 'end_offset': 338},\n",
       "      {'position': 221, 'start_offset': 467, 'end_offset': 468},\n",
       "      {'position': 227, 'start_offset': 479, 'end_offset': 482},\n",
       "      {'position': 243, 'start_offset': 515, 'end_offset': 518},\n",
       "      {'position': 255, 'start_offset': 539, 'end_offset': 540},\n",
       "      {'position': 263, 'start_offset': 554, 'end_offset': 557},\n",
       "      {'position': 278, 'start_offset': 584, 'end_offset': 585},\n",
       "      {'position': 331, 'start_offset': 692, 'end_offset': 693},\n",
       "      {'position': 351, 'start_offset': 744, 'end_offset': 745},\n",
       "      {'position': 377, 'start_offset': 796, 'end_offset': 797},\n",
       "      {'position': 387, 'start_offset': 833, 'end_offset': 836},\n",
       "      {'position': 411, 'start_offset': 879, 'end_offset': 880},\n",
       "      {'position': 421, 'start_offset': 899, 'end_offset': 900},\n",
       "      {'position': 450, 'start_offset': 965, 'end_offset': 966},\n",
       "      {'position': 461, 'start_offset': 989, 'end_offset': 991},\n",
       "      {'position': 468, 'start_offset': 1002, 'end_offset': 1003},\n",
       "      {'position': 479, 'start_offset': 1027, 'end_offset': 1028},\n",
       "      {'position': 493, 'start_offset': 1055, 'end_offset': 1056},\n",
       "      {'position': 503, 'start_offset': 1074, 'end_offset': 1075},\n",
       "      {'position': 531, 'start_offset': 1133, 'end_offset': 1134},\n",
       "      {'position': 537, 'start_offset': 1144, 'end_offset': 1145},\n",
       "      {'position': 549, 'start_offset': 1170, 'end_offset': 1171},\n",
       "      {'position': 578, 'start_offset': 1227, 'end_offset': 1228},\n",
       "      {'position': 594, 'start_offset': 1256, 'end_offset': 1257},\n",
       "      {'position': 599, 'start_offset': 1264, 'end_offset': 1267},\n",
       "      {'position': 603, 'start_offset': 1270, 'end_offset': 1271},\n",
       "      {'position': 610, 'start_offset': 1281, 'end_offset': 1282},\n",
       "      {'position': 615, 'start_offset': 1289, 'end_offset': 1290},\n",
       "      {'position': 620, 'start_offset': 1297, 'end_offset': 1298},\n",
       "      {'position': 652, 'start_offset': 1361, 'end_offset': 1362},\n",
       "      {'position': 678, 'start_offset': 1417, 'end_offset': 1418},\n",
       "      {'position': 686, 'start_offset': 1434, 'end_offset': 1435},\n",
       "      {'position': 708, 'start_offset': 1476, 'end_offset': 1477},\n",
       "      {'position': 728, 'start_offset': 1517, 'end_offset': 1518}]},\n",
       "    '한': {'term_freq': 6,\n",
       "     'tokens': [{'position': 2, 'start_offset': 6, 'end_offset': 7},\n",
       "      {'position': 73, 'start_offset': 148, 'end_offset': 149},\n",
       "      {'position': 166, 'start_offset': 337, 'end_offset': 338},\n",
       "      {'position': 331, 'start_offset': 692, 'end_offset': 693},\n",
       "      {'position': 503, 'start_offset': 1074, 'end_offset': 1075},\n",
       "      {'position': 615, 'start_offset': 1289, 'end_offset': 1290}]},\n",
       "    '할': {'term_freq': 2,\n",
       "     'tokens': [{'position': 67, 'start_offset': 139, 'end_offset': 140},\n",
       "      {'position': 537, 'start_offset': 1144, 'end_offset': 1145}]},\n",
       "    '할지': {'term_freq': 1,\n",
       "     'tokens': [{'position': 461, 'start_offset': 989, 'end_offset': 991}]},\n",
       "    '함께': {'term_freq': 2,\n",
       "     'tokens': [{'position': 656, 'start_offset': 1367, 'end_offset': 1369},\n",
       "      {'position': 684, 'start_offset': 1430, 'end_offset': 1432}]},\n",
       "    '합니다': {'term_freq': 3,\n",
       "     'tokens': [{'position': 227, 'start_offset': 479, 'end_offset': 482},\n",
       "      {'position': 243, 'start_offset': 515, 'end_offset': 518},\n",
       "      {'position': 263, 'start_offset': 554, 'end_offset': 557}]},\n",
       "    '합리': {'term_freq': 1,\n",
       "     'tokens': [{'position': 491, 'start_offset': 1052, 'end_offset': 1054}]},\n",
       "    '항상': {'term_freq': 1,\n",
       "     'tokens': [{'position': 210, 'start_offset': 441, 'end_offset': 443}]},\n",
       "    '했': {'term_freq': 8,\n",
       "     'tokens': [{'position': 8, 'start_offset': 17, 'end_offset': 18},\n",
       "      {'position': 98, 'start_offset': 194, 'end_offset': 195},\n",
       "      {'position': 411, 'start_offset': 879, 'end_offset': 880},\n",
       "      {'position': 421, 'start_offset': 899, 'end_offset': 900},\n",
       "      {'position': 450, 'start_offset': 965, 'end_offset': 966},\n",
       "      {'position': 468, 'start_offset': 1002, 'end_offset': 1003},\n",
       "      {'position': 578, 'start_offset': 1227, 'end_offset': 1228},\n",
       "      {'position': 620, 'start_offset': 1297, 'end_offset': 1298}]},\n",
       "    '했으며': {'term_freq': 2,\n",
       "     'tokens': [{'position': 387, 'start_offset': 833, 'end_offset': 836},\n",
       "      {'position': 599, 'start_offset': 1264, 'end_offset': 1267}]},\n",
       "    '혁신': {'term_freq': 1,\n",
       "     'tokens': [{'position': 105, 'start_offset': 209, 'end_offset': 211}]},\n",
       "    '현금': {'term_freq': 1,\n",
       "     'tokens': [{'position': 337, 'start_offset': 708, 'end_offset': 710}]},\n",
       "    '협력': {'term_freq': 1,\n",
       "     'tokens': [{'position': 548, 'start_offset': 1168, 'end_offset': 1170}]},\n",
       "    '협업': {'term_freq': 1,\n",
       "     'tokens': [{'position': 694, 'start_offset': 1451, 'end_offset': 1453}]},\n",
       "    '화': {'term_freq': 2,\n",
       "     'tokens': [{'position': 109, 'start_offset': 218, 'end_offset': 219},\n",
       "      {'position': 492, 'start_offset': 1054, 'end_offset': 1055}]},\n",
       "    '화이트': {'term_freq': 1,\n",
       "     'tokens': [{'position': 747, 'start_offset': 1557, 'end_offset': 1560}]},\n",
       "    '화이트보드': {'term_freq': 1,\n",
       "     'tokens': [{'position': 747, 'start_offset': 1557, 'end_offset': 1562}]},\n",
       "    '확신': {'term_freq': 1,\n",
       "     'tokens': [{'position': 707, 'start_offset': 1474, 'end_offset': 1476}]},\n",
       "    '회사': {'term_freq': 6,\n",
       "     'tokens': [{'position': 11, 'start_offset': 23, 'end_offset': 25},\n",
       "      {'position': 200, 'start_offset': 422, 'end_offset': 424},\n",
       "      {'position': 257, 'start_offset': 542, 'end_offset': 544},\n",
       "      {'position': 306, 'start_offset': 639, 'end_offset': 641},\n",
       "      {'position': 475, 'start_offset': 1018, 'end_offset': 1020},\n",
       "      {'position': 557, 'start_offset': 1187, 'end_offset': 1189}]},\n",
       "    '회의': {'term_freq': 1,\n",
       "     'tokens': [{'position': 741, 'start_offset': 1546, 'end_offset': 1548}]},\n",
       "    '효과': {'term_freq': 1,\n",
       "     'tokens': [{'position': 701, 'start_offset': 1464, 'end_offset': 1466}]},\n",
       "    '후': {'term_freq': 2,\n",
       "     'tokens': [{'position': 135, 'start_offset': 267, 'end_offset': 268},\n",
       "      {'position': 742, 'start_offset': 1549, 'end_offset': 1550}]},\n",
       "    '흐름': {'term_freq': 1,\n",
       "     'tokens': [{'position': 338, 'start_offset': 711, 'end_offset': 713}]}}}}}"
      ]
     },
     "execution_count": 97,
     "metadata": {},
     "output_type": "execute_result"
    }
   ],
   "source": [
    "os_client.termvectors(index=new_index_name, id=doc_id, fields='text')"
   ]
  },
  {
   "cell_type": "markdown",
   "metadata": {},
   "source": [
    "### 문서 및 임베딩 확인"
   ]
  },
  {
   "cell_type": "code",
   "execution_count": 98,
   "metadata": {
    "tags": []
   },
   "outputs": [
    {
     "name": "stdout",
     "output_type": "stream",
     "text": [
      "Average length among 10 documents loaded is 1606 characters.\n",
      "After the split we have 10 documents more than the original 10.\n",
      "Average length among 10 documents (after split) is 1606 characters.\n"
     ]
    }
   ],
   "source": [
    "avg_doc_length = lambda documents: sum([len(doc.page_content) for doc in documents])//len(documents)\n",
    "avg_char_count_pre = avg_doc_length(documents)\n",
    "avg_char_count_post = avg_doc_length(docs)\n",
    "print(f'Average length among {len(documents)} documents loaded is {avg_char_count_pre} characters.')\n",
    "print(f'After the split we have {len(docs)} documents more than the original {len(documents)}.')\n",
    "print(f'Average length among {len(docs)} documents (after split) is {avg_char_count_post} characters.')"
   ]
  },
  {
   "cell_type": "code",
   "execution_count": 99,
   "metadata": {
    "tags": []
   },
   "outputs": [
    {
     "name": "stdout",
     "output_type": "stream",
     "text": [
      "docs[0].page_content: \n",
      " CEO로서 두 번째 연례 주주 서한을 작성하기 위해 자리에 앉았을 때 저는 Amazon의 앞날에 대해 낙관적이고 활력을 얻었습니다. 2022년은 최근 기억에 있어 어려운 거시경제적 해 중 하나이고 우리 자체의 운영상의 어려움에도 불구하고 우리는 여전히 수요를 늘릴 방법을 찾았습니다(팬데믹 전반기에 경험한 전례 없는 성장에 더해). 우리는 장단기적으로 고객 경험을 의미 있게 개선하기 위해 대규모 사업을 혁신했습니다. 그리고 고객, 주주 및 직원을 위해 Amazon의 미래를 바꿀 수 있다고 믿는 장기 투자를 계속 유지하면서 투자 결정과 앞으로 나아갈 방법에 중요한 조정을 했습니다.  작년에 이례적인 수의 동시 도전 과제가 있었지만 현실은 유능하고 자금이 충분한 경쟁자가 많은 크고 역동적인 글로벌 시장 부문에서 운영하는 경우(아마존이 모든 비즈니스를 운영하는 조건) 조건이 오랫동안 정체되어 있는 경우는 드뭅니다.  제가 Amazon에 근무한 25년 동안 끊임없는 변화가 있었고 그 중 대부분은 우리가 스스로 시작했습니다. 내가 1997년에 Amazon에 입사했을 때 우리는 1996년에 1,500만 달러의 매출을 올렸고, 도서 전용 소매업체였으며, 제3자 시장이 없었고, 미국 내 주소로만 배송되었습니다. 오늘날 Amazon은 단위 판매의 60%를 차지하고 전 세계 거의 모든 국가의 고객에게 도달하는 활기찬 타사 판매자 에코시스템을 통해 상상할 수 있는 거의 모든 물리적 및 디지털 소매 품목을 판매합니다. 마찬가지로 클라우드에서 일련의 기술 인프라 서비스를 중심으로 비즈니스를 구축하는 것은 AWS를 추구하기 시작한 2003년에는 분명하지 않았으며 2006년 첫 서비스를 출시했을 때도 마찬가지였습니다. 거의 모든 책을 60초 안에 손끝에서 볼 수 있습니다 2007년 Kindle을 출시했을 때 가벼운 디지털 리더에 저장하고 검색할 수 있다는 것은 아직 \"사물\"이 아니었고 Alexa(2014년 출시)와 같이 액세스하는 데 사용할 수 있는 음성 기반 개인 비서도 아니었습니다. 엔터테인먼트, 스마트 홈 제어, 쇼핑 및 모든 종류의 정보 검색.  또한 거시 경제 상황이나 운영 비효율성으로 인해 우리에게 새로운 과제가 제시된 경우도 있었습니다. 예를 들어 2001년 닷컴 폭락 당시 우리는 연휴 기간 동안 재고를 구매하기 위해 신용장을 확보해야 했고 비즈니스의 더 나은 수익성을 제공하기 위해 비용을 합리화해야 했지만 여전히 우리가 노력하고 있던 장기적인 고객 경험과 비즈니스를 우선시했습니다. 빌드(기억한다면, 우리는 실제로 2001년 그 미미한 기간 동안 대부분의 범주에서 가격을 낮췄습니다). 2008-2009년에 모기지 담보 증권 금융 위기로 촉발된 경기 침체를 견디면서 이런 종류의 균형을 다시 보았습니다. 우리는 매장 비즈니스의 비용 구조와 효율성을 관리하기 위해 몇 가지 조치를 취했지만, 주주에게 강력한 수익을 제공하는 실질적인 미래 비즈니스가 될 수 있다고 생각하는 고객 경험에 대한 투자와 이러한 합리화의 균형을 맞췄습니다. 2008년에 AWS는 여전히 상당히 작고 신생 기업이었습니다. 우리는 우리가 무언가를 하고 있다는 것을 알고 있었지만 \n"
     ]
    }
   ],
   "source": [
    "print(\"docs[0].page_content: \\n\", docs[0].page_content)"
   ]
  },
  {
   "cell_type": "code",
   "execution_count": 100,
   "metadata": {
    "tags": []
   },
   "outputs": [
    {
     "name": "stdout",
     "output_type": "stream",
     "text": [
      "Sample embedding of a document chunk:  [ 0.659008   -0.25583404  0.20870858 ...  0.17808053 -0.38402826\n",
      " -0.38531724]\n",
      "Size of the embedding:  (1536,)\n"
     ]
    }
   ],
   "source": [
    "sample_embedding = np.array(bedrock_embeddings.embed_query(docs[0].page_content))\n",
    "print(\"Sample embedding of a document chunk: \", sample_embedding)\n",
    "print(\"Size of the embedding: \", sample_embedding.shape)"
   ]
  },
  {
   "cell_type": "markdown",
   "metadata": {
    "tags": []
   },
   "source": [
    "### Hybrid search\n",
    "\n",
    "LangChain에서 제공하는 Wrapper 클래스를 사용하여 벡터 데이터베이스 저장소를 쿼리하고 관련 문서를 반환할 수 있습니다. 뒤에서는 RetrievalQA 체인만 실행됩니다."
   ]
  },
  {
   "cell_type": "code",
   "execution_count": 101,
   "metadata": {
    "tags": []
   },
   "outputs": [],
   "source": [
    "from utils.rag import OpenSearchHybridSearchRetriever"
   ]
  },
  {
   "cell_type": "code",
   "execution_count": 102,
   "metadata": {
    "tags": []
   },
   "outputs": [],
   "source": [
    "opensearch_hybrid_retriever = OpenSearchHybridSearchRetriever(\n",
    "    os_client=os_client,\n",
    "    vector_db=vector_db,\n",
    "    index_name=new_index_name,\n",
    "    k=5,\n",
    "    fusion_algorithm=\"RRF\", # [\"RRF\", \"simple_weighted\"]\n",
    "    ensemble_weights=[.5, .5], # [lexical, semantic]\n",
    "    verbose=False\n",
    ")"
   ]
  },
  {
   "cell_type": "code",
   "execution_count": 103,
   "metadata": {
    "tags": []
   },
   "outputs": [
    {
     "name": "stdout",
     "output_type": "stream",
     "text": [
      "lexical search query: \n",
      "{'query': {'bool': {'filter': [],\n",
      "                    'must': [{'match': {'text': {'minimum_should_match': '0%',\n",
      "                                                 'operator': 'or',\n",
      "                                                 'query': '아마존은 Generative AI '\n",
      "                                                          '의 전략이 무엇인가요?'}}}]}},\n",
      " 'size': 5}\n",
      "question: 아마존은 Generative AI 의 전략이 무엇인가요?\n",
      "response: [Document(page_content='변화는 그 어느 때보다 낮은 가격으로 더 많은 양의 컴퓨팅 용량에 대한 액세스를 포함하여 몇 가지 요인에 의해 주도되었습니다. Amazon은 25년 동안 기계 학습을 광범위하게 사용해 왔으며 개인화된 전자 상거래 권장 사항부터 주문 처리 센터 선택 경로, Prime Air용 드론, Alexa, AWS가 제공하는 많은 기계 학습 서비스(AWS가 가장 광범위한 기계를 보유한 곳) 모든 클라우드 공급자의 학습 기능 및 고객 기반). 보다 최근에는 GeneraTve AI라고 하는 새로운 형태의 기계 학습이 등장하여 기계 학습 채택을 크게 가속화할 것이라고 약속합니다. 제너레이티브 AI는 매우 큰 언어 모델(최대 천억 개의 매개변수에 대해 훈련되고 계속 증가하고 있음)을 기반으로 하며 광범위한 데이터 세트에 걸쳐 매우 일반적이고 광범위한 리콜 및 학습 기능을 갖추고 있습니다. 우리는 한동안 자체 LLM에 대해 작업해 왔으며 이것이 거의 모든 고객 경험을 변화시키고 개선할 것이라고 믿으며 모든 소비자, 판매자, 브랜드 및 제작자 경험에 걸쳐 이러한 모델에 계속해서 상당한 투자를 할 것입니다. 또한 AWS에서 수년간 해왔듯이 모든 규모의 회사가 제너레이티브 AI를 활용할 수 있도록 이 기술을 민주화하고 있습니다. AWS는 Trainium 및 InferenTa에서 가장 가격 대비 성능이 뛰어난 기계 학습 칩을 제공하므로 소규모 및 대규모 기업이 프로덕션 환경에서 LLM을 교육하고 실행할 수 있습니다. 우리는 회사가 다양한 LLM 중에서 선택하고 고객이 사용하는 데 익숙한 모든 AWS 보안, 개인 정보 보호 및 기타 기능을 갖춘 애플리케이션을 구축할 수 있도록 합니다. 또한 실시간으로 코드 제안을 생성하여 개발자 생산성을 혁신하는 AWS의 CodeWhisperer와 같은 애플리케이션을 제공하고 있습니다. LLM과 GeneraTve AI가 그렇게 변혁적일 것이라고 생각하기 때문에 전체 편지를 쓸 수 있지만 향후 편지로 남겨두겠습니다. LLM과 GeneraTve AI가 고객, 주주 및 Amazon에게 큰 문제가 될 것이라고 가정해 보겠습니다.  그래서 마지막으로 저는 우리가 이 도전적인 거시경제 시대에 진입했을 때보다 더 강력한 위치에서 등장할 것이라고 낙관합니다. 여기에는 몇 가지 이유가 있으며 위에서 많은 이유를 언급했습니다. 그러나 우리의 엄청난 미래 기회를 강조하는 두 가지 비교적 간단한 통계가 있습니다. 우리는 2022년에 4,340억 달러 규모의 소비자 비즈니스를 보유하고 있지만, 전 세계 소매업의 전체 시장 부문 점유율의 대부분은 여전히 물리적 매장에 있습니다(약 80%). 그리고 2022년에 AWS 수익이 800억 달러이고 글로벌 IT 지출의 약 90%가 여전히 온프레미스에 있지만 아직 클라우드로 마이그레이션하지 않는 글로벌 IT 지출에 대한 유사한 이야기입니다. 우리가 이미 보고 있는 것처럼 이러한 방정식이 꾸준히 역전됨에 따라 우리는 선도적인 고객 경험, 끊임없는 발명, 고객 중심 및 노력이 향후 몇 년 동안 상당한 성장을 가져올 것이라고 믿습니다. 그리고 물론 여기에는 Amazon에서 추구하는 다른 비즈니스와 경험이 포함되지 않으며 모두 아직 초기 단계입니다.  저는 우리의 최고의 날이 우리 앞에 와 있다고 굳게 믿으며, 그렇게 되도록 Amazon의 팀원들과 협력하기를 기대합니다. ', metadata={'source': 'rag_data_kr_pdf/2022-Amazon-Stakeholder-Letter-KR.pdf', 'page': 9, 'id': '85684c20-9baf-40d7-a603-34b03319f067'}), Document(page_content='여전히 상당한 자본 투자가 필요했습니다. 회사 안팎에서는 아마존(당시 주로 온라인 소매업체로 알려짐)이 클라우드 컴퓨팅에 많은 투자를 하는 이유에 대해 의문을 제기하는 목소리가 있었습니다. 그러나 우리는 미래에 고객과 아마존을 위해 많은 가치를 창출할 수 있는 특별한 것을 발명하고 있다는 것을 알고 있었습니다. 우리는 잠재적 경쟁자보다 먼저 출발했습니다. 무엇보다 우리는 혁신 속도를 가속화하고 싶었습니다. 우리는 AWS에 계속 투자하기로 장기적인 결정을 내렸습니다. 15년 후 AWS는 이제 신생 기업에서 다국적 기업, 공공 부문 조직에 이르기까지 고객이 기술 인프라를 관리하는 방식을 변화시킨 강력한 수익성을 갖춘 연간 매출 850억 달러 규모의 기업이 되었습니다. 2008-2009년 기간 동안 AWS에 대한 투자를 늦추었다면 Amazon은 다른 회사가 되었을 것입니다.  변화는 항상 가까이에 있습니다. 때로는 적극적으로 초대하고 때로는 그냥 노크합니다. 그러나 그것이 오는 것을 보았을 때, 그것을 받아들여야 합니다. 그리고 장기간에 걸쳐 이를 잘 수행하는 회사는 일반적으로 성공합니다. 나는 우리 팀이 우리 앞에 보이는 변화에 대응하는 방식이 마음에 들기 때문에 우리의 미래 전망에 대해 낙관적입니다.  지난 몇 달 동안 우리는 회사 전체를 비즈니스별로, 발명별로 자세히 살펴보고 각 이니셔티브의 장기적인 잠재력에 대해 충분한 수익, 운영 수입, 무료 현금 흐름, 투자 자본 수익률. 경우에 따라 특정 비즈니스를 폐쇄하게 되었습니다. 예를 들어 우리는 서점 및 4스타 매장과 같은 물리적 매장 개념 추구를 중단하고 Amazon Fabric 및 Amazon Care 노력을 중단했으며 의미 있는 수익을 얻을 수 있는 경로가 보이지 않는 일부 최신 장치에서 전환했습니다. 다른 경우에는 우리가 기대했던 수익을 내지 못하는 일부 프로그램(예: $35 이상의 모든 온라인 식료품 주문에 대한 무료 배송)을 살펴보고 수정했습니다. 우리는 또한 리소스를 어디에 사용할지 우선 순위를 재지정했고, 결국 27,000개의 회사 역할을 제거하는 어려운 결정을 내렸습니다. 전체 비용을 합리화하기 위해 지난 몇 개월 동안 수행한 다른 변경 사항이 많이 있으며 대부분의 리더십 팀과 마찬가지로 비즈니스에서 보고 있는 사항을 계속 평가하고 적응적으로 진행할 것입니다.  우리는 또한 팀으로 어떻게 협력하고 있는지 열심히 살펴보았고 회사 직원들에게 5월부터 일주일에 최소 3일은 사무실로 돌아올 것을 요청했습니다. 팬데믹 기간 동안 우리 직원들은 집에서 일하기 위해 집결했으며 예상치 못한 상황에 대처하기 위해 가능한 모든 일을 했습니다. 그것은 인상적이었고 저는 우리의 집단적 팀이 고객, 지역 사회 및 비즈니스에 대한 전례 없는 도전을 극복하기 위해 함께 모인 방식이 자랑스럽습니다. 그러나 우리는 이것이 최선의 장기적 접근 방식이라고 생각하지 않습니다. 우리는 함께 일하고 직접 서로에게서 배울 때 협업과 발명이 더 쉽고 효과적이라는 것을 확신하게 되었습니다. 서로의 아이디어에 대한 에너지와 반복은 더 자유롭게 발생하며 최고의 Amazon 발명품 중 다수는 사람들이 회의 후 뒤에 남아 화이트보드에서 ', metadata={'source': 'rag_data_kr_pdf/2022-Amazon-Stakeholder-Letter-KR.pdf', 'page': 1, 'id': 'f1f871ae-f6c7-47d1-9060-c48520f83a1f'}), Document(page_content='아이디어를 검토하거나 회의에서 돌아오는 길에 대화를 계속하면서 획기적인 순간을 맞이했습니다. , 또는 다른 생각으로 그날 늦게 팀원의 사무실에 들르는 것. 발명은 종종 지저분합니다. 그것은 방황하고 구불 구불하고 마리 네이드합니다. 뜻밖의 상호 작용이 도움이 되며, 가상으로 하는 것보다 직접 만나는 것이 더 많습니다. 또한 우리가 대부분의 시간을 함께 사무실에 있고 동료들에게 둘러싸여 있을 때 우리 문화를 배우고, 모델링하고, 연습하고, 강화하는 것이 훨씬 더 쉽습니다. 혁신과 우리 고유의 문화는 회사로서 처음 29년 동안 매우 중요했으며 다음 29년에도 마찬가지로 그렇게 될 것으로 기대합니다.  우리가 계속해서 해결해야 할 중요한 문제는 매장 주문 처리 네트워크에서 서비스를 제공하는 데 드는 비용(예: Amazon에서 고객에게 제품을 제공하는 비용)이 증가하는 것입니다. 비용 및 배송 속도.  팬데믹 초기에는 많은 오프라인 매장이 문을 닫았고, 우리 소비자 비즈니스는 놀라운 속도로 성장하여 연간 매출이 2019년 2,450억 달러에서 2022년 4,340억 달러로 증가했습니다. 이는 주문 처리 센터 공간을 두 배로 늘려야 함을 의미했습니다. 지난 25년 동안 우리가 구축한 운송 네트워크를 현재 UPS 크기의 라스트 마일 운송 네트워크 구축을 크게 가속화했습니다(항목이 장거리를 통과해야 할 때 효율성과 속도를 지원하기 위한 새로운 분류 센터 네트워크 포함). 약 2년의 시간 동안. 이것은 쉬운 일이 아니었고 수십만 명의 아마존 사람들이 이것을 실현하기 위해 매우 열심히 일했습니다. 그러나 이러한 변화의 속도와 규모로 인해 의도한 생산성을 얻기 위해서는 많은 최적화가 필요했습니다. 지난 몇 달 동안 우리는 주문 처리 센터 및 운송 네트워크의 모든 프로세스 경로를 면밀히 조사하고 수십 가지 프로세스 및 메커니즘을 재설계하여 지난 몇 분기 동안 꾸준한 생산성 향상과 비용 절감을 가져왔습니다. 해야 할 일이 더 많지만 우리의 궤적과 우리 앞에 있는 의미 있는 상승세에 만족합니다.  우리는 또한 앞으로 수년 동안 더 낮은 비용과 더 빠른 속도를 제공할 수 있도록 더 큰 구조적 변화를 만들기 위해 이 기회를 잡았습니다. 좋은 예는 미국 주문 처리 네트워크가 어떻게 구성되어 있는지 재평가하는 것입니다. 최근까지 아마존은 미국 전역에 퍼져 있는 주문 처리 센터의 재고를 분배하는 하나의 미국 전국 주문 처리 네트워크를 운영했습니다. 지역 주문 처리 센터에 고객이 주문한 제품이 없으면 결국 다른 지역에서 배송하게 되므로 더 많은 비용이 들고 배송 시간이 늘어납니다. 이 문제는 주문 처리 네트워크가 지난 몇 년 동안 수백 개의 추가 노드로 확장되어 더 많은 위치에 재고를 분배하고 주문 처리 센터와 배송 스테이션 노드를 효율적으로 연결하는 복잡성이 증가함에 따라 더욱 두드러졌습니다. 작년에 우리는 재고 배치 전략을 재설계하고 더 큰 주문 처리 센터 공간을 활용하여 전국 주문 처리 네트워크에서 지역화된 네트워크 모델로 이동하기 시작했습니다. 우리는 더 작은 지리적 영역에 8개의 상호 연결된 지역을 만들기 위해 ', metadata={'source': 'rag_data_kr_pdf/2022-Amazon-Stakeholder-Letter-KR.pdf', 'page': 2, 'id': '9fef1662-1317-4ff7-880e-6876c82f3d1f'}), Document(page_content='우리는 광고주가 자신의 브랜드를 구축할 수 있는 최고의 장소가 되기 위해 노력합니다. 우리는 그 임무를 달성하는 데 도움이 될 장단기 기회를 가지고 있습니다. 우리는 광고 선택 알고리즘을 계속 연마하기 위해 기계 학습에 많은 투자를 계속하고 있습니다. 지난 몇 년 동안 우리는 포괄적이고 유연하며 내구성 있는 계획 및 측정 솔루션을 구축하는 데 투자하여 마케터에게 광고 효과에 대한 더 큰 통찰력을 제공했습니다. 예를 들어 Amazon MarkeTng Cloud(\"AMC\")가 있습니다. AMC는 광고주가 개인정보를 보호하는 방식으로 자사 및 제3자 입력 범위에서 맞춤 잠재고객 및 캠페인 분석을 실행하여 광고 및 비즈니스 통찰력을 생성하여 광범위한 마케팅 및 판매 전략. 광고 팀과 AWS 팀은 기업이 데이터를 AWS에 저장하고, Amazon 및 기타 타사 데이터 소스와 함께 AMC에서 안전하게 운영하고, AWS에서 분석을 수행하고, Amazon 또는 타사 게시자에서 광고를 활성화할 수 있는 옵션을 갖도록 협력했습니다. Amazon 수요 측 플랫폼을 통해. 고객은 이러한 공동 기능을 정말 좋아합니다. 우리는 또한 광고를 비디오, 라이브 스포츠, 오디오 및 식료품 제품에 신중하게 통합할 미래의 기회를 봅니다. 우리는 브랜드가 적절한 고객과 독특하게 소통하고 비즈니스의 이 부분을 성장시킬 수 있도록 계속 열심히 노력할 것입니다.  격동의 시기에 기존 대기업에만 집중하고 다양한 차원에서 고객을 지원하는 지속 가능하고 오래 지속되며 성장하는 회사를 구축하려는 유혹이 있지만 장기적인 고객 경험을 개발하고 작업하는 것을 멈출 수는 없습니다. 고객과 회사에 의미 있는 영향을 미칠 수 있습니다.  새로운 투자 기회를 모색할 때 다음과 같은 몇 가지 질문을 스스로에게 던집니다.  우리가 성공한다면 규모가 크고 투자 자본에 대한 합리적인 수익을 낼 수 있을까요? 오늘 기회가 잘 제공되고 있습니까? 차별화된 접근 방식이 있습니까? 그리고, 우리는 그 분야에 대한 역량을 가지고 있습니까? 그렇지 않다면 빨리 획득할 수 있습니까? 이러한 질문에 대한 답변이 마음에 들면 투자할 것입니다. 이 과정은 간단해 보이는 일부 확장과 일부 사람들이 처음에 추측하지 못한 확장으로 이어졌습니다.  가장 초기의 예는 단순히 책을 판매하는 것에서 음악, 비디오, 전자 제품 및 장난감과 같은 범주를 추가하는 것으로 확장하기로 선택한 경우입니다. 그 당시(1998-1999)에는 보편적인 박수갈채를 받지 못했지만 돌이켜보면 꽤 분명한 것 같습니다.  해외 매장 확장에 대해서도 마찬가지입니다. 2022년에 우리의 국제 소비자 부문은 1,180억 달러의 수익을 창출했습니다. 더 크고 확립된 국제 소비자 비즈니스에서 우리는 거시경제 상황 둔화의 영향을 받을 만큼 충분히 큽니다. 그러나 2019-2021년에는 영국의 30%, 독일의 26%, 일본의 21%(FX 영향 제외)의 복합 연간 성장률(“CAGR”)로 큰 규모에서 놀라운 성장을 보였습니다. 지난 몇 ', metadata={'source': 'rag_data_kr_pdf/2022-Amazon-Stakeholder-Letter-KR.pdf', 'page': 5}), Document(page_content='AWS로 이전하는 것을 선호하는 기업이 점점 더 많아지고 있습니다. 효율성 및 보안 이점. 그리고 고객에게 가장 중요한 것은 AWS가 계속해서 새로운 기능을 신속하게 제공하고(2022년에 출시된 3,300개 이상의 새로운 기능 및 서비스) 가능한 것을 변화시키는 장기적인 발명에 투자한다는 것입니다.  칩 개발이 좋은 예입니다. 작년 편지에서 저는 Graviton이라는 범용 CPU 프로세서에 대한 투자에 대해 언급했습니다. Graviton2 기반 컴퓨팅 인스턴스는 비슷한 최신 세대 x86 기반 인스턴스보다 최대 40% 더 나은 가격 대비 성능을 제공합니다. 2022년에는 Graviton2 프로세서보다 25% 향상된 성능을 제공하는 Graviton3 칩을 제공했습니다. 또한 기계 학습 채택이 지속적으로 가속화됨에 따라 고객은 저렴한 GPU(기계 학습에 가장 일반적으로 사용되는 칩)를 원했습니다. AWS는 몇 년 전부터 기계 학습 훈련 및 추론을 위한 이러한 특수 칩에 투자하기 시작했습니다(추론은 기계 학습 모델이 제공하는 예측 또는 답변입니다). 우리는 2022년에 첫 번째 교육용 칩(\"Trainium\")을 제공했습니다. 가장 일반적인 기계 학습 모델의 경우 Trainium 기반 인스턴스는 GPU 기반 인스턴스보다 최대 70% 더 저렴한 비용으로 최대 140% 더 빠릅니다. 대부분의 회사는 아직 교육 단계에 있지만 대규모 생산으로 전환되는 모델을 개발함에 따라 모델은 주기적으로 교육되는 반면 추론은 관련 응용 프로그램으로 항상 발생하기 때문에 대부분의 비용이 추론에 있음을 알게 될 것입니다. 행사중입니다. 우리는 2019년에 첫 번째 추론 칩(\"InferenTa\")을 출시했으며 Amazon과 같은 회사는 이미 1억 달러 이상의 자본 비용을 절감했습니다. 방금 출시된 InferenTa2 칩은 첫 번째 InferenTa 프로세서보다 최대 4배 더 높은 처리량과 10배 더 짧은 대기 시간을 제공합니다. 기계 학습의 엄청난 성장으로 인해 고객은 훨씬 저렴한 비용으로 AWS의 교육 및 추론 칩을 사용하여 훨씬 더 많은 작업을 수행할 수 있습니다. 여기서 혁신이 거의 완료되지 않았으며 이 장기 투자는 고객과 AWS 모두에게 유익한 것으로 입증되어야 합니다. AWS는 아직 진화의 초기 단계에 있으며 향후 10년 동안 비정상적으로 성장할 가능성이 있습니다.  마찬가지로 높은 잠재력을 지닌 Amazon의 광고 비즈니스는 브랜드에 고유한 효과를 발휘하며, 이는 계속해서 빠른 속도로 성장하는 이유 중 하나입니다. 선반 공간, 엔드 캡, 원형 배치를 판매하는 물리적 소매업체의 광고 사업과 유사하게, 당사가 후원하는 제품 및 브랜드 제품은 10년 이상 아마존 쇼핑 경험의 필수적인 부분이었습니다. 그러나 실제 소매업체와 달리 Amazon은 쇼핑 행동에 대해 알고 있는 것과 기계 학습 알고리즘에 대한 우리의 매우 깊은 투자를 고려할 때 이러한 후원 제품을 고객이 검색하는 것과 관련이 있도록 조정할 수 있습니다. 이는 고객에게 더 유용한 광고로 이어집니다. 결과적으로 브랜드에 더 나은 성능을 제공합니다. 이것이 우리의 광고 수익이 지난 2022년 4분기에 23% YoY , 310억 달러 수익 기반에서 2022년에 전체적으로 25% YoY 성장을 지속한 이유 중 하나입니다. 몇 분기.  ', metadata={'source': 'rag_data_kr_pdf/2022-Amazon-Stakeholder-Letter-KR.pdf', 'page': 4})] 5\n"
     ]
    }
   ],
   "source": [
    "query = \"아마존은 Generative AI 의 전략이 무엇인가요?\"\n",
    "search_hybrid_result = opensearch_hybrid_retriever.get_relevant_documents(query)\n",
    "\n",
    "print(f'question: {query}')\n",
    "print(f'response: {search_hybrid_result}', len(search_hybrid_result))"
   ]
  },
  {
   "cell_type": "markdown",
   "metadata": {},
   "source": [
    "하이브리드(lexical + semantic) 검색이 어떻게 작동하는지 살펴보겠습니다.\n",
    "1. 먼저 쿼리에 대한 임베딩 벡터를 계산하고\n",
    "2. 그런 다음 이 벡터를 사용하여 벡터 스토어에서 유사성 검색을 수행한다.\n",
    "3. document 풀을 기반으로 쿼리에 대한 full text 검색을 수행한다.\n",
    "4. 두가지 결과를 바탕으로 re-ranking을 한다.\n",
    "5. 결과를 반환한다."
   ]
  },
  {
   "cell_type": "code",
   "execution_count": 104,
   "metadata": {
    "tags": []
   },
   "outputs": [
    {
     "name": "stdout",
     "output_type": "stream",
     "text": [
      "[0.765625, -0.59375, -0.08300781, -0.29296875, 0.86328125, -0.19140625, 0.06542969, -0.00034332275, -1.2109375, -0.578125] 1536\n",
      "변화는 그 어느 때보다 낮은 가격으로 더 많은 양의 컴퓨팅 용량에 대한 액세스를 포함하여 몇 가지 요인에 의해 주도되었습니다. Amazon은 25년 동안 기계 학습을 광범위하게\n",
      "사용해 왔으며 개인화된 전자 상거래 권장 사항부터 주문 처리 센터 선택 경로, Prime Air용 드론, Alexa, AWS가 제공하는 많은 기계 학습 서비스(AWS가 가장\n",
      "광범위한 기계를 보유한 곳) 모든 클라우드 공급자의 학습 기능 및 고객 기반). 보다 최근에는 GeneraTve AI라고 하는 새로운 형태의 기계 학습이 등장하여 기계 학습 채택을\n",
      "크게 가속화할 것이라고 약속합니다. 제너레이티브 AI는 매우 큰 언어 모델(최대 천억 개의 매개변수에 대해 훈련되고 계속 증가하고 있음)을 기반으로 하며 광범위한 데이터 세트에\n",
      "걸쳐 매우 일반적이고 광범위한 리콜 및 학습 기능을 갖추고 있습니다. 우리는 한동안 자체 LLM에 대해 작업해 왔으며 이것이 거의 모든 고객 경험을 변화시키고 개선할 것이라고\n",
      "믿으며 모든 소비자, 판매자, 브랜드 및 제작자 경험에 걸쳐 이러한 모델에 계속해서 상당한 투자를 할 것입니다. 또한 AWS에서 수년간 해왔듯이 모든 규모의 회사가 제너레이티브\n",
      "AI를 활용할 수 있도록 이 기술을 민주화하고 있습니다. AWS는 Trainium 및 InferenTa에서 가장 가격 대비 성능이 뛰어난 기계 학습 칩을 제공하므로 소규모 및\n",
      "대규모 기업이 프로덕션 환경에서 LLM을 교육하고 실행할 수 있습니다. 우리는 회사가 다양한 LLM 중에서 선택하고 고객이 사용하는 데 익숙한 모든 AWS 보안, 개인 정보 보호\n",
      "및 기타 기능을 갖춘 애플리케이션을 구축할 수 있도록 합니다. 또한 실시간으로 코드 제안을 생성하여 개발자 생산성을 혁신하는 AWS의 CodeWhisperer와 같은 애플리케이션을\n",
      "제공하고 있습니다. LLM과 GeneraTve AI가 그렇게 변혁적일 것이라고 생각하기 때문에 전체 편지를 쓸 수 있지만 향후 편지로 남겨두겠습니다. LLM과 GeneraTve\n",
      "AI가 고객, 주주 및 Amazon에게 큰 문제가 될 것이라고 가정해 보겠습니다.  그래서 마지막으로 저는 우리가 이 도전적인 거시경제 시대에 진입했을 때보다 더 강력한 위치에서\n",
      "등장할 것이라고 낙관합니다. 여기에는 몇 가지 이유가 있으며 위에서 많은 이유를 언급했습니다. 그러나 우리의 엄청난 미래 기회를 강조하는 두 가지 비교적 간단한 통계가 있습니다.\n",
      "우리는 2022년에 4,340억 달러 규모의 소비자 비즈니스를 보유하고 있지만, 전 세계 소매업의 전체 시장 부문 점유율의 대부분은 여전히 물리적 매장에 있습니다(약 80%).\n",
      "그리고 2022년에 AWS 수익이 800억 달러이고 글로벌 IT 지출의 약 90%가 여전히 온프레미스에 있지만 아직 클라우드로 마이그레이션하지 않는 글로벌 IT 지출에 대한 유사한\n",
      "이야기입니다. 우리가 이미 보고 있는 것처럼 이러한 방정식이 꾸준히 역전됨에 따라 우리는 선도적인 고객 경험, 끊임없는 발명, 고객 중심 및 노력이 향후 몇 년 동안 상당한 성장을\n",
      "가져올 것이라고 믿습니다. 그리고 물론 여기에는 Amazon에서 추구하는 다른 비즈니스와 경험이 포함되지 않으며 모두 아직 초기 단계입니다.  저는 우리의 최고의 날이 우리 앞에\n",
      "와 있다고 굳게 믿으며, 그렇게 되도록 Amazon의 팀원들과 협력하기를 기대합니다.\n",
      "----\n",
      "여전히 상당한 자본 투자가 필요했습니다. 회사 안팎에서는 아마존(당시 주로 온라인 소매업체로 알려짐)이 클라우드 컴퓨팅에 많은 투자를 하는 이유에 대해 의문을 제기하는 목소리가\n",
      "있었습니다. 그러나 우리는 미래에 고객과 아마존을 위해 많은 가치를 창출할 수 있는 특별한 것을 발명하고 있다는 것을 알고 있었습니다. 우리는 잠재적 경쟁자보다 먼저 출발했습니다.\n",
      "무엇보다 우리는 혁신 속도를 가속화하고 싶었습니다. 우리는 AWS에 계속 투자하기로 장기적인 결정을 내렸습니다. 15년 후 AWS는 이제 신생 기업에서 다국적 기업, 공공 부문\n",
      "조직에 이르기까지 고객이 기술 인프라를 관리하는 방식을 변화시킨 강력한 수익성을 갖춘 연간 매출 850억 달러 규모의 기업이 되었습니다. 2008-2009년 기간 동안 AWS에\n",
      "대한 투자를 늦추었다면 Amazon은 다른 회사가 되었을 것입니다.  변화는 항상 가까이에 있습니다. 때로는 적극적으로 초대하고 때로는 그냥 노크합니다. 그러나 그것이 오는 것을\n",
      "보았을 때, 그것을 받아들여야 합니다. 그리고 장기간에 걸쳐 이를 잘 수행하는 회사는 일반적으로 성공합니다. 나는 우리 팀이 우리 앞에 보이는 변화에 대응하는 방식이 마음에 들기\n",
      "때문에 우리의 미래 전망에 대해 낙관적입니다.  지난 몇 달 동안 우리는 회사 전체를 비즈니스별로, 발명별로 자세히 살펴보고 각 이니셔티브의 장기적인 잠재력에 대해 충분한 수익,\n",
      "운영 수입, 무료 현금 흐름, 투자 자본 수익률. 경우에 따라 특정 비즈니스를 폐쇄하게 되었습니다. 예를 들어 우리는 서점 및 4스타 매장과 같은 물리적 매장 개념 추구를 중단하고\n",
      "Amazon Fabric 및 Amazon Care 노력을 중단했으며 의미 있는 수익을 얻을 수 있는 경로가 보이지 않는 일부 최신 장치에서 전환했습니다. 다른 경우에는 우리가\n",
      "기대했던 수익을 내지 못하는 일부 프로그램(예: $35 이상의 모든 온라인 식료품 주문에 대한 무료 배송)을 살펴보고 수정했습니다. 우리는 또한 리소스를 어디에 사용할지 우선\n",
      "순위를 재지정했고, 결국 27,000개의 회사 역할을 제거하는 어려운 결정을 내렸습니다. 전체 비용을 합리화하기 위해 지난 몇 개월 동안 수행한 다른 변경 사항이 많이 있으며\n",
      "대부분의 리더십 팀과 마찬가지로 비즈니스에서 보고 있는 사항을 계속 평가하고 적응적으로 진행할 것입니다.  우리는 또한 팀으로 어떻게 협력하고 있는지 열심히 살펴보았고 회사\n",
      "직원들에게 5월부터 일주일에 최소 3일은 사무실로 돌아올 것을 요청했습니다. 팬데믹 기간 동안 우리 직원들은 집에서 일하기 위해 집결했으며 예상치 못한 상황에 대처하기 위해 가능한\n",
      "모든 일을 했습니다. 그것은 인상적이었고 저는 우리의 집단적 팀이 고객, 지역 사회 및 비즈니스에 대한 전례 없는 도전을 극복하기 위해 함께 모인 방식이 자랑스럽습니다. 그러나\n",
      "우리는 이것이 최선의 장기적 접근 방식이라고 생각하지 않습니다. 우리는 함께 일하고 직접 서로에게서 배울 때 협업과 발명이 더 쉽고 효과적이라는 것을 확신하게 되었습니다. 서로의\n",
      "아이디어에 대한 에너지와 반복은 더 자유롭게 발생하며 최고의 Amazon 발명품 중 다수는 사람들이 회의 후 뒤에 남아 화이트보드에서\n",
      "----\n",
      "아이디어를 검토하거나 회의에서 돌아오는 길에 대화를 계속하면서 획기적인 순간을 맞이했습니다. , 또는 다른 생각으로 그날 늦게 팀원의 사무실에 들르는 것. 발명은 종종\n",
      "지저분합니다. 그것은 방황하고 구불 구불하고 마리 네이드합니다. 뜻밖의 상호 작용이 도움이 되며, 가상으로 하는 것보다 직접 만나는 것이 더 많습니다. 또한 우리가 대부분의 시간을\n",
      "함께 사무실에 있고 동료들에게 둘러싸여 있을 때 우리 문화를 배우고, 모델링하고, 연습하고, 강화하는 것이 훨씬 더 쉽습니다. 혁신과 우리 고유의 문화는 회사로서 처음 29년 동안\n",
      "매우 중요했으며 다음 29년에도 마찬가지로 그렇게 될 것으로 기대합니다.  우리가 계속해서 해결해야 할 중요한 문제는 매장 주문 처리 네트워크에서 서비스를 제공하는 데 드는\n",
      "비용(예: Amazon에서 고객에게 제품을 제공하는 비용)이 증가하는 것입니다. 비용 및 배송 속도.  팬데믹 초기에는 많은 오프라인 매장이 문을 닫았고, 우리 소비자 비즈니스는\n",
      "놀라운 속도로 성장하여 연간 매출이 2019년 2,450억 달러에서 2022년 4,340억 달러로 증가했습니다. 이는 주문 처리 센터 공간을 두 배로 늘려야 함을 의미했습니다.\n",
      "지난 25년 동안 우리가 구축한 운송 네트워크를 현재 UPS 크기의 라스트 마일 운송 네트워크 구축을 크게 가속화했습니다(항목이 장거리를 통과해야 할 때 효율성과 속도를 지원하기\n",
      "위한 새로운 분류 센터 네트워크 포함). 약 2년의 시간 동안. 이것은 쉬운 일이 아니었고 수십만 명의 아마존 사람들이 이것을 실현하기 위해 매우 열심히 일했습니다. 그러나 이러한\n",
      "변화의 속도와 규모로 인해 의도한 생산성을 얻기 위해서는 많은 최적화가 필요했습니다. 지난 몇 달 동안 우리는 주문 처리 센터 및 운송 네트워크의 모든 프로세스 경로를 면밀히\n",
      "조사하고 수십 가지 프로세스 및 메커니즘을 재설계하여 지난 몇 분기 동안 꾸준한 생산성 향상과 비용 절감을 가져왔습니다. 해야 할 일이 더 많지만 우리의 궤적과 우리 앞에 있는\n",
      "의미 있는 상승세에 만족합니다.  우리는 또한 앞으로 수년 동안 더 낮은 비용과 더 빠른 속도를 제공할 수 있도록 더 큰 구조적 변화를 만들기 위해 이 기회를 잡았습니다. 좋은\n",
      "예는 미국 주문 처리 네트워크가 어떻게 구성되어 있는지 재평가하는 것입니다. 최근까지 아마존은 미국 전역에 퍼져 있는 주문 처리 센터의 재고를 분배하는 하나의 미국 전국 주문 처리\n",
      "네트워크를 운영했습니다. 지역 주문 처리 센터에 고객이 주문한 제품이 없으면 결국 다른 지역에서 배송하게 되므로 더 많은 비용이 들고 배송 시간이 늘어납니다. 이 문제는 주문 처리\n",
      "네트워크가 지난 몇 년 동안 수백 개의 추가 노드로 확장되어 더 많은 위치에 재고를 분배하고 주문 처리 센터와 배송 스테이션 노드를 효율적으로 연결하는 복잡성이 증가함에 따라 더욱\n",
      "두드러졌습니다. 작년에 우리는 재고 배치 전략을 재설계하고 더 큰 주문 처리 센터 공간을 활용하여 전국 주문 처리 네트워크에서 지역화된 네트워크 모델로 이동하기 시작했습니다.\n",
      "우리는 더 작은 지리적 영역에 8개의 상호 연결된 지역을 만들기 위해\n",
      "----\n",
      "우리는 광고주가 자신의 브랜드를 구축할 수 있는 최고의 장소가 되기 위해 노력합니다. 우리는 그 임무를 달성하는 데 도움이 될 장단기 기회를 가지고 있습니다. 우리는 광고 선택\n",
      "알고리즘을 계속 연마하기 위해 기계 학습에 많은 투자를 계속하고 있습니다. 지난 몇 년 동안 우리는 포괄적이고 유연하며 내구성 있는 계획 및 측정 솔루션을 구축하는 데 투자하여\n",
      "마케터에게 광고 효과에 대한 더 큰 통찰력을 제공했습니다. 예를 들어 Amazon MarkeTng Cloud(\"AMC\")가 있습니다. AMC는 광고주가 개인정보를 보호하는 방식으로\n",
      "자사 및 제3자 입력 범위에서 맞춤 잠재고객 및 캠페인 분석을 실행하여 광고 및 비즈니스 통찰력을 생성하여 광범위한 마케팅 및 판매 전략. 광고 팀과 AWS 팀은 기업이 데이터를\n",
      "AWS에 저장하고, Amazon 및 기타 타사 데이터 소스와 함께 AMC에서 안전하게 운영하고, AWS에서 분석을 수행하고, Amazon 또는 타사 게시자에서 광고를 활성화할 수\n",
      "있는 옵션을 갖도록 협력했습니다. Amazon 수요 측 플랫폼을 통해. 고객은 이러한 공동 기능을 정말 좋아합니다. 우리는 또한 광고를 비디오, 라이브 스포츠, 오디오 및 식료품\n",
      "제품에 신중하게 통합할 미래의 기회를 봅니다. 우리는 브랜드가 적절한 고객과 독특하게 소통하고 비즈니스의 이 부분을 성장시킬 수 있도록 계속 열심히 노력할 것입니다.  격동의\n",
      "시기에 기존 대기업에만 집중하고 다양한 차원에서 고객을 지원하는 지속 가능하고 오래 지속되며 성장하는 회사를 구축하려는 유혹이 있지만 장기적인 고객 경험을 개발하고 작업하는 것을\n",
      "멈출 수는 없습니다. 고객과 회사에 의미 있는 영향을 미칠 수 있습니다.  새로운 투자 기회를 모색할 때 다음과 같은 몇 가지 질문을 스스로에게 던집니다.  우리가 성공한다면\n",
      "규모가 크고 투자 자본에 대한 합리적인 수익을 낼 수 있을까요? 오늘 기회가 잘 제공되고 있습니까? 차별화된 접근 방식이 있습니까? 그리고, 우리는 그 분야에 대한 역량을 가지고\n",
      "있습니까? 그렇지 않다면 빨리 획득할 수 있습니까? 이러한 질문에 대한 답변이 마음에 들면 투자할 것입니다. 이 과정은 간단해 보이는 일부 확장과 일부 사람들이 처음에 추측하지\n",
      "못한 확장으로 이어졌습니다.  가장 초기의 예는 단순히 책을 판매하는 것에서 음악, 비디오, 전자 제품 및 장난감과 같은 범주를 추가하는 것으로 확장하기로 선택한 경우입니다. 그\n",
      "당시(1998-1999)에는 보편적인 박수갈채를 받지 못했지만 돌이켜보면 꽤 분명한 것 같습니다.  해외 매장 확장에 대해서도 마찬가지입니다. 2022년에 우리의 국제 소비자\n",
      "부문은 1,180억 달러의 수익을 창출했습니다. 더 크고 확립된 국제 소비자 비즈니스에서 우리는 거시경제 상황 둔화의 영향을 받을 만큼 충분히 큽니다. 그러나\n",
      "2019-2021년에는 영국의 30%, 독일의 26%, 일본의 21%(FX 영향 제외)의 복합 연간 성장률(“CAGR”)로 큰 규모에서 놀라운 성장을 보였습니다. 지난 몇\n",
      "----\n",
      "AWS로 이전하는 것을 선호하는 기업이 점점 더 많아지고 있습니다. 효율성 및 보안 이점. 그리고 고객에게 가장 중요한 것은 AWS가 계속해서 새로운 기능을 신속하게\n",
      "제공하고(2022년에 출시된 3,300개 이상의 새로운 기능 및 서비스) 가능한 것을 변화시키는 장기적인 발명에 투자한다는 것입니다.  칩 개발이 좋은 예입니다. 작년 편지에서\n",
      "저는 Graviton이라는 범용 CPU 프로세서에 대한 투자에 대해 언급했습니다. Graviton2 기반 컴퓨팅 인스턴스는 비슷한 최신 세대 x86 기반 인스턴스보다 최대 40%\n",
      "더 나은 가격 대비 성능을 제공합니다. 2022년에는 Graviton2 프로세서보다 25% 향상된 성능을 제공하는 Graviton3 칩을 제공했습니다. 또한 기계 학습 채택이\n",
      "지속적으로 가속화됨에 따라 고객은 저렴한 GPU(기계 학습에 가장 일반적으로 사용되는 칩)를 원했습니다. AWS는 몇 년 전부터 기계 학습 훈련 및 추론을 위한 이러한 특수 칩에\n",
      "투자하기 시작했습니다(추론은 기계 학습 모델이 제공하는 예측 또는 답변입니다). 우리는 2022년에 첫 번째 교육용 칩(\"Trainium\")을 제공했습니다. 가장 일반적인 기계\n",
      "학습 모델의 경우 Trainium 기반 인스턴스는 GPU 기반 인스턴스보다 최대 70% 더 저렴한 비용으로 최대 140% 더 빠릅니다. 대부분의 회사는 아직 교육 단계에 있지만\n",
      "대규모 생산으로 전환되는 모델을 개발함에 따라 모델은 주기적으로 교육되는 반면 추론은 관련 응용 프로그램으로 항상 발생하기 때문에 대부분의 비용이 추론에 있음을 알게 될 것입니다.\n",
      "행사중입니다. 우리는 2019년에 첫 번째 추론 칩(\"InferenTa\")을 출시했으며 Amazon과 같은 회사는 이미 1억 달러 이상의 자본 비용을 절감했습니다. 방금 출시된\n",
      "InferenTa2 칩은 첫 번째 InferenTa 프로세서보다 최대 4배 더 높은 처리량과 10배 더 짧은 대기 시간을 제공합니다. 기계 학습의 엄청난 성장으로 인해 고객은 훨씬\n",
      "저렴한 비용으로 AWS의 교육 및 추론 칩을 사용하여 훨씬 더 많은 작업을 수행할 수 있습니다. 여기서 혁신이 거의 완료되지 않았으며 이 장기 투자는 고객과 AWS 모두에게 유익한\n",
      "것으로 입증되어야 합니다. AWS는 아직 진화의 초기 단계에 있으며 향후 10년 동안 비정상적으로 성장할 가능성이 있습니다.  마찬가지로 높은 잠재력을 지닌 Amazon의 광고\n",
      "비즈니스는 브랜드에 고유한 효과를 발휘하며, 이는 계속해서 빠른 속도로 성장하는 이유 중 하나입니다. 선반 공간, 엔드 캡, 원형 배치를 판매하는 물리적 소매업체의 광고 사업과\n",
      "유사하게, 당사가 후원하는 제품 및 브랜드 제품은 10년 이상 아마존 쇼핑 경험의 필수적인 부분이었습니다. 그러나 실제 소매업체와 달리 Amazon은 쇼핑 행동에 대해 알고 있는\n",
      "것과 기계 학습 알고리즘에 대한 우리의 매우 깊은 투자를 고려할 때 이러한 후원 제품을 고객이 검색하는 것과 관련이 있도록 조정할 수 있습니다. 이는 고객에게 더 유용한 광고로\n",
      "이어집니다. 결과적으로 브랜드에 더 나은 성능을 제공합니다. 이것이 우리의 광고 수익이 지난 2022년 4분기에 23% YoY , 310억 달러 수익 기반에서 2022년에\n",
      "전체적으로 25% YoY 성장을 지속한 이유 중 하나입니다. 몇 분기.\n",
      "----\n"
     ]
    }
   ],
   "source": [
    "v = bedrock_embeddings.embed_query(query)\n",
    "print(v[0:10], len(v))\n",
    "for r in search_hybrid_result:\n",
    "    print_ww(r.page_content)\n",
    "    print('----')"
   ]
  },
  {
   "cell_type": "markdown",
   "metadata": {
    "tags": []
   },
   "source": [
    "### 메모리\n",
    "모든 챗봇에는 사용 사례에 따라 맞춤화된 다양한 옵션을 갖춘 QA 체인이 필요합니다. 그러나 챗봇에서는 모델이 답변을 제공하기 위해 이를 고려할 수 있도록 항상 대화 기록을 보관해야 합니다. 이 예에서는 대화 기록을 유지하기 위해 ConversationBufferMemory와 함께 LangChain의 [ConversationalRetrievalChain](https://python.langchain.com/docs/modules/chains/popular/chat_Vector_db)을 사용합니다.\n",
    "\n",
    "출처: https://python.langchain.com/docs/modules/chains/popular/chat_Vector_db\n",
    "\n",
    "뒤에서 무슨 일이 일어나고 있는지 모두 보려면 'verbose'를 'True'로 설정하세요."
   ]
  },
  {
   "cell_type": "code",
   "execution_count": 105,
   "metadata": {
    "tags": []
   },
   "outputs": [],
   "source": [
    "from langchain.chains.conversational_retrieval.prompts import CONDENSE_QUESTION_PROMPT"
   ]
  },
  {
   "cell_type": "code",
   "execution_count": 106,
   "metadata": {
    "tags": []
   },
   "outputs": [
    {
     "name": "stdout",
     "output_type": "stream",
     "text": [
      "Given the following conversation and a follow up question, rephrase the follow up question to be a standalone question, in its original language.\n",
      "\n",
      "Chat History:\n",
      "{chat_history}\n",
      "Follow Up Input: {question}\n",
      "Standalone question:\n"
     ]
    }
   ],
   "source": [
    "print (CONDENSE_QUESTION_PROMPT.template)"
   ]
  },
  {
   "cell_type": "markdown",
   "metadata": {},
   "source": [
    "### ConversationRetrievalChain에 사용되는 매개변수\n",
    "* **retriever**: 우리는 `OpenSearch`를 기반으로 customization한 `OpenSearchHybridSearchRetriever`를 사용했습니다. 이것은 `OpenSearch`를 이용하여 주어진 `query`에 대한 `lexical`, `sematic` search를 기반으로 최종 후보 context 를 선택해 줍니다.\n",
    "\n",
    "* **메모리**: 이력을 저장하는 메모리 체인\n",
    "\n",
    "* **condense_question_prompt**: 사용자의 질문이 주어지면 이전 대화와 해당 질문을 사용하여 독립형 질문을 구성합니다.\n",
    "\n",
    "* **chain_type**: 채팅 기록이 길고 상황에 맞지 않는 경우 이 매개변수를 사용하고 옵션은 `stuff`, `refine`, `map_reduce`, `map-rerank`입니다.\n",
    "\n",
    "질문이 컨텍스트 범위를 벗어나면 모델은 답을 모른다고 대답합니다.\n",
    "\n",
    "**참고**: 체인이 어떻게 작동하는지 궁금하다면 `verbose=True` 줄의 주석 처리를 해제하세요."
   ]
  },
  {
   "cell_type": "code",
   "execution_count": 107,
   "metadata": {
    "tags": []
   },
   "outputs": [],
   "source": [
    "# turn verbose to true to see the full logs and documents\n",
    "from langchain.chains import ConversationalRetrievalChain\n",
    "from langchain.memory import ConversationBufferMemory"
   ]
  },
  {
   "cell_type": "code",
   "execution_count": 108,
   "metadata": {
    "tags": []
   },
   "outputs": [],
   "source": [
    "llm_text = Bedrock(\n",
    "    model_id=bedrock_info.get_model_id(model_name=\"Claude-V2\"),\n",
    "    client=boto3_bedrock,\n",
    "    model_kwargs={\n",
    "        \"max_tokens_to_sample\": 1000,\n",
    "        \"temperature\": 0,\n",
    "        \"top_k\": 250,\n",
    "        \"top_p\": 0.999,\n",
    "        \"stop_sequences\": [\"\\n\\nHuman:\"]\n",
    "    },\n",
    "    streaming=True,\n",
    "    callbacks=[StreamingStdOutCallbackHandler()],\n",
    ")"
   ]
  },
  {
   "cell_type": "code",
   "execution_count": 109,
   "metadata": {
    "tags": []
   },
   "outputs": [],
   "source": [
    "# turn verbose to true to see the full logs and documents\n",
    "from langchain.schema import BaseMessage\n",
    "from langchain.chains import ConversationalRetrievalChain"
   ]
  },
  {
   "cell_type": "code",
   "execution_count": 110,
   "metadata": {
    "tags": []
   },
   "outputs": [],
   "source": [
    "# We are also providing a different chat history retriever which outputs the history as a Claude chat (ie including the \\n\\n)\n",
    "_ROLE_MAP = {\"human\": \"\\n\\nUser: \", \"ai\": \"\\n\\nAI: \"}\n",
    "def _get_chat_history(chat_history):\n",
    "    buffer = \"\"\n",
    "    for dialogue_turn in chat_history:\n",
    "        if isinstance(dialogue_turn, BaseMessage):\n",
    "            role_prefix = _ROLE_MAP.get(dialogue_turn.type, f\"{dialogue_turn.type}: \")\n",
    "            buffer += f\"\\n{role_prefix}{dialogue_turn.content}\"\n",
    "        elif isinstance(dialogue_turn, tuple):\n",
    "            human = \"\\n\\nUser: \" + dialogue_turn[0]\n",
    "            ai = \"\\n\\nAI: \" + dialogue_turn[1]\n",
    "            buffer += \"\\n\" + \"\\n\".join([human, ai])\n",
    "        else:\n",
    "            raise ValueError(\n",
    "                f\"Unsupported chat history format: {type(dialogue_turn)}.\"\n",
    "                f\" Full chat history: {chat_history} \"\n",
    "            )\n",
    "    return buffer\n",
    "\n",
    "# 이전 대화 내용을 기반으로, 신규 질문을 재구성 하는 prompt\n",
    "condense_prompt_claude = PromptTemplate.from_template(\"\"\"\n",
    "\\n\\nHuman:\n",
    "Given the following conversation and a follow up question,\n",
    "rephrase the follow up question to be a standalone question, in its original language.\n",
    "\n",
    "Chat History: {chat_history}\n",
    "Follow Up Input: {question}\n",
    "\n",
    "\\n\\nAssistant: Question:\"\"\"\n",
    ")\n",
    "\n",
    "# memory\n",
    "# store previous interactions using ConversationalBufferMemory and add custom prompts to the chat.\n",
    "memory_chain = chat_utils.get_memory(\n",
    "    memory_type=\"ConversationBufferMemory\",\n",
    "    memory_key=\"chat_history\",\n",
    "    return_messages=True\n",
    ")\n",
    "\n",
    "opensearch_hybrid_retriever.update_search_params(\n",
    "    k=5,\n",
    "    minimum_should_match=0,\n",
    "    filter=[],\n",
    "    verbose=False\n",
    ")\n",
    "\n",
    "qa = ConversationalRetrievalChain.from_llm(\n",
    "    llm=llm_text,\n",
    "    retriever=opensearch_hybrid_retriever,\n",
    "    memory=memory_chain,\n",
    "    get_chat_history=_get_chat_history,\n",
    "    verbose=True,\n",
    "    condense_question_prompt=condense_prompt_claude,\n",
    "    chain_type='stuff', # 'refine',\n",
    "    #max_tokens_limit=300\n",
    ")\n",
    "\n",
    "# the LLMChain prompt to get the answer. the ConversationalRetrievalChange does not expose this parameter in the constructor\n",
    "qa.combine_docs_chain.llm_chain.prompt = PromptTemplate.from_template(\"\"\"\n",
    "\\n\\nHuman:\n",
    "\n",
    "{context}\n",
    "\n",
    "<q></q> XML 태그 내의 질문에 답하려면 최대 3개의 문장을 사용하세요.\n",
    "\n",
    "<q>{question}</q>\n",
    "\n",
    "답변에 XML 태그를 사용하지 마세요.\n",
    "답변이 context에 없으면 \"죄송합니다. 문맥에서 답을 찾을 수 없어서 모르겠습니다.\"라고 말합니다.\n",
    "\n",
    "\\n\\nAssistant:\"\"\")"
   ]
  },
  {
   "cell_type": "markdown",
   "metadata": {},
   "source": [
    "채팅을 해보죠. 아래와 같은 질문을 해보세요. \n",
    "1. 무슨 내용의 편지인가요?\n",
    "2. 미래 전망은 어떤가요?\n",
    "3. generative ai전략에 대해서 말해 주세요"
   ]
  },
  {
   "cell_type": "code",
   "execution_count": 111,
   "metadata": {
    "tags": []
   },
   "outputs": [],
   "source": [
    "from utils.chat import ChatUX"
   ]
  },
  {
   "cell_type": "code",
   "execution_count": 112,
   "metadata": {
    "tags": []
   },
   "outputs": [
    {
     "name": "stdout",
     "output_type": "stream",
     "text": [
      "Starting chat bot\n"
     ]
    },
    {
     "data": {
      "application/vnd.jupyter.widget-view+json": {
       "model_id": "e759c7b496e8498a8e2866ff2b3fe1a0",
       "version_major": 2,
       "version_minor": 0
      },
      "text/plain": [
       "Output()"
      ]
     },
     "metadata": {},
     "output_type": "display_data"
    }
   ],
   "source": [
    "chat = ChatUX(qa, retrievalChain=True)\n",
    "chat.start_chat()"
   ]
  },
  {
   "cell_type": "markdown",
   "metadata": {},
   "source": [
    "## Delete OpenSearch Index"
   ]
  },
  {
   "cell_type": "code",
   "execution_count": 113,
   "metadata": {
    "tags": []
   },
   "outputs": [
    {
     "name": "stdout",
     "output_type": "stream",
     "text": [
      "genai-demo-chatbot-index-v1 genai-demo-chatbot-index-v1-with-tokenizer\n"
     ]
    }
   ],
   "source": [
    "print(index_name, new_index_name)"
   ]
  },
  {
   "cell_type": "code",
   "execution_count": 114,
   "metadata": {
    "tags": []
   },
   "outputs": [
    {
     "name": "stdout",
     "output_type": "stream",
     "text": [
      "index_name=genai-demo-chatbot-index-v1, exists=True\n",
      "\n",
      "Deleting index:\n",
      "{'acknowledged': True}\n",
      "index_name=genai-demo-chatbot-index-v1-with-tokenizer, exists=True\n",
      "\n",
      "Deleting index:\n",
      "{'acknowledged': True}\n"
     ]
    }
   ],
   "source": [
    "for name in [index_name, new_index_name]:\n",
    "\n",
    "    index_exists = opensearch_utils.check_if_index_exists(os_client, name)\n",
    "    if index_exists:\n",
    "        opensearch_utils.delete_index(os_client, name)\n",
    "    else:\n",
    "        print(\"Index does not exist\")"
   ]
  },
  {
   "cell_type": "markdown",
   "metadata": {},
   "source": [
    "# 7.Next Action\n",
    "\n",
    "자신만의 챗봇 시스템을 만들고 챗봇과 대화한 내역을 캡쳐해서 올려주세요. 웹 페이지 정보를 가져오기 위해서 'WebBaseLoader' 를 사용하는 것도 가능합니다."
   ]
  },
  {
   "cell_type": "markdown",
   "metadata": {},
   "source": [
    "### 요약\n",
    "- 이 데모에서는 Claude LLM을 사용하여 다음 패턴으로 대화형 인터페이스를 만들었습니다.\n",
    "\n",
    "1. 챗봇(기본 - 맥락 없음)\n",
    "\n",
    "2. 프롬프트 템플릿(Langchain)을 이용한 챗봇\n",
    "\n",
    "3. 페르소나를 갖춘 챗봇\n",
    "4. 맥락을 갖춘 챗봇"
   ]
  }
 ],
 "metadata": {
  "availableInstances": [
   {
    "_defaultOrder": 0,
    "_isFastLaunch": true,
    "category": "General purpose",
    "gpuNum": 0,
    "hideHardwareSpecs": false,
    "memoryGiB": 4,
    "name": "ml.t3.medium",
    "vcpuNum": 2
   },
   {
    "_defaultOrder": 1,
    "_isFastLaunch": false,
    "category": "General purpose",
    "gpuNum": 0,
    "hideHardwareSpecs": false,
    "memoryGiB": 8,
    "name": "ml.t3.large",
    "vcpuNum": 2
   },
   {
    "_defaultOrder": 2,
    "_isFastLaunch": false,
    "category": "General purpose",
    "gpuNum": 0,
    "hideHardwareSpecs": false,
    "memoryGiB": 16,
    "name": "ml.t3.xlarge",
    "vcpuNum": 4
   },
   {
    "_defaultOrder": 3,
    "_isFastLaunch": false,
    "category": "General purpose",
    "gpuNum": 0,
    "hideHardwareSpecs": false,
    "memoryGiB": 32,
    "name": "ml.t3.2xlarge",
    "vcpuNum": 8
   },
   {
    "_defaultOrder": 4,
    "_isFastLaunch": true,
    "category": "General purpose",
    "gpuNum": 0,
    "hideHardwareSpecs": false,
    "memoryGiB": 8,
    "name": "ml.m5.large",
    "vcpuNum": 2
   },
   {
    "_defaultOrder": 5,
    "_isFastLaunch": false,
    "category": "General purpose",
    "gpuNum": 0,
    "hideHardwareSpecs": false,
    "memoryGiB": 16,
    "name": "ml.m5.xlarge",
    "vcpuNum": 4
   },
   {
    "_defaultOrder": 6,
    "_isFastLaunch": false,
    "category": "General purpose",
    "gpuNum": 0,
    "hideHardwareSpecs": false,
    "memoryGiB": 32,
    "name": "ml.m5.2xlarge",
    "vcpuNum": 8
   },
   {
    "_defaultOrder": 7,
    "_isFastLaunch": false,
    "category": "General purpose",
    "gpuNum": 0,
    "hideHardwareSpecs": false,
    "memoryGiB": 64,
    "name": "ml.m5.4xlarge",
    "vcpuNum": 16
   },
   {
    "_defaultOrder": 8,
    "_isFastLaunch": false,
    "category": "General purpose",
    "gpuNum": 0,
    "hideHardwareSpecs": false,
    "memoryGiB": 128,
    "name": "ml.m5.8xlarge",
    "vcpuNum": 32
   },
   {
    "_defaultOrder": 9,
    "_isFastLaunch": false,
    "category": "General purpose",
    "gpuNum": 0,
    "hideHardwareSpecs": false,
    "memoryGiB": 192,
    "name": "ml.m5.12xlarge",
    "vcpuNum": 48
   },
   {
    "_defaultOrder": 10,
    "_isFastLaunch": false,
    "category": "General purpose",
    "gpuNum": 0,
    "hideHardwareSpecs": false,
    "memoryGiB": 256,
    "name": "ml.m5.16xlarge",
    "vcpuNum": 64
   },
   {
    "_defaultOrder": 11,
    "_isFastLaunch": false,
    "category": "General purpose",
    "gpuNum": 0,
    "hideHardwareSpecs": false,
    "memoryGiB": 384,
    "name": "ml.m5.24xlarge",
    "vcpuNum": 96
   },
   {
    "_defaultOrder": 12,
    "_isFastLaunch": false,
    "category": "General purpose",
    "gpuNum": 0,
    "hideHardwareSpecs": false,
    "memoryGiB": 8,
    "name": "ml.m5d.large",
    "vcpuNum": 2
   },
   {
    "_defaultOrder": 13,
    "_isFastLaunch": false,
    "category": "General purpose",
    "gpuNum": 0,
    "hideHardwareSpecs": false,
    "memoryGiB": 16,
    "name": "ml.m5d.xlarge",
    "vcpuNum": 4
   },
   {
    "_defaultOrder": 14,
    "_isFastLaunch": false,
    "category": "General purpose",
    "gpuNum": 0,
    "hideHardwareSpecs": false,
    "memoryGiB": 32,
    "name": "ml.m5d.2xlarge",
    "vcpuNum": 8
   },
   {
    "_defaultOrder": 15,
    "_isFastLaunch": false,
    "category": "General purpose",
    "gpuNum": 0,
    "hideHardwareSpecs": false,
    "memoryGiB": 64,
    "name": "ml.m5d.4xlarge",
    "vcpuNum": 16
   },
   {
    "_defaultOrder": 16,
    "_isFastLaunch": false,
    "category": "General purpose",
    "gpuNum": 0,
    "hideHardwareSpecs": false,
    "memoryGiB": 128,
    "name": "ml.m5d.8xlarge",
    "vcpuNum": 32
   },
   {
    "_defaultOrder": 17,
    "_isFastLaunch": false,
    "category": "General purpose",
    "gpuNum": 0,
    "hideHardwareSpecs": false,
    "memoryGiB": 192,
    "name": "ml.m5d.12xlarge",
    "vcpuNum": 48
   },
   {
    "_defaultOrder": 18,
    "_isFastLaunch": false,
    "category": "General purpose",
    "gpuNum": 0,
    "hideHardwareSpecs": false,
    "memoryGiB": 256,
    "name": "ml.m5d.16xlarge",
    "vcpuNum": 64
   },
   {
    "_defaultOrder": 19,
    "_isFastLaunch": false,
    "category": "General purpose",
    "gpuNum": 0,
    "hideHardwareSpecs": false,
    "memoryGiB": 384,
    "name": "ml.m5d.24xlarge",
    "vcpuNum": 96
   },
   {
    "_defaultOrder": 20,
    "_isFastLaunch": false,
    "category": "General purpose",
    "gpuNum": 0,
    "hideHardwareSpecs": true,
    "memoryGiB": 0,
    "name": "ml.geospatial.interactive",
    "supportedImageNames": [
     "sagemaker-geospatial-v1-0"
    ],
    "vcpuNum": 0
   },
   {
    "_defaultOrder": 21,
    "_isFastLaunch": true,
    "category": "Compute optimized",
    "gpuNum": 0,
    "hideHardwareSpecs": false,
    "memoryGiB": 4,
    "name": "ml.c5.large",
    "vcpuNum": 2
   },
   {
    "_defaultOrder": 22,
    "_isFastLaunch": false,
    "category": "Compute optimized",
    "gpuNum": 0,
    "hideHardwareSpecs": false,
    "memoryGiB": 8,
    "name": "ml.c5.xlarge",
    "vcpuNum": 4
   },
   {
    "_defaultOrder": 23,
    "_isFastLaunch": false,
    "category": "Compute optimized",
    "gpuNum": 0,
    "hideHardwareSpecs": false,
    "memoryGiB": 16,
    "name": "ml.c5.2xlarge",
    "vcpuNum": 8
   },
   {
    "_defaultOrder": 24,
    "_isFastLaunch": false,
    "category": "Compute optimized",
    "gpuNum": 0,
    "hideHardwareSpecs": false,
    "memoryGiB": 32,
    "name": "ml.c5.4xlarge",
    "vcpuNum": 16
   },
   {
    "_defaultOrder": 25,
    "_isFastLaunch": false,
    "category": "Compute optimized",
    "gpuNum": 0,
    "hideHardwareSpecs": false,
    "memoryGiB": 72,
    "name": "ml.c5.9xlarge",
    "vcpuNum": 36
   },
   {
    "_defaultOrder": 26,
    "_isFastLaunch": false,
    "category": "Compute optimized",
    "gpuNum": 0,
    "hideHardwareSpecs": false,
    "memoryGiB": 96,
    "name": "ml.c5.12xlarge",
    "vcpuNum": 48
   },
   {
    "_defaultOrder": 27,
    "_isFastLaunch": false,
    "category": "Compute optimized",
    "gpuNum": 0,
    "hideHardwareSpecs": false,
    "memoryGiB": 144,
    "name": "ml.c5.18xlarge",
    "vcpuNum": 72
   },
   {
    "_defaultOrder": 28,
    "_isFastLaunch": false,
    "category": "Compute optimized",
    "gpuNum": 0,
    "hideHardwareSpecs": false,
    "memoryGiB": 192,
    "name": "ml.c5.24xlarge",
    "vcpuNum": 96
   },
   {
    "_defaultOrder": 29,
    "_isFastLaunch": true,
    "category": "Accelerated computing",
    "gpuNum": 1,
    "hideHardwareSpecs": false,
    "memoryGiB": 16,
    "name": "ml.g4dn.xlarge",
    "vcpuNum": 4
   },
   {
    "_defaultOrder": 30,
    "_isFastLaunch": false,
    "category": "Accelerated computing",
    "gpuNum": 1,
    "hideHardwareSpecs": false,
    "memoryGiB": 32,
    "name": "ml.g4dn.2xlarge",
    "vcpuNum": 8
   },
   {
    "_defaultOrder": 31,
    "_isFastLaunch": false,
    "category": "Accelerated computing",
    "gpuNum": 1,
    "hideHardwareSpecs": false,
    "memoryGiB": 64,
    "name": "ml.g4dn.4xlarge",
    "vcpuNum": 16
   },
   {
    "_defaultOrder": 32,
    "_isFastLaunch": false,
    "category": "Accelerated computing",
    "gpuNum": 1,
    "hideHardwareSpecs": false,
    "memoryGiB": 128,
    "name": "ml.g4dn.8xlarge",
    "vcpuNum": 32
   },
   {
    "_defaultOrder": 33,
    "_isFastLaunch": false,
    "category": "Accelerated computing",
    "gpuNum": 4,
    "hideHardwareSpecs": false,
    "memoryGiB": 192,
    "name": "ml.g4dn.12xlarge",
    "vcpuNum": 48
   },
   {
    "_defaultOrder": 34,
    "_isFastLaunch": false,
    "category": "Accelerated computing",
    "gpuNum": 1,
    "hideHardwareSpecs": false,
    "memoryGiB": 256,
    "name": "ml.g4dn.16xlarge",
    "vcpuNum": 64
   },
   {
    "_defaultOrder": 35,
    "_isFastLaunch": false,
    "category": "Accelerated computing",
    "gpuNum": 1,
    "hideHardwareSpecs": false,
    "memoryGiB": 61,
    "name": "ml.p3.2xlarge",
    "vcpuNum": 8
   },
   {
    "_defaultOrder": 36,
    "_isFastLaunch": false,
    "category": "Accelerated computing",
    "gpuNum": 4,
    "hideHardwareSpecs": false,
    "memoryGiB": 244,
    "name": "ml.p3.8xlarge",
    "vcpuNum": 32
   },
   {
    "_defaultOrder": 37,
    "_isFastLaunch": false,
    "category": "Accelerated computing",
    "gpuNum": 8,
    "hideHardwareSpecs": false,
    "memoryGiB": 488,
    "name": "ml.p3.16xlarge",
    "vcpuNum": 64
   },
   {
    "_defaultOrder": 38,
    "_isFastLaunch": false,
    "category": "Accelerated computing",
    "gpuNum": 8,
    "hideHardwareSpecs": false,
    "memoryGiB": 768,
    "name": "ml.p3dn.24xlarge",
    "vcpuNum": 96
   },
   {
    "_defaultOrder": 39,
    "_isFastLaunch": false,
    "category": "Memory Optimized",
    "gpuNum": 0,
    "hideHardwareSpecs": false,
    "memoryGiB": 16,
    "name": "ml.r5.large",
    "vcpuNum": 2
   },
   {
    "_defaultOrder": 40,
    "_isFastLaunch": false,
    "category": "Memory Optimized",
    "gpuNum": 0,
    "hideHardwareSpecs": false,
    "memoryGiB": 32,
    "name": "ml.r5.xlarge",
    "vcpuNum": 4
   },
   {
    "_defaultOrder": 41,
    "_isFastLaunch": false,
    "category": "Memory Optimized",
    "gpuNum": 0,
    "hideHardwareSpecs": false,
    "memoryGiB": 64,
    "name": "ml.r5.2xlarge",
    "vcpuNum": 8
   },
   {
    "_defaultOrder": 42,
    "_isFastLaunch": false,
    "category": "Memory Optimized",
    "gpuNum": 0,
    "hideHardwareSpecs": false,
    "memoryGiB": 128,
    "name": "ml.r5.4xlarge",
    "vcpuNum": 16
   },
   {
    "_defaultOrder": 43,
    "_isFastLaunch": false,
    "category": "Memory Optimized",
    "gpuNum": 0,
    "hideHardwareSpecs": false,
    "memoryGiB": 256,
    "name": "ml.r5.8xlarge",
    "vcpuNum": 32
   },
   {
    "_defaultOrder": 44,
    "_isFastLaunch": false,
    "category": "Memory Optimized",
    "gpuNum": 0,
    "hideHardwareSpecs": false,
    "memoryGiB": 384,
    "name": "ml.r5.12xlarge",
    "vcpuNum": 48
   },
   {
    "_defaultOrder": 45,
    "_isFastLaunch": false,
    "category": "Memory Optimized",
    "gpuNum": 0,
    "hideHardwareSpecs": false,
    "memoryGiB": 512,
    "name": "ml.r5.16xlarge",
    "vcpuNum": 64
   },
   {
    "_defaultOrder": 46,
    "_isFastLaunch": false,
    "category": "Memory Optimized",
    "gpuNum": 0,
    "hideHardwareSpecs": false,
    "memoryGiB": 768,
    "name": "ml.r5.24xlarge",
    "vcpuNum": 96
   },
   {
    "_defaultOrder": 47,
    "_isFastLaunch": false,
    "category": "Accelerated computing",
    "gpuNum": 1,
    "hideHardwareSpecs": false,
    "memoryGiB": 16,
    "name": "ml.g5.xlarge",
    "vcpuNum": 4
   },
   {
    "_defaultOrder": 48,
    "_isFastLaunch": false,
    "category": "Accelerated computing",
    "gpuNum": 1,
    "hideHardwareSpecs": false,
    "memoryGiB": 32,
    "name": "ml.g5.2xlarge",
    "vcpuNum": 8
   },
   {
    "_defaultOrder": 49,
    "_isFastLaunch": false,
    "category": "Accelerated computing",
    "gpuNum": 1,
    "hideHardwareSpecs": false,
    "memoryGiB": 64,
    "name": "ml.g5.4xlarge",
    "vcpuNum": 16
   },
   {
    "_defaultOrder": 50,
    "_isFastLaunch": false,
    "category": "Accelerated computing",
    "gpuNum": 1,
    "hideHardwareSpecs": false,
    "memoryGiB": 128,
    "name": "ml.g5.8xlarge",
    "vcpuNum": 32
   },
   {
    "_defaultOrder": 51,
    "_isFastLaunch": false,
    "category": "Accelerated computing",
    "gpuNum": 1,
    "hideHardwareSpecs": false,
    "memoryGiB": 256,
    "name": "ml.g5.16xlarge",
    "vcpuNum": 64
   },
   {
    "_defaultOrder": 52,
    "_isFastLaunch": false,
    "category": "Accelerated computing",
    "gpuNum": 4,
    "hideHardwareSpecs": false,
    "memoryGiB": 192,
    "name": "ml.g5.12xlarge",
    "vcpuNum": 48
   },
   {
    "_defaultOrder": 53,
    "_isFastLaunch": false,
    "category": "Accelerated computing",
    "gpuNum": 4,
    "hideHardwareSpecs": false,
    "memoryGiB": 384,
    "name": "ml.g5.24xlarge",
    "vcpuNum": 96
   },
   {
    "_defaultOrder": 54,
    "_isFastLaunch": false,
    "category": "Accelerated computing",
    "gpuNum": 8,
    "hideHardwareSpecs": false,
    "memoryGiB": 768,
    "name": "ml.g5.48xlarge",
    "vcpuNum": 192
   },
   {
    "_defaultOrder": 55,
    "_isFastLaunch": false,
    "category": "Accelerated computing",
    "gpuNum": 8,
    "hideHardwareSpecs": false,
    "memoryGiB": 1152,
    "name": "ml.p4d.24xlarge",
    "vcpuNum": 96
   },
   {
    "_defaultOrder": 56,
    "_isFastLaunch": false,
    "category": "Accelerated computing",
    "gpuNum": 8,
    "hideHardwareSpecs": false,
    "memoryGiB": 1152,
    "name": "ml.p4de.24xlarge",
    "vcpuNum": 96
   }
  ],
  "instance_type": "ml.m5.2xlarge",
  "kernelspec": {
   "display_name": "conda_python3",
   "language": "python",
   "name": "conda_python3"
  },
  "language_info": {
   "codemirror_mode": {
    "name": "ipython",
    "version": 3
   },
   "file_extension": ".py",
   "mimetype": "text/x-python",
   "name": "python",
   "nbconvert_exporter": "python",
   "pygments_lexer": "ipython3",
   "version": "3.10.12"
  },
  "vscode": {
   "interpreter": {
    "hash": "3b41de70bedc0e302a3aeb58a0c77b854f2e56c8930e61a4aaa3340c96b01f1d"
   }
  }
 },
 "nbformat": 4,
 "nbformat_minor": 4
}
