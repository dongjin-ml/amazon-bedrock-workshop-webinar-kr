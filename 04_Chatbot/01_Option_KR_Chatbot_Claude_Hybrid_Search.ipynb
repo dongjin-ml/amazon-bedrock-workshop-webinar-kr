{
 "cells": [
  {
   "cell_type": "markdown",
   "metadata": {},
   "source": [
    "# 한글-Claude-v2 Model: Conversational Interface - Chatbot with Claude LLM\n",
    "\n",
    "> 이 노트북은 SageMaker Studio의 **`Data Science 3.0`** 커널과 잘 작동합니다.\n",
    "\n",
    "> **SageMaker Notebook Instance** 를 이용해 실습을 진행하신다면, **JupyterLab이 아닌 Jupyter**에서 실행하시기 바랍니다.\n",
    "\n",
    "이 노트북에서는 Amazon Bedrock의 기본 모델 (FM) 을 사용하여 챗봇을 구축할 것입니다.사용 사례에서는 Claude를 챗봇 구축을 위한 FM으로 사용합니다.\n",
    "\n",
    "---\n",
    "### 중요\n",
    "- 이 노트북은 Anthropic 의 Claude-v2 모델 접근 가능한 분만 실행 가능합니다. \n",
    "- 접근이 안되시는 분은 노트북의 코드와 결과 만을 확인 하시면 좋겠습니다.\n",
    "- 만일 실행시에는 **\"과금\"** 이 발생이 되는 부분 유념 해주시기 바랍니다."
   ]
  },
  {
   "cell_type": "markdown",
   "metadata": {},
   "source": [
    "## 개요\n",
    "\n",
    "챗봇 및 가상 어시스턴트와 같은 대화형 인터페이스를 사용하여 고객의 사용자 경험을 향상시킬 수 있습니다. 챗봇은 자연어 처리 (NLP) 및 기계 학습 알고리즘을 사용하여 사용자 쿼리를 이해하고 이에 응답합니다.챗봇은 고객 서비스, 판매, 전자 상거래와 같은 다양한 애플리케이션에서 사용되어 사용자에게 빠르고 효율적인 응답을 제공할 수 있습니다.웹사이트, 소셜 미디어 플랫폼 및 메시징 앱과 같은 다양한 채널을 통해 액세스할 수 있습니다.\n",
    "\n",
    "\n",
    "## Amazon Bedrock을 사용하는 챗봇\n",
    "\n",
    "![Amazon Bedrock - Conversational Interface](./images/chatbot_bedrock.png)\n",
    "\n",
    "\n",
    "## 사용 사례\n",
    "- 1.**챗봇 (기본)** - FM 모델을 사용하는 제로샷 챗봇\n",
    "- 2.**프롬프트를 사용하는 챗봇** - 템플릿 (Langchain) - 프롬프트 템플릿에 일부 컨텍스트가 제공된 챗봇\n",
    "- 3.**페르소나가 있는 챗봇** - 정의된 역할을 가진 챗봇. 즉, 커리어 코치와 인간 상호작용\n",
    "- 4.**컨텍스트 인식 챗봇** - 임베딩을 생성하여 외부 파일을 통해 컨텍스트를 전달합니다.\n",
    "\n",
    "## Amazon Bedrock으로 챗봇을 구축하기 위한 랭체인 프레임워크\n",
    "챗봇과 같은 대화형 인터페이스에서는 단기적 수준뿐만 아니라 장기적 수준에서도 이전 상호 작용을 기억하는 것이 매우 중요합니다.\n",
    "\n",
    "LangChain은 메모리 구성 요소를 두 가지 형태로 제공합니다.먼저 LangChain은 이전 채팅 메시지를 관리하고 조작하기 위한 도우미 유틸리티를 제공합니다.모듈식으로 설계되어 사용 방식에 관계없이 유용하게 사용할 수 있습니다.둘째, LangChain은 이러한 유틸리티를 체인에 통합하는 쉬운 방법을 제공합니다.\n",
    "이를 통해 다양한 유형의 추상화를 쉽게 정의하고 상호 작용할 수 있으므로 강력한 챗봇을 쉽게 구축할 수 있습니다.\n",
    "\n",
    "## 컨텍스트를 활용한 챗봇 구축하기 - 핵심 요소\n",
    "\n",
    "컨텍스트 인식 챗봇을 구축하는 첫 번째 프로세스는 컨텍스트에 대한**임베딩을 생성**하는 것입니다.일반적으로 임베딩 모델을 통해 실행되고 일종의 벡터 저장소에 저장될 임베딩을 생성하는 통합 프로세스가 있습니다.이 예제에서는 이를 위해 Amazon Titan 임베딩 모델을 사용하고 있습니다.\n",
    "\n",
    "![Embeddings](./images/embeddings_lang.png)\n",
    "\n",
    "두 번째 프로세스는 사용자 요청 오케스트레이션, 상호 작용, 호출 및 결과 반환입니다.\n",
    "\n",
    "![Chatbot](./images/chatbot_lang.png)\n",
    "\n",
    "## 아키텍처 [컨텍스트 인식 챗봇]\n",
    "![4](./images/context-aware-chatbot.png)\n"
   ]
  },
  {
   "cell_type": "markdown",
   "metadata": {},
   "source": [
    "### 설정\n",
    "\n",
    "이 노트북의 나머지 부분을 실행하기 전에 아래 셀을 실행하여 (필요한 라이브러리가 설치되어 있는지 확인하고) Bedrock에 연결해야 합니다.\n"
   ]
  },
  {
   "cell_type": "markdown",
   "metadata": {},
   "source": [
    "이 노트북에는 몇 가지 추가 종속성도 필요합니다.\n",
    "\n",
    "- [FAISS](https://github.com/facebookresearch/faiss), 벡터 임베딩 저장용\n",
    "- [iPyWidgets](https://ipywidgets.readthedocs.io/en/stable/), 노트북의 대화형 UI 위젯용\n",
    "- [PyPDF](https://pypi.org/project/pypdf/), PDF 파일 처리용"
   ]
  },
  {
   "cell_type": "code",
   "execution_count": 1,
   "metadata": {
    "tags": []
   },
   "outputs": [],
   "source": [
    "%load_ext autoreload\n",
    "%autoreload 2\n",
    "\n",
    "import sys, os\n",
    "module_path = \"..\"\n",
    "sys.path.append(os.path.abspath(module_path))"
   ]
  },
  {
   "cell_type": "markdown",
   "metadata": {
    "tags": []
   },
   "source": [
    "# 1. Bedrock Client 생성"
   ]
  },
  {
   "cell_type": "code",
   "execution_count": 2,
   "metadata": {
    "tags": []
   },
   "outputs": [
    {
     "name": "stdout",
     "output_type": "stream",
     "text": [
      "Create new client\n",
      "  Using region: None\n",
      "  Using profile: None\n",
      "boto3 Bedrock client successfully created!\n",
      "bedrock-runtime(https://bedrock-runtime.us-east-1.amazonaws.com)\n",
      "\u001b[32m\n",
      "== FM lists ==\u001b[0m\n",
      "{'Claude-Instant-V1': 'anthropic.claude-instant-v1',\n",
      " 'Claude-V1': 'anthropic.claude-v1',\n",
      " 'Claude-V2': 'anthropic.claude-v2',\n",
      " 'Command': 'cohere.command-text-v14',\n",
      " 'Jurassic-2-Mid': 'ai21.j2-mid-v1',\n",
      " 'Jurassic-2-Ultra': 'ai21.j2-ultra-v1',\n",
      " 'Titan-Embeddings-G1': 'amazon.titan-embed-text-v1',\n",
      " 'Titan-Text-G1': 'TBD'}\n"
     ]
    }
   ],
   "source": [
    "import json\n",
    "import boto3\n",
    "from pprint import pprint\n",
    "from termcolor import colored\n",
    "from utils import bedrock, print_ww\n",
    "from utils.bedrock import bedrock_info\n",
    "\n",
    "# ---- ⚠️ Un-comment and edit the below lines as needed for your AWS setup ⚠️ ----\n",
    "\n",
    "# os.environ[\"AWS_DEFAULT_REGION\"] = \"<REGION_NAME>\"  # E.g. \"us-east-1\"\n",
    "# os.environ[\"AWS_PROFILE\"] = \"<YOUR_PROFILE>\"\n",
    "# os.environ[\"BEDROCK_ASSUME_ROLE\"] = \"<YOUR_ROLE_ARN>\"  # E.g. \"arn:aws:...\"\n",
    "# os.environ[\"BEDROCK_ENDPOINT_URL\"] = \"<YOUR_ENDPOINT_URL>\"  # E.g. \"https://...\"\n",
    "\n",
    "\n",
    "boto3_bedrock = bedrock.get_bedrock_client(\n",
    "    assumed_role=os.environ.get(\"BEDROCK_ASSUME_ROLE\", None),\n",
    "    endpoint_url=os.environ.get(\"BEDROCK_ENDPOINT_URL\", None),\n",
    "    region=os.environ.get(\"AWS_DEFAULT_REGION\", None),\n",
    ")\n",
    "\n",
    "print (colored(\"\\n== FM lists ==\", \"green\"))\n",
    "pprint (bedrock_info.get_list_fm_models())"
   ]
  },
  {
   "cell_type": "markdown",
   "metadata": {
    "tags": []
   },
   "source": [
    "# 2. 챗봇(기본 - 컨텍스트 없음)\n",
    "\n",
    "우리는 LangChain의 [CoversationChain](https://python.langchain.com/en/latest/modules/models/llms/integrations/bedrock.html?highlight=ConversationChain#using-in-a-conversation-chain)을 사용하여 시작합니다. 대화. 또한 메시지 저장을 위해 [ConversationBufferMemory](https://python.langchain.com/en/latest/modules/memory/types/buffer.html)를 사용합니다. 메시지 목록으로 기록을 얻을 수도 있습니다(채팅 모델에서 매우 유용합니다).\n",
    "\n",
    "챗봇은 이전 상호작용을 기억해야 합니다. 대화 기억을 통해 우리는 그렇게 할 수 있습니다. 대화형 메모리를 구현하는 방법에는 여러 가지가 있습니다. LangChain의 맥락에서 이들은 모두 ConversationChain 위에 구축됩니다.\n",
    "\n",
    "**참고:** 모델 출력은 비결정적입니다."
   ]
  },
  {
   "cell_type": "code",
   "execution_count": 3,
   "metadata": {
    "tags": []
   },
   "outputs": [],
   "source": [
    "from utils.chat import chat_utils\n",
    "from langchain.llms.bedrock import Bedrock\n",
    "from langchain.chains import ConversationChain\n",
    "from langchain.callbacks.streaming_stdout import StreamingStdOutCallbackHandler"
   ]
  },
  {
   "cell_type": "code",
   "execution_count": 4,
   "metadata": {
    "tags": []
   },
   "outputs": [],
   "source": [
    "# - create the Anthropic Model\n",
    "llm_text = Bedrock(\n",
    "    model_id=bedrock_info.get_model_id(model_name=\"Claude-V2\"),\n",
    "    client=boto3_bedrock,\n",
    "    model_kwargs={\n",
    "        \"max_tokens_to_sample\": 512,\n",
    "        \"temperature\": 0,\n",
    "        \"top_k\": 250,\n",
    "        \"top_p\": 0.999,\n",
    "        \"stop_sequences\": [\"\\n\\nHuman:\", \"\\n\\nUser:\"]\n",
    "    },\n",
    "    streaming=True,\n",
    "    callbacks=[StreamingStdOutCallbackHandler()],\n",
    ")"
   ]
  },
  {
   "cell_type": "markdown",
   "metadata": {},
   "source": [
    "## Conversation momory\n",
    "* **[ConversationBufferMemory](https://python.langchain.com/docs/modules/memory/types/buffer)**\n",
    "    - This memory allows for storing messages and then extracts the messages in a variable.\n",
    "* **[ConversationBufferWindowMemory](https://python.langchain.com/docs/modules/memory/types/buffer_window)**\n",
    "    - It keeps a list of the interactions of the conversation over time.\n",
    "    - It only uses the last K interactions.\n",
    "    - This can be useful for keeping a sliding window of the most recent interactions, so the buffer does not get too large.\n",
    "* **[ConversationSummaryBufferMemory](https://python.langchain.com/docs/modules/memory/types/summary_buffer)**\n",
    "    - It maintains a summary of previous messages.\n",
    "    - It combines the two ideas.\n",
    "    - It keeps a buffer of recent interactions in memory, but rather than just completely flushing old interactions it compiles them into a summary and uses both. \n",
    "    - It uses token length rather than number of interactions to determine when to flush interactions."
   ]
  },
  {
   "cell_type": "code",
   "execution_count": 5,
   "metadata": {
    "tags": []
   },
   "outputs": [],
   "source": [
    "memory = chat_utils.get_memory(\n",
    "    memory_type=\"ConversationBufferMemory\",\n",
    "    memory_key=\"history\"\n",
    ")\n",
    "\n",
    "conversation = ConversationChain(\n",
    "    llm=llm_text,\n",
    "    verbose=True,\n",
    "    memory=memory\n",
    ")"
   ]
  },
  {
   "cell_type": "code",
   "execution_count": 6,
   "metadata": {
    "tags": []
   },
   "outputs": [
    {
     "name": "stdout",
     "output_type": "stream",
     "text": [
      "\n",
      "\n",
      "\u001b[1m> Entering new ConversationChain chain...\u001b[0m\n",
      "Prompt after formatting:\n",
      "\u001b[32;1m\u001b[1;3mThe following is a friendly conversation between a human and an AI. The AI is talkative and provides lots of specific details from its context. If the AI does not know the answer to a question, it truthfully says it does not know.\n",
      "\n",
      "Current conversation:\n",
      "[]\n",
      "Human: 안녕하세요?\n",
      "AI:\u001b[0m\n",
      " 네, 안녕하세요!\n",
      "\u001b[1m> Finished chain.\u001b[0m\n"
     ]
    }
   ],
   "source": [
    "if llm_text.streaming:\n",
    "    response = conversation.predict(input=\"안녕하세요?\")\n",
    "else:\n",
    "    print_ww(conversation.predict(input=\"안녕하세요?\"))"
   ]
  },
  {
   "cell_type": "markdown",
   "metadata": {},
   "source": [
    "### 결과 분석"
   ]
  },
  {
   "cell_type": "markdown",
   "metadata": {},
   "source": [
    "여기서 무슨 일이 일어나는가? 우리는 \"안녕하세요!\"라고 말했습니다. 모델은 몇 가지 대화를 나눴습니다. 이는 Langchain ConversationChain에서 사용하는 기본 프롬프트가 Claude에 맞게 잘 설계되지 않았기 때문입니다. \n",
    "- [효과적인 클로드 프롬프트](https://docs.anthropic.com/claude/docs/introduction-to-prompt-design)는 `\\n\\nHuman\\n\\nAassistant:`로 끝나야 합니다. 이 문제를 해결해 보겠습니다.\n",
    "\n",
    "Claude의 프롬프트 작성 방법에 대해 자세히 알아보려면 [Anthropic 문서](https://docs.anthropic.com/claude/docs/introduction-to-prompt-design)를 확인하세요."
   ]
  },
  {
   "cell_type": "markdown",
   "metadata": {},
   "source": [
    "### Reset memory"
   ]
  },
  {
   "cell_type": "code",
   "execution_count": 7,
   "metadata": {
    "tags": []
   },
   "outputs": [
    {
     "name": "stdout",
     "output_type": "stream",
     "text": [
      "{'history': []}\n"
     ]
    }
   ],
   "source": [
    "chat_utils.clear_memory(\n",
    "    chain=conversation\n",
    ")\n",
    "print_ww(memory.load_memory_variables({}))"
   ]
  },
  {
   "cell_type": "markdown",
   "metadata": {},
   "source": [
    "# 3. 프롬프트 템플릿(Langchain)을 이용한 챗봇"
   ]
  },
  {
   "cell_type": "markdown",
   "metadata": {},
   "source": [
    "LangChain은 프롬프트를 쉽게 구성하고 작업할 수 있도록 여러 클래스와 기능을 제공합니다. [PromptTemplate](https://python.langchain.com/en/latest/modules/prompts/getting_started.html) 클래스를 사용하여 f-string 템플릿에서 프롬프트를 구성하겠습니다."
   ]
  },
  {
   "cell_type": "markdown",
   "metadata": {
    "tags": []
   },
   "source": [
    "**[TIP] Prompt의 instruction의 경우 한글보다 **영어**로 했을 때 더 좋은 결과를 얻을 수 있습니다.**"
   ]
  },
  {
   "cell_type": "code",
   "execution_count": 8,
   "metadata": {
    "tags": []
   },
   "outputs": [],
   "source": [
    "from langchain import PromptTemplate"
   ]
  },
  {
   "cell_type": "code",
   "execution_count": 9,
   "metadata": {
    "tags": []
   },
   "outputs": [
    {
     "name": "stdout",
     "output_type": "stream",
     "text": [
      "claude_prompt: \n",
      " input_variables=['history', 'input'] template=\"\\n        \\n\\nHuman: Here's a friendly conversation between a user and an AI.\\n        The AI is talkative and provides lots of contextualized details.\\n        If it doesn't know, it will honestly say that it doesn't know the answer to the question.\\n\\n        Current conversation:\\n        {history}\\n\\n        User:\\n        {input}\\n\\n        \\n\\nAssistant:\\n        \"\n"
     ]
    }
   ],
   "source": [
    "# turn verbose to true to see the full logs and documents\n",
    "conversation = ConversationChain(\n",
    "    llm=llm_text,\n",
    "    verbose=False,\n",
    "    memory=memory\n",
    ")\n",
    "\n",
    "claude_prompt = PromptTemplate(\n",
    "        input_variables=[\"history\", 'input'],\n",
    "        template=\"\"\"\n",
    "        \\n\\nHuman: Here's a friendly conversation between a user and an AI.\n",
    "        The AI is talkative and provides lots of contextualized details.\n",
    "        If it doesn't know, it will honestly say that it doesn't know the answer to the question.\n",
    "\n",
    "        Current conversation:\n",
    "        {history}\n",
    "\n",
    "        User:\n",
    "        {input}\n",
    "\n",
    "        \\n\\nAssistant:\n",
    "        \"\"\"\n",
    ")\n",
    "\n",
    "print(\"claude_prompt: \\n\", claude_prompt)"
   ]
  },
  {
   "cell_type": "code",
   "execution_count": 10,
   "metadata": {
    "tags": []
   },
   "outputs": [],
   "source": [
    "conversation.prompt = claude_prompt"
   ]
  },
  {
   "cell_type": "code",
   "execution_count": 11,
   "metadata": {
    "tags": []
   },
   "outputs": [
    {
     "name": "stdout",
     "output_type": "stream",
     "text": [
      "# tokens: 8\n"
     ]
    },
    {
     "data": {
      "text/plain": [
       "8"
      ]
     },
     "execution_count": 11,
     "metadata": {},
     "output_type": "execute_result"
    }
   ],
   "source": [
    "chat_utils.get_tokens(\n",
    "    chain=conversation,\n",
    "    prompt=\"안녕하세요?\"\n",
    ")"
   ]
  },
  {
   "cell_type": "code",
   "execution_count": 12,
   "metadata": {
    "tags": []
   },
   "outputs": [
    {
     "name": "stdout",
     "output_type": "stream",
     "text": [
      " 네, 안녕하세요! 반갑습니다."
     ]
    }
   ],
   "source": [
    "if llm_text.streaming:\n",
    "    response = conversation.predict(input=\"안녕하세요?\")\n",
    "else:\n",
    "    print_ww(conversation.predict(input=\"안녕하세요?\"))"
   ]
  },
  {
   "cell_type": "markdown",
   "metadata": {},
   "source": [
    "#### (1) 새로운 질문\n",
    "\n",
    "모델이 초기 메시지로 응답했습니다. 몇 가지 질문을 해보겠습니다."
   ]
  },
  {
   "cell_type": "code",
   "execution_count": 13,
   "metadata": {
    "tags": []
   },
   "outputs": [
    {
     "name": "stdout",
     "output_type": "stream",
     "text": [
      " 네, 새로운 정원을 시작하는 몇 가지 유용한 팁을 알려드리겠습니다.\n",
      "\n",
      "먼저, 정원의 위치를 잘 선택하는 것이 중요합니다. 해가 잘 드는 곳으로 선택하시고, 땅이 비옥한 토양인지 확인하세요. \n",
      "\n",
      "다음으로는 어떤 종류의 채소나 화훼를 키울 지 미리 계획을 세우세요. 계절별로 재배할 작물을 결정하고, 그에 맞춰 씨앗이나 묘목을 준비하세요.\n",
      "\n",
      "흙을 고르고, 깊이 갈아엎는 것도 중요합니다. 토양을 부드럽고 활기 있게 만드는 것이 좋습니다. \n",
      "\n",
      "물 공급을 위한 시스템도 마련하세요. 주기적으로 물을 공급할 수 있는 방법이 필요합니다.\n",
      "\n",
      "마지막으로, 야채나 꽃을 심은 후에는 제초와 병충해 관리를 잘 하는 것이 성공적인 정원 가꾸기의 핵심입니다.\n",
      "\n",
      "이런 기본 팁을 참고하시면 좋은 정원을 가꿀 수 있을 것 같습니다. 정성껏 가꾸다 보면 정말 보람 있는 일이 될 거예요."
     ]
    }
   ],
   "source": [
    "if llm_text.streaming:\n",
    "    response = conversation.predict(input=\"새로운 정원을 시작하는 방법에 대한 몇 가지 팁을 알려주세요.\")\n",
    "else:\n",
    "    print_ww(conversation.predict(input=\"새로운 정원을 시작하는 방법에 대한 몇 가지 팁을 알려주세요.\"))"
   ]
  },
  {
   "cell_type": "markdown",
   "metadata": {},
   "source": [
    "#### Check momory"
   ]
  },
  {
   "cell_type": "code",
   "execution_count": 14,
   "metadata": {
    "tags": []
   },
   "outputs": [
    {
     "name": "stdout",
     "output_type": "stream",
     "text": [
      "{'history': [HumanMessage(content='안녕하세요?'), AIMessage(content=' 네, 안녕하세요! 반갑습니다.'),\n",
      "HumanMessage(content='새로운 정원을 시작하는 방법에 대한 몇 가지 팁을 알려주세요.'), AIMessage(content=' 네, 새로운 정원을 시작하는 몇 가지\n",
      "유용한 팁을 알려드리겠습니다.\\n\\n먼저, 정원의 위치를 잘 선택하는 것이 중요합니다. 해가 잘 드는 곳으로 선택하시고, 땅이 비옥한 토양인지 확인하세요. \\n\\n다음으로는 어떤\n",
      "종류의 채소나 화훼를 키울 지 미리 계획을 세우세요. 계절별로 재배할 작물을 결정하고, 그에 맞춰 씨앗이나 묘목을 준비하세요.\\n\\n흙을 고르고, 깊이 갈아엎는 것도 중요합니다.\n",
      "토양을 부드럽고 활기 있게 만드는 것이 좋습니다. \\n\\n물 공급을 위한 시스템도 마련하세요. 주기적으로 물을 공급할 수 있는 방법이 필요합니다.\\n\\n마지막으로, 야채나 꽃을\n",
      "심은 후에는 제초와 병충해 관리를 잘 하는 것이 성공적인 정원 가꾸기의 핵심입니다.\\n\\n이런 기본 팁을 참고하시면 좋은 정원을 가꿀 수 있을 것 같습니다. 정성껏 가꾸다 보면\n",
      "정말 보람 있는 일이 될 거예요.')]}\n"
     ]
    }
   ],
   "source": [
    "print_ww(memory.load_memory_variables({}))"
   ]
  },
  {
   "cell_type": "markdown",
   "metadata": {},
   "source": [
    "#### (2) 질문을 토대로 작성\n",
    "\n",
    "모델이 이전 대화를 이해할 수 있는지 확인하기 위해 정원이라는 단어를 언급하지 않고 질문해 보겠습니다."
   ]
  },
  {
   "cell_type": "code",
   "execution_count": 15,
   "metadata": {
    "tags": []
   },
   "outputs": [
    {
     "name": "stdout",
     "output_type": "stream",
     "text": [
      " 네, 토마토를 키우기에도 이 팁들이 도움이 될 거예요. \n",
      "\n",
      "토마토는 해가 잘 드는 곳에 심는 게 좋습니다. 남쪽이나 서쪽을 향한 곳이 이상적이죠. \n",
      "\n",
      "토마토는 비옥한 토양을 좋아하니, 영양분이 풍부한 흙을 준비하는 것이 중요합니다. \n",
      "\n",
      "묘목은 해가 따뜻해지는 봄에 심는 것이 좋고, 수확량을 늘리기 위해서는 지속적으로 물과 영양분을 공급하는 것이 필요합니다.\n",
      "\n",
      "토마토는 병충해에 취약하니, 예방 차원에서 제초와 방제를 잘 하는 것도 도움이 될 거예요. \n",
      "\n",
      "이런 팁들을 참고하셔서 토마토 정원 가꾸기를 시작하시면 좋을 것 같습니다. 맛있는 토마토를 키우시는 데 도움이 되었으면 좋겠습니다."
     ]
    }
   ],
   "source": [
    "if llm_text.streaming:\n",
    "    response = conversation.predict(input=\"좋아요. 토마토에도 어울릴까요?\")\n",
    "else:\n",
    "    print_ww(conversation.predict(input=\"좋아요. 토마토에도 어울릴까요?\"))"
   ]
  },
  {
   "cell_type": "code",
   "execution_count": 16,
   "metadata": {
    "tags": []
   },
   "outputs": [
    {
     "name": "stdout",
     "output_type": "stream",
     "text": [
      "{'history': [HumanMessage(content='안녕하세요?'), AIMessage(content=' 네, 안녕하세요! 반갑습니다.'),\n",
      "HumanMessage(content='새로운 정원을 시작하는 방법에 대한 몇 가지 팁을 알려주세요.'), AIMessage(content=' 네, 새로운 정원을 시작하는 몇 가지\n",
      "유용한 팁을 알려드리겠습니다.\\n\\n먼저, 정원의 위치를 잘 선택하는 것이 중요합니다. 해가 잘 드는 곳으로 선택하시고, 땅이 비옥한 토양인지 확인하세요. \\n\\n다음으로는 어떤\n",
      "종류의 채소나 화훼를 키울 지 미리 계획을 세우세요. 계절별로 재배할 작물을 결정하고, 그에 맞춰 씨앗이나 묘목을 준비하세요.\\n\\n흙을 고르고, 깊이 갈아엎는 것도 중요합니다.\n",
      "토양을 부드럽고 활기 있게 만드는 것이 좋습니다. \\n\\n물 공급을 위한 시스템도 마련하세요. 주기적으로 물을 공급할 수 있는 방법이 필요합니다.\\n\\n마지막으로, 야채나 꽃을\n",
      "심은 후에는 제초와 병충해 관리를 잘 하는 것이 성공적인 정원 가꾸기의 핵심입니다.\\n\\n이런 기본 팁을 참고하시면 좋은 정원을 가꿀 수 있을 것 같습니다. 정성껏 가꾸다 보면\n",
      "정말 보람 있는 일이 될 거예요.'), HumanMessage(content='좋아요. 토마토에도 어울릴까요?'), AIMessage(content=' 네, 토마토를 키우기에도 이\n",
      "팁들이 도움이 될 거예요. \\n\\n토마토는 해가 잘 드는 곳에 심는 게 좋습니다. 남쪽이나 서쪽을 향한 곳이 이상적이죠. \\n\\n토마토는 비옥한 토양을 좋아하니, 영양분이 풍부한\n",
      "흙을 준비하는 것이 중요합니다. \\n\\n묘목은 해가 따뜻해지는 봄에 심는 것이 좋고, 수확량을 늘리기 위해서는 지속적으로 물과 영양분을 공급하는 것이 필요합니다.\\n\\n토마토는\n",
      "병충해에 취약하니, 예방 차원에서 제초와 방제를 잘 하는 것도 도움이 될 거예요. \\n\\n이런 팁들을 참고하셔서 토마토 정원 가꾸기를 시작하시면 좋을 것 같습니다. 맛있는 토마토를\n",
      "키우시는 데 도움이 되었으면 좋겠습니다.')]}\n"
     ]
    }
   ],
   "source": [
    "print_ww (memory.load_memory_variables({}))"
   ]
  },
  {
   "cell_type": "markdown",
   "metadata": {},
   "source": [
    "#### (3) 대화를 마치며"
   ]
  },
  {
   "cell_type": "code",
   "execution_count": 17,
   "metadata": {
    "tags": []
   },
   "outputs": [
    {
     "name": "stdout",
     "output_type": "stream",
     "text": [
      " 네, 천만에요! 새로운 정원 가꾸기에 도움이 되었기를 바랍니다. 정성껏 가꾸다 보면 정말 보람 있는 일이 될 거예요. 앞으로도 좋은 팁이 필요하시면 언제든지 문의해 주세요. 즐거운 정원 가꾸기 되세요!"
     ]
    }
   ],
   "source": [
    "if llm_text.streaming:\n",
    "    response = conversation.predict(input=\"그게 다야, 고마워!\")\n",
    "else:\n",
    "    print_ww(conversation.predict(input=\"그게 다야, 고마워!\"))"
   ]
  },
  {
   "cell_type": "markdown",
   "metadata": {},
   "source": [
    "# 4. ipywidgets를 사용한 대화형 세션\n",
    "\n",
    "다음 유틸리티 클래스를 사용하면 Claude와 보다 자연스러운 방식으로 상호 작용할 수 있습니다. 입력창에 질문을 적고 클로드의 답변을 받습니다. 그러면 대화를 계속할 수 있습니다."
   ]
  },
  {
   "cell_type": "code",
   "execution_count": 18,
   "metadata": {
    "tags": []
   },
   "outputs": [],
   "source": [
    "import ipywidgets as ipw\n",
    "from IPython.display import display, clear_output\n",
    "\n",
    "class ChatUX:\n",
    "    \"\"\" A chat UX using IPWidgets\n",
    "    \"\"\"\n",
    "    def __init__(self, qa, retrievalChain = False):\n",
    "        self.qa = qa\n",
    "        self.name = None\n",
    "        self.b=None\n",
    "        self.retrievalChain = retrievalChain\n",
    "        self.out = ipw.Output()\n",
    "\n",
    "        if \"ConversationChain\" in str(type(self.qa)):\n",
    "            self.streaming = self.qa.llm.streaming\n",
    "        elif \"ConversationalRetrievalChain\" in str(type(self.qa)):\n",
    "            self.streaming = self.qa.combine_docs_chain.llm_chain.llm.streaming\n",
    "\n",
    "    def start_chat(self):\n",
    "        print(\"Starting chat bot\")\n",
    "        display(self.out)\n",
    "        self.chat(None)\n",
    "\n",
    "\n",
    "    def chat(self, _):\n",
    "        if self.name is None:\n",
    "            prompt = \"\"\n",
    "        else: \n",
    "            prompt = self.name.value\n",
    "        if 'q' == prompt or 'quit' == prompt or 'Q' == prompt:\n",
    "            print(\"Thank you , that was a nice chat !!\")\n",
    "            return\n",
    "        elif len(prompt) > 0:\n",
    "            with self.out:\n",
    "                thinking = ipw.Label(value=\"Thinking...\")\n",
    "                display(thinking)\n",
    "                try:\n",
    "                    if self.retrievalChain:\n",
    "                        result = self.qa.run({'question': prompt })\n",
    "                    else:\n",
    "                        result = self.qa.run({'input': prompt }) #, 'history':chat_history})\n",
    "                except:\n",
    "                    result = \"No answer\"\n",
    "                thinking.value=\"\"\n",
    "                if self.streaming:\n",
    "                    response = f\"AI:{result}\"\n",
    "                else:\n",
    "                    print_ww(f\"AI:{result}\")\n",
    "                self.name.disabled = True\n",
    "                self.b.disabled = True\n",
    "                self.name = None\n",
    "\n",
    "        if self.name is None:\n",
    "            with self.out:\n",
    "                self.name = ipw.Text(description=\"You:\", placeholder='q to quit')\n",
    "                self.b = ipw.Button(description=\"Send\")\n",
    "                self.b.on_click(self.chat)\n",
    "                display(ipw.Box(children=(self.name, self.b)))"
   ]
  },
  {
   "cell_type": "markdown",
   "metadata": {
    "tags": []
   },
   "source": [
    "#### (1) 채팅을 시작해 보겠습니다. 다음 질문을 테스트할 수도 있습니다.\n",
    "\n",
    "1. 농담 하나 해줘\n",
    "2. 또 다른 농담을 들려주세요\n",
    "3. 첫 번째 농담은 무엇이었나요?\n",
    "4. 첫 번째 농담과 같은 주제로 또 다른 농담을 할 수 있나요?\n",
    "\n",
    "위의 4가지를 순서대로 아래에 입력하시고, \"Send\" 버튼을 눌러 보세요."
   ]
  },
  {
   "cell_type": "code",
   "execution_count": 19,
   "metadata": {
    "tags": []
   },
   "outputs": [],
   "source": [
    "chat = ChatUX(conversation)"
   ]
  },
  {
   "cell_type": "code",
   "execution_count": 20,
   "metadata": {
    "tags": []
   },
   "outputs": [
    {
     "name": "stdout",
     "output_type": "stream",
     "text": [
      "Starting chat bot\n"
     ]
    },
    {
     "data": {
      "application/vnd.jupyter.widget-view+json": {
       "model_id": "30b1660b8ca94dc68530bec05fd0a753",
       "version_major": 2,
       "version_minor": 0
      },
      "text/plain": [
       "Output()"
      ]
     },
     "metadata": {},
     "output_type": "display_data"
    }
   ],
   "source": [
    "chat = ChatUX(conversation)\n",
    "chat.start_chat()"
   ]
  },
  {
   "cell_type": "markdown",
   "metadata": {
    "tags": []
   },
   "source": [
    "# 5.페르소나를 활용한 챗봇"
   ]
  },
  {
   "cell_type": "markdown",
   "metadata": {},
   "source": [
    "AI 비서가 커리어 코치 역할을 하게 됩니다. \n",
    "- 역할극 대화에서는 채팅을 시작하기 전에 사용자 메시지를 설정해야 합니다. ConversationBufferMemory는 대화 상자를 미리 채우는 데 사용됩니다."
   ]
  },
  {
   "cell_type": "markdown",
   "metadata": {},
   "source": [
    "### (1) ConversationChain 생성 필요한 메모리 초기화, Bedrock Claude 설정"
   ]
  },
  {
   "cell_type": "code",
   "execution_count": 21,
   "metadata": {
    "tags": []
   },
   "outputs": [
    {
     "name": "stdout",
     "output_type": "stream",
     "text": [
      "memory=ConversationBufferMemory(chat_memory=ChatMessageHistory(messages=[HumanMessage(content='당신은 직업 코치로 활동하게 될 것입니다. 귀하의 목표는 사용자에게 직업 조언을 제공하는 것입니다'), AIMessage(content='나는 직업 코치이며 직업에 대한 조언을 제공합니다')]), return_messages=True) verbose=True llm=Bedrock(client=<botocore.client.BedrockRuntime object at 0x7fe9704a0eb0>, model_id='anthropic.claude-v2', model_kwargs={'max_tokens_to_sample': 1000, 'temperature': 0, 'top_k': 250, 'top_p': 0.999, 'stop_sequences': ['\\n\\nHuman:']}, streaming=True, callbacks=[<langchain.callbacks.streaming_stdout.StreamingStdOutCallbackHandler object at 0x7fe96da43b80>])\n",
      "claude_prompt: \n",
      " input_variables=['history', 'input'] template=\"\\n\\n\\nHuman: Here's a friendly conversation between a user and an AI.\\nThe AI is talkative and provides lots of contextualized details.\\nIf it doesn't know, it will honestly say that it doesn't know the answer to the question.\\n\\nCurrent conversation:\\n{history}\\n\\nUser: {input}\\n\\n\\n\\nAssistant:\\n\"\n"
     ]
    }
   ],
   "source": [
    "# llm\n",
    "llm_text = Bedrock(\n",
    "    model_id=bedrock_info.get_model_id(model_name=\"Claude-V2\"),\n",
    "    client=boto3_bedrock,\n",
    "    model_kwargs={\n",
    "        \"max_tokens_to_sample\": 1000,\n",
    "        \"temperature\": 0,\n",
    "        \"top_k\": 250,\n",
    "        \"top_p\": 0.999,\n",
    "        \"stop_sequences\": [\"\\n\\nHuman:\"]\n",
    "    },\n",
    "    streaming=True,\n",
    "    callbacks=[StreamingStdOutCallbackHandler()],\n",
    ")\n",
    "\n",
    "# memory\n",
    "# store previous interactions using ConversationalBufferMemory and add custom prompts to the chat.\n",
    "memory = chat_utils.get_memory(\n",
    "    memory_type=\"ConversationBufferMemory\",\n",
    "    memory_key=\"history\"\n",
    ")\n",
    "\n",
    "memory.chat_memory.add_user_message(\"당신은 직업 코치로 활동하게 될 것입니다. 귀하의 목표는 사용자에게 직업 조언을 제공하는 것입니다\")\n",
    "memory.chat_memory.add_ai_message(\"나는 직업 코치이며 직업에 대한 조언을 제공합니다\")\n",
    "\n",
    "# conversation chain\n",
    "conversation = ConversationChain(\n",
    "    llm=llm_text,\n",
    "    verbose=True,\n",
    "    memory=memory\n",
    ")\n",
    "print(conversation)\n",
    "\n",
    "# langchain prompts do not always work with all the models. This prompt is tuned for Claude\n",
    "claude_prompt = PromptTemplate.from_template(\"\"\"\n",
    "\\n\\nHuman: Here's a friendly conversation between a user and an AI.\n",
    "The AI is talkative and provides lots of contextualized details.\n",
    "If it doesn't know, it will honestly say that it doesn't know the answer to the question.\n",
    "\n",
    "Current conversation:\n",
    "{history}\n",
    "\n",
    "User: {input}\n",
    "\n",
    "\\n\\nAssistant:\n",
    "\"\"\"\n",
    ")\n",
    "\n",
    "\n",
    "print(\"claude_prompt: \\n\", claude_prompt)\n",
    "conversation.prompt = claude_prompt"
   ]
  },
  {
   "cell_type": "markdown",
   "metadata": {},
   "source": [
    "### (2) 인공지능 관련 직업 질문"
   ]
  },
  {
   "cell_type": "code",
   "execution_count": 22,
   "metadata": {
    "tags": []
   },
   "outputs": [
    {
     "name": "stdout",
     "output_type": "stream",
     "text": [
      "\n",
      "\n",
      "\u001b[1m> Entering new ConversationChain chain...\u001b[0m\n",
      "Prompt after formatting:\n",
      "\u001b[32;1m\u001b[1;3m\n",
      "\n",
      "\n",
      "Human: Here's a friendly conversation between a user and an AI.\n",
      "The AI is talkative and provides lots of contextualized details.\n",
      "If it doesn't know, it will honestly say that it doesn't know the answer to the question.\n",
      "\n",
      "Current conversation:\n",
      "[HumanMessage(content='당신은 직업 코치로 활동하게 될 것입니다. 귀하의 목표는 사용자에게 직업 조언을 제공하는 것입니다'), AIMessage(content='나는 직업 코치이며 직업에 대한 조언을 제공합니다')]\n",
      "\n",
      "User: “인공지능에 관련된 직업은 어떤 것이 있습니까?\n",
      "\n",
      "\n",
      "\n",
      "Assistant:\n",
      "\u001b[0m\n",
      " 네, 인공지능과 관련된 직업은 다음과 같습니다:\n",
      "\n",
      "- AI 연구원 - AI 알고리즘과 모델을 연구하고 개발합니다. \n",
      "\n",
      "- 데이터 사이언티스트 - 대규모 데이터를 수집, 처리, 분석하고 AI 모델을 훈련시킵니다.\n",
      "\n",
      "- 머신러닝 엔지니어 - 머신러닝/딥러닝 시스템을 설계, 구축, 유지보수 합니다.\n",
      "\n",
      "- AI 프로덕트 매니저 - AI 제품의 기획, 로드맵 수립 등 AI 비즈니스를 주도합니다.\n",
      "\n",
      "- 로보틱스 엔지니어 - 인공지능이 장착된 로봇의 하드웨어와 소프트웨어를 개발합니다. \n",
      "\n",
      "- 자연어 처리 엔지니어 - 자연어 인식, 이해, 생성 AI를 개발합니다.\n",
      "\n",
      "- 컴퓨터 비전 엔지니어 - 이미지/동영상 인식 AI를 개발합니다. \n",
      "\n",
      "이외에도 UX/UI 디자이너, 비즈니스 애널리스트 등 다양한 직업군이 있습니다. 관심 있는 분야를 탐색하셔서 자신에 맞는 직업을 찾아보세요.\n",
      "\u001b[1m> Finished chain.\u001b[0m\n"
     ]
    }
   ],
   "source": [
    "if llm_text.streaming:\n",
    "    response = conversation.predict(input=\"“인공지능에 관련된 직업은 어떤 것이 있습니까?\")\n",
    "else:\n",
    "    print_ww(conversation.predict(input=\"“인공지능에 관련된 직업은 어떤 것이 있습니까?\"))"
   ]
  },
  {
   "cell_type": "markdown",
   "metadata": {},
   "source": [
    "### (3) 인공지능 관련 직업데 대한 세부 질문"
   ]
  },
  {
   "cell_type": "code",
   "execution_count": 23,
   "metadata": {
    "tags": []
   },
   "outputs": [
    {
     "name": "stdout",
     "output_type": "stream",
     "text": [
      "\n",
      "\n",
      "\u001b[1m> Entering new ConversationChain chain...\u001b[0m\n",
      "Prompt after formatting:\n",
      "\u001b[32;1m\u001b[1;3m\n",
      "\n",
      "\n",
      "Human: Here's a friendly conversation between a user and an AI.\n",
      "The AI is talkative and provides lots of contextualized details.\n",
      "If it doesn't know, it will honestly say that it doesn't know the answer to the question.\n",
      "\n",
      "Current conversation:\n",
      "[HumanMessage(content='당신은 직업 코치로 활동하게 될 것입니다. 귀하의 목표는 사용자에게 직업 조언을 제공하는 것입니다'), AIMessage(content='나는 직업 코치이며 직업에 대한 조언을 제공합니다'), HumanMessage(content='“인공지능에 관련된 직업은 어떤 것이 있습니까?'), AIMessage(content=' 네, 인공지능과 관련된 직업은 다음과 같습니다:\\n\\n- AI 연구원 - AI 알고리즘과 모델을 연구하고 개발합니다. \\n\\n- 데이터 사이언티스트 - 대규모 데이터를 수집, 처리, 분석하고 AI 모델을 훈련시킵니다.\\n\\n- 머신러닝 엔지니어 - 머신러닝/딥러닝 시스템을 설계, 구축, 유지보수 합니다.\\n\\n- AI 프로덕트 매니저 - AI 제품의 기획, 로드맵 수립 등 AI 비즈니스를 주도합니다.\\n\\n- 로보틱스 엔지니어 - 인공지능이 장착된 로봇의 하드웨어와 소프트웨어를 개발합니다. \\n\\n- 자연어 처리 엔지니어 - 자연어 인식, 이해, 생성 AI를 개발합니다.\\n\\n- 컴퓨터 비전 엔지니어 - 이미지/동영상 인식 AI를 개발합니다. \\n\\n이외에도 UX/UI 디자이너, 비즈니스 애널리스트 등 다양한 직업군이 있습니다. 관심 있는 분야를 탐색하셔서 자신에 맞는 직업을 찾아보세요.')]\n",
      "\n",
      "User: 이 직업들은 실제로 무엇을 하는가요? 재미있나요?\n",
      "\n",
      "\n",
      "\n",
      "Assistant:\n",
      "\u001b[0m\n",
      " 네, 인공지능 관련 직업들이 실제로 하는 일과 재미있는 점에 대해 더 자세히 설명드리겠습니다.\n",
      "\n",
      "AI 연구원은 새로운 알고리즘과 모델을 연구하고 개발하는 일을 합니다. 인간의 지능을 컴퓨터에 구현하는 일은 정말 흥미롭고 도전적인 일이에요. \n",
      "\n",
      "데이터 사이언티스트는 대량의 데이터를 다루고 AI 모델을 훈련시키는 일을 합니다. 데이터에서 인사이트를 찾아내는 것이 재미있죠.\n",
      "\n",
      "머신러닝 엔지니어는 실제 제품/서비스에 AI를 구현하고 운영합니다. AI를 실생활에 접목하는 것이 뿌듯하고 의미있는 일이에요.\n",
      "\n",
      "AI 프로덕트 매니저는 AI 기술을 제품화하고 비즈니스화 하는 일을 합니다. AI를 사람들이 사용할 수 있는 서비스로 만드는 것이 중요한 일이죠.\n",
      "\n",
      "로보틱스 엔지니어와 자연어/컴퓨터 비전 엔지니어도 모두 흥미로운 일을 합니다. \n",
      "\n",
      "전체적으로 인공지능은 아직 개척단계의 기술이므로 도전과 창의성이 필요한 분야입니다. 새로운 것을 만들어내는 과정이 재미있죠.\n",
      "\u001b[1m> Finished chain.\u001b[0m\n"
     ]
    }
   ],
   "source": [
    "if llm_text.streaming:\n",
    "    response = conversation.predict(input=\"이 직업들은 실제로 무엇을 하는가요? 재미있나요?\")\n",
    "else:\n",
    "    print_ww(conversation.predict(input=\"이 직업들은 실제로 무엇을 하는가요? 재미있나요?\"))"
   ]
  },
  {
   "cell_type": "markdown",
   "metadata": {
    "tags": []
   },
   "source": [
    "#### Check memory"
   ]
  },
  {
   "cell_type": "code",
   "execution_count": 24,
   "metadata": {
    "tags": []
   },
   "outputs": [
    {
     "name": "stdout",
     "output_type": "stream",
     "text": [
      "{'history': [HumanMessage(content='당신은 직업 코치로 활동하게 될 것입니다. 귀하의 목표는 사용자에게 직업 조언을 제공하는 것입니다'),\n",
      "             AIMessage(content='나는 직업 코치이며 직업에 대한 조언을 제공합니다'),\n",
      "             HumanMessage(content='“인공지능에 관련된 직업은 어떤 것이 있습니까?'),\n",
      "             AIMessage(content=' 네, 인공지능과 관련된 직업은 다음과 같습니다:\\n\\n- AI 연구원 - AI 알고리즘과 모델을 연구하고 개발합니다. \\n\\n- 데이터 사이언티스트 - 대규모 데이터를 수집, 처리, 분석하고 AI 모델을 훈련시킵니다.\\n\\n- 머신러닝 엔지니어 - 머신러닝/딥러닝 시스템을 설계, 구축, 유지보수 합니다.\\n\\n- AI 프로덕트 매니저 - AI 제품의 기획, 로드맵 수립 등 AI 비즈니스를 주도합니다.\\n\\n- 로보틱스 엔지니어 - 인공지능이 장착된 로봇의 하드웨어와 소프트웨어를 개발합니다. \\n\\n- 자연어 처리 엔지니어 - 자연어 인식, 이해, 생성 AI를 개발합니다.\\n\\n- 컴퓨터 비전 엔지니어 - 이미지/동영상 인식 AI를 개발합니다. \\n\\n이외에도 UX/UI 디자이너, 비즈니스 애널리스트 등 다양한 직업군이 있습니다. 관심 있는 분야를 탐색하셔서 자신에 맞는 직업을 찾아보세요.'),\n",
      "             HumanMessage(content='이 직업들은 실제로 무엇을 하는가요? 재미있나요?'),\n",
      "             AIMessage(content=' 네, 인공지능 관련 직업들이 실제로 하는 일과 재미있는 점에 대해 더 자세히 설명드리겠습니다.\\n\\nAI 연구원은 새로운 알고리즘과 모델을 연구하고 개발하는 일을 합니다. 인간의 지능을 컴퓨터에 구현하는 일은 정말 흥미롭고 도전적인 일이에요. \\n\\n데이터 사이언티스트는 대량의 데이터를 다루고 AI 모델을 훈련시키는 일을 합니다. 데이터에서 인사이트를 찾아내는 것이 재미있죠.\\n\\n머신러닝 엔지니어는 실제 제품/서비스에 AI를 구현하고 운영합니다. AI를 실생활에 접목하는 것이 뿌듯하고 의미있는 일이에요.\\n\\nAI 프로덕트 매니저는 AI 기술을 제품화하고 비즈니스화 하는 일을 합니다. AI를 사람들이 사용할 수 있는 서비스로 만드는 것이 중요한 일이죠.\\n\\n로보틱스 엔지니어와 자연어/컴퓨터 비전 엔지니어도 모두 흥미로운 일을 합니다. \\n\\n전체적으로 인공지능은 아직 개척단계의 기술이므로 도전과 창의성이 필요한 분야입니다. 새로운 것을 만들어내는 과정이 재미있죠.')]}\n"
     ]
    }
   ],
   "source": [
    "pprint(memory.load_memory_variables({}))"
   ]
  },
  {
   "cell_type": "markdown",
   "metadata": {},
   "source": [
    "# 6. 맥락을 가진 챗봇"
   ]
  },
  {
   "cell_type": "markdown",
   "metadata": {},
   "source": [
    "## 상황에 맞는 챗봇\n",
    "이 사용 사례에서는 Chatbot에게 이전에 본 적이 없는 외부 코퍼스의 질문에 답변하도록 요청합니다. 이를 위해 RAG(Retrieval Augmented Generation)라는 패턴을 적용합니다. 아이디어는 말뭉치를 덩어리로 인덱싱한 다음 덩어리와 질문 사이의 의미론적 유사성을 사용하여 말뭉치의 어느 섹션이 답변을 제공하는 데 관련될 수 있는지 찾는 것입니다. 마지막으로 가장 관련성이 높은 청크가 집계되어 기록을 제공하는 것과 유사하게 ConversationChain에 컨텍스트로 전달됩니다.\n",
    "\n",
    "**Titan Embeddings Model**을 사용하여 벡터를 생성하겠습니다. 그런 다음 이 벡터는 메모리 내 벡터 데이터 저장소를 제공하는 Amazon OpenSearch에 저장됩니다. 챗봇이 질문을 받으면 OpenSearch에 질문을 쿼리하고 의미상 가장 가까운 텍스트를 검색합니다. 이것이 우리의 대답이 될 것입니다."
   ]
  },
  {
   "cell_type": "markdown",
   "metadata": {},
   "source": [
    "## 6.1 2022년 아마존 주주 서한 문서로 구현 (PDF 문서)"
   ]
  },
  {
   "cell_type": "markdown",
   "metadata": {},
   "source": [
    "### Amazon Titan Embedding 모델 사용 \n",
    "- model_id=\"amazon.titan-embed-text-v1\"\n",
    "- 이 모델은 최대 8,192 Token 입력이 가능합니다."
   ]
  },
  {
   "cell_type": "code",
   "execution_count": 144,
   "metadata": {
    "tags": []
   },
   "outputs": [],
   "source": [
    "from langchain.embeddings import BedrockEmbeddings"
   ]
  },
  {
   "cell_type": "code",
   "execution_count": 145,
   "metadata": {
    "tags": []
   },
   "outputs": [],
   "source": [
    "bedrock_embeddings = BedrockEmbeddings(\n",
    "    client=boto3_bedrock,\n",
    "    model_id=bedrock_info.get_model_id(\n",
    "        model_name=\"Titan-Embeddings-G1\"\n",
    "    )\n",
    ")"
   ]
  },
  {
   "cell_type": "markdown",
   "metadata": {},
   "source": [
    "### PyPDFDirectoryLoader 를 통한 PDF 파일 로딩\n",
    "- chunk_size 는 임베딩 모델의 최대 입력 토큰 (8,192) 수를 고려하여 정해야 합니다."
   ]
  },
  {
   "cell_type": "code",
   "execution_count": 146,
   "metadata": {
    "tags": []
   },
   "outputs": [],
   "source": [
    "import numpy as np\n",
    "from langchain.text_splitter import CharacterTextSplitter, RecursiveCharacterTextSplitter, SpacyTextSplitter\n",
    "from langchain.document_loaders import PyPDFLoader, PyPDFDirectoryLoader\n",
    "from langchain.vectorstores import FAISS\n",
    "from langchain.indexes.vectorstore import VectorStoreIndexWrapper"
   ]
  },
  {
   "cell_type": "code",
   "execution_count": 147,
   "metadata": {
    "tags": []
   },
   "outputs": [],
   "source": [
    "loader = PyPDFDirectoryLoader(\"./rag_data_kr_pdf/\")"
   ]
  },
  {
   "cell_type": "markdown",
   "metadata": {},
   "source": [
    "* RecursiveCharacterTextSplitter: charater based splitter"
   ]
  },
  {
   "cell_type": "code",
   "execution_count": 148,
   "metadata": {
    "tags": []
   },
   "outputs": [],
   "source": [
    "# documents = loader.load()\n",
    "# # - in our testing Character split works better with this PDF data set\n",
    "# text_splitter = RecursiveCharacterTextSplitter(\n",
    "#     # Set a really small chunk size, just to show.\n",
    "#     chunk_size=1024,\n",
    "#     chunk_overlap=256,\n",
    "#     # separators = ['\\n'],\n",
    "#     separators = ['\\n','\\n\\n']\n",
    "# )\n",
    "# docs = text_splitter.split_documents(documents)"
   ]
  },
  {
   "cell_type": "code",
   "execution_count": 149,
   "metadata": {
    "collapsed": true,
    "jupyter": {
     "outputs_hidden": true
    },
    "tags": []
   },
   "outputs": [
    {
     "data": {
      "text/plain": [
       "[Document(page_content='CEO로서 두 번째 연례 주주 서한을 작성하기 위해 자리에 앉았을 때 저는 Amazon의 앞날에 대해 낙관적이고 활력을 얻었습니다. 2022년은 최근 기억에 있어 어려운 거시경제적 해 중 하나이고 우리 자체의 운영상의 어려움에도 불구하고 우리는 여전히 수요를 늘릴 방법을 찾았습니다(팬데믹 전반기에 경험한 전례 없는 성장에 더해). 우리는 장단기적으로 고객 경험을 의미 있게 개선하기 위해 대규모 사업을 혁신했습니다. 그리고 고객, 주주 및 직원을 위해 Amazon의 미래를 바꿀 수 있다고 믿는 장기 투자를 계속 유지하면서 투자 결정과 앞으로 나아갈 방법에 중요한 조정을 했습니다.  작년에 이례적인 수의 동시 도전 과제가 있었지만 현실은 유능하고 자금이 충분한 경쟁자가 많은 크고 역동적인 글로벌 시장 부문에서 운영하는 경우(아마존이 모든 비즈니스를 운영하는 조건) 조건이 오랫동안 정체되어 있는 경우는 드뭅니다.  제가 Amazon에 근무한 25년 동안 끊임없는 변화가 있었고 그 중 대부분은 우리가 스스로 시작했습니다. 내가 1997년에 Amazon에 입사했을 때 우리는 1996년에 1,500만 달러의 매출을 올렸고, 도서 전용 소매업체였으며, 제3자 시장이 없었고, 미국 내 주소로만 배송되었습니다. 오늘날 Amazon은 단위 판매의 60%를 차지하고 전 세계 거의 모든 국가의 고객에게 도달하는 활기찬 타사 판매자 에코시스템을 통해 상상할 수 있는 거의 모든 물리적 및 디지털 소매 품목을 판매합니다. 마찬가지로 클라우드에서 일련의 기술 인프라 서비스를 중심으로 비즈니스를 구축하는 것은 AWS를 추구하기 시작한 2003년에는 분명하지 않았으며 2006년 첫 서비스를 출시했을 때도 마찬가지였습니다. 거의 모든 책을 60초 안에 손끝에서 볼 수 있습니다 2007년 Kindle을 출시했을 때 가벼운 디지털 리더에 저장하고 검색할 수 있다는 것은 아직 \"사물\"이 아니었고 Alexa(2014년 출시)와 같이 액세스하는 데 사용할 수 있는 음성 기반 개인 비서도 아니었습니다. 엔터테인먼트, 스마트 홈 제어, 쇼핑 및 모든 종류의 정보 검색.  또한 거시 경제 상황이나 운영 비효율성으로 인해 우리에게 새로운 과제가 제시된 경우도 있었습니다. 예를 들어 2001년 닷컴 폭락 당시 우리는 연휴 기간 동안 재고를 구매하기 위해 신용장을 확보해야 했고 비즈니스의 더 나은 수익성을 제공하기 위해 비용을 합리화해야 했지만 여전히 우리가 노력하고 있던 장기적인 고객 경험과 비즈니스를 우선시했습니다. 빌드(기억한다면, 우리는 실제로 2001년 그 미미한 기간 동안 대부분의 범주에서 가격을 낮췄습니다). 2008-2009년에 모기지 담보 증권 금융 위기로 촉발된 경기 침체를 견디면서 이런 종류의 균형을 다시 보았습니다. 우리는 매장 비즈니스의 비용 구조와 효율성을 관리하기 위해 몇 가지 조치를 취했지만, 주주에게 강력한 수익을 제공하는 실질적인 미래 비즈니스가 될 수 있다고 생각하는 고객 경험에 대한 투자와 이러한 합리화의 균형을 맞췄습니다. 2008년에 AWS는 여전히 상당히 작고 신생 기업이었습니다. 우리는 우리가 무언가를 하고 있다는 것을 알고 있었지만 ', metadata={'source': 'rag_data_kr_pdf/2022-Amazon-Stakeholder-Letter-KR.pdf', 'page': 0}),\n",
       " Document(page_content='여전히 상당한 자본 투자가 필요했습니다. 회사 안팎에서는 아마존(당시 주로 온라인 소매업체로 알려짐)이 클라우드 컴퓨팅에 많은 투자를 하는 이유에 대해 의문을 제기하는 목소리가 있었습니다. 그러나 우리는 미래에 고객과 아마존을 위해 많은 가치를 창출할 수 있는 특별한 것을 발명하고 있다는 것을 알고 있었습니다. 우리는 잠재적 경쟁자보다 먼저 출발했습니다. 무엇보다 우리는 혁신 속도를 가속화하고 싶었습니다. 우리는 AWS에 계속 투자하기로 장기적인 결정을 내렸습니다. 15년 후 AWS는 이제 신생 기업에서 다국적 기업, 공공 부문 조직에 이르기까지 고객이 기술 인프라를 관리하는 방식을 변화시킨 강력한 수익성을 갖춘 연간 매출 850억 달러 규모의 기업이 되었습니다. 2008-2009년 기간 동안 AWS에 대한 투자를 늦추었다면 Amazon은 다른 회사가 되었을 것입니다.  변화는 항상 가까이에 있습니다. 때로는 적극적으로 초대하고 때로는 그냥 노크합니다. 그러나 그것이 오는 것을 보았을 때, 그것을 받아들여야 합니다. 그리고 장기간에 걸쳐 이를 잘 수행하는 회사는 일반적으로 성공합니다. 나는 우리 팀이 우리 앞에 보이는 변화에 대응하는 방식이 마음에 들기 때문에 우리의 미래 전망에 대해 낙관적입니다.  지난 몇 달 동안 우리는 회사 전체를 비즈니스별로, 발명별로 자세히 살펴보고 각 이니셔티브의 장기적인 잠재력에 대해 충분한 수익, 운영 수입, 무료 현금 흐름, 투자 자본 수익률. 경우에 따라 특정 비즈니스를 폐쇄하게 되었습니다. 예를 들어 우리는 서점 및 4스타 매장과 같은 물리적 매장 개념 추구를 중단하고 Amazon Fabric 및 Amazon Care 노력을 중단했으며 의미 있는 수익을 얻을 수 있는 경로가 보이지 않는 일부 최신 장치에서 전환했습니다. 다른 경우에는 우리가 기대했던 수익을 내지 못하는 일부 프로그램(예: $35 이상의 모든 온라인 식료품 주문에 대한 무료 배송)을 살펴보고 수정했습니다. 우리는 또한 리소스를 어디에 사용할지 우선 순위를 재지정했고, 결국 27,000개의 회사 역할을 제거하는 어려운 결정을 내렸습니다. 전체 비용을 합리화하기 위해 지난 몇 개월 동안 수행한 다른 변경 사항이 많이 있으며 대부분의 리더십 팀과 마찬가지로 비즈니스에서 보고 있는 사항을 계속 평가하고 적응적으로 진행할 것입니다.  우리는 또한 팀으로 어떻게 협력하고 있는지 열심히 살펴보았고 회사 직원들에게 5월부터 일주일에 최소 3일은 사무실로 돌아올 것을 요청했습니다. 팬데믹 기간 동안 우리 직원들은 집에서 일하기 위해 집결했으며 예상치 못한 상황에 대처하기 위해 가능한 모든 일을 했습니다. 그것은 인상적이었고 저는 우리의 집단적 팀이 고객, 지역 사회 및 비즈니스에 대한 전례 없는 도전을 극복하기 위해 함께 모인 방식이 자랑스럽습니다. 그러나 우리는 이것이 최선의 장기적 접근 방식이라고 생각하지 않습니다. 우리는 함께 일하고 직접 서로에게서 배울 때 협업과 발명이 더 쉽고 효과적이라는 것을 확신하게 되었습니다. 서로의 아이디어에 대한 에너지와 반복은 더 자유롭게 발생하며 최고의 Amazon 발명품 중 다수는 사람들이 회의 후 뒤에 남아 화이트보드에서 ', metadata={'source': 'rag_data_kr_pdf/2022-Amazon-Stakeholder-Letter-KR.pdf', 'page': 1}),\n",
       " Document(page_content='아이디어를 검토하거나 회의에서 돌아오는 길에 대화를 계속하면서 획기적인 순간을 맞이했습니다. , 또는 다른 생각으로 그날 늦게 팀원의 사무실에 들르는 것. 발명은 종종 지저분합니다. 그것은 방황하고 구불 구불하고 마리 네이드합니다. 뜻밖의 상호 작용이 도움이 되며, 가상으로 하는 것보다 직접 만나는 것이 더 많습니다. 또한 우리가 대부분의 시간을 함께 사무실에 있고 동료들에게 둘러싸여 있을 때 우리 문화를 배우고, 모델링하고, 연습하고, 강화하는 것이 훨씬 더 쉽습니다. 혁신과 우리 고유의 문화는 회사로서 처음 29년 동안 매우 중요했으며 다음 29년에도 마찬가지로 그렇게 될 것으로 기대합니다.  우리가 계속해서 해결해야 할 중요한 문제는 매장 주문 처리 네트워크에서 서비스를 제공하는 데 드는 비용(예: Amazon에서 고객에게 제품을 제공하는 비용)이 증가하는 것입니다. 비용 및 배송 속도.  팬데믹 초기에는 많은 오프라인 매장이 문을 닫았고, 우리 소비자 비즈니스는 놀라운 속도로 성장하여 연간 매출이 2019년 2,450억 달러에서 2022년 4,340억 달러로 증가했습니다. 이는 주문 처리 센터 공간을 두 배로 늘려야 함을 의미했습니다. 지난 25년 동안 우리가 구축한 운송 네트워크를 현재 UPS 크기의 라스트 마일 운송 네트워크 구축을 크게 가속화했습니다(항목이 장거리를 통과해야 할 때 효율성과 속도를 지원하기 위한 새로운 분류 센터 네트워크 포함). 약 2년의 시간 동안. 이것은 쉬운 일이 아니었고 수십만 명의 아마존 사람들이 이것을 실현하기 위해 매우 열심히 일했습니다. 그러나 이러한 변화의 속도와 규모로 인해 의도한 생산성을 얻기 위해서는 많은 최적화가 필요했습니다. 지난 몇 달 동안 우리는 주문 처리 센터 및 운송 네트워크의 모든 프로세스 경로를 면밀히 조사하고 수십 가지 프로세스 및 메커니즘을 재설계하여 지난 몇 분기 동안 꾸준한 생산성 향상과 비용 절감을 가져왔습니다. 해야 할 일이 더 많지만 우리의 궤적과 우리 앞에 있는 의미 있는 상승세에 만족합니다.  우리는 또한 앞으로 수년 동안 더 낮은 비용과 더 빠른 속도를 제공할 수 있도록 더 큰 구조적 변화를 만들기 위해 이 기회를 잡았습니다. 좋은 예는 미국 주문 처리 네트워크가 어떻게 구성되어 있는지 재평가하는 것입니다. 최근까지 아마존은 미국 전역에 퍼져 있는 주문 처리 센터의 재고를 분배하는 하나의 미국 전국 주문 처리 네트워크를 운영했습니다. 지역 주문 처리 센터에 고객이 주문한 제품이 없으면 결국 다른 지역에서 배송하게 되므로 더 많은 비용이 들고 배송 시간이 늘어납니다. 이 문제는 주문 처리 네트워크가 지난 몇 년 동안 수백 개의 추가 노드로 확장되어 더 많은 위치에 재고를 분배하고 주문 처리 센터와 배송 스테이션 노드를 효율적으로 연결하는 복잡성이 증가함에 따라 더욱 두드러졌습니다. 작년에 우리는 재고 배치 전략을 재설계하고 더 큰 주문 처리 센터 공간을 활용하여 전국 주문 처리 네트워크에서 지역화된 네트워크 모델로 이동하기 시작했습니다. 우리는 더 작은 지리적 영역에 8개의 상호 연결된 지역을 만들기 위해 ', metadata={'source': 'rag_data_kr_pdf/2022-Amazon-Stakeholder-Letter-KR.pdf', 'page': 2})]"
      ]
     },
     "execution_count": 149,
     "metadata": {},
     "output_type": "execute_result"
    }
   ],
   "source": [
    "docs[:3]"
   ]
  },
  {
   "cell_type": "markdown",
   "metadata": {},
   "source": [
    "* [llmsherpa: layout info. based splitter](https://github.com/nlmatics/llmsherpa)\n",
    "\n",
    "    - https://blog.llamaindex.ai/mastering-pdfs-extracting-sections-headings-paragraphs-and-tables-with-cutting-edge-parser-faea18870125\n",
    "\n",
    "Most PDF to text parsers do not provide layout information. Often times, even the sentences are split with arbritrary CR/LFs making it very difficult to find paragraph boundaries. This poses various challenges in chunking and adding long running contextual information such as section header to the passages while indexing/vectorizing PDFs for LLM applications such as retrieval augmented generation (RAG).\n",
    "\n",
    "LayoutPDFReader solves this problem by parsing PDFs along with hierarchical layout information such as:\n",
    "\n",
    "Sections and subsections along with their levels.\n",
    "Paragraphs - combines lines.\n",
    "Links between sections and paragraphs.\n",
    "Tables along with the section the tables are found in.\n",
    "Lists and nested lists.\n",
    "With LayoutPDFReader, developers can find optimal chunks of text to vectorize, and a solution for limited context window sizes of LLMs."
   ]
  },
  {
   "cell_type": "code",
   "execution_count": 202,
   "metadata": {
    "tags": []
   },
   "outputs": [],
   "source": [
    "import time\n",
    "from langchain.schema import Document\n",
    "from llmsherpa.readers import LayoutPDFReader"
   ]
  },
  {
   "cell_type": "code",
   "execution_count": 205,
   "metadata": {
    "tags": []
   },
   "outputs": [],
   "source": [
    "llmsherpa_api_url = \"https://readers.llmsherpa.com/api/document/developer/parseDocument?renderFormat=all\"\n",
    "pdf_reader = LayoutPDFReader(llmsherpa_api_url)\n",
    "doc = pdf_reader.read_pdf(\"./rag_data_kr_pdf/2022-Amazon-Stakeholder-Letter-KR.pdf\")"
   ]
  },
  {
   "cell_type": "code",
   "execution_count": 225,
   "metadata": {
    "tags": []
   },
   "outputs": [],
   "source": [
    "#doc.json\n",
    "docs = []\n",
    "for chunk_info in doc.chunks():\n",
    "    sentences = \" \".join(chunk_info.sentences)\n",
    "    chunk = Document(\n",
    "        page_content=sentences,\n",
    "        metadata={\n",
    "            \"type\": \"value you want\",\n",
    "            \"timestamp\": time.time()\n",
    "        }\n",
    "    )\n",
    "    docs.append(chunk)"
   ]
  },
  {
   "cell_type": "code",
   "execution_count": 226,
   "metadata": {
    "tags": []
   },
   "outputs": [
    {
     "data": {
      "text/plain": [
       "[Document(page_content='이 보고서는 다음 사람에 대해 작성되었습니다:', metadata={'type': 'value you want', 'timestamp': 1698374268.872828}),\n",
       " Document(page_content='인쇄일 2023년 01월 19일', metadata={'type': 'value you want', 'timestamp': 1698374268.8728795}),\n",
       " Document(page_content='버크만 리포트(Birkman Report)는?', metadata={'type': 'value you want', 'timestamp': 1698374268.872892}),\n",
       " Document(page_content='버크만 리포트는 당신이 버크만 검사지에 응답한 결과를 바탕으로 커리어 및 커리어와 관련한 데이 터에 대한 개괄적인 내용을 제공합니다.', metadata={'type': 'value you want', 'timestamp': 1698374268.8729014}),\n",
       " Document(page_content='버크만 메소드(Birkman Method®)는 직장에서 이루어진 철저한 경험적 연구를 거쳐 고안되었습니 다. 1950년대에 개발된 이래로 250만 명이 넘는 사람들이 버크만 진단을 받았으며, 그 동안 검사의 타 당성과 신뢰도가 입증되고 당대 심리학 이론과의 일치 여부가 지속적으로 입증되었습니다.', metadata={'type': 'value you want', 'timestamp': 1698374268.8729103}),\n",
       " Document(page_content=\"많은 진단들이 사회화되고 눈에 보이는 행동을 다룹니다. 버크만 메소드(Birkman Method®)는 더 나아가 무엇이 행동을 좌우하고 동기를 부여하는지 분석하고 보고합니다. 우리는 이것을'욕구' (Needs)라고 부릅니다. 욕구는 사회적 상황에서 사람들이 대인관계와 환경에 대해 갖는 기대를 뜻합 니다. 이 욕구가 개인의 행동에 동기를 부여합니다. 사람은 욕구가 충족될 때 긍정적이고 생산적인 방향으로 행동을 합니다. 반면 욕구가 충족되지 못하면 부정적이고 생산적이지 못한 행동(스트레스 행동)을 할 수 있습니다.\", metadata={'type': 'value you want', 'timestamp': 1698374268.87292}),\n",
       " Document(page_content='버크만 메소드는 각 행동 스타일의 고유한 가치와 서로 상반된 관점들의 중요성을 인정합니다. 버크 만 리포트는 개인차에 대해 어떤 판단도 하지 않습니다. 버크만메소드는 행동 스타일을 설명하고 규 정할 수 있도록 고안되었습니다.', metadata={'type': 'value you want', 'timestamp': 1698374268.8729286}),\n",
       " Document(page_content='버크만 리포트에서는 팀과 경력, 직무 적합도를 형성하게 될 직업과 조직의 관점들을 논의합니다.', metadata={'type': 'value you want', 'timestamp': 1698374268.8729362}),\n",
       " Document(page_content='버크만 인터내셔널(Birkman International, Inc.)은 당신의 사생활을 보호하는 데 최선을 다합니다. 당신의 자료는 우리의 안전한 데이터베이스에 저장되어 향후 권한을 가진 사람만이 접근해서 열람 할 수 있도록 유지될 것입니다.', metadata={'type': 'value you want', 'timestamp': 1698374268.8729444}),\n",
       " Document(page_content=\"버크만 리포트는 사람들이 자신을 가능한 잘 이해하도록 돕기 위해 많은 양의 정보를 제공합니다. 하 지만 예비 개관과 같은 이 리포트에서 버크만 메소드가 적용될 수 있는 광범위한 폭과 다양성을 다 루지 못한다는 점을 알아야 합니다. 대부분의 사람들은 전문 지식이 있는 버크만 인증 컨설턴트들의 도움을 받아, 버크만 메소드 질문지를 작성함으로써 많은 정보 를'더 깊이' 알 수 있습니다.\", metadata={'type': 'value you want', 'timestamp': 1698374268.872952})]"
      ]
     },
     "execution_count": 226,
     "metadata": {},
     "output_type": "execute_result"
    }
   ],
   "source": [
    "docs[:10]"
   ]
  },
  {
   "cell_type": "markdown",
   "metadata": {
    "tags": []
   },
   "source": [
    "* SpacyTextSplitter: sentence based splitter"
   ]
  },
  {
   "cell_type": "code",
   "execution_count": 99,
   "metadata": {
    "tags": []
   },
   "outputs": [],
   "source": [
    "# documents = loader.load()\n",
    "# text_splitter = SpacyTextSplitter(\n",
    "#     chunk_size=1024,\n",
    "#     chunk_overlap=512,\n",
    "#     separator=\"\", # seperator to be inserted between sentences \n",
    "#     pipeline=\"ko_core_news_md\"\n",
    "# )\n",
    "# docs = text_splitter.split_documents(documents)"
   ]
  },
  {
   "cell_type": "markdown",
   "metadata": {
    "tags": []
   },
   "source": [
    "### OpenSearch Client 생성\n",
    "### 선수 조건\n",
    "- 아래의 링크를 참조해서 OpenSearch Service 를 생성하고, opensearch_domain_endpoint, http_auth 를 복사해서, 아래 셀의 내용을 대체 하세요.\n",
    "    - [OpenSearch 생성 가이드](https://github.com/gonsoomoon-ml/Kor-LLM-On-SageMaker/blob/main/2-Lab02-QA-with-RAG/4.rag-fsi-data-workshop/TASK-4_OpenSearch_Creation_and_Vector_Insertion.ipynb)\n",
    "### 아래 셀에 다음의 정보가 입력이 되어야 합니다.\n",
    "```\n",
    "opensearch_domain_endpoint = \"<Type Domain Endpoint>\"\n",
    "http_auth = (rag_user_name, rag_user_password) # Master username, Master password\n",
    "\n",
    "```"
   ]
  },
  {
   "cell_type": "code",
   "execution_count": 155,
   "metadata": {
    "tags": []
   },
   "outputs": [],
   "source": [
    "from utils.opensearch import opensearch_utils"
   ]
  },
  {
   "cell_type": "code",
   "execution_count": 170,
   "metadata": {
    "tags": []
   },
   "outputs": [],
   "source": [
    "aws_region = 'us-east-1'\n",
    "\n",
    "os.environ[\"OpenSearch_UserName\"] = \"<Type UserName>\"\n",
    "os.environ[\"OpenSearch_UserPassword\"] = \"<Type Password>\"\n",
    "\n",
    "rag_user_name = os.environ[\"OpenSearch_UserName\"]\n",
    "rag_user_password = os.environ[\"OpenSearch_UserPassword\"]\n",
    "\n",
    "opensearch_domain_endpoint = \"<Type your domain endpoint>\"\n",
    "\n",
    "http_auth = (rag_user_name, rag_user_password) # Master username, Master password\n",
    "\n",
    "os_client = opensearch_utils.create_aws_opensearch_client(\n",
    "    aws_region,\n",
    "    opensearch_domain_endpoint,\n",
    "    http_auth\n",
    ")"
   ]
  },
  {
   "cell_type": "markdown",
   "metadata": {},
   "source": [
    "### OpenSearch 벡터 Indexer 생성\n",
    "- 랭체인 오프서처 참고 자료\n",
    "    - [Langchain Opensearch](https://python.langchain.com/docs/integrations/vectorstores/opensearch)"
   ]
  },
  {
   "cell_type": "markdown",
   "metadata": {},
   "source": [
    "#### 오픈 서치 인덱스 유무에 따라 삭제\n",
    "오픈 서치에 해당 인덱스가 존재하면, 삭제 합니다. "
   ]
  },
  {
   "cell_type": "code",
   "execution_count": 171,
   "metadata": {
    "tags": []
   },
   "outputs": [
    {
     "name": "stdout",
     "output_type": "stream",
     "text": [
      "index_name=genai-demo-chatbot-index-v1, exists=True\n",
      "\n",
      "Deleting index:\n",
      "{'acknowledged': True}\n"
     ]
    }
   ],
   "source": [
    "index_name = \"genai-demo-chatbot-index-v1\"\n",
    "index_exists = opensearch_utils.check_if_index_exists(os_client, index_name)\n",
    "\n",
    "if index_exists:\n",
    "    opensearch_utils.delete_index(os_client, index_name)\n",
    "else:\n",
    "    print(\"Index does not exist\")"
   ]
  },
  {
   "cell_type": "markdown",
   "metadata": {},
   "source": [
    "#### 인덱스 생성"
   ]
  },
  {
   "cell_type": "code",
   "execution_count": 172,
   "metadata": {
    "tags": []
   },
   "outputs": [],
   "source": [
    "from langchain.vectorstores import OpenSearchVectorSearch"
   ]
  },
  {
   "cell_type": "code",
   "execution_count": 173,
   "metadata": {
    "tags": []
   },
   "outputs": [
    {
     "name": "stdout",
     "output_type": "stream",
     "text": [
      "CPU times: user 117 ms, sys: 329 µs, total: 118 ms\n",
      "Wall time: 3.7 s\n"
     ]
    }
   ],
   "source": [
    "%%time\n",
    "# by default langchain would create a k-NN index and the embeddings would be ingested as a k-NN vector type\n",
    "vector_db = OpenSearchVectorSearch.from_documents(\n",
    "    index_name=index_name,\n",
    "    documents=docs,\n",
    "    embedding=bedrock_embeddings,\n",
    "    opensearch_url=opensearch_domain_endpoint,\n",
    "    http_auth=http_auth,\n",
    "    bulk_size=10000,\n",
    "    timeout=60,\n",
    "    is_aoss =False,\n",
    "    engine=\"faiss\",\n",
    "    space_type=\"l2\"\n",
    ")"
   ]
  },
  {
   "cell_type": "markdown",
   "metadata": {},
   "source": [
    "#### 인덱스 확인"
   ]
  },
  {
   "cell_type": "code",
   "execution_count": 174,
   "metadata": {
    "tags": []
   },
   "outputs": [
    {
     "name": "stdout",
     "output_type": "stream",
     "text": [
      "{'genai-demo-chatbot-index-v1': {'aliases': {},\n",
      "                                 'mappings': {'properties': {'metadata': {'properties': {'timestamp': {'type': 'float'},\n",
      "                                                                                         'type': {'fields': {'keyword': {'ignore_above': 256,\n",
      "                                                                                                                         'type': 'keyword'}},\n",
      "                                                                                                  'type': 'text'}}},\n",
      "                                                             'text': {'fields': {'keyword': {'ignore_above': 256,\n",
      "                                                                                             'type': 'keyword'}},\n",
      "                                                                      'type': 'text'},\n",
      "                                                             'vector_field': {'dimension': 1536,\n",
      "                                                                              'method': {'engine': 'faiss',\n",
      "                                                                                         'name': 'hnsw',\n",
      "                                                                                         'parameters': {'ef_construction': 512,\n",
      "                                                                                                        'm': 16},\n",
      "                                                                                         'space_type': 'l2'},\n",
      "                                                                              'type': 'knn_vector'}}},\n",
      "                                 'settings': {'index': {'creation_date': '1698373322957',\n",
      "                                                        'knn': 'true',\n",
      "                                                        'knn.algo_param': {'ef_search': '512'},\n",
      "                                                        'number_of_replicas': '2',\n",
      "                                                        'number_of_shards': '5',\n",
      "                                                        'provided_name': 'genai-demo-chatbot-index-v1',\n",
      "                                                        'uuid': '_8hGCq3ZSROu0_GCoaXIhg',\n",
      "                                                        'version': {'created': '136307827'}}}}}\n"
     ]
    }
   ],
   "source": [
    "index_info = os_client.indices.get(index=index_name)\n",
    "pprint(index_info)"
   ]
  },
  {
   "cell_type": "markdown",
   "metadata": {},
   "source": [
    "### 형태소 분석기 사용하기\n",
    "- 영어권의 문자들과 다르게 한글, 일본어, 중국어 등은 단순한 공백만으로는 좋은 검색 결과를 얻기 힘듭니다.\n",
    "- 출시하고라는 단어가 들어간 문서를 출시하고라는 정확히 같은 단어만으로 검색할 수 있다면 답답하겠죠?\n",
    "- 출시하고라는 단어를 출시, 출시하고 등 다양하게 검색하기 위해서는 형태소 분석기가 필요합니다.\n",
    "- OpenSearch 에서는 2개의 한국어 analyer를 제공하고 있습니다.\n",
    "    - 은전한잎 (seunjeon_tokenizer)\n",
    "        - https://catalog.us-east-1.prod.workshops.aws/workshops/de4e38cb-a0d9-4ffe-a777-bf00d498fa49/ko-KR/indexing/stemming#\n",
    "    - Nori (nori_tokenizer)\n",
    "        - 설명: https://esbook.kimjmin.net/06-text-analysis/6.7-stemming/6.7.2-nori\n",
    "    - Sample 코드에서는 \"Nori\"를 기반으로 진행합니다."
   ]
  },
  {
   "cell_type": "markdown",
   "metadata": {},
   "source": [
    "### [중요] Nori 사용을 위해서는 nori plugin이 설치되어 있어야 합니다.\n",
    "* 자세한 사항은 10_Adv_QuestionAnswering - 02_1_KR_RAG_OpenSearch_Keyword.ipynb를 참고해 주세요"
   ]
  },
  {
   "cell_type": "markdown",
   "metadata": {},
   "source": [
    "#### 인덱싱 수정하기 (형태소 분석시 사용 enablement)"
   ]
  },
  {
   "cell_type": "code",
   "execution_count": 175,
   "metadata": {
    "tags": []
   },
   "outputs": [
    {
     "data": {
      "text/plain": [
       "'genai-demo-chatbot-index-v1-with-tokenizer'"
      ]
     },
     "execution_count": 175,
     "metadata": {},
     "output_type": "execute_result"
    }
   ],
   "source": [
    "new_index_name = f'{index_name}-with-tokenizer'\n",
    "new_index_name"
   ]
  },
  {
   "cell_type": "code",
   "execution_count": 176,
   "metadata": {
    "tags": []
   },
   "outputs": [],
   "source": [
    "tokenizer = \"nori\" #[\"nori\", \"seunjeon\"]\n",
    "analyzer_config = {\n",
    "    \"tokenizer\": tokenizer,\n",
    "    \"tokenizer_type\": f'{tokenizer}_tokenizer',\n",
    "    \"char_filter\": [\"html_strip\"],\n",
    "    \"filter\": [\"nori_number\", \"nori_readingform\", \"lowercase\"],\n",
    "    \"decompound_mode\": \"mixed\",\n",
    "    \"discard_punctuation\": \"true\",\n",
    "    #\"user_dictionary_rules\": [\"c++\", \"워라밸\", \"먹방\"],\n",
    "    #\"user_dictionary\": \"analyzers/F255700190\"\n",
    "}"
   ]
  },
  {
   "cell_type": "code",
   "execution_count": 177,
   "metadata": {
    "tags": []
   },
   "outputs": [],
   "source": [
    "# Setting for \"Nori\" Tokenizer (변경 없음)\n",
    "index_info[index_name][\"settings\"][\"analysis\"] = {\n",
    "    \"tokenizer\": {\n",
    "        analyzer_config[\"tokenizer\"]: {\n",
    "            \"type\": analyzer_config[\"tokenizer_type\"],\n",
    "            \"decompound_mode\": analyzer_config[\"decompound_mode\"],\n",
    "            \"discard_punctuation\": analyzer_config[\"discard_punctuation\"],\n",
    "            #\"user_dictionary_rules\": analyzer_config[\"user_dictionary_rules\"],\n",
    "            #\"user_dictionary\": analyzer_config[\"user_dictionary\"],\n",
    "        }\n",
    "    },\n",
    "    \"analyzer\": {\n",
    "        \"my_analyzer\": {\n",
    "            \"type\": \"custom\",\n",
    "            \"tokenizer\": analyzer_config[\"tokenizer\"],\n",
    "            \"char_filter\": analyzer_config[\"char_filter\"],\n",
    "            \"filter\": analyzer_config[\"filter\"],\n",
    "        }\n",
    "    }\n",
    "}\n",
    "\n",
    "\n",
    "# Setting for Columns to be adapted by Tokenizer (tokenizer가 적용될 컬럼에 맞춰서 수정)\n",
    "index_info[index_name][\"mappings\"][\"properties\"][\"text\"][\"analyzer\"] = \"my_analyzer\"\n",
    "index_info[index_name][\"mappings\"][\"properties\"][\"text\"][\"search_analyzer\"] = \"my_analyzer\"\n",
    "\n",
    "# Setting for vector index column (변경 없음)\n",
    "index_info[index_name][\"settings\"][\"index\"] = {\n",
    "    \"number_of_shards\": \"5\",\n",
    "    \"knn.algo_param\": {\"ef_search\": \"512\"},\n",
    "    \"knn\": \"true\",\n",
    "    \"number_of_replicas\": \"2\"\n",
    "}\n",
    "del index_info[index_name][\"aliases\"]\n",
    "new_index_info = index_info[index_name]"
   ]
  },
  {
   "cell_type": "code",
   "execution_count": 178,
   "metadata": {
    "tags": []
   },
   "outputs": [
    {
     "name": "stdout",
     "output_type": "stream",
     "text": [
      "{'mappings': {'properties': {'metadata': {'properties': {'timestamp': {'type': 'float'},\n",
      "                                                         'type': {'fields': {'keyword': {'ignore_above': 256,\n",
      "                                                                                         'type': 'keyword'}},\n",
      "                                                                  'type': 'text'}}},\n",
      "                             'text': {'analyzer': 'my_analyzer',\n",
      "                                      'fields': {'keyword': {'ignore_above': 256,\n",
      "                                                             'type': 'keyword'}},\n",
      "                                      'search_analyzer': 'my_analyzer',\n",
      "                                      'type': 'text'},\n",
      "                             'vector_field': {'dimension': 1536,\n",
      "                                              'method': {'engine': 'faiss',\n",
      "                                                         'name': 'hnsw',\n",
      "                                                         'parameters': {'ef_construction': 512,\n",
      "                                                                        'm': 16},\n",
      "                                                         'space_type': 'l2'},\n",
      "                                              'type': 'knn_vector'}}},\n",
      " 'settings': {'analysis': {'analyzer': {'my_analyzer': {'char_filter': ['html_strip'],\n",
      "                                                        'filter': ['nori_number',\n",
      "                                                                   'nori_readingform',\n",
      "                                                                   'lowercase'],\n",
      "                                                        'tokenizer': 'nori',\n",
      "                                                        'type': 'custom'}},\n",
      "                           'tokenizer': {'nori': {'decompound_mode': 'mixed',\n",
      "                                                  'discard_punctuation': 'true',\n",
      "                                                  'type': 'nori_tokenizer'}}},\n",
      "              'index': {'knn': 'true',\n",
      "                        'knn.algo_param': {'ef_search': '512'},\n",
      "                        'number_of_replicas': '2',\n",
      "                        'number_of_shards': '5'}}}\n"
     ]
    }
   ],
   "source": [
    "pprint(new_index_info)"
   ]
  },
  {
   "cell_type": "markdown",
   "metadata": {},
   "source": [
    "#### 형태소 분석기용 인덱서 생성"
   ]
  },
  {
   "cell_type": "code",
   "execution_count": 179,
   "metadata": {
    "tags": []
   },
   "outputs": [
    {
     "name": "stdout",
     "output_type": "stream",
     "text": [
      "index_name=genai-demo-chatbot-index-v1-with-tokenizer, exists=False\n",
      "Index does not exist\n"
     ]
    }
   ],
   "source": [
    "index_exists = opensearch_utils.check_if_index_exists(os_client, new_index_name)\n",
    "if index_exists:\n",
    "    opensearch_utils.delete_index(os_client, new_index_name)\n",
    "else:\n",
    "    print(\"Index does not exist\")"
   ]
  },
  {
   "cell_type": "code",
   "execution_count": 180,
   "metadata": {
    "tags": []
   },
   "outputs": [
    {
     "name": "stdout",
     "output_type": "stream",
     "text": [
      "\n",
      "Creating index:\n",
      "{'acknowledged': True, 'shards_acknowledged': True, 'index': 'genai-demo-chatbot-index-v1-with-tokenizer'}\n"
     ]
    }
   ],
   "source": [
    "opensearch_utils.create_index(\n",
    "    os_client,\n",
    "    index_name=new_index_name,\n",
    "    index_body=new_index_info\n",
    ")"
   ]
  },
  {
   "cell_type": "markdown",
   "metadata": {},
   "source": [
    "#### Re-indexing"
   ]
  },
  {
   "cell_type": "code",
   "execution_count": 181,
   "metadata": {
    "tags": []
   },
   "outputs": [
    {
     "name": "stdout",
     "output_type": "stream",
     "text": [
      "_reindex: \n",
      " {'source': {'index': 'genai-demo-chatbot-index-v1'}, 'dest': {'index': 'genai-demo-chatbot-index-v1-with-tokenizer'}}\n"
     ]
    }
   ],
   "source": [
    "_reindex = {\n",
    "    \"source\": {\"index\": index_name},\n",
    "    \"dest\": {\"index\": new_index_name}\n",
    "}\n",
    "print(\"_reindex: \\n\", _reindex)"
   ]
  },
  {
   "cell_type": "code",
   "execution_count": 182,
   "metadata": {
    "tags": []
   },
   "outputs": [
    {
     "data": {
      "text/plain": [
       "{'took': 100,\n",
       " 'timed_out': False,\n",
       " 'total': 34,\n",
       " 'updated': 0,\n",
       " 'created': 34,\n",
       " 'deleted': 0,\n",
       " 'batches': 1,\n",
       " 'version_conflicts': 0,\n",
       " 'noops': 0,\n",
       " 'retries': {'bulk': 0, 'search': 0},\n",
       " 'throttled_millis': 0,\n",
       " 'requests_per_second': -1.0,\n",
       " 'throttled_until_millis': 0,\n",
       " 'failures': []}"
      ]
     },
     "execution_count": 182,
     "metadata": {},
     "output_type": "execute_result"
    }
   ],
   "source": [
    "os_client.reindex(_reindex)"
   ]
  },
  {
   "cell_type": "markdown",
   "metadata": {},
   "source": [
    "#### 키워드 검색 체크"
   ]
  },
  {
   "cell_type": "code",
   "execution_count": 183,
   "metadata": {
    "tags": []
   },
   "outputs": [
    {
     "name": "stdout",
     "output_type": "stream",
     "text": [
      "query:  {'query': {'bool': {'must': [{'match': {'text': {'query': '아마존', 'minimum_should_match': '0%', 'operator': 'or'}}}], 'filter': []}}}\n",
      "# of searched docs:  7\n",
      "# of display: 3\n",
      "---------------------\n",
      "_id in index:  652667ce-abf7-43a8-90fa-26db89d8269c\n",
      "1.475063\n",
      "국제적으로 확장하고, 아직 아마존의 초기 단계인 대규모 소매 시장 부문을 추구하고, 판매자가 자신의 웹사이트에서 보다 효과적으로 판매할 수 있도록 돕기 위해 우리의 고유한 자산을 사용하는 것은 우리에게 어느 정도 자연스러운 확장입니다. 핵심 비즈니스에서 더 멀리 떨어져 있지만 고유한 기회가 있는 투자도 몇 가지 있습니다. 2003 년에는 AWS 가 전형적인 예였습니다.\n",
      "{'type': 'value you want', 'timestamp': 1698373064.8914099}\n",
      "---------------------\n",
      "_id in index:  44331d37-25aa-4a6d-913e-cdcad98a7a44\n",
      "1.406829\n",
      "마찬가지로 높은 잠재력을 지닌 Amazon 의 광고 비즈니스는 브랜드에 고유한 효과를 발휘하며, 이는 계속해서 빠른 속도로 성장하는 이유 중 하나입니다. 선반 공간, 엔드 캡, 원형 배치를 판매하는 물리적 소매업체의 광고 사업과 유사하게, 당사가 후원하는 제품 및 브랜드 제품은 10 년 이상 아마존 쇼핑 경험의 필수적인 부분이었습니다. 그러나 실제 소매업체와 달리 Amazon 은 쇼핑 행동에 대해 알고 있는 것과 기계 학습 알고리즘에 대한 우리의 매우 깊은 투자를 고려할 때 이러한 후원 제품을 고객이 검색하는 것과 관련이 있도록 조정할 수 있습니다. 이는 고객에게 더 유용한 광고로 이어집니다. 결과적으로 브랜드에 더 나은 성능을 제공합니다. 이것이 우리의 광고 수익이 지난 2022 년 4 분기에 23% YoY, 310 억 달러 수익 기반에서 2022 년에 전체적으로 25% YoY 성장을 지속한 이유 중 하나입니다. 몇 분기.\n",
      "{'type': 'value you want', 'timestamp': 1698373064.89133}\n",
      "---------------------\n",
      "_id in index:  1bcc2bc6-de73-486c-a13f-f2a7cf0d10f9\n",
      "1.3595777\n",
      "작년에 이례적인 수의 동시 도전 과제가 있었지만 현실은 유능하고 자금이 충분한 경쟁자가 많은 크고 역동적인 글로벌 시장 부문에서 운영하는 경우(아마존이 모든 비즈니스를 운영하는 조건) 조건이 오랫동안 정체되어 있는 경우는 드뭅니다.\n",
      "{'type': 'value you want', 'timestamp': 1698373064.891213}\n",
      "---------------------\n"
     ]
    }
   ],
   "source": [
    "query = \"아마존\"\n",
    "query = opensearch_utils.get_query(\n",
    "    query=query\n",
    ")\n",
    "\n",
    "print(\"query: \", query)\n",
    "response = opensearch_utils.search_document(os_client, query, new_index_name)\n",
    "opensearch_utils.parse_keyword_response(response, show_size=3)"
   ]
  },
  {
   "cell_type": "markdown",
   "metadata": {
    "tags": []
   },
   "source": [
    "#### 형태소 분석 결과 확인\n",
    "\"아마존\" 확인 <BR>\n",
    "#### [중요]:  doc_id: 위의 문서 인덱스 정보 확인 후 수정"
   ]
  },
  {
   "cell_type": "code",
   "execution_count": 184,
   "metadata": {
    "tags": []
   },
   "outputs": [],
   "source": [
    "doc_id = \"1bcc2bc6-de73-486c-a13f-f2a7cf0d10f9\""
   ]
  },
  {
   "cell_type": "code",
   "execution_count": 185,
   "metadata": {
    "collapsed": true,
    "jupyter": {
     "outputs_hidden": true
    },
    "tags": []
   },
   "outputs": [
    {
     "data": {
      "text/plain": [
       "{'_index': 'genai-demo-chatbot-index-v1-with-tokenizer',\n",
       " '_id': '1bcc2bc6-de73-486c-a13f-f2a7cf0d10f9',\n",
       " '_version': 1,\n",
       " 'found': True,\n",
       " 'took': 1,\n",
       " 'term_vectors': {'text': {'field_statistics': {'sum_doc_freq': 768,\n",
       "    'doc_count': 9,\n",
       "    'sum_ttf': 1300},\n",
       "   'terms': {'2': {'term_freq': 3,\n",
       "     'tokens': [{'position': 21, 'start_offset': 38, 'end_offset': 39},\n",
       "      {'position': 45, 'start_offset': 83, 'end_offset': 84},\n",
       "      {'position': 54, 'start_offset': 105, 'end_offset': 106}]},\n",
       "    'ᆫ': {'term_freq': 3,\n",
       "     'tokens': [{'position': 5, 'start_offset': 7, 'end_offset': 8},\n",
       "      {'position': 24, 'start_offset': 42, 'end_offset': 43},\n",
       "      {'position': 35, 'start_offset': 58, 'end_offset': 59}]},\n",
       "    '가': {'term_freq': 2,\n",
       "     'tokens': [{'position': 11, 'start_offset': 20, 'end_offset': 21},\n",
       "      {'position': 27, 'start_offset': 47, 'end_offset': 48}]},\n",
       "    '경우': {'term_freq': 2,\n",
       "     'tokens': [{'position': 43, 'start_offset': 77, 'end_offset': 79},\n",
       "      {'position': 62, 'start_offset': 120, 'end_offset': 122}]},\n",
       "    '경쟁': {'term_freq': 1,\n",
       "     'tokens': [{'position': 25, 'start_offset': 44, 'end_offset': 46}]},\n",
       "    '경쟁자': {'term_freq': 1,\n",
       "     'tokens': [{'position': 25, 'start_offset': 44, 'end_offset': 47}]},\n",
       "    '고': {'term_freq': 2,\n",
       "     'tokens': [{'position': 19, 'start_offset': 34, 'end_offset': 35},\n",
       "      {'position': 31, 'start_offset': 53, 'end_offset': 54}]},\n",
       "    '과제': {'term_freq': 1,\n",
       "     'tokens': [{'position': 10, 'start_offset': 18, 'end_offset': 20}]},\n",
       "    '글로벌': {'term_freq': 1,\n",
       "     'tokens': [{'position': 36, 'start_offset': 60, 'end_offset': 63}]},\n",
       "    '는': {'term_freq': 4,\n",
       "     'tokens': [{'position': 42, 'start_offset': 75, 'end_offset': 76},\n",
       "      {'position': 51, 'start_offset': 97, 'end_offset': 98},\n",
       "      {'position': 61, 'start_offset': 118, 'end_offset': 119},\n",
       "      {'position': 63, 'start_offset': 122, 'end_offset': 123}]},\n",
       "    '도전': {'term_freq': 1,\n",
       "     'tokens': [{'position': 9, 'start_offset': 15, 'end_offset': 17}]},\n",
       "    '동시': {'term_freq': 1,\n",
       "     'tokens': [{'position': 8, 'start_offset': 12, 'end_offset': 14}]},\n",
       "    '동안': {'term_freq': 1,\n",
       "     'tokens': [{'position': 56, 'start_offset': 109, 'end_offset': 111}]},\n",
       "    '되': {'term_freq': 1,\n",
       "     'tokens': [{'position': 58, 'start_offset': 114, 'end_offset': 115}]},\n",
       "    '드': {'term_freq': 1,\n",
       "     'tokens': [{'position': 64, 'start_offset': 124, 'end_offset': 125}]},\n",
       "    '들': {'term_freq': 1,\n",
       "     'tokens': [{'position': 64, 'start_offset': 124, 'end_offset': 125}]},\n",
       "    '를': {'term_freq': 1,\n",
       "     'tokens': [{'position': 48, 'start_offset': 92, 'end_offset': 93}]},\n",
       "    '많': {'term_freq': 1,\n",
       "     'tokens': [{'position': 28, 'start_offset': 49, 'end_offset': 50}]},\n",
       "    '모든': {'term_freq': 1,\n",
       "     'tokens': [{'position': 46, 'start_offset': 85, 'end_offset': 87}]},\n",
       "    '뭅니다': {'term_freq': 1,\n",
       "     'tokens': [{'position': 65, 'start_offset': 125, 'end_offset': 128}]},\n",
       "    '부문': {'term_freq': 1,\n",
       "     'tokens': [{'position': 38, 'start_offset': 67, 'end_offset': 69}]},\n",
       "    '비즈니스': {'term_freq': 1,\n",
       "     'tokens': [{'position': 47, 'start_offset': 88, 'end_offset': 92}]},\n",
       "    '수': {'term_freq': 1,\n",
       "     'tokens': [{'position': 6, 'start_offset': 9, 'end_offset': 10}]},\n",
       "    '시장': {'term_freq': 1,\n",
       "     'tokens': [{'position': 37, 'start_offset': 64, 'end_offset': 66}]},\n",
       "    '아마존': {'term_freq': 1,\n",
       "     'tokens': [{'position': 44, 'start_offset': 80, 'end_offset': 83}]},\n",
       "    '어': {'term_freq': 1,\n",
       "     'tokens': [{'position': 59, 'start_offset': 115, 'end_offset': 116}]},\n",
       "    '었': {'term_freq': 1,\n",
       "     'tokens': [{'position': 13, 'start_offset': 23, 'end_offset': 24}]},\n",
       "    '에': {'term_freq': 1,\n",
       "     'tokens': [{'position': 1, 'start_offset': 2, 'end_offset': 3}]},\n",
       "    '에서': {'term_freq': 1,\n",
       "     'tokens': [{'position': 39, 'start_offset': 69, 'end_offset': 71}]},\n",
       "    '역동': {'term_freq': 1,\n",
       "     'tokens': [{'position': 32, 'start_offset': 55, 'end_offset': 57}]},\n",
       "    '오랫': {'term_freq': 1,\n",
       "     'tokens': [{'position': 55, 'start_offset': 107, 'end_offset': 109}]},\n",
       "    '오랫동안': {'term_freq': 1,\n",
       "     'tokens': [{'position': 55, 'start_offset': 107, 'end_offset': 111}]},\n",
       "    '운영': {'term_freq': 2,\n",
       "     'tokens': [{'position': 40, 'start_offset': 72, 'end_offset': 74},\n",
       "      {'position': 49, 'start_offset': 94, 'end_offset': 96}]},\n",
       "    '유능': {'term_freq': 1,\n",
       "     'tokens': [{'position': 17, 'start_offset': 31, 'end_offset': 33}]},\n",
       "    '은': {'term_freq': 2,\n",
       "     'tokens': [{'position': 16, 'start_offset': 29, 'end_offset': 30},\n",
       "      {'position': 29, 'start_offset': 50, 'end_offset': 51}]},\n",
       "    '의': {'term_freq': 1,\n",
       "     'tokens': [{'position': 7, 'start_offset': 10, 'end_offset': 11}]},\n",
       "    '이': {'term_freq': 2,\n",
       "     'tokens': [{'position': 4, 'start_offset': 7, 'end_offset': 8},\n",
       "      {'position': 34, 'start_offset': 58, 'end_offset': 59}]},\n",
       "    '이례': {'term_freq': 1,\n",
       "     'tokens': [{'position': 2, 'start_offset': 4, 'end_offset': 6}]},\n",
       "    '인': {'term_freq': 2,\n",
       "     'tokens': [{'position': 4, 'start_offset': 7, 'end_offset': 8},\n",
       "      {'position': 34, 'start_offset': 58, 'end_offset': 59}]},\n",
       "    '있': {'term_freq': 2,\n",
       "     'tokens': [{'position': 12, 'start_offset': 22, 'end_offset': 23},\n",
       "      {'position': 60, 'start_offset': 117, 'end_offset': 118}]},\n",
       "    '자': {'term_freq': 1,\n",
       "     'tokens': [{'position': 26, 'start_offset': 46, 'end_offset': 47}]},\n",
       "    '자금': {'term_freq': 1,\n",
       "     'tokens': [{'position': 20, 'start_offset': 36, 'end_offset': 38}]},\n",
       "    '작년': {'term_freq': 1,\n",
       "     'tokens': [{'position': 0, 'start_offset': 0, 'end_offset': 2}]},\n",
       "    '적': {'term_freq': 2,\n",
       "     'tokens': [{'position': 3, 'start_offset': 6, 'end_offset': 7},\n",
       "      {'position': 33, 'start_offset': 57, 'end_offset': 58}]},\n",
       "    '정체': {'term_freq': 1,\n",
       "     'tokens': [{'position': 57, 'start_offset': 112, 'end_offset': 114}]},\n",
       "    '조건': {'term_freq': 2,\n",
       "     'tokens': [{'position': 52, 'start_offset': 99, 'end_offset': 101},\n",
       "      {'position': 53, 'start_offset': 103, 'end_offset': 105}]},\n",
       "    '지만': {'term_freq': 1,\n",
       "     'tokens': [{'position': 14, 'start_offset': 24, 'end_offset': 26}]},\n",
       "    '충분': {'term_freq': 1,\n",
       "     'tokens': [{'position': 22, 'start_offset': 40, 'end_offset': 42}]},\n",
       "    '크': {'term_freq': 1,\n",
       "     'tokens': [{'position': 30, 'start_offset': 52, 'end_offset': 53}]},\n",
       "    '하': {'term_freq': 4,\n",
       "     'tokens': [{'position': 18, 'start_offset': 33, 'end_offset': 34},\n",
       "      {'position': 23, 'start_offset': 42, 'end_offset': 43},\n",
       "      {'position': 41, 'start_offset': 74, 'end_offset': 75},\n",
       "      {'position': 50, 'start_offset': 96, 'end_offset': 97}]},\n",
       "    '한': {'term_freq': 1,\n",
       "     'tokens': [{'position': 23, 'start_offset': 42, 'end_offset': 43}]},\n",
       "    '현실': {'term_freq': 1,\n",
       "     'tokens': [{'position': 15, 'start_offset': 27, 'end_offset': 29}]}}}}}"
      ]
     },
     "execution_count": 185,
     "metadata": {},
     "output_type": "execute_result"
    }
   ],
   "source": [
    "os_client.termvectors(index=new_index_name, id=doc_id, fields='text')"
   ]
  },
  {
   "cell_type": "markdown",
   "metadata": {},
   "source": [
    "### 문서 및 임베딩 확인"
   ]
  },
  {
   "cell_type": "code",
   "execution_count": 186,
   "metadata": {
    "tags": []
   },
   "outputs": [
    {
     "name": "stdout",
     "output_type": "stream",
     "text": [
      "Average length among 10 documents loaded is 1606 characters.\n",
      "After the split we have 34 documents more than the original 10.\n",
      "Average length among 34 documents (after split) is 442 characters.\n"
     ]
    }
   ],
   "source": [
    "avg_doc_length = lambda documents: sum([len(doc.page_content) for doc in documents])//len(documents)\n",
    "avg_char_count_pre = avg_doc_length(documents)\n",
    "avg_char_count_post = avg_doc_length(docs)\n",
    "print(f'Average length among {len(documents)} documents loaded is {avg_char_count_pre} characters.')\n",
    "print(f'After the split we have {len(docs)} documents more than the original {len(documents)}.')\n",
    "print(f'Average length among {len(docs)} documents (after split) is {avg_char_count_post} characters.')"
   ]
  },
  {
   "cell_type": "code",
   "execution_count": 187,
   "metadata": {
    "tags": []
   },
   "outputs": [
    {
     "name": "stdout",
     "output_type": "stream",
     "text": [
      "docs[0].page_content: \n",
      " CEO 로서 두 번째 연례 주주 서한을 작성하기 위해 자리에 앉았을 때 저는 Amazon 의 앞날에 대해 낙관적이고 활력을 얻었습니다. 2022 년은 최근 기억에 있어 어려운 거시경제적 해 중 하나이고 우리 자체의 운영상의 어려움에도 불구하고 우리는 여전히 수요를 늘릴 방법을 찾았습니다(팬데믹 전반기에 경험한 전례 없는 성장에 더해). 우리는 장단기적으로 고객 경험을 의미 있게 개선하기 위해 대규모 사업을 혁신했습니다. 그리고 고객, 주주 및 직원을 위해 Amazon 의 미래를 바꿀 수 있다고 믿는 장기 투자를 계속 유지하면서 투자 결정과 앞으로 나아갈 방법에 중요한 조정을 했습니다.\n"
     ]
    }
   ],
   "source": [
    "print(\"docs[0].page_content: \\n\", docs[0].page_content)"
   ]
  },
  {
   "cell_type": "code",
   "execution_count": 188,
   "metadata": {
    "tags": []
   },
   "outputs": [
    {
     "name": "stdout",
     "output_type": "stream",
     "text": [
      "Sample embedding of a document chunk:  [ 0.7890625  -0.53515625  0.20800781 ...  0.25976562 -0.43554688\n",
      " -0.375     ]\n",
      "Size of the embedding:  (1536,)\n"
     ]
    }
   ],
   "source": [
    "sample_embedding = np.array(bedrock_embeddings.embed_query(docs[0].page_content))\n",
    "print(\"Sample embedding of a document chunk: \", sample_embedding)\n",
    "print(\"Size of the embedding: \", sample_embedding.shape)"
   ]
  },
  {
   "cell_type": "markdown",
   "metadata": {
    "tags": []
   },
   "source": [
    "### Hybrid search\n",
    "\n",
    "LangChain에서 제공하는 Wrapper 클래스를 사용하여 벡터 데이터베이스 저장소를 쿼리하고 관련 문서를 반환할 수 있습니다. 뒤에서는 RetrievalQA 체인만 실행됩니다."
   ]
  },
  {
   "cell_type": "code",
   "execution_count": 189,
   "metadata": {
    "tags": []
   },
   "outputs": [],
   "source": [
    "from utils.rag import OpenSearchHybridSearchRetriever"
   ]
  },
  {
   "cell_type": "code",
   "execution_count": 190,
   "metadata": {
    "tags": []
   },
   "outputs": [],
   "source": [
    "opensearch_hybrid_retriever = OpenSearchHybridSearchRetriever(\n",
    "    os_client=os_client,\n",
    "    vector_db=vector_db,\n",
    "    index_name=new_index_name,\n",
    "    k=5,\n",
    "    fusion_algorithm=\"RRF\", # [\"RRF\", \"simple_weighted\"]\n",
    "    ensemble_weights=[.5, .5], # [lexical, semantic]\n",
    "    verbose=False\n",
    ")"
   ]
  },
  {
   "cell_type": "code",
   "execution_count": 191,
   "metadata": {
    "tags": []
   },
   "outputs": [
    {
     "name": "stdout",
     "output_type": "stream",
     "text": [
      "lexical search query: \n",
      "{'query': {'bool': {'filter': [],\n",
      "                    'must': [{'match': {'text': {'minimum_should_match': '0%',\n",
      "                                                 'operator': 'or',\n",
      "                                                 'query': '아마존은 Generative AI '\n",
      "                                                          '의 전략이 무엇인가요?'}}}]}},\n",
      " 'size': 5}\n",
      "question: 아마존은 Generative AI 의 전략이 무엇인가요?\n",
      "response: [Document(page_content='LLM 과 GeneraTve AI 가 고객, 주주 및 Amazon 에게 큰 문제가 될 것이라고 가정해 보겠습니다.', metadata={'type': 'value you want', 'timestamp': 1698373064.8914642, 'id': '44dca5ed-5760-42a1-9765-a3013c7b24ec'}), Document(page_content='제가 언급할 마지막 투자 영역은 Amazon 이 앞으로 수십 년 동안 모든 비즈니스 영역에서 발명할 수 있도록 설정하는 핵심이며 대규모 언어 모델(\"LLM\") 및 생성 AI 입니다. 머신 러닝은 수십 년 동안 유망한 기술이었지만 기업에서 널리 사용되기 시작한 것은 불과 5~10 년 전입니다. 이러한 요인에 의해 주도되었습니다. Amazon 은 25 년 동안 기계 학습을 광범위하게 사용해 왔으며 개인화된 전자 상거래 권장 사항부터 주문 처리 센터 선택 경로, Prime Air 용 드론, Alexa, AWS 가 제공하는 많은 기계 학습 서비스(AWS 가 가장 광범위한 기계를 보유한 곳) 모든 클라우드 공급자의 학습 기능 및 고객 기반). 보다 최근에는 GeneraTve AI 라고 하는 새로운 형태의 기계 학습이 등장하여 기계 학습 채택을 크게 가속화할 것이라고 약속합니다. 제너레이티브 AI 는 매우 큰 언어 모델(최대 천억 개의 매개변수에 대해 훈련되고 계속 증가하고 있음)을 기반으로 하며 광범위한 데이터 세트에 걸쳐 매우 일반적이고 광범위한 리콜 및 학습 기능을 갖추고 있습니다. 우리는 한동안 자체 LLM 에 대해 작업해 왔으며 이것이 거의 모든 고객 경험을 변화시키고 개선할 것이라고 믿으며 모든 소비자, 판매자, 브랜드 및 제작자 경험에 걸쳐 이러한 모델에 계속해서 상당한 투자를 할 것입니다. 또한 AWS 에서 수년간 해왔듯이 모든 규모의 회사가 제너레이티브 AI 를 활용할 수 있도록 이 기술을 민주화하고 있습니다. AWS 는 Trainium 및 InferenTa 에서 가장 가격 대비 성능이 뛰어난 기계 학습 칩을 제공하므로 소규모 및 대규모 기업이 프로덕션 환경에서 LLM 을 교육하고 실행할 수 있습니다. 우리는 회사가 다양한 LLM 중에서 선택하고 고객이 사용하는 데 익숙한 모든 AWS 보안, 개인 정보 보호 및 기타 기능을 갖춘 애플리케이션을 구축할 수 있도록 합니다. 또한 실시간으로 코드 제안을 생성하여 개발자 생산성을 혁신하는 AWS 의 CodeWhisperer 와 같은 애플리케이션을 제공하고 있습니다. LLM 과 GeneraTve AI 가 그렇게 변혁적일 것이라고 생각하기 때문에 전체 편지를 쓸 수 있지만 향후 편지로 남겨두겠습니다.', metadata={'type': 'value you want', 'timestamp': 1698373064.891457, 'id': '09baed4a-b9b5-4a5e-b06c-8364753b7d8d'}), Document(page_content='작년에 이례적인 수의 동시 도전 과제가 있었지만 현실은 유능하고 자금이 충분한 경쟁자가 많은 크고 역동적인 글로벌 시장 부문에서 운영하는 경우(아마존이 모든 비즈니스를 운영하는 조건) 조건이 오랫동안 정체되어 있는 경우는 드뭅니다.', metadata={'type': 'value you want', 'timestamp': 1698373064.891213, 'id': '1bcc2bc6-de73-486c-a13f-f2a7cf0d10f9'}), Document(page_content='우리는 또한 앞으로 수년 동안 더 낮은 비용과 더 빠른 속도를 제공할 수 있도록 더 큰 구조적 변화를 만들기 위해 이 기회를 잡았습니다. 좋은 예는 미국 주문 처리 네트워크가 어떻게 구성되어 있는지 재평가하는 것입니다. 최근까지 아마존은 미국 전역에 퍼져 있는 주문 처리 센터의 재고를 분배하는 하나의 미국 전국 주문 처리 네트워크를 운영했습니다. 지역 주문 처리 센터에 고객이 주문한 제품이 없으면 결국 다른 지역에서 배송하게 되므로 더 많은 비용이 들고 배송 시간이 늘어납니다. 이 문제는 주문 처리 네트워크가 지난 몇 년 동안 수백 개의 추가 노드로 확장되어 더 많은 위치에 재고를 분배하고 주문 처리 센터와 배송 스테이션 노드를 효율적으로 연결하는 복잡성이 증가함에 따라 더욱 두드러졌습니다. 작년에 우리는 재고 배치 전략을 재설계하고 더 큰 주문 처리 센터 공간을 활용하여 전국 주문 처리 네트워크에서 지역화된 네트워크 모델로 이동하기 시작했습니다. 우리는 더 작은 지리적 영역에 8 개의 상호 연결된 지역을 만들기 위해 보유할 수 있도록 국가의 여러 지역에 있는 고객이 필요로 하는 것이 무엇인지 더 잘 예측하기 위해 고급 기계 학습 알고리즘을 지속적으로 개선하고 있습니다. 최근에 이 지역 출시를 완료했으며 초기 결과가 마음에 듭니다. 이동 거리가 짧다는 것은 서비스 비용이 낮아지고 환경에 미치는 영향이 줄어들며 고객이 주문을 더 빨리 받는 것을 의미합니다. 후자의 경우 더 많은 익일 배송 및 당일 배송을 보게 되어 기쁩니다. 2023 년에는 프라임 배송 속도가 가장 빨라질 것입니다. 전반적으로 우리는 비용 절감, 배송 감소 계획에 대해 확신을 가지고 있습니다. 건전한 운영 마진으로 의미 있게 더 큰 소매 사업을 구축하십시오.', metadata={'type': 'value you want', 'timestamp': 1698373064.8912883, 'id': 'a06eb543-a6fa-4142-bf76-520cf6019fa8'}), Document(page_content='국제적으로 확장하고, 아직 아마존의 초기 단계인 대규모 소매 시장 부문을 추구하고, 판매자가 자신의 웹사이트에서 보다 효과적으로 판매할 수 있도록 돕기 위해 우리의 고유한 자산을 사용하는 것은 우리에게 어느 정도 자연스러운 확장입니다. 핵심 비즈니스에서 더 멀리 떨어져 있지만 고유한 기회가 있는 투자도 몇 가지 있습니다. 2003 년에는 AWS 가 전형적인 예였습니다.', metadata={'type': 'value you want', 'timestamp': 1698373064.8914099})] 5\n"
     ]
    }
   ],
   "source": [
    "query = \"아마존은 Generative AI 의 전략이 무엇인가요?\"\n",
    "search_hybrid_result = opensearch_hybrid_retriever.get_relevant_documents(query)\n",
    "\n",
    "print(f'question: {query}')\n",
    "print(f'response: {search_hybrid_result}', len(search_hybrid_result))"
   ]
  },
  {
   "cell_type": "markdown",
   "metadata": {},
   "source": [
    "하이브리드(lexical + semantic) 검색이 어떻게 작동하는지 살펴보겠습니다.\n",
    "1. 먼저 쿼리에 대한 임베딩 벡터를 계산하고\n",
    "2. 그런 다음 이 벡터를 사용하여 벡터 스토어에서 유사성 검색을 수행한다.\n",
    "3. document 풀을 기반으로 쿼리에 대한 full text 검색을 수행한다.\n",
    "4. 두가지 결과를 바탕으로 re-ranking을 한다.\n",
    "5. 결과를 반환한다."
   ]
  },
  {
   "cell_type": "code",
   "execution_count": 192,
   "metadata": {
    "tags": []
   },
   "outputs": [
    {
     "name": "stdout",
     "output_type": "stream",
     "text": [
      "[0.765625, -0.59375, -0.08300781, -0.29296875, 0.86328125, -0.19140625, 0.06542969, -0.00034332275, -1.2109375, -0.578125] 1536\n",
      "LLM 과 GeneraTve AI 가 고객, 주주 및 Amazon 에게 큰 문제가 될 것이라고 가정해 보겠습니다.\n",
      "----\n",
      "제가 언급할 마지막 투자 영역은 Amazon 이 앞으로 수십 년 동안 모든 비즈니스 영역에서 발명할 수 있도록 설정하는 핵심이며 대규모 언어 모델(\"LLM\") 및 생성 AI\n",
      "입니다. 머신 러닝은 수십 년 동안 유망한 기술이었지만 기업에서 널리 사용되기 시작한 것은 불과 5~10 년 전입니다. 이러한 요인에 의해 주도되었습니다. Amazon 은 25 년\n",
      "동안 기계 학습을 광범위하게 사용해 왔으며 개인화된 전자 상거래 권장 사항부터 주문 처리 센터 선택 경로, Prime Air 용 드론, Alexa, AWS 가 제공하는 많은 기계\n",
      "학습 서비스(AWS 가 가장 광범위한 기계를 보유한 곳) 모든 클라우드 공급자의 학습 기능 및 고객 기반). 보다 최근에는 GeneraTve AI 라고 하는 새로운 형태의 기계\n",
      "학습이 등장하여 기계 학습 채택을 크게 가속화할 것이라고 약속합니다. 제너레이티브 AI 는 매우 큰 언어 모델(최대 천억 개의 매개변수에 대해 훈련되고 계속 증가하고 있음)을\n",
      "기반으로 하며 광범위한 데이터 세트에 걸쳐 매우 일반적이고 광범위한 리콜 및 학습 기능을 갖추고 있습니다. 우리는 한동안 자체 LLM 에 대해 작업해 왔으며 이것이 거의 모든 고객\n",
      "경험을 변화시키고 개선할 것이라고 믿으며 모든 소비자, 판매자, 브랜드 및 제작자 경험에 걸쳐 이러한 모델에 계속해서 상당한 투자를 할 것입니다. 또한 AWS 에서 수년간 해왔듯이\n",
      "모든 규모의 회사가 제너레이티브 AI 를 활용할 수 있도록 이 기술을 민주화하고 있습니다. AWS 는 Trainium 및 InferenTa 에서 가장 가격 대비 성능이 뛰어난 기계\n",
      "학습 칩을 제공하므로 소규모 및 대규모 기업이 프로덕션 환경에서 LLM 을 교육하고 실행할 수 있습니다. 우리는 회사가 다양한 LLM 중에서 선택하고 고객이 사용하는 데 익숙한\n",
      "모든 AWS 보안, 개인 정보 보호 및 기타 기능을 갖춘 애플리케이션을 구축할 수 있도록 합니다. 또한 실시간으로 코드 제안을 생성하여 개발자 생산성을 혁신하는 AWS 의\n",
      "CodeWhisperer 와 같은 애플리케이션을 제공하고 있습니다. LLM 과 GeneraTve AI 가 그렇게 변혁적일 것이라고 생각하기 때문에 전체 편지를 쓸 수 있지만 향후\n",
      "편지로 남겨두겠습니다.\n",
      "----\n",
      "작년에 이례적인 수의 동시 도전 과제가 있었지만 현실은 유능하고 자금이 충분한 경쟁자가 많은 크고 역동적인 글로벌 시장 부문에서 운영하는 경우(아마존이 모든 비즈니스를 운영하는\n",
      "조건) 조건이 오랫동안 정체되어 있는 경우는 드뭅니다.\n",
      "----\n",
      "우리는 또한 앞으로 수년 동안 더 낮은 비용과 더 빠른 속도를 제공할 수 있도록 더 큰 구조적 변화를 만들기 위해 이 기회를 잡았습니다. 좋은 예는 미국 주문 처리 네트워크가\n",
      "어떻게 구성되어 있는지 재평가하는 것입니다. 최근까지 아마존은 미국 전역에 퍼져 있는 주문 처리 센터의 재고를 분배하는 하나의 미국 전국 주문 처리 네트워크를 운영했습니다. 지역\n",
      "주문 처리 센터에 고객이 주문한 제품이 없으면 결국 다른 지역에서 배송하게 되므로 더 많은 비용이 들고 배송 시간이 늘어납니다. 이 문제는 주문 처리 네트워크가 지난 몇 년 동안\n",
      "수백 개의 추가 노드로 확장되어 더 많은 위치에 재고를 분배하고 주문 처리 센터와 배송 스테이션 노드를 효율적으로 연결하는 복잡성이 증가함에 따라 더욱 두드러졌습니다. 작년에\n",
      "우리는 재고 배치 전략을 재설계하고 더 큰 주문 처리 센터 공간을 활용하여 전국 주문 처리 네트워크에서 지역화된 네트워크 모델로 이동하기 시작했습니다. 우리는 더 작은 지리적\n",
      "영역에 8 개의 상호 연결된 지역을 만들기 위해 보유할 수 있도록 국가의 여러 지역에 있는 고객이 필요로 하는 것이 무엇인지 더 잘 예측하기 위해 고급 기계 학습 알고리즘을\n",
      "지속적으로 개선하고 있습니다. 최근에 이 지역 출시를 완료했으며 초기 결과가 마음에 듭니다. 이동 거리가 짧다는 것은 서비스 비용이 낮아지고 환경에 미치는 영향이 줄어들며 고객이\n",
      "주문을 더 빨리 받는 것을 의미합니다. 후자의 경우 더 많은 익일 배송 및 당일 배송을 보게 되어 기쁩니다. 2023 년에는 프라임 배송 속도가 가장 빨라질 것입니다. 전반적으로\n",
      "우리는 비용 절감, 배송 감소 계획에 대해 확신을 가지고 있습니다. 건전한 운영 마진으로 의미 있게 더 큰 소매 사업을 구축하십시오.\n",
      "----\n",
      "국제적으로 확장하고, 아직 아마존의 초기 단계인 대규모 소매 시장 부문을 추구하고, 판매자가 자신의 웹사이트에서 보다 효과적으로 판매할 수 있도록 돕기 위해 우리의 고유한 자산을\n",
      "사용하는 것은 우리에게 어느 정도 자연스러운 확장입니다. 핵심 비즈니스에서 더 멀리 떨어져 있지만 고유한 기회가 있는 투자도 몇 가지 있습니다. 2003 년에는 AWS 가 전형적인\n",
      "예였습니다.\n",
      "----\n"
     ]
    }
   ],
   "source": [
    "v = bedrock_embeddings.embed_query(query)\n",
    "print(v[0:10], len(v))\n",
    "for r in search_hybrid_result:\n",
    "    print_ww(r.page_content)\n",
    "    print('----')"
   ]
  },
  {
   "cell_type": "markdown",
   "metadata": {
    "tags": []
   },
   "source": [
    "### 메모리\n",
    "모든 챗봇에는 사용 사례에 따라 맞춤화된 다양한 옵션을 갖춘 QA 체인이 필요합니다. 그러나 챗봇에서는 모델이 답변을 제공하기 위해 이를 고려할 수 있도록 항상 대화 기록을 보관해야 합니다. 이 예에서는 대화 기록을 유지하기 위해 ConversationBufferMemory와 함께 LangChain의 [ConversationalRetrievalChain](https://python.langchain.com/docs/modules/chains/popular/chat_Vector_db)을 사용합니다.\n",
    "\n",
    "출처: https://python.langchain.com/docs/modules/chains/popular/chat_Vector_db\n",
    "\n",
    "뒤에서 무슨 일이 일어나고 있는지 모두 보려면 'verbose'를 'True'로 설정하세요."
   ]
  },
  {
   "cell_type": "code",
   "execution_count": 193,
   "metadata": {
    "tags": []
   },
   "outputs": [],
   "source": [
    "from langchain.chains.conversational_retrieval.prompts import CONDENSE_QUESTION_PROMPT"
   ]
  },
  {
   "cell_type": "code",
   "execution_count": 194,
   "metadata": {
    "tags": []
   },
   "outputs": [
    {
     "name": "stdout",
     "output_type": "stream",
     "text": [
      "Given the following conversation and a follow up question, rephrase the follow up question to be a standalone question, in its original language.\n",
      "\n",
      "Chat History:\n",
      "{chat_history}\n",
      "Follow Up Input: {question}\n",
      "Standalone question:\n"
     ]
    }
   ],
   "source": [
    "print (CONDENSE_QUESTION_PROMPT.template)"
   ]
  },
  {
   "cell_type": "markdown",
   "metadata": {},
   "source": [
    "### ConversationRetrievalChain에 사용되는 매개변수\n",
    "* **retriever**: 우리는 `OpenSearch`를 기반으로 customization한 `OpenSearchHybridSearchRetriever`를 사용했습니다. 이것은 `OpenSearch`를 이용하여 주어진 `query`에 대한 `lexical`, `sematic` search를 기반으로 최종 후보 context 를 선택해 줍니다.\n",
    "\n",
    "* **메모리**: 이력을 저장하는 메모리 체인\n",
    "\n",
    "* **condense_question_prompt**: 사용자의 질문이 주어지면 이전 대화와 해당 질문을 사용하여 독립형 질문을 구성합니다.\n",
    "\n",
    "* **chain_type**: 채팅 기록이 길고 상황에 맞지 않는 경우 이 매개변수를 사용하고 옵션은 `stuff`, `refine`, `map_reduce`, `map-rerank`입니다.\n",
    "\n",
    "질문이 컨텍스트 범위를 벗어나면 모델은 답을 모른다고 대답합니다.\n",
    "\n",
    "**참고**: 체인이 어떻게 작동하는지 궁금하다면 `verbose=True` 줄의 주석 처리를 해제하세요."
   ]
  },
  {
   "cell_type": "code",
   "execution_count": 195,
   "metadata": {
    "tags": []
   },
   "outputs": [],
   "source": [
    "# turn verbose to true to see the full logs and documents\n",
    "from langchain.chains import ConversationalRetrievalChain\n",
    "from langchain.memory import ConversationBufferMemory"
   ]
  },
  {
   "cell_type": "code",
   "execution_count": 196,
   "metadata": {
    "tags": []
   },
   "outputs": [],
   "source": [
    "llm_text = Bedrock(\n",
    "    model_id=bedrock_info.get_model_id(model_name=\"Claude-V2\"),\n",
    "    client=boto3_bedrock,\n",
    "    model_kwargs={\n",
    "        \"max_tokens_to_sample\": 1000,\n",
    "        \"temperature\": 0,\n",
    "        \"top_k\": 250,\n",
    "        \"top_p\": 0.999,\n",
    "        \"stop_sequences\": [\"\\n\\nHuman:\"]\n",
    "    },\n",
    "    streaming=True,\n",
    "    callbacks=[StreamingStdOutCallbackHandler()],\n",
    ")"
   ]
  },
  {
   "cell_type": "code",
   "execution_count": 197,
   "metadata": {
    "tags": []
   },
   "outputs": [],
   "source": [
    "# turn verbose to true to see the full logs and documents\n",
    "from langchain.schema import BaseMessage\n",
    "from langchain.chains import ConversationalRetrievalChain"
   ]
  },
  {
   "cell_type": "code",
   "execution_count": 198,
   "metadata": {
    "tags": []
   },
   "outputs": [],
   "source": [
    "# We are also providing a different chat history retriever which outputs the history as a Claude chat (ie including the \\n\\n)\n",
    "_ROLE_MAP = {\"human\": \"\\n\\nUser: \", \"ai\": \"\\n\\nAI: \"}\n",
    "def _get_chat_history(chat_history):\n",
    "    buffer = \"\"\n",
    "    for dialogue_turn in chat_history:\n",
    "        if isinstance(dialogue_turn, BaseMessage):\n",
    "            role_prefix = _ROLE_MAP.get(dialogue_turn.type, f\"{dialogue_turn.type}: \")\n",
    "            buffer += f\"\\n{role_prefix}{dialogue_turn.content}\"\n",
    "        elif isinstance(dialogue_turn, tuple):\n",
    "            human = \"\\n\\nUser: \" + dialogue_turn[0]\n",
    "            ai = \"\\n\\nAI: \" + dialogue_turn[1]\n",
    "            buffer += \"\\n\" + \"\\n\".join([human, ai])\n",
    "        else:\n",
    "            raise ValueError(\n",
    "                f\"Unsupported chat history format: {type(dialogue_turn)}.\"\n",
    "                f\" Full chat history: {chat_history} \"\n",
    "            )\n",
    "    return buffer\n",
    "\n",
    "# 이전 대화 내용을 기반으로, 신규 질문을 재구성 하는 prompt\n",
    "condense_prompt_claude = PromptTemplate.from_template(\"\"\"\n",
    "\\n\\nHuman:\n",
    "Given the following conversation and a follow up question,\n",
    "rephrase the follow up question to be a standalone question, in its original language.\n",
    "\n",
    "Chat History: {chat_history}\n",
    "Follow Up Input: {question}\n",
    "\n",
    "\\n\\nAssistant: Question:\"\"\"\n",
    ")\n",
    "\n",
    "# memory\n",
    "# store previous interactions using ConversationalBufferMemory and add custom prompts to the chat.\n",
    "memory_chain = chat_utils.get_memory(\n",
    "    memory_type=\"ConversationBufferMemory\",\n",
    "    memory_key=\"chat_history\",\n",
    "    return_messages=True\n",
    ")\n",
    "\n",
    "opensearch_hybrid_retriever.update_search_params(\n",
    "    k=5,\n",
    "    minimum_should_match=0,\n",
    "    filter=[],\n",
    "    verbose=False\n",
    ")\n",
    "\n",
    "qa = ConversationalRetrievalChain.from_llm(\n",
    "    llm=llm_text,\n",
    "    retriever=opensearch_hybrid_retriever,\n",
    "    memory=memory_chain,\n",
    "    get_chat_history=_get_chat_history,\n",
    "    verbose=True,\n",
    "    condense_question_prompt=condense_prompt_claude,\n",
    "    chain_type='stuff', # 'refine',\n",
    "    #max_tokens_limit=300\n",
    ")\n",
    "\n",
    "# the LLMChain prompt to get the answer. the ConversationalRetrievalChange does not expose this parameter in the constructor\n",
    "qa.combine_docs_chain.llm_chain.prompt = PromptTemplate.from_template(\"\"\"\n",
    "\\n\\nHuman:\n",
    "\n",
    "{context}\n",
    "\n",
    "<q></q> XML 태그 내의 질문에 답하려면 최대 3개의 문장을 사용하세요.\n",
    "\n",
    "<q>{question}</q>\n",
    "\n",
    "답변에 XML 태그를 사용하지 마세요.\n",
    "답변이 context에 없으면 \"죄송합니다. 문맥에서 답을 찾을 수 없어서 모르겠습니다.\"라고 말합니다.\n",
    "\n",
    "\\n\\nAssistant:\"\"\")"
   ]
  },
  {
   "cell_type": "markdown",
   "metadata": {},
   "source": [
    "채팅을 해보죠. 아래와 같은 질문을 해보세요. \n",
    "1. 무슨 내용의 편지인가요?\n",
    "2. 미래 전망은 어떤가요?\n",
    "3. generative ai전략에 대해서 말해 주세요"
   ]
  },
  {
   "cell_type": "code",
   "execution_count": 199,
   "metadata": {
    "tags": []
   },
   "outputs": [],
   "source": [
    "from utils.chat import ChatUX"
   ]
  },
  {
   "cell_type": "code",
   "execution_count": 200,
   "metadata": {
    "tags": []
   },
   "outputs": [
    {
     "name": "stdout",
     "output_type": "stream",
     "text": [
      "Starting chat bot\n"
     ]
    },
    {
     "data": {
      "application/vnd.jupyter.widget-view+json": {
       "model_id": "eb99d07f285d425f84088da021d6c05d",
       "version_major": 2,
       "version_minor": 0
      },
      "text/plain": [
       "Output()"
      ]
     },
     "metadata": {},
     "output_type": "display_data"
    }
   ],
   "source": [
    "chat = ChatUX(qa, retrievalChain=True)\n",
    "chat.start_chat()"
   ]
  },
  {
   "cell_type": "markdown",
   "metadata": {},
   "source": [
    "## Delete OpenSearch Index"
   ]
  },
  {
   "cell_type": "code",
   "execution_count": null,
   "metadata": {
    "tags": []
   },
   "outputs": [],
   "source": [
    "print(index_name, new_index_name)"
   ]
  },
  {
   "cell_type": "code",
   "execution_count": null,
   "metadata": {
    "tags": []
   },
   "outputs": [],
   "source": [
    "for name in [index_name, new_index_name]:\n",
    "\n",
    "    index_exists = opensearch_utils.check_if_index_exists(os_client, name)\n",
    "    if index_exists:\n",
    "        opensearch_utils.delete_index(os_client, name)\n",
    "    else:\n",
    "        print(\"Index does not exist\")"
   ]
  },
  {
   "cell_type": "markdown",
   "metadata": {},
   "source": [
    "# 7.Next Action\n",
    "\n",
    "자신만의 챗봇 시스템을 만들고 챗봇과 대화한 내역을 캡쳐해서 올려주세요. 웹 페이지 정보를 가져오기 위해서 'WebBaseLoader' 를 사용하는 것도 가능합니다."
   ]
  },
  {
   "cell_type": "markdown",
   "metadata": {},
   "source": [
    "### 요약\n",
    "- 이 데모에서는 Claude LLM을 사용하여 다음 패턴으로 대화형 인터페이스를 만들었습니다.\n",
    "\n",
    "1. 챗봇(기본 - 맥락 없음)\n",
    "\n",
    "2. 프롬프트 템플릿(Langchain)을 이용한 챗봇\n",
    "\n",
    "3. 페르소나를 갖춘 챗봇\n",
    "4. 맥락을 갖춘 챗봇"
   ]
  }
 ],
 "metadata": {
  "availableInstances": [
   {
    "_defaultOrder": 0,
    "_isFastLaunch": true,
    "category": "General purpose",
    "gpuNum": 0,
    "hideHardwareSpecs": false,
    "memoryGiB": 4,
    "name": "ml.t3.medium",
    "vcpuNum": 2
   },
   {
    "_defaultOrder": 1,
    "_isFastLaunch": false,
    "category": "General purpose",
    "gpuNum": 0,
    "hideHardwareSpecs": false,
    "memoryGiB": 8,
    "name": "ml.t3.large",
    "vcpuNum": 2
   },
   {
    "_defaultOrder": 2,
    "_isFastLaunch": false,
    "category": "General purpose",
    "gpuNum": 0,
    "hideHardwareSpecs": false,
    "memoryGiB": 16,
    "name": "ml.t3.xlarge",
    "vcpuNum": 4
   },
   {
    "_defaultOrder": 3,
    "_isFastLaunch": false,
    "category": "General purpose",
    "gpuNum": 0,
    "hideHardwareSpecs": false,
    "memoryGiB": 32,
    "name": "ml.t3.2xlarge",
    "vcpuNum": 8
   },
   {
    "_defaultOrder": 4,
    "_isFastLaunch": true,
    "category": "General purpose",
    "gpuNum": 0,
    "hideHardwareSpecs": false,
    "memoryGiB": 8,
    "name": "ml.m5.large",
    "vcpuNum": 2
   },
   {
    "_defaultOrder": 5,
    "_isFastLaunch": false,
    "category": "General purpose",
    "gpuNum": 0,
    "hideHardwareSpecs": false,
    "memoryGiB": 16,
    "name": "ml.m5.xlarge",
    "vcpuNum": 4
   },
   {
    "_defaultOrder": 6,
    "_isFastLaunch": false,
    "category": "General purpose",
    "gpuNum": 0,
    "hideHardwareSpecs": false,
    "memoryGiB": 32,
    "name": "ml.m5.2xlarge",
    "vcpuNum": 8
   },
   {
    "_defaultOrder": 7,
    "_isFastLaunch": false,
    "category": "General purpose",
    "gpuNum": 0,
    "hideHardwareSpecs": false,
    "memoryGiB": 64,
    "name": "ml.m5.4xlarge",
    "vcpuNum": 16
   },
   {
    "_defaultOrder": 8,
    "_isFastLaunch": false,
    "category": "General purpose",
    "gpuNum": 0,
    "hideHardwareSpecs": false,
    "memoryGiB": 128,
    "name": "ml.m5.8xlarge",
    "vcpuNum": 32
   },
   {
    "_defaultOrder": 9,
    "_isFastLaunch": false,
    "category": "General purpose",
    "gpuNum": 0,
    "hideHardwareSpecs": false,
    "memoryGiB": 192,
    "name": "ml.m5.12xlarge",
    "vcpuNum": 48
   },
   {
    "_defaultOrder": 10,
    "_isFastLaunch": false,
    "category": "General purpose",
    "gpuNum": 0,
    "hideHardwareSpecs": false,
    "memoryGiB": 256,
    "name": "ml.m5.16xlarge",
    "vcpuNum": 64
   },
   {
    "_defaultOrder": 11,
    "_isFastLaunch": false,
    "category": "General purpose",
    "gpuNum": 0,
    "hideHardwareSpecs": false,
    "memoryGiB": 384,
    "name": "ml.m5.24xlarge",
    "vcpuNum": 96
   },
   {
    "_defaultOrder": 12,
    "_isFastLaunch": false,
    "category": "General purpose",
    "gpuNum": 0,
    "hideHardwareSpecs": false,
    "memoryGiB": 8,
    "name": "ml.m5d.large",
    "vcpuNum": 2
   },
   {
    "_defaultOrder": 13,
    "_isFastLaunch": false,
    "category": "General purpose",
    "gpuNum": 0,
    "hideHardwareSpecs": false,
    "memoryGiB": 16,
    "name": "ml.m5d.xlarge",
    "vcpuNum": 4
   },
   {
    "_defaultOrder": 14,
    "_isFastLaunch": false,
    "category": "General purpose",
    "gpuNum": 0,
    "hideHardwareSpecs": false,
    "memoryGiB": 32,
    "name": "ml.m5d.2xlarge",
    "vcpuNum": 8
   },
   {
    "_defaultOrder": 15,
    "_isFastLaunch": false,
    "category": "General purpose",
    "gpuNum": 0,
    "hideHardwareSpecs": false,
    "memoryGiB": 64,
    "name": "ml.m5d.4xlarge",
    "vcpuNum": 16
   },
   {
    "_defaultOrder": 16,
    "_isFastLaunch": false,
    "category": "General purpose",
    "gpuNum": 0,
    "hideHardwareSpecs": false,
    "memoryGiB": 128,
    "name": "ml.m5d.8xlarge",
    "vcpuNum": 32
   },
   {
    "_defaultOrder": 17,
    "_isFastLaunch": false,
    "category": "General purpose",
    "gpuNum": 0,
    "hideHardwareSpecs": false,
    "memoryGiB": 192,
    "name": "ml.m5d.12xlarge",
    "vcpuNum": 48
   },
   {
    "_defaultOrder": 18,
    "_isFastLaunch": false,
    "category": "General purpose",
    "gpuNum": 0,
    "hideHardwareSpecs": false,
    "memoryGiB": 256,
    "name": "ml.m5d.16xlarge",
    "vcpuNum": 64
   },
   {
    "_defaultOrder": 19,
    "_isFastLaunch": false,
    "category": "General purpose",
    "gpuNum": 0,
    "hideHardwareSpecs": false,
    "memoryGiB": 384,
    "name": "ml.m5d.24xlarge",
    "vcpuNum": 96
   },
   {
    "_defaultOrder": 20,
    "_isFastLaunch": false,
    "category": "General purpose",
    "gpuNum": 0,
    "hideHardwareSpecs": true,
    "memoryGiB": 0,
    "name": "ml.geospatial.interactive",
    "supportedImageNames": [
     "sagemaker-geospatial-v1-0"
    ],
    "vcpuNum": 0
   },
   {
    "_defaultOrder": 21,
    "_isFastLaunch": true,
    "category": "Compute optimized",
    "gpuNum": 0,
    "hideHardwareSpecs": false,
    "memoryGiB": 4,
    "name": "ml.c5.large",
    "vcpuNum": 2
   },
   {
    "_defaultOrder": 22,
    "_isFastLaunch": false,
    "category": "Compute optimized",
    "gpuNum": 0,
    "hideHardwareSpecs": false,
    "memoryGiB": 8,
    "name": "ml.c5.xlarge",
    "vcpuNum": 4
   },
   {
    "_defaultOrder": 23,
    "_isFastLaunch": false,
    "category": "Compute optimized",
    "gpuNum": 0,
    "hideHardwareSpecs": false,
    "memoryGiB": 16,
    "name": "ml.c5.2xlarge",
    "vcpuNum": 8
   },
   {
    "_defaultOrder": 24,
    "_isFastLaunch": false,
    "category": "Compute optimized",
    "gpuNum": 0,
    "hideHardwareSpecs": false,
    "memoryGiB": 32,
    "name": "ml.c5.4xlarge",
    "vcpuNum": 16
   },
   {
    "_defaultOrder": 25,
    "_isFastLaunch": false,
    "category": "Compute optimized",
    "gpuNum": 0,
    "hideHardwareSpecs": false,
    "memoryGiB": 72,
    "name": "ml.c5.9xlarge",
    "vcpuNum": 36
   },
   {
    "_defaultOrder": 26,
    "_isFastLaunch": false,
    "category": "Compute optimized",
    "gpuNum": 0,
    "hideHardwareSpecs": false,
    "memoryGiB": 96,
    "name": "ml.c5.12xlarge",
    "vcpuNum": 48
   },
   {
    "_defaultOrder": 27,
    "_isFastLaunch": false,
    "category": "Compute optimized",
    "gpuNum": 0,
    "hideHardwareSpecs": false,
    "memoryGiB": 144,
    "name": "ml.c5.18xlarge",
    "vcpuNum": 72
   },
   {
    "_defaultOrder": 28,
    "_isFastLaunch": false,
    "category": "Compute optimized",
    "gpuNum": 0,
    "hideHardwareSpecs": false,
    "memoryGiB": 192,
    "name": "ml.c5.24xlarge",
    "vcpuNum": 96
   },
   {
    "_defaultOrder": 29,
    "_isFastLaunch": true,
    "category": "Accelerated computing",
    "gpuNum": 1,
    "hideHardwareSpecs": false,
    "memoryGiB": 16,
    "name": "ml.g4dn.xlarge",
    "vcpuNum": 4
   },
   {
    "_defaultOrder": 30,
    "_isFastLaunch": false,
    "category": "Accelerated computing",
    "gpuNum": 1,
    "hideHardwareSpecs": false,
    "memoryGiB": 32,
    "name": "ml.g4dn.2xlarge",
    "vcpuNum": 8
   },
   {
    "_defaultOrder": 31,
    "_isFastLaunch": false,
    "category": "Accelerated computing",
    "gpuNum": 1,
    "hideHardwareSpecs": false,
    "memoryGiB": 64,
    "name": "ml.g4dn.4xlarge",
    "vcpuNum": 16
   },
   {
    "_defaultOrder": 32,
    "_isFastLaunch": false,
    "category": "Accelerated computing",
    "gpuNum": 1,
    "hideHardwareSpecs": false,
    "memoryGiB": 128,
    "name": "ml.g4dn.8xlarge",
    "vcpuNum": 32
   },
   {
    "_defaultOrder": 33,
    "_isFastLaunch": false,
    "category": "Accelerated computing",
    "gpuNum": 4,
    "hideHardwareSpecs": false,
    "memoryGiB": 192,
    "name": "ml.g4dn.12xlarge",
    "vcpuNum": 48
   },
   {
    "_defaultOrder": 34,
    "_isFastLaunch": false,
    "category": "Accelerated computing",
    "gpuNum": 1,
    "hideHardwareSpecs": false,
    "memoryGiB": 256,
    "name": "ml.g4dn.16xlarge",
    "vcpuNum": 64
   },
   {
    "_defaultOrder": 35,
    "_isFastLaunch": false,
    "category": "Accelerated computing",
    "gpuNum": 1,
    "hideHardwareSpecs": false,
    "memoryGiB": 61,
    "name": "ml.p3.2xlarge",
    "vcpuNum": 8
   },
   {
    "_defaultOrder": 36,
    "_isFastLaunch": false,
    "category": "Accelerated computing",
    "gpuNum": 4,
    "hideHardwareSpecs": false,
    "memoryGiB": 244,
    "name": "ml.p3.8xlarge",
    "vcpuNum": 32
   },
   {
    "_defaultOrder": 37,
    "_isFastLaunch": false,
    "category": "Accelerated computing",
    "gpuNum": 8,
    "hideHardwareSpecs": false,
    "memoryGiB": 488,
    "name": "ml.p3.16xlarge",
    "vcpuNum": 64
   },
   {
    "_defaultOrder": 38,
    "_isFastLaunch": false,
    "category": "Accelerated computing",
    "gpuNum": 8,
    "hideHardwareSpecs": false,
    "memoryGiB": 768,
    "name": "ml.p3dn.24xlarge",
    "vcpuNum": 96
   },
   {
    "_defaultOrder": 39,
    "_isFastLaunch": false,
    "category": "Memory Optimized",
    "gpuNum": 0,
    "hideHardwareSpecs": false,
    "memoryGiB": 16,
    "name": "ml.r5.large",
    "vcpuNum": 2
   },
   {
    "_defaultOrder": 40,
    "_isFastLaunch": false,
    "category": "Memory Optimized",
    "gpuNum": 0,
    "hideHardwareSpecs": false,
    "memoryGiB": 32,
    "name": "ml.r5.xlarge",
    "vcpuNum": 4
   },
   {
    "_defaultOrder": 41,
    "_isFastLaunch": false,
    "category": "Memory Optimized",
    "gpuNum": 0,
    "hideHardwareSpecs": false,
    "memoryGiB": 64,
    "name": "ml.r5.2xlarge",
    "vcpuNum": 8
   },
   {
    "_defaultOrder": 42,
    "_isFastLaunch": false,
    "category": "Memory Optimized",
    "gpuNum": 0,
    "hideHardwareSpecs": false,
    "memoryGiB": 128,
    "name": "ml.r5.4xlarge",
    "vcpuNum": 16
   },
   {
    "_defaultOrder": 43,
    "_isFastLaunch": false,
    "category": "Memory Optimized",
    "gpuNum": 0,
    "hideHardwareSpecs": false,
    "memoryGiB": 256,
    "name": "ml.r5.8xlarge",
    "vcpuNum": 32
   },
   {
    "_defaultOrder": 44,
    "_isFastLaunch": false,
    "category": "Memory Optimized",
    "gpuNum": 0,
    "hideHardwareSpecs": false,
    "memoryGiB": 384,
    "name": "ml.r5.12xlarge",
    "vcpuNum": 48
   },
   {
    "_defaultOrder": 45,
    "_isFastLaunch": false,
    "category": "Memory Optimized",
    "gpuNum": 0,
    "hideHardwareSpecs": false,
    "memoryGiB": 512,
    "name": "ml.r5.16xlarge",
    "vcpuNum": 64
   },
   {
    "_defaultOrder": 46,
    "_isFastLaunch": false,
    "category": "Memory Optimized",
    "gpuNum": 0,
    "hideHardwareSpecs": false,
    "memoryGiB": 768,
    "name": "ml.r5.24xlarge",
    "vcpuNum": 96
   },
   {
    "_defaultOrder": 47,
    "_isFastLaunch": false,
    "category": "Accelerated computing",
    "gpuNum": 1,
    "hideHardwareSpecs": false,
    "memoryGiB": 16,
    "name": "ml.g5.xlarge",
    "vcpuNum": 4
   },
   {
    "_defaultOrder": 48,
    "_isFastLaunch": false,
    "category": "Accelerated computing",
    "gpuNum": 1,
    "hideHardwareSpecs": false,
    "memoryGiB": 32,
    "name": "ml.g5.2xlarge",
    "vcpuNum": 8
   },
   {
    "_defaultOrder": 49,
    "_isFastLaunch": false,
    "category": "Accelerated computing",
    "gpuNum": 1,
    "hideHardwareSpecs": false,
    "memoryGiB": 64,
    "name": "ml.g5.4xlarge",
    "vcpuNum": 16
   },
   {
    "_defaultOrder": 50,
    "_isFastLaunch": false,
    "category": "Accelerated computing",
    "gpuNum": 1,
    "hideHardwareSpecs": false,
    "memoryGiB": 128,
    "name": "ml.g5.8xlarge",
    "vcpuNum": 32
   },
   {
    "_defaultOrder": 51,
    "_isFastLaunch": false,
    "category": "Accelerated computing",
    "gpuNum": 1,
    "hideHardwareSpecs": false,
    "memoryGiB": 256,
    "name": "ml.g5.16xlarge",
    "vcpuNum": 64
   },
   {
    "_defaultOrder": 52,
    "_isFastLaunch": false,
    "category": "Accelerated computing",
    "gpuNum": 4,
    "hideHardwareSpecs": false,
    "memoryGiB": 192,
    "name": "ml.g5.12xlarge",
    "vcpuNum": 48
   },
   {
    "_defaultOrder": 53,
    "_isFastLaunch": false,
    "category": "Accelerated computing",
    "gpuNum": 4,
    "hideHardwareSpecs": false,
    "memoryGiB": 384,
    "name": "ml.g5.24xlarge",
    "vcpuNum": 96
   },
   {
    "_defaultOrder": 54,
    "_isFastLaunch": false,
    "category": "Accelerated computing",
    "gpuNum": 8,
    "hideHardwareSpecs": false,
    "memoryGiB": 768,
    "name": "ml.g5.48xlarge",
    "vcpuNum": 192
   },
   {
    "_defaultOrder": 55,
    "_isFastLaunch": false,
    "category": "Accelerated computing",
    "gpuNum": 8,
    "hideHardwareSpecs": false,
    "memoryGiB": 1152,
    "name": "ml.p4d.24xlarge",
    "vcpuNum": 96
   },
   {
    "_defaultOrder": 56,
    "_isFastLaunch": false,
    "category": "Accelerated computing",
    "gpuNum": 8,
    "hideHardwareSpecs": false,
    "memoryGiB": 1152,
    "name": "ml.p4de.24xlarge",
    "vcpuNum": 96
   }
  ],
  "instance_type": "ml.m5.2xlarge",
  "kernelspec": {
   "display_name": "conda_python3",
   "language": "python",
   "name": "conda_python3"
  },
  "language_info": {
   "codemirror_mode": {
    "name": "ipython",
    "version": 3
   },
   "file_extension": ".py",
   "mimetype": "text/x-python",
   "name": "python",
   "nbconvert_exporter": "python",
   "pygments_lexer": "ipython3",
   "version": "3.10.12"
  },
  "vscode": {
   "interpreter": {
    "hash": "3b41de70bedc0e302a3aeb58a0c77b854f2e56c8930e61a4aaa3340c96b01f1d"
   }
  }
 },
 "nbformat": 4,
 "nbformat_minor": 4
}
