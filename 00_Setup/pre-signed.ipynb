{
 "cells": [
  {
   "cell_type": "code",
   "execution_count": 5,
   "id": "d9d5f84d-99dc-4549-adcf-44a3d0ab5c0d",
   "metadata": {
    "tags": []
   },
   "outputs": [
    {
     "name": "stdout",
     "output_type": "stream",
     "text": [
      "Pre-signed URL: https://d-uiorrvvv6lbv.studio.us-east-1.sagemaker.aws/auth?token=eyJhbGciOiJIUzI1NiJ9.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.tqEK8eJySF0KSw3WE18FuxEU4JINlVQsU0NaETrcOnE\n"
     ]
    }
   ],
   "source": [
    "import boto3\n",
    "\n",
    "def create_sagemaker_presigned_url(studio_domain, user_profile_name, expiration=300):\n",
    "    client = boto3.client('sagemaker')\n",
    "    response = client.create_presigned_domain_url(\n",
    "        DomainId=studio_domain,\n",
    "        UserProfileName=user_profile_name,\n",
    "        ExpiresInSeconds=expiration\n",
    "    )\n",
    "    return response['AuthorizedUrl']\n",
    "\n",
    "# Replace 'your-studio-domain-id' and 'your-user-profile-name' with your actual values\n",
    "studio_domain_id = '<studio-domain>' \n",
    "user_profile_name = '<user-profile>'\n",
    "\n",
    "# Create a pre-signed URL with a default expiration time of 1 hour\n",
    "presigned_url = create_sagemaker_presigned_url(studio_domain_id, user_profile_name)\n",
    "\n",
    "print(\"Pre-signed URL:\", presigned_url)\n"
   ]
  },
  {
   "cell_type": "code",
   "execution_count": 3,
   "id": "66fc8a34-8b00-43a5-91be-392a6875fbad",
   "metadata": {},
   "outputs": [
    {
     "name": "stdout",
     "output_type": "stream",
     "text": [
      "/bin/bash: line 1: domain-id: No such file or directory\n"
     ]
    }
   ],
   "source": [
    "# aws cli presigne url\n",
    "!aws sagemaker create-presigned-domain-url --region us-east-1 --domain-id <domain-id> --expires-in-seconds 300 --user-profile-name tech-summit-user1                "
   ]
  },
  {
   "cell_type": "code",
   "execution_count": null,
   "id": "06346890-84ed-4eb9-b206-1194d7921065",
   "metadata": {},
   "outputs": [],
   "source": []
  }
 ],
 "metadata": {
  "availableInstances": [
   {
    "_defaultOrder": 0,
    "_isFastLaunch": true,
    "category": "General purpose",
    "gpuNum": 0,
    "hideHardwareSpecs": false,
    "memoryGiB": 4,
    "name": "ml.t3.medium",
    "vcpuNum": 2
   },
   {
    "_defaultOrder": 1,
    "_isFastLaunch": false,
    "category": "General purpose",
    "gpuNum": 0,
    "hideHardwareSpecs": false,
    "memoryGiB": 8,
    "name": "ml.t3.large",
    "vcpuNum": 2
   },
   {
    "_defaultOrder": 2,
    "_isFastLaunch": false,
    "category": "General purpose",
    "gpuNum": 0,
    "hideHardwareSpecs": false,
    "memoryGiB": 16,
    "name": "ml.t3.xlarge",
    "vcpuNum": 4
   },
   {
    "_defaultOrder": 3,
    "_isFastLaunch": false,
    "category": "General purpose",
    "gpuNum": 0,
    "hideHardwareSpecs": false,
    "memoryGiB": 32,
    "name": "ml.t3.2xlarge",
    "vcpuNum": 8
   },
   {
    "_defaultOrder": 4,
    "_isFastLaunch": true,
    "category": "General purpose",
    "gpuNum": 0,
    "hideHardwareSpecs": false,
    "memoryGiB": 8,
    "name": "ml.m5.large",
    "vcpuNum": 2
   },
   {
    "_defaultOrder": 5,
    "_isFastLaunch": false,
    "category": "General purpose",
    "gpuNum": 0,
    "hideHardwareSpecs": false,
    "memoryGiB": 16,
    "name": "ml.m5.xlarge",
    "vcpuNum": 4
   },
   {
    "_defaultOrder": 6,
    "_isFastLaunch": false,
    "category": "General purpose",
    "gpuNum": 0,
    "hideHardwareSpecs": false,
    "memoryGiB": 32,
    "name": "ml.m5.2xlarge",
    "vcpuNum": 8
   },
   {
    "_defaultOrder": 7,
    "_isFastLaunch": false,
    "category": "General purpose",
    "gpuNum": 0,
    "hideHardwareSpecs": false,
    "memoryGiB": 64,
    "name": "ml.m5.4xlarge",
    "vcpuNum": 16
   },
   {
    "_defaultOrder": 8,
    "_isFastLaunch": false,
    "category": "General purpose",
    "gpuNum": 0,
    "hideHardwareSpecs": false,
    "memoryGiB": 128,
    "name": "ml.m5.8xlarge",
    "vcpuNum": 32
   },
   {
    "_defaultOrder": 9,
    "_isFastLaunch": false,
    "category": "General purpose",
    "gpuNum": 0,
    "hideHardwareSpecs": false,
    "memoryGiB": 192,
    "name": "ml.m5.12xlarge",
    "vcpuNum": 48
   },
   {
    "_defaultOrder": 10,
    "_isFastLaunch": false,
    "category": "General purpose",
    "gpuNum": 0,
    "hideHardwareSpecs": false,
    "memoryGiB": 256,
    "name": "ml.m5.16xlarge",
    "vcpuNum": 64
   },
   {
    "_defaultOrder": 11,
    "_isFastLaunch": false,
    "category": "General purpose",
    "gpuNum": 0,
    "hideHardwareSpecs": false,
    "memoryGiB": 384,
    "name": "ml.m5.24xlarge",
    "vcpuNum": 96
   },
   {
    "_defaultOrder": 12,
    "_isFastLaunch": false,
    "category": "General purpose",
    "gpuNum": 0,
    "hideHardwareSpecs": false,
    "memoryGiB": 8,
    "name": "ml.m5d.large",
    "vcpuNum": 2
   },
   {
    "_defaultOrder": 13,
    "_isFastLaunch": false,
    "category": "General purpose",
    "gpuNum": 0,
    "hideHardwareSpecs": false,
    "memoryGiB": 16,
    "name": "ml.m5d.xlarge",
    "vcpuNum": 4
   },
   {
    "_defaultOrder": 14,
    "_isFastLaunch": false,
    "category": "General purpose",
    "gpuNum": 0,
    "hideHardwareSpecs": false,
    "memoryGiB": 32,
    "name": "ml.m5d.2xlarge",
    "vcpuNum": 8
   },
   {
    "_defaultOrder": 15,
    "_isFastLaunch": false,
    "category": "General purpose",
    "gpuNum": 0,
    "hideHardwareSpecs": false,
    "memoryGiB": 64,
    "name": "ml.m5d.4xlarge",
    "vcpuNum": 16
   },
   {
    "_defaultOrder": 16,
    "_isFastLaunch": false,
    "category": "General purpose",
    "gpuNum": 0,
    "hideHardwareSpecs": false,
    "memoryGiB": 128,
    "name": "ml.m5d.8xlarge",
    "vcpuNum": 32
   },
   {
    "_defaultOrder": 17,
    "_isFastLaunch": false,
    "category": "General purpose",
    "gpuNum": 0,
    "hideHardwareSpecs": false,
    "memoryGiB": 192,
    "name": "ml.m5d.12xlarge",
    "vcpuNum": 48
   },
   {
    "_defaultOrder": 18,
    "_isFastLaunch": false,
    "category": "General purpose",
    "gpuNum": 0,
    "hideHardwareSpecs": false,
    "memoryGiB": 256,
    "name": "ml.m5d.16xlarge",
    "vcpuNum": 64
   },
   {
    "_defaultOrder": 19,
    "_isFastLaunch": false,
    "category": "General purpose",
    "gpuNum": 0,
    "hideHardwareSpecs": false,
    "memoryGiB": 384,
    "name": "ml.m5d.24xlarge",
    "vcpuNum": 96
   },
   {
    "_defaultOrder": 20,
    "_isFastLaunch": false,
    "category": "General purpose",
    "gpuNum": 0,
    "hideHardwareSpecs": true,
    "memoryGiB": 0,
    "name": "ml.geospatial.interactive",
    "supportedImageNames": [
     "sagemaker-geospatial-v1-0"
    ],
    "vcpuNum": 0
   },
   {
    "_defaultOrder": 21,
    "_isFastLaunch": true,
    "category": "Compute optimized",
    "gpuNum": 0,
    "hideHardwareSpecs": false,
    "memoryGiB": 4,
    "name": "ml.c5.large",
    "vcpuNum": 2
   },
   {
    "_defaultOrder": 22,
    "_isFastLaunch": false,
    "category": "Compute optimized",
    "gpuNum": 0,
    "hideHardwareSpecs": false,
    "memoryGiB": 8,
    "name": "ml.c5.xlarge",
    "vcpuNum": 4
   },
   {
    "_defaultOrder": 23,
    "_isFastLaunch": false,
    "category": "Compute optimized",
    "gpuNum": 0,
    "hideHardwareSpecs": false,
    "memoryGiB": 16,
    "name": "ml.c5.2xlarge",
    "vcpuNum": 8
   },
   {
    "_defaultOrder": 24,
    "_isFastLaunch": false,
    "category": "Compute optimized",
    "gpuNum": 0,
    "hideHardwareSpecs": false,
    "memoryGiB": 32,
    "name": "ml.c5.4xlarge",
    "vcpuNum": 16
   },
   {
    "_defaultOrder": 25,
    "_isFastLaunch": false,
    "category": "Compute optimized",
    "gpuNum": 0,
    "hideHardwareSpecs": false,
    "memoryGiB": 72,
    "name": "ml.c5.9xlarge",
    "vcpuNum": 36
   },
   {
    "_defaultOrder": 26,
    "_isFastLaunch": false,
    "category": "Compute optimized",
    "gpuNum": 0,
    "hideHardwareSpecs": false,
    "memoryGiB": 96,
    "name": "ml.c5.12xlarge",
    "vcpuNum": 48
   },
   {
    "_defaultOrder": 27,
    "_isFastLaunch": false,
    "category": "Compute optimized",
    "gpuNum": 0,
    "hideHardwareSpecs": false,
    "memoryGiB": 144,
    "name": "ml.c5.18xlarge",
    "vcpuNum": 72
   },
   {
    "_defaultOrder": 28,
    "_isFastLaunch": false,
    "category": "Compute optimized",
    "gpuNum": 0,
    "hideHardwareSpecs": false,
    "memoryGiB": 192,
    "name": "ml.c5.24xlarge",
    "vcpuNum": 96
   },
   {
    "_defaultOrder": 29,
    "_isFastLaunch": true,
    "category": "Accelerated computing",
    "gpuNum": 1,
    "hideHardwareSpecs": false,
    "memoryGiB": 16,
    "name": "ml.g4dn.xlarge",
    "vcpuNum": 4
   },
   {
    "_defaultOrder": 30,
    "_isFastLaunch": false,
    "category": "Accelerated computing",
    "gpuNum": 1,
    "hideHardwareSpecs": false,
    "memoryGiB": 32,
    "name": "ml.g4dn.2xlarge",
    "vcpuNum": 8
   },
   {
    "_defaultOrder": 31,
    "_isFastLaunch": false,
    "category": "Accelerated computing",
    "gpuNum": 1,
    "hideHardwareSpecs": false,
    "memoryGiB": 64,
    "name": "ml.g4dn.4xlarge",
    "vcpuNum": 16
   },
   {
    "_defaultOrder": 32,
    "_isFastLaunch": false,
    "category": "Accelerated computing",
    "gpuNum": 1,
    "hideHardwareSpecs": false,
    "memoryGiB": 128,
    "name": "ml.g4dn.8xlarge",
    "vcpuNum": 32
   },
   {
    "_defaultOrder": 33,
    "_isFastLaunch": false,
    "category": "Accelerated computing",
    "gpuNum": 4,
    "hideHardwareSpecs": false,
    "memoryGiB": 192,
    "name": "ml.g4dn.12xlarge",
    "vcpuNum": 48
   },
   {
    "_defaultOrder": 34,
    "_isFastLaunch": false,
    "category": "Accelerated computing",
    "gpuNum": 1,
    "hideHardwareSpecs": false,
    "memoryGiB": 256,
    "name": "ml.g4dn.16xlarge",
    "vcpuNum": 64
   },
   {
    "_defaultOrder": 35,
    "_isFastLaunch": false,
    "category": "Accelerated computing",
    "gpuNum": 1,
    "hideHardwareSpecs": false,
    "memoryGiB": 61,
    "name": "ml.p3.2xlarge",
    "vcpuNum": 8
   },
   {
    "_defaultOrder": 36,
    "_isFastLaunch": false,
    "category": "Accelerated computing",
    "gpuNum": 4,
    "hideHardwareSpecs": false,
    "memoryGiB": 244,
    "name": "ml.p3.8xlarge",
    "vcpuNum": 32
   },
   {
    "_defaultOrder": 37,
    "_isFastLaunch": false,
    "category": "Accelerated computing",
    "gpuNum": 8,
    "hideHardwareSpecs": false,
    "memoryGiB": 488,
    "name": "ml.p3.16xlarge",
    "vcpuNum": 64
   },
   {
    "_defaultOrder": 38,
    "_isFastLaunch": false,
    "category": "Accelerated computing",
    "gpuNum": 8,
    "hideHardwareSpecs": false,
    "memoryGiB": 768,
    "name": "ml.p3dn.24xlarge",
    "vcpuNum": 96
   },
   {
    "_defaultOrder": 39,
    "_isFastLaunch": false,
    "category": "Memory Optimized",
    "gpuNum": 0,
    "hideHardwareSpecs": false,
    "memoryGiB": 16,
    "name": "ml.r5.large",
    "vcpuNum": 2
   },
   {
    "_defaultOrder": 40,
    "_isFastLaunch": false,
    "category": "Memory Optimized",
    "gpuNum": 0,
    "hideHardwareSpecs": false,
    "memoryGiB": 32,
    "name": "ml.r5.xlarge",
    "vcpuNum": 4
   },
   {
    "_defaultOrder": 41,
    "_isFastLaunch": false,
    "category": "Memory Optimized",
    "gpuNum": 0,
    "hideHardwareSpecs": false,
    "memoryGiB": 64,
    "name": "ml.r5.2xlarge",
    "vcpuNum": 8
   },
   {
    "_defaultOrder": 42,
    "_isFastLaunch": false,
    "category": "Memory Optimized",
    "gpuNum": 0,
    "hideHardwareSpecs": false,
    "memoryGiB": 128,
    "name": "ml.r5.4xlarge",
    "vcpuNum": 16
   },
   {
    "_defaultOrder": 43,
    "_isFastLaunch": false,
    "category": "Memory Optimized",
    "gpuNum": 0,
    "hideHardwareSpecs": false,
    "memoryGiB": 256,
    "name": "ml.r5.8xlarge",
    "vcpuNum": 32
   },
   {
    "_defaultOrder": 44,
    "_isFastLaunch": false,
    "category": "Memory Optimized",
    "gpuNum": 0,
    "hideHardwareSpecs": false,
    "memoryGiB": 384,
    "name": "ml.r5.12xlarge",
    "vcpuNum": 48
   },
   {
    "_defaultOrder": 45,
    "_isFastLaunch": false,
    "category": "Memory Optimized",
    "gpuNum": 0,
    "hideHardwareSpecs": false,
    "memoryGiB": 512,
    "name": "ml.r5.16xlarge",
    "vcpuNum": 64
   },
   {
    "_defaultOrder": 46,
    "_isFastLaunch": false,
    "category": "Memory Optimized",
    "gpuNum": 0,
    "hideHardwareSpecs": false,
    "memoryGiB": 768,
    "name": "ml.r5.24xlarge",
    "vcpuNum": 96
   },
   {
    "_defaultOrder": 47,
    "_isFastLaunch": false,
    "category": "Accelerated computing",
    "gpuNum": 1,
    "hideHardwareSpecs": false,
    "memoryGiB": 16,
    "name": "ml.g5.xlarge",
    "vcpuNum": 4
   },
   {
    "_defaultOrder": 48,
    "_isFastLaunch": false,
    "category": "Accelerated computing",
    "gpuNum": 1,
    "hideHardwareSpecs": false,
    "memoryGiB": 32,
    "name": "ml.g5.2xlarge",
    "vcpuNum": 8
   },
   {
    "_defaultOrder": 49,
    "_isFastLaunch": false,
    "category": "Accelerated computing",
    "gpuNum": 1,
    "hideHardwareSpecs": false,
    "memoryGiB": 64,
    "name": "ml.g5.4xlarge",
    "vcpuNum": 16
   },
   {
    "_defaultOrder": 50,
    "_isFastLaunch": false,
    "category": "Accelerated computing",
    "gpuNum": 1,
    "hideHardwareSpecs": false,
    "memoryGiB": 128,
    "name": "ml.g5.8xlarge",
    "vcpuNum": 32
   },
   {
    "_defaultOrder": 51,
    "_isFastLaunch": false,
    "category": "Accelerated computing",
    "gpuNum": 1,
    "hideHardwareSpecs": false,
    "memoryGiB": 256,
    "name": "ml.g5.16xlarge",
    "vcpuNum": 64
   },
   {
    "_defaultOrder": 52,
    "_isFastLaunch": false,
    "category": "Accelerated computing",
    "gpuNum": 4,
    "hideHardwareSpecs": false,
    "memoryGiB": 192,
    "name": "ml.g5.12xlarge",
    "vcpuNum": 48
   },
   {
    "_defaultOrder": 53,
    "_isFastLaunch": false,
    "category": "Accelerated computing",
    "gpuNum": 4,
    "hideHardwareSpecs": false,
    "memoryGiB": 384,
    "name": "ml.g5.24xlarge",
    "vcpuNum": 96
   },
   {
    "_defaultOrder": 54,
    "_isFastLaunch": false,
    "category": "Accelerated computing",
    "gpuNum": 8,
    "hideHardwareSpecs": false,
    "memoryGiB": 768,
    "name": "ml.g5.48xlarge",
    "vcpuNum": 192
   },
   {
    "_defaultOrder": 55,
    "_isFastLaunch": false,
    "category": "Accelerated computing",
    "gpuNum": 8,
    "hideHardwareSpecs": false,
    "memoryGiB": 1152,
    "name": "ml.p4d.24xlarge",
    "vcpuNum": 96
   },
   {
    "_defaultOrder": 56,
    "_isFastLaunch": false,
    "category": "Accelerated computing",
    "gpuNum": 8,
    "hideHardwareSpecs": false,
    "memoryGiB": 1152,
    "name": "ml.p4de.24xlarge",
    "vcpuNum": 96
   }
  ],
  "instance_type": "ml.m5.large",
  "kernelspec": {
   "display_name": "Python 3 (Data Science 3.0)",
   "language": "python",
   "name": "python3__SAGEMAKER_INTERNAL__arn:aws:sagemaker:us-east-1:081325390199:image/sagemaker-data-science-310-v1"
  },
  "language_info": {
   "codemirror_mode": {
    "name": "ipython",
    "version": 3
   },
   "file_extension": ".py",
   "mimetype": "text/x-python",
   "name": "python",
   "nbconvert_exporter": "python",
   "pygments_lexer": "ipython3",
   "version": "3.10.6"
  }
 },
 "nbformat": 4,
 "nbformat_minor": 5
}
