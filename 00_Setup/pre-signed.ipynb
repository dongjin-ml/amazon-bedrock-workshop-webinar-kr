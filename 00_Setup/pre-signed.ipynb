{
 "cells": [
  {
   "cell_type": "code",
   "execution_count": null,
   "id": "d9d5f84d-99dc-4549-adcf-44a3d0ab5c0d",
   "metadata": {
    "tags": []
   },
   "outputs": [],
   "source": [
    "import boto3\n",
    "\n",
    "def create_sagemaker_presigned_url(studio_domain, user_profile_name, expiration=300):\n",
    "    client = boto3.client('sagemaker')\n",
    "    response = client.create_presigned_domain_url(\n",
    "        DomainId=studio_domain,\n",
    "        UserProfileName=user_profile_name,\n",
    "        ExpiresInSeconds=expiration\n",
    "    )\n",
    "    return response['AuthorizedUrl']\n",
    "\n",
    "# Replace 'your-studio-domain-id' and 'your-user-profile-name' with your actual values\n",
    "studio_domain_id = '<studio-domain>' \n",
    "user_profile_name = '<user-profile>'\n",
    "\n",
    "# Create a pre-signed URL with a default expiration time of 1 hour\n",
    "presigned_url = create_sagemaker_presigned_url(studio_domain_id, user_profile_name)\n",
    "\n",
    "print(\"Pre-signed URL:\", presigned_url)\n"
   ]
  },
  {
   "cell_type": "code",
   "execution_count": null,
   "id": "66fc8a34-8b00-43a5-91be-392a6875fbad",
   "metadata": {},
   "outputs": [],
   "source": [
    "# aws cli presigne url\n",
    "!aws sagemaker create-presigned-domain-url --region us-east-1 --domain-id <domain-id> --expires-in-seconds 300 --user-profile-name tech-summit-user1                "
   ]
  },
  {
   "cell_type": "code",
   "execution_count": 2,
   "id": "fd80159d-15b2-41a3-ae04-d94875dd9bd8",
   "metadata": {
    "tags": []
   },
   "outputs": [],
   "source": [
    "import boto3\n",
    "import numpy as np\n",
    "import pandas as pd"
   ]
  },
  {
   "cell_type": "markdown",
   "id": "9c6121d7-c278-4f16-9039-ef535533d7a8",
   "metadata": {},
   "source": [
    "## Team Assignment"
   ]
  },
  {
   "cell_type": "code",
   "execution_count": 14,
   "id": "fe6b9d82-64bc-48f9-8feb-6e81cff2b5b1",
   "metadata": {
    "tags": []
   },
   "outputs": [],
   "source": [
    "pdData = pd.read_csv(\"../../attendee/AWS 2차수 대상자 공유_updated.csv\")\n",
    "pdData = pdData.query('No.notna()')"
   ]
  },
  {
   "cell_type": "code",
   "execution_count": 15,
   "id": "14cfd600-2140-47d4-8968-f8f05f99586d",
   "metadata": {
    "tags": []
   },
   "outputs": [],
   "source": [
    "group_info = [(8, \"A\"),(8, \"B\"), (7, \"C\"), (7, \"D\")]"
   ]
  },
  {
   "cell_type": "code",
   "execution_count": 16,
   "id": "9fac45cf-4d44-44de-adbf-fad5b29e23a9",
   "metadata": {
    "tags": []
   },
   "outputs": [],
   "source": [
    "start, end = 0, 0\n",
    "pdGroup = pd.DataFrame(\"A\", index=range(pdData.shape[0]), columns=[\"Group\"])\n",
    "for idx, (limit, group_name) in enumerate(group_info):\n",
    "    end += limit\n",
    "    pdGroup.iloc[start:end] = group_name\n",
    "    start = end\n",
    "pdData = pd.concat([pdData, pdGroup], axis=1)\n",
    "pdData.to_csv(f'../../attendee/group/SEC-MX-Group-Assginment.csv', index=False)\n",
    "\n",
    "for _, group_name in group_info:\n",
    "    pdData.query(\"Group == @group_name\").to_csv(f'../../attendee/group/SEC-MX-Group-{group_name}.csv', index=False)\n",
    "    "
   ]
  },
  {
   "cell_type": "markdown",
   "id": "13925140-72ee-444c-a2e6-61479bbf119b",
   "metadata": {},
   "source": [
    "## Geterate CSV file for presigned url"
   ]
  },
  {
   "cell_type": "code",
   "execution_count": 17,
   "id": "d203d87e-9cbd-49ff-a064-789e0e09fcd9",
   "metadata": {
    "tags": []
   },
   "outputs": [],
   "source": [
    "def create_sagemaker_presigned_url(studio_domain, user_profile_name, expiration=300):\n",
    "    client = boto3.client('sagemaker')\n",
    "    response = client.create_presigned_domain_url(\n",
    "        DomainId=studio_domain,\n",
    "        UserProfileName=user_profile_name,\n",
    "        ExpiresInSeconds=expiration\n",
    "    )\n",
    "    return response['AuthorizedUrl']"
   ]
  },
  {
   "cell_type": "code",
   "execution_count": 18,
   "id": "75585d87-10dc-4d2d-8420-051e856a9fb0",
   "metadata": {
    "tags": []
   },
   "outputs": [
    {
     "data": {
      "text/html": [
       "<div>\n",
       "<style scoped>\n",
       "    .dataframe tbody tr th:only-of-type {\n",
       "        vertical-align: middle;\n",
       "    }\n",
       "\n",
       "    .dataframe tbody tr th {\n",
       "        vertical-align: top;\n",
       "    }\n",
       "\n",
       "    .dataframe thead th {\n",
       "        text-align: right;\n",
       "    }\n",
       "</style>\n",
       "<table border=\"1\" class=\"dataframe\">\n",
       "  <thead>\n",
       "    <tr style=\"text-align: right;\">\n",
       "      <th></th>\n",
       "      <th>No</th>\n",
       "      <th>팀명</th>\n",
       "      <th>그룹명</th>\n",
       "      <th>성명</th>\n",
       "      <th>email</th>\n",
       "      <th>Group</th>\n",
       "    </tr>\n",
       "  </thead>\n",
       "  <tbody>\n",
       "    <tr>\n",
       "      <th>0</th>\n",
       "      <td>17.0</td>\n",
       "      <td>Application 개발팀</td>\n",
       "      <td>Application개발1그룹(MX)</td>\n",
       "      <td>유경민</td>\n",
       "      <td>kyungmin.yu@samsung.com</td>\n",
       "      <td>C</td>\n",
       "    </tr>\n",
       "    <tr>\n",
       "      <th>1</th>\n",
       "      <td>18.0</td>\n",
       "      <td>Application 개발팀</td>\n",
       "      <td>Application개발1그룹(MX)</td>\n",
       "      <td>김영호</td>\n",
       "      <td>yh0409.kim@samsung.com</td>\n",
       "      <td>C</td>\n",
       "    </tr>\n",
       "    <tr>\n",
       "      <th>2</th>\n",
       "      <td>19.0</td>\n",
       "      <td>Application 개발팀</td>\n",
       "      <td>Application개발2그룹(MX)</td>\n",
       "      <td>정다은</td>\n",
       "      <td>dani.jeong@samsung.com</td>\n",
       "      <td>C</td>\n",
       "    </tr>\n",
       "    <tr>\n",
       "      <th>3</th>\n",
       "      <td>20.0</td>\n",
       "      <td>Application 개발팀</td>\n",
       "      <td>Application개발2그룹(MX)</td>\n",
       "      <td>김시정</td>\n",
       "      <td>standard.kim@samsung.com</td>\n",
       "      <td>C</td>\n",
       "    </tr>\n",
       "    <tr>\n",
       "      <th>4</th>\n",
       "      <td>21.0</td>\n",
       "      <td>Application 개발팀</td>\n",
       "      <td>Application개발2그룹(MX)</td>\n",
       "      <td>성기운</td>\n",
       "      <td>keewoon.sung@samsung.com</td>\n",
       "      <td>C</td>\n",
       "    </tr>\n",
       "    <tr>\n",
       "      <th>5</th>\n",
       "      <td>22.0</td>\n",
       "      <td>Application 개발팀</td>\n",
       "      <td>Application개발2그룹(MX)</td>\n",
       "      <td>노정환</td>\n",
       "      <td>jh12.noh@samsung.com</td>\n",
       "      <td>C</td>\n",
       "    </tr>\n",
       "    <tr>\n",
       "      <th>6</th>\n",
       "      <td>23.0</td>\n",
       "      <td>Application 개발팀</td>\n",
       "      <td>Application개발2그룹(MX)</td>\n",
       "      <td>문주현</td>\n",
       "      <td>joohyun.moon@samsung.com</td>\n",
       "      <td>C</td>\n",
       "    </tr>\n",
       "  </tbody>\n",
       "</table>\n",
       "</div>"
      ],
      "text/plain": [
       "     No               팀명                   그룹명   성명                     email  \\\n",
       "0  17.0  Application 개발팀  Application개발1그룹(MX)  유경민   kyungmin.yu@samsung.com   \n",
       "1  18.0  Application 개발팀  Application개발1그룹(MX)  김영호    yh0409.kim@samsung.com   \n",
       "2  19.0  Application 개발팀  Application개발2그룹(MX)  정다은    dani.jeong@samsung.com   \n",
       "3  20.0  Application 개발팀  Application개발2그룹(MX)  김시정  standard.kim@samsung.com   \n",
       "4  21.0  Application 개발팀  Application개발2그룹(MX)  성기운  keewoon.sung@samsung.com   \n",
       "5  22.0  Application 개발팀  Application개발2그룹(MX)  노정환      jh12.noh@samsung.com   \n",
       "6  23.0  Application 개발팀  Application개발2그룹(MX)  문주현  joohyun.moon@samsung.com   \n",
       "\n",
       "  Group  \n",
       "0     C  \n",
       "1     C  \n",
       "2     C  \n",
       "3     C  \n",
       "4     C  \n",
       "5     C  \n",
       "6     C  "
      ]
     },
     "execution_count": 18,
     "metadata": {},
     "output_type": "execute_result"
    }
   ],
   "source": [
    "group = \"C\"\n",
    "pdData = pd.read_csv(f\"../../attendee/group/SEC-MX-Group-{group}.csv\")\n",
    "pdData"
   ]
  },
  {
   "cell_type": "code",
   "execution_count": 19,
   "id": "4114bea7-d9ae-4507-a0c5-bcd27939a5b5",
   "metadata": {
    "tags": []
   },
   "outputs": [
    {
     "data": {
      "text/html": [
       "<div>\n",
       "<style scoped>\n",
       "    .dataframe tbody tr th:only-of-type {\n",
       "        vertical-align: middle;\n",
       "    }\n",
       "\n",
       "    .dataframe tbody tr th {\n",
       "        vertical-align: top;\n",
       "    }\n",
       "\n",
       "    .dataframe thead th {\n",
       "        text-align: right;\n",
       "    }\n",
       "</style>\n",
       "<table border=\"1\" class=\"dataframe\">\n",
       "  <thead>\n",
       "    <tr style=\"text-align: right;\">\n",
       "      <th></th>\n",
       "      <th>No</th>\n",
       "      <th>팀명</th>\n",
       "      <th>그룹명</th>\n",
       "      <th>성명</th>\n",
       "      <th>email</th>\n",
       "      <th>Group</th>\n",
       "      <th>user_id</th>\n",
       "      <th>user_profile</th>\n",
       "      <th>실습_URL</th>\n",
       "    </tr>\n",
       "  </thead>\n",
       "  <tbody>\n",
       "    <tr>\n",
       "      <th>0</th>\n",
       "      <td>17.0</td>\n",
       "      <td>Application 개발팀</td>\n",
       "      <td>Application개발1그룹(MX)</td>\n",
       "      <td>유경민</td>\n",
       "      <td>kyungmin.yu@samsung.com</td>\n",
       "      <td>C</td>\n",
       "      <td>user_01</td>\n",
       "      <td>mx-01</td>\n",
       "      <td>https://d-qfwox2whpsa9.studio.us-east-1.sagema...</td>\n",
       "    </tr>\n",
       "    <tr>\n",
       "      <th>1</th>\n",
       "      <td>18.0</td>\n",
       "      <td>Application 개발팀</td>\n",
       "      <td>Application개발1그룹(MX)</td>\n",
       "      <td>김영호</td>\n",
       "      <td>yh0409.kim@samsung.com</td>\n",
       "      <td>C</td>\n",
       "      <td>user_02</td>\n",
       "      <td>mx-02</td>\n",
       "      <td>https://d-qfwox2whpsa9.studio.us-east-1.sagema...</td>\n",
       "    </tr>\n",
       "    <tr>\n",
       "      <th>2</th>\n",
       "      <td>19.0</td>\n",
       "      <td>Application 개발팀</td>\n",
       "      <td>Application개발2그룹(MX)</td>\n",
       "      <td>정다은</td>\n",
       "      <td>dani.jeong@samsung.com</td>\n",
       "      <td>C</td>\n",
       "      <td>user_03</td>\n",
       "      <td>mx-03</td>\n",
       "      <td>https://d-qfwox2whpsa9.studio.us-east-1.sagema...</td>\n",
       "    </tr>\n",
       "    <tr>\n",
       "      <th>3</th>\n",
       "      <td>20.0</td>\n",
       "      <td>Application 개발팀</td>\n",
       "      <td>Application개발2그룹(MX)</td>\n",
       "      <td>김시정</td>\n",
       "      <td>standard.kim@samsung.com</td>\n",
       "      <td>C</td>\n",
       "      <td>user_04</td>\n",
       "      <td>mx-04</td>\n",
       "      <td>https://d-qfwox2whpsa9.studio.us-east-1.sagema...</td>\n",
       "    </tr>\n",
       "    <tr>\n",
       "      <th>4</th>\n",
       "      <td>21.0</td>\n",
       "      <td>Application 개발팀</td>\n",
       "      <td>Application개발2그룹(MX)</td>\n",
       "      <td>성기운</td>\n",
       "      <td>keewoon.sung@samsung.com</td>\n",
       "      <td>C</td>\n",
       "      <td>user_05</td>\n",
       "      <td>mx-05</td>\n",
       "      <td>https://d-qfwox2whpsa9.studio.us-east-1.sagema...</td>\n",
       "    </tr>\n",
       "    <tr>\n",
       "      <th>5</th>\n",
       "      <td>22.0</td>\n",
       "      <td>Application 개발팀</td>\n",
       "      <td>Application개발2그룹(MX)</td>\n",
       "      <td>노정환</td>\n",
       "      <td>jh12.noh@samsung.com</td>\n",
       "      <td>C</td>\n",
       "      <td>user_06</td>\n",
       "      <td>mx-06</td>\n",
       "      <td>https://d-qfwox2whpsa9.studio.us-east-1.sagema...</td>\n",
       "    </tr>\n",
       "    <tr>\n",
       "      <th>6</th>\n",
       "      <td>23.0</td>\n",
       "      <td>Application 개발팀</td>\n",
       "      <td>Application개발2그룹(MX)</td>\n",
       "      <td>문주현</td>\n",
       "      <td>joohyun.moon@samsung.com</td>\n",
       "      <td>C</td>\n",
       "      <td>user_07</td>\n",
       "      <td>mx-07</td>\n",
       "      <td>https://d-qfwox2whpsa9.studio.us-east-1.sagema...</td>\n",
       "    </tr>\n",
       "  </tbody>\n",
       "</table>\n",
       "</div>"
      ],
      "text/plain": [
       "     No               팀명                   그룹명   성명                     email  \\\n",
       "0  17.0  Application 개발팀  Application개발1그룹(MX)  유경민   kyungmin.yu@samsung.com   \n",
       "1  18.0  Application 개발팀  Application개발1그룹(MX)  김영호    yh0409.kim@samsung.com   \n",
       "2  19.0  Application 개발팀  Application개발2그룹(MX)  정다은    dani.jeong@samsung.com   \n",
       "3  20.0  Application 개발팀  Application개발2그룹(MX)  김시정  standard.kim@samsung.com   \n",
       "4  21.0  Application 개발팀  Application개발2그룹(MX)  성기운  keewoon.sung@samsung.com   \n",
       "5  22.0  Application 개발팀  Application개발2그룹(MX)  노정환      jh12.noh@samsung.com   \n",
       "6  23.0  Application 개발팀  Application개발2그룹(MX)  문주현  joohyun.moon@samsung.com   \n",
       "\n",
       "  Group  user_id user_profile  \\\n",
       "0     C  user_01        mx-01   \n",
       "1     C  user_02        mx-02   \n",
       "2     C  user_03        mx-03   \n",
       "3     C  user_04        mx-04   \n",
       "4     C  user_05        mx-05   \n",
       "5     C  user_06        mx-06   \n",
       "6     C  user_07        mx-07   \n",
       "\n",
       "                                              실습_URL  \n",
       "0  https://d-qfwox2whpsa9.studio.us-east-1.sagema...  \n",
       "1  https://d-qfwox2whpsa9.studio.us-east-1.sagema...  \n",
       "2  https://d-qfwox2whpsa9.studio.us-east-1.sagema...  \n",
       "3  https://d-qfwox2whpsa9.studio.us-east-1.sagema...  \n",
       "4  https://d-qfwox2whpsa9.studio.us-east-1.sagema...  \n",
       "5  https://d-qfwox2whpsa9.studio.us-east-1.sagema...  \n",
       "6  https://d-qfwox2whpsa9.studio.us-east-1.sagema...  "
      ]
     },
     "execution_count": 19,
     "metadata": {},
     "output_type": "execute_result"
    }
   ],
   "source": [
    "instance = []\n",
    "for idx in range(pdData.shape[0]):\n",
    "    \n",
    "    user_id = f'user_{str(idx+1).rjust(2, \"0\")}'\n",
    "    user_profile = f'mx-{str(idx+1).rjust(2, \"0\")}'\n",
    "    presigned_url = create_sagemaker_presigned_url(\n",
    "        studio_domain=\"d-qfwox2whpsa9\",\n",
    "        user_profile_name=user_profile\n",
    "    )\n",
    "    \n",
    "    instance.append([user_id, user_profile, presigned_url])\n",
    "\n",
    "pdURL = pd.DataFrame(instance, columns=[\"user_id\", \"user_profile\", \"실습_URL\"])\n",
    "pdData = pd.concat([pdData, pdURL], axis=1)\n",
    "pdData.to_csv(f\"../../attendee/실습-URL-정보-Group-{group}.csv\", index=False)\n",
    "pdData"
   ]
  },
  {
   "cell_type": "code",
   "execution_count": 20,
   "id": "922ffd59-9bbd-4cdf-b681-00c1494abf3b",
   "metadata": {
    "tags": []
   },
   "outputs": [
    {
     "ename": "ResourceNotFound",
     "evalue": "An error occurred (ResourceNotFound) when calling the CreatePresignedDomainUrl operation: UserProfile [arn:aws:sagemaker:us-east-1:696784033931:user-profile/d-qfwox2whpsa9/mx-19] does not exist",
     "output_type": "error",
     "traceback": [
      "\u001b[0;31m---------------------------------------------------------------------------\u001b[0m",
      "\u001b[0;31mResourceNotFound\u001b[0m                          Traceback (most recent call last)",
      "Cell \u001b[0;32mIn[20], line 17\u001b[0m\n\u001b[1;32m     14\u001b[0m user_profile_name \u001b[38;5;241m=\u001b[39m \u001b[38;5;124m'\u001b[39m\u001b[38;5;124mmx-19\u001b[39m\u001b[38;5;124m'\u001b[39m\n\u001b[1;32m     16\u001b[0m \u001b[38;5;66;03m# Create a pre-signed URL with a default expiration time of 1 hour\u001b[39;00m\n\u001b[0;32m---> 17\u001b[0m presigned_url \u001b[38;5;241m=\u001b[39m \u001b[43mcreate_sagemaker_presigned_url\u001b[49m\u001b[43m(\u001b[49m\u001b[43mstudio_domain_id\u001b[49m\u001b[43m,\u001b[49m\u001b[43m \u001b[49m\u001b[43muser_profile_name\u001b[49m\u001b[43m)\u001b[49m\n\u001b[1;32m     19\u001b[0m \u001b[38;5;28mprint\u001b[39m(\u001b[38;5;124m\"\u001b[39m\u001b[38;5;124mPre-signed URL:\u001b[39m\u001b[38;5;124m\"\u001b[39m, presigned_url)\n",
      "Cell \u001b[0;32mIn[20], line 5\u001b[0m, in \u001b[0;36mcreate_sagemaker_presigned_url\u001b[0;34m(studio_domain, user_profile_name, expiration)\u001b[0m\n\u001b[1;32m      3\u001b[0m \u001b[38;5;28;01mdef\u001b[39;00m \u001b[38;5;21mcreate_sagemaker_presigned_url\u001b[39m(studio_domain, user_profile_name, expiration\u001b[38;5;241m=\u001b[39m\u001b[38;5;241m300\u001b[39m):\n\u001b[1;32m      4\u001b[0m     client \u001b[38;5;241m=\u001b[39m boto3\u001b[38;5;241m.\u001b[39mclient(\u001b[38;5;124m'\u001b[39m\u001b[38;5;124msagemaker\u001b[39m\u001b[38;5;124m'\u001b[39m)\n\u001b[0;32m----> 5\u001b[0m     response \u001b[38;5;241m=\u001b[39m \u001b[43mclient\u001b[49m\u001b[38;5;241;43m.\u001b[39;49m\u001b[43mcreate_presigned_domain_url\u001b[49m\u001b[43m(\u001b[49m\n\u001b[1;32m      6\u001b[0m \u001b[43m        \u001b[49m\u001b[43mDomainId\u001b[49m\u001b[38;5;241;43m=\u001b[39;49m\u001b[43mstudio_domain\u001b[49m\u001b[43m,\u001b[49m\n\u001b[1;32m      7\u001b[0m \u001b[43m        \u001b[49m\u001b[43mUserProfileName\u001b[49m\u001b[38;5;241;43m=\u001b[39;49m\u001b[43muser_profile_name\u001b[49m\u001b[43m,\u001b[49m\n\u001b[1;32m      8\u001b[0m \u001b[43m        \u001b[49m\u001b[43mExpiresInSeconds\u001b[49m\u001b[38;5;241;43m=\u001b[39;49m\u001b[43mexpiration\u001b[49m\n\u001b[1;32m      9\u001b[0m \u001b[43m    \u001b[49m\u001b[43m)\u001b[49m\n\u001b[1;32m     10\u001b[0m     \u001b[38;5;28;01mreturn\u001b[39;00m response[\u001b[38;5;124m'\u001b[39m\u001b[38;5;124mAuthorizedUrl\u001b[39m\u001b[38;5;124m'\u001b[39m]\n",
      "File \u001b[0;32m/opt/conda/lib/python3.10/site-packages/botocore/client.py:535\u001b[0m, in \u001b[0;36mClientCreator._create_api_method.<locals>._api_call\u001b[0;34m(self, *args, **kwargs)\u001b[0m\n\u001b[1;32m    531\u001b[0m     \u001b[38;5;28;01mraise\u001b[39;00m \u001b[38;5;167;01mTypeError\u001b[39;00m(\n\u001b[1;32m    532\u001b[0m         \u001b[38;5;124mf\u001b[39m\u001b[38;5;124m\"\u001b[39m\u001b[38;5;132;01m{\u001b[39;00mpy_operation_name\u001b[38;5;132;01m}\u001b[39;00m\u001b[38;5;124m() only accepts keyword arguments.\u001b[39m\u001b[38;5;124m\"\u001b[39m\n\u001b[1;32m    533\u001b[0m     )\n\u001b[1;32m    534\u001b[0m \u001b[38;5;66;03m# The \"self\" in this scope is referring to the BaseClient.\u001b[39;00m\n\u001b[0;32m--> 535\u001b[0m \u001b[38;5;28;01mreturn\u001b[39;00m \u001b[38;5;28;43mself\u001b[39;49m\u001b[38;5;241;43m.\u001b[39;49m\u001b[43m_make_api_call\u001b[49m\u001b[43m(\u001b[49m\u001b[43moperation_name\u001b[49m\u001b[43m,\u001b[49m\u001b[43m \u001b[49m\u001b[43mkwargs\u001b[49m\u001b[43m)\u001b[49m\n",
      "File \u001b[0;32m/opt/conda/lib/python3.10/site-packages/botocore/client.py:980\u001b[0m, in \u001b[0;36mBaseClient._make_api_call\u001b[0;34m(self, operation_name, api_params)\u001b[0m\n\u001b[1;32m    978\u001b[0m     error_code \u001b[38;5;241m=\u001b[39m parsed_response\u001b[38;5;241m.\u001b[39mget(\u001b[38;5;124m\"\u001b[39m\u001b[38;5;124mError\u001b[39m\u001b[38;5;124m\"\u001b[39m, {})\u001b[38;5;241m.\u001b[39mget(\u001b[38;5;124m\"\u001b[39m\u001b[38;5;124mCode\u001b[39m\u001b[38;5;124m\"\u001b[39m)\n\u001b[1;32m    979\u001b[0m     error_class \u001b[38;5;241m=\u001b[39m \u001b[38;5;28mself\u001b[39m\u001b[38;5;241m.\u001b[39mexceptions\u001b[38;5;241m.\u001b[39mfrom_code(error_code)\n\u001b[0;32m--> 980\u001b[0m     \u001b[38;5;28;01mraise\u001b[39;00m error_class(parsed_response, operation_name)\n\u001b[1;32m    981\u001b[0m \u001b[38;5;28;01melse\u001b[39;00m:\n\u001b[1;32m    982\u001b[0m     \u001b[38;5;28;01mreturn\u001b[39;00m parsed_response\n",
      "\u001b[0;31mResourceNotFound\u001b[0m: An error occurred (ResourceNotFound) when calling the CreatePresignedDomainUrl operation: UserProfile [arn:aws:sagemaker:us-east-1:696784033931:user-profile/d-qfwox2whpsa9/mx-19] does not exist"
     ]
    }
   ],
   "source": [
    "import boto3\n",
    "\n",
    "def create_sagemaker_presigned_url(studio_domain, user_profile_name, expiration=300):\n",
    "    client = boto3.client('sagemaker')\n",
    "    response = client.create_presigned_domain_url(\n",
    "        DomainId=studio_domain,\n",
    "        UserProfileName=user_profile_name,\n",
    "        ExpiresInSeconds=expiration\n",
    "    )\n",
    "    return response['AuthorizedUrl']\n",
    "\n",
    "# Replace 'your-studio-domain-id' and 'your-user-profile-name' with your actual values\n",
    "studio_domain_id = \"d-qfwox2whpsa9\" \n",
    "user_profile_name = 'mx-19'\n",
    "\n",
    "# Create a pre-signed URL with a default expiration time of 1 hour\n",
    "presigned_url = create_sagemaker_presigned_url(studio_domain_id, user_profile_name)\n",
    "\n",
    "print(\"Pre-signed URL:\", presigned_url)"
   ]
  },
  {
   "cell_type": "code",
   "execution_count": null,
   "id": "8350369a-4d6e-41c1-9398-8640744bca10",
   "metadata": {},
   "outputs": [],
   "source": []
  },
  {
   "cell_type": "code",
   "execution_count": null,
   "id": "f9d5d9cf-356f-49c9-a9d3-8ae8ba7be4b9",
   "metadata": {},
   "outputs": [],
   "source": []
  }
 ],
 "metadata": {
  "availableInstances": [
   {
    "_defaultOrder": 0,
    "_isFastLaunch": true,
    "category": "General purpose",
    "gpuNum": 0,
    "hideHardwareSpecs": false,
    "memoryGiB": 4,
    "name": "ml.t3.medium",
    "vcpuNum": 2
   },
   {
    "_defaultOrder": 1,
    "_isFastLaunch": false,
    "category": "General purpose",
    "gpuNum": 0,
    "hideHardwareSpecs": false,
    "memoryGiB": 8,
    "name": "ml.t3.large",
    "vcpuNum": 2
   },
   {
    "_defaultOrder": 2,
    "_isFastLaunch": false,
    "category": "General purpose",
    "gpuNum": 0,
    "hideHardwareSpecs": false,
    "memoryGiB": 16,
    "name": "ml.t3.xlarge",
    "vcpuNum": 4
   },
   {
    "_defaultOrder": 3,
    "_isFastLaunch": false,
    "category": "General purpose",
    "gpuNum": 0,
    "hideHardwareSpecs": false,
    "memoryGiB": 32,
    "name": "ml.t3.2xlarge",
    "vcpuNum": 8
   },
   {
    "_defaultOrder": 4,
    "_isFastLaunch": true,
    "category": "General purpose",
    "gpuNum": 0,
    "hideHardwareSpecs": false,
    "memoryGiB": 8,
    "name": "ml.m5.large",
    "vcpuNum": 2
   },
   {
    "_defaultOrder": 5,
    "_isFastLaunch": false,
    "category": "General purpose",
    "gpuNum": 0,
    "hideHardwareSpecs": false,
    "memoryGiB": 16,
    "name": "ml.m5.xlarge",
    "vcpuNum": 4
   },
   {
    "_defaultOrder": 6,
    "_isFastLaunch": false,
    "category": "General purpose",
    "gpuNum": 0,
    "hideHardwareSpecs": false,
    "memoryGiB": 32,
    "name": "ml.m5.2xlarge",
    "vcpuNum": 8
   },
   {
    "_defaultOrder": 7,
    "_isFastLaunch": false,
    "category": "General purpose",
    "gpuNum": 0,
    "hideHardwareSpecs": false,
    "memoryGiB": 64,
    "name": "ml.m5.4xlarge",
    "vcpuNum": 16
   },
   {
    "_defaultOrder": 8,
    "_isFastLaunch": false,
    "category": "General purpose",
    "gpuNum": 0,
    "hideHardwareSpecs": false,
    "memoryGiB": 128,
    "name": "ml.m5.8xlarge",
    "vcpuNum": 32
   },
   {
    "_defaultOrder": 9,
    "_isFastLaunch": false,
    "category": "General purpose",
    "gpuNum": 0,
    "hideHardwareSpecs": false,
    "memoryGiB": 192,
    "name": "ml.m5.12xlarge",
    "vcpuNum": 48
   },
   {
    "_defaultOrder": 10,
    "_isFastLaunch": false,
    "category": "General purpose",
    "gpuNum": 0,
    "hideHardwareSpecs": false,
    "memoryGiB": 256,
    "name": "ml.m5.16xlarge",
    "vcpuNum": 64
   },
   {
    "_defaultOrder": 11,
    "_isFastLaunch": false,
    "category": "General purpose",
    "gpuNum": 0,
    "hideHardwareSpecs": false,
    "memoryGiB": 384,
    "name": "ml.m5.24xlarge",
    "vcpuNum": 96
   },
   {
    "_defaultOrder": 12,
    "_isFastLaunch": false,
    "category": "General purpose",
    "gpuNum": 0,
    "hideHardwareSpecs": false,
    "memoryGiB": 8,
    "name": "ml.m5d.large",
    "vcpuNum": 2
   },
   {
    "_defaultOrder": 13,
    "_isFastLaunch": false,
    "category": "General purpose",
    "gpuNum": 0,
    "hideHardwareSpecs": false,
    "memoryGiB": 16,
    "name": "ml.m5d.xlarge",
    "vcpuNum": 4
   },
   {
    "_defaultOrder": 14,
    "_isFastLaunch": false,
    "category": "General purpose",
    "gpuNum": 0,
    "hideHardwareSpecs": false,
    "memoryGiB": 32,
    "name": "ml.m5d.2xlarge",
    "vcpuNum": 8
   },
   {
    "_defaultOrder": 15,
    "_isFastLaunch": false,
    "category": "General purpose",
    "gpuNum": 0,
    "hideHardwareSpecs": false,
    "memoryGiB": 64,
    "name": "ml.m5d.4xlarge",
    "vcpuNum": 16
   },
   {
    "_defaultOrder": 16,
    "_isFastLaunch": false,
    "category": "General purpose",
    "gpuNum": 0,
    "hideHardwareSpecs": false,
    "memoryGiB": 128,
    "name": "ml.m5d.8xlarge",
    "vcpuNum": 32
   },
   {
    "_defaultOrder": 17,
    "_isFastLaunch": false,
    "category": "General purpose",
    "gpuNum": 0,
    "hideHardwareSpecs": false,
    "memoryGiB": 192,
    "name": "ml.m5d.12xlarge",
    "vcpuNum": 48
   },
   {
    "_defaultOrder": 18,
    "_isFastLaunch": false,
    "category": "General purpose",
    "gpuNum": 0,
    "hideHardwareSpecs": false,
    "memoryGiB": 256,
    "name": "ml.m5d.16xlarge",
    "vcpuNum": 64
   },
   {
    "_defaultOrder": 19,
    "_isFastLaunch": false,
    "category": "General purpose",
    "gpuNum": 0,
    "hideHardwareSpecs": false,
    "memoryGiB": 384,
    "name": "ml.m5d.24xlarge",
    "vcpuNum": 96
   },
   {
    "_defaultOrder": 20,
    "_isFastLaunch": false,
    "category": "General purpose",
    "gpuNum": 0,
    "hideHardwareSpecs": true,
    "memoryGiB": 0,
    "name": "ml.geospatial.interactive",
    "supportedImageNames": [
     "sagemaker-geospatial-v1-0"
    ],
    "vcpuNum": 0
   },
   {
    "_defaultOrder": 21,
    "_isFastLaunch": true,
    "category": "Compute optimized",
    "gpuNum": 0,
    "hideHardwareSpecs": false,
    "memoryGiB": 4,
    "name": "ml.c5.large",
    "vcpuNum": 2
   },
   {
    "_defaultOrder": 22,
    "_isFastLaunch": false,
    "category": "Compute optimized",
    "gpuNum": 0,
    "hideHardwareSpecs": false,
    "memoryGiB": 8,
    "name": "ml.c5.xlarge",
    "vcpuNum": 4
   },
   {
    "_defaultOrder": 23,
    "_isFastLaunch": false,
    "category": "Compute optimized",
    "gpuNum": 0,
    "hideHardwareSpecs": false,
    "memoryGiB": 16,
    "name": "ml.c5.2xlarge",
    "vcpuNum": 8
   },
   {
    "_defaultOrder": 24,
    "_isFastLaunch": false,
    "category": "Compute optimized",
    "gpuNum": 0,
    "hideHardwareSpecs": false,
    "memoryGiB": 32,
    "name": "ml.c5.4xlarge",
    "vcpuNum": 16
   },
   {
    "_defaultOrder": 25,
    "_isFastLaunch": false,
    "category": "Compute optimized",
    "gpuNum": 0,
    "hideHardwareSpecs": false,
    "memoryGiB": 72,
    "name": "ml.c5.9xlarge",
    "vcpuNum": 36
   },
   {
    "_defaultOrder": 26,
    "_isFastLaunch": false,
    "category": "Compute optimized",
    "gpuNum": 0,
    "hideHardwareSpecs": false,
    "memoryGiB": 96,
    "name": "ml.c5.12xlarge",
    "vcpuNum": 48
   },
   {
    "_defaultOrder": 27,
    "_isFastLaunch": false,
    "category": "Compute optimized",
    "gpuNum": 0,
    "hideHardwareSpecs": false,
    "memoryGiB": 144,
    "name": "ml.c5.18xlarge",
    "vcpuNum": 72
   },
   {
    "_defaultOrder": 28,
    "_isFastLaunch": false,
    "category": "Compute optimized",
    "gpuNum": 0,
    "hideHardwareSpecs": false,
    "memoryGiB": 192,
    "name": "ml.c5.24xlarge",
    "vcpuNum": 96
   },
   {
    "_defaultOrder": 29,
    "_isFastLaunch": true,
    "category": "Accelerated computing",
    "gpuNum": 1,
    "hideHardwareSpecs": false,
    "memoryGiB": 16,
    "name": "ml.g4dn.xlarge",
    "vcpuNum": 4
   },
   {
    "_defaultOrder": 30,
    "_isFastLaunch": false,
    "category": "Accelerated computing",
    "gpuNum": 1,
    "hideHardwareSpecs": false,
    "memoryGiB": 32,
    "name": "ml.g4dn.2xlarge",
    "vcpuNum": 8
   },
   {
    "_defaultOrder": 31,
    "_isFastLaunch": false,
    "category": "Accelerated computing",
    "gpuNum": 1,
    "hideHardwareSpecs": false,
    "memoryGiB": 64,
    "name": "ml.g4dn.4xlarge",
    "vcpuNum": 16
   },
   {
    "_defaultOrder": 32,
    "_isFastLaunch": false,
    "category": "Accelerated computing",
    "gpuNum": 1,
    "hideHardwareSpecs": false,
    "memoryGiB": 128,
    "name": "ml.g4dn.8xlarge",
    "vcpuNum": 32
   },
   {
    "_defaultOrder": 33,
    "_isFastLaunch": false,
    "category": "Accelerated computing",
    "gpuNum": 4,
    "hideHardwareSpecs": false,
    "memoryGiB": 192,
    "name": "ml.g4dn.12xlarge",
    "vcpuNum": 48
   },
   {
    "_defaultOrder": 34,
    "_isFastLaunch": false,
    "category": "Accelerated computing",
    "gpuNum": 1,
    "hideHardwareSpecs": false,
    "memoryGiB": 256,
    "name": "ml.g4dn.16xlarge",
    "vcpuNum": 64
   },
   {
    "_defaultOrder": 35,
    "_isFastLaunch": false,
    "category": "Accelerated computing",
    "gpuNum": 1,
    "hideHardwareSpecs": false,
    "memoryGiB": 61,
    "name": "ml.p3.2xlarge",
    "vcpuNum": 8
   },
   {
    "_defaultOrder": 36,
    "_isFastLaunch": false,
    "category": "Accelerated computing",
    "gpuNum": 4,
    "hideHardwareSpecs": false,
    "memoryGiB": 244,
    "name": "ml.p3.8xlarge",
    "vcpuNum": 32
   },
   {
    "_defaultOrder": 37,
    "_isFastLaunch": false,
    "category": "Accelerated computing",
    "gpuNum": 8,
    "hideHardwareSpecs": false,
    "memoryGiB": 488,
    "name": "ml.p3.16xlarge",
    "vcpuNum": 64
   },
   {
    "_defaultOrder": 38,
    "_isFastLaunch": false,
    "category": "Accelerated computing",
    "gpuNum": 8,
    "hideHardwareSpecs": false,
    "memoryGiB": 768,
    "name": "ml.p3dn.24xlarge",
    "vcpuNum": 96
   },
   {
    "_defaultOrder": 39,
    "_isFastLaunch": false,
    "category": "Memory Optimized",
    "gpuNum": 0,
    "hideHardwareSpecs": false,
    "memoryGiB": 16,
    "name": "ml.r5.large",
    "vcpuNum": 2
   },
   {
    "_defaultOrder": 40,
    "_isFastLaunch": false,
    "category": "Memory Optimized",
    "gpuNum": 0,
    "hideHardwareSpecs": false,
    "memoryGiB": 32,
    "name": "ml.r5.xlarge",
    "vcpuNum": 4
   },
   {
    "_defaultOrder": 41,
    "_isFastLaunch": false,
    "category": "Memory Optimized",
    "gpuNum": 0,
    "hideHardwareSpecs": false,
    "memoryGiB": 64,
    "name": "ml.r5.2xlarge",
    "vcpuNum": 8
   },
   {
    "_defaultOrder": 42,
    "_isFastLaunch": false,
    "category": "Memory Optimized",
    "gpuNum": 0,
    "hideHardwareSpecs": false,
    "memoryGiB": 128,
    "name": "ml.r5.4xlarge",
    "vcpuNum": 16
   },
   {
    "_defaultOrder": 43,
    "_isFastLaunch": false,
    "category": "Memory Optimized",
    "gpuNum": 0,
    "hideHardwareSpecs": false,
    "memoryGiB": 256,
    "name": "ml.r5.8xlarge",
    "vcpuNum": 32
   },
   {
    "_defaultOrder": 44,
    "_isFastLaunch": false,
    "category": "Memory Optimized",
    "gpuNum": 0,
    "hideHardwareSpecs": false,
    "memoryGiB": 384,
    "name": "ml.r5.12xlarge",
    "vcpuNum": 48
   },
   {
    "_defaultOrder": 45,
    "_isFastLaunch": false,
    "category": "Memory Optimized",
    "gpuNum": 0,
    "hideHardwareSpecs": false,
    "memoryGiB": 512,
    "name": "ml.r5.16xlarge",
    "vcpuNum": 64
   },
   {
    "_defaultOrder": 46,
    "_isFastLaunch": false,
    "category": "Memory Optimized",
    "gpuNum": 0,
    "hideHardwareSpecs": false,
    "memoryGiB": 768,
    "name": "ml.r5.24xlarge",
    "vcpuNum": 96
   },
   {
    "_defaultOrder": 47,
    "_isFastLaunch": false,
    "category": "Accelerated computing",
    "gpuNum": 1,
    "hideHardwareSpecs": false,
    "memoryGiB": 16,
    "name": "ml.g5.xlarge",
    "vcpuNum": 4
   },
   {
    "_defaultOrder": 48,
    "_isFastLaunch": false,
    "category": "Accelerated computing",
    "gpuNum": 1,
    "hideHardwareSpecs": false,
    "memoryGiB": 32,
    "name": "ml.g5.2xlarge",
    "vcpuNum": 8
   },
   {
    "_defaultOrder": 49,
    "_isFastLaunch": false,
    "category": "Accelerated computing",
    "gpuNum": 1,
    "hideHardwareSpecs": false,
    "memoryGiB": 64,
    "name": "ml.g5.4xlarge",
    "vcpuNum": 16
   },
   {
    "_defaultOrder": 50,
    "_isFastLaunch": false,
    "category": "Accelerated computing",
    "gpuNum": 1,
    "hideHardwareSpecs": false,
    "memoryGiB": 128,
    "name": "ml.g5.8xlarge",
    "vcpuNum": 32
   },
   {
    "_defaultOrder": 51,
    "_isFastLaunch": false,
    "category": "Accelerated computing",
    "gpuNum": 1,
    "hideHardwareSpecs": false,
    "memoryGiB": 256,
    "name": "ml.g5.16xlarge",
    "vcpuNum": 64
   },
   {
    "_defaultOrder": 52,
    "_isFastLaunch": false,
    "category": "Accelerated computing",
    "gpuNum": 4,
    "hideHardwareSpecs": false,
    "memoryGiB": 192,
    "name": "ml.g5.12xlarge",
    "vcpuNum": 48
   },
   {
    "_defaultOrder": 53,
    "_isFastLaunch": false,
    "category": "Accelerated computing",
    "gpuNum": 4,
    "hideHardwareSpecs": false,
    "memoryGiB": 384,
    "name": "ml.g5.24xlarge",
    "vcpuNum": 96
   },
   {
    "_defaultOrder": 54,
    "_isFastLaunch": false,
    "category": "Accelerated computing",
    "gpuNum": 8,
    "hideHardwareSpecs": false,
    "memoryGiB": 768,
    "name": "ml.g5.48xlarge",
    "vcpuNum": 192
   },
   {
    "_defaultOrder": 55,
    "_isFastLaunch": false,
    "category": "Accelerated computing",
    "gpuNum": 8,
    "hideHardwareSpecs": false,
    "memoryGiB": 1152,
    "name": "ml.p4d.24xlarge",
    "vcpuNum": 96
   },
   {
    "_defaultOrder": 56,
    "_isFastLaunch": false,
    "category": "Accelerated computing",
    "gpuNum": 8,
    "hideHardwareSpecs": false,
    "memoryGiB": 1152,
    "name": "ml.p4de.24xlarge",
    "vcpuNum": 96
   }
  ],
  "instance_type": "ml.g5.2xlarge",
  "kernelspec": {
   "display_name": "Python 3 (Data Science 3.0)",
   "language": "python",
   "name": "python3__SAGEMAKER_INTERNAL__arn:aws:sagemaker:us-east-1:081325390199:image/sagemaker-data-science-310-v1"
  },
  "language_info": {
   "codemirror_mode": {
    "name": "ipython",
    "version": 3
   },
   "file_extension": ".py",
   "mimetype": "text/x-python",
   "name": "python",
   "nbconvert_exporter": "python",
   "pygments_lexer": "ipython3",
   "version": "3.10.6"
  }
 },
 "nbformat": 4,
 "nbformat_minor": 5
}
